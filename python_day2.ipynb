{
  "nbformat": 4,
  "nbformat_minor": 0,
  "metadata": {
    "colab": {
      "name": "python day2.ipynb",
      "provenance": [],
      "collapsed_sections": [],
      "authorship_tag": "ABX9TyPnV9mVldSR7+dRvzewK2pb",
      "include_colab_link": true
    },
    "kernelspec": {
      "name": "python3",
      "display_name": "Python 3"
    }
  },
  "cells": [
    {
      "cell_type": "markdown",
      "metadata": {
        "id": "view-in-github",
        "colab_type": "text"
      },
      "source": [
        "<a href=\"https://colab.research.google.com/github/sera0911/asia-ai-study/blob/main/python_day2.ipynb\" target=\"_parent\"><img src=\"https://colab.research.google.com/assets/colab-badge.svg\" alt=\"Open In Colab\"/></a>"
      ]
    },
    {
      "cell_type": "markdown",
      "metadata": {
        "id": "Hu9G7E6_qTyX"
      },
      "source": [
        "day1 정리\r\n",
        "\r\n",
        "파이썬 언어의 특성 :    \r\n",
        "객체지향언어 - 객체(속성 + 기능) 단위로 설계 )상속, 다형성, 캡슐화)    \r\n",
        "동적타이핑언어 - 값이 할당될 때 타입 결정     \r\n",
        "인터프리터언어 - 한라인 단위로 해석, 실행 구조(성능 느림)    \r\n",
        "플랫폼에 독립적 -   파이썬 프로그램(.py)실행\r\n",
        "함수적프로그래밍 언어\r\n",
        "\r\n",
        "\r\n",
        "파이썬 소스코드 구조\r\n",
        "1. 라인 구분자 : 엔터\r\n",
        "2. 멀티 라인 코드를 블럭으로 실행되도록... :과 들여쓰기    \r\n",
        "  if 조건:\r\n",
        "    명령1\r\n",
        "    명령2\r\n",
        "3. 주석(description, information) 제공\r\n",
        " #, ''' ''', \"\" \"\"    \r\n",
        "\r\n",
        "표준 출력 - 콘솔(console) 출력 (=화면에 찍는 것) print(출력할 내용,,,,,, sep=\" \", end=\" \") #end의 기본값은 엔터 그래서 공백을 넣으면 줄바꿈이 안됨    \r\n",
        "모듈 = 프로그래밍 구성 단위 (함수, 변수, 클래스등으로 구성)    \r\n",
        "import 모듈명 #만들어진 모듈을 불러서 사용하는 방법   \r\n",
        "...   \r\n",
        "모듈명.함수  #여기서 '.' 은 속함의 의미   \r\n",
        "import pprint   #불러야 아래서 사용 가능\r\n",
        "\r\n",
        "\r\n",
        "pprint.pprint()   \r\n",
        "표준입력 - 키보드 입력, 문자열=input('입력 메세지')  #입력을 하면 문자열로 출력됨    \r\n",
        "int클래스 - int() 생성자 함수 #다른 타입을 넣었을 때 정수타입으로 변환    \r\n",
        "int('숫자로 구성된 문자열') - 정수타입으로 변환   \r\n",
        "float클래스 - float() 생성자 함수   \r\n",
        "\r\n",
        "\r\n",
        "데이터 유형 - 기본 자료형(객체, =연산자와 함께 하나의 값을 다루는 자료형), 집합 자료형(객체. 하나 이상의 값을 다루는 자료형)       \r\n",
        "타언어 - 기본 자료형(=연산자), 참조 자료형(.연산자, 속성과 기능을 가지는 객체) #.연산자는 닷연산자로 부름    \r\n",
        "\r\n",
        "\r\n",
        "int, float, str, bool 기본 자료형   \r\n",
        "키워드는 함수명, 변수명, 클래스명, 모듈명으로 사용 불가    \r\n",
        "(True, False, None) #세 가지는 처음이 대문자인 것에 주의   \r\n",
        "\r\n",
        "\r\n",
        "데이터를 처리하기 위해서는 데이터는 메모리에 주소값 대신 변수를 사용합니다.    \r\n",
        "변수는 메모리에 저장된 값을 참조하는 식별자(identifier, 이름)입니다.   \r\n",
        "변수 = 초기값  형식으로 사용됨   \r\n",
        "\r\n",
        "\r\n",
        "변수명 naming rule(문법적):    \r\n",
        " 대소문자 구별     \r\n",
        " 첫글자는 숫자 x     \r\n",
        " 공백 사용불가     \r\n",
        " 특수문자는 under bar만 사용가능     \r\n",
        " 키워드, 내장 모듈명, 내장함수명 사용불가    \r\n",
        "\r\n",
        "\r\n",
        "정수형    \r\n",
        "정수값의 크기 제한 없이 무한대지만 운영체제에서 제한 된 크기는 있다 -2^63 ~ 2^63-1 #^이것은 승을 의미 2의 2승 같은    \r\n",
        "정수값을 할당(메모리에 저장) 할 때 십진수, 16진수, 8진수, 2진수 모두 가능   \r\n",
        "845, 0x0~9 a~f,  0o0~7, 0b0~1  로 표현할 수 있는데 출력될 때는 십진수로만 출력됨 #순서대로 십진수, 16, 8 ,2진수     \r\n",
        "\r\n",
        "\r\n"
      ]
    },
    {
      "cell_type": "code",
      "metadata": {
        "colab": {
          "base_uri": "https://localhost:8080/"
        },
        "id": "ggDHDTaWqN6H",
        "outputId": "606ea5b1-7b2b-4b68-9ffe-64a543a27b9b"
      },
      "source": [
        " result = 4 + 7.0   #하나의 연산내에서 큰 타입으로 작은 타입의 값은 자동으로 형 변환이 일어납니다.(promotion)\r\n",
        " print(result, type(result))"
      ],
      "execution_count": null,
      "outputs": [
        {
          "output_type": "stream",
          "text": [
            "11.0 <class 'float'>\n"
          ],
          "name": "stdout"
        }
      ]
    },
    {
      "cell_type": "markdown",
      "metadata": {
        "id": "sQFj7QbmyfWP"
      },
      "source": [
        "정수 < 실수가 더 큰 범위    \r\n",
        "하나의 연산내에서 큰 타입으로 작은 타입의 값은 자동으로 형 변환이 일어납니다.(promotion)"
      ]
    },
    {
      "cell_type": "code",
      "metadata": {
        "colab": {
          "base_uri": "https://localhost:8080/"
        },
        "id": "fkcwr_PHy3Qf",
        "outputId": "21a329da-9fe1-4a34-e5f6-3535267576c8"
      },
      "source": [
        "a = True\r\n",
        "print(a, type(a))\r\n",
        "result = a + 2 #True는 1로 정수 형변환되어 연산됨, False는 0으로 변환\r\n",
        "print(result, type(result))"
      ],
      "execution_count": null,
      "outputs": [
        {
          "output_type": "stream",
          "text": [
            "True <class 'bool'>\n",
            "3 <class 'int'>\n"
          ],
          "name": "stdout"
        }
      ]
    },
    {
      "cell_type": "markdown",
      "metadata": {
        "id": "aozI_451zNrD"
      },
      "source": [
        "True는 1로 정수 형변환되어 연산됨, False는 0으로 변환    \r\n",
        "python은 정수타입과 bool타입이 호환 (자바는 안됨)"
      ]
    },
    {
      "cell_type": "markdown",
      "metadata": {
        "id": "Q6INf6-u2DGI"
      },
      "source": [
        "실수형    \r\n",
        "소수점 이하 정밀한 값 표현    \r\n",
        "아주 크거나 작은 값은 부동 소수점 방식으로 표기 = 가수E지수      \r\n",
        "9조 4600억 = 9.46e12 = IEEE 표기형식 #10의 12승이라는 뜻    \r\n",
        "0.000001234 = 1.234e-6 #점의 위치가 몇번째로 이동하냐에 따라서   \r\n",
        "숫자 짧아지고 비교에도 용이함.    "
      ]
    },
    {
      "cell_type": "code",
      "metadata": {
        "colab": {
          "base_uri": "https://localhost:8080/"
        },
        "id": "JrQGVAEH2wIt",
        "outputId": "c0b92384-60bc-435c-9867-e1d163c35529"
      },
      "source": [
        "type(3.14), type(314e-2)  #float, float\r\n",
        "print((3.14 == 314e-2))"
      ],
      "execution_count": null,
      "outputs": [
        {
          "output_type": "stream",
          "text": [
            "True\n"
          ],
          "name": "stdout"
        }
      ]
    },
    {
      "cell_type": "code",
      "metadata": {
        "colab": {
          "base_uri": "https://localhost:8080/"
        },
        "id": "PhRzOTo43aN2",
        "outputId": "2e76a89a-3381-4d93-ba73-f3dcf5a540ed"
      },
      "source": [
        "import sys\r\n",
        "print( sys.int_info )\r\n",
        "print( sys.float_info )\r\n",
        "a = 10 ** 3300\r\n",
        "print(a.bit_length( ) )   #이진수 크기를 알 수 있다 10963\r\n",
        "print( \"max\", sys.float_info.max )\r\n",
        "print( \"min\", sys.float_info.min )"
      ],
      "execution_count": null,
      "outputs": [
        {
          "output_type": "stream",
          "text": [
            "sys.int_info(bits_per_digit=30, sizeof_digit=4)\n",
            "sys.float_info(max=1.7976931348623157e+308, max_exp=1024, max_10_exp=308, min=2.2250738585072014e-308, min_exp=-1021, min_10_exp=-307, dig=15, mant_dig=53, epsilon=2.220446049250313e-16, radix=2, rounds=1)\n",
            "10963\n",
            "max 1.7976931348623157e+308\n",
            "min 2.2250738585072014e-308\n"
          ],
          "name": "stdout"
        }
      ]
    },
    {
      "cell_type": "markdown",
      "metadata": {
        "id": "IEumvukR3oAL"
      },
      "source": [
        "실수 자료형은 범위에 대해 한정적이여서 이 범위가 넘을 경우 overflow도 발생할 수 있다."
      ]
    },
    {
      "cell_type": "markdown",
      "metadata": {
        "id": "JWO_XL2p5SUU"
      },
      "source": [
        " 복소수형   \r\n",
        "• 실수부+허수부j    \r\n",
        "• 알파벳 j 접미가 복소수임을 나타냄"
      ]
    },
    {
      "cell_type": "markdown",
      "metadata": {
        "id": "KKMI3p645YBO"
      },
      "source": [
        "논리 자료형 -bool    \r\n",
        "• 참과 거짓을 나타내는 자료형    \r\n",
        "• Bool 클래스에는 True와 False 두개의 인스턴스가 고정으로 만들어져 있다. #true와 false는 상수객체       \r\n",
        "• int 클래스를 상속받아 처리되므로 숫자로 계산도 가능하다  #정수와 호환이 된다는 뜻   \r\n",
        "공백도 값으로 친다    \r\n",
        " bool(\"\")    \r\n",
        "False        #공백이 없을 땐 false    \r\n",
        " bool(\" \")    \r\n",
        "True         #공백이 있을 땐 true   \r\n",
        " bool([])   \r\n",
        "False        #리스트는 요소가 없을 때 false    \r\n",
        " bool(())       \r\n",
        "False        #튜플도 요소가 없을 때 false    \r\n",
        " bool({})    \r\n",
        "False        #중가로에 요소가 없을 때 false    \r\n",
        " bool(0)    \r\n",
        "False       #정수가 들어 있으면 false    \r\n",
        " bool(None)    \r\n",
        "False       #None일때도 false"
      ]
    },
    {
      "cell_type": "markdown",
      "metadata": {
        "id": "o1v4ORc968U1"
      },
      "source": [
        "문자 자료형    \r\n",
        "• 파이썬 에서 문자열은 불변이다.(파이썬뿐 아니라 다른 언어도 불변)    \r\n",
        "• 문자열 결합 +    \r\n",
        "• 문자열 복제 *       \r\n",
        "• 문자열 변환 : str()"
      ]
    },
    {
      "cell_type": "code",
      "metadata": {
        "colab": {
          "base_uri": "https://localhost:8080/"
        },
        "id": "7l_hLLlX7Lgk",
        "outputId": "2da54008-f882-4e70-e99b-98adc2d5c774"
      },
      "source": [
        "a = 'py'\r\n",
        "b = a + 'py'\r\n",
        "print(a)\r\n",
        "print(b)\r\n",
        "\r\n",
        "print(a, id(a))\r\n",
        "a = a + 'py'\r\n",
        "print(a,id(a))"
      ],
      "execution_count": null,
      "outputs": [
        {
          "output_type": "stream",
          "text": [
            "py\n",
            "pypy\n",
            "py 140446486380784\n",
            "pypy 140445852973552\n"
          ],
          "name": "stdout"
        }
      ]
    },
    {
      "cell_type": "markdown",
      "metadata": {
        "id": "CWEf2RLh7twz"
      },
      "source": [
        "처음 문자열이 생성이 되면 연산이나 다른 것에 의해 변경되지 않는다 기존메모리는 그대로 있고 새로운 값은 새 메모리에 할당이 되는 것이다  "
      ]
    },
    {
      "cell_type": "code",
      "metadata": {
        "colab": {
          "base_uri": "https://localhost:8080/",
          "height": 205
        },
        "id": "7XyYIMwR73-o",
        "outputId": "49c312d3-a919-468c-c2a5-d6c8ad5043f6"
      },
      "source": [
        "#'py' + 3  #다른 언어에서는 문자열로 자동변환됨\r\n",
        "a = 'py'\r\n",
        "c = a + 3"
      ],
      "execution_count": null,
      "outputs": [
        {
          "output_type": "error",
          "ename": "TypeError",
          "evalue": "ignored",
          "traceback": [
            "\u001b[0;31m---------------------------------------------------------------------------\u001b[0m",
            "\u001b[0;31mTypeError\u001b[0m                                 Traceback (most recent call last)",
            "\u001b[0;32m<ipython-input-19-dc10961df179>\u001b[0m in \u001b[0;36m<module>\u001b[0;34m()\u001b[0m\n\u001b[1;32m      1\u001b[0m \u001b[0;31m#'py' + 3  #다른 언어에서는 문자열로 자동변환됨\u001b[0m\u001b[0;34m\u001b[0m\u001b[0;34m\u001b[0m\u001b[0;34m\u001b[0m\u001b[0m\n\u001b[1;32m      2\u001b[0m \u001b[0ma\u001b[0m \u001b[0;34m=\u001b[0m \u001b[0;34m'py'\u001b[0m\u001b[0;34m\u001b[0m\u001b[0;34m\u001b[0m\u001b[0m\n\u001b[0;32m----> 3\u001b[0;31m \u001b[0mc\u001b[0m \u001b[0;34m=\u001b[0m \u001b[0ma\u001b[0m \u001b[0;34m+\u001b[0m \u001b[0;36m3\u001b[0m\u001b[0;34m\u001b[0m\u001b[0;34m\u001b[0m\u001b[0m\n\u001b[0m",
            "\u001b[0;31mTypeError\u001b[0m: can only concatenate str (not \"int\") to str"
          ]
        }
      ]
    },
    {
      "cell_type": "markdown",
      "metadata": {
        "id": "9rFNrNPH8RhH"
      },
      "source": [
        "TypeError: can only concatenate str (not \"int\") to str    \r\n",
        "파이썬에서는 자동으로 변환되지 않고 문자열로 명시적 형변환이 필요    \r\n",
        "문자열과 연산을 위해서는 정수 또는 실수는 문자열로 명시적 형변환을 한 후에 결합 연산을 수행해야 함    \r\n",
        " str클래스 생성자 함수 str()을 이용함   \r\n",
        "\r\n",
        "\r\n",
        "unicode는 전세계의 모든 문자를 숫자 코드와 매핑 (단일 문자 코드 체계)   \r\n",
        "파이썬 유니코드 지원, 기본 3.x버전   \r\n",
        "웹에서의 표준 인코딩은 utf8 !! 기억하기 "
      ]
    },
    {
      "cell_type": "markdown",
      "metadata": {
        "id": "u7cnojFg9xe9"
      },
      "source": [
        "기본 자료형    \r\n",
        "• 숫자 자료형의 값은 인스턴스이다.     \r\n",
        "\r\n",
        "\r\n",
        "객체 is 객체  #두 객체가 동일한 객체인지 비교(주소값이 동일한지)   \r\n",
        "객체 == 객체  #두 객체의 생성된 내용(데이터값)이 동일한지"
      ]
    },
    {
      "cell_type": "code",
      "metadata": {
        "colab": {
          "base_uri": "https://localhost:8080/"
        },
        "id": "m-KyGX708iIa",
        "outputId": "e64c9dd6-bd83-468a-c282-2b6144ef2688"
      },
      "source": [
        "vari = 10\r\n",
        "varb = 10\r\n",
        "print( vari is varb)\r\n",
        "print( vari == varb)\r\n",
        "print( id(vari), id(varb))\r\n",
        "\r\n",
        "vari = 1000\r\n",
        "varb = 1000\r\n",
        "print( vari is varb )\r\n",
        "print( vari == varb )\r\n",
        "print( id(vari), id(varb))"
      ],
      "execution_count": null,
      "outputs": [
        {
          "output_type": "stream",
          "text": [
            "True\n",
            "True\n",
            "93848946334496 93848946334496\n",
            "False\n",
            "True\n",
            "140445853148720 140445853148656\n"
          ],
          "name": "stdout"
        }
      ]
    },
    {
      "cell_type": "markdown",
      "metadata": {
        "id": "b2PTl4YC-oQZ"
      },
      "source": [
        " 동일한 숫자는 원칙적으로 하나의 인스턴스이어야 하지만 파이썬 내부적으로\r\n",
        "특정 숫자까지만 동일한 인스턴스로 관리한다(0 ~ 255)    \r\n",
        "0 ~ 225 정수 객체는 메모리에 단 1번만 생성   \r\n",
        "메모리에서 단 1번만 생성되는 상수메모리 중 10인 객체에 vari varb가 동일한 객체로 인식되어 출력되지만    \r\n",
        "그 외의 숫자는(0~255값을 넘어가는) 다른 객체로 인식된다"
      ]
    },
    {
      "cell_type": "markdown",
      "metadata": {
        "id": "rfvgFCym_ge8"
      },
      "source": [
        "• 내장 숫자 자료형에는 인스턴스에 속성이나 메소드가 추가되지 않는다 #인스턴스 = 객체, int, float의 속성은 추가되지 않음    \r\n",
        "• 정수의 인스턴스를 관리하는 네임스페이스(__dict__)가 없기 때문이다.  #__언더바가 있으면 가능하다는 뜻"
      ]
    },
    {
      "cell_type": "markdown",
      "metadata": {
        "id": "aPV034HrA-mS"
      },
      "source": [
        "자료형 확인 메타 클래스 : type class   \r\n",
        "• 클래스를 만드는 클래스는 메타 클래스이고 type class를 내장으로 제공한다.    \r\n",
        "• 일반적인 사용자 정의 클래스와 인스턴스가 누구에 의해 만들어졌는지를 확인하는 함수처럼 사용된다.   "
      ]
    },
    {
      "cell_type": "markdown",
      "metadata": {
        "id": "D6J0Rtq7BOHU"
      },
      "source": [
        "내장 자료혀의 클래스 정보 확인\r\n",
        "아무것도 없는 자료형 : None data type    \r\n",
        "def func( ) : #def는 함수(기능)선언 func는 함수이름    \r\n",
        "pass        \r\n",
        "pass는 키워드임 아직 명령이 결정 안 됐을 때 오류 뜨는 것을 방지하기 위해 pass로 선언만 미리 해둔 것    \r\n",
        "a = func()   #값을 반환     \r\n",
        "print( a )"
      ]
    },
    {
      "cell_type": "code",
      "metadata": {
        "colab": {
          "base_uri": "https://localhost:8080/"
        },
        "id": "w6DyBZrbCHEM",
        "outputId": "cf7b11b3-447b-49db-8265-dbab4a41a3c8"
      },
      "source": [
        "def func( ) :\r\n",
        "  pass\r\n",
        "a = func()  \r\n",
        "print( a )"
      ],
      "execution_count": null,
      "outputs": [
        {
          "output_type": "stream",
          "text": [
            "None\n"
          ],
          "name": "stdout"
        }
      ]
    },
    {
      "cell_type": "markdown",
      "metadata": {
        "id": "6233tdnSCdr5"
      },
      "source": [
        "내용이 없을 시에 none"
      ]
    },
    {
      "cell_type": "code",
      "metadata": {
        "colab": {
          "base_uri": "https://localhost:8080/"
        },
        "id": "D73Zk-WWCVTT",
        "outputId": "0b77e8dc-09f2-4e8b-efaa-9e975798db45"
      },
      "source": [
        "def func2( ) :\r\n",
        "  return 100\r\n",
        "a = func2()  \r\n",
        "print( a )"
      ],
      "execution_count": null,
      "outputs": [
        {
          "output_type": "stream",
          "text": [
            "100\n"
          ],
          "name": "stdout"
        }
      ]
    },
    {
      "cell_type": "code",
      "metadata": {
        "colab": {
          "base_uri": "https://localhost:8080/"
        },
        "id": "77Ats6A6C_0v",
        "outputId": "02f95235-9cf7-46fd-af2f-273fc351e948"
      },
      "source": [
        "def func3(x, y) :\r\n",
        "  print(x + y)\r\n",
        "a = func3(3, 4)  \r\n",
        "print( a )"
      ],
      "execution_count": null,
      "outputs": [
        {
          "output_type": "stream",
          "text": [
            "7\n",
            "None\n"
          ],
          "name": "stdout"
        }
      ]
    },
    {
      "cell_type": "markdown",
      "metadata": {
        "id": "4ScMTkjsGeMr"
      },
      "source": [
        "내장 자료형 보관 모듈     \r\n",
        "• 파이썬은 모든 것을 모듈에서 가져다 사용하므로 내장 자료형이나 함수 등도 다 모듈에 정의해서 만들어져 있다.      \r\n",
        "• 내장 자료형은 전부 __builtins__ 모듈 내에 있으므로 이를 확인하고 자동으로 검색해서 처리한다.\r\n",
        "    \r\n",
        "    datas = [\"int\", 'float', 'complex', 'str', 'list', 'tuple', 'dict', 'bytes', 'bytarray']\r\n",
        "for key in datas :\r\n",
        "print(key, \":\", __builtins__.__dict__[key])"
      ]
    },
    {
      "cell_type": "markdown",
      "metadata": {
        "id": "h7gC-G4-Gm6U"
      },
      "source": [
        "간단한 연산 : 증가 연산과 감소 연산    \r\n",
        "• 증가 연산자는 +=이고, 감소 연산자는 -=이다."
      ]
    },
    {
      "cell_type": "markdown",
      "metadata": {
        "id": "77lvHIZuJgQT"
      },
      "source": [
        "비트 연산자 (#네트워크 통신or특정 디바이드에서 보낸 정보들에서 변환할 때만 사용, 흔하게 쓰이지 않음)       \r\n",
        "연산자    의미    \r\n",
        "& 비트    논리곱(and)   #a와 b의 위아래가 일치해야 그 위치 값을 연산       \r\n",
        "| 비트    논리합(or)    #a와 b의 위아래가 하나만 일치해도 연산    \r\n",
        "^ 비트    논리적 배타합(택)    \r\n",
        "~ 비트    부정       #1의 보수로 해당 0을 1로, 1을 0으로 뒤집음      \r\n",
        "<< 비트   이동(왼쪽)    a#<<5 라고 되어있으면 5칸을 앞으로 이동하라는 뜻 원래 있던 공간은 0으로 채워짐    \r\n",
        "  \\>> 비트   이동(오른쪽)   \r\n",
        "이동을 할 때 맨 앞 0.xxxx나 1.xxx 등의 소수점 앞자리가 사인비트인데 이 때 0.xx일 경우 앞자리는 0으로 채워지고 음수일 경우 1로 채워짐\r\n",
        "\r\n",
        "a = 3  0 ~ 0 1 1    \r\n",
        "b = 5  0 ~ 1 0 1    \r\n",
        "  1  1   1  1 1 1 1   \r\n",
        "  64 32 16  8 4 2 1  끝에서 부터"
      ]
    },
    {
      "cell_type": "code",
      "metadata": {
        "colab": {
          "base_uri": "https://localhost:8080/"
        },
        "id": "SR4FGtenJ4d3",
        "outputId": "95b26dcc-a9ff-49a5-8839-de10e0b8c970"
      },
      "source": [
        "a = 3\r\n",
        "b = 5\r\n",
        "print(a & b)\r\n",
        "print(a | b)\r\n",
        "print(a ^ b)\r\n",
        "\r\n",
        "print(~a)  #-4\r\n",
        "print(a << 3)  #96"
      ],
      "execution_count": null,
      "outputs": [
        {
          "output_type": "stream",
          "text": [
            "1\n",
            "7\n",
            "6\n",
            "-4\n",
            "24\n"
          ],
          "name": "stdout"
        }
      ]
    },
    {
      "cell_type": "code",
      "metadata": {
        "colab": {
          "base_uri": "https://localhost:8080/"
        },
        "id": "LzdS4nHTL41N",
        "outputId": "a9f7502b-5adb-4b3e-9655-7b321f0a3fbe"
      },
      "source": [
        "a = 3\r\n",
        "b = 5\r\n",
        "print(a & b)\r\n",
        "print(a | b)\r\n",
        "print(a ^ b)\r\n",
        "\r\n",
        "print(~a)  \r\n",
        "print(a<<3)\r\n",
        "c=256\r\n",
        "print(c>> 3)"
      ],
      "execution_count": null,
      "outputs": [
        {
          "output_type": "stream",
          "text": [
            "1\n",
            "7\n",
            "6\n",
            "-4\n",
            "24\n",
            "32\n"
          ],
          "name": "stdout"
        }
      ]
    },
    {
      "cell_type": "code",
      "metadata": {
        "colab": {
          "base_uri": "https://localhost:8080/"
        },
        "id": "N64D-yamN0W6",
        "outputId": "a9c0d7f4-b9d1-40b3-9d22-5ae5196e836e"
      },
      "source": [
        "s = \"100\"\r\n",
        "print( s.isdigit( ) ) #isdigit 메소드를 이용해서 문자열 내의 모든 것이 숫자일 경우만\r\n",
        "print( int ( s ) )"
      ],
      "execution_count": null,
      "outputs": [
        {
          "output_type": "stream",
          "text": [
            "True\n",
            "100\n"
          ],
          "name": "stdout"
        }
      ]
    },
    {
      "cell_type": "markdown",
      "metadata": {
        "id": "fdRchNuVOJuw"
      },
      "source": [
        "문자열의 개념    \r\n",
        "• 문자열은 시퀀스 자료형(sequence data type)이다. #순서가 있는, 순서를 사용하는 자료형이란 뜻    "
      ]
    },
    {
      "cell_type": "markdown",
      "metadata": {
        "id": "atO3q5Y6PaYU"
      },
      "source": [
        "문자열과 메모리 공간    \r\n",
        "• 문자열을 저장하기 위해서는 영문자 한 글자당 1바이트의 메모리 공간을 사용한다.    \r\n",
        "• 문자열이 저장된 공간의 크기를 확인할 수 있는 코드"
      ]
    },
    {
      "cell_type": "markdown",
      "metadata": {
        "id": "f2ho5LfiP18_"
      },
      "source": [
        "문자열과 메모리 공간    \r\n",
        "• 컴퓨터 공학자들은 문자를 처리하기 위해 이진수로 변환되는 표준 규칙을 만들었다. ASCII, CP949, MS949, UTF-8 등\r\n",
        "이러한 규칙을 인코딩(encoding)이라고 한다.    \r\n",
        "① 컴퓨터는 문자를 직접 인식하지 못한다.    \r\n",
        "② 컴퓨터는 문자를 숫자로 변환하여 인식한다.   \r\n",
        "③ 사람들은 문자를 숫자로 변환하기 위한 규칙을 만들었다.    \r\n",
        "④ 일반적으로 이 규칙은 1개의 영문자를 1바이트, 즉 2의 8승(28) 정도의 공간에 저장될 수 있도록 정하였다.   \r\n",
        "a(97) ,A(65) 의 숫자도 차이가 있다(대소문자)   \r\n",
        "유니코드 몇 가지는 외워두는 것이 좋음"
      ]
    },
    {
      "cell_type": "markdown",
      "metadata": {
        "id": "jqq0sVYwTM3s"
      },
      "source": [
        "문자열의 인덱싱    \r\n",
        "• 리스트처럼 글자 하나하나가 상대적인 주소(offset)를 가지는데, 이 주소를 사용해 할당된 값을 가져오는 인덱싱을\r\n",
        "사용할 수 있다.    \r\n",
        "문자열의 슬라이싱    \r\n",
        "• 슬라이싱(slicing) : 문자열의 주소값을 기반으로 문자열의 부분값을 반환하는 기법이다."
      ]
    },
    {
      "cell_type": "code",
      "metadata": {
        "colab": {
          "base_uri": "https://localhost:8080/"
        },
        "id": "uzGZj2a7TWj0",
        "outputId": "d799ef14-340d-44b3-dd9a-e6e94492d6e0"
      },
      "source": [
        "a = 'hello'\r\n",
        "print(a[0], a[4])"
      ],
      "execution_count": null,
      "outputs": [
        {
          "output_type": "stream",
          "text": [
            "h o\n"
          ],
          "name": "stdout"
        }
      ]
    },
    {
      "cell_type": "code",
      "metadata": {
        "colab": {
          "base_uri": "https://localhost:8080/"
        },
        "id": "h9JB4DXwTk9K",
        "outputId": "a4fd7259-07f1-474b-9c80-72a6d227088d"
      },
      "source": [
        "a = 'simsekyung, simsejin'\r\n",
        "print(a[0:4], 'AND' ,a[9:])\r\n",
        "print(a[:])  #전체 문자열 슬라이싱\r\n",
        "print(a[-50:50])  #범위가 넘어갈 경우 자동으로 최대 범위를 지정\r\n",
        "print(a[::2], 'and', a[::-1])   # : start :end ::2란 1문자씩 넘어가며 출력, ::-1란 뒤에서부터 거꾸로 출력"
      ],
      "execution_count": null,
      "outputs": [
        {
          "output_type": "stream",
          "text": [
            "sims AND g, simsejin\n",
            "simsekyung, simsejin\n",
            "simsekyung, simsejin\n",
            "smeyn,smei and nijesmis ,gnuykesmis\n"
          ],
          "name": "stdout"
        }
      ]
    },
    {
      "cell_type": "code",
      "metadata": {
        "colab": {
          "base_uri": "https://localhost:8080/"
        },
        "id": "9sIVbCEtVkK0",
        "outputId": "cf4706de-57df-4aa2-ad99-f9796b058ead"
      },
      "source": [
        "a = 'team'\r\n",
        "b = 'lab'\r\n",
        "print(a + ' '+ b)\r\n",
        "print(a*2 + ' ' + b*2)\r\n",
        "if 'a' in a:\r\n",
        "  print(a)\r\n",
        "else:\r\n",
        "  print(b)  #true니까 a가 출력되서 team이 됨"
      ],
      "execution_count": null,
      "outputs": [
        {
          "output_type": "stream",
          "text": [
            "team lab\n",
            "teamteam lablab\n",
            "team\n"
          ],
          "name": "stdout"
        }
      ]
    },
    {
      "cell_type": "code",
      "metadata": {
        "colab": {
          "base_uri": "https://localhost:8080/",
          "height": 188
        },
        "id": "ZnJ-PjXKWUCo",
        "outputId": "135d12c3-5d7f-44dc-d265-786fa45a3e4b"
      },
      "source": [
        "int_value = 2\r\n",
        "print(\"결과는\" + int_value)"
      ],
      "execution_count": null,
      "outputs": [
        {
          "output_type": "error",
          "ename": "TypeError",
          "evalue": "ignored",
          "traceback": [
            "\u001b[0;31m---------------------------------------------------------------------------\u001b[0m",
            "\u001b[0;31mTypeError\u001b[0m                                 Traceback (most recent call last)",
            "\u001b[0;32m<ipython-input-53-f99b39461b36>\u001b[0m in \u001b[0;36m<module>\u001b[0;34m()\u001b[0m\n\u001b[1;32m      1\u001b[0m \u001b[0mint_value\u001b[0m \u001b[0;34m=\u001b[0m \u001b[0;36m2\u001b[0m\u001b[0;34m\u001b[0m\u001b[0;34m\u001b[0m\u001b[0m\n\u001b[0;32m----> 2\u001b[0;31m \u001b[0mprint\u001b[0m\u001b[0;34m(\u001b[0m\u001b[0;34m\"결과는\"\u001b[0m \u001b[0;34m+\u001b[0m \u001b[0mint_value\u001b[0m\u001b[0;34m)\u001b[0m\u001b[0;34m\u001b[0m\u001b[0;34m\u001b[0m\u001b[0m\n\u001b[0m",
            "\u001b[0;31mTypeError\u001b[0m: can only concatenate str (not \"int\") to str"
          ]
        }
      ]
    },
    {
      "cell_type": "markdown",
      "metadata": {
        "id": "iqJoMalsTU6I"
      },
      "source": [
        "숫자와 문자열은 연산이 안되서 오류가 발생하는 것"
      ]
    },
    {
      "cell_type": "code",
      "metadata": {
        "colab": {
          "base_uri": "https://localhost:8080/"
        },
        "id": "KwMDm0-6WjWy",
        "outputId": "26cb803c-fd19-445e-b767-cc08622045fb"
      },
      "source": [
        "a ='hello world'\r\n",
        "print(len(a))   #str객체의 멤버로 str클래스의 len() 메소드가 지원될 때만 사용가능하지만 파이썬에선 내장함수라 오류\r\n",
        "print(a.upper())\r\n",
        "print(a.title())\r\n",
        "print(a.capitalize())\r\n",
        "print(a.count('o'))\r\n",
        "print(a.find('o'))\r\n",
        "print(a.rfind('o'))\r\n",
        "print(a.startswith('h'))\r\n",
        "print(a.endswith('h'))"
      ],
      "execution_count": null,
      "outputs": [
        {
          "output_type": "stream",
          "text": [
            "11\n",
            "HELLO WORLD\n",
            "Hello World\n",
            "Hello world\n",
            "2\n",
            "4\n",
            "7\n",
            "True\n",
            "False\n"
          ],
          "name": "stdout"
        }
      ]
    },
    {
      "cell_type": "code",
      "metadata": {
        "colab": {
          "base_uri": "https://localhost:8080/"
        },
        "id": "vN-TDACQZZyI",
        "outputId": "029f5b95-7811-499c-bed3-76dd96748407"
      },
      "source": [
        "b = ' hello world '\r\n",
        "print(b.strip())\r\n",
        "print(len(b), len(b.strip()) )\r\n",
        "print(b.split() )\r\n",
        "c= \" hello | world \"\r\n",
        "print(c.split(\"|\"))"
      ],
      "execution_count": null,
      "outputs": [
        {
          "output_type": "stream",
          "text": [
            "hello world\n",
            "13 11\n",
            "['hello', 'world']\n",
            "[' hello ', ' world ']\n"
          ],
          "name": "stdout"
        }
      ]
    },
    {
      "cell_type": "code",
      "metadata": {
        "colab": {
          "base_uri": "https://localhost:8080/"
        },
        "id": "XUSNxDbosaWB",
        "outputId": "ea28ffa0-f6f6-4fc7-f4e8-572eb2d2dcfc"
      },
      "source": [
        "s = '짜장 짬뽕 탕슉'\r\n",
        "print(s.split())\r\n",
        "s2 = '서울->대전->대구->부산'\r\n",
        "city = s2.split('->')\r\n",
        "print(city)   #타입을 확인해보면 리스트로 확인됨\r\n",
        "for c in city:\r\n",
        "  print(c, '찍고', end = ' ')\r\n",
        "\r\n",
        "s = '._.'\r\n",
        "print(s.join('대한민국'))"
      ],
      "execution_count": null,
      "outputs": [
        {
          "output_type": "stream",
          "text": [
            "['짜장', '짬뽕', '탕슉']\n",
            "['서울', '대전', '대구', '부산']\n",
            "서울 찍고 대전 찍고 대구 찍고 부산 찍고 대._.한._.민._.국\n"
          ],
          "name": "stdout"
        }
      ]
    },
    {
      "cell_type": "markdown",
      "metadata": {
        "id": "08lq42_WWm8S"
      },
      "source": [
        "문자열의 연산    \r\n",
        "join () - 문자열의 각 문자 사이에 다른 문자열 끼워넣음    \r\n",
        "replace ( ) - 특정 문자열을 찾아 다른 문자열로 대체    \r\n",
        "splitlines () - 개행 문자나 파일 구분자 등 기준으로 문자열 잘라 리스트로 만듦    \r\n",
        "just () - 문자열을 특정 폭에 맞추어 정렬    \r\n",
        "center () - 중앙 정렬"
      ]
    },
    {
      "cell_type": "code",
      "metadata": {
        "colab": {
          "base_uri": "https://localhost:8080/"
        },
        "id": "fm6yzE1jtcTa",
        "outputId": "a8860c87-15ef-45bb-a6be-2ca7e5824681"
      },
      "source": [
        "s = '독도는 일본땅이다. 대마도도 일본땅이다.'\r\n",
        "print(s)\r\n",
        "print(s.replace('일본', '한국'))"
      ],
      "execution_count": null,
      "outputs": [
        {
          "output_type": "stream",
          "text": [
            "독도는 일본땅이다. 대마도도 일본땅이다.\n",
            "독도는 한국땅이다. 대마도도 한국땅이다.\n"
          ],
          "name": "stdout"
        }
      ]
    },
    {
      "cell_type": "code",
      "metadata": {
        "colab": {
          "base_uri": "https://localhost:8080/"
        },
        "id": "sgn972HRtrGM",
        "outputId": "87007ec7-c5cf-4503-9916-5642f1234368"
      },
      "source": [
        "traveler = '강나루 건너서\\n밀밭 길을\\n\\n구름에 달 가듯이\\n가는 나그네\\n길은 외줄기\\n남도 삼백리\\n\\n술 익는 마을마다\\n타는 저녁놀\\n구름에 달 가듯이\\n가는 나그네'\r\n",
        "poet = traveler.splitlines()\r\n",
        "for line in poet:\r\n",
        "  print(line.center(30))"
      ],
      "execution_count": null,
      "outputs": [
        {
          "output_type": "stream",
          "text": [
            "           강나루 건너서            \n",
            "            밀밭 길을             \n",
            "                              \n",
            "          구름에 달 가듯이           \n",
            "            가는 나그네            \n",
            "            길은 외줄기            \n",
            "            남도 삼백리            \n",
            "                              \n",
            "          술 익는 마을마다           \n",
            "            타는 저녁놀            \n",
            "          구름에 달 가듯이           \n",
            "            가는 나그네            \n"
          ],
          "name": "stdout"
        }
      ]
    },
    {
      "cell_type": "markdown",
      "metadata": {
        "id": "3YulqwyPtbMu"
      },
      "source": [
        "개행 구분자로 문자열을 잘라 리스트로 만들고 중앙 정렬 시켜놓음   \r\n",
        "center(30) 이란 총 길이 30 length의 문자열을 출력하는데 앞,뒤 빈칸을 # 으로 채운다라는 표현"
      ]
    },
    {
      "cell_type": "markdown",
      "metadata": {
        "id": "DFKTOc4Rv0LT"
      },
      "source": [
        "문자열(string) 포매팅(Formatting)   \r\n",
        "• 파이썬 3 버전부터는 문자열이 텍스트 기반인 유니코드로 처리되므로 문자열을 가지고 처리하는 포매팅도 텍스트 기\r\n",
        "반으로 처리된다.   \r\n",
        "• format함수와 문자열 자료형에 있는 format 메서드를 이용    \r\n",
        "• 파이썬 3버전부터는 f문자열을 사용해서 더 간단하게 출력이 가능     \r\n",
        "예를 들어) 오늘 환률은 1$(1135.5원)입니다.  에서 ()안에 값만 바꾸기 위하여 포매팅을 사용   \r\n",
        "{} 문자열  {} 정수 같이 사용하여 출력"
      ]
    },
    {
      "cell_type": "code",
      "metadata": {
        "colab": {
          "base_uri": "https://localhost:8080/"
        },
        "id": "fjRBmRlawcd4",
        "outputId": "3e1bc040-f49d-4418-9c3f-8629c50578c6"
      },
      "source": [
        "print('%d %o %x' % (30, 30, 30))  #포맷문자열을 지정"
      ],
      "execution_count": null,
      "outputs": [
        {
          "output_type": "stream",
          "text": [
            "30 36 1e\n"
          ],
          "name": "stdout"
        }
      ]
    },
    {
      "cell_type": "code",
      "metadata": {
        "colab": {
          "base_uri": "https://localhost:8080/"
        },
        "id": "V6d2oqIix4oJ",
        "outputId": "354c99d9-9e16-4fc8-c21d-53627662bab9"
      },
      "source": [
        "print('%s: %d' % ('나이', 30)) #문자열과 정수 출력\r\n",
        "print('{}: {}'.format('나이', 30)) # %[-]폭[.유효자리수]서식\r\n",
        "print()\r\n",
        "\r\n",
        "print('%f,%.2f' % (1.123, 1.123)) #실수 출력\r\n",
        "print('{:f}, {:.2f}'.format(1.123, 1.123))\r\n",
        "print()\r\n",
        "\r\n",
        "print('%o, %x, %X' % (10, 10, 10)) #진법 출력\r\n",
        "print('{:b}, {:o}'.format(10, 10))\r\n",
        "print('{:x}, {:X}'.format(10, 10))\r\n",
        "print()\r\n",
        "\r\n",
        "print('|%5d|' % 123) #고정 길이 출력 어떻게 정렬을 하는지\r\n",
        "print('|%5s|' % 'abc')\r\n",
        "print('|{:5}|'.format(123))   #정수라 왼쪽으로 출력\r\n",
        "print('|{:5}|'.format('abc')) #문자열이라 오른쪽으로 출력\r\n",
        "print()\r\n",
        "\r\n",
        "print('|%-5d|' % 123) # 고정 길이의 정렬= 어떻게 정렬을 하는지\r\n",
        "print('|%5s|' % 'abc')      \r\n",
        "print('|{:<5}|'.format(123)) #왼쪽정렬\r\n",
        "print('|{:>5}|'.format('abc')) #오른쪽정렬\r\n",
        "print('|{:^5}|'.format('abc')) #가운데정렬"
      ],
      "execution_count": null,
      "outputs": [
        {
          "output_type": "stream",
          "text": [
            "나이: 30\n",
            "나이: 30\n",
            "\n",
            "1.123000,1.12\n",
            "1.123000, 1.12\n",
            "\n",
            "12, a, A\n",
            "1010, 12\n",
            "a, A\n",
            "\n",
            "|  123|\n",
            "|  abc|\n",
            "|  123|\n",
            "|abc  |\n",
            "\n",
            "|123  |\n",
            "|  abc|\n",
            "|123  |\n",
            "|  abc|\n",
            "| abc |\n"
          ],
          "name": "stdout"
        }
      ]
    },
    {
      "cell_type": "markdown",
      "metadata": {
        "id": "nuZsmPthyKyM"
      },
      "source": [
        "같은식을 윗줄은 전에 썼던 형식이고 아랫줄은 파이썬 3버전에서 많이 사용하는 형식"
      ]
    },
    {
      "cell_type": "code",
      "metadata": {
        "colab": {
          "base_uri": "https://localhost:8080/"
        },
        "id": "pOzl2zWeztyV",
        "outputId": "394f5288-a3d2-4c64-c714-953f63635978"
      },
      "source": [
        "print('|%05d|' % 123) #여백 채우기 5칸을 만드는데 0으로 빈칸을 채우는 것\r\n",
        "print('|{:05}|'.format(123))\r\n",
        "print('|{:_>5}|'.format('abc'))  #5칸을 채우기위해 __를 사용해 채우는 것\r\n",
        "print('|{:-^5}|'.format('abc'))\r\n",
        "print('{:,}'.format(1000000)) #정수, 실수 단위 구분  콤마로 1000단위 구분\r\n",
        "print('{:,.2f}'.format(1000000))  #똑같이 콤마로 구분하되 끝에 2칸을 포함한 실수를 붙여 구분"
      ],
      "execution_count": null,
      "outputs": [
        {
          "output_type": "stream",
          "text": [
            "|00123|\n",
            "|00123|\n",
            "|__abc|\n",
            "|-abc-|\n",
            "1,000,000\n",
            "1,000,000.00\n"
          ],
          "name": "stdout"
        }
      ]
    },
    {
      "cell_type": "code",
      "metadata": {
        "colab": {
          "base_uri": "https://localhost:8080/"
        },
        "id": "1Oe_0FYU1Q-i",
        "outputId": "6eb304c5-0702-49f4-bdfb-a6028209b476"
      },
      "source": [
        "a = \"%r, %r\" % (\"가을\", \"동화\")  \r\n",
        "print( type( a ), a )   \r\n",
        "result = eval(a)\r\n",
        "print( result, type( result ) )    #eval함수가 인터프리터를 해서 튜플로 타입이 변환된 것"
      ],
      "execution_count": null,
      "outputs": [
        {
          "output_type": "stream",
          "text": [
            "<class 'str'> '가을', '동화'\n",
            "('가을', '동화') <class 'tuple'>\n"
          ],
          "name": "stdout"
        }
      ]
    },
    {
      "cell_type": "markdown",
      "metadata": {
        "id": "fxXVL2AgztDZ"
      },
      "source": [
        "eval()함수는 문자열을 파이썬 실행 코드로 해석해서 실행시키는 함수"
      ]
    },
    {
      "cell_type": "code",
      "metadata": {
        "colab": {
          "base_uri": "https://localhost:8080/"
        },
        "id": "4fOxS-fb1MCO",
        "outputId": "04738eae-da38-4a15-8f53-1de04b8586c2"
      },
      "source": [
        "a= \"{!s}, {!s}\".format(str(100), str(99.99) )  #!는 not연산자  \r\n",
        "print( type( a ), a )\r\n",
        "print( eval( a ) )"
      ],
      "execution_count": null,
      "outputs": [
        {
          "output_type": "stream",
          "text": [
            "<class 'str'> 100, 99.99\n",
            "(100, 99.99)\n"
          ],
          "name": "stdout"
        }
      ]
    },
    {
      "cell_type": "markdown",
      "metadata": {
        "id": "JY8zm9zR1tsk"
      },
      "source": [
        "문자열(string) 포매팅(Formatting)   \r\n",
        "• __str__와 __repr__ (Magic method)은 객체를 사용자가 이해할 수 있는 문자열로 반환하는 함수    \r\n",
        "• str()은 입력 받은 객체의 문자열 버전을 반환   \r\n",
        "• str와 __str__, repr과 __repr__의 관계도 이와 동일하다.   \r\n",
        "• 어떤 객체 object에 str, repr 함수를 씌우면 해당 객체의 클래스에 정의되어 있는 __str__, __repr__ 메소드가 해당 객체\r\n",
        "에 실행되고, 두 메소드에 있는 코드를 실행한다.   \r\n",
        "• str, repr 함수가 인스턴스의 __str__, __repr__ 메소드를 각각 호출한다  \r\n",
        "• _str__가 서로 다른 자료형 간에 인터페이스를 제공하기 위해서 존재한다면, __repr__은 해당 객체를 인간이 이해할 수\r\n",
        "있는 표현으로 나타내기 위한 용도이다."
      ]
    },
    {
      "cell_type": "code",
      "metadata": {
        "colab": {
          "base_uri": "https://localhost:8080/"
        },
        "id": "YZ-ZRwIw12tL",
        "outputId": "96f9b656-076f-4aba-fc80-4c7d1057e393"
      },
      "source": [
        "class student():\r\n",
        "  pass\r\n",
        "s = student()  #student 클래스의 생성자를 이용해서 객체 생성\r\n",
        "print(s)"
      ],
      "execution_count": null,
      "outputs": [
        {
          "output_type": "stream",
          "text": [
            "<__main__.student object at 0x7fbc192f2690>\n"
          ],
          "name": "stdout"
        }
      ]
    },
    {
      "cell_type": "markdown",
      "metadata": {
        "id": "4FiVcRbr2XoG"
      },
      "source": [
        "s = student() 가로 안에 문자열을 넣어 사용자가 객체를 이해할 수 있게 반환"
      ]
    },
    {
      "cell_type": "code",
      "metadata": {
        "colab": {
          "base_uri": "https://localhost:8080/"
        },
        "id": "ak6tZSjp3Ntu",
        "outputId": "97ed38f7-95ee-4c74-e20c-2538fa9424aa"
      },
      "source": [
        "f = open('./yesterday.txt', 'r')   #r은 읽기모드를 지칭 read w는 쓰기모드\r\n",
        "#yesterdays = f.read()   #.readlines() 이건 파일을 한 줄씩 읽어준다는 뜻\r\n",
        "contents = f.read()    #read  전체 통으로 가져온 것 전체파일을 문자열로 반환한 것\r\n",
        "print(type(f))\r\n",
        "#print(contents)\r\n",
        "print(type(contents))\r\n",
        "f.close()\r\n",
        "print(contents.count('Yesterday'))\r\n",
        "print(contents.count('yesterday'))"
      ],
      "execution_count": null,
      "outputs": [
        {
          "output_type": "stream",
          "text": [
            "<class '_io.TextIOWrapper'>\n",
            "<class 'str'>\n",
            "3\n",
            "6\n"
          ],
          "name": "stdout"
        }
      ]
    },
    {
      "cell_type": "markdown",
      "metadata": {
        "id": "jxygtiFm6YUD"
      },
      "source": [
        "read() : 파일 전체의 내용을 하나의 문자열!!로 읽어온다.    \r\n",
        "\r\n",
        "readline() : 한번에 하나의 라인을 읽어오는 메소드이다.    \r\n",
        "\r\n",
        "readlines() : 파일 전체를 한라인씩 읽어와서 리스트!!를 만들어주는 메소드이다.\r\n",
        "그런데 개행문자인 \"\\n\"도 같이 들어가 있기 때문에 이 부분을 제거해주는 comand가 필요할 수도 있다."
      ]
    },
    {
      "cell_type": "markdown",
      "metadata": {
        "id": "D1e102oz7oFM"
      },
      "source": [
        "r = 읽기모드 파일없으면 error   \r\n",
        "r+ = 읽기 또는 쓰기모드 파일없으면 error  (기존데이터 두고 그 위에 덮어쓰기)    \r\n",
        "w = 쓰기모드 파일없으면 새로 만듬   \r\n",
        "w+ = 읽기 또는 쓰기모드 파일없으면 새로 만듬(단 기존 파일의 내용을 전부 삭제하고 새로 씀)      \r\n",
        "a = 파일추가로 쓰기모드 파일없으면 새로 만듬   \r\n",
        "a+ = 읽기 또는 파일추가모드 파일없으면 새로 만듬   \r\n",
        "t = 텍스트모드로 파일을 연다   \r\n",
        "b = 바이너리 모드로 파일을 연다   \r\n",
        "w+t = 텍스트 쓰기 모드로 파일을 연다"
      ]
    },
    {
      "cell_type": "code",
      "metadata": {
        "colab": {
          "base_uri": "https://localhost:8080/"
        },
        "id": "7JhUdJyQ8unF",
        "outputId": "8ac9f8d7-5f6d-4c5c-c8fb-ad2ce0accfd3"
      },
      "source": [
        "f = open('./yesterday.txt', 'r')  \r\n",
        "contents = f.readlines()\r\n",
        "cnt = 0\r\n",
        "for word in contents:\r\n",
        "  cnt += word.lower().count('yesterday')\r\n",
        "\r\n",
        "print('Number of word yesterday', cnt)"
      ],
      "execution_count": null,
      "outputs": [
        {
          "output_type": "stream",
          "text": [
            "Number of word yesterday 9\n"
          ],
          "name": "stdout"
        }
      ]
    },
    {
      "cell_type": "markdown",
      "metadata": {
        "id": "ynxdbeu8-8Tp"
      },
      "source": [
        "조건문의 개념   \r\n",
        "• 조건문(conditional statement): 조건에 따라 특정 동작을 하도록 하는 프로그래밍 명령어이다.   \r\n",
        "• 파이썬에서는 조건문을 사용하기 위해 if, else, elif 등의 명령 키워드를 사용한다.   \r\n",
        "• 예시) 스마트폰 잠금 해제 패턴이 5회 틀리면, 20초 동안 대기 상태로 만들어라."
      ]
    },
    {
      "cell_type": "code",
      "metadata": {
        "colab": {
          "base_uri": "https://localhost:8080/"
        },
        "id": "ta0t30if_Nrg",
        "outputId": "3b50f0be-c74f-4b73-f610-d095722c7d82"
      },
      "source": [
        "age = int(input('너 몇살이니? '))\r\n",
        "if age < 29:\r\n",
        "  print('애들은 가라')"
      ],
      "execution_count": null,
      "outputs": [
        {
          "output_type": "stream",
          "text": [
            "너 몇살이니? 26\n",
            "애들은 가라\n"
          ],
          "name": "stdout"
        }
      ]
    },
    {
      "cell_type": "code",
      "metadata": {
        "colab": {
          "base_uri": "https://localhost:8080/"
        },
        "id": "VdcaAQ8s_fvp",
        "outputId": "2b199d53-0989-4dad-e624-9e8a18e535ba"
      },
      "source": [
        "a = 1\r\n",
        "if a :\r\n",
        "  print('열심히 싸운다')"
      ],
      "execution_count": null,
      "outputs": [
        {
          "output_type": "stream",
          "text": [
            "열심히 싸운다\n"
          ],
          "name": "stdout"
        }
      ]
    },
    {
      "cell_type": "markdown",
      "metadata": {
        "id": "sdsyF6Om_qWb"
      },
      "source": [
        "1은 True기 때문에 조건에 그냥 통과되어 그대로 출력된 것"
      ]
    },
    {
      "cell_type": "code",
      "metadata": {
        "colab": {
          "base_uri": "https://localhost:8080/"
        },
        "id": "_266aHUD_zsa",
        "outputId": "333a0bd2-968c-4887-b375-63e389c021c9"
      },
      "source": [
        "#연습문제 [sample run]\r\n",
        "#1~100사이에 정수를 입력하세요 :a\r\n",
        "#a은 홀수입니다. \r\n",
        "a = int(input(\"1~100 사이의 정수를 입력하세요: \"))\r\n",
        "\r\n",
        "if(a %2 == 0):\r\n",
        "    print(\"%d은 짝수입니다\"%(a))\r\n",
        "else:\r\n",
        "    print(\"%d는 홀수입니다\"%(a))\r\n"
      ],
      "execution_count": null,
      "outputs": [
        {
          "output_type": "stream",
          "text": [
            "1~100 사이의 정수를 입력하세요: 50\n",
            "50은 짝수입니다\n"
          ],
          "name": "stdout"
        }
      ]
    },
    {
      "cell_type": "code",
      "metadata": {
        "colab": {
          "base_uri": "https://localhost:8080/"
        },
        "id": "F0YyXPdoCI8O",
        "outputId": "c00b9d08-9494-45fd-f5b9-6cc1f97a2207"
      },
      "source": [
        "(3>5)<10  #true or false"
      ],
      "execution_count": null,
      "outputs": [
        {
          "output_type": "execute_result",
          "data": {
            "text/plain": [
              "True"
            ]
          },
          "metadata": {
            "tags": []
          },
          "execution_count": 117
        }
      ]
    },
    {
      "cell_type": "markdown",
      "metadata": {
        "id": "t-vm8SbOCS49"
      },
      "source": [
        "3>5 이 false기 때문에 false는 0이 되어서 트루가 됨"
      ]
    },
    {
      "cell_type": "markdown",
      "metadata": {
        "id": "Ke-GpwMiCuAb"
      },
      "source": [
        "if-elif-else문    \r\n",
        "• 중첩 if문을 간단히 표현하려면 if-elif-else문을 사용한다.    \r\n",
        "•점수에 맞는 학점 계산    \r\n",
        "•여러 조건을 체크(조건 우선 순위) ex)90점 이상에서 또 다른조건을 체크해서 a학점 이런식으로    \r\n",
        "if 조건1:   \r\n",
        "   명령   \r\n",
        "elif 조건2:   \r\n",
        "   명령    \r\n",
        "elif 조건3:    \r\n",
        "   명령    \r\n",
        "...     \r\n",
        "else:      #else,elif는 꼭 써야하는 건 아님 선택사항 "
      ]
    },
    {
      "cell_type": "code",
      "metadata": {
        "colab": {
          "base_uri": "https://localhost:8080/"
        },
        "id": "PT0JBIp7Cvtv",
        "outputId": "5dc5f1f5-a3f9-46fe-be6c-c676979790b7"
      },
      "source": [
        "a = int(input(\"enter your score: \"))\r\n",
        "if a>=90:\r\n",
        "  print(\"A\")\r\n",
        "elif a>=80:\r\n",
        "  print('B')\r\n",
        "elif a>=70:\r\n",
        "  print('C')\r\n",
        "elif a>=60:\r\n",
        "  print('D')\r\n",
        "else:\r\n",
        "  print('F')"
      ],
      "execution_count": null,
      "outputs": [
        {
          "output_type": "stream",
          "text": [
            "enter your score: 66\n",
            "D\n"
          ],
          "name": "stdout"
        }
      ]
    },
    {
      "cell_type": "markdown",
      "metadata": {
        "id": "aAd9BzHjEUZl"
      },
      "source": [
        "연습문제   \r\n",
        "Lab : 산술 연산 계산기    \r\n",
        "정수1의 값을 입력하세요 : 100    \r\n",
        "정수2의 값을 입력하세요 : 3    \r\n",
        "연산자(+, -, *, // )를 입력하세요 ://     \r\n",
        "\r\n",
        "100 // 3 = 33"
      ]
    },
    {
      "cell_type": "code",
      "metadata": {
        "colab": {
          "base_uri": "https://localhost:8080/"
        },
        "id": "x9arfGNVE0tz",
        "outputId": "9d15d2bb-982a-4223-dbe6-0d638c0a2eea"
      },
      "source": [
        "a = int(input(\"정수1의 값을 입력하세요: \"))\r\n",
        "b = int(input(\"정수2의 값을 입력하세요: \"))\r\n",
        "c = input('연산자를 입력하세요: ')\r\n",
        "\r\n",
        "if c == '+':\r\n",
        "  print(a + b)\r\n",
        "elif c == '-':\r\n",
        "  print(a - b)\r\n",
        "elif c == '*':\r\n",
        "  print(a ** b)\r\n",
        "elif c == '//':\r\n",
        "  print(a // b)"
      ],
      "execution_count": null,
      "outputs": [
        {
          "output_type": "stream",
          "text": [
            "정수1의 값을 입력하세요: 54\n",
            "정수2의 값을 입력하세요: 24\n",
            "연산자를 입력하세요: //\n",
            "2\n"
          ],
          "name": "stdout"
        }
      ]
    },
    {
      "cell_type": "code",
      "metadata": {
        "colab": {
          "base_uri": "https://localhost:8080/"
        },
        "id": "gLlXBsmCGJ13",
        "outputId": "8ab6dbbe-666c-4824-d683-28eca342e65d"
      },
      "source": [
        "#lab\r\n",
        "a = int(input())\r\n",
        "age = (2021 - a + 1)\r\n",
        "if 20<= age and age <=26:\r\n",
        "  print('대학생')\r\n",
        "elif 17< age and age <20:\r\n",
        "  print('고등학생')\r\n",
        "elif 14< age and age < 17:\r\n",
        "  print('중학생')\r\n",
        "elif 7< age and age < 14:\r\n",
        "  print('초등학생')\r\n",
        "else:\r\n",
        "  print('학생이 아닙니다.')"
      ],
      "execution_count": null,
      "outputs": [
        {
          "output_type": "stream",
          "text": [
            "1996\n",
            "대학생\n"
          ],
          "name": "stdout"
        }
      ]
    },
    {
      "cell_type": "markdown",
      "metadata": {
        "id": "CKb652sMTIKX"
      },
      "source": [
        "Lab : 입력되는 액수만큼 500원, 100원, 50원, 10원짜리 동전으로 교환해 주는 프로그램이다.   \r\n",
        "입력한 값이 얼마든 모두 동전으로 교환 가능하지만 동전의 개수는 최소화해야 한다.   \r\n",
        "\r\n",
        "[Sample Run]   \r\n",
        "동전으로 교환할 금액을 입력하세요 : 6780   \r\n",
        "500원 13개   \r\n",
        "100원 2개   \r\n",
        "50원 1개   \r\n",
        "10원 3개\r\n"
      ]
    },
    {
      "cell_type": "code",
      "metadata": {
        "id": "d4YV_O0oJnyr"
      },
      "source": [
        "#Lab \r\n",
        "a = int(input('동전으로 교환할 금액을 입력하세요: ')) \r\n"
      ],
      "execution_count": null,
      "outputs": []
    },
    {
      "cell_type": "markdown",
      "metadata": {
        "id": "IvYI7j3XTNNF"
      },
      "source": [
        "Lab : 문자열을 입력받고, 입력받은 문자열의 순서를 거꾸로 출력하는 코드를 작성하시오   \r\n",
        "\r\n",
        "문자열 입력 --> hello word   \r\n",
        "drow olleh\r\n"
      ]
    },
    {
      "cell_type": "code",
      "metadata": {
        "id": "hJdh7XhCJpAl",
        "colab": {
          "base_uri": "https://localhost:8080/"
        },
        "outputId": "9471a3f3-3bb1-482a-eb79-fb7cab84a540"
      },
      "source": [
        "#lLab : \r\n",
        "print(\"동전으로 교환할 금액을 입력하시오:\")\r\n",
        "num = int(input())\r\n",
        "a = (num//500)\t\t#정수 몫은 교환할 500원 동전 개수\r\n",
        "b = (num%500)//100\t#정수 몫은 교환할 100원 동전 개수\r\n",
        "c = (num%100)//50\t\t#정수 몫은 교환할 50원 동전 개수\r\n",
        "d = (num%50)//10\t\t#정수 몫은 교환할 10원 동전 개수\r\n",
        "print(\"500원 %d개, 100원 %d개, 50원 %d개, 10원 %d개\"%(a,b,c,d))   \r\n"
      ],
      "execution_count": 154,
      "outputs": [
        {
          "output_type": "stream",
          "text": [
            "동전으로 교환할 금액을 입력하시오:\n",
            "8640\n",
            "500원 17개, 100원 1개, 50원 0개, 10원 4개\n"
          ],
          "name": "stdout"
        }
      ]
    },
    {
      "cell_type": "markdown",
      "metadata": {
        "id": "cTj9qv2kTSLK"
      },
      "source": [
        "Lab: 입력한 연도가 윤년인지 계산하는  프로그램 코드를 작성하시오   \r\n",
        "4로 나누어 떨어지고,  400으로 나누어 떨어지는 해는 윤년입니다.   \r\n",
        "4로 나누어 떨어지고,  400으로 나누어 떨어지는데 , 100으로 나누어 떨어지지 않으면 평년입니다.   \r\n",
        " \r\n",
        "\r\n",
        "[Sample Run] 연도를 입력하세요: 2000    \r\n",
        "2000년은 윤년입니다.\r\n"
      ]
    },
    {
      "cell_type": "code",
      "metadata": {
        "id": "P4M-yrcbJqff",
        "colab": {
          "base_uri": "https://localhost:8080/"
        },
        "outputId": "b6b500c4-df33-43af-9ff3-208c4375d868"
      },
      "source": [
        "#lab:\r\n",
        "year = int(input('연도를 입력하시오:'))\r\n",
        "if (year % 4==0 and year % 400==0):\r\n",
        "  print(year, '년은 윤년입니다.')\r\n",
        "elif ((year % 4 ==0 and year % 400 ==0) and year % 100 !=0):\r\n",
        "  print(year, '년은 평년년입니다.')"
      ],
      "execution_count": 179,
      "outputs": [
        {
          "output_type": "stream",
          "text": [
            "연도를 입력하시오:2020\n"
          ],
          "name": "stdout"
        }
      ]
    },
    {
      "cell_type": "code",
      "metadata": {
        "colab": {
          "base_uri": "https://localhost:8080/"
        },
        "id": "pvVkJli7jX7E",
        "outputId": "5d71b13b-f49f-46cc-f2e4-4e02606d049e"
      },
      "source": [
        "a = int(input('연도를 입력하세요 : '))\r\n",
        "if a%4 == 0 :\r\n",
        "    if a%100 == 0 :\r\n",
        "        if a%400 == 0 :\r\n",
        "            print('윤년입니다.')\r\n",
        "        else :\r\n",
        "            print('평년입니다.')\r\n",
        "    else :\r\n",
        "        print('윤년입니다.')\r\n",
        "else :\r\n",
        "    print('평년입니다.')"
      ],
      "execution_count": 181,
      "outputs": [
        {
          "output_type": "stream",
          "text": [
            "연도를 입력하세요 : 2030\n",
            "평년입니다.\n"
          ],
          "name": "stdout"
        }
      ]
    },
    {
      "cell_type": "markdown",
      "metadata": {
        "id": "AK-Ce6SESVvU"
      },
      "source": [
        "반복문의 개념    \r\n",
        "• 반복문(loop) : 정해진 동작을 반복적으로 수행할 때 내리는 명령어이다.    \r\n",
        "• 반복문은 모든 프로그램에서 핵심적으로 사용된다.   \r\n",
        "• 반복문은 반복 시작 조건, 종료 조건, 수행 명령으로 구성되어 있으며, 들여쓰기와 블록(block)으로 구분한다.   \r\n",
        "• 파이썬의 반복문은 for와 while 등의 명령 키워드를 사용한다.    \r\n",
        "반복 횟수를 알면 for, 조건을 알면 while"
      ]
    },
    {
      "cell_type": "code",
      "metadata": {
        "colab": {
          "base_uri": "https://localhost:8080/"
        },
        "id": "hTmKa8VeTamp",
        "outputId": "973e7eab-8a8e-4e0a-8c6e-b793254dd329"
      },
      "source": [
        "for i in range(1, 10, 2):\r\n",
        "  print(i)"
      ],
      "execution_count": 133,
      "outputs": [
        {
          "output_type": "stream",
          "text": [
            "1\n",
            "3\n",
            "5\n",
            "7\n",
            "9\n"
          ],
          "name": "stdout"
        }
      ]
    },
    {
      "cell_type": "code",
      "metadata": {
        "colab": {
          "base_uri": "https://localhost:8080/"
        },
        "id": "kDTNk1nZTjX8",
        "outputId": "4eac2cf7-4379-4640-952f-456b99c858db"
      },
      "source": [
        "#for문을 이용해서 1~10까지의 누적합을 출력\r\n",
        "#1~10까지의누적합은 55입니다.\r\n",
        "sum = 0\r\n",
        "for i in range(1,11):\r\n",
        "  sum += i  #반복 수행 할 때마다 누적합 연산 수행\r\n",
        "\r\n",
        "print('1~10까지의 누적합은', sum)"
      ],
      "execution_count": 155,
      "outputs": [
        {
          "output_type": "stream",
          "text": [
            "1~10까지의 누적합은 55\n"
          ],
          "name": "stdout"
        }
      ]
    },
    {
      "cell_type": "markdown",
      "metadata": {
        "id": "B7QiW9B8Z8tn"
      },
      "source": [
        "lab: 정수를 입력받아서 소수(prime number) 인지, 소수가 아닌지 판단\r\n",
        "\r\n",
        "for    :     \r\n",
        "  if 조건:     \r\n",
        "    break  #가장 가까운 반복문 탈출"
      ]
    },
    {
      "cell_type": "code",
      "metadata": {
        "colab": {
          "base_uri": "https://localhost:8080/",
          "height": 259
        },
        "id": "8Y0wELhTZZQl",
        "outputId": "0d1ab43e-ef37-455e-e4bb-37367b38f4b8"
      },
      "source": [
        "#lab: 정수를 입력받아서 소수(prime number) 인지, 소수가 아닌지 판단\r\n",
        "a = int(input('정수를 입력하세요: '))\r\n",
        "end = (num + 1)//2\r\n",
        "for n in range(2, end):\r\n",
        "  if a%n == 0:\r\n",
        "    print(a, 'is not prime number')\r\n",
        "    break;\r\n",
        "  else:\r\n",
        "   print(a, 'is prime number')\r\n"
      ],
      "execution_count": 1,
      "outputs": [
        {
          "output_type": "stream",
          "text": [
            "정수를 입력하세요: 25\n"
          ],
          "name": "stdout"
        },
        {
          "output_type": "error",
          "ename": "NameError",
          "evalue": "ignored",
          "traceback": [
            "\u001b[0;31m---------------------------------------------------------------------------\u001b[0m",
            "\u001b[0;31mNameError\u001b[0m                                 Traceback (most recent call last)",
            "\u001b[0;32m<ipython-input-1-7dc97a75b1cf>\u001b[0m in \u001b[0;36m<module>\u001b[0;34m()\u001b[0m\n\u001b[1;32m      1\u001b[0m \u001b[0;31m#lab: 정수를 입력받아서 소수(prime number) 인지, 소수가 아닌지 판단\u001b[0m\u001b[0;34m\u001b[0m\u001b[0;34m\u001b[0m\u001b[0;34m\u001b[0m\u001b[0m\n\u001b[1;32m      2\u001b[0m \u001b[0ma\u001b[0m \u001b[0;34m=\u001b[0m \u001b[0mint\u001b[0m\u001b[0;34m(\u001b[0m\u001b[0minput\u001b[0m\u001b[0;34m(\u001b[0m\u001b[0;34m'정수를 입력하세요: '\u001b[0m\u001b[0;34m)\u001b[0m\u001b[0;34m)\u001b[0m\u001b[0;34m\u001b[0m\u001b[0;34m\u001b[0m\u001b[0m\n\u001b[0;32m----> 3\u001b[0;31m \u001b[0mend\u001b[0m \u001b[0;34m=\u001b[0m \u001b[0;34m(\u001b[0m\u001b[0mnum\u001b[0m \u001b[0;34m+\u001b[0m \u001b[0;36m1\u001b[0m\u001b[0;34m)\u001b[0m\u001b[0;34m//\u001b[0m\u001b[0;36m2\u001b[0m\u001b[0;34m\u001b[0m\u001b[0;34m\u001b[0m\u001b[0m\n\u001b[0m\u001b[1;32m      4\u001b[0m \u001b[0;32mfor\u001b[0m \u001b[0mn\u001b[0m \u001b[0;32min\u001b[0m \u001b[0mrange\u001b[0m\u001b[0;34m(\u001b[0m\u001b[0;36m2\u001b[0m\u001b[0;34m,\u001b[0m \u001b[0mend\u001b[0m\u001b[0;34m)\u001b[0m\u001b[0;34m:\u001b[0m\u001b[0;34m\u001b[0m\u001b[0;34m\u001b[0m\u001b[0m\n\u001b[1;32m      5\u001b[0m   \u001b[0;32mif\u001b[0m \u001b[0ma\u001b[0m\u001b[0;34m%\u001b[0m\u001b[0mn\u001b[0m \u001b[0;34m==\u001b[0m \u001b[0;36m0\u001b[0m\u001b[0;34m:\u001b[0m\u001b[0;34m\u001b[0m\u001b[0;34m\u001b[0m\u001b[0m\n",
            "\u001b[0;31mNameError\u001b[0m: name 'num' is not defined"
          ]
        }
      ]
    },
    {
      "cell_type": "code",
      "metadata": {
        "colab": {
          "base_uri": "https://localhost:8080/"
        },
        "id": "QBJl3EkYcVJy",
        "outputId": "9bca0c19-2067-45e3-9d62-cd2d655fdeab"
      },
      "source": [
        "num = int(input('정수를 입력하세요: '))\r\n",
        "isprime = True\r\n",
        "ban = round(num/2)\r\n",
        "banlist = range(2, ban)\r\n",
        "\r\n",
        "for n in banlist:   #소수점을 없애기위해 num.round(23) \r\n",
        "  if num % n == 0:\r\n",
        "    print(num, 'is not prime number')\r\n",
        "    isprime = False\r\n",
        "    break\r\n",
        "if(isprime):\r\n",
        "   print(num, 'is prime number')"
      ],
      "execution_count": 9,
      "outputs": [
        {
          "output_type": "stream",
          "text": [
            "정수를 입력하세요: 23\n",
            "23 is prime number\n"
          ],
          "name": "stdout"
        }
      ]
    },
    {
      "cell_type": "code",
      "metadata": {
        "colab": {
          "base_uri": "https://localhost:8080/"
        },
        "id": "OUmzv2PXdAxo",
        "outputId": "4ecb3598-1d80-4da1-9875-4b1f9156ae26"
      },
      "source": [
        "#lab: 1~100사이의 정수중 소수만 출력하고, 소수의 개수를 출력하세요\r\n",
        "primeCount = 0\r\n",
        "for number in range(1,100):\r\n",
        "  #소수 판단 로직\r\n",
        "  for n in range(2, round(number/2)):   #round는 반올림\r\n",
        "    if number % n == 0:\r\n",
        "      break\r\n",
        "\r\n",
        "    else:\r\n",
        "      # print(number, end=' ')\r\n",
        "      primeCount += 1\r\n",
        "      \r\n",
        "print('1~100사이의 소수의 개수는', primeCount)"
      ],
      "execution_count": 13,
      "outputs": [
        {
          "output_type": "stream",
          "text": [
            "1~100사이의 소수의 개수는 533\n"
          ],
          "name": "stdout"
        }
      ]
    }
  ]
}