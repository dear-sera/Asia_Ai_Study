{
  "nbformat": 4,
  "nbformat_minor": 0,
  "metadata": {
    "colab": {
      "name": "python_day3.ipynb",
      "provenance": [],
      "collapsed_sections": [],
      "authorship_tag": "ABX9TyPFE3VE69m+6OOcggr+bQi6",
      "include_colab_link": true
    },
    "kernelspec": {
      "name": "python3",
      "display_name": "Python 3"
    }
  },
  "cells": [
    {
      "cell_type": "markdown",
      "metadata": {
        "id": "view-in-github",
        "colab_type": "text"
      },
      "source": [
        "<a href=\"https://colab.research.google.com/github/sera0911/asia-ai-study/blob/main/python_day3.ipynb\" target=\"_parent\"><img src=\"https://colab.research.google.com/assets/colab-badge.svg\" alt=\"Open In Colab\"/></a>"
      ]
    },
    {
      "cell_type": "markdown",
      "metadata": {
        "id": "C0eNGhmywfQu"
      },
      "source": [
        "day2 정리  \r\n",
        "실수형 데이터를 처리하려면  (ex 변수 = 3.14)       \r\n",
        "float 클래스로부터 type메타클래스가 객체를 생성, 메모리 할당, 할당된 메모리에 3.14를 저장(객체는 할당된 메모리에 주소값을 참조하게 됨)    \r\n",
        "실수형 데이터 표현 형식 IEEE     \r\n",
        "EX0 6억3400만 6.3e18   \r\n",
        "논리 데이터를 자료형 클래스 - bool()   \r\n",
        "bool클래스로부터 True, False 상수 인스턴스(객체)를 생성    \r\n",
        "\r\n",
        "\r\n",
        "정수, 실수, 문자열등의 아무 타입을 아님을 의미하는 상수 인스턴스(객체)는 None    \r\n",
        "파이썬에서 기능을 정의할 때 def 함수이름(): ~로 정의되는 함수에서 return으로 반환되는 값이 없는 경우 None을 반환 생성    \r\n",
        "\r\n",
        "\r\n",
        "bool타입과 정수타입 호환됨   \r\n",
        "bool('') F    \r\n",
        "bool(' ') T    \r\n",
        "bool(None) F    \r\n",
        "bool([]) F #[]는 요소가 하나도 없는 리스트    \r\n",
        "bool(()) F  #empty tuple    \r\n",
        "bool({}) F #[] empty dict    \r\n",
        "\r\n",
        "\r\n",
        "문자열 데이터 str클래스로부터 인스턴스(객체) 생성하고       \r\n",
        "내장함수 len() - 문자열, 리스트,튜플, 딕셔너리의 경우-데이타 요소 개수 반환 (네 가지 다 집합형)   \r\n",
        "문자열 인스턴스.replace(),count(), find(), rfind(), strip(), split(), join(), isdigit(), ...등등     \r\n",
        " \r\n",
        "\r\n",
        "복소수 데이터 처리 기능 - complex, real, imag, j,...    \r\n",
        "\r\n",
        "\r\n",
        "[연산자]   \r\n",
        "단항연산자(연산자에 대해 피연산자가 한개)      \r\n",
        "이항연산자(연산자에 대해 피연산자가 두개)   \r\n",
        "삼항연산자(연산자에 대해 피연산자가 세개)   \r\n",
        "\r\n",
        "산술연산자: +, -, *, /  (몫을 실수로 반환), %, //(몫을 정수로 반환)    \r\n",
        "비교연산자 : 결과는 항상 bool(논리)값, ==,!=, >,  >=, <, <=   \r\n",
        "비트연산자: &, |, ^, <<, >>\r\n",
        "a = 5 는 메모리에 32bit로 저장할 경우 000000~~101(맨앞은 사인비트 양수0 음수1)    \r\n",
        "b = 3  000000~~011    \r\n",
        "000000~~101 & 000000~~011   = 0000~~0001    \r\n",
        "000000~~101 | 000000~~011   = 0000~~0111    \r\n",
        "000000~~101 ^ 000000~~011   = 0000~~0110    \r\n",
        "opd1 << op2 (left shift) 는 opd1의 bit를 왼쪽으로 op2 만큰 이동   \r\n",
        "결과는 opd1*2**opd2   \r\n",
        "a<<5 == a * 2 ** 5    \r\n",
        "256>>5 == 256/2**5    \r\n",
        "\r\n",
        "할당연산자: (축약 연산자) +=, -=, /=,...     \r\n",
        "논리연산자: 조건 연산자 조건 연산자 조건... 형태로 사용함     \r\n",
        "            and, or, not    \r\n",
        "\r\n",
        "\r\n",
        "조건에 따라서 데이터 처리를 다르게 해야 할 경우    \r\n",
        "단일if문 조건이 참이면 아래 명령실행 참이 아닐경우 실행안함   \r\n",
        "if 조건 :         \r\n",
        "  명령1    \r\n",
        "  명령2   \r\n",
        "\r\n",
        "if 조건 :   \r\n",
        "  명령1   \r\n",
        "  명령2   \r\n",
        "else:    \r\n",
        "  명령3    \r\n",
        "  명령4    \r\n",
        "\r\n",
        "여러 조건일 때는 다중 조건문 또는 nested 조건문을 활용     \r\n",
        "if 조건1:    \r\n",
        "  명령1    \r\n",
        "  명령2    \r\n",
        "elif 조건2:   \r\n",
        "  명령3   \r\n",
        "  명령4   \r\n",
        "elif 조건3:    \r\n",
        "  명령5   \r\n",
        "  명령6      \r\n",
        "....\r\n",
        "else:  (else는 선택적사용    \r\n",
        " 명령n-1    \r\n",
        " 명령n    \r\n",
        "\r\n",
        "nested if는 조건 안에 조건이 들어가는 것   \r\n",
        "if 조건1 :    \r\n",
        "  if 조건2 :    \r\n",
        "    명령1    \r\n",
        "    명령2    \r\n",
        "  else :     \r\n",
        "    명령3    \r\n",
        "    명령4    \r\n",
        "else:  \r\n",
        " 명령n-1    \r\n",
        " 명령n   \r\n",
        "\r\n",
        "\r\n",
        "for반복문 - 반복 횟수를 알고 있을 때    \r\n",
        "while반복문 - 반복 수행 조건을 알고 있을 때(선 조건체크 후 수행)    \r\n",
        "do ~ while반복문 - 선 수행, 후 조건 체크를 수행하고 반복을 결정     \r\n",
        "\r\n",
        "for 초기화식 : 조건식 ; 증감식 {}  \r\n",
        "for i = 0 ; 1:10, i ++ {} (for문 안에서 사용할 변수를 초기화함) 타언어는 이렇게 사용   \r\n",
        "\r\n",
        "for 변수 in range객체, 문자열객체, 집합 자료형:   \r\n",
        "  명령1   \r\n",
        "  명령2    \r\n",
        "\r\n",
        "range(start, end, step) - start를 생략하면 0부터 시작, step을 생략하면 1씩 증가, 안에 인수는 무조건 들어가야 함   \r\n",
        "숫자가 안들어간다면   \r\n",
        "for 변수 in len(문자열객체 또는 집합 자료형 객체):   \r\n",
        "  명령   \r\n",
        "이렇게 코드수행   \r\n",
        "\r\n",
        "\r\n",
        "조건문 내부에 조건문 사용 가능   \r\n",
        "조건문 내부에 반복문 사용 가능   \r\n",
        "반복문 내부에 조건문 사용 가능   \r\n",
        "반복문 내부에 반복문 사용 가능   \r\n",
        "\r\n"
      ]
    },
    {
      "cell_type": "code",
      "metadata": {
        "colab": {
          "base_uri": "https://localhost:8080/"
        },
        "id": "988i5wI6wLmi",
        "outputId": "6bbd5b33-2ae1-478b-ee03-00bbf95e5a65"
      },
      "source": [
        "for i in 'abcdefg':\r\n",
        "  print(i, end=' ')"
      ],
      "execution_count": 2,
      "outputs": [
        {
          "output_type": "stream",
          "text": [
            "a b c d e f g "
          ],
          "name": "stdout"
        }
      ]
    },
    {
      "cell_type": "code",
      "metadata": {
        "colab": {
          "base_uri": "https://localhost:8080/"
        },
        "id": "XEkeoYQy9KRu",
        "outputId": "22cdf7a5-23f8-43b9-8f76-92f9f0cfac53"
      },
      "source": [
        "for i in ['americano', 'latte', 'frappucino']:\r\n",
        "  print(i)"
      ],
      "execution_count": 5,
      "outputs": [
        {
          "output_type": "stream",
          "text": [
            "americano\n",
            "latte\n",
            "frappucino\n"
          ],
          "name": "stdout"
        }
      ]
    },
    {
      "cell_type": "code",
      "metadata": {
        "colab": {
          "base_uri": "https://localhost:8080/"
        },
        "id": "5ZaQJOVYAKW7",
        "outputId": "14e407da-bf16-49df-e132-8c6b4186fc11"
      },
      "source": [
        "i = 1\r\n",
        "while i < 10:\r\n",
        "  print(i)\r\n",
        "  i += 1"
      ],
      "execution_count": 7,
      "outputs": [
        {
          "output_type": "stream",
          "text": [
            "1\n",
            "2\n",
            "3\n",
            "4\n",
            "5\n",
            "6\n",
            "7\n",
            "8\n",
            "9\n"
          ],
          "name": "stdout"
        }
      ]
    },
    {
      "cell_type": "code",
      "metadata": {
        "colab": {
          "base_uri": "https://localhost:8080/"
        },
        "id": "t-whVMYmAa4t",
        "outputId": "1e113d28-213b-4444-ea4f-6915f55a3362"
      },
      "source": [
        "#lab1 while을 이용하여 1~10까지의 누적합 출력\r\n",
        "i = 1\r\n",
        "sum = 0\r\n",
        "while i <= 10:\r\n",
        "  sum = sum + i\r\n",
        "  i = i + 1\r\n",
        "print(sum)"
      ],
      "execution_count": 29,
      "outputs": [
        {
          "output_type": "stream",
          "text": [
            "-55\n"
          ],
          "name": "stdout"
        }
      ]
    },
    {
      "cell_type": "code",
      "metadata": {
        "colab": {
          "base_uri": "https://localhost:8080/"
        },
        "id": "8gszu3CaBcqr",
        "outputId": "2e7abf39-32f5-4326-8fcc-4075e6e4f369"
      },
      "source": [
        "#lab2 while문을 이용해서 1~10까지의 홀수를 역순으로 출력\r\n",
        "i = 10\r\n",
        "while i >0:\r\n",
        "  if i % 2 ==1:\r\n",
        "    print(i)\r\n",
        "  i -= 1"
      ],
      "execution_count": 102,
      "outputs": [
        {
          "output_type": "stream",
          "text": [
            "9\n",
            "7\n",
            "5\n",
            "3\n",
            "1\n"
          ],
          "name": "stdout"
        }
      ]
    },
    {
      "cell_type": "code",
      "metadata": {
        "colab": {
          "base_uri": "https://localhost:8080/"
        },
        "id": "EdbooeDFCaZa",
        "outputId": "8cb32fa3-e164-40c6-b58b-7a518dd7ede8"
      },
      "source": [
        "for i in range(10):\r\n",
        "  if i ==5: break\r\n",
        "  print(i)\r\n",
        "print('end fo program')"
      ],
      "execution_count": 24,
      "outputs": [
        {
          "output_type": "stream",
          "text": [
            "0\n",
            "1\n",
            "2\n",
            "3\n",
            "4\n",
            "end fo program\n"
          ],
          "name": "stdout"
        }
      ]
    },
    {
      "cell_type": "code",
      "metadata": {
        "colab": {
          "base_uri": "https://localhost:8080/"
        },
        "id": "SOYrvIlDC86O",
        "outputId": "6718b19b-f4a1-4c32-f7f6-eaf0a1c3ecb2"
      },
      "source": [
        "for i in range(10):\r\n",
        "  if i ==5: continue\r\n",
        "  print(i)\r\n",
        "print('end fo program')"
      ],
      "execution_count": 25,
      "outputs": [
        {
          "output_type": "stream",
          "text": [
            "0\n",
            "1\n",
            "2\n",
            "3\n",
            "4\n",
            "6\n",
            "7\n",
            "8\n",
            "9\n",
            "end fo program\n"
          ],
          "name": "stdout"
        }
      ]
    },
    {
      "cell_type": "code",
      "metadata": {
        "colab": {
          "base_uri": "https://localhost:8080/"
        },
        "id": "AxtjR6_hD_aa",
        "outputId": "08465b27-dfd9-4767-8c4c-6847503bbb57"
      },
      "source": [
        "for i in range(10):\r\n",
        "  print(i)\r\n",
        "else :\r\n",
        "  print('end fo program')"
      ],
      "execution_count": 27,
      "outputs": [
        {
          "output_type": "stream",
          "text": [
            "0\n",
            "1\n",
            "2\n",
            "3\n",
            "4\n",
            "5\n",
            "6\n",
            "7\n",
            "8\n",
            "9\n",
            "end fo program\n"
          ],
          "name": "stdout"
        }
      ]
    },
    {
      "cell_type": "code",
      "metadata": {
        "colab": {
          "base_uri": "https://localhost:8080/"
        },
        "id": "be7p7_INEKSl",
        "outputId": "593c579f-1d16-499d-f4dc-fe60a3855d11"
      },
      "source": [
        "for i in range(10):\r\n",
        "  if i ==5: \r\n",
        "    continue\r\n",
        "  print(i)\r\n",
        "else: \r\n",
        "  print('end fo program')"
      ],
      "execution_count": 28,
      "outputs": [
        {
          "output_type": "stream",
          "text": [
            "0\n",
            "1\n",
            "2\n",
            "3\n",
            "4\n",
            "6\n",
            "7\n",
            "8\n",
            "9\n",
            "end fo program\n"
          ],
          "name": "stdout"
        }
      ]
    },
    {
      "cell_type": "code",
      "metadata": {
        "colab": {
          "base_uri": "https://localhost:8080/"
        },
        "id": "fkyoYgZpFWN9",
        "outputId": "81ba9d3d-eb6e-4de2-8ad1-3763750dda9b"
      },
      "source": [
        "#lab 2중 반복문을 이용해서 2차원 구조로 출력, 데이터 처리 가능\r\n",
        "for row in range(5): # 행 반복   \r\n",
        "  for col in range(5):  #열 반복\r\n",
        "    print('*', end=' ')\r\n",
        "  print()"
      ],
      "execution_count": 39,
      "outputs": [
        {
          "output_type": "stream",
          "text": [
            "* * * * * \n",
            "* * * * * \n",
            "* * * * * \n",
            "* * * * * \n",
            "* * * * * \n"
          ],
          "name": "stdout"
        }
      ]
    },
    {
      "cell_type": "code",
      "metadata": {
        "colab": {
          "base_uri": "https://localhost:8080/"
        },
        "id": "f_UkRzqLGFx1",
        "outputId": "0e5fecbe-825b-4157-8373-7e8677d43fb5"
      },
      "source": [
        "#lab3\r\n",
        "for row in range(5): # 행 반복   \r\n",
        "  for col in range(row+1):  #열 반복\r\n",
        "    print('*', end=' ')\r\n",
        "  print()"
      ],
      "execution_count": 76,
      "outputs": [
        {
          "output_type": "stream",
          "text": [
            "* \n",
            "* * \n",
            "* * * \n",
            "* * * * \n",
            "* * * * * \n"
          ],
          "name": "stdout"
        }
      ]
    },
    {
      "cell_type": "code",
      "metadata": {
        "colab": {
          "base_uri": "https://localhost:8080/"
        },
        "id": "emIsq3vyGofw",
        "outputId": "a788350f-f23f-41a9-de46-410a2f584297"
      },
      "source": [
        "#lab4\r\n",
        "i = 5\r\n",
        "for row in range(5): # 행 반복   \r\n",
        "  for col in range(1):  #열 반복\r\n",
        "    print('*'*i, end=' ')\r\n",
        "    i -= 1\r\n",
        "  print()"
      ],
      "execution_count": 49,
      "outputs": [
        {
          "output_type": "stream",
          "text": [
            "***** \n",
            "**** \n",
            "*** \n",
            "** \n",
            "* \n"
          ],
          "name": "stdout"
        }
      ]
    },
    {
      "cell_type": "code",
      "metadata": {
        "colab": {
          "base_uri": "https://localhost:8080/"
        },
        "id": "FL9f9DxHHIN7",
        "outputId": "08384737-724e-4572-a2f3-ef2b1053c84c"
      },
      "source": [
        "#lab4\r\n",
        "for row in range(5, 0, -1): # 행 반복   \r\n",
        "  for col in range(row):  #열 반복\r\n",
        "    print('*', end=' ')\r\n",
        "  print()"
      ],
      "execution_count": 69,
      "outputs": [
        {
          "output_type": "stream",
          "text": [
            "* * * * * \n",
            "* * * * \n",
            "* * * \n",
            "* * \n",
            "* \n"
          ],
          "name": "stdout"
        }
      ]
    },
    {
      "cell_type": "code",
      "metadata": {
        "colab": {
          "base_uri": "https://localhost:8080/"
        },
        "id": "NKXVKuy-JvJi",
        "outputId": "fcf5013e-d759-4181-c5de-c3001aa7b79f"
      },
      "source": [
        "#lab5\r\n",
        "for row in range(5):\r\n",
        "    for lcol in range(row):\r\n",
        "        print(\"  \", end=\"\")\r\n",
        "    for rcol in range(5-row):\r\n",
        "        print(\"* \", end=\"\")\r\n",
        "    print()\r\n"
      ],
      "execution_count": 71,
      "outputs": [
        {
          "output_type": "stream",
          "text": [
            "* * * * * \n",
            "  * * * * \n",
            "    * * * \n",
            "      * * \n",
            "        * \n"
          ],
          "name": "stdout"
        }
      ]
    },
    {
      "cell_type": "code",
      "metadata": {
        "colab": {
          "base_uri": "https://localhost:8080/"
        },
        "id": "l8dypND5JWw5",
        "outputId": "dc2a972d-bf27-49cd-e1f1-05d9cedc799d"
      },
      "source": [
        "#lab5\r\n",
        "for row in range(5):\r\n",
        "    for lcol in range(row):\r\n",
        "        print(\"  \", end=\"\")\r\n",
        "    for rcol in range(5-row):\r\n",
        "        print(\"* \", end=\"\")\r\n",
        "    print()\r\n"
      ],
      "execution_count": 79,
      "outputs": [
        {
          "output_type": "stream",
          "text": [
            "* * * * * \n",
            "  * * * * \n",
            "    * * * \n",
            "      * * \n",
            "        * \n"
          ],
          "name": "stdout"
        }
      ]
    },
    {
      "cell_type": "code",
      "metadata": {
        "colab": {
          "base_uri": "https://localhost:8080/"
        },
        "id": "heZzTsoBKp2z",
        "outputId": "eeac51db-99d7-4eca-e8a8-78eda8acda8c"
      },
      "source": [
        "#lab6\r\n",
        "for row in range(5):\r\n",
        "    for col in range(5, row, -1):\r\n",
        "        print(\" \", end=\" \")\r\n",
        "    for col in range(row+1):\r\n",
        "        print(\"*\", end=' ')\r\n",
        "    print()\r\n"
      ],
      "execution_count": 105,
      "outputs": [
        {
          "output_type": "stream",
          "text": [
            "          * \n",
            "        * * \n",
            "      * * * \n",
            "    * * * * \n",
            "  * * * * * \n"
          ],
          "name": "stdout"
        }
      ]
    },
    {
      "cell_type": "code",
      "metadata": {
        "colab": {
          "base_uri": "https://localhost:8080/"
        },
        "id": "8PGFlgIQOeMq",
        "outputId": "82fd6d83-5fd8-4964-86b3-ff5f152cf769"
      },
      "source": [
        "for row in range(3):\r\n",
        "  for col in range(3):\r\n",
        "    print('row=', row, 'col=', col)\r\n",
        "  print()"
      ],
      "execution_count": 111,
      "outputs": [
        {
          "output_type": "stream",
          "text": [
            "row= 0 col= 0\n",
            "row= 0 col= 1\n",
            "row= 0 col= 2\n",
            "\n",
            "row= 1 col= 0\n",
            "row= 1 col= 1\n",
            "row= 1 col= 2\n",
            "\n",
            "row= 2 col= 0\n",
            "row= 2 col= 1\n",
            "row= 2 col= 2\n",
            "\n"
          ],
          "name": "stdout"
        }
      ]
    },
    {
      "cell_type": "code",
      "metadata": {
        "colab": {
          "base_uri": "https://localhost:8080/"
        },
        "id": "Lr0VMBqXPU1f",
        "outputId": "0a206625-878a-411e-9274-33326553bf00"
      },
      "source": [
        "for row in range(3):\r\n",
        "  for col in range(3):\r\n",
        "    if(col==1) : continue\r\n",
        "    print('row=', row, 'col=', col)\r\n",
        "  print()"
      ],
      "execution_count": 112,
      "outputs": [
        {
          "output_type": "stream",
          "text": [
            "row= 0 col= 0\n",
            "row= 0 col= 2\n",
            "\n",
            "row= 1 col= 0\n",
            "row= 1 col= 2\n",
            "\n",
            "row= 2 col= 0\n",
            "row= 2 col= 2\n",
            "\n"
          ],
          "name": "stdout"
        }
      ]
    },
    {
      "cell_type": "code",
      "metadata": {
        "colab": {
          "base_uri": "https://localhost:8080/"
        },
        "id": "STZDIcLXPY0G",
        "outputId": "bc0e60ee-e305-42eb-e992-dffe6272d1c3"
      },
      "source": [
        "for row in range(3):\r\n",
        "  for col in range(3):\r\n",
        "    if(col==1) : break\r\n",
        "    print('row=', row, 'col=', col)\r\n",
        "  print()"
      ],
      "execution_count": 113,
      "outputs": [
        {
          "output_type": "stream",
          "text": [
            "row= 0 col= 0\n",
            "\n",
            "row= 1 col= 0\n",
            "\n",
            "row= 2 col= 0\n",
            "\n"
          ],
          "name": "stdout"
        }
      ]
    },
    {
      "cell_type": "code",
      "metadata": {
        "colab": {
          "base_uri": "https://localhost:8080/"
        },
        "id": "jfAdXt6XN36p",
        "outputId": "7af6df39-8dc8-471b-cd4f-1b2082f50d0e"
      },
      "source": [
        "pro = int(input('구구단 몇 단을 계산할까?'))\r\n",
        "print('구구단', pro, '을 계산한다')\r\n",
        "i = 1\r\n",
        "\r\n",
        "for gugu in range(10):\r\n",
        "  i += 1\r\n",
        "  print(pro,' x ', i, '=', pro * i)"
      ],
      "execution_count": 130,
      "outputs": [
        {
          "output_type": "stream",
          "text": [
            "구구단 몇 단을 계산할까?6\n",
            "구구단 6 을 계산한다\n",
            "6  x  2 = 12\n",
            "6  x  3 = 18\n",
            "6  x  4 = 24\n",
            "6  x  5 = 30\n",
            "6  x  6 = 36\n",
            "6  x  7 = 42\n",
            "6  x  8 = 48\n",
            "6  x  9 = 54\n",
            "6  x  10 = 60\n",
            "6  x  11 = 66\n"
          ],
          "name": "stdout"
        }
      ]
    },
    {
      "cell_type": "code",
      "metadata": {
        "colab": {
          "base_uri": "https://localhost:8080/"
        },
        "id": "SPNUJXnARvZD",
        "outputId": "b5d608c0-894c-435f-c85d-7ebe1b4fbe55"
      },
      "source": [
        "for row in range(1, 10):\r\n",
        "    for col in range(2, 10):\r\n",
        "        print(\"%d x %d = %d\" % (col, row, row*col), end=\"\\t\")\r\n",
        "    print()\r\n"
      ],
      "execution_count": 131,
      "outputs": [
        {
          "output_type": "stream",
          "text": [
            "2 x 1 = 2\t3 x 1 = 3\t4 x 1 = 4\t5 x 1 = 5\t6 x 1 = 6\t7 x 1 = 7\t8 x 1 = 8\t9 x 1 = 9\t\n",
            "2 x 2 = 4\t3 x 2 = 6\t4 x 2 = 8\t5 x 2 = 10\t6 x 2 = 12\t7 x 2 = 14\t8 x 2 = 16\t9 x 2 = 18\t\n",
            "2 x 3 = 6\t3 x 3 = 9\t4 x 3 = 12\t5 x 3 = 15\t6 x 3 = 18\t7 x 3 = 21\t8 x 3 = 24\t9 x 3 = 27\t\n",
            "2 x 4 = 8\t3 x 4 = 12\t4 x 4 = 16\t5 x 4 = 20\t6 x 4 = 24\t7 x 4 = 28\t8 x 4 = 32\t9 x 4 = 36\t\n",
            "2 x 5 = 10\t3 x 5 = 15\t4 x 5 = 20\t5 x 5 = 25\t6 x 5 = 30\t7 x 5 = 35\t8 x 5 = 40\t9 x 5 = 45\t\n",
            "2 x 6 = 12\t3 x 6 = 18\t4 x 6 = 24\t5 x 6 = 30\t6 x 6 = 36\t7 x 6 = 42\t8 x 6 = 48\t9 x 6 = 54\t\n",
            "2 x 7 = 14\t3 x 7 = 21\t4 x 7 = 28\t5 x 7 = 35\t6 x 7 = 42\t7 x 7 = 49\t8 x 7 = 56\t9 x 7 = 63\t\n",
            "2 x 8 = 16\t3 x 8 = 24\t4 x 8 = 32\t5 x 8 = 40\t6 x 8 = 48\t7 x 8 = 56\t8 x 8 = 64\t9 x 8 = 72\t\n",
            "2 x 9 = 18\t3 x 9 = 27\t4 x 9 = 36\t5 x 9 = 45\t6 x 9 = 54\t7 x 9 = 63\t8 x 9 = 72\t9 x 9 = 81\t\n"
          ],
          "name": "stdout"
        }
      ]
    },
    {
      "cell_type": "markdown",
      "metadata": {
        "id": "zSVxSEaFSJI0"
      },
      "source": [
        "standalone application - 서버 없이 홀로 실행되는 프로그램(어플리케이션)   \r\n",
        "server/client application (CS) - server는 24시간 무정지 상태로 서비스를 수행해야 하므로 서비스는 대기 상태를 유지해야 한다    \r\n",
        "무한루프를 이용tandalone application - 서버 없이 홀로 실행되는 프로그램(어플리케이션)   \r\n",
        "server/client application (CS) - server는 24시간 무정지 상태로 서비스를 수행해야 하므로 서비스는 대기 상태를 유지해야 한다    \r\n",
        "tandalone application - 서버 없이 홀로 실행되는 프로그램(어플리케이션)   \r\n",
        "server/client application (CS) - server는 24시간 무정지 상태로 서비스를 수행해야 하므로 서비스는 대기 상태를 유지해야 한다    \r\n",
        "무한루프를 이용해야한다. (exit 조건은 반드시 포함해야 한다.)    \r\n",
        "while True:     #무한루프\r\n",
        "  pass   \r\n",
        "\r\n",
        "\r\n",
        "while 1: \r\n",
        "  pass"
      ]
    },
    {
      "cell_type": "code",
      "metadata": {
        "colab": {
          "base_uri": "https://localhost:8080/"
        },
        "id": "5LXHkexgTE0V",
        "outputId": "73e20be4-d4de-4181-9555-e3e7537a9cbe"
      },
      "source": [
        "a = 'i love you'\r\n",
        "for i in range(len(a)-1,-1,-1):\r\n",
        "    print(a[i], end=\"\")\r\n"
      ],
      "execution_count": 153,
      "outputs": [
        {
          "output_type": "stream",
          "text": [
            "uoy evol i"
          ],
          "name": "stdout"
        }
      ]
    },
    {
      "cell_type": "code",
      "metadata": {
        "colab": {
          "base_uri": "https://localhost:8080/"
        },
        "id": "6N3vHex2U6In",
        "outputId": "9ae62d28-5e0b-4da6-835f-8d4868ac14f7"
      },
      "source": [
        "a = int(input())\r\n",
        "b = ''\r\n",
        "while a:\r\n",
        " b += str(a % 2)\r\n",
        " a //=2\r\n",
        "print(b[::-1])\r\n"
      ],
      "execution_count": 161,
      "outputs": [
        {
          "output_type": "stream",
          "text": [
            "16\n",
            "10000\n"
          ],
          "name": "stdout"
        }
      ]
    },
    {
      "cell_type": "code",
      "metadata": {
        "colab": {
          "base_uri": "https://localhost:8080/"
        },
        "id": "jf3menBEWZs6",
        "outputId": "452e76b3-11ac-4055-8ae7-118979b84130"
      },
      "source": [
        "#lab9 : up down게임\r\n",
        "import random\r\n",
        "computer = random.randint(1, 100)\r\n",
        "#사용자로부터 입력받은 값을 비교 후 'up' 'down' 출력 수를 맞출때까지 반복 게임 수행\r\n",
        "#기회는 5번, 5번 내에 맞추면 'you winner', 못맞추면 'i am winner, you fail'출력\r\n",
        "\r\n",
        "i = 5\r\n",
        "while i>= 1:\r\n",
        "  num = int(input())\r\n",
        "  if num > computer:\r\n",
        "    print('up')\r\n",
        "    i -=1\r\n",
        "  elif num < computer:\r\n",
        "    print('down')\r\n",
        "    i -=1\r\n",
        "  else:\r\n",
        "    print('you winner')\r\n",
        "    break\r\n",
        "print('i am winner, you fail')\r\n"
      ],
      "execution_count": 178,
      "outputs": [
        {
          "output_type": "stream",
          "text": [
            "80\n",
            "up\n",
            "50\n",
            "down\n",
            "70\n",
            "up\n",
            "65\n",
            "up\n",
            "60\n",
            "up\n",
            "i am winner, you fail\n"
          ],
          "name": "stdout"
        }
      ]
    },
    {
      "cell_type": "markdown",
      "metadata": {
        "id": "iCNkOq1DXBFs"
      },
      "source": [
        "import random     \r\n",
        "print(random.randint(정수1, 정수2))    \r\n",
        "랜덤으로 정수1~정수2안에 숫자를 출력해줌\r\n"
      ]
    },
    {
      "cell_type": "code",
      "metadata": {
        "colab": {
          "base_uri": "https://localhost:8080/"
        },
        "id": "kjbAbs0VY8n4",
        "outputId": "5e1708d5-56cb-4f7a-996d-7bafe9cfdd12"
      },
      "source": [
        "import random\r\n",
        "a=random.randint(1,100)\r\n",
        "\r\n",
        "i=5\r\n",
        "while i >=1:\r\n",
        "    num = int(input(\"숫자를 맞춰 보세요.(1~100) :\"))\r\n",
        "    if num > a:\r\n",
        "        i-=1\r\n",
        "        print('Down. (%d회 남았습니다.)' %i) \r\n",
        "    elif num < a:\r\n",
        "        i-=1\r\n",
        "        print('Up. (%d회 남았습니다.)' %i)\r\n",
        "    else:\r\n",
        "        print(\"You Winner! 입력한 숫자는 %d입니다\" %num)\r\n",
        "        break\r\n",
        "print(\"I am Winner, You Fail 정답은 %d입니다.\" %a)\r\n",
        "1"
      ],
      "execution_count": 169,
      "outputs": [
        {
          "output_type": "stream",
          "text": [
            "숫자를 맞춰 보세요.(1~100) :50\n",
            "Up. (4회 남았습니다.)\n",
            "숫자를 맞춰 보세요.(1~100) :70\n",
            "Down. (3회 남았습니다.)\n",
            "숫자를 맞춰 보세요.(1~100) :60\n",
            "Down. (2회 남았습니다.)\n",
            "숫자를 맞춰 보세요.(1~100) :55\n",
            "Up. (1회 남았습니다.)\n",
            "숫자를 맞춰 보세요.(1~100) :57\n",
            "Up. (0회 남았습니다.)\n",
            "I am Winner, You Fail 정답은 58입니다.\n"
          ],
          "name": "stdout"
        },
        {
          "output_type": "execute_result",
          "data": {
            "text/plain": [
              "1"
            ]
          },
          "metadata": {
            "tags": []
          },
          "execution_count": 169
        }
      ]
    },
    {
      "cell_type": "code",
      "metadata": {
        "colab": {
          "base_uri": "https://localhost:8080/"
        },
        "id": "5CmDN2JyaoRk",
        "outputId": "26cd78a6-83bf-482d-f11f-1a70f842f223"
      },
      "source": [
        "import random\r\n",
        "print(\"숫자를 맞혀 보세요. 기회는 5번입니다. (1 ~ 100)\")\r\n",
        "answer = random.randint(1, 100)\r\n",
        "num = 0\r\n",
        "count = 0\r\n",
        "while num != answer and count != 5:\r\n",
        "    num = int(input())\r\n",
        "    if(num > answer):\r\n",
        "        print(\"숫자가 너무 큽니다.\")\r\n",
        "    elif(num < answer):\r\n",
        "        print(\"숫자가 너무 작습니다.\")\r\n",
        "    count += 1\r\n",
        "if count == 5:\r\n",
        "    print(\"I am Winner, You Fail. answer is %d\" % answer)\r\n",
        "elif num == answer:\r\n",
        "    print(\"You Winner\")\r\n"
      ],
      "execution_count": 171,
      "outputs": [
        {
          "output_type": "stream",
          "text": [
            "숫자를 맞혀 보세요. 기회는 5번입니다. (1 ~ 100)\n",
            "50\n",
            "숫자가 너무 큽니다.\n",
            "30\n",
            "숫자가 너무 큽니다.\n",
            "10\n",
            "숫자가 너무 작습니다.\n",
            "20\n",
            "You Winner\n"
          ],
          "name": "stdout"
        }
      ]
    },
    {
      "cell_type": "markdown",
      "metadata": {
        "id": "9kswyOuseRJ3"
      },
      "source": [
        "리스트의 개념   \r\n",
        "• 리스트(list): 하나의 변수에 여러 값을 할당하는 자료형이다.   \r\n",
        "• 파이썬에서는 리스트처럼 여러 데이터를 하나의 변수에 할당하는 기법을 시퀀스 자료형이라고 한다 시퀀스 자료형\r\n",
        "은 여러 자료를 순서대로 넣는다는 뜻이다.   \r\n",
        "• 리스트는 하나의 자료형으로만 저장하지 않고, 정수형이나 실수형 같은 다양한 자료형을 포함할 수 있다.    \r\n",
        "\r\n",
        "\r\n",
        "인덱싱과 슬라이싱 : 슬라이싱(slicing)    \r\n",
        "• 파이썬의 리스트에서 ‘마지막 인덱스 - 1’까지만 출력된다. 만약 한 번 이상 리스트 변수를 사용하면 마지막 인덱스가\r\n",
        "다음 리스트의 시작 인덱스가 되어 코드를 작성할 때 조금 더 쉽게 이해할 수 있다는 장점이 있다.\r\n",
        "\r\n",
        "\r\n",
        "인덱싱과 슬라이싱 : 리버스 인덱스(reverse index)    \r\n",
        "• 리스트에는 인덱스를 마지막 값부터 시작하는 리버스 인덱스 기능이 있다    \r\n",
        "• 일반적으로 시작 인덱스가 비어 있으면 처음부터, 마지막 인덱스가 비어 있으면 마지막까지라는 의미로 사용된다.    \r\n",
        " 즉,\r\n",
        "cities[-8:]은 인덱스가 -8인 ‘서울’부터 ‘수원’까지 출력하라는 뜻이다.      \r\n",
        "\r\n",
        "\r\n",
        "인덱싱과 슬라이싱 : 인덱스 범위를 넘어가는 슬라이싱    \r\n",
        "• 인덱스를 따로 넣지 않고 print(cities[:])과 같이 콜론(:)을 넣으면 cities 변수의 모든 값을 다 반환한다.    \r\n",
        "• 슬라이싱에서는 인덱스를 넘어서거나 입력하지 않더라도 자동으로 시작 인덱스와 마지막 인덱스로 지정된다    \r\n",
        "\r\n",
        "\r\n",
        "인덱싱과 슬라이싱 : 증가값(step)    \r\n",
        "• 슬라이싱에서는 시작 인덱스와 마지막 인덱스 외에 마지막 자리에 증가값을 넣을 수 있다.    \r\n",
        "• 증가값은 한 번에 건너뛰는 값의 개수이다    "
      ]
    },
    {
      "cell_type": "markdown",
      "metadata": {
        "id": "OajxJyxhe5K5"
      },
      "source": [
        "리스트의 연산   \r\n",
        "• 덧셈 연산 : 덧셈 연산을 하더라도 따로 어딘가 변수에 할당해 주지 않으면 기존 변수는 변화가 없다   \r\n",
        "리스트 + 리스트로 연산   \r\n",
        "\r\n",
        "\r\n",
        "리스트의 연산   \r\n",
        "• 곱셈 연산 : 리스트의 곱셈 연산은 기준 리스트에 n을 곱했을 때, 같은 리스트를 n배만큼 늘려 준다.   \r\n",
        "• in 연산 : 포함 여부를 확인하는 연산으로, 하나의 값이 해당 리스트에 들어 있는지 확인할 수 있다."
      ]
    },
    {
      "cell_type": "markdown",
      "metadata": {
        "id": "f0MKlgDefmFT"
      },
      "source": [
        "list 자료형 - 데이터 요소 변경 가능    \r\n",
        "tuple 자료형 - 읽기 전용 list이므로, 데이터 요소를 변경 불가능   \r\n",
        "그래서 list가 변경은 가능하지만 변경을 할수록 내부에 변화가 많아 시간이 오래걸림, 시간은 tuple이 빠름ist 자료형 - 데이터 요소 변경 가능    \r\n",
        "tuple 자료형 - 읽기 전용 list이므로, 데이터 요소를 변경 불가능   \r\n",
        "ist 자료형 - 데이터 요소 변경 가능    \r\n",
        "tuple 자료형 - 읽기 전용 list이므로, 데이터 요소를 변경 불가능   \r\n",
        "그래서 list가 변경은 가능하지만 변경을 할수록 내부에 변화가 많아 시간이 오래걸림, 시간은 tuple이 빠름"
      ]
    },
    {
      "cell_type": "markdown",
      "metadata": {
        "id": "f1kCBYWgglB5"
      },
      "source": [
        "리스트 추가 및 삭제   \r\n",
        "• append( ) 함수 : 새로운 값을 기존 리스트의 맨 끝에 추가   \r\n",
        "• extend( ) 함수 : 새로운 리스트를 기존 리스트에 추가     \r\n",
        "• insert( ) 함수 : 기존 리스트의 i번째 인덱스에 새로운 값을 추가, i번째 인덱스를 기준으로 뒤쪽의 인덱스가 하나씩 밀림. ex)color.insert(0, 'green') = 0번째 인덱스에 green을 넣는다스트 추가 및 삭제   \r\n",
        "• append( ) 함수 : 새로운 값을 기존 리스트의 맨 끝에 추가   \r\n",
        "• extend( ) 함수 : 새로운 리스트를 기존 리스트에 추가     \r\n",
        "스트 추가 및 삭제   \r\n",
        "• append( ) 함수 : 새로운 값을 기존 리스트의 맨 끝에 추가   \r\n",
        "• extend( ) 함수 : 새로운 리스트를 기존 리스트에 추가     \r\n",
        "• insert( ) 함수 : 기존 리스트의 i번째 인덱스에 새로운 값을 추가, i번째 인덱스를 기준으로 뒤쪽의 인덱스가 하나씩 밀림. ex)color.insert(0, 'green') = 0번째 인덱스에 green을 넣는다   \r\n",
        "• remove( ) 함수 : 리스트 내의 특정 값을 삭제.  \r\n",
        "• 인덱스의 재할당 : 인덱스에 새로운 값을 할당한다.   \r\n",
        "• 인덱스 삭제 : del 함수를 사용한다.   \r\n",
        "[ 리스트 추가 및 삭제 함수 ]   \r\n",
        "index()위치값, sort() 오름차순 정렬, pop() 맨 마지막요소 출력, reverse() 역순으로 출력, count()값의 개수, clear(), len(), copy() 복제, sorted()"
      ]
    },
    {
      "cell_type": "code",
      "metadata": {
        "colab": {
          "base_uri": "https://localhost:8080/",
          "height": 205
        },
        "id": "OFbyOeDfheSB",
        "outputId": "43851fbd-2d7d-4368-fb6b-7de197e584ca"
      },
      "source": [
        "#list에 없는 데이터 요소를 remove()로 삭제 가능한지\r\n",
        "color = ['red', 'green']\r\n",
        "color.remove('blue')"
      ],
      "execution_count": 179,
      "outputs": [
        {
          "output_type": "error",
          "ename": "ValueError",
          "evalue": "ignored",
          "traceback": [
            "\u001b[0;31m---------------------------------------------------------------------------\u001b[0m",
            "\u001b[0;31mValueError\u001b[0m                                Traceback (most recent call last)",
            "\u001b[0;32m<ipython-input-179-52b464ef5a78>\u001b[0m in \u001b[0;36m<module>\u001b[0;34m()\u001b[0m\n\u001b[1;32m      1\u001b[0m \u001b[0;31m#list에 없는 데이터 요소를 remove()로 삭제 가능한지\u001b[0m\u001b[0;34m\u001b[0m\u001b[0;34m\u001b[0m\u001b[0;34m\u001b[0m\u001b[0m\n\u001b[1;32m      2\u001b[0m \u001b[0mcolor\u001b[0m \u001b[0;34m=\u001b[0m \u001b[0;34m[\u001b[0m\u001b[0;34m'red'\u001b[0m\u001b[0;34m,\u001b[0m \u001b[0;34m'green'\u001b[0m\u001b[0;34m]\u001b[0m\u001b[0;34m\u001b[0m\u001b[0;34m\u001b[0m\u001b[0m\n\u001b[0;32m----> 3\u001b[0;31m \u001b[0mcolor\u001b[0m\u001b[0;34m.\u001b[0m\u001b[0mremove\u001b[0m\u001b[0;34m(\u001b[0m\u001b[0;34m'blue'\u001b[0m\u001b[0;34m)\u001b[0m\u001b[0;34m\u001b[0m\u001b[0;34m\u001b[0m\u001b[0m\n\u001b[0m",
            "\u001b[0;31mValueError\u001b[0m: list.remove(x): x not in list"
          ]
        }
      ]
    },
    {
      "cell_type": "markdown",
      "metadata": {
        "id": "4Jmiv0aChvGc"
      },
      "source": [
        "value Error가 뜸"
      ]
    },
    {
      "cell_type": "code",
      "metadata": {
        "colab": {
          "base_uri": "https://localhost:8080/"
        },
        "id": "wqZxTYa6iCM8",
        "outputId": "28e1259b-2665-4be3-870e-50fac8bf296c"
      },
      "source": [
        "#list에 'blue' 데이터 저장되어 있는데, 중복 저장가능? (append, insert)\r\n",
        "color = ['red', 'green']\r\n",
        "color.append('blue')\r\n",
        "color.append('blue')\r\n",
        "color   #가능"
      ],
      "execution_count": 182,
      "outputs": [
        {
          "output_type": "execute_result",
          "data": {
            "text/plain": [
              "['red', 'green', 'blue', 'blue']"
            ]
          },
          "metadata": {
            "tags": []
          },
          "execution_count": 182
        }
      ]
    },
    {
      "cell_type": "code",
      "metadata": {
        "colab": {
          "base_uri": "https://localhost:8080/"
        },
        "id": "j2ei2i9GiUk0",
        "outputId": "de4375fe-a304-4d53-bf35-0e0af95be032"
      },
      "source": [
        "#list에 두 개의 blue가 있다면 remove시 다 지워지는지 하나만 지워지는지\r\n",
        "color \r\n",
        "color.remove('blue')\r\n",
        "color   #처음것만 지워짐짐"
      ],
      "execution_count": 185,
      "outputs": [
        {
          "output_type": "execute_result",
          "data": {
            "text/plain": [
              "['red', 'green', 'blue']"
            ]
          },
          "metadata": {
            "tags": []
          },
          "execution_count": 185
        }
      ]
    },
    {
      "cell_type": "markdown",
      "metadata": {
        "id": "PpZHRRJbj5Cj"
      },
      "source": [
        "패킹과 언패킹   \r\n",
        "• 패킹(packing) : 한 변수에 여러 개의 데이터를 할당하는 것.   \r\n",
        "• 언패킹(unpacking) : 한 변수의 데이터를 각각의 변수로 반환하는 것.   \r\n",
        "언팩킹 할 때 각각 데이터마다 데이터 개수와 같게 변수의 개수를 넣어야 함   \r\n"
      ]
    },
    {
      "cell_type": "code",
      "metadata": {
        "colab": {
          "base_uri": "https://localhost:8080/"
        },
        "id": "-Nv71RMMkWxC",
        "outputId": "92b30856-ea8f-412c-a4f5-68f30324efe4"
      },
      "source": [
        "s = [1, 2, 3]   \r\n",
        "a, b, c = s     \r\n",
        "print(s, a, b, c)"
      ],
      "execution_count": 188,
      "outputs": [
        {
          "output_type": "stream",
          "text": [
            "[1, 2, 3] 1 2 3\n"
          ],
          "name": "stdout"
        }
      ]
    },
    {
      "cell_type": "markdown",
      "metadata": {
        "id": "e6mfVU3EkWOk"
      },
      "source": [
        "이차원 리스트    \r\n",
        "• 이차원 리스트를 하나의 변수로 표현하기 위해서는 다음과 같이 코드를 작성하면 된다    \r\n",
        "• 이차원 리스트에 인덱싱하여 값에 접근하기 위해서는 다음 코드와 같이 대괄호 2개를 사용한다."
      ]
    },
    {
      "cell_type": "markdown",
      "metadata": {
        "id": "KacEVBlS2QZ6"
      },
      "source": [
        "리스트의 메모리 저장   \r\n",
        "• 파이썬은 리스트를 저장할 때 값 자체가 아니라, 값이 위치한 메모리 주소(reference)를 저장한다.   \r\n",
        "• ==은 값을 비교하는 연산이고, is는 메모리의 주소를 비교하는 연산이다.    \r\n",
        "• 파이썬은 인터프리터가 구동될 때, -5부터 256까지의 정수값을 특정 메모리 주소에 저장한다. 그리고 해당 숫자를\r\n",
        "할당하려고 하면 해당 변수는 그 숫자가 가진 메모리 주소로 연결한다.    \r\n",
        "• 리스트는 기본적으로 값을 연속으로 저장하는 것이 아니라, 값이 있는 주소를 저장하는 방식이다.   \r\n",
        "2차원 리스트 구조는 1차원리스트 주소에서 2차원리스트를 그 구조에 있는 1차원_000xxx주소에 넣는 것   \r\n",
        "• 다양한 형태의 변수가 하나의 리스트에 들어갈 수 있다.   \r\n",
        "• 기존 변수들과 함께 리스트 안에 다른 리스트를 넣을 수 있다. (중첩 리스트)   \r\n",
        "• 파이썬의 리스트가 값이 아닌 메모리의 주소를 저장해 메모리에 새로운 값을 할당하는 데 있어 매우 높은 자유도를\r\n",
        "보장하므로 중첩 리스트가 가능하다."
      ]
    },
    {
      "cell_type": "markdown",
      "metadata": {
        "id": "1FclOZkX4hXy"
      },
      "source": [
        "얕은 복사 = 주소가 할당되어 동일한 객체를 참조   \r\n",
        "            원본객체가 변경되면 얕은 복사를 통해 생성된 객체도 변경된 데이터를 참조   \r\n",
        "깊은 복사 = 새로운 주소에 동일한 데이터요소를 가지는 객체가 생성되므로   \r\n",
        "            원본 객체가 변경되어도 깊은 복사를 통해 생성된 객체에 영향을 주지 않음"
      ]
    },
    {
      "cell_type": "code",
      "metadata": {
        "colab": {
          "base_uri": "https://localhost:8080/"
        },
        "id": "Kzrcq2Up_UCR",
        "outputId": "93e9b0e8-ae21-4c8b-d1f6-fa2387e05348"
      },
      "source": [
        "lst = [1, 2, 3, 4]\r\n",
        "\r\n",
        "lc = lst\r\n",
        "print(lc == lst)\r\n",
        "print(lc is lst)  # t 면 얕은 복사 = t\r\n",
        "print(id(lc), id(lst))"
      ],
      "execution_count": 204,
      "outputs": [
        {
          "output_type": "stream",
          "text": [
            "True\n",
            "True\n",
            "140221835422368 140221835422368\n"
          ],
          "name": "stdout"
        }
      ]
    },
    {
      "cell_type": "code",
      "metadata": {
        "colab": {
          "base_uri": "https://localhost:8080/"
        },
        "id": "-0W0Ldal5eJG",
        "outputId": "e21ccdf5-cb44-446f-c143-693be1a8175f"
      },
      "source": [
        "lst = [1, 2, 3, 4]\r\n",
        "\r\n",
        "lc = lst.copy()\r\n",
        "print(lc == lst)\r\n",
        "print(lc is lst)  # F 면 깊은 복사 = f\r\n",
        "print(id(lc), id(lst))\r\n",
        "\r\n",
        "lc.reverse()\r\n",
        "print(lc)\r\n",
        "print(lst)\r\n",
        "\r\n",
        "\r\n",
        "ld = list(lst)\r\n",
        "print(ld == lst)\r\n",
        "print(ld is lst)  #f 면 깊은 복사    = F\r\n",
        "print(id(ld), id(lst))\r\n",
        "ld.reverse()\r\n",
        "print(ld)\r\n",
        "print(lst)"
      ],
      "execution_count": 196,
      "outputs": [
        {
          "output_type": "stream",
          "text": [
            "True\n",
            "False\n",
            "140221835839200 140221835686688\n",
            "[4, 3, 2, 1]\n",
            "[1, 2, 3, 4]\n",
            "True\n",
            "False\n",
            "140221835567344 140221835686688\n",
            "[4, 3, 2, 1]\n",
            "[1, 2, 3, 4]\n"
          ],
          "name": "stdout"
        }
      ]
    },
    {
      "cell_type": "markdown",
      "metadata": {
        "id": "hSjEJmas7EPB"
      },
      "source": [
        "주소만 복사시 얕은 복사   lc = lst    \r\n",
        ".copy() 깊은복사   \r\n",
        "list() 깊은복사"
      ]
    },
    {
      "cell_type": "code",
      "metadata": {
        "colab": {
          "base_uri": "https://localhost:8080/"
        },
        "id": "mQOceh_L58Qh",
        "outputId": "9ffb53f3-4539-440c-f34d-5ab7071cdefa"
      },
      "source": [
        "import copy\r\n",
        "lst = [1, 2, 3, 4]\r\n",
        "ll = [ lst, lst ]\r\n",
        "print( ll )\r\n",
        "lc = copy.deepcopy(ll)\r\n",
        "print( lc )\r\n",
        "lc[0][0] = 999\r\n",
        "print( id( lst ), id( ll[0] ),\r\n",
        "id( ll[1] ) )\r\n",
        "print(lc)"
      ],
      "execution_count": 197,
      "outputs": [
        {
          "output_type": "stream",
          "text": [
            "[[1, 2, 3, 4], [1, 2, 3, 4]]\n",
            "[[1, 2, 3, 4], [1, 2, 3, 4]]\n",
            "140221836181168 140221836181168 140221836181168\n",
            "[[999, 2, 3, 4], [999, 2, 3, 4]]\n"
          ],
          "name": "stdout"
        }
      ]
    },
    {
      "cell_type": "code",
      "metadata": {
        "colab": {
          "base_uri": "https://localhost:8080/"
        },
        "id": "foRsLniQ8poB",
        "outputId": "9e7f4888-5c7b-4b54-96eb-0894037dfaf0"
      },
      "source": [
        "kor_score = [49, 80, 20, 100, 80]\r\n",
        "math_score = [43, 60, 85, 30, 90]\r\n",
        "eng_score = [49, 82, 48, 50, 100]\r\n",
        "mid_score = [kor_score, math_score, eng_score]  #2차원리스트\r\n",
        "\r\n",
        "\r\n",
        "avg_score = []\r\n",
        "for col in range(5):\r\n",
        "  total = 0           #한 학생의 평균을 내고 다시 0으로 만들어 누적을 지우고 새로 더해 평균을 냄\r\n",
        "  for row in range(3):\r\n",
        "    total += mid_score[row][col]\r\n",
        "  avg_score.append(total/3)\r\n",
        "\r\n",
        "print(avg_score)"
      ],
      "execution_count": 203,
      "outputs": [
        {
          "output_type": "stream",
          "text": [
            "[47.0, 74.0, 51.0, 60.0, 90.0]\n"
          ],
          "name": "stdout"
        }
      ]
    },
    {
      "cell_type": "markdown",
      "metadata": {
        "id": "NvwcJ8PG-qLK"
      },
      "source": [
        "코드의 오류를 처리하는 방법    \r\n",
        "버그와 디버그   \r\n",
        "• 버그(bug) : 프로그래밍에서의 오류   \r\n",
        "• 디버그(debug) : 오류를 수정하는 과정   \r\n",
        "• 디버깅(debugging) : 코드에서 오류를 만났을 때, 프로그램의 잘못을 찾아내고 고치는 것   \r\n",
        "\r\n",
        "오류의 종류와 해결 방법 : 문법적 오류   \r\n",
        "• 문법적 오류는 코딩했을 때, 인터프리터가 해석을 못 해 코드 자체를 실행시키지 못하는 오류이다.    문법적 오류는 비\r\n",
        "교적 쉬운 유형의 오류이며, 대표적으로 들여쓰기 오류와 오탈자로 인한 오류가 있다.   \r\n",
        " \r\n",
        "\r\n",
        "오류의 종류와 해결 방법 : 논리적 오류   \r\n",
        "• 프로그램을 작성하다 보면 코드를 제대로 작성했다고 생각했음에도, 원하는 결과가 나오지 않는 경우가 종종 있다.   \r\n",
        "• 논리적 오류를 해결하는 방법은 다양한데, 당장 쉽게 사용할 수 있는 방법은 확인이 필요한 변수들에 print( ) 함수를\r\n",
        "사용하여 값을 확인하는 것이다."
      ]
    },
    {
      "cell_type": "code",
      "metadata": {
        "colab": {
          "base_uri": "https://localhost:8080/"
        },
        "id": "k7zbq7M2IkaD",
        "outputId": "fff6d281-262a-441c-f4e6-d49745c9e54b"
      },
      "source": [
        "def addition(x, y):\r\n",
        "  return x + y\r\n",
        "#def multiplication(x, y):\r\n",
        "#  return x * y\r\n",
        "def divided_by_2(x):\r\n",
        "  return x/ 2\r\n",
        "\r\n",
        "\"\"\"\r\n",
        "if __name__ == '__main__':   #해당 파일을 파이썬 셀에서 불러온 import 때 함수 안에 들어있지 않은 코드들이 작동되지 않게 하기 위해서\r\n",
        "  print(addition(10, 5))\r\n",
        "  print(multiplication(10, 5))\r\n",
        "  print(divided_by_2(50))  \r\n",
        "  \"\"\"\r\n",
        "\r\n",
        "def main():\r\n",
        "  base_line = float(input('밑변의 길이는?'))\r\n",
        "  upper_edge = float(input('윗변의 길이는?'))\r\n",
        "  height = float(input('높이는?'))\r\n",
        "\r\n",
        "  print('넓이는:',divided_by_2(addition(base_line, upper_edge)*height))\r\n",
        "\r\n",
        "main()"
      ],
      "execution_count": 211,
      "outputs": [
        {
          "output_type": "stream",
          "text": [
            "밑변의 길이는?15\n",
            "윗변의 길이는?7\n",
            "높이는?9\n",
            "넓이는: 99.0\n"
          ],
          "name": "stdout"
        }
      ]
    },
    {
      "cell_type": "markdown",
      "metadata": {
        "id": "rTB9WoeHLocH"
      },
      "source": [
        "함수가 잘 작동하는지 확인하는 방법 : 파일에서 체크할 수 있도록 if _name_ == \"_main_\":을 써 주는 구조로, if 문 안\r\n",
        "에 테스트할 코드를 작성하기    \r\n",
        "if __name__ == '__main__' 넣는 이유는 해당 파일을 파이썬 셀에서 불러온 import 때 함수 안에 들어있지 않은 코드들이 작동되지 않게 하기 위해서   \r\n",
        "이 코드는 최상위에 있을 때만 실행되지 다른 모듈 안에 있을 땐 실행되지 않음"
      ]
    },
    {
      "cell_type": "markdown",
      "metadata": {
        "id": "Wc6jGqoFIj8-"
      },
      "source": [
        "사다리꼴 공식  A = {(윗변+아랫변)/2} *높이   \r\n",
        "키워드 as = 애칭을 뜻함  a as b  는 a를 b 라고 칭한다는 뜻"
      ]
    },
    {
      "cell_type": "markdown",
      "metadata": {
        "id": "wQRLcO0YFKRd"
      },
      "source": [
        "자료구조의 개념   \r\n",
        "• 자료구조(data structure) : 특징이 있는 정보를 메모리에 효율적으로 저장 및 반환하는 방법으로, 데이터를 관리하는\r\n",
        "방식이다.    \r\n",
        "특히 대용량일수록 메모리에 빨리 저장하고 빠르게 검색하여, 메모리를 효율적으로 사용하고 실행 시간을 줄\r\n",
        "일 수 있게 해 준다.    \r\n",
        "\r\n",
        "파이썬에서의 자료구조    \r\n",
        "• 스택(stack) 나중에 들어온 값을 먼저 나갈 수 있게 last in first out (후입선출)     \r\n",
        "스택에서 데이터를 저장하는 것을 푸시(push),데이터를 추출하는 것을 팝(pop)이라고 한다.    \r\n",
        "리스트라는 저장 공간을 만든 후, append( ) 함수로 데이터를 저장(push)하고 추출(pop)한다.      \r\n",
        "• 큐(queue) 먼저 들어온 값을 먼저 나갈 수 있게 first in first out (선입선출)  \r\n",
        "• 튜플(tuple) 리스트와 같지만, 데이터의 변경은 허용x    \r\n",
        "• 세트(set) 데이터의 중복을 허용x, 수학의 집합 연산을 지원, 순서는 보장되지 않음    \r\n",
        "• 딕셔너리(dictionary) 전화번호부와 같이 키(key)와 값(value)  형태의데이터를 저장하는 자료구조, 여기서 키는 다른 데이터와 중복을 허용x    \r\n",
        "• collections 모듈  위에 열거된 여러 자료구조를 효율적으로 사용할 수 있도록 지원하는 파이썬 내장모듈듈"
      ]
    },
    {
      "cell_type": "markdown",
      "metadata": {
        "id": "OKULndmmIR1e"
      },
      "source": [
        "파이썬에서의 자료구조    \r\n",
        "• 스택(stack) 나중에 들어온 값을 먼저 나갈 수 있게 last in first out (후입선출)      \r\n",
        "스택에서 데이터를 저장하는 것을 푸시(push),데이터를 추출하는 것을 팝(pop)이라고 한다.    \r\n",
        "리스트라는 저장 공간을 만든 후, append( ) 함수로 데이터를 저장(push)하고 추출(pop)한다. "
      ]
    },
    {
      "cell_type": "code",
      "metadata": {
        "colab": {
          "base_uri": "https://localhost:8080/"
        },
        "id": "8UbyC-1AIuq9",
        "outputId": "166b799a-097d-448c-82ab-e3b714e6d439"
      },
      "source": [
        "word = input('input a word: ')\r\n",
        "lst = []\r\n",
        "for s in word:\r\n",
        "  lst.append(s)\r\n",
        "print(lst)\r\n",
        "\r\n",
        "for s in lst:\r\n",
        "  print(lst.pop(), end='')"
      ],
      "execution_count": 206,
      "outputs": [
        {
          "output_type": "stream",
          "text": [
            "input a word: python\n",
            "['p', 'y', 't', 'h', 'o', 'n']\n",
            "noh"
          ],
          "name": "stdout"
        }
      ]
    },
    {
      "cell_type": "markdown",
      "metadata": {
        "id": "N4RMHkbSTciF"
      },
      "source": [
        "큐    \r\n",
        "• 큐(queue) : 먼저 들어간 데이터가 먼저 나오는 ‘Fist in First Out(FIFO)’의 메모리 구조를 가지는 저장 체계이다.    \r\n",
        "• 파이썬에서 큐를 구현하는 것은 pop( ) 함수를 사용할 때 인덱스가 0번째인 값을 쓴다는 의미로 pop(0)을 사용하면 된다.      \r\n",
        "• pop( ) 함수가 리스트의 마지막 값을 가져온다고 하면, pop(0)은 맨 처음 값을 가져온다는 뜻이다."
      ]
    },
    {
      "cell_type": "code",
      "metadata": {
        "colab": {
          "base_uri": "https://localhost:8080/"
        },
        "id": "RL9J864CTb-2",
        "outputId": "7f5a0fee-4111-4e23-f8c5-61f2dd47c035"
      },
      "source": [
        "a = [1, 2, 3, 4, 5]\r\n",
        "a.append(10)  #맨 뒤에 추가\r\n",
        "a.append(20)\r\n",
        "a.pop(0)  #1\r\n",
        "a.pop(0)  #2   앞에서부터 꺼내짐"
      ],
      "execution_count": 212,
      "outputs": [
        {
          "output_type": "execute_result",
          "data": {
            "text/plain": [
              "2"
            ]
          },
          "metadata": {
            "tags": []
          },
          "execution_count": 212
        }
      ]
    },
    {
      "cell_type": "markdown",
      "metadata": {
        "id": "_R2y63bsT_kh"
      },
      "source": [
        "튜플    \r\n",
        "• 튜플(tuple)은 리스트와 같은 개념이지만, 데이터를 변경할 수 없는 자료구조이다   \r\n",
        "• 튜플(tuple)은 리스트와 유사하나, 읽기 전용 임   \r\n",
        "• 읽기 전용인 만큼 제공되는 함수도 리스트에 비해 적지만, 속도가 빠름   \r\n",
        "• 튜플에서 제공되는 메소드 : count, index (이 두가지만 사용가능)   \r\n",
        "• 하나 이상의 요소가 있는 튜플을 만들기 위해서는 각 요소 뒤에 ,를 붙인다 ()이게 없어도 , 이것만 있어도 가능하긴 함   \r\n",
        "• 튜플(tuple)은 '('과 ')'으로 둘러싼다.   \r\n",
        "• 튜플은 더 적은 공간을 사용   \r\n",
        "• 딕셔너리 키로 사용할 수 있다    \r\n",
        "• 네임드 튜플은 객체의 단순한 대안이 될 수 있다 =이름을 가지고 있는 튜플    \r\n",
        "• 함수의 인자들은 튜플로 전달된다. (함수 인자가 변경을 못하도록 튜플로 전달하는 것)   \r\n",
        "• 위경도 좌표나 RGB 색상처럼 작은 규모의 자료 구조를 구성하기에 적합   \r\n",
        "• 리스트는 동일한 자료형으로 이루어진 항목을 순차적으로 추출하는 용도로 사용되며, 튜플을 서로 다른 종류의 데이터형의 항목을 변\r\n",
        "수에 바로 풀어 쓰는 unpacking 혹은 색인을 매기는 용도로 사용한다.    \r\n",
        "\r\n",
        "• 튜플(tuple) unpacking   \r\n",
        "• 다른 객체를 튜플로 만들어 준다 – tuple( )    \r\n",
        "• count(value) : 튜플에서 일치하는 값의 수를 반환   \r\n",
        "• index(value) : 튜플에서 일치하는 값의 인덱스 번호를 반환   \r\n",
        "• 인덱싱, 슬라이싱, 더하기, 곱하기, swap 코드   \r\n",
        "swap => a, b = b, a    \r\n",
        "\r\n",
        "\r\n",
        "• 비어 있는 튜플을 만드는 경우, 소괄호()를 사용하거나 tuple() 함수를 사용\r\n"
      ]
    },
    {
      "cell_type": "code",
      "metadata": {
        "colab": {
          "base_uri": "https://localhost:8080/"
        },
        "id": "jfzCvqHgUVh8",
        "outputId": "af13ab45-9d81-463d-fda8-9a065e7c76bb"
      },
      "source": [
        "t = (1,2, 3)   #튜플 객체 생성\r\n",
        "print(type(t))"
      ],
      "execution_count": 213,
      "outputs": [
        {
          "output_type": "stream",
          "text": [
            "<class 'tuple'>\n"
          ],
          "name": "stdout"
        }
      ]
    },
    {
      "cell_type": "code",
      "metadata": {
        "colab": {
          "base_uri": "https://localhost:8080/"
        },
        "id": "P_th2xqlVFYT",
        "outputId": "c3dd051a-b232-4f8c-848f-5abb9f47c744"
      },
      "source": [
        "t2 = 5,\r\n",
        "print(type(t2))"
      ],
      "execution_count": 214,
      "outputs": [
        {
          "output_type": "stream",
          "text": [
            "<class 'tuple'>\n"
          ],
          "name": "stdout"
        }
      ]
    },
    {
      "cell_type": "code",
      "metadata": {
        "id": "PdUx3UP9VUJx"
      },
      "source": [
        "colors = {'yellow': '노랑', 'red': '빨강'}"
      ],
      "execution_count": null,
      "outputs": []
    },
    {
      "cell_type": "code",
      "metadata": {
        "colab": {
          "base_uri": "https://localhost:8080/"
        },
        "id": "VADFGxQuXmdH",
        "outputId": "6b03ad72-1ab9-4a5c-d020-0f8432b86918"
      },
      "source": [
        "empty = ( )\r\n",
        "type (empty)\r\n",
        "len(empty)"
      ],
      "execution_count": 215,
      "outputs": [
        {
          "output_type": "execute_result",
          "data": {
            "text/plain": [
              "0"
            ]
          },
          "metadata": {
            "tags": []
          },
          "execution_count": 215
        }
      ]
    },
    {
      "cell_type": "code",
      "metadata": {
        "colab": {
          "base_uri": "https://localhost:8080/"
        },
        "id": "cTRliBw3Xujz",
        "outputId": "b82ef81d-233e-4e12-cd2f-4494ba848ba3"
      },
      "source": [
        "singleton = '안녕하세요',\r\n",
        "type(singleton)  #tuple 콤마가 있어서ingleton = '안녕하세요',\r\n",
        "type(singleton)  #tuple 콤마가 있어서\r\n",
        "len(singleton)  #1\r\n",
        "\r\n",
        "len(singleton)  #1\r\n"
      ],
      "execution_count": 222,
      "outputs": [
        {
          "output_type": "execute_result",
          "data": {
            "text/plain": [
              "1"
            ]
          },
          "metadata": {
            "tags": []
          },
          "execution_count": 222
        }
      ]
    },
    {
      "cell_type": "code",
      "metadata": {
        "colab": {
          "base_uri": "https://localhost:8080/"
        },
        "id": "W3Tq4TP8Xwbd",
        "outputId": "e8a10f7a-3628-4da9-834b-1092d6f17793"
      },
      "source": [
        "test = ('안녕하세요')\r\n",
        "type(test)  #str 1개라서\r\n",
        "len(test)"
      ],
      "execution_count": 220,
      "outputs": [
        {
          "output_type": "execute_result",
          "data": {
            "text/plain": [
              "5"
            ]
          },
          "metadata": {
            "tags": []
          },
          "execution_count": 220
        }
      ]
    },
    {
      "cell_type": "code",
      "metadata": {
        "colab": {
          "base_uri": "https://localhost:8080/"
        },
        "id": "syT6MBfIX1U9",
        "outputId": "b644923f-fd85-4ce4-da1b-8e7cb18c2f59"
      },
      "source": [
        "movie = '슈퍼맨II', 1980, '베트맨', 1989       #튜플 생성 packing\r\n",
        "a, b, c, d = movie                                 #튜플을 항목당 할당 unpacking\r\n",
        "a, b, c, d"
      ],
      "execution_count": 229,
      "outputs": [
        {
          "output_type": "execute_result",
          "data": {
            "text/plain": [
              "('슈퍼맨II', 1980, '베트맨', 1989)"
            ]
          },
          "metadata": {
            "tags": []
          },
          "execution_count": 229
        }
      ]
    },
    {
      "cell_type": "code",
      "metadata": {
        "colab": {
          "base_uri": "https://localhost:8080/"
        },
        "id": "B9uZgVReYi2h",
        "outputId": "f6073fab-747c-4801-ae93-73da6954b9b6"
      },
      "source": [
        "#lab10 : 로또 번호 추첨처럼 1~45의 숫자 중에서 중복 없이 6개를 뽑아서 리스트 저장하고\r\n",
        "#튜플로 변환해서 출력하는 프로그램을 구현하시오\r\n",
        "import random\r\n",
        "\r\n",
        "\r\n",
        "lotto = []\r\n",
        "num = 0\r\n",
        "\r\n",
        "while True:\r\n",
        "  num = random.randrange(1, 46)\r\n",
        "  if lotto.count(num) == 0:\r\n",
        "    lotto.append(num)\r\n",
        "  if len(lotto) >= 6:\r\n",
        "    break\r\n",
        "\r\n",
        "lotto.sort()\r\n",
        "r_lotto = tuple(lotto)\r\n",
        "for n in r_lotto:\r\n",
        "    print('%d' %n, end=' ')\r\n",
        "    i += 1 \r\n",
        "\r\n",
        "  "
      ],
      "execution_count": 244,
      "outputs": [
        {
          "output_type": "stream",
          "text": [
            "3 14 32 36 37 38 "
          ],
          "name": "stdout"
        }
      ]
    },
    {
      "cell_type": "code",
      "metadata": {
        "colab": {
          "base_uri": "https://localhost:8080/"
        },
        "id": "BfDrEGT3cAl-",
        "outputId": "70385ddb-e5a0-4c7d-a47d-a81ff81f848a"
      },
      "source": [
        " import random\r\n",
        "tup =[]\r\n",
        "for i in range(1,15):\r\n",
        "    num= random.randint(1,45)\r\n",
        "    if i in tup:\r\n",
        "        pass\r\n",
        "    else:\r\n",
        "        tup.append(num)\r\n",
        "    if len(tup)==6:\r\n",
        "        break\r\n",
        "tup.sort()\r\n",
        "tup= tuple(tup)\r\n",
        "print(tup)\r\n"
      ],
      "execution_count": 245,
      "outputs": [
        {
          "output_type": "stream",
          "text": [
            "(2, 12, 17, 17, 42, 44)\n"
          ],
          "name": "stdout"
        }
      ]
    },
    {
      "cell_type": "code",
      "metadata": {
        "colab": {
          "base_uri": "https://localhost:8080/"
        },
        "id": "WwmztV92chIM",
        "outputId": "62fe12e0-4804-4b24-af4e-ce1cfe3fac4d"
      },
      "source": [
        "import random\r\n",
        "nums = []\r\n",
        "while len(nums) < 6:\r\n",
        "    num = random.randrange(1,46)\r\n",
        "    if not nums.count(num):\r\n",
        "        nums.append(num)\r\n",
        "t_nums = tuple(sorted(nums))\r\n",
        "print(t_nums)\r\n"
      ],
      "execution_count": 248,
      "outputs": [
        {
          "output_type": "stream",
          "text": [
            "(3, 19, 25, 38, 42, 44)\n"
          ],
          "name": "stdout"
        }
      ]
    },
    {
      "cell_type": "code",
      "metadata": {
        "colab": {
          "base_uri": "https://localhost:8080/"
        },
        "id": "SCy3oYqPaN3X",
        "outputId": "2b62ebbf-1a62-439c-8ec4-795216d8a5f8"
      },
      "source": [
        "#lab11 : 한 학생의 국어, 수학 점수를 튜플로 저장하고 이 튜플을 항목으로 갖는 리스트 객체가 있습니다.\r\n",
        "#이 때 첫 번째 학생은 (90, 80) 두 번째 학생은 (85, 75), 세 번재 학생은 (90, 100)의 점수를 가짐\r\n",
        "#각 학생의 총점과 평균을 출력하시오 (평균은 소수점 둘째 자리까지)\r\n",
        "data_list = [(90, 80), (85, 75), (90, 100)]\r\n",
        "for i in (data_list):\r\n",
        "  total_score = 0\r\n",
        "  for s in (i):\r\n",
        "    total_score += s\r\n",
        "  print('총점=', total_score, '평균=', (total_score/2))\r\n",
        "\r\n",
        "for idx, data in enumerate(data_list):  #enumerate 함수는 꺼낼 때 인덱스까지 같이 꺼내줌\r\n",
        "  total = 0\r\n",
        "  for s in i:\r\n",
        "    total += s\r\n",
        "  print('%d. 총점=%3d, 평균=%.2f' % (idx + 1, total, total/2))\r\n",
        "\r\n"
      ],
      "execution_count": 281,
      "outputs": [
        {
          "output_type": "stream",
          "text": [
            "총점= 170 평균= 85.0\n",
            "총점= 160 평균= 80.0\n",
            "총점= 190 평균= 95.0\n",
            "1. 총점=190, 평균=95.00\n",
            "2. 총점=190, 평균=95.00\n",
            "3. 총점=190, 평균=95.00\n"
          ],
          "name": "stdout"
        }
      ]
    },
    {
      "cell_type": "code",
      "metadata": {
        "id": "OVyT_rJxdJf7"
      },
      "source": [
        "#lab12: 리스트 내포 기능을 이용해 다음 문장으로부터 모음('aeiou)을 제거하십시오. \r\n",
        "#Python is powerful... and fast; plays well with other; runs everywhere; is friendly & easy to learn; is Open.'\r\n"
      ],
      "execution_count": 279,
      "outputs": []
    },
    {
      "cell_type": "code",
      "metadata": {
        "colab": {
          "base_uri": "https://localhost:8080/"
        },
        "id": "vNEsv2PKjWVm",
        "outputId": "1f236567-4a90-486f-c85f-4afd33dd525e"
      },
      "source": [
        "lst = 'Python is powerful... and fast; plays well with others; runs everywhere; is friendly & easy to learn; is Open.'\r\n",
        "\r\n",
        "search = 'aeiou'\r\n",
        "new_str = []\r\n",
        "for ch in lst:\r\n",
        "  if ch not in search:   #서치에 없는 것은 하나하나 새 리스트에 넣으라는 것\r\n",
        "    new_str.append(ch)\r\n",
        "\r\n",
        "print(''.join(new_str))   #조인은 리스트 문자열마다 앞에 내용을 결합시키는데, 앞에가 공백이기에 문자열을 하나의 문자열로 만들어준다\r\n"
      ],
      "execution_count": 285,
      "outputs": [
        {
          "output_type": "stream",
          "text": [
            "Pythn s pwrfl... nd fst; plys wll wth thrs; rns vrywhr; s frndly & sy t lrn; s Opn.\n"
          ],
          "name": "stdout"
        }
      ]
    },
    {
      "cell_type": "code",
      "metadata": {
        "colab": {
          "base_uri": "https://localhost:8080/"
        },
        "id": "1iZuzTU9a1yY",
        "outputId": "386ce98b-858b-4ef2-c97e-97dd137a1216"
      },
      "source": [
        "#lab13: 다음과 같은 리스트가 주어졌을 때 결과처럼 가나다순으로 \r\n",
        "#따로 묶은 리스트가 출력되도록 리스트 내포를 이용한 프로그램을 작성하시오\r\n",
        "dicBase = (('가','깋'), ('나','닣'), ('다','딯'), ('라','맇'), ('마','밓'), ('바','빟'), ('사','싷'),\r\n",
        "               ('아','잏'), ('자','짛'), ('차','칳'), ('카','킿'), ('타','팋'), ('파','핗'), ('하','힣'))\r\n",
        " \r\n",
        "inputWord = ['막', '부모님', '비용', '비행기', '원래', '처리', '최초', '꼴', '좀', '들다', '싶다',\r\n",
        "                   '수출', '계시다', '다', '뒤', '듣다', '함께', '아이', '무척', '보이다', '가지다', '그',\r\n",
        "                   '자르다', '데리다', '마리', '개', '정도', '옳다', '놀이','뜨겁다']\r\n",
        "\r\n",
        "result = []\r\n",
        "for base in dicBase:\r\n",
        "  temp = []\r\n",
        "  for word in inputWord:\r\n",
        "    if base[0] <= word <= base[1]:\r\n",
        "      temp.append(word)\r\n",
        "  result.append(temp)\r\n",
        "\r\n",
        "print(result)\r\n",
        "\r\n"
      ],
      "execution_count": 286,
      "outputs": [
        {
          "output_type": "stream",
          "text": [
            "[['계시다', '가지다', '그', '개'], ['놀이'], ['들다', '다', '뒤', '듣다', '데리다'], [], ['막', '무척', '마리'], ['부모님', '비용', '비행기', '보이다'], ['싶다', '수출'], ['원래', '아이', '옳다'], ['좀', '자르다', '정도'], ['처리', '최초'], [], [], [], ['함께']]\n"
          ],
          "name": "stdout"
        }
      ]
    }
  ]
}