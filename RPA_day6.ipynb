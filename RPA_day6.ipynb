{
 "cells": [
  {
   "cell_type": "markdown",
   "metadata": {},
   "source": [
    "#### RPA_day5 정리  \n",
    "\n",
    "파이썬으로 텍스트 또는 html형식으로 이메일 보내기  \n",
    "1. SMTP('smtp 서버 dns', port) 객체 생성, SMTP_SSL('smtp 서버 dns', port) 객체 생성  \n",
    "2. ehlo()   (SMTP 객체의 경우.starttls())\n",
    "3. login()\n",
    "4. MIMEText ('메일내용', _subtype, _charset=)\n",
    "    MIMEText ['Suject']\n",
    "    MIMEText ['From']\n",
    "    MIMEText ['To']\n",
    "5. sendmail(sender, receiver, MIMEText객체를 문자열반환)\n",
    "6. SMTP 서버 접속 종료 quit()\n",
    "\n",
    "\n",
    "첨부파일 MIMEBase('multipart')     \n",
    "         MIMEBase ['Suject']         \n",
    "         MIMEBase ['From']     \n",
    "         MIMEBase ['To']      \n",
    "         MIMEBase.attach(MIMEText 객체 or MIMEImage 객체 or MIMEAudio객체 or MIMEApplication)   \n",
    "\n",
    "메일 전송 프로토콜 헤더 설정 추가    \n",
    "MIMEText 객체 or MIMEImage 객체 or MIMEAudio객체 or MIMEApplication객체의   \n",
    "add_header('content-disposition', attachment, filename=, )  "
   ]
  },
  {
   "cell_type": "markdown",
   "metadata": {},
   "source": [
    "#### 자동으로 이메일 보내기 ( 이메일 관리 )\n",
    "\n",
    "메일을 가져오기 위해서 사용하는 프로토콜 POP3, IMAP\n",
    "\n",
    "• POP3(Post Office Protocol 3) – 이메일 서버에서 메일을 가져오기 위해서 사용하는 프로토콜    \n",
    "한번 서버로부터 내려 받은 이메일은 기본적으로 서버에서 삭제되고 서버가 더 이상 관리하지 않는다    \n",
    "\n",
    "• IMAP(Internet Message Access Protocol) - 이메일 서버에서 메일을 가져오기 위해서 사용하는 프로토콜    \n",
    "여러 군데에서 이메일 서버로부터 메일을 읽는 것을 허용한다.    \n",
    "한 클라이언트에서 메일을 삭제하면 서버에서도 삭제되고 다른 클라이언트 컴퓨터에서도 동기화하게 된다."
   ]
  },
  {
   "cell_type": "code",
   "execution_count": 1,
   "metadata": {},
   "outputs": [
    {
     "name": "stdout",
     "output_type": "stream",
     "text": [
      "Collecting imapclient\n",
      "  Downloading IMAPClient-2.2.0-py2.py3-none-any.whl (179 kB)\n",
      "Requirement already satisfied: six in c:\\users\\fbvl\\anaconda3\\lib\\site-packages (from imapclient) (1.15.0)\n",
      "Installing collected packages: imapclient\n",
      "Successfully installed imapclient-2.2.0\n",
      "Collecting pyzmail36\n",
      "  Downloading pyzmail36-1.0.4.tar.gz (47 kB)\n",
      "Requirement already satisfied: setuptools in c:\\users\\fbvl\\anaconda3\\lib\\site-packages (from pyzmail36) (50.3.1.post20201107)\n",
      "Building wheels for collected packages: pyzmail36\n",
      "  Building wheel for pyzmail36 (setup.py): started\n",
      "  Building wheel for pyzmail36 (setup.py): finished with status 'done'\n",
      "  Created wheel for pyzmail36: filename=pyzmail36-1.0.4-py3-none-any.whl size=37083 sha256=515f66aee75a85b7387cad68dd82e16796375af04e8efeae77f49c5e173fcba5\n",
      "  Stored in directory: c:\\users\\fbvl\\appdata\\local\\pip\\cache\\wheels\\31\\94\\b8\\b899e4c384383f0032cd71b41ede5931024830aabf81acb220\n",
      "Successfully built pyzmail36\n",
      "Installing collected packages: pyzmail36\n",
      "Successfully installed pyzmail36-1.0.4\n"
     ]
    }
   ],
   "source": [
    "! pip install imapclient\n",
    "! pip install pyzmail36"
   ]
  },
  {
   "cell_type": "markdown",
   "metadata": {},
   "source": [
    "• 메일은 폴더별로 관리하게 되어 있어, 작업 전에 폴더를 선택해야 한다   \n",
    "예]gmail의 ‘받은 편지함’의 이름은 ‘INBOX’\n",
    "\n",
    "• list_folder() – 로그인되어 있는 상태에서 폴더 목록을 얻어낼 수 있다\n",
    "\n",
    "• select_folder() - 작업할 폴더의 선택, readonly 인수가 True이면 메일을 읽기만 할 수 있고 False이면 읽기와 삭제가 가능  \n",
    "\n",
    "• search() – 검색 기준을 리스트나 튜플과 같은 시퀀스 형식의 인수로 받고, 처리 결과로 메시지 아이디(정수)의 리스트를 반환"
   ]
  },
  {
   "cell_type": "markdown",
   "metadata": {},
   "source": [
    "구글 : imap.gmail.com   \n",
    "네이버 : imap.naver.com    \n",
    "다음 : imap.daum.net    \n",
    "야후 : imap.mail.yahoo.com    \n",
    "Hotmail : imap-mail.outlook.com   \n",
    "네이트온 : imap.nate.com   "
   ]
  },
  {
   "cell_type": "code",
   "execution_count": null,
   "metadata": {},
   "outputs": [],
   "source": [
    "#사용예시\n",
    "imap.list_folders()[1:10]  #메일함 폴더에서 인덱싱해서 가져오기\n",
    "imap.select_folder('INBOX', readonly=False); #파이썬으로 읽어도 실제 메일함에는 ‘읽은메일’로 표시되지 않음"
   ]
  },
  {
   "cell_type": "code",
   "execution_count": 36,
   "metadata": {},
   "outputs": [
    {
     "name": "stdout",
     "output_type": "stream",
     "text": [
      "1000\n",
      "[51384, 51385, 51386, 51387, 51389, 51390, 51391, 51392, 51393, 51394, 51395]\n"
     ]
    }
   ],
   "source": [
    "import imapclient\n",
    "import pyzmail\n",
    "\n",
    "imap = imapclient.IMAPClient('imap.naver.com', ssl=True)\n",
    "imap.login('', '')\n",
    "#imap.logout()\n",
    "\n",
    "imap.list_folders()[:]\n",
    "imap.select_folder('INBOX', readonly=False) #받은 메일함 선택\n",
    "\n",
    "uids = imap.search(['ALL']) # 받음 메일함으로부터 전체 메일 ID를 반환\n",
    "\n",
    "print(len(uids))  #받은 메일함으로부터 전체 메일 수\n",
    "\n",
    "uids[:5]  #이메일 아이디 리스트 5개 확인\n",
    "\n",
    "uids = imap.search(['ON', '19-APR-2021']) # 문자열 날짜로 검색\n",
    "print(uids)\n"
   ]
  },
  {
   "cell_type": "code",
   "execution_count": 37,
   "metadata": {},
   "outputs": [
    {
     "name": "stdout",
     "output_type": "stream",
     "text": [
      "[51447, 51449, 51450, 51451, 51452, 51453, 51454]\n"
     ]
    }
   ],
   "source": [
    "from datetime import date, timedelta\n",
    "uids = imap.search(['ON', date.today()])  #오늘 받은 메일 반환\n",
    "print(uids)\n",
    "\n",
    "uids = imap.search(['SINCE', date.today() - timedelta(days=7)])  #오늘부터 7일간 받은 메일 반환\n",
    "\n",
    "uids = imap.search(['SINCE', date(2020, 10, 3), 'BEFORE', date(2020, 11, 3)]) # 지정된 날짜 범위로 검색"
   ]
  },
  {
   "cell_type": "code",
   "execution_count": 39,
   "metadata": {},
   "outputs": [],
   "source": [
    "uids = imap.search(['FROM', 'adrian']) # 보내는 사람 이름으로 검색\n",
    "uids = imap.search(['FROM', 'sim11241124@gmail.com']) # 보내는 사람 이메일으로 검색\n",
    "uids = imap.search(['SUBJECT', 'Sera'], 'utf-8') # 제목에 ''포함하고 있는 메일, 한글일 경우 인코딩 설정\n",
    "uids = imap.search(['UNSEEN']) # 읽지 않은 메일\n",
    "uids = imap.search(['FLAGGED']) # '중요(별표)' 플래그가 붙은 메일\n",
    "uids = imap.search(['LARGER', 100000]) # 메시지 크기로 검색\n",
    "uids = imap.search(['FROM', 'sim11241124@gmail.com', 'SUBJECT', 'Python', 'SINCE', date(2020, 1, 1), 'SMALLER',\n",
    "100000, 'FLAGGED'])  #여러가지 조건을 조합해서 검색"
   ]
  },
  {
   "cell_type": "code",
   "execution_count": 49,
   "metadata": {},
   "outputs": [],
   "source": [
    "#100k보다 작거나 500k보다 큰 메일 메시지의 메일 아이디 반환\n",
    "#uids = imap.search(['NOT', ['LARGER', 100000, 'SMALLER', 500000]])\n",
    "import imapclient\n",
    "import pyzmail\n",
    "\n",
    "imap = imapclient.IMAPClient('imap.gmail.com', ssl=True)\n",
    "imap.login('', '')\n",
    "#imap.logout()\n",
    "\n",
    "uids = imap.select_folder('[Gmail]/전체보관함', readonly=False)\n",
    "uids = imap.gmail_search('from:googleplay-noreply@google.com') # 송신자를 이용한 검색\n",
    "uids = imap.gmail_search('to:sim11241124@gmail.com') # 수신자를 이용한 검색"
   ]
  },
  {
   "cell_type": "markdown",
   "metadata": {},
   "source": [
    "이메일 관리 - 메일 삭제    \n",
    "검색된 메일 삭제 - delete_message() #삭제 표시만  \n",
    "물리적으로 삭제 - expunge()\n",
    "• 특정 발신자 메일 삭제"
   ]
  },
  {
   "cell_type": "code",
   "execution_count": 46,
   "metadata": {},
   "outputs": [
    {
     "name": "stdout",
     "output_type": "stream",
     "text": [
      "deleting 0 messages\n"
     ]
    },
    {
     "data": {
      "text/plain": [
       "(b'Success', [])"
      ]
     },
     "execution_count": 46,
     "metadata": {},
     "output_type": "execute_result"
    }
   ],
   "source": [
    "uids = imap.search(['FROM', 'fbvl@naver.com']) # 송신자 이메일 주소로 온 메일 삭제\n",
    "print('deleting {} messages'.format(len(uids)))\n",
    "imap.delete_messages(uids)\n",
    "imap.expunge()"
   ]
  },
  {
   "cell_type": "code",
   "execution_count": 53,
   "metadata": {},
   "outputs": [
    {
     "name": "stdout",
     "output_type": "stream",
     "text": [
      "deleting 5 messages\n"
     ]
    },
    {
     "data": {
      "text/plain": [
       "b'LOGOUT Requested'"
      ]
     },
     "execution_count": 53,
     "metadata": {},
     "output_type": "execute_result"
    }
   ],
   "source": [
    "#이메일 관리 – 광고 메일 삭제\n",
    "\n",
    "import imapclient\n",
    "\n",
    "imap = imapclient.IMAPClient('imap.gmail.com', ssl=True)\n",
    "imap.login('sim11241124@gmail.com', 'Tprud11241124!')\n",
    "uids = imap.select_folder('[Gmail]/전체보관함', readonly=False)\n",
    "uids = imap.gmail_search('subject:광고')\n",
    "print('deleting {} messages'.format(len(uids)))\n",
    "imap.delete_messages(uids)\n",
    "imap.expunge()\n",
    "imap.logout()"
   ]
  },
  {
   "cell_type": "code",
   "execution_count": null,
   "metadata": {},
   "outputs": [],
   "source": [
    "이메일 관리 – 광고 메일 삭제   \n",
    "• fetch(message_set, message_parts) – 메일 본문 내용을 읽을 수 있게 해준다.    \n",
    "주어진 여러 메시지 아이디의 메일을 한꺼번에 읽을 수 있다    \n",
    "message_set : 메시지 아이디의 리스트    \n",
    "message_parts : 메시지 부분으로 이메일에서 어떤 정보(제목, 본문 등)를 가져올지를 지시하는 문자열"
   ]
  },
  {
   "cell_type": "code",
   "execution_count": 64,
   "metadata": {},
   "outputs": [
    {
     "name": "stdout",
     "output_type": "stream",
     "text": [
      "[1, 2, 3, 8, 42, 50, 58, 68, 73, 78, 82, 84, 86, 91, 95, 98, 102, 109, 114, 120, 126, 133, 138, 238, 241, 535, 663, 681, 757, 818, 848, 922, 936, 971, 1062, 1092, 1123, 1137, 1138, 1169, 1181, 1196, 1215, 1230, 1254, 1261, 1270, 1273, 1319, 1335, 1363, 1389, 1392, 1409, 1411, 1413, 1418, 1431, 1432, 1433, 1434, 1435, 1436, 1437, 1438, 1445, 1454, 1456, 1459, 1461, 1462, 1464, 1468, 1469, 1470, 1471, 1472, 1475, 1476, 1477, 1478, 1487, 1489, 1491, 1501, 1507, 1508, 1510, 1513, 1520, 1521, 1522, 1524, 1525, 1526, 1527, 1528, 1529, 1531, 1532, 1533, 1535, 1536, 1537, 1541, 1545, 1550, 1556, 1584, 1585, 1595, 1596, 1597, 1604, 1606, 1607, 1611]\n",
      "<class 'collections.defaultdict'>\n"
     ]
    },
    {
     "data": {
      "text/plain": [
       "(b'\\\\Seen',)"
      ]
     },
     "execution_count": 64,
     "metadata": {},
     "output_type": "execute_result"
    }
   ],
   "source": [
    "import imapclient\n",
    "\n",
    "imap = imapclient.IMAPClient('imap.gmail.com', ssl=True)\n",
    "imap.login('', '')\n",
    "uids = imap.select_folder('[Gmail]/전체보관함', readonly=False)\n",
    "\n",
    "uids = imap.search(['FROM', 'Google'])\n",
    "print(uids)\n",
    " #['BODY[]', 'FLAGS']=이메일에서 가져온 정보를 list로 전달\n",
    "rmsgs = imap.fetch(uids, ['BODY[]', 'FLAGS']) \n",
    "print(type(rmsgs))\n",
    "\n",
    "rmsgs[1536].keys()  #dict_keys([b'SEQ', b'FLAGS', b'BODY[]'])\n",
    "rmsgs[1536][b'SEQ']\n",
    "rmsgs[1536][b'FLAGS']\n",
    "#rmsgs[1536][b'BODY[]'] #내용이 길어 주석처리\n",
    "\n"
   ]
  },
  {
   "cell_type": "markdown",
   "metadata": {},
   "source": [
    "이메일 관리 – 메일 내용 읽기    \n",
    "• pyzmail(https://pypi.org/project/pyzmail)은 메일 본문을 분석하고, 이메일을 작성하고, 메일을 보내는 기능의 함수와 클래스를 제공한다."
   ]
  },
  {
   "cell_type": "code",
   "execution_count": 67,
   "metadata": {},
   "outputs": [
    {
     "name": "stdout",
     "output_type": "stream",
     "text": [
      " [image: Access Gmail on your mobile phone]\n",
      "<http://www.google.com/intl/ko/mobile/default/mail.html>\n",
      "\n",
      "컴퓨터로 받은편지함을 열어보는 시대는 지났습니다. 이제 휴대전화에서 Gmail을 사용하여 어디에서나 이메일에 액세스할 수 있습니다.\n",
      "       휴대전화용 Gmail 다운로드\n",
      ">><http://www.google.com/intl/ko/mobile/default/mail.html#utm_source=wel-eml&utm_medium=eml&utm_campaign=ko>\n",
      "\n"
     ]
    }
   ],
   "source": [
    "import pyzmail\n",
    "\n",
    "message = pyzmail.PyzMessage.factory(rmsgs[uids[0]][b'BODY[]'])  #본문 내용을 해석\n",
    "message\n",
    "message.get_subject()  #제목\n",
    "message.get_addresses('from')  #발신\n",
    "message.get_addresses('to')  #수신\n",
    "message.get_addresses('cc')  #참조\n",
    "message.get('Date')  #메일 보낸 시간\n",
    "if message.text_part:  #본문 내용 텍스트\n",
    "    print(message.text_part.get_payload().decode(message.text_part.charset))"
   ]
  },
  {
   "cell_type": "code",
   "execution_count": 69,
   "metadata": {},
   "outputs": [
    {
     "data": {
      "text/plain": [
       "'<html>\\r\\n<font face=\"Arial, Helvetica, sans-serif\">\\r\\n<p>\\r\\n  <a href=\"http://www.google.com/intl/ko/mobile/default/mail.html\">\\r\\n<img src=\"https://www.google.com/intl/ko/mobile/images/phones.gif\"\\r\\n      '"
      ]
     },
     "execution_count": 69,
     "metadata": {},
     "output_type": "execute_result"
    }
   ],
   "source": [
    "if message.html_part:  #본문 내용 html\n",
    "    html = message.html_part.get_payload().decode(message.html_part.charset)\n",
    "\n",
    "html[:200]"
   ]
  },
  {
   "cell_type": "code",
   "execution_count": 91,
   "metadata": {},
   "outputs": [
    {
     "data": {
      "text/plain": [
       "'[ Google Play ] (https://play.google.com/store/)\\r\\n\\r\\n안드로이드 게임과 앱\\r\\n\\r\\nMarch 27th, 2013\\r\\n\\r\\n#  베스트 인기 앱과\\r\\n게임 찾기\\r\\n\\r\\nGoogle Play의 인기 차트와 카테고리에서 가장 많이 다운로드 된 앱과 게임을  \\r\\n검색할 수 있습니다.\\r\\n\\r\\n    \\r\\n(http://clickserve.dartsearch.net/link/click?lid=43700003908951094&ds_s_kwgid=58700000055778857&ds_e_adid={creative}&ds_e_matchtype={ifsearch:search}{ifcontent:content}&ds_url_v=2)\\r\\n[\\r\\n\\r\\n앱 더보기\\r\\n\\r\\n](http://clickserve.dartsearch.net/link/click?lid=43700003908951094&ds_s_kwgid=58700000055778857&ds_e_adid={creative}&ds_e_matchtype={ifsearch:search}{ifcontent:content}&ds_url_v=2)\\r\\n\\r\\n\\xa0\\r\\n\\r\\n##  안드로이드 추천 카테고리\\r\\n\\r\\n    \\r\\n(http://clickserve.dartsearch.net/link/click?lid=43700003908951096&ds_s_kwgid=58700000055778857&ds_e_adid={creative}&ds_e_matchtype={ifsearch:search}{ifcontent:content}&ds_url_v=2)\\r\\n    \\r\\n(http://clickserve.dartsearch.net/link/click?lid=43700003908951098&ds_s_kwgid=58700000055778857&ds_e_adid={creative}&ds_e_matchtype={ifsearch:search}{ifcontent:content}&ds_url_v=2)\\r\\n\\r\\n\\xa0\\r\\n\\r\\n##  인기 게임\\r\\n\\r\\n    \\r\\n(http://clickserve.dartsearch.net/link/click?lid=43700003908951099&ds_s_kwgid=58700000055778857&ds_e_adid={creative}&ds_e_matchtype={ifsearch:search}{ifcontent:content}&ds_url_v=2)\\r\\n\\r\\n#####  무료 아케이드 & 액션 게임  \\r\\n(http://clickserve.dartsearch.net/link/click?lid=43700003908951099&ds_s_kwgid=58700000055778857&ds_e_adid={creative}&ds_e_matchtype={ifsearch:search}{ifcontent:content}&ds_url_v=2)\\r\\n\\r\\n전체 리스트 보기\\xa0›  \\r\\n(http://clickserve.dartsearch.net/link/click?lid=43700003908951099&ds_s_kwgid=58700000055778857&ds_e_adid={creative}&ds_e_matchtype={ifsearch:search}{ifcontent:content}&ds_url_v=2)\\r\\n\\r\\n[\\r\\n\\r\\n[ Temple Run 2 ]\\r\\n\\r\\nTemple Run 2\\r\\n\\r\\nImangi Studios\\r\\n\\r\\n](http://clickserve.dartsearch.net/link/click?lid=43700003908951102&ds_s_kwgid=58700000055778857&ds_e_adid={creative}&ds_e_matchtype={ifsearch:search}{ifcontent:content}&ds_url_v=2)\\r\\n\\r\\n[\\r\\n\\r\\n[ Subway Surfers ]\\r\\n\\r\\nSubway Surfers\\r\\n\\r\\nKiloo Games\\r\\n\\r\\n](http://clickserve.dartsearch.net/link/click?lid=43700003908951103&ds_s_kwgid=58700000055778857&ds_e_adid={creative}&ds_e_matchtype={ifsearch:search}{ifcontent:content}&ds_url_v=2)\\r\\n\\r\\n[\\r\\n\\r\\n[ Fruit Ninja Free ]\\r\\n\\r\\nFruit Ninja Free\\r\\n\\r\\nHalfbrick Studios\\r\\n\\r\\n](http://clickserve.dartsearch.net/link/click?lid=43700003908951104&ds_s_kwgid=58700000055778857&ds_e_adid={creative}&ds_e_matchtype={ifsearch:search}{ifcontent:content}&ds_url_v=2)\\r\\n\\r\\n[\\r\\n\\r\\n[ Vector ]\\r\\n\\r\\nVector\\r\\n\\r\\nNekki.\\r\\n\\r\\n](http://clickserve.dartsearch.net/link/click?lid=43700003908951105&ds_s_kwgid=58700000055778857&ds_e_adid={creative}&ds_e_matchtype={ifsearch:search}{ifcontent:content}&ds_url_v=2)\\r\\n\\r\\n    \\r\\n(http://clickserve.dartsearch.net/link/click?lid=43700003908951106&ds_s_kwgid=58700000055778857&ds_e_adid={creative}&ds_e_matchtype={ifsearch:search}{ifcontent:content}&ds_url_v=2)\\r\\n\\r\\n#####  인기 앱  \\r\\n(http://clickserve.dartsearch.net/link/click?lid=43700003908951106&ds_s_kwgid=58700000055778857&ds_e_adid={creative}&ds_e_matchtype={ifsearch:search}{ifcontent:content}&ds_url_v=2)\\r\\n\\r\\n전체 리스트 보기\\xa0›  \\r\\n(http://clickserve.dartsearch.net/link/click?lid=43700003908951106&ds_s_kwgid=58700000055778857&ds_e_adid={creative}&ds_e_matchtype={ifsearch:search}{ifcontent:content}&ds_url_v=2)\\r\\n\\r\\n[\\r\\n\\r\\n[ Collapse! Blast ]\\r\\n\\r\\nCollapse! Blast\\r\\n\\r\\nGameHouse\\r\\n\\r\\n](http://clickserve.dartsearch.net/link/click?lid=43700003909889041&ds_s_kwgid=58700000055778857&ds_e_adid={creative}&ds_e_matchtype={ifsearch:search}{ifcontent:content}&ds_url_v=2)\\r\\n\\r\\n[\\r\\n\\r\\n[ MANUGANU ]\\r\\n\\r\\nMANUGANU\\r\\n\\r\\nAlper Sarıkaya\\r\\n\\r\\n](http://clickserve.dartsearch.net/link/click?lid=43700003909959000&ds_s_kwgid=58700000055778857&ds_e_adid={creative}&ds_e_matchtype={ifsearch:search}{ifcontent:content}&ds_url_v=2)\\r\\n\\r\\n[\\r\\n\\r\\n[ Jewels Quest  ]\\r\\n\\r\\nJewels Quest\\r\\n\\r\\nAPPRIGHT\\r\\n\\r\\n](http://clickserve.dartsearch.net/link/click?lid=43700003909889043&ds_s_kwgid=58700000055778857&ds_e_adid={creative}&ds_e_matchtype={ifsearch:search}{ifcontent:content}&ds_url_v=2)\\r\\n\\r\\n[\\r\\n\\r\\n[ Sporos ]\\r\\n\\r\\nSporos\\r\\n\\r\\nPopadworld\\r\\n\\r\\n](http://clickserve.dartsearch.net/link/click?lid=43700003909889044&ds_s_kwgid=58700000055778857&ds_e_adid={creative}&ds_e_matchtype={ifsearch:search}{ifcontent:content}&ds_url_v=2)\\r\\n\\r\\n  [ Google+ ] (https://plus.google.com/+GooglePlay)\\r\\n\\r\\n  [ Google Play ] (https://play.google.com)\\r\\n\\r\\nGoogle Play 쇼핑을 웹에서 즐기세요. 동기화의 번거로움 없이 안드로이드폰  \\r\\n또는 태블릿에서 즉시 구매하고 즐길 수 있습니다.\\r\\n\\r\\nGoogle Inc. | 대표자: Eric Emerson Schmidt | 주소: 1600 Amphitheatre  \\r\\nParkway, Mountain View, CA 94043, United States | 대표전화: +1 650-253-0000  \\r\\n| Help Center (http://support.google.com/googleplay/?hl=kr&hlrm=en)\\r\\n\\r\\n구글 플레이에 등록된 앱과 개임은 개발자들이 제공하고 판매하는 것이며,  \\r\\n구글은 개발자가 등록한 상품 정보 및 거래에 대한 어떠한 책임도 지지 않습니다.\\r\\n\\r\\nGoogle Play의 최신 뉴스와 정보를 받을 것을 요청하셨기 때문에  \\r\\nsim11241124@gmail.com (으)로 메일이 발송되었습니다. 이와 같은 메일을 받고  \\r\\n싶지 않다면 다음에서 수신 거부하시기 바랍니다.  \\r\\nhttp://www.google.com/appserve/mkt/optout/1Zp5EhRVqmvQJPhiapgp12ViZqsGYUOM4?e=sim11241124%40gmail.com&hl=ko_KR .또한  \\r\\nhttps://play.google.com/store/account  \\r\\n(https://play.google.com/store/account).에 로그인하여 Google Play에서  \\r\\n이메일 환경설정을 변경할 수 있습니다.\\r\\n'"
      ]
     },
     "execution_count": 91,
     "metadata": {},
     "output_type": "execute_result"
    }
   ],
   "source": [
    "rmsgs = imap.fetch([42], ['BODY[]'])\n",
    "message = pyzmail.PyzMessage.factory(rmsgs[42][b'BODY[]'])\n",
    "len(message.mailparts)  #첨부파일 확인 속성 \n",
    "\n",
    "part = message.mailparts[0]\n",
    "part\n",
    "part.type   #첨부파일의 MIME타입\n",
    "part.charset   #첨부파일의 문자셋\n",
    "part.get_payload().decode(part.charset)  #본문 내용, 한글로 인코딩"
   ]
  },
  {
   "cell_type": "code",
   "execution_count": 119,
   "metadata": {},
   "outputs": [
    {
     "name": "stdout",
     "output_type": "stream",
     "text": [
      "[1635]\n",
      "MailPart<image/png filename=피카.png len=46511>\n"
     ]
    },
    {
     "data": {
      "text/plain": [
       "46511"
      ]
     },
     "execution_count": 119,
     "metadata": {},
     "output_type": "execute_result"
    }
   ],
   "source": [
    "imap = imapclient.IMAPClient('imap.gmail.com', ssl=True)\n",
    "imap.login('', '')\n",
    "uids = imap.select_folder('[Gmail]/전체보관함', readonly=False)\n",
    "\n",
    "uids = imap.search(['FROM', 'fbvl@naver.com'])\n",
    "\n",
    "#rmsgs = imap.fetch(uids, ['BODY[]', 'FLAGS']) \n",
    "print(uids)\n",
    "\n",
    "rmsgs = imap.fetch([1635], ['BODY[]'])\n",
    "message = pyzmail.PyzMessage.factory(rmsgs[1635][b'BODY[]'])\n",
    "#len(message.mailparts)  #첨부파일 확인 속성 \n",
    "\n",
    "\n",
    "#message.mailparts[0] 첫 파트 형식이 text/palin인 본문\n",
    "#message.mailparts[2] 두 번재 파트 형식은 본문 내용과 동일한 내용의 text/html\n",
    "part = message.mailparts[2] #세 번재 파트 형식은 첨부파일\n",
    "print(part)\n",
    "part.type  #image/png\n",
    "cont = part.get_payload()\n",
    "open(part.filename, 'wb').write(cont)  #첨부파일 이미지를 로컬 특정 디렉토리에 저장"
   ]
  },
  {
   "cell_type": "markdown",
   "metadata": {},
   "source": [
    "이메일 관리 – 메일 내용 읽기   \n",
    "• 본문 텍스트 내용은 message.text_part 혹은 message.html_part로 확인   \n",
    "\n",
    "• 첨부 파일이 추가된 메일은 멀티파트(multipart) 형식으로 만들어진다.    \n",
    "멀티파트 형식의 메일은 본문 이외의 추가적인 정보 혹은 첨부 파일 등을 함께 보낼 때 사용하는 형식이다    \n",
    "\n",
    "• get_payload() – 본문 내용을 읽어온다   \n",
    "한글은 디코딩 해야 읽을 수 있다 (part.charset 값을 활용하여 디코딩 )   "
   ]
  },
  {
   "cell_type": "markdown",
   "metadata": {},
   "source": [
    "이메일 전달   \n",
    "1. 이메일 한 개 가져온다   \n",
    "2. 가져온 이메일의 본문 내용을 읽어서 전달할 이메일의 메세지로 구성한다     \n",
    "   제목, 발신자 정보 설정 등    \n",
    "3. 메일 보내기"
   ]
  },
  {
   "cell_type": "code",
   "execution_count": 149,
   "metadata": {},
   "outputs": [
    {
     "name": "stdout",
     "output_type": "stream",
     "text": [
      "[1635]\n"
     ]
    }
   ],
   "source": [
    "import imapclient\n",
    "import email\n",
    "\n",
    "imap = imapclient.IMAPClient('imap.gmail.com', ssl=True)\n",
    "imap.login('', '')\n",
    "uids = imap.select_folder('[Gmail]/전체보관함', readonly=False)\n",
    "\n",
    "#uids = imap.search(['FROM', 'fbvl@naver.com'])\n",
    "uids = imap.search(['ON', date.today()])[:1]  #오늘 받은 메일 한 개 가져오기\n",
    "print(uids)\n",
    "rmsgs = imap.fetch(uids, ['BODY[]'])\n",
    "m = rmsgs[1635][b'BODY[]']   #uid는 검색된 메일 id값\n",
    "message = email.message_from_bytes(m)  #전달할 메일의 메세지로 구성\n"
   ]
  },
  {
   "cell_type": "code",
   "execution_count": 156,
   "metadata": {},
   "outputs": [
    {
     "data": {
      "text/plain": [
       "'피카.png'"
      ]
     },
     "execution_count": 156,
     "metadata": {},
     "output_type": "execute_result"
    }
   ],
   "source": [
    "from email.header import decode_header, Header\n",
    "\n",
    "message.get('subject')\n",
    "subject, encoding = decode_header(message.get('subject'))[0]\n",
    "str(subject, encoding)"
   ]
  },
  {
   "cell_type": "code",
   "execution_count": 157,
   "metadata": {},
   "outputs": [
    {
     "data": {
      "text/plain": [
       "[(b'\\xec\\x8b\\xac\\xec\\x84\\xb8\\xea\\xb2\\xbd', 'utf-8'),\n",
       " (b' <fbvl@naver.com>', None)]"
      ]
     },
     "execution_count": 157,
     "metadata": {},
     "output_type": "execute_result"
    }
   ],
   "source": [
    "message['from']\n",
    "decode_header(message['from'])"
   ]
  },
  {
   "cell_type": "code",
   "execution_count": 159,
   "metadata": {},
   "outputs": [
    {
     "name": "stdout",
     "output_type": "stream",
     "text": [
      "심세경 <fbvl@naver.com>\n"
     ]
    }
   ],
   "source": [
    "s = ''\n",
    "for text , encoding in decode_header(message['from']):  \n",
    "    if not encoding:\n",
    "        encoding='utf-8'\n",
    "    s += str(text, encoding)\n",
    "\n",
    "print(s)"
   ]
  },
  {
   "cell_type": "code",
   "execution_count": 160,
   "metadata": {},
   "outputs": [
    {
     "name": "stdout",
     "output_type": "stream",
     "text": [
      "Fwd(심세경 <fbvl@naver.com>): 피카.png\n"
     ]
    }
   ],
   "source": [
    "new_subject = 'Fwd({}): {}'.format(s, str(subject, encoding))\n",
    "print(new_subject)"
   ]
  },
  {
   "cell_type": "code",
   "execution_count": 162,
   "metadata": {},
   "outputs": [],
   "source": [
    "from_addr = 'sim11241124@gmail.com'\n",
    "to_addr = 'fbvl@naver.com'\n",
    "message.replace_header('from', from_addr)\n",
    "message.replace_header('to', to_addr)\n",
    "del message['cc']\n",
    "del message['bcc']\n",
    "message.replace_header('subject', Header(new_subject.encode('utf-8'), 'utf-8'))\n",
    "\n"
   ]
  },
  {
   "cell_type": "code",
   "execution_count": 163,
   "metadata": {},
   "outputs": [
    {
     "data": {
      "text/plain": [
       "(221, b'2.0.0 closing connection u25sm760162pgk.34 - gsmtp')"
      ]
     },
     "execution_count": 163,
     "metadata": {},
     "output_type": "execute_result"
    }
   ],
   "source": [
    "import smtplib\n",
    "\n",
    "smtp = smtplib.SMTP('smtp.gmail.com', 587)\n",
    "smtp.starttls()\n",
    "smtp.login('', '')\n",
    "smtp.sendmail(from_addr, to_addr, message.as_bytes())\n",
    "smtp.quit()"
   ]
  },
  {
   "cell_type": "markdown",
   "metadata": {},
   "source": [
    "### 프로그램 실행, 관리 자동화   \n",
    "\n",
    "프로그램 자동 실행  \n",
    "• os.startfile( path ) - 윈도우 파일 탐색기 실행  \n",
    "\n",
    "• webbrowser.open( url ) - 브라우저 열기  \n",
    "실행 명령어에 인수가 필요한 경우는 리스트에 묶어서 전달한다   \n",
    "\n",
    "• subprocess.Popen( program_name ) - 일반 프로그램 자동실행   \n",
    "실행 경로를 직접 입력해서 실행 시킬 수 있다.    \n",
    "\n",
    "• 콘솔(터미널)에서 실행한 명령의 텍스트 결과를 받으려면 stdout에 연결된 파이프(pipe)를 이용한다.    \n",
    "파이프 - 한 프로그램의 출력을 다른 프로그램의 입력으로 연결해주는 연결 프로그램   "
   ]
  },
  {
   "cell_type": "code",
   "execution_count": 166,
   "metadata": {},
   "outputs": [],
   "source": [
    "import os\n",
    "os.startfile('c:\\\\') # 파일 탐색기 열기"
   ]
  },
  {
   "cell_type": "code",
   "execution_count": 169,
   "metadata": {},
   "outputs": [
    {
     "data": {
      "text/plain": [
       "True"
      ]
     },
     "execution_count": 169,
     "metadata": {},
     "output_type": "execute_result"
    }
   ],
   "source": [
    "import webbrowser\n",
    "webbrowser.open('https://www.naver.com')  #브라우저 열기"
   ]
  },
  {
   "cell_type": "code",
   "execution_count": 168,
   "metadata": {},
   "outputs": [
    {
     "data": {
      "text/plain": [
       "<subprocess.Popen at 0x1bffb763a30>"
      ]
     },
     "execution_count": 168,
     "metadata": {},
     "output_type": "execute_result"
    }
   ],
   "source": [
    "from subprocess import Popen\n",
    "Popen('calc') # 계산기 실행"
   ]
  },
  {
   "cell_type": "code",
   "execution_count": 172,
   "metadata": {},
   "outputs": [
    {
     "data": {
      "text/plain": [
       "<subprocess.Popen at 0x1bffa5ff4c0>"
      ]
     },
     "execution_count": 172,
     "metadata": {},
     "output_type": "execute_result"
    }
   ],
   "source": [
    "Popen(['notepad', 'test.txt'])"
   ]
  },
  {
   "cell_type": "code",
   "execution_count": 177,
   "metadata": {},
   "outputs": [
    {
     "name": "stdout",
     "output_type": "stream",
     "text": [
      " C 드라이브의 볼륨에는 이름이 없습니다.\n",
      " 볼륨 일련 번호: 5EFA-1BA0\n",
      "\n",
      " C:\\workspace\\basic 디렉터리\n",
      "\n",
      "2021-04-22  오후 02:47    <DIR>          .\n",
      "2021-04-22  오후 02:47    <DIR>          ..\n",
      "2021-04-22  오후 12:34    <DIR>          .ipynb_checkpoints\n",
      "2021-04-20  오후 03:40            47,709 1.jpg\n",
      "2021-04-19  오후 01\n"
     ]
    }
   ],
   "source": [
    "from subprocess import PIPE\n",
    "\n",
    "pipe = Popen('dir', shell=True, stdout=PIPE)\n",
    "print(pipe.stdout.read().decode('cp949')[:284])"
   ]
  },
  {
   "cell_type": "markdown",
   "metadata": {},
   "source": [
    "지정된 시간에 함수 실행     \n",
    "• sched 모듈.scheduler객체.enter(delay, priority, action, arguement=(), kwargs={}) -실행할 함수 이벤트를 필요한 만큼 등록 ,   \n",
    "delay(지정된 시간), priority(우선순위), action(지정된 함수 실행)   \n",
    "• run() - 등록된 이벤트 실행   \n",
    "\n",
    "스케쥴을 실행해서 5초 후 my_job이 수행하고 그 아래 10초 후에 my_job이 찍히면 동기방식   \n",
    "하지만 실행대기 queap에서 두 개 모두 예약을 걸고 각각 실행되는 것은 비동기방식"
   ]
  },
  {
   "cell_type": "code",
   "execution_count": 180,
   "metadata": {},
   "outputs": [
    {
     "name": "stdout",
     "output_type": "stream",
     "text": [
      "...\n",
      "good!\n",
      "done\n"
     ]
    }
   ],
   "source": [
    "import sys\n",
    "import sched\n",
    "\n",
    "def my_job(text=\"...\"):\n",
    "    print(text)\n",
    "    sys.stdout.flush()\n",
    "    \n",
    "#블로킹 모드로 실행\n",
    "s = sched.scheduler()\n",
    "s.enter(5, 1, my_job)                        #5초 후 my_job() 호출 실행, 1은 우선순위\n",
    "s.enter(10, 1, my_job, argument=('good!',))  #10초 후 my_job() 호출 실행\n",
    "s.run() \n",
    "# Blocking이란 것인데 이 뜻은 앞선 작업의 결과가 나와야 다음 작업 결과를 보여주는 것\n",
    "#nonblocking은 그결과 나오는 순서대로 보여주는것\n",
    "\n",
    "print('done')"
   ]
  },
  {
   "cell_type": "markdown",
   "metadata": {},
   "source": [
    "지정된 시간에 함수 실행   \n",
    "• enterabs(절대시간, priority, action, arguement=(), kwargs={}) - 절대 시작 시간을 지정 , priority(우선순위), action(지정된 함수 실행)"
   ]
  },
  {
   "cell_type": "code",
   "execution_count": 181,
   "metadata": {},
   "outputs": [
    {
     "data": {
      "text/plain": [
       "Event(time=1619071189.9601858, priority=1, action=<function my_job at 0x000001BFFB80ED30>, argument=(), kwargs={})"
      ]
     },
     "execution_count": 181,
     "metadata": {},
     "output_type": "execute_result"
    }
   ],
   "source": [
    "import time\n",
    "\n",
    "s = sched.scheduler()\n",
    "s.enterabs(time.time()+5, 1, my_job)"
   ]
  },
  {
   "cell_type": "markdown",
   "metadata": {},
   "source": [
    "지정된 시간에 함수 실행    \n",
    "• 예약해 놓은 코드를 대기했다가 지정된 시간에 실행하도록 하면서, 다른 필요한 작업을 동시에 실행하게 하는 구조는 논블로킹 모드로서 파이썬에서 동시 실행이 가능한 구조는 스레딩(threading) 기법으로 해결합니다   \n",
    "\n",
    "• 하나의 프로그램이 동시에 실행 가능한 작은 단위로 나뉘었을 때, 각각을 스레드(thread) – 각 스레드는 상호협력하면서 동시에 실행된다   \n",
    "\n",
    "• threading모듈.Timer(interval, function, args=None, kwargs=None) - 지정된 시간에 특정 함수를 실행    \n",
    "interval= 간격, kwargs=키워드      \n",
    "\n",
    "interval초 이후에 인수 args와 키워드 인수 kwargs를 갖고 function을 실행하게 해주는 타이머를 생성    \n",
    "\n",
    "• timer객체.start() - 동작을 시작\n",
    "\n",
    "• timer객체.cancel() - 타이머 중단\n",
    "\n",
    "• timer객체.run_it_at() - at인수로 함수 func를 시작할 시간을 지정한다."
   ]
  },
  {
   "cell_type": "markdown",
   "metadata": {},
   "source": [
    "threading을 이용한 지정된 시간에 함수 실행하기(논블로킹 모드)"
   ]
  },
  {
   "cell_type": "code",
   "execution_count": 190,
   "metadata": {},
   "outputs": [
    {
     "name": "stdout",
     "output_type": "stream",
     "text": [
      "other works continued..\n",
      "good!!bad!!\n",
      "\n"
     ]
    }
   ],
   "source": [
    "import threading\n",
    "import time\n",
    "\n",
    "def my_job(text):\n",
    "    print(text)\n",
    "\n",
    "threading.Timer(5, my_job, ('good!!',)).start() # 5초 대기 후 실행\n",
    "threading.Timer(5, my_job, ('bad!!',)).start() # 5초 대기 후 실행\n",
    "print('other works continued..')  #바로실행\n",
    "time.sleep(5)"
   ]
  },
  {
   "cell_type": "code",
   "execution_count": 196,
   "metadata": {},
   "outputs": [
    {
     "name": "stdout",
     "output_type": "stream",
     "text": [
      "68.5304958820343\n",
      "other works continued..\n",
      "excellent!!!\n"
     ]
    }
   ],
   "source": [
    "import threading\n",
    "import time\n",
    "\n",
    "#지정된 시간에 인수로 전달받은 함수를 실행시키는 함수\n",
    "def run_it_at(at, func, args=()):\n",
    "    t = time.strptime(at, '%Y-%m-%d %H:%M:%S')\n",
    "    t = time.mktime(t) # 지정된 시간을 숫자 시간으로 변환\n",
    "    diff_sec = t - time.time() # 현재 시간과의 차이 => 대기시간(초)\n",
    "    print(diff_sec)\n",
    "    threading.Timer(diff_sec, func, args).start()\n",
    "\n",
    "def my_job(text):\n",
    "    print(text)\n",
    "\n",
    "run_it_at('2021-04-22 15:24:00', my_job, ('excellent!!!',))\n",
    "print('other works continued..')\n",
    "\n",
    "\n",
    "#sleep은 여러 thread가 동시에 시작해도 다른 thread들이 끝날 떄 까지 기다리는 느낌으로 사용\n",
    "#main이 끝날 때 같이 끝날 수가 있어서 기다리는 것\n",
    "time.sleep(120)  "
   ]
  },
  {
   "cell_type": "markdown",
   "metadata": {},
   "source": [
    "• scheule 모듈 - 어떤 함수를 주기적으로 실행시키기 위한 함수, 객체 제공  \n",
    "• schedule.every() - 실행 주기 설정"
   ]
  },
  {
   "cell_type": "code",
   "execution_count": 200,
   "metadata": {},
   "outputs": [
    {
     "name": "stdout",
     "output_type": "stream",
     "text": [
      "Collecting schedule\n",
      "  Downloading schedule-1.1.0-py2.py3-none-any.whl (10 kB)\n",
      "Installing collected packages: schedule\n",
      "Successfully installed schedule-1.1.0\n"
     ]
    }
   ],
   "source": [
    "! pip install schedule"
   ]
  },
  {
   "cell_type": "code",
   "execution_count": null,
   "metadata": {},
   "outputs": [],
   "source": [
    "import schedule\n",
    "import time\n",
    "\n",
    "def job(msg='I`m working...'):\n",
    "    print(msg)\n",
    "    \n",
    "schedule.every().seconds.do(job)  #1초마다\n",
    "schedule.every(5).seconds.do(job, ('5 sec',))  #매5초 마다\n",
    "schedule.every(10).minutes.do(job)  #10분마다\n",
    "schedule.every().hour.do(job, ('hour',))  #매시간 마다\n",
    "schedule.every().day.at(\"10:30\").do(job)  #매 10시30분마다\n",
    "schedule.every(5).to(10).seconds.do( job) # 5초에서 10초 마다 (랜덤으로 선택된다)\n",
    "schedule.every().wednesday.at(\"13:15\").do( job) # 수요일 13:15 마다\n",
    "\n",
    "while True:\n",
    "    schedule.run_pending() # 대기 중인 작업이 있다면 처리한다.\n",
    "    time.sleep(1)"
   ]
  },
  {
   "cell_type": "markdown",
   "metadata": {},
   "source": [
    "• 윈도우의 작업 스케줄러 schtasks.exe는 리눅스의 cron에 해당   \n",
    "• schtasks는 스크립트 자체가 실행 중이지 않아도 예약한 시간이 되면 시스템에서 알아서 스크립트를 시작하게 된다.    \n",
    "• 예약 작업을 설정할 때 윈도우 GUI 작업 스케줄러를 이용할 수도 있지만, schtasks.exe 명령으로 처리하면서 파이썬으로 등록하고 삭제할 수 있으므로 더욱 유명하게 활용할 수 있다"
   ]
  },
  {
   "cell_type": "markdown",
   "metadata": {},
   "source": [
    "명령 프롬프트창에서 schtasks 명령으로 현재 등록되어 있는 시스템 예약 작업 정보 확인 할 수 있다\n",
    "\n",
    "schtasks /create #예약 작업 생성\n",
    "\n",
    "schtasks /create /tn monitor /sc minute /tr calc #monitor란 이름의 작업은 계산기를 매분 실행\n",
    "\n",
    "파이썬 스크립트를 실행하려면 파이썬 프로그램의 실행 경로와 스크립트를 함께 지정\n",
    "\n",
    "schtasks /create /tn monitor /sc minute /tr “C:\\ProgramData\\Anaconda3\\python.exe\n",
    "\n",
    "c:\\workspace\\basic\\monitor.py”\n",
    "\n",
    "schtasks /create /tn monitor /sc minute /mo 5 /tr calc # 계산기를 5분마다 실행\n",
    "\n",
    "schtasks /create /tn monitor /sc daily /st 09:00 /tr calc #매일 아침 9시에 계산기를 실행\n",
    "\n",
    "schtasks /create /tn monitor /sc weekly /d Mon /st 09:00 /tr calc #매주 월요일 아침 9시에 계산기를 실행\n",
    "\n",
    "schtasks /delete # 예약 작업 삭제\n",
    "\n",
    "schtasks /delete /tn monitor /f  # #monitor란 이름의 작업 실행 삭제"
   ]
  },
  {
   "cell_type": "markdown",
   "metadata": {},
   "source": [
    "윈도우에서 작업 스케줄러 예약 작업 생성 옵션\n",
    "\n",
    "• /tn : taskname, 작업 이름\n",
    "\n",
    "• /sc : scheduler, 스케줄 빈도 설정\n",
    "\n",
    "• /mo : modifier, 반복 주기 값을 지정\n",
    "\n",
    "• /sd : startdate, 작업 시작 첫 번째 날짜\n",
    "\n",
    "• /ed : enddate, 작업의 종료 일자\n",
    "\n",
    "• /st : starttime, 작업 시작 시간\n",
    "\n",
    "• /et : endtime 작업 종료 시간\n",
    "\n",
    "• /d : 요일\n",
    "\n",
    "• /k : kill, 작업 종료 시간이 되면, 실행 중인 프로그램을 강제 종료\n",
    "\n",
    "• /it : 사용자가 로그온되어 있는 경우에만 실행\n",
    "\n",
    "• /tr : taskrun, 실행할 프로그램\n",
    "\n",
    "• /f : force, 작업이 수행되는 중이라도 임무를 수행한다"
   ]
  },
  {
   "cell_type": "markdown",
   "metadata": {},
   "source": [
    "윈도우에서 작업 스케줄러 예약 - 연습문제      \n",
    "뉴스 리더: 1시간 간격으로 뉴스 url수집해서 메일로 보내기   \n",
    "작업 예약 등록 명령  \n",
    "schtasks /create /tn newreader /sc hourly /mo 1 /tr \"c:\\workspace\\basic\\newreader.py\"\n",
    "\n",
    "\n",
    "• 등록한 키워드가 뉴스의 제목이나 요약에 있으면 이메일로 그 소식을 알려주는 프로그램 작성하고, 매시간 작동시키는 파이썬 프로그램 구현 (관심 키워드 : 금리, 환율)"
   ]
  },
  {
   "cell_type": "code",
   "execution_count": 205,
   "metadata": {},
   "outputs": [],
   "source": [
    "import smtplib\n",
    "import feedparser\n",
    "from email.mime.text import MIMEText\n",
    "from email.header import Header\n",
    "\n",
    "# 관심 RSS feed 주소를 추가, 변경한다.\n",
    "rss_feeds = [\n",
    "'http://file.mk.co.kr/news/rss/rss_30100041.xml',\n",
    "'http://file.mk.co.kr/news/rss/rss_50300009.xml'\n",
    "]\n",
    "\n",
    "# words of interest. 관심 단어\n",
    "WOI = ['금리', '환율']\n",
    "\n",
    "out = []\n",
    "for feed in rss_feeds:\n",
    "    d = feedparser.parse(feed)\n",
    "    for entry in d.entries:\n",
    "        for w in WOI:  #관심 단어가 제목이나 요약에 있는지 살핀다\n",
    "            if w in entry['title'] or w in entry['summary']:\n",
    "                s = '* {}{}'.format(entry['title'], entry['link'])\n",
    "                out.append(s)\n",
    "                break\n",
    "\n",
    "message = '\\n'.join(out)\n",
    "\n",
    "if message:\n",
    "    subject = 'RSS News'\n",
    "    mail_from = 'sim11241124@gmail.com'\n",
    "    mail_to = 'fbvl@naver.com'\n",
    "    id_ = ''  #smtp 서버에 로그인 가능한 메일 id\n",
    "    pw_ = '' #smtp서버에 로그인 가능한 메일 password\n",
    "    \n",
    "    smtp = smtplib.SMTP('smtp.gmail.com', 587)\n",
    "    smtp.ehlo()\n",
    "    smtp.starttls()\n",
    "    smtp.login('', '')\n",
    "    \n",
    "    msg = MIMEText(message.encode('utf-8'), _subtype='plain', _charset='utf-8')\n",
    "    msg['Subject'] = Header(subject.encode('utf-8'), 'utf-8')\n",
    "    msg['From'] = mail_from\n",
    "    msg['To'] = mail_to\n",
    "    \n",
    "    smtp.sendmail(mail_from, mail_to, msg.as_string())\n",
    "    smtp.quit()"
   ]
  }
 ],
 "metadata": {
  "kernelspec": {
   "display_name": "Python 3",
   "language": "python",
   "name": "python3"
  },
  "language_info": {
   "codemirror_mode": {
    "name": "ipython",
    "version": 3
   },
   "file_extension": ".py",
   "mimetype": "text/x-python",
   "name": "python",
   "nbconvert_exporter": "python",
   "pygments_lexer": "ipython3",
   "version": "3.8.5"
  }
 },
 "nbformat": 4,
 "nbformat_minor": 4
}
