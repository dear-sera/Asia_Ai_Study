{
 "cells": [
  {
   "cell_type": "markdown",
   "id": "invisible-utilization",
   "metadata": {},
   "source": [
    "### 파일 폴더 관리 자동화   \n",
    "• 파일명을 변경하고 폴더를 옮기는 등 파일에 관한 작업을 자동화    \n",
    "• 파일명을 변경하거나 폴더를 옮기는 기능은 주로 스캐너나 별도의 업무용 프로그램에 의해 자동으로 생성되는 수많은 파일들을 분류할 때 필요   \n",
    "• shutil 라이브러리 - 파일, 폴더와 관련된 함수와 클래스를 제공    \n",
    "• os 라이브러리 - 운영체제와 관련된 함수와 클래스를 제공하는 라이브러리, 파일, 폴더와 관련된 함수와 클래스를 일부 제공   "
   ]
  },
  {
   "cell_type": "markdown",
   "id": "applicable-behalf",
   "metadata": {},
   "source": [
    "파일 폴더 관리 자동화  \n",
    "• glob모듈의 glob(pathname) - 파이썬으로 어떤 디렉토리 안에 있는 파일 목록을 얻는 방법   \n",
    "인수 pathname에 와일드 문자(wildcard character)를 사용   \n",
    "?는 임의의 문자 1개와 일치,   \n",
    "*는 임의의 개수(0개 포함)의 모든 문자와 일치, [...]는 괄호 안의 임의의 1개 문자와 일치   \n",
    "pathname 인수의 값으로 window 환경에서는 대소문자 구별하지 않음   "
   ]
  },
  {
   "cell_type": "code",
   "execution_count": 8,
   "id": "hazardous-hardwood",
   "metadata": {},
   "outputs": [
    {
     "data": {
      "text/plain": [
       "['C:\\\\Windows\\\\hh.exe', 'C:\\\\Windows\\\\py.exe']"
      ]
     },
     "execution_count": 8,
     "metadata": {},
     "output_type": "execute_result"
    }
   ],
   "source": [
    "import glob\n",
    "\n",
    "glob.glob(\"C:\\\\Windows\\\\*.exe\")  #exe로 끝나는 파일\n",
    "glob.glob('C:\\\\Windows\\\\[bc]*.*') # b혹은 c로 시작하는 파일들\n",
    "glob.glob('C:\\\\Windows\\\\??.exe')  #??두글자의 파일이름"
   ]
  },
  {
   "cell_type": "markdown",
   "id": "scenic-millennium",
   "metadata": {},
   "source": [
    "파일 폴더 관리 자동화 \n",
    "\n",
    "• os.listdir(directory_path) - 한 디렉토리의 파일 목록을 얻는 방법   \n",
    "디렉토리 경로만 지정   \n",
    "파일 이름의 목록을 반환    \n",
    "• os 모듈의 walk() - 디렉토리의 하위 트리 구조를 재귀적으로 검색해 가면서 (현재 디렉토리, 디렉토리 목록, 파일 목록) 을 반환   \n",
    "for문과 함께 사용한다면 시작 디렉토리를 기준으로 아래에 있는 모든 디렉토리를 방문해 볼 수 있다"
   ]
  },
  {
   "cell_type": "code",
   "execution_count": 11,
   "id": "violent-cooper",
   "metadata": {},
   "outputs": [
    {
     "name": "stdout",
     "output_type": "stream",
     "text": [
      "basic\n",
      "roboadvisor\n"
     ]
    }
   ],
   "source": [
    "import os\n",
    "\n",
    "for fname in os.listdir('c:\\\\workspace'):\n",
    "    print(fname)\n"
   ]
  },
  {
   "cell_type": "code",
   "execution_count": 16,
   "id": "engaging-mills",
   "metadata": {},
   "outputs": [],
   "source": [
    "import os\n",
    "#양이 너무 많아 느려져서 주석처리 함\n",
    "#for (curdir, dirs, files) in os.walk('.'): # (방문 디렉토리 경로, 디렉토리 목록, 파일 목록)\n",
    "    #print('curdir=', curdir) # 현재 방문 중인 디렉터리\n",
    "    #print('dirs=', dirs[:2]) # 디렉토리 이름들, 지면 관계상 2개까지만\n",
    "    #print('files=', files[:2]) # 파일 이름들, 지면 관계상 2개까지만\n",
    "    #print('-'*60)"
   ]
  },
  {
   "cell_type": "markdown",
   "id": "controlled-shooting",
   "metadata": {},
   "source": [
    "파일 폴더 관리 자동화  \n",
    "• os.path.isfile(path) - 일반 파일인지 검사  \n",
    "• os.path.isdir(path) - 디렉토리인지 검사  \n",
    "• os.path.exists(path) - 경로의 파일이 존재하는지 검사   \n",
    "• os.path.getsize(path) - 파일의 크기 확인   \n",
    "• os.access(path, 검사할 권한) - F_OK(파일 존재 검사), R_OK(읽기 권한 검사), W_OK(쓰기 권한 검사), X_OK(실행 권한 검사)   "
   ]
  },
  {
   "cell_type": "code",
   "execution_count": 26,
   "id": "narrow-bargain",
   "metadata": {},
   "outputs": [
    {
     "name": "stdout",
     "output_type": "stream",
     "text": [
      "202240 bytes\n"
     ]
    },
    {
     "data": {
      "text/plain": [
       "True"
      ]
     },
     "execution_count": 26,
     "metadata": {},
     "output_type": "execute_result"
    }
   ],
   "source": [
    "import os\n",
    "\n",
    "fpath = \"C:\\\\Windows\\\\notepad.exe\"\n",
    "os.path.isfile(fpath) # 일반 파일인지를 검사한다 true\n",
    "os.path.isdir(fpath) # 디렉토리인지 검사한다 false\n",
    "os.path.exists(fpath) # 주어진 경로의 파일이 존재하는지 검사한다 true\n",
    "os.path.getsize(fpath) # 파일의 크기를 얻는다  202240\n",
    "print(os.path.getsize(fpath), 'bytes')  #202240 bytes\n",
    "os.access(fpath, os.X_OK) # 파일의 실행 권한을 확인해본다. true"
   ]
  },
  {
   "cell_type": "markdown",
   "id": "congressional-ethics",
   "metadata": {},
   "source": [
    "파일 폴더 관리 자동화  \n",
    "• os.path.gettime(path)- 파일 생성 시간 반환    \n",
    "• os.path.getmtime(path) - 파일 수정 시간 반환    \n",
    "• os.path.getatime(path) - 파일 접근 시간 반환    \n",
    "• os.utime(paht, (atime, mtime)) - 파일의 수정 시간과 접근 시간을 변경할 수 있다"
   ]
  },
  {
   "cell_type": "code",
   "execution_count": 30,
   "id": "temporal-benjamin",
   "metadata": {},
   "outputs": [
    {
     "data": {
      "text/plain": [
       "1612960128.701831"
      ]
     },
     "execution_count": 30,
     "metadata": {},
     "output_type": "execute_result"
    }
   ],
   "source": [
    "import os\n",
    "\n",
    "fpath = \"C:\\\\Windows\\\\notepad.exe\"\n",
    "os.path.getctime(fpath) # 파일 생성시간 UTC시간 기준(1970년 1월 1일 0시)기준으로 second(초)"
   ]
  },
  {
   "cell_type": "code",
   "execution_count": 34,
   "id": "abroad-kinase",
   "metadata": {},
   "outputs": [
    {
     "name": "stdout",
     "output_type": "stream",
     "text": [
      "2021-02-10 21:28:48.701831\n"
     ]
    }
   ],
   "source": [
    "from datetime import datetime\n",
    "d = datetime.fromtimestamp(1612960128.701831)\n",
    "print(d)"
   ]
  },
  {
   "cell_type": "code",
   "execution_count": 31,
   "id": "rolled-frost",
   "metadata": {},
   "outputs": [
    {
     "data": {
      "text/plain": [
       "1612960128.7116144"
      ]
     },
     "execution_count": 31,
     "metadata": {},
     "output_type": "execute_result"
    }
   ],
   "source": [
    "os.path.getmtime(fpath) # 파일 수정시간"
   ]
  },
  {
   "cell_type": "code",
   "execution_count": 32,
   "id": "virtual-upper",
   "metadata": {},
   "outputs": [
    {
     "data": {
      "text/plain": [
       "1612960128.7116144"
      ]
     },
     "execution_count": 32,
     "metadata": {},
     "output_type": "execute_result"
    }
   ],
   "source": [
    "os.path.getatime(fpath) # 파일 접근시간"
   ]
  },
  {
   "cell_type": "code",
   "execution_count": 38,
   "id": "blond-runner",
   "metadata": {},
   "outputs": [
    {
     "name": "stdout",
     "output_type": "stream",
     "text": [
      "1574715600.0 2019-11-26 06:00:00\n"
     ]
    }
   ],
   "source": [
    "mtime = os.path.getmtime('KakaoTalk_20210407_125215856.png') #파일수정시간 변경\n",
    "print(mtime, datetime.fromtimestamp(mtime))"
   ]
  },
  {
   "cell_type": "code",
   "execution_count": 39,
   "id": "unavailable-fishing",
   "metadata": {},
   "outputs": [
    {
     "name": "stdout",
     "output_type": "stream",
     "text": [
      "1574715600.0 2019-11-26 06:00:00\n"
     ]
    }
   ],
   "source": [
    "atime = os.path.getatime('KakaoTalk_20210407_125215856.png') #파일접근시간 변경\n",
    "print(atime, datetime.fromtimestamp(atime))"
   ]
  },
  {
   "cell_type": "code",
   "execution_count": 40,
   "id": "furnished-sandwich",
   "metadata": {},
   "outputs": [
    {
     "name": "stdout",
     "output_type": "stream",
     "text": [
      "1574712000.0 2019-11-26 05:00:00\n",
      "1574715600.0 2019-11-26 06:00:00\n"
     ]
    }
   ],
   "source": [
    "#파일수정시간과 접근시간을 변경 3600초로=1시간\n",
    "os.utime('KakaoTalk_20210407_125215856.png', (atime, mtime-60*60))\n",
    "mtime = os.path.getmtime('KakaoTalk_20210407_125215856.png')\n",
    "print(mtime, datetime.fromtimestamp(mtime))\n",
    "atime = os.path.getatime('KakaoTalk_20210407_125215856.png')\n",
    "print(atime, datetime.fromtimestamp(atime))"
   ]
  },
  {
   "cell_type": "code",
   "execution_count": 41,
   "id": "raising-burner",
   "metadata": {},
   "outputs": [
    {
     "name": "stdout",
     "output_type": "stream",
     "text": [
      "1637874000.0 2021-11-26 06:00:00\n",
      "1637874000.0 2021-11-26 06:00:00\n"
     ]
    }
   ],
   "source": [
    "atime = mtime = datetime(year=2021, month=11, day=26, hour=6, minute=0, second=0).timestamp()\n",
    "os.utime('KakaoTalk_20210407_125215856.png', (atime, mtime))\n",
    "mtime = os.path.getmtime('KakaoTalk_20210407_125215856.png')\n",
    "print(mtime, datetime.fromtimestamp(mtime))\n",
    "atime = os.path.getatime('KakaoTalk_20210407_125215856.png')\n",
    "print(atime, datetime.fromtimestamp(atime))"
   ]
  },
  {
   "cell_type": "markdown",
   "id": "liked-contribution",
   "metadata": {},
   "source": [
    "파일 폴더 관리 자동화\n",
    "\n",
    "• os.rename(old, new) - 파일 혹은 디렉토리의 이름 변경  \n",
    "• shutil모듈.copy(path, path) - 디렉토리 복사  \n",
    "• shutil모듈.copyfile(path, path) - 파일 복사  \n",
    "• shutil모듈.copytree(path, path) - 디렉토리 통째로 복사  \n",
    "• os.remove(path) - 파일 삭제  "
   ]
  },
  {
   "cell_type": "code",
   "execution_count": 45,
   "id": "annoying-helicopter",
   "metadata": {},
   "outputs": [],
   "source": [
    "import os\n",
    "os.rename('KakaoTalk_20210407_125215856.png', './roboadvisor/KakaoTalk_20210407_125215856.png') # 파일의 이동"
   ]
  },
  {
   "cell_type": "code",
   "execution_count": 47,
   "id": "waiting-scottish",
   "metadata": {},
   "outputs": [],
   "source": [
    "os.rename('KakaoTalk_20210407_125215856.png','/datas/btn01.png') # 디렉터리의 이동"
   ]
  },
  {
   "cell_type": "code",
   "execution_count": 8,
   "id": "informative-mounting",
   "metadata": {},
   "outputs": [
    {
     "data": {
      "text/plain": [
       "'2.png'"
      ]
     },
     "execution_count": 8,
     "metadata": {},
     "output_type": "execute_result"
    }
   ],
   "source": [
    "import shutil\n",
    "shutil.copyfile('1.png', '2.png') # a.py를 b.py로 복사"
   ]
  },
  {
   "cell_type": "code",
   "execution_count": 52,
   "id": "female-hebrew",
   "metadata": {},
   "outputs": [
    {
     "data": {
      "text/plain": [
       "'./roboadvisor/1.png'"
      ]
     },
     "execution_count": 52,
     "metadata": {},
     "output_type": "execute_result"
    }
   ],
   "source": [
    "shutil.copy('1.png', './roboadvisor/') # a.py를 /data 디렉터리로 복사"
   ]
  },
  {
   "cell_type": "code",
   "execution_count": 56,
   "id": "overhead-trade",
   "metadata": {},
   "outputs": [
    {
     "data": {
      "text/plain": [
       "'./datas/'"
      ]
     },
     "execution_count": 56,
     "metadata": {},
     "output_type": "execute_result"
    }
   ],
   "source": [
    "shutil.copytree('./Music/', './datas/') # 디렉터리 통째로 복사"
   ]
  },
  {
   "cell_type": "code",
   "execution_count": 57,
   "id": "protective-alpha",
   "metadata": {},
   "outputs": [
    {
     "data": {
      "text/plain": [
       "'./datas2/'"
      ]
     },
     "execution_count": 57,
     "metadata": {},
     "output_type": "execute_result"
    }
   ],
   "source": [
    "shutil.copytree('./Music/', './datas2/') # 디렉터리 통째로 복사"
   ]
  },
  {
   "cell_type": "code",
   "execution_count": null,
   "id": "composite-manufacturer",
   "metadata": {},
   "outputs": [],
   "source": [
    "os.remove('1.png') # 파일 삭제"
   ]
  },
  {
   "cell_type": "markdown",
   "id": "acoustic-broadway",
   "metadata": {},
   "source": [
    "파일 폴더 관리 자동화    \n",
    "• shutil모듈.rmtree(path) - 디렉토리 삭제 (디렉토리 내의 파일과 하위 디렉토리의 파일도 함께 삭제)    \n",
    "• os.rmdir(path) - 빈 디렉토리 삭제    \n",
    "• os.removedirs(path) - 여러 단계의 디렉토리 삭제, 디렉토리가 비어 있으면 삭제하지 않고 중단된다.    \n",
    "• os.mkdir( name ) - 새로운 디렉토리 생성    \n",
    "• os.makedirs() - 중간경로를 포함한 디렉토리 생성    \n",
    "• os.unlink(path) - 파일 경로를 입력 받아 해당 파일을 삭제, 입력값이 폴더인 경우 오류 발생   "
   ]
  },
  {
   "cell_type": "code",
   "execution_count": 64,
   "id": "foreign-masters",
   "metadata": {},
   "outputs": [],
   "source": [
    "import os\n",
    "import shutil\n",
    "\n",
    "#삭제권한이 없어서 실행못함\n",
    "#shutil.rmtree('./datas/') # 디렉터리 통째로 삭제"
   ]
  },
  {
   "cell_type": "code",
   "execution_count": 65,
   "id": "surrounded-elevation",
   "metadata": {},
   "outputs": [],
   "source": [
    "#os.rmdir('./datas2/')"
   ]
  },
  {
   "cell_type": "code",
   "execution_count": 66,
   "id": "beginning-signal",
   "metadata": {},
   "outputs": [],
   "source": [
    "#os.removedirs('./roboadvisor/1.png')"
   ]
  },
  {
   "cell_type": "code",
   "execution_count": 70,
   "id": "interested-indie",
   "metadata": {},
   "outputs": [],
   "source": [
    "os.mkdir('./temp')\n",
    "os.makedirs('/roboadvisor/apple')"
   ]
  },
  {
   "cell_type": "markdown",
   "id": "israeli-hardware",
   "metadata": {},
   "source": [
    "파일 폴더 관리 자동화 – 연습문제 1   \n",
    "\n",
    "• 파일 이름 일괄 변경 예] py_a_a_1.txt => py_a_a_001.txt  \n",
    "• split_file_path()는 파일명을 경로, 파일명 전체, 파일명 앞부분, 확장자로 분리하여 네가지 값을 튜플로 반환"
   ]
  },
  {
   "cell_type": "code",
   "execution_count": 78,
   "id": "broad-prescription",
   "metadata": {},
   "outputs": [
    {
     "name": "stdout",
     "output_type": "stream",
     "text": [
      "creating.. test/py_a_a_0.txt\n",
      "creating.. test/py_a_a_1.txt\n",
      "creating.. test/py_a_a_2.txt\n",
      "creating.. test/py_a_a_3.txt\n",
      "creating.. test/py_a_a_4.txt\n",
      "creating.. test/py_a_a_5.txt\n",
      "creating.. test/py_a_a_6.txt\n",
      "creating.. test/py_a_a_7.txt\n",
      "creating.. test/py_a_a_8.txt\n",
      "creating.. test/py_a_a_9.txt\n",
      "creating.. test/py_a_a_10.txt\n",
      "creating.. test/py_a_a_11.txt\n",
      "creating.. test/py_a_a_12.txt\n",
      "creating.. test/py_a_a_13.txt\n",
      "creating.. test/py_a_a_14.txt\n",
      "creating.. test/py_a_a_15.txt\n",
      "creating.. test/py_a_a_16.txt\n",
      "creating.. test/py_a_a_17.txt\n",
      "creating.. test/py_a_a_18.txt\n",
      "creating.. test/py_a_a_19.txt\n"
     ]
    }
   ],
   "source": [
    "import os\n",
    "\n",
    "# 폴더가 없으면 폴더를 생성한다\n",
    "if not os.path.exists('test'):\n",
    "    os.mkdir('test')\n",
    "\n",
    "#작업디렉토리(fbvl)안에 test디렉토리가 생기고 그안에 20개의 txt가 생김\n",
    "for k in range(20):\n",
    "    fname = 'test/py_a_a_{}.txt'.format(k)\n",
    "    open(fname, 'w').write(fname +' testing...')\n",
    "    print('creating..', fname)"
   ]
  },
  {
   "cell_type": "code",
   "execution_count": 75,
   "id": "emotional-niger",
   "metadata": {},
   "outputs": [
    {
     "data": {
      "text/plain": [
       "('C:\\\\Users\\x0cbvl\\test', 'py_a_a_1.txt', 'py_a_a_1', '.txt')"
      ]
     },
     "execution_count": 75,
     "metadata": {},
     "output_type": "execute_result"
    }
   ],
   "source": [
    "#힌트!\n",
    "import os\n",
    "\n",
    "def split_file_path(fpath):\n",
    "    folder, fname = os.path.split(fpath)\n",
    "    head, tail = os.path.splitext(fname)\n",
    "    return folder, fname, head, tail\n",
    "    \n",
    "# 폴더, 파일이름, 확장자로 구분해준다.\n",
    "split_file_path('C:\\\\Users\\fbvl\\test\\py_a_a_1.txt')"
   ]
  },
  {
   "cell_type": "code",
   "execution_count": 76,
   "id": "printable-contest",
   "metadata": {},
   "outputs": [
    {
     "data": {
      "text/plain": [
       "['py', 'a', 'a', '19']"
      ]
     },
     "execution_count": 76,
     "metadata": {},
     "output_type": "execute_result"
    }
   ],
   "source": [
    "head = 'py_a_a_19'  \n",
    "head.split('_')   #언더바를 기준으로 쪼개줌"
   ]
  },
  {
   "cell_type": "code",
   "execution_count": 77,
   "id": "printable-commercial",
   "metadata": {},
   "outputs": [
    {
     "data": {
      "text/plain": [
       "'py_a_a_019'"
      ]
     },
     "execution_count": 77,
     "metadata": {},
     "output_type": "execute_result"
    }
   ],
   "source": [
    "fields = head.split('_')\n",
    "\n",
    "#:03d는 3자리 숫자롤 바꾸라는 건데 19는 두 자리니까 앞에 0을 넣어줌\n",
    "fields[-1] = '{:03d}'.format(int(fields[-1]))  #[-1]인 요소가 '19'\n",
    "'_'.join(fields)"
   ]
  },
  {
   "cell_type": "code",
   "execution_count": 79,
   "id": "subject-effectiveness",
   "metadata": {},
   "outputs": [],
   "source": [
    "target_string = \"py_a_a_\"\n",
    "target_list = glob.glob(\"test/\" + target_string + \"*.txt\")\n",
    "\n",
    "for t in target_list:\n",
    "    fdir, name, head, tails = split_file_path(t)\n",
    "    head_split = head.split(\"_\")\n",
    "    head_split[-1] = \"{:03d}\".format(int(head_split[-1]))\n",
    "    temp = \"_\".join(head_split)\n",
    "    result = fdir + \"\\\\\" + temp + tails\n",
    "    os.rename(t, result)"
   ]
  },
  {
   "cell_type": "markdown",
   "id": "early-activity",
   "metadata": {},
   "source": [
    "파일 폴더 관리 자동화   \n",
    "• grep 기능 - 텍스트 파일에서 특정 패턴의 문자열을 포함한 부분을 찾는 기능   \n",
    "• mimetypes.guess_type() - 이진 파일 혹은 텍스트 파일의 구분, (파일타입, 인코딩 반환)   \n",
    "• chardet.detect() - 문자 인코딩 판단   \n",
    "• str(content, encoding) - 인코딩 정보를 이용해서 문자열로 변환"
   ]
  },
  {
   "cell_type": "markdown",
   "id": "attached-brighton",
   "metadata": {},
   "source": [
    "내 일을 바꾸는 업무 자동화 책 p.152 예제"
   ]
  },
  {
   "cell_type": "code",
   "execution_count": 91,
   "id": "satisfactory-barrel",
   "metadata": {},
   "outputs": [
    {
     "data": {
      "text/plain": [
       "6"
      ]
     },
     "execution_count": 91,
     "metadata": {},
     "output_type": "execute_result"
    }
   ],
   "source": [
    "from os import listdir\n",
    "\n",
    "write_file = open('statistics.csv', 'w')  #결과파일 생성, 제목쓰기  \n",
    "write_file.write('년월,매출\\n')"
   ]
  },
  {
   "cell_type": "code",
   "execution_count": 92,
   "id": "common-removal",
   "metadata": {},
   "outputs": [
    {
     "name": "stdout",
     "output_type": "stream",
     "text": [
      "['2017.01.csv', '2017.02.csv', '2017.03.csv', '2017.04.csv', '2017.05.csv', '2017.06.csv', '2017.07.csv', '2017.08.csv', '2017.09.csv', '2017.10.csv', '2017.11.csv', '2017.12.csv']\n"
     ]
    }
   ],
   "source": [
    "csv_files = './csv_files/'\n",
    "file_list = listdir(csv_files)  #파일들을 리스트로 작성\n",
    "file_list.sort()  #월별로 정렬\n",
    "print(file_list)"
   ]
  },
  {
   "cell_type": "code",
   "execution_count": 93,
   "id": "junior-brake",
   "metadata": {},
   "outputs": [
    {
     "name": "stdout",
     "output_type": "stream",
     "text": [
      "2017.01\n",
      "2017.02\n",
      "2017.03\n",
      "2017.04\n",
      "2017.05\n",
      "2017.06\n",
      "2017.07\n",
      "2017.08\n",
      "2017.09\n",
      "2017.10\n",
      "2017.11\n",
      "2017.12\n"
     ]
    }
   ],
   "source": [
    "for f_name in file_list:   #12개의 파일마다 반복\n",
    "    if f_name[-3:] != 'csv':   #.csv파일만 처리하기 위한 필터\n",
    "        continue\n",
    "        \n",
    "    sum_value = 0  #변수 0으로 초기화\n",
    "    f = open(csv_files+f_name, 'r')  #csv파일을 읽기모드로 open\n",
    "    \n",
    "    while True:\n",
    "        row = f.readline()   #레코드 단위로 읽어옴\n",
    "        if not row:\n",
    "            break\n",
    "        \n",
    "        data = row.split(',')     #레코드를 tokenize해서 리스트로 반환\n",
    "        if data[1].isdigit():\n",
    "            sum_value += int(data[1])  #수강금액 필드값 누적합\n",
    "            \n",
    "    print(f_name[:7])\n",
    "    write_file.write('%s, %d\\n'%(f_name[:7], sum_value))\n",
    "    f.close()\n",
    "    \n",
    "write_file.close()\n",
    "        \n",
    " "
   ]
  },
  {
   "cell_type": "markdown",
   "id": "primary-injury",
   "metadata": {},
   "source": [
    "여기까지 실행하면 statistics.csv에 년월, 매출이 입력됨(예제 완료)"
   ]
  },
  {
   "cell_type": "markdown",
   "id": "stable-abraham",
   "metadata": {},
   "source": [
    "### 엑셀 자동화\n",
    "\n",
    "• 엑셀 파일을 만들고 원하는 위치에 원하는 데이터(또는 수식) 입력   \n",
    "• 셀 스타일 적용(가로 세로 크기, 폰트, 배경 색), 병합, 차트 생성, 이미지 추가 등 대부분의 작업이 가능   \n",
    "• 이미 만들어져 있는 파일을 필요한 영역만큼만 읽어와서 데이터를 확인하는 작업도 가능  \n",
    "• openpyxl 모듈 (https://pypi.python.org/pypi/openpyxl)   > 보통 이걸 가장 많이 사용   \n",
    "pip install openpyxl 설치하기   \n",
    "• csv 모듈 (https://docs.python.org/3/csv.html)  \n",
    "• XlsxWriter(https://pypi.python.org/pypi/XlsxWriter)  "
   ]
  },
  {
   "cell_type": "markdown",
   "id": "mediterranean-amendment",
   "metadata": {},
   "source": [
    "엑셀 자동화   \n",
    "• csv.reader(파일객체) - Iterator 타입인 reader 객체를 리턴, for 루프를 돌며 한 라인씩 가져올 수 있다.    \n",
    "각 라인은 컬럼들을 나열한 리스트(list) 타입   \n",
    "\n",
    "• csv.writer(파일객체) - writerow() 라는 메서드를 통해 list 데이타를 한 라인 추가하게 된다.   \n",
    "데이타를 쓸 때 각 라인 뒤에 빈 라인이 추가되는 문제는 파일을 open 할 때 newline='' 와 같은 옵션을 지정하여 해결 한다   \n",
    "\n",
    "• DictReader로 파이썬 딕셔너리 폼으로 읽을 수 있고, DictWriter로 쓸 수도 있습니다.  \n",
    "csv.DictReader() 반환 객체의 속성 - fieldnames(열 이름 목록), dialect(CSV 파일 형식), line_num(읽고 있는 현재 행 번호), next() : 다음 행으로 이동"
   ]
  },
  {
   "cell_type": "code",
   "execution_count": 97,
   "id": "emotional-watts",
   "metadata": {},
   "outputs": [
    {
     "name": "stdout",
     "output_type": "stream",
     "text": [
      "OrderedDict([('수강생명', '배찬우'), ('수강금액', '900000'), ('상담날짜', '2017.10.10'), ('강좌명', '파이썬 자동화 강의')])\n",
      "OrderedDict([('수강생명', '조윤장'), ('수강금액', '820000'), ('상담날짜', '2017.10.11'), ('강좌명', '파이썬 자동화 강의')])\n",
      "OrderedDict([('수강생명', '김민우'), ('수강금액', '720000'), ('상담날짜', '2017.10.02'), ('강좌명', '파이썬 자동화 강의')])\n",
      "OrderedDict([('수강생명', '이은철'), ('수강금액', '910000'), ('상담날짜', '2017.10.12'), ('강좌명', '파이썬 자동화 강의')])\n",
      "OrderedDict([('수강생명', '정용운'), ('수강금액', '900000'), ('상담날짜', '2017.10.09'), ('강좌명', '파이썬 자동화 강의')])\n",
      "OrderedDict([('수강생명', '윤순규'), ('수강금액', '920000'), ('상담날짜', '2017.10.06'), ('강좌명', '파이썬 자동화 강의')])\n",
      "OrderedDict([('수강생명', '이창희'), ('수강금액', '620000'), ('상담날짜', '2017.10.08'), ('강좌명', '파이썬 자동화 강의')])\n",
      "OrderedDict([('수강생명', '정택호'), ('수강금액', '540000'), ('상담날짜', '2017.10.17'), ('강좌명', '파이썬 자동화 강의')])\n",
      "OrderedDict([('수강생명', '양영주'), ('수강금액', '230000'), ('상담날짜', '2017.10.02'), ('강좌명', '파이썬 자동화 강의')])\n",
      "OrderedDict([('수강생명', '권민재'), ('수강금액', '680000'), ('상담날짜', '2017.10.29'), ('강좌명', '파이썬 자동화 강의')])\n"
     ]
    }
   ],
   "source": [
    "import csv\n",
    "with open('./csv_files/2017.01.csv') as csvfile:\n",
    "    rdr = csv.DictReader(csvfile)  #딕셔너리 폼으로 읽음\n",
    "    for i in rdr:\n",
    "        print(i)"
   ]
  },
  {
   "cell_type": "markdown",
   "id": "knowing-comfort",
   "metadata": {},
   "source": [
    "엑셀 자동화  \n",
    "• 워크북은 여러 개의 워크시트를 포함하지만, 기본적으로 ‘Sheet’라는 이름의 워크시트를 한 개 자동으로 생성   \n",
    "\n",
    "• Workbook객체.active - 현재 활성화되어 있는 워크시트를 얻어 올 수 있다\n",
    "\n",
    "• Workbook객체.create_sheet(name, idx) - 새로운 워크시트 추가, 삽입 위치 지정\n",
    "\n",
    "• Workbook객체[시트이름] - 워크시트 객체 반환\n",
    "\n",
    "• 워크시트객체.title - 시트 이름 변경\n",
    "\n",
    "• 워크시트객체[셀기호] - 셀 접근\n",
    "\n",
    "• 워크시트객체.cell(row, column, value) - 셀 접근, 행, 열, 첨자 값이 1부터 시작,\n",
    "\n",
    "• openpyxl.load_workbook() - 엑셀 파일을 읽고, 워크북 객체 반환\n",
    "\n",
    "• 데이터가 있는 모든 행과 열에 대한 반복문을 통해서 개별 값을 읽어낼 수 있다. - for 반복문의 범위는 실제로 데이터가 있는 영역으로 자동으로 한정된다."
   ]
  },
  {
   "cell_type": "markdown",
   "id": "flexible-radio",
   "metadata": {},
   "source": [
    "• Workbook객체.get_sheet_names( ) - 워크북의 워크시트를 선택  \n",
    "\n",
    "• Workbook객체.get_sheet_by_name(’시트이름’) - 워크북의 워크시트를 선택"
   ]
  },
  {
   "cell_type": "code",
   "execution_count": 100,
   "id": "possible-jamaica",
   "metadata": {},
   "outputs": [
    {
     "name": "stdout",
     "output_type": "stream",
     "text": [
      "Collecting openpyxl\n",
      "  Downloading openpyxl-3.0.7-py2.py3-none-any.whl (243 kB)\n",
      "Collecting et-xmlfile\n",
      "  Downloading et_xmlfile-1.0.1.tar.gz (8.4 kB)\n",
      "Building wheels for collected packages: et-xmlfile\n",
      "  Building wheel for et-xmlfile (setup.py): started\n",
      "  Building wheel for et-xmlfile (setup.py): finished with status 'done'\n",
      "  Created wheel for et-xmlfile: filename=et_xmlfile-1.0.1-py3-none-any.whl size=8913 sha256=38b198750af9216b7ba98822e58d64914c3aa75a7236df0762a32fdfd2ed42e4\n",
      "  Stored in directory: c:\\users\\fbvl\\appdata\\local\\pip\\cache\\wheels\\e2\\bd\\55\\048b4fd505716c4c298f42ee02dffd9496bb6d212b266c7f31\n",
      "Successfully built et-xmlfile\n",
      "Installing collected packages: et-xmlfile, openpyxl\n",
      "Successfully installed et-xmlfile-1.0.1 openpyxl-3.0.7\n"
     ]
    }
   ],
   "source": [
    "! pip install openpyxl"
   ]
  },
  {
   "cell_type": "code",
   "execution_count": 102,
   "id": "composite-membrane",
   "metadata": {},
   "outputs": [],
   "source": [
    "from openpyxl import Workbook\n",
    "wb = Workbook()  #엑셀 파일은 워크북을 생성하는 것부터 시작됨, 생성된 것"
   ]
  },
  {
   "cell_type": "code",
   "execution_count": 103,
   "id": "empty-wales",
   "metadata": {},
   "outputs": [
    {
     "data": {
      "text/plain": [
       "['Sheet']"
      ]
     },
     "execution_count": 103,
     "metadata": {},
     "output_type": "execute_result"
    }
   ],
   "source": [
    "wb.sheetnames  #workbook객체를 생성하면 기본적으로 sheet가 하나 생성되고 이름이 Sheet로 생성됨"
   ]
  },
  {
   "cell_type": "code",
   "execution_count": 105,
   "id": "complete-hometown",
   "metadata": {},
   "outputs": [],
   "source": [
    "ws = wb.active"
   ]
  },
  {
   "cell_type": "code",
   "execution_count": 106,
   "id": "uniform-starter",
   "metadata": {},
   "outputs": [],
   "source": [
    "ws2 = wb.create_sheet(\"new_sheet2\")"
   ]
  },
  {
   "cell_type": "code",
   "execution_count": 107,
   "id": "disabled-sarah",
   "metadata": {},
   "outputs": [],
   "source": [
    "ws1 = wb.create_sheet(\"new_sheet1\", 1)"
   ]
  },
  {
   "cell_type": "code",
   "execution_count": 108,
   "id": "independent-pavilion",
   "metadata": {},
   "outputs": [
    {
     "data": {
      "text/plain": [
       "['Sheet', 'new_sheet1', 'new_sheet2']"
      ]
     },
     "execution_count": 108,
     "metadata": {},
     "output_type": "execute_result"
    }
   ],
   "source": [
    "wb.sheetnames   #시트의 이름확인"
   ]
  },
  {
   "cell_type": "code",
   "execution_count": null,
   "id": "ready-lucas",
   "metadata": {},
   "outputs": [],
   "source": [
    "ws = wb['Sheet']   #워크 시트 선택"
   ]
  },
  {
   "cell_type": "code",
   "execution_count": 109,
   "id": "affected-sweet",
   "metadata": {},
   "outputs": [],
   "source": [
    "ws.title = '주소'  #sheet 이름 변경"
   ]
  },
  {
   "cell_type": "code",
   "execution_count": 110,
   "id": "consolidated-pennsylvania",
   "metadata": {},
   "outputs": [
    {
     "data": {
      "text/plain": [
       "['주소', 'new_sheet1', 'new_sheet2']"
      ]
     },
     "execution_count": 110,
     "metadata": {},
     "output_type": "execute_result"
    }
   ],
   "source": [
    "wb.sheetnames   #바뀐 시트의 이름확인"
   ]
  },
  {
   "cell_type": "code",
   "execution_count": 111,
   "id": "seven-arthur",
   "metadata": {},
   "outputs": [],
   "source": [
    "ws['A1'] = '이름'   #A1은 A1셀을 의미\n",
    "ws['B1'] = '전화번호'"
   ]
  },
  {
   "cell_type": "code",
   "execution_count": 112,
   "id": "ultimate-energy",
   "metadata": {
    "jupyter": {
     "source_hidden": true
    },
    "tags": []
   },
   "outputs": [],
   "source": [
    "ws['A2'] = '심세경'\n",
    "ws['B2'] = '01032293998'"
   ]
  },
  {
   "cell_type": "code",
   "execution_count": 113,
   "id": "entertaining-carol",
   "metadata": {},
   "outputs": [
    {
     "data": {
      "text/plain": [
       "<Cell '주소'.A3>"
      ]
     },
     "execution_count": 113,
     "metadata": {},
     "output_type": "execute_result"
    }
   ],
   "source": [
    "ws.cell(row=3, column=1, value='복실이')  #A3에 해당하는 셀"
   ]
  },
  {
   "cell_type": "code",
   "execution_count": 117,
   "id": "restricted-lithuania",
   "metadata": {},
   "outputs": [
    {
     "data": {
      "text/plain": [
       "<Cell '주소'.B3>"
      ]
     },
     "execution_count": 117,
     "metadata": {},
     "output_type": "execute_result"
    }
   ],
   "source": [
    "ws.cell(row=3, column=2, value='01033335555')  #B3셀"
   ]
  },
  {
   "cell_type": "code",
   "execution_count": 118,
   "id": "faced-funeral",
   "metadata": {},
   "outputs": [],
   "source": [
    "wb.save('address.xlsx')  #엑셀 파일 저장"
   ]
  },
  {
   "cell_type": "code",
   "execution_count": 122,
   "id": "binary-individual",
   "metadata": {},
   "outputs": [],
   "source": [
    "cell = ws. cell(row=3, column=1)  #A3에 해당하는 셀 변경\n",
    "cell.value='제임스'\n",
    "cell2 = ws.cell(row=3, column=2)  #B3에 해당하는 셀 변경\n",
    "cell2.value = '0000'\n",
    "wb.save('address.xlsx')  #다시 저장"
   ]
  },
  {
   "cell_type": "code",
   "execution_count": 127,
   "id": "vertical-kentucky",
   "metadata": {},
   "outputs": [
    {
     "name": "stdout",
     "output_type": "stream",
     "text": [
      "<class 'openpyxl.workbook.workbook.Workbook'>\n",
      "['주소', 'new_sheet1', 'new_sheet2']\n"
     ]
    }
   ],
   "source": [
    "#load_workbook()로 엑셀 파일 읽기\n",
    "from openpyxl import load_workbook\n",
    "\n",
    "wb2 = load_workbook('address.xlsx')\n",
    "print(type(wb2))\n",
    "print(wb2.sheetnames)"
   ]
  },
  {
   "cell_type": "code",
   "execution_count": 128,
   "id": "rural-prairie",
   "metadata": {},
   "outputs": [
    {
     "name": "stdout",
     "output_type": "stream",
     "text": [
      "<class 'openpyxl.worksheet.worksheet.Worksheet'>\n"
     ]
    },
    {
     "data": {
      "text/plain": [
       "'심세경'"
      ]
     },
     "execution_count": 128,
     "metadata": {},
     "output_type": "execute_result"
    }
   ],
   "source": [
    "sheet = wb2['주소']\n",
    "print(type(sheet))\n",
    "sheet['A2'].value  #주소 시트에서 a2셀 값 확인"
   ]
  },
  {
   "cell_type": "code",
   "execution_count": 131,
   "id": "drawn-saturday",
   "metadata": {},
   "outputs": [
    {
     "name": "stdout",
     "output_type": "stream",
     "text": [
      "<Cell '주소'.A1> 이름\n",
      "<Cell '주소'.B1> 전화번호\n",
      "<Cell '주소'.A2> 심세경\n",
      "<Cell '주소'.B2> 01032293998\n",
      "<Cell '주소'.A3> 제임스\n",
      "<Cell '주소'.B3> 0000\n"
     ]
    }
   ],
   "source": [
    "for row in sheet.iter_rows():  #iterable가능한 객체 타입 range(), str, list...\n",
    "    for cell in row:\n",
    "        print(cell, cell.value)"
   ]
  },
  {
   "cell_type": "code",
   "execution_count": 138,
   "id": "upset-helicopter",
   "metadata": {},
   "outputs": [
    {
     "data": {
      "text/html": [
       "<div>\n",
       "<style scoped>\n",
       "    .dataframe tbody tr th:only-of-type {\n",
       "        vertical-align: middle;\n",
       "    }\n",
       "\n",
       "    .dataframe tbody tr th {\n",
       "        vertical-align: top;\n",
       "    }\n",
       "\n",
       "    .dataframe thead th {\n",
       "        text-align: right;\n",
       "    }\n",
       "</style>\n",
       "<table border=\"1\" class=\"dataframe\">\n",
       "  <thead>\n",
       "    <tr style=\"text-align: right;\">\n",
       "      <th></th>\n",
       "      <th>이름</th>\n",
       "      <th>전화번호</th>\n",
       "    </tr>\n",
       "  </thead>\n",
       "  <tbody>\n",
       "    <tr>\n",
       "      <th>0</th>\n",
       "      <td>심세경</td>\n",
       "      <td>1032293998</td>\n",
       "    </tr>\n",
       "    <tr>\n",
       "      <th>1</th>\n",
       "      <td>제임스</td>\n",
       "      <td>0</td>\n",
       "    </tr>\n",
       "  </tbody>\n",
       "</table>\n",
       "</div>"
      ],
      "text/plain": [
       "    이름        전화번호\n",
       "0  심세경  1032293998\n",
       "1  제임스           0"
      ]
     },
     "execution_count": 138,
     "metadata": {},
     "output_type": "execute_result"
    }
   ],
   "source": [
    "import pandas as pd\n",
    "\n",
    "df = pd.read_excel('address.xlsx')\n",
    "df"
   ]
  },
  {
   "cell_type": "code",
   "execution_count": 139,
   "id": "increased-distributor",
   "metadata": {},
   "outputs": [
    {
     "data": {
      "text/html": [
       "<div>\n",
       "<style scoped>\n",
       "    .dataframe tbody tr th:only-of-type {\n",
       "        vertical-align: middle;\n",
       "    }\n",
       "\n",
       "    .dataframe tbody tr th {\n",
       "        vertical-align: top;\n",
       "    }\n",
       "\n",
       "    .dataframe thead th {\n",
       "        text-align: right;\n",
       "    }\n",
       "</style>\n",
       "<table border=\"1\" class=\"dataframe\">\n",
       "  <thead>\n",
       "    <tr style=\"text-align: right;\">\n",
       "      <th></th>\n",
       "      <th>이름</th>\n",
       "      <th>학번</th>\n",
       "      <th>국어</th>\n",
       "      <th>영어</th>\n",
       "      <th>수학</th>\n",
       "    </tr>\n",
       "  </thead>\n",
       "  <tbody>\n",
       "    <tr>\n",
       "      <th>0</th>\n",
       "      <td>심세경</td>\n",
       "      <td>20152058</td>\n",
       "      <td>90</td>\n",
       "      <td>100</td>\n",
       "      <td>95</td>\n",
       "    </tr>\n",
       "  </tbody>\n",
       "</table>\n",
       "</div>"
      ],
      "text/plain": [
       "    이름        학번  국어   영어  수학\n",
       "0  심세경  20152058  90  100  95"
      ]
     },
     "execution_count": 139,
     "metadata": {},
     "output_type": "execute_result"
    }
   ],
   "source": [
    "df2 = pd.read_excel('address.xlsx', 'new_sheet2')\n",
    "df2"
   ]
  },
  {
   "cell_type": "code",
   "execution_count": 140,
   "id": "lovely-vegetable",
   "metadata": {},
   "outputs": [
    {
     "name": "stdout",
     "output_type": "stream",
     "text": [
      "0 심세경 1032293998\n",
      "1 제임스 0\n"
     ]
    }
   ],
   "source": [
    "for index, row in df.iterrows():\n",
    "    print(index, row[0], row[1])"
   ]
  },
  {
   "cell_type": "code",
   "execution_count": 141,
   "id": "outer-hammer",
   "metadata": {},
   "outputs": [
    {
     "data": {
      "text/plain": [
       "array([['심세경', 1032293998],\n",
       "       ['제임스', 0]], dtype=object)"
      ]
     },
     "execution_count": 141,
     "metadata": {},
     "output_type": "execute_result"
    }
   ],
   "source": [
    "arr = df.values\n",
    "arr"
   ]
  },
  {
   "cell_type": "code",
   "execution_count": 145,
   "id": "sound-polls",
   "metadata": {},
   "outputs": [],
   "source": [
    "import math\n",
    "from datetime import datetime\n",
    "\n",
    "ws['C2'] = math.pi  #원주율 넣기\n",
    "ws['D2'] = datetime.now()  #현재시간 넣기\n",
    "ws['E2'] = '=SIN(PI()/2)' # 수식\n",
    "wb.save('address.xlsx')"
   ]
  },
  {
   "cell_type": "markdown",
   "id": "cognitive-likelihood",
   "metadata": {},
   "source": [
    "엑셀 자동화 - 여러 셀 작업\n",
    "\n",
    "• 워크시트 객체에 슬라이싱 표현을 이용하여 원하는 부분의 셀들을 가져올 수 있다\n",
    "\n",
    "• openxl 모듈은 행 단위로 셀들을 튜플로 묶어 반환한다\n",
    "\n",
    "• openxl.utils.get_column_letter() - 셀 주소에 대한 숫자 인덱스 값을 ‘A1’같은 문자로 변환\n",
    "\n",
    "• worksheet객체.append() - 빈 워크시트에 행 단위 데이터를 추가\n",
    "\n",
    "• 열만 추가하는 경우도 행 단위로 반복 worksheet객체.append() 사용"
   ]
  },
  {
   "cell_type": "code",
   "execution_count": 146,
   "id": "lucky-arctic",
   "metadata": {},
   "outputs": [
    {
     "data": {
      "text/plain": [
       "((<Cell '주소'.A1>, <Cell '주소'.B1>, <Cell '주소'.C1>),\n",
       " (<Cell '주소'.A2>, <Cell '주소'.B2>, <Cell '주소'.C2>))"
      ]
     },
     "execution_count": 146,
     "metadata": {},
     "output_type": "execute_result"
    }
   ],
   "source": [
    "ws['A1':'C2']  #슬라이싱을 사용하여 셀 내용 가져오기"
   ]
  },
  {
   "cell_type": "code",
   "execution_count": 150,
   "id": "incident-glossary",
   "metadata": {},
   "outputs": [
    {
     "data": {
      "text/plain": [
       "'B'"
      ]
     },
     "execution_count": 150,
     "metadata": {},
     "output_type": "execute_result"
    }
   ],
   "source": [
    "from openpyxl import Workbook\n",
    "from openpyxl.utils import get_column_letter\n",
    "\n",
    "get_column_letter(2)   #1은 A 2는 B"
   ]
  },
  {
   "cell_type": "code",
   "execution_count": 151,
   "id": "abroad-resource",
   "metadata": {},
   "outputs": [
    {
     "data": {
      "text/plain": [
       "'C1'"
      ]
     },
     "execution_count": 151,
     "metadata": {},
     "output_type": "execute_result"
    }
   ],
   "source": [
    "def index2cell(row, col):\n",
    "    return '{}{}'.format(get_column_letter(col), row)\n",
    "\n",
    "index2cell(row=1,col=3)"
   ]
  },
  {
   "cell_type": "markdown",
   "id": "equivalent-taste",
   "metadata": {},
   "source": [
    "엑셀 자동화 - 여러 셀 작업\n",
    "\n",
    "• 1월 3일 9:00부터 15:00까지 10분 간격의 시간 357개의 셀 생성 코드"
   ]
  },
  {
   "cell_type": "code",
   "execution_count": 154,
   "id": "aging-pearl",
   "metadata": {},
   "outputs": [
    {
     "data": {
      "text/plain": [
       "Timestamp('2021-01-03 09:00:00', freq='10T')"
      ]
     },
     "execution_count": 154,
     "metadata": {},
     "output_type": "execute_result"
    }
   ],
   "source": [
    "from openpyxl import Workbook\n",
    "import pandas as pd\n",
    "\n",
    "wb3 = Workbook()\n",
    "ws3 = wb.active\n",
    "\n",
    "ws3.append(('시간',))\n",
    "data = pd.date_range('2021-1-3 09:00:00', '2021-1-3 15:00:00', freq='10min')\n",
    "#십분간격으로 데이터 생성\n",
    "\n",
    "for row in data:\n",
    "    ws.append((row,))  #row추가\n",
    "    \n",
    "ws.column_dimensions['A'].width = 18 # 18자(영문기준) 정도 폭으로 설정\n",
    "wb.save('test.xlsx')  #엑셀파일에 10분간격으로 저장\n",
    "\n",
    "len(data)\n",
    "data[0]"
   ]
  },
  {
   "cell_type": "code",
   "execution_count": null,
   "id": "formal-humidity",
   "metadata": {},
   "outputs": [],
   "source": [
    "엑셀 자동화 - 여러 셀 작업\n",
    "\n",
    "• 워크 시트의 폭과 행의 높이 width와 height 속성으로 설정\n",
    "\n",
    "• number_format 속성에 ‘#,###’ 혹은 ‘#,##0’ 형식을 추가하면 콤마가 추가된다.\n",
    "\n",
    "• 숫자 뒤에 공백 하나 더 넣으려면 ‘#,##0_-’ 형식을 추가"
   ]
  },
  {
   "cell_type": "code",
   "execution_count": 158,
   "id": "environmental-hopkins",
   "metadata": {},
   "outputs": [],
   "source": [
    "wb3 = Workbook()\n",
    "ws3 = wb3.active\n",
    "\n",
    "ws3.column_dimensions['A'].width = 18 # 18자(영문기준) 정도 폭으로 설정('A')행만\n",
    "ws3.row_dimensions[1].height = 30 # 높이 설정\n",
    "ws3['A1'] = 123456789\n",
    "cell = ws3['A1']\n",
    "cell.number_format = \"#,##0_-\"\n",
    "#ws3.column_dimensions['A'].width = 14\n",
    "wb3.save('test2.xlsx')"
   ]
  },
  {
   "cell_type": "code",
   "execution_count": null,
   "id": "applied-moore",
   "metadata": {},
   "outputs": [],
   "source": [
    "엑셀 자동화 - 여러 셀 작업\n",
    "\n",
    "• fill속성 - 바탕색 설정\n",
    "\n",
    "• font - 폰트 설정"
   ]
  },
  {
   "cell_type": "code",
   "execution_count": 165,
   "id": "classified-ethics",
   "metadata": {},
   "outputs": [],
   "source": [
    "from openpyxl.styles import PatternFill, Font, colors, Side, Alignment, Border\n",
    "\n",
    "#fill_type -배경\n",
    "fill = PatternFill(start_color='eff7f7', fill_type='solid')\n",
    "ws3['A2'].fill = fill\n",
    "\n",
    "# Font properties\n",
    "font = Font(name='나눔고딕', size=20, color='ff0000', italic=True)\n",
    "ws3['A2'].font = font\n",
    "ws3['A2'] = 1234\n",
    "wb3.save('test2.xlsx')"
   ]
  },
  {
   "cell_type": "markdown",
   "id": "forward-range",
   "metadata": {},
   "source": [
    "엑셀 자동화 - 여러 셀 작업   \n",
    "• Alignment (horizontal , vertical ) - 정렬 (vertical - center, justify, distributed, top, bottom)   \n",
    "(horizontal - centerContinuous, jstify, distributed, center, right, fill, general, left)    \n",
    "• Border - 경계선 (double, mediumDashed, mediumDashDotDot, hair, dashDot, dashDotDot, dashed,\n",
    "mediumDashDot, medium, slantDashDot, thin, thick, dotted)    "
   ]
  },
  {
   "cell_type": "code",
   "execution_count": 166,
   "id": "disciplinary-differential",
   "metadata": {},
   "outputs": [],
   "source": [
    "al = Alignment(horizontal=\"center\", vertical=\"center\")  #가운데 정렬\n",
    "ws3['A2'].alignment = al  #A2를 가운데 정렬\n",
    "wb3.save('test2.xlsx')"
   ]
  },
  {
   "cell_type": "code",
   "execution_count": 169,
   "id": "improving-aquatic",
   "metadata": {},
   "outputs": [],
   "source": [
    "border = Border(left=Side(style='thin'),\n",
    "right=Side(style='thin'),\n",
    "top=Side(style='thin'),\n",
    "bottom=Side(style='thin'))\n",
    "#보더 지정한 것(테두리)\n",
    "\n",
    "for row in ws3['A1':'C10']:\n",
    "    for cell in row:\n",
    "        cell.border = border\n",
    "        \n",
    "wb3.save('test2.xlsx')"
   ]
  },
  {
   "cell_type": "markdown",
   "id": "elementary-magnet",
   "metadata": {},
   "source": [
    "엑셀 자동화 - 셀 작업  \n",
    "• merge_cells() - 셀 병합  \n",
    "• unmerge_cells() - 셀 병합 취소  \n",
    "• insert_rows(n), insert_cols(n) - 전체 행, 열 추가  \n",
    "• delete_rows(start, end), delete_cols(start, end) - 전체 행, 열 삭제  "
   ]
  },
  {
   "cell_type": "code",
   "execution_count": 170,
   "id": "impossible-patent",
   "metadata": {},
   "outputs": [],
   "source": [
    "ws3.merge_cells('A2:C2')\n",
    "wb3.save('test2.xlsx')"
   ]
  },
  {
   "cell_type": "code",
   "execution_count": 173,
   "id": "needed-manner",
   "metadata": {},
   "outputs": [],
   "source": [
    "ws3.unmerge_cells('A2:C2')\n",
    "wb3.save('test2.xlsx')"
   ]
  },
  {
   "cell_type": "code",
   "execution_count": 174,
   "id": "historical-finland",
   "metadata": {},
   "outputs": [],
   "source": [
    "ws3.insert_rows(1) # 첫 행 삽입\n",
    "ws3.insert_cols(1) # 첫 열 삽입\n",
    "wb3.save('test2.xlsx')"
   ]
  },
  {
   "cell_type": "code",
   "execution_count": 175,
   "id": "associate-burlington",
   "metadata": {},
   "outputs": [],
   "source": [
    "ws3.delete_rows(1,3) # 첫 행 ~ 셋째 행을 삭제\n",
    "ws3.delete_cols(1,1) # 첫 열을 삭제\n",
    "wb3.save('test2.xlsx')"
   ]
  },
  {
   "cell_type": "code",
   "execution_count": null,
   "id": "empty-companion",
   "metadata": {},
   "outputs": [],
   "source": [
    "엑셀 자동화  \n",
    "• xlsxwriter - Excel 형태로 문서를 작성하기 위한 Module  \n",
    "• Workbook() - workbook객체 생성  \n",
    "• workbook객체.add_worksheet() worksheet객체 생성  \n",
    "• workbook객체.add_format() - 서식 생성"
   ]
  },
  {
   "cell_type": "code",
   "execution_count": null,
   "id": "signal-coverage",
   "metadata": {},
   "outputs": [],
   "source": [
    "! pip install xlsxwriter"
   ]
  },
  {
   "cell_type": "code",
   "execution_count": 180,
   "id": "excellent-laundry",
   "metadata": {},
   "outputs": [],
   "source": [
    "import xlsxwriter\n",
    "workbook = xlsxwriter.Workbook('Expenses01.xlsx')\n",
    "worksheet = workbook.add_worksheet()\n",
    "expenses = ( ['Rent', 1000],\n",
    "['Gas', 100],\n",
    "['Food', 300],\n",
    "['Gym', 50], )\n",
    "row = 0\n",
    "col = 0\n",
    "for item, cost in (expenses):\n",
    "    worksheet.write(row, col, item)\n",
    "    worksheet.write(row, col + 1, cost)\n",
    "    row += 1\n",
    "worksheet.write(row, 0, 'Total')\n",
    "worksheet.write(row, 1, '=SUM(B1:B4)')\n",
    "workbook.close()"
   ]
  },
  {
   "cell_type": "markdown",
   "id": "tropical-lemon",
   "metadata": {},
   "source": [
    "엑셀 자동화  \n",
    "• xlsxwriter - https://xlsxwriter.readthedocs.io"
   ]
  },
  {
   "cell_type": "code",
   "execution_count": 181,
   "id": "electoral-flashing",
   "metadata": {},
   "outputs": [],
   "source": [
    "workbook = xlsxwriter.Workbook('chart_line.xlsx')\n",
    "worksheet = workbook.add_worksheet()\n",
    "bold = workbook.add_format({'bold': 1})\n",
    "headings = ['Number', 'Batch 1', 'Batch 2']\n",
    "data = [\n",
    "[2, 3, 4, 5, 6, 7],\n",
    "[10, 40, 50, 20, 10, 50],\n",
    "[30, 60, 70, 50, 40, 30],\n",
    "]\n",
    "worksheet.write_row('A1', headings, bold)\n",
    "worksheet.write_column('A2', data[0])\n",
    "worksheet.write_column('B2', data[1])\n",
    "worksheet.write_column('C2', data[2])\n",
    "chart1 = workbook.add_chart({'type': 'line'})"
   ]
  },
  {
   "cell_type": "code",
   "execution_count": 182,
   "id": "tired-computer",
   "metadata": {},
   "outputs": [],
   "source": [
    "chart1.add_series({\n",
    "'name': '=Sheet1!$B$1',\n",
    "'categories': '=Sheet1!$A$2:$A$7',\n",
    "'values': '=Sheet1!$B$2:$B$7',\n",
    "})\n",
    "chart1.add_series({\n",
    "'name': ['Sheet1', 0, 2],\n",
    "'categories': ['Sheet1', 1, 0, 6, 0],\n",
    "'values': ['Sheet1', 1, 2, 6, 2],\n",
    "})\n",
    "chart1.set_title ({'name': 'Results of sample analysis'})\n",
    "chart1.set_x_axis({'name': 'Test number'})\n",
    "chart1.set_y_axis({'name': 'Sample length (mm)'})\n",
    "chart1.set_style(10)\n",
    "worksheet.insert_chart('D2', chart1, {'x_offset': 25,\n",
    "'y_offset': 10})\n",
    "workbook.close()"
   ]
  },
  {
   "cell_type": "markdown",
   "id": "unlike-browser",
   "metadata": {},
   "source": [
    "DB로부터 select한 결과를 excel 파일에 저장  \n",
    "excel 파일 내용을 읽어서 DB에 import(load)"
   ]
  },
  {
   "cell_type": "code",
   "execution_count": 185,
   "id": "novel-french",
   "metadata": {},
   "outputs": [
    {
     "name": "stdout",
     "output_type": "stream",
     "text": [
      "   EMPNO   ENAME       JOB     MGR   HIREDATE     SAL    COMM  DEPTNO\n",
      "0   7369   SMITH     CLERK  7902.0 1980-12-17   800.0     NaN    20.0\n",
      "1   7499   ALLEN  SALESMAN  7698.0 1981-02-20  1600.0   300.0    30.0\n",
      "2   7521    WARD  SALESMAN  7698.0 1981-02-22  1250.0   500.0    30.0\n",
      "3   7566   JONES   MANAGER  7839.0 1981-04-02  2975.0     NaN    20.0\n",
      "4   7654  MARTIN  SALESMAN  7698.0 1981-09-28  1250.0  1400.0    30.0\n"
     ]
    }
   ],
   "source": [
    "import cx_Oracle\n",
    "import pandas as pd\n",
    "\n",
    "data = None\n",
    "con = None\n",
    "try:\n",
    "    dsn= cx_Oracle.makedsn('localhost', 1521, 'xe')\n",
    "    con= cx_Oracle.connect('hr', 'oracle')\n",
    "    \n",
    "    data = pd.read_sql('select * from emp', con)\n",
    "    print(data.head())\n",
    "except Exception as e:\n",
    "    print('db 연동 error', e)\n",
    "finally:\n",
    "    if con != None:\n",
    "        con.close()\n",
    "        \n",
    "data.to_excel('my_oracle_table.xlsx')"
   ]
  },
  {
   "cell_type": "code",
   "execution_count": 195,
   "id": "suffering-equipment",
   "metadata": {},
   "outputs": [],
   "source": [
    "import cx_Oracle\n",
    "from xlsxwriter.workbook import Workbook\n",
    "import pandas as pd\n",
    "\n",
    "db = None\n",
    "cursor = None\n",
    "try:\n",
    "    dsn= cx_Oracle.makedsn('localhost', 1521, 'xe')\n",
    "    db= cx_Oracle.connect('hr', 'oracle')\n",
    "    cursor = db.cursor()\n",
    "    cursor.execute(\"\"\"select * from emp\"\"\")\n",
    "    \n",
    "    workbook = Workbook('db_emp_outfile.xlsx')\n",
    "    sheet = workbook.add_worksheet()\n",
    "    for r, row in enumerate(cursor.fetchall()):\n",
    "        for c,col in enumerate(row):\n",
    "            sheet.write(r, c, col)\n",
    "    workbook.close()\n",
    "            \n",
    "except Exception as e:\n",
    "    print('db 연동 error', e)\n",
    "finally:\n",
    "    if cursor!= None:\n",
    "        cursor.close()\n",
    "    if db != None:\n",
    "        db.close()\n",
    "        \n"
   ]
  },
  {
   "cell_type": "code",
   "execution_count": 6,
   "id": "conscious-access",
   "metadata": {},
   "outputs": [],
   "source": [
    "import cx_Oracle \n",
    "from xlsxwriter.workbook import Workbook\n",
    "db = None\n",
    "cursor = None \n",
    "try :\n",
    "    dsn=cx_Oracle.makedsn('localhost',1521,'xe') \n",
    "    db=cx_Oracle.connect('hr','oracle') \n",
    "    cursor=db.cursor()\n",
    "    cursor.execute(\"\"\"select empno, ename, job, mgr, sal, comm, deptno  from emp\"\"\") \n",
    "\n",
    "    workbook = Workbook('db_emp_outfile.xlsx')\n",
    "    sheet = workbook.add_worksheet()\n",
    "    for r, row in enumerate(cursor.fetchall()):\n",
    "        for c, col in enumerate(row):\n",
    "            sheet.write(r, c, col)\n",
    "    workbook.close()\n",
    "except  Exception as e:\n",
    "    print ('db 연동 error', e)\n",
    "finally :\n",
    "    if cursor!= None :\n",
    "        cursor.close()\n",
    "    if db!= None:\n",
    "        db.close()\n"
   ]
  },
  {
   "cell_type": "code",
   "execution_count": 7,
   "id": "pleasant-romania",
   "metadata": {},
   "outputs": [
    {
     "name": "stdout",
     "output_type": "stream",
     "text": [
      "[[7499, 'ALLEN', 'SALESMAN', 7698.0, 1600, 300.0, 30], [7521, 'WARD', 'SALESMAN', 7698.0, 1250, 500.0, 30], [7566, 'JONES', 'MANAGER', 7839.0, 2975, 0.0, 20], [7654, 'MARTIN', 'SALESMAN', 7698.0, 1250, 1400.0, 30], [7698, 'BLAKE', 'MANAGER', 7839.0, 2850, 0.0, 30], [7782, 'CLARK', 'MANAGER', 7839.0, 2450, 0.0, 10], [7839, 'KING', 'PRESIDENT', 0.0, 5000, 0.0, 10], [7844, 'TURNER', 'SALESMAN', 7698.0, 1500, 0.0, 30], [7900, 'JAMES', 'CLERK', 7698.0, 950, 0.0, 30], [7902, 'FORD', 'ANALYST', 7566.0, 3000, 0.0, 20], [7934, 'MILLER', 'CLERK', 7782.0, 1300, 0.0, 10], [7788, 'SCOTT', 'ANALYST', 7566.0, 3000, 0.0, 20], [7876, 'ADAMS', 'CLERK', 7788.0, 1100, 0.0, 20]]\n"
     ]
    }
   ],
   "source": [
    "import pandas as pd\n",
    "import cx_Oracle\n",
    "file = '.\\db_emp_outfile.xlsx'\n",
    "\n",
    "insert_table =\"INSERT INTO TEST VALUES (:1, :2, :3, :4, :5, :6, :7  )\"\n",
    " \n",
    "dsn=cx_Oracle.makedsn('localhost',1521,'xe') \n",
    "db=cx_Oracle.connect(user='hr', password='oracle', dsn=dsn) \n",
    "cursor=db.cursor() \n",
    "\n",
    "df = pd.read_excel(file)\n",
    "df_list = df.fillna(0).values.tolist()\n",
    "\n",
    "\n",
    "print(df_list)\n",
    "cursor.executemany(insert_table, df_list)   \n",
    "db.commit()\n",
    "cursor.close()\n",
    "db.close()"
   ]
  }
 ],
 "metadata": {
  "kernelspec": {
   "display_name": "Python 3",
   "language": "python",
   "name": "python3"
  },
  "language_info": {
   "codemirror_mode": {
    "name": "ipython",
    "version": 3
   },
   "file_extension": ".py",
   "mimetype": "text/x-python",
   "name": "python",
   "nbconvert_exporter": "python",
   "pygments_lexer": "ipython3",
   "version": "3.7.10"
  }
 },
 "nbformat": 4,
 "nbformat_minor": 5
}
