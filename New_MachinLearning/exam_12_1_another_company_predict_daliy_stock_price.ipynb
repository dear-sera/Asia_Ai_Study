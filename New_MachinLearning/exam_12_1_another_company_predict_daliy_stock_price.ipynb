{
  "nbformat": 4,
  "nbformat_minor": 0,
  "metadata": {
    "colab": {
      "name": "exam_12-1_another_company_predict_daliy_stock_price.ipynb",
      "provenance": [],
      "authorship_tag": "ABX9TyMlYdb3N2KvnqU4We81jROx",
      "include_colab_link": true
    },
    "kernelspec": {
      "name": "python3",
      "display_name": "Python 3"
    },
    "language_info": {
      "name": "python"
    },
    "accelerator": "GPU"
  },
  "cells": [
    {
      "cell_type": "markdown",
      "metadata": {
        "id": "view-in-github",
        "colab_type": "text"
      },
      "source": [
        "<a href=\"https://colab.research.google.com/github/sera0911/asia_ai_study/blob/main/New_MachinLearning/exam_12_1_another_company_predict_daliy_stock_price.ipynb\" target=\"_parent\"><img src=\"https://colab.research.google.com/assets/colab-badge.svg\" alt=\"Open In Colab\"/></a>"
      ]
    },
    {
      "cell_type": "markdown",
      "metadata": {
        "id": "a3ev3MqIFkj0"
      },
      "source": [
        "##삼성전자 데이터의 컬럼을 모두 사용해 예측하기(LSTM, RNN 사용하여 시계열 데이터 예측하기)"
      ]
    },
    {
      "cell_type": "code",
      "metadata": {
        "id": "FTzf5HCmCJ74"
      },
      "source": [
        "#모듈 불러오기\n",
        "\n",
        "import pandas as pd\n",
        "import numpy as np\n",
        "import matplotlib.pyplot as plt\n",
        "import datetime\n",
        "from tensorflow.keras.models import Sequential\n",
        "from tensorflow.keras.layers import *  #레이어 전체를 가져온다\n",
        "from tensorflow.keras.optimizers import Adam"
      ],
      "execution_count": 6,
      "outputs": []
    },
    {
      "cell_type": "code",
      "metadata": {
        "colab": {
          "base_uri": "https://localhost:8080/"
        },
        "id": "VtEuL7dyGGMC",
        "outputId": "2c68972a-356f-4586-8315-76d2a6f03b59"
      },
      "source": [
        "#파일 불러오기(삼성 주식 데이터)\n",
        "raw_data = pd.read_csv('호텔신라.csv')\n",
        "print(raw_data.head())"
      ],
      "execution_count": 7,
      "outputs": [
        {
          "output_type": "stream",
          "text": [
            "         Date     Open     High      Low    Close     Adj Close  Volume\n",
            "0  2020-06-15  76100.0  76200.0  72400.0  72500.0  72319.203125  830788\n",
            "1  2020-06-16  73500.0  74500.0  73500.0  74000.0  73815.460938  426501\n",
            "2  2020-06-17  73400.0  73800.0  72000.0  72300.0  72119.703125  516721\n",
            "3  2020-06-18  72000.0  72100.0  70700.0  70900.0  70723.195313  575467\n",
            "4  2020-06-19  71100.0  72600.0  70900.0  72000.0  71820.453125  584062\n"
          ],
          "name": "stdout"
        }
      ]
    },
    {
      "cell_type": "code",
      "metadata": {
        "colab": {
          "base_uri": "https://localhost:8080/"
        },
        "id": "oxZmqseuGW1K",
        "outputId": "c6d0cc39-b472-4c68-fb25-61b09c700dcd"
      },
      "source": [
        "raw_data['Date'] = pd.to_datetime(raw_data['Date'])  #데이트 타입으로 변환\n",
        "raw_data.set_index('Date', inplace=True)  #날짜를 인덱스로 지정\n",
        "print(raw_data.head())"
      ],
      "execution_count": 8,
      "outputs": [
        {
          "output_type": "stream",
          "text": [
            "               Open     High      Low    Close     Adj Close  Volume\n",
            "Date                                                                \n",
            "2020-06-15  76100.0  76200.0  72400.0  72500.0  72319.203125  830788\n",
            "2020-06-16  73500.0  74500.0  73500.0  74000.0  73815.460938  426501\n",
            "2020-06-17  73400.0  73800.0  72000.0  72300.0  72119.703125  516721\n",
            "2020-06-18  72000.0  72100.0  70700.0  70900.0  70723.195313  575467\n",
            "2020-06-19  71100.0  72600.0  70900.0  72000.0  71820.453125  584062\n"
          ],
          "name": "stdout"
        }
      ]
    },
    {
      "cell_type": "code",
      "metadata": {
        "colab": {
          "base_uri": "https://localhost:8080/"
        },
        "id": "NWuWnXK5GyI1",
        "outputId": "f21f56a3-9506-49ab-8e9a-448ec415198f"
      },
      "source": [
        "#Adj Close는 close와 값이 비슷해서 빼주기위해서 drop시킨다\n",
        "data = raw_data.drop(['Adj Close'], axis=1)\n",
        "print(data.head())\n",
        "print(data.info())\n",
        "print(data.shape)"
      ],
      "execution_count": 13,
      "outputs": [
        {
          "output_type": "stream",
          "text": [
            "               Open     High      Low    Close  Volume\n",
            "Date                                                  \n",
            "2020-06-15  76100.0  76200.0  72400.0  72500.0  830788\n",
            "2020-06-16  73500.0  74500.0  73500.0  74000.0  426501\n",
            "2020-06-17  73400.0  73800.0  72000.0  72300.0  516721\n",
            "2020-06-18  72000.0  72100.0  70700.0  70900.0  575467\n",
            "2020-06-19  71100.0  72600.0  70900.0  72000.0  584062\n",
            "<class 'pandas.core.frame.DataFrame'>\n",
            "DatetimeIndex: 248 entries, 2020-06-15 to 2021-06-14\n",
            "Data columns (total 5 columns):\n",
            " #   Column  Non-Null Count  Dtype  \n",
            "---  ------  --------------  -----  \n",
            " 0   Open    248 non-null    float64\n",
            " 1   High    248 non-null    float64\n",
            " 2   Low     248 non-null    float64\n",
            " 3   Close   248 non-null    float64\n",
            " 4   Volume  248 non-null    int64  \n",
            "dtypes: float64(4), int64(1)\n",
            "memory usage: 21.6 KB\n",
            "None\n",
            "(248, 5)\n"
          ],
          "name": "stdout"
        }
      ]
    },
    {
      "cell_type": "code",
      "metadata": {
        "colab": {
          "base_uri": "https://localhost:8080/"
        },
        "id": "ydIWKKwAHecI",
        "outputId": "e989f532-1e0d-4f2c-bcd5-327c0421fb56"
      },
      "source": [
        "#데이터 스케일링하기\n",
        "from sklearn.preprocessing import MinMaxScaler\n",
        "\n",
        "minmaxscaler = MinMaxScaler()\n",
        "scaled_data = minmaxscaler.fit_transform(data)  #MinMaxScaler로 변환시키기\n",
        "print(scaled_data[:5])\n",
        "print(scaled_data.shape)"
      ],
      "execution_count": 15,
      "outputs": [
        {
          "output_type": "stream",
          "text": [
            "[[0.26162791 0.23428571 0.19104478 0.18309859 0.19009705]\n",
            " [0.18604651 0.18571429 0.2238806  0.22535211 0.07031381]\n",
            " [0.18313953 0.16571429 0.17910448 0.17746479 0.09704443]\n",
            " [0.14244186 0.11714286 0.14029851 0.13802817 0.11444985]\n",
            " [0.11627907 0.13142857 0.14626866 0.16901408 0.1169964 ]]\n",
            "(248, 5)\n"
          ],
          "name": "stdout"
        }
      ]
    },
    {
      "cell_type": "code",
      "metadata": {
        "colab": {
          "base_uri": "https://localhost:8080/"
        },
        "id": "-tFVnTNiH7dQ",
        "outputId": "d20eb80a-fbb0-4711-b7a1-e4101cb9980c"
      },
      "source": [
        "sequence_X = []\n",
        "sequence_Y = []\n",
        "\n",
        "#시계열 데이터를 원하는 크기만큼 잘라서(28) 그 다음숫자를 타켓으로 지정해놓기(29)\n",
        "for i in range(len(scaled_data) - 28):\n",
        "    _x = scaled_data[i : i + 28]\n",
        "    _y = scaled_data[i + 28][3]  #3번인덱스가 close(종가)\n",
        "    if i is 0:   #처음 for문을 확인해보기 (잘나오는지=1~28 다음 29번째가 나오는지)\n",
        "        print(_x, '->', _y)\n",
        "    sequence_X.append(_x)\n",
        "    sequence_Y.append(_y)\n",
        "\n",
        "#결과 중 0은 최저가 라는 뜻"
      ],
      "execution_count": 18,
      "outputs": [
        {
          "output_type": "stream",
          "text": [
            "[[0.26162791 0.23428571 0.19104478 0.18309859 0.19009705]\n",
            " [0.18604651 0.18571429 0.2238806  0.22535211 0.07031381]\n",
            " [0.18313953 0.16571429 0.17910448 0.17746479 0.09704443]\n",
            " [0.14244186 0.11714286 0.14029851 0.13802817 0.11444985]\n",
            " [0.11627907 0.13142857 0.14626866 0.16901408 0.1169964 ]\n",
            " [0.13081395 0.10285714 0.12835821 0.12112676 0.10004548]\n",
            " [0.09883721 0.09428571 0.10149254 0.09859155 0.10027302]\n",
            " [0.07848837 0.06571429 0.10447761 0.10985915 0.04497186]\n",
            " [0.06104651 0.04       0.06567164 0.07042254 0.08541919]\n",
            " [0.05523256 0.03714286 0.06567164 0.07605634 0.0545889 ]\n",
            " [0.02325581 0.         0.         0.         0.11712381]\n",
            " [0.         0.18       0.01791045 0.14084507 0.92163204]\n",
            " [0.12790698 0.1        0.08059701 0.07887324 0.12970545]\n",
            " [0.0494186  0.10285714 0.08358209 0.14366197 0.10168452]\n",
            " [0.13081395 0.10857143 0.12537313 0.13802817 0.04086242]\n",
            " [0.11046512 0.08857143 0.11641791 0.13521127 0.02608917]\n",
            " [0.125      0.11428571 0.13731343 0.14929577 0.05100803]\n",
            " [0.10755814 0.09428571 0.13731343 0.13521127 0.01840034]\n",
            " [0.11337209 0.09142857 0.11044776 0.11549296 0.06520026]\n",
            " [0.0755814  0.05142857 0.07462687 0.07887324 0.05041576]\n",
            " [0.07267442 0.06285714 0.08955224 0.09577465 0.01686382]\n",
            " [0.06104651 0.03428571 0.06567164 0.07887324 0.03008069]\n",
            " [0.09883721 0.09142857 0.11940299 0.12676056 0.10552226]\n",
            " [0.11627907 0.16       0.14029851 0.16901408 0.21638473]\n",
            " [0.15406977 0.14       0.14925373 0.14929577 0.04068021]\n",
            " [0.11046512 0.08571429 0.12238806 0.12112676 0.03154937]\n",
            " [0.11046512 0.12285714 0.13134328 0.16901408 0.07046165]\n",
            " [0.13953488 0.12       0.14029851 0.13521127 0.03858934]] -> 0.12394366197183104\n"
          ],
          "name": "stdout"
        }
      ]
    },
    {
      "cell_type": "code",
      "metadata": {
        "colab": {
          "base_uri": "https://localhost:8080/"
        },
        "id": "gfmiJg8vIgnl",
        "outputId": "2760f798-f687-40a6-8bbe-82f31168f6bd"
      },
      "source": [
        "#모델에게 주기 위해 np.array타입으로 변환(스케일링하면 데이터프레임이 사라져서)\n",
        "\n",
        "sequence_X = np.array(sequence_X)\n",
        "sequence_Y = np.array(sequence_Y)\n",
        "print(sequence_X[0])\n",
        "print(sequence_Y[0])\n",
        "print(sequence_X.shape)  #248개의 데이터에서 28개 빼서 220개의 데이터 , 28개가 한개씩 묶인 리스트 220개, 컬럼이 5개\n",
        "print(sequence_Y.shape)  #타켓값 , 220개"
      ],
      "execution_count": 20,
      "outputs": [
        {
          "output_type": "stream",
          "text": [
            "[[0.26162791 0.23428571 0.19104478 0.18309859 0.19009705]\n",
            " [0.18604651 0.18571429 0.2238806  0.22535211 0.07031381]\n",
            " [0.18313953 0.16571429 0.17910448 0.17746479 0.09704443]\n",
            " [0.14244186 0.11714286 0.14029851 0.13802817 0.11444985]\n",
            " [0.11627907 0.13142857 0.14626866 0.16901408 0.1169964 ]\n",
            " [0.13081395 0.10285714 0.12835821 0.12112676 0.10004548]\n",
            " [0.09883721 0.09428571 0.10149254 0.09859155 0.10027302]\n",
            " [0.07848837 0.06571429 0.10447761 0.10985915 0.04497186]\n",
            " [0.06104651 0.04       0.06567164 0.07042254 0.08541919]\n",
            " [0.05523256 0.03714286 0.06567164 0.07605634 0.0545889 ]\n",
            " [0.02325581 0.         0.         0.         0.11712381]\n",
            " [0.         0.18       0.01791045 0.14084507 0.92163204]\n",
            " [0.12790698 0.1        0.08059701 0.07887324 0.12970545]\n",
            " [0.0494186  0.10285714 0.08358209 0.14366197 0.10168452]\n",
            " [0.13081395 0.10857143 0.12537313 0.13802817 0.04086242]\n",
            " [0.11046512 0.08857143 0.11641791 0.13521127 0.02608917]\n",
            " [0.125      0.11428571 0.13731343 0.14929577 0.05100803]\n",
            " [0.10755814 0.09428571 0.13731343 0.13521127 0.01840034]\n",
            " [0.11337209 0.09142857 0.11044776 0.11549296 0.06520026]\n",
            " [0.0755814  0.05142857 0.07462687 0.07887324 0.05041576]\n",
            " [0.07267442 0.06285714 0.08955224 0.09577465 0.01686382]\n",
            " [0.06104651 0.03428571 0.06567164 0.07887324 0.03008069]\n",
            " [0.09883721 0.09142857 0.11940299 0.12676056 0.10552226]\n",
            " [0.11627907 0.16       0.14029851 0.16901408 0.21638473]\n",
            " [0.15406977 0.14       0.14925373 0.14929577 0.04068021]\n",
            " [0.11046512 0.08571429 0.12238806 0.12112676 0.03154937]\n",
            " [0.11046512 0.12285714 0.13134328 0.16901408 0.07046165]\n",
            " [0.13953488 0.12       0.14029851 0.13521127 0.03858934]]\n",
            "0.12394366197183104\n",
            "(220, 28, 5)\n",
            "(220,)\n"
          ],
          "name": "stdout"
        }
      ]
    },
    {
      "cell_type": "code",
      "metadata": {
        "colab": {
          "base_uri": "https://localhost:8080/"
        },
        "id": "Z3Cp7hYFJ5xR",
        "outputId": "4a6f231d-87b6-4cd5-e203-d716e4584434"
      },
      "source": [
        "#학습과 테스트용으로 분할\n",
        "from sklearn.model_selection import train_test_split\n",
        "X_train, X_test, Y_train, Y_test = train_test_split(\n",
        "    sequence_X, sequence_Y, test_size=0.2, random_state=77)  #random_state= 난수의 초기값 설정. 랜덤값을 뽑아주긴 하지만, 같은 결과를 보여주기 위해(데이터가 적을 땐 없으면 결과가 크게 달라진다)\n",
        "print(X_train.shape)\n",
        "print(Y_train.shape)\n",
        "print(X_test.shape)\n",
        "print(Y_test.shape)"
      ],
      "execution_count": 21,
      "outputs": [
        {
          "output_type": "stream",
          "text": [
            "(176, 28, 5)\n",
            "(176,)\n",
            "(44, 28, 5)\n",
            "(44,)\n"
          ],
          "name": "stdout"
        }
      ]
    },
    {
      "cell_type": "code",
      "metadata": {
        "colab": {
          "base_uri": "https://localhost:8080/"
        },
        "id": "e9mRD71TKaPO",
        "outputId": "6f91fcb6-335d-4bbe-f306-3aa6eb3e472e"
      },
      "source": [
        "#모델 생성\n",
        "\n",
        "model = Sequential() #시퀀스란 데이터를 순서대로 하나씩 나열하여 나타낸 데이터 구조\n",
        "\n",
        "#input_shape=(X_train.shape[0], X_train.shape[1]) 인 이유는 자르는 갯수가 달라지더라도 train.shape로 해놓으면 변경되는 대로 적용되서(현재 적용된 건(28, 1))\n",
        "model.add(LSTM(50, input_shape=(X_train.shape[1], X_train.shape[2]), activation='tanh'))  #LSTM 일 때는 activation='thah'로 해줘야 한다(하이퍼볼릭 탄젠트)\n",
        "#RNN을 사용하고 싶다면 SimpleRNN을 사용하면 된다, GRU는 한국인이 만든 것(속도가 더 빠르다)\n",
        "model.add(Flatten())  #1차원으로 변형해주는 flatten\n",
        "model.add(Dense(1))  #값 자체를 예측하기 때문에 activation을 사용하지 않는다\n",
        "\n",
        "model.compile(loss='mse', optimizer='adam')\n",
        "model.summary()"
      ],
      "execution_count": 22,
      "outputs": [
        {
          "output_type": "stream",
          "text": [
            "Model: \"sequential\"\n",
            "_________________________________________________________________\n",
            "Layer (type)                 Output Shape              Param #   \n",
            "=================================================================\n",
            "lstm (LSTM)                  (None, 50)                11200     \n",
            "_________________________________________________________________\n",
            "flatten (Flatten)            (None, 50)                0         \n",
            "_________________________________________________________________\n",
            "dense (Dense)                (None, 1)                 51        \n",
            "=================================================================\n",
            "Total params: 11,251\n",
            "Trainable params: 11,251\n",
            "Non-trainable params: 0\n",
            "_________________________________________________________________\n"
          ],
          "name": "stdout"
        }
      ]
    },
    {
      "cell_type": "code",
      "metadata": {
        "id": "3wNn6QAILAww"
      },
      "source": [
        "#모델 학습\n",
        "\n",
        "#validation_data=(X_test, Y_test) = 학습시에 테스트를 test데이터로 사용해도된다 (validation_data는 모델학습은 안시키고 테스트 역할로만 사용하기 때문에)\n",
        "fit_hist = model.fit(X_train, Y_train, epochs=350, validation_data=(X_test, Y_test), shuffle=False)"
      ],
      "execution_count": null,
      "outputs": []
    },
    {
      "cell_type": "code",
      "metadata": {
        "colab": {
          "base_uri": "https://localhost:8080/",
          "height": 265
        },
        "id": "CjlR1rtHLcqB",
        "outputId": "4990066c-fb1a-492b-8a14-59bedc0edad6"
      },
      "source": [
        "#오차를 그래프로 그려보기\n",
        "\n",
        "plt.plot(fit_hist.history['loss'])\n",
        "plt.plot(fit_hist.history['val_loss'])\n",
        "plt.show()"
      ],
      "execution_count": 24,
      "outputs": [
        {
          "output_type": "display_data",
          "data": {
            "image/png": "[encoded data removed]",
            "text/plain": [
              "<Figure size 432x288 with 1 Axes>"
            ]
          },
          "metadata": {
            "tags": [],
            "needs_background": "light"
          }
        }
      ]
    },
    {
      "cell_type": "code",
      "metadata": {
        "id": "rb8L4HY0laNP"
      },
      "source": [
        "#X_test 예측하기\n",
        "\n",
        "predict = model.predict(X_test)"
      ],
      "execution_count": null,
      "outputs": []
    },
    {
      "cell_type": "code",
      "metadata": {
        "colab": {
          "base_uri": "https://localhost:8080/",
          "height": 265
        },
        "id": "Vr19UdzmOgAX",
        "outputId": "99153baf-d152-4c1b-d26c-7caa7500d456"
      },
      "source": [
        "plt.plot(Y_test, label='actual')  #실제 타겟Y값\n",
        "plt.plot(predict, label='predict')  #모델학습으로 예측한 X_test값\n",
        "plt.legend()\n",
        "plt.show()"
      ],
      "execution_count": null,
      "outputs": [
        {
          "output_type": "display_data",
          "data": {
            "image/png": "[encoded data removed]",
            "text/plain": [
              "<Figure size 432x288 with 1 Axes>"
            ]
          },
          "metadata": {
            "tags": [],
            "needs_background": "light"
          }
        }
      ]
    },
    {
      "cell_type": "markdown",
      "metadata": {
        "id": "5-R66tJ-Tr6G"
      },
      "source": [
        "## 만든 모델로 오늘의 삼성전자 주가 예측하기"
      ]
    },
    {
      "cell_type": "code",
      "metadata": {
        "colab": {
          "base_uri": "https://localhost:8080/"
        },
        "id": "N4GowdJ_TSYg",
        "outputId": "38795740-7d1f-423d-8062-d62022a9b07c"
      },
      "source": [
        "#최근 2달간의 데이터만 사용해본다\n",
        "\n",
        "test_data = raw_data['2021-04-15' : '2021-06-14'][['Open', 'High', 'Low', 'Close', 'Volume']]\n",
        "print(test_data.head())\n",
        "print(test_data.tail())\n",
        "print(test_data.info())\n",
        "print(test_data.shape)"
      ],
      "execution_count": 29,
      "outputs": [
        {
          "output_type": "stream",
          "text": [
            "               Open     High      Low    Close  Volume\n",
            "Date                                                  \n",
            "2021-04-15  83800.0  84400.0  83300.0  83700.0  382971\n",
            "2021-04-16  84100.0  84300.0  83700.0  84000.0  287056\n",
            "2021-04-19  84000.0  84000.0  83200.0  83900.0  342405\n",
            "2021-04-20  83900.0  85000.0  83900.0  85000.0  355885\n",
            "2021-04-21  84400.0  84400.0  83600.0  83700.0  320296\n",
            "                Open      High      Low    Close   Volume\n",
            "Date                                                     \n",
            "2021-06-08   97600.0   98200.0  96800.0  97500.0   426957\n",
            "2021-06-09   97600.0  102000.0  97400.0  99900.0  1065288\n",
            "2021-06-10  100500.0  101000.0  99100.0  99400.0   611096\n",
            "2021-06-11   99800.0  100500.0  98100.0  98700.0   424570\n",
            "2021-06-14   99000.0   99600.0  98400.0  98800.0   365231\n",
            "<class 'pandas.core.frame.DataFrame'>\n",
            "DatetimeIndex: 41 entries, 2021-04-15 to 2021-06-14\n",
            "Data columns (total 5 columns):\n",
            " #   Column  Non-Null Count  Dtype  \n",
            "---  ------  --------------  -----  \n",
            " 0   Open    41 non-null     float64\n",
            " 1   High    41 non-null     float64\n",
            " 2   Low     41 non-null     float64\n",
            " 3   Close   41 non-null     float64\n",
            " 4   Volume  41 non-null     int64  \n",
            "dtypes: float64(4), int64(1)\n",
            "memory usage: 1.9 KB\n",
            "None\n",
            "(41, 5)\n"
          ],
          "name": "stdout"
        }
      ]
    },
    {
      "cell_type": "code",
      "metadata": {
        "colab": {
          "base_uri": "https://localhost:8080/"
        },
        "id": "0RMGl9JmTX3d",
        "outputId": "615977d4-9a9d-4bfa-e3ee-69655d1d2bc0"
      },
      "source": [
        "#데이터 스케일링 \n",
        "\n",
        "scaled_test_data = minmaxscaler.transform(test_data)  #transform은 이미 fit된 것으로 값만 바꿔주는 것\n",
        "# 학습 데이터 세트로 fit() 된 Scaler를 이용하여 테스트 데이터를 변환할 경우에는  테스트 데이터에서 다시 fit()하지 않고 반드시 그대로 이 Scaler를 이용하여 transform()을 수행해야 한다\n",
        "print(scaled_test_data[-5:])\n",
        "print(scaled_test_data.shape)"
      ],
      "execution_count": 31,
      "outputs": [
        {
          "output_type": "stream",
          "text": [
            "[[0.88662791 0.86285714 0.91940299 0.88732394 0.07044891]\n",
            " [0.88662791 0.97142857 0.93731343 0.95492958 0.25957534]\n",
            " [0.97093023 0.94285714 0.9880597  0.94084507 0.12500611]\n",
            " [0.9505814  0.92857143 0.95820896 0.92112676 0.06974169]\n",
            " [0.92732558 0.90285714 0.96716418 0.92394366 0.05216057]]\n",
            "(41, 5)\n"
          ],
          "name": "stdout"
        }
      ]
    },
    {
      "cell_type": "code",
      "metadata": {
        "colab": {
          "base_uri": "https://localhost:8080/"
        },
        "id": "wsZY-nDPUIbn",
        "outputId": "41c7402d-4b26-4517-c9ed-5fbf928eb56a"
      },
      "source": [
        "scaled_test_data[39][3]  #임의의 날짜로 종가 출력해보기, 이때 스케일링이 된 상태라 종가가 얼마인지 알아볼 수 없다"
      ],
      "execution_count": 33,
      "outputs": [
        {
          "output_type": "execute_result",
          "data": {
            "text/plain": [
              "0.9211267605633806"
            ]
          },
          "metadata": {
            "tags": []
          },
          "execution_count": 33
        }
      ]
    },
    {
      "cell_type": "code",
      "metadata": {
        "colab": {
          "base_uri": "https://localhost:8080/"
        },
        "id": "45XWC2BmVo28",
        "outputId": "5ef7698c-2d32-488c-abc8-87869a42b36a"
      },
      "source": [
        "#스케일링 된 데이터를 다시 변환시켜서 원가 확인해보기\n",
        "predict_value = minmaxscaler.inverse_transform(scaled_test_data[39].reshape(-1, 5)) #inverse_transform= 위 문제를 해결하기 위해 원래 값으로 되돌리라는 것\n",
        "print(predict_value)"
      ],
      "execution_count": 34,
      "outputs": [
        {
          "output_type": "stream",
          "text": [
            "[[ 99800. 100500.  98100.  98700. 424570.]]\n"
          ],
          "name": "stdout"
        }
      ]
    },
    {
      "cell_type": "code",
      "metadata": {
        "colab": {
          "base_uri": "https://localhost:8080/"
        },
        "id": "2TU-jdkdWBjV",
        "outputId": "bfd513eb-04ee-494a-a435-91f55441f036"
      },
      "source": [
        "print(test_data.iloc[39])"
      ],
      "execution_count": 35,
      "outputs": [
        {
          "output_type": "stream",
          "text": [
            "Open       99800.0\n",
            "High      100500.0\n",
            "Low        98100.0\n",
            "Close      98700.0\n",
            "Volume    424570.0\n",
            "Name: 2021-06-11 00:00:00, dtype: float64\n"
          ],
          "name": "stdout"
        }
      ]
    },
    {
      "cell_type": "code",
      "metadata": {
        "colab": {
          "base_uri": "https://localhost:8080/"
        },
        "id": "tvGOCOV4WsOB",
        "outputId": "14335b60-ccf3-4e37-d866-ecf5003dd7ba"
      },
      "source": [
        "#데이터 스케일링, feature, target 시퀀스화\n",
        "\n",
        "sequence_testdata_X = []\n",
        "sequence_testdata_Y = []\n",
        "for i in range(len(scaled_test_data) - 28):\n",
        "    _x = scaled_test_data[i : i + 28]\n",
        "    _y = scaled_test_data[i+28][3]\n",
        "    sequence_testdata_X.append(_x)\n",
        "    sequence_testdata_Y.append(_y)\n",
        "\n",
        "#ndarray로 변환\n",
        "sequence_testdata_X = np.array(sequence_testdata_X)\n",
        "sequence_testdata_Y = np.array(sequence_testdata_Y)\n",
        "\n",
        "print(sequence_testdata_X.shape)\n",
        "print(sequence_testdata_Y.shape)"
      ],
      "execution_count": 36,
      "outputs": [
        {
          "output_type": "stream",
          "text": [
            "(13, 28, 5)\n",
            "(13,)\n"
          ],
          "name": "stdout"
        }
      ]
    },
    {
      "cell_type": "code",
      "metadata": {
        "id": "VqToK5vQXZNu"
      },
      "source": [
        "predict = model.predict(sequence_testdata_X)"
      ],
      "execution_count": 37,
      "outputs": []
    },
    {
      "cell_type": "code",
      "metadata": {
        "colab": {
          "base_uri": "https://localhost:8080/",
          "height": 283
        },
        "id": "O_DMBMNbX_Zc",
        "outputId": "1fa4cfff-10bc-46c8-9b25-819040a91caf"
      },
      "source": [
        "plt.plot(sequence_testdata_Y, label='actual')\n",
        "plt.plot(predict, label='predict')\n",
        "plt.legend()"
      ],
      "execution_count": 38,
      "outputs": [
        {
          "output_type": "execute_result",
          "data": {
            "text/plain": [
              "<matplotlib.legend.Legend at 0x7f81b3f76990>"
            ]
          },
          "metadata": {
            "tags": []
          },
          "execution_count": 38
        },
        {
          "output_type": "display_data",
          "data": {
            "image/png": "[encoded data removed]",
            "text/plain": [
              "<Figure size 432x288 with 1 Axes>"
            ]
          },
          "metadata": {
            "tags": [],
            "needs_background": "light"
          }
        }
      ]
    },
    {
      "cell_type": "code",
      "metadata": {
        "colab": {
          "base_uri": "https://localhost:8080/"
        },
        "id": "qxqmpH6SeON_",
        "outputId": "cb463929-d9e7-48ad-a13e-f94916e620cf"
      },
      "source": [
        "last_28_data = scaled_test_data[-28:]\n",
        "last_28_data.shape"
      ],
      "execution_count": 39,
      "outputs": [
        {
          "output_type": "execute_result",
          "data": {
            "text/plain": [
              "(28, 5)"
            ]
          },
          "metadata": {
            "tags": []
          },
          "execution_count": 39
        }
      ]
    },
    {
      "cell_type": "code",
      "metadata": {
        "colab": {
          "base_uri": "https://localhost:8080/"
        },
        "id": "k0dmoFpJernd",
        "outputId": "990f1264-6b81-4cbc-a7d9-1d231c38b294"
      },
      "source": [
        "last_28_data = last_28_data.reshape(-1, 28, 5)\n",
        "last_28_data.shape"
      ],
      "execution_count": 40,
      "outputs": [
        {
          "output_type": "execute_result",
          "data": {
            "text/plain": [
              "(1, 28, 5)"
            ]
          },
          "metadata": {
            "tags": []
          },
          "execution_count": 40
        }
      ]
    },
    {
      "cell_type": "code",
      "metadata": {
        "colab": {
          "base_uri": "https://localhost:8080/"
        },
        "id": "rVic7KHme5t7",
        "outputId": "6b8c6548-bb85-4560-e4dd-a70949f3025c"
      },
      "source": [
        "today_close = model.predict(last_28_data)\n",
        "print(today_close)"
      ],
      "execution_count": 41,
      "outputs": [
        {
          "output_type": "stream",
          "text": [
            "[[0.9139785]]\n"
          ],
          "name": "stdout"
        }
      ]
    },
    {
      "cell_type": "code",
      "metadata": {
        "colab": {
          "base_uri": "https://localhost:8080/"
        },
        "id": "NcWHMPpwfDRV",
        "outputId": "e4b3e517-365f-4835-d3f1-164256de3c25"
      },
      "source": [
        "#종가만 스케일링해주는 스케일러를 만들어주기(위에는 5개의 컬럼을 다 넣고 스케일링을 만든거라 여기서 사용불가)\n",
        "\n",
        "minmaxscaler_close = MinMaxScaler()\n",
        "_ = minmaxscaler_close.fit_transform(data[['Close']])  #data= 2019-06 ~ 2020-06 데이터\n",
        "today_close = minmaxscaler_close.inverse_transform(today_close)\n",
        "print(today_close)"
      ],
      "execution_count": 42,
      "outputs": [
        {
          "output_type": "stream",
          "text": [
            "[[98446.24]]\n"
          ],
          "name": "stdout"
        }
      ]
    }
  ]
}