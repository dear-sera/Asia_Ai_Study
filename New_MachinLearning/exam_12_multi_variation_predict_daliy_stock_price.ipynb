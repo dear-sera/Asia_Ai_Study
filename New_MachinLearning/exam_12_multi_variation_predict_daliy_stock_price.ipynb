{
  "nbformat": 4,
  "nbformat_minor": 0,
  "metadata": {
    "colab": {
      "name": "exam_12_multi_variation_predict_daliy_stock_price.ipynb",
      "provenance": [],
      "authorship_tag": "ABX9TyP+Pi/pwcdjW/ny5sButq25",
      "include_colab_link": true
    },
    "kernelspec": {
      "name": "python3",
      "display_name": "Python 3"
    },
    "language_info": {
      "name": "python"
    },
    "accelerator": "GPU"
  },
  "cells": [
    {
      "cell_type": "markdown",
      "metadata": {
        "id": "view-in-github",
        "colab_type": "text"
      },
      "source": [
        "<a href=\"https://colab.research.google.com/github/sera0911/asia_ai_study/blob/main/New_MachinLearning/exam_12_multi_variation_predict_daliy_stock_price.ipynb\" target=\"_parent\"><img src=\"https://colab.research.google.com/assets/colab-badge.svg\" alt=\"Open In Colab\"/></a>"
      ]
    },
    {
      "cell_type": "markdown",
      "metadata": {
        "id": "a3ev3MqIFkj0"
      },
      "source": [
        "##삼성전자 데이터의 컬럼을 모두 사용해 예측하기(LSTM, RNN 사용하여 시계열 데이터 예측하기)"
      ]
    },
    {
      "cell_type": "code",
      "metadata": {
        "id": "FTzf5HCmCJ74"
      },
      "source": [
        "#모듈 불러오기\n",
        "\n",
        "import pandas as pd\n",
        "import numpy as np\n",
        "import matplotlib.pyplot as plt\n",
        "import datetime\n",
        "from tensorflow.keras.models import Sequential\n",
        "from tensorflow.keras.layers import *  #레이어 전체를 가져온다\n",
        "from tensorflow.keras.optimizers import Adam"
      ],
      "execution_count": 48,
      "outputs": []
    },
    {
      "cell_type": "code",
      "metadata": {
        "colab": {
          "base_uri": "https://localhost:8080/"
        },
        "id": "VtEuL7dyGGMC",
        "outputId": "85e9552b-999c-49e2-e1b0-72c1ccf9a72c"
      },
      "source": [
        "#파일 불러오기(삼성 주식 데이터)\n",
        "raw_data = pd.read_csv('Samsung.csv')\n",
        "print(raw_data.head())"
      ],
      "execution_count": 49,
      "outputs": [
        {
          "output_type": "stream",
          "text": [
            "         Date    Open    High     Low   Close    Adj Close      Volume\n",
            "0  2000-01-04  6000.0  6110.0  5660.0  6110.0  4740.119629  74195000.0\n",
            "1  2000-01-05  5800.0  6060.0  5520.0  5580.0  4328.947754  74680000.0\n",
            "2  2000-01-06  5750.0  5780.0  5580.0  5620.0  4359.979492  54390000.0\n",
            "3  2000-01-07  5560.0  5670.0  5360.0  5540.0  4297.916992  40305000.0\n",
            "4  2000-01-10  5600.0  5770.0  5580.0  5770.0  4476.349121  46880000.0\n"
          ],
          "name": "stdout"
        }
      ]
    },
    {
      "cell_type": "code",
      "metadata": {
        "colab": {
          "base_uri": "https://localhost:8080/"
        },
        "id": "oxZmqseuGW1K",
        "outputId": "a8050706-351f-4787-9f7a-f51734fc2d36"
      },
      "source": [
        "raw_data['Date'] = pd.to_datetime(raw_data['Date'])  #데이트 타입으로 변환\n",
        "raw_data.set_index('Date', inplace=True)  #날짜를 인덱스로 지정\n",
        "print(raw_data.head())"
      ],
      "execution_count": 50,
      "outputs": [
        {
          "output_type": "stream",
          "text": [
            "              Open    High     Low   Close    Adj Close      Volume\n",
            "Date                                                               \n",
            "2000-01-04  6000.0  6110.0  5660.0  6110.0  4740.119629  74195000.0\n",
            "2000-01-05  5800.0  6060.0  5520.0  5580.0  4328.947754  74680000.0\n",
            "2000-01-06  5750.0  5780.0  5580.0  5620.0  4359.979492  54390000.0\n",
            "2000-01-07  5560.0  5670.0  5360.0  5540.0  4297.916992  40305000.0\n",
            "2000-01-10  5600.0  5770.0  5580.0  5770.0  4476.349121  46880000.0\n"
          ],
          "name": "stdout"
        }
      ]
    },
    {
      "cell_type": "code",
      "metadata": {
        "colab": {
          "base_uri": "https://localhost:8080/"
        },
        "id": "NWuWnXK5GyI1",
        "outputId": "badfa4b9-4a45-4847-e0e7-61f0861fcf1a"
      },
      "source": [
        "#Adj Close는 close와 값이 비슷해서 빼주기위해서 다른 컬럼들만 가져온다, 지정된 날짜만 실행\n",
        "data = raw_data['2020-06-15':'2021-06-14'][['Open', 'High', 'Low', 'Close', 'Volume']]\n",
        "print(data.head())\n",
        "print(data.info())\n",
        "print(data.shape)\n",
        "\n",
        "#결과 DatetimeIndex: 247 entries"
      ],
      "execution_count": 160,
      "outputs": [
        {
          "output_type": "stream",
          "text": [
            "               Open     High      Low    Close      Volume\n",
            "Date                                                      \n",
            "2020-06-15  51400.0  52000.0  49900.0  49900.0  28772921.0\n",
            "2020-06-16  51200.0  52100.0  50600.0  52100.0  21808375.0\n",
            "2020-06-17  52100.0  52900.0  51300.0  52200.0  26672595.0\n",
            "2020-06-18  52200.0  52300.0  51600.0  52300.0  15982926.0\n",
            "2020-06-19  52600.0  52900.0  51600.0  52900.0  18157985.0\n",
            "<class 'pandas.core.frame.DataFrame'>\n",
            "DatetimeIndex: 247 entries, 2020-06-15 to 2021-06-11\n",
            "Data columns (total 5 columns):\n",
            " #   Column  Non-Null Count  Dtype  \n",
            "---  ------  --------------  -----  \n",
            " 0   Open    247 non-null    float64\n",
            " 1   High    247 non-null    float64\n",
            " 2   Low     247 non-null    float64\n",
            " 3   Close   247 non-null    float64\n",
            " 4   Volume  247 non-null    float64\n",
            "dtypes: float64(5)\n",
            "memory usage: 11.6 KB\n",
            "None\n",
            "(247, 5)\n"
          ],
          "name": "stdout"
        }
      ]
    },
    {
      "cell_type": "code",
      "metadata": {
        "colab": {
          "base_uri": "https://localhost:8080/"
        },
        "id": "BYNoPQGFHKz4",
        "outputId": "10f94a1a-664b-44ed-eaa7-ea4cbe245a2a"
      },
      "source": [
        "#위 info를 보면 null값이 있는 열을 제거하기\n",
        "data = data.dropna()\n",
        "print(data.info())"
      ],
      "execution_count": 161,
      "outputs": [
        {
          "output_type": "stream",
          "text": [
            "<class 'pandas.core.frame.DataFrame'>\n",
            "DatetimeIndex: 247 entries, 2020-06-15 to 2021-06-11\n",
            "Data columns (total 5 columns):\n",
            " #   Column  Non-Null Count  Dtype  \n",
            "---  ------  --------------  -----  \n",
            " 0   Open    247 non-null    float64\n",
            " 1   High    247 non-null    float64\n",
            " 2   Low     247 non-null    float64\n",
            " 3   Close   247 non-null    float64\n",
            " 4   Volume  247 non-null    float64\n",
            "dtypes: float64(5)\n",
            "memory usage: 11.6 KB\n",
            "None\n"
          ],
          "name": "stdout"
        }
      ]
    },
    {
      "cell_type": "code",
      "metadata": {
        "colab": {
          "base_uri": "https://localhost:8080/"
        },
        "id": "ydIWKKwAHecI",
        "outputId": "c509e1f9-a0b5-4bbe-d781-06a146ecf662"
      },
      "source": [
        "#데이터 스케일링하기\n",
        "from sklearn.preprocessing import MinMaxScaler\n",
        "\n",
        "minmaxscaler = MinMaxScaler()\n",
        "scaled_data = minmaxscaler.fit_transform(data)\n",
        "print(scaled_data[:5])\n",
        "print(scaled_data.shape)"
      ],
      "execution_count": 162,
      "outputs": [
        {
          "output_type": "stream",
          "text": [
            "[[0.00511509 0.         0.         0.         0.24017957]\n",
            " [0.         0.00223214 0.01767677 0.05352798 0.15418047]\n",
            " [0.0230179  0.02008929 0.03535354 0.05596107 0.21424448]\n",
            " [0.02557545 0.00669643 0.04292929 0.05839416 0.08224709]\n",
            " [0.03580563 0.02008929 0.04292929 0.0729927  0.109105  ]]\n",
            "(247, 5)\n"
          ],
          "name": "stdout"
        }
      ]
    },
    {
      "cell_type": "code",
      "metadata": {
        "colab": {
          "base_uri": "https://localhost:8080/"
        },
        "id": "-tFVnTNiH7dQ",
        "outputId": "82d2ecb8-3200-4473-adaf-f0fc4df7030e"
      },
      "source": [
        "sequence_X = []\n",
        "sequence_Y = []\n",
        "\n",
        "for i in range(len(scaled_data) - 28):\n",
        "    _x = scaled_data[i : i + 28]\n",
        "    _y = scaled_data[i + 28][3]  #3번인덱스가 종가\n",
        "    if i is 0:\n",
        "        print(_x, '->', _y)\n",
        "    sequence_X.append(_x)\n",
        "    sequence_Y.append(_y)\n",
        "\n",
        "#결과 중 0은 최저가 라는 뜻"
      ],
      "execution_count": 163,
      "outputs": [
        {
          "output_type": "stream",
          "text": [
            "[[0.00511509 0.         0.         0.         0.24017957]\n",
            " [0.         0.00223214 0.01767677 0.05352798 0.15418047]\n",
            " [0.0230179  0.02008929 0.03535354 0.05596107 0.21424448]\n",
            " [0.02557545 0.00669643 0.04292929 0.05839416 0.08224709]\n",
            " [0.03580563 0.02008929 0.04292929 0.0729927  0.109105  ]\n",
            " [0.02046036 0.01339286 0.0479798  0.05109489 0.05530872]\n",
            " [0.03324808 0.01785714 0.03030303 0.03649635 0.10821799]\n",
            " [0.01790281 0.04241071 0.04292929 0.0729927  0.18765843]\n",
            " [0.0230179  0.02232143 0.05050505 0.0486618  0.11384222]\n",
            " [0.04092072 0.04241071 0.05808081 0.08272506 0.15130317]\n",
            " [0.03324808 0.02678571 0.0530303  0.06082725 0.10439962]\n",
            " [0.06905371 0.04241071 0.07323232 0.07055961 0.14613934]\n",
            " [0.05626598 0.03571429 0.06313131 0.06569343 0.09117747]\n",
            " [0.0230179  0.02008929 0.05555556 0.0729927  0.0595223 ]\n",
            " [0.04603581 0.03571429 0.07070707 0.09002433 0.0316808 ]\n",
            " [0.07161125 0.06696429 0.09848485 0.12408759 0.13007999]\n",
            " [0.11764706 0.08705357 0.08838384 0.08515815 0.26471667]\n",
            " [0.06138107 0.04241071 0.07575758 0.07542579 0.12770951]\n",
            " [0.0511509  0.03571429 0.07323232 0.07055961 0.09548335]\n",
            " [0.04859335 0.02678571 0.06060606 0.06812652 0.05423932]\n",
            " [0.05370844 0.04017857 0.08080808 0.08515815 0.03603129]\n",
            " [0.06393862 0.04017857 0.08333333 0.09489051 0.06108929]\n",
            " [0.08184143 0.06696429 0.11111111 0.11678832 0.18187825]\n",
            " [0.09207161 0.0625     0.09848485 0.09489051 0.09207868]\n",
            " [0.07672634 0.06026786 0.10606061 0.10948905 0.00955673]\n",
            " [0.09207161 0.0625     0.10353535 0.10462287 0.01463621]\n",
            " [0.10230179 0.07589286 0.12373737 0.13138686 0.11082478]\n",
            " [0.10485934 0.078125   0.12121212 0.11678832 0.04399421]] -> 0.10218978102189791\n"
          ],
          "name": "stdout"
        }
      ]
    },
    {
      "cell_type": "code",
      "metadata": {
        "colab": {
          "base_uri": "https://localhost:8080/"
        },
        "id": "gfmiJg8vIgnl",
        "outputId": "44528f09-2518-4bd9-b1ae-2edae0c6a71e"
      },
      "source": [
        "#모델에게 주기 위해 np.array타입으로 변환\n",
        "\n",
        "sequence_X = np.array(sequence_X)\n",
        "sequence_Y = np.array(sequence_Y)\n",
        "print(sequence_X[0])\n",
        "print(sequence_Y[0])\n",
        "print(sequence_X.shape)  #28개 빼서 217개의 데이터 , 28개가 한개씩 묶인 리스트 217개, 컬럼이 5개\n",
        "print(sequence_Y.shape)"
      ],
      "execution_count": 164,
      "outputs": [
        {
          "output_type": "stream",
          "text": [
            "[[0.00511509 0.         0.         0.         0.24017957]\n",
            " [0.         0.00223214 0.01767677 0.05352798 0.15418047]\n",
            " [0.0230179  0.02008929 0.03535354 0.05596107 0.21424448]\n",
            " [0.02557545 0.00669643 0.04292929 0.05839416 0.08224709]\n",
            " [0.03580563 0.02008929 0.04292929 0.0729927  0.109105  ]\n",
            " [0.02046036 0.01339286 0.0479798  0.05109489 0.05530872]\n",
            " [0.03324808 0.01785714 0.03030303 0.03649635 0.10821799]\n",
            " [0.01790281 0.04241071 0.04292929 0.0729927  0.18765843]\n",
            " [0.0230179  0.02232143 0.05050505 0.0486618  0.11384222]\n",
            " [0.04092072 0.04241071 0.05808081 0.08272506 0.15130317]\n",
            " [0.03324808 0.02678571 0.0530303  0.06082725 0.10439962]\n",
            " [0.06905371 0.04241071 0.07323232 0.07055961 0.14613934]\n",
            " [0.05626598 0.03571429 0.06313131 0.06569343 0.09117747]\n",
            " [0.0230179  0.02008929 0.05555556 0.0729927  0.0595223 ]\n",
            " [0.04603581 0.03571429 0.07070707 0.09002433 0.0316808 ]\n",
            " [0.07161125 0.06696429 0.09848485 0.12408759 0.13007999]\n",
            " [0.11764706 0.08705357 0.08838384 0.08515815 0.26471667]\n",
            " [0.06138107 0.04241071 0.07575758 0.07542579 0.12770951]\n",
            " [0.0511509  0.03571429 0.07323232 0.07055961 0.09548335]\n",
            " [0.04859335 0.02678571 0.06060606 0.06812652 0.05423932]\n",
            " [0.05370844 0.04017857 0.08080808 0.08515815 0.03603129]\n",
            " [0.06393862 0.04017857 0.08333333 0.09489051 0.06108929]\n",
            " [0.08184143 0.06696429 0.11111111 0.11678832 0.18187825]\n",
            " [0.09207161 0.0625     0.09848485 0.09489051 0.09207868]\n",
            " [0.07672634 0.06026786 0.10606061 0.10948905 0.00955673]\n",
            " [0.09207161 0.0625     0.10353535 0.10462287 0.01463621]\n",
            " [0.10230179 0.07589286 0.12373737 0.13138686 0.11082478]\n",
            " [0.10485934 0.078125   0.12121212 0.11678832 0.04399421]]\n",
            "0.10218978102189791\n",
            "(219, 28, 5)\n",
            "(219,)\n"
          ],
          "name": "stdout"
        }
      ]
    },
    {
      "cell_type": "code",
      "metadata": {
        "colab": {
          "base_uri": "https://localhost:8080/"
        },
        "id": "Z3Cp7hYFJ5xR",
        "outputId": "ad8245df-6594-4566-96d7-faac4bb86fc7"
      },
      "source": [
        "from sklearn.model_selection import train_test_split\n",
        "X_train, X_test, Y_train, Y_test = train_test_split(\n",
        "    sequence_X, sequence_Y, test_size=0.2, random_state=77)  #random_state= 랜덤값을 뽑아주긴 하지만, 같은 결과를 보여주기 위해\n",
        "print(X_train.shape)\n",
        "print(Y_train.shape)\n",
        "print(X_test.shape)\n",
        "print(Y_test.shape)"
      ],
      "execution_count": 165,
      "outputs": [
        {
          "output_type": "stream",
          "text": [
            "(175, 28, 5)\n",
            "(175,)\n",
            "(44, 28, 5)\n",
            "(44,)\n"
          ],
          "name": "stdout"
        }
      ]
    },
    {
      "cell_type": "code",
      "metadata": {
        "colab": {
          "base_uri": "https://localhost:8080/"
        },
        "id": "e9mRD71TKaPO",
        "outputId": "5c286234-feb7-4855-d184-bbe2abad8615"
      },
      "source": [
        "#모델 생성\n",
        "\n",
        "model = Sequential() #시퀀스란 데이터를 순서대로 하나씩 나열하여 나타낸 데이터 구조\n",
        "\n",
        "#input_shape=(X_train.shape[0], X_train.shape[1]) 인 이유는 자르는 갯수가 달라지더라도 train.shape로 해놓으면 변경되는 대로 적용되서(현재 적용된 건(28, 1))\n",
        "model.add(LSTM(50, input_shape=(X_train.shape[1], X_train.shape[2]), activation='tanh'))  #LSTM 일 때는 activation='thah'로 해줘야 한다(하이퍼볼릭 탄젠트) \n",
        "#RNN을 사용하고 싶다면 SimpleRNN을 사용하면 된다\n",
        "model.add(Flatten())\n",
        "model.add(Dense(1))  #값 자체를 예측하기 때문에 activation을 사용하지 않는다\n",
        "\n",
        "model.compile(loss='mse', optimizer='adam')\n",
        "model.summary()"
      ],
      "execution_count": 166,
      "outputs": [
        {
          "output_type": "stream",
          "text": [
            "Model: \"sequential_6\"\n",
            "_________________________________________________________________\n",
            "Layer (type)                 Output Shape              Param #   \n",
            "=================================================================\n",
            "lstm_4 (LSTM)                (None, 50)                11200     \n",
            "_________________________________________________________________\n",
            "flatten_6 (Flatten)          (None, 50)                0         \n",
            "_________________________________________________________________\n",
            "dense_6 (Dense)              (None, 1)                 51        \n",
            "=================================================================\n",
            "Total params: 11,251\n",
            "Trainable params: 11,251\n",
            "Non-trainable params: 0\n",
            "_________________________________________________________________\n"
          ],
          "name": "stdout"
        }
      ]
    },
    {
      "cell_type": "code",
      "metadata": {
        "id": "3wNn6QAILAww"
      },
      "source": [
        "fit_hist = model.fit(X_train, Y_train, epochs=350, validation_data=(X_test, Y_test), shuffle=False)"
      ],
      "execution_count": null,
      "outputs": []
    },
    {
      "cell_type": "code",
      "metadata": {
        "colab": {
          "base_uri": "https://localhost:8080/",
          "height": 265
        },
        "id": "CjlR1rtHLcqB",
        "outputId": "b562dd80-7337-4ea4-9b66-2a0e02c8106c"
      },
      "source": [
        "plt.plot(fit_hist.history['loss'])\n",
        "plt.plot(fit_hist.history['val_loss'])\n",
        "plt.show()"
      ],
      "execution_count": 168,
      "outputs": [
        {
          "output_type": "display_data",
          "data": {
            "image/png": "[encoded data removed]",
            "text/plain": [
              "<Figure size 432x288 with 1 Axes>"
            ]
          },
          "metadata": {
            "tags": [],
            "needs_background": "light"
          }
        }
      ]
    },
    {
      "cell_type": "code",
      "metadata": {
        "id": "rb8L4HY0laNP"
      },
      "source": [
        "predict = model.predict(X_test)"
      ],
      "execution_count": 169,
      "outputs": []
    },
    {
      "cell_type": "code",
      "metadata": {
        "colab": {
          "base_uri": "https://localhost:8080/",
          "height": 265
        },
        "id": "Vr19UdzmOgAX",
        "outputId": "99153baf-d152-4c1b-d26c-7caa7500d456"
      },
      "source": [
        "plt.plot(Y_test, label='actual')\n",
        "plt.plot(predict, label='predict')\n",
        "plt.legend()\n",
        "plt.show()"
      ],
      "execution_count": 170,
      "outputs": [
        {
          "output_type": "display_data",
          "data": {
            "image/png": "[encoded data removed]",
            "text/plain": [
              "<Figure size 432x288 with 1 Axes>"
            ]
          },
          "metadata": {
            "tags": [],
            "needs_background": "light"
          }
        }
      ]
    },
    {
      "cell_type": "markdown",
      "metadata": {
        "id": "5-R66tJ-Tr6G"
      },
      "source": [
        "## 만든 모델로 오늘의 삼성전자 주가 예측하기"
      ]
    },
    {
      "cell_type": "code",
      "metadata": {
        "colab": {
          "base_uri": "https://localhost:8080/"
        },
        "id": "N4GowdJ_TSYg",
        "outputId": "db358474-c062-4571-f7b5-08b76eb4b6bf"
      },
      "source": [
        "#최근 2달간의 데이터만 사용해본다\n",
        "\n",
        "test_data = raw_data['2021-04-15' : '2021-06-14'][['Open', 'High', 'Low', 'Close', 'Volume']]\n",
        "print(test_data.head())\n",
        "print(test_data.info())\n",
        "print(test_data.shape)"
      ],
      "execution_count": 171,
      "outputs": [
        {
          "output_type": "stream",
          "text": [
            "               Open     High      Low    Close      Volume\n",
            "Date                                                      \n",
            "2021-04-15  83700.0  84500.0  83400.0  84100.0  16377412.0\n",
            "2021-04-16  84700.0  84700.0  83600.0  83900.0  15429522.0\n",
            "2021-04-19  83800.0  84000.0  83300.0  83300.0  15287311.0\n",
            "2021-04-20  83300.0  84000.0  83100.0  83900.0  15521965.0\n",
            "2021-04-21  83300.0  83500.0  82500.0  82600.0  21636079.0\n",
            "<class 'pandas.core.frame.DataFrame'>\n",
            "DatetimeIndex: 40 entries, 2021-04-15 to 2021-06-11\n",
            "Data columns (total 5 columns):\n",
            " #   Column  Non-Null Count  Dtype  \n",
            "---  ------  --------------  -----  \n",
            " 0   Open    40 non-null     float64\n",
            " 1   High    40 non-null     float64\n",
            " 2   Low     40 non-null     float64\n",
            " 3   Close   40 non-null     float64\n",
            " 4   Volume  40 non-null     float64\n",
            "dtypes: float64(5)\n",
            "memory usage: 1.9 KB\n",
            "None\n",
            "(40, 5)\n"
          ],
          "name": "stdout"
        }
      ]
    },
    {
      "cell_type": "code",
      "metadata": {
        "colab": {
          "base_uri": "https://localhost:8080/"
        },
        "id": "0RMGl9JmTX3d",
        "outputId": "c8298d0e-b7a9-4b9c-e9bc-3549076d0628"
      },
      "source": [
        "#데이터 스케일링 \n",
        "\n",
        "scaled_test_data = minmaxscaler.transform(test_data)  #transform은 학습 데이터에서 설정된 변환을 위한 기반 설정을 그대로 테스트 데이터에도 적용하기 위해서\n",
        "# 학습 데이터 세트로 fit() 된 Scaler를 이용하여 테스트 데이터를 변환할 경우에는  테스트 데이터에서 다시 fit()하지 않고 반드시 그대로 이 Scaler를 이용하여 transform()을 수행해야 한다\n",
        "print(scaled_test_data[-5:])\n",
        "print(scaled_test_data.shape)"
      ],
      "execution_count": 172,
      "outputs": [
        {
          "output_type": "stream",
          "text": [
            "[[0.8056266  0.6875     0.80050505 0.77858881 0.08858503]\n",
            " [0.79539642 0.68303571 0.80555556 0.77858881 0.0427121 ]\n",
            " [0.77493606 0.66964286 0.78787879 0.75912409 0.06898393]\n",
            " [0.76982097 0.65625    0.78282828 0.756691   0.10205434]\n",
            " [0.76726343 0.66294643 0.77777778 0.756691   0.05884784]]\n",
            "(40, 5)\n"
          ],
          "name": "stdout"
        }
      ]
    },
    {
      "cell_type": "code",
      "metadata": {
        "colab": {
          "base_uri": "https://localhost:8080/"
        },
        "id": "wsZY-nDPUIbn",
        "outputId": "cd35e93c-166f-4cf1-dbcd-c2a805d5e18c"
      },
      "source": [
        "scaled_test_data[39][3]  #임의의 날짜로 종가 출력해보기, 이때 스케일링이 된 상태라 종가가 얼마인지 알아볼 수 없다"
      ],
      "execution_count": 173,
      "outputs": [
        {
          "output_type": "execute_result",
          "data": {
            "text/plain": [
              "0.75669099756691"
            ]
          },
          "metadata": {
            "tags": []
          },
          "execution_count": 173
        }
      ]
    },
    {
      "cell_type": "code",
      "metadata": {
        "colab": {
          "base_uri": "https://localhost:8080/"
        },
        "id": "45XWC2BmVo28",
        "outputId": "ad245b61-5e3d-4cb4-9468-6a8be18aa0ff"
      },
      "source": [
        "#스케일링 된 데이터를 다시 변환시켜서 원가 확인해보기\n",
        "\n",
        "predict_value = minmaxscaler.inverse_transform(scaled_test_data[39].reshape(-1, 5)) #inverse_transform= 위 문제를 해결하기 위해 원래 값으로 되돌리라는 것\n",
        "print(predict_value)"
      ],
      "execution_count": 174,
      "outputs": [
        {
          "output_type": "stream",
          "text": [
            "[[   81200.    81700.    80700.    81000. 14087962.]]\n"
          ],
          "name": "stdout"
        }
      ]
    },
    {
      "cell_type": "code",
      "metadata": {
        "colab": {
          "base_uri": "https://localhost:8080/"
        },
        "id": "2TU-jdkdWBjV",
        "outputId": "7127bf83-5efc-4f45-e05e-c70682191f3a"
      },
      "source": [
        "print(test_data.iloc[39])"
      ],
      "execution_count": 175,
      "outputs": [
        {
          "output_type": "stream",
          "text": [
            "Open         81200.0\n",
            "High         81700.0\n",
            "Low          80700.0\n",
            "Close        81000.0\n",
            "Volume    14087962.0\n",
            "Name: 2021-06-11 00:00:00, dtype: float64\n"
          ],
          "name": "stdout"
        }
      ]
    },
    {
      "cell_type": "code",
      "metadata": {
        "colab": {
          "base_uri": "https://localhost:8080/"
        },
        "id": "tvGOCOV4WsOB",
        "outputId": "923fd5dd-3e4c-447e-a16a-f4fffca306a2"
      },
      "source": [
        "#데이터 스케일링, feature, target 시퀀스화\n",
        "\n",
        "sequence_testdata_X = []\n",
        "sequence_testdata_Y = []\n",
        "for i in range(len(scaled_test_data) - 28):\n",
        "    _x = scaled_test_data[i : i + 28]\n",
        "    _y = scaled_test_data[i+28][3]\n",
        "    sequence_testdata_X.append(_x)\n",
        "    sequence_testdata_Y.append(_y)\n",
        "\n",
        "#ndarray로 변환\n",
        "sequence_testdata_X = np.array(sequence_testdata_X)\n",
        "sequence_testdata_Y = np.array(sequence_testdata_Y)\n",
        "\n",
        "print(sequence_testdata_X.shape)\n",
        "print(sequence_testdata_Y.shape)"
      ],
      "execution_count": 176,
      "outputs": [
        {
          "output_type": "stream",
          "text": [
            "(12, 28, 5)\n",
            "(12,)\n"
          ],
          "name": "stdout"
        }
      ]
    },
    {
      "cell_type": "code",
      "metadata": {
        "id": "VqToK5vQXZNu"
      },
      "source": [
        "#최근 2달데이터로 예측하기\n",
        "\n",
        "predict = model.predict(sequence_testdata_X)"
      ],
      "execution_count": 177,
      "outputs": []
    },
    {
      "cell_type": "code",
      "metadata": {
        "colab": {
          "base_uri": "https://localhost:8080/",
          "height": 283
        },
        "id": "O_DMBMNbX_Zc",
        "outputId": "12801522-9fd2-4511-eedd-e82ce148bdb8"
      },
      "source": [
        "#그래프로 나타내기\n",
        "\n",
        "plt.plot(sequence_testdata_Y, label='actual')\n",
        "plt.plot(predict, label='predict')\n",
        "plt.legend()"
      ],
      "execution_count": 178,
      "outputs": [
        {
          "output_type": "execute_result",
          "data": {
            "text/plain": [
              "<matplotlib.legend.Legend at 0x7fc2e040ad90>"
            ]
          },
          "metadata": {
            "tags": []
          },
          "execution_count": 178
        },
        {
          "output_type": "display_data",
          "data": {
            "image/png": "[encoded data removed]",
            "text/plain": [
              "<Figure size 432x288 with 1 Axes>"
            ]
          },
          "metadata": {
            "tags": [],
            "needs_background": "light"
          }
        }
      ]
    },
    {
      "cell_type": "code",
      "metadata": {
        "colab": {
          "base_uri": "https://localhost:8080/"
        },
        "id": "qxqmpH6SeON_",
        "outputId": "46507e1c-e9d4-40ea-ddb5-5a18a3cfe183"
      },
      "source": [
        "last_28_data = scaled_test_data[-28:]  #last_28_data = 가장 최신 데이터를 가져와서 오늘 것을 예측하기\n",
        "last_28_data.shape"
      ],
      "execution_count": 179,
      "outputs": [
        {
          "output_type": "execute_result",
          "data": {
            "text/plain": [
              "(28, 5)"
            ]
          },
          "metadata": {
            "tags": []
          },
          "execution_count": 179
        }
      ]
    },
    {
      "cell_type": "code",
      "metadata": {
        "colab": {
          "base_uri": "https://localhost:8080/"
        },
        "id": "k0dmoFpJernd",
        "outputId": "4547e876-1a13-4e13-c6af-1d819e675dee"
      },
      "source": [
        "#5개의 컬럼에 맞춰서 reshape\n",
        "last_28_data = last_28_data.reshape(-1, 28, 5)\n",
        "last_28_data.shape"
      ],
      "execution_count": 180,
      "outputs": [
        {
          "output_type": "execute_result",
          "data": {
            "text/plain": [
              "(1, 28, 5)"
            ]
          },
          "metadata": {
            "tags": []
          },
          "execution_count": 180
        }
      ]
    },
    {
      "cell_type": "code",
      "metadata": {
        "colab": {
          "base_uri": "https://localhost:8080/"
        },
        "id": "rVic7KHme5t7",
        "outputId": "6dcdd29b-ddec-4ca6-a34c-7179da257604"
      },
      "source": [
        "#최신 데이터로 오늘 주식 종가 예측하기\n",
        "today_close = model.predict(last_28_data)\n",
        "print(today_close)"
      ],
      "execution_count": 181,
      "outputs": [
        {
          "output_type": "stream",
          "text": [
            "[[0.77943236]]\n"
          ],
          "name": "stdout"
        }
      ]
    },
    {
      "cell_type": "code",
      "metadata": {
        "colab": {
          "base_uri": "https://localhost:8080/"
        },
        "id": "NcWHMPpwfDRV",
        "outputId": "abb8cd90-4280-4c90-aa11-2a60e69e12f7"
      },
      "source": [
        "#종가만 스케일링해주는 스케일러를 만들어주기(위에는 5개의 컬럼을 다 넣고 스케일링을 만든거라 여기서 사용불가)\n",
        "\n",
        "minmaxscaler_close = MinMaxScaler()\n",
        "_ = minmaxscaler_close.fit_transform(data[['Close']])  #data= 2019-06 ~ 2020-06 데이터\n",
        "today_close = minmaxscaler_close.inverse_transform(today_close)\n",
        "print(today_close)"
      ],
      "execution_count": 182,
      "outputs": [
        {
          "output_type": "stream",
          "text": [
            "[[81934.664]]\n"
          ],
          "name": "stdout"
        }
      ]
    }
  ]
}