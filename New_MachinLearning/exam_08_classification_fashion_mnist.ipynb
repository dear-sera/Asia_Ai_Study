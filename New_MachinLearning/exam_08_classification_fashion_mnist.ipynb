{
  "nbformat": 4,
  "nbformat_minor": 0,
  "metadata": {
    "colab": {
      "name": "exam_08_classification_fashion_mnist.ipynb",
      "provenance": [],
      "authorship_tag": "ABX9TyNhzezkg7G5z/eoKevw9le4",
      "include_colab_link": true
    },
    "kernelspec": {
      "name": "python3",
      "display_name": "Python 3"
    },
    "language_info": {
      "name": "python"
    },
    "accelerator": "GPU"
  },
  "cells": [
    {
      "cell_type": "markdown",
      "metadata": {
        "id": "view-in-github",
        "colab_type": "text"
      },
      "source": [
        "<a href=\"https://colab.research.google.com/github/sera0911/asia_ai_study/blob/main/New_MachinLearning/exam_08_classification_fashion_mnist.ipynb\" target=\"_parent\"><img src=\"https://colab.research.google.com/assets/colab-badge.svg\" alt=\"Open In Colab\"/></a>"
      ]
    },
    {
      "cell_type": "markdown",
      "metadata": {
        "id": "Y91uGKMis_JZ"
      },
      "source": [
        "## fashion_mnist 를 사용해 십진분류기 만들기(10가지 패션소품)\n",
        "\n"
      ]
    },
    {
      "cell_type": "code",
      "metadata": {
        "id": "S_zewlVWsxoh"
      },
      "source": [
        "# 모듈 불러오기\n",
        "\n",
        "import numpy as np\n",
        "import matplotlib.pyplot as plt\n",
        "from tensorflow.keras.models import Sequential\n",
        "from tensorflow.keras.layers import Dense\n",
        "from tensorflow.keras.optimizers import Adam\n",
        "from keras.utils import np_utils\n",
        "from tensorflow.keras import datasets"
      ],
      "execution_count": null,
      "outputs": []
    },
    {
      "cell_type": "code",
      "metadata": {
        "colab": {
          "base_uri": "https://localhost:8080/"
        },
        "id": "Psn2cL7QvSwT",
        "outputId": "e13de280-2e21-47d2-fbf7-96c31d156d8c"
      },
      "source": [
        "(X_train, Y_train), (X_test, Y_test) = datasets.fashion_mnist.load_data()\n",
        "print(X_train.shape, Y_train.shape)\n",
        "print(X_test.shape, Y_test.shape)"
      ],
      "execution_count": null,
      "outputs": [
        {
          "output_type": "stream",
          "text": [
            "(60000, 28, 28) (60000,)\n",
            "(10000, 28, 28) (10000,)\n"
          ],
          "name": "stdout"
        }
      ]
    },
    {
      "cell_type": "code",
      "metadata": {
        "id": "yBhJrQ5hZh35"
      },
      "source": [
        "#패션소품에 각각 이름 붙여주기\n",
        "\n",
        "label = ['Tshirst', 'trouser', 'pullover', 'dress', 'coat', 'sandal', 'shirt', 'sneaker', 'bag',' ankle boot']"
      ],
      "execution_count": null,
      "outputs": []
    },
    {
      "cell_type": "code",
      "metadata": {
        "colab": {
          "base_uri": "https://localhost:8080/",
          "height": 1000
        },
        "id": "zXHKl4Zmv9Qr",
        "outputId": "f462be97-d932-428f-f6d3-025fac4b733f"
      },
      "source": [
        "my_sample = np.random.randint(60000)\n",
        "plt.imshow(X_train[my_sample], cmap='gray')\n",
        "plt.show()\n",
        "print(Y_train[my_sample])\n",
        "print(X_train[my_sample])\n",
        "\n",
        "#28x28개의 픽셀인데 값이 있는 데이터만 밝기로 표현한 것"
      ],
      "execution_count": null,
      "outputs": [
        {
          "output_type": "display_data",
          "data": {
            "image/png": "[encoded data removed]",
            "text/plain": [
              "<Figure size 432x288 with 1 Axes>"
            ]
          },
          "metadata": {
            "tags": [],
            "needs_background": "light"
          }
        },
        {
          "output_type": "stream",
          "text": [
            "1\n",
            "[[  0   0   0   0   0   0   0   0   0  43 168 125 131 122 123 161 137 140\n",
            "  135 183  73   0   0   0   0   0   0   0]\n",
            " [  0   0   0   0   0   0   0   0   0 167 255 255 255 255 226 255 255 252\n",
            "  251 255 122   0   0   0   0   0   0   0]\n",
            " [  0   0   0   0   0   0   0   0   0 212 236 212 219 232 238 222 219 223\n",
            "  216 230 148   0   0   0   0   0   0   0]\n",
            " [  0   0   0   0   0   0   0   0   0 255 232 227 226 229 214 224 228 227\n",
            "  221 243 153   0   0   0   0   0   0   0]\n",
            " [  0   0   0   0   0   0   0   0  52 255 219 232 230 231 225 227 224 224\n",
            "  223 232 198   0   0   0   0   0   0   0]\n",
            " [  0   0   0   0   0   0   0   0 128 255 215 229 236 236 228 228 228 224\n",
            "  223 225 206   0   0   0   0   0   0   0]\n",
            " [  0   0   0   0   0   0   0   0 173 243 213 225 229 237 255 243 230 224\n",
            "  222 223 209   0   0   0   0   0   0   0]\n",
            " [  0   0   0   0   0   0   0   0 198 234 215 226 224 243 136 255 238 226\n",
            "  221 223 203   0   0   0   0   0   0   0]\n",
            " [  0   0   0   0   0   0   0   0 223 227 219 226 231 255   0 229 255 225\n",
            "  217 228 167   0   0   0   0   0   0   0]\n",
            " [  0   0   0   0   0   0   0   0 225 226 219 217 253 206   0 179 255 221\n",
            "  214 245 133   0   0   0   0   0   0   0]\n",
            " [  0   0   0   0   0   0   0   0 225 225 218 217 255  86   0  99 255 224\n",
            "  215 253 101   0   0   0   0   0   0   0]\n",
            " [  0   0   0   0   0   0   0   0 216 226 222 230 255   0   0  27 255 223\n",
            "  212 255  63   0   0   0   0   0   0   0]\n",
            " [  0   0   0   0   0   0   0   0 189 237 213 255 181   0   0   0 255 224\n",
            "  214 255   8   0   0   0   0   0   0   0]\n",
            " [  0   0   0   0   0   0   0   0 148 251 213 255 104   0   0   0 238 226\n",
            "  215 242   0   0   0   0   0   0   0   0]\n",
            " [  0   0   0   0   0   0   0   0 124 255 219 255  98   0   0   0 201 235\n",
            "  213 243   0   0   0   0   0   0   0   0]\n",
            " [  0   0   0   0   0   0   0   0 148 255 221 241  86   0   4   0 162 240\n",
            "  215 237   0   0   0   0   0   0   0   0]\n",
            " [  0   0   0   0   0   0   0   0  43 255 227 241  84   0   4   0  56 238\n",
            "  221 240   0   0   0   0   0   0   0   0]\n",
            " [  0   0   0   0   0   0   0   0   0 253 229 239 169   0   1   0   8 233\n",
            "  220 255  24   0   0   0   0   0   0   0]\n",
            " [  0   0   0   0   0   0   0   0   0 192 240 232 238   0   0   0  14 233\n",
            "  224 255  54   0   0   0   0   0   0   0]\n",
            " [  0   0   0   0   0   0   0   0   0 137 246 226 234  34   0   0  47 247\n",
            "  223 255  55   0   0   0   0   0   0   0]\n",
            " [  0   0   0   0   0   0   0   0   0  69 247 226 240  50   0   0  41 246\n",
            "  227 255  18   0   0   0   0   0   0   0]\n",
            " [  0   0   0   0   0   0   0   0   0   6 235 229 243  70   0   0  25 240\n",
            "  234 255   0   0   0   0   0   0   0   0]\n",
            " [  0   0   0   0   0   0   0   0   0   0 232 237 245  93   0   0  44 247\n",
            "  234 246   0   0   0   0   0   0   0   0]\n",
            " [  0   0   0   0   0   0   0   0   0   0 175 245 242 107   0   0  31 241\n",
            "  234 249   0   0   0   0   0   0   0   0]\n",
            " [  0   0   0   0   0   0   0   0   1   0 139 246 241 122   0   0  20 235\n",
            "  237 223   0   0   0   0   0   0   0   0]\n",
            " [  0   0   0   0   0   0   0   0   3   0  78 242 240 154   0   0  20 231\n",
            "  236 186   0   0   0   0   0   0   0   0]\n",
            " [  0   0   0   0   0   0   0   0   3   0  28 250 254 168   0   0   0 230\n",
            "  255 206   0   0   0   0   0   0   0   0]\n",
            " [  0   0   0   0   0   0   0   0   3   0   0 160 147   0   0   0   0  85\n",
            "  107  13   0   0   0   0   0   0   0   0]]\n"
          ],
          "name": "stdout"
        }
      ]
    },
    {
      "cell_type": "code",
      "metadata": {
        "id": "-pKlhqe-we2l"
      },
      "source": [
        "#원본데이터와 달리쓰기위해 소문자로 바꾼다  <대문자 = 이미지, 소문자 = 딥러닝에 사용>\n",
        "#라벨을 원핫인코딩으로 바꿔주는 것이 to_categorical\n",
        "y_train = np_utils.to_categorical(Y_train)\n",
        "y_test = np_utils.to_categorical(Y_test)"
      ],
      "execution_count": null,
      "outputs": []
    },
    {
      "cell_type": "code",
      "metadata": {
        "colab": {
          "base_uri": "https://localhost:8080/"
        },
        "id": "EF3ILWdpyxY0",
        "outputId": "24be88a4-0cfa-4585-8274-8821c2f7bae9"
      },
      "source": [
        "#원핫인코딩 확인하기, 모델에 사용하기 위해서 픽셀값들을 원핫인코딩으로 바꿈\n",
        "\n",
        "print(Y_train[11])\n",
        "print(y_train[11])"
      ],
      "execution_count": null,
      "outputs": [
        {
          "output_type": "stream",
          "text": [
            "9\n",
            "[0. 0. 0. 0. 0. 0. 0. 0. 0. 1.]\n"
          ],
          "name": "stdout"
        }
      ]
    },
    {
      "cell_type": "code",
      "metadata": {
        "colab": {
          "base_uri": "https://localhost:8080/"
        },
        "id": "v9Ku1OGay5_w",
        "outputId": "0543b312-b48b-4f87-890c-2be9c61f2f90"
      },
      "source": [
        "#reshape(-1, 28 * 28)  = 이미지데이터는 기존 데이터보다 차원이 커서 dense에 못 넣기 때문에 차원이 1차원이여야 해서 해주는 것\n",
        "\n",
        "x_train = X_train.reshape(-1, 28 * 28)  # 28 * 28= 784\n",
        "x_test = X_test.reshape(-1, 28 * 28)\n",
        "x_train = x_train / 255   #스케일링 작업 흑백 이미지 데이터는 픽셀 하나당 0-255까지의 숫자값을 가지므로 이를 255로 나누면 0-1 사이로 normalize된다(minmaxscaler 와 동일)\n",
        "x_test = x_test / 255\n",
        "print(x_train.shape)"
      ],
      "execution_count": null,
      "outputs": [
        {
          "output_type": "stream",
          "text": [
            "(60000, 784)\n"
          ],
          "name": "stdout"
        }
      ]
    },
    {
      "cell_type": "code",
      "metadata": {
        "id": "E0lubscY0CPC"
      },
      "source": [
        "# 모델 레이어 설정\n",
        "model = Sequential()\n",
        "model.add(Dense(256, input_dim=784,\n",
        "                activation='relu'))\n",
        "model.add(Dense(128, activation='relu'))\n",
        "# model.add(Dense(512, activation='relu'))\n",
        "model.add(Dense(10, activation='softmax'))  #숫자가 0~9라서 타겟수가 10개라서 10"
      ],
      "execution_count": null,
      "outputs": []
    },
    {
      "cell_type": "code",
      "metadata": {
        "colab": {
          "base_uri": "https://localhost:8080/"
        },
        "id": "Rx6UovJh288J",
        "outputId": "abd303a9-5d56-4e0b-f5bb-b576e819c549"
      },
      "source": [
        "# 컴파일설정\n",
        "\n",
        "opt = Adam(lr=0.01)\n",
        "model.compile(opt, loss='categorical_crossentropy',\n",
        "              metrics=['accuracy'])\n",
        "print(model.summary())"
      ],
      "execution_count": null,
      "outputs": [
        {
          "output_type": "stream",
          "text": [
            "Model: \"sequential_1\"\n",
            "_________________________________________________________________\n",
            "Layer (type)                 Output Shape              Param #   \n",
            "=================================================================\n",
            "dense_3 (Dense)              (None, 256)               200960    \n",
            "_________________________________________________________________\n",
            "dense_4 (Dense)              (None, 128)               32896     \n",
            "_________________________________________________________________\n",
            "dense_5 (Dense)              (None, 10)                1290      \n",
            "=================================================================\n",
            "Total params: 235,146\n",
            "Trainable params: 235,146\n",
            "Non-trainable params: 0\n",
            "_________________________________________________________________\n",
            "None\n"
          ],
          "name": "stdout"
        },
        {
          "output_type": "stream",
          "text": [
            "/usr/local/lib/python3.7/dist-packages/tensorflow/python/keras/optimizer_v2/optimizer_v2.py:375: UserWarning: The `lr` argument is deprecated, use `learning_rate` instead.\n",
            "  \"The `lr` argument is deprecated, use `learning_rate` instead.\")\n"
          ],
          "name": "stderr"
        }
      ]
    },
    {
      "cell_type": "code",
      "metadata": {
        "colab": {
          "base_uri": "https://localhost:8080/"
        },
        "id": "fjTCAKCV3GYr",
        "outputId": "5dc7981b-c1dd-4184-eff8-b3c30182886e"
      },
      "source": [
        "#모델 학습하기\n",
        "fit_hist = model.fit(x_train, y_train,batch_size=500, epochs=50, validation_split=0.2, verbose=1)"
      ],
      "execution_count": null,
      "outputs": [
        {
          "output_type": "stream",
          "text": [
            "Epoch 1/50\n",
            "96/96 [==============================] - 1s 5ms/step - loss: 0.7726 - accuracy: 0.7432 - val_loss: 0.4598 - val_accuracy: 0.8278\n",
            "Epoch 2/50\n",
            "96/96 [==============================] - 0s 3ms/step - loss: 0.4046 - accuracy: 0.8545 - val_loss: 0.3997 - val_accuracy: 0.8581\n",
            "Epoch 3/50\n",
            "96/96 [==============================] - 0s 3ms/step - loss: 0.3581 - accuracy: 0.8697 - val_loss: 0.3903 - val_accuracy: 0.8589\n",
            "Epoch 4/50\n",
            "96/96 [==============================] - 0s 4ms/step - loss: 0.3381 - accuracy: 0.8760 - val_loss: 0.3691 - val_accuracy: 0.8657\n",
            "Epoch 5/50\n",
            "96/96 [==============================] - 0s 3ms/step - loss: 0.3157 - accuracy: 0.8838 - val_loss: 0.3691 - val_accuracy: 0.8708\n",
            "Epoch 6/50\n",
            "96/96 [==============================] - 0s 4ms/step - loss: 0.2994 - accuracy: 0.8887 - val_loss: 0.3380 - val_accuracy: 0.8779\n",
            "Epoch 7/50\n",
            "96/96 [==============================] - 0s 3ms/step - loss: 0.2867 - accuracy: 0.8946 - val_loss: 0.3399 - val_accuracy: 0.8758\n",
            "Epoch 8/50\n",
            "96/96 [==============================] - 0s 3ms/step - loss: 0.2764 - accuracy: 0.8982 - val_loss: 0.3714 - val_accuracy: 0.8700\n",
            "Epoch 9/50\n",
            "96/96 [==============================] - 0s 4ms/step - loss: 0.2768 - accuracy: 0.8973 - val_loss: 0.3336 - val_accuracy: 0.8810\n",
            "Epoch 10/50\n",
            "96/96 [==============================] - 0s 3ms/step - loss: 0.2633 - accuracy: 0.9020 - val_loss: 0.3405 - val_accuracy: 0.8820\n",
            "Epoch 11/50\n",
            "96/96 [==============================] - 0s 4ms/step - loss: 0.2566 - accuracy: 0.9036 - val_loss: 0.3330 - val_accuracy: 0.8842\n",
            "Epoch 12/50\n",
            "96/96 [==============================] - 0s 3ms/step - loss: 0.2529 - accuracy: 0.9047 - val_loss: 0.3378 - val_accuracy: 0.8827\n",
            "Epoch 13/50\n",
            "96/96 [==============================] - 0s 3ms/step - loss: 0.2525 - accuracy: 0.9053 - val_loss: 0.3542 - val_accuracy: 0.8792\n",
            "Epoch 14/50\n",
            "96/96 [==============================] - 0s 3ms/step - loss: 0.2420 - accuracy: 0.9089 - val_loss: 0.3509 - val_accuracy: 0.8790\n",
            "Epoch 15/50\n",
            "96/96 [==============================] - 0s 4ms/step - loss: 0.2397 - accuracy: 0.9090 - val_loss: 0.3648 - val_accuracy: 0.8770\n",
            "Epoch 16/50\n",
            "96/96 [==============================] - 0s 3ms/step - loss: 0.2337 - accuracy: 0.9131 - val_loss: 0.3393 - val_accuracy: 0.8839\n",
            "Epoch 17/50\n",
            "96/96 [==============================] - 0s 4ms/step - loss: 0.2281 - accuracy: 0.9133 - val_loss: 0.3592 - val_accuracy: 0.8815\n",
            "Epoch 18/50\n",
            "96/96 [==============================] - 0s 4ms/step - loss: 0.2178 - accuracy: 0.9164 - val_loss: 0.3381 - val_accuracy: 0.8898\n",
            "Epoch 19/50\n",
            "96/96 [==============================] - 0s 3ms/step - loss: 0.2126 - accuracy: 0.9199 - val_loss: 0.3453 - val_accuracy: 0.8866\n",
            "Epoch 20/50\n",
            "96/96 [==============================] - 0s 3ms/step - loss: 0.2097 - accuracy: 0.9213 - val_loss: 0.3450 - val_accuracy: 0.8863\n",
            "Epoch 21/50\n",
            "96/96 [==============================] - 0s 3ms/step - loss: 0.2202 - accuracy: 0.9165 - val_loss: 0.3656 - val_accuracy: 0.8813\n",
            "Epoch 22/50\n",
            "96/96 [==============================] - 0s 4ms/step - loss: 0.2102 - accuracy: 0.9208 - val_loss: 0.3365 - val_accuracy: 0.8904\n",
            "Epoch 23/50\n",
            "96/96 [==============================] - 0s 4ms/step - loss: 0.1951 - accuracy: 0.9276 - val_loss: 0.3568 - val_accuracy: 0.8892\n",
            "Epoch 24/50\n",
            "96/96 [==============================] - 0s 3ms/step - loss: 0.1933 - accuracy: 0.9268 - val_loss: 0.3561 - val_accuracy: 0.8901\n",
            "Epoch 25/50\n",
            "96/96 [==============================] - 0s 4ms/step - loss: 0.1963 - accuracy: 0.9272 - val_loss: 0.3600 - val_accuracy: 0.8901\n",
            "Epoch 26/50\n",
            "96/96 [==============================] - 0s 3ms/step - loss: 0.1939 - accuracy: 0.9280 - val_loss: 0.3593 - val_accuracy: 0.8849\n",
            "Epoch 27/50\n",
            "96/96 [==============================] - 0s 3ms/step - loss: 0.1986 - accuracy: 0.9252 - val_loss: 0.3756 - val_accuracy: 0.8793\n",
            "Epoch 28/50\n",
            "96/96 [==============================] - 0s 3ms/step - loss: 0.1992 - accuracy: 0.9257 - val_loss: 0.3581 - val_accuracy: 0.8857\n",
            "Epoch 29/50\n",
            "96/96 [==============================] - 0s 4ms/step - loss: 0.1901 - accuracy: 0.9280 - val_loss: 0.3813 - val_accuracy: 0.8852\n",
            "Epoch 30/50\n",
            "96/96 [==============================] - 0s 3ms/step - loss: 0.1839 - accuracy: 0.9308 - val_loss: 0.3948 - val_accuracy: 0.8825\n",
            "Epoch 31/50\n",
            "96/96 [==============================] - 0s 4ms/step - loss: 0.1784 - accuracy: 0.9318 - val_loss: 0.3876 - val_accuracy: 0.8886\n",
            "Epoch 32/50\n",
            "96/96 [==============================] - 0s 3ms/step - loss: 0.1725 - accuracy: 0.9353 - val_loss: 0.4039 - val_accuracy: 0.8848\n",
            "Epoch 33/50\n",
            "96/96 [==============================] - 0s 4ms/step - loss: 0.1780 - accuracy: 0.9341 - val_loss: 0.3970 - val_accuracy: 0.8859\n",
            "Epoch 34/50\n",
            "96/96 [==============================] - 0s 3ms/step - loss: 0.1774 - accuracy: 0.9329 - val_loss: 0.4053 - val_accuracy: 0.8851\n",
            "Epoch 35/50\n",
            "96/96 [==============================] - 0s 4ms/step - loss: 0.1774 - accuracy: 0.9320 - val_loss: 0.4206 - val_accuracy: 0.8841\n",
            "Epoch 36/50\n",
            "96/96 [==============================] - 0s 3ms/step - loss: 0.1749 - accuracy: 0.9342 - val_loss: 0.4308 - val_accuracy: 0.8791\n",
            "Epoch 37/50\n",
            "96/96 [==============================] - 0s 3ms/step - loss: 0.1696 - accuracy: 0.9359 - val_loss: 0.4283 - val_accuracy: 0.8861\n",
            "Epoch 38/50\n",
            "96/96 [==============================] - 0s 4ms/step - loss: 0.1642 - accuracy: 0.9378 - val_loss: 0.4201 - val_accuracy: 0.8889\n",
            "Epoch 39/50\n",
            "96/96 [==============================] - 0s 4ms/step - loss: 0.1608 - accuracy: 0.9387 - val_loss: 0.4412 - val_accuracy: 0.8856\n",
            "Epoch 40/50\n",
            "96/96 [==============================] - 0s 4ms/step - loss: 0.1671 - accuracy: 0.9374 - val_loss: 0.4343 - val_accuracy: 0.8880\n",
            "Epoch 41/50\n",
            "96/96 [==============================] - 0s 3ms/step - loss: 0.1615 - accuracy: 0.9385 - val_loss: 0.4213 - val_accuracy: 0.8876\n",
            "Epoch 42/50\n",
            "96/96 [==============================] - 0s 4ms/step - loss: 0.1509 - accuracy: 0.9429 - val_loss: 0.4598 - val_accuracy: 0.8827\n",
            "Epoch 43/50\n",
            "96/96 [==============================] - 0s 4ms/step - loss: 0.1556 - accuracy: 0.9414 - val_loss: 0.4817 - val_accuracy: 0.8772\n",
            "Epoch 44/50\n",
            "96/96 [==============================] - 0s 4ms/step - loss: 0.1610 - accuracy: 0.9393 - val_loss: 0.4629 - val_accuracy: 0.8819\n",
            "Epoch 45/50\n",
            "96/96 [==============================] - 0s 3ms/step - loss: 0.1553 - accuracy: 0.9417 - val_loss: 0.4456 - val_accuracy: 0.8864\n",
            "Epoch 46/50\n",
            "96/96 [==============================] - 0s 4ms/step - loss: 0.1580 - accuracy: 0.9407 - val_loss: 0.4614 - val_accuracy: 0.8839\n",
            "Epoch 47/50\n",
            "96/96 [==============================] - 0s 4ms/step - loss: 0.1505 - accuracy: 0.9425 - val_loss: 0.4563 - val_accuracy: 0.8816\n",
            "Epoch 48/50\n",
            "96/96 [==============================] - 0s 3ms/step - loss: 0.1519 - accuracy: 0.9436 - val_loss: 0.4439 - val_accuracy: 0.8793\n",
            "Epoch 49/50\n",
            "96/96 [==============================] - 0s 3ms/step - loss: 0.1543 - accuracy: 0.9422 - val_loss: 0.4640 - val_accuracy: 0.8842\n",
            "Epoch 50/50\n",
            "96/96 [==============================] - 0s 4ms/step - loss: 0.1400 - accuracy: 0.9477 - val_loss: 0.4767 - val_accuracy: 0.8780\n"
          ],
          "name": "stdout"
        }
      ]
    },
    {
      "cell_type": "code",
      "metadata": {
        "colab": {
          "base_uri": "https://localhost:8080/"
        },
        "id": "LzzvFQlj3IUj",
        "outputId": "28f3fe9d-0c5a-4ee2-e942-dd77e8f26bd4"
      },
      "source": [
        "score = model.evaluate(x_test, y_test, verbose=0)\n",
        "print('Final test set accuracy :', score[1])"
      ],
      "execution_count": null,
      "outputs": [
        {
          "output_type": "stream",
          "text": [
            "Final test set accuracy : 0.8766999840736389\n"
          ],
          "name": "stdout"
        }
      ]
    },
    {
      "cell_type": "code",
      "metadata": {
        "colab": {
          "base_uri": "https://localhost:8080/",
          "height": 283
        },
        "id": "xCXzH-ymBUix",
        "outputId": "b3be98f5-b7b6-4d7d-c87a-1821d179ba6f"
      },
      "source": [
        "#plt으로 학습률 확인하기\n",
        "\n",
        "plt.plot(fit_hist.history['accuracy'])\n",
        "plt.plot(fit_hist.history['val_accuracy'])"
      ],
      "execution_count": null,
      "outputs": [
        {
          "output_type": "execute_result",
          "data": {
            "text/plain": [
              "[<matplotlib.lines.Line2D at 0x7f4d9c2bb310>]"
            ]
          },
          "metadata": {
            "tags": []
          },
          "execution_count": 19
        },
        {
          "output_type": "display_data",
          "data": {
            "image/png": "[encoded data removed]",
            "text/plain": [
              "<Figure size 432x288 with 1 Axes>"
            ]
          },
          "metadata": {
            "tags": [],
            "needs_background": "light"
          }
        }
      ]
    },
    {
      "cell_type": "code",
      "metadata": {
        "colab": {
          "base_uri": "https://localhost:8080/",
          "height": 336
        },
        "id": "L7tthMxvC9b0",
        "outputId": "599143a2-5783-4bb6-9dac-fa76fb3ea0c1"
      },
      "source": [
        "#정확률을 보기위해 임의의 그림을 주었을 때 숫자가 정확히 나오는 지 확인하기\n",
        "\n",
        "my_sample = np.random.randint(10000)\n",
        "plt.imshow(X_test[my_sample])\n",
        "print(label[Y_test[my_sample]])\n",
        "pred = model.predict(x_test[my_sample].reshape(-1, 784))\n",
        "print(pred)\n",
        "print(label[np.argmax(pred)])"
      ],
      "execution_count": null,
      "outputs": [
        {
          "output_type": "stream",
          "text": [
            "coat\n",
            "[[3.0929531e-04 3.6971207e-07 4.2859923e-02 7.2211954e-03 8.8026005e-01\n",
            "  8.3586320e-09 6.9332331e-02 7.7113754e-08 1.6658003e-05 3.4629185e-08]]\n",
            "coat\n"
          ],
          "name": "stdout"
        },
        {
          "output_type": "display_data",
          "data": {
            "image/png": "[encoded data removed]",
            "text/plain": [
              "<Figure size 432x288 with 1 Axes>"
            ]
          },
          "metadata": {
            "tags": [],
            "needs_background": "light"
          }
        }
      ]
    },
    {
      "cell_type": "markdown",
      "metadata": {
        "id": "MaPSFEtScSDy"
      },
      "source": [
        "[[3.0929531e-04 3.6971207e-07 4.2859923e-02 7.2211954e-03 8.8026005e-01  \n",
        "  8.3586320e-09 6.9332331e-02 7.7113754e-08 1.6658003e-05 3.4629185e-08]]\n",
        "\n",
        "  위 fashion 결과에서 맨 뒤에 -nn숫자를 보고 nn이 제일 작은 숫자가 결과로 나온다  \n",
        "  argmax는 제일 큰 숫자의 인덱스를 리턴해준 것으로 라벨인덱싱을 해서 글이 나오게된다"
      ]
    },
    {
      "cell_type": "code",
      "metadata": {
        "colab": {
          "base_uri": "https://localhost:8080/"
        },
        "id": "6BTE46hFbsgi",
        "outputId": "7df132a2-538d-437d-afd5-7d6e92ed68db"
      },
      "source": [
        "#argmax 란 제일 큰 값의 인덱스 값을 리턴해준다\n",
        "\n",
        "a = [1, 4, 8, 3, 7, 2]\n",
        "np.argmax(a)"
      ],
      "execution_count": null,
      "outputs": [
        {
          "output_type": "execute_result",
          "data": {
            "text/plain": [
              "2"
            ]
          },
          "metadata": {
            "tags": []
          },
          "execution_count": 52
        }
      ]
    }
  ]
}