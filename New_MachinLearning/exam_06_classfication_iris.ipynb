{
  "nbformat": 4,
  "nbformat_minor": 0,
  "metadata": {
    "colab": {
      "name": "exam_06_classfication_iris.ipynb",
      "provenance": [],
      "authorship_tag": "ABX9TyN54ZLo7Xg15/VKyYs8vqbS",
      "include_colab_link": true
    },
    "kernelspec": {
      "name": "python3",
      "display_name": "Python 3"
    },
    "language_info": {
      "name": "python"
    },
    "accelerator": "GPU"
  },
  "cells": [
    {
      "cell_type": "markdown",
      "metadata": {
        "id": "view-in-github",
        "colab_type": "text"
      },
      "source": [
        "<a href=\"https://colab.research.google.com/github/sera0911/asia_ai_study/blob/main/New_MachinLearning/exam_06_classfication_iris.ipynb\" target=\"_parent\"><img src=\"https://colab.research.google.com/assets/colab-badge.svg\" alt=\"Open In Colab\"/></a>"
      ]
    },
    {
      "cell_type": "markdown",
      "metadata": {
        "id": "r7ekh831W7l_"
      },
      "source": [
        "## iris 데이터를 사용한 이진분류기\n",
        "\n"
      ]
    },
    {
      "cell_type": "code",
      "metadata": {
        "id": "AMgNissWWsnN"
      },
      "source": [
        "#모듈 불러오기\n",
        "\n",
        "import numpy as np\n",
        "import matplotlib.pyplot as plt\n",
        "from tensorflow.keras.models import Sequential\n",
        "from tensorflow.keras.layers import Dense\n",
        "from tensorflow.keras.optimizers import Adam\n",
        "from sklearn.datasets import load_iris\n",
        "from sklearn.model_selection import train_test_split\n",
        "from sklearn.preprocessing import OneHotEncoder"
      ],
      "execution_count": 57,
      "outputs": []
    },
    {
      "cell_type": "code",
      "metadata": {
        "colab": {
          "base_uri": "https://localhost:8080/"
        },
        "id": "IbG-BXKYX3g8",
        "outputId": "9288b630-e62d-475d-dbcd-e84b99b807f9"
      },
      "source": [
        "iris = load_iris()\n",
        "print(type(iris))\n",
        "print('=============data shape============')\n",
        "print('Data', iris.data.shape)\n",
        "print('Label', iris.target.shape)\n",
        "print('First five data', iris.data[0:5]) \n",
        "print('First five label', iris.target[0:5])  #라벨은 0, 1, 2로 있음 ='setosa' 'versicolor' 'virginica'\n",
        "print('iris dataset leys\\n', iris.keys())"
      ],
      "execution_count": 58,
      "outputs": [
        {
          "output_type": "stream",
          "text": [
            "<class 'sklearn.utils.Bunch'>\n",
            "=============data shape============\n",
            "Data (150, 4)\n",
            "Label (150,)\n",
            "First five data [[5.1 3.5 1.4 0.2]\n",
            " [4.9 3.  1.4 0.2]\n",
            " [4.7 3.2 1.3 0.2]\n",
            " [4.6 3.1 1.5 0.2]\n",
            " [5.  3.6 1.4 0.2]]\n",
            "First five label [0 0 0 0 0]\n",
            "iris dataset leys\n",
            " dict_keys(['data', 'target', 'target_names', 'DESCR', 'feature_names', 'filename'])\n"
          ],
          "name": "stdout"
        }
      ]
    },
    {
      "cell_type": "code",
      "metadata": {
        "colab": {
          "base_uri": "https://localhost:8080/"
        },
        "id": "M_W-irusYAeJ",
        "outputId": "06a877f2-3576-47f3-fef8-7bcd5e3e965f"
      },
      "source": [
        "print(iris.target_names)\n",
        "#['setosa' 'versicolor' 'virginica'] = 품종이름\n",
        "\n",
        "print(iris.feature_names)\n",
        "#['sepal length (cm)', 'sepal width (cm)', 'petal length (cm)', 'petal width (cm)'] =컬럼종류"
      ],
      "execution_count": 59,
      "outputs": [
        {
          "output_type": "stream",
          "text": [
            "['setosa' 'versicolor' 'virginica']\n",
            "['sepal length (cm)', 'sepal width (cm)', 'petal length (cm)', 'petal width (cm)']\n"
          ],
          "name": "stdout"
        }
      ]
    },
    {
      "cell_type": "code",
      "metadata": {
        "colab": {
          "base_uri": "https://localhost:8080/"
        },
        "id": "mNLtafqpZXPK",
        "outputId": "cdfbd09a-0590-42fb-8fd7-7426f655483b"
      },
      "source": [
        "#타켓, 피쳐 분류\n",
        "x = iris.data\n",
        "y = iris.target.reshape(-1, 1)  #설정된 행열에서 열을 1로 고정하고, 그외의 데이터를 아래행으로 나열 why? onehot인코딩을 위하여(데이터가 작아 데이터프레임을 만들지 않고 사용하기위해)\n",
        "print(y[0:5])"
      ],
      "execution_count": 60,
      "outputs": [
        {
          "output_type": "stream",
          "text": [
            "[[0]\n",
            " [0]\n",
            " [0]\n",
            " [0]\n",
            " [0]]\n"
          ],
          "name": "stdout"
        }
      ]
    },
    {
      "cell_type": "code",
      "metadata": {
        "colab": {
          "base_uri": "https://localhost:8080/"
        },
        "id": "T35-7m8kadpZ",
        "outputId": "6f5c3a8b-183c-4032-82f2-ae884fc23292"
      },
      "source": [
        "#y의 값이 범주형 데이터인데, 숫자가 크고 낮음에 판별을 두지 않기 위해 OneHotEncoder를 사용한다\n",
        "\n",
        "encoder = OneHotEncoder(sparse=False)  #sparse=False > 희소행렬을 나타내지 않고 원본대로 출력한다\n",
        "encoded_y = encoder.fit_transform(y)\n",
        "print(encoded_y.shape)\n",
        "print(encoded_y[:5])"
      ],
      "execution_count": 61,
      "outputs": [
        {
          "output_type": "stream",
          "text": [
            "(150, 3)\n",
            "[[1. 0. 0.]\n",
            " [1. 0. 0.]\n",
            " [1. 0. 0.]\n",
            " [1. 0. 0.]\n",
            " [1. 0. 0.]]\n"
          ],
          "name": "stdout"
        }
      ]
    },
    {
      "cell_type": "markdown",
      "metadata": {
        "id": "NqNLB6n8nc_s"
      },
      "source": [
        "희소행렬 = 0, 1, 2로 출력이 3개인데 원핫인코더로 1이 어디에 찍히는지 알 수 있다  \n",
        "\n",
        " (0, 0)\t1.0  = 0행 0열이 1 (1, 0 ,0)  \n",
        " (1, 0)\t1.0  = 1행 0열이 1 (1, 0 ,0)  \n",
        " (2, 0)\t1.0  \n",
        " (3, 0)\t1.0  \n",
        " (4, 0)\t1.0 .. 이런식으로 앞()= 좌표를 나타냄"
      ]
    },
    {
      "cell_type": "code",
      "metadata": {
        "colab": {
          "base_uri": "https://localhost:8080/"
        },
        "id": "QmapJePVa87_",
        "outputId": "a959a627-1c34-43dc-d3a5-d7eeecebc40c"
      },
      "source": [
        "#데이터 분류하기\n",
        "\n",
        "X_train, X_test, Y_train, Y_test = train_test_split(x, encoded_y, test_size=0.2)\n",
        "\n",
        "print(X_train.shape, Y_train.shape)\n",
        "print(X_test.shape, Y_test.shape)"
      ],
      "execution_count": 62,
      "outputs": [
        {
          "output_type": "stream",
          "text": [
            "(120, 4) (120, 3)\n",
            "(30, 4) (30, 3)\n"
          ],
          "name": "stdout"
        }
      ]
    },
    {
      "cell_type": "code",
      "metadata": {
        "id": "H8qBknmkgTQH"
      },
      "source": [
        "#모델 생성하기\n",
        "\n",
        "model.add(Dense(256, input_dim=4, activation='relu'))\n",
        "model.add(Dense(128, activation='relu'))\n",
        "model.add(Dense(512, activation='relu'))\n",
        "model.add(Dense(3, activation='softmax'))  #마지막 Dense에서는 0,1,2의 분류기 수많큼 적으면 된다=3, 다중분류기에서는 마지막 레이어에 softmax를 쓴다 (총합1이되게)"
      ],
      "execution_count": 63,
      "outputs": []
    },
    {
      "cell_type": "code",
      "metadata": {
        "colab": {
          "base_uri": "https://localhost:8080/"
        },
        "id": "ewO48zR7hQQZ",
        "outputId": "8c3f93c8-d7e6-44e4-9cee-670be34468b3"
      },
      "source": [
        "#아담에 학습률 지정하기\n",
        "\n",
        "opt = Adam(learning_rate=0.001)  #lr=learningrate(학습률) = 경사하강법으로 기울기가 최적으로 도달하기 위하여 거리 조정\n",
        "model.compile(opt, loss='categorical_crossentropy', metrics=['accuracy'])  #다중분류기에서는 categorayrical_crossentropy\n",
        "print(model.summary())"
      ],
      "execution_count": 64,
      "outputs": [
        {
          "output_type": "stream",
          "text": [
            "Model: \"sequential_4\"\n",
            "_________________________________________________________________\n",
            "Layer (type)                 Output Shape              Param #   \n",
            "=================================================================\n",
            "dense_16 (Dense)             (None, 256)               1280      \n",
            "_________________________________________________________________\n",
            "dense_17 (Dense)             (None, 128)               32896     \n",
            "_________________________________________________________________\n",
            "dense_18 (Dense)             (None, 512)               66048     \n",
            "_________________________________________________________________\n",
            "dense_19 (Dense)             (None, 3)                 1539      \n",
            "=================================================================\n",
            "Total params: 101,763\n",
            "Trainable params: 101,763\n",
            "Non-trainable params: 0\n",
            "_________________________________________________________________\n",
            "None\n"
          ],
          "name": "stdout"
        }
      ]
    },
    {
      "cell_type": "code",
      "metadata": {
        "colab": {
          "base_uri": "https://localhost:8080/"
        },
        "id": "AkI1PZVshpFd",
        "outputId": "56b3cfc8-3f5b-49f1-d0d0-6c72307b5da6"
      },
      "source": [
        "#모델 학습하기\n",
        "fit_hist = model.fit(X_train, Y_train, batch_size=5, epochs=10, verbose=1)"
      ],
      "execution_count": 65,
      "outputs": [
        {
          "output_type": "stream",
          "text": [
            "Epoch 1/10\n",
            "24/24 [==============================] - 1s 3ms/step - loss: 0.8304 - accuracy: 0.5833\n",
            "Epoch 2/10\n",
            "24/24 [==============================] - 0s 3ms/step - loss: 0.3611 - accuracy: 0.8667\n",
            "Epoch 3/10\n",
            "24/24 [==============================] - 0s 3ms/step - loss: 0.3734 - accuracy: 0.8083\n",
            "Epoch 4/10\n",
            "24/24 [==============================] - 0s 3ms/step - loss: 0.2232 - accuracy: 0.9000\n",
            "Epoch 5/10\n",
            "24/24 [==============================] - 0s 3ms/step - loss: 0.1482 - accuracy: 0.9667\n",
            "Epoch 6/10\n",
            "24/24 [==============================] - 0s 3ms/step - loss: 0.1404 - accuracy: 0.9417\n",
            "Epoch 7/10\n",
            "24/24 [==============================] - 0s 4ms/step - loss: 0.1329 - accuracy: 0.9500\n",
            "Epoch 8/10\n",
            "24/24 [==============================] - 0s 4ms/step - loss: 0.1296 - accuracy: 0.9583\n",
            "Epoch 9/10\n",
            "24/24 [==============================] - 0s 3ms/step - loss: 0.1192 - accuracy: 0.9417\n",
            "Epoch 10/10\n",
            "24/24 [==============================] - 0s 3ms/step - loss: 0.0942 - accuracy: 0.9667\n"
          ],
          "name": "stdout"
        }
      ]
    },
    {
      "cell_type": "code",
      "metadata": {
        "colab": {
          "base_uri": "https://localhost:8080/"
        },
        "id": "rj_-Wq4UiaDb",
        "outputId": "bbd303d6-54a2-4908-efed-d75cdb112c6e"
      },
      "source": [
        "#test 예측결과 확인\n",
        "score = model.evaluate(X_test, Y_test, verbose=1)\n",
        "print('Final test set accuracy :', score[1])"
      ],
      "execution_count": 66,
      "outputs": [
        {
          "output_type": "stream",
          "text": [
            "1/1 [==============================] - 0s 149ms/step - loss: 0.0691 - accuracy: 0.9667\n",
            "Final test set accuracy : 0.9666666388511658\n"
          ],
          "name": "stdout"
        }
      ]
    },
    {
      "cell_type": "code",
      "metadata": {
        "colab": {
          "base_uri": "https://localhost:8080/",
          "height": 265
        },
        "id": "-RBpuG4Skdhn",
        "outputId": "751443ab-b370-4270-8dbb-a7671ed0b923"
      },
      "source": [
        "plt.plot(fit_hist.history['accuracy'])\n",
        "plt.show()"
      ],
      "execution_count": 67,
      "outputs": [
        {
          "output_type": "display_data",
          "data": {
            "image/png": "[encoded data removed]",
            "text/plain": [
              "<Figure size 432x288 with 1 Axes>"
            ]
          },
          "metadata": {
            "tags": [],
            "needs_background": "light"
          }
        }
      ]
    },
    {
      "cell_type": "code",
      "metadata": {
        "colab": {
          "base_uri": "https://localhost:8080/"
        },
        "id": "_R2ARJM2keis",
        "outputId": "34b78382-fe6f-4d32-b776-340b43488a9e"
      },
      "source": [
        "labels= iris.target_names\n",
        "my_sample = np.random.randint(30)  #결과확인을 위해 30개의 test중에 하나를 가져와 확인\n",
        "sample = X_test[my_sample]\n",
        "sample = sample.reshape(1, 4)  #안에 들어가있는 4개의 요소를 리스트데이터로 만들기 위해\n",
        "pred = model.predict(sample)\n",
        "print(pred)\n",
        "print(Y_test[my_sample])\n",
        "print('Target :', labels[np.argmax(Y_test[my_sample])])\n",
        "print('Prediction after learning is :', labels[np.argmax(pred)])"
      ],
      "execution_count": 68,
      "outputs": [
        {
          "output_type": "stream",
          "text": [
            "[[9.996948e-01 3.051810e-04 5.250783e-10]]\n",
            "[1. 0. 0.]\n",
            "Target : setosa\n",
            "Prediction after learning is : setosa\n"
          ],
          "name": "stdout"
        }
      ]
    }
  ]
}