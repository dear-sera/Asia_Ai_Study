{
  "nbformat": 4,
  "nbformat_minor": 0,
  "metadata": {
    "colab": {
      "name": "exam_07_classification_mnist.ipynb",
      "provenance": [],
      "authorship_tag": "ABX9TyNcnihn2J6vo49XKc9ET4zN",
      "include_colab_link": true
    },
    "kernelspec": {
      "name": "python3",
      "display_name": "Python 3"
    },
    "language_info": {
      "name": "python"
    }
  },
  "cells": [
    {
      "cell_type": "markdown",
      "metadata": {
        "id": "view-in-github",
        "colab_type": "text"
      },
      "source": [
        "<a href=\"https://colab.research.google.com/github/sera0911/asia_ai_study/blob/main/New_MachinLearning/exam_07_classification_mnist.ipynb\" target=\"_parent\"><img src=\"https://colab.research.google.com/assets/colab-badge.svg\" alt=\"Open In Colab\"/></a>"
      ]
    },
    {
      "cell_type": "markdown",
      "metadata": {
        "id": "Y91uGKMis_JZ"
      },
      "source": [
        "## mnist를 사용해 십진분류기 만들기\n",
        "\n"
      ]
    },
    {
      "cell_type": "code",
      "metadata": {
        "id": "S_zewlVWsxoh"
      },
      "source": [
        "# 모듈 불러오기\n",
        "\n",
        "import numpy as np\n",
        "import matplotlib.pyplot as plt\n",
        "from tensorflow.keras.models import Sequential\n",
        "from tensorflow.keras.layers import Dense\n",
        "from tensorflow.keras.optimizers import Adam\n",
        "from keras.utils import np_utils\n",
        "from tensorflow.keras import datasets"
      ],
      "execution_count": 91,
      "outputs": []
    },
    {
      "cell_type": "code",
      "metadata": {
        "colab": {
          "base_uri": "https://localhost:8080/"
        },
        "id": "Psn2cL7QvSwT",
        "outputId": "61efebfc-f0cb-4523-9c28-a8ebae44afee"
      },
      "source": [
        "(X_train, Y_train), (X_test, Y_test) = datasets.mnist.load_data()\n",
        "print(X_train.shape, Y_train.shape)\n",
        "print(X_test.shape, Y_test.shape)"
      ],
      "execution_count": 92,
      "outputs": [
        {
          "output_type": "stream",
          "text": [
            "(60000, 28, 28) (60000,)\n",
            "(10000, 28, 28) (10000,)\n"
          ],
          "name": "stdout"
        }
      ]
    },
    {
      "cell_type": "code",
      "metadata": {
        "colab": {
          "base_uri": "https://localhost:8080/",
          "height": 1000
        },
        "id": "zXHKl4Zmv9Qr",
        "outputId": "4a0573a2-831a-41d1-aafe-a7c9f44d9a21"
      },
      "source": [
        "my_sample = np.random.randint(60000)\n",
        "plt.imshow(X_train[my_sample], cmap='gray')\n",
        "plt.show()\n",
        "print(Y_train[my_sample])\n",
        "print(X_train[my_sample])\n",
        "\n",
        "#28x28개의 픽셀인데 값이 있는 데이터만 밝기로 표현한 것"
      ],
      "execution_count": 93,
      "outputs": [
        {
          "output_type": "display_data",
          "data": {
            "image/png": "[encoded data removed]",
            "text/plain": [
              "<Figure size 432x288 with 1 Axes>"
            ]
          },
          "metadata": {
            "tags": [],
            "needs_background": "light"
          }
        },
        {
          "output_type": "stream",
          "text": [
            "8\n",
            "[[  0   0   0   0   0   0   0   0   0   0   0   0   0   0   0   0   0   0\n",
            "    0   0   0   0   0   0   0   0   0   0]\n",
            " [  0   0   0   0   0   0   0   0   0   0   0   0   0   0   0   0   0   0\n",
            "    0   0   0   0   0   0   0   0   0   0]\n",
            " [  0   0   0   0   0   0   0   0   0   0   0   0   0   0   0   0   0   0\n",
            "    0   0   0   0   0   0   0   0   0   0]\n",
            " [  0   0   0   0   0   0   0   0   0   0   0   0   0   0   0   0   0   0\n",
            "    0   0   0   0   0   0   0   0   0   0]\n",
            " [  0   0   0   0   0   0   0   0   0   0   0   0   0   0   0   0  64 128\n",
            "  128 191 255   0   0   0   0   0   0   0]\n",
            " [  0   0   0   0   0   0   0   0   0   0   0   0   0   0  64 128 255 255\n",
            "  255 255 255 255  64   0   0   0   0   0]\n",
            " [  0   0   0   0   0   0   0   0   0   0   0   0   0 191 255 255 255 255\n",
            "  191 128 128 255 128   0   0   0   0   0]\n",
            " [  0   0   0   0   0   0   0   0   0   0   0   0 128 255 255 191 128   0\n",
            "    0   0   0 128  64   0   0  64   0   0]\n",
            " [  0   0   0   0   0   0   0   0   0   0   0   0 255 255 255   0   0   0\n",
            "    0   0   0   0  64 128 255 128   0   0]\n",
            " [  0   0   0   0   0   0   0   0   0   0   0   0 255 255 255   0   0   0\n",
            "    0   0  64 191 255 255 128   0   0   0]\n",
            " [  0   0   0   0   0   0   0   0   0   0   0   0 128 255 255 191   0   0\n",
            "    0 128 255 255 191   0   0   0   0   0]\n",
            " [  0   0   0   0   0   0   0   0   0   0   0   0   0 191 255 255  64 128\n",
            "  255 255 255 128   0   0   0   0   0   0]\n",
            " [  0   0   0   0   0   0   0   0   0   0   0   0   0 128 255 255 255 255\n",
            "  255 191   0   0   0   0   0   0   0   0]\n",
            " [  0   0   0   0   0   0   0   0   0   0   0   0   0   0 255 255 255 255\n",
            "  128   0   0   0   0   0   0   0   0   0]\n",
            " [  0   0   0   0   0   0   0   0   0   0   0   0   0 191 255 255 255 128\n",
            "    0   0   0   0   0   0   0   0   0   0]\n",
            " [  0   0   0   0   0   0   0   0   0   0   0   0 255 255 255 255 255   0\n",
            "    0   0   0   0   0   0   0   0   0   0]\n",
            " [  0   0   0   0   0   0   0   0   0   0 191 255 255 255 255 255 128   0\n",
            "    0   0   0   0   0   0   0   0   0   0]\n",
            " [  0   0   0   0   0   0   0   0 128 255 255 255 255 191 255 255  64   0\n",
            "    0   0   0   0   0   0   0   0   0   0]\n",
            " [  0   0   0   0   0   0   0   0 128 255 255 255   0 191 255 255  64   0\n",
            "    0   0   0   0   0   0   0   0   0   0]\n",
            " [  0   0   0   0   0   0   0  64 255 255 191   0 191 255 255  64   0   0\n",
            "    0   0   0   0   0   0   0   0   0   0]\n",
            " [  0   0   0   0   0   0  64 191 255 128 128 191 255 255 128   0   0   0\n",
            "    0   0   0   0   0   0   0   0   0   0]\n",
            " [  0   0   0   0   0   0 191 255 255 191 255 255 255  64   0   0   0   0\n",
            "    0   0   0   0   0   0   0   0   0   0]\n",
            " [  0   0   0   0   0   0 191 255 255 255 255 255   0   0   0   0   0   0\n",
            "    0   0   0   0   0   0   0   0   0   0]\n",
            " [  0   0   0   0   0   0  64 255 255 255 191  64   0   0   0   0   0   0\n",
            "    0   0   0   0   0   0   0   0   0   0]\n",
            " [  0   0   0   0   0   0   0   0   0   0   0   0   0   0   0   0   0   0\n",
            "    0   0   0   0   0   0   0   0   0   0]\n",
            " [  0   0   0   0   0   0   0   0   0   0   0   0   0   0   0   0   0   0\n",
            "    0   0   0   0   0   0   0   0   0   0]\n",
            " [  0   0   0   0   0   0   0   0   0   0   0   0   0   0   0   0   0   0\n",
            "    0   0   0   0   0   0   0   0   0   0]\n",
            " [  0   0   0   0   0   0   0   0   0   0   0   0   0   0   0   0   0   0\n",
            "    0   0   0   0   0   0   0   0   0   0]]\n"
          ],
          "name": "stdout"
        }
      ]
    },
    {
      "cell_type": "code",
      "metadata": {
        "id": "-pKlhqe-we2l"
      },
      "source": [
        "#원본데이터와 달리쓰기위해 소문자로 바꾼다  <대문자 = 이미지, 소문자 = 딥러닝에 사용>\n",
        "#라벨을 원핫인코딩으로 바꿔주는 것이 to_categorical\n",
        "y_train = np_utils.to_categorical(Y_train)\n",
        "y_test = np_utils.to_categorical(Y_test)"
      ],
      "execution_count": 94,
      "outputs": []
    },
    {
      "cell_type": "code",
      "metadata": {
        "colab": {
          "base_uri": "https://localhost:8080/"
        },
        "id": "EF3ILWdpyxY0",
        "outputId": "89337414-d744-422b-9267-39b383059557"
      },
      "source": [
        "#원핫인코딩 확인하기, 모델에 사용하기 위해서 픽셀값들을 원핫인코딩으로 바꿈\n",
        "\n",
        "print(Y_train[11])\n",
        "print(y_train[11])"
      ],
      "execution_count": 95,
      "outputs": [
        {
          "output_type": "stream",
          "text": [
            "5\n",
            "[0. 0. 0. 0. 0. 1. 0. 0. 0. 0.]\n"
          ],
          "name": "stdout"
        }
      ]
    },
    {
      "cell_type": "code",
      "metadata": {
        "colab": {
          "base_uri": "https://localhost:8080/"
        },
        "id": "v9Ku1OGay5_w",
        "outputId": "9497541f-71fe-4088-abe6-d7efb98c93c4"
      },
      "source": [
        "#reshape(-1, 28 * 28)  = 이미지데이터는 기존 데이터보다 차원이 커서 dense에 못 넣기 때문에 차원이 1차원이여야 해서 해주는 것\n",
        "\n",
        "x_train = X_train.reshape(-1, 28 * 28)  # 28 * 28= 784\n",
        "x_test = X_test.reshape(-1, 28 * 28)\n",
        "x_train = x_train / 255   #스케일링 작업 흑백 이미지 데이터는 픽셀 하나당 0-255까지의 숫자값을 가지므로 이를 255로 나누면 0-1 사이로 normalize된다(minmaxscaler 와 동일)\n",
        "x_test = x_test / 255\n",
        "print(x_train.shape)"
      ],
      "execution_count": 96,
      "outputs": [
        {
          "output_type": "stream",
          "text": [
            "(60000, 784)\n"
          ],
          "name": "stdout"
        }
      ]
    },
    {
      "cell_type": "code",
      "metadata": {
        "id": "E0lubscY0CPC"
      },
      "source": [
        "# 모델 레이어 설정\n",
        "model = Sequential()\n",
        "model.add(Dense(256, input_dim=784,\n",
        "                activation='relu'))\n",
        "model.add(Dense(128, activation='relu'))\n",
        "model.add(Dense(512, activation='relu'))\n",
        "model.add(Dense(10, activation='softmax'))  #숫자가 0~9라서 타겟수가 10개라서 10"
      ],
      "execution_count": 97,
      "outputs": []
    },
    {
      "cell_type": "code",
      "metadata": {
        "colab": {
          "base_uri": "https://localhost:8080/"
        },
        "id": "Rx6UovJh288J",
        "outputId": "bc521ac8-6040-4638-80d0-235620a1f59d"
      },
      "source": [
        "# 컴파일설정\n",
        "\n",
        "opt = Adam(lr=0.001)\n",
        "model.compile(opt, loss='categorical_crossentropy',\n",
        "              metrics=['accuracy'])\n",
        "print(model.summary())"
      ],
      "execution_count": 98,
      "outputs": [
        {
          "output_type": "stream",
          "text": [
            "Model: \"sequential_11\"\n",
            "_________________________________________________________________\n",
            "Layer (type)                 Output Shape              Param #   \n",
            "=================================================================\n",
            "dense_34 (Dense)             (None, 256)               200960    \n",
            "_________________________________________________________________\n",
            "dense_35 (Dense)             (None, 128)               32896     \n",
            "_________________________________________________________________\n",
            "dense_36 (Dense)             (None, 512)               66048     \n",
            "_________________________________________________________________\n",
            "dense_37 (Dense)             (None, 10)                5130      \n",
            "=================================================================\n",
            "Total params: 305,034\n",
            "Trainable params: 305,034\n",
            "Non-trainable params: 0\n",
            "_________________________________________________________________\n",
            "None\n"
          ],
          "name": "stdout"
        },
        {
          "output_type": "stream",
          "text": [
            "/usr/local/lib/python3.7/dist-packages/tensorflow/python/keras/optimizer_v2/optimizer_v2.py:375: UserWarning: The `lr` argument is deprecated, use `learning_rate` instead.\n",
            "  \"The `lr` argument is deprecated, use `learning_rate` instead.\")\n"
          ],
          "name": "stderr"
        }
      ]
    },
    {
      "cell_type": "code",
      "metadata": {
        "colab": {
          "base_uri": "https://localhost:8080/"
        },
        "id": "fjTCAKCV3GYr",
        "outputId": "04e6aff9-779d-45bf-8c13-f0089e812b36"
      },
      "source": [
        "#모델 학습하기\n",
        "fit_hist = model.fit(x_train, y_train,batch_size=500, epochs=10, validation_split=0.2, verbose=1)"
      ],
      "execution_count": 99,
      "outputs": [
        {
          "output_type": "stream",
          "text": [
            "Epoch 1/10\n",
            "96/96 [==============================] - 3s 24ms/step - loss: 0.4831 - accuracy: 0.8663 - val_loss: 0.1941 - val_accuracy: 0.9433\n",
            "Epoch 2/10\n",
            "96/96 [==============================] - 2s 22ms/step - loss: 0.1620 - accuracy: 0.9523 - val_loss: 0.1336 - val_accuracy: 0.9604\n",
            "Epoch 3/10\n",
            "96/96 [==============================] - 2s 21ms/step - loss: 0.1088 - accuracy: 0.9678 - val_loss: 0.1237 - val_accuracy: 0.9613\n",
            "Epoch 4/10\n",
            "96/96 [==============================] - 2s 21ms/step - loss: 0.0783 - accuracy: 0.9762 - val_loss: 0.1075 - val_accuracy: 0.9672\n",
            "Epoch 5/10\n",
            "96/96 [==============================] - 2s 21ms/step - loss: 0.0577 - accuracy: 0.9833 - val_loss: 0.0950 - val_accuracy: 0.9718\n",
            "Epoch 6/10\n",
            "96/96 [==============================] - 2s 22ms/step - loss: 0.0459 - accuracy: 0.9857 - val_loss: 0.0887 - val_accuracy: 0.9743\n",
            "Epoch 7/10\n",
            "96/96 [==============================] - 2s 21ms/step - loss: 0.0349 - accuracy: 0.9892 - val_loss: 0.0975 - val_accuracy: 0.9725\n",
            "Epoch 8/10\n",
            "96/96 [==============================] - 2s 22ms/step - loss: 0.0268 - accuracy: 0.9919 - val_loss: 0.0889 - val_accuracy: 0.9750\n",
            "Epoch 9/10\n",
            "96/96 [==============================] - 2s 22ms/step - loss: 0.0213 - accuracy: 0.9936 - val_loss: 0.1007 - val_accuracy: 0.9733\n",
            "Epoch 10/10\n",
            "96/96 [==============================] - 2s 21ms/step - loss: 0.0185 - accuracy: 0.9942 - val_loss: 0.1030 - val_accuracy: 0.9731\n"
          ],
          "name": "stdout"
        }
      ]
    },
    {
      "cell_type": "code",
      "metadata": {
        "colab": {
          "base_uri": "https://localhost:8080/"
        },
        "id": "LzzvFQlj3IUj",
        "outputId": "67b45c22-ccf0-41c5-86fb-175606ef628f"
      },
      "source": [
        "score = model.evaluate(x_test, y_test, verbose=0)\n",
        "print('Final test set accuracy :', score[1])"
      ],
      "execution_count": 100,
      "outputs": [
        {
          "output_type": "stream",
          "text": [
            "Final test set accuracy : 0.9751999974250793\n"
          ],
          "name": "stdout"
        }
      ]
    },
    {
      "cell_type": "code",
      "metadata": {
        "colab": {
          "base_uri": "https://localhost:8080/",
          "height": 286
        },
        "id": "xCXzH-ymBUix",
        "outputId": "753ab98e-b332-4d03-f39d-615bdf171923"
      },
      "source": [
        "#plt으로 학습률 확인하기\n",
        "\n",
        "plt.plot(fit_hist.history['accuracy'])\n",
        "plt.plot(fit_hist.history['val_accuracy'])"
      ],
      "execution_count": 101,
      "outputs": [
        {
          "output_type": "execute_result",
          "data": {
            "text/plain": [
              "[<matplotlib.lines.Line2D at 0x7f181fc92250>]"
            ]
          },
          "metadata": {
            "tags": []
          },
          "execution_count": 101
        },
        {
          "output_type": "display_data",
          "data": {
            "image/png": "[encoded data removed]",
            "text/plain": [
              "<Figure size 432x288 with 1 Axes>"
            ]
          },
          "metadata": {
            "tags": [],
            "needs_background": "light"
          }
        }
      ]
    },
    {
      "cell_type": "code",
      "metadata": {
        "colab": {
          "base_uri": "https://localhost:8080/",
          "height": 336
        },
        "id": "L7tthMxvC9b0",
        "outputId": "3bf3701f-f5c1-468d-a288-2d9a908b48bf"
      },
      "source": [
        "#정확률을 보기위해 임의의 그림을 주었을 때 숫자가 정확히 나오는 지 확인하기\n",
        "\n",
        "my_sample = np.random.randint(10000)\n",
        "plt.imshow(X_test[my_sample])\n",
        "print(Y_test[my_sample])\n",
        "pred = model.predict(x_test[my_sample].reshape(-1, 784))\n",
        "print(pred)\n",
        "print(np.argmax(pred))"
      ],
      "execution_count": 102,
      "outputs": [
        {
          "output_type": "stream",
          "text": [
            "8\n",
            "[[6.6778023e-09 8.2259372e-10 5.5849245e-08 2.4723349e-06 7.1572914e-11\n",
            "  3.0909342e-10 7.5413408e-12 8.4500718e-09 9.9999750e-01 4.4788823e-08]]\n",
            "8\n"
          ],
          "name": "stdout"
        },
        {
          "output_type": "display_data",
          "data": {
            "image/png": "[encoded data removed]",
            "text/plain": [
              "<Figure size 432x288 with 1 Axes>"
            ]
          },
          "metadata": {
            "tags": [],
            "needs_background": "light"
          }
        }
      ]
    }
  ]
}