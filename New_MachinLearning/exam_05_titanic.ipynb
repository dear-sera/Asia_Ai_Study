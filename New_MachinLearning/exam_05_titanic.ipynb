{
  "nbformat": 4,
  "nbformat_minor": 0,
  "metadata": {
    "colab": {
      "name": "exam_05_titanic.ipynb",
      "provenance": [],
      "authorship_tag": "ABX9TyPo3zPeNyx5ZGTSqt43t8aG",
      "include_colab_link": true
    },
    "kernelspec": {
      "name": "python3",
      "display_name": "Python 3"
    },
    "language_info": {
      "name": "python"
    }
  },
  "cells": [
    {
      "cell_type": "markdown",
      "metadata": {
        "id": "view-in-github",
        "colab_type": "text"
      },
      "source": [
        "<a href=\"https://colab.research.google.com/github/sera0911/asia_ai_study/blob/main/New_MachinLearning/exam_05_titanic.ipynb\" target=\"_parent\"><img src=\"https://colab.research.google.com/assets/colab-badge.svg\" alt=\"Open In Colab\"/></a>"
      ]
    },
    {
      "cell_type": "code",
      "metadata": {
        "id": "qelYJ_Ou7XHS"
      },
      "source": [
        "# 모듈 불러오기\n",
        "\n",
        "import seaborn as sns\n",
        "import pandas as pd\n",
        "import numpy as np"
      ],
      "execution_count": 2,
      "outputs": []
    },
    {
      "cell_type": "code",
      "metadata": {
        "colab": {
          "base_uri": "https://localhost:8080/"
        },
        "id": "P2HAPGN87b8C",
        "outputId": "cd66f74e-73b7-4fa0-d184-b8b06e3ea7f5"
      },
      "source": [
        "#seaborn에서 데이터 불러오기\n",
        "\n",
        "raw_data = sns.load_dataset('titanic')\n",
        "print(raw_data.head(10)) "
      ],
      "execution_count": 3,
      "outputs": [
        {
          "output_type": "stream",
          "text": [
            "   survived  pclass     sex   age  ...  deck  embark_town  alive  alone\n",
            "0         0       3    male  22.0  ...   NaN  Southampton     no  False\n",
            "1         1       1  female  38.0  ...     C    Cherbourg    yes  False\n",
            "2         1       3  female  26.0  ...   NaN  Southampton    yes   True\n",
            "3         1       1  female  35.0  ...     C  Southampton    yes  False\n",
            "4         0       3    male  35.0  ...   NaN  Southampton     no   True\n",
            "5         0       3    male   NaN  ...   NaN   Queenstown     no   True\n",
            "6         0       1    male  54.0  ...     E  Southampton     no   True\n",
            "7         0       3    male   2.0  ...   NaN  Southampton     no  False\n",
            "8         1       3  female  27.0  ...   NaN  Southampton    yes  False\n",
            "9         1       2  female  14.0  ...   NaN    Cherbourg    yes  False\n",
            "\n",
            "[10 rows x 15 columns]\n"
          ],
          "name": "stdout"
        }
      ]
    },
    {
      "cell_type": "code",
      "metadata": {
        "colab": {
          "base_uri": "https://localhost:8080/"
        },
        "id": "-SeehKWP7dDK",
        "outputId": "ae99d9c3-53d0-45c2-9394-9193a7bb7376"
      },
      "source": [
        "print(raw_data.info())"
      ],
      "execution_count": 4,
      "outputs": [
        {
          "output_type": "stream",
          "text": [
            "<class 'pandas.core.frame.DataFrame'>\n",
            "RangeIndex: 891 entries, 0 to 890\n",
            "Data columns (total 15 columns):\n",
            " #   Column       Non-Null Count  Dtype   \n",
            "---  ------       --------------  -----   \n",
            " 0   survived     891 non-null    int64   \n",
            " 1   pclass       891 non-null    int64   \n",
            " 2   sex          891 non-null    object  \n",
            " 3   age          714 non-null    float64 \n",
            " 4   sibsp        891 non-null    int64   \n",
            " 5   parch        891 non-null    int64   \n",
            " 6   fare         891 non-null    float64 \n",
            " 7   embarked     889 non-null    object  \n",
            " 8   class        891 non-null    category\n",
            " 9   who          891 non-null    object  \n",
            " 10  adult_male   891 non-null    bool    \n",
            " 11  deck         203 non-null    category\n",
            " 12  embark_town  889 non-null    object  \n",
            " 13  alive        891 non-null    object  \n",
            " 14  alone        891 non-null    bool    \n",
            "dtypes: bool(2), category(2), float64(2), int64(4), object(5)\n",
            "memory usage: 80.6+ KB\n",
            "None\n"
          ],
          "name": "stdout"
        }
      ]
    },
    {
      "cell_type": "code",
      "metadata": {
        "colab": {
          "base_uri": "https://localhost:8080/"
        },
        "id": "ICxpRdLw7dAg",
        "outputId": "5b317d1e-3eff-4b83-8d84-3296364701a1"
      },
      "source": [
        "raw_data.isnull().sum()"
      ],
      "execution_count": 5,
      "outputs": [
        {
          "output_type": "execute_result",
          "data": {
            "text/plain": [
              "survived         0\n",
              "pclass           0\n",
              "sex              0\n",
              "age            177\n",
              "sibsp            0\n",
              "parch            0\n",
              "fare             0\n",
              "embarked         2\n",
              "class            0\n",
              "who              0\n",
              "adult_male       0\n",
              "deck           688\n",
              "embark_town      2\n",
              "alive            0\n",
              "alone            0\n",
              "dtype: int64"
            ]
          },
          "metadata": {
            "tags": []
          },
          "execution_count": 5
        }
      ]
    },
    {
      "cell_type": "code",
      "metadata": {
        "colab": {
          "base_uri": "https://localhost:8080/"
        },
        "id": "py7bDqHI7c9k",
        "outputId": "384fcbc2-0d5e-488f-c951-ae5a7317665a"
      },
      "source": [
        "#결측치가 들어간 컬럼을 결측치가 많거나 중요치 않은 컬럼 삭제, 적으면 채우기\n",
        "\n",
        "#deck컬럼 삭제\n",
        "raw_data =raw_data.drop(['deck', 'embark_town'], axis=1)\n",
        "\n",
        "#age 결측값 채우기 = 선실별 who컬럼의 여,남,아이 평균으로 채워준다\n",
        "raw_data['age'].fillna(raw_data.groupby('who')['age'].transform('median'), inplace=True)\n",
        "raw_data.head(10)  #변환 확인\n",
        "\n",
        "#embarked 결측치 채우기, value를 확인해보면 대부분 S에서 많이 탔기에 S로 채워준다\n",
        "raw_data['embarked'] = raw_data['embarked'].fillna('S')\n",
        "\n",
        "#타켓값이 불린 형태로 들어간 alive 컬럼 제거하기\n",
        "raw_data =raw_data.drop(['alive'], axis=1)\n",
        "\n",
        "#pclass값이 불린 형태로 들어간 class 컬럼 제거하기\n",
        "raw_data =raw_data.drop(['class'], axis=1)\n",
        "\n",
        "raw_data.info()"
      ],
      "execution_count": 6,
      "outputs": [
        {
          "output_type": "stream",
          "text": [
            "<class 'pandas.core.frame.DataFrame'>\n",
            "RangeIndex: 891 entries, 0 to 890\n",
            "Data columns (total 11 columns):\n",
            " #   Column      Non-Null Count  Dtype  \n",
            "---  ------      --------------  -----  \n",
            " 0   survived    891 non-null    int64  \n",
            " 1   pclass      891 non-null    int64  \n",
            " 2   sex         891 non-null    object \n",
            " 3   age         891 non-null    float64\n",
            " 4   sibsp       891 non-null    int64  \n",
            " 5   parch       891 non-null    int64  \n",
            " 6   fare        891 non-null    float64\n",
            " 7   embarked    891 non-null    object \n",
            " 8   who         891 non-null    object \n",
            " 9   adult_male  891 non-null    bool   \n",
            " 10  alone       891 non-null    bool   \n",
            "dtypes: bool(2), float64(2), int64(4), object(3)\n",
            "memory usage: 64.5+ KB\n"
          ],
          "name": "stdout"
        }
      ]
    },
    {
      "cell_type": "code",
      "metadata": {
        "colab": {
          "base_uri": "https://localhost:8080/"
        },
        "id": "EMoOcssl_h2f",
        "outputId": "3633fec2-dd2e-4d69-cfe3-f536bef24964"
      },
      "source": [
        "#데이터 수치화하기 \n",
        "from sklearn.preprocessing import LabelEncoder\n",
        "\n",
        "#sex 컬럼을 수치화데이터로 만들기 (여자면 0, 남자는 1)\n",
        "le = LabelEncoder()\n",
        "sex = le.fit_transform(raw_data['sex'])\n",
        "raw_data['sex'] = sex\n",
        "\n",
        "#embarked 컬럼을 수치화데이터로 만들기(C선착장은 0, Q선착장은 1, S선착장은 2)\n",
        "embarked = le.fit_transform(raw_data['embarked'])\n",
        "raw_data['embarked'] = embarked\n",
        "\n",
        "#who 컬럼을 수치화데이터로 만들기(child는 0, 남자는 1, 여자는 2)\n",
        "who = le.fit_transform(raw_data['who'])\n",
        "raw_data['who'] = who\n",
        "\n",
        "#adult_male 컬럼을 수치화데이터로 만들기(남자어른이 아니면 0, 남자어른이면 1)\n",
        "adult_male = le.fit_transform(raw_data['adult_male'])\n",
        "raw_data['adult_male'] = adult_male\n",
        "\n",
        "#alone 컬럼을 수치화데이터로 만들기(혼자 탑승이 아니면 0, 혼자탑승이면 1)\n",
        "alone = le.fit_transform(raw_data['alone'])\n",
        "raw_data['alone'] = alone\n",
        "\n",
        "clean_data = raw_data\n",
        "clean_data.head(10)\n",
        "clean_data.info()"
      ],
      "execution_count": 10,
      "outputs": [
        {
          "output_type": "stream",
          "text": [
            "<class 'pandas.core.frame.DataFrame'>\n",
            "RangeIndex: 891 entries, 0 to 890\n",
            "Data columns (total 11 columns):\n",
            " #   Column      Non-Null Count  Dtype  \n",
            "---  ------      --------------  -----  \n",
            " 0   survived    891 non-null    int64  \n",
            " 1   pclass      891 non-null    int64  \n",
            " 2   sex         891 non-null    int64  \n",
            " 3   age         891 non-null    float64\n",
            " 4   sibsp       891 non-null    int64  \n",
            " 5   parch       891 non-null    int64  \n",
            " 6   fare        891 non-null    float64\n",
            " 7   embarked    891 non-null    int64  \n",
            " 8   who         891 non-null    int64  \n",
            " 9   adult_male  891 non-null    int64  \n",
            " 10  alone       891 non-null    int64  \n",
            "dtypes: float64(2), int64(9)\n",
            "memory usage: 76.7 KB\n"
          ],
          "name": "stdout"
        }
      ]
    },
    {
      "cell_type": "code",
      "metadata": {
        "colab": {
          "base_uri": "https://localhost:8080/"
        },
        "id": "uJsm61a7BBAG",
        "outputId": "0aca6141-6e04-472d-d8f5-38352fe83a22"
      },
      "source": [
        "#피쳐, 타겟 값 나누기\n",
        "\n",
        "target = pd.DataFrame(clean_data.iloc[:, 0], columns=['survived'])\n",
        "training_data = clean_data.drop('survived', axis=1)\n",
        "print(training_data.head())\n",
        "print(target.head())"
      ],
      "execution_count": 11,
      "outputs": [
        {
          "output_type": "stream",
          "text": [
            "   pclass  sex   age  sibsp  parch     fare  embarked  who  adult_male  alone\n",
            "0       3    1  22.0      1      0   7.2500         2    1           1      0\n",
            "1       1    0  38.0      1      0  71.2833         0    2           0      0\n",
            "2       3    0  26.0      0      0   7.9250         2    2           0      1\n",
            "3       1    0  35.0      1      0  53.1000         2    2           0      0\n",
            "4       3    1  35.0      0      0   8.0500         2    1           1      1\n",
            "   survived\n",
            "0         0\n",
            "1         1\n",
            "2         1\n",
            "3         1\n",
            "4         0\n"
          ],
          "name": "stdout"
        }
      ]
    },
    {
      "cell_type": "code",
      "metadata": {
        "colab": {
          "base_uri": "https://localhost:8080/"
        },
        "id": "n0ciKt8UBNqG",
        "outputId": "4e9fce5c-58d0-4490-c110-4c71a85230ff"
      },
      "source": [
        "#숫자가 큰 두 데이터를 변수 지정해주기\n",
        "value_data = training_data[['age', 'fare']]\n",
        "print(value_data.head())"
      ],
      "execution_count": 12,
      "outputs": [
        {
          "output_type": "stream",
          "text": [
            "    age     fare\n",
            "0  22.0   7.2500\n",
            "1  38.0  71.2833\n",
            "2  26.0   7.9250\n",
            "3  35.0  53.1000\n",
            "4  35.0   8.0500\n"
          ],
          "name": "stdout"
        }
      ]
    },
    {
      "cell_type": "code",
      "metadata": {
        "colab": {
          "base_uri": "https://localhost:8080/"
        },
        "id": "q9zuKXgKBQCQ",
        "outputId": "16e5cf8b-7f63-4ed2-9e31-ef8210b61384"
      },
      "source": [
        "#age, fare에 표준 정규데이터로 스케일링해주기\n",
        "\n",
        "from sklearn.preprocessing import StandardScaler\n",
        "scaler = StandardScaler()\n",
        "scaled_data = scaler.fit_transform(value_data)\n",
        "value_data = pd.DataFrame(scaled_data, columns= value_data.columns)\n",
        "print(value_data.head())"
      ],
      "execution_count": 14,
      "outputs": [
        {
          "output_type": "stream",
          "text": [
            "        age      fare\n",
            "0 -0.597055 -0.502445\n",
            "1  0.634162  0.786845\n",
            "2 -0.289251 -0.488854\n",
            "3  0.403309  0.420730\n",
            "4  0.403309 -0.486337\n"
          ],
          "name": "stdout"
        }
      ]
    },
    {
      "cell_type": "code",
      "metadata": {
        "colab": {
          "base_uri": "https://localhost:8080/"
        },
        "id": "2H08Gn5hBeS2",
        "outputId": "809a2ab6-597e-4996-bcba-f30d3bff085f"
      },
      "source": [
        "#새롭게 만든 value_data를 넣기 위하여 기존 컬럼 지우기\n",
        "training_data.drop(['age', 'fare'], axis=1, inplace=True)\n",
        "print(training_data.head())"
      ],
      "execution_count": 15,
      "outputs": [
        {
          "output_type": "stream",
          "text": [
            "   pclass  sex  sibsp  parch  embarked  who  adult_male  alone\n",
            "0       3    1      1      0         2    1           1      0\n",
            "1       1    0      1      0         0    2           0      0\n",
            "2       3    0      0      0         2    2           0      1\n",
            "3       1    0      1      0         2    2           0      0\n",
            "4       3    1      0      0         2    1           1      1\n"
          ],
          "name": "stdout"
        }
      ]
    },
    {
      "cell_type": "code",
      "metadata": {
        "colab": {
          "base_uri": "https://localhost:8080/"
        },
        "id": "wY0uq6P2Bidv",
        "outputId": "0bed3c6e-e56d-4408-ada6-a93218a8ff20"
      },
      "source": [
        "#one_hot인코딩을 위해 클래스를 더미별로 가져오기\n",
        "onehot_data = pd.get_dummies(training_data['pclass'])\n",
        "print(onehot_data.head())"
      ],
      "execution_count": 16,
      "outputs": [
        {
          "output_type": "stream",
          "text": [
            "   1  2  3\n",
            "0  0  0  1\n",
            "1  1  0  0\n",
            "2  0  0  1\n",
            "3  1  0  0\n",
            "4  0  0  1\n"
          ],
          "name": "stdout"
        }
      ]
    },
    {
      "cell_type": "code",
      "metadata": {
        "colab": {
          "base_uri": "https://localhost:8080/"
        },
        "id": "PK2yhll9BnSc",
        "outputId": "ab1003a0-6f73-4649-a9ad-dc7ad86c173b"
      },
      "source": [
        "print(training_data.head())"
      ],
      "execution_count": 17,
      "outputs": [
        {
          "output_type": "stream",
          "text": [
            "   pclass  sex  sibsp  parch  embarked  who  adult_male  alone\n",
            "0       3    1      1      0         2    1           1      0\n",
            "1       1    0      1      0         0    2           0      0\n",
            "2       3    0      0      0         2    2           0      1\n",
            "3       1    0      1      0         2    2           0      0\n",
            "4       3    1      0      0         2    1           1      1\n"
          ],
          "name": "stdout"
        }
      ]
    },
    {
      "cell_type": "code",
      "metadata": {
        "colab": {
          "base_uri": "https://localhost:8080/"
        },
        "id": "N9eCUNdC87CX",
        "outputId": "3bbf84d2-f9ae-4305-b343-3e5ff123093c"
      },
      "source": [
        "#한 컬럼안에 다양한 값을 가진 컬럼들을 더미별로 분해하기\n",
        "onehot_data = pd.get_dummies(training_data, columns=training_data.columns)\n",
        "print(onehot_data.head())"
      ],
      "execution_count": 18,
      "outputs": [
        {
          "output_type": "stream",
          "text": [
            "   pclass_1  pclass_2  pclass_3  ...  adult_male_1  alone_0  alone_1\n",
            "0         0         0         1  ...             1        1        0\n",
            "1         1         0         0  ...             0        1        0\n",
            "2         0         0         1  ...             0        0        1\n",
            "3         1         0         0  ...             0        1        0\n",
            "4         0         0         1  ...             1        0        1\n",
            "\n",
            "[5 rows x 29 columns]\n"
          ],
          "name": "stdout"
        }
      ]
    },
    {
      "cell_type": "code",
      "metadata": {
        "colab": {
          "base_uri": "https://localhost:8080/"
        },
        "id": "KCAgSMKE86-A",
        "outputId": "4704968f-171c-4f44-854a-f30dd427733c"
      },
      "source": [
        "print(onehot_data.info())"
      ],
      "execution_count": 19,
      "outputs": [
        {
          "output_type": "stream",
          "text": [
            "<class 'pandas.core.frame.DataFrame'>\n",
            "RangeIndex: 891 entries, 0 to 890\n",
            "Data columns (total 29 columns):\n",
            " #   Column        Non-Null Count  Dtype\n",
            "---  ------        --------------  -----\n",
            " 0   pclass_1      891 non-null    uint8\n",
            " 1   pclass_2      891 non-null    uint8\n",
            " 2   pclass_3      891 non-null    uint8\n",
            " 3   sex_0         891 non-null    uint8\n",
            " 4   sex_1         891 non-null    uint8\n",
            " 5   sibsp_0       891 non-null    uint8\n",
            " 6   sibsp_1       891 non-null    uint8\n",
            " 7   sibsp_2       891 non-null    uint8\n",
            " 8   sibsp_3       891 non-null    uint8\n",
            " 9   sibsp_4       891 non-null    uint8\n",
            " 10  sibsp_5       891 non-null    uint8\n",
            " 11  sibsp_8       891 non-null    uint8\n",
            " 12  parch_0       891 non-null    uint8\n",
            " 13  parch_1       891 non-null    uint8\n",
            " 14  parch_2       891 non-null    uint8\n",
            " 15  parch_3       891 non-null    uint8\n",
            " 16  parch_4       891 non-null    uint8\n",
            " 17  parch_5       891 non-null    uint8\n",
            " 18  parch_6       891 non-null    uint8\n",
            " 19  embarked_0    891 non-null    uint8\n",
            " 20  embarked_1    891 non-null    uint8\n",
            " 21  embarked_2    891 non-null    uint8\n",
            " 22  who_0         891 non-null    uint8\n",
            " 23  who_1         891 non-null    uint8\n",
            " 24  who_2         891 non-null    uint8\n",
            " 25  adult_male_0  891 non-null    uint8\n",
            " 26  adult_male_1  891 non-null    uint8\n",
            " 27  alone_0       891 non-null    uint8\n",
            " 28  alone_1       891 non-null    uint8\n",
            "dtypes: uint8(29)\n",
            "memory usage: 25.4 KB\n",
            "None\n"
          ],
          "name": "stdout"
        }
      ]
    },
    {
      "cell_type": "code",
      "metadata": {
        "colab": {
          "base_uri": "https://localhost:8080/"
        },
        "id": "L_xkalyj867I",
        "outputId": "63a43c4d-f2f8-4704-c355-457cc7326128"
      },
      "source": [
        "#각각 컬럼 합치기\n",
        "\n",
        "training_data = pd.concat([value_data, onehot_data], axis=1)\n",
        "print(training_data.info())"
      ],
      "execution_count": 20,
      "outputs": [
        {
          "output_type": "stream",
          "text": [
            "<class 'pandas.core.frame.DataFrame'>\n",
            "RangeIndex: 891 entries, 0 to 890\n",
            "Data columns (total 31 columns):\n",
            " #   Column        Non-Null Count  Dtype  \n",
            "---  ------        --------------  -----  \n",
            " 0   age           891 non-null    float64\n",
            " 1   fare          891 non-null    float64\n",
            " 2   pclass_1      891 non-null    uint8  \n",
            " 3   pclass_2      891 non-null    uint8  \n",
            " 4   pclass_3      891 non-null    uint8  \n",
            " 5   sex_0         891 non-null    uint8  \n",
            " 6   sex_1         891 non-null    uint8  \n",
            " 7   sibsp_0       891 non-null    uint8  \n",
            " 8   sibsp_1       891 non-null    uint8  \n",
            " 9   sibsp_2       891 non-null    uint8  \n",
            " 10  sibsp_3       891 non-null    uint8  \n",
            " 11  sibsp_4       891 non-null    uint8  \n",
            " 12  sibsp_5       891 non-null    uint8  \n",
            " 13  sibsp_8       891 non-null    uint8  \n",
            " 14  parch_0       891 non-null    uint8  \n",
            " 15  parch_1       891 non-null    uint8  \n",
            " 16  parch_2       891 non-null    uint8  \n",
            " 17  parch_3       891 non-null    uint8  \n",
            " 18  parch_4       891 non-null    uint8  \n",
            " 19  parch_5       891 non-null    uint8  \n",
            " 20  parch_6       891 non-null    uint8  \n",
            " 21  embarked_0    891 non-null    uint8  \n",
            " 22  embarked_1    891 non-null    uint8  \n",
            " 23  embarked_2    891 non-null    uint8  \n",
            " 24  who_0         891 non-null    uint8  \n",
            " 25  who_1         891 non-null    uint8  \n",
            " 26  who_2         891 non-null    uint8  \n",
            " 27  adult_male_0  891 non-null    uint8  \n",
            " 28  adult_male_1  891 non-null    uint8  \n",
            " 29  alone_0       891 non-null    uint8  \n",
            " 30  alone_1       891 non-null    uint8  \n",
            "dtypes: float64(2), uint8(29)\n",
            "memory usage: 39.3 KB\n",
            "None\n"
          ],
          "name": "stdout"
        }
      ]
    },
    {
      "cell_type": "code",
      "metadata": {
        "id": "EDmqwxqN864c"
      },
      "source": [
        "#데이터 분리하기\n",
        "\n",
        "from sklearn.model_selection import train_test_split\n",
        "X_train, X_test, Y_train, Y_test = train_test_split(training_data, target, test_size= 0.2)"
      ],
      "execution_count": 21,
      "outputs": []
    },
    {
      "cell_type": "code",
      "metadata": {
        "colab": {
          "base_uri": "https://localhost:8080/"
        },
        "id": "YM4oOtSS861t",
        "outputId": "2e58cc22-87ee-46fe-b6a7-56f18a00410d"
      },
      "source": [
        "print(X_train.shape)\n",
        "print(Y_train.shape)\n",
        "print(X_test.shape)\n",
        "print(Y_test.shape)"
      ],
      "execution_count": 23,
      "outputs": [
        {
          "output_type": "stream",
          "text": [
            "(712, 31)\n",
            "(712, 1)\n",
            "(179, 31)\n",
            "(179, 1)\n"
          ],
          "name": "stdout"
        }
      ]
    },
    {
      "cell_type": "code",
      "metadata": {
        "colab": {
          "base_uri": "https://localhost:8080/"
        },
        "id": "sIOu7iueRdOo",
        "outputId": "b57674f0-24af-40e8-8e4a-e622a63b7af2"
      },
      "source": [
        "#모델 생성하기\n",
        "\n",
        "from tensorflow.keras.models import Sequential\n",
        "from tensorflow.keras.layers import Dense, Dropout\n",
        "\n",
        "model = Sequential()\n",
        "model.add(Dense(512, input_dim=31, activation='relu'))\n",
        "model.add(Dropout(0.5))\n",
        "model.add(Dense(256, activation='relu'))\n",
        "model.add(Dropout(0.5))\n",
        "model.add(Dense(128, activation='relu'))\n",
        "model.add(Dropout(0.4))\n",
        "model.add(Dense(64, activation='relu'))\n",
        "model.add(Dropout(0.4))\n",
        "model.add(Dense(32,activation='relu'))\n",
        "model.add(Dropout(0.1))\n",
        "model.add(Dense(10,activation='relu'))\n",
        "model.add(Dropout(0.1))\n",
        "model.add(Dense(1, activation='sigmoid'))\n",
        "print(model.summary())"
      ],
      "execution_count": 82,
      "outputs": [
        {
          "output_type": "stream",
          "text": [
            "Model: \"sequential_10\"\n",
            "_________________________________________________________________\n",
            "Layer (type)                 Output Shape              Param #   \n",
            "=================================================================\n",
            "dense_57 (Dense)             (None, 512)               16384     \n",
            "_________________________________________________________________\n",
            "dropout_47 (Dropout)         (None, 512)               0         \n",
            "_________________________________________________________________\n",
            "dense_58 (Dense)             (None, 256)               131328    \n",
            "_________________________________________________________________\n",
            "dropout_48 (Dropout)         (None, 256)               0         \n",
            "_________________________________________________________________\n",
            "dense_59 (Dense)             (None, 128)               32896     \n",
            "_________________________________________________________________\n",
            "dropout_49 (Dropout)         (None, 128)               0         \n",
            "_________________________________________________________________\n",
            "dense_60 (Dense)             (None, 64)                8256      \n",
            "_________________________________________________________________\n",
            "dropout_50 (Dropout)         (None, 64)                0         \n",
            "_________________________________________________________________\n",
            "dense_61 (Dense)             (None, 32)                2080      \n",
            "_________________________________________________________________\n",
            "dropout_51 (Dropout)         (None, 32)                0         \n",
            "_________________________________________________________________\n",
            "dense_62 (Dense)             (None, 10)                330       \n",
            "_________________________________________________________________\n",
            "dropout_52 (Dropout)         (None, 10)                0         \n",
            "_________________________________________________________________\n",
            "dense_63 (Dense)             (None, 1)                 11        \n",
            "=================================================================\n",
            "Total params: 191,285\n",
            "Trainable params: 191,285\n",
            "Non-trainable params: 0\n",
            "_________________________________________________________________\n",
            "None\n"
          ],
          "name": "stdout"
        }
      ]
    },
    {
      "cell_type": "code",
      "metadata": {
        "colab": {
          "base_uri": "https://localhost:8080/"
        },
        "id": "gOPvC3PBSVf_",
        "outputId": "d3c97fcc-785f-4506-b061-4e99549f25a8"
      },
      "source": [
        "#모델 컴파일, 학습시키기\n",
        "\n",
        "model.compile(loss='mse', optimizer='adam', metrics='binary_accuracy')\n",
        "\n",
        "fit_hist = model.fit(X_train, Y_train, batch_size=300, epochs=50, validation_split=0.2)"
      ],
      "execution_count": 83,
      "outputs": [
        {
          "output_type": "stream",
          "text": [
            "Epoch 1/50\n",
            "2/2 [==============================] - 1s 197ms/step - loss: 0.2536 - binary_accuracy: 0.4868 - val_loss: 0.2466 - val_binary_accuracy: 0.6573\n",
            "Epoch 2/50\n",
            "2/2 [==============================] - 0s 30ms/step - loss: 0.2463 - binary_accuracy: 0.5835 - val_loss: 0.2398 - val_binary_accuracy: 0.6154\n",
            "Epoch 3/50\n",
            "2/2 [==============================] - 0s 29ms/step - loss: 0.2365 - binary_accuracy: 0.6098 - val_loss: 0.2322 - val_binary_accuracy: 0.6154\n",
            "Epoch 4/50\n",
            "2/2 [==============================] - 0s 29ms/step - loss: 0.2316 - binary_accuracy: 0.6134 - val_loss: 0.2229 - val_binary_accuracy: 0.6154\n",
            "Epoch 5/50\n",
            "2/2 [==============================] - 0s 27ms/step - loss: 0.2258 - binary_accuracy: 0.5975 - val_loss: 0.2134 - val_binary_accuracy: 0.6154\n",
            "Epoch 6/50\n",
            "2/2 [==============================] - 0s 31ms/step - loss: 0.2244 - binary_accuracy: 0.5975 - val_loss: 0.2042 - val_binary_accuracy: 0.6154\n",
            "Epoch 7/50\n",
            "2/2 [==============================] - 0s 28ms/step - loss: 0.2087 - binary_accuracy: 0.6134 - val_loss: 0.1953 - val_binary_accuracy: 0.6154\n",
            "Epoch 8/50\n",
            "2/2 [==============================] - 0s 28ms/step - loss: 0.2145 - binary_accuracy: 0.6186 - val_loss: 0.1886 - val_binary_accuracy: 0.6364\n",
            "Epoch 9/50\n",
            "2/2 [==============================] - 0s 251ms/step - loss: 0.1993 - binary_accuracy: 0.6415 - val_loss: 0.1845 - val_binary_accuracy: 0.7273\n",
            "Epoch 10/50\n",
            "2/2 [==============================] - 0s 34ms/step - loss: 0.1951 - binary_accuracy: 0.6344 - val_loss: 0.1820 - val_binary_accuracy: 0.7692\n",
            "Epoch 11/50\n",
            "2/2 [==============================] - 0s 30ms/step - loss: 0.1910 - binary_accuracy: 0.6854 - val_loss: 0.1802 - val_binary_accuracy: 0.8042\n",
            "Epoch 12/50\n",
            "2/2 [==============================] - 0s 30ms/step - loss: 0.1876 - binary_accuracy: 0.6907 - val_loss: 0.1786 - val_binary_accuracy: 0.8042\n",
            "Epoch 13/50\n",
            "2/2 [==============================] - 0s 30ms/step - loss: 0.1796 - binary_accuracy: 0.7399 - val_loss: 0.1775 - val_binary_accuracy: 0.8112\n",
            "Epoch 14/50\n",
            "2/2 [==============================] - 0s 30ms/step - loss: 0.1829 - binary_accuracy: 0.7522 - val_loss: 0.1759 - val_binary_accuracy: 0.8112\n",
            "Epoch 15/50\n",
            "2/2 [==============================] - 0s 34ms/step - loss: 0.1760 - binary_accuracy: 0.7540 - val_loss: 0.1733 - val_binary_accuracy: 0.8112\n",
            "Epoch 16/50\n",
            "2/2 [==============================] - 0s 29ms/step - loss: 0.1788 - binary_accuracy: 0.7575 - val_loss: 0.1700 - val_binary_accuracy: 0.8112\n",
            "Epoch 17/50\n",
            "2/2 [==============================] - 0s 30ms/step - loss: 0.1790 - binary_accuracy: 0.7733 - val_loss: 0.1658 - val_binary_accuracy: 0.8112\n",
            "Epoch 18/50\n",
            "2/2 [==============================] - 0s 32ms/step - loss: 0.1706 - binary_accuracy: 0.7838 - val_loss: 0.1609 - val_binary_accuracy: 0.8112\n",
            "Epoch 19/50\n",
            "2/2 [==============================] - 0s 29ms/step - loss: 0.1690 - binary_accuracy: 0.7733 - val_loss: 0.1569 - val_binary_accuracy: 0.8112\n",
            "Epoch 20/50\n",
            "2/2 [==============================] - 0s 29ms/step - loss: 0.1691 - binary_accuracy: 0.7733 - val_loss: 0.1535 - val_binary_accuracy: 0.8182\n",
            "Epoch 21/50\n",
            "2/2 [==============================] - 0s 35ms/step - loss: 0.1643 - binary_accuracy: 0.7786 - val_loss: 0.1522 - val_binary_accuracy: 0.8182\n",
            "Epoch 22/50\n",
            "2/2 [==============================] - 0s 30ms/step - loss: 0.1648 - binary_accuracy: 0.7680 - val_loss: 0.1508 - val_binary_accuracy: 0.8112\n",
            "Epoch 23/50\n",
            "2/2 [==============================] - 0s 28ms/step - loss: 0.1621 - binary_accuracy: 0.7856 - val_loss: 0.1498 - val_binary_accuracy: 0.8252\n",
            "Epoch 24/50\n",
            "2/2 [==============================] - 0s 29ms/step - loss: 0.1580 - binary_accuracy: 0.7873 - val_loss: 0.1495 - val_binary_accuracy: 0.8252\n",
            "Epoch 25/50\n",
            "2/2 [==============================] - 0s 38ms/step - loss: 0.1600 - binary_accuracy: 0.7891 - val_loss: 0.1502 - val_binary_accuracy: 0.8112\n",
            "Epoch 26/50\n",
            "2/2 [==============================] - 0s 28ms/step - loss: 0.1487 - binary_accuracy: 0.7996 - val_loss: 0.1496 - val_binary_accuracy: 0.8182\n",
            "Epoch 27/50\n",
            "2/2 [==============================] - 0s 27ms/step - loss: 0.1539 - binary_accuracy: 0.7891 - val_loss: 0.1480 - val_binary_accuracy: 0.8182\n",
            "Epoch 28/50\n",
            "2/2 [==============================] - 0s 31ms/step - loss: 0.1518 - binary_accuracy: 0.7979 - val_loss: 0.1456 - val_binary_accuracy: 0.8182\n",
            "Epoch 29/50\n",
            "2/2 [==============================] - 0s 28ms/step - loss: 0.1517 - binary_accuracy: 0.7961 - val_loss: 0.1417 - val_binary_accuracy: 0.8252\n",
            "Epoch 30/50\n",
            "2/2 [==============================] - 0s 27ms/step - loss: 0.1443 - binary_accuracy: 0.8172 - val_loss: 0.1382 - val_binary_accuracy: 0.8252\n",
            "Epoch 31/50\n",
            "2/2 [==============================] - 0s 28ms/step - loss: 0.1466 - binary_accuracy: 0.7996 - val_loss: 0.1349 - val_binary_accuracy: 0.8252\n",
            "Epoch 32/50\n",
            "2/2 [==============================] - 0s 28ms/step - loss: 0.1486 - binary_accuracy: 0.8032 - val_loss: 0.1321 - val_binary_accuracy: 0.8322\n",
            "Epoch 33/50\n",
            "2/2 [==============================] - 0s 27ms/step - loss: 0.1465 - binary_accuracy: 0.8172 - val_loss: 0.1302 - val_binary_accuracy: 0.8392\n",
            "Epoch 34/50\n",
            "2/2 [==============================] - 0s 32ms/step - loss: 0.1434 - binary_accuracy: 0.8084 - val_loss: 0.1291 - val_binary_accuracy: 0.8392\n",
            "Epoch 35/50\n",
            "2/2 [==============================] - 0s 29ms/step - loss: 0.1380 - binary_accuracy: 0.8225 - val_loss: 0.1283 - val_binary_accuracy: 0.8392\n",
            "Epoch 36/50\n",
            "2/2 [==============================] - 0s 28ms/step - loss: 0.1471 - binary_accuracy: 0.8067 - val_loss: 0.1267 - val_binary_accuracy: 0.8322\n",
            "Epoch 37/50\n",
            "2/2 [==============================] - 0s 27ms/step - loss: 0.1352 - binary_accuracy: 0.8313 - val_loss: 0.1252 - val_binary_accuracy: 0.8392\n",
            "Epoch 38/50\n",
            "2/2 [==============================] - 0s 35ms/step - loss: 0.1406 - binary_accuracy: 0.8190 - val_loss: 0.1244 - val_binary_accuracy: 0.8392\n",
            "Epoch 39/50\n",
            "2/2 [==============================] - 0s 29ms/step - loss: 0.1291 - binary_accuracy: 0.8418 - val_loss: 0.1241 - val_binary_accuracy: 0.8392\n",
            "Epoch 40/50\n",
            "2/2 [==============================] - 0s 29ms/step - loss: 0.1339 - binary_accuracy: 0.8278 - val_loss: 0.1245 - val_binary_accuracy: 0.8392\n",
            "Epoch 41/50\n",
            "2/2 [==============================] - 0s 31ms/step - loss: 0.1341 - binary_accuracy: 0.8348 - val_loss: 0.1242 - val_binary_accuracy: 0.8392\n",
            "Epoch 42/50\n",
            "2/2 [==============================] - 0s 36ms/step - loss: 0.1328 - binary_accuracy: 0.8313 - val_loss: 0.1252 - val_binary_accuracy: 0.8322\n",
            "Epoch 43/50\n",
            "2/2 [==============================] - 0s 35ms/step - loss: 0.1336 - binary_accuracy: 0.8366 - val_loss: 0.1258 - val_binary_accuracy: 0.8392\n",
            "Epoch 44/50\n",
            "2/2 [==============================] - 0s 34ms/step - loss: 0.1285 - binary_accuracy: 0.8383 - val_loss: 0.1262 - val_binary_accuracy: 0.8392\n",
            "Epoch 45/50\n",
            "2/2 [==============================] - 0s 30ms/step - loss: 0.1342 - binary_accuracy: 0.8313 - val_loss: 0.1239 - val_binary_accuracy: 0.8322\n",
            "Epoch 46/50\n",
            "2/2 [==============================] - 0s 32ms/step - loss: 0.1293 - binary_accuracy: 0.8453 - val_loss: 0.1227 - val_binary_accuracy: 0.8392\n",
            "Epoch 47/50\n",
            "2/2 [==============================] - 0s 28ms/step - loss: 0.1243 - binary_accuracy: 0.8366 - val_loss: 0.1219 - val_binary_accuracy: 0.8392\n",
            "Epoch 48/50\n",
            "2/2 [==============================] - 0s 29ms/step - loss: 0.1353 - binary_accuracy: 0.8436 - val_loss: 0.1223 - val_binary_accuracy: 0.8392\n",
            "Epoch 49/50\n",
            "2/2 [==============================] - 0s 28ms/step - loss: 0.1332 - binary_accuracy: 0.8348 - val_loss: 0.1235 - val_binary_accuracy: 0.8322\n",
            "Epoch 50/50\n",
            "2/2 [==============================] - 0s 29ms/step - loss: 0.1225 - binary_accuracy: 0.8576 - val_loss: 0.1240 - val_binary_accuracy: 0.8322\n"
          ],
          "name": "stdout"
        }
      ]
    },
    {
      "cell_type": "code",
      "metadata": {
        "colab": {
          "base_uri": "https://localhost:8080/",
          "height": 282
        },
        "id": "Koilnu9PS0B5",
        "outputId": "3cb06759-47e6-4a06-ed39-39fd640a011d"
      },
      "source": [
        "#학습 결과 선그래프로 나타내기\n",
        "\n",
        "import matplotlib.pyplot as plt\n",
        "\n",
        "plt.plot(fit_hist.history['binary_accuracy'])\n",
        "plt.plot(fit_hist.history['val_binary_accuracy'])"
      ],
      "execution_count": 84,
      "outputs": [
        {
          "output_type": "execute_result",
          "data": {
            "text/plain": [
              "[<matplotlib.lines.Line2D at 0x7fbab22c9710>]"
            ]
          },
          "metadata": {
            "tags": []
          },
          "execution_count": 84
        },
        {
          "output_type": "display_data",
          "data": {
            "image/png": "[encoded data removed]",
            "text/plain": [
              "<Figure size 432x288 with 1 Axes>"
            ]
          },
          "metadata": {
            "tags": [],
            "needs_background": "light"
          }
        }
      ]
    },
    {
      "cell_type": "code",
      "metadata": {
        "colab": {
          "base_uri": "https://localhost:8080/"
        },
        "id": "FB-pGxRCTTBN",
        "outputId": "de7fd4dd-3a9e-4e37-bfe3-5ddde334c1f1"
      },
      "source": [
        "#test데이터로 정확도 예측하기\n",
        "\n",
        "score = model.evaluate(X_test, Y_test, verbose=0)\n",
        "print('loss', score[0])\n",
        "print('accuracy', score[1])"
      ],
      "execution_count": 85,
      "outputs": [
        {
          "output_type": "stream",
          "text": [
            "loss 0.12731249630451202\n",
            "accuracy 0.8156424760818481\n"
          ],
          "name": "stdout"
        }
      ]
    }
  ]
}