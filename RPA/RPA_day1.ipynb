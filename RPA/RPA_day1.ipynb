{
 "cells": [
  {
   "cell_type": "code",
   "execution_count": 1,
   "id": "detected-validation",
   "metadata": {},
   "outputs": [
    {
     "data": {
      "text/plain": [
       "Size(width=1920, height=1080)"
      ]
     },
     "execution_count": 1,
     "metadata": {},
     "output_type": "execute_result"
    }
   ],
   "source": [
    "import pyautogui\n",
    "pyautogui.size()"
   ]
  },
  {
   "cell_type": "code",
   "execution_count": 2,
   "id": "ambient-footage",
   "metadata": {},
   "outputs": [],
   "source": [
    "pyautogui.moveTo(500, 500, duration=1)  #마우스가 (500, 500)위치로 1초 동안에 이동"
   ]
  },
  {
   "cell_type": "code",
   "execution_count": 6,
   "id": "large-regulation",
   "metadata": {},
   "outputs": [],
   "source": [
    "pyautogui.moveTo(500, 500, duration = 1)\n",
    "pyautogui.moveTo(1200, 1200, duration = 1)\n",
    "pyautogui.moveTo(700, 300, duration = 1)\n",
    "pyautogui.moveTo(30, 40, duration = 1)\n",
    "pyautogui.moveTo(620, 620, duration = 1)"
   ]
  },
  {
   "cell_type": "code",
   "execution_count": 8,
   "id": "polyphonic-disabled",
   "metadata": {
    "scrolled": true
   },
   "outputs": [],
   "source": [
    "pyautogui.FAILSAFE = False    #이 줄이 없으면 마이너스로 마우스 변경이 안되서 오류남\n",
    "pyautogui.moveTo(-100, -100) "
   ]
  },
  {
   "cell_type": "code",
   "execution_count": 9,
   "id": "frequent-blackberry",
   "metadata": {},
   "outputs": [],
   "source": [
    "pyautogui.moveTo(400, 500, duration=1)\n",
    "pyautogui.click()  #클릭이 실행됨"
   ]
  },
  {
   "cell_type": "code",
   "execution_count": 10,
   "id": "cognitive-teddy",
   "metadata": {},
   "outputs": [],
   "source": [
    "pyautogui.click(400, 500, duration=1)"
   ]
  },
  {
   "cell_type": "code",
   "execution_count": 18,
   "id": "noble-retailer",
   "metadata": {},
   "outputs": [],
   "source": [
    "pyautogui.moveTo(400, 500, duration=1)\n",
    "pyautogui.dragTo(600, 900, duration=1)"
   ]
  },
  {
   "cell_type": "code",
   "execution_count": null,
   "id": "backed-holiday",
   "metadata": {},
   "outputs": [],
   "source": [
    "pyautogui.PAUSE = 0.1  #명령 사이 간격을 0.1초로 준다"
   ]
  },
  {
   "cell_type": "code",
   "execution_count": 17,
   "id": "destroyed-scenario",
   "metadata": {},
   "outputs": [],
   "source": [
    "import time\n",
    "time.sleep(2)  #명령과 명령 사이의 시간 간격을 줄 때 사용"
   ]
  },
  {
   "cell_type": "code",
   "execution_count": 19,
   "id": "demanding-meaning",
   "metadata": {},
   "outputs": [],
   "source": [
    "buttons = {'1': (66, 522),'2':(185, 530), '3':(310, 530)}  #계산기를 캡쳐해 그 위치에 맞는 숫자를 넣음"
   ]
  },
  {
   "cell_type": "code",
   "execution_count": 22,
   "id": "coral-sheep",
   "metadata": {},
   "outputs": [],
   "source": [
    "x, y= buttons['1']  #버튼 1에 대한 좌표를 얻는다\n",
    "pyautogui.click(x, y)  #해당 좌표ㅛ 클릭\n",
    "\n",
    "x, y= buttons['2']\n",
    "pyautogui.click(x, y)\n",
    "\n",
    "x, y= buttons['3']\n",
    "pyautogui.click(x, y)"
   ]
  },
  {
   "cell_type": "code",
   "execution_count": 23,
   "id": "phantom-clinic",
   "metadata": {},
   "outputs": [],
   "source": [
    "for c in '123':   #위를 단순하게 for문을 사용해서 나타내기\n",
    "    x, y= buttons[c]\n",
    "    pyautogui.click(x,y)"
   ]
  },
  {
   "cell_type": "code",
   "execution_count": 24,
   "id": "about-windows",
   "metadata": {},
   "outputs": [],
   "source": [
    "for c in '123':\n",
    "    x, y= buttons[c]\n",
    "    pyautogui.click(x,y, duration=1)"
   ]
  },
  {
   "cell_type": "code",
   "execution_count": 35,
   "id": "alone-writer",
   "metadata": {},
   "outputs": [],
   "source": [
    "buttons = {'1': (66, 522),'2':(185, 530), '3':(310, 530), '4':(66,466), '5':(188, 466), '6':(310, 466), \n",
    "           '7':(63, 403), '8':(190, 403), '9':(190, 309),'0':(185, 590), '+':(432, 526), '-':(429, 465),\n",
    "           '*':(430, 403), '/':(433, 338), '=':(432, 591), 'C':(309, 278), '.':(312, 595)}"
   ]
  },
  {
   "cell_type": "code",
   "execution_count": 36,
   "id": "immune-absolute",
   "metadata": {},
   "outputs": [],
   "source": [
    "#계산기 프로그램 실행시킬 연산\n",
    "for c in 'C3+4*2=':\n",
    "    x,y = buttons[c]\n",
    "    pyautogui.click(x, y, duration=1)"
   ]
  },
  {
   "cell_type": "markdown",
   "id": "fuzzy-purple",
   "metadata": {},
   "source": [
    "pyautogui 마우스 핸들링   \n",
    "• 화면에 여러 개의 애플리케이션이나 웹브라우저가 있는 경우에는 그러한 화면에 보이는 것에 따라 마우스 핸들링의 결과가 달라질 수 있으므로 마우스 핸들링을 특정화면에서 처리하여야 한다면 다른 어플리케이션과 웹브라우저를 모두 닫고 마우스 핸들링을 처리하는 것이 좋다  \n",
    "• position() – 마우스의 현재 x, y 좌표를 튜플로 반환  \n",
    "• size() – 메인 모니터의 가로 세로 크기를 반환  \n",
    "• onScreen() – 현재 커서가 메인 모니터의 가로 세로 크기 안에 들어가는지를 True/False로 반환  \n",
    "• move(x, y) – 이동하고자 하는 (x, y, duration) 좌표로 이동, duration옵션은 초단위 설정"
   ]
  },
  {
   "cell_type": "code",
   "execution_count": 37,
   "id": "limiting-mixer",
   "metadata": {},
   "outputs": [
    {
     "data": {
      "text/plain": [
       "True"
      ]
     },
     "execution_count": 37,
     "metadata": {},
     "output_type": "execute_result"
    }
   ],
   "source": [
    "import pyautogui as p\n",
    "import time\n",
    "time.sleep(2) #2초간 인터벌을 인위적으로 부여\n",
    "p.position() #현재 x축과 y축의 좌표 반환\n",
    "p.size()\n",
    "p.onScreen(300, 300)"
   ]
  },
  {
   "cell_type": "markdown",
   "id": "hybrid-gazette",
   "metadata": {},
   "source": [
    "pyautogui 마우스 핸들링   \n",
    "• moveRel(x, y, duration) – 커서의 현재 위치에서 상대적인 (x, y) 좌표로 이동, duration옵션은 초단위 설정  \n",
    "• dragTo(x, y) – 드래그 앤 드롭을 할 (x, y) 좌표에 왼쪽 또는 오른쪽 클릭을 선택 후 드래그 앤 드롭을 해준다.  \n",
    "• click(x, y, button) – 아무 옵션이 없는 경우 마우스의 현재 위치에서 왼쪽 한 번 클릭을 반환  \n",
    "• doubleClick() – 아무 업션이 없는 경우 마우스의 현재 위치에서 왼쪽 두 번 클릭을 반환  \n",
    "• rightClick(x, y) – 원하는 좌표에서 마우스 오른쪽 한 번 클릭  \n",
    "• scroll(n) – 마우스 스크롤, 양수는 위로 스크롤, 음수는 아래로 스크롤  "
   ]
  },
  {
   "cell_type": "code",
   "execution_count": 44,
   "id": "chronic-terror",
   "metadata": {},
   "outputs": [],
   "source": [
    "import pyautogui as p\n",
    "import time\n",
    "p.moveRel(500, 500, duration=1)\n",
    "time.sleep(2)\n",
    "p.dragTo(931, 347, 1, button='left')\n",
    "p.click(x=487, y=142, button='right')\n",
    "p.rightClick(x=487, y=142)\n",
    "p.scroll(-1000) #아래로 1000번 스크롤\n",
    "p.scroll(1000) #위로 1000번 스크롤"
   ]
  },
  {
   "cell_type": "markdown",
   "id": "appointed-organ",
   "metadata": {},
   "source": [
    "pyautogui 마우스 핸들링    \n",
    "• dragRel(dx, dy, duration) – 현재 위치에서 (dx, dy) 위치까지 드래그   \n",
    "• middleClick(x, y, button) – (x, y) 위치에서 중간 버튼 클릭을 반환   \n",
    "• doubleClick(x, y) – (x, y) 위치에서 왼쪽 두 번 클릭을 반환    \n",
    "• rightClick(x, y) – 원하는 좌표에서 마우스 오른쪽 한 번 클릭  \n",
    "• mouseDown(x, y, button)   \n",
    "• mouseUp(x, y, button)  "
   ]
  },
  {
   "cell_type": "code",
   "execution_count": 45,
   "id": "declared-chest",
   "metadata": {},
   "outputs": [
    {
     "name": "stdout",
     "output_type": "stream",
     "text": [
      "Size(width=1920, height=1080)\n",
      "1094\n",
      "685\n"
     ]
    }
   ],
   "source": [
    "import pyautogui\n",
    "\n",
    "position = pyautogui.position() # 좌표 객체 얻기\n",
    "print(pyautogui.size()) # 화면 전체 크기 확인하기\n",
    "print(position.x) # x, y 좌표\n",
    "print(position.y)\n",
    "pyautogui.moveTo(500, 500) # 마우스 이동 (x 좌표, y 좌표)\n",
    "pyautogui.moveTo(100, 100, 2) # 마우스 이동 (x 좌표, y 좌표 2초간)\n",
    "pyautogui.moveRel(200, 300, 2) # 마우스 이동 ( 현재위치에서 )\n",
    "pyautogui.click() # 마우스 클릭\n",
    "pyautogui.click(clicks= 2, interval=2) # 2초 간격으로 2번 클릭\n",
    "pyautogui.doubleClick() # 더블 클릭\n",
    "pyautogui.click(button='right') # 오른쪽 클릭\n",
    "pyautogui.scroll(10) # 스크롤하기\n",
    "pyautogui.drag(0, 300, 1, button='left') # 드래그하기"
   ]
  },
  {
   "cell_type": "markdown",
   "id": "cultural-anger",
   "metadata": {},
   "source": [
    "화면 범위를 벗어난 위치를 지정하면 pyautogui.FailSefeException 예외 발생  \n",
    "pyautogui.FAILSAFE = False로 설정하면 예외가 발생하지 않는다  \n",
    "pyautogui.PAUSE =0.1 은 pyautogui 모듈의 모든 명령 사이의 시간 간격을 0.1초로 설정  "
   ]
  },
  {
   "cell_type": "markdown",
   "id": "introductory-terror",
   "metadata": {},
   "source": [
    "pyautogui - 이미지 추출 검색   \n",
    "• 계산기 프로그램의 위치가    달라져도 이미지로 추 하고 저장한 다음, 화면상에서 이미지의 위치를 기준으로 상대적 위치를 클릭    \n",
    "• 프로그램의 위치를 대표할 수 있는 이미지를 선정하고 이미지를 캡처하여 저장 (프로그램 고유의 특징을 보여주는 이미지를 선택)         \n",
    "• 이미지 형식은 손실 압축 처리를 하지 않는 png 형식이어야 한다  \n",
    "• locateOnScreen(image_path) - 이미지의 좌표 반환  \n",
    "• locateCenterOnScreen(image_path) - 이미지의 중심 좌표 반환    \n",
    "• locateAllOnScreen(image_path) - 화면에 동일한 이미지의 모든 좌표를 반환   \n",
    "• screenshot() - 전체 화면 캡처(스트린샷) 반환 Pillow paython 모듈의 PIL(Python Image Library) Image객체 반환"
   ]
  },
  {
   "cell_type": "code",
   "execution_count": 15,
   "id": "altered-spirit",
   "metadata": {},
   "outputs": [],
   "source": [
    "#캡처 도구등을 이용하여 필요한 작은 영역만 캡처하여 이미지로 저장 예) img1.png\n",
    "import pyautogui\n",
    "pyautogui.locateOnScreen('1.png')"
   ]
  },
  {
   "cell_type": "code",
   "execution_count": 16,
   "id": "registered-architecture",
   "metadata": {},
   "outputs": [
    {
     "data": {
      "text/plain": [
       "Point(x=44, y=321)"
      ]
     },
     "execution_count": 16,
     "metadata": {},
     "output_type": "execute_result"
    }
   ],
   "source": [
    "pyautogui.center((26, 308, 36, 26))"
   ]
  },
  {
   "cell_type": "code",
   "execution_count": 17,
   "id": "personalized-class",
   "metadata": {},
   "outputs": [],
   "source": [
    "pyautogui.locateCenterOnScreen('1.png')"
   ]
  },
  {
   "cell_type": "code",
   "execution_count": 18,
   "id": "intermediate-mailman",
   "metadata": {},
   "outputs": [
    {
     "data": {
      "text/plain": [
       "PIL.Image.Image"
      ]
     },
     "execution_count": 18,
     "metadata": {},
     "output_type": "execute_result"
    }
   ],
   "source": [
    "im = pyautogui.screenshot()\n",
    "type(im)"
   ]
  },
  {
   "cell_type": "markdown",
   "id": "stupid-surprise",
   "metadata": {},
   "source": [
    "pyautogui - 이미지 추출 검색\n",
    "• pixel(x, y) - 좌표의 색상 정보를 반환\n",
    "• pixelMatchesColor(x, y, (r, g, b)) - 좌표의 색상이 세번째 인수인 색상과 일치하는지 확인\n",
    "• crap((좌, 상, 우, 하)) - Image객체의 일부 영역을 잘라 낸 이미지 반환"
   ]
  },
  {
   "cell_type": "code",
   "execution_count": 29,
   "id": "liable-particle",
   "metadata": {},
   "outputs": [],
   "source": [
    "im = pyautogui.screenshot('screen_shot.png')"
   ]
  },
  {
   "cell_type": "code",
   "execution_count": 30,
   "id": "closing-sudan",
   "metadata": {
    "scrolled": true
   },
   "outputs": [
    {
     "data": {
      "text/plain": [
       "(247, 247, 247)"
      ]
     },
     "execution_count": 30,
     "metadata": {},
     "output_type": "execute_result"
    }
   ],
   "source": [
    "im.getpixel((100, 100)) # (x, y) 좌표의 RGB 색상 정보를 반환"
   ]
  },
  {
   "cell_type": "code",
   "execution_count": 32,
   "id": "iraqi-bumper",
   "metadata": {},
   "outputs": [
    {
     "data": {
      "text/plain": [
       "True"
      ]
     },
     "execution_count": 32,
     "metadata": {},
     "output_type": "execute_result"
    }
   ],
   "source": [
    "pyautogui.pixelMatchesColor(100, 100, (247, 247, 247))"
   ]
  },
  {
   "cell_type": "code",
   "execution_count": 34,
   "id": "broke-shoulder",
   "metadata": {},
   "outputs": [],
   "source": [
    "icon = im.crop((1016, 530, 1140, 590)) # (좌,상,우,하)\n",
    "icon # 이미지 확인\n",
    "icon.save('button1.png')"
   ]
  },
  {
   "cell_type": "markdown",
   "id": "naughty-technique",
   "metadata": {},
   "source": [
    "pyautogui - 키입력 자동화  \n",
    "subprocess모듈의 Popen(실행할 프로그램의 전체 경로) - 프로그램 자동 실행   \n",
    "Popen() 안에 실행할 프로그램의 전체 경로를 입력해야 하지만, 실행 파일이 검색 폴더에 등록되어 있는 경우 파일 이름만 입력해도 실행할 수 있다   \n",
    "C:\\Windows\\System32 폴더는 윈도우 기본 실행 파일 경로에 포함되어 있다    \n",
    "typewrite() - 인쇄 가능한 문자열을 자동 입력    \n",
    "press() - 인쇄 가능하지 않은 키를 입력 (ESC, Backspace등), 키 이름 문자열의 리스트를 차례로 키로 입력\n",
    "사용되는 키 이름들은 pyautogui 모듈의 KEY_NAMES 혹은 KEYBOARD_KEYS 변수로 확인 할 수 있다   "
   ]
  },
  {
   "cell_type": "code",
   "execution_count": 49,
   "id": "variable-philadelphia",
   "metadata": {},
   "outputs": [],
   "source": [
    "import pyautogui\n",
    "from subprocess import Popen\n",
    "import time\n",
    "\n",
    "\n",
    "Popen('calc') # 계산기를 실행한다.\n",
    "time.sleep(3.0) # 계산기가 실행될 동안 잠시 대기\n",
    "pyautogui.typewrite('123+456=', interval=0.1) # 0.1초 간격으로 123+456 키 입력"
   ]
  },
  {
   "cell_type": "code",
   "execution_count": 42,
   "id": "hydraulic-feelings",
   "metadata": {},
   "outputs": [
    {
     "data": {
      "text/plain": [
       "['escape', 'execute', 'f1', 'f10', 'f11', 'f12', 'f13', 'f14', 'f15', 'f16']"
      ]
     },
     "execution_count": 42,
     "metadata": {},
     "output_type": "execute_result"
    }
   ],
   "source": [
    "pyautogui.KEY_NAMES[100:110]  #키이름확인 , KEYBORAD_KEYS 변수로 확인 가능"
   ]
  },
  {
   "cell_type": "code",
   "execution_count": 55,
   "id": "continuous-royalty",
   "metadata": {},
   "outputs": [],
   "source": [
    "#pyautogui - 키보드 자동화로 계산기 연산\n",
    "import pyautogui\n",
    "from subprocess import Popen\n",
    "import time\n",
    "\n",
    "Popen('calc') # 계산기를 실행한다.\n",
    "\n",
    "time.sleep(2) # 계산기가 실행될 동안 잠시 대기\n",
    "\n",
    "pyautogui.hotkey('alt', '2', interval=0.5) # 공학 모드로 전환\n",
    "pyautogui.press(['f3']) # Degree 모드로 전환\n",
    "pyautogui.typewrite('90s=', interval=0.3) # sin(90도) => 1\n",
    "\n",
    "time.sleep(1) # 잠시 대기\n",
    "pyautogui.press(['esc']) # 화면 클리어\n",
    "time.sleep(1) # 잠시 대기\n",
    "pyautogui.hotkey('alt', '1') # 일반 모드로 전환"
   ]
  },
  {
   "cell_type": "markdown",
   "id": "addressed-blind",
   "metadata": {},
   "source": [
    "키보드 제어에 사용되는 키 이름  \n",
    "enter, return  \n",
    "esc, tab, backsapce, delete, insert  \n",
    "up, down, left, right, pageup, pagedown, home, end  \n",
    "f1, f2, ....  \n",
    "winleft, winright  \n",
    "pause, printscreen  \n",
    "capslock, numlock, scrolllock  \n",
    "command, option  \n",
    "haguel"
   ]
  },
  {
   "cell_type": "code",
   "execution_count": 56,
   "id": "reasonable-boxing",
   "metadata": {},
   "outputs": [],
   "source": [
    "#pyautogui - 키입력 자동화 한글 입력\n",
    "#방법 1 -한글 전환 키를 누르고 한글 자판을 입력하듯이 영문 자판을 입력\n",
    "\n",
    "import pyautogui\n",
    "from subprocess import Popen\n",
    "import time\n",
    "Popen('notepad') # 메모장을 실행한다.\n",
    "time.sleep(3) # 1초 대기\n",
    "pyautogui.press(['hangul']) # 한글 모드로 전환\n",
    "pyautogui.typewrite('tpwhdeodhkdakstp', interval=0.1) # 한글 자판 입력하듯이 영문 자판입력"
   ]
  },
  {
   "cell_type": "code",
   "execution_count": 57,
   "id": "imperial-nigeria",
   "metadata": {},
   "outputs": [],
   "source": [
    "#방법 2 - 한글 텍스트를 클립보드에 저장했다가 꺼내어 쓰는 방법\n",
    "#pyperclip 모듈의 copy() - 클립보드 영역에 복사, paste() - 복사한 텍스트를 필요한 시점에 넣기\n",
    "\n",
    "import pyperclip\n",
    "import pyautogui\n",
    "from subprocess import Popen\n",
    "import time\n",
    "Popen('notepad')\n",
    "time.sleep(3)\n",
    "message = '''\n",
    "박지성은 대한민국의 전직 축구선수이다.\n",
    "수원 산남초등학교에서 처음 축구선수 생활을 시작해 2000년 일본 교토 퍼플상가에서 프로로 데뷔하였고\n",
    "네덜란드 PSV 아인트호벤, 잉글랜드 맨체스터 유나이티드, 퀸즈 파크 레인저스(QPR)에서 활약하였다.\n",
    "이후 2014년 아인트호벤으로 돌아와 은퇴. 국가대표로서는 2010년 남아공 월드컵 주장 등으로 활약했다.\n",
    "은퇴 이후엔 JS파운데이션 이사장이면서 맨체스터 유나이티드 홍보대사(ambassador)로 활동 중이다.\n",
    "- from 나무위키\n",
    "'''\n",
    "# 메모장은 \\r\\n을 줄바꿈 코드로 인식하므로 replace가 필요하다\n",
    "message = message.replace('\\n', '\\r\\n')\n",
    "pyperclip.copy(message) # 클립보드에 메시지를 복사\n",
    "pyautogui.hotkey('ctrl', 'v') # 클립보드에서 메시지를 가져다 붙여넣기"
   ]
  },
  {
   "cell_type": "markdown",
   "id": "inclusive-lewis",
   "metadata": {},
   "source": [
    "pyautogui 키보드 핸들링   \n",
    "• write() - string안에 있는 character를 타이핑하는 함수, 타이핑되는 문자의 인터벌을 int 또는 float 인자값으로 부여   \n",
    "• pyautogui 는 한글에 대한 적용이 안되므로 한글을 입력하려면, pyperclip 모듈을 통해서 할 수  있다  \n",
    "• write 함수만으로는 Shift 키나, Ctrl 키 등 문자가 아닌 키를 누를 수 없다   \n",
    "• keyDown() - 입력한 key를 누르는 함수   \n",
    "• keyUp() - 입력한 key를 떼는 함수   "
   ]
  },
  {
   "cell_type": "code",
   "execution_count": null,
   "id": "functional-operator",
   "metadata": {},
   "outputs": [],
   "source": [
    "import pyautogui as p\n",
    "\n",
    "pyautogui.write('hello world!') # 괄호 안의 문자를 타이핑 합니다.\n",
    "pyautogui.write('hello world!', interval=0.25) # 각 문자를 0.25마다 타이핑합니다.\n",
    "p.keyDown('win') # 윈도우 키 누르기\n",
    "p,keyUp('win') #윈도우 키 떼기\n",
    "p.keyDown('left') # 방향 키 왼쪽 누르기\n",
    "p,keyUp('left') #방향 키 오른쪽 떼기\n",
    "p.keyDown('shift') # shift 키 누르기"
   ]
  },
  {
   "cell_type": "markdown",
   "id": "brown-quest",
   "metadata": {},
   "source": [
    "pyautogui 키보드 핸들링    \n",
    "• press() - 키보드 키를 사용하는 함수, 복수의 키를 사용하거나 반복해서 사용할 수 있다    \n",
    "keyDown() 이후 keyUp()을 실행한 것과 동일하다.    \n",
    "• hotkey() - 설정한 2개 이상의 키보드 키를 keyDown하고 KeyUp하는 함수, 키보드 단축키를 편하게 활용할 수 있다"
   ]
  },
  {
   "cell_type": "code",
   "execution_count": null,
   "id": "virgin-september",
   "metadata": {},
   "outputs": [],
   "source": [
    "import pyautogui as p\n",
    "p.press('enter')\n",
    "p.press('f1')\n",
    "p.press('left')\n",
    "p.press(['a', 'b', 'c'], 2) # 'a', 'b', 'c' 문자를 2번 입력\n",
    "p.press(['#', '^', '_'], 2, 1) # 1초 간격을 두어 '#', '^', '_' 문자를 2번 입력\n",
    "pyautogui.press(['left', 'left', 'left']) # 왼쪽 방향키를 세번 입력합니다.\n",
    "pyautogui.press('left', presses=3) # 왼쪽 방향키를 세번 입력합니다.\n",
    "pyautogui.press('enter', presses=3, interval=3) # enter 키를 3초에 한번씩 세번 입력합니다.\n",
    "p.hotkey('ctrl', 'shift', 'esc')"
   ]
  },
  {
   "cell_type": "markdown",
   "id": "level-development",
   "metadata": {},
   "source": [
    "  Pyautogui 메시지 박스\n",
    "• alert() - 가장 기본적인 메시지 박스로 문자열과 버튼을 생성  \n",
    "• confirm() - 여러 개의 버튼을 가진 메시지 박스 생성  \n",
    "• prompt() - 문자열 입력값을 받는 메시지 박스 생성, 입력한 텍스트를 리턴, Cancel을 누르면 None 값이 리턴   \n",
    "• password() - 문자열 입력값을 받을 때 ‘*’로 마스크 처리되어 표시되는 메시지 박스를 생성  "
   ]
  },
  {
   "cell_type": "code",
   "execution_count": 58,
   "id": "sacred-vocabulary",
   "metadata": {},
   "outputs": [
    {
     "name": "stdout",
     "output_type": "stream",
     "text": [
      "OK\n",
      "OK\n",
      "입력하세요\n",
      "입력하세요\n"
     ]
    }
   ],
   "source": [
    "import pyautogui as pg\n",
    "\n",
    "a = pg.alert(text='내용입니다', title='제목입니다', button='OK')\n",
    "print(a)\n",
    "a = pg.confirm(text='내용입니다', title='제목입니다', buttons=['OK', 'Cancel'])\n",
    "print(a)\n",
    "a = pg.prompt(text='내용입니다', title='제목입니다', default='입력하세요')\n",
    "print(a)\n",
    "a = pg.password(text='내용입니다', title='제목입니다', default='입력하세요', mask='*')\n",
    "print(a)"
   ]
  },
  {
   "cell_type": "code",
   "execution_count": 60,
   "id": "passing-outreach",
   "metadata": {},
   "outputs": [
    {
     "data": {
      "text/plain": [
       "True"
      ]
     },
     "execution_count": 60,
     "metadata": {},
     "output_type": "execute_result"
    }
   ],
   "source": [
    "import webbrowser\n",
    "\n",
    "webbrowser.open('http://www.naver.com')  #웹 브라우저 열기"
   ]
  },
  {
   "cell_type": "code",
   "execution_count": 61,
   "id": "horizontal-station",
   "metadata": {
    "scrolled": true
   },
   "outputs": [
    {
     "data": {
      "text/plain": [
       "<subprocess.Popen at 0x17ff168cbc8>"
      ]
     },
     "execution_count": 61,
     "metadata": {},
     "output_type": "execute_result"
    }
   ],
   "source": [
    "Popen(['notepad', 'test.txt'])  #메모장 실행"
   ]
  },
  {
   "cell_type": "code",
   "execution_count": 68,
   "id": "provincial-collectible",
   "metadata": {},
   "outputs": [
    {
     "name": "stdout",
     "output_type": "stream",
     "text": [
      " C 드라이브의 볼륨: Windows\r\n",
      " 볼륨 일련 번호: 3838-B871\r\n",
      "\r\n",
      " C:\\workspace\\basic 디렉터리\r\n",
      "\r\n",
      "2021-04-15  오후 04:27    <DIR>          .\r\n",
      "2021-04-15  오후 04:27    <DIR>          ..\r\n",
      "2021-04-15  오후 04:07    <DIR>          .ipynb_checkpoints\r\n",
      "2021-04-15  오후 02:55             4,908 1.png\r\n",
      "2021-04-15  오후 03:19\n"
     ]
    }
   ],
   "source": [
    "from subprocess import Popen, PIPE\n",
    "#콘솔(도스창)에서 실행한 명령의 텍스트 결과를 받으려면 stdout 인수에 연결된 PIPE 설정\n",
    "pipe = Popen('dir', shell=True, stdout=PIPE)\n",
    "#파이프의 출력 결과는 바이트형 -> 문자열로 반환, decode() 함수 사용\n",
    "print(pipe.stdout.read().decode('cp949')[:284])"
   ]
  }
 ],
 "metadata": {
  "kernelspec": {
   "display_name": "Python 3",
   "language": "python",
   "name": "python3"
  },
  "language_info": {
   "codemirror_mode": {
    "name": "ipython",
    "version": 3
   },
   "file_extension": ".py",
   "mimetype": "text/x-python",
   "name": "python",
   "nbconvert_exporter": "python",
   "pygments_lexer": "ipython3",
   "version": "3.7.10"
  }
 },
 "nbformat": 4,
 "nbformat_minor": 5
}
