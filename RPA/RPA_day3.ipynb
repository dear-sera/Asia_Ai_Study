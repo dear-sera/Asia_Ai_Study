{
 "cells": [
  {
   "cell_type": "markdown",
   "metadata": {},
   "source": [
    "### 문서 자동화"
   ]
  },
  {
   "cell_type": "markdown",
   "metadata": {},
   "source": [
    "워드 문서 자동화     \n",
    "• python-docx 모듈   \n",
    "• Document객체.add_paragraph()로 문단을 추가, 스타일(제목, 헤딩 등에) 지정     \n",
    "• Document객체.add_heading()   \n",
    "\n",
    "https://python-docx.readthedocs.io/en/latest/ 참고하기"
   ]
  },
  {
   "cell_type": "code",
   "execution_count": 11,
   "metadata": {},
   "outputs": [],
   "source": [
    "from docx import Document\n",
    "from docx.enum.text import WD_ALIGN_PARAGRAPH\n",
    "from docx.enum.table import WD_ALIGN_PARAGRAPH\n",
    "from docx.shared import Mm\n",
    "\n",
    "doc = Document()  #document = 문서\n",
    "\n",
    "p = doc.add_heading('왕방산 국제 MTB대회', 0)  #제목 추가\n",
    "#본문은 add_paragraphs()함수를 이용해 입력해 준다.\n",
    "#이후 같은 paragraphs에 입력을 원할경우 add_run() 함수를 사용한다.\n",
    "p = doc.add_paragraph('왕방산에 만들어진 산악자전거 도로를 돌아보는자전거 경주대회인 ', style='Normal')\n",
    "p.add_run('‘왕방산 국제 MTB대회’').bold = True\n",
    "p.add_run('는 명실상부한 최고의 산악자전거 대회로 자리매김하였습니다.')\n",
    "p.add_run('천혜의 자연경관').italic = True\n",
    "p.add_run('과 함께 왕방산의 정취를 느껴보시기 바랍니다.')\n",
    "          \n",
    "doc.add_heading('대회소개', level=1)\n",
    "doc.add_paragraph('접수처: 대한자전거연맹', style='List Bullet')\n",
    "doc.add_paragraph('문의사항: 문의사항 : ☎02-420-4247', style= 'List Bullet')\n",
    "\n",
    "my_image = doc.add_picture('./1.png', width=Mm(100))  #사진추가, width=가로길이\n",
    "last_paragraph = doc.paragraphs[-1]\n",
    "last_paragraph.alignment = WD_ALIGN_PARAGRAPH.CENTER  #중앙정렬 한다는 것\n",
    "\n",
    "doc.add_page_break()  #페이지 끊고 다음 페이지로\n",
    "\n",
    "my_image = doc.add_picture('./2.png', width=Mm(100))\n",
    "last_paragraph = doc.paragraphs[-1]\n",
    "last_paragraph.alignment = WD_ALIGN_PARAGRAPH.CENTER\n",
    "\n",
    "records = (\n",
    "('XC10', '690,000', '14.5kg'),\n",
    "('XC20', '790,000', '13.5kg'),\n",
    "('XC30', '890,000', '14.5kg')\n",
    ")\n",
    "\n",
    "table = doc.add_table(rows=1, cols=3)  #테이블 표 생성, 1행 3열\n",
    "table.style = 'Table Grid'\n",
    "hdr_cells = table.rows[0].cells  #첫 행의 모든 셀 반환\n",
    "hdr_cells[0].text = '모델명'  #1번째 셀\n",
    "hdr_cells[0].paragraphs[0].runs[0].font.bold = True\n",
    "hdr_cells[1].text = '가격'   #2번째 셀(행)\n",
    "hdr_cells[1].paragraphs[0].runs[0].font.bold = True\n",
    "hdr_cells[2].text = '무게'   #3번째 셀(행)\n",
    "hdr_cells[2].paragraphs[0].runs[0].font.bold = True\n",
    "\n",
    "for qty, id, desc in records:\n",
    "    row_cells = table.add_row().cells\n",
    "    row_cells[0].text = str(qty)  #1번째 셀에 qty들어감\n",
    "    row_cells[1].text = id\n",
    "    row_cells[2].text = desc\n",
    "\n",
    "doc.save('demo1.docx')  #문서 저장\n",
    "\n",
    "#표 정렬 코드 예시\n",
    "from docx.enum.table import WD_ALIGN_PARAGRAPH\n",
    "\n",
    "table = doc.add_table(3,3)\n",
    "table.cell(0, 0).vertical_alignment = WD_ALIGN_VERTICAL.CENTER\n",
    "\n",
    "table.alignment = WD_TABLE_ALIGNMENT.CENTER"
   ]
  },
  {
   "cell_type": "markdown",
   "metadata": {},
   "source": [
    "문서 자동화  \n",
    "• os.startfile(출력파일, “print”) - 두번째 인수 print는 가상 프린터가 아닌 실제 기본 프린트로 문서를 출력"
   ]
  },
  {
   "cell_type": "code",
   "execution_count": 1,
   "metadata": {},
   "outputs": [],
   "source": [
    "import os\n",
    "\n",
    "#getcwd = 현재 작업 경로를 얻음\n",
    "template_file = os.path.join(os.getcwd(), \"demo1.docx\") # 문서 파일 경로\n",
    "os.startfile(template_file, \"print\")  #print는 진짜 프린터기로 출력하는 것"
   ]
  },
  {
   "cell_type": "markdown",
   "metadata": {},
   "source": [
    "문서 자동화 - 워드를 PDF 문서로 저장   \n",
    "• pywin32 모듈"
   ]
  },
  {
   "cell_type": "code",
   "execution_count": 3,
   "metadata": {},
   "outputs": [],
   "source": [
    "import os\n",
    "from win32com.client import Dispatch\n",
    "\n",
    "wordapp = Dispatch(\"Word.Application\")   #word프로그램을 실행시킴\n",
    "\n",
    "fpath = os.path.join(os.getcwd(), \"demo1.docx\") # 파일 경로\n",
    "myDoc = wordapp.Documents.Open(FileName=fpath)  #워드문서를 documents객체로 반환\n",
    "\n",
    "pdf_path = os.path.join(os.getcwd(), \"test_saved.pdf\") # PDF로 저장\n",
    "myDoc.SaveAs(pdf_path, FileFormat=17)  #SaveAs = 다른이름으로 저장\n",
    "\n",
    "myDoc.Close()\n",
    "wordapp.Quit()"
   ]
  },
  {
   "cell_type": "markdown",
   "metadata": {},
   "source": [
    "문서 자동화 - PDF 문서에 암호 넣기   \n",
    "• PyPDF2 모듈 - PDF에 암호 넣는 기능 지워, 한굴이 포함된 경우는 UnicodeEncodeError 발생     \n",
    "• qpdf 라이브러리 - https://sourceforge.net/projects/qpdf/    \n",
    "• qpdf.exe --encrypt 패스워드 패스워드 128 -- 원본파일.pdf 암호적용파일.pdf (명령 형식, 패스워드 두번 반복)"
   ]
  },
  {
   "cell_type": "code",
   "execution_count": 12,
   "metadata": {},
   "outputs": [
    {
     "data": {
      "text/plain": [
       "<subprocess.Popen at 0x1209c4d09d0>"
      ]
     },
     "execution_count": 12,
     "metadata": {},
     "output_type": "execute_result"
    }
   ],
   "source": [
    "from subprocess import Popen\n",
    "\n",
    "pdf_without_pass = \"test_saved.pdf\"  #암호없이 문서명 지정\n",
    "pdf_with_pass = \"test_saved2.pdf\"  #암호 생성, 문서명 지정\n",
    "password = \"1234\"  #비밀번호\n",
    "\n",
    "\n",
    "#qpdf-10.3.1= 실행도구(qpdf 라이브러리 url에서 다운받아야 함), bin파일 아래, 암호 기본 방식 128\n",
    "#test_saved.pdf 파일만 있으면 test_saved2가 암호걸린 상태로 만들어짐\n",
    "Popen(r\"qpdf-10.3.1\\bin\\qpdf.exe --encrypt {0} {0} 128 -- {1} {2}\".format(\n",
    "password, pdf_without_pass, pdf_with_pass).split())"
   ]
  },
  {
   "cell_type": "markdown",
   "metadata": {},
   "source": [
    "PDF 문서 다루기 - 웹 페이지를 PDF로 저장  \n",
    "• pdfkit 모듈 - https://pypi.org/project/pdfkit  \n",
    "• wkhtmltopdf 모듈 - https://wkhtmltopdf.org/  \n",
    "\n",
    "https://wkhtmltopdf.org/ 라이브러리 다운받기\n",
    "\n",
    "html문서 pdf로 변환  \n",
    "pdfkit 모듈은 wkhtmltopdf 유틸리티를 사용해서 웹 페이지 또는 저장된 HTML문서를 PDF로 변환  \n",
    "wkhtmltopdf 설치, 실행 프로그램 경로를 config에 지정함  \n",
    "pdfkit모듈의 from_url(), from_string(), from_file() 함수들로 변환  \n",
    "\n",
    "option quiet은 wkhtmltopdf 실행 결과를 화면에 출력하지 않고 변환하도록 하는 옵션   \n"
   ]
  },
  {
   "cell_type": "code",
   "execution_count": 4,
   "metadata": {},
   "outputs": [
    {
     "data": {
      "text/plain": [
       "True"
      ]
     },
     "execution_count": 4,
     "metadata": {},
     "output_type": "execute_result"
    }
   ],
   "source": [
    "import pdfkit\n",
    "\n",
    "options = {'quiet': ''} # wkhtmltopdf 출력값을 화면에 표시하지 않는다\n",
    "config = pdfkit.configuration(wkhtmltopdf=r'C:\\Program Files\\wkhtmltopdf\\bin\\wkhtmltopdf.exe')\n",
    "\n",
    "#url or html or string을 pdf로 변환, configuration= 구성 , config=설정값\n",
    "#pdfkit.from_url('http://naver.com', 'naver.pdf', options=options, configuration=config)\n",
    "#pdfkit.from_string('Hello!', 'string.pdf', options=options, configuration=config)\n",
    "pdfkit.from_file('test.html', 'html.pdf', options=options, configuration=config)"
   ]
  },
  {
   "cell_type": "code",
   "execution_count": null,
   "metadata": {},
   "outputs": [],
   "source": [
    "PDF 문서 다루기 - 웹 페이지를 PDF로 저장  \n",
    "• 여러 웹페이지 혹은 파일을 하나의 pdf로 만들기 위해서는 소스 파일들을 리스트에 묶어서 전달\n",
    "\n",
    "\n",
    "오류가 날 경우 이유  \n",
    "1. 웹 서버에 요청 > connection문제 발생 가능성 있음    \n",
    "2. welcome 페이지(main.html, index.html) 로드(client브라우저로 download)> network속도 문제 발생 가능성\n",
    "3. html파싱, 메모리에 dom tree생성, 레더링된 결과 > 오류발생 가능성 \n",
    "4. pdf문서로 변환"
   ]
  },
  {
   "cell_type": "code",
   "execution_count": 17,
   "metadata": {},
   "outputs": [
    {
     "data": {
      "text/plain": [
       "True"
      ]
     },
     "execution_count": 17,
     "metadata": {},
     "output_type": "execute_result"
    }
   ],
   "source": [
    "import pdfkit\n",
    "\n",
    "options = {'quiet': ''} # wkhtmltopdf 출력값을 화면에 표시하지 않는다\n",
    "config = pdfkit.configuration(wkhtmltopdf=r'C:\\Program Files\\wkhtmltopdf\\bin\\wkhtmltopdf.exe')\n",
    "pdfkit.from_url(['http://naver.com', 'http://google.com'], 'naver_google.pdf', options=options, configuration=config)\n",
    "# pdfkit.from_file(['data/test.html', 'data/test2.html'], 'out/out5.pdf', options=options, configuration=config)"
   ]
  },
  {
   "cell_type": "markdown",
   "metadata": {},
   "source": [
    "PDF 문서 다루기 - 엑셀 문서를 PDF로 저장   \n",
    "• 워드 문서를 win32를 이용하여 읽어 온 후 PDF 형식으로 저장,    \n",
    "워크북의 ExportAsFixedFormat()"
   ]
  },
  {
   "cell_type": "code",
   "execution_count": 8,
   "metadata": {},
   "outputs": [],
   "source": [
    "import os\n",
    "from win32com.client import Dispatch\n",
    "\n",
    "excelApp = Dispatch(\"Excel.Application\") # 엑셀 시작\n",
    "excelApp.Visible = False\n",
    "\n",
    "fpath = os.path.abspath('sales_per_region.xlsx') # 읽어오기\n",
    "workbook = excelApp.Workbooks.Open(fpath)\n",
    "\n",
    "fpath = os.path.abspath('sample1.pdf') # pdf 포맷으로 저장하기\n",
    "workbook.ExportAsFixedFormat(0, fpath) # xlTypePDF : 0\n",
    "\n",
    "workbook.Close()\n",
    "excelApp.Quit()"
   ]
  },
  {
   "cell_type": "markdown",
   "metadata": {},
   "source": [
    "PDF 문서 다루기 - PPT 문서를 PDF로 저장  \n",
    "• PPT객체의 SaveAs()의 두번째 인수에 32 전달"
   ]
  },
  {
   "cell_type": "code",
   "execution_count": 4,
   "metadata": {},
   "outputs": [],
   "source": [
    "import os\n",
    "from win32com.client import Dispatch\n",
    "\n",
    "PPTApplication = Dispatch(\"PowerPoint.Application\") # 엑셀 시작\n",
    "PPTApplication.Visible = True\n",
    "\n",
    "fpath = os.path.abspath('벚꽃이조 최종(1).pptx') # 읽어오기\n",
    "ppt = PPTApplication.Presentations.Open(fpath)\n",
    "\n",
    "fpath = os.path.abspath('벚꽃이조 최종(1)_ppt.pdf') # pdf 포맷으로 저장하기\n",
    "ppt.SaveAs(fpath, 32) # ppSaveAsPDF\n",
    "\n",
    "ppt.Close()\n",
    "PPTApplication.Quit()"
   ]
  },
  {
   "cell_type": "markdown",
   "metadata": {},
   "source": [
    "PDF 문서 다루기 - 이미지 파일을 PDF로 저장  \n",
    "• PPT객체의 SaveAs()의 두번째 인수에 32 전달"
   ]
  },
  {
   "cell_type": "code",
   "execution_count": 7,
   "metadata": {},
   "outputs": [
    {
     "name": "stdout",
     "output_type": "stream",
     "text": [
      "Collecting reportlab\n",
      "  Downloading reportlab-3.5.67-cp38-cp38-win_amd64.whl (2.3 MB)\n",
      "Requirement already satisfied: pillow>=4.0.0 in c:\\users\\fbvl\\anaconda3\\lib\\site-packages (from reportlab) (8.0.1)\n",
      "Installing collected packages: reportlab\n",
      "Successfully installed reportlab-3.5.67\n"
     ]
    }
   ],
   "source": [
    "! pip install reportlab"
   ]
  },
  {
   "cell_type": "code",
   "execution_count": 2,
   "metadata": {},
   "outputs": [],
   "source": [
    "import glob\n",
    "from reportlab.pdfgen import canvas\n",
    "from reportlab.lib.pagesizes import A4\n",
    "from PIL import Image\n",
    "flist = glob.glob('cartoon/*.jfif') # 이미지 파일 목록을 가져오기, 이미지가 있는 폴더로 경로 변경\n",
    "pgsize = A4 # 용지 설정\n",
    "c = canvas.Canvas('cartoon.pdf', pagesize=pgsize) # 파일 저장을 위한 Canvas 객체 생성 출력 파일, 페이지 크기 변경\n",
    "w2 = pgsize[0] # 용지의 폭\n",
    "for fpath in flist:\n",
    "    im = Image.open(fpath) # 이미지를 읽는다\n",
    "    w, h = im.size # 가로, 세로 이미지 크기를 가져온다\n",
    "    r = w / h # 가로, 세로 비를 계산한다\n",
    "    h2 = w2 / r # 용지 폭에 맞추어 높이를 계산한다(비율 유지)\n",
    "    c.drawImage(fpath, 0, 0, w2, h2) # 이미지를 페이지에 그린다 \n",
    "    c.showPage() # 한 페이지 정리하고 다음 페이지로 넘어간다\n",
    "c.save()"
   ]
  },
  {
   "cell_type": "markdown",
   "metadata": {},
   "source": [
    "PDF 문서 다루기 - 여러 PDF 파일 하나로 합치기  \n",
    "• PPT객체의 SaveAs()의 두번째 인수에 32 전달"
   ]
  },
  {
   "cell_type": "code",
   "execution_count": 18,
   "metadata": {},
   "outputs": [
    {
     "name": "stdout",
     "output_type": "stream",
     "text": [
      "Collecting PyPDF2\n",
      "  Downloading PyPDF2-1.26.0.tar.gz (77 kB)\n",
      "Building wheels for collected packages: PyPDF2\n",
      "  Building wheel for PyPDF2 (setup.py): started\n",
      "  Building wheel for PyPDF2 (setup.py): finished with status 'done'\n",
      "  Created wheel for PyPDF2: filename=PyPDF2-1.26.0-py3-none-any.whl size=61087 sha256=4f4223855654196fd82335b4fe5f1c4af509cda5732b06b05edc4740ccc6ef41\n",
      "  Stored in directory: c:\\users\\fbvl\\appdata\\local\\pip\\cache\\wheels\\b1\\1a\\8f\\a4c34be976825a2f7948d0fa40907598d69834f8ab5889de11\n",
      "Successfully built PyPDF2\n",
      "Installing collected packages: PyPDF2\n",
      "Successfully installed PyPDF2-1.26.0\n"
     ]
    }
   ],
   "source": [
    "! pip install PyPDF2"
   ]
  },
  {
   "cell_type": "code",
   "execution_count": 20,
   "metadata": {},
   "outputs": [],
   "source": [
    "from PyPDF2 import PdfFileMerger, PdfFileReader\n",
    "\n",
    "filenames = glob.glob('/*.pdf')  #현 디렉토리에서 .pdf 파일들을 모두 지정\n",
    "\n",
    "merger = PdfFileMerger()\n",
    "for filename in filenames:  #위 지정한 pdf파일들을 하나로 합침\n",
    "    merger.append(PdfFileReader(open(filename,'rb')),import_bookmarks=False)\n",
    "    merger.write(\"one_book.pdf\")"
   ]
  },
  {
   "cell_type": "markdown",
   "metadata": {},
   "source": [
    "PDF 문서 다루기 – 하나의 PDF파일을 여러 PDF 파일 하나로 분리하기   \n",
    "• PdfFileReader.getPage(i)    \n",
    "• PdfFileWriter.addPage()"
   ]
  },
  {
   "cell_type": "code",
   "execution_count": 25,
   "metadata": {},
   "outputs": [],
   "source": [
    "from PyPDF2 import PdfFileMerger, PdfFileReader, PdfFileWriter\n",
    "\n",
    "inputpdf = PdfFileReader(open(\"one_book.pdf\", \"rb\"))\n",
    "\n",
    "parts = [(0, 4), (3, 7)]  #페이지수를 할당\n",
    "for k, (start, end) in enumerate(parts):  #페이지 파트를 분리\n",
    "    end = min(end, inputpdf.numPages)\n",
    "    output = PdfFileWriter()\n",
    "    for i in range(start, end):\n",
    "        output.addPage(inputpdf.getPage(i))\n",
    "\n",
    "    with open(\"splitbook_%s.pdf\" % k, \"wb\") as outputStream:\n",
    "        output.write(outputStream)"
   ]
  },
  {
   "cell_type": "markdown",
   "metadata": {},
   "source": [
    "PDF 문서 다루기 – PDF문서의 일부 페이지 제거   \n",
    "• pikepdf 모듈    \n",
    "• 페이지를 제거할 때 페이지 번호가 높은 것부터 낮은 순서대로 제거해야 한다     (앞쪽의 페이지 하나를 제거하면 페이지가 밀려서 페이지 번호가 하나씩 줄어듬)"
   ]
  },
  {
   "cell_type": "code",
   "execution_count": 28,
   "metadata": {},
   "outputs": [
    {
     "name": "stdout",
     "output_type": "stream",
     "text": [
      "Collecting pikepdf\n",
      "  Downloading pikepdf-2.11.1-cp38-cp38-win_amd64.whl (2.4 MB)\n",
      "Requirement already satisfied: lxml>=4.0 in c:\\users\\fbvl\\anaconda3\\lib\\site-packages (from pikepdf) (4.6.1)\n",
      "Requirement already satisfied: Pillow>=6 in c:\\users\\fbvl\\anaconda3\\lib\\site-packages (from pikepdf) (8.0.1)\n",
      "Installing collected packages: pikepdf\n",
      "Successfully installed pikepdf-2.11.1\n"
     ]
    }
   ],
   "source": [
    "! pip install pikepdf"
   ]
  },
  {
   "cell_type": "code",
   "execution_count": 29,
   "metadata": {},
   "outputs": [],
   "source": [
    "import pikepdf\n",
    "\n",
    "with pikepdf.open('one_book.pdf') as pdf:\n",
    "    num_pages = len(pdf.pages)\n",
    "    pages_to_delete = [2, 4, 6, num_pages-1] # 첫 페이지는 0 부터 시작한다\n",
    "    for pg in sorted(pages_to_delete, reverse=True): # 역으로 제거해야 한다\n",
    "        del pdf.pages[pg]\n",
    "    pdf.save('one_book_deleted_pages.pdf')"
   ]
  },
  {
   "cell_type": "markdown",
   "metadata": {},
   "source": [
    "PDF 문서 다루기 – PDF 페이지 회전   \n",
    "• pikepdf 모듈   \n",
    "• Pages의 Rotate 속성값으로 페이지 방향을 변경할 수 있다   \n",
    "• 시계방향으로 90, 180, 270eh가 유효한 값들이다."
   ]
  },
  {
   "cell_type": "code",
   "execution_count": 30,
   "metadata": {},
   "outputs": [],
   "source": [
    "import pikepdf\n",
    "\n",
    "my_pdf = pikepdf.Pdf.open('sample_book.pdf')\n",
    "num_pages = len(my_pdf.pages)\n",
    "#페이지는 0부터시작하기에 num_pages-1이걸 넣어주어야 함\n",
    "pages_to_rotate = [0, 2, 4, 6, num_pages-1]  #해당 페이지만 회전된다\n",
    "for pg in pages_to_rotate:\n",
    "    my_pdf.pages[pg].Rotate = 90  #90도 회전\n",
    "my_pdf.save('sample_book_rotated.pdf')"
   ]
  },
  {
   "cell_type": "markdown",
   "metadata": {},
   "source": [
    "### PPT 자동화"
   ]
  },
  {
   "cell_type": "markdown",
   "metadata": {},
   "source": [
    "PPT 문서 다루기 – 모든 레이아웃 적용해보기   \n",
    "• python-pptx 라이브러리 : python-pptx.readthedocs.io/en/latest/   \n",
    "• python-pptx 라이브러리 quick-start : python-pptx.readthedocs.io/en/latest/user/quickstart.html   참고하기      \n",
    "• office테마에서 지원하는 11개의 레이아웃을 각 슬라이드에 적용    "
   ]
  },
  {
   "cell_type": "code",
   "execution_count": null,
   "metadata": {},
   "outputs": [],
   "source": [
    "! pip install python-pptx"
   ]
  },
  {
   "cell_type": "code",
   "execution_count": 1,
   "metadata": {},
   "outputs": [],
   "source": [
    "from pptx import Presentation # 라이브러리\n",
    "from pptx.util import Inches # 사진, 표등을 그리기 위해\n",
    "\n",
    "prs = Presentation() # 파워포인트 객체 선언\n",
    "\n",
    "for i in range(0, 11):\n",
    "    title_slide_layout = prs.slide_layouts[i] # 슬라이드 종류 선택\n",
    "    slide = prs.slides.add_slide(title_slide_layout) # 슬라이드 추가\n",
    "    \n",
    "prs.save('all_slides.pptx')"
   ]
  },
  {
   "cell_type": "markdown",
   "metadata": {},
   "source": [
    "PPT 문서 다루기 – 레이아웃 별 placeholder 속성 확인   \n",
    "• placeholder : 콘텐츠를 추가하는 것을 용이하게 함   \n",
    "• 레이아웃에서 관리되고 있는 palceholder를 확인하고, 그에 맞게 정보를 추가하여 장표를 꾸밈"
   ]
  },
  {
   "cell_type": "code",
   "execution_count": 2,
   "metadata": {},
   "outputs": [
    {
     "name": "stdout",
     "output_type": "stream",
     "text": [
      "--------[0] ------ \n",
      "0 Title 1\n",
      "1 Subtitle 2\n",
      "--------[1] ------ \n",
      "0 Title 1\n",
      "1 Content Placeholder 2\n",
      "--------[2] ------ \n",
      "0 Title 1\n",
      "1 Text Placeholder 2\n",
      "--------[3] ------ \n",
      "0 Title 1\n",
      "1 Content Placeholder 2\n",
      "2 Content Placeholder 3\n",
      "--------[4] ------ \n",
      "0 Title 1\n",
      "1 Text Placeholder 2\n",
      "2 Content Placeholder 3\n",
      "3 Text Placeholder 4\n",
      "4 Content Placeholder 5\n",
      "--------[5] ------ \n",
      "0 Title 1\n",
      "--------[6] ------ \n",
      "--------[7] ------ \n",
      "0 Title 1\n",
      "1 Content Placeholder 2\n",
      "2 Text Placeholder 3\n",
      "--------[8] ------ \n",
      "0 Title 1\n",
      "1 Picture Placeholder 2\n",
      "2 Text Placeholder 3\n",
      "--------[9] ------ \n",
      "0 Title 1\n",
      "1 Vertical Text Placeholder 2\n",
      "--------[10] ------ \n",
      "0 Vertical Title 1\n",
      "1 Vertical Text Placeholder 2\n"
     ]
    }
   ],
   "source": [
    "from pptx import Presentation # 라이브러리\n",
    "from pptx.util import Inches # 사진, 표등을 그리기 위해\n",
    "\n",
    "prs = Presentation() # 파워포인트 객체 선언\n",
    "\n",
    "for i in range(0, 11): #placeholder의 index(순서)와 이름을 출력\n",
    "    print(\"--------[%d] ------ \"%(i))  #순서대로 숫자가 입력\n",
    "    slide = prs.slides.add_slide(prs.slide_layouts[i])\n",
    "    for shape in slide.placeholders:\n",
    "        print('%d %s' % (shape.placeholder_format.idx, shape.name))"
   ]
  },
  {
   "cell_type": "code",
   "execution_count": 4,
   "metadata": {},
   "outputs": [],
   "source": [
    "from pptx import Presentation\n",
    "\n",
    "prs = Presentation()\n",
    "bullet_slide_layout = prs.slide_layouts[1]  #1 = 제목 + 내용슬라이드\n",
    "\n",
    "slide = prs.slides.add_slide(bullet_slide_layout)  #1번 레이아웃 슬라이드추가\n",
    "shapes = slide.shapes  #슬라이드 형태를 나타내는 것\n",
    "\n",
    "title_shape = shapes.title  #타이틀 지정\n",
    "body_shape = shapes.placeholders[1]  #placeholders[1]=부제목상자 추가\n",
    "\n",
    "title_shape.text = '심세경'  #타이틀 텍스트 넣기\n",
    "\n",
    "tf = body_shape.text_frame  #부제목에 텍스트 넣기\n",
    "tf.text = '코딩 천재가 되서'\n",
    "\n",
    "p = tf.add_paragraph()  #tf에 문단 추가\n",
    "p.text = '다 풀어버릴거야'\n",
    "p.level = 1   #level = 1 : 들여쓰기 레벨\n",
    "\n",
    "p = tf.add_paragraph()\n",
    "p.text = '아자아자'\n",
    "p.level = 2\n",
    "\n",
    "prs.save('심세경 미래.pptx')"
   ]
  },
  {
   "cell_type": "code",
   "execution_count": 5,
   "metadata": {},
   "outputs": [],
   "source": [
    "from pptx import Presentation\n",
    "from pptx.util import Inches, Pt\n",
    "\n",
    "prs = Presentation()\n",
    "blank_slide_layout = prs.slide_layouts[6]\n",
    "slide = prs.slides.add_slide(blank_slide_layout)\n",
    "\n",
    "left = top = width = height = Inches(1)\n",
    "txBox = slide.shapes.add_textbox(left, top, width, height)\n",
    "tf = txBox.text_frame\n",
    "\n",
    "tf.text = \"오늘은 공부 열심히 해보자\"\n",
    "\n",
    "p = tf.add_paragraph()\n",
    "p.text = \"내일의 내가 힘들지 않게\"\n",
    "p.font.bold = True\n",
    "\n",
    "p = tf.add_paragraph()\n",
    "p.text = \"그래야 짱이 될 수 있어\"\n",
    "p.font.size = Pt(40)\n",
    "\n",
    "prs.save('심세경 자서전.pptx')"
   ]
  },
  {
   "cell_type": "markdown",
   "metadata": {},
   "source": [
    "PPT 문서 다루기 – 제목 슬라이드를 추가"
   ]
  },
  {
   "cell_type": "code",
   "execution_count": 6,
   "metadata": {},
   "outputs": [],
   "source": [
    "from pptx import Presentation # 라이브러리\n",
    "from pptx.util import Inches # 사진, 표등을 그리기 위해\n",
    "\n",
    "prs = Presentation() # 파워포인트 객체 선언\n",
    "\n",
    "title_slide_layout = prs.slide_layouts[0] # 0 : 제목슬라이드에 해당\n",
    "slide = prs.slides.add_slide(title_slide_layout) # 슬라이드 추가\n",
    "\n",
    "title = slide.placeholders[0] # 제목 - 제목에 값넣기\n",
    "title.text = \"Hello, World!\" # 제목에 값 넣기\n",
    "\n",
    "subtitle = slide.placeholders[1] # 부제목 -제목상자는 placeholders[0], 부제목상자는 [1]\n",
    "subtitle.text = \"python-pptx was here!\"\n",
    "\n",
    "prs.save('test.pptx') # 저장"
   ]
  },
  {
   "cell_type": "markdown",
   "metadata": {},
   "source": [
    "PPT 문서 다루기 – 제목 + 내용 슬라이드를 추가  \n",
    "• add_paragraph() - 단락을 추가 , p.level로 들여 쓰기 레벨을 설정"
   ]
  },
  {
   "cell_type": "code",
   "execution_count": 7,
   "metadata": {},
   "outputs": [],
   "source": [
    "from pptx import Presentation # 라이브러리\n",
    "from pptx.util import Inches # 사진, 표등을 그리기 위해\n",
    "\n",
    "prs = Presentation() # 파워포인트 객체 선언\n",
    "\n",
    "bullet_slide_layout = prs.slide_layouts[1] # slide_layouts 1은 제목+내용 슬라이드를 의미\n",
    "slide = prs.slides.add_slide(bullet_slide_layout) # 기존에 있던 슬라이드에 추가\n",
    "title_shape = slide.placeholders[0] # 제목\n",
    "title_shape.text = 'Adding a Bullet Slide'\n",
    "body_shape = slide.placeholders[1] # 내용\n",
    "tf = body_shape.text_frame\n",
    "tf.text = 'Find the bullet slide layout'\n",
    "p = tf.add_paragraph() # 단락 추가\n",
    "p.text = 'Use _TextFrame.text for first bullet'\n",
    "p.level = 1 # 1 : 들여쓰기 레벨\n",
    "p = tf.add_paragraph() # 단락 추가\n",
    "p.text = 'Use _TextFrame.add_paragraph() for subsequent bullets'\n",
    "p.level = 2 # 2 : 들여쓰기 레벨\n",
    "prs.save('test.pptx')"
   ]
  },
  {
   "cell_type": "markdown",
   "metadata": {},
   "source": [
    "PPT 문서 다루기 – 사진 슬라이드를 추가   \n",
    "• add_picture() - 이미지를 추가. 이미지의 경우 위치와 크기 설정이 필요. top, left는 시작점, width와 height는 이미지의 크기"
   ]
  },
  {
   "cell_type": "code",
   "execution_count": 8,
   "metadata": {},
   "outputs": [],
   "source": [
    "from pptx import Presentation # 라이브러리\n",
    "from pptx.util import Inches # 사진, 표등을 그리기 위해\n",
    "prs = Presentation() # 파워포인트 객체 선언\n",
    "\n",
    "img_path = 'cartoon/풍경1.jfif'\n",
    "\n",
    "blank_slide_layout = prs.slide_layouts[6] # 6 : 제목/내용이 없는 '빈' 슬라이드\n",
    "slide = prs.slides.add_slide(blank_slide_layout)\n",
    "left = top = Inches(1)\n",
    "width = height = Inches(1)\n",
    "# width, hegith가 없을 경우 원본 사이즈로\n",
    "pic = slide.shapes.add_picture(img_path, left, top, width=width,height=height)\n",
    "left = Inches(3)\n",
    "width = Inches(5.5)\n",
    "height = Inches(4)\n",
    "pic = slide.shapes.add_picture(img_path, left, top, width=width,height=height)\n",
    "prs.save('test2.pptx')"
   ]
  },
  {
   "cell_type": "markdown",
   "metadata": {},
   "source": [
    "PPT 문서 다루기 – 표 슬라이드를 추가"
   ]
  },
  {
   "cell_type": "code",
   "execution_count": 9,
   "metadata": {},
   "outputs": [],
   "source": [
    "prs = Presentation() # 파워포인트 객체 선언\n",
    "title_only_slide_layout = prs.slide_layouts[5]\n",
    "slide = prs.slides.add_slide(title_only_slide_layout)\n",
    "shapes = slide.shapes\n",
    "title_shape = slide.placeholders[0]\n",
    "title_shape.text = 'Adding a Table'\n",
    "rows = cols = 2\n",
    "left = top = Inches(2.0)\n",
    "width = Inches(6.0)\n",
    "height = Inches(0.8)\n",
    "table = shapes.add_table(rows, cols, left, top, width, height).table\n",
    "# set column widths\n",
    "table.columns[0].width = Inches(2.0)\n",
    "table.columns[1].width = Inches(4.0)\n",
    "# write column headings\n",
    "table.cell(0, 0).text = 'Foo'\n",
    "table.cell(0, 1).text = 'Bar'\n",
    "# write body cells\n",
    "table.cell(1, 0).text = 'Baz'\n",
    "table.cell(1, 1).text = 'Qux'"
   ]
  },
  {
   "cell_type": "markdown",
   "metadata": {},
   "source": [
    "excel 파일데이터를 이용해 units 데이터의 pivot 테이블 생성   \n",
    "chart 생성   \n",
    "ppt에 chart를 넣고 저장하기  "
   ]
  },
  {
   "cell_type": "code",
   "execution_count": 10,
   "metadata": {},
   "outputs": [
    {
     "name": "stdout",
     "output_type": "stream",
     "text": [
      "        Date Region                 Type  Units  Sales\n",
      "0 2020-07-11   East  Children's Clothing   18.0    306\n",
      "1 2020-09-23  North  Children's Clothing   14.0    448\n",
      "2 2020-04-02  South     Women's Clothing   17.0    425\n",
      "3 2020-02-28   East  Children's Clothing   26.0    832\n",
      "4 2020-03-19   West     Women's Clothing    3.0     33\n"
     ]
    }
   ],
   "source": [
    "import pandas as pd\n",
    "\n",
    "df = pd.read_excel('sample.xlsx', parse_dates=['Date'])\n",
    "print(df.head())"
   ]
  },
  {
   "cell_type": "code",
   "execution_count": 115,
   "metadata": {},
   "outputs": [],
   "source": [
    "f = pd.pivot_table(df, index='Type',    # 행 위치에 들어갈 열\n",
    "                     columns = 'Region',aggfunc = 'sum')\n",
    "#print(f)\n",
    "f2 = f['Units']"
   ]
  },
  {
   "cell_type": "code",
   "execution_count": 113,
   "metadata": {},
   "outputs": [
    {
     "data": {
      "image/png": "[encoded data removed]",
      "text/plain": [
       "<Figure size 432x288 with 1 Axes>"
      ]
     },
     "metadata": {
      "needs_background": "light"
     },
     "output_type": "display_data"
    }
   ],
   "source": [
    "import pandas as pd\n",
    "import matplotlib.pyplot as plt\n",
    "\n",
    "ax = f2.plot(kind='bar')\n",
    "plt.savefig('graph.png', bbox_inches='tight', pad_inches=0.3)\n",
    "plt.show()"
   ]
  },
  {
   "cell_type": "code",
   "execution_count": 106,
   "metadata": {},
   "outputs": [],
   "source": [
    "from pptx import Presentation # 라이브러리\n",
    "from pptx.util import Inches # 사진, 표등을 그리기 위해\n",
    "prs = Presentation() # 파워포인트 객체 선언\n",
    "img_path = 'graph.png'\n",
    "blank_slide_layout = prs.slide_layouts[2] # 6 : 제목/내용이 없는 '빈' 슬라이드\n",
    "slide = prs.slides.add_slide(blank_slide_layout)\n",
    "#shapes = slide.shapes\n",
    "\n",
    "title = slide.shapes.title\n",
    "subtitle = slide.placeholders[1]\n",
    "\n",
    "title.text = 'sales by account'\n",
    "subtitle.text = 'Results consistent with last quarter'\n",
    "\n",
    "\n",
    "left = Inches(3)\n",
    "width = Inches(5.5)\n",
    "height = Inches(4)\n",
    "pic = slide.shapes.add_picture(img_path, left, top, width=width,height=height)\n",
    "prs.save('과제.pptx')"
   ]
  },
  {
   "cell_type": "code",
   "execution_count": 114,
   "metadata": {},
   "outputs": [],
   "source": [
    "#다른방식으로 적기\n",
    "from pptx import Presentation # 라이브러리\n",
    "from pptx.util import Inches # 사진, 표등을 그리기 위해\n",
    "prs = Presentation() # 파워포인트 객체 선언\n",
    "img_path = 'graph.png'\n",
    "blank_slide_layout = prs.slide_layouts[2] # 6 : 제목/내용이 없는 '빈' 슬라이드\n",
    "slide = prs.slides.add_slide(blank_slide_layout)\n",
    "#shapes = slide.shapes\n",
    "body_shape = slide.placeholders[1] # 내용\n",
    "tf = body_shape.text_frame\n",
    "p = tf.add_paragraph() # 단락 추가\n",
    "tf.text = 'sales by account'\n",
    "#p.text = 'sales by account'\n",
    "tf.level = 1 # 1 : 들여쓰기 레벨\n",
    "p = tf.add_paragraph() # 단락 추가\n",
    "p.text =  'Results consistent with last quarter'\n",
    "p.level = 2 # 2 : 들여쓰기 레벨\n",
    "left = Inches(3)\n",
    "width = Inches(5.5)\n",
    "height = Inches(4)\n",
    "top = Inches(0.1)\n",
    "pic = slide.shapes.add_picture(img_path, left, top, width=width,height=height)\n",
    "prs.save('과제2.pptx')"
   ]
  },
  {
   "cell_type": "code",
   "execution_count": 120,
   "metadata": {},
   "outputs": [
    {
     "name": "stdout",
     "output_type": "stream",
     "text": [
      "        Date Region                 Type  Units  Sales\n",
      "0 2020-07-11   East  Children's Clothing   18.0    306\n",
      "1 2020-09-23  North  Children's Clothing   14.0    448\n",
      "2 2020-04-02  South     Women's Clothing   17.0    425\n",
      "3 2020-02-28   East  Children's Clothing   26.0    832\n",
      "4 2020-03-19   West     Women's Clothing    3.0     33\n",
      "Region                 East   North   South    West\n",
      "Type                                               \n",
      "Children's Clothing  2318.0  1763.0  1017.0   789.0\n",
      "Men's Clothing       2420.0     0.0   725.0   829.0\n",
      "Women's Clothing     3372.0  2596.0  1056.0  1006.0\n"
     ]
    },
    {
     "data": {
      "image/png": "[encoded data removed]",
      "text/plain": [
       "<Figure size 432x288 with 1 Axes>"
      ]
     },
     "metadata": {
      "needs_background": "light"
     },
     "output_type": "display_data"
    }
   ],
   "source": [
    "#정답코드\n",
    "import pandas as pd\n",
    "from pptx import Presentation # 라이브러리\n",
    "from pptx.util import Inches # 사진, 표등을 그리기 위해\n",
    "\n",
    "df = pd.read_excel('sample.xlsx', parse_dates=['Date'])\n",
    "print(df.head())\n",
    "\n",
    "#multi_index = pd.pivot_table(df, index = ['Region', 'Type'], values = 'Sales', aggfunc = 'sum')\n",
    "#print(multi_index)\n",
    "#multi_functions = pd.pivot_table(df, index = ['Region', 'Type'], values = 'Sales', aggfunc = ['sum', len])\n",
    "#print(multi_functions)\n",
    "\n",
    "columns_example = pd.pivot_table(df, index='Type', columns = 'Region', values = 'Units', aggfunc = 'sum')\n",
    "print(columns_example)\n",
    "\n",
    "fig_plot = columns_example.plot(kind='bar')\n",
    "fig = fig_plot.get_figure()\n",
    "fig.savefig('report-image.png')\n",
    "\n",
    "prs = Presentation() # 파워포인트 객체 선언\n",
    "img_path = 'report-image.png'\n",
    "blank_slide_layout = prs.slide_layouts[8] \n",
    "slide = prs.slides.add_slide(blank_slide_layout)\n",
    "title = slide.shapes.title\n",
    "title.text = 'sales by account'\n",
    "\n",
    "\n",
    "\n",
    "placeholder = slide.placeholders[1] # 내용\n",
    "pic = placeholder.insert_picture(img_path)\n",
    "\n",
    "subtitle = slide.placeholders[2]\n",
    "subtitle.text = 'Results consistent with last quarter'\n",
    "\n",
    "prs.save('과제3.pptx')"
   ]
  },
  {
   "cell_type": "markdown",
   "metadata": {},
   "source": [
    "파일 폴더 관리 자동화 – 연습문제 3  \n",
    "• 필요 없는 파일 일괄 삭제 예] .bak 인 파일 삭제"
   ]
  },
  {
   "cell_type": "code",
   "execution_count": null,
   "metadata": {},
   "outputs": [],
   "source": [
    "import os\n",
    "import shutil\n",
    "import time\n",
    "\n",
    "target_dir = input(\"원하는 폴더를 입력하세요: \")\n",
    "target_extension = input(\"제거하고싶은 확장자를 입력하세요: \")\n",
    "filelist = os.listdir(target_dir)\n",
    "target_file = [f for f in filelist if f.endswith(target_extension)]  #endswith=문자열에서 특정문자열로 끝나는 것\n",
    "print(target_file)\n",
    "for f in target_file:\n",
    "    os.remove(target_dir + \"\\\\\" + f)\n",
    "    print(\"제거한 파일 명:\", f)"
   ]
  },
  {
   "cell_type": "markdown",
   "metadata": {},
   "source": [
    "파일 폴더 관리 자동화 – 연습문제 4  \n",
    "• 특정 문자열을 파일 이름에 포함하는 파일 목록 얻기 예] ‘python’ 문자열을 파일 이름에 포함하는 파일 목록 출력   \n",
    "• 하위 디렉토리도 검색 대상이므로 os.walk() 이용"
   ]
  },
  {
   "cell_type": "code",
   "execution_count": null,
   "metadata": {},
   "outputs": [],
   "source": [
    "# 특정 문자열을 파일 이름에 포함하는 파일 목록 얻기\n",
    "import os\n",
    "import shutil\n",
    "from glob import glob\n",
    "import pandas as pd\n",
    "\n",
    "start_dir = input(\"시작 폴더를 입력하세요: \")\n",
    "target_str = input(\"찾고싶은 문자열을 입력하세요: \")\n",
    "\n",
    "result = pd.DataFrame(columns=[\"해당 디렉토리\", \"파일명\"])  #변수만 미리 지정해놓기\n",
    "\n",
    "#os.walk() 시작디렉토리부터 하위 디렉토리까지 파일 검색\n",
    "for (curdir, dirs, files) in os.walk(\".\"):\n",
    "    lst = os.listdir(curdir)\n",
    "    print(curdir)\n",
    "    for l in lst:\n",
    "        if l.find(target_str) != -1:\n",
    "            result = result.append({\"해당 디렉토리\":curdir, \"파일명\":l}, ignore_index=True)\n",
    "\n",
    "display(result)\n"
   ]
  },
  {
   "cell_type": "code",
   "execution_count": null,
   "metadata": {},
   "outputs": [],
   "source": [
    "파일 폴더 관리 자동화 – 연습문제 5\n",
    "• grep 기능을 활용해 특정 문자열을 포함한 파일 찾기\n",
    "• mimetypes.guess_type() - 파일이 이진 파일인지 텍스트 파일인지 판단\n",
    "• chardet.detect() - 어떤 인코딩으로 되어 있는지 판단\n",
    "• 인코딩 정보를 이용해 문자열로 변환 -> 검색 문자열이 텍스트에 포함되어 있는지 판단"
   ]
  },
  {
   "cell_type": "code",
   "execution_count": null,
   "metadata": {
    "jupyter": {
     "source_hidden": true
    }
   },
   "outputs": [],
   "source": [
    "\n",
    "# 파일 이름 일괄 변경 (예) py_a_a_1.txt => py_a_a_001.txt\n",
    "from glob import glob\n",
    "import os\n",
    "\n",
    "if not os.path.exists('test'):\n",
    "    os.mkdir('test') # test 폴더 생성\n",
    "    \n",
    "# test 폴더 내에 py_a_a_숫자.txt 형식의 파일 20개 생성\n",
    "for k in range(20):\n",
    "    fname = \"test/py_a_a_{}.txt\".format(k)\n",
    "    # open(file_name, \"w\") - 파일 없으면 생성함\n",
    "    open(fname, \"w\").write(fname + \" testing...\")\n",
    "    print(\"creating..\", fname)\n"
   ]
  },
  {
   "cell_type": "code",
   "execution_count": 124,
   "metadata": {},
   "outputs": [
    {
     "name": "stdout",
     "output_type": "stream",
     "text": [
      "('text/x-python', None)\n",
      "b'The asyncio package, ... is in the stdlib in Python 3.4 but not in 3'\n",
      "{'encoding': 'ascii', 'confidence': 1.0, 'language': ''}\n",
      "The asyncio package, ... is in the stdlib in Python 3.4 but not in 3\n"
     ]
    }
   ],
   "source": [
    "import os\n",
    "import shutil\n",
    "import time\n",
    "import mimetypes\n",
    "import chardet\n",
    "\n",
    "#mimetypes.guess_type() 텍스트 파일인지 여부 판단 가능 \n",
    "#mimetype은 'type/subtype'\n",
    "print(mimetypes.guess_type('test.py'))  #작업 디렉토리 아래, .png, xlsx\n",
    "#text/...   text/html, text/plain, text/xml\n",
    "#image/...\n",
    "#application/...\n",
    "#결과가  ('text/x-python', None) 이렇게 ㄴ나오는 이유는 파이썬임은 알지만 인코딩을 알 수 없어서\n",
    "\n",
    "content = b'The asyncio package, ... is in the stdlib in Python 3.4 but not in 3'\n",
    "print(content)\n",
    "print(chardet.detect(content))  #어떤 인코딩인지 판단\n",
    "\n",
    "result = str(content, 'ascii')   #문자열 변환\n",
    "print(result)\n",
    "\n",
    "\n",
    "search_str = 'Zen of Python'.lower()\n",
    "flist = []\n",
    "for curdir, dirs, files in os.walk(r'C:\\ProgramData\\Anaconda3\\Lib\\asyncio'):\n",
    "    for fname in files:\n",
    "        fpath = os.path.join(curdir, fname)\n",
    "        mime = mimetypes.guess_type(fpath)\n",
    "         #mime[0]은 mimetypes.guess_type를 하면 튜플로 (type, encoding)이런 형식으로 나와서 type만 보는 것\n",
    "        if not mime[0] or not mime[0].startswith('text'): \n",
    "            continue\n",
    "        content = open(fpath, 'rb').read()       # bytes로 읽어서\n",
    "        encoding = chardet.detect(content)['encoding'] # 인코딩 테스트\n",
    "        try:\n",
    "            txt = str(content, encoding)  # str로 변환\n",
    "        except:\n",
    "            continue\n",
    "        if search_Str in txt.lower():  #특정 문자열이 포함되었는지 테스트 하기\n",
    "            print(fpath)\n",
    "            flist.append(fpath)"
   ]
  }
 ],
 "metadata": {
  "kernelspec": {
   "display_name": "Python 3",
   "language": "python",
   "name": "python3"
  },
  "language_info": {
   "codemirror_mode": {
    "name": "ipython",
    "version": 3
   },
   "file_extension": ".py",
   "mimetype": "text/x-python",
   "name": "python",
   "nbconvert_exporter": "python",
   "pygments_lexer": "ipython3",
   "version": "3.8.5"
  }
 },
 "nbformat": 4,
 "nbformat_minor": 4
}
