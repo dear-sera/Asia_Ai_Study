{
  "nbformat": 4,
  "nbformat_minor": 0,
  "metadata": {
    "colab": {
      "name": "DL_day1.ipynb",
      "provenance": [],
      "authorship_tag": "ABX9TyOzKEYk9oE2WkMyQF1oCK2i",
      "include_colab_link": true
    },
    "kernelspec": {
      "name": "python3",
      "display_name": "Python 3"
    },
    "language_info": {
      "name": "python"
    },
    "accelerator": "GPU"
  },
  "cells": [
    {
      "cell_type": "markdown",
      "metadata": {
        "id": "view-in-github",
        "colab_type": "text"
      },
      "source": [
        "<a href=\"https://colab.research.google.com/github/sera0911/asia_ai_study/blob/main/DeepLearning/DL_day1.ipynb\" target=\"_parent\"><img src=\"https://colab.research.google.com/assets/colab-badge.svg\" alt=\"Open In Colab\"/></a>"
      ]
    },
    {
      "cell_type": "markdown",
      "metadata": {
        "id": "Ymr1xryTX0O9"
      },
      "source": [
        "### ML_Day8 정리\n",
        "\n",
        "#### 차원축소 - 데이터의 변동성이 가장 큰 방향으로 축을 생성하고 새롭게 생성된 축으로 데이터를 투영하는 방식\n",
        "\n",
        "• LDA (선형 판별 분석) - 클래스간 분산과 클래스 내분산의 비율을 최대화하는 방식으로 데이터에 대한 특정벡터의 차원을 축소\n",
        "\n",
        "• SVD (특이값 분해) - 정방행렬뿐만 아니라 행과 열의 크기가 다른 행렬에도 적용\n",
        "\n",
        "• NMF - 원본 행렬 내의 모든 요소값이 양수일 때 양수 행렬로 분할 할 수 있는 기법\n",
        "\n",
        "#### Boost\n",
        "\n",
        "• AdaBoost - 이전 모델이 잘못 예측한 샘플에 높은 우선순위를 부여하는 식으로 약한 모델을 연속적으로 훈련\n",
        "\n",
        "• GBM - 이전 학습 모델이 만든 잔여 오차를 경사 하강법을 이용하여 가중치 업데이트하여 새로운 트리를 훈련하는 방식의 앙상블 모델\n",
        "\n",
        "• XGBoost - 병렬 수행, 더 이상 긍정 이득이 없는 분할을 가지치기해서 분할수를 더 줄임, 자체적으로 결손값 처리"
      ]
    },
    {
      "cell_type": "markdown",
      "metadata": {
        "id": "IN9V1eDwaVrB"
      },
      "source": [
        "### DL_Day1 시작\n",
        "\n",
        "### 신경망 (사이킷런, 텐서플로우와 케라스)\n",
        "\n",
        "딥러닝(심층학습, 강화학습)\n",
        "\n",
        "• 여러 층을 가진 인공신경망을 이용하여 머신러닝을 수행하는 것\n",
        "\n",
        "• 인공신경망을 넓고 다층(Deep)으로 쌓으면 딥러닝(Deep-Learning)\n",
        "\n",
        "• 신경망을 사용해 수많은 데이터 속에서 어떤 패턴을 파악하고 이것을 통해 인간이 사물을 구분하듯이 컴퓨터가 데이터를 나누는 것   \n",
        "(사물이나 데이터를 군집화 하거나 분류할 때 사용)\n",
        "\n",
        "• 데이터 자체를 컴퓨터에게 전달, 인공신경망 구조를 사용하여 데이터 전체를 학습시킨다   \n",
        "(인간의 뇌에서 일어나는 의사결정 과정을 모방한 인공신경망(Artificial Neural Network) 구조를 통해서 학습한다)"
      ]
    },
    {
      "cell_type": "markdown",
      "metadata": {
        "id": "Z7rpcS7ub4Ow"
      },
      "source": [
        "#### TensorFlow\n",
        "• 구글이 공개한 대규모 숫자 계산을 해주는 머신러닝 및 딥러닝 전문 라이브러리\n",
        "\n",
        "• 구글에서 제공하는 연구와 개발을 위한 오픈소스 머신러닝 플랫폼\n",
        "\n",
        "• Tensor는 다차원 행렬 계산을 의미\n",
        "\n",
        "• C++로 만들어진 라이브러리\n",
        "\n",
        "• 이미지 처리와 음향 처리 등을 할 때는 추가적으로 이미지 처리에 특화된 OpenCV 라이브러리등과 함께 사용"
      ]
    },
    {
      "cell_type": "code",
      "metadata": {
        "colab": {
          "base_uri": "https://localhost:8080/"
        },
        "id": "KIUr9cIpYSsS",
        "outputId": "2a709559-cdb0-45bd-f472-c6c14f9423aa"
      },
      "source": [
        "!pip install tensorflow\n",
        "!pip install keras"
      ],
      "execution_count": 1,
      "outputs": [
        {
          "output_type": "stream",
          "text": [
            "Requirement already satisfied: tensorflow in /usr/local/lib/python3.7/dist-packages (2.4.1)\n",
            "Requirement already satisfied: flatbuffers~=1.12.0 in /usr/local/lib/python3.7/dist-packages (from tensorflow) (1.12)\n",
            "Requirement already satisfied: google-pasta~=0.2 in /usr/local/lib/python3.7/dist-packages (from tensorflow) (0.2.0)\n",
            "Requirement already satisfied: termcolor~=1.1.0 in /usr/local/lib/python3.7/dist-packages (from tensorflow) (1.1.0)\n",
            "Requirement already satisfied: wheel~=0.35 in /usr/local/lib/python3.7/dist-packages (from tensorflow) (0.36.2)\n",
            "Requirement already satisfied: opt-einsum~=3.3.0 in /usr/local/lib/python3.7/dist-packages (from tensorflow) (3.3.0)\n",
            "Requirement already satisfied: numpy~=1.19.2 in /usr/local/lib/python3.7/dist-packages (from tensorflow) (1.19.5)\n",
            "Requirement already satisfied: astunparse~=1.6.3 in /usr/local/lib/python3.7/dist-packages (from tensorflow) (1.6.3)\n",
            "Requirement already satisfied: protobuf>=3.9.2 in /usr/local/lib/python3.7/dist-packages (from tensorflow) (3.12.4)\n",
            "Requirement already satisfied: grpcio~=1.32.0 in /usr/local/lib/python3.7/dist-packages (from tensorflow) (1.32.0)\n",
            "Requirement already satisfied: six~=1.15.0 in /usr/local/lib/python3.7/dist-packages (from tensorflow) (1.15.0)\n",
            "Requirement already satisfied: tensorboard~=2.4 in /usr/local/lib/python3.7/dist-packages (from tensorflow) (2.4.1)\n",
            "Requirement already satisfied: tensorflow-estimator<2.5.0,>=2.4.0 in /usr/local/lib/python3.7/dist-packages (from tensorflow) (2.4.0)\n",
            "Requirement already satisfied: keras-preprocessing~=1.1.2 in /usr/local/lib/python3.7/dist-packages (from tensorflow) (1.1.2)\n",
            "Requirement already satisfied: h5py~=2.10.0 in /usr/local/lib/python3.7/dist-packages (from tensorflow) (2.10.0)\n",
            "Requirement already satisfied: wrapt~=1.12.1 in /usr/local/lib/python3.7/dist-packages (from tensorflow) (1.12.1)\n",
            "Requirement already satisfied: typing-extensions~=3.7.4 in /usr/local/lib/python3.7/dist-packages (from tensorflow) (3.7.4.3)\n",
            "Requirement already satisfied: gast==0.3.3 in /usr/local/lib/python3.7/dist-packages (from tensorflow) (0.3.3)\n",
            "Requirement already satisfied: absl-py~=0.10 in /usr/local/lib/python3.7/dist-packages (from tensorflow) (0.12.0)\n",
            "Requirement already satisfied: setuptools in /usr/local/lib/python3.7/dist-packages (from protobuf>=3.9.2->tensorflow) (56.1.0)\n",
            "Requirement already satisfied: markdown>=2.6.8 in /usr/local/lib/python3.7/dist-packages (from tensorboard~=2.4->tensorflow) (3.3.4)\n",
            "Requirement already satisfied: werkzeug>=0.11.15 in /usr/local/lib/python3.7/dist-packages (from tensorboard~=2.4->tensorflow) (2.0.0)\n",
            "Requirement already satisfied: google-auth-oauthlib<0.5,>=0.4.1 in /usr/local/lib/python3.7/dist-packages (from tensorboard~=2.4->tensorflow) (0.4.4)\n",
            "Requirement already satisfied: google-auth<2,>=1.6.3 in /usr/local/lib/python3.7/dist-packages (from tensorboard~=2.4->tensorflow) (1.30.0)\n",
            "Requirement already satisfied: tensorboard-plugin-wit>=1.6.0 in /usr/local/lib/python3.7/dist-packages (from tensorboard~=2.4->tensorflow) (1.8.0)\n",
            "Requirement already satisfied: requests<3,>=2.21.0 in /usr/local/lib/python3.7/dist-packages (from tensorboard~=2.4->tensorflow) (2.23.0)\n",
            "Requirement already satisfied: importlib-metadata; python_version < \"3.8\" in /usr/local/lib/python3.7/dist-packages (from markdown>=2.6.8->tensorboard~=2.4->tensorflow) (4.0.1)\n",
            "Requirement already satisfied: requests-oauthlib>=0.7.0 in /usr/local/lib/python3.7/dist-packages (from google-auth-oauthlib<0.5,>=0.4.1->tensorboard~=2.4->tensorflow) (1.3.0)\n",
            "Requirement already satisfied: cachetools<5.0,>=2.0.0 in /usr/local/lib/python3.7/dist-packages (from google-auth<2,>=1.6.3->tensorboard~=2.4->tensorflow) (4.2.2)\n",
            "Requirement already satisfied: rsa<5,>=3.1.4; python_version >= \"3.6\" in /usr/local/lib/python3.7/dist-packages (from google-auth<2,>=1.6.3->tensorboard~=2.4->tensorflow) (4.7.2)\n",
            "Requirement already satisfied: pyasn1-modules>=0.2.1 in /usr/local/lib/python3.7/dist-packages (from google-auth<2,>=1.6.3->tensorboard~=2.4->tensorflow) (0.2.8)\n",
            "Requirement already satisfied: urllib3!=1.25.0,!=1.25.1,<1.26,>=1.21.1 in /usr/local/lib/python3.7/dist-packages (from requests<3,>=2.21.0->tensorboard~=2.4->tensorflow) (1.24.3)\n",
            "Requirement already satisfied: certifi>=2017.4.17 in /usr/local/lib/python3.7/dist-packages (from requests<3,>=2.21.0->tensorboard~=2.4->tensorflow) (2020.12.5)\n",
            "Requirement already satisfied: idna<3,>=2.5 in /usr/local/lib/python3.7/dist-packages (from requests<3,>=2.21.0->tensorboard~=2.4->tensorflow) (2.10)\n",
            "Requirement already satisfied: chardet<4,>=3.0.2 in /usr/local/lib/python3.7/dist-packages (from requests<3,>=2.21.0->tensorboard~=2.4->tensorflow) (3.0.4)\n",
            "Requirement already satisfied: zipp>=0.5 in /usr/local/lib/python3.7/dist-packages (from importlib-metadata; python_version < \"3.8\"->markdown>=2.6.8->tensorboard~=2.4->tensorflow) (3.4.1)\n",
            "Requirement already satisfied: oauthlib>=3.0.0 in /usr/local/lib/python3.7/dist-packages (from requests-oauthlib>=0.7.0->google-auth-oauthlib<0.5,>=0.4.1->tensorboard~=2.4->tensorflow) (3.1.0)\n",
            "Requirement already satisfied: pyasn1>=0.1.3 in /usr/local/lib/python3.7/dist-packages (from rsa<5,>=3.1.4; python_version >= \"3.6\"->google-auth<2,>=1.6.3->tensorboard~=2.4->tensorflow) (0.4.8)\n",
            "Requirement already satisfied: keras in /usr/local/lib/python3.7/dist-packages (2.4.3)\n",
            "Requirement already satisfied: scipy>=0.14 in /usr/local/lib/python3.7/dist-packages (from keras) (1.4.1)\n",
            "Requirement already satisfied: pyyaml in /usr/local/lib/python3.7/dist-packages (from keras) (3.13)\n",
            "Requirement already satisfied: h5py in /usr/local/lib/python3.7/dist-packages (from keras) (2.10.0)\n",
            "Requirement already satisfied: numpy>=1.9.1 in /usr/local/lib/python3.7/dist-packages (from keras) (1.19.5)\n",
            "Requirement already satisfied: six in /usr/local/lib/python3.7/dist-packages (from h5py->keras) (1.15.0)\n"
          ],
          "name": "stdout"
        }
      ]
    },
    {
      "cell_type": "code",
      "metadata": {
        "colab": {
          "base_uri": "https://localhost:8080/"
        },
        "id": "d5rH3SBXXvTP",
        "outputId": "b94c5b66-7de1-4fc9-90a5-9b8255bd6a58"
      },
      "source": [
        "import tensorflow as tf\n",
        "print(tf.__version__)"
      ],
      "execution_count": 2,
      "outputs": [
        {
          "output_type": "stream",
          "text": [
            "2.4.1\n"
          ],
          "name": "stdout"
        }
      ]
    },
    {
      "cell_type": "markdown",
      "metadata": {
        "id": "tmcn3L_ec8UA"
      },
      "source": [
        "#### Tensor\n",
        "\n",
        "• 텐서 (Tensor)는 다차원 배열 (Multi-dimensional Array)입니다.\n",
        "\n",
        "• 텐서 (Tensor)는 벡터 (Vector)와 행렬 (Matrix)을 일반화한 것이며, 3차원 이상으로 확장할 수 있습니다.\n",
        "\n",
        "• 텐서 (Tensor)는 TensorFlow의 가장 주요한 객체이며, TensorFlow의 작업은 주로 텐서의 연산으로 이루어집니다.\n",
        "\n",
        "• 즉, TensorFlow는 텐서 (Tensor)를 정의하고 연산을 수행하도록 하는 프레임워크 (Framework)입니다.\n",
        "\n",
        "• 텐서 (Tensor) 객체의 랭크 (Rank)는 차원의 수 (n-dimension)입니다.\n",
        "\n",
        "• tf.rank()는 텐서의 랭크를 반환합니다.\n",
        "\n",
        "• 텐서 scalar, vector, matrix, tensor는 각각 랭크 0, 1, 2, 3를 가집니다."
      ]
    },
    {
      "cell_type": "code",
      "metadata": {
        "colab": {
          "base_uri": "https://localhost:8080/"
        },
        "id": "H8eHy3MzdFXb",
        "outputId": "1993178b-16ca-4c02-b65a-76d77344a8a6"
      },
      "source": [
        "#텐서의 차원-랭크 확인\n",
        "import tensorflow as tf\n",
        "\n",
        "scalar = tf.constant(1)\n",
        "vector = tf.constant([1, 2, 3])\n",
        "matrix = tf.constant([[1, 2, 3], [4, 5, 6], [7, 8, 9]])\n",
        "tensor = tf.constant([[[1, 2, 3], [4, 5, 6], [7, 8, 9]],\n",
        "[[1, 2, 3], [4, 5, 6], [7, 8, 9]],\n",
        "[[1, 2, 3], [4, 5, 6], [7, 8, 9]]])\n",
        "\n",
        "print(tf.rank(scalar))\n",
        "print(tf.rank(vector)) #1차원구조\n",
        "print(tf.rank(matrix)) #2차원구조\n",
        "print(tf.rank(tensor)) #3차원구조"
      ],
      "execution_count": 3,
      "outputs": [
        {
          "output_type": "stream",
          "text": [
            "tf.Tensor(0, shape=(), dtype=int32)\n",
            "tf.Tensor(1, shape=(), dtype=int32)\n",
            "tf.Tensor(2, shape=(), dtype=int32)\n",
            "tf.Tensor(3, shape=(), dtype=int32)\n"
          ],
          "name": "stdout"
        }
      ]
    },
    {
      "cell_type": "markdown",
      "metadata": {
        "id": "trWHr_ySeNga"
      },
      "source": [
        "Tensor\n",
        "\n",
        "• tf.zeros()는 모든 요소가 0인 텐서를 만듭니다.\n",
        "\n",
        "• tf.ones()는 모든 요소가 1인 텐서를 만듭니다.\n",
        "\n",
        "• tf.zeros(), tf.ones()에 만들어질 텐서의 형태 (shape)를 입력합니다."
      ]
    },
    {
      "cell_type": "code",
      "metadata": {
        "colab": {
          "base_uri": "https://localhost:8080/"
        },
        "id": "xFrujnRgeSQN",
        "outputId": "b9fafb67-3aad-4a9c-c761-d2351f383649"
      },
      "source": [
        "a = tf.zeros(1) \n",
        "b = tf.zeros([2])  \n",
        "c = tf.zeros([2, 3])  \n",
        "\n",
        "print(a, tf.rank(a)) #1차원구조\n",
        "print(b, tf.rank(b)) #1차원구조\n",
        "print(c, tf.rank(c)) #2차원구조"
      ],
      "execution_count": 4,
      "outputs": [
        {
          "output_type": "stream",
          "text": [
            "tf.Tensor([0.], shape=(1,), dtype=float32) tf.Tensor(1, shape=(), dtype=int32)\n",
            "tf.Tensor([0. 0.], shape=(2,), dtype=float32) tf.Tensor(1, shape=(), dtype=int32)\n",
            "tf.Tensor(\n",
            "[[0. 0. 0.]\n",
            " [0. 0. 0.]], shape=(2, 3), dtype=float32) tf.Tensor(2, shape=(), dtype=int32)\n"
          ],
          "name": "stdout"
        }
      ]
    },
    {
      "cell_type": "code",
      "metadata": {
        "colab": {
          "base_uri": "https://localhost:8080/"
        },
        "id": "uw7nemLseVOD",
        "outputId": "e3770982-9b26-474d-ea80-e1d342863fc0"
      },
      "source": [
        "a = tf.ones(3)\n",
        "b = tf.ones([4])\n",
        "c = tf.ones([2, 2, 2])\n",
        "\n",
        "print(a, tf.rank(a)) #1차원구조\n",
        "print(b, tf.rank(b)) #1차원구조\n",
        "print(c, tf.rank(c)) #3차원구조\n",
        "\n",
        "#넘파이 배열과 비슷하다"
      ],
      "execution_count": 5,
      "outputs": [
        {
          "output_type": "stream",
          "text": [
            "tf.Tensor([1. 1. 1.], shape=(3,), dtype=float32) tf.Tensor(1, shape=(), dtype=int32)\n",
            "tf.Tensor([1. 1. 1. 1.], shape=(4,), dtype=float32) tf.Tensor(1, shape=(), dtype=int32)\n",
            "tf.Tensor(\n",
            "[[[1. 1.]\n",
            "  [1. 1.]]\n",
            "\n",
            " [[1. 1.]\n",
            "  [1. 1.]]], shape=(2, 2, 2), dtype=float32) tf.Tensor(3, shape=(), dtype=int32)\n"
          ],
          "name": "stdout"
        }
      ]
    },
    {
      "cell_type": "markdown",
      "metadata": {
        "id": "VfQOrWFxflXi"
      },
      "source": [
        "Tensor\n",
        "\n",
        "• tf.range()는 파이썬 range()와 비슷하게, 주어진 범위와 간격을 갖는 숫자들의 시퀀스를 만듭니다\n",
        "\n",
        "• tf.linspace()는 numpy.linspace()와 비슷하게, 주어진 범위를 균일한 간격으로 나누는 숫자의 시퀀스를 반환합니다"
      ]
    },
    {
      "cell_type": "code",
      "metadata": {
        "colab": {
          "base_uri": "https://localhost:8080/"
        },
        "id": "HWjj1IiYfzu4",
        "outputId": "ac44376d-04c0-4a14-9222-b6f269d5420c"
      },
      "source": [
        "a = tf.range(0, 3)\n",
        "b = tf.range(1, 5, 2)\n",
        "\n",
        "print(a)\n",
        "print(b)"
      ],
      "execution_count": 6,
      "outputs": [
        {
          "output_type": "stream",
          "text": [
            "tf.Tensor([0 1 2], shape=(3,), dtype=int32)\n",
            "tf.Tensor([1 3], shape=(2,), dtype=int32)\n"
          ],
          "name": "stdout"
        }
      ]
    },
    {
      "cell_type": "code",
      "metadata": {
        "colab": {
          "base_uri": "https://localhost:8080/"
        },
        "id": "WBHynlElfqU-",
        "outputId": "ff37bd80-2f45-4a1b-a394-51c60170c34e"
      },
      "source": [
        "a = tf.linspace(0, 1, 3)\n",
        "b = tf.linspace(0, 3, 10)\n",
        "\n",
        "print(a)\n",
        "print(b)"
      ],
      "execution_count": 7,
      "outputs": [
        {
          "output_type": "stream",
          "text": [
            "tf.Tensor([0.  0.5 1. ], shape=(3,), dtype=float64)\n",
            "tf.Tensor(\n",
            "[0.         0.33333333 0.66666667 1.         1.33333333 1.66666667\n",
            " 2.         2.33333333 2.66666667 3.        ], shape=(10,), dtype=float64)\n"
          ],
          "name": "stdout"
        }
      ]
    },
    {
      "cell_type": "code",
      "metadata": {
        "colab": {
          "base_uri": "https://localhost:8080/"
        },
        "id": "r-Mxe3g6gffc",
        "outputId": "11994436-5348-449e-eb9c-df97121a73aa"
      },
      "source": [
        "# TensorFlow는 텐서 (Tensor)를 생성하고 연산하는 다양한 수학적 함수를 제공합니다\n",
        "a = tf.add(1, 2)\n",
        "b = tf.subtract(10, 5)\n",
        "c = tf.square(3)\n",
        "d = tf.reduce_sum([1, 2, 3])\n",
        "e = tf.reduce_mean([1, 2, 3])\n",
        "\n",
        "print(a)\n",
        "print(b)\n",
        "print(c)\n",
        "print(d)\n",
        "print(e)"
      ],
      "execution_count": 8,
      "outputs": [
        {
          "output_type": "stream",
          "text": [
            "tf.Tensor(3, shape=(), dtype=int32)\n",
            "tf.Tensor(5, shape=(), dtype=int32)\n",
            "tf.Tensor(9, shape=(), dtype=int32)\n",
            "tf.Tensor(6, shape=(), dtype=int32)\n",
            "tf.Tensor(2, shape=(), dtype=int32)\n"
          ],
          "name": "stdout"
        }
      ]
    },
    {
      "cell_type": "markdown",
      "metadata": {
        "id": "gqtgT7O8hJbp"
      },
      "source": [
        "텐서플로우의 Data Flow Graph Computation\n",
        "\n",
        "• Data Flow Graph 란 노드를 연결하는 엣지가 \n",
        "데이터를 노드는 데이터를 통해 수행하는 연산 역할을 하는 그래프 구조를 의미합니다.\n",
        "\n",
        "• Data Flow Graph Computation란 데이터가 edge역할을 하여 node로 흘러가는 그래프 구조를 갖으며 node에 지정된 연산을 하는 연산방법\n",
        "\n",
        "• 텐서(Tensors)가 기본 자료구조이기 때문에 텐서플로우의 엣지(Edge)는 텐서를 의미\n",
        "\n",
        "• 엣지의 방향은 텐서의 흐름을 의미\n",
        "\n",
        "• 노드(Node)는 곱하고, 나누는 등 텐서를 처리하는 연산"
      ]
    },
    {
      "cell_type": "markdown",
      "metadata": {
        "id": "AXbuAvP4hcpc"
      },
      "source": [
        "• tf.Session을 사용하여 텐서 값을 출력하는 대신 numpy() 메소드를 사용하면 넘파이 배열로 변환\n",
        "\n",
        "• 텐서 (Tensor)는 NumPy 어레이와 비슷하지만, 텐서는 GPU, TPU와 같은 가속기에서 사용할 수 있고, 텐서\n",
        "는 값을 변경할 수 없습니다"
      ]
    },
    {
      "cell_type": "code",
      "metadata": {
        "colab": {
          "base_uri": "https://localhost:8080/"
        },
        "id": "-3htIUSZhXQ7",
        "outputId": "db213fa3-fcdc-4b8e-b1aa-7baf35a788bd"
      },
      "source": [
        "a = tf.constant([1, 2, 3])\n",
        "\n",
        "print(a)\n",
        "print(a.numpy())"
      ],
      "execution_count": 10,
      "outputs": [
        {
          "output_type": "stream",
          "text": [
            "tf.Tensor([1 2 3], shape=(3,), dtype=int32)\n",
            "[1 2 3]\n"
          ],
          "name": "stdout"
        }
      ]
    },
    {
      "cell_type": "code",
      "metadata": {
        "colab": {
          "base_uri": "https://localhost:8080/"
        },
        "id": "NlZ3oQ1liChl",
        "outputId": "842fa2d1-6d22-4536-9c95-4ed914fc0bda"
      },
      "source": [
        "import numpy as np\n",
        "\n",
        "b = np.ones(3)\n",
        "\n",
        "print(b)\n",
        "print(tf.multiply(b, 3))"
      ],
      "execution_count": 11,
      "outputs": [
        {
          "output_type": "stream",
          "text": [
            "[1. 1. 1.]\n",
            "tf.Tensor([3. 3. 3.], shape=(3,), dtype=float64)\n"
          ],
          "name": "stdout"
        }
      ]
    },
    {
      "cell_type": "markdown",
      "metadata": {
        "id": "UxJ2xDyclVX7"
      },
      "source": [
        "#### 딥러닝 라이브러리 Keras\n",
        "\n",
        "• 머신러닝 라이브러리 Theano와 TensorFlow를 래핑한 라이브러리\n",
        "\n",
        "• 케라스는 인공신경망 모델을 만들기 위한 Sequential 클래스와 완전 연결층을 만들기 위한 Dense 클래스를 제\n",
        "공한다.\n",
        "\n",
        "• Sequential 클래스는 ‘순차적으로 층을 쌓은 신경망 모델’이고, Dense 클래스는 각 층이 각각 어떤 특성을 가질지 옵션을 설정하는 역할을 합니다.\n",
        "\n",
        "• 은닉층과 출력층을 Dense 클래스의 객체로 구성하고 각각의 객체를 Sequential 클래스 객체에 추가하면 완성된다.\n",
        "\n",
        "• Sequential로 딥러닝의 각 층을 add()로 추가\n",
        "\n",
        "• 활성화 함수, Dropout 등 add()로 간단하게 추가\n",
        "\n",
        "• compile()로 모델 구축, loss 로 최적화 함수 지정\n",
        ",fit() 로 모델에 데이터를 학습시킴"
      ]
    },
    {
      "cell_type": "markdown",
      "metadata": {
        "id": "gAbRIgH-mv-e"
      },
      "source": [
        "Neural Network 구성\n",
        "\n",
        "• tf.keras 모듈의 Sequential 클래스는 Neural Network의 각 층을 순서대로 쌓을 수 있도록 합니다.\n",
        "\n",
        "• tf.keras.layers 모듈의 Dense 클래스는 (완전 연결된) 하나의 뉴런층을 구현합니다.\n",
        "\n",
        "• units는 뉴런 또는 출력 노드의 개수를 의미하며, 양의 정수로 설정합니다.\n",
        "\n",
        "• input_shape는 입력 데이터의 형태를 결정합니다.\n",
        "\n",
        "• 손실함수는 Neural Network의 예측이 얼마나 잘 맞는지 측정하는 역할을 하고, 옵티마이저는 더 개선된 예측값을 출력하도록 최적화하는 알고리즘입니다."
      ]
    },
    {
      "cell_type": "code",
      "metadata": {
        "id": "Jo02sY3pm6qm"
      },
      "source": [
        "# Neural Network 구성\n",
        "\n",
        "import tensorflow as tf\n",
        "from tensorflow import keras\n",
        "import numpy as np\n",
        "\n",
        "model = keras.Sequential([keras.layers.Dense(units=1, input_shape=[1])])\n",
        "\n",
        "# Neural Network 컴파일\n",
        "#모델의 학습에 필요한 손실함수 (loss function)와 옵티마이저 (optimizer)를 결정합니다.\n",
        "model.compile(loss='mean_squared_error', optimizer='sgd')"
      ],
      "execution_count": 15,
      "outputs": []
    },
    {
      "cell_type": "code",
      "metadata": {
        "id": "y9HQ6Kwjnl-g"
      },
      "source": [
        "# Neural Network 훈련\n",
        "#xs, ys는 Neural Network의 훈련에 사용할 입력과 출력 데이터이며, ‘y = 2x - 1’의 관계를 갖는 것처럼 보입니다.\n",
        "xs = np.array([-1.0, 0.0, 1.0, 2.0, 3.0, 4.0], dtype=float)\n",
        "ys = np.array([-3.0, -1.0, 1.0, 3.0, 5.0, 7.0], dtype=float)\n",
        "\n",
        "#에포크 (epoch)는 주어진 데이터를 한 번 훈련하는 단위입니다.\n",
        "model.fit(xs, ys, epochs=500)"
      ],
      "execution_count": null,
      "outputs": []
    },
    {
      "cell_type": "code",
      "metadata": {
        "colab": {
          "base_uri": "https://localhost:8080/"
        },
        "id": "eES0nTN0n5Pr",
        "outputId": "8f0a4800-eab2-49e6-b096-bfe5438b0e42"
      },
      "source": [
        "# Neural Network 예측\n",
        "\n",
        "#predict()을 사용하면 특정 입력에 대해 Neural Network가 예측하는 값을 얻을 수 있습니다\n",
        "pred = model.predict([5.0])\n",
        "print(pred)"
      ],
      "execution_count": 17,
      "outputs": [
        {
          "output_type": "stream",
          "text": [
            "[[8.995941]]\n"
          ],
          "name": "stdout"
        }
      ]
    },
    {
      "cell_type": "markdown",
      "metadata": {
        "id": "CYkvHoTspUjd"
      },
      "source": [
        "손실함수\n",
        "\n",
        "• 손실 함수 (Loss function)는 Neural Network의 예측이 얼마나 잘 맞는지 측정하는 역할을 합니다.\n",
        "\n",
        "• 손실 함수로부터 얻어진 손실값 (Loss value)은 훈련 과정에서 Neural Network가 얼마나 잘 훈련되었는지 확인하는 지표가 됩니다.\n",
        "\n",
        "• 예측치와 관측값의 차이인 오차의 제곱에 비례해서 손실 함수로부터 계산되는 손실값이 커집니다."
      ]
    },
    {
      "cell_type": "code",
      "metadata": {
        "id": "eEkMeqKHpY6H"
      },
      "source": [
        "import tensorflow as tf\n",
        "from tensorflow import keras\n",
        "import numpy as np\n",
        "\n",
        "model = keras.Sequential([keras.layers.Dense(units=3,\n",
        "input_shape=[1])])\n",
        "#손실 함수 Mean Squared Error 평균 제곱 오차 설정\n",
        "model.compile(loss='mse')"
      ],
      "execution_count": 18,
      "outputs": []
    },
    {
      "cell_type": "code",
      "metadata": {
        "colab": {
          "base_uri": "https://localhost:8080/"
        },
        "id": "wD_h4MYNphME",
        "outputId": "95e9423a-cd76-4d8d-cab6-550420f97cb2"
      },
      "source": [
        "pred = model.predict([0])\n",
        "print(pred)\n",
        "\n",
        "#evaluate()는 예측값과 관측값 사이의 손실값을 반환합니다.\n",
        "model.evaluate([0], [[0, 1, 0]])"
      ],
      "execution_count": 19,
      "outputs": [
        {
          "output_type": "stream",
          "text": [
            "[[0. 0. 0.]]\n",
            "1/1 [==============================] - 0s 86ms/step - loss: 0.3333\n"
          ],
          "name": "stdout"
        },
        {
          "output_type": "execute_result",
          "data": {
            "text/plain": [
              "0.3333333432674408"
            ]
          },
          "metadata": {
            "tags": []
          },
          "execution_count": 19
        }
      ]
    },
    {
      "cell_type": "markdown",
      "metadata": {
        "id": "KdF9XXZprGEL"
      },
      "source": [
        "옵티마이저\n",
        "\n",
        "• 옵티마이저 (Optimizer)는 손실 함수을 통해 얻은 손실값으로부터 모델을 업데이트하는 방식을 의미합니다.\n",
        "\n",
        "• TensorFlow는 SGD, Adam, RMSprop과 같은 다양한 종류의 옵티마이저를 제공합니다."
      ]
    },
    {
      "cell_type": "code",
      "metadata": {
        "colab": {
          "base_uri": "https://localhost:8080/"
        },
        "id": "X45WPg59rJyq",
        "outputId": "36afb1a8-fd8a-43cb-ad68-01e9e41d4478"
      },
      "source": [
        "import tensorflow as tf\n",
        "from tensorflow import keras\n",
        "import numpy as np\n",
        "\n",
        "# tf.random 모듈의 set_seed() 함수를 사용해서 랜덤 시드를 설정\n",
        "tf.random.set_seed(0)\n",
        "\n",
        "model = keras.Sequential([keras.layers.Dense(units=3, input_shape=[1])])\n",
        "#옵티마이저로 ‘SGD( Stochastic Gradient Descent, 확률적 경사하강법)’을 지정\n",
        "model.compile(loss='mse', optimizer='SGD')\n",
        "\n",
        "#학습\n",
        "model.fit([1], [[0, 1, 0]], epochs=1)\n",
        "\n",
        "#손실값 확인\n",
        "model.evaluate([1], [[0, 1, 0]])"
      ],
      "execution_count": 26,
      "outputs": [
        {
          "output_type": "stream",
          "text": [
            "1/1 [==============================] - 0s 179ms/step - loss: 1.0738\n",
            "1/1 [==============================] - 0s 62ms/step - loss: 1.0453\n"
          ],
          "name": "stdout"
        },
        {
          "output_type": "execute_result",
          "data": {
            "text/plain": [
              "1.0453256368637085"
            ]
          },
          "metadata": {
            "tags": []
          },
          "execution_count": 26
        }
      ]
    },
    {
      "cell_type": "code",
      "metadata": {
        "id": "az3a75USr6vz"
      },
      "source": [
        "#100회 훈련 과정의 훈련 시간과 손실값이 출력\n",
        "history = model.fit([1], [[0, 1, 0]], epochs=100)"
      ],
      "execution_count": null,
      "outputs": []
    },
    {
      "cell_type": "code",
      "metadata": {
        "colab": {
          "base_uri": "https://localhost:8080/",
          "height": 319
        },
        "id": "ORELz8ArslZc",
        "outputId": "d636d336-776e-47bb-b859-e16b4348c4a4"
      },
      "source": [
        "#500회의 에포크 동안 훈련에 의해 출력값이 변화하는 과정을 시각화\n",
        "import matplotlib.pyplot as plt\n",
        "\n",
        "plt.style.use('default')\n",
        "plt.rcParams['figure.figsize'] = (4, 3)\n",
        "plt.rcParams['font.size'] = 12\n",
        "\n",
        "loss = history.history['loss']\n",
        "plt.plot(loss)\n",
        "plt.xlabel('Epoch')\n",
        "plt.ylabel('Loss')\n",
        "plt.show()"
      ],
      "execution_count": 30,
      "outputs": [
        {
          "output_type": "display_data",
          "data": {
            "image/png": "[encoded data removed]",
            "text/plain": [
              "<Figure size 400x300 with 1 Axes>"
            ]
          },
          "metadata": {
            "tags": []
          }
        }
      ]
    },
    {
      "cell_type": "code",
      "metadata": {
        "id": "F_eCzHqktWDv"
      },
      "source": [
        "plt.style.use('default')\n",
        "plt.rcParams['figure.figsize'] = (4, 3)\n",
        "plt.rcParams['font.size'] =12\n",
        "\n",
        "tf.random.set_seed(0)\n",
        "model = keras.Sequential([keras.layers.Dense(units=3, input_shape=[1])])\n",
        "\n",
        "tf.random.set_seed(0)\n",
        "model2 = tf.keras.models.clone_model(model)\n",
        "\n",
        "tf.random.set_seed(0)\n",
        "model3 = tf.keras.models.clone_model(model)\n",
        "\n",
        "model.compile(loss='mse', optimizer='SGD')  \n",
        "model2.compile(loss='mse', optimizer='Adam')\n",
        "model3.compile(loss='mse', optimizer='RMSprop')"
      ],
      "execution_count": 36,
      "outputs": []
    },
    {
      "cell_type": "markdown",
      "metadata": {
        "id": "rL47pCQFuc_1"
      },
      "source": [
        "• 경사 하강법 - 추출된 데이터 한 개에 대해서 그래디언트를 계산하고, 경사 하강 알고리즘을 적용하는 방법  \n",
        "\n",
        "• 확률적 경사 하강법 - 전체 데이터를 사용하는 것이 아니라, 랜덤하게 추출한 일부 데이터를 사용하는 것이다  \n",
        ": 학습 중간 과정에서 결과의 진폭이 크고 불안정하며, 속도가 매우 빠르다\n",
        "\n"
      ]
    },
    {
      "cell_type": "code",
      "metadata": {
        "id": "z2_c7rN2vUrg"
      },
      "source": [
        "history = model.fit([1], [[0, 1, 0]], epochs=100, verbose=0)\n",
        "history2 = model2.fit([1], [[0, 1, 0]], epochs=100, verbose=0)\n",
        "history3 = model3.fit([1], [[0, 1, 0]], epochs=100, verbose=0)"
      ],
      "execution_count": 37,
      "outputs": []
    },
    {
      "cell_type": "code",
      "metadata": {
        "colab": {
          "base_uri": "https://localhost:8080/",
          "height": 319
        },
        "id": "9AYiXQ22vhZ4",
        "outputId": "7041afd1-13bc-48b4-b856-99c7d7252191"
      },
      "source": [
        "loss = history.history['loss']\n",
        "loss2 = history2.history['loss']\n",
        "loss3 = history3.history['loss']\n",
        "\n",
        "plt.plot(loss, label='SGD')\n",
        "plt.plot(loss2, label='Adam')\n",
        "plt.plot(loss3, label='RMSprop')\n",
        "\n",
        "plt.xlabel('Epoch')\n",
        "plt.ylabel('Loss')\n",
        "plt.legend(loc='lower left')\n",
        "plt.show()\n"
      ],
      "execution_count": 39,
      "outputs": [
        {
          "output_type": "display_data",
          "data": {
            "image/png": "[encoded data removed]",
            "text/plain": [
              "<Figure size 400x300 with 1 Axes>"
            ]
          },
          "metadata": {
            "tags": []
          }
        }
      ]
    },
    {
      "cell_type": "markdown",
      "metadata": {
        "id": "Of-JbHSZ0mDi"
      },
      "source": [
        "#### 딥러닝 동작원리\n",
        "\n",
        "##### 선형 회귀(linear regression)\n",
        "• 선형 회귀는 정확한 직선을 그려내는 과정으로 직선의 기울기 a 값과 y 절편 b 값을 정확히 예측해 내야 하는 것\n",
        "\n",
        "• 딥러닝 – x가 주어지고 원하는 y 값이 있을 때 적절한 a와 b를 찾는 것\n",
        "\n",
        "• x가 일차인 형태이며 x가 일차로 남으려면 a는 0이 아니어야 합니다.\n",
        "\n",
        "• 일차 함수식 y = ax + b에서 a는 기울기, b는 절편"
      ]
    },
    {
      "cell_type": "markdown",
      "metadata": {
        "id": "tPHjIjmS06wj"
      },
      "source": [
        "##### 최소 제곱법(method of least squares)\n",
        "\n",
        "• 최소 제곱법 - 회귀 분석에서 사용되는 표준 방식\n",
        "\n",
        "• 실험이나 관찰을 통해 얻은 데이터를 분석하여 미지의 상수를 구할 때 사용되는 공식\n",
        "\n",
        "• 최소 제곱법을 통해 일차 함수의 기울기 a와 y 절편 b를 구할 수 있습니다.\n",
        "\n",
        "• y 절편인 b를 구하는 공식 : b = mean(y) - (mean(x) * a)"
      ]
    },
    {
      "cell_type": "code",
      "metadata": {
        "colab": {
          "base_uri": "https://localhost:8080/"
        },
        "id": "y-H1wrDq1uBD",
        "outputId": "512a93c1-b9b6-4b3f-b255-0053d8177538"
      },
      "source": [
        "import numpy as np\n",
        "\n",
        "# x 값과 y 값\n",
        "x=[2, 4, 6, 8]\n",
        "y=[81, 93, 91, 97]\n",
        "\n",
        "# x와 y의 평균값\n",
        "mx = np.mean(x)\n",
        "my = np.mean(y)\n",
        "print(\"x의 평균값:\", mx)\n",
        "print(\"y의 평균값:\", my)\n",
        "\n",
        "# 기울기 공식의 분모\n",
        "divisor = sum([(mx - i)**2 for i in x])\n",
        "\n",
        "# 기울기 공식의 분자\n",
        "def top(x, mx, y, my):\n",
        "  d = 0\n",
        "  for i in range(len(x)):\n",
        "    d += (x[i] - mx) * (y[i] - my)\n",
        "  return d\n",
        "\n",
        "dividend = top(x, mx, y, my)\n",
        "\n",
        "print(\"분모:\", divisor)\n",
        "print(\"분자:\", dividend)\n",
        "\n",
        "# 기울기와 y 절편 구하기\n",
        "a = dividend / divisor\n",
        "b = my - (mx*a)\n",
        "\n",
        "# 출력으로 확인\n",
        "print(\"기울기 a =\", a)\n",
        "print(\"y 절편 b =\", b)"
      ],
      "execution_count": 48,
      "outputs": [
        {
          "output_type": "stream",
          "text": [
            "x의 평균값: 5.0\n",
            "y의 평균값: 90.5\n",
            "분모: 20.0\n",
            "분자: 46.0\n",
            "기울기 a = 2.3\n",
            "y 절편 b = 79.0\n"
          ],
          "name": "stdout"
        }
      ]
    },
    {
      "cell_type": "markdown",
      "metadata": {
        "id": "2RClBjHw4Zoi"
      },
      "source": [
        "평균 제곱근 오차(root mean square error)\n",
        "\n",
        "• 딥러닝은 대부분 입력 값이 여러 개인 상황에서 이를 해결하기 위해 실행됩니다.\n",
        "\n",
        "• 여러 개의 입력 값을 계산할 때는 임의의 선을 그리고 난 후, 이 선이 얼마나 잘 그려졌는지를 평가하여 조금씩 수정해가는 방법을 사용합니다.\n",
        "\n",
        "• 가설을 하나 세운 뒤 이 값이 주어진 요건을 충족하는지 판단하여 조금씩 변화를 주고, 이 변화가 긍정적이면 오차가 최소가 될 때까지 이 과정을 계속 반복하는 방법입니다.\n",
        "\n",
        "• 선을 긋고 나서 수정하는 과정에서 나중에 그린 선이 먼저 그린 선보다 더 좋은지 나쁜지를 판단하는 방법이 필요합니다.\n",
        "\n",
        "• 각 선의 오차를 계산할 수 있어야 하고, 오차가 작은 쪽으로 바꾸는 알고리즘이 필요합니다.\n",
        "\n",
        "• 기울기가 잘못되었을 수록 직선과의 거리의 합, 즉 오차의 합도 커집니다.\n",
        "\n",
        "• 기울기가 무한대로 커지면 오차도 무한대로 커지는 상관관계가 있습니다.\n",
        "\n",
        "• 오차 = 실제 값 - 예측 값"
      ]
    },
    {
      "cell_type": "code",
      "metadata": {
        "id": "r4QFqSjn5HSi"
      },
      "source": [
        "import numpy as np\n",
        "\n",
        "# 기울기 a와 y 절편 b\n",
        "ab = [3, 76]\n",
        "\n",
        "# x, y의 데이터 값\n",
        "data = [[2, 81], [4, 93], [6, 91], [8, 97]]\n",
        "x = [i[0] for i in data]\n",
        "y = [i[1] for i in data]\n",
        "\n",
        "# y = ax + b에 a와 b 값을 대입하여 결과를 출력하는 함수(예측값)\n",
        "def predict(x):\n",
        "  return ab[0]*x + ab[1]\n",
        "\n",
        "# RMSE 함수\n",
        "def rmse(p, a):\n",
        "  return np.sqrt(((p - a) ** 2).mean())\n",
        "\n",
        "# RMSE 함수를 각 y 값에 대입하여 최종 값을 구하는 함수 (실제값)\n",
        "def rmse_val(predict_result,y):\n",
        "  return rmse(np.array(predict_result), np.array(y))"
      ],
      "execution_count": 49,
      "outputs": []
    },
    {
      "cell_type": "code",
      "metadata": {
        "colab": {
          "base_uri": "https://localhost:8080/"
        },
        "id": "Q91LFbtn5OD5",
        "outputId": "e46fc51d-5795-4ead-f018-e140f1bea23d"
      },
      "source": [
        "# 예측 값이 들어갈 빈 리스트\n",
        "predict_result = []\n",
        "\n",
        "# 모든 x 값을 한 번씩 대입하여\n",
        "for i in range(len(x)):\n",
        "  # predict_result 리스트를 완성한다.\n",
        "  predict_result.append(predict(x[i]))\n",
        "  print(\"공부한 시간 = %.f, 실제 점수 = %.f, 예측 점수 = %.f\" % (x[i], y[i], predict(x[i])))\n",
        "\n",
        "# 최종 RMSE 출력\n",
        "print(\"rmse 최종값: \" + str(rmse_val(predict_result,y)))"
      ],
      "execution_count": 51,
      "outputs": [
        {
          "output_type": "stream",
          "text": [
            "공부한 시간 = 2, 실제 점수 = 81, 예측 점수 = 82\n",
            "공부한 시간 = 4, 실제 점수 = 93, 예측 점수 = 88\n",
            "공부한 시간 = 6, 실제 점수 = 91, 예측 점수 = 94\n",
            "공부한 시간 = 8, 실제 점수 = 97, 예측 점수 = 100\n",
            "rmse 최종값: 3.3166247903554\n"
          ],
          "name": "stdout"
        }
      ]
    },
    {
      "cell_type": "markdown",
      "metadata": {
        "id": "QKNN-AXO6HPE"
      },
      "source": [
        "• 최솟값은 ‘최소 제곱법’ 공식으로 쉽게 알아낼 수 있습니다.\n",
        "\n",
        "• 딥러닝을 실행할 때 만나는 문제에서는 최소 제곱법을 계산하기 위해 꼭 필요한 조건들을 알 수 없기 때문에 대부분 최소 제곱법을 활용할 수가 없습니다.\n",
        "\n",
        "• 따라서 미분과 기울기를 이용해야 합니다"
      ]
    },
    {
      "cell_type": "markdown",
      "metadata": {
        "id": "g43-jlBG7Ugp"
      },
      "source": [
        "#### 오차 수정 – 경사하강법(gradient decent)\n",
        "\n",
        "• 기울기 a를 무한대로 키우면 오차도 무한대로 커지고 a를 무한대로 작게 해도 역시 오차도 무한대로 작아지는 상관관계는 이차 함수 그래프로 표현할 수 있습니다.\n",
        "\n",
        "• 미분 기울기를 이용하는 경사 하강법(gradient decent)은 이차 함수 그래프에서 오차를 비교하여 가장 작은 방향으로 이동시키는 방법\n",
        "\n",
        "• 기울기 a와 오차와의 관계: 적절한 기울기를 찾았을 때 오차가 최소화된다."
      ]
    },
    {
      "cell_type": "markdown",
      "metadata": {
        "id": "XdaV9rx_7-AI"
      },
      "source": [
        "#### 미분\n",
        "\n",
        "• a가 아주 미세하게 오른쪽이나 왼쪽으로 이동하면 종속 변수인 y 값도 그에 따라 아주 미세하게 변화합니다.\n",
        "\n",
        "• a가 변화량이 0에 가까울 만큼 아주 미세하게 변화하면 y 값의 변화 역시 아주 미세해서 0에 가깝게 변화합니다. (순간 변화율)\n",
        "\n",
        "• 순간 변화율은 '어느 쪽' 이라는 방향성을 지니고 있으므로 이 방향에 맞추어 직선(점에서의 '기울기', 접선)을 그릴 수가 있습니다.  \n",
        "이 선이 바로 이 점에서의 기울기가 됩니다.\n",
        "\n",
        "---  \n",
        "f(x) = a에서 a가 상수일 때 미분 값은 0입니다.\n",
        "\n",
        "f(x) = x일때의 미분 값은 1입니다.\n",
        "\n",
        "f(x) = ax에서 a가 상수이면 미분 값은 a입니다.\n",
        "\n",
        "f(x) = xa에서 a가 자연수이면 미분 값은 ax제곱(a-1)이 됩니다.   \n",
        "\n",
        "---"
      ]
    },
    {
      "cell_type": "markdown",
      "metadata": {
        "id": "lmYUtKQa80U4"
      },
      "source": [
        "####경사하강법(gradient decent)\n",
        "\n",
        "• y = X2 그래프에서 X에 a1 , a2그리고 m을 대입하여 미분하면 각 점에서의 순간 기울기가 그려집니다.\n",
        "\n",
        "• 순간 기울기가 0인 점이 최솟값 m이다.\n",
        "\n",
        "• 그래프가 이차 함수 포물선이므로 꼭짓점의 기울기는 x축과 평행한 선이 되며, 기울기가 0입니다.\n",
        "\n",
        "• 경사 하강법은 반복적으로 기울기 a를 변화시켜서 m의 값을 찾아내는 방법 (‘미분 값이 0인 지점’을 찾는 것)입니다."
      ]
    },
    {
      "cell_type": "markdown",
      "metadata": {
        "id": "RLTTpW46-PAr"
      },
      "source": [
        "#### 학습률(learning rate)\n",
        "• 기울기의 부호를 바꿔 이동시킬 때 적절한 거리를 찾지 못해 너무 멀리 이동시키면 a 값이 한 점으로 모이지 않고 위로 치솟아 버립니다\n",
        "\n",
        "• 이동 거리를 정해주는 것이 바로 학습률(learning rate)입니다."
      ]
    },
    {
      "cell_type": "markdown",
      "metadata": {
        "id": "J3UGiViwCgvQ"
      },
      "source": [
        "경사하강법(gradient decent) 코드 구현\n",
        "\n",
        "• 경사 하강법은 오차의 변화에 따라 이차 함수 그래프를 만들고 적절한 학습률을 설정해 미분 값이 0인 지점을 구하는 것입니다.\n",
        "\n",
        "• y 절편 b의 값도 b 값이 너무 크면 오차도 함께 커지고 너무 작아도 오차가 커집니다.\n",
        "\n",
        "• 최적의 b 값을 구할 때 역시 경사 하강법을 사용합니다.\n",
        "\n",
        "• GradientDescentOptimizer() : 경사 하강법 함수"
      ]
    },
    {
      "cell_type": "code",
      "metadata": {
        "colab": {
          "base_uri": "https://localhost:8080/"
        },
        "id": "3cAPRukyE3bX",
        "outputId": "7ea42cb6-bd9d-47d6-8ecd-99f703083248"
      },
      "source": [
        "import tensorflow as tf\n",
        "\n",
        "data = [[2, 81], [4, 93], [6, 91], [8, 97]]\n",
        "\n",
        "x = [i[0] for i in data]\n",
        "y = [i[1] for i in data]\n",
        "\n",
        "x_data = np.array(x)\n",
        "y_data = np.array(y)\n",
        "\n",
        "#기울기 a와 절편 b의 값 초기화\n",
        "a = 0\n",
        "b = 0\n",
        "\n",
        "lr = 0.05  #학습률\n",
        "\n",
        "epochs = 2001\n",
        "\n",
        "for i in range(epochs):  #에포크 수만큼 반복\n",
        "  y_pred = a * x_data + b  #y를 구하는 식 세우기\n",
        "  error = y_data - y_pred  #오차를 구하는 식\n",
        "  # 오차 함수를 a로 미분한 값\n",
        "  a_diff = -(1/len(x_data)) * sum(x_data * (error))\n",
        "  # 오차 함수를 b로 미분한 값\n",
        "  b_diff = -(1/len(x_data)) * sum(y_data - y_pred)\n",
        "\n",
        "  a = a - lr* a_diff  #학습률을 곱해 기존의 a값 업데이트\n",
        "  b = b - lr* b_diff  #학습률을 곱해 기존의 b값 업데이트\n",
        "\n",
        "  if i % 100 == 0:\n",
        "    print(\"epoch=%.f, 기울기=%.04f, 절편=%.04f\" % (i, a, b))"
      ],
      "execution_count": 14,
      "outputs": [
        {
          "output_type": "stream",
          "text": [
            "epoch=0, 기울기=23.2000, 절편=4.5250\n",
            "epoch=100, 기울기=7.9316, 절편=45.3932\n",
            "epoch=200, 기울기=4.7953, 절편=64.1094\n",
            "epoch=300, 기울기=3.4056, 절편=72.4022\n",
            "epoch=400, 기울기=2.7899, 절편=76.0766\n",
            "epoch=500, 기울기=2.5171, 절편=77.7047\n",
            "epoch=600, 기울기=2.3962, 절편=78.4261\n",
            "epoch=700, 기울기=2.3426, 절편=78.7457\n",
            "epoch=800, 기울기=2.3189, 절편=78.8873\n",
            "epoch=900, 기울기=2.3084, 절편=78.9501\n",
            "epoch=1000, 기울기=2.3037, 절편=78.9779\n",
            "epoch=1100, 기울기=2.3016, 절편=78.9902\n",
            "epoch=1200, 기울기=2.3007, 절편=78.9957\n",
            "epoch=1300, 기울기=2.3003, 절편=78.9981\n",
            "epoch=1400, 기울기=2.3001, 절편=78.9991\n",
            "epoch=1500, 기울기=2.3001, 절편=78.9996\n",
            "epoch=1600, 기울기=2.3000, 절편=78.9998\n",
            "epoch=1700, 기울기=2.3000, 절편=78.9999\n",
            "epoch=1800, 기울기=2.3000, 절편=79.0000\n",
            "epoch=1900, 기울기=2.3000, 절편=79.0000\n",
            "epoch=2000, 기울기=2.3000, 절편=79.0000\n"
          ],
          "name": "stdout"
        }
      ]
    },
    {
      "cell_type": "code",
      "metadata": {
        "colab": {
          "base_uri": "https://localhost:8080/"
        },
        "id": "oacBfpciIlvV",
        "outputId": "ed9f8e8a-96b3-4179-cbc0-c2b7cd3589d5"
      },
      "source": [
        "#다중선형회귀 기울기와 절편을 오차와 미분 찾기\n",
        "# 공부 시간 X와 성적 의 리스트 만들기\n",
        "\n",
        "data = [[2, 0, 81], [4, 4, 93], [6, 2, 91], [8, 3, 97]]\n",
        "x1 = [i[0] for i in data]\n",
        "x2 = [i[1] for i in data]\n",
        "y = [i[2] for i in data]\n",
        "\n",
        "# 리스트로 되어 있는 x와 y 값을 넘파이 배열로 바꾸기(인덱스로 하나씩 불러와 계산할 수 있도록 하기 위함)\n",
        "x1_data = np.array(x1)\n",
        "x2_data = np.array(x2)\n",
        "y_data = np.array(y)\n",
        "\n",
        "# 기울기 a와 절편 b의 값 초기화\n",
        "a1 = 0\n",
        "a2 = 0\n",
        "b = 0\n",
        "\n",
        "# 학습률\n",
        "lr = 0.05\n",
        "\n",
        "epochs = 2001\n",
        "\n",
        "# 경사 하강법 시작\n",
        "for i in range(epochs): # epoch 수 만큼 반복\n",
        "    y_pred = a1 * x1_data + a2 * x2_data + b # y를 구하는 식 세우기\n",
        "    error = y_data - y_pred # 오차를 구하는 식\n",
        "    # 오차 함수를 a1로 미분한 값\n",
        "    a1_diff = -(1/len(x1_data)) * sum(x1_data * (error))\n",
        "    # 오차 함수를 a2로 미분한 값\n",
        "    a2_diff = -(1/len(x2_data)) * sum(x2_data * (error))\n",
        "    # 오차 함수를 b로 미분한 값\n",
        "    b_new = -(1/len(x1_data)) * sum(y_data - y_pred)\n",
        "    a1 = a1 - lr * a1_diff # 학습률을 곱해 기존의 a1 값 업데이트\n",
        "    a2 = a2 - lr * a2_diff # 학습률을 곱해 기존의 a2 값 업데이트\n",
        "    b = b - lr * b_diff    # 학습률을 곱해 기존의 b값 업데이트\n",
        "\n",
        "    if i % 100 == 0:       # 100번 반복될 때마다 현재의 a1, a2, b 값 출력\n",
        "        print(\"epoch=%.f, 기울기1=%.04f, 기울기2=%.04f, 절편=%.04f\" % (i, a1, a2, b))"
      ],
      "execution_count": 74,
      "outputs": [
        {
          "output_type": "stream",
          "text": [
            "epoch=0, 기울기1=23.2000, 기울기2=10.5625, 절편=0.0000\n",
            "epoch=100, 기울기1=12.7373, 기울기2=6.2986, 절편=0.0000\n",
            "epoch=200, 기울기1=12.7371, 기울기2=6.2990, 절편=0.0000\n",
            "epoch=300, 기울기1=12.7371, 기울기2=6.2990, 절편=0.0000\n",
            "epoch=400, 기울기1=12.7371, 기울기2=6.2990, 절편=0.0000\n",
            "epoch=500, 기울기1=12.7371, 기울기2=6.2990, 절편=0.0000\n",
            "epoch=600, 기울기1=12.7371, 기울기2=6.2990, 절편=0.0000\n",
            "epoch=700, 기울기1=12.7371, 기울기2=6.2990, 절편=0.0000\n",
            "epoch=800, 기울기1=12.7371, 기울기2=6.2990, 절편=0.0000\n",
            "epoch=900, 기울기1=12.7371, 기울기2=6.2990, 절편=0.0000\n",
            "epoch=1000, 기울기1=12.7371, 기울기2=6.2990, 절편=0.0001\n",
            "epoch=1100, 기울기1=12.7371, 기울기2=6.2990, 절편=0.0001\n",
            "epoch=1200, 기울기1=12.7371, 기울기2=6.2990, 절편=0.0001\n",
            "epoch=1300, 기울기1=12.7371, 기울기2=6.2990, 절편=0.0001\n",
            "epoch=1400, 기울기1=12.7371, 기울기2=6.2990, 절편=0.0001\n",
            "epoch=1500, 기울기1=12.7371, 기울기2=6.2990, 절편=0.0001\n",
            "epoch=1600, 기울기1=12.7371, 기울기2=6.2990, 절편=0.0001\n",
            "epoch=1700, 기울기1=12.7371, 기울기2=6.2990, 절편=0.0001\n",
            "epoch=1800, 기울기1=12.7371, 기울기2=6.2990, 절편=0.0001\n",
            "epoch=1900, 기울기1=12.7371, 기울기2=6.2990, 절편=0.0001\n",
            "epoch=2000, 기울기1=12.7371, 기울기2=6.2990, 절편=0.0001\n"
          ],
          "name": "stdout"
        }
      ]
    },
    {
      "cell_type": "code",
      "metadata": {
        "id": "SGkB7Qf2Clv4"
      },
      "source": [
        "import tensorflow as tf\n",
        "\n",
        "# x1, x2, y의 데이터 값\n",
        "data = [[2, 0, 81], [4, 4, 93], [6, 2, 91], [8, 3, 97]]\n",
        "x1 = [x_row1[0] for x_row1 in data]\n",
        "x2 = [x_row2[1] for x_row2 in data] # 새로 추가되는 값\n",
        "y_data = [y_row[2] for y_row in data]\n",
        "\n",
        "# 기울기 a와 y 절편 b의 값을 임의로 정한다.\n",
        "# 단, 기울기의 범위는 0 ~ 10 사이이며, y 절편은 0 ~ 100 사이에서 변하게 한다.\n",
        "a1 = tf.Variable(tf.random.uniform([1], 0, 10, dtype=tf.float64, seed=0))\n",
        "a2 = tf.Variable(tf.random.uniform([1], 0, 10, dtype=tf.float64, seed=0)) # 새로 추가되는 값\n",
        "b = tf.Variable(tf.random.uniform([1], 0, 100, dtype=tf.float64, seed=0))"
      ],
      "execution_count": 64,
      "outputs": []
    },
    {
      "cell_type": "code",
      "metadata": {
        "colab": {
          "base_uri": "https://localhost:8080/"
        },
        "id": "Uu3iqwdeDPZP",
        "outputId": "7260ce6c-9472-4ef2-a894-d029eb13fa2b"
      },
      "source": [
        "import tensorflow.compat.v1 as tf #GradientDescentOptimizer가 1버전에서만 가능해서 1버전으로 낮춤\n",
        "tf.disable_v2_behavior()\n",
        "\n",
        "# 새로운 방정식\n",
        "y = a1 * x1 + a2 * x2+ b\n",
        "\n",
        "# 텐서플로 RMSE 함수\n",
        "rmse = tf.sqrt(tf.reduce_mean(tf.square( y - y_data )))\n",
        "\n",
        "# 학습률 값\n",
        "learning_rate = 0.1\n",
        "\n",
        "# RMSE 값을 최소로 하는 값 찾기\n",
        "gradient_decent = tf.train.GradientDescentOptimizer(learning_rate).minimize(rmse)\n",
        "\n",
        "# 학습이 진행되는 부분\n",
        "with tf.Session() as sess:\n",
        "  sess.run(tf.global_variables_initializer())\n",
        "  for step in range(2001):\n",
        "    sess.run(gradient_decent)\n",
        "    if step % 100 == 0:\n",
        "      print(\"Epoch: %.f, RMSE = %.04f, 기울기 a1 = %.4f, 기울기 a2 = %.4f, y 절편 b = %.4f\" %\n",
        "      (step,sess.run(rmse),sess.run(a1), sess.run(a2),sess.run(b)))"
      ],
      "execution_count": 65,
      "outputs": [
        {
          "output_type": "stream",
          "text": [
            "Epoch: 0, RMSE = 49.1842, 기울기 a1 = 7.5270, 기울기 a2 = 7.8160, y 절편 b = 80.5980\n",
            "Epoch: 100, RMSE = 1.8368, 기울기 a1 = 1.1306, 기울기 a2 = 2.1316, y 절편 b = 78.5119\n",
            "Epoch: 200, RMSE = 1.8370, 기울기 a1 = 1.1879, 기울기 a2 = 2.1487, y 절편 b = 78.1057\n",
            "Epoch: 300, RMSE = 1.8370, 기울기 a1 = 1.2122, 기울기 a2 = 2.1571, y 절편 b = 77.9352\n",
            "Epoch: 400, RMSE = 1.8370, 기울기 a1 = 1.2226, 기울기 a2 = 2.1607, y 절편 b = 77.8636\n",
            "Epoch: 500, RMSE = 1.8370, 기울기 a1 = 1.2269, 기울기 a2 = 2.1622, y 절편 b = 77.8335\n",
            "Epoch: 600, RMSE = 1.8370, 기울기 a1 = 1.2288, 기울기 a2 = 2.1628, y 절편 b = 77.8208\n",
            "Epoch: 700, RMSE = 1.8370, 기울기 a1 = 1.2295, 기울기 a2 = 2.1631, y 절편 b = 77.8155\n",
            "Epoch: 800, RMSE = 1.8370, 기울기 a1 = 1.2299, 기울기 a2 = 2.1632, y 절편 b = 77.8133\n",
            "Epoch: 900, RMSE = 1.8370, 기울기 a1 = 1.2300, 기울기 a2 = 2.1632, y 절편 b = 77.8124\n",
            "Epoch: 1000, RMSE = 1.8370, 기울기 a1 = 1.2301, 기울기 a2 = 2.1633, y 절편 b = 77.8120\n",
            "Epoch: 1100, RMSE = 1.8370, 기울기 a1 = 1.2301, 기울기 a2 = 2.1633, y 절편 b = 77.8118\n",
            "Epoch: 1200, RMSE = 1.8370, 기울기 a1 = 1.2301, 기울기 a2 = 2.1633, y 절편 b = 77.8117\n",
            "Epoch: 1300, RMSE = 1.8370, 기울기 a1 = 1.2301, 기울기 a2 = 2.1633, y 절편 b = 77.8117\n",
            "Epoch: 1400, RMSE = 1.8370, 기울기 a1 = 1.2301, 기울기 a2 = 2.1633, y 절편 b = 77.8117\n",
            "Epoch: 1500, RMSE = 1.8370, 기울기 a1 = 1.2301, 기울기 a2 = 2.1633, y 절편 b = 77.8117\n",
            "Epoch: 1600, RMSE = 1.8370, 기울기 a1 = 1.2301, 기울기 a2 = 2.1633, y 절편 b = 77.8117\n",
            "Epoch: 1700, RMSE = 1.8370, 기울기 a1 = 1.2301, 기울기 a2 = 2.1633, y 절편 b = 77.8117\n",
            "Epoch: 1800, RMSE = 1.8370, 기울기 a1 = 1.2301, 기울기 a2 = 2.1633, y 절편 b = 77.8117\n",
            "Epoch: 1900, RMSE = 1.8370, 기울기 a1 = 1.2301, 기울기 a2 = 2.1633, y 절편 b = 77.8117\n",
            "Epoch: 2000, RMSE = 1.8370, 기울기 a1 = 1.2301, 기울기 a2 = 2.1633, y 절편 b = 77.8117\n"
          ],
          "name": "stdout"
        }
      ]
    },
    {
      "cell_type": "markdown",
      "metadata": {
        "id": "xXcjeIVfc4DY"
      },
      "source": [
        "시그모이드 함수\n",
        "\n",
        "• 시그모이드 함수는 지수 함수에서 밑의 값이 자연 상수 e인 함수를 말합니다.\n",
        "\n",
        "• 자연 상수 e는 파이(π)처럼 수학에서 중요하게 사용되는 무리수"
      ]
    },
    {
      "cell_type": "markdown",
      "metadata": {
        "id": "zZDnMrhpdJNd"
      },
      "source": [
        "로그와 로그 함수\n",
        "\n",
        "• a를 x만큼 거듭제곱한 값이 b라고 할 때,\n",
        "a와 b를 알고 있는데 x를 모르는 경우, x를 구하기 위해 사용하는 방법이 로그입니다.\n",
        "\n",
        "• 로그 함수와 지수 함수와의 관계는 역함수의 관계입니다. (역함수는 x와 y를 서로 바꾸어 가지는 함수).\n",
        "\n",
        "• x가 1에 가까워지거나, 0에 가까워질수록 오차가 커지는 그래프\n",
        "\n",
        "• 지수 함수 y = ax(a ≠ 1, a > 0)는 로그의 정의를 따라 x = loga y로 바꿀 수 있습니다."
      ]
    },
    {
      "cell_type": "markdown",
      "metadata": {
        "id": "fqBTAT3wdQwR"
      },
      "source": [
        "지수와 지수함수\n",
        "\n",
        "• 지수 함수에서는 밑(a)의 값이 무엇인지가 중요합니다. 이 값이 1이면 함수가 아닙니다.\n",
        "\n",
        "• 또 0보다 작으면 허수를 포함하게 되므로 안 됩니다.\n",
        "\n",
        "• 따라서 밑의 값은 a > 1이거나 0 < a < 1, 둘 중 하나가 되어야 합니다."
      ]
    },
    {
      "cell_type": "code",
      "metadata": {
        "colab": {
          "base_uri": "https://localhost:8080/",
          "height": 634
        },
        "id": "K0pLqZcSgaH5",
        "outputId": "f093a6e9-6f2a-4d99-85f8-6403a444ce0b"
      },
      "source": [
        "import tensorflow as tf\n",
        "import numpy as np\n",
        "import matplotlib.pyplot as plt\n",
        "\n",
        "# x, y의 데이터 값\n",
        "data = [[2, 0], [4, 0], [6, 0], [8, 1], [10, 1], [12, 1], [14,1]]\n",
        "\n",
        "x_data = [i[0] for i in data]\n",
        "y_data = [i[1] for i in data]\n",
        "\n",
        "# 그래프로 나타내기\n",
        "plt.scatter(x_data, y_data)\n",
        "plt.xlim(0, 15)\n",
        "plt.ylim(-.1, 1.1)\n",
        "\n",
        "# # 기울기 a와 절편 b의 값 초기화\n",
        "a = 0\n",
        "b = 0\n",
        "lr = 0.05 #학습률\n",
        "\n",
        "# 시그모이드 함수 정의\n",
        "def sigmoid(x):\n",
        "    return 1 / (1 + np.e ** (-x))\n",
        "\n",
        "for i in range(2001):\n",
        "    for x, y in data:\n",
        "        # a에 관한 편미분. 앞서 정의한 sigmoid 함수 사용\n",
        "        a_diff = x*(sigmoid(a*x + b) - y)\n",
        "        # b에 관한 편미분\n",
        "        b_diff = sigmoid(a*x + b) - y\n",
        "        # a를 업데이트 하기 위해 a - diff에 학습률 lr을 곱한 값을 a에서 뺌\n",
        "        a = a - lr * a_diff\n",
        "        # b를 업데이트 하기 위해 b - diff에 학습률 lr을 곱한 값을 b에서 뺌\n",
        "        b = b - lr * b_diff\n",
        "        if i % 1000 == 0:\n",
        "            print(\"epoch=%.f, 기울기=%.04f, 절편=%.04f\" % (i, a, b))"
      ],
      "execution_count": 26,
      "outputs": [
        {
          "output_type": "stream",
          "text": [
            "epoch=0, 기울기=-0.0500, 절편=-0.0250\n",
            "epoch=0, 기울기=-0.1388, 절편=-0.0472\n",
            "epoch=0, 기울기=-0.2268, 절편=-0.0619\n",
            "epoch=0, 기울기=0.1201, 절편=-0.0185\n",
            "epoch=0, 기울기=0.2374, 절편=-0.0068\n",
            "epoch=0, 기울기=0.2705, 절편=-0.0040\n",
            "epoch=0, 기울기=0.2860, 절편=-0.0029\n",
            "epoch=1000, 기울기=1.4978, 절편=-9.9401\n",
            "epoch=1000, 기울기=1.4940, 절편=-9.9411\n",
            "epoch=1000, 기울기=1.4120, 절편=-9.9547\n",
            "epoch=1000, 기울기=1.4949, 절편=-9.9444\n",
            "epoch=1000, 기울기=1.4982, 절편=-9.9440\n",
            "epoch=1000, 기울기=1.4984, 절편=-9.9440\n",
            "epoch=1000, 기울기=1.4985, 절편=-9.9440\n",
            "epoch=2000, 기울기=1.9065, 절편=-12.9489\n",
            "epoch=2000, 기울기=1.9055, 절편=-12.9491\n",
            "epoch=2000, 기울기=1.8515, 절편=-12.9581\n",
            "epoch=2000, 기울기=1.9057, 절편=-12.9514\n",
            "epoch=2000, 기울기=1.9068, 절편=-12.9513\n",
            "epoch=2000, 기울기=1.9068, 절편=-12.9513\n",
            "epoch=2000, 기울기=1.9068, 절편=-12.9513\n"
          ],
          "name": "stdout"
        },
        {
          "output_type": "display_data",
          "data": {
            "image/png": "[encoded data removed]",
            "text/plain": [
              "<Figure size 432x288 with 1 Axes>"
            ]
          },
          "metadata": {
            "tags": [],
            "needs_background": "light"
          }
        }
      ]
    },
    {
      "cell_type": "code",
      "metadata": {
        "colab": {
          "base_uri": "https://localhost:8080/",
          "height": 265
        },
        "id": "dWnt2iFRnjTJ",
        "outputId": "8bc93619-9108-4e30-9a73-2be5457baaa9"
      },
      "source": [
        "plt.scatter(x_data, y_data)\n",
        "plt.xlim(0, 15)\n",
        "plt.ylim(-.1, 1.1)\n",
        "x_range = (np.arange(0, 15, 0.1)) # 그래프로 나타낼 x 값의 범위 정하기\n",
        "plt.plot(np.arange(0, 15, 0.1), np.array([sigmoid(a * x + b) for x in x_range]))\n",
        "plt.show()"
      ],
      "execution_count": 27,
      "outputs": [
        {
          "output_type": "display_data",
          "data": {
            "image/png": "[encoded data removed]",
            "text/plain": [
              "<Figure size 432x288 with 1 Axes>"
            ]
          },
          "metadata": {
            "tags": [],
            "needs_background": "light"
          }
        }
      ]
    },
    {
      "cell_type": "markdown",
      "metadata": {
        "id": "BFhGlk8co2-U"
      },
      "source": [
        "#### 퍼셉트론(perceptron)\n",
        "\n",
        "• 퍼셉트론은 입력 값과 활성화 함수를 사용해 출력 값을 다음으로 넘기는 가장 작은 신경망 단위\n",
        "\n",
        "• N개의 이진수가 하나의 뉴런을 통과해서 가중합 0보다 크면 활성화되는 가장 간단한 신경망 구조\n",
        "\n",
        "• 초평면(hyperplane)으로 구분되는 두 개의 공간을 분리시키는 역할을 한다\n",
        "\n",
        "• AND 게이트 , OR 게이트를 만들 수 있다."
      ]
    },
    {
      "cell_type": "code",
      "metadata": {
        "colab": {
          "base_uri": "https://localhost:8080/"
        },
        "id": "4RhALqVipaOy",
        "outputId": "21ca7526-a52f-4fa0-db84-f21c9ffe2ecd"
      },
      "source": [
        "# 신경망 and 게이트\n",
        "import tensorflow as tf\n",
        "from tensorflow import keras\n",
        "import matplotlib.pyplot as plt\n",
        "import numpy as np\n",
        "\n",
        "tf.random.set_seed(0)\n",
        "x_train = [[0, 0], [0, 1], [1, 0], [1, 1]]\n",
        "y_train = [[0],[0], [0], [1]]\n",
        "\n",
        "model = keras.Sequential([\n",
        "    keras.layers.Dense(units=3, input_shape=[2], activation='relu'),\n",
        "    keras.layers.Dense(units=1)\n",
        "])\n",
        "\n",
        "model.compile(loss='mse', optimizer='Adam')\n",
        "\n",
        "\n",
        "pred_before_training = model.predict(x_train)\n",
        "print('Before Training: \\n', pred_before_training)\n",
        "\n",
        "history = model.fit(x_train, y_train, epochs=1000, verbose=0)\n",
        "\n",
        "pred_after_training = model.predict(x_train)\n",
        "print('After Training: \\n', pred_after_training)"
      ],
      "execution_count": 10,
      "outputs": [
        {
          "output_type": "stream",
          "text": [
            "WARNING:tensorflow:5 out of the last 9 calls to <function Model.make_predict_function.<locals>.predict_function at 0x7fad80e13440> triggered tf.function retracing. Tracing is expensive and the excessive number of tracings could be due to (1) creating @tf.function repeatedly in a loop, (2) passing tensors with different shapes, (3) passing Python objects instead of tensors. For (1), please define your @tf.function outside of the loop. For (2), @tf.function has experimental_relax_shapes=True option that relaxes argument shapes that can avoid unnecessary retracing. For (3), please refer to https://www.tensorflow.org/guide/function#controlling_retracing and https://www.tensorflow.org/api_docs/python/tf/function for  more details.\n",
            "Before Training: \n",
            " [[0.        ]\n",
            " [0.6210649 ]\n",
            " [0.06930891]\n",
            " [0.6721569 ]]\n",
            "After Training: \n",
            " [[-0.00612798]\n",
            " [ 0.00896964]\n",
            " [ 0.00497075]\n",
            " [ 0.99055487]]\n"
          ],
          "name": "stdout"
        }
      ]
    },
    {
      "cell_type": "code",
      "metadata": {
        "colab": {
          "base_uri": "https://localhost:8080/",
          "height": 336
        },
        "id": "dQ0rc6JtryXP",
        "outputId": "e877741f-7ed6-403f-ac84-ac17d99bee4c"
      },
      "source": [
        "loss = history.history['loss']\n",
        "plt.plot(loss)\n",
        "plt.xlabel('Epoch', labelpad=15)\n",
        "plt.ylabel('Loss', labelpad=15)\n",
        "plt.show()"
      ],
      "execution_count": 13,
      "outputs": [
        {
          "output_type": "display_data",
          "data": {
            "image/png": "[encoded data removed]",
            "text/plain": [
              "<Figure size 500x300 with 1 Axes>"
            ]
          },
          "metadata": {
            "tags": []
          }
        }
      ]
    },
    {
      "cell_type": "code",
      "metadata": {
        "colab": {
          "base_uri": "https://localhost:8080/",
          "height": 337
        },
        "id": "BkM0L-N2q-4o",
        "outputId": "a2e163f1-1c95-4972-fb6c-345e727420a1"
      },
      "source": [
        "# 훈련 결과 시각화\n",
        "plt.style.use('default')\n",
        "plt.rcParams['figure.figsize'] = (5, 3)\n",
        "plt.rcParams['font.size'] = 14\n",
        "\n",
        "plt.plot(pred_before_training, 's-', markersize=10, label='pred_before_training')\n",
        "plt.plot(pred_after_training, 'd-', markersize=10, label='pred_after_training')\n",
        "plt.plot(y_train, 'o-', markersize=10, label='y_train')  #실제값\n",
        "\n",
        "plt.xticks(np.arange(4), labels=['[0, 0]', '[0, 1]', '[1, 0]', '[1, 1]'])\n",
        "plt.xlabel('Input (x_train)', labelpad=15)\n",
        "plt.ylabel('Output (y_train)', labelpad=15)\n",
        "\n",
        "plt.legend()\n",
        "plt.show()"
      ],
      "execution_count": 8,
      "outputs": [
        {
          "output_type": "display_data",
          "data": {
            "image/png": "[encoded data removed]",
            "text/plain": [
              "<Figure size 500x300 with 1 Axes>"
            ]
          },
          "metadata": {
            "tags": []
          }
        }
      ]
    },
    {
      "cell_type": "markdown",
      "metadata": {
        "id": "Uo3_2iD4sYS7"
      },
      "source": [
        "#### 다층 퍼셉트론(perceptron)\n",
        "\n",
        "• 은닉층으로 퍼셉트론이 각각 자신의 가중치(w)와 바이어스(b) 값을 보내고\n",
        "\n",
        "• 은닉층에서 모인 값이 한 번 더 시그모이드 함수를 이용해 최종 값으로 결과를 보냅니다.\n",
        "\n",
        "• 은닉층에 모이는 중간 정거장을 노드(node)라고 하며, (n1과 n2)\n",
        "\n",
        "• 은닉층의 노드 n1과 n2의 값은 각각 단일 퍼셉트론의 값과 같습니다."
      ]
    },
    {
      "cell_type": "code",
      "metadata": {
        "colab": {
          "base_uri": "https://localhost:8080/"
        },
        "id": "VpCH6RcAuv5S",
        "outputId": "785949c3-b281-41e0-d36d-5d06018ef98d"
      },
      "source": [
        "import tensorflow as tf\n",
        "import keras as keras\n",
        "tf.random.set_seed(0)\n",
        "\n",
        "# 훈련 데이터 준비\n",
        "x_train = [[0, 0], [0, 1], [1, 0], [1, 1]]\n",
        "y_train = [[0], [1], [1], [0]]\n",
        "\n",
        "# 모델 구성\n",
        "model = keras.Sequential([\n",
        "    keras.layers.Dense(units=3, input_shape=[2], activation='relu'),\n",
        "    keras.layers.Dense(units=1)\n",
        "    ])\n",
        "#모델 컴파일  \n",
        "model.compile(loss='mse', optimizer='sgd')\n",
        "#모델 훈련하기\n",
        "pred_before_training = model.predict(x_train)\n",
        "print('Before Training: \\n', pred_before_training)\n",
        "\n",
        "history = model.fit(x_train, y_train, epochs=3000, verbose=0)\n",
        "\n",
        "pred_after_training = model.predict(x_train)\n",
        "print('After Training: \\n', pred_after_training)"
      ],
      "execution_count": 5,
      "outputs": [
        {
          "output_type": "stream",
          "text": [
            "Before Training: \n",
            " [[0.        ]\n",
            " [0.6210649 ]\n",
            " [0.06930891]\n",
            " [0.6721569 ]]\n",
            "After Training: \n",
            " [[0.00434413]\n",
            " [0.99698246]\n",
            " [0.99696106]\n",
            " [0.00436922]]\n"
          ],
          "name": "stdout"
        }
      ]
    },
    {
      "cell_type": "code",
      "metadata": {
        "colab": {
          "base_uri": "https://localhost:8080/",
          "height": 290
        },
        "id": "WWXWsZsmxGTN",
        "outputId": "26bb661d-d2ff-475e-a5aa-aba93e2ee19f"
      },
      "source": [
        "loss = history.history['loss']\n",
        "plt.plot(loss)\n",
        "plt.xlabel('Epoch', labelpad=15)\n",
        "plt.ylabel('Loss', labelpad=15)\n",
        "\n",
        "plt.show()"
      ],
      "execution_count": 6,
      "outputs": [
        {
          "output_type": "display_data",
          "data": {
            "image/png": "[encoded data removed]",
            "text/plain": [
              "<Figure size 432x288 with 1 Axes>"
            ]
          },
          "metadata": {
            "tags": [],
            "needs_background": "light"
          }
        }
      ]
    },
    {
      "cell_type": "code",
      "metadata": {
        "colab": {
          "base_uri": "https://localhost:8080/",
          "height": 414
        },
        "id": "zM83yvMTxI21",
        "outputId": "1577cf8e-3eb1-4ee7-fdaf-97665456ba4e"
      },
      "source": [
        "#훈련 결과 확인\n",
        "plt.style.use('default')\n",
        "plt.rcParams['figure.figsize'] = (6, 4)\n",
        "plt.rcParams['font.size'] = 14\n",
        "\n",
        "plt.plot(pred_before_training, 's-', markersize=10, label='pred_before_training')\n",
        "plt.plot(pred_after_training, 'd-', markersize=10, label='pred_after_training')\n",
        "plt.plot(y_train, 'o-', markersize=10, label='y_train')\n",
        "\n",
        "plt.xticks(np.arange(4), labels=['[0, 0]', '[0, 1]', '[1, 0]', '[1, 1]'])\n",
        "plt.xlabel('Input (x_train)', labelpad=15)\n",
        "plt.ylabel('Output (y_train)', labelpad=15)\n",
        "\n",
        "plt.legend()\n",
        "plt.show()\n"
      ],
      "execution_count": 7,
      "outputs": [
        {
          "output_type": "display_data",
          "data": {
            "image/png": "[encoded data removed]",
            "text/plain": [
              "<Figure size 600x400 with 1 Axes>"
            ]
          },
          "metadata": {
            "tags": []
          }
        }
      ]
    },
    {
      "cell_type": "markdown",
      "metadata": {
        "id": "YqSk7NsNyOMw"
      },
      "source": [
        "#### 오차 역전파\n",
        "\n",
        "• 신경망 내부의 가중치는 오차 역전파 방법을 사용해 수정합니다.\n",
        "\n",
        "• 임의의 가중치를 선언하고 최소 제곱법을 이용해 오차를 구한 뒤 이 오차가 최소인 지점으로 계속해서 조\n",
        "금씩 이동시킵니다.\n",
        "\n",
        "• 오차가 최소가 되는 점(미분했을 때 기울기가 0이 되는 지점)이 우리가 알고자 하는 답입니다\n",
        "\n",
        "• 가중치를 수정하려면 미분 값, 즉 기울기가 필요합니다"
      ]
    },
    {
      "cell_type": "markdown",
      "metadata": {
        "id": "g338lQb5y7PY"
      },
      "source": [
        "활성화 함수 - 기울기 소실 문제 해결\n",
        "\n",
        "• 활성화 함수 시그모이드는 층이 늘어나면서 기울기가 중간에 0이 되어버리는 기울기 소실(vanishing\n",
        "gradient) 문제가 발생합니다.\n",
        "\n",
        "• 시그모이드를 미분하면 최대치가 0.3입니다. 1보다 작으므로 계속 곱하다 보면 0에 가까워집니다.\n",
        "\n",
        "• 시그모이드는 층을 거쳐 갈수록 기울기가 사라져 가중치를 수정하기가 어려워집니다."
      ]
    },
    {
      "cell_type": "markdown",
      "metadata": {
        "id": "8sbfZs0f0iKm"
      },
      "source": [
        "![keras.png](data:image/png;base64,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)"
      ]
    },
    {
      "cell_type": "code",
      "metadata": {
        "id": "t3YuV_2v0nLR"
      },
      "source": [
        "#폐암 수술 환자의 생존율 예측하기 실습\n",
        "\n",
        "from keras.models import Sequential\n",
        "from keras.layers import Dense\n",
        "import numpy\n",
        "import tensorflow as tf\n",
        "import tensorflow.compat.v1 as tf\n",
        "tf.disable_v2_behavior()\n",
        "\n",
        "# 실행할 때마다 같은 결과를 출력하기 위해 설정하는 부분입니다.\n",
        "seed = 0\n",
        "numpy.random.seed(seed)\n",
        "tf.set_random_seed(seed)\n",
        "\n",
        "# 준비된 수술 환자 데이터를 불러들입니다.\n",
        "Data_set = numpy.loadtxt(\"ThoraricSurgery.csv\", delimiter=\",\")\n",
        "\n",
        "# 환자의 기록과 수술 결과를 X와 Y로 구분하여 저장합니다.\n",
        "X = Data_set[:,0:17]\n",
        "Y = Data_set[:,17]"
      ],
      "execution_count": 26,
      "outputs": []
    },
    {
      "cell_type": "code",
      "metadata": {
        "id": "hFjr3gul07x6"
      },
      "source": [
        "# 딥러닝 구조를 결정합니다(모델을 설정하고 실행).\n",
        "model = Sequential() #딥러닝의 구조를 짜고 층을 설정\n",
        "# 첫 번째 은닉층에 input_dim을 적어 줌으로써 첫 번째 Dense가 은닉층 + 입력층의 역할을 겸합니다.\n",
        "# 데이터에서 17개의 값을 받아 은닉층의 30개 노드로 보낸다\n",
        "model.add(Dense(30, input_dim=17, activation='relu')) #activation : 출력층으로 전달할 때 사용할 활성화 함수\n",
        "model.add(Dense(1, activation='sigmoid')) #출력층의 노드 수는 1개, 최종 출력 값에 사용될 활성화 함수\n",
        "\n",
        "# 딥러닝을 실행합니다. (오차 함수 : 평균 제곱 오차 함수 사용)\n",
        "model.compile(loss='mean_squared_error', optimizer='adam',metrics=['accuracy'])\n",
        "model.fit(X, Y, epochs=100, batch_size=30)\n",
        "\n",
        "# 결과를 출력합니다.\n",
        "print('\\n Accuracy: %.4f' % (model.evaluate(X, Y)[1]))\n",
        "\n",
        "\n",
        "#결과 : Accuracy: 0.8511"
      ],
      "execution_count": null,
      "outputs": []
    }
  ]
}