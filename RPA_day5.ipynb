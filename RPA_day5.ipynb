{
 "cells": [
  {
   "cell_type": "markdown",
   "metadata": {},
   "source": [
    "RPA_day4 예제 추가 작성"
   ]
  },
  {
   "cell_type": "code",
   "execution_count": 4,
   "metadata": {},
   "outputs": [
    {
     "name": "stdout",
     "output_type": "stream",
     "text": [
      "Alert shows following message: Hi!! I am Confirmation Alert.\n",
      "You pressed OK!\n"
     ]
    }
   ],
   "source": [
    "from selenium import webdriver\n",
    "import time\n",
    "\n",
    "driver = webdriver.Chrome()\n",
    "driver.maximize_window()  #창 전체 사이즈\n",
    "location = \"file:///c:/workspace/basic/alert2.html\"\n",
    "driver.get(location)  # url에 접근한다\n",
    "\n",
    "button = driver.find_element_by_name('alert')   #alert창을 찾음 \n",
    "button.click()    #alert창 클릭\n",
    "\n",
    "obj = driver.switch_to.alert  #switch_to.alert= WebDriver로 Alert 창을 Control\n",
    "message = obj.text\n",
    "print('Alert shows following message: ' + message)\n",
    "\n",
    "time.sleep(2)\n",
    "obj.accept()  #alert에서 확인버튼을 눌러줌\n",
    "\n",
    "txt = driver.find_element_by_id('msg')  #id태그의 메세지 찾기\n",
    "print(txt.text)  #메세지 내용 출력"
   ]
  },
  {
   "cell_type": "code",
   "execution_count": 5,
   "metadata": {},
   "outputs": [
    {
     "name": "stdout",
     "output_type": "stream",
     "text": [
      "Alert shows following message: Hi!! I am Confirmation Alert.\n",
      "You pressed OK!\n",
      "You pressed CANCEL!\n"
     ]
    },
    {
     "data": {
      "text/plain": [
       "<bound method WebDriver.close of <selenium.webdriver.chrome.webdriver.WebDriver (session=\"85ebf064d30c6c67a07a32d0de23fc5b\")>>"
      ]
     },
     "execution_count": 5,
     "metadata": {},
     "output_type": "execute_result"
    }
   ],
   "source": [
    "from selenium import webdriver\n",
    "import time\n",
    "driver = webdriver.Chrome()\n",
    "driver.maximize_window()\n",
    "location = 'file:///c:/workspace/basic/alert2.html'\n",
    "driver.get(location)\n",
    "\n",
    "button = driver.find_element_by_name('alert')  #alert창을 찾음 \n",
    "button.click()  #alert창 클릭\n",
    "\n",
    "obj = driver.switch_to.alert\n",
    "message = obj.text\n",
    "print('Alert shows following message: ' + message)\n",
    "\n",
    "time.sleep(2)\n",
    "obj.accept()\n",
    "\n",
    "txt = driver.find_element_by_id('msg')\n",
    "print(txt.text)\n",
    "\n",
    "time.sleep(2)\n",
    "driver.refresh()  #refresh = 새로고침\n",
    "\n",
    "button = driver.find_element_by_name('alert')\n",
    "button.click()\n",
    "obj = driver.switch_to.alert\n",
    "obj.dismiss()  #취소버튼\n",
    "txt = driver.find_element_by_id('msg')\n",
    "print(txt.text)\n",
    "driver.close"
   ]
  },
  {
   "cell_type": "markdown",
   "metadata": {},
   "source": [
    "python에서 크롬브라우저 실행시키고 alert3.html을 요청(로딩)    \n",
    "버튼 객체 가져와서 클릭이벤트 발생시키고 실행된 팝업window(입력)객체 받아와 이름 입력(send_keys 메서드 이용)     \n",
    "확인 버튼 클릭하면 html페이지 결과 메세지 가져와서 출력   "
   ]
  },
  {
   "cell_type": "code",
   "execution_count": 7,
   "metadata": {},
   "outputs": [
    {
     "name": "stdout",
     "output_type": "stream",
     "text": [
      "Alert shows following message: You have logged in successfully !!\n",
      "Welcome korea!! How can I help you?\n"
     ]
    },
    {
     "data": {
      "text/plain": [
       "<bound method WebDriver.close of <selenium.webdriver.chrome.webdriver.WebDriver (session=\"06ef58e9cb8b455f7442864ec0a592d7\")>>"
      ]
     },
     "execution_count": 7,
     "metadata": {},
     "output_type": "execute_result"
    }
   ],
   "source": [
    "from selenium import webdriver\n",
    "import time\n",
    "driver = webdriver.Chrome()\n",
    "driver.maximize_window()\n",
    "location = 'file:///c:/workspace/basic/alert3.html'\n",
    "driver.get(location)\n",
    "\n",
    "button = driver.find_element_by_name('employeeLogin')\n",
    "button.click()\n",
    "\n",
    "obj = driver.switch_to.alert\n",
    "time.sleep(2)\n",
    "obj.send_keys('korea')  #send_keys = 입력\n",
    "time.sleep(2)\n",
    "obj.accept()\n",
    "message = obj.text\n",
    "print('Alert shows following message: ' + message)\n",
    "time.sleep(2)\n",
    "obj.accept()\n",
    "\n",
    "txt = driver.find_element_by_id('msg')\n",
    "print(txt.text)\n",
    "driver.close"
   ]
  },
  {
   "cell_type": "markdown",
   "metadata": {},
   "source": [
    "브라우저 자동화   \n",
    "• iframe은 어떤 웹 페이지 안에 또 다른 웹 페이지를 포함하여 표시할 때 사용하는 태그   \n",
    "• Driver객체.switch_to.frame(WebElement객체) - 웹 페이지 안에 포함된 웹 페이지 프레임 선택"
   ]
  },
  {
   "cell_type": "code",
   "execution_count": 12,
   "metadata": {},
   "outputs": [
    {
     "name": "stdout",
     "output_type": "stream",
     "text": [
      "I am normal\n",
      "I am red\n",
      "I am blue\n",
      "I am big\n"
     ]
    }
   ],
   "source": [
    "from selenium import webdriver\n",
    "from selenium.webdriver.common.keys import Keys\n",
    "\n",
    "driver = webdriver.Chrome()\n",
    "url = 'https://www.w3schools.com/html/tryit.asp?filename=tryhtml_styles_intro'\n",
    "driver.get(url)\n",
    "\n",
    "len(driver.find_elements_by_tag_name('iframe'))  #iframe태그 이름을 찾고 몇개인지 출력\n",
    "driver.switch_to.frame(driver.find_element_by_id(\"iframeResult\")) #id가 \"iframeResult\"를 찾음\n",
    "\n",
    "elem = driver.find_element_by_tag_name('body')  #태그 이름이 body인 것을 찾기\n",
    "print(elem.text)  #태그에 나온 이름의 내용 출력"
   ]
  },
  {
   "cell_type": "markdown",
   "metadata": {},
   "source": [
    "브라우저 자동화  예제    \n",
    "1. 파이썬 프로그램에서 Gmarket 로그인   \n",
    "2. 검색어 '컴퓨터'로 검색"
   ]
  },
  {
   "cell_type": "code",
   "execution_count": 26,
   "metadata": {},
   "outputs": [],
   "source": [
    "from selenium import webdriver\n",
    "from selenium.webdriver.common.keys import Keys\n",
    "\n",
    "driver = webdriver.Chrome()\n",
    "driver.get(\"http://gmarket.co.kr\")\n",
    "\n",
    "# 로그인 링크 클릭\n",
    "ele = driver.find_element_by_link_text('로그인')\n",
    "ele.click()\n",
    "\n",
    "import getpass\n",
    "# id, pw 입력 값 감춰서 저장\n",
    "uid = getpass.getpass(\"ID: \")\n",
    "pw = getpass.getpass(\"PASSWORD: \")\n",
    "\n",
    "# 저장해둔 id와 pw 입력 후 로그인\n",
    "driver.find_element_by_name('id').send_keys(uid)\n",
    "driver.find_element_by_id('pwd').send_keys(pw)\n",
    "driver.find_element_by_class_name(\"button_login\").click()\n",
    "\n",
    "\n",
    "elem = driver.find_element_by_name('keyword')\n",
    "elem.clear()\n",
    "elem.send_keys('컴퓨터')\n",
    "elem.send_keys(Keys.RETURN)\n"
   ]
  },
  {
   "cell_type": "markdown",
   "metadata": {},
   "source": [
    "브라우저 자동화 예제   \n",
    "1. YouTube에서 ‘hero’ 음악 검색    \n",
    "2. 검색 결과 중 첫번째 링크 url만 출력"
   ]
  },
  {
   "cell_type": "code",
   "execution_count": 48,
   "metadata": {},
   "outputs": [
    {
     "name": "stdout",
     "output_type": "stream",
     "text": [
      "https://www.youtube.com/watch?v=0IA3ZvCkRkQ\n"
     ]
    }
   ],
   "source": [
    "#방법1\n",
    "from selenium import webdriver\n",
    "from selenium.webdriver.common.keys import Keys\n",
    "\n",
    "driver = webdriver.Chrome()\n",
    "driver.get(\"https://www.youtube.com/\")\n",
    "\n",
    "# 'hero' 검색\n",
    "elem = driver.find_element_by_id('search')\n",
    "elem.send_keys('hero')\n",
    "elem.send_keys(Keys.RETURN)\n",
    "\n",
    "time.sleep(2)\n",
    "\n",
    "# 첫번째 영상 url 출력\n",
    "#find_element_by_css_selector= css에서 검색을 한다, .get_attribute(\"href\")=링크 속성을 얻어옴\n",
    "very = driver.find_element_by_css_selector(\"a#video-title\").get_attribute(\"href\")\n",
    "print(very)"
   ]
  },
  {
   "cell_type": "code",
   "execution_count": 50,
   "metadata": {},
   "outputs": [
    {
     "name": "stdout",
     "output_type": "stream",
     "text": [
      "Mariah Carey - Hero (Official HD Video)\n",
      "https://www.youtube.com/watch?v=0IA3ZvCkRkQ\n"
     ]
    }
   ],
   "source": [
    "#방법2\n",
    "from selenium import webdriver\n",
    "from selenium.webdriver.common.keys import Keys\n",
    "\n",
    "options = webdriver.ChromeOptions()\n",
    "options.headless = True  #head chrome실행\n",
    "driver = webdriver.Chrome(options=options)\n",
    "driver.get(\"https://www.youtube.com/\")\n",
    "\n",
    "qstr = 'hero'\n",
    "driver.find_element_by_id('search').send_keys(qstr) #질의어 입력\n",
    "driver.find_element_by_id('search-icon-legacy').click()   #검색 버튼 클릭\n",
    "\n",
    "time.sleep(2)\n",
    "\n",
    "#\"a#video-title\"를 다 가져와서 qstr을 포함한 텍스트가 있다면 멈춤\n",
    "for elem in driver.find_elements_by_css_selector(\"a#video-title\"):\n",
    "    if qstr in elem.text.lower():  #.lower은 대문자 소문자도 상관없다는 뜻으로 사용\n",
    "        print(elem.text)\n",
    "        break\n",
    "\n",
    "url = elem.get_attribute(\"href\")  #결과 중에서 처음 것의 url만 얻음\n",
    "driver.close()  #헤드리스 크롬 종료\n",
    "print(url)"
   ]
  },
  {
   "cell_type": "markdown",
   "metadata": {},
   "source": [
    "### 이메일 자동화"
   ]
  },
  {
   "cell_type": "markdown",
   "metadata": {},
   "source": [
    "이메일 자동화   \n",
    "• 수신 날짜, 발신자, 제목 또는 본문의 내용, 수신 여부 등의 조건을 통해 메일함에서 원하는 메일을 조회하여 내용을 가져오거나 첨부 파일을 다운로드 받을 수 있으며, 직접 작성한 내용을 본문으로 하고 첨부파일을 포함하여 여러 명에게 한꺼번에 메일을 보낼 수도 있습니다.   \n",
    "• smtplib - 메일 정보를 SMTP 형태로 보내기 위한 라이브러리   \n",
    "   \n",
    "• email - 메일 발송을 위해 필요한 정보를 편리하게 표현하기 위한 라이브러리   \n",
    "\n",
    "• MIME(Multipurpose Internet Mail Extension) - 이메일을 위한 인터넷 표준 형식   \n",
    "  \n",
    "• chardet – 텍스트 파일의 인코딩 정보를 파악하기 위한 모듈   "
   ]
  },
  {
   "cell_type": "markdown",
   "metadata": {},
   "source": [
    "#### 자동으로 이메일 보내기    \n",
    "• SMTP(Simple Mail Transfer Protocol) - 이메일을 SMTP 서버로 전송하는데 사용하는 프로토콜로 사용자를 인증하고 메일을 전송하는 명령들로 이루어져 있다   \n",
    "메일 발송을 위해 메일 서비스 제공 회시와 사용자 간에 약속된 규약     \n",
    "\n",
    "• 수신된 이메일은 사용자가 로그인 후 POP 또는 IMAP 프로토콜을 이용하여 가져가거나 웹 메일을 통해 접속할 때까\n",
    "지 서버에서 보관하고 있게 된다.  \n",
    "\n",
    "• chardet - 텍스트 파일의 인코딩 정보를 파악하기 위한 모듈\n",
    "\n",
    "• SMTP 서버 포트가 587인 경우는 TLS (Transport Layer Security)를 사용하고 465인 경우는 SSL(Secure Sockets Layer) 를 사용 - TLS와 SSL은 암호화와 인증을 제공하는 프로토콜로 안전하지 않은 네트워크에 암호화된 데이터를 보낼 수 있게 해준다."
   ]
  },
  {
   "cell_type": "code",
   "execution_count": null,
   "metadata": {},
   "outputs": [],
   "source": [
    "gmail : smtp.gmail.com, 포트 587\n",
    "gmail : smtp.gmail.com, 포트 465\n",
    "naver : smtp.naver.com, 포트 587\n",
    "nate : smtp.mail.nate.com, 포트 465\n",
    "daum : smtp.daum.net, 포트 587\n",
    "hotmail, outlook : smtp-mail.outlook.com, 포트 587\n",
    "yahoo : smtp.mail.yahoo.com, 포트 587"
   ]
  },
  {
   "cell_type": "markdown",
   "metadata": {},
   "source": [
    "• ehlo()- 접속 이후에 가장 먼저 보내야 할 명령, EHLO(Extended Helo)는 클라이언트가 서버와 대화하겠다는 인사를 먼저 보내는 것, 반환되는 값이 250이면 성공   \n",
    "• starttls() - 접속 포트가 587이면 TLS를 이용한 암호화를 사용, 반환되는 값이 220이면 서버가 준비되었다는 것을 의미   \n",
    "• 로그인에 성공하면 235반환   "
   ]
  },
  {
   "cell_type": "markdown",
   "metadata": {},
   "source": [
    "자동 로그인   \n",
    "구글은 한 줄씩 따로 식행이 가능하지만 네이버는 한번에 모두 적어서 실행해야한다.   "
   ]
  },
  {
   "cell_type": "code",
   "execution_count": 61,
   "metadata": {},
   "outputs": [
    {
     "data": {
      "text/plain": [
       "(235, b'2.7.0 Accepted')"
      ]
     },
     "execution_count": 61,
     "metadata": {},
     "output_type": "execute_result"
    }
   ],
   "source": [
    "#구글\n",
    "import smtplib\n",
    "smtp = smtplib.SMTP('smtp.gmail.com', 587) #gmail SMTP 서버에 접속\n",
    "#print(type(smtp))\n",
    "smtp.ehlo()   #smtp 서버에 대화시작 signal 보냄\n",
    "\n",
    "smtp.starttls()  #tls 암호화 사용 \n",
    "\n",
    "#.login('id','pw')입력해 로그인, 235는 로그인성공\n",
    "smtp.login('', '')  \n"
   ]
  },
  {
   "cell_type": "markdown",
   "metadata": {},
   "source": [
    "smtplib.SMTP_SSL – 접속부터 SSL(Secure Socket Layer) 보안 레벨을 사용하는 SMTP_SSL() 이용,   starttls() 단계가 필요하지 않음"
   ]
  },
  {
   "cell_type": "code",
   "execution_count": 64,
   "metadata": {},
   "outputs": [
    {
     "data": {
      "text/plain": [
       "(235, b'2.7.0 Accepted')"
      ]
     },
     "execution_count": 64,
     "metadata": {},
     "output_type": "execute_result"
    }
   ],
   "source": [
    "import smtplib\n",
    "\n",
    "smtp = smtplib.SMTP_SSL('smtp.gmail.com', 465)\n",
    "smtp.ehlo() \n",
    "\n",
    "#.login('id','pw')입력해 로그인, 235는 로그인성공\n",
    "smtp.login('', '')  "
   ]
  },
  {
   "cell_type": "code",
   "execution_count": 62,
   "metadata": {},
   "outputs": [
    {
     "data": {
      "text/plain": [
       "(235, b'2.7.0 Accepted jLk0Yi03RvqeqQy4sul3GA - nsmtp')"
      ]
     },
     "execution_count": 62,
     "metadata": {},
     "output_type": "execute_result"
    }
   ],
   "source": [
    "#네이버\n",
    "import smtplib\n",
    "smtp = smtplib.SMTP('smtp.naver.com', 587) #gmail SMTP 서버에 접속\n",
    "#print(type(smtp))\n",
    "smtp.ehlo()   #smtp 서버에 대화시작 signal 보냄\n",
    "\n",
    "smtp.starttls()  #tls 암호화 사용 \n",
    "\n",
    "#.login('id','pw')입력해 로그인, 235는 로그인성공\n",
    "smtp.login('', '')  "
   ]
  },
  {
   "cell_type": "markdown",
   "metadata": {},
   "source": [
    "자동으로 이메일 보내기 ( 간단한 데이터를 표로 변환하여 메일 보내기)   \n",
    "\n",
    "• SMTP 서버에 접속하고 자신의 계정에 로그인      \n",
    "\n",
    "(포트가 587인 경우 TLS Transport Layer Security를 사용하고 465인 경우 SSL Secure Sockets Layer를 사용한다.\n",
    "\n",
    "TLS와 SSL은 암호화와 인증을 제공하는 프로토콜로 안전하지 않은 네크워크에 암호화된 데이터를 보낼 수 있게 해준다.)   \n",
    "• smtplib.SMTP    \n",
    "\n",
    "• smtplib.SMTP_SSL – 접속부터 SSL(Secure Socket Layer) 보안 레벨을 사용하는 SMTP_SSL() 이용, starttls() 단계가 필요하지 않음     "
   ]
  },
  {
   "cell_type": "markdown",
   "metadata": {},
   "source": [
    "자동으로 이메일 보내기 ( 첨부파일 보내기 )   \n",
    "\n",
    "• MIME(Mpurtipurpose Internet Mail Extension) - 이메일 형식을 확장한 것으로, 영문자가 아닌 문자를 표현할 수 있고, 텍스트 및 비디오 파일과 같은 다양한 형식의 파일을 여러 갱 첨부할 수 있도록 확장된 형식    \n",
    "\n",
    "• MIMEText(message, _subtype , charset ) - 메일에 텍스트 내용을 첨부 ,   \n",
    "_subtype=html로 설정하면 HTML로 전송    \n",
    "\n",
    "• send_text_email() – 발신자, 수신자, 제목, 본문 내용, 패스워드를 인수로 받아 텍스트 이메일을 보낸다    \n",
    "\n",
    "sender_tup 인수 – 표시형식, 이메일주소   \n",
    "receivers 인수 – 표시이름, 이메일 주소들의 리스트    \n",
    "\n",
    "• formataddr() - 이메일 형식에 맞는 문자열로 변환    \n",
    "\n",
    "• send_mail(sender, receiver, message)   "
   ]
  },
  {
   "cell_type": "code",
   "execution_count": 69,
   "metadata": {},
   "outputs": [
    {
     "data": {
      "text/plain": [
       "(221, b'2.0.0 closing connection x14sm462418pfo.171 - gsmtp')"
      ]
     },
     "execution_count": 69,
     "metadata": {},
     "output_type": "execute_result"
    }
   ],
   "source": [
    "import smtplib\n",
    "from email.mime.multipart import MIMEMultipart\n",
    "from email.mime.text import MIMEText\n",
    "from email.header import Header\n",
    "\n",
    "smtp = smtplib.SMTP('smtp.gmail.com', 587) \n",
    "smtp.ehlo() \n",
    "smtp.starttls() \n",
    "smtp.login('', '')   #('id', 'pw')입력\n",
    "\n",
    "me = 'sim11241124@gmail.com'  #내이메일 \n",
    "you = 'fbvl@naver.com'   #수신 이메일\n",
    "subject = '제목...python메일 테스트'  #제목\n",
    "message = '본문내용...python메일 테스트'  #내용\n",
    "\n",
    "#_subtype은 부 유형이며 기본값은 plain\n",
    "#_charset은 텍스트의 문자 집합이며 MIMENonMultipart 생성자에 인자로 전달\n",
    "msg = MIMEText(message.encode('utf-8'), _subtype='plain', _charset='utf-8')\n",
    "msg['Subject'] = Header(subject.encode('utf-8'), 'utf-8')\n",
    "msg['From'] = me  #보내는이 = 나\n",
    "msg['To'] = you  #받는이 = 수신이메일\n",
    "\n",
    "#.as_string( ) = 이걸 안적으면 MIMEText객체로 나옴, 문자열로 보내기 위해 적어줌, why? sendmail메소드 사용 시 msg는 문자열로 들어가야하기 때문.\n",
    "smtp.sendmail(me, you, msg.as_string( ))  \n",
    "smtp.quit()  #SMTP 서버로부터 221 응답코드: 성공"
   ]
  },
  {
   "cell_type": "code",
   "execution_count": 55,
   "metadata": {},
   "outputs": [
    {
     "name": "stdout",
     "output_type": "stream",
     "text": [
      "Send Mail Success!\n"
     ]
    }
   ],
   "source": [
    "import smtplib\n",
    "from email.utils import formataddr\n",
    "from email.mime.text import MIMEText\n",
    "from email.header import Header\n",
    "\n",
    "\n",
    "smtp_info = {                       # SMTP 서버\n",
    "    'gmail.com': ('smtp.gmail.com', 587),\n",
    "    'naver.com': ('smtp.naver.com', 587),\n",
    "    'daum.net': ('smtp.daum.net', 465),\n",
    "    'hanmail.net': ('smtp.daum.net', 465),\n",
    "    'nate.com': ('smtp.mail.nate.com', 465),\n",
    "    'hotmail.com': ('smtp-mail.outlook.com', 587),\n",
    "    'outlook.com': ('smtp-mail.outlook.com', 587),\n",
    "    'yahoo.com': ('smtp.mail.yahoo.com', 587),\n",
    "    }\n",
    "\n",
    "def send_text_email(sender_tup, receivers, subject, message, passwd, subtype='plain'):\n",
    "    '''  \n",
    "    --위에 들어가는 메소드들을 설명\n",
    "    sender_tup: (display_name, email_address)\n",
    "    receivers: [(display_name, email_address), (display_name, email_address), ...]\n",
    "    subject: str\n",
    "    message: str\n",
    "    passwd: str\n",
    "    '''\n",
    "\n",
    "    # 보내는 사람 주소를 'Hong <hong@gmail.com>' 형식으로 변환\n",
    "    # 예: ('Hong', 'hong@somemail.com') -> 'Hong <hong@gmail.com>'\n",
    "    sender_form = formataddr(sender_tup)  \n",
    "    mail_to = [formataddr(rec) for rec in receivers]  #mail_to는 결과를 리스트로 받아오게 된다\n",
    "    \n",
    "    #SMTP 서버 선택\n",
    "    #sender_tup: (display_name, email_address) 니까 [1]인덱스인 이메일 주소에서 @를 기준으로 나누어 [1]번째인 주소를 가져옴(아이디 제외)\n",
    "    host = sender_tup[1].split('@')[1]   \n",
    "    #key가 host인것을 찾음, 키를 압력하면 값이 2개라 튜플형식으로 반환되기에 변수2개지정 ex.('smtp.gmail.com', 587)이런식\n",
    "    smtp_server, port = smtp_info[host]  \n",
    "    \n",
    "    #서버 연결\n",
    "    if port == 587:\n",
    "        smtp = smtplib.SMTP(smtp_server, port)\n",
    "        #변수가 2개인 건 로그인을 하면 (221, b'2.0.0)이런식으로 출력되는데 뒤에 내용은 의미가 없어 언더바로 변수 지정\n",
    "        rcode1, _ = smtp.ehlo()\n",
    "        rcode2, _ = smtp.starttls()\n",
    "        \n",
    "    else: # if port == 465:\n",
    "        smtp = smtplib.SMTP(smtp_server, port)\n",
    "        rcode1, _ = smtp.ehlo()\n",
    "        rcode2, _ = 220\n",
    "        \n",
    "     # 로그인\n",
    "    rcode3, _ = smtp.login(sender_tup[1], passwd) \n",
    "    if rcode3 != 235:  #235면 로그인 성공, 아니라면 나가지게 실행\n",
    "        smtp.quit()\n",
    "        return 'login failed'\n",
    "\n",
    "    # 메일 구성 및 전송\n",
    "    msg = MIMEText(message.encode('utf-8'), _subtype=subtype, _charset='utf-8')\n",
    "    msg['Subject'] = Header(subject.encode('utf-8'), 'utf-8')\n",
    "    msg['From'] = sender_form\n",
    "    msg['To'] = ','.join(mail_to) #mail_to의 리스트들을 쉼표를 넣어join해 문자열로 만들어준다\n",
    "\n",
    "    smtp.sendmail(sender_form, mail_to, msg.as_string( ))\n",
    "    print(\"Send Mail Success!\")  #메일이 갔는지 확인하기 위해서\n",
    "    smtp.quit()  #로그인 한 곳에서 나가기\n",
    "\n",
    "myemail = ('심세경', 'sim11241124@gmail.com')  #내주소\n",
    "receivers = [('심세경', 'fbvl@naver.com'), ('심세경', 'ssixo@daum.net')]\n",
    "\n",
    "subject = 'I love 파이썬'\n",
    "message = '''\n",
    "        2021년 4월 21일 날씨가 좋고 여름이 온 것 같아서 기분이 좋다\n",
    "        '''\n",
    "\n",
    "send_text_email(myemail, receivers, subject, message, '')"
   ]
  },
  {
   "cell_type": "markdown",
   "metadata": {},
   "source": [
    "이메일을 html형식으로 보내기    \n",
    "(subtype=html) 로 지정해야한다   "
   ]
  },
  {
   "cell_type": "code",
   "execution_count": 77,
   "metadata": {},
   "outputs": [
    {
     "name": "stdout",
     "output_type": "stream",
     "text": [
      "Send Mail Success!\n"
     ]
    }
   ],
   "source": [
    "import smtplib\n",
    "from email.utils import formataddr\n",
    "from email.mime.text import MIMEText\n",
    "from email.header import Header\n",
    "\n",
    "\n",
    "smtp_info = {                       # SMTP 서버\n",
    "    'gmail.com': ('smtp.gmail.com', 587),\n",
    "    'naver.com': ('smtp.naver.com', 587),\n",
    "    'daum.net': ('smtp.daum.net', 465),\n",
    "    'hanmail.net': ('smtp.daum.net', 465),\n",
    "    'nate.com': ('smtp.mail.nate.com', 465),\n",
    "    'hotmail.com': ('smtp-mail.outlook.com', 587),\n",
    "    'outlook.com': ('smtp-mail.outlook.com', 587),\n",
    "    'yahoo.com': ('smtp.mail.yahoo.com', 587),\n",
    "    }\n",
    "\n",
    "def send_text_email(sender_tup, receivers, subject, message, passwd, subtype='plain'):\n",
    "    '''  \n",
    "    --위에 들어가는 메소드들을 설명\n",
    "    sender_tup: (display_name, email_address)\n",
    "    receivers: [(display_name, email_address), (display_name, email_address), ...]\n",
    "    subject: str\n",
    "    message: str\n",
    "    passwd: str\n",
    "    '''\n",
    "\n",
    "    # 보내는 사람 주소를 'Hong <hong@gmail.com>' 형식으로 변환\n",
    "    # 예: ('Hong', 'hong@somemail.com') -> 'Hong <hong@gmail.com>'\n",
    "    sender_form = formataddr(sender_tup) \n",
    "    mail_to = [formataddr(rec) for rec in receivers]\n",
    "    \n",
    "    #SMTP 서버 선택\n",
    "    host = sender_tup[1].split('@')[1]   \n",
    "    smtp_server, port = smtp_info[host]\n",
    "    \n",
    "    #서버 연결\n",
    "    if port == 587:\n",
    "        smtp = smtplib.SMTP(smtp_server, port)\n",
    "        rcode1, _ = smtp.ehlo()\n",
    "        rcode2, _ = smtp.starttls()\n",
    "        \n",
    "    else: # if port == 465:\n",
    "        smtp = smtplib.SMTP(smtp_server, port)\n",
    "        rcode1, _ = smtp.ehlo()\n",
    "        rcode2, _ = 220\n",
    "        \n",
    "     # 로그인\n",
    "    rcode3, _ = smtp.login(sender_tup[1], passwd) #아래서 사용하지 않을 값을 ' _'변수로 지정\n",
    "    if rcode3 != 235:\n",
    "        smtp.quit()\n",
    "        return 'login failed'\n",
    "\n",
    "    # 메일 구성 및 전송\n",
    "    msg = MIMEText(message.encode('utf-8'), _subtype=subtype, _charset='utf-8')\n",
    "    msg['Subject'] = Header(subject.encode('utf-8'), 'utf-8')\n",
    "    msg['From'] = sender_form\n",
    "    msg['To'] = ','.join(mail_to)\n",
    "\n",
    "    smtp.sendmail(sender_form, mail_to, msg.as_string( ))\n",
    "    print(\"Send Mail Success!\")\n",
    "    smtp.quit()\n",
    "\n",
    "myemail = ('심세경', 'sim11241124@gmail.com')  #내주소\n",
    "receivers = [('심세경', 'fbvl@naver.com'), ('심세경', 'ssixo@daum.net')]\n",
    "\n",
    "subject = 'I love 파이썬'\n",
    "message = '''\n",
    "        <html>\n",
    "        <head></head>\n",
    "    <body>\n",
    "        <p style='color:blue'> I love 파이썬 </p>\n",
    "        <p style='color:red'> I love 파이썬 </p>\n",
    "        <p style='color:red'> I love 파이썬 </p>\n",
    "         </body>\n",
    "        </html>\n",
    "        '''\n",
    "\n",
    "send_text_email(myemail, receivers, subject, message, '', subtype='html')"
   ]
  },
  {
   "cell_type": "code",
   "execution_count": null,
   "metadata": {},
   "outputs": [],
   "source": [
    "자동으로 이메일 보내기 ( 첨부파일 보내기 )   \n",
    "• 멀티파트(multipart) 메일은 메일에 여러 개의 분리된 본문 혹은 첨부 파일을 계츷적으로 구성한 뒤 하나로 모으는 메\n",
    "일 형식   \n",
    "• MIMEMultipart – 이메일 발송에 필요한 정보를 담아낼 클래스   \n",
    "• 멀티파트 메일은 MIMEBase를 중심으로 메시지를 필요한 만큼 추가한다.   \n",
    "• 첨부파일은 형식에 따라 MIMEText, MIMEImage, MIMEAudio, MIMEApplication으로 구성된다   \n",
    "텍스트, 이미지, 오디오 형식 파일과 같이 잘 알려진 파일 형식이 아닌 경우는 모두 MIMEApplication객체가 된다."
   ]
  },
  {
   "cell_type": "code",
   "execution_count": 85,
   "metadata": {},
   "outputs": [
    {
     "name": "stdout",
     "output_type": "stream",
     "text": [
      "Send Mail Success\n"
     ]
    }
   ],
   "source": [
    "import smtplib\n",
    "import mimetypes\n",
    "import os\n",
    "import chardet   # pip install chardet로 설치\n",
    "\n",
    "from email.utils import formataddr\n",
    "from email.header import Header\n",
    "from email.message import Message\n",
    "from email.mime.base import MIMEBase\n",
    "from email.mime.audio import MIMEAudio\n",
    "from email.mime.image import MIMEImage\n",
    "from email.mime.text import MIMEText\n",
    "from email.mime.application import MIMEApplication\n",
    "\n",
    "smtp_info = {                       # SMTP 서버\n",
    "    'gmail.com': ('smtp.gmail.com', 587),\n",
    "    'naver.com': ('smtp.naver.com', 587),\n",
    "    'daum.net': ('smtp.daum.net', 465),\n",
    "    'hanmail.net': ('smtp.daum.net', 465),\n",
    "    'nate.com': ('smtp.mail.nate.com', 465),\n",
    "    'hotmail.com': ('smtp-mail.outlook.com', 587),\n",
    "    'outlook.com': ('smtp-mail.outlook.com', 587),\n",
    "    'yahoo.com': ('smtp.mail.yahoo.com', 587),\n",
    "    }\n",
    "\n",
    "#첨부파일을 포함한 경우의 메일 보낼 함수\n",
    "def send_email(sender_tup, receivers, subject, message, attach_files=(), passwd='', subtype='plain'):\n",
    "    # 보내는 사람 주소 정리\n",
    "    sender = formataddr(sender_tup)\n",
    "    # 수신인들 주소 정리\n",
    "    mail_to = [formataddr(rec) for rec in receivers]\n",
    "    \n",
    "    # MIMEBase= 모든 MIME객체들의 부모 클래스, 이 객체를 생성 시 인자로 내용포맷과 내용형식이 있어야해서 'multipart', 'mixed'를 각각 넣어줌 \n",
    "    outer = MIMEBase('multipart', 'mixed')   #포함하는 내용이 여러개인 멀티파트 메일은 MIMEBase생성\n",
    "    outer['Subject'] = Header(subject.encode('utf-8'), 'utf-8')\n",
    "    outer['From'] = sender\n",
    "    outer['To'] = ', '.join(mail_to) \n",
    "    outer.preamble = 'This is a multi-part message in MIME format.\\n\\n'  #서문\n",
    "    outer.epilogue = ''\t \n",
    "    msg = MIMEText(message.encode('utf-8'), _subtype=subtype, _charset='utf-8')\n",
    "    outer.attach(msg)  #msg를 attach함수를 사용해서 MIMEBase에 담아준다\n",
    "    \n",
    "    for fpath in attach_files:\n",
    "        folder, file_name = os.path.split(fpath)\n",
    "        ctype, _ = mimetypes.guess_type(file_name) # 파일 종류 추측\n",
    "        if ctype is None:\n",
    "            ctype = 'application/octet-stream' #넘어온 값이 없으면 바이너리 파일로\n",
    "        maintype, subtype = ctype.split('/', 1)\n",
    "        with open(fpath, 'rb') as f:\n",
    "            body = f.read()\n",
    "        if maintype == 'text':   #각타입에 맞춰서 MIME지정\n",
    "            encoding = chardet.detect(body)['encoding']\n",
    "            msg = MIMEText(body, _subtype=subtype, _charset=encoding)\n",
    "        elif maintype == 'image':\n",
    "            msg = MIMEImage(body, _subtype=subtype)\n",
    "        elif maintype == 'audio':\n",
    "            msg = MIMEAudio(body, _subtype=subtype)\n",
    "        else:\n",
    "            msg = MIMEApplication(body, _subtype=subtype)\n",
    "        msg.add_header('Content-Disposition', 'attachment', \n",
    "                       filename=(Header(file_name, 'utf-8').encode()))\n",
    "        outer.attach(msg) # 파일 첨부\n",
    "\n",
    "    # SMTP 서버를 통해서 메일 보내기\n",
    "    _, host = sender_tup[1].rsplit('@', 1)\n",
    "    smtp_server, port = smtp_info[host]\n",
    "    \n",
    "    if port == 587:\n",
    "        smtp = smtplib.SMTP(smtp_server, port)\n",
    "        rcode1, _ = smtp.ehlo()\n",
    "        rcode2, _ = smtp.starttls()\n",
    "    else: # if port == 465:\n",
    "        smtp = smtplib.SMTP_SSL(smtp_server, port)\n",
    "        rcode1, _ = smtp.ehlo()\n",
    "        rcode2 = 220\n",
    "        \n",
    "    if rcode1 != 250 or rcode2 != 220:\n",
    "        smtp.quit()\n",
    "        return 'conection failed'\n",
    "        \n",
    "    smtp.login(sender_tup[1], passwd)\n",
    "    smtp.sendmail(sender, mail_to, outer.as_string())\n",
    "    smtp.quit()\n",
    "\n",
    "\n",
    "myemail = ('심세경', 'sim11241124@gmail.com')  #내주소\n",
    "receivers = [('심세경', 'fbvl@naver.com'), ('심세진', 'ssixo@naver.com')]\n",
    "\n",
    "subject = '첨부 파일 메일 보내기 테스트'\n",
    "message = '''\n",
    "       이 청부파일을 보냅니다.\n",
    "       잘 받았는지 확인 바랍니다.\n",
    "       \n",
    "       감사합니다.\n",
    "        '''\n",
    "\n",
    "attach_files = ['./image/graph.png']\n",
    "send_email(myemail, receivers, subject, message, attach_files, passwd= '')\n",
    "print(\"Send Mail Success\")\n"
   ]
  },
  {
   "cell_type": "code",
   "execution_count": 103,
   "metadata": {},
   "outputs": [
    {
     "name": "stdout",
     "output_type": "stream",
     "text": [
      "10000 심세경 fbvl@naver.com\n",
      "10001 정다은 tree2974@naver.com\n",
      "10002 박병현 korhammers@gmail.com\n",
      "('심세경', 'fbvl@naver.com') ['고지서_10000_202104.pdf']\n",
      "('정다은', 'tree2974@naver.com') ['고지서_10001_202104.pdf']\n",
      "('박병현', 'korhammers@gmail.com') ['고지서_10002_202104.pdf']\n"
     ]
    }
   ],
   "source": [
    "import pandas as pd\n",
    "\n",
    "df = pd.read_excel('회원명단.xlsx', sheet_name=0, index_col=0)\n",
    "df\n",
    "\n",
    "for index, row in df.iterrows():\n",
    "    print(index, row['이름'], row['이메일'])\n",
    "    \n",
    "sender = ('심세경', 'sim11241124@gmail.com')\n",
    "subject = '2021년 4월 고지서'\n",
    "message_fmt = '''\n",
    "회원번호: {0}\n",
    "이름: {1}\n",
    "이메일 : {2}\n",
    "\n",
    "{0}고객님,\n",
    "\n",
    "이번 달 고지서를 보내드립니다.\n",
    "감사합니다.\n",
    "\n",
    "인공지능 기업 드림\n",
    "'''\n",
    "\n",
    "for index, row in df.iterrows():\n",
    "    receiver = (row['이름'], row['이메일'])\n",
    "    fname = f'고지서_{index}_202104.pdf'\n",
    "    if not os.path.exists(attach_files[0]):  #첨부 파일이 없으면 메일을 보내지 않는다\n",
    "        continue\n",
    "    msg = message_fmt.format(index, row['이름'], row['이메일'])\n",
    "    attach_files = [fname]\n",
    "    print(receiver, attach_files)\n",
    "    #print(msg)\n",
    "    send_email(sender, [receiver], subject, msg, attach_files, passwd= '')"
   ]
  },
  {
   "cell_type": "code",
   "execution_count": 106,
   "metadata": {},
   "outputs": [
    {
     "name": "stdout",
     "output_type": "stream",
     "text": [
      "10000 심세경 fbvl@naver.com\n",
      "10001 정다은 tree2974@naver.com\n",
      "10002 박병현 korhammers@gmail.com\n",
      "('심세경', 'fbvl@naver.com') ['고지서_10000_202104.pdf']\n",
      "('정다은', 'tree2974@naver.com') ['고지서_10001_202104.pdf']\n",
      "('박병현', 'korhammers@gmail.com') ['고지서_10002_202104.pdf']\n"
     ]
    }
   ],
   "source": [
    "#이메일 추가 연습문제 - 메일 수신 동의한 사람에게만 메일을 전송합니다\n",
    "import pandas as pd\n",
    "\n",
    "df = pd.read_excel('회원명단2.xlsx', sheet_name=0, index_col=0)\n",
    "df\n",
    "\n",
    "for index, row in df.iterrows():\n",
    "    print(index, row['이름'], row['이메일'])\n",
    "    \n",
    "sender = ('심세경', 'sim11241124@gmail.com')\n",
    "subject = '2021년 4월 고지서'\n",
    "message_fmt = '''\n",
    "회원번호: {0}\n",
    "이름: {1}\n",
    "이메일 : {2}\n",
    "\n",
    "{0}고객님,\n",
    "\n",
    "이번 달 고지서를 보내드립니다.\n",
    "감사합니다.\n",
    "\n",
    "인공지능 기업 드림\n",
    "'''\n",
    "\n",
    "for index, row in df.iterrows():\n",
    "    receiver = (row['이름'], row['이메일'])\n",
    "    fname = f'고지서_{index}_202104.pdf'\n",
    "    if not os.path.exists(attach_files[0]):  #첨부 파일이 없으면 메일을 보내지 않는다\n",
    "        continue\n",
    "    msg = message_fmt.format(index, row['이름'], row['이메일'])\n",
    "    attach_files = [fname]\n",
    "    print(receiver, attach_files)\n",
    "    #print(msg)\n",
    "    if not row['메일수신동의'] == 'T':  #메일수신동의를 하지 않으면 보내지 않는다\n",
    "        continue\n",
    "    send_email(sender, [receiver], subject, msg, attach_files, passwd= 'Tprud11241124!')"
   ]
  }
 ],
 "metadata": {
  "kernelspec": {
   "display_name": "Python 3",
   "language": "python",
   "name": "python3"
  },
  "language_info": {
   "codemirror_mode": {
    "name": "ipython",
    "version": 3
   },
   "file_extension": ".py",
   "mimetype": "text/x-python",
   "name": "python",
   "nbconvert_exporter": "python",
   "pygments_lexer": "ipython3",
   "version": "3.8.5"
  }
 },
 "nbformat": 4,
 "nbformat_minor": 4
}
