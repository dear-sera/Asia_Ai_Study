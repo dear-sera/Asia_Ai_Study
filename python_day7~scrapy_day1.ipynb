{
  "nbformat": 4,
  "nbformat_minor": 0,
  "metadata": {
    "colab": {
      "name": "python_day7~scrapy_day1.ipynb",
      "provenance": [],
      "collapsed_sections": [],
      "mount_file_id": "1TgYkWf4Qu-UFAQBIKp1pCa34tqOP1IK_",
      "authorship_tag": "ABX9TyNZZtfbW1OMkaJeSn7DowMV",
      "include_colab_link": true
    },
    "kernelspec": {
      "name": "python3",
      "display_name": "Python 3"
    },
    "language_info": {
      "name": "python"
    }
  },
  "cells": [
    {
      "cell_type": "markdown",
      "metadata": {
        "id": "view-in-github",
        "colab_type": "text"
      },
      "source": [
        "<a href=\"https://colab.research.google.com/github/sera0911/asia-ai-study/blob/main/python_day7~scrapy_day1.ipynb\" target=\"_parent\"><img src=\"https://colab.research.google.com/assets/colab-badge.svg\" alt=\"Open In Colab\"/></a>"
      ]
    },
    {
      "cell_type": "markdown",
      "metadata": {
        "id": "Mj-Gia44xwVk"
      },
      "source": [
        "day6 정리\n",
        "\n",
        "module - 파이썬에서 프로그램 설계, 실행 단위 (파일명.py로 저장, 파일명이 모듈명이 됨)   \n",
        "import 모듈명    \n",
        "모듈명.함수   \n",
        "import 모듈명 as 별칭   \n",
        "멸칭.함수\n",
        "\n",
        "package - 연관성이 있는 module을 그룹핑(물리적으로 디렉토리로 생성됨)   \n",
        "\n",
        "form 상위package.하위package import 모듈명 as 별칭    \n",
        "별칭.함수    \n",
        "별칭.클래스()   \n",
        "\n",
        "from package.모듈명 import 클래스    \n",
        "a = 클래스()   \n",
        "\n",
        "from package.모듈명 import 함수 \n",
        "\n",
        "\n",
        "내장함수 open('파일경로이름', 'w | r | wb | a | rb') : FilOWrapper 객체반환    \n",
        "FilOWrapper 객체.read()   \n",
        "FilOWrapper 객체.readlines()    \n",
        "FilOWrapper 객체.readline()     \n",
        "반드시 FilOWrapper 객체.close() 해야 한다.    \n",
        "\n",
        "\n",
        "이구문을 대신 자동으로 close 해주는 구문이 있다   \n",
        "with open('파일경로이름', 'w | r | wb | a | rb') as 객체명 :    \n",
        "with ~ as 블럭은 블럭문을 빠져나가면 인터프리터가 파일을 close해준다\n",
        "\n",
        "실행중에 현재 메모리에 저장된 객체를 파일로 저장하려면 pickle 모듈.dump(), pickle모듈.load()    \n",
        "\n",
        "\n",
        "datetime.date(), now()   \n",
        "time.time()    \n",
        "형식문자\n",
        "random.random(), randrange(), shuffle(), choice(), sample()   \n",
        "re    \n",
        "정규 표현식에 사용되는 패턴문자 match(). serch(),find~, sub()   \n",
        "\n",
        "\n",
        "base 또는 basic 가상환경 활성화 후에    \n",
        "Anaconda Prompt> conda install pandas   \n",
        "\n"
      ]
    },
    {
      "cell_type": "code",
      "metadata": {
        "colab": {
          "base_uri": "https://localhost:8080/"
        },
        "id": "nVcu0Pmk_Op5",
        "outputId": "6f24c491-4ebb-4b79-c461-88141fb08d5d"
      },
      "source": [
        "import pandas as pd\n",
        "\n",
        "print(pd.__version__)"
      ],
      "execution_count": 5,
      "outputs": [
        {
          "output_type": "stream",
          "text": [
            "1.1.5\n"
          ],
          "name": "stdout"
        }
      ]
    },
    {
      "cell_type": "code",
      "metadata": {
        "colab": {
          "base_uri": "https://localhost:8080/"
        },
        "id": "Oizdew-a_Tfx",
        "outputId": "57494562-1e86-4183-d9bd-8ca0bc0ea075"
      },
      "source": [
        "import pandas as pd\n",
        "csv_test = pd.read_csv('test_csv_file.csv')\n",
        "# DataFrame.shape 을 사용해서 행(row)과 열(column)의 개수 확인\n",
        "csv_test.shape # number of rows, columns\n",
        "# 데이터 확인\n",
        "print(csv_test )"
      ],
      "execution_count": 6,
      "outputs": [
        {
          "output_type": "stream",
          "text": [
            "   ID LAST_NAME  AGE\n",
            "0   1       KIM   30\n",
            "1   2      CHOI   25\n",
            "2   3       LEE   41\n",
            "3   4      PARK   19\n",
            "4   5       LIM   36\n"
          ],
          "name": "stdout"
        }
      ]
    },
    {
      "cell_type": "code",
      "metadata": {
        "colab": {
          "base_uri": "https://localhost:8080/"
        },
        "id": "gBeOtr2cxndl",
        "outputId": "be17dfde-40f6-4b16-afd6-b07bef064a31"
      },
      "source": [
        "import pandas as pd\n",
        "\n",
        "print(pd.__version__)\n",
        "\n",
        "text_test = pd.read_csv('test_text_filee.txt', sep='|')\n",
        "print(type(text_test))\n",
        "print(text_test.shape)\n",
        "print(text_test)\n"
      ],
      "execution_count": 2,
      "outputs": [
        {
          "output_type": "stream",
          "text": [
            "1.1.5\n",
            "<class 'pandas.core.frame.DataFrame'>\n",
            "(3, 5)\n",
            "   ID    A  B  C    D\n",
            "0  C1  1.0  2  3  NaN\n",
            "1  C2  5.0  ?  7  8.0\n",
            "2  C3  NaN  3  5  7.0\n"
          ],
          "name": "stdout"
        }
      ]
    },
    {
      "cell_type": "markdown",
      "metadata": {
        "id": "2Ay-_IOI_w1g"
      },
      "source": [
        "pandas library의 read_csv()     \n",
        "파일 불러올 때 index 지정해주기 : index_col\n",
        "첫번째 열인 'ID'라는 이름의 변수를 Index 로 지정해주고 싶으면 index_col=0 (위치)이나\n",
        "index_col='ID' 처럼 직접 변수 이름을 지정"
      ]
    },
    {
      "cell_type": "code",
      "metadata": {
        "colab": {
          "base_uri": "https://localhost:8080/"
        },
        "id": "Jlaaa_mj-Mar",
        "outputId": "724bffe0-ce5f-415b-b807-bde14fc315e6"
      },
      "source": [
        "text_test = pd.read_csv('test_text_filee.txt', sep='|', index_col = 0)\n",
        "print(text_test)"
      ],
      "execution_count": 3,
      "outputs": [
        {
          "output_type": "stream",
          "text": [
            "      A  B  C    D\n",
            "ID                \n",
            "C1  1.0  2  3  NaN\n",
            "C2  5.0  ?  7  8.0\n",
            "C3  NaN  3  5  7.0\n"
          ],
          "name": "stdout"
        }
      ]
    },
    {
      "cell_type": "markdown",
      "metadata": {
        "id": "eZLeOcOF_0tf"
      },
      "source": [
        "변수 이름(column name, header) 이 없는 파일 로드할 때 이름 부여 : names=['X1', 'X2', ... ]\n",
        "header=None 은 칼럼 이름이 없다의 의미    \n",
        "1번째 행이 칼럼 이름이라면 header=0 으로 지정"
      ]
    },
    {
      "cell_type": "markdown",
      "metadata": {
        "id": "OM3ot2fQ_sxv"
      },
      "source": [
        "특정 줄은 제외하고 파일 내용 로드 : skiprows = [x, x]"
      ]
    },
    {
      "cell_type": "code",
      "metadata": {
        "colab": {
          "base_uri": "https://localhost:8080/"
        },
        "id": "EfCABHo2-O6K",
        "outputId": "b60dde2f-c33b-4095-ec44-8b6650962922"
      },
      "source": [
        "text_test = pd.read_csv('test_without_column_name.txt', sep='|', names = ['ID', 'A', 'B', 'C', 'D'], header = None, index_col = 'ID')\n",
        "print(text_test)"
      ],
      "execution_count": 4,
      "outputs": [
        {
          "output_type": "stream",
          "text": [
            "      A  B  C    D\n",
            "ID                \n",
            "ID    A  B  C    D\n",
            "C1    1  2  3  NaN\n",
            "C2    5  ?  7    8\n",
            "C3  NaN  3  5    7\n"
          ],
          "name": "stdout"
        }
      ]
    },
    {
      "cell_type": "code",
      "metadata": {
        "colab": {
          "base_uri": "https://localhost:8080/"
        },
        "id": "u46RF17z-fTg",
        "outputId": "afef13c7-7d3d-48ab-8c31-9cfa774a4fb5"
      },
      "source": [
        "text_test = pd.read_csv(\"test_csv_file.csv\", skiprows = [1, 2] )\n",
        "print(text_test)"
      ],
      "execution_count": 7,
      "outputs": [
        {
          "output_type": "stream",
          "text": [
            "   ID LAST_NAME  AGE\n",
            "0   3       LEE   41\n",
            "1   4      PARK   19\n",
            "2   5       LIM   36\n"
          ],
          "name": "stdout"
        }
      ]
    },
    {
      "cell_type": "markdown",
      "metadata": {
        "id": "9W_sckpU_3fP"
      },
      "source": [
        "pandas library의 read_csv()   \n",
        "n 개의 행 데이터만 로드 : nrows = n"
      ]
    },
    {
      "cell_type": "code",
      "metadata": {
        "colab": {
          "base_uri": "https://localhost:8080/"
        },
        "id": "fDa39SQg_5t1",
        "outputId": "602a7934-3ef5-473d-f97d-bd688434a686"
      },
      "source": [
        "csv_test = pd.read_csv(\"test_csv_file.csv\", nrows = 3 )\n",
        "print(csv_test )"
      ],
      "execution_count": 8,
      "outputs": [
        {
          "output_type": "stream",
          "text": [
            "   ID LAST_NAME  AGE\n",
            "0   1       KIM   30\n",
            "1   2      CHOI   25\n",
            "2   3       LEE   41\n"
          ],
          "name": "stdout"
        }
      ]
    },
    {
      "cell_type": "markdown",
      "metadata": {
        "id": "idcKa2qZ__t6"
      },
      "source": [
        "사용자 정의 결측값 기호를 pandas가 결측값으로 인식할 수 있도록 설정하는 옵션 na_values    \n",
        "값이 없이 빈 형태로 읽어오는지 확인할 수 있는 코드"
      ]
    },
    {
      "cell_type": "code",
      "metadata": {
        "colab": {
          "base_uri": "https://localhost:8080/"
        },
        "id": "FTYLiPlk__Yy",
        "outputId": "7d0eaa45-c765-41d0-b689-2c17e47c5045"
      },
      "source": [
        "text_test = pd.read_csv('test_text_filee.txt', na_values = ['?', '??', 'N/A', 'NA', 'nan', 'NaN', '-nan', '-NaN', 'null'])\n",
        "print(text_test)"
      ],
      "execution_count": 13,
      "outputs": [
        {
          "output_type": "stream",
          "text": [
            "      ID|A|B|C|D\n",
            "0   C1|1|2|3|nan\n",
            "1     C2|5|?|7|8\n",
            "2  C3|null|3|5|7\n"
          ],
          "name": "stdout"
        }
      ]
    },
    {
      "cell_type": "code",
      "metadata": {
        "colab": {
          "base_uri": "https://localhost:8080/"
        },
        "id": "oThMF4-EB8qy",
        "outputId": "d2074608-42c9-4840-81fd-9d2587946e7f"
      },
      "source": [
        "import pandas as pd\n",
        "csv_test= pd.read_csv('test_csv_file.csv',\n",
        "dtype = {\"ID\": int, \"LAST_NAME\": str, \"AGE\": float} )\n",
        "print(csv_test)"
      ],
      "execution_count": 21,
      "outputs": [
        {
          "output_type": "stream",
          "text": [
            "   ID LAST_NAME   AGE\n",
            "0   1       KIM  30.0\n",
            "1   2      CHOI  25.0\n",
            "2   3       LEE  41.0\n",
            "3   4      PARK  19.0\n",
            "4   5       LIM  36.0\n"
          ],
          "name": "stdout"
        }
      ]
    },
    {
      "cell_type": "markdown",
      "metadata": {
        "id": "UoFvAnDnAeB5"
      },
      "source": [
        "pandas library의 read_csv()    \n",
        "pandas는 데이터셋을 읽어들일 때 첫번째 행의 데이터를 기준으로 각 칼럼별 데이터 유형을 추정해\n",
        "서 자동으로 설정    \n",
        "데이터 유형 설정 (Setting the data type per each column) dtpye 옵션으로 사전형(dictionary)으로\n",
        "각 칼럼(key) 별 데이터 유형(value)를 짝을 지어서 명시적으로 설정    "
      ]
    },
    {
      "cell_type": "code",
      "metadata": {
        "colab": {
          "base_uri": "https://localhost:8080/"
        },
        "id": "x6fyYS0cBNIz",
        "outputId": "cd163554-3702-4862-ccab-516c2b98b912"
      },
      "source": [
        "import pandas as pd\n",
        "csv_test = pd.read_csv('test_csv_file.csv')\n",
        "print(type(csv_test['ID']))   #컬럼이름을 키로 사용\n",
        "print(type(csv_test['LAST_NAME']))\n",
        "print(type(csv_test['AGE']))\n",
        "print(csv_test.info())"
      ],
      "execution_count": 34,
      "outputs": [
        {
          "output_type": "stream",
          "text": [
            "<class 'pandas.core.series.Series'>\n",
            "<class 'pandas.core.series.Series'>\n",
            "<class 'pandas.core.series.Series'>\n",
            "<class 'pandas.core.frame.DataFrame'>\n",
            "RangeIndex: 5 entries, 0 to 4\n",
            "Data columns (total 3 columns):\n",
            " #   Column     Non-Null Count  Dtype \n",
            "---  ------     --------------  ----- \n",
            " 0   ID         5 non-null      int64 \n",
            " 1   LAST_NAME  5 non-null      object\n",
            " 2   AGE        5 non-null      int64 \n",
            "dtypes: int64(2), object(1)\n",
            "memory usage: 248.0+ bytes\n",
            "None\n"
          ],
          "name": "stdout"
        }
      ]
    },
    {
      "cell_type": "code",
      "metadata": {
        "colab": {
          "base_uri": "https://localhost:8080/"
        },
        "id": "E_wy_y3gC0Lt",
        "outputId": "12229823-d5df-4464-b39b-a14eddd86539"
      },
      "source": [
        "import pandas as pd\n",
        "\n",
        "csv_test2 = pd.read_csv('test_csv_file.csv', dtype = {\"ID\": int, \"LAST_NAME\": str, \"AGE\": float} )\n",
        "print(type(csv_test2.ID))\n",
        "print(type(csv_test2.LAST_NAME))\n",
        "print(type(csv_test2.AGE))\n",
        "print(csv_test.info())"
      ],
      "execution_count": 35,
      "outputs": [
        {
          "output_type": "stream",
          "text": [
            "<class 'pandas.core.series.Series'>\n",
            "<class 'pandas.core.series.Series'>\n",
            "<class 'pandas.core.series.Series'>\n",
            "<class 'pandas.core.frame.DataFrame'>\n",
            "RangeIndex: 5 entries, 0 to 4\n",
            "Data columns (total 3 columns):\n",
            " #   Column     Non-Null Count  Dtype \n",
            "---  ------     --------------  ----- \n",
            " 0   ID         5 non-null      int64 \n",
            " 1   LAST_NAME  5 non-null      object\n",
            " 2   AGE        5 non-null      int64 \n",
            "dtypes: int64(2), object(1)\n",
            "memory usage: 248.0+ bytes\n",
            "None\n"
          ],
          "name": "stdout"
        }
      ]
    },
    {
      "cell_type": "markdown",
      "metadata": {
        "id": "xQthmSItEATm"
      },
      "source": [
        "위 두 가지코드는 컬럼이름을 키로 사용하는지 Series  형태로 보는 지에 따라 다르다"
      ]
    },
    {
      "cell_type": "markdown",
      "metadata": {
        "id": "e-6x8P1LEJuJ"
      },
      "source": [
        "JSON 데이터 읽고 쓰기    \n",
        "JSON (JavaScript Object Notation)    \n",
        "XML, YAML 과 함께 효율적으로 데이터를 저장하고 교환(exchange data)하는데 사용하는 텍스트 데이터 포맷    \n",
        "사람이 읽고 쓰기에 쉬우며, 기계가 파싱하고 생성하기에도 용이    \n",
        "JavaScript의 프로그래밍 언어의 부분에 기반하고 있으며,    \n",
        "C-family 프로그램밍 언어 (C, C++, C#, Java, JavaScript, Perl, Python 등)의 규약을 따르고 있어서 C-family 프로그래밍 언어 간 데이터를 교환하는데 적합    \n",
        "\n",
        "\n",
        "\n",
        "JSON 구조    \n",
        "이름/값 쌍의 집합 (A collection of name/value\n",
        "pairs): object, record, struct, dictionary, hash table, keyed list, associative array     \n",
        "정렬된 값의 리스트 (An ordered list of values): array, vector, list, sequence"
      ]
    },
    {
      "cell_type": "markdown",
      "metadata": {
        "id": "l8Jn-ecrFTfZ"
      },
      "source": [
        "Python 객체를 JSON 데이터로 쓰기, 직렬화, 인코딩: json.dumps()    \n",
        "JSON 포맷 데이터를 Python 객체로 읽기, 역직렬화, 디코딩: json.loads()     \n",
        " >파이썬의 내장 json 모듈이 필요    \n",
        "\n",
        "with open(): json.dump() 를 사용해서 JSON 포맷 데이터를 디스크에 쓰기    \n",
        " \n",
        "인코딩 = 코드화 = 암호화 = 부호화    \n",
        "'컴퓨터에서 인코딩은 동영상이나 문자 인코딩 뿐 아니라 사람이 인지할 수 있는 형태의 데이터를 약속된 규칙에 의해 컴퓨터가 사용하는 0과 1로 변환하는 과정을 통틀어 말합니다. '     \n",
        "\n",
        " 사람이 인지하지 못하고 컴퓨터가 이해할 수 있도록 바꿔주는 것을 의미한다.     \n",
        "즉 \"문자(문자열)을 바이트형식으로 변환\"     \n",
        "\n",
        "\n",
        "\n",
        "\n",
        "디코딩 = 역코드화 = 복호화     \n",
        "디코딩은 인코딩의 반대로서 사람이 이해 할 수 있도록 바꿔주는 것을 의미한다.     \n",
        "\n",
        "즉 \"바이트형식을 문자(문자열)로 변환\" 이다.     "
      ]
    },
    {
      "cell_type": "code",
      "metadata": {
        "colab": {
          "base_uri": "https://localhost:8080/"
        },
        "id": "DDOTkXStI6JY",
        "outputId": "3ef59a4e-f107-4e57-dffe-3fa097950533"
      },
      "source": [
        "{\n",
        "  \"1.FirstName\": \"Gildong\",\n",
        "  \"2.LastName\": \"Hong\",\n",
        "  \"3.Age\": 20,\n",
        "  \"4.University\": \"Yonsei University\",\n",
        "  \"5.Courses\": [\n",
        "    {\n",
        "      \"Classes\": [\n",
        "        \"Probability\",\n",
        "        \"Generalized Linear Model\",\n",
        "        \"Categorical Data Analysis\"\n",
        "      ],\n",
        "      \"Major\": \"Statistics\"\n",
        "    },\n",
        "    {\n",
        "      \"Classes\": [\n",
        "        \"Data Structure\",\n",
        "        \"Programming\",\n",
        "        \"Algorithms\"\n",
        "      ],\n",
        "\"Minor\": \"ComputerScience\"\n",
        "    }\n",
        "  ]\n",
        "}"
      ],
      "execution_count": 43,
      "outputs": [
        {
          "output_type": "execute_result",
          "data": {
            "text/plain": [
              "{'1.FirstName': 'Gildong',\n",
              " '2.LastName': 'Hong',\n",
              " '3.Age': 20,\n",
              " '4.University': 'Yonsei University',\n",
              " '5.Courses': [{'Classes': ['Probability',\n",
              "    'Generalized Linear Model',\n",
              "    'Categorical Data Analysis'],\n",
              "   'Major': 'Statistics'},\n",
              "  {'Classes': ['Data Structure', 'Programming', 'Algorithms'],\n",
              "   'Minor': 'ComputerScience'}]}"
            ]
          },
          "metadata": {
            "tags": []
          },
          "execution_count": 43
        }
      ]
    },
    {
      "cell_type": "code",
      "metadata": {
        "id": "i-aikhirEbm_"
      },
      "source": [
        "student_data = {\n",
        "  \"1.FirstName\": \"Gildong\",\n",
        "  \"2.LastName\": \"Hong\",\n",
        "  \"3.Age\": 20,\n",
        "  \"4.University\": \"Yonsei University\",\n",
        "  \"5.Courses\": [\n",
        "    {\n",
        "      \"Classes\": [\n",
        "        \"Probability\",\n",
        "        \"Generalized Linear Model\",\n",
        "        \"Categorical Data Analysis\"\n",
        "      ],\n",
        "      \"Major\": \"Statistics\"\n",
        "    },\n",
        "    {\n",
        "      \"Classes\": [\n",
        "        \"Data Structure\",\n",
        "        \"Programming\",\n",
        "        \"Algorithms\"\n",
        "      ],\n",
        "\"Minor\": \"ComputerScience\"\n",
        "    }\n",
        "  ]\n",
        "}"
      ],
      "execution_count": 40,
      "outputs": []
    },
    {
      "cell_type": "markdown",
      "metadata": {
        "id": "KBsZIbLHJB_X"
      },
      "source": [
        "with open(): json.dump() 를 사용해서 JSON 포맷 데이터를 디스크에 쓰기"
      ]
    },
    {
      "cell_type": "code",
      "metadata": {
        "id": "UybdR_8dH5T-"
      },
      "source": [
        "import json\n",
        "with open(\"student_file.json\", \"w\") as json_file:\n",
        "  json.dump(student_data, json_file)"
      ],
      "execution_count": 50,
      "outputs": []
    },
    {
      "cell_type": "markdown",
      "metadata": {
        "id": "yNAa3PCYJCxT"
      },
      "source": [
        "json.dumps()를 사용해서 JSON 포맷 데이터를 메모리에 만들기"
      ]
    },
    {
      "cell_type": "code",
      "metadata": {
        "colab": {
          "base_uri": "https://localhost:8080/"
        },
        "id": "xWkB8bLvJF0z",
        "outputId": "62561272-06e8-4925-a0f6-ac80f74aa3eb"
      },
      "source": [
        "import json\n",
        "st_json = json.dumps(student_data)\n",
        "print(st_json)"
      ],
      "execution_count": 44,
      "outputs": [
        {
          "output_type": "stream",
          "text": [
            "{\"1.FirstName\": \"Gildong\", \"2.LastName\": \"Hong\", \"3.Age\": 20, \"4.University\": \"Yonsei University\", \"5.Courses\": [{\"Classes\": [\"Probability\", \"Generalized Linear Model\", \"Categorical Data Analysis\"], \"Major\": \"Statistics\"}, {\"Classes\": [\"Data Structure\", \"Programming\", \"Algorithms\"], \"Minor\": \"ComputerScience\"}]}\n"
          ],
          "name": "stdout"
        }
      ]
    },
    {
      "cell_type": "markdown",
      "metadata": {
        "id": "_84l8cypJH6G"
      },
      "source": [
        "indent = int' 로 들여쓰기(indentation) 옵션 :     json.dumps()로 파이썬 객체를 직렬화해서 JSON으로 쓸 때 사람이 보기에 좀더 쉽도록 설정"
      ]
    },
    {
      "cell_type": "code",
      "metadata": {
        "colab": {
          "base_uri": "https://localhost:8080/"
        },
        "id": "4Dod9aKeJNuZ",
        "outputId": "41174322-1d10-43b8-929c-a6a786840fc6"
      },
      "source": [
        "import json\n",
        "st_json2 = json.dumps(student_data, indent=4)\n",
        "print(st_json2)"
      ],
      "execution_count": 45,
      "outputs": [
        {
          "output_type": "stream",
          "text": [
            "{\n",
            "    \"1.FirstName\": \"Gildong\",\n",
            "    \"2.LastName\": \"Hong\",\n",
            "    \"3.Age\": 20,\n",
            "    \"4.University\": \"Yonsei University\",\n",
            "    \"5.Courses\": [\n",
            "        {\n",
            "            \"Classes\": [\n",
            "                \"Probability\",\n",
            "                \"Generalized Linear Model\",\n",
            "                \"Categorical Data Analysis\"\n",
            "            ],\n",
            "            \"Major\": \"Statistics\"\n",
            "        },\n",
            "        {\n",
            "            \"Classes\": [\n",
            "                \"Data Structure\",\n",
            "                \"Programming\",\n",
            "                \"Algorithms\"\n",
            "            ],\n",
            "            \"Minor\": \"ComputerScience\"\n",
            "        }\n",
            "    ]\n",
            "}\n"
          ],
          "name": "stdout"
        }
      ]
    },
    {
      "cell_type": "markdown",
      "metadata": {
        "id": "j7u2AtwJJPer"
      },
      "source": [
        "'sort_keys=True' : 키(keys)를 기준으로 정렬해서 직렬화"
      ]
    },
    {
      "cell_type": "code",
      "metadata": {
        "colab": {
          "base_uri": "https://localhost:8080/"
        },
        "id": "1JR4OnygJSYy",
        "outputId": "c33e175b-e9a3-4bdf-c1ef-0b6a2ea65152"
      },
      "source": [
        "import json\n",
        "st_json3 = json.dumps(student_data, indent=4, sort_keys=True)\n",
        "print(st_json3)"
      ],
      "execution_count": 46,
      "outputs": [
        {
          "output_type": "stream",
          "text": [
            "{\n",
            "    \"1.FirstName\": \"Gildong\",\n",
            "    \"2.LastName\": \"Hong\",\n",
            "    \"3.Age\": 20,\n",
            "    \"4.University\": \"Yonsei University\",\n",
            "    \"5.Courses\": [\n",
            "        {\n",
            "            \"Classes\": [\n",
            "                \"Probability\",\n",
            "                \"Generalized Linear Model\",\n",
            "                \"Categorical Data Analysis\"\n",
            "            ],\n",
            "            \"Major\": \"Statistics\"\n",
            "        },\n",
            "        {\n",
            "            \"Classes\": [\n",
            "                \"Data Structure\",\n",
            "                \"Programming\",\n",
            "                \"Algorithms\"\n",
            "            ],\n",
            "            \"Minor\": \"ComputerScience\"\n",
            "        }\n",
            "    ]\n",
            "}\n"
          ],
          "name": "stdout"
        }
      ]
    },
    {
      "cell_type": "markdown",
      "metadata": {
        "id": "yK88zsrPJWwe"
      },
      "source": [
        "JSON 포맷 데이터를 Python 객체로 읽기, 역직렬화, 디코딩: json.loads()    \n",
        "디스크에 있는 JSON 포맷 데이터를 json.load()를 사용하여 Python 객체로 읽어오기"
      ]
    },
    {
      "cell_type": "code",
      "metadata": {
        "colab": {
          "base_uri": "https://localhost:8080/"
        },
        "id": "pDSQbOnpJY1c",
        "outputId": "7a49d82d-0e28-46c2-d605-4a34a14225a5"
      },
      "source": [
        "import json\n",
        "with open(\"student_file.json\", \"r\") as st_json:\n",
        "  st_python = json.load(st_json)\n",
        "  \n",
        "print(st_python)"
      ],
      "execution_count": 49,
      "outputs": [
        {
          "output_type": "stream",
          "text": [
            "{'1.FirstName': 'Gildong', '2.LastName': 'Hong', '3.Age': 20, '4.University': 'Yonsei University', '5.Courses': [{'Classes': ['Probability', 'Generalized Linear Model', 'Categorical Data Analysis'], 'Major': 'Statistics'}, {'Classes': ['Data Structure', 'Programming', 'Algorithms'], 'Minor': 'ComputerScience'}]}\n"
          ],
          "name": "stdout"
        }
      ]
    },
    {
      "cell_type": "markdown",
      "metadata": {
        "id": "WLm5cRlKJcaA"
      },
      "source": [
        "메모리에 있는 JSON 포맷 데이터를 json.loads()로 Python 객체로 읽기"
      ]
    },
    {
      "cell_type": "code",
      "metadata": {
        "colab": {
          "base_uri": "https://localhost:8080/"
        },
        "id": "EDgRlO3FJkd6",
        "outputId": "8b2100b4-bb3f-467a-e615-4209bcfd7b6a"
      },
      "source": [
        "import json\n",
        "st_python2 = json.loads(st_json3)\n",
        "print(st_python2)"
      ],
      "execution_count": 48,
      "outputs": [
        {
          "output_type": "stream",
          "text": [
            "{'1.FirstName': 'Gildong', '2.LastName': 'Hong', '3.Age': 20, '4.University': 'Yonsei University', '5.Courses': [{'Classes': ['Probability', 'Generalized Linear Model', 'Categorical Data Analysis'], 'Major': 'Statistics'}, {'Classes': ['Data Structure', 'Programming', 'Algorithms'], 'Minor': 'ComputerScience'}]}\n"
          ],
          "name": "stdout"
        }
      ]
    },
    {
      "cell_type": "markdown",
      "metadata": {
        "id": "SL8vy0E8OMxB"
      },
      "source": [
        "웹으로 부터 JSON 포맷 데이터 읽어와서 pandas DataFrame으로 만들기    \n",
        "\n",
        "\"Awesome JSON Datasets\" (https://awesomerank.github.io/lists/jdorfman/awesome-json-datasets.html)    \n",
        "'Novel Prize' JSON 포맷 데이터(http://api.nobelprize.org/v1/prize.json)를 읽어와서 DataFrame으로 생성    \n",
        "urllib 모듈의 rulopen 함수를 사용    \n",
        "JSON 데이터가 있는 URL로 요청(request)을 보내서 URL을 열고 JSON 데이터를 읽어와서, python의 json.loads() 를 사용하여 novel_prize_json 이라 이름의 Python 객체로 생성    "
      ]
    },
    {
      "cell_type": "code",
      "metadata": {
        "id": "C5tIgvUiPSGc"
      },
      "source": [
        "import json\n",
        "import urllib\n",
        "import pandas as pd\n",
        "import sys\n",
        "\n",
        "\n",
        "if sys.version_info[0] == 3:\n",
        "  from urllib.request import urlopen # for Python 3.x\n",
        "else:\n",
        "  from urllib import urlopen # for Python 2.x\n",
        "with urlopen(\"http://api.nobelprize.org/v1/prize.json\") as url:\n",
        "  novel_prize_json_file = url.read()\n",
        "# 읽어온 JSON 포맷 데이터를 Python의 json.loads() 메소드를 이용해서 decoding\n",
        "novel_prize_json = json.loads(novel_prize_json_file.decode('utf-8'))"
      ],
      "execution_count": 57,
      "outputs": []
    },
    {
      "cell_type": "markdown",
      "metadata": {
        "id": "tWdcfDYhQCGW"
      },
      "source": [
        "웹으로부터 JSON 포맷 데이터 읽어와서 pandas DataFrame으로 만들기"
      ]
    },
    {
      "cell_type": "code",
      "metadata": {
        "colab": {
          "base_uri": "https://localhost:8080/"
        },
        "id": "3GlVp9rYSw1b",
        "outputId": "8f63825c-d8e3-4fa2-c339-e4ef5b2369f4"
      },
      "source": [
        "#keys() 메소드로 키를 확인\n",
        "print(novel_prize_json.keys())\n",
        "print(novel_prize_json['prizes'][0].keys())\n",
        "print(novel_prize_json['prizes'][0])\n",
        "print( json.dumps(novel_prize_json['prizes'][0], indent=4))\n",
        "#키(keys)를 기준으로 정렬\n",
        "print( json.dumps(novel_prize_json['prizes'][0], indent=4, sort_keys=True))"
      ],
      "execution_count": 63,
      "outputs": [
        {
          "output_type": "stream",
          "text": [
            "dict_keys(['prizes'])\n",
            "dict_keys(['year', 'category', 'laureates'])\n",
            "{'year': '2020', 'category': 'chemistry', 'laureates': [{'id': '991', 'firstname': 'Emmanuelle', 'surname': 'Charpentier', 'motivation': '\"for the development of a method for genome editing\"', 'share': '2'}, {'id': '992', 'firstname': 'Jennifer A.', 'surname': 'Doudna', 'motivation': '\"for the development of a method for genome editing\"', 'share': '2'}]}\n",
            "{\n",
            "    \"year\": \"2020\",\n",
            "    \"category\": \"chemistry\",\n",
            "    \"laureates\": [\n",
            "        {\n",
            "            \"id\": \"991\",\n",
            "            \"firstname\": \"Emmanuelle\",\n",
            "            \"surname\": \"Charpentier\",\n",
            "            \"motivation\": \"\\\"for the development of a method for genome editing\\\"\",\n",
            "            \"share\": \"2\"\n",
            "        },\n",
            "        {\n",
            "            \"id\": \"992\",\n",
            "            \"firstname\": \"Jennifer A.\",\n",
            "            \"surname\": \"Doudna\",\n",
            "            \"motivation\": \"\\\"for the development of a method for genome editing\\\"\",\n",
            "            \"share\": \"2\"\n",
            "        }\n",
            "    ]\n",
            "}\n",
            "{\n",
            "    \"category\": \"chemistry\",\n",
            "    \"laureates\": [\n",
            "        {\n",
            "            \"firstname\": \"Emmanuelle\",\n",
            "            \"id\": \"991\",\n",
            "            \"motivation\": \"\\\"for the development of a method for genome editing\\\"\",\n",
            "            \"share\": \"2\",\n",
            "            \"surname\": \"Charpentier\"\n",
            "        },\n",
            "        {\n",
            "            \"firstname\": \"Jennifer A.\",\n",
            "            \"id\": \"992\",\n",
            "            \"motivation\": \"\\\"for the development of a method for genome editing\\\"\",\n",
            "            \"share\": \"2\",\n",
            "            \"surname\": \"Doudna\"\n",
            "        }\n",
            "    ],\n",
            "    \"year\": \"2020\"\n",
            "}\n"
          ],
          "name": "stdout"
        }
      ]
    },
    {
      "cell_type": "markdown",
      "metadata": {
        "id": "-1iIRdFrQHoI"
      },
      "source": [
        "JSON 포맷의 데이터 중의 일부분을 indexing하여 pandas DataFrame으로 생성"
      ]
    },
    {
      "cell_type": "code",
      "metadata": {
        "colab": {
          "base_uri": "https://localhost:8080/"
        },
        "id": "W6hUcjMWQKxs",
        "outputId": "697b76d7-308c-4a22-98f3-e0172b9e9b8b"
      },
      "source": [
        "#['prizes'][0] 은 물리학(physics) 노벨상이며, ['prizes'][0]['laureates'] 로 물리학 노벨상 수상자 정보만 선별해서\n",
        "#DataFrame으로 생성\n",
        "novel_prize_physics = pd.DataFrame(novel_prize_json['prizes'][0][\"laureates\"])\n",
        "print(type(novel_prize_physics))\n",
        "print(novel_prize_physics.info())\n",
        "#DataFrame을 만들 때 칼럼 순서를 columns 로 지정\n",
        "novel_prize_physics = pd.DataFrame(novel_prize_json['prizes'][0][\"laureates\"],\n",
        "columns = ['id', 'firstname', 'surname', 'share', 'motivation'])\n",
        "print(novel_prize_physics.info())\n",
        "print(novel_prize_physics)"
      ],
      "execution_count": 64,
      "outputs": [
        {
          "output_type": "stream",
          "text": [
            "<class 'pandas.core.frame.DataFrame'>\n",
            "<class 'pandas.core.frame.DataFrame'>\n",
            "RangeIndex: 2 entries, 0 to 1\n",
            "Data columns (total 5 columns):\n",
            " #   Column      Non-Null Count  Dtype \n",
            "---  ------      --------------  ----- \n",
            " 0   id          2 non-null      object\n",
            " 1   firstname   2 non-null      object\n",
            " 2   surname     2 non-null      object\n",
            " 3   motivation  2 non-null      object\n",
            " 4   share       2 non-null      object\n",
            "dtypes: object(5)\n",
            "memory usage: 208.0+ bytes\n",
            "None\n",
            "<class 'pandas.core.frame.DataFrame'>\n",
            "RangeIndex: 2 entries, 0 to 1\n",
            "Data columns (total 5 columns):\n",
            " #   Column      Non-Null Count  Dtype \n",
            "---  ------      --------------  ----- \n",
            " 0   id          2 non-null      object\n",
            " 1   firstname   2 non-null      object\n",
            " 2   surname     2 non-null      object\n",
            " 3   share       2 non-null      object\n",
            " 4   motivation  2 non-null      object\n",
            "dtypes: object(5)\n",
            "memory usage: 208.0+ bytes\n",
            "None\n",
            "    id    firstname  ... share                                         motivation\n",
            "0  991   Emmanuelle  ...     2  \"for the development of a method for genome ed...\n",
            "1  992  Jennifer A.  ...     2  \"for the development of a method for genome ed...\n",
            "\n",
            "[2 rows x 5 columns]\n"
          ],
          "name": "stdout"
        }
      ]
    },
    {
      "cell_type": "markdown",
      "metadata": {
        "id": "pNNChyiQQnnk"
      },
      "source": [
        "XML 데이터 읽고 쓰기    \n",
        "XML (Extensible Markup Language)     \n",
        "인간과 기계가 모두 읽을 수 있는 형태로 문서를 인코딩하는 규칙의 집합을 정의하는 마크업 언어(Markup Language)   \n",
        "다양한 인간 언어들을 유니코드를 통해 강력하게 지원하는 텍스트 데이터 포맷    \n",
        "XML의 설계 목적 : 단순성, 범용성, 인터넷에서의 활용성    \n",
        "XML의 설계가 문서에 중점을 두고는 있지만, XML은 임의의 데이터 구조를 띠는 웹 서비스와 같은 용도의 재표현을 위한 용도로 광범위하게 사용되고 있음"
      ]
    },
    {
      "cell_type": "markdown",
      "metadata": {
        "id": "za4ZotNyZlmY"
      },
      "source": [
        "웹에서 XML 데이터를 읽어와서 pandas DataFrame으로생성   \n",
        "xml.etree.ElementTree 모듈 - XML 파싱하는데 필요"
      ]
    },
    {
      "cell_type": "code",
      "metadata": {
        "colab": {
          "base_uri": "https://localhost:8080/"
        },
        "id": "0s-Z26hGRWjN",
        "outputId": "00d5b4bc-3065-4927-e815-e20c5775aa52"
      },
      "source": [
        "import pandas as pd\n",
        "import xml.etree.ElementTree as ET\n",
        "import sys\n",
        "if sys.version_info[0] == 3:\n",
        "  from urllib.request import urlopen\n",
        "else:\n",
        "  from urllib import urlopen\n",
        "\n",
        "\n",
        "url = \"https://www.w3schools.com/xml/cd_catalog.xml\"\n",
        "response = urlopen(url).read()\n",
        "xtree = ET.fromstring(response)   #모듈명\n",
        "print(xtree)"
      ],
      "execution_count": 67,
      "outputs": [
        {
          "output_type": "stream",
          "text": [
            "<Element 'CATALOG' at 0x7f7c61a4ad70>\n"
          ],
          "name": "stdout"
        }
      ]
    },
    {
      "cell_type": "markdown",
      "metadata": {
        "id": "5NflMhXyacBO"
      },
      "source": [
        "https://www.w3schools.com/       \n",
        "자바, html, sql, pandas등등 공부할 수 있는 사이트    \n",
        "이 사이트에서 html 공부해놓기\n"
      ]
    },
    {
      "cell_type": "markdown",
      "metadata": {
        "id": "Cf2MoRX4a793"
      },
      "source": [
        "웹에서 XML 데이터를 읽어와서 pandas DataFrame으로 생성     \n",
        "for loop을 돌면서 나무의 노드들(nodes of tree)에서 필요한 정보를 찾아 파싱(find and parse\n",
        "XML data)하여 텍스트 데이터(text)로 변환하여 사전형(Dictionary)의 키, 값의 쌍으로 추가\n",
        "(append)    "
      ]
    },
    {
      "cell_type": "code",
      "metadata": {
        "colab": {
          "base_uri": "https://localhost:8080/"
        },
        "id": "9mFL181tbpWE",
        "outputId": "b028ed66-9c9a-4d7a-96bd-ff6419eabb4f"
      },
      "source": [
        "rows = []\n",
        "# iterate through each node of the tree\n",
        "for node in xtree:\n",
        "  n_title = node.find(\"TITLE\").text\n",
        "  n_artist = node.find(\"ARTIST\").text\n",
        "  n_country = node.find(\"COUNTRY\").text\n",
        "  n_company = node.find(\"COMPANY\").text\n",
        "  n_price = node.find(\"PRICE\").text\n",
        "  n_year = node.find(\"YEAR\").text\n",
        "  rows.append({\"title\": n_title, \"artist\": n_artist, \"country\": n_country, \"company\": n_company, \"price\": n_price, \"year\": n_year})\n",
        "print(rows)"
      ],
      "execution_count": 69,
      "outputs": [
        {
          "output_type": "stream",
          "text": [
            "[{'title': 'Empire Burlesque', 'artist': 'Bob Dylan', 'country': 'USA', 'company': 'Columbia', 'price': '10.90', 'year': '1985'}, {'title': 'Hide your heart', 'artist': 'Bonnie Tyler', 'country': 'UK', 'company': 'CBS Records', 'price': '9.90', 'year': '1988'}, {'title': 'Greatest Hits', 'artist': 'Dolly Parton', 'country': 'USA', 'company': 'RCA', 'price': '9.90', 'year': '1982'}, {'title': 'Still got the blues', 'artist': 'Gary Moore', 'country': 'UK', 'company': 'Virgin records', 'price': '10.20', 'year': '1990'}, {'title': 'Eros', 'artist': 'Eros Ramazzotti', 'country': 'EU', 'company': 'BMG', 'price': '9.90', 'year': '1997'}, {'title': 'One night only', 'artist': 'Bee Gees', 'country': 'UK', 'company': 'Polydor', 'price': '10.90', 'year': '1998'}, {'title': 'Sylvias Mother', 'artist': 'Dr.Hook', 'country': 'UK', 'company': 'CBS', 'price': '8.10', 'year': '1973'}, {'title': 'Maggie May', 'artist': 'Rod Stewart', 'country': 'UK', 'company': 'Pickwick', 'price': '8.50', 'year': '1990'}, {'title': 'Romanza', 'artist': 'Andrea Bocelli', 'country': 'EU', 'company': 'Polydor', 'price': '10.80', 'year': '1996'}, {'title': 'When a man loves a woman', 'artist': 'Percy Sledge', 'country': 'USA', 'company': 'Atlantic', 'price': '8.70', 'year': '1987'}, {'title': 'Black angel', 'artist': 'Savage Rose', 'country': 'EU', 'company': 'Mega', 'price': '10.90', 'year': '1995'}, {'title': '1999 Grammy Nominees', 'artist': 'Many', 'country': 'USA', 'company': 'Grammy', 'price': '10.20', 'year': '1999'}, {'title': 'For the good times', 'artist': 'Kenny Rogers', 'country': 'UK', 'company': 'Mucik Master', 'price': '8.70', 'year': '1995'}, {'title': 'Big Willie style', 'artist': 'Will Smith', 'country': 'USA', 'company': 'Columbia', 'price': '9.90', 'year': '1997'}, {'title': 'Tupelo Honey', 'artist': 'Van Morrison', 'country': 'UK', 'company': 'Polydor', 'price': '8.20', 'year': '1971'}, {'title': 'Soulsville', 'artist': 'Jorn Hoel', 'country': 'Norway', 'company': 'WEA', 'price': '7.90', 'year': '1996'}, {'title': 'The very best of', 'artist': 'Cat Stevens', 'country': 'UK', 'company': 'Island', 'price': '8.90', 'year': '1990'}, {'title': 'Stop', 'artist': 'Sam Brown', 'country': 'UK', 'company': 'A and M', 'price': '8.90', 'year': '1988'}, {'title': 'Bridge of Spies', 'artist': \"T'Pau\", 'country': 'UK', 'company': 'Siren', 'price': '7.90', 'year': '1987'}, {'title': 'Private Dancer', 'artist': 'Tina Turner', 'country': 'UK', 'company': 'Capitol', 'price': '8.90', 'year': '1983'}, {'title': 'Midt om natten', 'artist': 'Kim Larsen', 'country': 'EU', 'company': 'Medley', 'price': '7.80', 'year': '1983'}, {'title': 'Pavarotti Gala Concert', 'artist': 'Luciano Pavarotti', 'country': 'UK', 'company': 'DECCA', 'price': '9.90', 'year': '1991'}, {'title': 'The dock of the bay', 'artist': 'Otis Redding', 'country': 'USA', 'company': 'Stax Records', 'price': '7.90', 'year': '1968'}, {'title': 'Picture book', 'artist': 'Simply Red', 'country': 'EU', 'company': 'Elektra', 'price': '7.20', 'year': '1985'}, {'title': 'Red', 'artist': 'The Communards', 'country': 'UK', 'company': 'London', 'price': '7.80', 'year': '1987'}, {'title': 'Unchain my heart', 'artist': 'Joe Cocker', 'country': 'USA', 'company': 'EMI', 'price': '8.20', 'year': '1987'}]\n"
          ],
          "name": "stdout"
        }
      ]
    },
    {
      "cell_type": "markdown",
      "metadata": {
        "id": "L35z8OVTb0NP"
      },
      "source": [
        "웹에서 XML 데이터를 읽어와서 pandas DataFrame으로 생성"
      ]
    },
    {
      "cell_type": "code",
      "metadata": {
        "colab": {
          "base_uri": "https://localhost:8080/",
          "height": 528
        },
        "id": "ibW9d7DUb680",
        "outputId": "de84cac5-6759-48f7-e4ae-0368ee28d778"
      },
      "source": [
        "#XML text data를 dict로 저장된 list를 pandas DataFrame으로 변환\n",
        "columns = [\"title\", \"artist\", \"country\", \"company\", \"price\", \"year\"]\n",
        "catalog_cd_df = pd.DataFrame(rows, columns = columns)\n",
        "catalog_cd_df.head(10)\n",
        "\n",
        "#df.dtypes 로 각 칼럼의 데이터 형태를 확인 - 문자열 객체(string object)\n",
        "print(catalog_cd_df.dtypes)\n",
        "\n",
        "# astype()을 이용하여 칼럼 중에서 price는 float64, year는 int32로 변환\n",
        "import numpy as np\n",
        "catalog_cd_df = catalog_cd_df.astype({'price': np.float, 'year': int})\n",
        "print(catalog_cd_df.dtypes)\n",
        "\n",
        "country_mean = catalog_cd_df.groupby('country').price.mean()\n",
        "country_mean\n",
        "\n",
        "country_mean_df = pd.DataFrame(country_mean).reset_index()\n",
        "import seaborn as sns\n",
        "import matplotlib.pyplot as plt\n",
        "sns.barplot(x='country', y='price', data=country_mean_df)\n",
        "plt.show()"
      ],
      "execution_count": 72,
      "outputs": [
        {
          "output_type": "stream",
          "text": [
            "title      object\n",
            "artist     object\n",
            "country    object\n",
            "company    object\n",
            "price      object\n",
            "year       object\n",
            "dtype: object\n",
            "title       object\n",
            "artist      object\n",
            "country     object\n",
            "company     object\n",
            "price      float64\n",
            "year         int64\n",
            "dtype: object\n"
          ],
          "name": "stdout"
        },
        {
          "output_type": "display_data",
          "data": {
            "image/png": "[encoded data removed]",
            "text/plain": [
              "<Figure size 432x288 with 1 Axes>"
            ]
          },
          "metadata": {
            "tags": [],
            "needs_background": "light"
          }
        }
      ]
    },
    {
      "cell_type": "markdown",
      "metadata": {
        "id": "diPySJNcuCSX"
      },
      "source": [
        "Excel 데이터를 읽어와서 pandas DataFrame으로 생성   \n",
        "pandas의 read_excel() 함수   \n",
        "sheet_name = 데이터를 읽어올 쉬트이름   \n",
        "header = 컬럼이름 행번호 , names = 컬럼이름을 직접 입력   \n",
        "index_col=index로 사용할 열번호 또는 이름   \n",
        "dtype = 데이터 형 변환   \n",
        "thousands = ',' #천 단위 구분 기호   \n",
        "number of rows)=읽어올 행의 개수   "
      ]
    },
    {
      "cell_type": "code",
      "metadata": {
        "colab": {
          "base_uri": "https://localhost:8080/"
        },
        "id": "dli-sQU1u6V0",
        "outputId": "3b341dd0-0e1c-403f-813c-ae6f302fa988"
      },
      "source": [
        "import numpy as np\n",
        "import pandas as pd\n",
        "import os\n",
        "\n",
        "#base_dir = 'D:/admin/Documents'\n",
        "#excel_file = 'sales_per_region.xlsx'\n",
        "#excel_dir = os.path.join(base_dir, excel_file)   #파일이 여기 있는 경우 위치를 찾는 코드들은 생략 후 아래에 파일 이름 직접 적으면 된다\n",
        " \n",
        "\n",
        "df_from_excel = pd.read_excel('sales_per_region.xlsx', sheet_name = 'Sheet1', header = 2,  \n",
        "#names = ['region', 'sales_representative', 'sales_amount'],\n",
        "dtype = {'region': str, 'sales_representative': np.int64, 'sales_amount': float}, # dictionary type\n",
        "index_col = 'id', na_values = 'NaN', thousands = ',',nrows = 10, comment = '#')\n",
        "\n",
        "print(type(df_from_excel))\n",
        "print(df_from_excel.info())\n",
        "print(df_from_excel)\n"
      ],
      "execution_count": 77,
      "outputs": [
        {
          "output_type": "stream",
          "text": [
            "<class 'pandas.core.frame.DataFrame'>\n",
            "<class 'pandas.core.frame.DataFrame'>\n",
            "Int64Index: 7 entries, 1 to 7\n",
            "Data columns (total 3 columns):\n",
            " #   Column                Non-Null Count  Dtype  \n",
            "---  ------                --------------  -----  \n",
            " 0   region                7 non-null      object \n",
            " 1   sales_representative  7 non-null      int64  \n",
            " 2   sales_amount          7 non-null      float64\n",
            "dtypes: float64(1), int64(1), object(1)\n",
            "memory usage: 224.0+ bytes\n",
            "None\n",
            "     region  sales_representative  sales_amount\n",
            "id                                             \n",
            "1     seoul                   510        1500.0\n",
            "2    inchon                   430        1260.0\n",
            "3     busan                   320        1090.0\n",
            "4   guangju                   180         550.0\n",
            "5     ulsan                   135         380.0\n",
            "6    sejong                   110         290.0\n",
            "7    jeunju                    83         235.0\n"
          ],
          "name": "stdout"
        }
      ]
    },
    {
      "cell_type": "markdown",
      "metadata": {
        "id": "J2gisY1gu7AI"
      },
      "source": [
        "DataFrame 을 Excel로 내보내기    \n",
        "데이터프레임 값을 CSV 파일로 출력하고 싶으면 to_csv 메서드를 사용   \n",
        "리눅스나 맥에서는 cat 셸 명령으로 파일의 내용을 확인할 수 있다.     \n",
        "파일로 출력할 때도 sep 인수로 구분자를 바꿀 수 있다.   \n",
        "na_rep 인수로 NaN 표시값을 바꿀 수도 있다.   \n",
        "index, header 인수를 지정하여 인덱스 및 헤더 출력 여부를 지정하는 것도 가능하다."
      ]
    },
    {
      "cell_type": "code",
      "metadata": {
        "colab": {
          "base_uri": "https://localhost:8080/"
        },
        "id": "xxDaeoivz9tw",
        "outputId": "00b5e135-9888-4e84-8b6d-e6ae6d7d66a0"
      },
      "source": [
        "%%writefile sample1.csv\n",
        "c1, c2, c3, c4\n",
        "0.179181, -1.538472, 1.347553, 0.43381,\n",
        "1.024209, -1.281997, 0.49265,\n",
        "0.417899, -2.002308, 0.255245, -1.10515"
      ],
      "execution_count": 107,
      "outputs": [
        {
          "output_type": "stream",
          "text": [
            "Overwriting sample1.csv\n"
          ],
          "name": "stdout"
        }
      ]
    },
    {
      "cell_type": "code",
      "metadata": {
        "colab": {
          "base_uri": "https://localhost:8080/"
        },
        "id": "iQ9NtOwTvJpa",
        "outputId": "9f19bdef-facd-4fe0-b5b8-f55fa3f23212"
      },
      "source": [
        "import pandas as pd\n",
        "\n",
        "#  %% 원래 이게 매직 명령어인데  실행에 오류가 나면 한 개만 써도됨 캐글은 안됨\n",
        "\n",
        "\n",
        "%%writefile sample1.csv\n",
        "c1, c2, c3, c4\n",
        "0.179181, -1.538472, 1.347553, 0.43381,\n",
        "1.024209, -1.281997, 0.49265,\n",
        "0.417899, -2.002308, 0.255245, -1.10515\n",
        "\n",
        "\n",
        "df = pd.read_csv('sample1.csv', na_values=['누락'])\n",
        "df\n",
        "df.to_csv('sample3.csv', na_rep='누락')\n",
        "df.to_csv('sample4.csv', index=False, header=False)"
      ],
      "execution_count": 102,
      "outputs": [
        {
          "output_type": "stream",
          "text": [
            "Overwriting sample1.csv\n"
          ],
          "name": "stdout"
        }
      ]
    },
    {
      "cell_type": "code",
      "metadata": {
        "colab": {
          "base_uri": "https://localhost:8080/"
        },
        "id": "KB4uyrD30Jra",
        "outputId": "b9558988-c5c5-4bd4-efd4-9c7346f293e4"
      },
      "source": [
        "df = pd.read_csv('sample1.csv', na_values=['누락'])\n",
        "print(df)\n",
        "df.to_csv('sample3.csv', na_rep='누락')\n",
        "print('sample3.csv파일 생성됨')\n",
        "df.to_csv('sample4.csv', index=False, header=False)\n",
        "print('sample4.csv파일 생성됨')"
      ],
      "execution_count": 108,
      "outputs": [
        {
          "output_type": "stream",
          "text": [
            "                c1        c2       c3   c4\n",
            "0.179181 -1.538472  1.347553  0.43381  NaN\n",
            "1.024209 -1.281997  0.492650      NaN  NaN\n",
            "0.417899 -2.002308  0.255245 -1.10515  NaN\n",
            "sample3.csv파일 생성됨\n",
            "sample4.csv파일 생성됨\n"
          ],
          "name": "stdout"
        }
      ]
    },
    {
      "cell_type": "markdown",
      "metadata": {
        "id": "PISFZMPkxNCz"
      },
      "source": [
        "인터넷 상의 CSV 파일 로드\n",
        "read_csv 명령 사용시 URL을 지정하면 해당 파일을 다운로드하여 읽어 들인다."
      ]
    },
    {
      "cell_type": "code",
      "metadata": {
        "colab": {
          "base_uri": "https://localhost:8080/"
        },
        "id": "50-J9old2yba",
        "outputId": "4c4c2dce-7239-4659-802d-4b17d729f7ab"
      },
      "source": [
        "import pandas as pd\n",
        "\n",
        "df = pd.read_csv(\"https://raw.githubusercontent.com/datascienceschool/docker_rpython/master/data/titanic.csv\")\n",
        "pd.set_option(\"display.max_rows\", 20) # 앞뒤로 모두 20행만 보여준다.\n",
        "print( df )"
      ],
      "execution_count": 109,
      "outputs": [
        {
          "output_type": "stream",
          "text": [
            "     PassengerId  Survived  Pclass  ...     Fare Cabin  Embarked\n",
            "0              1         0       3  ...   7.2500   NaN         S\n",
            "1              2         1       1  ...  71.2833   C85         C\n",
            "2              3         1       3  ...   7.9250   NaN         S\n",
            "3              4         1       1  ...  53.1000  C123         S\n",
            "4              5         0       3  ...   8.0500   NaN         S\n",
            "..           ...       ...     ...  ...      ...   ...       ...\n",
            "886          887         0       2  ...  13.0000   NaN         S\n",
            "887          888         1       1  ...  30.0000   B42         S\n",
            "888          889         0       3  ...  23.4500   NaN         S\n",
            "889          890         1       1  ...  30.0000  C148         C\n",
            "890          891         0       3  ...   7.7500   NaN         Q\n",
            "\n",
            "[891 rows x 12 columns]\n"
          ],
          "name": "stdout"
        }
      ]
    },
    {
      "cell_type": "markdown",
      "metadata": {
        "id": "jaSFT5__3uid"
      },
      "source": [
        "Web Scraping   \n",
        "Ø웹 크롤링   \n",
        "웹 페이지의 하이퍼링크를 순회하면서 웹 페이지를 다운로드하는 작업    \n",
        "웹 사이트에서 원하는 정보를 자동으로 수집하는 것\n",
        "Ø웹 스크레이핑    \n",
        "다운로드한 웹 페이지에서 필요한 콘텐츠를 추출하는 작업    \n",
        "웹 페이지를 구성하고 있는 HTML 태그의 콘텐츠나 속성의 값을 읽는 작업    \n",
        "웹페이지를 읽어오는 과정    \n",
        "웹사이트에서 읽어온 HTML 문서에서 필요한 데이타를 뽑아내는 과정   \n",
        "Ø 웹페이지를 읽어오는 모듈     \n",
        "urllib, urllib2 – 내장 모듈    \n",
        "Requests - HTTP 라이브러리로 많이 사용되는 모듈\n",
        "\n",
        "\n",
        "\n",
        "   \n",
        "\n",
        "\n",
        "HTML - 웹에서 End User는 브라우저 프로그램을 통해서 서비스를 받습니다.   \n",
        " html파서(구조 담당) - 태그, 주석, 내용, 속성을 모두 객체로 생성해 메모리에 트리구조로 구성     \n",
        " renderer(표현 담당) - 태그명과 id속성, name속성, class속성을 기준으로 html 내용을 위치, 크기, 색깔 등을 적용 (style적용 -css)   \n",
        " javascript엔진(동적처리,이벤트, 동작 담당) - dom api 사용해서 hhtml요소를 찾아와 구조 변경, 서버에 전송, 이벤트 처리 결과, style 바꾸는 등등을 처리함      \n",
        "\n",
        "\n",
        "<!DOCTYPE html> <!--html문서 유형선언-->    \n",
        "<html>  <!--최상위 element(node)는 1개여야 합니다.-->    \n",
        "<head>     \n",
        "<title>Page Title</title>    \n",
        "<style>    \n",
        " p {color: blue ;}    \n",
        " #head1 {background: yellow; color: blue ; border: 5px solid red}    \n",
        "</style>    \n",
        "</head>    \n",
        "<body>    \n",
        "\n",
        "<h1 id = 'head1> This is Heading</h1>   \n",
        "<p>This is a paragraph.</p>\n",
        "\n",
        "</body>\n",
        "</html>\n",
        "\n"
      ]
    },
    {
      "cell_type": "markdown",
      "metadata": {
        "id": "RLaPt4oj8qby"
      },
      "source": [
        " Crawling을 위해 알아야 할 것들\n",
        "\n",
        " HTML    \n",
        " Document Object Model    \n",
        " Cascading Style Sheet    \n",
        " Xpath    \n",
        " Javascript    \n",
        " HTTP    "
      ]
    },
    {
      "cell_type": "code",
      "metadata": {
        "id": "CcHKMM9h8jZg"
      },
      "source": [
        "<!DOCTYPE html> <!--html문서 유형선언-->    \n",
        "<html>  <!--최상위 element(node)는 1개여야 합니다.-->    \n",
        "<head>     \n",
        "<title>Page Title</title>    \n",
        "<style>    \n",
        " p {color: blue ;}    \n",
        " #head1 {background: yellow; color: blue ; border: 5px solid red}    \n",
        "</style>    \n",
        "</head>    \n",
        "<body>    \n",
        "\n",
        "<h1 id = 'head1> This is Heading</h1>   \n",
        "<p>This is a paragraph.</p>\n",
        "\n",
        "</body>\n",
        "</html>"
      ],
      "execution_count": null,
      "outputs": []
    },
    {
      "cell_type": "markdown",
      "metadata": {
        "id": "b1ZH-W9V_KqZ"
      },
      "source": [
        "위 내용을 메모장에 옮겨 확장자를 html로 설정해 열면 위 내용으로 html이 실행됨    "
      ]
    },
    {
      "cell_type": "markdown",
      "metadata": {
        "id": "03gi_RwwGdnQ"
      },
      "source": [
        "Xpath란?    \n",
        "\n",
        "full path, absoulute path   \n",
        "/dir1/dhild-dir/.../파일명   \n",
        "c:\\dir1\\child-dir\\   \n",
        "\n",
        "상대 경로 - 현제 위치를 기준으로 ./sub-dir/sub-dir/.../파일명   \n",
        "                                 ../.../super-dir/...   \n",
        ".은 현재경로 ..상위 경로(부모)    "
      ]
    },
    {
      "cell_type": "markdown",
      "metadata": {
        "id": "4cZ8SlG2HgnQ"
      },
      "source": [
        "The XML Example Document    \n",
        "We will use the following XML document in the examples below."
      ]
    },
    {
      "cell_type": "code",
      "metadata": {
        "id": "ZIBmLTcUIAQr"
      },
      "source": [
        "<?xml version=\"1.0\" encoding=\"UTF-8\"?>\n",
        "\n",
        "<bookstore>\n",
        "\n",
        "<book>\n",
        "  <title lang=\"en\">Harry Potter</title>\n",
        "  <price>29.99</price>\n",
        "</book>\n",
        "\n",
        "<book>\n",
        "  <title lang=\"en\">Learning XML</title>\n",
        "  <price>39.95</price>\n",
        "</book>\n",
        "\n",
        "</bookstore>\n",
        "\n",
        "\n",
        "이 Xpath 실습은 자바스크립트로 해야 한다"
      ],
      "execution_count": null,
      "outputs": []
    },
    {
      "cell_type": "markdown",
      "metadata": {
        "id": "uGgNr6WoIvOd"
      },
      "source": [
        "Web Page   \n",
        "§ 웹 상의 문서   \n",
        "§ 텍스트, 그림, 소리, 동영상 등을 표현 가능   \n",
        "§ 대부분 HTML이라는 언어로 이루어져 있음   \n",
        "\n",
        "\n",
        "\n",
        "URL(Uniform Resource Locator)   \n",
        "§ 네트워크 상에서 자원이 어디 있는지를 알려주기 위한 규약   \n",
        "§ 컴퓨터 네트워크와 검색 메커니즘에서의 자원의 위치를 지정하는 문자열   \n",
        "\n",
        "\n",
        "\n",
        "URI(Uniform Resource Identity)   \n",
        "§ 웹 사이트에 요청하고자 하는 대상의 패스정보와 파일명으로 구성   \n",
        "§ 파일명이 생략되면 디폴트로 index.html 사용    \n",
        "\n",
        "\n",
        "HTTP(HyperText Transfer Protocol)    \n",
        "§ 웹상에서 클라이언트와 서버 간에 정보를 주고받을 수 있는 통신 규약(프로토콜)    \n",
        "§ URL 문자열을 직접 입력하거나, 하이퍼링크 텍스트 또는 이미지를 클릭하여 HTML 문서를 주고받는 데 사용     \n",
        "§ 디폴트로 80번 포트 사용    \n",
        "§ 다른 포트 번호를 사용하는 웹 서버에 요청 시 도메인명 뒤에 : 기호와 함께 포트 번호 지정     \n",
        "§ 시작줄, 헤더(Header), 본문(Body)으로 이루어져 있음     \n",
        "§ 9개의 메소드가 존재하지만 주로 GET과 POST만 쓰인다.    \n",
        "\n",
        "GET방식은? 웹 요청을 보낼 때 보낸 데이터가 url의 query string으로 노출이 됨, query string 길이 제한도 있음(데이터를 가져오는 것)    \n",
        "단순 페이지 요청, 검색어 요청, \\<a href=\"\">\\ 요청 같은 것들도 get방식으로 요청이 됨    \n",
        "\n",
        "\n",
        "POST방식은? 웹서버에 데이터를 전송하기 위해 설계됨   \n",
        "보내는 데이터는 민감한 정보, 길이 제한 없이 전송되어야 하므로   \n",
        "http프로토콜 body에 포함되어 전송됨 \n"
      ]
    },
    {
      "cell_type": "markdown",
      "metadata": {
        "id": "gaQMY-D3ORg1"
      },
      "source": [
        "Ø GET 방식과 POST 방식   \n",
        "§ 웹상에서 클라이언트와 서버 간에 정보를 주고받을 수 있는 통신 규약 (프로토콜)   \n",
        "§ URL 문자열을 직접 입력하거나, 하이퍼링크 텍스트 또는 이미지를 클릭하여 HTML 문서를 주고받는 데 사용   \n",
        "§ 디폴트로 80번 포트 사용   \n",
        "§ 다른 포트 번호를 사용하는 웹 서버에 요청 시 도메인명 뒤에 : 기호와 함께 포트 번호 지정   \n",
        "§ 시작줄, 헤더(Header), 본문(Body)으로 이루어져 있음   \n",
        "§ 9개의 메소드가 존재하지만 주로 GET과 POST만 쓰인다.    \n",
        "\n",
        "Ø GET 방식   \n",
        "§ 브라우저에서 직접 요청하려는 페이지의 URL 문자열을 입력하여 요청    \n",
        "§ 하이퍼링크가 설정된 텍스트나 이미지를 클릭하여 요청   \n",
        "§ Query 문자열 없는 요청과 Query 문자열을 추가한 요청 모두 가능     \n",
        "§ Query 문자열이 URL 문자열 뒤에 추가되어 전달   \n",
        "§ Body 없이 Header만으로 전송된다.   \n",
        "§ 요청에 길이 제한이 있다   \n",
        "§ 쿼리 문자열은 key와 value를 가지고 있으며, 각 쿼리는 &로 구분한다.    \n",
        "\n",
        "Ø POST 방식   \n",
        "§ Body에 query data가 들어간다.   \n",
        "§ 링크 / 북마크가 불가능하다   \n",
        "§ 데이터 길이에 제한이 없다   \n",
        "§ URL을 가지지 않으므로 주로 중요한 데이터를 다룰 때 사용한다.    \n",
        "§ Query 문자열이 요청 바디에 따로 담겨서 전달되므로 요청 URL 문자열에서는 볼 수 없음   "
      ]
    },
    {
      "cell_type": "markdown",
      "metadata": {
        "id": "H9ALYs4sOelt"
      },
      "source": [
        "Ø HTML(Hypertext markup language)    \n",
        "§ 웹페이지를 작성하는데 사용되는 마크업 언어   \n",
        "§ 태그로 HTML 요소(element)를 만든다    \n",
        "§ 요소 (Elements) : 시작 태그와 종료 태그로 이루어진 모든 명령어    \n",
        "§ 태그 (Tag) : 요소의 일부, 시작 태그(요소를 시작)와 종료 태그(요소를 끝냄)가 있음.    \n",
        "§ 속성 (Attributes) : 명령을 구체화 시키는 것으로 요소의 시작태그 안에서 사용됨.    \n",
        "§ 변수 (Arguments) : 속성과 관련된 값.    "
      ]
    },
    {
      "cell_type": "markdown",
      "metadata": {
        "id": "tWESY7WeOjZv"
      },
      "source": [
        "Ø urllib 모듈    \n",
        "§ Python built-in module    \n",
        "§ 간편하게 HTTP request를 보낼 수 있음    \n",
        "§ 로그인 및 세션을 유지하기가 번거로움    \n",
        "§ URL 작업을 위한 여러 모듈을 모은 패키지     \n",
        "§ urllib.request - URL(Uniform Resource Locator)을 가져오기 위한 파이썬 모듈   \n",
        "§ urllib.error - urllib.request에 의해 발생하는 예외에 대한 예외 클래스를 정의    \n",
        "URLError, HTTPError, ContentTooShortError    \n",
        "§ urllib.parse - URL 구문 분석을 위한 모듈    \n",
        "URL(Uniform Resource Locator) 문자열을 구성 요소(주소 지정 체계, 네트워크 위치, 경로 등)로 분리\n",
        "URL 구성 요소를 다시 URL 문자열로 결합    \n",
        "《상대 URL》을 주어진 《기본 URL》에 따라 절대 URL로 변환하는 표준 인터페이스를 정의     \n",
        "§ urllib.robotparser - robots.txt 파일을 구문 분석하기 위한 RobotFileParser 클래스 제공"
      ]
    },
    {
      "cell_type": "markdown",
      "metadata": {
        "id": "39lJGAFhRUJT"
      },
      "source": [
        "Ø urllib.request 모듈    \n",
        "§ URL(Uniform Resource Locator)을 가져오기 위한 파이썬 모듈   \n",
        "§ Urlopen() - 데이터를 파이썬 메모리로 로드    \n",
        "§ 기본 인증(basic authentication), 쿠키, 리다이렉트, 프락시 등과 같은 일반적인 상황을 처리하기 위한 약간 더 복잡한 인터페이스도 제공   \n",
        "§ urlretrieved(url, 저장할 파일 경로) – 파일 다운로드 함수"
      ]
    },
    {
      "cell_type": "code",
      "metadata": {
        "colab": {
          "base_uri": "https://localhost:8080/"
        },
        "id": "3vEB4tO2RXnt",
        "outputId": "ab788509-c348-4096-9051-6a8ade384bce"
      },
      "source": [
        "import urllib.request\n",
        "with urllib.request.urlopen('http://python.org/') as response:\n",
        "  html = response.read()\n",
        "\n",
        "print(html)\n",
        "\n",
        "# URL과 저장 경로 지정하기\n",
        "url = \"http://uta.pw/shodou/img/28/214.png\"\n",
        "savename = \"test.png\"\n",
        "# 다운로드\n",
        "urllib.request.urlretrieve(url, savename)   #urlretrieve 저장할 경로가 따로 없는 건 지금 작업중인 곳에 저장이 된다는 것\n",
        "print(\"저장되었습니다...!\")"
      ],
      "execution_count": 113,
      "outputs": [
        {
          "output_type": "stream",
          "text": [
            "b'<!doctype html>\\n<!--[if lt IE 7]>   <html class=\"no-js ie6 lt-ie7 lt-ie8 lt-ie9\">   <![endif]-->\\n<!--[if IE 7]>      <html class=\"no-js ie7 lt-ie8 lt-ie9\">          <![endif]-->\\n<!--[if IE 8]>      <html class=\"no-js ie8 lt-ie9\">                 <![endif]-->\\n<!--[if gt IE 8]><!--><html class=\"no-js\" lang=\"en\" dir=\"ltr\">  <!--<![endif]-->\\n\\n<head>\\n    <meta charset=\"utf-8\">\\n    <meta http-equiv=\"X-UA-Compatible\" content=\"IE=edge\">\\n\\n    <link rel=\"prefetch\" href=\"//ajax.googleapis.com/ajax/libs/jquery/1.8.2/jquery.min.js\">\\n    <link rel=\"prefetch\" href=\"//ajax.googleapis.com/ajax/libs/jqueryui/1.12.1/jquery-ui.min.js\">\\n\\n    <meta name=\"application-name\" content=\"Python.org\">\\n    <meta name=\"msapplication-tooltip\" content=\"The official home of the Python Programming Language\">\\n    <meta name=\"apple-mobile-web-app-title\" content=\"Python.org\">\\n    <meta name=\"apple-mobile-web-app-capable\" content=\"yes\">\\n    <meta name=\"apple-mobile-web-app-status-bar-style\" content=\"black\">\\n\\n    <meta name=\"viewport\" content=\"width=device-width, initial-scale=1.0\">\\n    <meta name=\"HandheldFriendly\" content=\"True\">\\n    <meta name=\"format-detection\" content=\"telephone=no\">\\n    <meta http-equiv=\"cleartype\" content=\"on\">\\n    <meta http-equiv=\"imagetoolbar\" content=\"false\">\\n\\n    <script src=\"/static/js/libs/modernizr.js\"></script>\\n\\n    <link href=\"/static/stylesheets/style.b50cef9e3bb9.css\" rel=\"stylesheet\" type=\"text/css\" title=\"default\" />\\n    <link href=\"/static/stylesheets/mq.eef77a5d2257.css\" rel=\"stylesheet\" type=\"text/css\" media=\"not print, braille, embossed, speech, tty\" />\\n    \\n\\n    <!--[if (lte IE 8)&(!IEMobile)]>\\n    <link href=\"/static/stylesheets/no-mq.e636abc55522.css\" rel=\"stylesheet\" type=\"text/css\" media=\"screen\" />\\n    \\n    \\n    <![endif]-->\\n    <link rel=\"stylesheet\" href=\"//ajax.googleapis.com/ajax/libs/jqueryui/1.12.1/themes/smoothness/jquery-ui.css\">\\n\\n    \\n    <link rel=\"icon\" type=\"image/x-icon\" href=\"/static/favicon.ico\">\\n    <link rel=\"apple-touch-icon-precomposed\" sizes=\"144x144\" href=\"/static/apple-touch-icon-144x144-precomposed.png\">\\n    <link rel=\"apple-touch-icon-precomposed\" sizes=\"114x114\" href=\"/static/apple-touch-icon-114x114-precomposed.png\">\\n    <link rel=\"apple-touch-icon-precomposed\" sizes=\"72x72\" href=\"/static/apple-touch-icon-72x72-precomposed.png\">\\n    <link rel=\"apple-touch-icon-precomposed\" href=\"/static/apple-touch-icon-precomposed.png\">\\n    <link rel=\"apple-touch-icon\" href=\"/static/apple-touch-icon-precomposed.png\">\\n\\n    \\n    <meta name=\"msapplication-TileImage\" content=\"/static/metro-icon-144x144-precomposed.png\"><!-- white shape -->\\n    <meta name=\"msapplication-TileColor\" content=\"#3673a5\"><!-- python blue -->\\n    <meta name=\"msapplication-navbutton-color\" content=\"#3673a5\">\\n\\n    <title>Welcome to Python.org</title>\\n\\n    <meta name=\"description\" content=\"The official home of the Python Programming Language\">\\n    <meta name=\"keywords\" content=\"Python programming language object oriented web free open source software license documentation download community\">\\n\\n    \\n    <meta property=\"og:type\" content=\"website\">\\n    <meta property=\"og:site_name\" content=\"Python.org\">\\n    <meta property=\"og:title\" content=\"Welcome to Python.org\">\\n    <meta property=\"og:description\" content=\"The official home of the Python Programming Language\">\\n    \\n    <meta property=\"og:image\" content=\"https://www.python.org/static/opengraph-icon-200x200.png\">\\n    <meta property=\"og:image:secure_url\" content=\"https://www.python.org/static/opengraph-icon-200x200.png\">\\n    \\n    <meta property=\"og:url\" content=\"https://www.python.org/\">\\n\\n    <link rel=\"author\" href=\"/static/humans.txt\">\\n\\n    <link rel=\"alternate\" type=\"application/rss+xml\" title=\"Python Enhancement Proposals\"\\n          href=\"https://www.python.org/dev/peps/peps.rss/\">\\n    <link rel=\"alternate\" type=\"application/rss+xml\" title=\"Python Job Opportunities\"\\n          href=\"https://www.python.org/jobs/feed/rss/\">\\n    <link rel=\"alternate\" type=\"application/rss+xml\" title=\"Python Software Foundation News\"\\n          href=\"https://feeds.feedburner.com/PythonSoftwareFoundationNews\">\\n    <link rel=\"alternate\" type=\"application/rss+xml\" title=\"Python Insider\"\\n          href=\"https://feeds.feedburner.com/PythonInsider\">\\n\\n    \\n\\n    \\n    <script type=\"application/ld+json\">\\n     {\\n       \"@context\": \"https://schema.org\",\\n       \"@type\": \"WebSite\",\\n       \"url\": \"https://www.python.org/\",\\n       \"potentialAction\": {\\n         \"@type\": \"SearchAction\",\\n         \"target\": \"https://www.python.org/search/?q={search_term_string}\",\\n         \"query-input\": \"required name=search_term_string\"\\n       }\\n     }\\n    </script>\\n\\n    \\n    <script type=\"text/javascript\">\\n    var _gaq = _gaq || [];\\n    _gaq.push([\\'_setAccount\\', \\'UA-39055973-1\\']);\\n    _gaq.push([\\'_trackPageview\\']);\\n\\n    (function() {\\n        var ga = document.createElement(\\'script\\'); ga.type = \\'text/javascript\\'; ga.async = true;\\n        ga.src = (\\'https:\\' == document.location.protocol ? \\'https://ssl\\' : \\'http://www\\') + \\'.google-analytics.com/ga.js\\';\\n        var s = document.getElementsByTagName(\\'script\\')[0]; s.parentNode.insertBefore(ga, s);\\n    })();\\n    </script>\\n    \\n</head>\\n\\n<body class=\"python home\" id=\"homepage\">\\n\\n    <div id=\"touchnav-wrapper\">\\n\\n        <div id=\"nojs\" class=\"do-not-print\">\\n            <p><strong>Notice:</strong> While Javascript is not essential for this website, your interaction with the content will be limited. Please turn Javascript on for the full experience. </p>\\n        </div>\\n\\n        <!--[if lte IE 8]>\\n        <div id=\"oldie-warning\" class=\"do-not-print\">\\n            <p>\\n                <strong>Notice:</strong> Your browser is <em>ancient</em>. Please\\n                <a href=\"http://browsehappy.com/\">upgrade to a different browser</a> to experience a better web.\\n            </p>\\n        </div>\\n        <![endif]-->\\n\\n        <!-- Sister Site Links -->\\n        <div id=\"top\" class=\"top-bar do-not-print\">\\n\\n            <nav class=\"meta-navigation container\" role=\"navigation\">\\n\\n                \\n                <div class=\"skip-link screen-reader-text\">\\n                    <a href=\"#content\" title=\"Skip to content\">Skip to content</a>\\n                </div>\\n\\n                \\n                <a id=\"close-python-network\" class=\"jump-link\" href=\"#python-network\" aria-hidden=\"true\">\\n                    <span aria-hidden=\"true\" class=\"icon-arrow-down\"><span>&#9660;</span></span> Close\\n                </a>\\n\\n                \\n\\n<ul class=\"menu\" role=\"tree\">\\n    \\n    <li class=\"python-meta current_item selectedcurrent_branch selected\">\\n        <a href=\"/\" title=\"The Python Programming Language\" class=\"current_item selectedcurrent_branch selected\">Python</a>\\n    </li>\\n    \\n    <li class=\"psf-meta \">\\n        <a href=\"/psf-landing/\" title=\"The Python Software Foundation\" >PSF</a>\\n    </li>\\n    \\n    <li class=\"docs-meta \">\\n        <a href=\"https://docs.python.org\" title=\"Python Documentation\" >Docs</a>\\n    </li>\\n    \\n    <li class=\"pypi-meta \">\\n        <a href=\"https://pypi.org/\" title=\"Python Package Index\" >PyPI</a>\\n    </li>\\n    \\n    <li class=\"jobs-meta \">\\n        <a href=\"/jobs/\" title=\"Python Job Board\" >Jobs</a>\\n    </li>\\n    \\n    <li class=\"shop-meta \">\\n        <a href=\"/community-landing/\"  >Community</a>\\n    </li>\\n    \\n</ul>\\n\\n\\n                <a id=\"python-network\" class=\"jump-link\" href=\"#top\" aria-hidden=\"true\">\\n                    <span aria-hidden=\"true\" class=\"icon-arrow-up\"><span>&#9650;</span></span> The Python Network\\n                </a>\\n\\n            </nav>\\n\\n        </div>\\n\\n        <!-- Header elements -->\\n        <header class=\"main-header\" role=\"banner\">\\n            <div class=\"container\">\\n\\n                <h1 class=\"site-headline\">\\n                    <a href=\"/\"><img class=\"python-logo\" src=\"/static/img/python-logo.png\" alt=\"python&trade;\"></a>\\n                </h1>\\n\\n                <div class=\"options-bar-container do-not-print\">\\n                    <a href=\"https://psfmember.org/civicrm/contribute/transact?reset=1&id=2\" class=\"donate-button\">Donate</a>\\n                    <div class=\"options-bar\">\\n                        \\n                        <a id=\"site-map-link\" class=\"jump-to-menu\" href=\"#site-map\"><span class=\"menu-icon\">&equiv;</span> Menu</a><form class=\"search-the-site\" action=\"/search/\" method=\"get\">\\n                            <fieldset title=\"Search Python.org\">\\n\\n                                <span aria-hidden=\"true\" class=\"icon-search\"></span>\\n\\n                                <label class=\"screen-reader-text\" for=\"id-search-field\">Search This Site</label>\\n                                <input id=\"id-search-field\" name=\"q\" type=\"search\" role=\"textbox\" class=\"search-field\" placeholder=\"Search\" value=\"\" tabindex=\"1\">\\n\\n                                <button type=\"submit\" name=\"submit\" id=\"submit\" class=\"search-button\" title=\"Submit this Search\" tabindex=\"3\">\\n                                    GO\\n                                </button>\\n\\n                                \\n                                <!--[if IE]><input type=\"text\" style=\"display: none;\" disabled=\"disabled\" size=\"1\" tabindex=\"4\"><![endif]-->\\n\\n                            </fieldset>\\n                        </form><span class=\"breaker\"></span><div class=\"adjust-font-size\" aria-hidden=\"true\">\\n                            <ul class=\"navigation menu\" aria-label=\"Adjust Text Size on Page\">\\n                                <li class=\"tier-1 last\" aria-haspopup=\"true\">\\n                                    <a href=\"#\" class=\"action-trigger\"><strong><small>A</small> A</strong></a>\\n                                    <ul class=\"subnav menu\">\\n                                        <li class=\"tier-2 element-1\" role=\"treeitem\"><a class=\"text-shrink\" title=\"Make Text Smaller\" href=\"javascript:;\">Smaller</a></li>\\n                                        <li class=\"tier-2 element-2\" role=\"treeitem\"><a class=\"text-grow\" title=\"Make Text Larger\" href=\"javascript:;\">Larger</a></li>\\n                                        <li class=\"tier-2 element-3\" role=\"treeitem\"><a class=\"text-reset\" title=\"Reset any font size changes I have made\" href=\"javascript:;\">Reset</a></li>\\n                                    </ul>\\n                                </li>\\n                            </ul>\\n                        </div><div class=\"winkwink-nudgenudge\">\\n                            <ul class=\"navigation menu\" aria-label=\"Social Media Navigation\">\\n                                <li class=\"tier-1 last\" aria-haspopup=\"true\">\\n                                    <a href=\"#\" class=\"action-trigger\">Socialize</a>\\n                                    <ul class=\"subnav menu\">\\n                                        <li class=\"tier-2 element-1\" role=\"treeitem\"><a href=\"https://www.facebook.com/pythonlang?fref=ts\"><span aria-hidden=\"true\" class=\"icon-facebook\"></span>Facebook</a></li>\\n                                        <li class=\"tier-2 element-2\" role=\"treeitem\"><a href=\"https://twitter.com/ThePSF\"><span aria-hidden=\"true\" class=\"icon-twitter\"></span>Twitter</a></li>\\n                                        <li class=\"tier-2 element-3\" role=\"treeitem\"><a href=\"/community/irc/\"><span aria-hidden=\"true\" class=\"icon-freenode\"></span>Chat on IRC</a></li>\\n                                    </ul>\\n                                </li>\\n                            </ul>\\n                        </div>\\n                        <span data-html-include=\"/authenticated\"></span>\\n                    </div><!-- end options-bar -->\\n                </div>\\n\\n                <nav id=\"mainnav\" class=\"python-navigation main-navigation do-not-print\" role=\"navigation\">\\n                    \\n                        \\n<ul class=\"navigation menu\" role=\"menubar\" aria-label=\"Main Navigation\">\\n  \\n    \\n    \\n    <li id=\"about\" class=\"tier-1 element-1  \" aria-haspopup=\"true\">\\n        <a href=\"/about/\" title=\"\" class=\"\">About</a>\\n        \\n            \\n\\n<ul class=\"subnav menu\" role=\"menu\" aria-hidden=\"true\">\\n    \\n        <li class=\"tier-2 element-1\" role=\"treeitem\"><a href=\"/about/apps/\" title=\"\">Applications</a></li>\\n    \\n        <li class=\"tier-2 element-2\" role=\"treeitem\"><a href=\"/about/quotes/\" title=\"\">Quotes</a></li>\\n    \\n        <li class=\"tier-2 element-3\" role=\"treeitem\"><a href=\"/about/gettingstarted/\" title=\"\">Getting Started</a></li>\\n    \\n        <li class=\"tier-2 element-4\" role=\"treeitem\"><a href=\"/about/help/\" title=\"\">Help</a></li>\\n    \\n        <li class=\"tier-2 element-5\" role=\"treeitem\"><a href=\"http://brochure.getpython.info/\" title=\"\">Python Brochure</a></li>\\n    \\n</ul>\\n\\n        \\n    </li>\\n    \\n    \\n    \\n    <li id=\"downloads\" class=\"tier-1 element-2  \" aria-haspopup=\"true\">\\n        <a href=\"/downloads/\" title=\"\" class=\"\">Downloads</a>\\n        \\n            \\n\\n<ul class=\"subnav menu\" role=\"menu\" aria-hidden=\"true\">\\n    \\n        <li class=\"tier-2 element-1\" role=\"treeitem\"><a href=\"/downloads/\" title=\"\">All releases</a></li>\\n    \\n        <li class=\"tier-2 element-2\" role=\"treeitem\"><a href=\"/downloads/source/\" title=\"\">Source code</a></li>\\n    \\n        <li class=\"tier-2 element-3\" role=\"treeitem\"><a href=\"/downloads/windows/\" title=\"\">Windows</a></li>\\n    \\n        <li class=\"tier-2 element-4\" role=\"treeitem\"><a href=\"/downloads/mac-osx/\" title=\"\">Mac OS X</a></li>\\n    \\n        <li class=\"tier-2 element-5\" role=\"treeitem\"><a href=\"/download/other/\" title=\"\">Other Platforms</a></li>\\n    \\n        <li class=\"tier-2 element-6\" role=\"treeitem\"><a href=\"https://docs.python.org/3/license.html\" title=\"\">License</a></li>\\n    \\n        <li class=\"tier-2 element-7\" role=\"treeitem\"><a href=\"/download/alternatives\" title=\"\">Alternative Implementations</a></li>\\n    \\n</ul>\\n\\n        \\n    </li>\\n    \\n    \\n    \\n    <li id=\"documentation\" class=\"tier-1 element-3  \" aria-haspopup=\"true\">\\n        <a href=\"/doc/\" title=\"\" class=\"\">Documentation</a>\\n        \\n            \\n\\n<ul class=\"subnav menu\" role=\"menu\" aria-hidden=\"true\">\\n    \\n        <li class=\"tier-2 element-1\" role=\"treeitem\"><a href=\"/doc/\" title=\"\">Docs</a></li>\\n    \\n        <li class=\"tier-2 element-2\" role=\"treeitem\"><a href=\"/doc/av\" title=\"\">Audio/Visual Talks</a></li>\\n    \\n        <li class=\"tier-2 element-3\" role=\"treeitem\"><a href=\"https://wiki.python.org/moin/BeginnersGuide\" title=\"\">Beginner&#39;s Guide</a></li>\\n    \\n        <li class=\"tier-2 element-4\" role=\"treeitem\"><a href=\"https://devguide.python.org/\" title=\"\">Developer&#39;s Guide</a></li>\\n    \\n        <li class=\"tier-2 element-5\" role=\"treeitem\"><a href=\"https://docs.python.org/faq/\" title=\"\">FAQ</a></li>\\n    \\n        <li class=\"tier-2 element-6\" role=\"treeitem\"><a href=\"http://wiki.python.org/moin/Languages\" title=\"\">Non-English Docs</a></li>\\n    \\n        <li class=\"tier-2 element-7\" role=\"treeitem\"><a href=\"http://python.org/dev/peps/\" title=\"\">PEP Index</a></li>\\n    \\n        <li class=\"tier-2 element-8\" role=\"treeitem\"><a href=\"https://wiki.python.org/moin/PythonBooks\" title=\"\">Python Books</a></li>\\n    \\n        <li class=\"tier-2 element-9\" role=\"treeitem\"><a href=\"/doc/essays/\" title=\"\">Python Essays</a></li>\\n    \\n</ul>\\n\\n        \\n    </li>\\n    \\n    \\n    \\n    <li id=\"community\" class=\"tier-1 element-4  \" aria-haspopup=\"true\">\\n        <a href=\"/community/\" title=\"\" class=\"\">Community</a>\\n        \\n            \\n\\n<ul class=\"subnav menu\" role=\"menu\" aria-hidden=\"true\">\\n    \\n        <li class=\"tier-2 element-1\" role=\"treeitem\"><a href=\"/community/survey\" title=\"\">Community Survey</a></li>\\n    \\n        <li class=\"tier-2 element-2\" role=\"treeitem\"><a href=\"/community/diversity/\" title=\"\">Diversity</a></li>\\n    \\n        <li class=\"tier-2 element-3\" role=\"treeitem\"><a href=\"/community/lists/\" title=\"\">Mailing Lists</a></li>\\n    \\n        <li class=\"tier-2 element-4\" role=\"treeitem\"><a href=\"/community/irc/\" title=\"\">IRC</a></li>\\n    \\n        <li class=\"tier-2 element-5\" role=\"treeitem\"><a href=\"/community/forums/\" title=\"\">Forums</a></li>\\n    \\n        <li class=\"tier-2 element-6\" role=\"treeitem\"><a href=\"/psf/annual-report/2020/\" title=\"\">PSF Annual Impact Report</a></li>\\n    \\n        <li class=\"tier-2 element-7\" role=\"treeitem\"><a href=\"/community/workshops/\" title=\"\">Python Conferences</a></li>\\n    \\n        <li class=\"tier-2 element-8\" role=\"treeitem\"><a href=\"/community/sigs/\" title=\"\">Special Interest Groups</a></li>\\n    \\n        <li class=\"tier-2 element-9\" role=\"treeitem\"><a href=\"/community/logos/\" title=\"\">Python Logo</a></li>\\n    \\n        <li class=\"tier-2 element-10\" role=\"treeitem\"><a href=\"https://wiki.python.org/moin/\" title=\"\">Python Wiki</a></li>\\n    \\n        <li class=\"tier-2 element-11\" role=\"treeitem\"><a href=\"/community/merchandise/\" title=\"\">Merchandise</a></li>\\n    \\n        <li class=\"tier-2 element-12\" role=\"treeitem\"><a href=\"/community/awards\" title=\"\">Community Awards</a></li>\\n    \\n        <li class=\"tier-2 element-13\" role=\"treeitem\"><a href=\"/psf/conduct/\" title=\"\">Code of Conduct</a></li>\\n    \\n        <li class=\"tier-2 element-14\" role=\"treeitem\"><a href=\"/psf/get-involved/\" title=\"\">Get Involved</a></li>\\n    \\n        <li class=\"tier-2 element-15\" role=\"treeitem\"><a href=\"/psf/community-stories/\" title=\"\">Shared Stories</a></li>\\n    \\n</ul>\\n\\n        \\n    </li>\\n    \\n    \\n    \\n    <li id=\"success-stories\" class=\"tier-1 element-5  \" aria-haspopup=\"true\">\\n        <a href=\"/success-stories/\" title=\"success-stories\" class=\"\">Success Stories</a>\\n        \\n            \\n\\n<ul class=\"subnav menu\" role=\"menu\" aria-hidden=\"true\">\\n    \\n        <li class=\"tier-2 element-1\" role=\"treeitem\"><a href=\"/success-stories/category/arts/\" title=\"\">Arts</a></li>\\n    \\n        <li class=\"tier-2 element-2\" role=\"treeitem\"><a href=\"/success-stories/category/business/\" title=\"\">Business</a></li>\\n    \\n        <li class=\"tier-2 element-3\" role=\"treeitem\"><a href=\"/success-stories/category/education/\" title=\"\">Education</a></li>\\n    \\n        <li class=\"tier-2 element-4\" role=\"treeitem\"><a href=\"/success-stories/category/engineering/\" title=\"\">Engineering</a></li>\\n    \\n        <li class=\"tier-2 element-5\" role=\"treeitem\"><a href=\"/success-stories/category/government/\" title=\"\">Government</a></li>\\n    \\n        <li class=\"tier-2 element-6\" role=\"treeitem\"><a href=\"/success-stories/category/scientific/\" title=\"\">Scientific</a></li>\\n    \\n        <li class=\"tier-2 element-7\" role=\"treeitem\"><a href=\"/success-stories/category/software-development/\" title=\"\">Software Development</a></li>\\n    \\n</ul>\\n\\n        \\n    </li>\\n    \\n    \\n    \\n    <li id=\"news\" class=\"tier-1 element-6  \" aria-haspopup=\"true\">\\n        <a href=\"/blogs/\" title=\"News from around the Python world\" class=\"\">News</a>\\n        \\n            \\n\\n<ul class=\"subnav menu\" role=\"menu\" aria-hidden=\"true\">\\n    \\n        <li class=\"tier-2 element-1\" role=\"treeitem\"><a href=\"/blogs/\" title=\"Python Insider Blog Posts\">Python News</a></li>\\n    \\n        <li class=\"tier-2 element-2\" role=\"treeitem\"><a href=\"/psf/newsletter/\" title=\"Python Software Foundation Newsletter\">PSF Newsletter</a></li>\\n    \\n        <li class=\"tier-2 element-3\" role=\"treeitem\"><a href=\"http://planetpython.org/\" title=\"Planet Python\">Community News</a></li>\\n    \\n        <li class=\"tier-2 element-4\" role=\"treeitem\"><a href=\"http://pyfound.blogspot.com/\" title=\"PSF Blog\">PSF News</a></li>\\n    \\n        <li class=\"tier-2 element-5\" role=\"treeitem\"><a href=\"http://pycon.blogspot.com/\" title=\"PyCon Blog\">PyCon News</a></li>\\n    \\n</ul>\\n\\n        \\n    </li>\\n    \\n    \\n    \\n    <li id=\"events\" class=\"tier-1 element-7  \" aria-haspopup=\"true\">\\n        <a href=\"/events/\" title=\"\" class=\"\">Events</a>\\n        \\n            \\n\\n<ul class=\"subnav menu\" role=\"menu\" aria-hidden=\"true\">\\n    \\n        <li class=\"tier-2 element-1\" role=\"treeitem\"><a href=\"/events/python-events\" title=\"\">Python Events</a></li>\\n    \\n        <li class=\"tier-2 element-2\" role=\"treeitem\"><a href=\"/events/python-user-group/\" title=\"\">User Group Events</a></li>\\n    \\n        <li class=\"tier-2 element-3\" role=\"treeitem\"><a href=\"/events/python-events/past/\" title=\"\">Python Events Archive</a></li>\\n    \\n        <li class=\"tier-2 element-4\" role=\"treeitem\"><a href=\"/events/python-user-group/past/\" title=\"\">User Group Events Archive</a></li>\\n    \\n        <li class=\"tier-2 element-5\" role=\"treeitem\"><a href=\"https://wiki.python.org/moin/PythonEventsCalendar#Submitting_an_Event\" title=\"\">Submit an Event</a></li>\\n    \\n</ul>\\n\\n        \\n    </li>\\n    \\n    \\n    \\n    \\n  \\n</ul>\\n\\n                    \\n                </nav>\\n\\n                <div class=\"header-banner \"> <!-- for optional \"do-not-print\" class -->\\n                    \\n        <div id=\"dive-into-python\" class=\"flex-slideshow slideshow\">\\n\\n            <ul class=\"launch-shell menu\" id=\"launch-shell\">\\n                <li>\\n                    <a class=\"button prompt\" id=\"start-shell\" data-shell-container=\"#dive-into-python\" href=\"/shell/\">&gt;_\\n                        <span class=\"message\">Launch Interactive Shell</span>\\n                    </a>\\n                </li>\\n            </ul>\\n\\n            <ul class=\"slides menu\">\\n                \\n                <li>\\n                    <div class=\"slide-code\"><pre><code><span class=\"comment\"># Python 3: Fibonacci series up to n</span>\\r\\n>>> def fib(n):\\r\\n>>>     a, b = 0, 1\\r\\n>>>     while a &lt; n:\\r\\n>>>         print(a, end=\\' \\')\\r\\n>>>         a, b = b, a+b\\r\\n>>>     print()\\r\\n>>> fib(1000)\\r\\n<span class=\"output\">0 1 1 2 3 5 8 13 21 34 55 89 144 233 377 610 987</span></code></pre></div>\\n                    <div class=\"slide-copy\"><h1>Functions Defined</h1>\\r\\n<p>The core of extensible programming is defining functions. Python allows mandatory and optional arguments, keyword arguments, and even arbitrary argument lists. <a href=\"//docs.python.org/3/tutorial/controlflow.html#defining-functions\">More about defining functions in Python&nbsp;3</a></p></div>\\n                </li>\\n                \\n                <li>\\n                    <div class=\"slide-code\"><pre><code><span class=\"comment\"># Python 3: List comprehensions</span>\\r\\n>>> fruits = [\\'Banana\\', \\'Apple\\', \\'Lime\\']\\r\\n>>> loud_fruits = [fruit.upper() for fruit in fruits]\\r\\n>>> print(loud_fruits)\\r\\n<span class=\"output\">[\\'BANANA\\', \\'APPLE\\', \\'LIME\\']</span>\\r\\n\\r\\n<span class=\"comment\"># List and the enumerate function</span>\\r\\n>>> list(enumerate(fruits))\\r\\n<span class=\"output\">[(0, \\'Banana\\'), (1, \\'Apple\\'), (2, \\'Lime\\')]</span></code></pre></div>\\n                    <div class=\"slide-copy\"><h1>Compound Data Types</h1>\\r\\n<p>Lists (known as arrays in other languages) are one of the compound data types that Python understands. Lists can be indexed, sliced and manipulated with other built-in functions. <a href=\"//docs.python.org/3/tutorial/introduction.html#lists\">More about lists in Python&nbsp;3</a></p></div>\\n                </li>\\n                \\n                <li>\\n                    <div class=\"slide-code\"><pre><code><span class=\"comment\"># Python 3: Simple arithmetic</span>\\r\\n>>> 1 / 2\\r\\n<span class=\"output\">0.5</span>\\r\\n>>> 2 ** 3\\r\\n<span class=\"output\">8</span>\\r\\n>>> 17 / 3  <span class=\"comment\"># classic division returns a float</span>\\r\\n<span class=\"output\">5.666666666666667</span>\\r\\n>>> 17 // 3  <span class=\"comment\"># floor division</span>\\r\\n<span class=\"output\">5</span></code></pre></div>\\n                    <div class=\"slide-copy\"><h1>Intuitive Interpretation</h1>\\r\\n<p>Calculations are simple with Python, and expression syntax is straightforward: the operators <code>+</code>, <code>-</code>, <code>*</code> and <code>/</code> work as expected; parentheses <code>()</code> can be used for grouping. <a href=\"http://docs.python.org/3/tutorial/introduction.html#using-python-as-a-calculator\">More about simple math functions in Python&nbsp;3</a>.</p></div>\\n                </li>\\n                \\n                <li>\\n                    <div class=\"slide-code\"><pre><code><span class=\"comment\"># Python 3: Simple output (with Unicode)</span>\\r\\n>>> print(\"Hello, I\\'m Python!\")\\r\\n<span class=\"output\">Hello, I\\'m Python!</span>\\r\\n\\r\\n<span class=\"comment\"># Input, assignment</span>\\r\\n>>> name = input(\\'What is your name?\\\\n\\')\\r\\n>>> print(\\'Hi, %s.\\' % name)\\r\\n<span class=\"output\">What is your name?\\r\\nPython\\r\\nHi, Python.</span></code></pre></div>\\n                    <div class=\"slide-copy\"><h1>Quick &amp; Easy to Learn</h1>\\r\\n<p>Experienced programmers in any other language can pick up Python very quickly, and beginners find the clean syntax and indentation structure easy to learn. <a href=\"//docs.python.org/3/tutorial/\">Whet your appetite</a> with our Python&nbsp;3 overview.</p>\\r\\n                   </div>\\n                </li>\\n                \\n                <li>\\n                    <div class=\"slide-code\"><pre><code><span class=\"comment\"># For loop on a list</span>\\r\\n>>> numbers = [2, 4, 6, 8]\\r\\n>>> product = 1\\r\\n>>> for number in numbers:\\r\\n...    product = product * number\\r\\n... \\r\\n>>> print(\\'The product is:\\', product)\\r\\n<span class=\"output\">The product is: 384</span></code></pre></div>\\n                    <div class=\"slide-copy\"><h1>All the Flow You&rsquo;d Expect</h1>\\r\\n<p>Python knows the usual control flow statements that other languages speak &mdash; <code>if</code>, <code>for</code>, <code>while</code> and <code>range</code> &mdash; with some of its own twists, of course. <a href=\"//docs.python.org/3/tutorial/controlflow.html\">More control flow tools in Python&nbsp;3</a></p></div>\\n                </li>\\n                \\n            </ul>\\n        </div>\\n\\n\\n                </div>\\n\\n                \\n        <div class=\"introduction\">\\n            <p>Python is a programming language that lets you work quickly <span class=\"breaker\"></span>and integrate systems more effectively. <a class=\"readmore\" href=\"/doc/\">Learn More</a></p>\\n        </div>\\n\\n\\n             </div><!-- end .container -->\\n        </header>\\n\\n        <div id=\"content\" class=\"content-wrapper\">\\n            <!-- Main Content Column -->\\n            <div class=\"container\">\\n\\n                <section class=\"main-content \" role=\"main\">\\n\\n                    \\n                    \\n\\n                    \\n\\n                    \\n\\n                <div class=\"notification-bar notification-bar--survey\" style=\"background-color: #ffdf76; color: #664e04; border-color: #004d7a; text-align: center; background-color: #004d7a; color: #fff; padding: 10px; margin: .5em; position: relative; width: 95%; background-color: #ffdf76; color: #664e04; border-color: #004d7a; border-radius: 1em;\">\\n  <span class=\"notification-bar__icon\">\\n    <i class=\"fa fa-chart-line\" aria-hidden=\"true\"></i>\\n  </span>\\n  <span class=\"notification-bar__message\">PSF March Membership Drive - renew today \\xe2\\x9c\\x8f\\xef\\xb8\\x8f  ! &nbsp;&nbsp;<a class=\"button button--dark button--small button--primary\" style=\"color: #606060; border-color: #006dad; background-color: #006dad;\" href=\"https://www.python.org/psf/membership/\"  target=\"_blank\" rel=\"noopener\">PSF March 2021 Membership Drive</a>\\n   </span>\\n</div>\\n\\n\\n                <div class=\"row\">\\n\\n                    <div class=\"small-widget get-started-widget\">\\n                        <h2 class=\"widget-title\"><span aria-hidden=\"true\" class=\"icon-get-started\"></span>Get Started</h2>\\r\\n<p>Whether you\\'re new to programming or an experienced developer, it\\'s easy to learn and use Python.</p>\\r\\n<p><a href=\"/about/gettingstarted/\">Start with our Beginner&rsquo;s Guide</a></p>\\n                    </div>\\n\\n                    <div class=\"small-widget download-widget\">\\n                        <h2 class=\"widget-title\"><span aria-hidden=\"true\" class=\"icon-download\"></span>Download</h2>\\n<p>Python source code and installers are available for download for all versions!</p>\\n<p>Latest: <a href=\"/downloads/release/python-392/\">Python 3.9.2</a></p>\\n                    </div>\\n\\n                    <div class=\"small-widget documentation-widget\">\\n                        <h2 class=\"widget-title\"><span aria-hidden=\"true\" class=\"icon-documentation\"></span>Docs</h2>\\r\\n<p>Documentation for Python\\'s standard library, along with tutorials and guides, are available online.</p>\\r\\n<p><a href=\"https://docs.python.org\">docs.python.org</a></p>\\n                    </div>\\n\\n                    <div class=\"small-widget jobs-widget last\">\\n                        <h2 class=\"widget-title\"><span aria-hidden=\"true\" class=\"icon-jobs\"></span>Jobs</h2>\\r\\n<p>Looking for work or have a Python related position that you\\'re trying to hire for? Our <strong>relaunched community-run job board</strong> is the place to go.</p>\\r\\n<p><a href=\"//jobs.python.org\">jobs.python.org</a></p>\\n                    </div>\\n\\n                </div>\\n\\n                <div class=\"list-widgets row\">\\n\\n                    <div class=\"medium-widget blog-widget\">\\n                        \\n                        <div class=\"shrubbery\">\\n                        \\n                            <h2 class=\"widget-title\"><span aria-hidden=\"true\" class=\"icon-news\"></span>Latest News</h2>\\n                            <p class=\"give-me-more\"><a href=\"https://blog.python.org\" title=\"More News\">More</a></p>\\n                            \\n                            <ul class=\"menu\">\\n                                \\n                                \\n                                <li>\\n<time datetime=\"2021-03-01T20:08:00+00:00\"><span class=\"say-no-more\">2021-</span>03-01</time>\\n <a href=\"http://feedproxy.google.com/~r/PythonInsider/~3/xnrM30ttX6M/python-3100a6-is-now-available-for.html\">Python 3.10.0a6 is now available for testing</a></li>\\n                                \\n                                <li>\\n<time datetime=\"2021-03-01T16:15:00+00:00\"><span class=\"say-no-more\">2021-</span>03-01</time>\\n <a href=\"http://feedproxy.google.com/~r/PythonSoftwareFoundationNews/~3/Q1I6vSv_mh8/happy-anniversary-to-python-and-python.html\">Happy Anniversary to Python and the Python Software Foundation!</a></li>\\n                                \\n                                <li>\\n<time datetime=\"2021-02-26T16:30:00.000004+00:00\"><span class=\"say-no-more\">2021-</span>02-26</time>\\n <a href=\"http://feedproxy.google.com/~r/PythonSoftwareFoundationNews/~3/HxJ0eRomZwI/python-software-foundation-fellow.html\">Python Software Foundation Fellow Members for Q4 2020</a></li>\\n                                \\n                                <li>\\n<time datetime=\"2021-02-23T17:00:00.000001+00:00\"><span class=\"say-no-more\">2021-</span>02-23</time>\\n <a href=\"http://feedproxy.google.com/~r/PythonSoftwareFoundationNews/~3/v6DGTOxHRDQ/python-developers-survey-2020-results.html\">Python Developers Survey 2020 Results: Learn about the Community</a></li>\\n                                \\n                                <li>\\n<time datetime=\"2021-02-19T16:26:00.000004+00:00\"><span class=\"say-no-more\">2021-</span>02-19</time>\\n <a href=\"http://feedproxy.google.com/~r/PythonInsider/~3/neAiV_Bq2Ck/python-392-and-388-are-now-available.html\">Python 3.9.2 and 3.8.8 are now available</a></li>\\n                                \\n                            </ul>\\n                        </div><!-- end .shrubbery -->\\n\\n                    </div>\\n\\n                    <div class=\"medium-widget event-widget last\">\\n                        \\n                        <div class=\"shrubbery\">\\n                        \\n                            <h2 class=\"widget-title\"><span aria-hidden=\"true\" class=\"icon-calendar\"></span>Upcoming Events</h2>\\n                            <p class=\"give-me-more\"><a href=\"/events/calendars/\" title=\"More Events\">More</a></p>\\n                            \\n                            <ul class=\"menu\">\\n                                \\n                                \\n                                \\n                                <li>\\n<time datetime=\"2021-03-25T17:30:00+00:00\"><span class=\"say-no-more\">2021-</span>03-25</time>\\n <a href=\"/events/python-user-group/1047/\">An introduction to delivering technical presentations with confidence - PyLadies Amsterdam</a></li>\\n                                \\n                                \\n                                \\n                                <li>\\n<time datetime=\"2021-04-08T00:00:00+00:00\"><span class=\"say-no-more\">2021-</span>04-08</time>\\n <a href=\"/events/python-events/1046/\">Python for ML and AI Global Summit&#39;21</a></li>\\n                                \\n                                \\n                                \\n                                <li>\\n<time datetime=\"2021-04-22T00:00:00+00:00\"><span class=\"say-no-more\">2021-</span>04-22</time>\\n <a href=\"/events/python-events/1002/\"> GeoPython 2021</a></li>\\n                                \\n                                \\n                                \\n                                <li>\\n<time datetime=\"2021-05-12T00:00:00+00:00\"><span class=\"say-no-more\">2021-</span>05-12</time>\\n <a href=\"/events/python-events/893/\">PyCon US 2021</a></li>\\n                                \\n                                \\n                                \\n                                <li>\\n<time datetime=\"2021-06-02T00:00:00+00:00\"><span class=\"say-no-more\">2021-</span>06-02</time>\\n <a href=\"/events/python-events/1048/\"> DjangoCon Europe 2021</a></li>\\n                                \\n                                \\n                            </ul>\\n                        </div>\\n\\n                    </div>\\n\\n                </div>\\n\\n                <div class=\"row\">\\n\\n                    <div class=\"medium-widget success-stories-widget\">\\n                        \\n\\n\\n\\n                        <div class=\"shrubbery\">\\n                            \\n\\n                            <h2 class=\"widget-title\"><span aria-hidden=\"true\" class=\"icon-success-stories\"></span>Success Stories</h2>\\n                            <p class=\"give-me-more\"><a href=\"/success-stories/\" title=\"More Success Stories\">More</a></p>\\n\\n                            \\n                            <div class=\"success-story-item\" id=\"success-story-932\">\\n\\n                            <blockquote>\\n                                <a href=\"/success-stories/abridging-clinical-conversations-using-python/\">Python powers major aspects of Abridge\\xe2\\x80\\x99s ML lifecycle, including data annotation,  research and experimentation, and ML model deployment to production.</a>\\n                            </blockquote>\\n\\n                            <table cellpadding=\"0\" cellspacing=\"0\" border=\"0\" width=\"100%\" class=\"quote-from\">\\n                                <tbody>\\n                                    <tr>\\n                                        \\n                                        <td><p><a href=\"/success-stories/abridging-clinical-conversations-using-python/\">Abridging clinical conversations using Python</a> <em>by Nimshi Venkat and Sandeep Konam</em></p></td>\\n                                    </tr>\\n                                </tbody>\\n                            </table>\\n                            </div>\\n                            \\n\\n                        </div><!-- end .shrubbery -->\\n\\n                    </div>\\n\\n                    <div class=\"medium-widget applications-widget last\">\\n                        <div class=\"shrubbery\">\\n                            <h2 class=\"widget-title\"><span aria-hidden=\"true\" class=\"icon-python\"></span>Use Python for&hellip;</h2>\\r\\n<p class=\"give-me-more\"><a href=\"/about/apps\" title=\"More Applications\">More</a></p>\\r\\n\\r\\n<ul class=\"menu\">\\r\\n    <li><b>Web Development</b>:\\r\\n        <span class=\"tag-wrapper\"><a class=\"tag\" href=\"http://www.djangoproject.com/\">Django</a>, <a class=\"tag\" href=\"http://www.pylonsproject.org/\">Pyramid</a>, <a class=\"tag\" href=\"http://bottlepy.org\">Bottle</a>, <a class=\"tag\" href=\"http://tornadoweb.org\">Tornado</a>, <a href=\"http://flask.pocoo.org/\" class=\"tag\">Flask</a>, <a class=\"tag\" href=\"http://www.web2py.com/\">web2py</a></span></li>\\r\\n    <li><b>GUI Development</b>:\\r\\n        <span class=\"tag-wrapper\"><a class=\"tag\" href=\"http://wiki.python.org/moin/TkInter\">tkInter</a>, <a class=\"tag\" href=\"https://wiki.gnome.org/Projects/PyGObject\">PyGObject</a>, <a class=\"tag\" href=\"http://www.riverbankcomputing.co.uk/software/pyqt/intro\">PyQt</a>, <a class=\"tag\" href=\"https://wiki.qt.io/PySide\">PySide</a>, <a class=\"tag\" href=\"https://kivy.org/\">Kivy</a>, <a class=\"tag\" href=\"http://www.wxpython.org/\">wxPython</a></span></li>\\r\\n    <li><b>Scientific and Numeric</b>:\\r\\n        <span class=\"tag-wrapper\">\\r\\n<a class=\"tag\" href=\"http://www.scipy.org\">SciPy</a>, <a class=\"tag\" href=\"http://pandas.pydata.org/\">Pandas</a>, <a href=\"http://ipython.org\" class=\"tag\">IPython</a></span></li>\\r\\n    <li><b>Software Development</b>:\\r\\n        <span class=\"tag-wrapper\"><a class=\"tag\" href=\"http://buildbot.net/\">Buildbot</a>, <a class=\"tag\" href=\"http://trac.edgewall.org/\">Trac</a>, <a class=\"tag\" href=\"http://roundup.sourceforge.net/\">Roundup</a></span></li>\\r\\n    <li><b>System Administration</b>:\\r\\n        <span class=\"tag-wrapper\"><a class=\"tag\" href=\"http://www.ansible.com\">Ansible</a>, <a class=\"tag\" href=\"http://www.saltstack.com\">Salt</a>, <a class=\"tag\" href=\"https://www.openstack.org\">OpenStack</a></span></li>\\r\\n</ul>\\r\\n\\n                        </div><!-- end .shrubbery -->\\n                    </div>\\n\\n                </div>\\n\\n                \\n                <div class=\"pep-widget\">\\n\\n                    <h2 class=\"widget-title\">\\n                        <span class=\"prompt\">&gt;&gt;&gt;</span> <a href=\"/dev/peps/\">Python Enhancement Proposals<span class=\"say-no-more\"> (PEPs)</span></a>: The future of Python<span class=\"say-no-more\"> is discussed here.</span>\\n                        <a aria-hidden=\"true\" class=\"rss-link\" href=\"/dev/peps/peps.rss\"><span class=\"icon-feed\"></span> RSS</a>\\n                    </h2>\\n\\n\\n                    \\n                    \\n                </div>\\n\\n                                <div class=\"psf-widget\">\\n\\n                    <div class=\"python-logo\"></div>\\n                    \\n                    <h2 class=\"widget-title\">\\r\\n    <span class=\"prompt\">&gt;&gt;&gt;</span> <a href=\"/psf/\">Python Software Foundation</a>\\r\\n</h2>\\r\\n<p>The mission of the Python Software Foundation is to promote, protect, and advance the Python programming language, and to support and facilitate the growth of a diverse and international community of Python programmers. <a class=\"readmore\" href=\"/psf/\">Learn more</a> </p>\\r\\n<p class=\"click-these\">\\r\\n    <a class=\"button\" href=\"/users/membership/\">Become a Member</a>\\r\\n    <a class=\"button\" href=\"/psf/donations/\">Donate to the PSF</a>\\r\\n</p>\\n                </div>\\n\\n\\n\\n\\n                </section>\\n\\n                \\n                \\n\\n                \\n                \\n\\n\\n            </div><!-- end .container -->\\n        </div><!-- end #content .content-wrapper -->\\n\\n        <!-- Footer and social media list -->\\n        <footer id=\"site-map\" class=\"main-footer\" role=\"contentinfo\">\\n            <div class=\"main-footer-links\">\\n                <div class=\"container\">\\n\\n                    \\n                    <a id=\"back-to-top-1\" class=\"jump-link\" href=\"#python-network\"><span aria-hidden=\"true\" class=\"icon-arrow-up\"><span>&#9650;</span></span> Back to Top</a>\\n\\n                    \\n\\n<ul class=\"sitemap navigation menu do-not-print\" role=\"tree\" id=\"container\">\\n    \\n    <li class=\"tier-1 element-1\">\\n        <a href=\"/about/\" >About</a>\\n        \\n            \\n\\n<ul class=\"subnav menu\">\\n    \\n        <li class=\"tier-2 element-1\" role=\"treeitem\"><a href=\"/about/apps/\" title=\"\">Applications</a></li>\\n    \\n        <li class=\"tier-2 element-2\" role=\"treeitem\"><a href=\"/about/quotes/\" title=\"\">Quotes</a></li>\\n    \\n        <li class=\"tier-2 element-3\" role=\"treeitem\"><a href=\"/about/gettingstarted/\" title=\"\">Getting Started</a></li>\\n    \\n        <li class=\"tier-2 element-4\" role=\"treeitem\"><a href=\"/about/help/\" title=\"\">Help</a></li>\\n    \\n        <li class=\"tier-2 element-5\" role=\"treeitem\"><a href=\"http://brochure.getpython.info/\" title=\"\">Python Brochure</a></li>\\n    \\n</ul>\\n\\n        \\n    </li>\\n    \\n    <li class=\"tier-1 element-2\">\\n        <a href=\"/downloads/\" >Downloads</a>\\n        \\n            \\n\\n<ul class=\"subnav menu\">\\n    \\n        <li class=\"tier-2 element-1\" role=\"treeitem\"><a href=\"/downloads/\" title=\"\">All releases</a></li>\\n    \\n        <li class=\"tier-2 element-2\" role=\"treeitem\"><a href=\"/downloads/source/\" title=\"\">Source code</a></li>\\n    \\n        <li class=\"tier-2 element-3\" role=\"treeitem\"><a href=\"/downloads/windows/\" title=\"\">Windows</a></li>\\n    \\n        <li class=\"tier-2 element-4\" role=\"treeitem\"><a href=\"/downloads/mac-osx/\" title=\"\">Mac OS X</a></li>\\n    \\n        <li class=\"tier-2 element-5\" role=\"treeitem\"><a href=\"/download/other/\" title=\"\">Other Platforms</a></li>\\n    \\n        <li class=\"tier-2 element-6\" role=\"treeitem\"><a href=\"https://docs.python.org/3/license.html\" title=\"\">License</a></li>\\n    \\n        <li class=\"tier-2 element-7\" role=\"treeitem\"><a href=\"/download/alternatives\" title=\"\">Alternative Implementations</a></li>\\n    \\n</ul>\\n\\n        \\n    </li>\\n    \\n    <li class=\"tier-1 element-3\">\\n        <a href=\"/doc/\" >Documentation</a>\\n        \\n            \\n\\n<ul class=\"subnav menu\">\\n    \\n        <li class=\"tier-2 element-1\" role=\"treeitem\"><a href=\"/doc/\" title=\"\">Docs</a></li>\\n    \\n        <li class=\"tier-2 element-2\" role=\"treeitem\"><a href=\"/doc/av\" title=\"\">Audio/Visual Talks</a></li>\\n    \\n        <li class=\"tier-2 element-3\" role=\"treeitem\"><a href=\"https://wiki.python.org/moin/BeginnersGuide\" title=\"\">Beginner&#39;s Guide</a></li>\\n    \\n        <li class=\"tier-2 element-4\" role=\"treeitem\"><a href=\"https://devguide.python.org/\" title=\"\">Developer&#39;s Guide</a></li>\\n    \\n        <li class=\"tier-2 element-5\" role=\"treeitem\"><a href=\"https://docs.python.org/faq/\" title=\"\">FAQ</a></li>\\n    \\n        <li class=\"tier-2 element-6\" role=\"treeitem\"><a href=\"http://wiki.python.org/moin/Languages\" title=\"\">Non-English Docs</a></li>\\n    \\n        <li class=\"tier-2 element-7\" role=\"treeitem\"><a href=\"http://python.org/dev/peps/\" title=\"\">PEP Index</a></li>\\n    \\n        <li class=\"tier-2 element-8\" role=\"treeitem\"><a href=\"https://wiki.python.org/moin/PythonBooks\" title=\"\">Python Books</a></li>\\n    \\n        <li class=\"tier-2 element-9\" role=\"treeitem\"><a href=\"/doc/essays/\" title=\"\">Python Essays</a></li>\\n    \\n</ul>\\n\\n        \\n    </li>\\n    \\n    <li class=\"tier-1 element-4\">\\n        <a href=\"/community/\" >Community</a>\\n        \\n            \\n\\n<ul class=\"subnav menu\">\\n    \\n        <li class=\"tier-2 element-1\" role=\"treeitem\"><a href=\"/community/survey\" title=\"\">Community Survey</a></li>\\n    \\n        <li class=\"tier-2 element-2\" role=\"treeitem\"><a href=\"/community/diversity/\" title=\"\">Diversity</a></li>\\n    \\n        <li class=\"tier-2 element-3\" role=\"treeitem\"><a href=\"/community/lists/\" title=\"\">Mailing Lists</a></li>\\n    \\n        <li class=\"tier-2 element-4\" role=\"treeitem\"><a href=\"/community/irc/\" title=\"\">IRC</a></li>\\n    \\n        <li class=\"tier-2 element-5\" role=\"treeitem\"><a href=\"/community/forums/\" title=\"\">Forums</a></li>\\n    \\n        <li class=\"tier-2 element-6\" role=\"treeitem\"><a href=\"/psf/annual-report/2020/\" title=\"\">PSF Annual Impact Report</a></li>\\n    \\n        <li class=\"tier-2 element-7\" role=\"treeitem\"><a href=\"/community/workshops/\" title=\"\">Python Conferences</a></li>\\n    \\n        <li class=\"tier-2 element-8\" role=\"treeitem\"><a href=\"/community/sigs/\" title=\"\">Special Interest Groups</a></li>\\n    \\n        <li class=\"tier-2 element-9\" role=\"treeitem\"><a href=\"/community/logos/\" title=\"\">Python Logo</a></li>\\n    \\n        <li class=\"tier-2 element-10\" role=\"treeitem\"><a href=\"https://wiki.python.org/moin/\" title=\"\">Python Wiki</a></li>\\n    \\n        <li class=\"tier-2 element-11\" role=\"treeitem\"><a href=\"/community/merchandise/\" title=\"\">Merchandise</a></li>\\n    \\n        <li class=\"tier-2 element-12\" role=\"treeitem\"><a href=\"/community/awards\" title=\"\">Community Awards</a></li>\\n    \\n        <li class=\"tier-2 element-13\" role=\"treeitem\"><a href=\"/psf/conduct/\" title=\"\">Code of Conduct</a></li>\\n    \\n        <li class=\"tier-2 element-14\" role=\"treeitem\"><a href=\"/psf/get-involved/\" title=\"\">Get Involved</a></li>\\n    \\n        <li class=\"tier-2 element-15\" role=\"treeitem\"><a href=\"/psf/community-stories/\" title=\"\">Shared Stories</a></li>\\n    \\n</ul>\\n\\n        \\n    </li>\\n    \\n    <li class=\"tier-1 element-5\">\\n        <a href=\"/success-stories/\" title=\"success-stories\">Success Stories</a>\\n        \\n            \\n\\n<ul class=\"subnav menu\">\\n    \\n        <li class=\"tier-2 element-1\" role=\"treeitem\"><a href=\"/success-stories/category/arts/\" title=\"\">Arts</a></li>\\n    \\n        <li class=\"tier-2 element-2\" role=\"treeitem\"><a href=\"/success-stories/category/business/\" title=\"\">Business</a></li>\\n    \\n        <li class=\"tier-2 element-3\" role=\"treeitem\"><a href=\"/success-stories/category/education/\" title=\"\">Education</a></li>\\n    \\n        <li class=\"tier-2 element-4\" role=\"treeitem\"><a href=\"/success-stories/category/engineering/\" title=\"\">Engineering</a></li>\\n    \\n        <li class=\"tier-2 element-5\" role=\"treeitem\"><a href=\"/success-stories/category/government/\" title=\"\">Government</a></li>\\n    \\n        <li class=\"tier-2 element-6\" role=\"treeitem\"><a href=\"/success-stories/category/scientific/\" title=\"\">Scientific</a></li>\\n    \\n        <li class=\"tier-2 element-7\" role=\"treeitem\"><a href=\"/success-stories/category/software-development/\" title=\"\">Software Development</a></li>\\n    \\n</ul>\\n\\n        \\n    </li>\\n    \\n    <li class=\"tier-1 element-6\">\\n        <a href=\"/blogs/\" title=\"News from around the Python world\">News</a>\\n        \\n            \\n\\n<ul class=\"subnav menu\">\\n    \\n        <li class=\"tier-2 element-1\" role=\"treeitem\"><a href=\"/blogs/\" title=\"Python Insider Blog Posts\">Python News</a></li>\\n    \\n        <li class=\"tier-2 element-2\" role=\"treeitem\"><a href=\"/psf/newsletter/\" title=\"Python Software Foundation Newsletter\">PSF Newsletter</a></li>\\n    \\n        <li class=\"tier-2 element-3\" role=\"treeitem\"><a href=\"http://planetpython.org/\" title=\"Planet Python\">Community News</a></li>\\n    \\n        <li class=\"tier-2 element-4\" role=\"treeitem\"><a href=\"http://pyfound.blogspot.com/\" title=\"PSF Blog\">PSF News</a></li>\\n    \\n        <li class=\"tier-2 element-5\" role=\"treeitem\"><a href=\"http://pycon.blogspot.com/\" title=\"PyCon Blog\">PyCon News</a></li>\\n    \\n</ul>\\n\\n        \\n    </li>\\n    \\n    <li class=\"tier-1 element-7\">\\n        <a href=\"/events/\" >Events</a>\\n        \\n            \\n\\n<ul class=\"subnav menu\">\\n    \\n        <li class=\"tier-2 element-1\" role=\"treeitem\"><a href=\"/events/python-events\" title=\"\">Python Events</a></li>\\n    \\n        <li class=\"tier-2 element-2\" role=\"treeitem\"><a href=\"/events/python-user-group/\" title=\"\">User Group Events</a></li>\\n    \\n        <li class=\"tier-2 element-3\" role=\"treeitem\"><a href=\"/events/python-events/past/\" title=\"\">Python Events Archive</a></li>\\n    \\n        <li class=\"tier-2 element-4\" role=\"treeitem\"><a href=\"/events/python-user-group/past/\" title=\"\">User Group Events Archive</a></li>\\n    \\n        <li class=\"tier-2 element-5\" role=\"treeitem\"><a href=\"https://wiki.python.org/moin/PythonEventsCalendar#Submitting_an_Event\" title=\"\">Submit an Event</a></li>\\n    \\n</ul>\\n\\n        \\n    </li>\\n    \\n    <li class=\"tier-1 element-8\">\\n        <a href=\"/dev/\" >Contributing</a>\\n        \\n            \\n\\n<ul class=\"subnav menu\">\\n    \\n        <li class=\"tier-2 element-1\" role=\"treeitem\"><a href=\"https://devguide.python.org/\" title=\"\">Developer&#39;s Guide</a></li>\\n    \\n        <li class=\"tier-2 element-2\" role=\"treeitem\"><a href=\"https://bugs.python.org/\" title=\"\">Issue Tracker</a></li>\\n    \\n        <li class=\"tier-2 element-3\" role=\"treeitem\"><a href=\"https://mail.python.org/mailman/listinfo/python-dev\" title=\"\">python-dev list</a></li>\\n    \\n        <li class=\"tier-2 element-4\" role=\"treeitem\"><a href=\"/dev/core-mentorship/\" title=\"\">Core Mentorship</a></li>\\n    \\n        <li class=\"tier-2 element-5\" role=\"treeitem\"><a href=\"/dev/security/\" title=\"\">Report a Security Issue</a></li>\\n    \\n</ul>\\n\\n        \\n    </li>\\n    \\n</ul>\\n\\n\\n                    <a id=\"back-to-top-2\" class=\"jump-link\" href=\"#python-network\"><span aria-hidden=\"true\" class=\"icon-arrow-up\"><span>&#9650;</span></span> Back to Top</a>\\n                    \\n\\n                </div><!-- end .container -->\\n            </div> <!-- end .main-footer-links -->\\n\\n            <div class=\"site-base\">\\n                <div class=\"container\">\\n                    \\n                    <ul class=\"footer-links navigation menu do-not-print\" role=\"tree\">\\n                        <li class=\"tier-1 element-1\"><a href=\"/about/help/\">Help &amp; <span class=\"say-no-more\">General</span> Contact</a></li>\\n                        <li class=\"tier-1 element-2\"><a href=\"/community/diversity/\">Diversity <span class=\"say-no-more\">Initiatives</span></a></li>\\n                        <li class=\"tier-1 element-3\"><a href=\"https://github.com/python/pythondotorg/issues\">Submit Website Bug</a></li>\\n                        <li class=\"tier-1 element-4\">\\n                            <a href=\"https://status.python.org/\">Status <span class=\"python-status-indicator-default\" id=\"python-status-indicator\"></span></a>\\n                        </li>\\n                    </ul>\\n\\n                    <div class=\"copyright\">\\n                        <p><small>\\n                            <span class=\"pre\">Copyright &copy;2001-2021.</span>\\n                            &nbsp;<span class=\"pre\"><a href=\"/psf-landing/\">Python Software Foundation</a></span>\\n                            &nbsp;<span class=\"pre\"><a href=\"/about/legal/\">Legal Statements</a></span>\\n                            &nbsp;<span class=\"pre\"><a href=\"/privacy/\">Privacy Policy</a></span>\\n                            &nbsp;<span class=\"pre\"><a href=\"/psf/sponsorship/sponsors/#heroku\">Powered by Heroku</a></span>\\n                        </small></p>\\n                    </div>\\n\\n                </div><!-- end .container -->\\n            </div><!-- end .site-base -->\\n\\n        </footer>\\n\\n    </div><!-- end #touchnav-wrapper -->\\n\\n    \\n    <script src=\"//ajax.googleapis.com/ajax/libs/jquery/1.8.2/jquery.min.js\"></script>\\n    <script>window.jQuery || document.write(\\'<script src=\"/static/js/libs/jquery-1.8.2.min.js\"><\\\\/script>\\')</script>\\n    <script src=\"//ajax.googleapis.com/ajax/libs/jqueryui/1.12.1/jquery-ui.min.js\"></script>\\n    <script>window.jQuery || document.write(\\'<script src=\"/static/js/libs/jquery-ui-1.12.1.min.js\"><\\\\/script>\\')</script>\\n\\n    <script src=\"/static/js/libs/masonry.pkgd.min.js\"></script>\\n    <script src=\"/static/js/libs/html-includes.js\"></script>\\n\\n    <script type=\"text/javascript\" src=\"/static/js/main-min.35a45664b78f.js\" charset=\"utf-8\"></script>\\n    \\n\\n    <!--[if lte IE 7]>\\n    <script type=\"text/javascript\" src=\"/static/js/plugins/IE8-min.1fa19688541a.js\" charset=\"utf-8\"></script>\\n    \\n    \\n    <![endif]-->\\n\\n    <!--[if lte IE 8]>\\n    <script type=\"text/javascript\" src=\"/static/js/plugins/getComputedStyle-min.722f490e4652.js\" charset=\"utf-8\"></script>\\n    \\n    \\n    <![endif]-->\\n\\n    \\n\\n    \\n    \\n\\n</body>\\n</html>\\n'\n",
            "저장되었습니다...!\n"
          ],
          "name": "stdout"
        }
      ]
    },
    {
      "cell_type": "code",
      "metadata": {
        "colab": {
          "base_uri": "https://localhost:8080/"
        },
        "id": "9BipYuMIR1mA",
        "outputId": "47370304-45af-43e2-938e-f060bcec88b8"
      },
      "source": [
        "import shutil\n",
        "import tempfile\n",
        "import urllib.request\n",
        "#URL을 통해 리소스를 가져와서 임시 위치에 저장\n",
        "with urllib.request.urlopen('http://python.org/') as response:\n",
        "  with tempfile.NamedTemporaryFile(delete=False) as tmp_file:\n",
        "    shutil.copyfileobj(response, tmp_file)\n",
        "\n",
        "with open(tmp_file.name) as html:\n",
        "  pass\n",
        "\n",
        "# URL과 저장 경로 지정하기\n",
        "url = \"http://uta.pw/shodou/img/28/214.png\"\n",
        "savename = \"test.png\"\n",
        "# 다운로드\n",
        "mem = urllib.request.urlopen(url).read()\n",
        "# 파일로 저장하기\n",
        "with open(savename, mode=\"wb\") as f:\n",
        "  f.write(mem)\n",
        "  print(\"저장되었습니다...!\")"
      ],
      "execution_count": 114,
      "outputs": [
        {
          "output_type": "stream",
          "text": [
            "저장되었습니다...!\n"
          ],
          "name": "stdout"
        }
      ]
    },
    {
      "cell_type": "markdown",
      "metadata": {
        "id": "SpgGaT3kTT3g"
      },
      "source": [
        "Ø urllib.parse 모듈    \n",
        "§ data 인자로 Request 객체에 전달합니다.    \n",
        "§ 인코딩은 urllib.parse 라이브러리의 함수를 사용하여 수행    \n",
        "§ data 인자를 전달하지 않으면, urllib는 GET 요청을 사용    \n",
        "§ Get방식 요청 : url?key=value&key=value&… 형식    "
      ]
    },
    {
      "cell_type": "code",
      "metadata": {
        "id": "Hjr7oVBOUhu5"
      },
      "source": [
        "import urllib.request\n",
        "import urllib.parse\n",
        "\n",
        "API = \"http://www.kma.go.kr/weather/forecast/mid-term-rss3.jsp\"\n",
        "# 매개변수를 URL 인코딩합니다.    #stnId는 기상 정보를 알고 싶은 지역\n",
        "values = {'stnId': '108'}\n",
        "params = urllib.parse.urlencode(values)\n",
        "# 요청 전용 URL을 생성합니다.\n",
        "url = API + \"?\" + params\n",
        "print(\"url=\", url)\n",
        "# 다운로드합니다.\n",
        "data = urllib.request.urlopen(url).read()\n",
        "text = data.decode(\"utf-8\")\n",
        "print(text)"
      ],
      "execution_count": null,
      "outputs": []
    },
    {
      "cell_type": "markdown",
      "metadata": {
        "id": "qh8cF3RiVroQ"
      },
      "source": [
        "Ø urllib.parse 모듈    \n",
        "§ URL 요청 매개변수를 command line 에서 지정 (sys모듈을 사용하여 command line 매개변수 추출)"
      ]
    },
    {
      "cell_type": "code",
      "metadata": {
        "colab": {
          "base_uri": "https://localhost:8080/"
        },
        "id": "OdVBRYNbVs-l",
        "outputId": "6bb4eb31-3918-4b67-d8a6-77bfee7e0ace"
      },
      "source": [
        "import sys\n",
        "import urllib.request as req\n",
        "import urllib.parse as parse\n",
        "# 명령줄 매개변수 추출\n",
        "if len(sys.argv) <= 1:         \n",
        "  print(\"USAGE: download-forecast-argv <Region Number>\")\n",
        "  sys.exit()  #실행 중인 파이썬 코드(어플리케이션)을 종료\n",
        "regionNumber = sys.argv[1]\n",
        "print(sys.argv)\n",
        "print(type(sys.argv))\n",
        "# 매개변수를 URL 인코딩합니다.\n",
        "API = \"http://www.kma.go.kr/weather/forecast/mid-term-rss3.jsp\"\n",
        "values = {\n",
        "  'stnId': regionNumber\n",
        "}\n",
        "params = parse.urlencode(values)\n",
        "url = API + \"?\" + params\n",
        "print(\"url=\", url)\n",
        "# 다운로드합니다.\n",
        "data = req.urlopen(url).read()\n",
        "text = data.decode(\"utf-8\")\n",
        "print(text)"
      ],
      "execution_count": 124,
      "outputs": [
        {
          "output_type": "stream",
          "text": [
            "['/usr/local/lib/python3.7/dist-packages/ipykernel_launcher.py', '-f', '/root/.local/share/jupyter/runtime/kernel-305dde36-26c9-46b4-8a91-3fc04d04438c.json']\n",
            "<class 'list'>\n",
            "url= http://www.kma.go.kr/weather/forecast/mid-term-rss3.jsp?stnId=-f\n",
            "\n"
          ],
          "name": "stdout"
        }
      ]
    },
    {
      "cell_type": "markdown",
      "metadata": {
        "id": "Bf8Y1BFwcIub"
      },
      "source": [
        "urllib.parse 모듈    \n",
        "§ Post 요청 - Request 객체에 data 인자 전달    \n",
        "§ 상대 경로를 전개할 때는 urllib.parse.urljoin(base, path)을 사용합니다    \n",
        "§ 상대 경로(path 매개변수)가 http://등으로 시작한다면 기본 URL(base 매개변수)을 무시하고, 두번째 매개변수에 지정한 URL을 리턴합니다."
      ]
    },
    {
      "cell_type": "code",
      "metadata": {
        "colab": {
          "base_uri": "https://localhost:8080/"
        },
        "id": "CiD7iRuhcRXW",
        "outputId": "69c0551b-cf63-4351-bcc4-ff644feb2318"
      },
      "source": [
        "from urllib.parse import urljoin\n",
        "base = \"http://example.com/html/a.html\"\n",
        "print( urljoin(base, \"b.html\") )   #http://example.com/html/b.html\n",
        "print( urljoin(base, \"sub/c.html\") )  #http://example.com/html/sub/c.html\n",
        "print( urljoin(base, \"../index.html\") ) #http://example.com/index.html\n",
        "print( urljoin(base, \"../img/hoge.png\") )  #http://example.com/index.html\n",
        "print( urljoin(base, \"../css/hoge.css\") )  #http://example.com/css/hoge.css\n",
        "print( urljoin(base, \"/hoge.html\") )    #http://example.com/hoge.html\n",
        "print( urljoin(base, \"http://otherExample.com/wiki\") )   #http://otherExample.com/wiki\n",
        "print( urljoin(base, \"//anotherExample.org/test\") )   #http://anotherExample.org/test"
      ],
      "execution_count": 126,
      "outputs": [
        {
          "output_type": "stream",
          "text": [
            "http://example.com/html/b.html\n",
            "http://example.com/html/sub/c.html\n",
            "http://example.com/index.html\n",
            "http://example.com/img/hoge.png\n",
            "http://example.com/css/hoge.css\n",
            "http://example.com/hoge.html\n",
            "http://otherExample.com/wiki\n",
            "http://anotherExample.org/test\n"
          ],
          "name": "stdout"
        }
      ]
    }
  ]
}