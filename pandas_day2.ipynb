{
  "nbformat": 4,
  "nbformat_minor": 0,
  "metadata": {
    "colab": {
      "name": "pandas_day2.ipynb",
      "provenance": [],
      "authorship_tag": "ABX9TyOk/lkcEIS+qpaGQ4nLFRN7",
      "include_colab_link": true
    },
    "kernelspec": {
      "name": "python3",
      "display_name": "Python 3"
    },
    "language_info": {
      "name": "python"
    }
  },
  "cells": [
    {
      "cell_type": "markdown",
      "metadata": {
        "id": "view-in-github",
        "colab_type": "text"
      },
      "source": [
        "<a href=\"https://colab.research.google.com/github/sera0911/asia-ai-study/blob/main/pandas_day2.ipynb\" target=\"_parent\"><img src=\"https://colab.research.google.com/assets/colab-badge.svg\" alt=\"Open In Colab\"/></a>"
      ]
    },
    {
      "cell_type": "markdown",
      "metadata": {
        "id": "XWI6zzWTz5-d"
      },
      "source": [
        "###pandas 시계열  \n",
        "####시계열 데이터  \n",
        "- 시계열 자료는 인덱스가 날짜 혹은 시간인 데이터\n",
        "- 시간 내에서 특정 순간의 타임스탬프\n",
        "- 2017년 1월, 2019년 전체 같은 고정된 기간\n",
        "- 시작과 끝 타임스탬프로 표시되는 시간 간격 (기간은 시간 간격의 특수한 경우)\n",
        "- 실험 혹은 경과 시간, 각 타임스탬프는 특정 시작 시간에 상대적인 시간의 특정값\n",
        "- 시계열은 고정빈도로 표현 – 데이터가 존재하는 지점이 15초마다, 5분마다, 한달에 한번 같은 특정 규칙에 따라 고정 간격을 가지게 된다.\n",
        "- 고정된 단위나 시간 혹은 단위들 간의 간격으로 존재하지 않고 불규칙적인 모습으로 표현될 수도 있다\n",
        "- 판다스에서 시계열 자료를 생성하려면 인덱스를 DatetimeIndex 자료형으로 만들어야 한다.\n",
        "- DatetimeIndex는 특정한 순간에 기록된 타임스탬프(timestamp) 형식의 시계열 자료를 다루기 위한 인덱스이다.\n",
        "- 타임스탬프 인덱스의 라벨값이 반드시 일정한 간격일 필요는 없다."
      ]
    },
    {
      "cell_type": "markdown",
      "metadata": {
        "id": "xBNb0WKS0qOh"
      },
      "source": [
        "####파이썬 표준 라이브러리 – 날짜, 시간 자료형 , 도구\n",
        "- 날짜와 시간을 위한 자료형과 달력 관련 기능을 제공\n",
        "- datetime, time, calendar\n",
        "- datetime은 날짜와 시간을 모두 저장하며 마이크로초까지 지원한다."
      ]
    },
    {
      "cell_type": "code",
      "metadata": {
        "colab": {
          "base_uri": "https://localhost:8080/"
        },
        "id": "T2mkjP_Y0z9f",
        "outputId": "5472b35c-947c-4e68-dc6f-4d89aa523808"
      },
      "source": [
        "from datetime import datetime\n",
        "now = datetime.now()\n",
        "print(now)\n",
        "print(type(now))\n",
        "print(now.year)\n",
        "print(now.month)\n",
        "print(now.day)"
      ],
      "execution_count": 1,
      "outputs": [
        {
          "output_type": "stream",
          "text": [
            "2021-04-05 06:58:46.762142\n",
            "<class 'datetime.datetime'>\n",
            "2021\n",
            "4\n",
            "5\n"
          ],
          "name": "stdout"
        }
      ]
    },
    {
      "cell_type": "markdown",
      "metadata": {
        "id": "GZq0VQPy08IY"
      },
      "source": [
        "- datetime.timedelta : 두 datetime 객체 간의 시간적인 차이를 표현"
      ]
    },
    {
      "cell_type": "code",
      "metadata": {
        "colab": {
          "base_uri": "https://localhost:8080/"
        },
        "id": "zgsRL7T409cq",
        "outputId": "a0323aef-5d3c-4d57-aad4-3ae4f0df068f"
      },
      "source": [
        "delta = datetime(2011, 1, 7) - datetime(2008, 6, 24, 8, 15)  #괄호 앞에서부터 년, 월, 일, 시간, 분순, 초까지 적을 수 있다\n",
        "print(delta)\n",
        "print(type(delta))\n",
        "print(delta.days)\n",
        "print(delta.seconds)"
      ],
      "execution_count": 2,
      "outputs": [
        {
          "output_type": "stream",
          "text": [
            "926 days, 15:45:00\n",
            "<class 'datetime.timedelta'>\n",
            "926\n",
            "56700\n"
          ],
          "name": "stdout"
        }
      ]
    },
    {
      "cell_type": "markdown",
      "metadata": {
        "id": "yviecR9l1Myi"
      },
      "source": [
        "- timedelta 를 더하거나 빼면 그만큼의 시간이 datetime 객체에 적용되어 새로운 객체를 만들 수 있다"
      ]
    },
    {
      "cell_type": "code",
      "metadata": {
        "colab": {
          "base_uri": "https://localhost:8080/"
        },
        "id": "YlURJkjd1PVN",
        "outputId": "6a93817f-d21d-4da4-9de8-2e175e243fae"
      },
      "source": [
        "from datetime import timedelta\n",
        "start = datetime(2011, 1, 7)    \n",
        "print(start)\n",
        "print(start + timedelta(12))  #timedelta는 day를 기준으로 봄\n",
        "print(start - 2 * timedelta(12))"
      ],
      "execution_count": 3,
      "outputs": [
        {
          "output_type": "stream",
          "text": [
            "2011-01-07 00:00:00\n",
            "2011-01-19 00:00:00\n",
            "2010-12-14 00:00:00\n"
          ],
          "name": "stdout"
        }
      ]
    },
    {
      "cell_type": "markdown",
      "metadata": {
        "id": "K8bwg2ae179V"
      },
      "source": [
        "- datetime 객체와 pandas의 Timestamp 객체는 str(), strftime()에 포맷규칙을 넘겨서 문자열로 표현 할 수 있다"
      ]
    },
    {
      "cell_type": "code",
      "metadata": {
        "colab": {
          "base_uri": "https://localhost:8080/"
        },
        "id": "24lxCF_U19TF",
        "outputId": "1e68d14e-4069-407b-90a8-0a5952539437"
      },
      "source": [
        "stamp = datetime(2011, 1, 3)\n",
        "print(str(stamp))\n",
        "print(stamp.strftime('%Y-%m-%d'))"
      ],
      "execution_count": 4,
      "outputs": [
        {
          "output_type": "stream",
          "text": [
            "2011-01-03 00:00:00\n",
            "2011-01-03\n"
          ],
          "name": "stdout"
        }
      ]
    },
    {
      "cell_type": "markdown",
      "metadata": {
        "id": "jBQ3_7ZW3Vkc"
      },
      "source": [
        "- datetime.strptime : 알려진 형식의 날짜를 파싱하는 최적의 방법"
      ]
    },
    {
      "cell_type": "code",
      "metadata": {
        "colab": {
          "base_uri": "https://localhost:8080/"
        },
        "id": "hU5wP6v93W-M",
        "outputId": "86ba35e0-faaf-43df-b1cb-5eabb3a78459"
      },
      "source": [
        "value = '2011-01-03'\n",
        "print(type(value))\n",
        "value2 = print(datetime.strptime(value, '%Y-%m-%d'))\n",
        "print(value2)\n",
        "print(type(value2))\n",
        "datestrs = ['7/6/2011', '8/6/2011']\n",
        "d1 = [datetime.strptime(x, '%m/%d/%Y') for x in datestrs]\n",
        "print(d1)"
      ],
      "execution_count": 9,
      "outputs": [
        {
          "output_type": "stream",
          "text": [
            "<class 'str'>\n",
            "2011-01-03 00:00:00\n",
            "None\n",
            "<class 'NoneType'>\n",
            "[datetime.datetime(2011, 7, 6, 0, 0), datetime.datetime(2011, 8, 6, 0, 0)]\n"
          ],
          "name": "stdout"
        }
      ]
    },
    {
      "cell_type": "markdown",
      "metadata": {
        "id": "lp7gjUL_4PEG"
      },
      "source": [
        "- 흔히 쓰는 날짜 형식의 포맷 규칙은 서드파티 패키지인 dateutil이 포함된 parser.parse()를 사용하면 편리   \n",
        "- 국제 로케일의 경우 날짜가 월 앞에 오는 경우 dayfirst=True를 넘겨준다  \n",
        "\n",
        "- strptime, parse 모두 datetime객체로 변환해줌"
      ]
    },
    {
      "cell_type": "code",
      "metadata": {
        "colab": {
          "base_uri": "https://localhost:8080/"
        },
        "id": "WF-bge6R4Rm2",
        "outputId": "ad69f358-d9e8-434b-a989-7f1cc702e9ba"
      },
      "source": [
        "from dateutil.parser import parse\n",
        "print(type('2011-01-03'))   #문자열\n",
        "print(parse('2011-01-03'))\n",
        "print(type(parse('2011-01-03')))   #datetime객체로 변환 \n",
        "\n",
        "print(parse('Jan 31, 1997 10:45 PM'))\n",
        "print(parse('6/12/2011', dayfirst=True))"
      ],
      "execution_count": 10,
      "outputs": [
        {
          "output_type": "stream",
          "text": [
            "<class 'str'>\n",
            "2011-01-03 00:00:00\n",
            "<class 'datetime.datetime'>\n",
            "1997-01-31 22:45:00\n",
            "2011-12-06 00:00:00\n"
          ],
          "name": "stdout"
        }
      ]
    },
    {
      "cell_type": "markdown",
      "metadata": {
        "id": "UkIQGcVs5vUQ"
      },
      "source": [
        "- pandas는 DateFrame의 컬럼이나 축 색인으로 날짜가 담긴 배열을 사용한다\n",
        "- to_datetime() - 많은 종류의 날짜 표현을 처리, format 매개변수에 날짜와 시간 포맷을 지정\n",
        "- errors 매개변수 - 오류 처리, 누락된 값(None, 빈 문자열 등)으로 간주되어야 할 값도 처리해준다 (NaT는 pandas에서 누락된 타임스탬프 데이터를 나타낸다)"
      ]
    },
    {
      "cell_type": "code",
      "metadata": {
        "colab": {
          "base_uri": "https://localhost:8080/"
        },
        "id": "dwmb7ueZ5lKF",
        "outputId": "4e378142-c6cc-49fe-8ff9-6123551b6d59"
      },
      "source": [
        "import pandas as pd\n",
        "import numpy as np\n",
        "\n",
        "datestrs = ['2011-07-06 12:00:00', '2011-08-06 00:00:00']\n",
        "d1 = pd.to_datetime(datestrs)  #datetime객체로 변환\n",
        "print(d1)\n",
        "print(type(d1))\n",
        "idx = pd.to_datetime(datestrs + [None])   #datestrs에 [none]이 추가되었는데 NaT로 표현됨\n",
        "print(idx)\n",
        "print(idx[2])\n",
        "print(pd.isnull(idx))   #null값을 체크 앞에 두가지는 null이 아니라서 false 뒤는 null이라 true\n",
        "\n",
        "date_strings = np.array(['03-04-2005 11:35 PM',\n",
        "'23-05-2010 12:01 AM',\n",
        "'04-09-2009 09:09 PM']) # 문자열\n",
        "# Timestamp 객체로 변환\n",
        "[pd.to_datetime(date, format='%d-%m-%Y %I:%M %p') for date in date_strings]  #리스트컴프리헨션\n",
        "[pd.to_datetime(date, format=\"%d-%m-%Y %I:%M %p\", errors=\"ignore\") for date in date_strings]\n",
        "pd.to_datetime(date_strings)"
      ],
      "execution_count": 13,
      "outputs": [
        {
          "output_type": "stream",
          "text": [
            "DatetimeIndex(['2011-07-06 12:00:00', '2011-08-06 00:00:00'], dtype='datetime64[ns]', freq=None)\n",
            "<class 'pandas.core.indexes.datetimes.DatetimeIndex'>\n",
            "DatetimeIndex(['2011-07-06 12:00:00', '2011-08-06 00:00:00', 'NaT'], dtype='datetime64[ns]', freq=None)\n",
            "NaT\n",
            "[False False  True]\n"
          ],
          "name": "stdout"
        },
        {
          "output_type": "execute_result",
          "data": {
            "text/plain": [
              "DatetimeIndex(['2005-03-04 23:35:00', '2010-05-23 00:01:00',\n",
              "               '2009-04-09 21:09:00'],\n",
              "              dtype='datetime64[ns]', freq=None)"
            ]
          },
          "metadata": {
            "tags": []
          },
          "execution_count": 13
        }
      ]
    },
    {
      "cell_type": "markdown",
      "metadata": {
        "id": "OqHPgqdw-t9A"
      },
      "source": [
        "- 파이썬 문자열이나 datetime 객체로 표현되는 타임스탬프로 색인된 Series"
      ]
    },
    {
      "cell_type": "code",
      "metadata": {
        "colab": {
          "base_uri": "https://localhost:8080/",
          "height": 355
        },
        "id": "j1vr5ZuO-vhX",
        "outputId": "e96a0587-8426-4520-ab24-ce05e53ab901"
      },
      "source": [
        "from datetime import datetime\n",
        "dates = [datetime(2011, 1, 2), datetime(2011, 1, 5),\n",
        "datetime(2011, 1, 7), datetime(2011, 1, 8),\n",
        "datetime(2011, 1, 10), datetime(2011, 1, 12)]\n",
        "\n",
        "ts = pd.Series(np.random.randn(6), index=dates)  #randn 0보다 작거나 크면서 1과 가까운 난수\n",
        "display(ts ) #datetime 객체는 DatetimeIndex에 들어 있으며 ts 변수의 타입은 TimeSeries\n",
        "\n",
        "print(ts.index ) #서로 다르게 색인된 시계열 객체 간의 산술 연산은 자동으로 날짜에 맞춰진다\n",
        "\n",
        "print(ts + ts[::2])   #ts +ts를 할 때 난수값은 2단위로 출력됨rint(ts + ts[::2])   #ts +ts를 할 때 난수값은 2단위로 출력됨\n",
        "\n",
        "print(ts.index.dtype) # DatetimeIndex의 스칼라 값은 pandas의 Timestamp 객체\n",
        "stamp = ts.index[0]\n",
        "print(stamp)\n",
        "\n",
        "print(ts.index.dtype) # DatetimeIndex의 스칼라 값은 pandas의 Timestamp 객체\n",
        "stamp = ts.index[0]\n",
        "print(stamp)"
      ],
      "execution_count": 16,
      "outputs": [
        {
          "output_type": "display_data",
          "data": {
            "text/plain": [
              "2011-01-02    0.555662\n",
              "2011-01-05   -1.021371\n",
              "2011-01-07   -1.428447\n",
              "2011-01-08   -1.021198\n",
              "2011-01-10   -0.344437\n",
              "2011-01-12    2.032549\n",
              "dtype: float64"
            ]
          },
          "metadata": {
            "tags": []
          }
        },
        {
          "output_type": "stream",
          "text": [
            "DatetimeIndex(['2011-01-02', '2011-01-05', '2011-01-07', '2011-01-08',\n",
            "               '2011-01-10', '2011-01-12'],\n",
            "              dtype='datetime64[ns]', freq=None)\n",
            "2011-01-02    1.111324\n",
            "2011-01-05         NaN\n",
            "2011-01-07   -2.856894\n",
            "2011-01-08         NaN\n",
            "2011-01-10   -0.688875\n",
            "2011-01-12         NaN\n",
            "dtype: float64\n",
            "datetime64[ns]\n",
            "2011-01-02 00:00:00\n"
          ],
          "name": "stdout"
        }
      ]
    },
    {
      "cell_type": "markdown",
      "metadata": {
        "id": "JlOlfksc__iV"
      },
      "source": [
        "- 시계열은 라벨에 기반해서 데이터를 선택하고 인덱싱할 때 pandas.Series와 동일하게 동작한다"
      ]
    },
    {
      "cell_type": "code",
      "metadata": {
        "colab": {
          "base_uri": "https://localhost:8080/"
        },
        "id": "KP_4RERmACYC",
        "outputId": "57d2b4d1-d8c6-43c7-c003-f13ee197ef0f"
      },
      "source": [
        "from datetime import datetime\n",
        "\n",
        "#해석할 수 있는 날짜를 문자열로 넘겨서 편리하게 사용할 수 있다.\n",
        "print( ts['1/10/2011'] )\n",
        "print(ts['20110110'])\n",
        "#긴 시계열에서는 년을 넘기거나, 월만 넘겨서 데이터의 일부 구간만 선택할 수도 있다.\n",
        "longer_ts = pd.Series(np.random.randn(1000),\n",
        "index=pd.date_range('1/1/2000', periods=1000))\n",
        "\n",
        "print(longer_ts)\n",
        "print(longer_ts['2001'])\n",
        "print(longer_ts['2001-05'])\n",
        "print(ts[datetime(2011, 1, 7):])\n",
        "#시계열 데이터는 연대순으로 정렬되기 때문에 범위를 지정하기 위해 시계열에 포함하지 않고 \n",
        "#타임스탬프를 이용해서 Series를 나눌 수 있다\n",
        "print(ts)\n",
        "print(ts['1/6/2011':'1/11/2011'])"
      ],
      "execution_count": 19,
      "outputs": [
        {
          "output_type": "stream",
          "text": [
            "-0.34443740884187735\n",
            "-0.34443740884187735\n",
            "2000-01-01    0.789652\n",
            "2000-01-02    1.027059\n",
            "2000-01-03   -0.511049\n",
            "2000-01-04    1.129649\n",
            "2000-01-05    0.365506\n",
            "                ...   \n",
            "2002-09-22   -0.210771\n",
            "2002-09-23    0.909179\n",
            "2002-09-24   -0.099478\n",
            "2002-09-25    1.346553\n",
            "2002-09-26    0.497708\n",
            "Freq: D, Length: 1000, dtype: float64\n",
            "2001-01-01    0.603129\n",
            "2001-01-02    0.659621\n",
            "2001-01-03   -1.000177\n",
            "2001-01-04    1.005032\n",
            "2001-01-05   -0.168542\n",
            "                ...   \n",
            "2001-12-27   -0.105301\n",
            "2001-12-28   -0.258748\n",
            "2001-12-29   -1.821075\n",
            "2001-12-30   -0.667880\n",
            "2001-12-31   -0.632471\n",
            "Freq: D, Length: 365, dtype: float64\n",
            "2001-05-01   -0.468367\n",
            "2001-05-02    0.557140\n",
            "2001-05-03    0.252296\n",
            "2001-05-04    0.401868\n",
            "2001-05-05   -0.203239\n",
            "2001-05-06   -0.411643\n",
            "2001-05-07    1.385024\n",
            "2001-05-08    0.671476\n",
            "2001-05-09   -0.007249\n",
            "2001-05-10    0.243270\n",
            "2001-05-11   -0.820988\n",
            "2001-05-12    2.025688\n",
            "2001-05-13   -1.479152\n",
            "2001-05-14   -1.840209\n",
            "2001-05-15    0.392574\n",
            "2001-05-16   -0.077201\n",
            "2001-05-17    1.081249\n",
            "2001-05-18   -0.098199\n",
            "2001-05-19    1.640858\n",
            "2001-05-20    1.238682\n",
            "2001-05-21    0.515701\n",
            "2001-05-22   -0.133478\n",
            "2001-05-23   -1.220965\n",
            "2001-05-24    1.143830\n",
            "2001-05-25   -2.079039\n",
            "2001-05-26   -1.002492\n",
            "2001-05-27   -1.544207\n",
            "2001-05-28    0.702379\n",
            "2001-05-29   -1.255516\n",
            "2001-05-30   -2.293076\n",
            "2001-05-31    1.284234\n",
            "Freq: D, dtype: float64\n",
            "2011-01-07   -1.428447\n",
            "2011-01-08   -1.021198\n",
            "2011-01-10   -0.344437\n",
            "2011-01-12    2.032549\n",
            "dtype: float64\n",
            "2011-01-02    0.555662\n",
            "2011-01-05   -1.021371\n",
            "2011-01-07   -1.428447\n",
            "2011-01-08   -1.021198\n",
            "2011-01-10   -0.344437\n",
            "2011-01-12    2.032549\n",
            "dtype: float64\n",
            "2011-01-07   -1.428447\n",
            "2011-01-08   -1.021198\n",
            "2011-01-10   -0.344437\n",
            "dtype: float64\n"
          ],
          "name": "stdout"
        }
      ]
    },
    {
      "cell_type": "code",
      "metadata": {
        "colab": {
          "base_uri": "https://localhost:8080/"
        },
        "id": "4_MmLBqCB92h",
        "outputId": "6209a407-b780-4efb-ff02-13d25757455a"
      },
      "source": [
        "#truncate()는 TimeSeries를 두 개의 날짜로 나눈다.\n",
        "print(ts.truncate(after='1/9/2011'))   #after는 잘라내는 범위 1월9일 이전으로! 라는 뜻\n",
        "\n",
        "#periods 간격 freq는 수요일마다! =2000/1/1부터 100일간 수요일을 출력\n",
        "dates = pd.date_range('1/1/2000', periods=100, freq='W-WED')   \n",
        "print(dates)\n",
        "long_df = pd.DataFrame(np.random.randn(100, 4),    #100행4열로 만듬 \n",
        "index=dates,\n",
        "columns=['Colorado', 'Texas',\n",
        "'New York', 'Ohio'])\n",
        "\n",
        "print(long_df)\n",
        "print(long_df.loc['5-2001'])"
      ],
      "execution_count": 20,
      "outputs": [
        {
          "output_type": "stream",
          "text": [
            "2011-01-02    0.555662\n",
            "2011-01-05   -1.021371\n",
            "2011-01-07   -1.428447\n",
            "2011-01-08   -1.021198\n",
            "dtype: float64\n",
            "DatetimeIndex(['2000-01-05', '2000-01-12', '2000-01-19', '2000-01-26',\n",
            "               '2000-02-02', '2000-02-09', '2000-02-16', '2000-02-23',\n",
            "               '2000-03-01', '2000-03-08', '2000-03-15', '2000-03-22',\n",
            "               '2000-03-29', '2000-04-05', '2000-04-12', '2000-04-19',\n",
            "               '2000-04-26', '2000-05-03', '2000-05-10', '2000-05-17',\n",
            "               '2000-05-24', '2000-05-31', '2000-06-07', '2000-06-14',\n",
            "               '2000-06-21', '2000-06-28', '2000-07-05', '2000-07-12',\n",
            "               '2000-07-19', '2000-07-26', '2000-08-02', '2000-08-09',\n",
            "               '2000-08-16', '2000-08-23', '2000-08-30', '2000-09-06',\n",
            "               '2000-09-13', '2000-09-20', '2000-09-27', '2000-10-04',\n",
            "               '2000-10-11', '2000-10-18', '2000-10-25', '2000-11-01',\n",
            "               '2000-11-08', '2000-11-15', '2000-11-22', '2000-11-29',\n",
            "               '2000-12-06', '2000-12-13', '2000-12-20', '2000-12-27',\n",
            "               '2001-01-03', '2001-01-10', '2001-01-17', '2001-01-24',\n",
            "               '2001-01-31', '2001-02-07', '2001-02-14', '2001-02-21',\n",
            "               '2001-02-28', '2001-03-07', '2001-03-14', '2001-03-21',\n",
            "               '2001-03-28', '2001-04-04', '2001-04-11', '2001-04-18',\n",
            "               '2001-04-25', '2001-05-02', '2001-05-09', '2001-05-16',\n",
            "               '2001-05-23', '2001-05-30', '2001-06-06', '2001-06-13',\n",
            "               '2001-06-20', '2001-06-27', '2001-07-04', '2001-07-11',\n",
            "               '2001-07-18', '2001-07-25', '2001-08-01', '2001-08-08',\n",
            "               '2001-08-15', '2001-08-22', '2001-08-29', '2001-09-05',\n",
            "               '2001-09-12', '2001-09-19', '2001-09-26', '2001-10-03',\n",
            "               '2001-10-10', '2001-10-17', '2001-10-24', '2001-10-31',\n",
            "               '2001-11-07', '2001-11-14', '2001-11-21', '2001-11-28'],\n",
            "              dtype='datetime64[ns]', freq='W-WED')\n",
            "            Colorado     Texas  New York      Ohio\n",
            "2000-01-05 -1.735725 -1.059237 -0.008454 -0.284788\n",
            "2000-01-12 -1.562969 -0.063523  0.682822 -0.083669\n",
            "2000-01-19  0.003212 -0.584881  0.448629  0.123235\n",
            "2000-01-26  0.602365  2.281385 -0.643913 -1.622096\n",
            "2000-02-02 -0.724710  0.611652  0.362768 -1.679192\n",
            "...              ...       ...       ...       ...\n",
            "2001-10-31  1.252314  0.133564 -0.379602 -0.078722\n",
            "2001-11-07  0.743558  0.004742 -0.053887 -0.037666\n",
            "2001-11-14 -0.310055  0.058994 -1.194673  1.659917\n",
            "2001-11-21 -1.434448 -0.127151  1.031138 -1.099696\n",
            "2001-11-28  1.716047  0.440129  0.485892  1.138105\n",
            "\n",
            "[100 rows x 4 columns]\n",
            "            Colorado     Texas  New York      Ohio\n",
            "2001-05-02 -1.478701  2.456959  0.940729  0.886557\n",
            "2001-05-09 -0.947480  1.001837 -1.129781 -1.481018\n",
            "2001-05-16 -0.566726 -0.056924  2.233414  2.324546\n",
            "2001-05-23  0.026089  2.301562  1.011323  0.269361\n",
            "2001-05-30 -0.744038 -0.911656 -1.948764 -0.958230\n"
          ],
          "name": "stdout"
        }
      ]
    },
    {
      "cell_type": "code",
      "metadata": {
        "colab": {
          "base_uri": "https://localhost:8080/"
        },
        "id": "Az61CGGGEh-t",
        "outputId": "92704c8e-4a7b-4333-e62a-535d7d1b4ac9"
      },
      "source": [
        "dates = pd.DatetimeIndex(['1/1/2000', '1/2/2000', '1/2/2000', '1/2/2000', '1/3/2000'])\n",
        "dup_ts = pd.Series(np.arange(5), index=dates)   #np.arange은 배열을 나타냄\n",
        "print(dup_ts)\n",
        "\n",
        "#is_unique 속성으로 색인 유일 여부 확인\n",
        "print( dup_ts.index.is_unique )  #유니크한가를 물어봤을 때 중복이 있으니 false\n",
        "print(dup_ts['1/3/2000'] ) # not duplicated  = 중복이아니다 4번째위치값이니 4\n",
        "print(dup_ts['1/2/2000'] ) # duplicated = 중복이다 위치를 알려줌\n",
        "\n",
        "# 유일하지 않은 타임스탬프를 가지는 데이터 집계\n",
        "#groupby에 level=0(단일 단계 인덱싱)을 넘긴다\n",
        "\n",
        "grouped = dup_ts.groupby(level=0)\n",
        "grouped.mean()  #갯수 평균\n",
        "grouped.count()  #갯수 카운트"
      ],
      "execution_count": 21,
      "outputs": [
        {
          "output_type": "stream",
          "text": [
            "2000-01-01    0\n",
            "2000-01-02    1\n",
            "2000-01-02    2\n",
            "2000-01-02    3\n",
            "2000-01-03    4\n",
            "dtype: int64\n",
            "False\n",
            "4\n",
            "2000-01-02    1\n",
            "2000-01-02    2\n",
            "2000-01-02    3\n",
            "dtype: int64\n"
          ],
          "name": "stdout"
        },
        {
          "output_type": "execute_result",
          "data": {
            "text/plain": [
              "2000-01-01    1\n",
              "2000-01-02    3\n",
              "2000-01-03    1\n",
              "dtype: int64"
            ]
          },
          "metadata": {
            "tags": []
          },
          "execution_count": 21
        }
      ]
    },
    {
      "cell_type": "markdown",
      "metadata": {
        "id": "zCV5Kl6aGMzn"
      },
      "source": [
        "- pandas는 시계열을 불규칙적인 것으로 간주 (고정된 빈도를 갖지 않는다)\n",
        "- pandas에는 리샘플릴링, 표준 시계열 빈도 모음, 빈도 추론, 고정된 빈도의 날짜 범위를 위한 도구 제공\n",
        "- pandas.date_range를 사용하면 특정 빈도에 따라 지정한 길이만큼의 DatetimeIndex를 생성\n",
        "- pandas.date_range는 기본적으로 시작 시간이나 종료 시간의 타임 스탬프를 보존한다\n",
        "- 자정에 맞추어 타임스탬프를 정규화하고 싶을 때 normalize 옵션을 사용"
      ]
    },
    {
      "cell_type": "code",
      "metadata": {
        "colab": {
          "base_uri": "https://localhost:8080/",
          "height": 766
        },
        "id": "okjY8bmEGPgF",
        "outputId": "63413e4f-ed83-49ab-8826-64640c1056e2"
      },
      "source": [
        "display(ts)\n",
        "resampler = ts.resample('D')   #freq=<Day> 간격을 일(day) 단위로 지정시킨 것것\n",
        "print(resampler)\n",
        "#date_range는 일별 타임스탬프를 생성\n",
        "index = pd.date_range('2012-04-01', '2012-06-01')\n",
        "print(index)\n",
        "\n",
        "print(pd.date_range(start='2012-04-01', periods=20))  #start를 기준으로 생성\n",
        "print(pd.date_range(end='2012-06-01', periods=20))  #end를 기준으로 생성\n",
        "\n",
        "#빈도값 BM BusinessMonthEnd (주말이 아닌 평일 중에서 각 달의 마지막 날)\n",
        "print(pd.date_range('2000-01-01', '2000-12-01', freq='BM') )"
      ],
      "execution_count": 22,
      "outputs": [
        {
          "output_type": "display_data",
          "data": {
            "text/plain": [
              "2011-01-02    0.555662\n",
              "2011-01-05   -1.021371\n",
              "2011-01-07   -1.428447\n",
              "2011-01-08   -1.021198\n",
              "2011-01-10   -0.344437\n",
              "2011-01-12    2.032549\n",
              "dtype: float64"
            ]
          },
          "metadata": {
            "tags": []
          }
        },
        {
          "output_type": "stream",
          "text": [
            "DatetimeIndexResampler [freq=<Day>, axis=0, closed=left, label=left, convention=start, origin=start_day]\n",
            "DatetimeIndex(['2012-04-01', '2012-04-02', '2012-04-03', '2012-04-04',\n",
            "               '2012-04-05', '2012-04-06', '2012-04-07', '2012-04-08',\n",
            "               '2012-04-09', '2012-04-10', '2012-04-11', '2012-04-12',\n",
            "               '2012-04-13', '2012-04-14', '2012-04-15', '2012-04-16',\n",
            "               '2012-04-17', '2012-04-18', '2012-04-19', '2012-04-20',\n",
            "               '2012-04-21', '2012-04-22', '2012-04-23', '2012-04-24',\n",
            "               '2012-04-25', '2012-04-26', '2012-04-27', '2012-04-28',\n",
            "               '2012-04-29', '2012-04-30', '2012-05-01', '2012-05-02',\n",
            "               '2012-05-03', '2012-05-04', '2012-05-05', '2012-05-06',\n",
            "               '2012-05-07', '2012-05-08', '2012-05-09', '2012-05-10',\n",
            "               '2012-05-11', '2012-05-12', '2012-05-13', '2012-05-14',\n",
            "               '2012-05-15', '2012-05-16', '2012-05-17', '2012-05-18',\n",
            "               '2012-05-19', '2012-05-20', '2012-05-21', '2012-05-22',\n",
            "               '2012-05-23', '2012-05-24', '2012-05-25', '2012-05-26',\n",
            "               '2012-05-27', '2012-05-28', '2012-05-29', '2012-05-30',\n",
            "               '2012-05-31', '2012-06-01'],\n",
            "              dtype='datetime64[ns]', freq='D')\n",
            "DatetimeIndex(['2012-04-01', '2012-04-02', '2012-04-03', '2012-04-04',\n",
            "               '2012-04-05', '2012-04-06', '2012-04-07', '2012-04-08',\n",
            "               '2012-04-09', '2012-04-10', '2012-04-11', '2012-04-12',\n",
            "               '2012-04-13', '2012-04-14', '2012-04-15', '2012-04-16',\n",
            "               '2012-04-17', '2012-04-18', '2012-04-19', '2012-04-20'],\n",
            "              dtype='datetime64[ns]', freq='D')\n",
            "DatetimeIndex(['2012-05-13', '2012-05-14', '2012-05-15', '2012-05-16',\n",
            "               '2012-05-17', '2012-05-18', '2012-05-19', '2012-05-20',\n",
            "               '2012-05-21', '2012-05-22', '2012-05-23', '2012-05-24',\n",
            "               '2012-05-25', '2012-05-26', '2012-05-27', '2012-05-28',\n",
            "               '2012-05-29', '2012-05-30', '2012-05-31', '2012-06-01'],\n",
            "              dtype='datetime64[ns]', freq='D')\n",
            "DatetimeIndex(['2000-01-31', '2000-02-29', '2000-03-31', '2000-04-28',\n",
            "               '2000-05-31', '2000-06-30', '2000-07-31', '2000-08-31',\n",
            "               '2000-09-29', '2000-10-31', '2000-11-30'],\n",
            "              dtype='datetime64[ns]', freq='BM')\n"
          ],
          "name": "stdout"
        }
      ]
    },
    {
      "cell_type": "markdown",
      "metadata": {
        "id": "XLqCI9wrIYPd"
      },
      "source": [
        "- pandas에서 빈도는 기본 빈도와 배수의 조합으로 이루어진다."
      ]
    },
    {
      "cell_type": "code",
      "metadata": {
        "colab": {
          "base_uri": "https://localhost:8080/"
        },
        "id": "hZ43n_PoIboY",
        "outputId": "27b00551-f0cd-4129-aa07-f775d4b7d671"
      },
      "source": [
        "from pandas.tseries.offsets import Hour, Minute\n",
        "hour = Hour()\n",
        "print(hour)\n",
        "\n",
        "four_hours = Hour(4)  #Hour에 4를 넣으면 <4 * Hours>\n",
        "print(four_hours)\n",
        "\n",
        "print(pd.date_range('2000-01-01', '2000-01-03 23:59', freq='4h'))  #freq='4h 는 4시간 간격으로 출력\n",
        "print(pd.date_range('2000-01-01', '2000-01-03 23:59', freq=four_hours)) #위에 값과 동일, 위에서 4시간씩 *하기때문에\n",
        "print(pd.date_range('2000-01-01', '2000-01-03 23:59', freq=hour)) #1시간단위로 출력\n",
        "\n",
        "#여러 오프셋을 덧셈으로 합칠 수 있다\n",
        "print(Hour(2) + Minute(30))   #2시간30분씩  <150 * Minutes>\n",
        "\n",
        "print(pd.date_range('2000-01-01', periods=10, freq='1h30min'))  #10개의 기간을 1시간 30분단위로 출력\n",
        "\n",
        "rng = pd.date_range('2012-01-01', '2012-09-01', freq='WOM-3FRI') #WOM-3FRI = 각 달의 3번째 금요일\n",
        "list(rng)"
      ],
      "execution_count": 29,
      "outputs": [
        {
          "output_type": "stream",
          "text": [
            "<Hour>\n",
            "<4 * Hours>\n",
            "DatetimeIndex(['2000-01-01 00:00:00', '2000-01-01 04:00:00',\n",
            "               '2000-01-01 08:00:00', '2000-01-01 12:00:00',\n",
            "               '2000-01-01 16:00:00', '2000-01-01 20:00:00',\n",
            "               '2000-01-02 00:00:00', '2000-01-02 04:00:00',\n",
            "               '2000-01-02 08:00:00', '2000-01-02 12:00:00',\n",
            "               '2000-01-02 16:00:00', '2000-01-02 20:00:00',\n",
            "               '2000-01-03 00:00:00', '2000-01-03 04:00:00',\n",
            "               '2000-01-03 08:00:00', '2000-01-03 12:00:00',\n",
            "               '2000-01-03 16:00:00', '2000-01-03 20:00:00'],\n",
            "              dtype='datetime64[ns]', freq='4H')\n",
            "DatetimeIndex(['2000-01-01 00:00:00', '2000-01-01 04:00:00',\n",
            "               '2000-01-01 08:00:00', '2000-01-01 12:00:00',\n",
            "               '2000-01-01 16:00:00', '2000-01-01 20:00:00',\n",
            "               '2000-01-02 00:00:00', '2000-01-02 04:00:00',\n",
            "               '2000-01-02 08:00:00', '2000-01-02 12:00:00',\n",
            "               '2000-01-02 16:00:00', '2000-01-02 20:00:00',\n",
            "               '2000-01-03 00:00:00', '2000-01-03 04:00:00',\n",
            "               '2000-01-03 08:00:00', '2000-01-03 12:00:00',\n",
            "               '2000-01-03 16:00:00', '2000-01-03 20:00:00'],\n",
            "              dtype='datetime64[ns]', freq='4H')\n",
            "DatetimeIndex(['2000-01-01 00:00:00', '2000-01-01 01:00:00',\n",
            "               '2000-01-01 02:00:00', '2000-01-01 03:00:00',\n",
            "               '2000-01-01 04:00:00', '2000-01-01 05:00:00',\n",
            "               '2000-01-01 06:00:00', '2000-01-01 07:00:00',\n",
            "               '2000-01-01 08:00:00', '2000-01-01 09:00:00',\n",
            "               '2000-01-01 10:00:00', '2000-01-01 11:00:00',\n",
            "               '2000-01-01 12:00:00', '2000-01-01 13:00:00',\n",
            "               '2000-01-01 14:00:00', '2000-01-01 15:00:00',\n",
            "               '2000-01-01 16:00:00', '2000-01-01 17:00:00',\n",
            "               '2000-01-01 18:00:00', '2000-01-01 19:00:00',\n",
            "               '2000-01-01 20:00:00', '2000-01-01 21:00:00',\n",
            "               '2000-01-01 22:00:00', '2000-01-01 23:00:00',\n",
            "               '2000-01-02 00:00:00', '2000-01-02 01:00:00',\n",
            "               '2000-01-02 02:00:00', '2000-01-02 03:00:00',\n",
            "               '2000-01-02 04:00:00', '2000-01-02 05:00:00',\n",
            "               '2000-01-02 06:00:00', '2000-01-02 07:00:00',\n",
            "               '2000-01-02 08:00:00', '2000-01-02 09:00:00',\n",
            "               '2000-01-02 10:00:00', '2000-01-02 11:00:00',\n",
            "               '2000-01-02 12:00:00', '2000-01-02 13:00:00',\n",
            "               '2000-01-02 14:00:00', '2000-01-02 15:00:00',\n",
            "               '2000-01-02 16:00:00', '2000-01-02 17:00:00',\n",
            "               '2000-01-02 18:00:00', '2000-01-02 19:00:00',\n",
            "               '2000-01-02 20:00:00', '2000-01-02 21:00:00',\n",
            "               '2000-01-02 22:00:00', '2000-01-02 23:00:00',\n",
            "               '2000-01-03 00:00:00', '2000-01-03 01:00:00',\n",
            "               '2000-01-03 02:00:00', '2000-01-03 03:00:00',\n",
            "               '2000-01-03 04:00:00', '2000-01-03 05:00:00',\n",
            "               '2000-01-03 06:00:00', '2000-01-03 07:00:00',\n",
            "               '2000-01-03 08:00:00', '2000-01-03 09:00:00',\n",
            "               '2000-01-03 10:00:00', '2000-01-03 11:00:00',\n",
            "               '2000-01-03 12:00:00', '2000-01-03 13:00:00',\n",
            "               '2000-01-03 14:00:00', '2000-01-03 15:00:00',\n",
            "               '2000-01-03 16:00:00', '2000-01-03 17:00:00',\n",
            "               '2000-01-03 18:00:00', '2000-01-03 19:00:00',\n",
            "               '2000-01-03 20:00:00', '2000-01-03 21:00:00',\n",
            "               '2000-01-03 22:00:00', '2000-01-03 23:00:00'],\n",
            "              dtype='datetime64[ns]', freq='H')\n",
            "<150 * Minutes>\n",
            "DatetimeIndex(['2000-01-01 00:00:00', '2000-01-01 01:30:00',\n",
            "               '2000-01-01 03:00:00', '2000-01-01 04:30:00',\n",
            "               '2000-01-01 06:00:00', '2000-01-01 07:30:00',\n",
            "               '2000-01-01 09:00:00', '2000-01-01 10:30:00',\n",
            "               '2000-01-01 12:00:00', '2000-01-01 13:30:00'],\n",
            "              dtype='datetime64[ns]', freq='90T')\n"
          ],
          "name": "stdout"
        },
        {
          "output_type": "execute_result",
          "data": {
            "text/plain": [
              "[Timestamp('2012-01-20 00:00:00', freq='WOM-3FRI'),\n",
              " Timestamp('2012-02-17 00:00:00', freq='WOM-3FRI'),\n",
              " Timestamp('2012-03-16 00:00:00', freq='WOM-3FRI'),\n",
              " Timestamp('2012-04-20 00:00:00', freq='WOM-3FRI'),\n",
              " Timestamp('2012-05-18 00:00:00', freq='WOM-3FRI'),\n",
              " Timestamp('2012-06-15 00:00:00', freq='WOM-3FRI'),\n",
              " Timestamp('2012-07-20 00:00:00', freq='WOM-3FRI'),\n",
              " Timestamp('2012-08-17 00:00:00', freq='WOM-3FRI')]"
            ]
          },
          "metadata": {
            "tags": []
          },
          "execution_count": 29
        }
      ]
    },
    {
      "cell_type": "markdown",
      "metadata": {
        "id": "W3sEIZFhJ2s2"
      },
      "source": [
        "#### pandas 날짜 범위, 빈도, 이동\n",
        "- shift는 데이터를 시간 축에서 앞이나 뒤로 이동하는 것을 의미\n",
        "- shift() - Series와 DataFrame은 색인은 변경하지 않고 데이터를 앞이나 뒤로 느슨한 시프트를 수행"
      ]
    },
    {
      "cell_type": "code",
      "metadata": {
        "colab": {
          "base_uri": "https://localhost:8080/"
        },
        "id": "xs6NTfKANVbt",
        "outputId": "16b91b9b-1d19-413f-eaab-0a9aca5bbc01"
      },
      "source": [
        "ts = pd.Series(np.random.randn(4),\n",
        "index=pd.date_range('1/1/2000', periods=4, freq='M'))\n",
        "\n",
        "print(ts)\n",
        "print(ts.shift(2))  #shift = 날짜 범위 이동\n",
        "print(ts.shift(-2))\n",
        "print(ts.shift(2, freq='M'))  #월이 이동\n",
        "print(ts.shift(3, freq='D'))  #일자로 이동\n",
        "print(ts.shift(1, freq='90T'))  #90분"
      ],
      "execution_count": 30,
      "outputs": [
        {
          "output_type": "stream",
          "text": [
            "2000-01-31   -0.454547\n",
            "2000-02-29   -1.985071\n",
            "2000-03-31    1.067279\n",
            "2000-04-30    0.516663\n",
            "Freq: M, dtype: float64\n",
            "2000-01-31         NaN\n",
            "2000-02-29         NaN\n",
            "2000-03-31   -0.454547\n",
            "2000-04-30   -1.985071\n",
            "Freq: M, dtype: float64\n",
            "2000-01-31    1.067279\n",
            "2000-02-29    0.516663\n",
            "2000-03-31         NaN\n",
            "2000-04-30         NaN\n",
            "Freq: M, dtype: float64\n",
            "2000-03-31   -0.454547\n",
            "2000-04-30   -1.985071\n",
            "2000-05-31    1.067279\n",
            "2000-06-30    0.516663\n",
            "Freq: M, dtype: float64\n",
            "2000-02-03   -0.454547\n",
            "2000-03-03   -1.985071\n",
            "2000-04-03    1.067279\n",
            "2000-05-03    0.516663\n",
            "dtype: float64\n",
            "2000-01-31 01:30:00   -0.454547\n",
            "2000-02-29 01:30:00   -1.985071\n",
            "2000-03-31 01:30:00    1.067279\n",
            "2000-04-30 01:30:00    0.516663\n",
            "dtype: float64\n"
          ],
          "name": "stdout"
        }
      ]
    },
    {
      "cell_type": "markdown",
      "metadata": {
        "id": "oGETlNxbOM3r"
      },
      "source": [
        "#### resample 연산\n",
        "- resample() - 시간 간격을 재조정하는 리샘플링(resampling)이 가능하다.\n",
        "- 시간 구간이 작아지면 데이터 양이 증가한다고 해서 업-샘플링(up-sampling)이라 하고 시간 구간이 커지면 데이터\n",
        "양이 감소한다고 해서 다운-샘플링(down-sampling)이라 부른다.\n",
        "- 날짜가 아닌 시/분 단위에서는 구간위 왼쪽 한계값(가장 빠른 값)은 포함하고 오른쪽 한계값(가장 늦은 값)은 포함\n",
        "하지 않는다.\n",
        "- 왼쪽이 아니라 오른쪽 한계값을 구간에 포함하려면 closed=\"right\" 인수를 사용한다.\n",
        "- ohlc() - 구간의 시고저종(open, high, low, close)값을 구한다."
      ]
    },
    {
      "cell_type": "code",
      "metadata": {
        "colab": {
          "base_uri": "https://localhost:8080/"
        },
        "id": "m6roiF7zOZ7e",
        "outputId": "049fbd5a-f47d-4f63-ec1c-b731009b366b"
      },
      "source": [
        "ts = pd.Series(np.random.randn(100), index=pd.date_range( \"2018-1-1\", periods=100, freq=\"D\"))\n",
        "#1월1일부터 일자로 구간을 정해 100개\n",
        "print(ts.tail(20)) #끝에 20개 출력\n",
        "print(ts.resample('W').mean())   #W=일요일\n",
        "print(ts.resample('M').first())  #M=달의 마지막날"
      ],
      "execution_count": 33,
      "outputs": [
        {
          "output_type": "stream",
          "text": [
            "2018-03-22   -0.417399\n",
            "2018-03-23    0.234706\n",
            "2018-03-24   -0.377653\n",
            "2018-03-25   -1.164829\n",
            "2018-03-26   -0.755154\n",
            "2018-03-27   -0.841421\n",
            "2018-03-28   -1.066766\n",
            "2018-03-29    0.947633\n",
            "2018-03-30   -2.120330\n",
            "2018-03-31    0.039432\n",
            "2018-04-01   -0.802918\n",
            "2018-04-02   -0.911942\n",
            "2018-04-03   -1.203855\n",
            "2018-04-04    0.433098\n",
            "2018-04-05    0.875605\n",
            "2018-04-06    1.309833\n",
            "2018-04-07   -0.000067\n",
            "2018-04-08    0.521812\n",
            "2018-04-09   -2.111367\n",
            "2018-04-10    0.694617\n",
            "Freq: D, dtype: float64\n",
            "2018-01-07    0.185053\n",
            "2018-01-14    0.146386\n",
            "2018-01-21   -0.156095\n",
            "2018-01-28    0.391992\n",
            "2018-02-04    0.191336\n",
            "2018-02-11    0.523066\n",
            "2018-02-18   -0.186828\n",
            "2018-02-25    0.462134\n",
            "2018-03-04   -0.047259\n",
            "2018-03-11    0.522293\n",
            "2018-03-18    0.128602\n",
            "2018-03-25   -0.358600\n",
            "2018-04-01   -0.657075\n",
            "2018-04-08    0.146355\n",
            "2018-04-15   -0.708375\n",
            "Freq: W-SUN, dtype: float64\n",
            "2018-01-31    0.351928\n",
            "2018-02-28   -1.044910\n",
            "2018-03-31    0.144717\n",
            "2018-04-30   -0.802918\n",
            "Freq: M, dtype: float64\n"
          ],
          "name": "stdout"
        }
      ]
    },
    {
      "cell_type": "code",
      "metadata": {
        "colab": {
          "base_uri": "https://localhost:8080/"
        },
        "id": "t3CfZz1vPFJC",
        "outputId": "bac4aee6-524d-4876-8ca3-3993a5e4fde7"
      },
      "source": [
        "ts = pd.Series(np.random.randn(60), index=pd.date_range( \"2018-1-1\", periods=60, freq=\"T\"))\n",
        "#2018/1/1부터 분을 60개 시리즈로\n",
        "print(ts.head(20))  #앞20개\n",
        "print(ts.resample('10T').sum())  #10분씩 합\n",
        "print(ts.resample('10T', closed=\"right\").sum())  #한계값을 포함해서 10분씩 합\n",
        "print(ts.resample('5T').ohlc())  #ohlc() - 구간의 시고저종(open, high, low, close)값을 구한다."
      ],
      "execution_count": 35,
      "outputs": [
        {
          "output_type": "stream",
          "text": [
            "2018-01-01 00:00:00   -1.309365\n",
            "2018-01-01 00:01:00    0.996381\n",
            "2018-01-01 00:02:00   -0.419214\n",
            "2018-01-01 00:03:00   -0.511117\n",
            "2018-01-01 00:04:00   -1.617696\n",
            "2018-01-01 00:05:00   -0.535703\n",
            "2018-01-01 00:06:00   -0.232352\n",
            "2018-01-01 00:07:00    0.552810\n",
            "2018-01-01 00:08:00   -0.149426\n",
            "2018-01-01 00:09:00    0.570646\n",
            "2018-01-01 00:10:00    0.042114\n",
            "2018-01-01 00:11:00    1.213302\n",
            "2018-01-01 00:12:00    0.704013\n",
            "2018-01-01 00:13:00   -1.949418\n",
            "2018-01-01 00:14:00   -1.056339\n",
            "2018-01-01 00:15:00   -0.137770\n",
            "2018-01-01 00:16:00   -1.858814\n",
            "2018-01-01 00:17:00    0.772826\n",
            "2018-01-01 00:18:00    1.097694\n",
            "2018-01-01 00:19:00   -0.100471\n",
            "Freq: T, dtype: float64\n",
            "2018-01-01 00:00:00   -2.655035\n",
            "2018-01-01 00:10:00   -1.272863\n",
            "2018-01-01 00:20:00   -2.328691\n",
            "2018-01-01 00:30:00   -1.507758\n",
            "2018-01-01 00:40:00    2.496700\n",
            "2018-01-01 00:50:00    2.674656\n",
            "Freq: 10T, dtype: float64\n",
            "2017-12-31 23:50:00   -1.309365\n",
            "2018-01-01 00:00:00   -1.303556\n",
            "2018-01-01 00:10:00   -1.290581\n",
            "2018-01-01 00:20:00   -2.326228\n",
            "2018-01-01 00:30:00   -0.341928\n",
            "2018-01-01 00:40:00    0.827120\n",
            "2018-01-01 00:50:00    3.151547\n",
            "Freq: 10T, dtype: float64\n",
            "                         open      high       low     close\n",
            "2018-01-01 00:00:00 -1.309365  0.996381 -1.617696 -1.617696\n",
            "2018-01-01 00:05:00 -0.535703  0.570646 -0.535703  0.570646\n",
            "2018-01-01 00:10:00  0.042114  1.213302 -1.949418 -1.056339\n",
            "2018-01-01 00:15:00 -0.137770  1.097694 -1.858814 -0.100471\n",
            "2018-01-01 00:20:00  0.024396  1.245857 -0.763189  1.245857\n",
            "2018-01-01 00:25:00 -0.141768  0.063669 -1.566336  0.063669\n",
            "2018-01-01 00:30:00  0.026860  0.026860 -1.731979 -0.138435\n",
            "2018-01-01 00:35:00 -1.766748  1.509892 -1.766748  1.085157\n",
            "2018-01-01 00:40:00  1.192690  2.108066 -0.435142  0.853917\n",
            "2018-01-01 00:45:00 -0.991651  1.081896 -1.681388  0.574792\n",
            "2018-01-01 00:50:00 -0.476891  2.010823 -1.177020 -1.177020\n",
            "2018-01-01 00:55:00  0.093280  1.443691 -0.707592  1.443691\n"
          ],
          "name": "stdout"
        }
      ]
    },
    {
      "cell_type": "markdown",
      "metadata": {
        "id": "1jF_M4YsQcYw"
      },
      "source": [
        "- 업-샘플링의 경우에는 실제로 존재하지 않는 데이터를 만들어야 한다.\n",
        "- 업-샘플링의 경우, 앞에서 나온 데이터를 뒤에서 그대로 쓰는 forward filling 방식과 뒤에서 나올 데이터를 앞에서\n",
        "미리 쓰는 backward filling 방식을 사용할 수 있다.\n",
        "- ffill(), bfill()\n",
        "- datetime 자료형 Series의 dt 접근자 - datetime 자료형이 가진 몇가지 유용한 속성과 메서드를 사용할 수 있다."
      ]
    },
    {
      "cell_type": "code",
      "metadata": {
        "colab": {
          "base_uri": "https://localhost:8080/"
        },
        "id": "1HgcBoMmQfkV",
        "outputId": "7ff1c5b4-0603-489e-9b8b-751a82762fc9"
      },
      "source": [
        "print(ts.resample('30s').ffill().head(20))\n",
        "print(ts.resample('30s').bfill().head(20))\n",
        "\n",
        "s = pd.Series(pd.date_range(\"2020-12-25\", periods=100, freq=\"D\"))\n",
        "print(s)\n",
        "print(s.dt.year)\n",
        "print(s.dt.weekday)  #여기서 0,1,2,3,4,5,6은 월화수목금토일을 뜻함\n",
        "#strftime() - 문자열을 만듬\n",
        "print(s.dt.strftime(\"%Y년 %m월 %d일\"))"
      ],
      "execution_count": 36,
      "outputs": [
        {
          "output_type": "stream",
          "text": [
            "2018-01-01 00:00:00   -1.309365\n",
            "2018-01-01 00:00:30   -1.309365\n",
            "2018-01-01 00:01:00    0.996381\n",
            "2018-01-01 00:01:30    0.996381\n",
            "2018-01-01 00:02:00   -0.419214\n",
            "2018-01-01 00:02:30   -0.419214\n",
            "2018-01-01 00:03:00   -0.511117\n",
            "2018-01-01 00:03:30   -0.511117\n",
            "2018-01-01 00:04:00   -1.617696\n",
            "2018-01-01 00:04:30   -1.617696\n",
            "2018-01-01 00:05:00   -0.535703\n",
            "2018-01-01 00:05:30   -0.535703\n",
            "2018-01-01 00:06:00   -0.232352\n",
            "2018-01-01 00:06:30   -0.232352\n",
            "2018-01-01 00:07:00    0.552810\n",
            "2018-01-01 00:07:30    0.552810\n",
            "2018-01-01 00:08:00   -0.149426\n",
            "2018-01-01 00:08:30   -0.149426\n",
            "2018-01-01 00:09:00    0.570646\n",
            "2018-01-01 00:09:30    0.570646\n",
            "Freq: 30S, dtype: float64\n",
            "2018-01-01 00:00:00   -1.309365\n",
            "2018-01-01 00:00:30    0.996381\n",
            "2018-01-01 00:01:00    0.996381\n",
            "2018-01-01 00:01:30   -0.419214\n",
            "2018-01-01 00:02:00   -0.419214\n",
            "2018-01-01 00:02:30   -0.511117\n",
            "2018-01-01 00:03:00   -0.511117\n",
            "2018-01-01 00:03:30   -1.617696\n",
            "2018-01-01 00:04:00   -1.617696\n",
            "2018-01-01 00:04:30   -0.535703\n",
            "2018-01-01 00:05:00   -0.535703\n",
            "2018-01-01 00:05:30   -0.232352\n",
            "2018-01-01 00:06:00   -0.232352\n",
            "2018-01-01 00:06:30    0.552810\n",
            "2018-01-01 00:07:00    0.552810\n",
            "2018-01-01 00:07:30   -0.149426\n",
            "2018-01-01 00:08:00   -0.149426\n",
            "2018-01-01 00:08:30    0.570646\n",
            "2018-01-01 00:09:00    0.570646\n",
            "2018-01-01 00:09:30    0.042114\n",
            "Freq: 30S, dtype: float64\n",
            "0    2020-12-25\n",
            "1    2020-12-26\n",
            "2    2020-12-27\n",
            "3    2020-12-28\n",
            "4    2020-12-29\n",
            "        ...    \n",
            "95   2021-03-30\n",
            "96   2021-03-31\n",
            "97   2021-04-01\n",
            "98   2021-04-02\n",
            "99   2021-04-03\n",
            "Length: 100, dtype: datetime64[ns]\n",
            "0     2020\n",
            "1     2020\n",
            "2     2020\n",
            "3     2020\n",
            "4     2020\n",
            "      ... \n",
            "95    2021\n",
            "96    2021\n",
            "97    2021\n",
            "98    2021\n",
            "99    2021\n",
            "Length: 100, dtype: int64\n",
            "0     4\n",
            "1     5\n",
            "2     6\n",
            "3     0\n",
            "4     1\n",
            "     ..\n",
            "95    1\n",
            "96    2\n",
            "97    3\n",
            "98    4\n",
            "99    5\n",
            "Length: 100, dtype: int64\n",
            "0     2020년 12월 25일\n",
            "1     2020년 12월 26일\n",
            "2     2020년 12월 27일\n",
            "3     2020년 12월 28일\n",
            "4     2020년 12월 29일\n",
            "          ...      \n",
            "95    2021년 03월 30일\n",
            "96    2021년 03월 31일\n",
            "97    2021년 04월 01일\n",
            "98    2021년 04월 02일\n",
            "99    2021년 04월 03일\n",
            "Length: 100, dtype: object\n"
          ],
          "name": "stdout"
        }
      ]
    },
    {
      "cell_type": "markdown",
      "metadata": {
        "id": "xaCBwhv1REiW"
      },
      "source": [
        "#### 시계열 데이터에서 누락된 값 처리\n",
        "- 시계열 데이터에서는 보간(interpolation)방법을 사용하여 누락된 값으로 생긴 간격을 채움.\n",
        "- 보간 - 누락된 값의 양쪽 경계를 잇는 직선이나 곡선을 사용하여 적절한 값을 예측함으로써 비어 있는 간극을 채우\n",
        "는 기법\n",
        "- 시간 간격이 일정하고, 데이터가 노이즈로 인한 변동이 심하지 않고 누락된 값으로 인한 빈 간극이 작을 때 보간\n",
        "방법이 유용\n",
        "- 두 포인트 사이의 직선이 비선형이라고 가정하면 interpolate의 method 매개변수를 사용해 다른 보간 방법을 지정\n",
        "할 수 있습니다.\n",
        "- 누락된 값의 간격이 커서 전체 간격을 보간하는 것이 좋지 않을 때는 limit 매개변수를 사용하여 보간 값의 개수를 제한하고 limit_direction 매개변수에서 마지막 데이터로 앞쪽 방향으로 보간할지 그 반대로 할지 지정할 수 있습\n",
        "니다."
      ]
    },
    {
      "cell_type": "code",
      "metadata": {
        "colab": {
          "base_uri": "https://localhost:8080/",
          "height": 300
        },
        "id": "sSdXv7WmRI8f",
        "outputId": "bdbc0184-0398-43ff-84f2-a68aa77ac60b"
      },
      "source": [
        "time_index = pd.date_range(\"01/01/2010\", periods=5, freq=\"M\")\n",
        "dataframe = pd.DataFrame(index=time_index) # 데이터프레임을 만들고 인덱스를 지정\n",
        "\n",
        "dataframe[\"Sales\"] = [1.0,2.0,np.nan,np.nan,5.0]   # 누락된 값이 있는 특성을 만듬\n",
        "dataframe.interpolate()   # 누락된 값을 보간\n",
        "\n",
        "print(dataframe)\n",
        "#print(dataframe.ffill())\n",
        "#print(dataframe.bfill())\n",
        "\n",
        "dataframe.ffill() # 앞쪽으로 채우기(Forward-fill)\n",
        "dataframe.bfill() # 뒤쪽으로 채우기(Back-fill)\n",
        "dataframe.interpolate(method=\"quadratic\") # 비선형의 경우 보간 방법 변경\n",
        "dataframe.interpolate(limit=1, limit_direction=\"forward\") #보간 방향 지정 , limit=1은 1개만 채우라는 것 forward는 진행방향으로"
      ],
      "execution_count": 40,
      "outputs": [
        {
          "output_type": "stream",
          "text": [
            "            Sales\n",
            "2010-01-31    1.0\n",
            "2010-02-28    2.0\n",
            "2010-03-31    NaN\n",
            "2010-04-30    NaN\n",
            "2010-05-31    5.0\n"
          ],
          "name": "stdout"
        },
        {
          "output_type": "execute_result",
          "data": {
            "text/html": [
              "<div>\n",
              "<style scoped>\n",
              "    .dataframe tbody tr th:only-of-type {\n",
              "        vertical-align: middle;\n",
              "    }\n",
              "\n",
              "    .dataframe tbody tr th {\n",
              "        vertical-align: top;\n",
              "    }\n",
              "\n",
              "    .dataframe thead th {\n",
              "        text-align: right;\n",
              "    }\n",
              "</style>\n",
              "<table border=\"1\" class=\"dataframe\">\n",
              "  <thead>\n",
              "    <tr style=\"text-align: right;\">\n",
              "      <th></th>\n",
              "      <th>Sales</th>\n",
              "    </tr>\n",
              "  </thead>\n",
              "  <tbody>\n",
              "    <tr>\n",
              "      <th>2010-01-31</th>\n",
              "      <td>1.0</td>\n",
              "    </tr>\n",
              "    <tr>\n",
              "      <th>2010-02-28</th>\n",
              "      <td>2.0</td>\n",
              "    </tr>\n",
              "    <tr>\n",
              "      <th>2010-03-31</th>\n",
              "      <td>3.0</td>\n",
              "    </tr>\n",
              "    <tr>\n",
              "      <th>2010-04-30</th>\n",
              "      <td>NaN</td>\n",
              "    </tr>\n",
              "    <tr>\n",
              "      <th>2010-05-31</th>\n",
              "      <td>5.0</td>\n",
              "    </tr>\n",
              "  </tbody>\n",
              "</table>\n",
              "</div>"
            ],
            "text/plain": [
              "            Sales\n",
              "2010-01-31    1.0\n",
              "2010-02-28    2.0\n",
              "2010-03-31    3.0\n",
              "2010-04-30    NaN\n",
              "2010-05-31    5.0"
            ]
          },
          "metadata": {
            "tags": []
          },
          "execution_count": 40
        }
      ]
    },
    {
      "cell_type": "markdown",
      "metadata": {
        "id": "cd2PhbmqSU8n"
      },
      "source": [
        "#### 이동 시간 윈도 사용\n",
        "- 시계열 데이터에서 일정 시간 간격으로 통계를 계산할 수 있습니다.\n",
        "- 예] 세 달을 시간 윈도로 이동 평균을 계산 : mean(January, February, March) , mean(February, March, April), mean(March, April, May ) 세 달 크기의 시간 윈도가 각 단계마다 윈도의 평균을 계산하면서 샘플 위를 이동합니다.\n",
        "- rolling() - window 매개변수에서 윈도 크기를 지정합니다.\n",
        "- 시간 윈도의 max(), mean(), count(), corr()와 같은 통계를 간편하게 계산할 수 있습니다.\n",
        "- ewm() - 최근 항목에 높은 가중치를 두지만 전체 기간에 대한 통계를 계산하는 지수 이동 윈도"
      ]
    },
    {
      "cell_type": "code",
      "metadata": {
        "colab": {
          "base_uri": "https://localhost:8080/",
          "height": 407
        },
        "id": "CJdwS4mPSem6",
        "outputId": "7ba9d785-080b-45ac-f40c-c9bacff9b9a5"
      },
      "source": [
        "import pandas as pd\n",
        "\n",
        "# datetime을 만듭니다.\n",
        "time_index = pd.date_range(\"01/01/2010\", periods=5, freq=\"M\")\n",
        "# 데이터프레임을 만들고 인덱스를 설정합니다.\n",
        "dataframe = pd.DataFrame(index=time_index)\n",
        "\n",
        "dataframe[\"Stock_Price\"] = [1,2,3,4,5] # 특성을 만듭니다.\n",
        "print(dataframe)\n",
        "print(dataframe.rolling(window=2).mean()) # 이동 평균을 계산\n",
        "\n",
        "dataframe.ewm(alpha=0.5).mean()"
      ],
      "execution_count": 43,
      "outputs": [
        {
          "output_type": "stream",
          "text": [
            "            Stock_Price\n",
            "2010-01-31            1\n",
            "2010-02-28            2\n",
            "2010-03-31            3\n",
            "2010-04-30            4\n",
            "2010-05-31            5\n",
            "            Stock_Price\n",
            "2010-01-31          NaN\n",
            "2010-02-28          1.5\n",
            "2010-03-31          2.5\n",
            "2010-04-30          3.5\n",
            "2010-05-31          4.5\n"
          ],
          "name": "stdout"
        },
        {
          "output_type": "execute_result",
          "data": {
            "text/html": [
              "<div>\n",
              "<style scoped>\n",
              "    .dataframe tbody tr th:only-of-type {\n",
              "        vertical-align: middle;\n",
              "    }\n",
              "\n",
              "    .dataframe tbody tr th {\n",
              "        vertical-align: top;\n",
              "    }\n",
              "\n",
              "    .dataframe thead th {\n",
              "        text-align: right;\n",
              "    }\n",
              "</style>\n",
              "<table border=\"1\" class=\"dataframe\">\n",
              "  <thead>\n",
              "    <tr style=\"text-align: right;\">\n",
              "      <th></th>\n",
              "      <th>Stock_Price</th>\n",
              "    </tr>\n",
              "  </thead>\n",
              "  <tbody>\n",
              "    <tr>\n",
              "      <th>2010-01-31</th>\n",
              "      <td>1.000000</td>\n",
              "    </tr>\n",
              "    <tr>\n",
              "      <th>2010-02-28</th>\n",
              "      <td>1.666667</td>\n",
              "    </tr>\n",
              "    <tr>\n",
              "      <th>2010-03-31</th>\n",
              "      <td>2.428571</td>\n",
              "    </tr>\n",
              "    <tr>\n",
              "      <th>2010-04-30</th>\n",
              "      <td>3.266667</td>\n",
              "    </tr>\n",
              "    <tr>\n",
              "      <th>2010-05-31</th>\n",
              "      <td>4.161290</td>\n",
              "    </tr>\n",
              "  </tbody>\n",
              "</table>\n",
              "</div>"
            ],
            "text/plain": [
              "            Stock_Price\n",
              "2010-01-31     1.000000\n",
              "2010-02-28     1.666667\n",
              "2010-03-31     2.428571\n",
              "2010-04-30     3.266667\n",
              "2010-05-31     4.161290"
            ]
          },
          "metadata": {
            "tags": []
          },
          "execution_count": 43
        }
      ]
    }
  ]
}