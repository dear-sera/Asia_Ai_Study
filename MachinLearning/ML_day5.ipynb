{
  "nbformat": 4,
  "nbformat_minor": 0,
  "metadata": {
    "colab": {
      "name": "ML_day5.ipynb",
      "provenance": [],
      "authorship_tag": "ABX9TyM/leLvwP51/iEEH+Sq0iJr",
      "include_colab_link": true
    },
    "kernelspec": {
      "name": "python3",
      "display_name": "Python 3"
    },
    "language_info": {
      "name": "python"
    }
  },
  "cells": [
    {
      "cell_type": "markdown",
      "metadata": {
        "id": "view-in-github",
        "colab_type": "text"
      },
      "source": [
        "<a href=\"https://colab.research.google.com/github/sera0911/asia_ai_study/blob/main/MachinLearning/ML_day5.ipynb\" target=\"_parent\"><img src=\"https://colab.research.google.com/assets/colab-badge.svg\" alt=\"Open In Colab\"/></a>"
      ]
    },
    {
      "cell_type": "markdown",
      "metadata": {
        "id": "nYcoPpySWs_x"
      },
      "source": [
        "### ML_day4 정리\n",
        "\n",
        "머신러닝 과정:   \n",
        "데이터 수집 > 데이터 정제 및 전처리 > 데이터 변환 (행렬, 벡터 수치화) > 특성 추출, 선택을 통한 차원 축소\n",
        "\n",
        "#### 교차검증 - Kfold와 StratifiedKfold (n_split) :   \n",
        "데이터 편중을 막기 위해서 별도의 여러 세트로 구성된 학습 데이터 세트와 검증 데이터 세트에서 학습과 평가를 수행하는 것\n",
        "\n",
        "RepeatedKFold, StratifiedRepeatedKFold :  \n",
        "교차 검증을 반복하여 실행시키기 위해 사용하는 클래스\n",
        "\n",
        "cross_val_score(scoring): 분류 분석 예측 평가 함수\n",
        "\n",
        "분류 분석 예측 평가 지표 :\n",
        "Acuuracy : TP + TN / (TP + FN + FP + TN)\n",
        "\n",
        "정밀도(precision)  : 양성으로 예측한 샘플 중에서 진짜 양성 비율  TP/ (TP + FP)  \n",
        "\n",
        "재현율(recall) : 진짜 양성 샘플 중에서 양성으로 예측한 비율  TP/ (TP + FN)\n",
        "\n",
        "정밀도와 재현율의 조화 평균 : F1 = (precision X recall) / (precision + recall) X 2  \n",
        "\n",
        "\n",
        "ROC : 정밀도와 재현율의 임계값의 변화에 따라 평가 지표 변화를 곡선 형태로 표현하는 지표  \n",
        "ROC곡선 아래 면적 - AUC  \n",
        "precision_recall_curve()  \n",
        "cross_validate()  \n",
        "\n",
        "confusion_martrix() - 오차 행렬 반환\n",
        "\n",
        "precision_socre(), recall_score(), accuracy_score()  \n",
        "\n",
        "predict_proba() - 개별 데이터별로 예측 확률을 반환\n",
        "\n",
        "\n",
        "#### 회귀모델 평가 - 실제값과 예측값의 차이 (오차, 잔차)\n",
        "\n",
        "잔차 계산하는 방식 - MAE, MSE, RMSE, MAPE, MPE, MSLE, RMSLE  \n",
        "희귀 모델 설명력 평가 지표 - 예측값 Variance/ 실제값 Variance, R²\n",
        "\n",
        "#### 군집(클러스터링) 모델 평가 \n",
        "\n",
        "실루엣 계수 : 분자는 군집 간 거리의 최소값이며 분모는 군집 내에서 거리의 최대값 지표를 사용함\n",
        "\n",
        "silgouette_score() : -1에서 1 사이의 값을 가지며, 1로 가까워질수록 근처 군집과 더 멀리 떨어져 있는 것이고 0에 가까워질수록 근처 군집과 가까운 것이다  \n",
        "\n",
        "클러스터링 개수 :   \n",
        "1. Silhouette Method을 이용한 군집의 개수 결정\n",
        "2. Elbow Method을 이용한 군집의 개수 결정 \n",
        "3. 계층적 군집분석의 덴드로그램 시각화를 이용한 군집의 개수 결정\n",
        "\n",
        "\n",
        "\n",
        "#### 이미지 처리\n",
        "커널 :  이미지를 흐리게 하려면 각 픽셀을 주변 픽셀의 평균값으로 변환, 투명도 처리에 수행되는 연산\n",
        "\n",
        "cv2.blur(), filter2D(), GaussianBlur()  \n",
        "\n",
        "히스토그램 평활화, equalizeHist() - 관심 대상을 다른 객체나 배경과 잘 구분되도록 만드는 이미지 대비 높이기\n",
        "\n",
        "bitwise_and() : 이미지에서 한 색상을 구분하려면 색 범위를 정의하고 이미지에 마스크를 적용\n",
        "\n",
        "이미지 이진화 - thresholding, adaptive, thresholding\n",
        "\n",
        "이미지의 전경만 분리해내려면 원하는 전경 주위에 사각형 박스를 그리고 그랩컷 알고리즘을 실행\n",
        "\n",
        "경계선 감지 - 캐니(Canny) 경계선 감지기\n",
        "\n",
        "모서리 감지기 - cornerHarris(), Shi-Tomasi 모서리 감지기(goodFeatyresToTrack)\n",
        "\n",
        "flatten() : 이미지 데이터가 담긴 다차원 배열을 1차원의 벡터로 변환\n",
        "\n",
        "\n",
        "\n"
      ]
    },
    {
      "cell_type": "markdown",
      "metadata": {
        "id": "AfWE7ijOe_MP"
      },
      "source": [
        "### ML_day5 시작\n",
        "\n",
        "#### 모델 선택\n",
        "\n",
        "LogisticRegression:  \n",
        "선형 회귀 계열의 로지스틱 회귀는 데이터의 정규 분포도에 따라 예측 성능 영향을 받을 수 있으므로 표준 스케일링으로 변환 후 데이터 셋을 분리  \n",
        "panalty는 규제의 유형  \n",
        "C는 규제 강도 - C 값이 작을 수록 규제 강도가 크다"
      ]
    },
    {
      "cell_type": "markdown",
      "metadata": {
        "id": "TqFHHeAZoYdK"
      },
      "source": [
        "#### GridSearchCV  \n",
        "\n",
        "• 완전 탐색을 사용해 최선의 모델 선택  \n",
        "\n",
        "• 하이퍼파라미터 범위를 검사하여 최선의 모델을 선택하려면 사이킷런의 GridSearchCV를 사용합니다.\n",
        "\n",
        "• 사용자는 하나 이상의 하이퍼파라미터에 대해 가능성이 있는 값을 정의합니다.\n",
        "\n",
        "• GridSearchCV는 모든 값의 조합에 대해 모델을 훈련하고 최고 성능 점수를 내는 모델이 최선의 모델로 선택됩니다.\n",
        "\n",
        "• GridSearchCV는 교차검증을 사용하여 모델을 선택하는 브루트포스(brute-force)한 방법입니다."
      ]
    },
    {
      "cell_type": "code",
      "metadata": {
        "colab": {
          "base_uri": "https://localhost:8080/"
        },
        "id": "3dxq-OkvwBCZ",
        "outputId": "e86520ee-76b2-4fd3-cc99-962590722200"
      },
      "source": [
        "!nvidia-smi"
      ],
      "execution_count": 1,
      "outputs": [
        {
          "output_type": "stream",
          "text": [
            "NVIDIA-SMI has failed because it couldn't communicate with the NVIDIA driver. Make sure that the latest NVIDIA driver is installed and running.\n",
            "\n"
          ],
          "name": "stdout"
        }
      ]
    },
    {
      "cell_type": "code",
      "metadata": {
        "id": "ci1r1fJIrWKo"
      },
      "source": [
        "import warnings\n",
        "warnings.filterwarnings(action='ignore')"
      ],
      "execution_count": 2,
      "outputs": []
    },
    {
      "cell_type": "code",
      "metadata": {
        "colab": {
          "base_uri": "https://localhost:8080/"
        },
        "id": "fIricBIjVlbC",
        "outputId": "54db3dd7-54ac-461b-a92f-4cf359f489d8"
      },
      "source": [
        "#로지스틱 회귀에서 C와 규제 페널티 값의 각 조합에 대해 모델을 훈련하고 k-폴드 교차검증으로 평가.\n",
        "#C의 값이 10개이고 규제 페널티는 두 개, 폴드 수는 5( 총 10X2X5=100개의 모델 후보 중에서 가장 좋은 것을 선택)\n",
        "import numpy as np\n",
        "from sklearn import linear_model, datasets\n",
        "from sklearn.model_selection import GridSearchCV\n",
        "from sklearn.linear_model import  LogisticRegression\n",
        "\n",
        "iris = datasets.load_iris() # 데이터 로드\n",
        "features = iris.data\n",
        "target = iris.target\n",
        "\n",
        "logistic = linear_model.LogisticRegression(solver='liblinear', max_iter=1000)  # 로지스틱 회귀 모델 객체 생성\n",
        "penalty = ['l1', 'l2'] # 페널티(penalty) 하이퍼파라미터 값의 후보를 만듭니다.\n",
        "\n",
        "C = np.logspace(0, 4, 10) # 규제 하이퍼파라미터 값의 후보 범위를 만듭니다.\n",
        "print(C)\n",
        "\n",
        "hyperparameters = dict(C=C, penalty=penalty) # 하이퍼파라미터 후보 딕셔너리를 만듭니다.\n",
        "print(hyperparameters)"
      ],
      "execution_count": 3,
      "outputs": [
        {
          "output_type": "stream",
          "text": [
            "[1.00000000e+00 2.78255940e+00 7.74263683e+00 2.15443469e+01\n",
            " 5.99484250e+01 1.66810054e+02 4.64158883e+02 1.29154967e+03\n",
            " 3.59381366e+03 1.00000000e+04]\n",
            "{'C': array([1.00000000e+00, 2.78255940e+00, 7.74263683e+00, 2.15443469e+01,\n",
            "       5.99484250e+01, 1.66810054e+02, 4.64158883e+02, 1.29154967e+03,\n",
            "       3.59381366e+03, 1.00000000e+04]), 'penalty': ['l1', 'l2']}\n"
          ],
          "name": "stdout"
        }
      ]
    },
    {
      "cell_type": "markdown",
      "metadata": {
        "id": "v1JFpTculTdq"
      },
      "source": [
        "• verbose 매개변수 - 탐색 시간이 긴 경우에 잘 진행되는지 확인할 수 있는 옵션\n",
        "\n",
        "• verbose 매개변수 - 탐색 과정에서 출력되는 메시지의 양을 결정\n",
        "\n",
        "• 0은 아무것도 출력하지 않고 1에서 3까지 갈수록 자세한 메시지를 출력"
      ]
    },
    {
      "cell_type": "code",
      "metadata": {
        "colab": {
          "base_uri": "https://localhost:8080/"
        },
        "id": "DuBc7tQblqp0",
        "outputId": "bce1118b-58d6-4d3c-a415-6a43ec654a8e"
      },
      "source": [
        "gridsearch = GridSearchCV(logistic, hyperparameters, cv=5, verbose=0) # 그리드 서치 객체 생성\n",
        "best_model = gridsearch.fit(features, target) # 그리드 서치 수행\n",
        "\n",
        "# 최선의 하이퍼파라미터를 확인합니다.\n",
        "print('가장 좋은 페널티:', best_model.best_estimator_.get_params()['penalty'])\n",
        "print('가장 좋은 C 값:', best_model.best_estimator_.get_params()['C'])\n",
        "\n",
        "best_model.predict(features) #타깃 벡터 예측"
      ],
      "execution_count": 4,
      "outputs": [
        {
          "output_type": "stream",
          "text": [
            "가장 좋은 페널티: l1\n",
            "가장 좋은 C 값: 7.742636826811269\n"
          ],
          "name": "stdout"
        },
        {
          "output_type": "execute_result",
          "data": {
            "text/plain": [
              "array([0, 0, 0, 0, 0, 0, 0, 0, 0, 0, 0, 0, 0, 0, 0, 0, 0, 0, 0, 0, 0, 0,\n",
              "       0, 0, 0, 0, 0, 0, 0, 0, 0, 0, 0, 0, 0, 0, 0, 0, 0, 0, 0, 0, 0, 0,\n",
              "       0, 0, 0, 0, 0, 0, 1, 1, 1, 1, 1, 1, 1, 1, 1, 1, 1, 1, 1, 1, 1, 1,\n",
              "       1, 1, 1, 1, 2, 1, 1, 1, 1, 1, 1, 1, 1, 1, 1, 1, 1, 2, 1, 1, 1, 1,\n",
              "       1, 1, 1, 1, 1, 1, 1, 1, 1, 1, 1, 1, 2, 2, 2, 2, 2, 2, 2, 2, 2, 2,\n",
              "       2, 2, 2, 2, 2, 2, 2, 2, 2, 2, 2, 2, 2, 2, 2, 2, 2, 2, 2, 2, 2, 2,\n",
              "       2, 1, 2, 2, 2, 2, 2, 2, 2, 2, 2, 2, 2, 2, 2, 2, 2, 2])"
            ]
          },
          "metadata": {
            "tags": []
          },
          "execution_count": 4
        }
      ]
    },
    {
      "cell_type": "markdown",
      "metadata": {
        "id": "smVZovD5rAYF"
      },
      "source": [
        "#### RandomizedSearchCV\n",
        "\n",
        "• RandomizedSearchCV는 완전 탐색보다 최선의 모델을 선택하는데 계산 비용이 적게 듭니다.\n",
        "\n",
        "• RandomizedSearchCV는 사용자가 제공한 분포(예: 정규분포나 균등 분포)에서 랜덤한 하이퍼파라미터 조합을 지정된 횟수만큼 추출하여 조사하는 것입니다.\n",
        "\n",
        "• RandomizedSearchCV에 분포를 지정하면 이 분포에서 중복을 허용하지 않도록 하이퍼파라미터 값을 랜덤하게 샘플링합니다."
      ]
    },
    {
      "cell_type": "code",
      "metadata": {
        "id": "XdTVI_DQrOh1"
      },
      "source": [
        "from scipy.stats import uniform\n",
        "from sklearn import linear_model, datasets\n",
        "from sklearn.model_selection import RandomizedSearchCV\n",
        "\n",
        "iris = datasets.load_iris() # 데이터 로드\n",
        "features = iris.data\n",
        "target = iris.target\n",
        "\n",
        "logistic = linear_model.LogisticRegression() # 로지스틱 회귀 모델 생성\n",
        "penalty = ['l1', 'l2'] # 페널티 하이퍼파라미터 후보를 만듭니다.\n",
        "C = uniform(loc=0, scale=4) # 규제 하이퍼파라미터 값의 후보를 위한 분포를 만듭니다.\n",
        "hyperparameters = dict(C=C, penalty=penalty) # 하이퍼파라미터 옵션을 만듭니다.\n",
        "\n",
        "# 랜덤 서치 객체 생성\n",
        "randomizedsearch = RandomizedSearchCV(logistic, hyperparameters, random_state=1, n_iter=100,\n",
        "cv=5, verbose=0, n_jobs=-1)\n",
        "best_model = randomizedsearch.fit(features, target) # 랜덤 서치 수행"
      ],
      "execution_count": 5,
      "outputs": []
    },
    {
      "cell_type": "code",
      "metadata": {
        "colab": {
          "base_uri": "https://localhost:8080/"
        },
        "id": "is-zAWwysSPi",
        "outputId": "e82bb108-4d6e-402f-a364-1770e6c88157"
      },
      "source": [
        "# 0~4 사이의 균등 분포를 정의하고 10개의 값을 샘플링합니다.\n",
        "uniform(loc=0, scale=4).rvs(10)\n",
        "\n",
        "# 최선의 하이퍼파라미터를 확인\n",
        "print('가장 좋은 페널티:', best_model.best_estimator_.get_params()['penalty'])\n",
        "print('가장 좋은 C 값:', best_model.best_estimator_.get_params()['C'])\n",
        "\n",
        "# 타깃 벡터 예측\n",
        "best_model.predict(features)"
      ],
      "execution_count": 6,
      "outputs": [
        {
          "output_type": "stream",
          "text": [
            "가장 좋은 페널티: l2\n",
            "가장 좋은 C 값: 3.730229437354635\n"
          ],
          "name": "stdout"
        },
        {
          "output_type": "execute_result",
          "data": {
            "text/plain": [
              "array([0, 0, 0, 0, 0, 0, 0, 0, 0, 0, 0, 0, 0, 0, 0, 0, 0, 0, 0, 0, 0, 0,\n",
              "       0, 0, 0, 0, 0, 0, 0, 0, 0, 0, 0, 0, 0, 0, 0, 0, 0, 0, 0, 0, 0, 0,\n",
              "       0, 0, 0, 0, 0, 0, 1, 1, 1, 1, 1, 1, 1, 1, 1, 1, 1, 1, 1, 1, 1, 1,\n",
              "       1, 1, 1, 1, 2, 1, 1, 1, 1, 1, 1, 1, 1, 1, 1, 1, 1, 2, 1, 1, 1, 1,\n",
              "       1, 1, 1, 1, 1, 1, 1, 1, 1, 1, 1, 1, 2, 2, 2, 2, 2, 2, 2, 2, 2, 2,\n",
              "       2, 2, 2, 2, 2, 2, 2, 2, 2, 2, 2, 2, 2, 2, 2, 2, 2, 2, 2, 2, 2, 2,\n",
              "       2, 2, 2, 2, 2, 2, 2, 2, 2, 2, 2, 2, 2, 2, 2, 2, 2, 2])"
            ]
          },
          "metadata": {
            "tags": []
          },
          "execution_count": 6
        }
      ]
    },
    {
      "cell_type": "markdown",
      "metadata": {
        "id": "Qn5Q6I0Kt_kB"
      },
      "source": [
        "#### 최선의 모델 선택\n",
        "\n",
        "• 다양한 학습 알고리즘과 각각의 하이퍼파라미터를 탐색하여 최선의 모델을 선택하기위해 후보 학습 알고리즘과 이에 해당하는 하이퍼파라미터의 딕셔너리를 만들어 GridSearchCV로 수행"
      ]
    },
    {
      "cell_type": "code",
      "metadata": {
        "id": "ddJvvrCDuCm0"
      },
      "source": [
        "import numpy as np\n",
        "from sklearn import datasets\n",
        "from sklearn.linear_model import LogisticRegression\n",
        "from sklearn.ensemble import RandomForestClassifier\n",
        "from sklearn.model_selection import GridSearchCV\n",
        "from sklearn.pipeline import Pipeline\n",
        "\n",
        "np.random.seed(0) # 랜덤 시드 설정\n",
        "\n",
        "iris = datasets.load_iris() # 데이터 로드\n",
        "features = iris.data\n",
        "target = iris.target\n",
        "\n",
        "#pipe 와 search_space 두 가지 학습 알고리즘을 만들기\n",
        "\n",
        "pipe = Pipeline([(\"classifier\", RandomForestClassifier())]) # 파이프라인을 만듭니다.\n",
        "\n",
        "# 후보 학습 알고리즘과 하이퍼파라미터로 딕셔너리를 만듭니다.\n",
        "search_space = [ { \"classifier\": [LogisticRegression()],\n",
        "\"classifier__penalty\": ['l1', 'l2'],\n",
        "\"classifier__C\": np.logspace(0, 4, 10)},\n",
        "{ \"classifier\": [RandomForestClassifier()],\n",
        "\"classifier__n_estimators\": [10, 100, 1000],\n",
        "\"classifier__max_features\": [1, 2, 3]}]"
      ],
      "execution_count": 7,
      "outputs": []
    },
    {
      "cell_type": "code",
      "metadata": {
        "colab": {
          "base_uri": "https://localhost:8080/"
        },
        "id": "ZtCaAqmYuTbo",
        "outputId": "7091313f-1ce8-44ac-f5b8-be99a2fabe04"
      },
      "source": [
        "# 그리드 서치 객체 생성, pipe 와 search_space 중 최선의 모델을 검색\n",
        "gridsearch = GridSearchCV(pipe, search_space, cv=5, verbose=0) \n",
        "best_model = gridsearch.fit(features, target) # 그리드 서치를 수행\n",
        "\n",
        "best_model.best_estimator_.get_params()[\"classifier\"] # 최선의 모델을 확인\n",
        "\n",
        "#수행 결과 LogisticRegression으로 최선의 모델이 검색됨"
      ],
      "execution_count": 8,
      "outputs": [
        {
          "output_type": "execute_result",
          "data": {
            "text/plain": [
              "LogisticRegression(C=7.742636826811269, class_weight=None, dual=False,\n",
              "                   fit_intercept=True, intercept_scaling=1, l1_ratio=None,\n",
              "                   max_iter=100, multi_class='auto', n_jobs=None, penalty='l2',\n",
              "                   random_state=None, solver='lbfgs', tol=0.0001, verbose=0,\n",
              "                   warm_start=False)"
            ]
          },
          "metadata": {
            "tags": []
          },
          "execution_count": 8
        }
      ]
    },
    {
      "cell_type": "code",
      "metadata": {
        "colab": {
          "base_uri": "https://localhost:8080/"
        },
        "id": "rCFmJyF6vj_D",
        "outputId": "3ed640e3-1b4c-4815-c0bf-f4ebca194a97"
      },
      "source": [
        "best_model.predict(features) # 타깃 벡터를 예측"
      ],
      "execution_count": 9,
      "outputs": [
        {
          "output_type": "execute_result",
          "data": {
            "text/plain": [
              "array([0, 0, 0, 0, 0, 0, 0, 0, 0, 0, 0, 0, 0, 0, 0, 0, 0, 0, 0, 0, 0, 0,\n",
              "       0, 0, 0, 0, 0, 0, 0, 0, 0, 0, 0, 0, 0, 0, 0, 0, 0, 0, 0, 0, 0, 0,\n",
              "       0, 0, 0, 0, 0, 0, 1, 1, 1, 1, 1, 1, 1, 1, 1, 1, 1, 1, 1, 1, 1, 1,\n",
              "       1, 1, 1, 1, 2, 1, 1, 1, 1, 1, 1, 1, 1, 1, 1, 1, 1, 2, 1, 1, 1, 1,\n",
              "       1, 1, 1, 1, 1, 1, 1, 1, 1, 1, 1, 1, 2, 2, 2, 2, 2, 2, 2, 2, 2, 2,\n",
              "       2, 2, 2, 2, 2, 2, 2, 2, 2, 2, 2, 2, 2, 2, 2, 2, 2, 2, 2, 2, 2, 2,\n",
              "       2, 2, 2, 2, 2, 2, 2, 2, 2, 2, 2, 2, 2, 2, 2, 2, 2, 2])"
            ]
          },
          "metadata": {
            "tags": []
          },
          "execution_count": 9
        }
      ]
    },
    {
      "cell_type": "markdown",
      "metadata": {
        "id": "Za1sIGIQvmMn"
      },
      "source": [
        "#### 전처리와 함께 최선의 모델 선택\n",
        "\n",
        "• 모델 선택 과정에 전처리를 포함하려면 전처리 단계와 필요한 매개변수를 포함한 파이프라인을 만듭니다.\n",
        "\n",
        "• FeatureUnion을 사용하면 여러 전처리 단계를 적절하게 연결할 수 있습니다."
      ]
    },
    {
      "cell_type": "code",
      "metadata": {
        "id": "P0Kovet7xxZS"
      },
      "source": [
        "import numpy as np\n",
        "from sklearn import datasets\n",
        "from sklearn.linear_model import LogisticRegression\n",
        "from sklearn.model_selection import GridSearchCV\n",
        "from sklearn.pipeline import Pipeline, FeatureUnion\n",
        "from sklearn.decomposition import PCA\n",
        "from sklearn.preprocessing import StandardScaler\n",
        "\n",
        "np.random.seed(0) # 랜덤 시드 설정\n",
        "iris = datasets.load_iris() # 데이터 로드\n",
        "features = iris.data\n",
        "target = iris.target # StandardScaler와 PCA를 포함한 전처리 객체를 만듭니다.\n",
        "\n",
        "#PCA= 주성분 분석할 때 사용(전처리 단계에서 사용)\n",
        "preprocess = FeatureUnion([(\"std\", StandardScaler()), (\"pca\", PCA())]) \n",
        "\n",
        "# 파이프라인을 만듭니다.\n",
        "pipe = Pipeline([(\"preprocess\", preprocess), (\"classifier\", LogisticRegression())])"
      ],
      "execution_count": 10,
      "outputs": []
    },
    {
      "cell_type": "markdown",
      "metadata": {
        "id": "qTygzRKFx2pv"
      },
      "source": [
        "• GridSearchCV는 교차검증을 사용하여 가장 높은 성능을 내는 모델을 고릅니다.\n",
        "\n",
        "• 교차 검증에서 제외된 폴드는 학습에 사용되지 않은 테스트 세트와 같은 역할을 하므로 어떤 전처리 단계에도 포함 되어서는 안되므로 먼저 데이터를 전처리하고 GridSearchCV를 실행할 수 없습니다.\n",
        "\n",
        "• 전처리 단계를 GridSearchCV가 수행하는 일련의 작업 중 하나로 포함시켜야 합니다."
      ]
    },
    {
      "cell_type": "code",
      "metadata": {
        "colab": {
          "base_uri": "https://localhost:8080/"
        },
        "id": "RlQK7AjXyI8y",
        "outputId": "70ae868a-9b1c-4f7b-ee8c-9a1d20cc1810"
      },
      "source": [
        "# 후보 값을 정의합니다.\n",
        "# 최선의 모델을 만드는 주성분이 하나인지 두개, 세 개인지를 탐색하도록 지시합니다.\n",
        "search_space = [{\"preprocess__pca__n_components\": [1, 2, 3], \"classifier__penalty\": [\"l1\", \"l2\"], \"classifier__C\": np.logspace(0, 4, 10)}]\n",
        "\n",
        "clf = GridSearchCV(pipe, search_space, cv=5, verbose=0, n_jobs=-1) # 그리드 서치 객체 생성\n",
        "best_model = clf.fit(features, target) # 그리드 서치 수행\n",
        "best_model.best_estimator_.get_params()['preprocess__pca__n_components'] # 최선의 주성분 개수를 확인\n",
        "\n",
        "clf.best_score_ #GridSearchCV가 수행한 교차검증에서 최상의 점수가 저장되는 속성"
      ],
      "execution_count": 11,
      "outputs": [
        {
          "output_type": "execute_result",
          "data": {
            "text/plain": [
              "0.9800000000000001"
            ]
          },
          "metadata": {
            "tags": []
          },
          "execution_count": 11
        }
      ]
    },
    {
      "cell_type": "code",
      "metadata": {
        "colab": {
          "base_uri": "https://localhost:8080/"
        },
        "id": "vTo7PpkCz6ed",
        "outputId": "c825dc0b-adf5-4a7e-bec2-460100759036"
      },
      "source": [
        "clf.best_estimator_.named_steps[\"preprocess\"].transform(features[0:1])"
      ],
      "execution_count": 12,
      "outputs": [
        {
          "output_type": "execute_result",
          "data": {
            "text/plain": [
              "array([[-0.90068117,  1.01900435, -1.34022653, -1.3154443 , -2.68412563,\n",
              "         0.31939725]])"
            ]
          },
          "metadata": {
            "tags": []
          },
          "execution_count": 12
        }
      ]
    },
    {
      "cell_type": "code",
      "metadata": {
        "id": "nnX6ikz3zWBk"
      },
      "source": [
        "#memory 매개변수에 전처리 데이터를 임시 저장할 디렉토리 이름을 전달하면 하이퍼파라미터 탐색 과정에서 중복으로 전처리 과정을 수행하지 않습니다\n",
        "pipe = Pipeline([(\"std\", StandardScaler()), (\"pca\", PCA()), (\"classifier\", LogisticRegression())], memory='cache')"
      ],
      "execution_count": 13,
      "outputs": []
    },
    {
      "cell_type": "markdown",
      "metadata": {
        "id": "8dm6NXBWyOG0"
      },
      "source": [
        "• FeatureUnion 클래스는 전처리 단계를 병렬로 연결합니다"
      ]
    },
    {
      "cell_type": "code",
      "metadata": {
        "colab": {
          "base_uri": "https://localhost:8080/"
        },
        "id": "39HVlS2GyS3c",
        "outputId": "827444a4-1eb8-4fcf-afda-374f4bfae635"
      },
      "source": [
        "# 후보 값을 정의합니다.\n",
        "search_space = [{\"pca__n_components\": [1, 2, 3], \"classifier__penalty\": [\"l1\", \"l2\"], \"classifier__C\": np.logspace(0, 4, 10)}]\n",
        "\n",
        "clf = GridSearchCV(pipe, search_space, cv=5, verbose=0, n_jobs=-1) # 그리드 서치 객체생성\n",
        "best_model = clf.fit(features, target) # 그리드 서치 수행\n",
        "\n",
        "print(clf.best_score_)\n",
        "\n",
        "# 최선의 주성분 개수를 확인(4개의 특성 중 몇개가 영향을 주는지)\n",
        "print(clf.best_estimator_.get_params()['pca__n_components'])\n",
        "print(clf.best_estimator_.named_steps[\"pca\"].transform(features[0:1]))"
      ],
      "execution_count": 14,
      "outputs": [
        {
          "output_type": "stream",
          "text": [
            "0.9733333333333334\n",
            "3\n",
            "[[ 2.64026976  5.2040413  -2.48862071]]\n"
          ],
          "name": "stdout"
        }
      ]
    },
    {
      "cell_type": "markdown",
      "metadata": {
        "id": "eSVuYvdj4Hei"
      },
      "source": [
        "### 머신러닝 모델 정리\n",
        "\n",
        "분류\n",
        "\n",
        "• 나이브 베이즈(Naive Bayes) - 베이즈(Bayes)통계와 생성 모델에 기반\n",
        "\n",
        "• 로지스틱 회귀(Logistic Regression) - 한 독립변수와 종속변수의 선형 관계성에 기반\n",
        "\n",
        "• 결정 트리(Decision Tree) - 데이터 균일도에 따른 규칙 기반\n",
        "\n",
        "• 서포트 벡터 머신(Support Vector Machine) - 개별 클래스 간의 최대 분류 마진을 효과적으로 찾아주는 알고리즘\n",
        "\n",
        "• 최소 근접(Nearest Neighbor) 알고리즘 - 근접 거리를 기준\n",
        "\n",
        "• 신경망(Neural Network) - 심층 연결 기반의 신경망 알고리즘\n",
        "\n",
        "• 앙상블(Ensemble) - 서로 다른 (또는 같은) 머신러닝 알고리즘을 결합"
      ]
    },
    {
      "cell_type": "markdown",
      "metadata": {
        "id": "kZeF3n5b4_Oc"
      },
      "source": [
        "#### 결정 트리(Decision Tree)\n",
        "\n",
        "• 일련의 질문에 근거하여 주어진 데이터를 분류해주는 알고리즘\n",
        "\n",
        "• 학습을 통해 데이터에 존재하는 규칙을 자동으로 찾아내 트리(tree) 기반의 분류 규칙을 만드는 것\n",
        "\n",
        "• if/else 기반으로 예측을 위한 규칙을 만드는 알고리즘\n",
        "\n",
        "• 예측 성능을 향상시키기 위해 복잡한 규칙 구조를\n",
        "가져야 하며, 이로 인한 과적합(overfitting)이 발생해\n",
        "반대로 예측 성능이 저하될 수 있다\n",
        "\n",
        "• 정보의 균일도를 측정하는 대표적인 방법 - 엔트로피를 이용한 정보 이득 지수와 지니 계수\n",
        "\n",
        "• 정보 이득은 엔트로피라는 개념을 기반으로 합니다.  \n",
        "엔트로피는 주어진 데이터 집합의 혼잡도를 의미하며, 서로 다른 값이 섞여 있으면 엔트로피가 높고, 같은 값이 섞여 있으면 엔트로피가 낮습니다.\n",
        "\n",
        "• 정보 이득 지수 = 1-엔트로피 지수"
      ]
    },
    {
      "cell_type": "markdown",
      "metadata": {
        "id": "1MVsqH346UkI"
      },
      "source": [
        "• 엔트로피 - 확률 또는 확률밀도가 특정값에 몰려 있으면 엔트로피가 작다고 하고  \n",
        "반대로 여러 가지 값에 골고루 퍼져 있다면 엔트로피가 크다고 한다.\n",
        "\n",
        "\n",
        "• 지니계수 - 경제학에서 불평등 지수를 나타낼 때 사용하는 계수  \n",
        "계수값은 0이 가장 평등하고 1로 갈수록 불평등합니다.   \n",
        "결정트리에서는 지니 계수가 낮은 속성을 기준으로 데이터 세트를 분할합니다.\n",
        "\n",
        "\n",
        "• 결정트리는 정보 이득이 높거나 지니 계수가 낮은 조건을 찾아서 지식 트리 노드에 걸쳐 반복적으로 분할한 뒤 데이터가 모두 특정 분류에 속하게 되면 분할을 멈추고 분류를 결정합니다."
      ]
    },
    {
      "cell_type": "markdown",
      "metadata": {
        "id": "3r9fBAG87Jek"
      },
      "source": [
        "#### 결정 트리 분류기 훈련\n",
        "\n",
        "• DecisionTreeClassifier는 기본적으로 지니 불순도를 사용합니다.\n",
        "\n",
        "• 불순도를 낮추는 결정 규칙을 찾는 과정은 모든 리프 노드(leaf node)가 순수해지거나(즉, 한 클래스만 남거나) 어떤임곗값에 도달할 때까지 반복됩니다. "
      ]
    },
    {
      "cell_type": "code",
      "metadata": {
        "colab": {
          "base_uri": "https://localhost:8080/"
        },
        "id": "82b_jocC7ORa",
        "outputId": "fa9c5e8a-7828-4fe2-918f-c526c4310452"
      },
      "source": [
        "from sklearn.tree import DecisionTreeClassifier\n",
        "from sklearn import datasets\n",
        "from sklearn.model_selection import cross_val_score\n",
        "\n",
        "iris = datasets.load_iris() # 데이터 로드\n",
        "features = iris.data\n",
        "target = iris.target\n",
        "\n",
        "decisiontree = DecisionTreeClassifier(random_state=0) # 결정 트리 분류기 객체 생성\n",
        "model = decisiontree.fit(features, target) # 모델 훈련\n",
        "\n",
        "acc = cross_val_score(decisiontree, features, target, scoring=\"accuracy\")\n",
        "print(acc)\n",
        "\n",
        "observation = [[ 5, 4, 3, 2]] # New 샘플 데이터\n",
        "print(model.predict(observation)) # 샘플 데이터의 클래스 예측\n",
        "print(model.predict_proba(observation)) # 세 개의 클래스에 대한 예측 확률을 확인"
      ],
      "execution_count": 15,
      "outputs": [
        {
          "output_type": "stream",
          "text": [
            "[0.96666667 0.96666667 0.9        0.96666667 1.        ]\n",
            "[1]\n",
            "[[0. 1. 0.]]\n"
          ],
          "name": "stdout"
        }
      ]
    },
    {
      "cell_type": "code",
      "metadata": {
        "colab": {
          "base_uri": "https://localhost:8080/"
        },
        "id": "HPvG4JuA_Y82",
        "outputId": "06b001f0-4126-4c31-de77-0ce13c8e401d"
      },
      "source": [
        "# 엔트로피를 사용해 결정 트리 분류기를 훈련합니다. \n",
        "decisiontree_entropy = DecisionTreeClassifier( criterion='entropy', random_state=0)\n",
        "model_entropy = decisiontree_entropy.fit(features, target) # 모델 훈련\n",
        "acc=cross_val_score(decisiontree_entropy, features, target, scoring='accuracy')\n",
        "print(acc)"
      ],
      "execution_count": 16,
      "outputs": [
        {
          "output_type": "stream",
          "text": [
            "[0.96666667 0.96666667 0.9        0.93333333 1.        ]\n"
          ],
          "name": "stdout"
        }
      ]
    },
    {
      "cell_type": "code",
      "metadata": {
        "colab": {
          "base_uri": "https://localhost:8080/"
        },
        "id": "neez9L477ymM",
        "outputId": "4c49702c-90d9-4432-e598-3e9746c5f29e"
      },
      "source": [
        "# 지니를 사용해 결정 트리 분류기를 훈련합니다. \n",
        "decisiontree_gini = DecisionTreeClassifier( criterion='gini', random_state=0)\n",
        "model_gini = decisiontree_gini.fit(features, target) # 모델 훈련\n",
        "acc=cross_val_score(decisiontree_gini, features, target, scoring='accuracy')\n",
        "print(acc)"
      ],
      "execution_count": 17,
      "outputs": [
        {
          "output_type": "stream",
          "text": [
            "[0.96666667 0.96666667 0.9        0.96666667 1.        ]\n"
          ],
          "name": "stdout"
        }
      ]
    },
    {
      "cell_type": "markdown",
      "metadata": {
        "id": "lHQKQoXvBV3T"
      },
      "source": [
        "• 지니 불순도는 클래스가 균등하게 분포되어 있을 때 최대가 됩니다.\n",
        "\n",
        "• 이진 클래스일 경우 클래스 샘플 비율이 0.5일 때 가장 큰 값이 됩니다.\n",
        "\n",
        "• 엔트로피도 클래스 샘플 비율이 균등할 때 가장 큰 값이 됩니다.\n",
        "\n",
        "• 지니 인덱스, 엔트로피, 분류오류 3가지 불순도 계산 방법 모두 0 또는 1에 가까워질 수록 불순도가 낮아지고, 0.5일 때 불순도가 가장 높게 나옵니다.\n",
        "\n",
        "• criterion 매개변수 - 불순도 계산 방법을 설정 ('entropy', 'gini')"
      ]
    },
    {
      "cell_type": "markdown",
      "metadata": {
        "id": "ut7qB_KdBeDp"
      },
      "source": [
        "결정 트리 회귀 훈련\n",
        "\n",
        "• 결정 트리 회귀 - 지니 불순도나 엔트로피를 감소하는 대신 기본적으로 얼마나 평균 제곱 오차(MSE)를 감소시키는지에 따라 분할\n",
        "\n",
        "• DecisionTreeRegressor\n",
        "\n",
        "• Criterion매개변수 - 분할 품질의 측정 방식을 선택"
      ]
    },
    {
      "cell_type": "code",
      "metadata": {
        "colab": {
          "base_uri": "https://localhost:8080/"
        },
        "id": "eO4w6MX3BnmU",
        "outputId": "e322bb53-73ae-48d2-b9a8-01f618552028"
      },
      "source": [
        "from sklearn.tree import DecisionTreeRegressor\n",
        "from sklearn import datasets\n",
        "\n",
        "boston = datasets.load_boston() # 데이터 로드\n",
        "features = boston.data[:,0:2] #두 개의 특성만 선택\n",
        "target = boston.target\n",
        "\n",
        "decisiontree = DecisionTreeRegressor(random_state=0) # 결정 트리 회귀 모델 객체 생성\n",
        "model = decisiontree.fit(features, target) # 모델 훈련\n",
        "\n",
        "observation = [[0.02, 16]] #New 샘플 데이터\n",
        "model.predict(observation) # 샘플 데이터의 타깃을 예측\n",
        "\n",
        "# 평균 제곱 오차를 사용한 (평균 절댓값 오차MAE가 감소되는) 결정 트리 회귀 모델 객체 생성\n",
        "#잔차값을 criterion=\"mae\"로 계산\n",
        "decisiontree_mae = DecisionTreeRegressor(criterion=\"mae\", random_state=0)\n",
        "model_mae = decisiontree_mae.fit(features, target) # 모델 훈련\n",
        "\n",
        "print(model_mae.predict(observation))"
      ],
      "execution_count": 18,
      "outputs": [
        {
          "output_type": "stream",
          "text": [
            "[33.]\n"
          ],
          "name": "stdout"
        }
      ]
    },
    {
      "cell_type": "markdown",
      "metadata": {
        "id": "3OIC_ifKCf0p"
      },
      "source": [
        "#### 결정 트리 모델 시각화\n",
        "\n",
        "• Graphviz 패키지\n",
        "\n",
        "• export_graphviz() API를 제공\n",
        "\n",
        "• 사이킷런의 export_graphviz()는 함수 인자로 학습이 완료된 Estimator, 피처의 이름 리스트, 레이블 이름 리스트를 입력하면 학습된 결정 트리 규칙을 실제 트리 형태로 시각화\n",
        "\n",
        "• DecisionTreeClassifier.feature_importances_속성 - 피처의 중요한 역할 지표를 으로 제공"
      ]
    },
    {
      "cell_type": "markdown",
      "metadata": {
        "id": "jFiDKYHKDBQd"
      },
      "source": [
        "• 훈련된 전체 모델을 시각화할 수 있다\n",
        "\n",
        "• 훈련된 모델을 DOT 포맷으로 변환한 다음 그래프를 그립니다."
      ]
    },
    {
      "cell_type": "code",
      "metadata": {
        "colab": {
          "base_uri": "https://localhost:8080/"
        },
        "id": "sMr3abY-CsnL",
        "outputId": "f4510736-95ed-4bec-8d77-8f0e496a1133"
      },
      "source": [
        "import pydotplus\n",
        "from sklearn.tree import DecisionTreeClassifier\n",
        "from sklearn import datasets\n",
        "from IPython.display import Image\n",
        "from sklearn import tree\n",
        "\n",
        "iris = datasets.load_iris() # 데이터 로드\n",
        "features = iris.data\n",
        "target = iris.target\n",
        "\n",
        "decisiontree = DecisionTreeClassifier(random_state=0) # 결정 트리 분류기를 만듭니다.\n",
        "\n",
        "model = decisiontree.fit(features, target) # 모델 훈련\n",
        "dot_data = tree.export_graphviz(decisiontree,\n",
        "out_file=None,\n",
        "feature_names=iris.feature_names,\n",
        "class_names=iris.target_names) # DOT 데이터를 만듭니다\n",
        "\n",
        "graph = pydotplus.graph_from_dot_data(dot_data) # 그래프를 그립니다.\n",
        "Image(graph.create_png()) # 그래프 출력\n",
        "graph.write_pdf(\"iris.pdf\") # PDF를 만듭니다.\n",
        "graph.write_png(\"iris.png\") # PNG 파일을 만듭니다"
      ],
      "execution_count": 19,
      "outputs": [
        {
          "output_type": "execute_result",
          "data": {
            "text/plain": [
              "True"
            ]
          },
          "metadata": {
            "tags": []
          },
          "execution_count": 19
        }
      ]
    },
    {
      "cell_type": "markdown",
      "metadata": {
        "id": "1Y_Q6TAoD-7W"
      },
      "source": [
        "• export_graphviz() - filled 매개변수를 True로 설정하면 노드마다 다수의 클래스에 따라 색을 채움  \n",
        "round 매개변수 True로 설정하면 노드의 모서리를 라운드 처리\n",
        "\n",
        "• plot_tree() - matplotlib 기반으로 트리 그래프를 반환"
      ]
    },
    {
      "cell_type": "code",
      "metadata": {
        "colab": {
          "base_uri": "https://localhost:8080/",
          "height": 587
        },
        "id": "DIetLN3PD-uj",
        "outputId": "c9c77601-869d-4243-f90b-9ad932a5f4da"
      },
      "source": [
        "import matplotlib.pyplot as plt\n",
        "\n",
        "plt.figure(figsize=(20, 15))\n",
        "tree.plot_tree(model, filled=True,\n",
        "feature_names=iris.feature_names,\n",
        "class_names=iris.target_names,\n",
        "rounded=True, fontsize=14)\n",
        "\n",
        "plt.show()"
      ],
      "execution_count": 20,
      "outputs": [
        {
          "output_type": "display_data",
          "data": {
            "image/png": "[encoded data removed]",
            "text/plain": [
              "<Figure size 1440x1080 with 1 Axes>"
            ]
          },
          "metadata": {
            "tags": [],
            "needs_background": "light"
          }
        }
      ]
    },
    {
      "cell_type": "markdown",
      "metadata": {
        "id": "NuPyL56qGS08"
      },
      "source": [
        "### RandomForestClassifier\n",
        "\n",
        "Ensemble Learning\n",
        "\n",
        "• 앙상블(ensemble)기법 - 여러 개의 결정 트리로부터 나온 예측 결과들의 평균이나 다수의 예측 결과를 이용하는 방법\n",
        "\n",
        "• 여러 개의 분류기(Classifier)를 생성하고 그 예측을 결합함으로써 보다 정확한 최종 예측을 도출하는 기법\n",
        "• 여러 개의 기본 모델 (weak learner, classifier, base learner, single learner)을 활용하여 하나의 새로운 모델을 만들어 내는 개념\n",
        "\n",
        "• 다양한 learner를 만들면 전체의 모델의 성능이 증가 할 수 있음\n",
        "\n",
        "• 다양한 분류기의 예측 결과를 결합함으로써 단일 분류기보다 신뢰성이 높은 예측값을 얻는 것\n",
        "\n",
        "• 정형 데이터 분류 시에는 앙상블이 뛰어난 성능을 나타냄"
      ]
    },
    {
      "cell_type": "markdown",
      "metadata": {
        "id": "tYbC_jlUYxof"
      },
      "source": [
        "• 앙상블 학습의 유형 - 보팅(Voting), 배깅(Bagging), 부스팅(Boosting), 스태킹(Stacking)\n",
        "\n",
        "• 보팅(Voting) - 여러 종류의 알고리즘을 사용한 각각의 결과에 대해 투표를 통해 최종 결과를 예측하는 방식\n",
        "\n",
        "• 배깅(Bagging) - 같은 알고리즘에 대해 데이터 샘플을 다르게 두고 학습을 수행해 보팅을 수행하는 방식  \n",
        "대표적인 방식이 Random Forest\n",
        "\n",
        "• 부스팅(Boosting) - 여러 개의 알고리즘이 순차적으로 학습을 하되, 앞에 학습한 알고리즘 예측이 틀린 데이터에\n",
        "대해 올바르게 예측할 수 있도록, 그 다음번 알고리즘에 가중치를 부여하여 학습과 예측을 진행하는 방식\n",
        "\n",
        "• 스태킹(Stacking) - 여러 가지 다른 모델의 예측 결과값을 다시 학습 데이터로 만들어 다른 모델(메타 모델)로 재 학습시켜 결과를 예측하는 방법"
      ]
    },
    {
      "cell_type": "markdown",
      "metadata": {
        "id": "vddPKUHGbI_l"
      },
      "source": [
        "#### 랜덤 포레스트 분류기 훈련\n",
        "• RandomForestClassifier\n",
        "랜덤 포레스트는 많은 결정 트리를 훈련하지만 각 트리는 부트스트랩 샘플을 사용  \n",
        "다수의 결정 트리들을 학습하는 앙상블 방법\n",
        "검출, 분류, 회귀 등 다양한 문제에 활용되고 있다.  \n",
        "각 노드는 최적의 분할을 결정할 때 특성의 일부만 사용  \n",
        "\n",
        "max_features : 각 노드에서 사용할 특성의 최대 개수를 결정 (정수(특성의 수), 실수(특성 개수 비율), sqrt(특성\n",
        "개수의 제곱근)를 입력할 수 있다. 기본값은 auto로 sqrt와 동작이 같습니다.)   \n",
        "\n",
        "bootstrap : 트리에 사용할 샘플을 중복을 허용한 샘플링으로 만들지 아닐지를 결정   \n",
        "\n",
        "n_estimators : 랜덤 포레스트에서 만들 결정 트리 개수를 지정 (의사결정트리의 개수 k의 값)  \n",
        "\n",
        "n_jobs : 학습을 수행하기 위해 병렬적으로 사용될 CPU 코어 개수 (n_jobs=-1 설정은 모든 코어를 사용 )  \n",
        "의사결정트리를 만드는 횟수 k는 생성되는 의사결정트리의 개수이며, 이 값이 커지면 예측 결과의 품질을 더 좋게 해주지만 컴퓨터의 성능 문제를 일으킬 수 있다."
      ]
    },
    {
      "cell_type": "code",
      "metadata": {
        "colab": {
          "base_uri": "https://localhost:8080/"
        },
        "id": "OChL24ZzdA_G",
        "outputId": "f082a62e-091a-4f3d-9706-71e05af22786"
      },
      "source": [
        "from sklearn.ensemble import RandomForestClassifier\n",
        "from sklearn import datasets\n",
        "import pandas as pd\n",
        "from sklearn.model_selection import train_test_split\n",
        "from sklearn.metrics import accuracy_score\n",
        "\n",
        "iris = datasets.load_iris() # 데이터 로드\n",
        "features = iris.data\n",
        "target = iris.target\n",
        "print(iris.target_names)\n",
        "print(iris.feature_names)\n",
        "print(iris.data[0:5])\n",
        "print(iris.target)"
      ],
      "execution_count": 21,
      "outputs": [
        {
          "output_type": "stream",
          "text": [
            "['setosa' 'versicolor' 'virginica']\n",
            "['sepal length (cm)', 'sepal width (cm)', 'petal length (cm)', 'petal width (cm)']\n",
            "[[5.1 3.5 1.4 0.2]\n",
            " [4.9 3.  1.4 0.2]\n",
            " [4.7 3.2 1.3 0.2]\n",
            " [4.6 3.1 1.5 0.2]\n",
            " [5.  3.6 1.4 0.2]]\n",
            "[0 0 0 0 0 0 0 0 0 0 0 0 0 0 0 0 0 0 0 0 0 0 0 0 0 0 0 0 0 0 0 0 0 0 0 0 0\n",
            " 0 0 0 0 0 0 0 0 0 0 0 0 0 1 1 1 1 1 1 1 1 1 1 1 1 1 1 1 1 1 1 1 1 1 1 1 1\n",
            " 1 1 1 1 1 1 1 1 1 1 1 1 1 1 1 1 1 1 1 1 1 1 1 1 1 1 2 2 2 2 2 2 2 2 2 2 2\n",
            " 2 2 2 2 2 2 2 2 2 2 2 2 2 2 2 2 2 2 2 2 2 2 2 2 2 2 2 2 2 2 2 2 2 2 2 2 2\n",
            " 2 2]\n"
          ],
          "name": "stdout"
        }
      ]
    },
    {
      "cell_type": "code",
      "metadata": {
        "id": "qEdHcwn0k8_z"
      },
      "source": [
        "# 랜덤 포레스트 분류기 객체를 만듭니다. \n",
        "randomforest = RandomForestClassifier(random_state=0, n_jobs=-1)\n",
        "model = randomforest.fit(features, target) # 모델 훈련\n",
        "\n",
        "observation = [[ 5, 4, 3, 2]] # 새로운 샘플을 만듭니다. \n",
        "model.predict(observation) # 샘플 클래스를 예측합니다.\n",
        "\n",
        "# 엔트로피를 사용하여 랜덤 포레스트 분류기 객체를 만듭니다. \n",
        "randomforest_entropy = RandomForestClassifier(criterion=\"entropy\", random_state=0)\n",
        "model_entropy = randomforest_entropy.fit(features, target) # 모델 훈련"
      ],
      "execution_count": 22,
      "outputs": []
    },
    {
      "cell_type": "code",
      "metadata": {
        "colab": {
          "base_uri": "https://localhost:8080/",
          "height": 195
        },
        "id": "E7giPThelEGC",
        "outputId": "0686cee4-0e18-4f78-cd13-c99fb276b261"
      },
      "source": [
        "data=pd.DataFrame({\n",
        "    'sepal length':iris.data[:,0],\n",
        "    'sepal width':iris.data[:,1],\n",
        "    'petal length':iris.data[:,2],\n",
        "    'petal width':iris.data[:,3],\n",
        "    'species':iris.target\n",
        "})\n",
        "data.head()"
      ],
      "execution_count": 23,
      "outputs": [
        {
          "output_type": "execute_result",
          "data": {
            "text/html": [
              "<div>\n",
              "<style scoped>\n",
              "    .dataframe tbody tr th:only-of-type {\n",
              "        vertical-align: middle;\n",
              "    }\n",
              "\n",
              "    .dataframe tbody tr th {\n",
              "        vertical-align: top;\n",
              "    }\n",
              "\n",
              "    .dataframe thead th {\n",
              "        text-align: right;\n",
              "    }\n",
              "</style>\n",
              "<table border=\"1\" class=\"dataframe\">\n",
              "  <thead>\n",
              "    <tr style=\"text-align: right;\">\n",
              "      <th></th>\n",
              "      <th>sepal length</th>\n",
              "      <th>sepal width</th>\n",
              "      <th>petal length</th>\n",
              "      <th>petal width</th>\n",
              "      <th>species</th>\n",
              "    </tr>\n",
              "  </thead>\n",
              "  <tbody>\n",
              "    <tr>\n",
              "      <th>0</th>\n",
              "      <td>5.1</td>\n",
              "      <td>3.5</td>\n",
              "      <td>1.4</td>\n",
              "      <td>0.2</td>\n",
              "      <td>0</td>\n",
              "    </tr>\n",
              "    <tr>\n",
              "      <th>1</th>\n",
              "      <td>4.9</td>\n",
              "      <td>3.0</td>\n",
              "      <td>1.4</td>\n",
              "      <td>0.2</td>\n",
              "      <td>0</td>\n",
              "    </tr>\n",
              "    <tr>\n",
              "      <th>2</th>\n",
              "      <td>4.7</td>\n",
              "      <td>3.2</td>\n",
              "      <td>1.3</td>\n",
              "      <td>0.2</td>\n",
              "      <td>0</td>\n",
              "    </tr>\n",
              "    <tr>\n",
              "      <th>3</th>\n",
              "      <td>4.6</td>\n",
              "      <td>3.1</td>\n",
              "      <td>1.5</td>\n",
              "      <td>0.2</td>\n",
              "      <td>0</td>\n",
              "    </tr>\n",
              "    <tr>\n",
              "      <th>4</th>\n",
              "      <td>5.0</td>\n",
              "      <td>3.6</td>\n",
              "      <td>1.4</td>\n",
              "      <td>0.2</td>\n",
              "      <td>0</td>\n",
              "    </tr>\n",
              "  </tbody>\n",
              "</table>\n",
              "</div>"
            ],
            "text/plain": [
              "   sepal length  sepal width  petal length  petal width  species\n",
              "0           5.1          3.5           1.4          0.2        0\n",
              "1           4.9          3.0           1.4          0.2        0\n",
              "2           4.7          3.2           1.3          0.2        0\n",
              "3           4.6          3.1           1.5          0.2        0\n",
              "4           5.0          3.6           1.4          0.2        0"
            ]
          },
          "metadata": {
            "tags": []
          },
          "execution_count": 23
        }
      ]
    },
    {
      "cell_type": "code",
      "metadata": {
        "colab": {
          "base_uri": "https://localhost:8080/"
        },
        "id": "wk8IYUOeiU4Z",
        "outputId": "46e8feaa-baf8-4f60-8f77-5ef95f3b77a1"
      },
      "source": [
        "import sklearn.metrics as metrics\n",
        "from sklearn.metrics import accuracy_score\n",
        "\n",
        "\n",
        "X=data[['sepal length', 'sepal width', 'petal length', 'petal width']]\n",
        "y=data['species']\n",
        "X_train, X_test, y_train, y_test = train_test_split(X, y, test_size=0.3)\n",
        "\n",
        "clf=RandomForestClassifier(n_estimators=100)\n",
        "clf.fit(X_train,y_train)\n",
        "y_pred=clf.predict(X_test)\n",
        "\n",
        "print(\"Accuracy:\", metrics.accuracy_score(y_test, y_pred))\n",
        "print(clf.predict([[3, 5, 4, 2]])) #예측 결과?"
      ],
      "execution_count": 25,
      "outputs": [
        {
          "output_type": "stream",
          "text": [
            "Accuracy: 0.9777777777777777\n",
            "[1]\n"
          ],
          "name": "stdout"
        }
      ]
    },
    {
      "cell_type": "code",
      "metadata": {
        "colab": {
          "base_uri": "https://localhost:8080/",
          "height": 418
        },
        "id": "2AzNwjGniaFW",
        "outputId": "32204819-8d50-417b-cd22-a76faa6fee8a"
      },
      "source": [
        "feature_imp = pd.Series(clf.feature_importances_,index=iris.feature_names).sort_values(ascending=False)\n",
        "print(feature_imp)\n",
        "\n",
        "import seaborn as sns\n",
        "%matplotlib inline\n",
        "sns.barplot(x=feature_imp, y=feature_imp.index)\n",
        "plt.xlabel('Feature Importance Score')\n",
        "plt.ylabel('Features')\n",
        "plt.title(\"Visualizing Important Features\")\n",
        "plt.legend()"
      ],
      "execution_count": 26,
      "outputs": [
        {
          "output_type": "stream",
          "text": [
            "No handles with labels found to put in legend.\n"
          ],
          "name": "stderr"
        },
        {
          "output_type": "stream",
          "text": [
            "petal length (cm)    0.467531\n",
            "petal width (cm)     0.410729\n",
            "sepal length (cm)    0.097357\n",
            "sepal width (cm)     0.024383\n",
            "dtype: float64\n"
          ],
          "name": "stdout"
        },
        {
          "output_type": "execute_result",
          "data": {
            "text/plain": [
              "<matplotlib.legend.Legend at 0x7f8b723cff50>"
            ]
          },
          "metadata": {
            "tags": []
          },
          "execution_count": 26
        },
        {
          "output_type": "display_data",
          "data": {
            "image/png": "[encoded data removed]",
            "text/plain": [
              "<Figure size 432x288 with 1 Axes>"
            ]
          },
          "metadata": {
            "tags": [],
            "needs_background": "light"
          }
        }
      ]
    },
    {
      "cell_type": "markdown",
      "metadata": {
        "id": "Lfq2q3fDgt_q"
      },
      "source": [
        "#### 랜덤 포레스트에서 중요한 특성 선택하기\n",
        "• 모델의 분산을 감소시키거나 가장 중요한 특성만 사용하여 모델을 이해하기 쉽게 만들어야 하는 경우 모델의 특성 개\n",
        "수를 감소시켜야 합니다\n",
        "\n",
        "• 사이킷런에서는 두 단계의 워크플로를 사용하여 줄어든 특성으로 모델을 만들 수 있습니다.\n",
        "\n",
        "1. 모든 특성을 사용해 랜덤 포레스트 모델을 훈련합니다.\n",
        "2. 중요한 특성만 포함된 새로운 특성 행렬을 만듭니다.  \n",
        "( SelectFromModel 클래스를 사용해 threshold 값보다 중요도가 크거나 같은 특성만 포함된 특성 행렬을 만듭니다.)\n",
        "3. 중요한 특성만을 사용한 새로운 모델을 훈련합니다.\n",
        "\n",
        "• 단점 : 원-핫 인코딩된 순서가 없는 범주형 특성의 중요도는 여러 개의 이진 특성으로 희석됩니다.\n",
        "상관관계가 높은 특성의 중요도는 양쪽 특성에 고루 분산되는 것이 아니라 한 특성에 집중됩니다."
      ]
    },
    {
      "cell_type": "code",
      "metadata": {
        "colab": {
          "base_uri": "https://localhost:8080/"
        },
        "id": "4SoqU7UOg16Y",
        "outputId": "329df3c2-3cea-47d7-af0e-1232c25ecc09"
      },
      "source": [
        "# 랜덤 포레스트에서 중요한 특성 선택하기\n",
        "from sklearn.ensemble import RandomForestClassifier\n",
        "from sklearn import datasets\n",
        "from sklearn.feature_selection import SelectFromModel\n",
        "\n",
        "iris = datasets.load_iris() # 데이터 로드\n",
        "features = iris.data\n",
        "target = iris.target\n",
        "\n",
        "clf = RandomForestClassifier(random_state=0, n_jobs=-1) # 랜덤 포레스트 분류기 객체 생성\n",
        "\n",
        "# 특성 중요도가 임계값보다 크거나 같은 특성으로 객체를 만듭니다.\n",
        "selector = SelectFromModel(randomforest, threshold=0.3)\n",
        "\n",
        "# selector를 사용하여 새로운 특성 행렬을 만듭니다.\n",
        "features_important = selector.fit_transform(features, target)\n",
        "\n",
        "X_train, X_test, y_train, y_test = train_test_split(features_important, target, test_size=0.3)\n",
        "\n",
        "# 가장 중요한 특성을 사용하여 랜덤 포레스트 모델을 훈련합니다.\n",
        "model = clf.fit(X_train, y_train)\n",
        "y_pred = clf.predict(X_test)\n",
        "print('Accuracy:', accuracy_score(y_test, y_pred))"
      ],
      "execution_count": 27,
      "outputs": [
        {
          "output_type": "stream",
          "text": [
            "Accuracy: 0.9777777777777777\n"
          ],
          "name": "stdout"
        }
      ]
    },
    {
      "cell_type": "markdown",
      "metadata": {
        "id": "xTyaGHlyis5V"
      },
      "source": [
        "#### 불균형한 클래스 다루기\n",
        "\n",
        "• 불균형한 클래스를 적절히 처리하지 않으면 모델의 성능을 감소시킬 수 있습니다\n",
        "\n",
        "• 사이킷런의 많은 머신러닝 알고리즘은 불균형한 클래스를 바로 잡을 수 있는 방법을 내장하고 있습니다.\n",
        "\n",
        "• RandomForestClassifier의 class_weight 매개변수 - 불균형한 클래스를 교정\n",
        "\n",
        "클래스 이름과 원하는 상대적 가중치를 딕셔너리로 만들어 주입하면 그에 따라 RandomForestClassifier가 클래스에 가중치를 부여합니다.\n",
        "\n",
        "매개변수값 balanced옵션은 데이터에 등장한 비율의 역수로 클래스 가중치를 자동으로 부여"
      ]
    },
    {
      "cell_type": "code",
      "metadata": {
        "colab": {
          "base_uri": "https://localhost:8080/"
        },
        "id": "8dUagrtPizzO",
        "outputId": "99526a65-8ecc-42fc-ae78-4408aa8e6c93"
      },
      "source": [
        "import numpy as np\n",
        "from sklearn.ensemble import RandomForestClassifier\n",
        "from sklearn import datasets\n",
        "\n",
        "iris = datasets.load_iris() # 데이터 로드\n",
        "features = iris.data\n",
        "target = iris.target\n",
        "features = features[40:,:] # 처음 40개의 샘플을 제거, 불균형한 데이터 생성\n",
        "target = target[40:] #\n",
        "# 0인 클래스 이외에는 모두 1인 타깃 벡터를 만듭니다.\n",
        "target = np.where((target == 0), 0, 1)\n",
        "\n",
        "randomforest = RandomForestClassifier( random_state=0, n_jobs=-1, class_weight=\"balanced\")\n",
        "model = randomforest.fit(features, target) # 모델 훈련\n",
        "110/(2*10) # 작은 클래스의 가중치를 계산\n",
        "110/(2*100) # 큰 클래스의 가중치를 계산"
      ],
      "execution_count": 28,
      "outputs": [
        {
          "output_type": "execute_result",
          "data": {
            "text/plain": [
              "0.55"
            ]
          },
          "metadata": {
            "tags": []
          },
          "execution_count": 28
        }
      ]
    },
    {
      "cell_type": "markdown",
      "metadata": {
        "id": "t9s76ePhnZBi"
      },
      "source": [
        "#### 부스팅을 사용한 성능 향상\n",
        "\n",
        "• 결정 트리나 랜덤 포레스트보다 더 높은 성능를 가진 모델\n",
        "\n",
        "• AdaBoost 부스팅 형식은 이전 모델이 잘못 예측한 샘플에 높은 우선순위를 부여하는 식으로 약한 모델을 연속적으로 훈련합니다."
      ]
    },
    {
      "cell_type": "code",
      "metadata": {
        "colab": {
          "base_uri": "https://localhost:8080/"
        },
        "id": "Vcw8trYTn1a0",
        "outputId": "21f07ae0-7f96-4c39-e0ef-a9b7b1c03392"
      },
      "source": [
        "from sklearn.ensemble import AdaBoostClassifier\n",
        "\n",
        "X = iris.data\n",
        "y = iris.target\n",
        "X_train, X_test, y_train, y_test = train_test_split(X, y, test_size=0.3)\n",
        "abc = AdaBoostClassifier(n_estimators=50,\n",
        "                        learning_rate=1)\n",
        "\n",
        "model = abc.fit(X_train, y_train)\n",
        "y_pred=model.predict(X_test)\n",
        "print(\"Accuracy:\", metrics.accuracy_score(y_test, y_pred))"
      ],
      "execution_count": 41,
      "outputs": [
        {
          "output_type": "stream",
          "text": [
            "Accuracy: 0.9777777777777777\n"
          ],
          "name": "stdout"
        }
      ]
    },
    {
      "cell_type": "code",
      "metadata": {
        "colab": {
          "base_uri": "https://localhost:8080/"
        },
        "id": "GVVNRfDipHM4",
        "outputId": "4fddab03-1706-4c15-a89f-1968f7eac993"
      },
      "source": [
        "from sklearn.svm import SVC\n",
        "\n",
        "svc = SVC(probability=True, kernel='linear')\n",
        "abc = AdaBoostClassifier(n_estimators=50,base_estimator=svc,learning_rate=1)\n",
        "model = abc.fit(X_train, y_train)\n",
        "y_pred=model.predict(X_test)\n",
        "print(\"Accuracy:\", metrics.accuracy_score(y_test, y_pred))"
      ],
      "execution_count": 34,
      "outputs": [
        {
          "output_type": "stream",
          "text": [
            "Accuracy: 0.9777777777777777\n"
          ],
          "name": "stdout"
        }
      ]
    },
    {
      "cell_type": "markdown",
      "metadata": {
        "id": "DvF7WhlVnxeF"
      },
      "source": [
        "• base_estimator : 약한 모델을 훈련하는 데 사용할 학습 알고리즘 (기본값은 결정 트리)\n",
        "\n",
        "• n_estimators : 반복적으로 훈련할 모델의 개수\n",
        "\n",
        "• learning_rate : 각 모델이 부여하는 가중치 정도 (기본값은 1) 학습률을 감소하면 가중치 감소나 증가량이 줄어들기 때문에 모델의 훈련 속도를 느리게 만듭니다.\n",
        "\n",
        "• loss : 가중치를 업데이트할 때 사용하는 손실 함수를 지정 (AdaBoostRegressor에만 해당)"
      ]
    },
    {
      "cell_type": "code",
      "metadata": {
        "colab": {
          "base_uri": "https://localhost:8080/"
        },
        "id": "lOdYvbK9qDdW",
        "outputId": "4d5cabca-b949-4673-b5f4-be204295346b"
      },
      "source": [
        "from sklearn.ensemble import AdaBoostClassifier\n",
        "from sklearn import datasets\n",
        "\n",
        "iris = datasets.load_iris() # 데이터 로드\n",
        "features = iris.data\n",
        "target = iris.target\n",
        "\n",
        "adaboost = AdaBoostClassifier(random_state=0) # 에이다부스트 트리 분류기의 객체 생성\n",
        "\n",
        "model = adaboost.fit(X_train, y_train) ## 모델 훈련\n",
        "\n",
        "y_pred=model.predict(X_test)\n",
        "print(\"Accuracy:\", metrics.accuracy_score(y_test, y_pred))"
      ],
      "execution_count": 35,
      "outputs": [
        {
          "output_type": "stream",
          "text": [
            "Accuracy: 0.9555555555555556\n"
          ],
          "name": "stdout"
        }
      ]
    },
    {
      "cell_type": "markdown",
      "metadata": {
        "id": "WqwngqVop36K"
      },
      "source": [
        "• AdaBoostClassifier - 예측할 때 각 학습기에 부여된 가중치를 더하여 가장 높은 점수의 클래스가 예측 결과가 됩니다.\n",
        "\n",
        "• AdaBoostRegressor - 개별 학습기의 결과를 정렬하여 예측기 가중치의 누적값이 중간 지점에 있는 결과를 사용\n",
        "\n",
        "• Graident Boosting - AdaBoost와 달리 이전 학습기가 만든 잔여 오차에 새로운 트리를 훈련하는 방식으로 앙상블 모델을 구성하여 높은 성능을 냅니다.\n",
        "\n",
        "• GradientBoostingClassifier와 GradientBoostingRegressor 모두 깊이가 3이고 criterion이 'friedman_mse'인  \n",
        "DecisionTreeRegressor를 사용합니다"
      ]
    },
    {
      "cell_type": "code",
      "metadata": {
        "colab": {
          "base_uri": "https://localhost:8080/"
        },
        "id": "aUMpStdIqGM8",
        "outputId": "d67b3822-ee4c-49b4-c106-081a6ee0e076"
      },
      "source": [
        "from sklearn.ensemble import GradientBoostingClassifier\n",
        "\n",
        "# 그래디언트 부스팅 분류기의 객체를 만듭니다.\n",
        "gradientboost = GradientBoostingClassifier(random_state=0)\n",
        "\n",
        "model = gradientboost.fit(X_train, y_train) # 모델 훈련\n",
        "\n",
        "y_pred=model.predict(X_test)\n",
        "print(\"Accuracy:\", metrics.accuracy_score(y_test, y_pred))"
      ],
      "execution_count": 36,
      "outputs": [
        {
          "output_type": "stream",
          "text": [
            "Accuracy: 0.9777777777777777\n"
          ],
          "name": "stdout"
        }
      ]
    },
    {
      "cell_type": "markdown",
      "metadata": {
        "id": "xAqSfE-LqzT5"
      },
      "source": [
        "• 히스토그램 기반의 그레이디언트 부스팅 : XGBoost, LightGBM 라이브러리에 구현된 HistGradientBoostingClassifier\n",
        "와 HistGradientBoostingRegressor\n",
        "\n",
        "• 훈련 데이터를 정수 구간(bin)으로 변환한 후 훈련\n",
        "\n",
        "• GradientBoosting 보다 빠름\n",
        "\n",
        "• max_bins(구간의 최대 개수 지정)의 기본값은 256"
      ]
    },
    {
      "cell_type": "code",
      "metadata": {
        "colab": {
          "base_uri": "https://localhost:8080/"
        },
        "id": "JP1KKn4uqtsB",
        "outputId": "56967a0f-d6e0-4392-8ed9-438ee77f27d8"
      },
      "source": [
        "from sklearn.experimental import enable_hist_gradient_boosting\n",
        "from sklearn.ensemble import HistGradientBoostingClassifier\n",
        "\n",
        "# 히스토그램 기반의 그래디언트 부스팅 분류기의 객체를 만듭니다.\n",
        "histgradientboost = HistGradientBoostingClassifier(random_state=0)\n",
        "\n",
        "model = histgradientboost.fit(X_train, y_train) # 모델 훈련\n",
        "\n",
        "y_pred=model.predict(X_test)\n",
        "print(\"Accuracy:\", metrics.accuracy_score(y_test, y_pred))"
      ],
      "execution_count": 37,
      "outputs": [
        {
          "output_type": "stream",
          "text": [
            "Accuracy: 0.9777777777777777\n"
          ],
          "name": "stdout"
        }
      ]
    },
    {
      "cell_type": "markdown",
      "metadata": {
        "id": "S72_m9fHrV2f"
      },
      "source": [
        "### K-Nearest Neighbor\n",
        "\n",
        "#### kNN(k-Nearest Neighbors)\n",
        "\n",
        "• 지도 학습에 활용되는 가장 단순한 종류의 알고리즘\n",
        "\n",
        "• 기술적으로 예측을 만들기 위해 모델을 훈련하지 않고 가장 가까운 k 개의 샘플에서 다수의 클래스를 그 샘플의\n",
        "클래스로 예측\n",
        "\n",
        "• Nearest Neighbour - 새로운 멤버와 가장 가깝게 위치하는 멤버가 속해 있는 그룹으로 분류\n",
        "\n",
        "• 주어진 개수만큼 가까운 멤버들과 비교하여 판단하는 방법을 k-Nearest Neighbours 알고리즘이라 부릅니다.\n",
        "\n",
        "• 주어지는 멤버 개수를 k로 표현\n",
        "\n",
        "• 가까운 멤버에는 가중치를 높게, 멀리 떨어져 있는 멤버에는 가중치를 낮게 하는 것이 바람직합니다."
      ]
    },
    {
      "cell_type": "code",
      "metadata": {
        "colab": {
          "base_uri": "https://localhost:8080/"
        },
        "id": "5eM-DdKBtLlx",
        "outputId": "e08a0265-edfc-4353-b3a5-3f05ab96b37b"
      },
      "source": [
        "wine = datasets.load_wine()\n",
        "print(wine.feature_names)\n",
        "print(wine.target_names)"
      ],
      "execution_count": 53,
      "outputs": [
        {
          "output_type": "stream",
          "text": [
            "['alcohol', 'malic_acid', 'ash', 'alcalinity_of_ash', 'magnesium', 'total_phenols', 'flavanoids', 'nonflavanoid_phenols', 'proanthocyanins', 'color_intensity', 'hue', 'od280/od315_of_diluted_wines', 'proline']\n",
            "['class_0' 'class_1' 'class_2']\n"
          ],
          "name": "stdout"
        }
      ]
    },
    {
      "cell_type": "code",
      "metadata": {
        "colab": {
          "base_uri": "https://localhost:8080/"
        },
        "id": "pbfUtXKmvdTv",
        "outputId": "ccae6318-68ac-4099-a0e9-8cac7119297f"
      },
      "source": [
        "print(wine.target)"
      ],
      "execution_count": 59,
      "outputs": [
        {
          "output_type": "stream",
          "text": [
            "[0 0 0 0 0 0 0 0 0 0 0 0 0 0 0 0 0 0 0 0 0 0 0 0 0 0 0 0 0 0 0 0 0 0 0 0 0\n",
            " 0 0 0 0 0 0 0 0 0 0 0 0 0 0 0 0 0 0 0 0 0 0 1 1 1 1 1 1 1 1 1 1 1 1 1 1 1\n",
            " 1 1 1 1 1 1 1 1 1 1 1 1 1 1 1 1 1 1 1 1 1 1 1 1 1 1 1 1 1 1 1 1 1 1 1 1 1\n",
            " 1 1 1 1 1 1 1 1 1 1 1 1 1 1 1 1 1 1 1 2 2 2 2 2 2 2 2 2 2 2 2 2 2 2 2 2 2\n",
            " 2 2 2 2 2 2 2 2 2 2 2 2 2 2 2 2 2 2 2 2 2 2 2 2 2 2 2 2 2 2]\n"
          ],
          "name": "stdout"
        }
      ]
    },
    {
      "cell_type": "code",
      "metadata": {
        "colab": {
          "base_uri": "https://localhost:8080/"
        },
        "id": "lkjSkbfWufzL",
        "outputId": "f153149f-e061-48be-9b75-861f016b3865"
      },
      "source": [
        "print(wine.data[0:5])"
      ],
      "execution_count": 55,
      "outputs": [
        {
          "output_type": "stream",
          "text": [
            "[[1.423e+01 1.710e+00 2.430e+00 1.560e+01 1.270e+02 2.800e+00 3.060e+00\n",
            "  2.800e-01 2.290e+00 5.640e+00 1.040e+00 3.920e+00 1.065e+03]\n",
            " [1.320e+01 1.780e+00 2.140e+00 1.120e+01 1.000e+02 2.650e+00 2.760e+00\n",
            "  2.600e-01 1.280e+00 4.380e+00 1.050e+00 3.400e+00 1.050e+03]\n",
            " [1.316e+01 2.360e+00 2.670e+00 1.860e+01 1.010e+02 2.800e+00 3.240e+00\n",
            "  3.000e-01 2.810e+00 5.680e+00 1.030e+00 3.170e+00 1.185e+03]\n",
            " [1.437e+01 1.950e+00 2.500e+00 1.680e+01 1.130e+02 3.850e+00 3.490e+00\n",
            "  2.400e-01 2.180e+00 7.800e+00 8.600e-01 3.450e+00 1.480e+03]\n",
            " [1.324e+01 2.590e+00 2.870e+00 2.100e+01 1.180e+02 2.800e+00 2.690e+00\n",
            "  3.900e-01 1.820e+00 4.320e+00 1.040e+00 2.930e+00 7.350e+02]]\n"
          ],
          "name": "stdout"
        }
      ]
    },
    {
      "cell_type": "code",
      "metadata": {
        "colab": {
          "base_uri": "https://localhost:8080/"
        },
        "id": "I7izmlbSui_L",
        "outputId": "2126012e-262b-4b14-c1e9-c7f7520faee2"
      },
      "source": [
        "print(wine.data.shape)"
      ],
      "execution_count": 56,
      "outputs": [
        {
          "output_type": "stream",
          "text": [
            "(178, 13)\n"
          ],
          "name": "stdout"
        }
      ]
    },
    {
      "cell_type": "code",
      "metadata": {
        "colab": {
          "base_uri": "https://localhost:8080/"
        },
        "id": "aemedF2EuuuO",
        "outputId": "c22fc5e9-d2dd-4097-d6ee-5273959be1ae"
      },
      "source": [
        "from sklearn.neighbors import KNeighborsClassifier\n",
        "\n",
        "X_train, X_test, y_train, y_test = train_test_split(X, y, test_size=0.3)\n",
        "\n",
        "knn = KNeighborsClassifier(n_neighbors=5) # 모델 훈련\n",
        "knn.fit(X_train, y_train)\n",
        "y_pred=model.predict(X_test)\n",
        "print(\"Accuracy:\", metrics.accuracy_score(y_test, y_pred))"
      ],
      "execution_count": 57,
      "outputs": [
        {
          "output_type": "stream",
          "text": [
            "Accuracy: 0.9333333333333333\n"
          ],
          "name": "stdout"
        }
      ]
    }
  ]
}