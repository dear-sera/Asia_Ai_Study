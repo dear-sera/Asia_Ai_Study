{
  "nbformat": 4,
  "nbformat_minor": 0,
  "metadata": {
    "colab": {
      "name": "MachinLearning_day1.ipynb",
      "provenance": [],
      "collapsed_sections": [],
      "authorship_tag": "ABX9TyMCSUA7MJlhJSagDCySLrOh",
      "include_colab_link": true
    },
    "kernelspec": {
      "name": "python3",
      "display_name": "Python 3"
    },
    "language_info": {
      "name": "python"
    }
  },
  "cells": [
    {
      "cell_type": "markdown",
      "metadata": {
        "id": "view-in-github",
        "colab_type": "text"
      },
      "source": [
        "<a href=\"https://colab.research.google.com/github/sera0911/asia_ai_study/blob/main/MachinLearning/MachinLearning_day1.ipynb\" target=\"_parent\"><img src=\"https://colab.research.google.com/assets/colab-badge.svg\" alt=\"Open In Colab\"/></a>"
      ]
    },
    {
      "cell_type": "markdown",
      "metadata": {
        "id": "OnF9iEssx2Xx"
      },
      "source": [
        "### 머신러닝 단계\n",
        "\n",
        "1. Business Understanding\n",
        "2. Data Understanding - 데이터 수집(웹 스크레핑, 외부API, 공공데이터, 탐색(기술통계, 차트))\n",
        "3. Data Preparation - 머신 학습을 위해서 벡터 변환\n",
        "4. Modeling - 학습, 테스터, 검증 데이터 분할   \n",
        "   적용 알고리즘과 하이퍼파라미터 설정  \n",
        "   fit() 학습 => 모델 생성 \n",
        "5. 예측\n",
        "6. 평가\n",
        "7. 배포(실무에 적용)\n",
        "\n",
        "\n"
      ]
    },
    {
      "cell_type": "markdown",
      "metadata": {
        "id": "ZKqzuPkwJsjv"
      },
      "source": [
        "사이킷런 (scikit-learn) 개발 패턴   \n",
        "1. 데이터 분할 – 모델을 학습시키기 위한 데이터셋과 모델의 성능을 테스트하기 위한 데이터셋으로 분리한\n",
        "다\n",
        "2. 모델 생성 – 예측 목적에 맞는 모델 생성, 하이퍼파라미터 설정   \n",
        "하이퍼파라미터 – 학습에 의해 찾는 값이 아닌 개발자가 직접 설정해야 하는 파라미터\n",
        "3. 모델 학습 - fit, 훈련 데이터로 모델 학습 또는 특징 추출\n",
        "4. 예측 – predict / predict_prob(예측), transform(변환)\n",
        "테스트 데이터셋 예측 또는 변환\n",
        "5. 평가 – 모델 성능 평가\n",
        "정확도, AUC, R2, MSE 등 목적에 맞는 적절한 평가 함수를 이용해 결과 확인"
      ]
    },
    {
      "cell_type": "markdown",
      "metadata": {
        "id": "u438qQ2dJxsu"
      },
      "source": [
        "샘플 데이터 셋 로드  \n",
        "• data는 피처의 데이터 세트  \n",
        "\n",
        "• taget은 분류시 레이블 값, 회귀일 때는 숫자 결과값 데이터 세트  \n",
        "\n",
        "• target_name : roquf 에이블의 이름  \n",
        "\n",
        "• feature_names : 피처의 이름  \n",
        "\n",
        "• DESCR : 데이터 세트에 대한 설명과 각 피처의 설명  "
      ]
    },
    {
      "cell_type": "code",
      "metadata": {
        "colab": {
          "base_uri": "https://localhost:8080/"
        },
        "id": "NkIdz37gVYJk",
        "outputId": "809cae2f-46e7-4525-da7b-0953acb404c3"
      },
      "source": [
        "%matplotlib inline\n",
        "import numpy as np\n",
        "import matplotlib.pyplot as plt \n",
        "import matplotlib as mpl\n",
        "import matplotlib.font_manager as fm\n",
        "\n",
        "%config InlineBackend.figure_format = 'retina'\n",
        " \n",
        "!apt -qq -y install fonts-nanum\n",
        " \n",
        "fontpath = '/usr/share/fonts/truetype/nanum/NanumBarunGothic.ttf'\n",
        "font = fm.FontProperties(fname=fontpath, size=9)\n",
        "plt.rc('font', family='NanumBarunGothic') \n",
        "mpl.font_manager._rebuild()"
      ],
      "execution_count": 1,
      "outputs": [
        {
          "output_type": "stream",
          "text": [
            "fonts-nanum is already the newest version (20170925-1).\n",
            "The following package was automatically installed and is no longer required:\n",
            "  libnvidia-common-460\n",
            "Use 'apt autoremove' to remove it.\n",
            "0 upgraded, 0 newly installed, 0 to remove and 34 not upgraded.\n"
          ],
          "name": "stdout"
        }
      ]
    },
    {
      "cell_type": "code",
      "metadata": {
        "id": "bxN_9FoivhP7"
      },
      "source": [
        "#iris 샘플 코드\n",
        "from sklearn.datasets import load_iris\n",
        "dataset = load_iris()"
      ],
      "execution_count": 2,
      "outputs": []
    },
    {
      "cell_type": "code",
      "metadata": {
        "colab": {
          "base_uri": "https://localhost:8080/"
        },
        "id": "qhsHSZXyE_Z3",
        "outputId": "eaf0e7cb-f6b3-4580-bbe3-53745e3a857d"
      },
      "source": [
        "type(dataset)"
      ],
      "execution_count": 3,
      "outputs": [
        {
          "output_type": "execute_result",
          "data": {
            "text/plain": [
              "sklearn.utils.Bunch"
            ]
          },
          "metadata": {
            "tags": []
          },
          "execution_count": 3
        }
      ]
    },
    {
      "cell_type": "code",
      "metadata": {
        "colab": {
          "base_uri": "https://localhost:8080/"
        },
        "id": "ndIk4iLCE-ku",
        "outputId": "f9628906-1db6-4a21-eb71-05d90a629c1e"
      },
      "source": [
        "dataset.keys()   #key 값을 확인"
      ],
      "execution_count": 4,
      "outputs": [
        {
          "output_type": "execute_result",
          "data": {
            "text/plain": [
              "dict_keys(['data', 'target', 'target_names', 'DESCR', 'feature_names', 'filename'])"
            ]
          },
          "metadata": {
            "tags": []
          },
          "execution_count": 4
        }
      ]
    },
    {
      "cell_type": "code",
      "metadata": {
        "colab": {
          "base_uri": "https://localhost:8080/"
        },
        "id": "w2cvdqZ3FFe7",
        "outputId": "43f3f1ea-da69-440c-df02-f8a58656e7f4"
      },
      "source": [
        "dataset['data']   #data 는 학습해야 할 feed용 데이터를 의미"
      ],
      "execution_count": 5,
      "outputs": [
        {
          "output_type": "execute_result",
          "data": {
            "text/plain": [
              "array([[5.1, 3.5, 1.4, 0.2],\n",
              "       [4.9, 3. , 1.4, 0.2],\n",
              "       [4.7, 3.2, 1.3, 0.2],\n",
              "       [4.6, 3.1, 1.5, 0.2],\n",
              "       [5. , 3.6, 1.4, 0.2],\n",
              "       [5.4, 3.9, 1.7, 0.4],\n",
              "       [4.6, 3.4, 1.4, 0.3],\n",
              "       [5. , 3.4, 1.5, 0.2],\n",
              "       [4.4, 2.9, 1.4, 0.2],\n",
              "       [4.9, 3.1, 1.5, 0.1],\n",
              "       [5.4, 3.7, 1.5, 0.2],\n",
              "       [4.8, 3.4, 1.6, 0.2],\n",
              "       [4.8, 3. , 1.4, 0.1],\n",
              "       [4.3, 3. , 1.1, 0.1],\n",
              "       [5.8, 4. , 1.2, 0.2],\n",
              "       [5.7, 4.4, 1.5, 0.4],\n",
              "       [5.4, 3.9, 1.3, 0.4],\n",
              "       [5.1, 3.5, 1.4, 0.3],\n",
              "       [5.7, 3.8, 1.7, 0.3],\n",
              "       [5.1, 3.8, 1.5, 0.3],\n",
              "       [5.4, 3.4, 1.7, 0.2],\n",
              "       [5.1, 3.7, 1.5, 0.4],\n",
              "       [4.6, 3.6, 1. , 0.2],\n",
              "       [5.1, 3.3, 1.7, 0.5],\n",
              "       [4.8, 3.4, 1.9, 0.2],\n",
              "       [5. , 3. , 1.6, 0.2],\n",
              "       [5. , 3.4, 1.6, 0.4],\n",
              "       [5.2, 3.5, 1.5, 0.2],\n",
              "       [5.2, 3.4, 1.4, 0.2],\n",
              "       [4.7, 3.2, 1.6, 0.2],\n",
              "       [4.8, 3.1, 1.6, 0.2],\n",
              "       [5.4, 3.4, 1.5, 0.4],\n",
              "       [5.2, 4.1, 1.5, 0.1],\n",
              "       [5.5, 4.2, 1.4, 0.2],\n",
              "       [4.9, 3.1, 1.5, 0.2],\n",
              "       [5. , 3.2, 1.2, 0.2],\n",
              "       [5.5, 3.5, 1.3, 0.2],\n",
              "       [4.9, 3.6, 1.4, 0.1],\n",
              "       [4.4, 3. , 1.3, 0.2],\n",
              "       [5.1, 3.4, 1.5, 0.2],\n",
              "       [5. , 3.5, 1.3, 0.3],\n",
              "       [4.5, 2.3, 1.3, 0.3],\n",
              "       [4.4, 3.2, 1.3, 0.2],\n",
              "       [5. , 3.5, 1.6, 0.6],\n",
              "       [5.1, 3.8, 1.9, 0.4],\n",
              "       [4.8, 3. , 1.4, 0.3],\n",
              "       [5.1, 3.8, 1.6, 0.2],\n",
              "       [4.6, 3.2, 1.4, 0.2],\n",
              "       [5.3, 3.7, 1.5, 0.2],\n",
              "       [5. , 3.3, 1.4, 0.2],\n",
              "       [7. , 3.2, 4.7, 1.4],\n",
              "       [6.4, 3.2, 4.5, 1.5],\n",
              "       [6.9, 3.1, 4.9, 1.5],\n",
              "       [5.5, 2.3, 4. , 1.3],\n",
              "       [6.5, 2.8, 4.6, 1.5],\n",
              "       [5.7, 2.8, 4.5, 1.3],\n",
              "       [6.3, 3.3, 4.7, 1.6],\n",
              "       [4.9, 2.4, 3.3, 1. ],\n",
              "       [6.6, 2.9, 4.6, 1.3],\n",
              "       [5.2, 2.7, 3.9, 1.4],\n",
              "       [5. , 2. , 3.5, 1. ],\n",
              "       [5.9, 3. , 4.2, 1.5],\n",
              "       [6. , 2.2, 4. , 1. ],\n",
              "       [6.1, 2.9, 4.7, 1.4],\n",
              "       [5.6, 2.9, 3.6, 1.3],\n",
              "       [6.7, 3.1, 4.4, 1.4],\n",
              "       [5.6, 3. , 4.5, 1.5],\n",
              "       [5.8, 2.7, 4.1, 1. ],\n",
              "       [6.2, 2.2, 4.5, 1.5],\n",
              "       [5.6, 2.5, 3.9, 1.1],\n",
              "       [5.9, 3.2, 4.8, 1.8],\n",
              "       [6.1, 2.8, 4. , 1.3],\n",
              "       [6.3, 2.5, 4.9, 1.5],\n",
              "       [6.1, 2.8, 4.7, 1.2],\n",
              "       [6.4, 2.9, 4.3, 1.3],\n",
              "       [6.6, 3. , 4.4, 1.4],\n",
              "       [6.8, 2.8, 4.8, 1.4],\n",
              "       [6.7, 3. , 5. , 1.7],\n",
              "       [6. , 2.9, 4.5, 1.5],\n",
              "       [5.7, 2.6, 3.5, 1. ],\n",
              "       [5.5, 2.4, 3.8, 1.1],\n",
              "       [5.5, 2.4, 3.7, 1. ],\n",
              "       [5.8, 2.7, 3.9, 1.2],\n",
              "       [6. , 2.7, 5.1, 1.6],\n",
              "       [5.4, 3. , 4.5, 1.5],\n",
              "       [6. , 3.4, 4.5, 1.6],\n",
              "       [6.7, 3.1, 4.7, 1.5],\n",
              "       [6.3, 2.3, 4.4, 1.3],\n",
              "       [5.6, 3. , 4.1, 1.3],\n",
              "       [5.5, 2.5, 4. , 1.3],\n",
              "       [5.5, 2.6, 4.4, 1.2],\n",
              "       [6.1, 3. , 4.6, 1.4],\n",
              "       [5.8, 2.6, 4. , 1.2],\n",
              "       [5. , 2.3, 3.3, 1. ],\n",
              "       [5.6, 2.7, 4.2, 1.3],\n",
              "       [5.7, 3. , 4.2, 1.2],\n",
              "       [5.7, 2.9, 4.2, 1.3],\n",
              "       [6.2, 2.9, 4.3, 1.3],\n",
              "       [5.1, 2.5, 3. , 1.1],\n",
              "       [5.7, 2.8, 4.1, 1.3],\n",
              "       [6.3, 3.3, 6. , 2.5],\n",
              "       [5.8, 2.7, 5.1, 1.9],\n",
              "       [7.1, 3. , 5.9, 2.1],\n",
              "       [6.3, 2.9, 5.6, 1.8],\n",
              "       [6.5, 3. , 5.8, 2.2],\n",
              "       [7.6, 3. , 6.6, 2.1],\n",
              "       [4.9, 2.5, 4.5, 1.7],\n",
              "       [7.3, 2.9, 6.3, 1.8],\n",
              "       [6.7, 2.5, 5.8, 1.8],\n",
              "       [7.2, 3.6, 6.1, 2.5],\n",
              "       [6.5, 3.2, 5.1, 2. ],\n",
              "       [6.4, 2.7, 5.3, 1.9],\n",
              "       [6.8, 3. , 5.5, 2.1],\n",
              "       [5.7, 2.5, 5. , 2. ],\n",
              "       [5.8, 2.8, 5.1, 2.4],\n",
              "       [6.4, 3.2, 5.3, 2.3],\n",
              "       [6.5, 3. , 5.5, 1.8],\n",
              "       [7.7, 3.8, 6.7, 2.2],\n",
              "       [7.7, 2.6, 6.9, 2.3],\n",
              "       [6. , 2.2, 5. , 1.5],\n",
              "       [6.9, 3.2, 5.7, 2.3],\n",
              "       [5.6, 2.8, 4.9, 2. ],\n",
              "       [7.7, 2.8, 6.7, 2. ],\n",
              "       [6.3, 2.7, 4.9, 1.8],\n",
              "       [6.7, 3.3, 5.7, 2.1],\n",
              "       [7.2, 3.2, 6. , 1.8],\n",
              "       [6.2, 2.8, 4.8, 1.8],\n",
              "       [6.1, 3. , 4.9, 1.8],\n",
              "       [6.4, 2.8, 5.6, 2.1],\n",
              "       [7.2, 3. , 5.8, 1.6],\n",
              "       [7.4, 2.8, 6.1, 1.9],\n",
              "       [7.9, 3.8, 6.4, 2. ],\n",
              "       [6.4, 2.8, 5.6, 2.2],\n",
              "       [6.3, 2.8, 5.1, 1.5],\n",
              "       [6.1, 2.6, 5.6, 1.4],\n",
              "       [7.7, 3. , 6.1, 2.3],\n",
              "       [6.3, 3.4, 5.6, 2.4],\n",
              "       [6.4, 3.1, 5.5, 1.8],\n",
              "       [6. , 3. , 4.8, 1.8],\n",
              "       [6.9, 3.1, 5.4, 2.1],\n",
              "       [6.7, 3.1, 5.6, 2.4],\n",
              "       [6.9, 3.1, 5.1, 2.3],\n",
              "       [5.8, 2.7, 5.1, 1.9],\n",
              "       [6.8, 3.2, 5.9, 2.3],\n",
              "       [6.7, 3.3, 5.7, 2.5],\n",
              "       [6.7, 3. , 5.2, 2.3],\n",
              "       [6.3, 2.5, 5. , 1.9],\n",
              "       [6.5, 3. , 5.2, 2. ],\n",
              "       [6.2, 3.4, 5.4, 2.3],\n",
              "       [5.9, 3. , 5.1, 1.8]])"
            ]
          },
          "metadata": {
            "tags": []
          },
          "execution_count": 5
        }
      ]
    },
    {
      "cell_type": "code",
      "metadata": {
        "colab": {
          "base_uri": "https://localhost:8080/"
        },
        "id": "z6-lz3jwFIrk",
        "outputId": "84f4ec71-8280-425c-a3b1-7f244f970468"
      },
      "source": [
        "dataset['target']   #target은 label 데이터 이며, 예측해야 할 (class) 데이터"
      ],
      "execution_count": 6,
      "outputs": [
        {
          "output_type": "execute_result",
          "data": {
            "text/plain": [
              "array([0, 0, 0, 0, 0, 0, 0, 0, 0, 0, 0, 0, 0, 0, 0, 0, 0, 0, 0, 0, 0, 0,\n",
              "       0, 0, 0, 0, 0, 0, 0, 0, 0, 0, 0, 0, 0, 0, 0, 0, 0, 0, 0, 0, 0, 0,\n",
              "       0, 0, 0, 0, 0, 0, 1, 1, 1, 1, 1, 1, 1, 1, 1, 1, 1, 1, 1, 1, 1, 1,\n",
              "       1, 1, 1, 1, 1, 1, 1, 1, 1, 1, 1, 1, 1, 1, 1, 1, 1, 1, 1, 1, 1, 1,\n",
              "       1, 1, 1, 1, 1, 1, 1, 1, 1, 1, 1, 1, 2, 2, 2, 2, 2, 2, 2, 2, 2, 2,\n",
              "       2, 2, 2, 2, 2, 2, 2, 2, 2, 2, 2, 2, 2, 2, 2, 2, 2, 2, 2, 2, 2, 2,\n",
              "       2, 2, 2, 2, 2, 2, 2, 2, 2, 2, 2, 2, 2, 2, 2, 2, 2, 2])"
            ]
          },
          "metadata": {
            "tags": []
          },
          "execution_count": 6
        }
      ]
    },
    {
      "cell_type": "code",
      "metadata": {
        "colab": {
          "base_uri": "https://localhost:8080/"
        },
        "id": "0nD9bwVhFLGc",
        "outputId": "e7e313c3-4c96-4133-c614-6ee78c332349"
      },
      "source": [
        "dataset['target_names']   #target_names 는 0, 1, 2와 같이 숫자로 된 데이터들의 원 이름"
      ],
      "execution_count": 7,
      "outputs": [
        {
          "output_type": "execute_result",
          "data": {
            "text/plain": [
              "array(['setosa', 'versicolor', 'virginica'], dtype='<U10')"
            ]
          },
          "metadata": {
            "tags": []
          },
          "execution_count": 7
        }
      ]
    },
    {
      "cell_type": "code",
      "metadata": {
        "colab": {
          "base_uri": "https://localhost:8080/",
          "height": 195
        },
        "id": "U7VgCzVqFNFD",
        "outputId": "0f6bd1e1-0318-46bd-f470-df094a4cc7e8"
      },
      "source": [
        "dataset['DESCR']   #DESCR은 description입니다. 데이터 셋에 대한 설명을 제공"
      ],
      "execution_count": 8,
      "outputs": [
        {
          "output_type": "execute_result",
          "data": {
            "application/vnd.google.colaboratory.intrinsic+json": {
              "type": "string"
            },
            "text/plain": [
              "'.. _iris_dataset:\\n\\nIris plants dataset\\n--------------------\\n\\n**Data Set Characteristics:**\\n\\n    :Number of Instances: 150 (50 in each of three classes)\\n    :Number of Attributes: 4 numeric, predictive attributes and the class\\n    :Attribute Information:\\n        - sepal length in cm\\n        - sepal width in cm\\n        - petal length in cm\\n        - petal width in cm\\n        - class:\\n                - Iris-Setosa\\n                - Iris-Versicolour\\n                - Iris-Virginica\\n                \\n    :Summary Statistics:\\n\\n    ============== ==== ==== ======= ===== ====================\\n                    Min  Max   Mean    SD   Class Correlation\\n    ============== ==== ==== ======= ===== ====================\\n    sepal length:   4.3  7.9   5.84   0.83    0.7826\\n    sepal width:    2.0  4.4   3.05   0.43   -0.4194\\n    petal length:   1.0  6.9   3.76   1.76    0.9490  (high!)\\n    petal width:    0.1  2.5   1.20   0.76    0.9565  (high!)\\n    ============== ==== ==== ======= ===== ====================\\n\\n    :Missing Attribute Values: None\\n    :Class Distribution: 33.3% for each of 3 classes.\\n    :Creator: R.A. Fisher\\n    :Donor: Michael Marshall (MARSHALL%PLU@io.arc.nasa.gov)\\n    :Date: July, 1988\\n\\nThe famous Iris database, first used by Sir R.A. Fisher. The dataset is taken\\nfrom Fisher\\'s paper. Note that it\\'s the same as in R, but not as in the UCI\\nMachine Learning Repository, which has two wrong data points.\\n\\nThis is perhaps the best known database to be found in the\\npattern recognition literature.  Fisher\\'s paper is a classic in the field and\\nis referenced frequently to this day.  (See Duda & Hart, for example.)  The\\ndata set contains 3 classes of 50 instances each, where each class refers to a\\ntype of iris plant.  One class is linearly separable from the other 2; the\\nlatter are NOT linearly separable from each other.\\n\\n.. topic:: References\\n\\n   - Fisher, R.A. \"The use of multiple measurements in taxonomic problems\"\\n     Annual Eugenics, 7, Part II, 179-188 (1936); also in \"Contributions to\\n     Mathematical Statistics\" (John Wiley, NY, 1950).\\n   - Duda, R.O., & Hart, P.E. (1973) Pattern Classification and Scene Analysis.\\n     (Q327.D83) John Wiley & Sons.  ISBN 0-471-22361-1.  See page 218.\\n   - Dasarathy, B.V. (1980) \"Nosing Around the Neighborhood: A New System\\n     Structure and Classification Rule for Recognition in Partially Exposed\\n     Environments\".  IEEE Transactions on Pattern Analysis and Machine\\n     Intelligence, Vol. PAMI-2, No. 1, 67-71.\\n   - Gates, G.W. (1972) \"The Reduced Nearest Neighbor Rule\".  IEEE Transactions\\n     on Information Theory, May 1972, 431-433.\\n   - See also: 1988 MLC Proceedings, 54-64.  Cheeseman et al\"s AUTOCLASS II\\n     conceptual clustering system finds 3 classes in the data.\\n   - Many, many more ...'"
            ]
          },
          "metadata": {
            "tags": []
          },
          "execution_count": 8
        }
      ]
    },
    {
      "cell_type": "code",
      "metadata": {
        "colab": {
          "base_uri": "https://localhost:8080/"
        },
        "id": "OtoJAvb_FPYm",
        "outputId": "d1160628-d97f-475f-e8dd-84a3cfe5e2ed"
      },
      "source": [
        "dataset['feature_names']   #feature_names는 제공되는 (feed되는) 데이터 셋의 column 명"
      ],
      "execution_count": 9,
      "outputs": [
        {
          "output_type": "execute_result",
          "data": {
            "text/plain": [
              "['sepal length (cm)',\n",
              " 'sepal width (cm)',\n",
              " 'petal length (cm)',\n",
              " 'petal width (cm)']"
            ]
          },
          "metadata": {
            "tags": []
          },
          "execution_count": 9
        }
      ]
    },
    {
      "cell_type": "code",
      "metadata": {
        "colab": {
          "base_uri": "https://localhost:8080/",
          "height": 35
        },
        "id": "D2f3PUjFFQaM",
        "outputId": "67ce8085-e522-4b35-ab29-f8889eda6c01"
      },
      "source": [
        "dataset['filename']   #filename은 datasets을 다운로드 받은 경로를 return"
      ],
      "execution_count": 10,
      "outputs": [
        {
          "output_type": "execute_result",
          "data": {
            "application/vnd.google.colaboratory.intrinsic+json": {
              "type": "string"
            },
            "text/plain": [
              "'/usr/local/lib/python3.7/dist-packages/sklearn/datasets/data/iris.csv'"
            ]
          },
          "metadata": {
            "tags": []
          },
          "execution_count": 10
        }
      ]
    },
    {
      "cell_type": "markdown",
      "metadata": {
        "id": "WfAUvXiKJ5yg"
      },
      "source": [
        "• dataset 자체가 order가 깔끔히 정렬된 상태이기 때문에 반드시 dataset을 shuffle 해주어야 합니다   \n",
        "\n",
        "• sklearn.model_selection.train_test_split( test_size, train_size, shuffle, random_state) - 학습과 검증 (혹은 테스트) 셋을 나누어 주는 역할을 수행 (shuffle과 split을 수행)   \n",
        "test_size : 전체 데이터에서 테스트 데이터 세트 크기를 얼마로 샘플링할 것인가를 결정   \n",
        "train_size : 전체 데이터에서 학습용 데이터 세트 크기를 얼마로 샘플링할 것인가를 결정  \n",
        "shuffle : 데이터를 분리하기 전에 데이터를 미리 섞을지를 결정   \n",
        "random_state : 호출할때마다 동일한 학습 / 테스트용 데이터 세트를 생성하기 위해 주어지는 난수 값"
      ]
    },
    {
      "cell_type": "code",
      "metadata": {
        "colab": {
          "base_uri": "https://localhost:8080/"
        },
        "id": "BMZE_w2yJ2hq",
        "outputId": "9a058419-5d8f-4eb4-e4ae-89e92207e984"
      },
      "source": [
        "from sklearn.model_selection import train_test_split\n",
        "\n",
        "#train, test사이즈를 따로 지정하지 않았을 때 기본값 출력 \n",
        "x_train, x_test, y_train, y_test = train_test_split(dataset['data'], dataset['target'])\n",
        "print( x_train.shape, x_test.shape, y_train.shape, y_test.shape)"
      ],
      "execution_count": 11,
      "outputs": [
        {
          "output_type": "stream",
          "text": [
            "(112, 4) (38, 4) (112,) (38,)\n"
          ],
          "name": "stdout"
        }
      ]
    },
    {
      "cell_type": "markdown",
      "metadata": {
        "id": "dC7CRcYrLQbI"
      },
      "source": [
        "• 검증 세트로 과대 적합여부를 모니터링 할 수 있다.\n",
        "\n",
        "• 검증 세트를 활용하여 모델의 성능 평가를 진행할 수 있다.\n",
        "\n",
        "• 주요 hyperparameter :   \n",
        "test_size : validation set에 할당할 비율 (20% -> 0.2), 기본값 0.25  \n",
        "stratify : 분할된 샘플의 class 갯수가 동일한 비율로 유지  \n",
        "random_state : 랜덤 시드값  \n",
        "shuffle : 셔플 옵션, 기본값 True  "
      ]
    },
    {
      "cell_type": "code",
      "metadata": {
        "colab": {
          "base_uri": "https://localhost:8080/"
        },
        "id": "6M6j1gDGLUii",
        "outputId": "8209e021-6cf9-4f7c-fd31-2a58a2030a24"
      },
      "source": [
        "x = dataset['data']\n",
        "y = dataset['target']\n",
        "\n",
        "#사이즈를 지정해줌\n",
        "x_train, x_test, y_train, y_test = train_test_split(x, y, stratify=y, test_size=0.2, random_state=30)\n",
        "x.shape\n",
        "x_train.shape, x_test.shape\n",
        "y.shape\n",
        "y_train.shape, y_test.shape"
      ],
      "execution_count": 12,
      "outputs": [
        {
          "output_type": "execute_result",
          "data": {
            "text/plain": [
              "((120,), (30,))"
            ]
          },
          "metadata": {
            "tags": []
          },
          "execution_count": 12
        }
      ]
    },
    {
      "cell_type": "markdown",
      "metadata": {
        "id": "SA9QYtThMCbk"
      },
      "source": [
        "• make_regression() - 선형 회귀에 사용할 데이터 셋 생성 (선형으로 분산된 데이터를 생성, 가우스 노이즈의 표준  \n",
        "편차, 원하는 피쳐의 수 지정 가능  \n",
        "실수 특성 행렬과 실수 타깃 벡터를 반환  \n",
        "n_informative 는 타깃 벡터를 생성하는 데 사용할 특성 수를 결정, n_features 는 전체 특성 수  \n",
        "\n",
        "• make_classification() - 분류에 필요한 모의 데이터 셋 생성 ,  \n",
        "실수 특성 행렬과 클래스의 소속을 나타내는 정수 타깃 벡터를 반환  \n",
        "weights 매개변수를 사용해 불균형한 클래스를 가진 모의 데이터셋 생성"
      ]
    },
    {
      "cell_type": "markdown",
      "metadata": {
        "id": "e9mPEacgPEz1"
      },
      "source": [
        "n_sample : 표본 데이터 수 (default=100)  \n",
        "n_features : 독립변수의 수 (default=20)  \n",
        "n_informative : 독립변수 중 종속변수와 상관관계가 있는 성분의 수 (default=2)  \n",
        "n_redundant : 독립변수 중 다른 독립 변수의 선형 조합으로 나타나는 성분의 수 (default=2), 불필요한 수   \n",
        "n_classes : 종속변수의 클래스 수 (default=2)   \n",
        "weights : 각 클래스에 할당된 표본 수 (비율)"
      ]
    },
    {
      "cell_type": "code",
      "metadata": {
        "colab": {
          "base_uri": "https://localhost:8080/"
        },
        "id": "jQTejgphMLNm",
        "outputId": "0c635c9a-1c91-4a87-a904-6871c318baa9"
      },
      "source": [
        "from sklearn.datasets import make_regression, make_classification,make_blobs\n",
        "\n",
        "#특성 행렬, 타깃 벡터, 정답계수를 생성\n",
        "features, target, coefficients = make_regression(n_samples = 100,\n",
        "n_features = 3, n_informative = 3, n_targets = 1, noise=0.0, coef=True, random_state = 1)\n",
        "\n",
        "#난수값 데이터는 100개인데 3개만 출력함\n",
        "print('특성 행렬\\n', features[:3])\n",
        "print('타깃 벡터\\n', target[:3])"
      ],
      "execution_count": 13,
      "outputs": [
        {
          "output_type": "stream",
          "text": [
            "특성 행렬\n",
            " [[ 1.29322588 -0.61736206 -0.11044703]\n",
            " [-2.793085    0.36633201  1.93752881]\n",
            " [ 0.80186103 -0.18656977  0.0465673 ]]\n",
            "타깃 벡터\n",
            " [-10.37865986  25.5124503   19.67705609]\n"
          ],
          "name": "stdout"
        }
      ]
    },
    {
      "cell_type": "code",
      "metadata": {
        "colab": {
          "base_uri": "https://localhost:8080/"
        },
        "id": "urhueyJlNPCG",
        "outputId": "213ef94b-26a6-4b15-e522-be40596ad2e7"
      },
      "source": [
        "#n이 총 독립변수의 수 >= informative + redundant로 이루어져야함\n",
        "features, target = make_classification(n_samples = 100,\n",
        "n_features = 5, n_informative = 3, n_redundant = 1, n_classes = 2, weights=[.25, .75], random_state = 1)\n",
        "print('특성 행렬\\n', features[:3])\n",
        "print('타깃 벡터\\n', target[:3])"
      ],
      "execution_count": 14,
      "outputs": [
        {
          "output_type": "stream",
          "text": [
            "특성 행렬\n",
            " [[ 0.80883345 -0.01292975  0.56176937  1.30254895 -0.36397371]\n",
            " [-0.22457245 -1.36055919  1.18167125  1.42343127 -1.23621312]\n",
            " [ 0.89774046 -0.08679062  0.4559873   1.41088304 -0.71636275]]\n",
            "타깃 벡터\n",
            " [1 1 1]\n"
          ],
          "name": "stdout"
        }
      ]
    },
    {
      "cell_type": "code",
      "metadata": {
        "colab": {
          "base_uri": "https://localhost:8080/",
          "height": 422
        },
        "id": "fm8Gpox-R5v1",
        "outputId": "b53fd51b-4feb-4fb3-a342-0c5dfd50dfcc"
      },
      "source": [
        "import matplotlib.pyplot as plt\n",
        "\n",
        "X, y = make_classification(n_features = 2, n_informative = 1, n_redundant = 0, \n",
        "                           n_clusters_per_class=1, weights=[.25, .75], random_state = 57)\n",
        "\n",
        "plt.title(\"2개의 독립변수를 가진 가상 데이터\") \n",
        "plt.scatter(X[:, 0], X[:, 1], marker='v', c=y, s=200, edgecolors='k')\n",
        "plt.xlabel('X')\n",
        "plt.ylabel('y')\n",
        "plt.show()\n",
        "print('X형태:', X.shape)\n",
        "print('y형태:', y.shape)"
      ],
      "execution_count": 16,
      "outputs": [
        {
          "output_type": "stream",
          "text": [
            "/usr/local/lib/python3.7/dist-packages/matplotlib/backends/backend_agg.py:214: RuntimeWarning: Glyph 8722 missing from current font.\n",
            "  font.set_text(s, 0.0, flags=flags)\n",
            "/usr/local/lib/python3.7/dist-packages/matplotlib/backends/backend_agg.py:183: RuntimeWarning: Glyph 8722 missing from current font.\n",
            "  font.set_text(s, 0, flags=flags)\n"
          ],
          "name": "stderr"
        },
        {
          "output_type": "display_data",
          "data": {
            "image/png": "[encoded data removed]",
            "text/plain": [
              "<Figure size 432x288 with 1 Axes>"
            ]
          },
          "metadata": {
            "tags": [],
            "image/png": {
              "width": 379,
              "height": 280
            },
            "needs_background": "light"
          }
        },
        {
          "output_type": "stream",
          "text": [
            "X형태: (100, 2)\n",
            "y형태: (100,)\n"
          ],
          "name": "stdout"
        }
      ]
    },
    {
      "cell_type": "markdown",
      "metadata": {
        "id": "hvVUBRFvRUga"
      },
      "source": [
        "• make_blobs() - 가우시안 정규분포를 이용하여 모든 방향으로 같은 성질을 가지는 가상 데이터 생성    \n",
        "centers 파라미터 : 생성할 클러스터의 수  \n",
        "cluster_std 파라미터 : 클러스터의 표준 편차 (default=1.0)  \n",
        "\n",
        "\n",
        "• make_circles() - 두개의 차원에 작은 원을 포함하는 큰 원이 포함된 임의의 데이터셋을 생성,  \n",
        "SVM(Support Vector Machines)과 같은 알고리즘을 사용하여 분류를 수행할 때 유용"
      ]
    },
    {
      "cell_type": "code",
      "metadata": {
        "colab": {
          "base_uri": "https://localhost:8080/",
          "height": 464
        },
        "id": "AvNZMnGNRaE-",
        "outputId": "1aa9c9ee-696d-4414-e3f9-84ab3a278310"
      },
      "source": [
        "features, target = make_blobs(n_samples = 100,\n",
        "n_features = 2, centers =3, cluster_std = 0.5, shuffle=True, random_state = 1)\n",
        "print('특성 행렬\\n', features[:3])\n",
        "print('타깃 벡터\\n', target[:3])\n",
        "\n",
        "import matplotlib.pyplot as plt\n",
        "plt.scatter(features[:, 0], features[:, 1], c=target)\n",
        "plt.show()"
      ],
      "execution_count": 19,
      "outputs": [
        {
          "output_type": "stream",
          "text": [
            "특성 행렬\n",
            " [[ -1.22685609   3.25572052]\n",
            " [ -9.57463218  -4.38310652]\n",
            " [-10.71976941  -4.20558148]]\n",
            "타깃 벡터\n",
            " [0 1 1]\n"
          ],
          "name": "stdout"
        },
        {
          "output_type": "stream",
          "text": [
            "/usr/local/lib/python3.7/dist-packages/matplotlib/backends/backend_agg.py:214: RuntimeWarning: Glyph 8722 missing from current font.\n",
            "  font.set_text(s, 0.0, flags=flags)\n",
            "/usr/local/lib/python3.7/dist-packages/matplotlib/backends/backend_agg.py:183: RuntimeWarning: Glyph 8722 missing from current font.\n",
            "  font.set_text(s, 0, flags=flags)\n"
          ],
          "name": "stderr"
        },
        {
          "output_type": "display_data",
          "data": {
            "image/png": "[encoded data removed]",
            "text/plain": [
              "<Figure size 432x288 with 1 Axes>"
            ]
          },
          "metadata": {
            "tags": [],
            "image/png": {
              "width": 370,
              "height": 251
            },
            "needs_background": "light"
          }
        }
      ]
    },
    {
      "cell_type": "code",
      "metadata": {
        "colab": {
          "base_uri": "https://localhost:8080/",
          "height": 387
        },
        "id": "Q02xedXqWjzu",
        "outputId": "338b947a-0d2d-47d4-8cdd-23d200ecfdfe"
      },
      "source": [
        "plt.title(\"3개의 독립변수를 가진 가상 데이터\") \n",
        "\n",
        "X, y = make_blobs(n_samples = 300,\n",
        "n_features = 2, centers =3, cluster_std = 0.5,random_state = 1)\n",
        "plt.scatter(X[:,0],X[:,1],marker='o', c=y, s=100, edgecolor=\"k\", linewidth=2)\n",
        "plt.xlabel(\"$X_1$\")\n",
        "plt.ylabel(\"$X_2$\")\n",
        "plt.show()"
      ],
      "execution_count": 23,
      "outputs": [
        {
          "output_type": "stream",
          "text": [
            "/usr/local/lib/python3.7/dist-packages/matplotlib/backends/backend_agg.py:214: RuntimeWarning: Glyph 8722 missing from current font.\n",
            "  font.set_text(s, 0.0, flags=flags)\n",
            "/usr/local/lib/python3.7/dist-packages/matplotlib/backends/backend_agg.py:183: RuntimeWarning: Glyph 8722 missing from current font.\n",
            "  font.set_text(s, 0, flags=flags)\n"
          ],
          "name": "stderr"
        },
        {
          "output_type": "display_data",
          "data": {
            "image/png": "[encoded data removed]",
            "text/plain": [
              "<Figure size 432x288 with 1 Axes>"
            ]
          },
          "metadata": {
            "tags": [],
            "image/png": {
              "width": 385,
              "height": 280
            },
            "needs_background": "light"
          }
        }
      ]
    },
    {
      "cell_type": "markdown",
      "metadata": {
        "id": "mvSxzYSNYQdS"
      },
      "source": [
        "make_moons() - 초승달 모양 클러스터 가상 데이터 생성    \n",
        "make_gaussian_quantiles() - 가우시안 분포의 표본을 다차원으로 가상 데이터 생성"
      ]
    },
    {
      "cell_type": "markdown",
      "metadata": {
        "id": "sVu2pIN3YWAQ"
      },
      "source": [
        "데이터 랭글링(data wrangling)  \n",
        "• 광범위한 의미의 원본 데이터를 정제하고 사용 가능한 형태로 구성하기 위한 변환 과정  \n",
        "• 데이터 랭글링에 사용되는 가장 일반적인 데이터 구조 - 데이터프레임"
      ]
    },
    {
      "cell_type": "markdown",
      "metadata": {
        "id": "7os4-XvzYlTZ"
      },
      "source": [
        "#### 실습\n",
        "\n",
        "데이터 종류  \n",
        "customer_master.csv 쇼핑몰 사이트의 고객 정보(회원 등록시 입력하는 성별, 연령 정보 포함)  \n",
        "item_master.csv 취급하는 상품 데이터 (상품명과 가격 포함)  \n",
        "transaction_1.csv, transaction_2.csv 구매내역 데이터 (고객별 구매 정보)  \n",
        "transaction_detail_1.csv, transaction_detial_2.csv 구매 상세 데이터 (구입한 상품과 수량정보 포함)\n",
        "\n",
        "1. 데이터 로드 (데이터 이해 단계)  \n",
        "2. 데이터 결합\n",
        "- transaction_1.csv, transaction_2.csv 세로로 결합 (transaction 통합)\n",
        "- transaction_detail_1.csv, transaction_detail_2.csv 세로로 결합 (transaction_detail 통합) \n",
        "3. 매출 데이터끼리 조인  \n",
        "transaction_detail을 기준으로 transaction(payment_date, customer_id)를 가로로 결합\n",
        "4. 마스터 데이터 조인  \n",
        "transaction_detail을 기준으로 customer_master(customer_id), item_master(item_id)를 가로로 결합\n",
        "5. 데이터 컬럼 추가(파생 컬럼생성)\n",
        "매출은 quantity와 item_price의 곱을 계산해서 추가  \n",
        "6. 데이터 검산  \n",
        "데이터 가공 전 transaction의 price 총합과 데이터 가공 후에 계산한 price의 총합이 동일한지 확인\n",
        "7. 통계량 확인  \n",
        "결손치, 데이터 개수, 평균, 표준편차, 최소값, 사분위수, 중앙값, 최대값\n",
        "8. 월별 데이터 집계  \n",
        "전체적으로 매출이 늘어나고 있는지 줄어들고 있는지 파악  \n",
        "구입일인 payment_date에서 연월을 추출해서 새롭게 컬럼을 작성한 후 연월 단위로 price를 합계\n",
        "9. 월별, 상품별 데이터 집계\n",
        "10. 상품별 매출 추이 시각화\n"
      ]
    },
    {
      "cell_type": "code",
      "metadata": {
        "colab": {
          "base_uri": "https://localhost:8080/"
        },
        "id": "cTdP3SLPYYb6",
        "outputId": "75a97f41-af67-406e-fa0a-bb17df81d62e"
      },
      "source": [
        "#1. 데이터 로드 & 결합\n",
        "#transaction_1.csv, transaction_2.csv 세로로 결합 (transaction 통합)\n",
        "\n",
        "import pandas as pd\n",
        "import numpy as np\n",
        "\n",
        "transaction_1 = pd.read_csv('transaction_1.csv')\n",
        "transaction_2 = pd.read_csv('transaction_2.csv')\n",
        "transaction_detail_1 = pd.read_csv('transaction_detail_1.csv')\n",
        "transaction_detail_2 = pd.read_csv('transaction_detail_2.csv')\n",
        "customer_master = pd.read_csv('customer_master.csv')\n",
        "item_master = pd.read_csv('item_master.csv')\n",
        "\n",
        "transaction = pd.concat([transaction_1, transaction_2])\n",
        "\n",
        "print(transaction)"
      ],
      "execution_count": 35,
      "outputs": [
        {
          "output_type": "stream",
          "text": [
            "     transaction_id   price         payment_date customer_id\n",
            "0       T0000000113  210000  2019-02-01 01:36:57    PL563502\n",
            "1       T0000000114   50000  2019-02-01 01:37:23    HD678019\n",
            "2       T0000000115  120000  2019-02-01 02:34:19    HD298120\n",
            "3       T0000000116  210000  2019-02-01 02:47:23    IK452215\n",
            "4       T0000000117  170000  2019-02-01 04:33:46    PL542865\n",
            "...             ...     ...                  ...         ...\n",
            "1781    T0000006894  180000  2019-07-31 21:20:44    HI400734\n",
            "1782    T0000006895   85000  2019-07-31 21:52:48    AS339451\n",
            "1783    T0000006896  100000  2019-07-31 23:35:25    OA027325\n",
            "1784    T0000006897   85000  2019-07-31 23:39:35    TS624738\n",
            "1785    T0000006898   85000  2019-07-31 23:41:38    AS834214\n",
            "\n",
            "[6786 rows x 4 columns]\n"
          ],
          "name": "stdout"
        }
      ]
    },
    {
      "cell_type": "code",
      "metadata": {
        "colab": {
          "base_uri": "https://localhost:8080/"
        },
        "id": "TVgYQzDWcHip",
        "outputId": "a616ea2d-824a-4e33-f930-b93e2fe3ddcf"
      },
      "source": [
        "#2. 데이터 결합\n",
        "#transaction_detail_1.csv, transaction_detail_2.csv 세로로 결합 (transaction_detail 통합)\n",
        "\n",
        "transaction_detail = pd.concat([transaction_detail_1, transaction_detail_2])\n",
        "\n",
        "print(transaction_detail)"
      ],
      "execution_count": 31,
      "outputs": [
        {
          "output_type": "stream",
          "text": [
            "      detail_id transaction_id item_id  quantity\n",
            "0             0    T0000000113    S005         1\n",
            "1             1    T0000000114    S001         1\n",
            "2             2    T0000000115    S003         1\n",
            "3             3    T0000000116    S005         1\n",
            "4             4    T0000000117    S002         2\n",
            "...         ...            ...     ...       ...\n",
            "2139       7139    T0000006894    S004         1\n",
            "2140       7140    T0000006895    S002         1\n",
            "2141       7141    T0000006896    S001         2\n",
            "2142       7142    T0000006897    S002         1\n",
            "2143       7143    T0000006898    S002         1\n",
            "\n",
            "[7144 rows x 4 columns]\n"
          ],
          "name": "stdout"
        }
      ]
    },
    {
      "cell_type": "code",
      "metadata": {
        "colab": {
          "base_uri": "https://localhost:8080/",
          "height": 195
        },
        "id": "kW3th5B6cb-h",
        "outputId": "c96aeb4c-d5c3-4eac-8ca2-6610da54f28f"
      },
      "source": [
        "#3. 매출 데이터끼리 조인\n",
        "#transaction_detail을 기준으로 transaction(payment_date, customer_id)를 가로로 결합\n",
        "\n",
        "sale_data = pd.merge(transaction_detail,transaction[['transaction_id', 'payment_date', 'customer_id']], \n",
        "                     how='left',on='transaction_id')\n",
        "\n",
        "sale_data.head()"
      ],
      "execution_count": 104,
      "outputs": [
        {
          "output_type": "execute_result",
          "data": {
            "text/html": [
              "<div>\n",
              "<style scoped>\n",
              "    .dataframe tbody tr th:only-of-type {\n",
              "        vertical-align: middle;\n",
              "    }\n",
              "\n",
              "    .dataframe tbody tr th {\n",
              "        vertical-align: top;\n",
              "    }\n",
              "\n",
              "    .dataframe thead th {\n",
              "        text-align: right;\n",
              "    }\n",
              "</style>\n",
              "<table border=\"1\" class=\"dataframe\">\n",
              "  <thead>\n",
              "    <tr style=\"text-align: right;\">\n",
              "      <th></th>\n",
              "      <th>detail_id</th>\n",
              "      <th>transaction_id</th>\n",
              "      <th>item_id</th>\n",
              "      <th>quantity</th>\n",
              "      <th>payment_date</th>\n",
              "      <th>customer_id</th>\n",
              "    </tr>\n",
              "  </thead>\n",
              "  <tbody>\n",
              "    <tr>\n",
              "      <th>0</th>\n",
              "      <td>0</td>\n",
              "      <td>T0000000113</td>\n",
              "      <td>S005</td>\n",
              "      <td>1</td>\n",
              "      <td>2019-02-01 01:36:57</td>\n",
              "      <td>PL563502</td>\n",
              "    </tr>\n",
              "    <tr>\n",
              "      <th>1</th>\n",
              "      <td>1</td>\n",
              "      <td>T0000000114</td>\n",
              "      <td>S001</td>\n",
              "      <td>1</td>\n",
              "      <td>2019-02-01 01:37:23</td>\n",
              "      <td>HD678019</td>\n",
              "    </tr>\n",
              "    <tr>\n",
              "      <th>2</th>\n",
              "      <td>2</td>\n",
              "      <td>T0000000115</td>\n",
              "      <td>S003</td>\n",
              "      <td>1</td>\n",
              "      <td>2019-02-01 02:34:19</td>\n",
              "      <td>HD298120</td>\n",
              "    </tr>\n",
              "    <tr>\n",
              "      <th>3</th>\n",
              "      <td>3</td>\n",
              "      <td>T0000000116</td>\n",
              "      <td>S005</td>\n",
              "      <td>1</td>\n",
              "      <td>2019-02-01 02:47:23</td>\n",
              "      <td>IK452215</td>\n",
              "    </tr>\n",
              "    <tr>\n",
              "      <th>4</th>\n",
              "      <td>4</td>\n",
              "      <td>T0000000117</td>\n",
              "      <td>S002</td>\n",
              "      <td>2</td>\n",
              "      <td>2019-02-01 04:33:46</td>\n",
              "      <td>PL542865</td>\n",
              "    </tr>\n",
              "  </tbody>\n",
              "</table>\n",
              "</div>"
            ],
            "text/plain": [
              "   detail_id transaction_id item_id  quantity         payment_date customer_id\n",
              "0          0    T0000000113    S005         1  2019-02-01 01:36:57    PL563502\n",
              "1          1    T0000000114    S001         1  2019-02-01 01:37:23    HD678019\n",
              "2          2    T0000000115    S003         1  2019-02-01 02:34:19    HD298120\n",
              "3          3    T0000000116    S005         1  2019-02-01 02:47:23    IK452215\n",
              "4          4    T0000000117    S002         2  2019-02-01 04:33:46    PL542865"
            ]
          },
          "metadata": {
            "tags": []
          },
          "execution_count": 104
        }
      ]
    },
    {
      "cell_type": "code",
      "metadata": {
        "colab": {
          "base_uri": "https://localhost:8080/",
          "height": 383
        },
        "id": "2JB1c67Xeh9z",
        "outputId": "a1031859-8b26-4241-9fb0-917a3c2f4144"
      },
      "source": [
        "#4. 마스터 데이터 조인\n",
        "#transaction_detail을 기준으로 customer_master(customer_id), item_master(item_id)를 가로로 결합\n",
        "\n",
        "master_data = pd.merge(sale_data,customer_master,\n",
        "                     how='left',on='customer_id')\n",
        "                     \n",
        "master_data = pd.merge(master_data, item_master, how='left', on='item_id')\n",
        "\n",
        "master_data.head()"
      ],
      "execution_count": 105,
      "outputs": [
        {
          "output_type": "execute_result",
          "data": {
            "text/html": [
              "<div>\n",
              "<style scoped>\n",
              "    .dataframe tbody tr th:only-of-type {\n",
              "        vertical-align: middle;\n",
              "    }\n",
              "\n",
              "    .dataframe tbody tr th {\n",
              "        vertical-align: top;\n",
              "    }\n",
              "\n",
              "    .dataframe thead th {\n",
              "        text-align: right;\n",
              "    }\n",
              "</style>\n",
              "<table border=\"1\" class=\"dataframe\">\n",
              "  <thead>\n",
              "    <tr style=\"text-align: right;\">\n",
              "      <th></th>\n",
              "      <th>detail_id</th>\n",
              "      <th>transaction_id</th>\n",
              "      <th>item_id</th>\n",
              "      <th>quantity</th>\n",
              "      <th>payment_date</th>\n",
              "      <th>customer_id</th>\n",
              "      <th>customer_name</th>\n",
              "      <th>registration_date</th>\n",
              "      <th>email</th>\n",
              "      <th>gender</th>\n",
              "      <th>age</th>\n",
              "      <th>birth</th>\n",
              "      <th>pref</th>\n",
              "      <th>item_name</th>\n",
              "      <th>item_price</th>\n",
              "    </tr>\n",
              "  </thead>\n",
              "  <tbody>\n",
              "    <tr>\n",
              "      <th>0</th>\n",
              "      <td>0</td>\n",
              "      <td>T0000000113</td>\n",
              "      <td>S005</td>\n",
              "      <td>1</td>\n",
              "      <td>2019-02-01 01:36:57</td>\n",
              "      <td>PL563502</td>\n",
              "      <td>김태경</td>\n",
              "      <td>2019-01-07 14:34</td>\n",
              "      <td>imoto_yoshimasa@example.com</td>\n",
              "      <td>M</td>\n",
              "      <td>30</td>\n",
              "      <td>1989-07-15</td>\n",
              "      <td>대전광역시</td>\n",
              "      <td>PC-E</td>\n",
              "      <td>210000</td>\n",
              "    </tr>\n",
              "    <tr>\n",
              "      <th>1</th>\n",
              "      <td>1</td>\n",
              "      <td>T0000000114</td>\n",
              "      <td>S001</td>\n",
              "      <td>1</td>\n",
              "      <td>2019-02-01 01:37:23</td>\n",
              "      <td>HD678019</td>\n",
              "      <td>김영웅</td>\n",
              "      <td>2019-01-27 18:00</td>\n",
              "      <td>mifune_rokurou@example.com</td>\n",
              "      <td>M</td>\n",
              "      <td>73</td>\n",
              "      <td>1945-11-29</td>\n",
              "      <td>서울특별시</td>\n",
              "      <td>PC-A</td>\n",
              "      <td>50000</td>\n",
              "    </tr>\n",
              "    <tr>\n",
              "      <th>2</th>\n",
              "      <td>2</td>\n",
              "      <td>T0000000115</td>\n",
              "      <td>S003</td>\n",
              "      <td>1</td>\n",
              "      <td>2019-02-01 02:34:19</td>\n",
              "      <td>HD298120</td>\n",
              "      <td>김강현</td>\n",
              "      <td>2019-01-11 8:16</td>\n",
              "      <td>yamane_kogan@example.com</td>\n",
              "      <td>M</td>\n",
              "      <td>42</td>\n",
              "      <td>1977-05-17</td>\n",
              "      <td>광주광역시</td>\n",
              "      <td>PC-C</td>\n",
              "      <td>120000</td>\n",
              "    </tr>\n",
              "    <tr>\n",
              "      <th>3</th>\n",
              "      <td>3</td>\n",
              "      <td>T0000000116</td>\n",
              "      <td>S005</td>\n",
              "      <td>1</td>\n",
              "      <td>2019-02-01 02:47:23</td>\n",
              "      <td>IK452215</td>\n",
              "      <td>김주한</td>\n",
              "      <td>2019-01-10 5:07</td>\n",
              "      <td>ikeda_natsumi@example.com</td>\n",
              "      <td>F</td>\n",
              "      <td>47</td>\n",
              "      <td>1972-03-17</td>\n",
              "      <td>인천광역시</td>\n",
              "      <td>PC-E</td>\n",
              "      <td>210000</td>\n",
              "    </tr>\n",
              "    <tr>\n",
              "      <th>4</th>\n",
              "      <td>4</td>\n",
              "      <td>T0000000117</td>\n",
              "      <td>S002</td>\n",
              "      <td>2</td>\n",
              "      <td>2019-02-01 04:33:46</td>\n",
              "      <td>PL542865</td>\n",
              "      <td>김영빈</td>\n",
              "      <td>2019-01-25 6:46</td>\n",
              "      <td>kurita_kenichi@example.com</td>\n",
              "      <td>M</td>\n",
              "      <td>74</td>\n",
              "      <td>1944-12-17</td>\n",
              "      <td>광주광역시</td>\n",
              "      <td>PC-B</td>\n",
              "      <td>85000</td>\n",
              "    </tr>\n",
              "  </tbody>\n",
              "</table>\n",
              "</div>"
            ],
            "text/plain": [
              "   detail_id transaction_id item_id  ...   pref item_name item_price\n",
              "0          0    T0000000113    S005  ...  대전광역시      PC-E     210000\n",
              "1          1    T0000000114    S001  ...  서울특별시      PC-A      50000\n",
              "2          2    T0000000115    S003  ...  광주광역시      PC-C     120000\n",
              "3          3    T0000000116    S005  ...  인천광역시      PC-E     210000\n",
              "4          4    T0000000117    S002  ...  광주광역시      PC-B      85000\n",
              "\n",
              "[5 rows x 15 columns]"
            ]
          },
          "metadata": {
            "tags": []
          },
          "execution_count": 105
        }
      ]
    },
    {
      "cell_type": "code",
      "metadata": {
        "colab": {
          "base_uri": "https://localhost:8080/"
        },
        "id": "hDqaYUOEso5S",
        "outputId": "8a780e81-9456-4f51-c39e-ebf16489c479"
      },
      "source": [
        "#5. 데이터 컬럼 추가(파생 컬럼생성) 매출은 quantity와 item_price의 곱을 계산해서 추가\n",
        "\n",
        "sale = master_data['quantity'].mul(master_data['item_price'])\n",
        "\n",
        "master_data['price'] = sale\n",
        "\n",
        "print(master_data.head())"
      ],
      "execution_count": 106,
      "outputs": [
        {
          "output_type": "stream",
          "text": [
            "   detail_id transaction_id item_id  ...  item_name item_price   price\n",
            "0          0    T0000000113    S005  ...       PC-E     210000  210000\n",
            "1          1    T0000000114    S001  ...       PC-A      50000   50000\n",
            "2          2    T0000000115    S003  ...       PC-C     120000  120000\n",
            "3          3    T0000000116    S005  ...       PC-E     210000  210000\n",
            "4          4    T0000000117    S002  ...       PC-B      85000  170000\n",
            "\n",
            "[5 rows x 16 columns]\n"
          ],
          "name": "stdout"
        }
      ]
    },
    {
      "cell_type": "code",
      "metadata": {
        "colab": {
          "base_uri": "https://localhost:8080/"
        },
        "id": "nSvCPuXTvQaE",
        "outputId": "f292b765-cf30-4152-e719-09f1dff6cae0"
      },
      "source": [
        "#6. 데이터 검산\n",
        "#데이터 가공 전 transaction의 price 총합과 데이터 가공 후에 계산한 price의 총합이 동일한지 확인\n",
        "\n",
        "price_sum = transaction['price'].sum()\n",
        "sale_sum = master_data['price'].sum()\n",
        "\n",
        "price_sum == sale_sum\n",
        "print(price_sum)\n",
        "print(sale_sum)"
      ],
      "execution_count": 73,
      "outputs": [
        {
          "output_type": "stream",
          "text": [
            "971135000\n",
            "971135000\n"
          ],
          "name": "stdout"
        }
      ]
    },
    {
      "cell_type": "code",
      "metadata": {
        "colab": {
          "base_uri": "https://localhost:8080/"
        },
        "id": "IU0uv14ewMp6",
        "outputId": "a8f96e75-7310-44b5-e3e6-5a12a2150c2d"
      },
      "source": [
        "#7. 통계량 확인\n",
        "#결손치 집계, 데이터 개수, 평균, 표준편차, 최소값, 사분위수, 중앙값, 최대값\n",
        "\n",
        "master_data.sum()\n",
        "master_data.describe()\n",
        "print(master_data[\"payment_date\"].min())\n",
        "print(master_data[\"payment_date\"].max())"
      ],
      "execution_count": 74,
      "outputs": [
        {
          "output_type": "stream",
          "text": [
            "2019-02-01 01:36:57\n",
            "2019-07-31 23:41:38\n"
          ],
          "name": "stdout"
        }
      ]
    },
    {
      "cell_type": "code",
      "metadata": {
        "id": "A-mYGptp86TM"
      },
      "source": [
        "\"\"\"\n",
        "payment_year = []\n",
        "payment_month = []\n",
        "for index, row in master_data.iterrows():\n",
        "  lst = row['payment_date'].split(\"-\")\n",
        "  payment_year.append(lst[0])\n",
        "  payment_month.append(lst[1])\n",
        "\n",
        "master_data['payment_year'] = payment_year\n",
        "master_data['payment_month'] = payment_month\n",
        "\n",
        "df = master_data.groupby(['payment_year', 'payment_month']).sum()['price']\n",
        "\n",
        "pd.DataFrame(df)\n",
        "\"\"\""
      ],
      "execution_count": 112,
      "outputs": []
    },
    {
      "cell_type": "code",
      "metadata": {
        "colab": {
          "base_uri": "https://localhost:8080/",
          "height": 858
        },
        "id": "SBb2_xqmyIj0",
        "outputId": "04f24d2f-e2ff-4433-943b-dad969686767"
      },
      "source": [
        "#8. 월별 데이터 집계\n",
        "#전체적으로 매출이 늘어나고 있는지 줄어들고 있는지 파악\n",
        "#구입일인 payment_date에서 연월을 추출해서 새롭게 컬럼을 작성한 후 연월 단위로 price를 집계\n",
        "\n",
        "#특성별 데이터 타입 확인(구매거래 날짜 타입)\n",
        "print(master_data.dtypes)\n",
        "#구매거래 날짜 컬럼 형식 문자열에서 숫자로 변경\n",
        "master_data['payment_date'] = pd.to_datetime(master_data['payment_date'])\n",
        "#년월 형식으로 변경\n",
        "master_data['payment_month'] = master_data['payment_date'].dt.strftime(\"%Y%m\")\n",
        "#구매년월 확인\n",
        "master_data[['payment_date', 'payment_month']].head()\n",
        "#구매월로 묶은 구매열의 합 추출\n",
        "print(master_data.groupby('payment_month').sum()['price'])\n",
        "\n",
        "master_data.head()\n"
      ],
      "execution_count": 118,
      "outputs": [
        {
          "output_type": "stream",
          "text": [
            "detail_id                     int64\n",
            "transaction_id               object\n",
            "item_id                      object\n",
            "quantity                      int64\n",
            "payment_date         datetime64[ns]\n",
            "customer_id                  object\n",
            "customer_name                object\n",
            "registration_date            object\n",
            "email                        object\n",
            "gender                       object\n",
            "age                           int64\n",
            "birth                        object\n",
            "pref                         object\n",
            "item_name                    object\n",
            "item_price                    int64\n",
            "price                         int64\n",
            "payment_year                 object\n",
            "payment_month                object\n",
            "dtype: object\n",
            "payment_month\n",
            "201902    160185000\n",
            "201903    160370000\n",
            "201904    160510000\n",
            "201905    155420000\n",
            "201906    164030000\n",
            "201907    170620000\n",
            "Name: price, dtype: int64\n"
          ],
          "name": "stdout"
        },
        {
          "output_type": "execute_result",
          "data": {
            "text/html": [
              "<div>\n",
              "<style scoped>\n",
              "    .dataframe tbody tr th:only-of-type {\n",
              "        vertical-align: middle;\n",
              "    }\n",
              "\n",
              "    .dataframe tbody tr th {\n",
              "        vertical-align: top;\n",
              "    }\n",
              "\n",
              "    .dataframe thead th {\n",
              "        text-align: right;\n",
              "    }\n",
              "</style>\n",
              "<table border=\"1\" class=\"dataframe\">\n",
              "  <thead>\n",
              "    <tr style=\"text-align: right;\">\n",
              "      <th></th>\n",
              "      <th>detail_id</th>\n",
              "      <th>transaction_id</th>\n",
              "      <th>item_id</th>\n",
              "      <th>quantity</th>\n",
              "      <th>payment_date</th>\n",
              "      <th>customer_id</th>\n",
              "      <th>customer_name</th>\n",
              "      <th>registration_date</th>\n",
              "      <th>email</th>\n",
              "      <th>gender</th>\n",
              "      <th>age</th>\n",
              "      <th>birth</th>\n",
              "      <th>pref</th>\n",
              "      <th>item_name</th>\n",
              "      <th>item_price</th>\n",
              "      <th>price</th>\n",
              "      <th>payment_year</th>\n",
              "      <th>payment_month</th>\n",
              "    </tr>\n",
              "  </thead>\n",
              "  <tbody>\n",
              "    <tr>\n",
              "      <th>0</th>\n",
              "      <td>0</td>\n",
              "      <td>T0000000113</td>\n",
              "      <td>S005</td>\n",
              "      <td>1</td>\n",
              "      <td>2019-02-01 01:36:57</td>\n",
              "      <td>PL563502</td>\n",
              "      <td>김태경</td>\n",
              "      <td>2019-01-07 14:34</td>\n",
              "      <td>imoto_yoshimasa@example.com</td>\n",
              "      <td>M</td>\n",
              "      <td>30</td>\n",
              "      <td>1989-07-15</td>\n",
              "      <td>대전광역시</td>\n",
              "      <td>PC-E</td>\n",
              "      <td>210000</td>\n",
              "      <td>210000</td>\n",
              "      <td>2019</td>\n",
              "      <td>201902</td>\n",
              "    </tr>\n",
              "    <tr>\n",
              "      <th>1</th>\n",
              "      <td>1</td>\n",
              "      <td>T0000000114</td>\n",
              "      <td>S001</td>\n",
              "      <td>1</td>\n",
              "      <td>2019-02-01 01:37:23</td>\n",
              "      <td>HD678019</td>\n",
              "      <td>김영웅</td>\n",
              "      <td>2019-01-27 18:00</td>\n",
              "      <td>mifune_rokurou@example.com</td>\n",
              "      <td>M</td>\n",
              "      <td>73</td>\n",
              "      <td>1945-11-29</td>\n",
              "      <td>서울특별시</td>\n",
              "      <td>PC-A</td>\n",
              "      <td>50000</td>\n",
              "      <td>50000</td>\n",
              "      <td>2019</td>\n",
              "      <td>201902</td>\n",
              "    </tr>\n",
              "    <tr>\n",
              "      <th>2</th>\n",
              "      <td>2</td>\n",
              "      <td>T0000000115</td>\n",
              "      <td>S003</td>\n",
              "      <td>1</td>\n",
              "      <td>2019-02-01 02:34:19</td>\n",
              "      <td>HD298120</td>\n",
              "      <td>김강현</td>\n",
              "      <td>2019-01-11 8:16</td>\n",
              "      <td>yamane_kogan@example.com</td>\n",
              "      <td>M</td>\n",
              "      <td>42</td>\n",
              "      <td>1977-05-17</td>\n",
              "      <td>광주광역시</td>\n",
              "      <td>PC-C</td>\n",
              "      <td>120000</td>\n",
              "      <td>120000</td>\n",
              "      <td>2019</td>\n",
              "      <td>201902</td>\n",
              "    </tr>\n",
              "    <tr>\n",
              "      <th>3</th>\n",
              "      <td>3</td>\n",
              "      <td>T0000000116</td>\n",
              "      <td>S005</td>\n",
              "      <td>1</td>\n",
              "      <td>2019-02-01 02:47:23</td>\n",
              "      <td>IK452215</td>\n",
              "      <td>김주한</td>\n",
              "      <td>2019-01-10 5:07</td>\n",
              "      <td>ikeda_natsumi@example.com</td>\n",
              "      <td>F</td>\n",
              "      <td>47</td>\n",
              "      <td>1972-03-17</td>\n",
              "      <td>인천광역시</td>\n",
              "      <td>PC-E</td>\n",
              "      <td>210000</td>\n",
              "      <td>210000</td>\n",
              "      <td>2019</td>\n",
              "      <td>201902</td>\n",
              "    </tr>\n",
              "    <tr>\n",
              "      <th>4</th>\n",
              "      <td>4</td>\n",
              "      <td>T0000000117</td>\n",
              "      <td>S002</td>\n",
              "      <td>2</td>\n",
              "      <td>2019-02-01 04:33:46</td>\n",
              "      <td>PL542865</td>\n",
              "      <td>김영빈</td>\n",
              "      <td>2019-01-25 6:46</td>\n",
              "      <td>kurita_kenichi@example.com</td>\n",
              "      <td>M</td>\n",
              "      <td>74</td>\n",
              "      <td>1944-12-17</td>\n",
              "      <td>광주광역시</td>\n",
              "      <td>PC-B</td>\n",
              "      <td>85000</td>\n",
              "      <td>170000</td>\n",
              "      <td>2019</td>\n",
              "      <td>201902</td>\n",
              "    </tr>\n",
              "  </tbody>\n",
              "</table>\n",
              "</div>"
            ],
            "text/plain": [
              "   detail_id transaction_id item_id  ...   price payment_year payment_month\n",
              "0          0    T0000000113    S005  ...  210000         2019        201902\n",
              "1          1    T0000000114    S001  ...   50000         2019        201902\n",
              "2          2    T0000000115    S003  ...  120000         2019        201902\n",
              "3          3    T0000000116    S005  ...  210000         2019        201902\n",
              "4          4    T0000000117    S002  ...  170000         2019        201902\n",
              "\n",
              "[5 rows x 18 columns]"
            ]
          },
          "metadata": {
            "tags": []
          },
          "execution_count": 118
        }
      ]
    },
    {
      "cell_type": "code",
      "metadata": {
        "colab": {
          "base_uri": "https://localhost:8080/",
          "height": 274
        },
        "id": "y3yvhHTZ1vWY",
        "outputId": "52c2beb3-aaf0-4030-ae6b-b35b895b1dd1"
      },
      "source": [
        "#9. 월별, 상품별 데이터 집계\n",
        "master_data.groupby([\"payment_month\",\"item_name\"]).sum()[[\"price\", \"quantity\"]]\n",
        "pd.pivot_table(master_data, index='item_name', columns='payment_month', values=['price', 'quantity'], aggfunc='sum')\n",
        "##5월에 매출이 감소하고, 6월과 7월에 증가\n",
        "##6월과 7월에 PC-E의 매출이 크게 증가"
      ],
      "execution_count": 119,
      "outputs": [
        {
          "output_type": "execute_result",
          "data": {
            "text/html": [
              "<div>\n",
              "<style scoped>\n",
              "    .dataframe tbody tr th:only-of-type {\n",
              "        vertical-align: middle;\n",
              "    }\n",
              "\n",
              "    .dataframe tbody tr th {\n",
              "        vertical-align: top;\n",
              "    }\n",
              "\n",
              "    .dataframe thead tr th {\n",
              "        text-align: left;\n",
              "    }\n",
              "\n",
              "    .dataframe thead tr:last-of-type th {\n",
              "        text-align: right;\n",
              "    }\n",
              "</style>\n",
              "<table border=\"1\" class=\"dataframe\">\n",
              "  <thead>\n",
              "    <tr>\n",
              "      <th></th>\n",
              "      <th colspan=\"6\" halign=\"left\">price</th>\n",
              "      <th colspan=\"6\" halign=\"left\">quantity</th>\n",
              "    </tr>\n",
              "    <tr>\n",
              "      <th>payment_month</th>\n",
              "      <th>201902</th>\n",
              "      <th>201903</th>\n",
              "      <th>201904</th>\n",
              "      <th>201905</th>\n",
              "      <th>201906</th>\n",
              "      <th>201907</th>\n",
              "      <th>201902</th>\n",
              "      <th>201903</th>\n",
              "      <th>201904</th>\n",
              "      <th>201905</th>\n",
              "      <th>201906</th>\n",
              "      <th>201907</th>\n",
              "    </tr>\n",
              "    <tr>\n",
              "      <th>item_name</th>\n",
              "      <th></th>\n",
              "      <th></th>\n",
              "      <th></th>\n",
              "      <th></th>\n",
              "      <th></th>\n",
              "      <th></th>\n",
              "      <th></th>\n",
              "      <th></th>\n",
              "      <th></th>\n",
              "      <th></th>\n",
              "      <th></th>\n",
              "      <th></th>\n",
              "    </tr>\n",
              "  </thead>\n",
              "  <tbody>\n",
              "    <tr>\n",
              "      <th>PC-A</th>\n",
              "      <td>24150000</td>\n",
              "      <td>26000000</td>\n",
              "      <td>25900000</td>\n",
              "      <td>24850000</td>\n",
              "      <td>26000000</td>\n",
              "      <td>25250000</td>\n",
              "      <td>483</td>\n",
              "      <td>520</td>\n",
              "      <td>518</td>\n",
              "      <td>497</td>\n",
              "      <td>520</td>\n",
              "      <td>505</td>\n",
              "    </tr>\n",
              "    <tr>\n",
              "      <th>PC-B</th>\n",
              "      <td>25245000</td>\n",
              "      <td>25500000</td>\n",
              "      <td>23460000</td>\n",
              "      <td>25330000</td>\n",
              "      <td>23970000</td>\n",
              "      <td>28220000</td>\n",
              "      <td>297</td>\n",
              "      <td>300</td>\n",
              "      <td>276</td>\n",
              "      <td>298</td>\n",
              "      <td>282</td>\n",
              "      <td>332</td>\n",
              "    </tr>\n",
              "    <tr>\n",
              "      <th>PC-C</th>\n",
              "      <td>19800000</td>\n",
              "      <td>19080000</td>\n",
              "      <td>21960000</td>\n",
              "      <td>20520000</td>\n",
              "      <td>21840000</td>\n",
              "      <td>19440000</td>\n",
              "      <td>165</td>\n",
              "      <td>159</td>\n",
              "      <td>183</td>\n",
              "      <td>171</td>\n",
              "      <td>182</td>\n",
              "      <td>162</td>\n",
              "    </tr>\n",
              "    <tr>\n",
              "      <th>PC-D</th>\n",
              "      <td>31140000</td>\n",
              "      <td>25740000</td>\n",
              "      <td>24300000</td>\n",
              "      <td>25920000</td>\n",
              "      <td>28800000</td>\n",
              "      <td>26100000</td>\n",
              "      <td>173</td>\n",
              "      <td>143</td>\n",
              "      <td>135</td>\n",
              "      <td>144</td>\n",
              "      <td>160</td>\n",
              "      <td>145</td>\n",
              "    </tr>\n",
              "    <tr>\n",
              "      <th>PC-E</th>\n",
              "      <td>59850000</td>\n",
              "      <td>64050000</td>\n",
              "      <td>64890000</td>\n",
              "      <td>58800000</td>\n",
              "      <td>63420000</td>\n",
              "      <td>71610000</td>\n",
              "      <td>285</td>\n",
              "      <td>305</td>\n",
              "      <td>309</td>\n",
              "      <td>280</td>\n",
              "      <td>302</td>\n",
              "      <td>341</td>\n",
              "    </tr>\n",
              "  </tbody>\n",
              "</table>\n",
              "</div>"
            ],
            "text/plain": [
              "                  price                      ... quantity              \n",
              "payment_month    201902    201903    201904  ...   201905 201906 201907\n",
              "item_name                                    ...                       \n",
              "PC-A           24150000  26000000  25900000  ...      497    520    505\n",
              "PC-B           25245000  25500000  23460000  ...      298    282    332\n",
              "PC-C           19800000  19080000  21960000  ...      171    182    162\n",
              "PC-D           31140000  25740000  24300000  ...      144    160    145\n",
              "PC-E           59850000  64050000  64890000  ...      280    302    341\n",
              "\n",
              "[5 rows x 12 columns]"
            ]
          },
          "metadata": {
            "tags": []
          },
          "execution_count": 119
        }
      ]
    },
    {
      "cell_type": "code",
      "metadata": {
        "colab": {
          "base_uri": "https://localhost:8080/",
          "height": 225
        },
        "id": "16Mp7vAd2XdU",
        "outputId": "41f6b8db-5749-4303-f59b-b40dcb9f6e22"
      },
      "source": [
        "#10. 상품별 매출 추이 시각화\n",
        "graph_data = pd.pivot_table(master_data, index='payment_month', columns='item_name', values='price', aggfunc='sum')\n",
        "graph_data.head()"
      ],
      "execution_count": 120,
      "outputs": [
        {
          "output_type": "execute_result",
          "data": {
            "text/html": [
              "<div>\n",
              "<style scoped>\n",
              "    .dataframe tbody tr th:only-of-type {\n",
              "        vertical-align: middle;\n",
              "    }\n",
              "\n",
              "    .dataframe tbody tr th {\n",
              "        vertical-align: top;\n",
              "    }\n",
              "\n",
              "    .dataframe thead th {\n",
              "        text-align: right;\n",
              "    }\n",
              "</style>\n",
              "<table border=\"1\" class=\"dataframe\">\n",
              "  <thead>\n",
              "    <tr style=\"text-align: right;\">\n",
              "      <th>item_name</th>\n",
              "      <th>PC-A</th>\n",
              "      <th>PC-B</th>\n",
              "      <th>PC-C</th>\n",
              "      <th>PC-D</th>\n",
              "      <th>PC-E</th>\n",
              "    </tr>\n",
              "    <tr>\n",
              "      <th>payment_month</th>\n",
              "      <th></th>\n",
              "      <th></th>\n",
              "      <th></th>\n",
              "      <th></th>\n",
              "      <th></th>\n",
              "    </tr>\n",
              "  </thead>\n",
              "  <tbody>\n",
              "    <tr>\n",
              "      <th>201902</th>\n",
              "      <td>24150000</td>\n",
              "      <td>25245000</td>\n",
              "      <td>19800000</td>\n",
              "      <td>31140000</td>\n",
              "      <td>59850000</td>\n",
              "    </tr>\n",
              "    <tr>\n",
              "      <th>201903</th>\n",
              "      <td>26000000</td>\n",
              "      <td>25500000</td>\n",
              "      <td>19080000</td>\n",
              "      <td>25740000</td>\n",
              "      <td>64050000</td>\n",
              "    </tr>\n",
              "    <tr>\n",
              "      <th>201904</th>\n",
              "      <td>25900000</td>\n",
              "      <td>23460000</td>\n",
              "      <td>21960000</td>\n",
              "      <td>24300000</td>\n",
              "      <td>64890000</td>\n",
              "    </tr>\n",
              "    <tr>\n",
              "      <th>201905</th>\n",
              "      <td>24850000</td>\n",
              "      <td>25330000</td>\n",
              "      <td>20520000</td>\n",
              "      <td>25920000</td>\n",
              "      <td>58800000</td>\n",
              "    </tr>\n",
              "    <tr>\n",
              "      <th>201906</th>\n",
              "      <td>26000000</td>\n",
              "      <td>23970000</td>\n",
              "      <td>21840000</td>\n",
              "      <td>28800000</td>\n",
              "      <td>63420000</td>\n",
              "    </tr>\n",
              "  </tbody>\n",
              "</table>\n",
              "</div>"
            ],
            "text/plain": [
              "item_name          PC-A      PC-B      PC-C      PC-D      PC-E\n",
              "payment_month                                                  \n",
              "201902         24150000  25245000  19800000  31140000  59850000\n",
              "201903         26000000  25500000  19080000  25740000  64050000\n",
              "201904         25900000  23460000  21960000  24300000  64890000\n",
              "201905         24850000  25330000  20520000  25920000  58800000\n",
              "201906         26000000  23970000  21840000  28800000  63420000"
            ]
          },
          "metadata": {
            "tags": []
          },
          "execution_count": 120
        }
      ]
    },
    {
      "cell_type": "code",
      "metadata": {
        "colab": {
          "base_uri": "https://localhost:8080/",
          "height": 294
        },
        "id": "t3vydfPe41yr",
        "outputId": "b7e8dc2c-61b4-47a7-dbb2-647851c22943"
      },
      "source": [
        "import matplotlib.pyplot as plt\n",
        "%matplotlib inline\n",
        "plt.plot(list(graph_data.index), graph_data[\"PC-A\"], label='PC-A')\n",
        "plt.plot(list(graph_data.index), graph_data[\"PC-B\"], label='PC-B')\n",
        "plt.plot(list(graph_data.index), graph_data[\"PC-C\"], label='PC-C')\n",
        "plt.plot(list(graph_data.index), graph_data[\"PC-D\"], label='PC-D')\n",
        "plt.plot(list(graph_data.index), graph_data[\"PC-E\"], label='PC-E')\n",
        "plt.legend()"
      ],
      "execution_count": 121,
      "outputs": [
        {
          "output_type": "execute_result",
          "data": {
            "text/plain": [
              "<matplotlib.legend.Legend at 0x7fa076dfb890>"
            ]
          },
          "metadata": {
            "tags": []
          },
          "execution_count": 121
        },
        {
          "output_type": "display_data",
          "data": {
            "image/png": "[encoded data removed]",
            "text/plain": [
              "<Figure size 432x288 with 1 Axes>"
            ]
          },
          "metadata": {
            "tags": [],
            "image/png": {
              "width": 364,
              "height": 260
            },
            "needs_background": "light"
          }
        }
      ]
    },
    {
      "cell_type": "markdown",
      "metadata": {
        "id": "dvqO7FKD5fUz"
      },
      "source": [
        "###데이터 스케일링 (scaling)  \n",
        "• 데이터 전처리 과정의 하나   \n",
        "\n",
        "• 데이터 스케일링을 해주는 이유 - 데이터의 값이 너무 크거나 혹은 작은 경우에 모델 알고리즘 학습과정에서 0으\n",
        "로 수렴하거나 무한으로 발산 해버릴 수 있기 때문   \n",
        "\n",
        "• 데이터 전처리 과정에서 굉장히 중요한 과정"
      ]
    },
    {
      "cell_type": "markdown",
      "metadata": {
        "id": "TOWUEXJz6gGA"
      },
      "source": [
        "등간척도  \n",
        "• 상호간의 서열뿐 아니라 인접한 두 변수 값의 차이가 일정한 변수  \n",
        "• 예) 온도, IQ, 시각, 만족도 등\n",
        "\n",
        "비율척도  \n",
        "• 상호간 서열, 크기 차이, 크기 비교, 특성들 간의 계산까지 가능한 척도  \n",
        "• 몸무게, 키, 나이, 길이, 임금 등\n",
        "\n",
        "Feature Scaling(정규화)  \n",
        "• 각 피처가 가지는 값들의 숫자 범위(Scale)가 다를 경우 이 값의 범위를 일정한 범위로 맞추는 작업   \n",
        "• 트리계열을 제외한 대부분의 머신러닝 알고리즘들이 피처의 스케일에 영향을 받는다 (선형모델, SVM, 신경망 모\n",
        "델 등)  \n",
        "• Scaling(정규화)은 train set으로 fitting 한다  \n",
        "• test set이나 예측할 새로운 데이터는 train set으로 fitting한 것으로 변환한다.  "
      ]
    },
    {
      "cell_type": "markdown",
      "metadata": {
        "id": "pqQS5d-C7U9s"
      },
      "source": [
        "### 수치형 데이터 특성 스케일 변환\n",
        "• 수치형 특성이 두 값의 범위 안에 놓이도록 변환\n",
        "\n",
        "• 머신러닝 알고리즘은 모든 특성이 동일한 스케일을 가지고 있다고 가정 일반적으로 (0 ~ 1) 이나 , (-1~1) 사이\n",
        "\n",
        "• 사이킷런의 MinMaxScaler - 특성의 최솟값과 최댓값을 사용하여 일정 범위 안으로 값을 조정\n",
        "\n",
        "• MinMaxScaler.fit() - 특성의 최솟값과 최댓값을 계산\n",
        "\n",
        "• MinMaxScaler.transform() - 특성의 스케일을 변환\n",
        "\n",
        "• MinMaxScaler.fit_transform() - 학습과 변환을 한번에 처리"
      ]
    },
    {
      "cell_type": "code",
      "metadata": {
        "colab": {
          "base_uri": "https://localhost:8080/"
        },
        "id": "ZlPiJcx372Kw",
        "outputId": "62823c80-c96d-4418-fd13-4dcd13acb147"
      },
      "source": [
        "import numpy as np\n",
        "from sklearn import preprocessing\n",
        "\n",
        "#0과1 사이의 범위로 정규화 처리\n",
        "feature = np.array([[-500.5], [-100.1], [0], [100.1], [900.9]])\n",
        "minmax_scale = preprocessing.MinMaxScaler(feature_range=(0, 1))\n",
        "\n",
        "scaled_feature = minmax_scale.fit_transform(feature)\n",
        "scaled_feature"
      ],
      "execution_count": 103,
      "outputs": [
        {
          "output_type": "execute_result",
          "data": {
            "text/plain": [
              "array([[0.        ],\n",
              "       [0.28571429],\n",
              "       [0.35714286],\n",
              "       [0.42857143],\n",
              "       [1.        ]])"
            ]
          },
          "metadata": {
            "tags": []
          },
          "execution_count": 103
        }
      ]
    },
    {
      "cell_type": "code",
      "metadata": {
        "colab": {
          "base_uri": "https://localhost:8080/",
          "height": 284
        },
        "id": "KYureP_V-q82",
        "outputId": "bd51f411-b575-4c74-97d8-ec57bc97a386"
      },
      "source": [
        "from sklearn.datasets import load_iris\n",
        "from sklearn import preprocessing\n",
        "\n",
        "iris = load_iris()\n",
        "iris_df = pd.DataFrame(iris.data, columns = iris.feature_names)\n",
        "iris_df.describe()\n",
        "\n",
        "mm_scaler = preprocessing.MinMaxScaler()\n",
        "iris_scaled2 = mm_scaler.fit_transform(iris_df)\n",
        "iris_scaled_df2 = pd.DataFrame(iris_scaled2, columns= iris.feature_names)\n",
        "iris_scaled_df2.describe()"
      ],
      "execution_count": 128,
      "outputs": [
        {
          "output_type": "execute_result",
          "data": {
            "text/html": [
              "<div>\n",
              "<style scoped>\n",
              "    .dataframe tbody tr th:only-of-type {\n",
              "        vertical-align: middle;\n",
              "    }\n",
              "\n",
              "    .dataframe tbody tr th {\n",
              "        vertical-align: top;\n",
              "    }\n",
              "\n",
              "    .dataframe thead th {\n",
              "        text-align: right;\n",
              "    }\n",
              "</style>\n",
              "<table border=\"1\" class=\"dataframe\">\n",
              "  <thead>\n",
              "    <tr style=\"text-align: right;\">\n",
              "      <th></th>\n",
              "      <th>sepal length (cm)</th>\n",
              "      <th>sepal width (cm)</th>\n",
              "      <th>petal length (cm)</th>\n",
              "      <th>petal width (cm)</th>\n",
              "    </tr>\n",
              "  </thead>\n",
              "  <tbody>\n",
              "    <tr>\n",
              "      <th>count</th>\n",
              "      <td>150.000000</td>\n",
              "      <td>150.000000</td>\n",
              "      <td>150.000000</td>\n",
              "      <td>150.000000</td>\n",
              "    </tr>\n",
              "    <tr>\n",
              "      <th>mean</th>\n",
              "      <td>0.428704</td>\n",
              "      <td>0.440556</td>\n",
              "      <td>0.467458</td>\n",
              "      <td>0.458056</td>\n",
              "    </tr>\n",
              "    <tr>\n",
              "      <th>std</th>\n",
              "      <td>0.230018</td>\n",
              "      <td>0.181611</td>\n",
              "      <td>0.299203</td>\n",
              "      <td>0.317599</td>\n",
              "    </tr>\n",
              "    <tr>\n",
              "      <th>min</th>\n",
              "      <td>0.000000</td>\n",
              "      <td>0.000000</td>\n",
              "      <td>0.000000</td>\n",
              "      <td>0.000000</td>\n",
              "    </tr>\n",
              "    <tr>\n",
              "      <th>25%</th>\n",
              "      <td>0.222222</td>\n",
              "      <td>0.333333</td>\n",
              "      <td>0.101695</td>\n",
              "      <td>0.083333</td>\n",
              "    </tr>\n",
              "    <tr>\n",
              "      <th>50%</th>\n",
              "      <td>0.416667</td>\n",
              "      <td>0.416667</td>\n",
              "      <td>0.567797</td>\n",
              "      <td>0.500000</td>\n",
              "    </tr>\n",
              "    <tr>\n",
              "      <th>75%</th>\n",
              "      <td>0.583333</td>\n",
              "      <td>0.541667</td>\n",
              "      <td>0.694915</td>\n",
              "      <td>0.708333</td>\n",
              "    </tr>\n",
              "    <tr>\n",
              "      <th>max</th>\n",
              "      <td>1.000000</td>\n",
              "      <td>1.000000</td>\n",
              "      <td>1.000000</td>\n",
              "      <td>1.000000</td>\n",
              "    </tr>\n",
              "  </tbody>\n",
              "</table>\n",
              "</div>"
            ],
            "text/plain": [
              "       sepal length (cm)  sepal width (cm)  petal length (cm)  petal width (cm)\n",
              "count         150.000000        150.000000         150.000000        150.000000\n",
              "mean            0.428704          0.440556           0.467458          0.458056\n",
              "std             0.230018          0.181611           0.299203          0.317599\n",
              "min             0.000000          0.000000           0.000000          0.000000\n",
              "25%             0.222222          0.333333           0.101695          0.083333\n",
              "50%             0.416667          0.416667           0.567797          0.500000\n",
              "75%             0.583333          0.541667           0.694915          0.708333\n",
              "max             1.000000          1.000000           1.000000          1.000000"
            ]
          },
          "metadata": {
            "tags": []
          },
          "execution_count": 128
        }
      ]
    },
    {
      "cell_type": "markdown",
      "metadata": {
        "id": "KhJx7nYC_mgA"
      },
      "source": [
        "• 표준화 변환 - 특성을 평균이 0이고 표준편차가 1이 되도록 변환\n",
        "\n",
        "• 0을 기준으로 모든 데이터들이 모여 있게 된다.\n",
        "\n",
        "• 특성을 표준 정규분포로 근사하는 스케일링 방식\n",
        "\n",
        "• 변환된 특성은 원본 값이 특성 평균에서 몇 표준편차만큼 떨어져 있는지로 표현(통계학에서는 z-점수)\n",
        "\n",
        "• 주성분 분석은 표준화가 적합하지만 신경망에는 최소-최대 스케일링을 권장\n",
        "\n",
        "• SVM이나 선형회귀, 로지스틱 알고리즘(선형모델)은 데이터셋이 표준정규분포를 따를 때 성능이 좋은 모델이기\n",
        "때문에 표준화를 하면 대부분의 경우 성능이 향상된다.\n",
        "\n",
        "• sklearn.preprocessing.StandardScaler"
      ]
    },
    {
      "cell_type": "code",
      "metadata": {
        "colab": {
          "base_uri": "https://localhost:8080/"
        },
        "id": "RGJttxh5_19V",
        "outputId": "0a520807-3e80-4e4e-d568-6708221599e9"
      },
      "source": [
        "import numpy as np\n",
        "from sklearn import preprocessing\n",
        "\n",
        "x= np.array([[-1000.1], [-200.2], [500.5], [600.6], [9000.9]])\n",
        "scaler = preprocessing.StandardScaler()\n",
        "standardized = scaler.fit_transform(x)\n",
        "standardized\n",
        "\n",
        "print(\"평균:\", round(standardized.mean()))\n",
        "print(\"표준편차:\", standardized.std())"
      ],
      "execution_count": 131,
      "outputs": [
        {
          "output_type": "stream",
          "text": [
            "평균: 0\n",
            "표준편차: 1.0\n"
          ],
          "name": "stdout"
        }
      ]
    },
    {
      "cell_type": "code",
      "metadata": {
        "colab": {
          "base_uri": "https://localhost:8080/",
          "height": 530
        },
        "id": "ZsNgTE0bA1n9",
        "outputId": "13cce69a-4fe6-4915-fa64-ad22a9aabe97"
      },
      "source": [
        "scaler = preprocessing.StandardScaler()\n",
        "scaler.fit(iris_df)\n",
        "iris_scaled = scaler.fit_transform(iris_df)\n",
        "iris_scaled_df = pd.DataFrame(iris_scaled, columns= iris.feature_names)\n",
        "print(iris_scaled_df)\n",
        "iris_scaled_df.describe()"
      ],
      "execution_count": 134,
      "outputs": [
        {
          "output_type": "stream",
          "text": [
            "     sepal length (cm)  sepal width (cm)  petal length (cm)  petal width (cm)\n",
            "0            -0.900681          1.019004          -1.340227         -1.315444\n",
            "1            -1.143017         -0.131979          -1.340227         -1.315444\n",
            "2            -1.385353          0.328414          -1.397064         -1.315444\n",
            "3            -1.506521          0.098217          -1.283389         -1.315444\n",
            "4            -1.021849          1.249201          -1.340227         -1.315444\n",
            "..                 ...               ...                ...               ...\n",
            "145           1.038005         -0.131979           0.819596          1.448832\n",
            "146           0.553333         -1.282963           0.705921          0.922303\n",
            "147           0.795669         -0.131979           0.819596          1.053935\n",
            "148           0.432165          0.788808           0.933271          1.448832\n",
            "149           0.068662         -0.131979           0.762758          0.790671\n",
            "\n",
            "[150 rows x 4 columns]\n"
          ],
          "name": "stdout"
        },
        {
          "output_type": "execute_result",
          "data": {
            "text/html": [
              "<div>\n",
              "<style scoped>\n",
              "    .dataframe tbody tr th:only-of-type {\n",
              "        vertical-align: middle;\n",
              "    }\n",
              "\n",
              "    .dataframe tbody tr th {\n",
              "        vertical-align: top;\n",
              "    }\n",
              "\n",
              "    .dataframe thead th {\n",
              "        text-align: right;\n",
              "    }\n",
              "</style>\n",
              "<table border=\"1\" class=\"dataframe\">\n",
              "  <thead>\n",
              "    <tr style=\"text-align: right;\">\n",
              "      <th></th>\n",
              "      <th>sepal length (cm)</th>\n",
              "      <th>sepal width (cm)</th>\n",
              "      <th>petal length (cm)</th>\n",
              "      <th>petal width (cm)</th>\n",
              "    </tr>\n",
              "  </thead>\n",
              "  <tbody>\n",
              "    <tr>\n",
              "      <th>count</th>\n",
              "      <td>1.500000e+02</td>\n",
              "      <td>1.500000e+02</td>\n",
              "      <td>1.500000e+02</td>\n",
              "      <td>1.500000e+02</td>\n",
              "    </tr>\n",
              "    <tr>\n",
              "      <th>mean</th>\n",
              "      <td>-1.690315e-15</td>\n",
              "      <td>-1.842970e-15</td>\n",
              "      <td>-1.698641e-15</td>\n",
              "      <td>-1.409243e-15</td>\n",
              "    </tr>\n",
              "    <tr>\n",
              "      <th>std</th>\n",
              "      <td>1.003350e+00</td>\n",
              "      <td>1.003350e+00</td>\n",
              "      <td>1.003350e+00</td>\n",
              "      <td>1.003350e+00</td>\n",
              "    </tr>\n",
              "    <tr>\n",
              "      <th>min</th>\n",
              "      <td>-1.870024e+00</td>\n",
              "      <td>-2.433947e+00</td>\n",
              "      <td>-1.567576e+00</td>\n",
              "      <td>-1.447076e+00</td>\n",
              "    </tr>\n",
              "    <tr>\n",
              "      <th>25%</th>\n",
              "      <td>-9.006812e-01</td>\n",
              "      <td>-5.923730e-01</td>\n",
              "      <td>-1.226552e+00</td>\n",
              "      <td>-1.183812e+00</td>\n",
              "    </tr>\n",
              "    <tr>\n",
              "      <th>50%</th>\n",
              "      <td>-5.250608e-02</td>\n",
              "      <td>-1.319795e-01</td>\n",
              "      <td>3.364776e-01</td>\n",
              "      <td>1.325097e-01</td>\n",
              "    </tr>\n",
              "    <tr>\n",
              "      <th>75%</th>\n",
              "      <td>6.745011e-01</td>\n",
              "      <td>5.586108e-01</td>\n",
              "      <td>7.627583e-01</td>\n",
              "      <td>7.906707e-01</td>\n",
              "    </tr>\n",
              "    <tr>\n",
              "      <th>max</th>\n",
              "      <td>2.492019e+00</td>\n",
              "      <td>3.090775e+00</td>\n",
              "      <td>1.785832e+00</td>\n",
              "      <td>1.712096e+00</td>\n",
              "    </tr>\n",
              "  </tbody>\n",
              "</table>\n",
              "</div>"
            ],
            "text/plain": [
              "       sepal length (cm)  sepal width (cm)  petal length (cm)  petal width (cm)\n",
              "count       1.500000e+02      1.500000e+02       1.500000e+02      1.500000e+02\n",
              "mean       -1.690315e-15     -1.842970e-15      -1.698641e-15     -1.409243e-15\n",
              "std         1.003350e+00      1.003350e+00       1.003350e+00      1.003350e+00\n",
              "min        -1.870024e+00     -2.433947e+00      -1.567576e+00     -1.447076e+00\n",
              "25%        -9.006812e-01     -5.923730e-01      -1.226552e+00     -1.183812e+00\n",
              "50%        -5.250608e-02     -1.319795e-01       3.364776e-01      1.325097e-01\n",
              "75%         6.745011e-01      5.586108e-01       7.627583e-01      7.906707e-01\n",
              "max         2.492019e+00      3.090775e+00       1.785832e+00      1.712096e+00"
            ]
          },
          "metadata": {
            "tags": []
          },
          "execution_count": 134
        }
      ]
    },
    {
      "cell_type": "code",
      "metadata": {
        "colab": {
          "base_uri": "https://localhost:8080/"
        },
        "id": "-xyL_O2BBoCl",
        "outputId": "d3262994-f768-467b-e2e5-ec25450c2fd7"
      },
      "source": [
        "#특성 스케일 변환 - [실습] 위스콘신 유방함 데이터셋 (MinMaxScaler)\n",
        "\n",
        "from sklearn.preprocessing import StandardScaler, MinMaxScaler\n",
        "import pandas as pd\n",
        "from sklearn.model_selection import train_test_split\n",
        "from sklearn.metrics import accuracy_score\n",
        "from sklearn.datasets import load_breast_cancer\n",
        "\n",
        "cancer = load_breast_cancer()\n",
        "#print(cancer.feature_names)\n",
        "#print(cancer.target_names)\n",
        "\n",
        "X_train, X_test, y_train, y_test = train_test_split(cancer.data, cancer.target, stratify=cancer.target, random_state = 0)\n",
        "pd.DataFrame(X_train)\n",
        "\n",
        "from sklearn.svm import SVC\n",
        "svm = SVC()\n",
        "svm.fit(X_train, y_train)\n",
        "pred_train = svm.predict(X_train)\n",
        "pred_test = svm.predict(X_test)\n",
        "print('train 정확도:', accuracy_score(y_train, pred_train))\n",
        "print('test 정확도:', accuracy_score(y_test, pred_test))\n",
        "\n",
        "#데이터표준화 - 수치형 특성이 두 값의 범위 안에 놓이도록 변환\n",
        "mm_scaler = MinMaxScaler()\n",
        "\n",
        "#학습데이터로부터 변환을 위해 스케일링을 위한 학습 후, 변환 수행\n",
        "X_train_scaled = mm_scaler.fit_transform(X_train)\n",
        "#테스트 데이터는 학습으로부터 생성된 모델로 변환만 수행\n",
        "X_test_scaled = mm_scaler.transform(X_test)\n",
        "\n",
        "svm = SVC()\n",
        "svm.fit(X_train_scaled, y_train)\n",
        "\n",
        "pred_train2 = svm.predict(X_train_scaled)\n",
        "pred_test2 = svm.predict(X_test_scaled)\n",
        "print('scaling된 train 정확도:', accuracy_score(y_train, pred_train2))\n",
        "print('scaling된 test 정확도:', accuracy_score(y_test, pred_test2))"
      ],
      "execution_count": 145,
      "outputs": [
        {
          "output_type": "stream",
          "text": [
            "train 정확도: 0.9225352112676056\n",
            "test 정확도: 0.916083916083916\n",
            "scaling된 train 정확도: 0.9906103286384976\n",
            "scaling된 test 정확도: 0.9440559440559441\n"
          ],
          "name": "stdout"
        }
      ]
    },
    {
      "cell_type": "code",
      "metadata": {
        "colab": {
          "base_uri": "https://localhost:8080/"
        },
        "id": "6YzLhDCZFBGN",
        "outputId": "a9bd97ef-9f2e-4cc0-e9fe-7ddbcfbef058"
      },
      "source": [
        "svm = SVC()\n",
        "svm.fit(X_train, y_train)\n",
        "pred_train = svm.predict(X_train)\n",
        "pred_test = svm.predict(X_test)\n",
        "print('train 정확도:', accuracy_score(y_train, pred_train))\n",
        "print('test 정확도:', accuracy_score(y_test, pred_test))\n",
        "\n",
        "#데이터표준화 - 특성을 평균이 0이고 표준편차가 1이 되도록 변환\n",
        "mm_scaler = StandardScaler()\n",
        "\n",
        "scaled_cancer = mm_scaler.fit_transform(cancer_data)\n",
        "X_train, X_test, y_train, y_test = train_test_split(scaled_cancer, cancer.target, stratify=cancer.target, random_state = 0)\n",
        "svm = SVC()\n",
        "svm.fit(X_train, y_train)\n",
        "pred_train3 = svm.predict(X_train)\n",
        "pred_test3 = svm.predict(X_test)\n",
        "print('(standard scaling한) train 정확도 : ', accuracy_score(y_train, pred_train3))\n",
        "print('(standard scaling한) test 정확도 : ', accuracy_score(y_test, pred_test3))"
      ],
      "execution_count": 147,
      "outputs": [
        {
          "output_type": "stream",
          "text": [
            "train 정확도: 0.9225352112676056\n",
            "test 정확도: 0.916083916083916\n",
            "(standard scaling한) train 정확도 :  0.9929577464788732\n",
            "(standard scaling한) test 정확도 :  0.958041958041958\n"
          ],
          "name": "stdout"
        }
      ]
    }
  ]
}