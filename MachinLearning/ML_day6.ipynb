{
  "nbformat": 4,
  "nbformat_minor": 0,
  "metadata": {
    "colab": {
      "name": "ML_day6.ipynb",
      "provenance": [],
      "authorship_tag": "ABX9TyPjhFi+9RqJtzhEcBQMofko",
      "include_colab_link": true
    },
    "kernelspec": {
      "name": "python3",
      "display_name": "Python 3"
    },
    "language_info": {
      "name": "python"
    }
  },
  "cells": [
    {
      "cell_type": "markdown",
      "metadata": {
        "id": "view-in-github",
        "colab_type": "text"
      },
      "source": [
        "<a href=\"https://colab.research.google.com/github/sera0911/asia_ai_study/blob/main/MachinLearning/ML_day6.ipynb\" target=\"_parent\"><img src=\"https://colab.research.google.com/assets/colab-badge.svg\" alt=\"Open In Colab\"/></a>"
      ]
    },
    {
      "cell_type": "markdown",
      "metadata": {
        "id": "hl--bUXSwXyc"
      },
      "source": [
        "### ML_day5 정리 \n",
        "\n",
        "• GridSearchCV - 완전 탐색 방법 사용 최선의 모델 선택 \n",
        "\n",
        "• RandomizedSearchCV -   \n",
        "랜덤하게 하이퍼 파라미터 조합을 지정된 횟수만큼 추출하여 조사, 완전 탐색보다 계산 비용이 작게 드는 최선의 모델을 선택\n",
        "\n",
        "• Pipeline -  전처리-모델 적용등 수행 단계를 설정 클래스\n",
        "\n",
        "• FeatureUnion - 여러 단계의 전처리를 적적하게 연결\n",
        "\n",
        "#### Decision Tree - 데이터에 존재하는 규칙을 찾아내 트리기반의 분류 규칙을 반드는 알고리즘\n",
        "\n",
        "• 엔트로피(entropy), 지니계수(Gini Index), 분류오류(classification error) - 최대한 균일한 데이터 세트를 선택할 수 있는 규칙 조건을 만들기 위한 측정 방법\n",
        "\n",
        "• Decision Tree의 단점 - 과적합  \n",
        "Decision Tree 구현 클래스에는 과적합 제어 파라미터 - min_xxx, max_xxx  \n",
        "\n",
        "• DecisionTreeRegressor - 평균 제곱 오차(MSE)를 얼마나 감소시키는 지에 따라 분할\n",
        "\n",
        "\n",
        "#### 앙상블 기법:  \n",
        "\n",
        "• 보팅(Voting)여러 종류의 알고리즘을 사용한 각각의 결과에 대해 투표를 통해 최종 결과를 예측하는 방식\n",
        "\n",
        "• Bagging (여러 결정 트리들을 학습하는 앙상블 Random Forest) - 동일한 알고리즘에 대해 데이터 샘플을 다르게하여 학습을 수행하고, 결과를 보팅에 수행하는 방식\n",
        "\n",
        "• 부트스트랩(bootstrap) - 무작위로 중복을 허용해서 n개의 데이터를 선택하는 과정\n",
        "\n",
        "• 부스팅(Boosting) - 여러 개의 학습 알고리즘을 순차적으로 수행할 떄, 앞에서 학습한 알고리즘의 예측이 틀린 데이터에 대해 다음 학습에서 올바르게 예측할 수 있도록 가중치를 부여하여 학습과 예측을 진행하는 방식\n",
        "\n",
        "• 스태킹(Stacking) - 여러 서로 다른 모델의 예측 결과값을 다시 학습 데이터로 만들어서 다른 모델 메타 데이터로 만들어서 재학습기켜 결과를 예측하는 방법 \n",
        "\n",
        "• SelectFromModel(randomforest, threshold= ) - 랜덤 포레스트에서 중요한 특성 선택하기 위해 사용하는 클래스 \n"
      ]
    },
    {
      "cell_type": "markdown",
      "metadata": {
        "id": "V_29_fbwwIw0"
      },
      "source": [
        "### Support-vector machine\n",
        "\n",
        "• 결정 경계(Decision Boundary) - 분류를 위한 기준 선  \n",
        "분류되지 않은 새로운 점이 나타나면 어느 쪽에 속하는지 확인하기 위해 분류 과제를 수행 데이터를 2차원으로 표현했을 때 결정 경계는 단순 평면   \n",
        "\n",
        "• 3차원 이상일 때는 초평면(hyperplane)  \n",
        "\n",
        "• 두 클래스(분류) 사이에 최적의 결정 경계는 두 클래스의 데이터 군으로부터 최대한 멀리 떨어지는 게 좋다\n",
        "\n",
        "• 결정 경계와 가까이 있는 데이터 포인트 - Support Vectors\n",
        "\n",
        "• margin은 결정 경계와 서포트 벡터 사이의 거리\n",
        "\n",
        "• n개의 속성을 가진 데이터로 결정 경계를 그리면 최소 n+1 개의 서포트 벡터가 존재한다\n",
        "\n",
        "• 결정경계를 찾기 위한 서포트 벡터만 잘 골라내면 나머지 수 많은 데이터 포인트들을 무시할 수 있기에 빠르다\n",
        "\n",
        "• SVM은 데이터 포인트들을 올바르게 분리하면서 마진의 크기를 최대화해야 하므로 이상치를 핸들링하는 게 중요하다  \n",
        "\n",
        "• 개별적인 학습 데이터들을 다 놓치지 않으려고 아웃라이어를 허용하지 않는 기준으로 결정 경계를 정해버리면 오버피팅 문제가 발생할 수 있다  \n",
        "• 서포트 벡터와 결정 경계 서이의 거리가 매우 좁다 >하드 마진\n",
        "\n",
        "• 아웃라이어들이 마진 안에 어느정도 포함되도록 너그럽게 기준을 정하면 서포트 벡터와 결정 경계 사이의 거리가 멀어지고 언더피팅 문제가 발생할 수 있다 > 소프트마진  \n",
        "\n",
        "• SVM 모델이 오류를 어느정도 허용할 것인지 파마리터 C (기본 값은 1이다)  \n",
        "\n",
        "• C값이 클수록 하드마진(오류를 허용 안함), 작을수록 소프트마진(오류를 허용함)\n",
        "\n",
        "• SVM이 선형으로 분리 할 수 없는 데이터 셋인 경우에는 kernel=poly을 지정하여 해결 - 일부 아웃라이어에 맞추기 위해 비선형으로 결정 경계를 만듬\n",
        "\n",
        "• 다항식 커널을 사용하면 데이터를 더 높은 차원으로 변형하여 나타냄으로써 초평면의 결정 경계를 얻을 수 있다 (rbf는 가우시안 커널, sigmoid)  \n",
        "classifier = SVC(kernel= 'rbf')  \n",
        "\n",
        "• RBF 커널은 2차원의 점을 무한한 차원의 점으로 변환 (C대신 gamma사용)  \n",
        "classifier = SVC(kernel= 'rbf', gamma=0.5)   \n",
        "gamma는 결정 경계를 얼마나 유연하게 그을 것인지 정해주는 파라미터\n",
        "\n",
        "gamma값을 높이면 학습 데이터에 많이 의존해서 결정 경계를 구불구불 긋게 된다, 이는 오버피팅을 초래할 수 있다\n",
        "\n",
        "gamma값을 낮추면 학습 데이터에 별로 의존하지 않고 결정 경계를 직선에 가깝게 긋게 된다, 이는 언더피팅이 발생할 수 있다\n"
      ]
    },
    {
      "cell_type": "markdown",
      "metadata": {
        "id": "PmiR4_kMGZTF"
      },
      "source": [
        "선형 분류기 훈련\n",
        "\n",
        "• 초평면은 n차원 공간에 있는 n-1 부분 공간으로 정의합니다.\n",
        "\n",
        "• SVM은 훈련 데이터를 분류하기 위해 클래스 사이의 마진을 최대화하는 초평면을 찾습니다.\n",
        "\n",
        "• 사이킷런의 LinearSVC는 클래스 사이 마진이 최대화되는 초평면을 찾습니다\n",
        "\n",
        "• 초평면의 마진을 최대화하는 SVC와 분류 오차를 최소화하는 것 사이에 균형을 잡아야 합니다.\n",
        "\n",
        "• SVC 모델의 매개변수 C는 잘못 분류된 데이터 포인트에 부여하는 페널티입니다.\n",
        "\n",
        "• C가 작으면 분류기는 잘못 분류된 데이터 포인트를 허용합니다\n",
        "\n",
        "• C가 크면 분류기는 잘못 분류된 데이터에 큰 페널티를 부과합니다."
      ]
    },
    {
      "cell_type": "code",
      "metadata": {
        "id": "k9II7WuLjUoO"
      },
      "source": [
        "import warnings\n",
        "warnings.filterwarnings(action='ignore')"
      ],
      "execution_count": 1,
      "outputs": []
    },
    {
      "cell_type": "code",
      "metadata": {
        "colab": {
          "base_uri": "https://localhost:8080/"
        },
        "id": "amTXupR6v86u",
        "outputId": "029b4c4a-7b5c-405f-9620-b486625e3fa6"
      },
      "source": [
        "from sklearn.svm import SVC\n",
        "classifier = SVC(kernel='linear')\n",
        "training_point = [[1, 2], [1, 5], [2, 2], [7, 5], [9, 4], [8, 2]]\n",
        "labels = [1, 1, 1, 0, 0, 0]\n",
        "\n",
        "classifier.fit(training_point, labels)\n",
        "print(classifier.support_vectors_)\n",
        "print(classifier.predict([[3, 2]]))  #[1]로 분류가 된다(여기서 1은 위에 라벨에서 1)"
      ],
      "execution_count": 2,
      "outputs": [
        {
          "output_type": "stream",
          "text": [
            "[[7. 5.]\n",
            " [8. 2.]\n",
            " [2. 2.]]\n",
            "[1]\n"
          ],
          "name": "stdout"
        }
      ]
    },
    {
      "cell_type": "code",
      "metadata": {
        "id": "YIyiYneQIeA4"
      },
      "source": [
        "from sklearn.svm import LinearSVC\n",
        "from sklearn import datasets\n",
        "from sklearn.preprocessing import StandardScaler\n",
        "import numpy as np\n",
        "\n",
        "iris = datasets.load_iris() # 데이터 로드\n",
        "features = iris.data[:100,:2] #두 개의 클래스와 두 개의 특성만 선택\n",
        "target = iris.target[:100]\n",
        "scaler = StandardScaler() # 특성 표준화\n",
        "features_standardized = scaler.fit_transform(features)\n",
        "svc = LinearSVC(C=1.0) # 서포트 벡터 분류기 생성\n",
        "model = svc.fit(features_standardized, target) # 모델 훈련"
      ],
      "execution_count": 19,
      "outputs": []
    },
    {
      "cell_type": "markdown",
      "metadata": {
        "id": "DN5uhrOyMbHD"
      },
      "source": [
        "• LinearSVC 클래스는 예측 확률을 제공하지는 않지만 decision_function()를 사용해 분류에 대한 신뢰도를 확인할 수 있습니다."
      ]
    },
    {
      "cell_type": "code",
      "metadata": {
        "colab": {
          "base_uri": "https://localhost:8080/",
          "height": 282
        },
        "id": "2cBSoz_2MfV6",
        "outputId": "e1b1123f-869a-4157-bdda-82d343620db0"
      },
      "source": [
        "from matplotlib import pyplot as plt\n",
        "\n",
        "# 클래스를 색으로 구분한 산점도를 그립니다. \n",
        "color = [\"black\" if c == 0 else \"lightgrey\" for c in target]\n",
        "\n",
        "plt.scatter(features_standardized[:,0], features_standardized[:,1], c=color)\n",
        "w = svc.coef_[0] # 초평면을 만듭니다. \n",
        "a = -w[0] / w[1]\n",
        "xx = np.linspace(-2.5, 2.5)\n",
        "yy = a * xx - (svc.intercept_[0]) / w[1]\n",
        "plt.plot(xx, yy) # 초평면을 그립니다. plt.axis(\"off\"), plt.show();"
      ],
      "execution_count": 20,
      "outputs": [
        {
          "output_type": "execute_result",
          "data": {
            "text/plain": [
              "[<matplotlib.lines.Line2D at 0x7f4b6a3a6610>]"
            ]
          },
          "metadata": {
            "tags": []
          },
          "execution_count": 20
        },
        {
          "output_type": "display_data",
          "data": {
            "image/png": "[encoded data removed]",
            "text/plain": [
              "<Figure size 432x288 with 1 Axes>"
            ]
          },
          "metadata": {
            "tags": [],
            "needs_background": "light"
          }
        }
      ]
    },
    {
      "cell_type": "code",
      "metadata": {
        "colab": {
          "base_uri": "https://localhost:8080/"
        },
        "id": "58MB4dTjRuBQ",
        "outputId": "621658ac-ea27-466f-aa25-06ccf03cb6ca"
      },
      "source": [
        "new_observation = [[ -2, 3]] # 새로운 샘플을 만듭니다. \n",
        "svc.predict(new_observation) # 새로운 샘플의 클래스를 예측"
      ],
      "execution_count": 21,
      "outputs": [
        {
          "output_type": "execute_result",
          "data": {
            "text/plain": [
              "array([0])"
            ]
          },
          "metadata": {
            "tags": []
          },
          "execution_count": 21
        }
      ]
    },
    {
      "cell_type": "code",
      "metadata": {
        "colab": {
          "base_uri": "https://localhost:8080/"
        },
        "id": "Yk6GRwTOR8E-",
        "outputId": "9ac8a8f4-e851-47ba-b1f3-e6ee9b8ab4bf"
      },
      "source": [
        "svc.decision_function(new_observation)"
      ],
      "execution_count": 22,
      "outputs": [
        {
          "output_type": "execute_result",
          "data": {
            "text/plain": [
              "array([-6.84224834])"
            ]
          },
          "metadata": {
            "tags": []
          },
          "execution_count": 22
        }
      ]
    },
    {
      "cell_type": "markdown",
      "metadata": {
        "id": "Z6DvK6ojMkPQ"
      },
      "source": [
        "커널을 사용해 선형적으로 구분되지 않는 클래스 다루기\n",
        "\n",
        "• 클래스가 선형적으로 구분되지 않을 때 비선형 결정 경계를 만들기 위해 커널 함수를 사용한 서포트 벡터 머신으로 훈련합니다."
      ]
    },
    {
      "cell_type": "code",
      "metadata": {
        "colab": {
          "base_uri": "https://localhost:8080/"
        },
        "id": "yJLHiQ3DMpK6",
        "outputId": "8f0b6894-801b-43ad-8cd2-04560b72589e"
      },
      "source": [
        "from sklearn.svm import SVC\n",
        "from sklearn import datasets\n",
        "from sklearn.preprocessing import StandardScaler\n",
        "import numpy as np\n",
        "\n",
        "np.random.seed(0) # 랜덤 시드를 지정\n",
        "features = np.random.randn(200, 2) # 두 개의 특성을 만듭니다.\n",
        "features[ : 5]"
      ],
      "execution_count": 23,
      "outputs": [
        {
          "output_type": "execute_result",
          "data": {
            "text/plain": [
              "array([[ 1.76405235,  0.40015721],\n",
              "       [ 0.97873798,  2.2408932 ],\n",
              "       [ 1.86755799, -0.97727788],\n",
              "       [ 0.95008842, -0.15135721],\n",
              "       [-0.10321885,  0.4105985 ]])"
            ]
          },
          "metadata": {
            "tags": []
          },
          "execution_count": 23
        }
      ]
    },
    {
      "cell_type": "code",
      "metadata": {
        "colab": {
          "base_uri": "https://localhost:8080/"
        },
        "id": "oi-iy1evlSlr",
        "outputId": "178cce12-8bd8-4c38-bd6b-aa50db71b473"
      },
      "source": [
        "# XOR 연산(이것이 무엇인지 알 필요는 없습니다)을 사용하여\n",
        "# 선형적으로 구분할 수 없는 클래스를 만듭니다.\n",
        "target_xor = np.logical_xor(features[:, 0] > 0, features[:, 1] > 0)\n",
        "target = np.where(target_xor, 0, 1)\n",
        "target[:5]"
      ],
      "execution_count": 24,
      "outputs": [
        {
          "output_type": "execute_result",
          "data": {
            "text/plain": [
              "array([1, 1, 0, 0, 0])"
            ]
          },
          "metadata": {
            "tags": []
          },
          "execution_count": 24
        }
      ]
    },
    {
      "cell_type": "code",
      "metadata": {
        "id": "_E7wPGb1lVU2"
      },
      "source": [
        "# 방사 기저 함수 커널을 사용한 서포트 벡터 머신을 만듭니다.\n",
        "svc = SVC(kernel=\"rbf\", random_state=0, gamma=1, C=1)\n",
        "\n",
        "model = svc.fit(features, target) # 분류기 훈련"
      ],
      "execution_count": 25,
      "outputs": []
    },
    {
      "cell_type": "code",
      "metadata": {
        "id": "JENi-ihpMs19"
      },
      "source": [
        "# 샘플과 결정 경계를 그립니다.\n",
        "from matplotlib.colors import ListedColormap\n",
        "import matplotlib.pyplot as plt\n",
        "\n",
        "def plot_decision_regions(X, y, classifier):\n",
        "  cmap = ListedColormap((\"red\", \"blue\"))\n",
        "  xx1, xx2 = np.meshgrid(np.arange(-3, 3, 0.02), np.arange(-3, 3, 0.02))\n",
        "  Z = classifier.predict(np.array([xx1.ravel(), xx2.ravel()]).T)\n",
        "  Z = Z.reshape(xx1.shape)\n",
        "  plt.contourf(xx1, xx2, Z, alpha=0.1, cmap=cmap)\n",
        "\n",
        "  for idx, cl in enumerate(np.unique(y)):\n",
        "    plt.scatter(x=X[y == cl, 0], y=X[y == cl, 1],\n",
        "    alpha=0.8, c=cmap.colors[idx],\n",
        "    marker=\"+\", label=cl)"
      ],
      "execution_count": 26,
      "outputs": []
    },
    {
      "cell_type": "code",
      "metadata": {
        "colab": {
          "base_uri": "https://localhost:8080/",
          "height": 248
        },
        "id": "iMg1uJF_QYOG",
        "outputId": "11b9c3e6-9e59-43f2-f5d3-f2d0946108c8"
      },
      "source": [
        "# 선형 커널을 사용한 서포트 벡터 분류기를 만듭니다.\n",
        "svc_linear = SVC(kernel=\"linear\", random_state=0, C=1)\n",
        "svc_linear.fit(features, target) # 모델 훈련\n",
        "plot_decision_regions(features, target, classifier=svc_linear) # 샘플과 초평면을 그립니다.\n",
        "plt.axis(\"off\")\n",
        "plt.show()"
      ],
      "execution_count": 27,
      "outputs": [
        {
          "output_type": "display_data",
          "data": {
            "image/png": "[encoded data removed]",
            "text/plain": [
              "<Figure size 432x288 with 1 Axes>"
            ]
          },
          "metadata": {
            "tags": [],
            "needs_background": "light"
          }
        }
      ]
    },
    {
      "cell_type": "code",
      "metadata": {
        "colab": {
          "base_uri": "https://localhost:8080/",
          "height": 248
        },
        "id": "vQ5XxiK4QqRW",
        "outputId": "a5df34d4-5c63-4d7d-8adc-eddcbe43e76f"
      },
      "source": [
        "# 가우시안 커널을 사용한 서포트 벡터 분류기를 만듭니다.\n",
        "gaussian_linear = SVC(kernel=\"rbf\", random_state=0,gamma=1, C=1)\n",
        "gaussian_linear.fit(features, target) # 모델 훈련\n",
        "plot_decision_regions(features, target, classifier=gaussian_linear) # 샘플과 초평면을 그립니다.\n",
        "plt.axis(\"off\")\n",
        "plt.show()"
      ],
      "execution_count": 28,
      "outputs": [
        {
          "output_type": "display_data",
          "data": {
            "image/png": "[encoded data removed]",
            "text/plain": [
              "<Figure size 432x288 with 1 Axes>"
            ]
          },
          "metadata": {
            "tags": [],
            "needs_background": "light"
          }
        }
      ]
    },
    {
      "cell_type": "markdown",
      "metadata": {
        "id": "JzwE24-gZ8aP"
      },
      "source": [
        "### SVM(Support Vector Machine) 분류 예제"
      ]
    },
    {
      "cell_type": "code",
      "metadata": {
        "colab": {
          "base_uri": "https://localhost:8080/"
        },
        "id": "_NrLGa0oSeum",
        "outputId": "b2325e7f-d2a7-4d87-ab2b-fbb3c0223a6d"
      },
      "source": [
        "import pandas as pd\n",
        "from sklearn.datasets import load_breast_cancer\n",
        "\n",
        "breast = load_breast_cancer()\n",
        "cancer = pd.DataFrame(data = breast.data, columns= breast.feature_names)\n",
        "cancer['target'] = breast.target\n",
        "cancer.info()"
      ],
      "execution_count": 11,
      "outputs": [
        {
          "output_type": "stream",
          "text": [
            "<class 'pandas.core.frame.DataFrame'>\n",
            "RangeIndex: 569 entries, 0 to 568\n",
            "Data columns (total 31 columns):\n",
            " #   Column                   Non-Null Count  Dtype  \n",
            "---  ------                   --------------  -----  \n",
            " 0   mean radius              569 non-null    float64\n",
            " 1   mean texture             569 non-null    float64\n",
            " 2   mean perimeter           569 non-null    float64\n",
            " 3   mean area                569 non-null    float64\n",
            " 4   mean smoothness          569 non-null    float64\n",
            " 5   mean compactness         569 non-null    float64\n",
            " 6   mean concavity           569 non-null    float64\n",
            " 7   mean concave points      569 non-null    float64\n",
            " 8   mean symmetry            569 non-null    float64\n",
            " 9   mean fractal dimension   569 non-null    float64\n",
            " 10  radius error             569 non-null    float64\n",
            " 11  texture error            569 non-null    float64\n",
            " 12  perimeter error          569 non-null    float64\n",
            " 13  area error               569 non-null    float64\n",
            " 14  smoothness error         569 non-null    float64\n",
            " 15  compactness error        569 non-null    float64\n",
            " 16  concavity error          569 non-null    float64\n",
            " 17  concave points error     569 non-null    float64\n",
            " 18  symmetry error           569 non-null    float64\n",
            " 19  fractal dimension error  569 non-null    float64\n",
            " 20  worst radius             569 non-null    float64\n",
            " 21  worst texture            569 non-null    float64\n",
            " 22  worst perimeter          569 non-null    float64\n",
            " 23  worst area               569 non-null    float64\n",
            " 24  worst smoothness         569 non-null    float64\n",
            " 25  worst compactness        569 non-null    float64\n",
            " 26  worst concavity          569 non-null    float64\n",
            " 27  worst concave points     569 non-null    float64\n",
            " 28  worst symmetry           569 non-null    float64\n",
            " 29  worst fractal dimension  569 non-null    float64\n",
            " 30  target                   569 non-null    int64  \n",
            "dtypes: float64(30), int64(1)\n",
            "memory usage: 137.9 KB\n"
          ],
          "name": "stdout"
        }
      ]
    },
    {
      "cell_type": "code",
      "metadata": {
        "colab": {
          "base_uri": "https://localhost:8080/",
          "height": 338
        },
        "id": "gLtT1kIdTGQO",
        "outputId": "23f95821-dc1e-4884-dc81-d678eea44537"
      },
      "source": [
        "cancer.describe()"
      ],
      "execution_count": 12,
      "outputs": [
        {
          "output_type": "execute_result",
          "data": {
            "text/html": [
              "<div>\n",
              "<style scoped>\n",
              "    .dataframe tbody tr th:only-of-type {\n",
              "        vertical-align: middle;\n",
              "    }\n",
              "\n",
              "    .dataframe tbody tr th {\n",
              "        vertical-align: top;\n",
              "    }\n",
              "\n",
              "    .dataframe thead th {\n",
              "        text-align: right;\n",
              "    }\n",
              "</style>\n",
              "<table border=\"1\" class=\"dataframe\">\n",
              "  <thead>\n",
              "    <tr style=\"text-align: right;\">\n",
              "      <th></th>\n",
              "      <th>mean radius</th>\n",
              "      <th>mean texture</th>\n",
              "      <th>mean perimeter</th>\n",
              "      <th>mean area</th>\n",
              "      <th>mean smoothness</th>\n",
              "      <th>mean compactness</th>\n",
              "      <th>mean concavity</th>\n",
              "      <th>mean concave points</th>\n",
              "      <th>mean symmetry</th>\n",
              "      <th>mean fractal dimension</th>\n",
              "      <th>radius error</th>\n",
              "      <th>texture error</th>\n",
              "      <th>perimeter error</th>\n",
              "      <th>area error</th>\n",
              "      <th>smoothness error</th>\n",
              "      <th>compactness error</th>\n",
              "      <th>concavity error</th>\n",
              "      <th>concave points error</th>\n",
              "      <th>symmetry error</th>\n",
              "      <th>fractal dimension error</th>\n",
              "      <th>worst radius</th>\n",
              "      <th>worst texture</th>\n",
              "      <th>worst perimeter</th>\n",
              "      <th>worst area</th>\n",
              "      <th>worst smoothness</th>\n",
              "      <th>worst compactness</th>\n",
              "      <th>worst concavity</th>\n",
              "      <th>worst concave points</th>\n",
              "      <th>worst symmetry</th>\n",
              "      <th>worst fractal dimension</th>\n",
              "      <th>target</th>\n",
              "    </tr>\n",
              "  </thead>\n",
              "  <tbody>\n",
              "    <tr>\n",
              "      <th>count</th>\n",
              "      <td>569.000000</td>\n",
              "      <td>569.000000</td>\n",
              "      <td>569.000000</td>\n",
              "      <td>569.000000</td>\n",
              "      <td>569.000000</td>\n",
              "      <td>569.000000</td>\n",
              "      <td>569.000000</td>\n",
              "      <td>569.000000</td>\n",
              "      <td>569.000000</td>\n",
              "      <td>569.000000</td>\n",
              "      <td>569.000000</td>\n",
              "      <td>569.000000</td>\n",
              "      <td>569.000000</td>\n",
              "      <td>569.000000</td>\n",
              "      <td>569.000000</td>\n",
              "      <td>569.000000</td>\n",
              "      <td>569.000000</td>\n",
              "      <td>569.000000</td>\n",
              "      <td>569.000000</td>\n",
              "      <td>569.000000</td>\n",
              "      <td>569.000000</td>\n",
              "      <td>569.000000</td>\n",
              "      <td>569.000000</td>\n",
              "      <td>569.000000</td>\n",
              "      <td>569.000000</td>\n",
              "      <td>569.000000</td>\n",
              "      <td>569.000000</td>\n",
              "      <td>569.000000</td>\n",
              "      <td>569.000000</td>\n",
              "      <td>569.000000</td>\n",
              "      <td>569.000000</td>\n",
              "    </tr>\n",
              "    <tr>\n",
              "      <th>mean</th>\n",
              "      <td>14.127292</td>\n",
              "      <td>19.289649</td>\n",
              "      <td>91.969033</td>\n",
              "      <td>654.889104</td>\n",
              "      <td>0.096360</td>\n",
              "      <td>0.104341</td>\n",
              "      <td>0.088799</td>\n",
              "      <td>0.048919</td>\n",
              "      <td>0.181162</td>\n",
              "      <td>0.062798</td>\n",
              "      <td>0.405172</td>\n",
              "      <td>1.216853</td>\n",
              "      <td>2.866059</td>\n",
              "      <td>40.337079</td>\n",
              "      <td>0.007041</td>\n",
              "      <td>0.025478</td>\n",
              "      <td>0.031894</td>\n",
              "      <td>0.011796</td>\n",
              "      <td>0.020542</td>\n",
              "      <td>0.003795</td>\n",
              "      <td>16.269190</td>\n",
              "      <td>25.677223</td>\n",
              "      <td>107.261213</td>\n",
              "      <td>880.583128</td>\n",
              "      <td>0.132369</td>\n",
              "      <td>0.254265</td>\n",
              "      <td>0.272188</td>\n",
              "      <td>0.114606</td>\n",
              "      <td>0.290076</td>\n",
              "      <td>0.083946</td>\n",
              "      <td>0.627417</td>\n",
              "    </tr>\n",
              "    <tr>\n",
              "      <th>std</th>\n",
              "      <td>3.524049</td>\n",
              "      <td>4.301036</td>\n",
              "      <td>24.298981</td>\n",
              "      <td>351.914129</td>\n",
              "      <td>0.014064</td>\n",
              "      <td>0.052813</td>\n",
              "      <td>0.079720</td>\n",
              "      <td>0.038803</td>\n",
              "      <td>0.027414</td>\n",
              "      <td>0.007060</td>\n",
              "      <td>0.277313</td>\n",
              "      <td>0.551648</td>\n",
              "      <td>2.021855</td>\n",
              "      <td>45.491006</td>\n",
              "      <td>0.003003</td>\n",
              "      <td>0.017908</td>\n",
              "      <td>0.030186</td>\n",
              "      <td>0.006170</td>\n",
              "      <td>0.008266</td>\n",
              "      <td>0.002646</td>\n",
              "      <td>4.833242</td>\n",
              "      <td>6.146258</td>\n",
              "      <td>33.602542</td>\n",
              "      <td>569.356993</td>\n",
              "      <td>0.022832</td>\n",
              "      <td>0.157336</td>\n",
              "      <td>0.208624</td>\n",
              "      <td>0.065732</td>\n",
              "      <td>0.061867</td>\n",
              "      <td>0.018061</td>\n",
              "      <td>0.483918</td>\n",
              "    </tr>\n",
              "    <tr>\n",
              "      <th>min</th>\n",
              "      <td>6.981000</td>\n",
              "      <td>9.710000</td>\n",
              "      <td>43.790000</td>\n",
              "      <td>143.500000</td>\n",
              "      <td>0.052630</td>\n",
              "      <td>0.019380</td>\n",
              "      <td>0.000000</td>\n",
              "      <td>0.000000</td>\n",
              "      <td>0.106000</td>\n",
              "      <td>0.049960</td>\n",
              "      <td>0.111500</td>\n",
              "      <td>0.360200</td>\n",
              "      <td>0.757000</td>\n",
              "      <td>6.802000</td>\n",
              "      <td>0.001713</td>\n",
              "      <td>0.002252</td>\n",
              "      <td>0.000000</td>\n",
              "      <td>0.000000</td>\n",
              "      <td>0.007882</td>\n",
              "      <td>0.000895</td>\n",
              "      <td>7.930000</td>\n",
              "      <td>12.020000</td>\n",
              "      <td>50.410000</td>\n",
              "      <td>185.200000</td>\n",
              "      <td>0.071170</td>\n",
              "      <td>0.027290</td>\n",
              "      <td>0.000000</td>\n",
              "      <td>0.000000</td>\n",
              "      <td>0.156500</td>\n",
              "      <td>0.055040</td>\n",
              "      <td>0.000000</td>\n",
              "    </tr>\n",
              "    <tr>\n",
              "      <th>25%</th>\n",
              "      <td>11.700000</td>\n",
              "      <td>16.170000</td>\n",
              "      <td>75.170000</td>\n",
              "      <td>420.300000</td>\n",
              "      <td>0.086370</td>\n",
              "      <td>0.064920</td>\n",
              "      <td>0.029560</td>\n",
              "      <td>0.020310</td>\n",
              "      <td>0.161900</td>\n",
              "      <td>0.057700</td>\n",
              "      <td>0.232400</td>\n",
              "      <td>0.833900</td>\n",
              "      <td>1.606000</td>\n",
              "      <td>17.850000</td>\n",
              "      <td>0.005169</td>\n",
              "      <td>0.013080</td>\n",
              "      <td>0.015090</td>\n",
              "      <td>0.007638</td>\n",
              "      <td>0.015160</td>\n",
              "      <td>0.002248</td>\n",
              "      <td>13.010000</td>\n",
              "      <td>21.080000</td>\n",
              "      <td>84.110000</td>\n",
              "      <td>515.300000</td>\n",
              "      <td>0.116600</td>\n",
              "      <td>0.147200</td>\n",
              "      <td>0.114500</td>\n",
              "      <td>0.064930</td>\n",
              "      <td>0.250400</td>\n",
              "      <td>0.071460</td>\n",
              "      <td>0.000000</td>\n",
              "    </tr>\n",
              "    <tr>\n",
              "      <th>50%</th>\n",
              "      <td>13.370000</td>\n",
              "      <td>18.840000</td>\n",
              "      <td>86.240000</td>\n",
              "      <td>551.100000</td>\n",
              "      <td>0.095870</td>\n",
              "      <td>0.092630</td>\n",
              "      <td>0.061540</td>\n",
              "      <td>0.033500</td>\n",
              "      <td>0.179200</td>\n",
              "      <td>0.061540</td>\n",
              "      <td>0.324200</td>\n",
              "      <td>1.108000</td>\n",
              "      <td>2.287000</td>\n",
              "      <td>24.530000</td>\n",
              "      <td>0.006380</td>\n",
              "      <td>0.020450</td>\n",
              "      <td>0.025890</td>\n",
              "      <td>0.010930</td>\n",
              "      <td>0.018730</td>\n",
              "      <td>0.003187</td>\n",
              "      <td>14.970000</td>\n",
              "      <td>25.410000</td>\n",
              "      <td>97.660000</td>\n",
              "      <td>686.500000</td>\n",
              "      <td>0.131300</td>\n",
              "      <td>0.211900</td>\n",
              "      <td>0.226700</td>\n",
              "      <td>0.099930</td>\n",
              "      <td>0.282200</td>\n",
              "      <td>0.080040</td>\n",
              "      <td>1.000000</td>\n",
              "    </tr>\n",
              "    <tr>\n",
              "      <th>75%</th>\n",
              "      <td>15.780000</td>\n",
              "      <td>21.800000</td>\n",
              "      <td>104.100000</td>\n",
              "      <td>782.700000</td>\n",
              "      <td>0.105300</td>\n",
              "      <td>0.130400</td>\n",
              "      <td>0.130700</td>\n",
              "      <td>0.074000</td>\n",
              "      <td>0.195700</td>\n",
              "      <td>0.066120</td>\n",
              "      <td>0.478900</td>\n",
              "      <td>1.474000</td>\n",
              "      <td>3.357000</td>\n",
              "      <td>45.190000</td>\n",
              "      <td>0.008146</td>\n",
              "      <td>0.032450</td>\n",
              "      <td>0.042050</td>\n",
              "      <td>0.014710</td>\n",
              "      <td>0.023480</td>\n",
              "      <td>0.004558</td>\n",
              "      <td>18.790000</td>\n",
              "      <td>29.720000</td>\n",
              "      <td>125.400000</td>\n",
              "      <td>1084.000000</td>\n",
              "      <td>0.146000</td>\n",
              "      <td>0.339100</td>\n",
              "      <td>0.382900</td>\n",
              "      <td>0.161400</td>\n",
              "      <td>0.317900</td>\n",
              "      <td>0.092080</td>\n",
              "      <td>1.000000</td>\n",
              "    </tr>\n",
              "    <tr>\n",
              "      <th>max</th>\n",
              "      <td>28.110000</td>\n",
              "      <td>39.280000</td>\n",
              "      <td>188.500000</td>\n",
              "      <td>2501.000000</td>\n",
              "      <td>0.163400</td>\n",
              "      <td>0.345400</td>\n",
              "      <td>0.426800</td>\n",
              "      <td>0.201200</td>\n",
              "      <td>0.304000</td>\n",
              "      <td>0.097440</td>\n",
              "      <td>2.873000</td>\n",
              "      <td>4.885000</td>\n",
              "      <td>21.980000</td>\n",
              "      <td>542.200000</td>\n",
              "      <td>0.031130</td>\n",
              "      <td>0.135400</td>\n",
              "      <td>0.396000</td>\n",
              "      <td>0.052790</td>\n",
              "      <td>0.078950</td>\n",
              "      <td>0.029840</td>\n",
              "      <td>36.040000</td>\n",
              "      <td>49.540000</td>\n",
              "      <td>251.200000</td>\n",
              "      <td>4254.000000</td>\n",
              "      <td>0.222600</td>\n",
              "      <td>1.058000</td>\n",
              "      <td>1.252000</td>\n",
              "      <td>0.291000</td>\n",
              "      <td>0.663800</td>\n",
              "      <td>0.207500</td>\n",
              "      <td>1.000000</td>\n",
              "    </tr>\n",
              "  </tbody>\n",
              "</table>\n",
              "</div>"
            ],
            "text/plain": [
              "       mean radius  mean texture  ...  worst fractal dimension      target\n",
              "count   569.000000    569.000000  ...               569.000000  569.000000\n",
              "mean     14.127292     19.289649  ...                 0.083946    0.627417\n",
              "std       3.524049      4.301036  ...                 0.018061    0.483918\n",
              "min       6.981000      9.710000  ...                 0.055040    0.000000\n",
              "25%      11.700000     16.170000  ...                 0.071460    0.000000\n",
              "50%      13.370000     18.840000  ...                 0.080040    1.000000\n",
              "75%      15.780000     21.800000  ...                 0.092080    1.000000\n",
              "max      28.110000     39.280000  ...                 0.207500    1.000000\n",
              "\n",
              "[8 rows x 31 columns]"
            ]
          },
          "metadata": {
            "tags": []
          },
          "execution_count": 12
        }
      ]
    },
    {
      "cell_type": "code",
      "metadata": {
        "colab": {
          "base_uri": "https://localhost:8080/"
        },
        "id": "7ibfTMI0TI2O",
        "outputId": "2fc732c1-d5fd-4742-fe12-fa8045c19a1b"
      },
      "source": [
        "cancer.target.value_counts()"
      ],
      "execution_count": 13,
      "outputs": [
        {
          "output_type": "execute_result",
          "data": {
            "text/plain": [
              "1    357\n",
              "0    212\n",
              "Name: target, dtype: int64"
            ]
          },
          "metadata": {
            "tags": []
          },
          "execution_count": 13
        }
      ]
    },
    {
      "cell_type": "code",
      "metadata": {
        "colab": {
          "base_uri": "https://localhost:8080/"
        },
        "id": "_8U1qN3oTWil",
        "outputId": "525209a1-c003-4bf1-d689-13033b910a70"
      },
      "source": [
        "from sklearn.model_selection import cross_val_score, cross_validate\n",
        "\n",
        "#선형 분류\n",
        "svm_clf = SVC(kernel = 'linear')\n",
        "\n",
        "scores = cross_val_score(svm_clf, breast.data, breast.target, cv =5) #5겹의 교차검증\n",
        "scores"
      ],
      "execution_count": 14,
      "outputs": [
        {
          "output_type": "execute_result",
          "data": {
            "text/plain": [
              "array([0.94736842, 0.92982456, 0.97368421, 0.92105263, 0.95575221])"
            ]
          },
          "metadata": {
            "tags": []
          },
          "execution_count": 14
        }
      ]
    },
    {
      "cell_type": "code",
      "metadata": {
        "colab": {
          "base_uri": "https://localhost:8080/"
        },
        "id": "eHYb2DqOT-Z6",
        "outputId": "63f5b7a0-3e2e-47b4-afb3-41582b548c54"
      },
      "source": [
        "pd.DataFrame(cross_validate(svm_clf, breast.data, breast.target, cv=5))\n",
        "\n",
        "print('교차검증 평균', scores.mean())"
      ],
      "execution_count": 15,
      "outputs": [
        {
          "output_type": "stream",
          "text": [
            "교차검증 평균 0.9455364073901569\n"
          ],
          "name": "stdout"
        }
      ]
    },
    {
      "cell_type": "code",
      "metadata": {
        "colab": {
          "base_uri": "https://localhost:8080/"
        },
        "id": "zGh9EWaIUNea",
        "outputId": "70648382-6aa6-4191-a35a-7b70498bea06"
      },
      "source": [
        "# SVM, kernel = 'rbf'로 비선형분리 진행\n",
        "svm_clf =SVC(kernel = 'rbf')\n",
        "\n",
        "# 교차검증\n",
        "scores = cross_val_score(svm_clf, breast.data, breast.target, cv = 5) \n",
        "scores"
      ],
      "execution_count": 29,
      "outputs": [
        {
          "output_type": "execute_result",
          "data": {
            "text/plain": [
              "array([0.85087719, 0.89473684, 0.92982456, 0.94736842, 0.9380531 ])"
            ]
          },
          "metadata": {
            "tags": []
          },
          "execution_count": 29
        }
      ]
    },
    {
      "cell_type": "code",
      "metadata": {
        "colab": {
          "base_uri": "https://localhost:8080/"
        },
        "id": "sbeWxT1YXQfq",
        "outputId": "a21dc0e9-e933-43e0-fbc5-40174732ebe5"
      },
      "source": [
        "pd.DataFrame(cross_validate(svm_clf,  breast.data, breast.target, cv =5)) \n",
        "\n",
        "print('교차검증 평균: ', scores.mean())"
      ],
      "execution_count": 30,
      "outputs": [
        {
          "output_type": "stream",
          "text": [
            "교차검증 평균:  0.9121720229777983\n"
          ],
          "name": "stdout"
        }
      ]
    },
    {
      "cell_type": "code",
      "metadata": {
        "id": "BfmKnV1IUsu2"
      },
      "source": [
        "X = cancer.iloc[:,:-1]\n",
        "y = cancer.iloc[:, -1]\n",
        "\n",
        "#SVM은 스케일링에 민감하기 때문에 scaling을 진행\n",
        "from sklearn.preprocessing import StandardScaler\n",
        "scaler = StandardScaler()\n",
        "scaler.fit(X)\n",
        "X_scaled = scaler.transform(X)"
      ],
      "execution_count": 31,
      "outputs": []
    },
    {
      "cell_type": "code",
      "metadata": {
        "colab": {
          "base_uri": "https://localhost:8080/"
        },
        "id": "IOMZeNaZVHDo",
        "outputId": "25b50abd-9f2a-4483-c80a-afd5587c2ba9"
      },
      "source": [
        "from sklearn.model_selection import train_test_split\n",
        "\n",
        "#학습과 테스트 데이터로 분할\n",
        "X_train, X_test, y_train, y_test = train_test_split(X_scaled, y, test_size=0.3, random_state = 100)\n",
        "svm_clf = SVC(kernel='linear', random_state=100)\n",
        "\n",
        "scores = cross_val_score(svm_clf, X_scaled, y, cv=5)\n",
        "scores"
      ],
      "execution_count": 32,
      "outputs": [
        {
          "output_type": "execute_result",
          "data": {
            "text/plain": [
              "array([0.95614035, 0.98245614, 0.96491228, 0.96491228, 0.98230088])"
            ]
          },
          "metadata": {
            "tags": []
          },
          "execution_count": 32
        }
      ]
    },
    {
      "cell_type": "code",
      "metadata": {
        "colab": {
          "base_uri": "https://localhost:8080/"
        },
        "id": "Ka9Vr_HJVvZH",
        "outputId": "6fcd3cb8-341c-4e5b-def4-44b3f5c63517"
      },
      "source": [
        "pd.DataFrame(cross_validate(svm_clf, X_scaled, y, cv=5))\n",
        "\n",
        "print('교차검증 평균', scores.mean())"
      ],
      "execution_count": 33,
      "outputs": [
        {
          "output_type": "stream",
          "text": [
            "교차검증 평균 0.9701443875174661\n"
          ],
          "name": "stdout"
        }
      ]
    },
    {
      "cell_type": "code",
      "metadata": {
        "id": "yes4YHWIV6pQ"
      },
      "source": [
        "from sklearn.model_selection import GridSearchCV\n",
        "\n",
        "svm_clf = SVC(kernel = 'linear',random_state=100)\n",
        "parameters = {'C': [0.001, 0.01, 0.1, 1, 10, 25, 50, 100]}\n",
        "\n",
        "grid_svm = GridSearchCV(svm_clf,\n",
        "                      param_grid = parameters, cv = 5)\n",
        "\n",
        "grid_svm.fit(X_train, y_train)\n",
        "\n",
        "result = pd.DataFrame(grid_svm.cv_results_['params'])"
      ],
      "execution_count": 36,
      "outputs": []
    },
    {
      "cell_type": "code",
      "metadata": {
        "colab": {
          "base_uri": "https://localhost:8080/",
          "height": 284
        },
        "id": "mBerd9K4WiVe",
        "outputId": "f9074f3b-650e-4648-efbf-7a52308bd3a1"
      },
      "source": [
        "result['mean_test_score'] = grid_svm.cv_results_['mean_test_score']\n",
        "result.sort_values(by='mean_test_score', ascending=False)"
      ],
      "execution_count": 37,
      "outputs": [
        {
          "output_type": "execute_result",
          "data": {
            "text/html": [
              "<div>\n",
              "<style scoped>\n",
              "    .dataframe tbody tr th:only-of-type {\n",
              "        vertical-align: middle;\n",
              "    }\n",
              "\n",
              "    .dataframe tbody tr th {\n",
              "        vertical-align: top;\n",
              "    }\n",
              "\n",
              "    .dataframe thead th {\n",
              "        text-align: right;\n",
              "    }\n",
              "</style>\n",
              "<table border=\"1\" class=\"dataframe\">\n",
              "  <thead>\n",
              "    <tr style=\"text-align: right;\">\n",
              "      <th></th>\n",
              "      <th>C</th>\n",
              "      <th>mean_test_score</th>\n",
              "    </tr>\n",
              "  </thead>\n",
              "  <tbody>\n",
              "    <tr>\n",
              "      <th>3</th>\n",
              "      <td>1.000</td>\n",
              "      <td>0.974873</td>\n",
              "    </tr>\n",
              "    <tr>\n",
              "      <th>1</th>\n",
              "      <td>0.010</td>\n",
              "      <td>0.969778</td>\n",
              "    </tr>\n",
              "    <tr>\n",
              "      <th>2</th>\n",
              "      <td>0.100</td>\n",
              "      <td>0.969778</td>\n",
              "    </tr>\n",
              "    <tr>\n",
              "      <th>4</th>\n",
              "      <td>10.000</td>\n",
              "      <td>0.957310</td>\n",
              "    </tr>\n",
              "    <tr>\n",
              "      <th>5</th>\n",
              "      <td>25.000</td>\n",
              "      <td>0.957278</td>\n",
              "    </tr>\n",
              "    <tr>\n",
              "      <th>6</th>\n",
              "      <td>50.000</td>\n",
              "      <td>0.957278</td>\n",
              "    </tr>\n",
              "    <tr>\n",
              "      <th>7</th>\n",
              "      <td>100.000</td>\n",
              "      <td>0.957278</td>\n",
              "    </tr>\n",
              "    <tr>\n",
              "      <th>0</th>\n",
              "      <td>0.001</td>\n",
              "      <td>0.947120</td>\n",
              "    </tr>\n",
              "  </tbody>\n",
              "</table>\n",
              "</div>"
            ],
            "text/plain": [
              "         C  mean_test_score\n",
              "3    1.000         0.974873\n",
              "1    0.010         0.969778\n",
              "2    0.100         0.969778\n",
              "4   10.000         0.957310\n",
              "5   25.000         0.957278\n",
              "6   50.000         0.957278\n",
              "7  100.000         0.957278\n",
              "0    0.001         0.947120"
            ]
          },
          "metadata": {
            "tags": []
          },
          "execution_count": 37
        }
      ]
    },
    {
      "cell_type": "code",
      "metadata": {
        "colab": {
          "base_uri": "https://localhost:8080/",
          "height": 269
        },
        "id": "9Lb6XRs8XgUB",
        "outputId": "a49d9467-62ef-417b-a9df-b8eaf5080364"
      },
      "source": [
        "# 비선형분리\n",
        "import sklearn.datasets as d\n",
        "\n",
        "X, y = d.make_moons(n_samples = 300, noise = 0.16, random_state = 42)\n",
        "\n",
        "plt.scatter(X[:,0],X[:,1],c=y)\n",
        "plt.show()"
      ],
      "execution_count": 38,
      "outputs": [
        {
          "output_type": "display_data",
          "data": {
            "image/png": "[encoded data removed]",
            "text/plain": [
              "<Figure size 432x288 with 1 Axes>"
            ]
          },
          "metadata": {
            "tags": [],
            "needs_background": "light"
          }
        }
      ]
    },
    {
      "cell_type": "code",
      "metadata": {
        "colab": {
          "base_uri": "https://localhost:8080/",
          "height": 402
        },
        "id": "u3wljts1XrGA",
        "outputId": "3d2e88b9-3776-46a6-d14e-875446b5d92e"
      },
      "source": [
        "X_train, X_test, y_train, y_test = train_test_split(X, y,  test_size = 0.3, random_state = 100)\n",
        "svm_clf = SVC(kernel = 'rbf',random_state=100)\n",
        "parameters = {'C': [0.001, 0.01, 0.1, 1, 10, 25, 50, 100],\n",
        "             'gamma':[0.001, 0.01, 0.1, 1, 10, 25, 50, 100]}\n",
        "\n",
        "grid_svm = GridSearchCV(svm_clf,\n",
        "                      param_grid = parameters, cv = 5)\n",
        "\n",
        "grid_svm.fit(X_train, y_train)\n",
        "\n",
        "result = pd.DataFrame(grid_svm.cv_results_['params'])\n",
        "result['mean_test_score'] = grid_svm.cv_results_['mean_test_score']\n",
        "result.sort_values(by='mean_test_score', ascending=False)"
      ],
      "execution_count": 40,
      "outputs": [
        {
          "output_type": "execute_result",
          "data": {
            "text/html": [
              "<div>\n",
              "<style scoped>\n",
              "    .dataframe tbody tr th:only-of-type {\n",
              "        vertical-align: middle;\n",
              "    }\n",
              "\n",
              "    .dataframe tbody tr th {\n",
              "        vertical-align: top;\n",
              "    }\n",
              "\n",
              "    .dataframe thead th {\n",
              "        text-align: right;\n",
              "    }\n",
              "</style>\n",
              "<table border=\"1\" class=\"dataframe\">\n",
              "  <thead>\n",
              "    <tr style=\"text-align: right;\">\n",
              "      <th></th>\n",
              "      <th>C</th>\n",
              "      <th>gamma</th>\n",
              "      <th>mean_test_score</th>\n",
              "    </tr>\n",
              "  </thead>\n",
              "  <tbody>\n",
              "    <tr>\n",
              "      <th>20</th>\n",
              "      <td>0.100</td>\n",
              "      <td>10.000</td>\n",
              "      <td>0.980952</td>\n",
              "    </tr>\n",
              "    <tr>\n",
              "      <th>35</th>\n",
              "      <td>10.000</td>\n",
              "      <td>1.000</td>\n",
              "      <td>0.976190</td>\n",
              "    </tr>\n",
              "    <tr>\n",
              "      <th>27</th>\n",
              "      <td>1.000</td>\n",
              "      <td>1.000</td>\n",
              "      <td>0.976190</td>\n",
              "    </tr>\n",
              "    <tr>\n",
              "      <th>28</th>\n",
              "      <td>1.000</td>\n",
              "      <td>10.000</td>\n",
              "      <td>0.971429</td>\n",
              "    </tr>\n",
              "    <tr>\n",
              "      <th>43</th>\n",
              "      <td>25.000</td>\n",
              "      <td>1.000</td>\n",
              "      <td>0.966667</td>\n",
              "    </tr>\n",
              "    <tr>\n",
              "      <th>...</th>\n",
              "      <td>...</td>\n",
              "      <td>...</td>\n",
              "      <td>...</td>\n",
              "    </tr>\n",
              "    <tr>\n",
              "      <th>17</th>\n",
              "      <td>0.100</td>\n",
              "      <td>0.010</td>\n",
              "      <td>0.519048</td>\n",
              "    </tr>\n",
              "    <tr>\n",
              "      <th>22</th>\n",
              "      <td>0.100</td>\n",
              "      <td>50.000</td>\n",
              "      <td>0.519048</td>\n",
              "    </tr>\n",
              "    <tr>\n",
              "      <th>23</th>\n",
              "      <td>0.100</td>\n",
              "      <td>100.000</td>\n",
              "      <td>0.519048</td>\n",
              "    </tr>\n",
              "    <tr>\n",
              "      <th>24</th>\n",
              "      <td>1.000</td>\n",
              "      <td>0.001</td>\n",
              "      <td>0.519048</td>\n",
              "    </tr>\n",
              "    <tr>\n",
              "      <th>0</th>\n",
              "      <td>0.001</td>\n",
              "      <td>0.001</td>\n",
              "      <td>0.519048</td>\n",
              "    </tr>\n",
              "  </tbody>\n",
              "</table>\n",
              "<p>64 rows × 3 columns</p>\n",
              "</div>"
            ],
            "text/plain": [
              "         C    gamma  mean_test_score\n",
              "20   0.100   10.000         0.980952\n",
              "35  10.000    1.000         0.976190\n",
              "27   1.000    1.000         0.976190\n",
              "28   1.000   10.000         0.971429\n",
              "43  25.000    1.000         0.966667\n",
              "..     ...      ...              ...\n",
              "17   0.100    0.010         0.519048\n",
              "22   0.100   50.000         0.519048\n",
              "23   0.100  100.000         0.519048\n",
              "24   1.000    0.001         0.519048\n",
              "0    0.001    0.001         0.519048\n",
              "\n",
              "[64 rows x 3 columns]"
            ]
          },
          "metadata": {
            "tags": []
          },
          "execution_count": 40
        }
      ]
    },
    {
      "cell_type": "markdown",
      "metadata": {
        "id": "NaJKWu8oPKtZ"
      },
      "source": [
        "예측 확률 계산\n",
        "\n",
        "• 사이킷런의 SVC 클래스를 사용할 때 probability=True로 지정하여 모델을 훈련하면 predict_proba()에서 보정된 확률을 확인할 수 있습니다."
      ]
    },
    {
      "cell_type": "code",
      "metadata": {
        "colab": {
          "base_uri": "https://localhost:8080/"
        },
        "id": "KriTPgjjPR8k",
        "outputId": "9d7e289a-9478-4673-ee14-de1dda243879"
      },
      "source": [
        "from sklearn.svm import SVC\n",
        "from sklearn import datasets\n",
        "from sklearn.preprocessing import StandardScaler\n",
        "import numpy as np\n",
        "\n",
        "iris = datasets.load_iris() # 데이터 로드\n",
        "features = iris.data\n",
        "target = iris.target\n",
        "\n",
        "scaler = StandardScaler() # 특성 표준화\n",
        "features_standardized = scaler.fit_transform(features)\n",
        "\n",
        "# 서포트 벡터 분류기 객체 생성\n",
        "svc = SVC(kernel=\"linear\", probability=True, random_state=0)\n",
        "model = svc.fit(features_standardized, target) # 분류기 훈련\n",
        "new_observation = [[.4, .4, .4, .4]] #New Sample Data\n",
        "model.predict_proba(new_observation) # 예측 확률 확인"
      ],
      "execution_count": 41,
      "outputs": [
        {
          "output_type": "execute_result",
          "data": {
            "text/plain": [
              "array([[0.00623541, 0.96973799, 0.0240266 ]])"
            ]
          },
          "metadata": {
            "tags": []
          },
          "execution_count": 41
        }
      ]
    },
    {
      "cell_type": "markdown",
      "metadata": {
        "id": "8wxmjh5VPVq3"
      },
      "source": [
        "서포트 벡터 식별\n",
        "\n",
        "• 사이킷런의 SVC를 훈련하고 support_vectors_를 사용하여 모델에 있는 서포트 벡터를 식별할 수 있습니다.\n",
        "\n",
        "• support_ 속성을 사용하여 서포트 벡터의 인덱스를 확인할 수 있습니다."
      ]
    },
    {
      "cell_type": "code",
      "metadata": {
        "colab": {
          "base_uri": "https://localhost:8080/"
        },
        "id": "EbYTe2nzPZ6X",
        "outputId": "e2a0823a-554d-4096-edfc-d7594c4689ee"
      },
      "source": [
        "from sklearn.svm import SVC\n",
        "from sklearn import datasets\n",
        "from sklearn.preprocessing import StandardScaler\n",
        "import numpy as np\n",
        "\n",
        "iris = datasets.load_iris() #데이터 로드\n",
        "features = iris.data[:100,:] #두 개의 클래스만 선택\n",
        "target = iris.target[:100]\n",
        "\n",
        "scaler = StandardScaler() # 특성을 표준화\n",
        "features_standardized = scaler.fit_transform(features)\n",
        "\n",
        "svc = SVC(kernel=\"linear\", random_state=0) # 서포트 벡터 분류기 객체 생성\n",
        "model = svc.fit(features_standardized, target) # 분류기 훈련\n",
        "\n",
        "model.support_vectors_ # 서포트 벡터를 확인\n",
        "model.support_"
      ],
      "execution_count": 42,
      "outputs": [
        {
          "output_type": "execute_result",
          "data": {
            "text/plain": [
              "array([23, 41, 57, 98], dtype=int32)"
            ]
          },
          "metadata": {
            "tags": []
          },
          "execution_count": 42
        }
      ]
    },
    {
      "cell_type": "markdown",
      "metadata": {
        "id": "K-lo6ah7EDtf"
      },
      "source": [
        "### LinearRegressor(선형 회귀)\n",
        "\n",
        "• 데이터를 가장 잘 설명하는 선을 찾는 분석 방법\n",
        "\n",
        "• 직선 그래프를 그리는 1차 함수로 표현할 수 있다   \n",
        "y = mx + b  \n",
        "선형 회귀는 데이터를 가장 잘 설명하는 기울기 m, 절편 b를 찾는 것  \n",
        "\n",
        "• 실제값과 예측값의 차이 - 오차, 잔차, 손실(loss)  \n",
        "오차를 구하려면 양수, 음수 관계없이 동일하게 반영되도록 모든 손실에 절대값 또는 제곱을 해줍니다 (MAE, MSE, RMSE)\n",
        "\n",
        "• 평균 제곱 오차(mean squared error, 이하 MSE) - 손실을 구할 때 가장 널리 쓰이는 방법  \n",
        "손실을 최소화 하기 위해 사용하는 방법이 경사하강법\n",
        "\n",
        "• 경사하강법은 파라미터를 임의로 정한 다음에 조금씩 변화시켜가며 손실을 줄여가는 방법으로 최적의 파라미터(순간 기울기가 0이되는 위치)를 찾아간다 (미분 함수 사용)\n",
        "\n",
        "선형 회귀 분석을 수행하면 기울기와 절편을 계속 변경해가면서 최적의 값을 찾습니다,  \n",
        "이걸 언제까지 할지 정해줘야 한다. \n",
        "\n",
        "• 학습률 파라미터 :  \n",
        "학습률을 크게 설정하면 최적의 값을 제대로 찾지 못한다\n",
        "\n",
        "학습률을 작게 설정하면 최적의 값으로 수렴할 때까지 시간이 오래 걸린다.\n",
        "\n",
        "선형 회귀 분석 학습시킬 때는 최적의 학습률을 찾는 게 중요하다.\n",
        "\n",
        "\n",
        "\n",
        "• 회귀(regression) : 입력 변수 X에 대해서 연속형 출력 변수 Y를 예측\n",
        "\n",
        "• 분류(classification) : 입력 변수 X에 대해서 이산형 출력 변수 Y(class)를 예측\n",
        "\n",
        "• 선형 회귀는 실제값과 예측값의 차이인 오류를 최소로 줄일 수 있는 선형 함수를 찾아서 선형 함수에 독립변수(피처)를 입력해 종속변수(타깃값, 예측값)을 예측하는 것\n",
        "\n",
        "• 최적의 선형 함수를 찾기 위해 실제값과 예측 값 차이의 제곱을 회귀 계수 W를 변수로 하는 비용 함수를 만들고 이 비용함수가 최소화되는 W의 값을 찾아 선형 함수를 도출\n",
        "\n"
      ]
    },
    {
      "cell_type": "markdown",
      "metadata": {
        "id": "KK6FMucG4URL"
      },
      "source": [
        "from sklearn.linear_model import LinearRegression\n",
        "\n",
        "line_fitter = LinearRegression()\n",
        "\n",
        "line_fitter.fit(X, y)  \n",
        "기울기 : line_fitter.coef_  \n",
        "절편: line_fitter.intercrept_\n",
        "\n",
        "이런식으로 기울기와 절편이 지정됨\n"
      ]
    },
    {
      "cell_type": "code",
      "metadata": {
        "colab": {
          "base_uri": "https://localhost:8080/"
        },
        "id": "kRonPyEl4Ivl",
        "outputId": "8384a39f-ff85-4610-d5a8-cf27e0e07157"
      },
      "source": [
        "from sklearn.datasets import load_boston\n",
        "import matplotlib.pyplot as plt\n",
        "import pandas as pd\n",
        "import seaborn as sns\n",
        "\n",
        "boston = load_boston()\n",
        "dir(boston)"
      ],
      "execution_count": 43,
      "outputs": [
        {
          "output_type": "execute_result",
          "data": {
            "text/plain": [
              "['DESCR', 'data', 'feature_names', 'filename', 'target']"
            ]
          },
          "metadata": {
            "tags": []
          },
          "execution_count": 43
        }
      ]
    },
    {
      "cell_type": "code",
      "metadata": {
        "colab": {
          "base_uri": "https://localhost:8080/",
          "height": 215
        },
        "id": "kXS4Lrm85IHd",
        "outputId": "d3246d85-0f63-4094-c7e2-0e51fbf53a77"
      },
      "source": [
        "dfX = pd.DataFrame(boston.data, columns=boston.feature_names)\n",
        "dfy = pd.DataFrame(boston.target, columns=[\"MEDV\"])\n",
        "df = pd.concat([dfX, dfy], axis=1)\n",
        "df.tail()"
      ],
      "execution_count": 44,
      "outputs": [
        {
          "output_type": "execute_result",
          "data": {
            "text/html": [
              "<div>\n",
              "<style scoped>\n",
              "    .dataframe tbody tr th:only-of-type {\n",
              "        vertical-align: middle;\n",
              "    }\n",
              "\n",
              "    .dataframe tbody tr th {\n",
              "        vertical-align: top;\n",
              "    }\n",
              "\n",
              "    .dataframe thead th {\n",
              "        text-align: right;\n",
              "    }\n",
              "</style>\n",
              "<table border=\"1\" class=\"dataframe\">\n",
              "  <thead>\n",
              "    <tr style=\"text-align: right;\">\n",
              "      <th></th>\n",
              "      <th>CRIM</th>\n",
              "      <th>ZN</th>\n",
              "      <th>INDUS</th>\n",
              "      <th>CHAS</th>\n",
              "      <th>NOX</th>\n",
              "      <th>RM</th>\n",
              "      <th>AGE</th>\n",
              "      <th>DIS</th>\n",
              "      <th>RAD</th>\n",
              "      <th>TAX</th>\n",
              "      <th>PTRATIO</th>\n",
              "      <th>B</th>\n",
              "      <th>LSTAT</th>\n",
              "      <th>MEDV</th>\n",
              "    </tr>\n",
              "  </thead>\n",
              "  <tbody>\n",
              "    <tr>\n",
              "      <th>501</th>\n",
              "      <td>0.06263</td>\n",
              "      <td>0.0</td>\n",
              "      <td>11.93</td>\n",
              "      <td>0.0</td>\n",
              "      <td>0.573</td>\n",
              "      <td>6.593</td>\n",
              "      <td>69.1</td>\n",
              "      <td>2.4786</td>\n",
              "      <td>1.0</td>\n",
              "      <td>273.0</td>\n",
              "      <td>21.0</td>\n",
              "      <td>391.99</td>\n",
              "      <td>9.67</td>\n",
              "      <td>22.4</td>\n",
              "    </tr>\n",
              "    <tr>\n",
              "      <th>502</th>\n",
              "      <td>0.04527</td>\n",
              "      <td>0.0</td>\n",
              "      <td>11.93</td>\n",
              "      <td>0.0</td>\n",
              "      <td>0.573</td>\n",
              "      <td>6.120</td>\n",
              "      <td>76.7</td>\n",
              "      <td>2.2875</td>\n",
              "      <td>1.0</td>\n",
              "      <td>273.0</td>\n",
              "      <td>21.0</td>\n",
              "      <td>396.90</td>\n",
              "      <td>9.08</td>\n",
              "      <td>20.6</td>\n",
              "    </tr>\n",
              "    <tr>\n",
              "      <th>503</th>\n",
              "      <td>0.06076</td>\n",
              "      <td>0.0</td>\n",
              "      <td>11.93</td>\n",
              "      <td>0.0</td>\n",
              "      <td>0.573</td>\n",
              "      <td>6.976</td>\n",
              "      <td>91.0</td>\n",
              "      <td>2.1675</td>\n",
              "      <td>1.0</td>\n",
              "      <td>273.0</td>\n",
              "      <td>21.0</td>\n",
              "      <td>396.90</td>\n",
              "      <td>5.64</td>\n",
              "      <td>23.9</td>\n",
              "    </tr>\n",
              "    <tr>\n",
              "      <th>504</th>\n",
              "      <td>0.10959</td>\n",
              "      <td>0.0</td>\n",
              "      <td>11.93</td>\n",
              "      <td>0.0</td>\n",
              "      <td>0.573</td>\n",
              "      <td>6.794</td>\n",
              "      <td>89.3</td>\n",
              "      <td>2.3889</td>\n",
              "      <td>1.0</td>\n",
              "      <td>273.0</td>\n",
              "      <td>21.0</td>\n",
              "      <td>393.45</td>\n",
              "      <td>6.48</td>\n",
              "      <td>22.0</td>\n",
              "    </tr>\n",
              "    <tr>\n",
              "      <th>505</th>\n",
              "      <td>0.04741</td>\n",
              "      <td>0.0</td>\n",
              "      <td>11.93</td>\n",
              "      <td>0.0</td>\n",
              "      <td>0.573</td>\n",
              "      <td>6.030</td>\n",
              "      <td>80.8</td>\n",
              "      <td>2.5050</td>\n",
              "      <td>1.0</td>\n",
              "      <td>273.0</td>\n",
              "      <td>21.0</td>\n",
              "      <td>396.90</td>\n",
              "      <td>7.88</td>\n",
              "      <td>11.9</td>\n",
              "    </tr>\n",
              "  </tbody>\n",
              "</table>\n",
              "</div>"
            ],
            "text/plain": [
              "        CRIM   ZN  INDUS  CHAS    NOX  ...    TAX  PTRATIO       B  LSTAT  MEDV\n",
              "501  0.06263  0.0  11.93   0.0  0.573  ...  273.0     21.0  391.99   9.67  22.4\n",
              "502  0.04527  0.0  11.93   0.0  0.573  ...  273.0     21.0  396.90   9.08  20.6\n",
              "503  0.06076  0.0  11.93   0.0  0.573  ...  273.0     21.0  396.90   5.64  23.9\n",
              "504  0.10959  0.0  11.93   0.0  0.573  ...  273.0     21.0  393.45   6.48  22.0\n",
              "505  0.04741  0.0  11.93   0.0  0.573  ...  273.0     21.0  396.90   7.88  11.9\n",
              "\n",
              "[5 rows x 14 columns]"
            ]
          },
          "metadata": {
            "tags": []
          },
          "execution_count": 44
        }
      ]
    },
    {
      "cell_type": "code",
      "metadata": {
        "colab": {
          "base_uri": "https://localhost:8080/",
          "height": 661
        },
        "id": "CBRlCaCM55mB",
        "outputId": "60eb5021-2134-42b1-edb1-4b5a8056abca"
      },
      "source": [
        "sns.pairplot(df[[\"MEDV\", \"RM\", \"AGE\", \"CHAS\"]])\n",
        "plt.show()\n",
        "\n",
        "#종속변수인 집값(MEDV)과 방 개수(RM), 노후화 정도(AGE)와 어떤 관계를 가지는지 알 수 있다.\n",
        "#방 개수가 증가할 수록 집값은 증가하는 경향이 뚜렷하다.\n",
        "#노후화 정도와 집값은 관계가 없어 보인다."
      ],
      "execution_count": 45,
      "outputs": [
        {
          "output_type": "display_data",
          "data": {
            "image/png": "[encoded data removed]",
            "text/plain": [
              "<Figure size 720x720 with 20 Axes>"
            ]
          },
          "metadata": {
            "tags": [],
            "needs_background": "light"
          }
        }
      ]
    },
    {
      "cell_type": "code",
      "metadata": {
        "colab": {
          "base_uri": "https://localhost:8080/",
          "height": 215
        },
        "id": "KdztI6rn8qT7",
        "outputId": "c9b2381e-e21d-4b57-cd3a-c1ebf1b4bab8"
      },
      "source": [
        "boston = pd.read_csv('BostonHousing.csv')\n",
        "boston.head()"
      ],
      "execution_count": 46,
      "outputs": [
        {
          "output_type": "execute_result",
          "data": {
            "text/html": [
              "<div>\n",
              "<style scoped>\n",
              "    .dataframe tbody tr th:only-of-type {\n",
              "        vertical-align: middle;\n",
              "    }\n",
              "\n",
              "    .dataframe tbody tr th {\n",
              "        vertical-align: top;\n",
              "    }\n",
              "\n",
              "    .dataframe thead th {\n",
              "        text-align: right;\n",
              "    }\n",
              "</style>\n",
              "<table border=\"1\" class=\"dataframe\">\n",
              "  <thead>\n",
              "    <tr style=\"text-align: right;\">\n",
              "      <th></th>\n",
              "      <th>crim</th>\n",
              "      <th>zn</th>\n",
              "      <th>indus</th>\n",
              "      <th>chas</th>\n",
              "      <th>nox</th>\n",
              "      <th>rm</th>\n",
              "      <th>age</th>\n",
              "      <th>dis</th>\n",
              "      <th>rad</th>\n",
              "      <th>tax</th>\n",
              "      <th>ptratio</th>\n",
              "      <th>b</th>\n",
              "      <th>lstat</th>\n",
              "      <th>medv</th>\n",
              "    </tr>\n",
              "  </thead>\n",
              "  <tbody>\n",
              "    <tr>\n",
              "      <th>0</th>\n",
              "      <td>0.00632</td>\n",
              "      <td>18.0</td>\n",
              "      <td>2.31</td>\n",
              "      <td>0</td>\n",
              "      <td>0.538</td>\n",
              "      <td>6.575</td>\n",
              "      <td>65.2</td>\n",
              "      <td>4.0900</td>\n",
              "      <td>1</td>\n",
              "      <td>296</td>\n",
              "      <td>15.3</td>\n",
              "      <td>396.90</td>\n",
              "      <td>4.98</td>\n",
              "      <td>24.0</td>\n",
              "    </tr>\n",
              "    <tr>\n",
              "      <th>1</th>\n",
              "      <td>0.02731</td>\n",
              "      <td>0.0</td>\n",
              "      <td>7.07</td>\n",
              "      <td>0</td>\n",
              "      <td>0.469</td>\n",
              "      <td>6.421</td>\n",
              "      <td>78.9</td>\n",
              "      <td>4.9671</td>\n",
              "      <td>2</td>\n",
              "      <td>242</td>\n",
              "      <td>17.8</td>\n",
              "      <td>396.90</td>\n",
              "      <td>9.14</td>\n",
              "      <td>21.6</td>\n",
              "    </tr>\n",
              "    <tr>\n",
              "      <th>2</th>\n",
              "      <td>0.02729</td>\n",
              "      <td>0.0</td>\n",
              "      <td>7.07</td>\n",
              "      <td>0</td>\n",
              "      <td>0.469</td>\n",
              "      <td>7.185</td>\n",
              "      <td>61.1</td>\n",
              "      <td>4.9671</td>\n",
              "      <td>2</td>\n",
              "      <td>242</td>\n",
              "      <td>17.8</td>\n",
              "      <td>392.83</td>\n",
              "      <td>4.03</td>\n",
              "      <td>34.7</td>\n",
              "    </tr>\n",
              "    <tr>\n",
              "      <th>3</th>\n",
              "      <td>0.03237</td>\n",
              "      <td>0.0</td>\n",
              "      <td>2.18</td>\n",
              "      <td>0</td>\n",
              "      <td>0.458</td>\n",
              "      <td>6.998</td>\n",
              "      <td>45.8</td>\n",
              "      <td>6.0622</td>\n",
              "      <td>3</td>\n",
              "      <td>222</td>\n",
              "      <td>18.7</td>\n",
              "      <td>394.63</td>\n",
              "      <td>2.94</td>\n",
              "      <td>33.4</td>\n",
              "    </tr>\n",
              "    <tr>\n",
              "      <th>4</th>\n",
              "      <td>0.06905</td>\n",
              "      <td>0.0</td>\n",
              "      <td>2.18</td>\n",
              "      <td>0</td>\n",
              "      <td>0.458</td>\n",
              "      <td>7.147</td>\n",
              "      <td>54.2</td>\n",
              "      <td>6.0622</td>\n",
              "      <td>3</td>\n",
              "      <td>222</td>\n",
              "      <td>18.7</td>\n",
              "      <td>396.90</td>\n",
              "      <td>5.33</td>\n",
              "      <td>36.2</td>\n",
              "    </tr>\n",
              "  </tbody>\n",
              "</table>\n",
              "</div>"
            ],
            "text/plain": [
              "      crim    zn  indus  chas    nox  ...  tax  ptratio       b  lstat  medv\n",
              "0  0.00632  18.0   2.31     0  0.538  ...  296     15.3  396.90   4.98  24.0\n",
              "1  0.02731   0.0   7.07     0  0.469  ...  242     17.8  396.90   9.14  21.6\n",
              "2  0.02729   0.0   7.07     0  0.469  ...  242     17.8  392.83   4.03  34.7\n",
              "3  0.03237   0.0   2.18     0  0.458  ...  222     18.7  394.63   2.94  33.4\n",
              "4  0.06905   0.0   2.18     0  0.458  ...  222     18.7  396.90   5.33  36.2\n",
              "\n",
              "[5 rows x 14 columns]"
            ]
          },
          "metadata": {
            "tags": []
          },
          "execution_count": 46
        }
      ]
    },
    {
      "cell_type": "code",
      "metadata": {
        "colab": {
          "base_uri": "https://localhost:8080/",
          "height": 304
        },
        "id": "-HlHJYNj8ziz",
        "outputId": "027aecb9-852d-4c3c-9f08-125ef01de84c"
      },
      "source": [
        "boston_data = boston.drop(['medv'], axis=1)\n",
        "boston_data.describe()"
      ],
      "execution_count": 47,
      "outputs": [
        {
          "output_type": "execute_result",
          "data": {
            "text/html": [
              "<div>\n",
              "<style scoped>\n",
              "    .dataframe tbody tr th:only-of-type {\n",
              "        vertical-align: middle;\n",
              "    }\n",
              "\n",
              "    .dataframe tbody tr th {\n",
              "        vertical-align: top;\n",
              "    }\n",
              "\n",
              "    .dataframe thead th {\n",
              "        text-align: right;\n",
              "    }\n",
              "</style>\n",
              "<table border=\"1\" class=\"dataframe\">\n",
              "  <thead>\n",
              "    <tr style=\"text-align: right;\">\n",
              "      <th></th>\n",
              "      <th>crim</th>\n",
              "      <th>zn</th>\n",
              "      <th>indus</th>\n",
              "      <th>chas</th>\n",
              "      <th>nox</th>\n",
              "      <th>rm</th>\n",
              "      <th>age</th>\n",
              "      <th>dis</th>\n",
              "      <th>rad</th>\n",
              "      <th>tax</th>\n",
              "      <th>ptratio</th>\n",
              "      <th>b</th>\n",
              "      <th>lstat</th>\n",
              "    </tr>\n",
              "  </thead>\n",
              "  <tbody>\n",
              "    <tr>\n",
              "      <th>count</th>\n",
              "      <td>506.000000</td>\n",
              "      <td>506.000000</td>\n",
              "      <td>506.000000</td>\n",
              "      <td>506.000000</td>\n",
              "      <td>506.000000</td>\n",
              "      <td>506.000000</td>\n",
              "      <td>506.000000</td>\n",
              "      <td>506.000000</td>\n",
              "      <td>506.000000</td>\n",
              "      <td>506.000000</td>\n",
              "      <td>506.000000</td>\n",
              "      <td>506.000000</td>\n",
              "      <td>506.000000</td>\n",
              "    </tr>\n",
              "    <tr>\n",
              "      <th>mean</th>\n",
              "      <td>3.613524</td>\n",
              "      <td>11.363636</td>\n",
              "      <td>11.136779</td>\n",
              "      <td>0.069170</td>\n",
              "      <td>0.554695</td>\n",
              "      <td>6.284634</td>\n",
              "      <td>68.574901</td>\n",
              "      <td>3.795043</td>\n",
              "      <td>9.549407</td>\n",
              "      <td>408.237154</td>\n",
              "      <td>18.455534</td>\n",
              "      <td>356.674032</td>\n",
              "      <td>12.653063</td>\n",
              "    </tr>\n",
              "    <tr>\n",
              "      <th>std</th>\n",
              "      <td>8.601545</td>\n",
              "      <td>23.322453</td>\n",
              "      <td>6.860353</td>\n",
              "      <td>0.253994</td>\n",
              "      <td>0.115878</td>\n",
              "      <td>0.702617</td>\n",
              "      <td>28.148861</td>\n",
              "      <td>2.105710</td>\n",
              "      <td>8.707259</td>\n",
              "      <td>168.537116</td>\n",
              "      <td>2.164946</td>\n",
              "      <td>91.294864</td>\n",
              "      <td>7.141062</td>\n",
              "    </tr>\n",
              "    <tr>\n",
              "      <th>min</th>\n",
              "      <td>0.006320</td>\n",
              "      <td>0.000000</td>\n",
              "      <td>0.460000</td>\n",
              "      <td>0.000000</td>\n",
              "      <td>0.385000</td>\n",
              "      <td>3.561000</td>\n",
              "      <td>2.900000</td>\n",
              "      <td>1.129600</td>\n",
              "      <td>1.000000</td>\n",
              "      <td>187.000000</td>\n",
              "      <td>12.600000</td>\n",
              "      <td>0.320000</td>\n",
              "      <td>1.730000</td>\n",
              "    </tr>\n",
              "    <tr>\n",
              "      <th>25%</th>\n",
              "      <td>0.082045</td>\n",
              "      <td>0.000000</td>\n",
              "      <td>5.190000</td>\n",
              "      <td>0.000000</td>\n",
              "      <td>0.449000</td>\n",
              "      <td>5.885500</td>\n",
              "      <td>45.025000</td>\n",
              "      <td>2.100175</td>\n",
              "      <td>4.000000</td>\n",
              "      <td>279.000000</td>\n",
              "      <td>17.400000</td>\n",
              "      <td>375.377500</td>\n",
              "      <td>6.950000</td>\n",
              "    </tr>\n",
              "    <tr>\n",
              "      <th>50%</th>\n",
              "      <td>0.256510</td>\n",
              "      <td>0.000000</td>\n",
              "      <td>9.690000</td>\n",
              "      <td>0.000000</td>\n",
              "      <td>0.538000</td>\n",
              "      <td>6.208500</td>\n",
              "      <td>77.500000</td>\n",
              "      <td>3.207450</td>\n",
              "      <td>5.000000</td>\n",
              "      <td>330.000000</td>\n",
              "      <td>19.050000</td>\n",
              "      <td>391.440000</td>\n",
              "      <td>11.360000</td>\n",
              "    </tr>\n",
              "    <tr>\n",
              "      <th>75%</th>\n",
              "      <td>3.677082</td>\n",
              "      <td>12.500000</td>\n",
              "      <td>18.100000</td>\n",
              "      <td>0.000000</td>\n",
              "      <td>0.624000</td>\n",
              "      <td>6.623500</td>\n",
              "      <td>94.075000</td>\n",
              "      <td>5.188425</td>\n",
              "      <td>24.000000</td>\n",
              "      <td>666.000000</td>\n",
              "      <td>20.200000</td>\n",
              "      <td>396.225000</td>\n",
              "      <td>16.955000</td>\n",
              "    </tr>\n",
              "    <tr>\n",
              "      <th>max</th>\n",
              "      <td>88.976200</td>\n",
              "      <td>100.000000</td>\n",
              "      <td>27.740000</td>\n",
              "      <td>1.000000</td>\n",
              "      <td>0.871000</td>\n",
              "      <td>8.780000</td>\n",
              "      <td>100.000000</td>\n",
              "      <td>12.126500</td>\n",
              "      <td>24.000000</td>\n",
              "      <td>711.000000</td>\n",
              "      <td>22.000000</td>\n",
              "      <td>396.900000</td>\n",
              "      <td>37.970000</td>\n",
              "    </tr>\n",
              "  </tbody>\n",
              "</table>\n",
              "</div>"
            ],
            "text/plain": [
              "             crim          zn       indus  ...     ptratio           b       lstat\n",
              "count  506.000000  506.000000  506.000000  ...  506.000000  506.000000  506.000000\n",
              "mean     3.613524   11.363636   11.136779  ...   18.455534  356.674032   12.653063\n",
              "std      8.601545   23.322453    6.860353  ...    2.164946   91.294864    7.141062\n",
              "min      0.006320    0.000000    0.460000  ...   12.600000    0.320000    1.730000\n",
              "25%      0.082045    0.000000    5.190000  ...   17.400000  375.377500    6.950000\n",
              "50%      0.256510    0.000000    9.690000  ...   19.050000  391.440000   11.360000\n",
              "75%      3.677082   12.500000   18.100000  ...   20.200000  396.225000   16.955000\n",
              "max     88.976200  100.000000   27.740000  ...   22.000000  396.900000   37.970000\n",
              "\n",
              "[8 rows x 13 columns]"
            ]
          },
          "metadata": {
            "tags": []
          },
          "execution_count": 47
        }
      ]
    },
    {
      "cell_type": "code",
      "metadata": {
        "id": "_PZi80fl890M"
      },
      "source": [
        "target = boston[['medv']]\n",
        "crim = boston[['crim']]\n",
        "rm = boston[['rm']]\n",
        "lstat = boston[['lstat']]"
      ],
      "execution_count": 48,
      "outputs": []
    },
    {
      "cell_type": "code",
      "metadata": {
        "id": "3InWRpwS9heq"
      },
      "source": [
        "from sklearn.linear_model import LinearRegression\n",
        "regression = LinearRegression()"
      ],
      "execution_count": 49,
      "outputs": []
    },
    {
      "cell_type": "code",
      "metadata": {
        "colab": {
          "base_uri": "https://localhost:8080/"
        },
        "id": "l1OiTXWi-BSu",
        "outputId": "792b2603-89d9-4f98-b56a-987df052efeb"
      },
      "source": [
        "# CRIM: 범죄율\n",
        "model = regression.fit(crim, target)  \n",
        "print(model.intercept_)\n",
        "print(model.coef_)\n",
        "print(target.iloc[0, 0]*1000)\n",
        "predict_crim = model.predict(crim)\n",
        "print(predict_crim[0]*1000)\n",
        "print(model.coef_[0] *1000) "
      ],
      "execution_count": 50,
      "outputs": [
        {
          "output_type": "stream",
          "text": [
            "[24.03310617]\n",
            "[[-0.41519028]]\n",
            "24000.0\n",
            "[24030.48217157]\n",
            "[-415.19027792]\n"
          ],
          "name": "stdout"
        }
      ]
    },
    {
      "cell_type": "code",
      "metadata": {
        "colab": {
          "base_uri": "https://localhost:8080/"
        },
        "id": "bEMj034M9x7R",
        "outputId": "46bb0973-b3b3-4768-dc12-93bbbc2fd9a9"
      },
      "source": [
        "#RM: 주택당 방 수\n",
        "\n",
        "model = regression.fit(rm, target)  \n",
        "print(model.intercept_)\n",
        "print(model.coef_)\n",
        "predict_rm = model.predict(rm)\n",
        "print(predict_rm[0]*1000)\n",
        "print(model.coef_[0] *1000)"
      ],
      "execution_count": 51,
      "outputs": [
        {
          "output_type": "stream",
          "text": [
            "[-34.67062078]\n",
            "[[9.10210898]]\n",
            "[25175.74577482]\n",
            "[9102.10898118]\n"
          ],
          "name": "stdout"
        }
      ]
    },
    {
      "cell_type": "code",
      "metadata": {
        "colab": {
          "base_uri": "https://localhost:8080/"
        },
        "id": "N6I9XWJK91mL",
        "outputId": "9a7b1b54-6c2f-4d30-af11-3842f737203e"
      },
      "source": [
        "#LSTAT: 인구 중 하위 계층 비율\n",
        "\n",
        "model = regression.fit(lstat, target)  \n",
        "print(model.intercept_)\n",
        "print(model.coef_)"
      ],
      "execution_count": 52,
      "outputs": [
        {
          "output_type": "stream",
          "text": [
            "[34.55384088]\n",
            "[[-0.95004935]]\n"
          ],
          "name": "stdout"
        }
      ]
    },
    {
      "cell_type": "code",
      "metadata": {
        "colab": {
          "base_uri": "https://localhost:8080/"
        },
        "id": "7Hj8IppEMiDa",
        "outputId": "2739393a-ea27-4c90-91d2-2254b9d8f254"
      },
      "source": [
        "features = boston[[\"crim\", \"rm\"]]\n",
        "from sklearn.preprocessing import PolynomialFeatures\n",
        "# 교차 항을 만듭니다.\n",
        "interaction = PolynomialFeatures( degree=2, include_bias=False, interaction_only=True)\n",
        "features_interaction = interaction.fit_transform(features)\n",
        "print(features_interaction)"
      ],
      "execution_count": 53,
      "outputs": [
        {
          "output_type": "stream",
          "text": [
            "[[6.3200000e-03 6.5750000e+00 4.1554000e-02]\n",
            " [2.7310000e-02 6.4210000e+00 1.7535751e-01]\n",
            " [2.7290000e-02 7.1850000e+00 1.9607865e-01]\n",
            " ...\n",
            " [6.0760000e-02 6.9760000e+00 4.2386176e-01]\n",
            " [1.0959000e-01 6.7940000e+00 7.4455446e-01]\n",
            " [4.7410000e-02 6.0300000e+00 2.8588230e-01]]\n"
          ],
          "name": "stdout"
        }
      ]
    },
    {
      "cell_type": "code",
      "metadata": {
        "colab": {
          "base_uri": "https://localhost:8080/"
        },
        "id": "4h4PtV-9Mkof",
        "outputId": "d2e197b9-43f8-4673-8a14-38b59099f36c"
      },
      "source": [
        "regression = LinearRegression() # 선형 회귀 모델 객체 생성\n",
        "model = regression.fit(features_interaction, target) # 선형 회귀 모델 훈련\n",
        "print(model.intercept_)\n",
        "print(model.coef_)"
      ],
      "execution_count": 54,
      "outputs": [
        {
          "output_type": "stream",
          "text": [
            "[-37.25733792]\n",
            "[[ 1.46294338  9.65146964 -0.28765702]]\n"
          ],
          "name": "stdout"
        }
      ]
    },
    {
      "cell_type": "code",
      "metadata": {
        "colab": {
          "base_uri": "https://localhost:8080/"
        },
        "id": "zVAK094ZMnXW",
        "outputId": "ac834af5-5774-4c2d-bd1b-df0ec159e4ce"
      },
      "source": [
        "import numpy as np\n",
        "# 각 샘플에서 첫 번째와 두 번째 특성을 곱합니다. \n",
        "interaction_term = np.multiply(features.iloc[:, 0], features.iloc[:, 1])\n",
        "print(interaction_term[0]) # 첫 번째 샘플의 교차 항을 확인. \n",
        "print(features_interaction[0]) # 첫 번째 샘플의 값을"
      ],
      "execution_count": 55,
      "outputs": [
        {
          "output_type": "stream",
          "text": [
            "0.041554\n",
            "[6.3200e-03 6.5750e+00 4.1554e-02]\n"
          ],
          "name": "stdout"
        }
      ]
    },
    {
      "cell_type": "code",
      "metadata": {
        "colab": {
          "base_uri": "https://localhost:8080/",
          "height": 295
        },
        "id": "txscQ5BNF3qT",
        "outputId": "6a7d78d9-795e-4333-bda2-5d37db67b013"
      },
      "source": [
        "X = boston.drop([\"medv\"],axis=1)  \n",
        "y = boston[[\"medv\"]]\n",
        "x_train, x_test, y_train, y_test = train_test_split(X, y, train_size=0.8, test_size=0.2)\n",
        "mlr = LinearRegression()\n",
        "mlr.fit(x_train, y_train) \n",
        "y_predict = mlr.predict(x_test)\n",
        "plt.scatter(y_test, y_predict, alpha=0.4)\n",
        "plt.xlabel(\"Actual HousePrice\")\n",
        "plt.ylabel(\"Predict HousePrice\")\n",
        "plt.title(\"MULTIPLE LINEAR REGRESSION\") #다중회귀 분석\n",
        "plt.show()"
      ],
      "execution_count": 56,
      "outputs": [
        {
          "output_type": "display_data",
          "data": {
            "image/png": "[encoded data removed]",
            "text/plain": [
              "<Figure size 432x288 with 1 Axes>"
            ]
          },
          "metadata": {
            "tags": [],
            "needs_background": "light"
          }
        }
      ]
    },
    {
      "cell_type": "code",
      "metadata": {
        "colab": {
          "base_uri": "https://localhost:8080/"
        },
        "id": "phBaUZ0FHXBK",
        "outputId": "f114e06b-6093-4dd9-d46e-fbe4ef1c8e0c"
      },
      "source": [
        "print(mlr.coef_)\n",
        "print(mlr.intercept_)\n",
        "print(mlr.score(x_train, y_train)) #결정계수\n",
        "#주택 가격의 75%는 13개의 특성항목으로 설명할 수 있다"
      ],
      "execution_count": 57,
      "outputs": [
        {
          "output_type": "stream",
          "text": [
            "[[-9.88078511e-02  4.65540967e-02  5.30318193e-02  2.88312880e+00\n",
            "  -1.84749939e+01  3.68776898e+00 -2.14170598e-04 -1.49296502e+00\n",
            "   2.78305014e-01 -1.16158198e-02 -9.25038449e-01  8.52268213e-03\n",
            "  -5.72193013e-01]]\n",
            "[37.6693714]\n",
            "0.736296520618314\n"
          ],
          "name": "stdout"
        }
      ]
    },
    {
      "cell_type": "code",
      "metadata": {
        "colab": {
          "base_uri": "https://localhost:8080/"
        },
        "id": "3I_U8IsG-Ctz",
        "outputId": "405124ab-ae84-43b0-8df2-72516bcea963"
      },
      "source": [
        "from sklearn.linear_model import LinearRegression, Ridge, Lasso, ElasticNet\n",
        "from sklearn.datasets import load_boston\n",
        "from sklearn.preprocessing import PolynomialFeatures\n",
        "\n",
        "boston = load_boston() # 데이터 로드\n",
        "features = boston.data\n",
        "target = boston.target\n",
        "\n",
        "scaler = StandardScaler() # 특성을 표준화\n",
        "features_standardized = scaler.fit_transform(features)\n",
        "\n",
        "x_train, x_test, y_train, y_test = train_test_split(features_standardized, target, train_size=0.8, test_size=0.2)\n",
        "regression = Ridge(alpha=0.5) # alpha 값을 지정한 릿지 회귀를 만듭니다.\n",
        "model = regression.fit(features_standardized, target) # 선형 회귀 모델을 훈련합니다.\n",
        "\n",
        "print(regression.coef_)\n",
        "print(regression.intercept_)\n",
        "print(regression.score(x_train, y_train)) #결정계수"
      ],
      "execution_count": 60,
      "outputs": [
        {
          "output_type": "stream",
          "text": [
            "[-0.92396151  1.07393055  0.12895159  0.68346136 -2.0427575   2.67854971\n",
            "  0.01627328 -3.09063352  2.62636926 -2.04312573 -2.05646414  0.8490591\n",
            " -3.73711409]\n",
            "22.532806324110688\n",
            "0.7217594154722357\n"
          ],
          "name": "stdout"
        }
      ]
    },
    {
      "cell_type": "code",
      "metadata": {
        "colab": {
          "base_uri": "https://localhost:8080/"
        },
        "id": "QzUNnyHxIEQZ",
        "outputId": "a415b8fe-e37c-4767-8d2b-241a0601c46f"
      },
      "source": [
        "x_train, x_test, y_train, y_test = train_test_split(features_standardized, target, train_size=0.8, test_size=0.2)\n",
        "regression = Ridge(alpha=0.1) # RidgeCV\n",
        "model = regression.fit(features_standardized, target) # 선형 회귀 모델을 훈련합니다.\n",
        "\n",
        "print(regression.coef_)\n",
        "print(regression.intercept_)\n",
        "print(regression.score(x_train, y_train)) #결정계수"
      ],
      "execution_count": 61,
      "outputs": [
        {
          "output_type": "stream",
          "text": [
            "[-0.92730143  1.08002721  0.13847891  0.68208866 -2.05390876  2.67510351\n",
            "  0.01882112 -3.10135271  2.65496439 -2.06996096 -2.05977302  0.84922666\n",
            " -3.74231919]\n",
            "22.532806324110684\n",
            "0.7309554764530997\n"
          ],
          "name": "stdout"
        }
      ]
    },
    {
      "cell_type": "code",
      "metadata": {
        "colab": {
          "base_uri": "https://localhost:8080/"
        },
        "id": "mqITceSvK1Ir",
        "outputId": "cdf117dd-27ac-4291-efa6-068eb2baa669"
      },
      "source": [
        "from sklearn.linear_model import Lasso\n",
        "\n",
        "regression = Lasso(alpha=0.5)   \t\t\t# alpha 값을 지정한 라쏘 회귀 객체 생성\n",
        "model = regression.fit(features_standardized, target)   \n",
        "print(regression.coef_)\n",
        "print(regression.intercept_)\n",
        "print(regression.score(x_train, y_train)) #결정계수"
      ],
      "execution_count": 62,
      "outputs": [
        {
          "output_type": "stream",
          "text": [
            "[-0.11526463  0.         -0.          0.39707879 -0.          2.97425861\n",
            " -0.         -0.17056942 -0.         -0.         -1.59844856  0.54313871\n",
            " -3.66614361]\n",
            "22.532806324110688\n",
            "0.6799002961335623\n"
          ],
          "name": "stdout"
        }
      ]
    },
    {
      "cell_type": "code",
      "metadata": {
        "colab": {
          "base_uri": "https://localhost:8080/"
        },
        "id": "kUn39WZYKpkg",
        "outputId": "79e7f2ad-8543-4126-ff11-f1cf68e6a1db"
      },
      "source": [
        "regression = Lasso(alpha=0.1)   \t\t\t# alpha 값을 지정한 라쏘 회귀 객체 생성  LassoCV\n",
        "model = regression.fit(features_standardized, target)   \n",
        "print(regression.coef_)\n",
        "print(regression.intercept_)\n",
        "print(regression.score(x_train, y_train)) #결정계수"
      ],
      "execution_count": 63,
      "outputs": [
        {
          "output_type": "stream",
          "text": [
            "[-0.63230364  0.70840931 -0.          0.65760723 -1.57419335  2.82626903\n",
            " -0.         -2.42207901  1.19593681 -0.84646778 -1.92249345  0.76216539\n",
            " -3.72618383]\n",
            "22.532806324110688\n",
            "0.7242186648916709\n"
          ],
          "name": "stdout"
        }
      ]
    },
    {
      "cell_type": "code",
      "metadata": {
        "colab": {
          "base_uri": "https://localhost:8080/"
        },
        "id": "KAV6JDpwNcjo",
        "outputId": "81ef8a3e-327c-4761-ebaf-a6c72c6a6257"
      },
      "source": [
        "elastic_net = ElasticNet(alpha=0.1, l1_ratio=0.5, random_state=42)\n",
        "model = elastic_net.fit(features_standardized, target)   \n",
        "print(regression.coef_)\n",
        "print(regression.intercept_)\n",
        "print(regression.score(x_train, y_train)) #결정계수"
      ],
      "execution_count": 64,
      "outputs": [
        {
          "output_type": "stream",
          "text": [
            "[-0.63230364  0.70840931 -0.          0.65760723 -1.57419335  2.82626903\n",
            " -0.         -2.42207901  1.19593681 -0.84646778 -1.92249345  0.76216539\n",
            " -3.72618383]\n",
            "22.532806324110688\n",
            "0.7242186648916709\n"
          ],
          "name": "stdout"
        }
      ]
    },
    {
      "cell_type": "code",
      "metadata": {
        "id": "RRPbP0ioKIj-"
      },
      "source": [
        "boston = load_boston() # 데이터 로드\n",
        "features = boston.data\n",
        "target = boston.target\n",
        "df_X = pd.DataFrame(columns=boston['feature_names'], data=features)\n",
        "df_y = pd.DataFrame({'target': target })\n",
        "df = pd.concat([df_X, df_y], axis=1)"
      ],
      "execution_count": 65,
      "outputs": []
    },
    {
      "cell_type": "code",
      "metadata": {
        "colab": {
          "base_uri": "https://localhost:8080/"
        },
        "id": "VN9E3IYMLm4Y",
        "outputId": "10250ac5-053c-4ecf-d805-a3f306e4ff6a"
      },
      "source": [
        "X_train, X_test, y_train, y_test = train_test_split(df_X, df_y, test_size=0.3, random_state=2021 )\n",
        "\n",
        "#m_pipe = Pipeline([('standard', StandardScaler()),\n",
        "#                   ('min_max', MinMaxScaler())])\n",
        "\n",
        "linear = LinearRegression()\n",
        "ridge, lasso, elsticnet = Ridge(), Lasso(), ElasticNet()\n",
        "model_list = ['linear', 'ridge', 'lasso', 'elsticnet']\n",
        "score_dic = dict()\n",
        "for model_nm in model_list:\n",
        "    scores = cross_val_score(eval(model_nm), df_X, df_y, scoring=\"neg_mean_squared_error\")\n",
        "    rmse_score = np.sqrt(-scores)\n",
        "    rmse_sm = rmse_score.mean()\n",
        "    score_dic[model_nm] = rmse_sm\n",
        "    \n",
        "score_dic = sorted(score_dic.items(), key=lambda t: t[1])\n",
        "\n",
        "print (score_dic)"
      ],
      "execution_count": 66,
      "outputs": [
        {
          "output_type": "stream",
          "text": [
            "[('elsticnet', 5.521582384760585), ('ridge', 5.6525709656135446), ('lasso', 5.776020813823375), ('linear', 5.828658946215819)]\n"
          ],
          "name": "stdout"
        }
      ]
    },
    {
      "cell_type": "code",
      "metadata": {
        "colab": {
          "base_uri": "https://localhost:8080/"
        },
        "id": "H2T6tAEnQNzE",
        "outputId": "adb0a8c1-46fa-45f9-e8f1-1d4408e75c79"
      },
      "source": [
        "from sklearn.model_selection import RepeatedKFold\n",
        "space = dict()\n",
        "space['solver'] = ['svd', 'cholesky', 'lsqr', 'sag']\n",
        "space['alpha'] = [1e-5, 1e-4, 1e-3, 1e-2, 1e-1, 1, 10, 100]\n",
        "space['fit_intercept'] = [True, False]\n",
        "space['normalize'] = [True, False]\n",
        "cv = RepeatedKFold(n_splits=10, n_repeats=3, random_state=1)\n",
        "model = Ridge()\n",
        "\n",
        "score_dic = dict()\n",
        "\n",
        "# define search\n",
        "search = GridSearchCV(model, space, scoring='neg_mean_absolute_error', n_jobs=-1, cv=cv)\n",
        "# execute search\n",
        "result = search.fit(df_X, df_y)\n",
        "# summarize result\n",
        "print('Best Score: %s' % result.best_score_)\n",
        "print('Best Hyperparameters: %s' % result.best_params_) "
      ],
      "execution_count": 67,
      "outputs": [
        {
          "output_type": "stream",
          "text": [
            "Best Score: -3.3356940020538763\n",
            "Best Hyperparameters: {'alpha': 0.1, 'fit_intercept': True, 'normalize': True, 'solver': 'lsqr'}\n"
          ],
          "name": "stdout"
        }
      ]
    },
    {
      "cell_type": "code",
      "metadata": {
        "colab": {
          "base_uri": "https://localhost:8080/"
        },
        "id": "i2Yj2rPcRBje",
        "outputId": "147c9ec2-dfa8-4b7f-d490-9ad5c1b995cb"
      },
      "source": [
        "space = dict()\n",
        "space['alpha'] = [1e-5, 1e-4, 1e-3, 1e-2, 1e-1, 1, 10, 100]\n",
        "space['fit_intercept'] = [True, False]\n",
        "space['normalize'] = [True, False]\n",
        "cv = RepeatedKFold(n_splits=10, n_repeats=3, random_state=1)\n",
        "model = Lasso()\n",
        "\n",
        "score_dic = dict()\n",
        "\n",
        "# define search\n",
        "search = GridSearchCV(model, space, scoring='neg_mean_absolute_error', n_jobs=-1, cv=cv)\n",
        "# execute search\n",
        "result = search.fit(df_X, df_y)\n",
        "# summarize result\n",
        "print('Best Score: %s' % result.best_score_)\n",
        "print('Best Hyperparameters: %s' % result.best_params_) "
      ],
      "execution_count": 68,
      "outputs": [
        {
          "output_type": "stream",
          "text": [
            "Best Score: -3.3699866341266005\n",
            "Best Hyperparameters: {'alpha': 0.001, 'fit_intercept': True, 'normalize': True}\n"
          ],
          "name": "stdout"
        }
      ]
    },
    {
      "cell_type": "code",
      "metadata": {
        "colab": {
          "base_uri": "https://localhost:8080/"
        },
        "id": "VbSdeLXpbCyn",
        "outputId": "755ed81c-edc7-4fce-cf8c-7975928003b2"
      },
      "source": [
        "from sklearn.model_selection import RepeatedKFold\n",
        "space = dict()\n",
        "space['l1_ratio'] = [0, 0.2, 0.3, 0.5, 0.6, 1]\n",
        "space['alpha'] = [1e-5, 1e-4, 1e-3, 1e-2, 1e-1, 1, 10, 100]\n",
        "space['fit_intercept'] = [True, False]\n",
        "space['normalize'] = [True, False]\n",
        "cv = RepeatedKFold(n_splits=10, n_repeats=3, random_state=1)\n",
        "model = ElasticNet()   #ElsticCV 객체로부터 최적의 alpha값 찾을 수 있음 \n",
        "\n",
        "score_dic = dict()\n",
        "\n",
        "# define search\n",
        "search = GridSearchCV(model, space, scoring='neg_mean_absolute_error', n_jobs=-1, cv=cv)\n",
        "# execute search\n",
        "result = search.fit(df_X, df_y)\n",
        "# summarize result\n",
        "print('Best Score: %s' % result.best_score_)\n",
        "print('Best Hyperparameters: %s' % result.best_params_) "
      ],
      "execution_count": 69,
      "outputs": [
        {
          "output_type": "stream",
          "text": [
            "Best Score: -3.3399340405231195\n",
            "Best Hyperparameters: {'alpha': 0.0001, 'fit_intercept': True, 'l1_ratio': 0, 'normalize': True}\n"
          ],
          "name": "stdout"
        }
      ]
    }
  ]
}