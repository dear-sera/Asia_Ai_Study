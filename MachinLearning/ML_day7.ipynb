{
  "nbformat": 4,
  "nbformat_minor": 0,
  "metadata": {
    "colab": {
      "name": "ML_day7.ipynb",
      "provenance": [],
      "collapsed_sections": [],
      "authorship_tag": "ABX9TyO5QIlhMjdkSt6spCh78GN1",
      "include_colab_link": true
    },
    "kernelspec": {
      "name": "python3",
      "display_name": "Python 3"
    },
    "language_info": {
      "name": "python"
    }
  },
  "cells": [
    {
      "cell_type": "markdown",
      "metadata": {
        "id": "view-in-github",
        "colab_type": "text"
      },
      "source": [
        "<a href=\"https://colab.research.google.com/github/sera0911/asia_ai_study/blob/main/MachinLearning/ML_day7.ipynb\" target=\"_parent\"><img src=\"https://colab.research.google.com/assets/colab-badge.svg\" alt=\"Open In Colab\"/></a>"
      ]
    },
    {
      "cell_type": "markdown",
      "metadata": {
        "id": "9pskseCY7QJ0"
      },
      "source": [
        "### ML_day5,6 정리\n",
        "\n",
        "• 유사한 특성을 가진 데이터는 유사한 범주에 속하는 경향이 있다는 가정하에 사용하는 머신러닝 알고리즘 - n개의 특성(feature)을 가진 데이터는 n차원의 공간에 점으로 개념화 할 수 있다\n",
        "\n",
        "• 유사한 특성을 가진 데이터들끼리는 거리가 가깝다  \n",
        "분류를 알 수 없는 데이터에 대해 가장 가까운 이웃 k개의 분류를 확인하여 다수결에 의해 분류  \n",
        "\n",
        "• KNN수행을 위한 학습 데이터들에 정규화 수행  \n",
        "분류 효과를 높이기 위해 파라미터 - k값  \n",
        "k가 너무 작을 때:Overfitting  \n",
        "k가 너무 클 때: Underfitting  \n",
        "\n",
        "최적의 k값은 시각화해서 엘보점\n",
        "\n",
        "• K-최근접 이웃을 회귀분석에 적용 가능 (회귀에서는 수치를 예측)  \n",
        "등급을 모르는 새로운 영화 데이터가 들어오면 거리 공식을 통해 가장 가까운 k개의 이웃을 찾을거다.  \n",
        "이웃의 레이블 개수를 확인해서 다수결에 의해 영화의 등급 레이블 반환(분류)  \n",
        "회귀에서는 이웃들의 평균을 계산해서 새로운 영화 데이터의 등급을 예측합니다\n",
        "\n",
        "\n",
        "각 이웃이 얼마나 가까이 있는지에 따라 가중 평균(weighted average)\n",
        "\n",
        "분자는 영화(이웃)의 점수를 각각 X로부터 떨어진 거리로 나눈 값의 합, 그리고 분모는 1을 각자 X로부터 떨어진 거리로 나눈 값의 합이다.\n",
        "\n",
        "• 가중 평균을 적용하기 위해 weights = \"distance\" 인수 설정\n",
        "\n",
        "\n",
        "### ML_day6 정리\n",
        "\n",
        "• SVM - 분류되지 않은 새로운 데이터를 2차원으로 표현했을 때 최적의 분류 결정 경계를 찾아서 데이터를 분류, 3차원 이상일 때는 초평면의 분류 결정 경계를 찾아서 분류해주는 알고리즘\n",
        "\n",
        "• Support Vectors - 결정 경계와 가까이 있는 데이터 포인트\n",
        "\n",
        "• 마진(Margin) - 결정 경계와 서포트 벡터 사이의 거리\n",
        "\n",
        "• SVM은 데이터 포인트들을 올바르게 분리하면서 마진의 크기를 최대화해야 하므로  \n",
        "마진 안에 이상치를 어느정도 포함하도록 너그럽게 기준을 정하면 서포트 벡터와 결정 경계 사이에 거리가 멀어지고 -소프트마진, 언더피팅 문제가 발생할 수 있다  \n",
        "\n",
        "• 개별적인 학습 데이터들을 다 포함하기 위해 이상치를 허용하지 않는 기준으로 결정 경계를 정해버리면 서포트 벡터와 결정 경계 사이의 거리가 매우 좁은 하드마진, 오버피팅 문제가 발생할 수 있다\n",
        "\n",
        "• SVM모델이 오류를 어느정도 허용할 것인지 파라미터 - C\n",
        "\n",
        "• SVM이 선형으로 분리 할 수 없는 데이터 세트의 경우 일부 아웃라이어에 맞추기 위해 비선형으로 결정 경계를 만듬 (kernel = poly, rbf, sigmoid)\n",
        "\n",
        "• 결정 경계를 얼마나 유연하게 그을 것인지 설정 파라미터 - gamma\n",
        "\n",
        "• gamma값을 높이면 학습 데이터에 많이 의존해서 결정 경계를 구불구불 긋게 된다. 이는 오버피티을 초래할 수 있다  \n",
        "\n",
        "• SVM 알고리즘을 선형, 비선형 회귀에도 사용할 수 있습니다  \n",
        "\n",
        "• 회귀에 적용하는 방법은 일정한 마진 오류 안에서, 두 클래스 간의 마진안에 가능한 많은 데이터 샘플이 들어가도록 학습\n",
        "\n",
        "• 마진의 폭을 조정하는 하이퍼파라미터 epsilon\n",
        "\n",
        "\n",
        "\n",
        "\n"
      ]
    },
    {
      "cell_type": "code",
      "metadata": {
        "id": "rqFLg4BL7NJe",
        "colab": {
          "base_uri": "https://localhost:8080/"
        },
        "outputId": "1be98984-0978-4097-a523-4c2fffbb3af3"
      },
      "source": [
        "from sklearn.neighbors import KNeighborsRegressor\n",
        "\n",
        "regressor = KNeighborsRegressor(n_neighbors = 3, weights = \"distance\")\n",
        "\n",
        "training_points = [\n",
        "  [0.5, 0.2, 0.1],\n",
        "  [0.9, 0.7, 0.3],\n",
        "  [0.4, 0.5, 0.7]\n",
        "]\n",
        "\n",
        "training_labels = [5.0, 6.8, 9.0] #영화 데이터 등급\n",
        "regressor.fit(training_points, training_labels)"
      ],
      "execution_count": null,
      "outputs": [
        {
          "output_type": "execute_result",
          "data": {
            "text/plain": [
              "KNeighborsRegressor(algorithm='auto', leaf_size=30, metric='minkowski',\n",
              "                    metric_params=None, n_jobs=None, n_neighbors=3, p=2,\n",
              "                    weights='distance')"
            ]
          },
          "metadata": {
            "tags": []
          },
          "execution_count": 8
        }
      ]
    },
    {
      "cell_type": "code",
      "metadata": {
        "colab": {
          "base_uri": "https://localhost:8080/"
        },
        "id": "gIiV_R8m_wew",
        "outputId": "79e54db3-ef29-453d-b56c-464376eca1a0"
      },
      "source": [
        "unknown_points = [\n",
        "  [0.2, 0.1, 0.7],\n",
        "  [0.4, 0.7, 0.6],\n",
        "  [0.5, 0.8, 0.1]\n",
        "]\n",
        "\n",
        "guesses = regressor.predict(unknown_points)\n",
        "\n",
        "guesses"
      ],
      "execution_count": null,
      "outputs": [
        {
          "output_type": "execute_result",
          "data": {
            "text/plain": [
              "array([7.28143288, 7.76451922, 6.8457845 ])"
            ]
          },
          "metadata": {
            "tags": []
          },
          "execution_count": 10
        }
      ]
    },
    {
      "cell_type": "markdown",
      "metadata": {
        "id": "oMnbTu2QBPqx"
      },
      "source": [
        "svm실습 예제"
      ]
    },
    {
      "cell_type": "code",
      "metadata": {
        "colab": {
          "base_uri": "https://localhost:8080/"
        },
        "id": "GTDSyKRIEECH",
        "outputId": "a7299cba-6163-4384-e5fe-cc19b7e5ef9f"
      },
      "source": [
        "import pandas as pd\n",
        "import numpy as np\n",
        "import matplotlib.pyplot as plt\n",
        "\n",
        "dataset = pd.read_csv('Position_Salaries.csv')\n",
        "print(dataset.info())\n",
        "print(dataset.head())"
      ],
      "execution_count": null,
      "outputs": [
        {
          "output_type": "stream",
          "text": [
            "<class 'pandas.core.frame.DataFrame'>\n",
            "RangeIndex: 10 entries, 0 to 9\n",
            "Data columns (total 3 columns):\n",
            " #   Column    Non-Null Count  Dtype \n",
            "---  ------    --------------  ----- \n",
            " 0   Position  10 non-null     object\n",
            " 1   Level     10 non-null     int64 \n",
            " 2   Salary    10 non-null     int64 \n",
            "dtypes: int64(2), object(1)\n",
            "memory usage: 368.0+ bytes\n",
            "None\n",
            "            Position  Level  Salary\n",
            "0   Business Analyst      1   45000\n",
            "1  Junior Consultant      2   50000\n",
            "2  Senior Consultant      3   60000\n",
            "3            Manager      4   80000\n",
            "4    Country Manager      5  110000\n"
          ],
          "name": "stdout"
        }
      ]
    },
    {
      "cell_type": "code",
      "metadata": {
        "colab": {
          "base_uri": "https://localhost:8080/"
        },
        "id": "c6tBFhTDEu7A",
        "outputId": "302de4bb-cffc-422f-b863-6d1bde6e165b"
      },
      "source": [
        "X = dataset.iloc[:, 1:2].values\n",
        "y = dataset.iloc[:, 2].values\n",
        "\n",
        "print(X)\n",
        "print(y)"
      ],
      "execution_count": null,
      "outputs": [
        {
          "output_type": "stream",
          "text": [
            "[[ 1]\n",
            " [ 2]\n",
            " [ 3]\n",
            " [ 4]\n",
            " [ 5]\n",
            " [ 6]\n",
            " [ 7]\n",
            " [ 8]\n",
            " [ 9]\n",
            " [10]]\n",
            "[  45000   50000   60000   80000  110000  150000  200000  300000  500000\n",
            " 1000000]\n"
          ],
          "name": "stdout"
        }
      ]
    },
    {
      "cell_type": "code",
      "metadata": {
        "colab": {
          "base_uri": "https://localhost:8080/"
        },
        "id": "87Kf4mPgFDev",
        "outputId": "00688d8b-e484-4bae-cc3a-4d3efd44df03"
      },
      "source": [
        "from sklearn.preprocessing import StandardScaler\n",
        "sc_X = StandardScaler()\n",
        "sc_y = StandardScaler()\n",
        "X = sc_X.fit_transform(X)\n",
        "y = sc_y.fit_transform(y.reshape(-1, 1))\n",
        "print(X)\n",
        "print(y)"
      ],
      "execution_count": null,
      "outputs": [
        {
          "output_type": "stream",
          "text": [
            "[[-1.5666989 ]\n",
            " [-1.21854359]\n",
            " [-0.87038828]\n",
            " [-0.52223297]\n",
            " [-0.17407766]\n",
            " [ 0.17407766]\n",
            " [ 0.52223297]\n",
            " [ 0.87038828]\n",
            " [ 1.21854359]\n",
            " [ 1.5666989 ]]\n",
            "[[-0.72004253]\n",
            " [-0.70243757]\n",
            " [-0.66722767]\n",
            " [-0.59680786]\n",
            " [-0.49117815]\n",
            " [-0.35033854]\n",
            " [-0.17428902]\n",
            " [ 0.17781001]\n",
            " [ 0.88200808]\n",
            " [ 2.64250325]]\n"
          ],
          "name": "stdout"
        }
      ]
    },
    {
      "cell_type": "code",
      "metadata": {
        "colab": {
          "base_uri": "https://localhost:8080/"
        },
        "id": "dYr5Cbc7F5pH",
        "outputId": "fab7d982-bace-4bd5-a2c7-1602d1097ff9"
      },
      "source": [
        "# Fitting SVR to the dataset\n",
        "from sklearn.svm import SVR\n",
        "regressor = SVR(kernel = 'rbf')\n",
        "regressor.fit(X, y)"
      ],
      "execution_count": null,
      "outputs": [
        {
          "output_type": "stream",
          "text": [
            "/usr/local/lib/python3.7/dist-packages/sklearn/utils/validation.py:760: DataConversionWarning: A column-vector y was passed when a 1d array was expected. Please change the shape of y to (n_samples, ), for example using ravel().\n",
            "  y = column_or_1d(y, warn=True)\n"
          ],
          "name": "stderr"
        },
        {
          "output_type": "execute_result",
          "data": {
            "text/plain": [
              "SVR(C=1.0, cache_size=200, coef0=0.0, degree=3, epsilon=0.1, gamma='scale',\n",
              "    kernel='rbf', max_iter=-1, shrinking=True, tol=0.001, verbose=False)"
            ]
          },
          "metadata": {
            "tags": []
          },
          "execution_count": 16
        }
      ]
    },
    {
      "cell_type": "code",
      "metadata": {
        "colab": {
          "base_uri": "https://localhost:8080/"
        },
        "id": "jAJGBVeoGCSG",
        "outputId": "d9656e79-6411-41b1-a19c-422e23db9a9a"
      },
      "source": [
        "y_pred = regressor.predict([[6.5]])\n",
        "print(y_pred)\n",
        "\n",
        "y_pred = sc_y.inverse_transform(y_pred)\n",
        "print(y_pred)"
      ],
      "execution_count": null,
      "outputs": [
        {
          "output_type": "stream",
          "text": [
            "[0.01158103]\n",
            "[252789.13921624]\n"
          ],
          "name": "stdout"
        }
      ]
    },
    {
      "cell_type": "code",
      "metadata": {
        "colab": {
          "base_uri": "https://localhost:8080/",
          "height": 295
        },
        "id": "fz1pLYn4Grge",
        "outputId": "e0162474-277e-4d92-975d-da4773f19660"
      },
      "source": [
        "# Visualising the SVR results\n",
        "X_grid = np.arange(min(X), max(X), 0.01) # choice of 0.01 instead of 0.1 step because the data is feature scaled\n",
        "X_grid = X_grid.reshape((len(X_grid), 1))\n",
        "plt.scatter(X, y, color = 'red')\n",
        "\n",
        "plt.scatter(X, y, color = 'red')\n",
        "plt.plot(X, regressor.predict(X), color = 'blue')\n",
        "plt.title('Truth or Bluff (SVR)')\n",
        "plt.xlabel('Position level')\n",
        "plt.ylabel('Salary')\n",
        "plt.show()"
      ],
      "execution_count": null,
      "outputs": [
        {
          "output_type": "display_data",
          "data": {
            "image/png": "[encoded data removed]",
            "text/plain": [
              "<Figure size 432x288 with 1 Axes>"
            ]
          },
          "metadata": {
            "tags": [],
            "needs_background": "light"
          }
        }
      ]
    },
    {
      "cell_type": "markdown",
      "metadata": {
        "id": "MNPopxvtLdyf"
      },
      "source": [
        "### ML_day6 정리\n",
        "\n",
        "잔차제곱의 합 : RSS\n",
        "\n",
        "LinearRegressor - 예측값과 실제 값의 RSS를 최소화할 수 있도록 최적화된 회귀 계수를 찾아주는 머신러닝 알고리즘 클래스\n",
        "\n",
        "Ridge, alpha, RidgeCV - 선형 회귀의 다중 특성중에서 상대적으로 큰 회귀 계수 값의 예측 영향도를 감소시켜서 회귀 계수값을 더 작게 만드는 규제 모델을 적용한 회귀분석 클래스\n",
        "\n",
        "Lasso,alpha, LassoCV  - 선형 회귀의 다중 특성중에서 예측 영향력이 작은 피처의 회귀 계수를 0으로 만들어 회귀 예측 시 피처가 선택되지 않도록 규제 모델을 적용한 회귀분석 클래스\n",
        "\n",
        "L2, L1 규제를 계속 결합한 모델 - ElasticNet (피처가 많은 데이터 세트에서 적용, L1 규제로 피처의 개수, L2 규제로 계수 값의 크기를 조정)"
      ]
    },
    {
      "cell_type": "markdown",
      "metadata": {
        "id": "CxkRb4QaOjJw"
      },
      "source": [
        "### ML_day7 시작\n",
        "\n",
        "#### 로지스틱 회귀\n",
        "\n",
        "• 회귀를 사용하여 데이터가 어떤 범주에 속할 확률을 0에서 1 사이의 값으로 예측하고 그 확률에 따라 가능성이 더 높은 범주에 속하는 것으로 분류해주는 지도 학습 알고리즘\n",
        "\n",
        "• 데이터가 2개의 범주 중 하나에 속하도록 결정하는 것을 2진 분류(binary classification)\n",
        "\n",
        "• 순입력 함수의 리턴값을 z는 w의 값에 따라 실수 전체에 대해 매핑되는 값이며, z의 값에 따라 입력된 트레이닝 데이터가 X가 어떤 집단에 속하는지 아닌지 결정하게 되는 값입니다."
      ]
    },
    {
      "cell_type": "markdown",
      "metadata": {
        "id": "mJi3tT-kSWQa"
      },
      "source": [
        "##### 이진 분류기 훈련\n",
        "\n",
        "• 타깃 벡터의 값이 두개\n",
        "\n",
        "• 로지스틱 회귀에서 선형 모델은 로지스틱 함수(시그모이드 함수)에 포함됩니다.\n",
        "\n",
        "• 로지스틱 함수는 함수의 출력을 0과 1 사이로 제한하는 효과가 있습니다."
      ]
    },
    {
      "cell_type": "code",
      "metadata": {
        "id": "FYXwGGDNSZh1"
      },
      "source": [
        "from sklearn.linear_model import LogisticRegression\n",
        "from sklearn import datasets\n",
        "from sklearn.preprocessing import StandardScaler\n",
        "\n",
        "iris = datasets.load_iris() # 데이터 로드\n",
        "features = iris.data[:100,:] #두 개의 클래스만 선택\n",
        "target = iris.target[:100]"
      ],
      "execution_count": null,
      "outputs": []
    },
    {
      "cell_type": "code",
      "metadata": {
        "id": "E0aW3MQZUlUN"
      },
      "source": [
        "scaler = StandardScaler() # 특성을 표준화\n",
        "features_standardized = scaler.fit_transform(features)\n",
        "\n",
        "logistic_regression = LogisticRegression(random_state=0) # 로지스틱 회귀 모델 생성\n",
        "model = logistic_regression.fit(features_standardized, target) # 모델 훈련"
      ],
      "execution_count": null,
      "outputs": []
    },
    {
      "cell_type": "code",
      "metadata": {
        "colab": {
          "base_uri": "https://localhost:8080/"
        },
        "id": "cwWTftf-Umc1",
        "outputId": "d758787a-bf20-4af5-fd9c-b0b9e73b7eb0"
      },
      "source": [
        "new_observation = [[.5, .5, .5, .5]] # 새로운 샘플 데이터 생성\n",
        "model.predict(new_observation) # 클래스 예측"
      ],
      "execution_count": null,
      "outputs": [
        {
          "output_type": "execute_result",
          "data": {
            "text/plain": [
              "array([1])"
            ]
          },
          "metadata": {
            "tags": []
          },
          "execution_count": 26
        }
      ]
    },
    {
      "cell_type": "code",
      "metadata": {
        "colab": {
          "base_uri": "https://localhost:8080/"
        },
        "id": "XS3BpmD0VAgt",
        "outputId": "578d4026-4c4a-44d8-c35f-3e9efa2f8499"
      },
      "source": [
        "model.predict_proba(new_observation) # 예측 확률 확인"
      ],
      "execution_count": null,
      "outputs": [
        {
          "output_type": "execute_result",
          "data": {
            "text/plain": [
              "array([[0.17738424, 0.82261576]])"
            ]
          },
          "metadata": {
            "tags": []
          },
          "execution_count": 27
        }
      ]
    },
    {
      "cell_type": "markdown",
      "metadata": {
        "id": "V0eg-we8S-_Y"
      },
      "source": [
        "##### 다중 클래스 분류기 훈련\n",
        "\n",
        "• OVR(one-vs-rest) 로지스틱 회귀는 클래스마다 모델을 만듭니다. (다중 분류 기법)\n",
        "\n",
        "• OVR(one-vs-rest)는 개별 모델은 샘플이 해당 클래스에 속하는지 여부를 예측합니다(이진 분류 문제)\n",
        "\n",
        "• 개별 분류 문제(클래스 0이거나 아니거나)는 독립적이라고 가정합니다\n",
        "\n",
        "• 다항 로지스틱 회귀 (multinomial logistic regression) MLR는 로지스틱 함수를 소프트맥스 함수로 바꿉니다.\n",
        "\n",
        "• MLR은 predict_proba()를 사용해 예측한 확률을 더 신뢰할 수 있습니다(보정이 잘 되어 있습니다)"
      ]
    },
    {
      "cell_type": "code",
      "metadata": {
        "id": "HVUaBOYPTFSG"
      },
      "source": [
        "from sklearn.linear_model import LogisticRegression\n",
        "from sklearn import datasets\n",
        "from sklearn.preprocessing import StandardScaler\n",
        "\n",
        "iris = datasets.load_iris() # 데이터 로드\n",
        "features = iris.data\n",
        "target = iris.target\n",
        "\n",
        "scaler = StandardScaler() # 특성을 표준화\n",
        "features_standardized = scaler.fit_transform(features)\n",
        "\n",
        "# OVR 로지스틱 회귀 모델을 만듭니다.\n",
        "logistic_regression = LogisticRegression(random_state=0, multi_class=\"ovr\")\n",
        "model = logistic_regression.fit(features_standardized, target) # 모델 훈련"
      ],
      "execution_count": null,
      "outputs": []
    },
    {
      "cell_type": "code",
      "metadata": {
        "colab": {
          "base_uri": "https://localhost:8080/"
        },
        "id": "tlxQZsa4VXXW",
        "outputId": "e4da7e67-afcd-4b49-e409-0f7dcc450e53"
      },
      "source": [
        "new_observation = [[.5, .5, .5, .5]] # 새로운 샘플 데이터 생성\n",
        "model.predict(new_observation) # 클래스 예측"
      ],
      "execution_count": null,
      "outputs": [
        {
          "output_type": "execute_result",
          "data": {
            "text/plain": [
              "array([2])"
            ]
          },
          "metadata": {
            "tags": []
          },
          "execution_count": 30
        }
      ]
    },
    {
      "cell_type": "code",
      "metadata": {
        "colab": {
          "base_uri": "https://localhost:8080/"
        },
        "id": "gkX8HqdwVaJd",
        "outputId": "235a5c10-7054-41dd-e0c7-0ab8e1682418"
      },
      "source": [
        "model.predict_proba(new_observation) # 예측 확률 확인"
      ],
      "execution_count": null,
      "outputs": [
        {
          "output_type": "execute_result",
          "data": {
            "text/plain": [
              "array([[0.0387617 , 0.40669108, 0.55454723]])"
            ]
          },
          "metadata": {
            "tags": []
          },
          "execution_count": 31
        }
      ]
    },
    {
      "cell_type": "markdown",
      "metadata": {
        "id": "7eAiWJ_kbsgm"
      },
      "source": [
        "• 로지스틱 회귀에서 사용되는 정규화 기법은 L2 정규화이며 규제는 복잡한 모델에 패널티를 가해 분산을 줄이는 방법으로  \n",
        "λ 를 정규화 파라미터라고 부르며, C값은 λ 의 역수로 정의합니다.  \n",
        "\n",
        "• C값을 감소시키면 λ가 커지게 되며, 정규화를 강하게 한다는 의미입니다"
      ]
    },
    {
      "cell_type": "markdown",
      "metadata": {
        "id": "tI8F15BNZ4rg"
      },
      "source": [
        "##### 규제로 분산 줄이기\n",
        "\n",
        "• 규제는 복잡한 모델에 패털티를 가해 분산을 줄이는 방법입니다\n",
        "\n",
        "• 규제는 최소화하려는 손실함수에 패널티 항을 추가합니다\n",
        "\n",
        "• 규제 강도를 조절하는 하이퍼파라미터 C를 사용합니다\n",
        "\n",
        "• LogisticRegressionCV를 사용하여 효율적으로 C 값을 튜닝할 수 있습니다. (매개변수 Cs에서 탐색할 C의 범위\n",
        "를 입력할 수 있습니다.)\n"
      ]
    },
    {
      "cell_type": "code",
      "metadata": {
        "colab": {
          "base_uri": "https://localhost:8080/"
        },
        "id": "Cop_RF4GaC2m",
        "outputId": "fcd53756-2773-4e9e-b878-39ee73fd720e"
      },
      "source": [
        "from sklearn.linear_model import LogisticRegressionCV\n",
        "from sklearn import datasets\n",
        "from sklearn.preprocessing import StandardScaler\n",
        "\n",
        "iris = datasets.load_iris() # 데이터를 로드\n",
        "features = iris.data\n",
        "target = iris.target\n",
        "\n",
        "scaler = StandardScaler() # 특성을 표준화\n",
        "features_standardized = scaler.fit_transform(features)\n",
        "\n",
        "# 로지스틱 회귀 모델 객체 생성\n",
        "logistic_regression = LogisticRegressionCV( penalty='l2', Cs=10, random_state=0, n_jobs=-1)\n",
        "model = logistic_regression.fit(features_standardized, target) # 모델 훈련\n",
        "logistic_regression.C_"
      ],
      "execution_count": null,
      "outputs": [
        {
          "output_type": "execute_result",
          "data": {
            "text/plain": [
              "array([21.5443469, 21.5443469, 21.5443469])"
            ]
          },
          "metadata": {
            "tags": []
          },
          "execution_count": 33
        }
      ]
    },
    {
      "cell_type": "markdown",
      "metadata": {
        "id": "bX2qrjHPaQtz"
      },
      "source": [
        "##### 대용량 데이터에서 분류기 훈련\n",
        "\n",
        "• LogisticRegression에서 solver 매개변수를 확률적 평균 경사 하강법으로 지정하여 로지스틱 회귀를 학습시킵\n",
        "니다.\n",
        "\n",
        "• 데이터셋이 매우 클 때 확률적 평균 경사 하강법이 다른 방법보다 훨씬 빠르게 모델을 훈련할 수 있습니다.\n",
        "\n",
        "• 확률적 평균 경사 하강법은 특성의 스케일이 매우 민감하기 때문에 특성 표준화가 매우 중요합니다."
      ]
    },
    {
      "cell_type": "code",
      "metadata": {
        "id": "mjdDiPlOaYxE"
      },
      "source": [
        "from sklearn.linear_model import LogisticRegression\n",
        "from sklearn import datasets\n",
        "from sklearn.preprocessing import StandardScaler\n",
        "\n",
        "iris = datasets.load_iris() # 데이터 로드\n",
        "features = iris.data\n",
        "target = iris.target\n",
        "\n",
        "scaler = StandardScaler() # 특성 표준화\n",
        "features_standardized = scaler.fit_transform(features)\n",
        "\n",
        "# 로지스틱 회귀 모델 생성\n",
        "logistic_regression = LogisticRegression(random_state=0, solver=\"sag\")\n",
        "model = logistic_regression.fit(features_standardized, target) # 모델 훈련"
      ],
      "execution_count": null,
      "outputs": []
    },
    {
      "cell_type": "markdown",
      "metadata": {
        "id": "ZenKA-k4dlD1"
      },
      "source": [
        "### 타이타닉 실습 예제\n",
        "\n",
        "#### 1. 타이타닉 데이터 전처리"
      ]
    },
    {
      "cell_type": "code",
      "metadata": {
        "id": "IvnDpww6hYK_"
      },
      "source": [
        "import numpy as np\n",
        "import pandas as pd\n",
        "import matplotlib.pyplot as plt\n",
        "import seaborn as sns"
      ],
      "execution_count": null,
      "outputs": []
    },
    {
      "cell_type": "code",
      "metadata": {
        "colab": {
          "base_uri": "https://localhost:8080/"
        },
        "id": "akEMC-VVdmbR",
        "outputId": "4e556857-3ebb-418f-d1ab-6d3637d04e45"
      },
      "source": [
        "titanic_df = pd.read_csv('titanic_train.csv')\n",
        "\n",
        "print(titanic_df.info())\n",
        "print(titanic_df.head())"
      ],
      "execution_count": null,
      "outputs": [
        {
          "output_type": "stream",
          "text": [
            "<class 'pandas.core.frame.DataFrame'>\n",
            "RangeIndex: 891 entries, 0 to 890\n",
            "Data columns (total 12 columns):\n",
            " #   Column       Non-Null Count  Dtype  \n",
            "---  ------       --------------  -----  \n",
            " 0   PassengerId  891 non-null    int64  \n",
            " 1   Survived     891 non-null    int64  \n",
            " 2   Pclass       891 non-null    int64  \n",
            " 3   Name         891 non-null    object \n",
            " 4   Sex          891 non-null    object \n",
            " 5   Age          714 non-null    float64\n",
            " 6   SibSp        891 non-null    int64  \n",
            " 7   Parch        891 non-null    int64  \n",
            " 8   Ticket       891 non-null    object \n",
            " 9   Fare         891 non-null    float64\n",
            " 10  Cabin        204 non-null    object \n",
            " 11  Embarked     889 non-null    object \n",
            "dtypes: float64(2), int64(5), object(5)\n",
            "memory usage: 83.7+ KB\n",
            "None\n",
            "   PassengerId  Survived  Pclass  ...     Fare Cabin  Embarked\n",
            "0            1         0       3  ...   7.2500   NaN         S\n",
            "1            2         1       1  ...  71.2833   C85         C\n",
            "2            3         1       3  ...   7.9250   NaN         S\n",
            "3            4         1       1  ...  53.1000  C123         S\n",
            "4            5         0       3  ...   8.0500   NaN         S\n",
            "\n",
            "[5 rows x 12 columns]\n"
          ],
          "name": "stdout"
        }
      ]
    },
    {
      "cell_type": "code",
      "metadata": {
        "colab": {
          "base_uri": "https://localhost:8080/"
        },
        "id": "bsJbswUYeWSl",
        "outputId": "31401d69-9db3-4974-e87f-953c6232997b"
      },
      "source": [
        "#결측치 처리, DataFrame의 fillna()함수를 사용해서 간단하게 Null값을 평균 또는 고정 값 대체\n",
        "#Age의 경우는 평균 나이, 나머지 칼럼은 ‘N’ 값으로 변경\n",
        "\n",
        "titanic_df['Age'].fillna(titanic_df['Age'].mean(),inplace=True)\n",
        "titanic_df['Cabin'].fillna('N',inplace = True)\n",
        "titanic_df['Embarked'].fillna('N',inplace = True)\n",
        "print('데이터 셋 Null 값 개수',titanic_df.isnull().sum().sum())"
      ],
      "execution_count": null,
      "outputs": [
        {
          "output_type": "stream",
          "text": [
            "데이터 셋 Null 값 개수 0\n"
          ],
          "name": "stdout"
        }
      ]
    },
    {
      "cell_type": "code",
      "metadata": {
        "colab": {
          "base_uri": "https://localhost:8080/"
        },
        "id": "sm7PwR4LgxdM",
        "outputId": "2f38f67e-c0a2-4afe-fb0c-34ebf52798bb"
      },
      "source": [
        "#값 분류\n",
        "\n",
        "print(' Sex 값 분포 :\\n',titanic_df['Sex'].value_counts())\n",
        "print('\\n Pclass 값 분포 :\\n',titanic_df['Pclass'].value_counts())\n",
        "print('\\n Embarked 값 분포 :\\n',titanic_df['Embarked'].value_counts())"
      ],
      "execution_count": null,
      "outputs": [
        {
          "output_type": "stream",
          "text": [
            " Sex 값 분포 :\n",
            " male      577\n",
            "female    314\n",
            "Name: Sex, dtype: int64\n",
            "\n",
            " Pclass 값 분포 :\n",
            " 3    491\n",
            "1    216\n",
            "2    184\n",
            "Name: Pclass, dtype: int64\n",
            "\n",
            " Embarked 값 분포 :\n",
            " S    644\n",
            "C    168\n",
            "Q     77\n",
            "N      2\n",
            "Name: Embarked, dtype: int64\n"
          ],
          "name": "stdout"
        }
      ]
    },
    {
      "cell_type": "code",
      "metadata": {
        "colab": {
          "base_uri": "https://localhost:8080/",
          "height": 297
        },
        "id": "gQQqkciNhOZ7",
        "outputId": "2fd53cc4-e6c3-4952-f97e-ee7ccf47691b"
      },
      "source": [
        "#성별이 생존 확률에 어떤 영향을 미쳤는지, 성별에 따른 생존자 수를 비교\n",
        "\n",
        "titanic_df.groupby(['Sex','Survived'])['Survived'].count()\n",
        "\n",
        "sns.barplot(x='Sex',y='Survived',data=titanic_df)"
      ],
      "execution_count": null,
      "outputs": [
        {
          "output_type": "execute_result",
          "data": {
            "text/plain": [
              "<matplotlib.axes._subplots.AxesSubplot at 0x7f99eb958ad0>"
            ]
          },
          "metadata": {
            "tags": []
          },
          "execution_count": 53
        },
        {
          "output_type": "display_data",
          "data": {
            "image/png": "[encoded data removed]",
            "text/plain": [
              "<Figure size 432x288 with 1 Axes>"
            ]
          },
          "metadata": {
            "tags": [],
            "needs_background": "light"
          }
        }
      ]
    },
    {
      "cell_type": "code",
      "metadata": {
        "colab": {
          "base_uri": "https://localhost:8080/",
          "height": 297
        },
        "id": "cWOxIlychmlj",
        "outputId": "aa19ed94-6936-4e17-bf58-22ab7071428a"
      },
      "source": [
        "#부자와 가난한 사람의 생존확률 , 일등실, 이등실, 삼등실에 따라 생존확률\n",
        "\n",
        "sns.barplot(x='Pclass',y='Survived',hue = 'Sex',data=titanic_df)"
      ],
      "execution_count": null,
      "outputs": [
        {
          "output_type": "execute_result",
          "data": {
            "text/plain": [
              "<matplotlib.axes._subplots.AxesSubplot at 0x7f99eb0c61d0>"
            ]
          },
          "metadata": {
            "tags": []
          },
          "execution_count": 55
        },
        {
          "output_type": "display_data",
          "data": {
            "image/png": "[encoded data removed]",
            "text/plain": [
              "<Figure size 432x288 with 1 Axes>"
            ]
          },
          "metadata": {
            "tags": [],
            "needs_background": "light"
          }
        }
      ]
    },
    {
      "cell_type": "code",
      "metadata": {
        "colab": {
          "base_uri": "https://localhost:8080/",
          "height": 406
        },
        "id": "a_yK0wWzh4SD",
        "outputId": "ec483ae5-07a7-42c8-e688-efdece766cff"
      },
      "source": [
        "# 나이에 따른 생존확률\n",
        "## 입력 age 에 따라 구분 값을 반환하는 함수 설정, DataFrame의 apply lambda 식에 사용.\n",
        "\n",
        "def get_category(age):\n",
        "    cat = ''\n",
        "    if age <= -1: cat = 'Unknown'\n",
        "    elif age <= 5: cat = 'Baby'\n",
        "    elif age <= 12: cat = 'Child'\n",
        "    elif age <= 18: cat = 'Teenager'\n",
        "    elif age <= 25: cat = 'Student'\n",
        "    elif age <= 35: cat = 'Young Adult'\n",
        "    elif age <= 60: cat = 'Adult'\n",
        "    else : cat = 'Elderly'\n",
        "\n",
        "    return cat\n",
        "\n",
        "#막대 그래프의 크기 figure를 설정\n",
        "plt.figure(figsize=(10,6))\n",
        "\n",
        "#x축의 값을 순차적으로 표시하기 위한 설정\n",
        "group_names = ['Unknown', 'Baby', 'Child', 'Teenager', 'Student', 'Young Adult', 'Adult', 'Elderly']\n",
        "\n",
        "#lambda 식에 위에서 생성한 get_category() 함수를 반환값으로 지정.\n",
        "#get_category(X)는 입력값으로 'Age' 칼럼 값을 받아서 해당하는 cat 반환\n",
        "titanic_df['Age_cat'] =titanic_df['Age'].apply(lambda x : get_category(x))\n",
        "sns.barplot(x='Age_cat', y='Survived',hue ='Sex', data=titanic_df,order=group_names)  #hue 옵션으로 bar 구분이 가능"
      ],
      "execution_count": null,
      "outputs": [
        {
          "output_type": "execute_result",
          "data": {
            "text/plain": [
              "<matplotlib.axes._subplots.AxesSubplot at 0x7f99eaeb0790>"
            ]
          },
          "metadata": {
            "tags": []
          },
          "execution_count": 66
        },
        {
          "output_type": "display_data",
          "data": {
            "image/png": "[encoded data removed]",
            "text/plain": [
              "<Figure size 720x432 with 1 Axes>"
            ]
          },
          "metadata": {
            "tags": [],
            "needs_background": "light"
          }
        }
      ]
    },
    {
      "cell_type": "markdown",
      "metadata": {
        "id": "poe5CD6Ujk0c"
      },
      "source": [
        "여자 Baby의 경우 비교적 생존 확률이 높음  \n",
        "아쉽게도 여자 Child의 경우는 다른 연령대에 비해 생존 확률이 낮다.  \n",
        "그리고 여자 Senior의 경우는 매우 생존 확률이 높음."
      ]
    },
    {
      "cell_type": "markdown",
      "metadata": {
        "id": "gj7GX_s9jwxk"
      },
      "source": [
        "#### 2. 문자열 카테고리 인코딩"
      ]
    },
    {
      "cell_type": "code",
      "metadata": {
        "colab": {
          "base_uri": "https://localhost:8080/",
          "height": 484
        },
        "id": "i9_nxUimjmGj",
        "outputId": "da95d2fe-f7d4-4fba-9325-a848020ca9c0"
      },
      "source": [
        "# 문자열 카테고리 피처를 숫자형 카테고리 피처로 변환\n",
        "\n",
        "from sklearn import preprocessing\n",
        "\n",
        "def encode_features(dataDF):\n",
        "    features = ['Age_cat','Sex','Embarked']\n",
        "    for feature in features:\n",
        "        le = preprocessing.LabelEncoder()\n",
        "        le = le.fit(dataDF[feature])\n",
        "        dataDF[feature] = le.transform(dataDF[feature])\n",
        "    return dataDF\n",
        "\n",
        "titanic_df = encode_features(titanic_df)\n",
        "titanic_df.head()"
      ],
      "execution_count": null,
      "outputs": [
        {
          "output_type": "execute_result",
          "data": {
            "text/html": [
              "<div>\n",
              "<style scoped>\n",
              "    .dataframe tbody tr th:only-of-type {\n",
              "        vertical-align: middle;\n",
              "    }\n",
              "\n",
              "    .dataframe tbody tr th {\n",
              "        vertical-align: top;\n",
              "    }\n",
              "\n",
              "    .dataframe thead th {\n",
              "        text-align: right;\n",
              "    }\n",
              "</style>\n",
              "<table border=\"1\" class=\"dataframe\">\n",
              "  <thead>\n",
              "    <tr style=\"text-align: right;\">\n",
              "      <th></th>\n",
              "      <th>PassengerId</th>\n",
              "      <th>Survived</th>\n",
              "      <th>Pclass</th>\n",
              "      <th>Name</th>\n",
              "      <th>Sex</th>\n",
              "      <th>Age</th>\n",
              "      <th>SibSp</th>\n",
              "      <th>Parch</th>\n",
              "      <th>Ticket</th>\n",
              "      <th>Fare</th>\n",
              "      <th>Cabin</th>\n",
              "      <th>Embarked</th>\n",
              "      <th>Age_cat</th>\n",
              "    </tr>\n",
              "  </thead>\n",
              "  <tbody>\n",
              "    <tr>\n",
              "      <th>0</th>\n",
              "      <td>1</td>\n",
              "      <td>0</td>\n",
              "      <td>3</td>\n",
              "      <td>Braund, Mr. Owen Harris</td>\n",
              "      <td>1</td>\n",
              "      <td>28</td>\n",
              "      <td>1</td>\n",
              "      <td>0</td>\n",
              "      <td>A/5 21171</td>\n",
              "      <td>7.2500</td>\n",
              "      <td>146</td>\n",
              "      <td>3</td>\n",
              "      <td>6</td>\n",
              "    </tr>\n",
              "    <tr>\n",
              "      <th>1</th>\n",
              "      <td>2</td>\n",
              "      <td>1</td>\n",
              "      <td>1</td>\n",
              "      <td>Cumings, Mrs. John Bradley (Florence Briggs Th...</td>\n",
              "      <td>0</td>\n",
              "      <td>52</td>\n",
              "      <td>1</td>\n",
              "      <td>0</td>\n",
              "      <td>PC 17599</td>\n",
              "      <td>71.2833</td>\n",
              "      <td>81</td>\n",
              "      <td>0</td>\n",
              "      <td>0</td>\n",
              "    </tr>\n",
              "    <tr>\n",
              "      <th>2</th>\n",
              "      <td>3</td>\n",
              "      <td>1</td>\n",
              "      <td>3</td>\n",
              "      <td>Heikkinen, Miss. Laina</td>\n",
              "      <td>0</td>\n",
              "      <td>34</td>\n",
              "      <td>0</td>\n",
              "      <td>0</td>\n",
              "      <td>STON/O2. 3101282</td>\n",
              "      <td>7.9250</td>\n",
              "      <td>146</td>\n",
              "      <td>3</td>\n",
              "      <td>6</td>\n",
              "    </tr>\n",
              "    <tr>\n",
              "      <th>3</th>\n",
              "      <td>4</td>\n",
              "      <td>1</td>\n",
              "      <td>1</td>\n",
              "      <td>Futrelle, Mrs. Jacques Heath (Lily May Peel)</td>\n",
              "      <td>0</td>\n",
              "      <td>48</td>\n",
              "      <td>1</td>\n",
              "      <td>0</td>\n",
              "      <td>113803</td>\n",
              "      <td>53.1000</td>\n",
              "      <td>55</td>\n",
              "      <td>3</td>\n",
              "      <td>0</td>\n",
              "    </tr>\n",
              "    <tr>\n",
              "      <th>4</th>\n",
              "      <td>5</td>\n",
              "      <td>0</td>\n",
              "      <td>3</td>\n",
              "      <td>Allen, Mr. William Henry</td>\n",
              "      <td>1</td>\n",
              "      <td>48</td>\n",
              "      <td>0</td>\n",
              "      <td>0</td>\n",
              "      <td>373450</td>\n",
              "      <td>8.0500</td>\n",
              "      <td>146</td>\n",
              "      <td>3</td>\n",
              "      <td>0</td>\n",
              "    </tr>\n",
              "  </tbody>\n",
              "</table>\n",
              "</div>"
            ],
            "text/plain": [
              "   PassengerId  Survived  Pclass  ... Cabin  Embarked  Age_cat\n",
              "0            1         0       3  ...   146         3        6\n",
              "1            2         1       1  ...    81         0        0\n",
              "2            3         1       3  ...   146         3        6\n",
              "3            4         1       1  ...    55         3        0\n",
              "4            5         0       3  ...   146         3        0\n",
              "\n",
              "[5 rows x 13 columns]"
            ]
          },
          "metadata": {
            "tags": []
          },
          "execution_count": 67
        }
      ]
    },
    {
      "cell_type": "code",
      "metadata": {
        "id": "EJiKD_y2kBJT"
      },
      "source": [
        "# LabelEncoder 클래스를 이용해 레이블인코딩을 적용\n",
        "\n",
        "#Null 처리 함수\n",
        "def fillna(df):\n",
        "    df['Age'].fillna(df['Age'].mean(),inplace = True)\n",
        "    df['Cabin'].fillna('N',inplace=True)\n",
        "    df['Embarked'].fillna('N', inplace = True)\n",
        "    df['Fare'].fillna(0,inplace = True)\n",
        "    return df\n",
        "\n",
        "#머신러닝 알고리즘에 불필요한 속성 제거\n",
        "def drop_features(df):\n",
        "    df.drop(['PassengerId', 'Name', 'Ticket'],axis=1,inplace=True)\n",
        "    return df\n",
        "\n",
        "#레이블 인코딩 수행\n",
        "def format_features(df):\n",
        "    df['Cabin'] = df['Cabin'].str[:1]\n",
        "    features = ['Cabin','Sex','Embarked']\n",
        "    for feature in features:\n",
        "        le = LabelEncoder()\n",
        "        le = le.fit(df[feature])\n",
        "        df[feature] = le.transform(df[feature])\n",
        "    return df\n",
        "\n",
        "# 앞에서 설정한 데이터 전처리 함수 호출\n",
        "def transform_features(df):\n",
        "    df = fillna(df)\n",
        "    df = drop_features(df)\n",
        "    df= format_features(df)\n",
        "    return df"
      ],
      "execution_count": null,
      "outputs": []
    },
    {
      "cell_type": "markdown",
      "metadata": {
        "id": "fTCNy1HEmGfk"
      },
      "source": [
        "#### 3. 생존 결과 예측"
      ]
    },
    {
      "cell_type": "code",
      "metadata": {
        "id": "xrbfSX8RlUsb"
      },
      "source": [
        "#원본 데이터 재로딩하고, 피처 데이터 세트와 레이블 데이터 세트 추출.\n",
        "from sklearn.preprocessing import LabelEncoder\n",
        "\n",
        "titanic_df =pd.read_csv('titanic_train.csv')\n",
        "y_titanic_df=titanic_df['Survived']\n",
        "X_titanic_df=titanic_df.drop('Survived',axis=1)\n",
        "\n",
        "X_titanic_df = transform_features(X_titanic_df)"
      ],
      "execution_count": null,
      "outputs": []
    },
    {
      "cell_type": "code",
      "metadata": {
        "id": "xlDvC23BlWWr"
      },
      "source": [
        "#내려받은 학습 데이터 셋을 기반으로 해서 train_test_split() API를 이용해 별도의 테스트 데이터 셋을 추출\n",
        "\n",
        "from sklearn.model_selection import train_test_split\n",
        "\n",
        "X_train, X_test, y_train, y_test=train_test_split(X_titanic_df, y_titanic_df, \\\n",
        "                                                  test_size=0.2, random_state=11)"
      ],
      "execution_count": null,
      "outputs": []
    },
    {
      "cell_type": "code",
      "metadata": {
        "colab": {
          "base_uri": "https://localhost:8080/"
        },
        "id": "DeAl8wARmScy",
        "outputId": "a322b402-f7c5-418a-bd17-b546419c0881"
      },
      "source": [
        "#ML 알고리즘 사용\n",
        "\n",
        "from sklearn.tree import DecisionTreeClassifier\n",
        "from sklearn.ensemble import RandomForestClassifier\n",
        "from sklearn.linear_model import LogisticRegression\n",
        "from sklearn.metrics import accuracy_score\n",
        "\n",
        "#결정트리, Random Forest, 로지스틱 회귀를 위한 사이킷런 Classifier 클래스 생성\n",
        "dt_clf = DecisionTreeClassifier(random_state=11)\n",
        "rf_clf = RandomForestClassifier(random_state=11)\n",
        "lr_clf = LogisticRegression()\n",
        "\n",
        "#DecisionTreeClassifier 학습/예측/평가\n",
        "dt_clf.fit(X_train, y_train)\n",
        "dt_pred = dt_clf.predict(X_test)\n",
        "print('DecisionTreeClassifier 정확도: {0:.4f}'.format(accuracy_score(y_test, dt_pred)))\n",
        "\n",
        "#RandomForestClassifier 학습/예측/평가\n",
        "rf_clf.fit(X_train, y_train)\n",
        "rf_pred = rf_clf.predict(X_test)\n",
        "print('RandomForestClassifier 정확도:{0:.4f}'.format(accuracy_score(y_test, rf_pred)))\n",
        "\n",
        "# LogisticRegression 학습/예측/평가\n",
        "lr_clf.fit(X_train , y_train)\n",
        "lr_pred = lr_clf.predict(X_test)\n",
        "print('LogisticRegression 정확도: {0:.4f}'.format(accuracy_score(y_test, lr_pred)))"
      ],
      "execution_count": null,
      "outputs": [
        {
          "output_type": "stream",
          "text": [
            "DecisionTreeClassifier 정확도: 0.7877\n",
            "RandomForestClassifier 정확도:0.8547\n",
            "LogisticRegression 정확도: 0.8492\n"
          ],
          "name": "stdout"
        },
        {
          "output_type": "stream",
          "text": [
            "/usr/local/lib/python3.7/dist-packages/sklearn/linear_model/_logistic.py:940: ConvergenceWarning: lbfgs failed to converge (status=1):\n",
            "STOP: TOTAL NO. of ITERATIONS REACHED LIMIT.\n",
            "\n",
            "Increase the number of iterations (max_iter) or scale the data as shown in:\n",
            "    https://scikit-learn.org/stable/modules/preprocessing.html\n",
            "Please also refer to the documentation for alternative solver options:\n",
            "    https://scikit-learn.org/stable/modules/linear_model.html#logistic-regression\n",
            "  extra_warning_msg=_LOGISTIC_SOLVER_CONVERGENCE_MSG)\n"
          ],
          "name": "stderr"
        }
      ]
    },
    {
      "cell_type": "code",
      "metadata": {
        "colab": {
          "base_uri": "https://localhost:8080/"
        },
        "id": "nsNBngpbmfkq",
        "outputId": "d8d49788-2148-49b3-89a4-7f2c69354900"
      },
      "source": [
        "# 사이킷런의 KFold 클래스를 이용해 교차 검증을 수행\n",
        "\n",
        "from sklearn.model_selection import KFold\n",
        "\n",
        "def exec_kfold(clf, folds=5):\n",
        "    # 폴드 세트를 5개인 KFold객체를 생성, 폴드 수만큼 예측결과 저장을 위한  리스트 객체 생성.\n",
        "    kfold = KFold(n_splits=folds)\n",
        "    scores = []\n",
        "\n",
        "    # KFold 교차 검증 수행. \n",
        "    for iter_count , (train_index, test_index) in enumerate(kfold.split(X_titanic_df)):\n",
        "        # X_titanic_df 데이터에서 교차 검증별로 학습과 검증 데이터를 가리키는 index 생성\n",
        "        X_train, X_test = X_titanic_df.values[train_index], X_titanic_df.values[test_index]\n",
        "        y_train, y_test = y_titanic_df.values[train_index], y_titanic_df.values[test_index]\n",
        "\n",
        "        # Classifier 학습, 예측, 정확도 계산 \n",
        "        clf.fit(X_train, y_train) \n",
        "        predictions = clf.predict(X_test)\n",
        "        accuracy = accuracy_score(y_test, predictions)\n",
        "        scores.append(accuracy)\n",
        "        print(\"교차 검증 {0} 정확도: {1:.4f}\".format(iter_count, accuracy))     \n",
        "\n",
        "    # 5개 fold에서의 평균 정확도 계산. \n",
        "    mean_score = np.mean(scores)\n",
        "    print(\"평균 정확도: {0:.4f}\".format(mean_score)) \n",
        "\n",
        "# exec_kfold 호출\n",
        "exec_kfold(dt_clf , folds=5)  #결정트리\n",
        "print('------------------------------')\n",
        "exec_kfold(rf_clf , folds=5)  #Random Forest\n",
        "print('------------------------------')\n",
        "exec_kfold(lr_clf , folds=5)  #로지스틱 회귀"
      ],
      "execution_count": null,
      "outputs": [
        {
          "output_type": "stream",
          "text": [
            "교차 검증 0 정확도: 0.7542\n",
            "교차 검증 1 정확도: 0.7809\n",
            "교차 검증 2 정확도: 0.7865\n",
            "교차 검증 3 정확도: 0.7697\n",
            "교차 검증 4 정확도: 0.8202\n",
            "평균 정확도: 0.7823\n",
            "------------------------------\n",
            "교차 검증 0 정확도: 0.7933\n",
            "교차 검증 1 정확도: 0.8090\n",
            "교차 검증 2 정확도: 0.8371\n",
            "교차 검증 3 정확도: 0.7753\n",
            "교차 검증 4 정확도: 0.8596\n",
            "평균 정확도: 0.8148\n",
            "------------------------------\n",
            "교차 검증 0 정확도: 0.8045\n",
            "교차 검증 1 정확도: 0.7809\n",
            "교차 검증 2 정확도: 0.7753\n",
            "교차 검증 3 정확도: 0.7472\n",
            "교차 검증 4 정확도: 0.8090\n",
            "평균 정확도: 0.7834\n"
          ],
          "name": "stdout"
        },
        {
          "output_type": "stream",
          "text": [
            "/usr/local/lib/python3.7/dist-packages/sklearn/linear_model/_logistic.py:940: ConvergenceWarning: lbfgs failed to converge (status=1):\n",
            "STOP: TOTAL NO. of ITERATIONS REACHED LIMIT.\n",
            "\n",
            "Increase the number of iterations (max_iter) or scale the data as shown in:\n",
            "    https://scikit-learn.org/stable/modules/preprocessing.html\n",
            "Please also refer to the documentation for alternative solver options:\n",
            "    https://scikit-learn.org/stable/modules/linear_model.html#logistic-regression\n",
            "  extra_warning_msg=_LOGISTIC_SOLVER_CONVERGENCE_MSG)\n",
            "/usr/local/lib/python3.7/dist-packages/sklearn/linear_model/_logistic.py:940: ConvergenceWarning: lbfgs failed to converge (status=1):\n",
            "STOP: TOTAL NO. of ITERATIONS REACHED LIMIT.\n",
            "\n",
            "Increase the number of iterations (max_iter) or scale the data as shown in:\n",
            "    https://scikit-learn.org/stable/modules/preprocessing.html\n",
            "Please also refer to the documentation for alternative solver options:\n",
            "    https://scikit-learn.org/stable/modules/linear_model.html#logistic-regression\n",
            "  extra_warning_msg=_LOGISTIC_SOLVER_CONVERGENCE_MSG)\n",
            "/usr/local/lib/python3.7/dist-packages/sklearn/linear_model/_logistic.py:940: ConvergenceWarning: lbfgs failed to converge (status=1):\n",
            "STOP: TOTAL NO. of ITERATIONS REACHED LIMIT.\n",
            "\n",
            "Increase the number of iterations (max_iter) or scale the data as shown in:\n",
            "    https://scikit-learn.org/stable/modules/preprocessing.html\n",
            "Please also refer to the documentation for alternative solver options:\n",
            "    https://scikit-learn.org/stable/modules/linear_model.html#logistic-regression\n",
            "  extra_warning_msg=_LOGISTIC_SOLVER_CONVERGENCE_MSG)\n",
            "/usr/local/lib/python3.7/dist-packages/sklearn/linear_model/_logistic.py:940: ConvergenceWarning: lbfgs failed to converge (status=1):\n",
            "STOP: TOTAL NO. of ITERATIONS REACHED LIMIT.\n",
            "\n",
            "Increase the number of iterations (max_iter) or scale the data as shown in:\n",
            "    https://scikit-learn.org/stable/modules/preprocessing.html\n",
            "Please also refer to the documentation for alternative solver options:\n",
            "    https://scikit-learn.org/stable/modules/linear_model.html#logistic-regression\n",
            "  extra_warning_msg=_LOGISTIC_SOLVER_CONVERGENCE_MSG)\n",
            "/usr/local/lib/python3.7/dist-packages/sklearn/linear_model/_logistic.py:940: ConvergenceWarning: lbfgs failed to converge (status=1):\n",
            "STOP: TOTAL NO. of ITERATIONS REACHED LIMIT.\n",
            "\n",
            "Increase the number of iterations (max_iter) or scale the data as shown in:\n",
            "    https://scikit-learn.org/stable/modules/preprocessing.html\n",
            "Please also refer to the documentation for alternative solver options:\n",
            "    https://scikit-learn.org/stable/modules/linear_model.html#logistic-regression\n",
            "  extra_warning_msg=_LOGISTIC_SOLVER_CONVERGENCE_MSG)\n"
          ],
          "name": "stderr"
        }
      ]
    },
    {
      "cell_type": "code",
      "metadata": {
        "colab": {
          "base_uri": "https://localhost:8080/"
        },
        "id": "66boS-NWmwb7",
        "outputId": "3cc64300-c7a7-4a05-fe52-f12212902608"
      },
      "source": [
        "# cross_val_score() 클래스를 이용해 교차 검증을 수행\n",
        "\n",
        "from sklearn.model_selection import cross_val_score\n",
        "\n",
        "scores = cross_val_score(dt_clf, X_titanic_df , y_titanic_df , cv=5)\n",
        "for iter_count,accuracy in enumerate(scores):\n",
        "    print(\"교차 검증 {0} 정확도: {1:.4f}\".format(iter_count, accuracy))\n",
        "\n",
        "print(\"평균 정확도: {0:.4f}\".format(np.mean(scores)))"
      ],
      "execution_count": null,
      "outputs": [
        {
          "output_type": "stream",
          "text": [
            "교차 검증 0 정확도: 0.7430\n",
            "교차 검증 1 정확도: 0.7753\n",
            "교차 검증 2 정확도: 0.7921\n",
            "교차 검증 3 정확도: 0.7865\n",
            "교차 검증 4 정확도: 0.8427\n",
            "평균 정확도: 0.7879\n"
          ],
          "name": "stdout"
        }
      ]
    },
    {
      "cell_type": "markdown",
      "metadata": {
        "id": "d7Br5kNMnU0c"
      },
      "source": [
        "cross_val_score()와 방금 전 K폴드의 평균 정확도가 약간 다른데 이는 cross_val__score()가 StratifiedKFold를 이용해 폴드 셋을 분할하기 때문이다."
      ]
    },
    {
      "cell_type": "code",
      "metadata": {
        "colab": {
          "base_uri": "https://localhost:8080/"
        },
        "id": "lTP50AqYnMPh",
        "outputId": "d44ea9d9-a277-408d-81bf-1212f29cf411"
      },
      "source": [
        "#하이퍼 파라미터 추적\n",
        "#GridSearchCV를 이용해 DecisionTreeClassifier의 최적 하이퍼 파라미터를 찾고 예측 성능을 측정\n",
        "\n",
        "from sklearn.model_selection import GridSearchCV\n",
        "\n",
        "parameters = {'max_depth':[2,3,5,10],\n",
        "             'min_samples_split':[2,3,5], 'min_samples_leaf':[1,5,8]}\n",
        "\n",
        "grid_dclf = GridSearchCV(dt_clf , param_grid=parameters , scoring='accuracy' , cv=5)\n",
        "grid_dclf.fit(X_train , y_train)\n",
        "\n",
        "print('GridSearchCV 최적 하이퍼 파라미터 :',grid_dclf.best_params_)\n",
        "print('GridSearchCV 최고 정확도: {0:.4f}'.format(grid_dclf.best_score_))\n",
        "best_dclf = grid_dclf.best_estimator_\n",
        "\n",
        "# GridSearchCV의 최적 하이퍼 파라미터로 학습된 Estimator로 예측 및 평가 수행. \n",
        "dpredictions = best_dclf.predict(X_test)\n",
        "accuracy = accuracy_score(y_test , dpredictions)\n",
        "print('테스트 세트에서의 DecisionTreeClassifier 정확도 : {0:.4f}'.format(accuracy))"
      ],
      "execution_count": null,
      "outputs": [
        {
          "output_type": "stream",
          "text": [
            "GridSearchCV 최적 하이퍼 파라미터 : {'max_depth': 3, 'min_samples_leaf': 5, 'min_samples_split': 2}\n",
            "GridSearchCV 최고 정확도: 0.7992\n",
            "테스트 세트에서의 DecisionTreeClassifier 정확도 : 0.8715\n"
          ],
          "name": "stdout"
        }
      ]
    },
    {
      "cell_type": "markdown",
      "metadata": {
        "id": "MUu6AMutoVFC"
      },
      "source": [
        "GridSearchCV는 Classifier나 Regressor와 같은 알고리즘에 사용되는 하이퍼 파라미터를 순차적으로 입력하면서 편리하게 최적의 파라미터를 도출할 수 있는 방안을 제공 (검증 기반)\n",
        "\n",
        "estimator : classifier, regressor, pipeline이 사용될 수 있습니다\n",
        "\n",
        "param_grid : key+ 리스트값을 가지는 딕셔너리가 주어집니다. estimator의 튜닝을 위해 파라미터명과 사용될 여러 파라미터 값을 지정\n",
        "\n",
        "scoring : 예측 성능을 측정할 평가 방법을 지정 \n",
        "\n",
        "cv : 교차 검증을 위해 분할되는 학습/테스트 세트의 개수를 지정\n",
        "\n",
        "refit : default가 true이며 true로 생성 시 가장 최적의 하이퍼 파라미터를 찾은 뒤 estimator 객체를 해당 하이퍼 파라미터로 재학습"
      ]
    },
    {
      "cell_type": "markdown",
      "metadata": {
        "id": "9L43qVwe_Uth"
      },
      "source": [
        "### 나이브 베이즈\n",
        "\n",
        "베이즈 정리(Bayes’ Theorem)\n",
        "\n",
        "• 베이즈 정리(Bayes’ Theorem)는 새로운 사건의 확률을 계산하기 전에 이미 일어난 사건을 고려하는 것을 전\n",
        "제로 하는 베이즈 (혹은 베이지안) 통계의 근간이라 할 수 있다.\n",
        "\n",
        "• 독립 사건(Independent Events) - 사건이 독립적이라는 건 어떤 사건이 발생하더라도 그게 다른 사건이 발생 확률에 영향을 미치지 않는다는 뜻이다\n",
        "\n",
        "• 조건부 확률(conditional probability)은 어떤 사건 B가 발생했을 때 사건 A가 발생할 확률을 의미한다.\n",
        "\n",
        "• 두 사건이 서로 독립적이라면 그냥 각각의 사건이 발생할 확률을 곱하면 된다\n",
        "\n",
        "• P(A∩B) = P(A) × P(B)\n"
      ]
    },
    {
      "cell_type": "markdown",
      "metadata": {
        "id": "pVHhNe3kImcZ"
      },
      "source": [
        "![조건부.png](data:image/png;base64,iVBORw0KGgoAAAANSUhEUgAAATQAAABnCAIAAAABjiklAAAAAXNSR0IArs4c6QAAAARnQU1BAACxjwv8YQUAAAAJcEhZcwAAEnQAABJ0Ad5mH3gAAAxLSURBVHhe7Z3RSxTdG8fff6AbL4SuvArxQiIkhCJUChMMfYWkhJRCI0grLBOSxNCQMKwokJBuosyIhIQIFAWjTMworNBQ1Cg1yww1La2s94vP+Q3jzO7s5k79zux+PxfRnJ2Z3XXP5zzPOXPOzD+/CCFaQjkJ0RTKSYimUE5CNIVyEqIplJMQTaGchGgK5SREUygnIZpCOQnRFMpJiKZQTkI0hXISoimUkxBNoZyEaArlJERTKCchmkI5CdEUykmIplBOQjSFchKiKZSTEE2hnIRoCuUkRFMoJyGaQjkJ0RTKSYimUE5CNIVyEqIplJMQTaGchGgK5SQ++P79++XLl2/duqW2vUBnZ2dVVdXc3Jza9j6UM/w5d+7cP37YunXr7du3FxYW1K7LwMwzZ84cPHgwYEX/8eNHTU1Nenr6p0+fVNEf4ObNm+rj2oiJiSkuLn7z5g12C/5jewXKGRHAohMnTqA2I7b8/PlTCsfHx0tKSlCIOo2aLYWgpaUlKSlpZGREbfunt7c3Li5u06ZNr1+/VkV/jMrKSnxUfAt8FylBm1JdXY3CrKysDx8+oARtRHZ29oULF4zv6GkoZ0QwPT29c+dO1OPm5mZVtEx/f398fPz69etfvXolJe/fv8/IyKivrw9Yv798+XLgwAGc03y4P5aWlrAPUuXdu3enpqbi34sXL6IkSIvm5+cLCgrwXoiiqmiZsbGx5ORk8/dCy4Jv9PLlS9n0NJQzIoAGUGjdunWIdapoGSlH5X748KGUXL9+PTExcXh4WDYdgAZr1qzBsWvXrn3y5Ikq9cXU1BSyzZycnAcPHiwuLqIEYuP/KEE5XpXdHEBkRny2f/6PHz9u377dLC2CJwJpeXm5EWC9C+WMCFpbW1GD09LSJicnVdEy9+/fR7lR6dFb27t3L4T5+vWr7OAPpJEIxadPn05ISDC7bQceHjp06MqVK+bMWUAJyvEq9lFFfujq6kJDsG3bNklfDZ4+fYoPj9TaHCrRx8aeSNrVtmehnBGBjAkVFxdL4BKQUtbW1qIcQsogigRSJJ+ygz9wIPLevLw8BFgJXJZs2Qy8zc3NRV6ttleCcrx7d3e32vYDPhLexdJq4DOjBOU1NTXmOImWCCY7tBdegXKGP0aHzWLd6OhoSkpKTEyMUY8lwCKcyqY/BgYGkpKSsBtyyPT0dByCZFi9ZgMvVVZWqg1f4FWHwwEaFDQreBc0MapoOXSXlJRERUXV1dVZYrJ0pAM2MfpDOcMf6bCZgwlq8+PHj1NTUzdu3NjZ2WmMykCSgB1IHFtWVnbs2LGFhQVjTMisjYXQ5YSHSFPxLhs2bMBnBmhToOWePXvQTKidTMj3dX5TT0A5wx84CTNRm1GnpXIDJIR37961XBJEhQ449IqzJSYmSh8VSaYklg4mhC4nGgs0GcnJyWNjY6po2dj9+/cj7Dc1NVmGfGWUCK1GwK6s5lDO8Ec6nOj4zc7OqiI/BJRzZmYGXU3zhUQcgpM7jCGFLufVq1d9voVIax9bppzEGxiZZ3V1tSryT0A5Gxsb5fKJBQcTQpTT6HDa+5D260AC5STewLhM39raqor8AwHi4+P7+/vV9kpGR0fR97tz547aXgZe4eQOM/hClHNycjItLc3n6Ou9e/fw1vb5SdJHNc8l8iiUM8yRDmeQM+xkFqtdA4CKjtgr40CqaJnm5mYcgkiFeKWKVhKinOjcrlu3ztLhBBMTE5mZmXhr+2Q9iajBZAqaQznDGdTauro61OBgOpxAenGWKXIA+eG1a9fi4uK6urpU0f+QaQwO8TYUOfH58b44vzlHXVpa6unp2bFjBxqdqqoqe+4qMxYcLr16hbCSE/lMaWmpz+H13+XGjRvt7e1qIwT+X+uYjMm0Zo4fP/7t2ze1hy/Gx8eREJonx8OEU6dOqeOXMdQVk1XpMj6T29XJib9Yfn6+Oq+N2NjYo0eP9vX1WWKmgLNZ5gx5FE3llEtV6qdYiawSsq+ZQJ6TlZXV0NDg8wczA3sTExPt8cGMc64FJAP0iXfXMSF3LS8vx5/RXwdyFeAv4NwiIPSZ5y2FCLLuw4cPG3OePI3WkVP6G+bxQ/zSLS0tKIFdaDilEJivjKsiP8ieUMjhujkIKKeA3XCqcFrH1N3djbgUcD6dtgwPD6NZt4xaeRSt5ZTBBqRn5pmZqOIVFRUoN2df6PkkJCRYliz4BHtKMraKXMtCWK5jksYLwSdgM6chqA+1tbV5eXkzMzOqyMvoKyf+0NAPVdw+Ji7xyhgkwL/4fzD1Sa6h41hgmQVuIRg5JfcOv3VM7969y8jIQIOitr1DT08PmkVzSuVp9JVzdnY2NzcXVdwiiRGvDGkRkeLi4pz7kEJjY+OuXbuOHDmCw50vUgcjZxivY0L9zszM9FYtn5iYwI/b0dGhtr2PvnJKXEIKapmHjU4FOpywoq2tTUpgkT182ZFr6AgI2B9yWrJlC8HIGd7rmNByff78WW14Ac994IDoK6dcQLNcfUauW19fj/KioiKJexAAIdQevixgN9gi0VIGWh2um4OAckbsOiby19BXTpmubU4+0XM7e/ZsdHR0WVmZcUkdr2If5zAIEFcRb9Enwf8RvnBmhGWHSTMB5YSHaBFwHrfWMeEbodssp3IGHcIXL16ow0j4oqmcopy56oN///33/Pnzr1beFSqYWc54CZEWSks0k76i+QqNnYByRuw6JvLX0FROYxJCwOnawVR69DPN93qUuZfw0z4ZzSCgnDqvY8IHIwbqj+JBNP3oMl07ISFhcHBQFfkhYKVHNMvKylI/1Eochmec5YzkdUzkr6GpnDIQGsx0bbniUlBQMD8/r4pMyABSdna2eT6aeILzO1x9cZbzT6xjYp+TWNBRTsQWRBhUcecZdoLcKQOyQTlVZAJxbPPmzTIOZGBMCnfQz1lOmVcYmeuYyF9DRznfvn27ZcsWVPFg1gcDOGxPgOHG0NBQTk5OUVGRZeaQMY2hoqLCopCBg5w45FoEr2Mifw295JTJtGZiYmKePXumXvZDW1tbdHS0OcPs6+uLj49XpzAtZTL6imZ8Jrc+5eQ6pmD4HsITygYGBkpLS9EFUNuRjaZ9zt9CViHW1tb6C4OrwDmt/V0Quj26jkmuNvvkt55QJomDOnIlUVFR+/bte/78OXbDL9jQ0JCVlYUOghwYyYSDnPhFYaa7qxDdldPT65hkDhYsMi8DWt0TyvAnxSHmcT50B9BHgLeJiYkyeQO2H1sm4DKGsCcc5ARy8/Kmpia1HTIuyilth3fXMRnjZ5YO8+8+oQyFstbPMiom4+0oN8b/ent7cWZj7nTEEiZygvb29rS0NFiqtkPDRTm9vo5JxpntSwvsV3TxF7PPvjAwJLeM8xmD84a03u0FuEv4yImGGd2VwsJCV35Rt+QMg3VMcAnmhP6EssHBwYSEBIREy63AZHAema05VCJKR8j4mQPhIyeAn2ieXbkhDZpzt87j9XVMMiZkWZsuuTrKjfgmgdRh2Y1IbrkJmAwgodxYZiTIlWS3khePElZyEtdx8QlldslhtSwzOnnypCXfCTihKhKgnMQJWYGAnNOQELFuFU8oMySPjY2VSYhwD27jP+iTGycxkA5qhE9FppzECTgJM0N/QplIbhlVwhkqKipw/kuXLpmvxwAZJfI3KzNCoJzECclFg1mB4CynjB7Z7zot0iLkWm7GSTkB5SR+EUMgVTDz9Z3lFMntfUhjhZBl7IdyAspJ/GLcgDeYFQiX/T+hzJDcPvoqdyq0d1aljxpMxA5jKCfxi3Q4kXZa1qb6RG6bZowbmRHJ7dMY0OdE9xVH2SfrSUR1uGoaCVBO4pufLj2hDHR0dEBy8zQGnHxoaEhu8A0Dp6ampNxAZiwYE/oiE8pJrBjz7My48oQyMzExMfn5+Y8ePcJusr8ZRODo6OgIn15LOYk7/HDvCWXQu7a2Fqp75Qb5fwjKSVzDrSeUQW9I7pXnsv05KCdxje8uPaGsqakpJSXFrQVG3oVyEjcJ/QllIyMjqamp4fQ8olVDOYnLhPKEsrm5ucLCwmAeTx4JUE7iPl9Wu1BucXFxenqaZgqUkxBNoZyEaArlJERTKCchmkI5CdEUykmIplBOQjSFchKiKZSTEE2hnIRoCuUkRFMoJyGaQjkJ0RTKSYimUE5CNIVyEqIplJMQTaGchGgK5SREUygnIVry69d/MkaWN0Xflm8AAAAASUVORK5CYII=)"
      ]
    },
    {
      "cell_type": "markdown",
      "metadata": {
        "id": "1lXSbIscHge3"
      },
      "source": [
        "##### 연속적인 특성으로 분류기 훈련\n",
        "\n",
        "• 베이즈 이론은 새로운 정보 P(A|B)와 사건의 사전 확률P(A)가 주어졌을 때 어떤 사건이 일어날 확률을 이해하는 방법입니다."
      ]
    },
    {
      "cell_type": "code",
      "metadata": {
        "id": "t8Vxk65zBfzi",
        "colab": {
          "base_uri": "https://localhost:8080/"
        },
        "outputId": "e935b5bb-9f80-4b86-9aae-7953c5c05237"
      },
      "source": [
        "from sklearn import datasets\n",
        "from sklearn.naive_bayes import GaussianNB\n",
        "\n",
        "iris = datasets.load_iris() # 데이터 로드\n",
        "features = iris.data\n",
        "target = iris.target\n",
        "\n",
        "classifer = GaussianNB() # 가우시안 나이브 베이지 객체 생성\n",
        "model = classifer.fit(features, target) # 모델 훈련\n",
        "new_observation = [[ 4, 4, 4, 0.4]] #New Sample Data\n",
        "model.predict(new_observation) # 클래스 예측"
      ],
      "execution_count": 83,
      "outputs": [
        {
          "output_type": "execute_result",
          "data": {
            "text/plain": [
              "array([1])"
            ]
          },
          "metadata": {
            "tags": []
          },
          "execution_count": 83
        }
      ]
    },
    {
      "cell_type": "code",
      "metadata": {
        "id": "VgfLB2gTCZDX"
      },
      "source": [
        "# 각 클래스별 사전 확률을 지정한 가우시안 나이브 베이즈 객체 생성\n",
        "clf = GaussianNB(priors=[0.25, 0.25, 0.5])\n",
        "model = classifer.fit(features, target) # 모델 훈련"
      ],
      "execution_count": 85,
      "outputs": []
    },
    {
      "cell_type": "markdown",
      "metadata": {
        "id": "bu01Ryb3Hu1H"
      },
      "source": [
        "![조건부.png](data:image/png;base64,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)"
      ]
    },
    {
      "cell_type": "markdown",
      "metadata": {
        "id": "2HrV19U6I3fr"
      },
      "source": [
        "조건부 확률  \n",
        "\n",
        "P(A|B) = P(A∩B) / P(B)"
      ]
    },
    {
      "cell_type": "markdown",
      "metadata": {
        "id": "SBqb6qjPHNBT"
      },
      "source": [
        "##### 이산적인 카운트 특성으로 분류기 훈련\n",
        "\n",
        "• 다항 나이브 베이즈가 가장 많이 사용되는 경우 중 하나는 BoW(bag of words)나 tf-idf 방식을 사용한 텍스트\n",
        "분류입니다."
      ]
    },
    {
      "cell_type": "code",
      "metadata": {
        "colab": {
          "base_uri": "https://localhost:8080/"
        },
        "id": "QY8kC6gAHqDO",
        "outputId": "384493bf-d410-4f8b-b16e-a152ed2e3b8b"
      },
      "source": [
        "import numpy as np\n",
        "from sklearn.naive_bayes import MultinomialNB\n",
        "from sklearn.feature_extraction.text import CountVectorizer\n",
        "\n",
        "text_data = np.array(['I love Brazil. Brazil!',\n",
        "'Brazil is best',\n",
        "'Germany beats both'])\n",
        "\n",
        "count = CountVectorizer() # BoW(bag of words)를 만듭니다.\n",
        "bag_of_words = count.fit_transform(text_data)\n",
        "features = bag_of_words.toarray() # 특성 행렬을 만듭니다.\n",
        "target = np.array([0,0,1]) # 타깃 벡터를 만듭니다.\n",
        "print(features)\n",
        "print(target)"
      ],
      "execution_count": 87,
      "outputs": [
        {
          "output_type": "stream",
          "text": [
            "[[0 0 0 2 0 0 1]\n",
            " [0 1 0 1 0 1 0]\n",
            " [1 0 1 0 1 0 0]]\n",
            "[0 0 1]\n"
          ],
          "name": "stdout"
        }
      ]
    },
    {
      "cell_type": "code",
      "metadata": {
        "colab": {
          "base_uri": "https://localhost:8080/"
        },
        "id": "nG7lMvlFJ6Cn",
        "outputId": "4534aca9-62b7-418b-838d-bbecd1e28dfc"
      },
      "source": [
        "#MultinomialNB를 사용해 두 클래스(brazil과 germany)에 대한 사전 확률을 지정하여 모델을 훈련\n",
        "# 각 클래스별 사전 확률을 지정한 다항 나이브 베이즈 객체를 만듭니다.\n",
        "classifer = MultinomialNB(class_prior=[0.25, 0.5])\n",
        "model = classifer.fit(features, target) # 모델 훈련\n",
        "new_observation = [[0, 0, 0, 1, 0, 1, 0]] #New Sample Data 1은 brazil, is\n",
        "model.predict(new_observation) # 새로운 샘플의 클래스 예측"
      ],
      "execution_count": 88,
      "outputs": [
        {
          "output_type": "execute_result",
          "data": {
            "text/plain": [
              "array([0])"
            ]
          },
          "metadata": {
            "tags": []
          },
          "execution_count": 88
        }
      ]
    },
    {
      "cell_type": "markdown",
      "metadata": {
        "id": "fGF-y2JrMsxp"
      },
      "source": [
        "실습 예제\n",
        "\n",
        "\n",
        "1 weather, temp, play를 LabelEncoder로 변환  \n",
        "2 (weather, temp) 로 변환해서 리스트에 저장  \n",
        "3 Gaussian Classifier 객체 생성, 학습  \n",
        "4 새로운 데이터 [0, 2] (overcast, mild) 예측"
      ]
    },
    {
      "cell_type": "code",
      "metadata": {
        "id": "vsonzoQsLirg"
      },
      "source": [
        "weather=['Sunny','Sunny','Overcast','Rainy','Rainy','Rainy','Overcast','Sunny','Sunny',\n",
        "'Rainy','Sunny','Overcast','Overcast','Rainy']\n",
        "temp=['Hot','Hot','Hot','Mild','Cool','Cool','Cool','Mild','Cool','Mild','Mild','Mild','Hot','Mild']\n",
        "\n",
        "play=['No','No','Yes','Yes','Yes','No','Yes','No','Yes','Yes','Yes','Yes','Yes','No']"
      ],
      "execution_count": 101,
      "outputs": []
    },
    {
      "cell_type": "code",
      "metadata": {
        "colab": {
          "base_uri": "https://localhost:8080/"
        },
        "id": "RYijfWs-Mq7T",
        "outputId": "76c9a519-2f52-484f-b42d-f31e27cdb00f"
      },
      "source": [
        "# 1 weather, temp, play를 LabelEncoder로 변환  \n",
        "from sklearn import preprocessing\n",
        "\n",
        "#creating labelEncoder\n",
        "le = preprocessing.LabelEncoder()\n",
        "# Converting string labels into numbers.\n",
        "weather_encoded=le.fit_transform(weather)\n",
        "\n",
        "# Converting string labels into numbers\n",
        "temp_encoded=le.fit_transform(temp)\n",
        "label=le.fit_transform(play)\n",
        "\n",
        "print(weather_encoded)\n",
        "print(\"Temp:\",temp_encoded)\n",
        "print(\"Play:\",label)"
      ],
      "execution_count": 103,
      "outputs": [
        {
          "output_type": "stream",
          "text": [
            "[2 2 0 1 1 1 0 2 2 1 2 0 0 1]\n",
            "Temp: [1 1 1 2 0 0 0 2 0 2 2 2 1 2]\n",
            "Play: [0 0 1 1 1 0 1 0 1 1 1 1 1 0]\n",
            "[(2, 1), (2, 1), (0, 1), (1, 2), (1, 0), (1, 0), (0, 0), (2, 2), (2, 0), (1, 2), (2, 2), (0, 2), (0, 1), (1, 2)]\n"
          ],
          "name": "stdout"
        }
      ]
    },
    {
      "cell_type": "code",
      "metadata": {
        "colab": {
          "base_uri": "https://localhost:8080/"
        },
        "id": "LWotU1vBNGTf",
        "outputId": "47849f70-d2ae-4790-abf6-a238d0b76fb3"
      },
      "source": [
        "# 2 (weather, temp) 로 변환해서 리스트에 저장\n",
        "\n",
        "features = zip(weather_encoded,temp_encoded)\n",
        "features = list(features)\n",
        "print(features)"
      ],
      "execution_count": 104,
      "outputs": [
        {
          "output_type": "stream",
          "text": [
            "[(2, 1), (2, 1), (0, 1), (1, 2), (1, 0), (1, 0), (0, 0), (2, 2), (2, 0), (1, 2), (2, 2), (0, 2), (0, 1), (1, 2)]\n"
          ],
          "name": "stdout"
        }
      ]
    },
    {
      "cell_type": "code",
      "metadata": {
        "colab": {
          "base_uri": "https://localhost:8080/"
        },
        "id": "tg7UUkwwNR9u",
        "outputId": "5aa9302d-c220-498d-a22b-08d74478ef3a"
      },
      "source": [
        "# 3 Gaussian Classifier 객체 생성, 학습\n",
        "\n",
        "from sklearn.naive_bayes import GaussianNB\n",
        "\n",
        "#Create a Gaussian Classifier\n",
        "model = GaussianNB()\n",
        "\n",
        "# Train the model using the training sets\n",
        "model.fit(features,label)\n",
        "\n",
        "# 4 새로운 데이터 [0, 2] (overcast, mild) 예측\n",
        "predicted= model.predict([[0,2]]) # 0:Overcast, 2:Mild\n",
        "print(\"Predicted Value:\", predicted) # 1: Yes"
      ],
      "execution_count": 105,
      "outputs": [
        {
          "output_type": "stream",
          "text": [
            "Predicted Value: [1]\n"
          ],
          "name": "stdout"
        }
      ]
    },
    {
      "cell_type": "markdown",
      "metadata": {
        "id": "7Rlee3NlQzL4"
      },
      "source": [
        "실습 예제2"
      ]
    },
    {
      "cell_type": "code",
      "metadata": {
        "colab": {
          "base_uri": "https://localhost:8080/"
        },
        "id": "GmUoORBUQ07a",
        "outputId": "987bb34f-7836-43e6-a773-2c512e30d5f3"
      },
      "source": [
        "from sklearn import datasets\n",
        "\n",
        "#Load dataset\n",
        "wine = datasets.load_wine()\n",
        "\n",
        "print(\"Features: \", wine.feature_names)\n",
        "print(\"Labels: \", wine.target_names)\n",
        "\n",
        "print(wine.data.shape)"
      ],
      "execution_count": 109,
      "outputs": [
        {
          "output_type": "stream",
          "text": [
            "Features:  ['alcohol', 'malic_acid', 'ash', 'alcalinity_of_ash', 'magnesium', 'total_phenols', 'flavanoids', 'nonflavanoid_phenols', 'proanthocyanins', 'color_intensity', 'hue', 'od280/od315_of_diluted_wines', 'proline']\n",
            "Labels:  ['class_0' 'class_1' 'class_2']\n",
            "(178, 13)\n"
          ],
          "name": "stdout"
        }
      ]
    },
    {
      "cell_type": "code",
      "metadata": {
        "colab": {
          "base_uri": "https://localhost:8080/"
        },
        "id": "yKQb55NIRhQ7",
        "outputId": "73ded0fc-497a-48a8-abc8-25549e2b2fd1"
      },
      "source": [
        "print(wine.data[:5])"
      ],
      "execution_count": 110,
      "outputs": [
        {
          "output_type": "stream",
          "text": [
            "[[1.423e+01 1.710e+00 2.430e+00 1.560e+01 1.270e+02 2.800e+00 3.060e+00\n",
            "  2.800e-01 2.290e+00 5.640e+00 1.040e+00 3.920e+00 1.065e+03]\n",
            " [1.320e+01 1.780e+00 2.140e+00 1.120e+01 1.000e+02 2.650e+00 2.760e+00\n",
            "  2.600e-01 1.280e+00 4.380e+00 1.050e+00 3.400e+00 1.050e+03]\n",
            " [1.316e+01 2.360e+00 2.670e+00 1.860e+01 1.010e+02 2.800e+00 3.240e+00\n",
            "  3.000e-01 2.810e+00 5.680e+00 1.030e+00 3.170e+00 1.185e+03]\n",
            " [1.437e+01 1.950e+00 2.500e+00 1.680e+01 1.130e+02 3.850e+00 3.490e+00\n",
            "  2.400e-01 2.180e+00 7.800e+00 8.600e-01 3.450e+00 1.480e+03]\n",
            " [1.324e+01 2.590e+00 2.870e+00 2.100e+01 1.180e+02 2.800e+00 2.690e+00\n",
            "  3.900e-01 1.820e+00 4.320e+00 1.040e+00 2.930e+00 7.350e+02]]\n"
          ],
          "name": "stdout"
        }
      ]
    },
    {
      "cell_type": "code",
      "metadata": {
        "colab": {
          "base_uri": "https://localhost:8080/"
        },
        "id": "7gPqWCDzRivm",
        "outputId": "050cbc4d-0481-4637-d410-fb020bdb5d5d"
      },
      "source": [
        "print(wine.target)"
      ],
      "execution_count": 111,
      "outputs": [
        {
          "output_type": "stream",
          "text": [
            "[0 0 0 0 0 0 0 0 0 0 0 0 0 0 0 0 0 0 0 0 0 0 0 0 0 0 0 0 0 0 0 0 0 0 0 0 0\n",
            " 0 0 0 0 0 0 0 0 0 0 0 0 0 0 0 0 0 0 0 0 0 0 1 1 1 1 1 1 1 1 1 1 1 1 1 1 1\n",
            " 1 1 1 1 1 1 1 1 1 1 1 1 1 1 1 1 1 1 1 1 1 1 1 1 1 1 1 1 1 1 1 1 1 1 1 1 1\n",
            " 1 1 1 1 1 1 1 1 1 1 1 1 1 1 1 1 1 1 1 2 2 2 2 2 2 2 2 2 2 2 2 2 2 2 2 2 2\n",
            " 2 2 2 2 2 2 2 2 2 2 2 2 2 2 2 2 2 2 2 2 2 2 2 2 2 2 2 2 2 2]\n"
          ],
          "name": "stdout"
        }
      ]
    },
    {
      "cell_type": "code",
      "metadata": {
        "colab": {
          "base_uri": "https://localhost:8080/"
        },
        "id": "sjEUhFkjRXSP",
        "outputId": "7ebce9aa-a810-4fbb-863f-fdccbe5ff920"
      },
      "source": [
        "from sklearn.model_selection import train_test_split\n",
        "\n",
        "# Split dataset into training set and test set\n",
        "# 70% training and 30% test\n",
        "X_train, X_test, y_train, y_test = train_test_split(wine.data, wine.target, test_size=0.3, random_state=109)\n",
        "\n",
        "from sklearn.naive_bayes import GaussianNB\n",
        "\n",
        "gnb = GaussianNB()\n",
        "\n",
        "#Train the model using the training sets\n",
        "gnb.fit(X_train, y_train)\n",
        "\n",
        "#Predict the response for test dataset\n",
        "y_pred = gnb.predict(X_test)\n",
        "\n",
        "from sklearn import metrics\n",
        "\n",
        "print(\"Accuracy:\", metrics.accuracy_score(y_test, y_pred))"
      ],
      "execution_count": 112,
      "outputs": [
        {
          "output_type": "stream",
          "text": [
            "Accuracy: 0.9074074074074074\n"
          ],
          "name": "stdout"
        }
      ]
    },
    {
      "cell_type": "markdown",
      "metadata": {
        "id": "2oCEV-brSia4"
      },
      "source": [
        "### 군집\n",
        "\n",
        "##### Clustering(군집화)\n",
        "\n",
        "• 레이블이 없는 데이터 안에서 패턴과 구조를 발견하는 비지도 학습\n",
        "\n",
        "• 레이블을 모르더라도 그냥 비슷한 속성을 가진 데이터들끼리 묶어주는 역할 한다\n"
      ]
    },
    {
      "cell_type": "markdown",
      "metadata": {
        "id": "GmlLKTQ1TIH3"
      },
      "source": [
        "K-평균 (K-Means) 군집화\n",
        "\n",
        "• K는 데이터 세트에서 찾을 것으로 예상되는 클러스터(그룹) 수\n",
        "\n",
        "• Means 는 각 데이터로부터 그 데이터가 속한 클러스터의 중심까지의 평균 거리\n",
        "\n",
        "• k-평균(k-means) 군집 알고리즘은 샘플을 거의 동일한 분산을 가지는 k개의 그룹으로 나눕니다.\n",
        "\n",
        "• 그룹의 개수 k는 하이퍼파라미터로 사용자가 지정"
      ]
    },
    {
      "cell_type": "markdown",
      "metadata": {
        "id": "SANe8zdnVMqX"
      },
      "source": [
        "##### K-Means++ 알고리즘\n",
        "\n",
        "• K-Means 알고리즘의 단점 :\n",
        "처음에 지정하는 중심점(centroid)의 위치를 무작위로 결정하기 때문에 최적의 클러스터로 묶어\n",
        "주는 데에는 한계가 있다\n",
        "\n",
        "• K-Means++는 전통적인 K-Means의 문제, 즉 중심점 무작위 선정의 문제를 해결하기 위한 알고리\n",
        "즘\n",
        "\n",
        "• K-Means++클러스터링의 원리 :\n",
        "1. 가지고 있는 데이터 포인트 중에서 무작위로 1개를 선택하여 그 녀석을 첫번째 중심점으로 지\n",
        "정한다.\n",
        "\n",
        "2. 나머지 데이터 포인트들에 대해 그 첫번째 중심점까지의 거리를 계산한다.\n",
        "\n",
        "3. 두번째 중심점은 각 점들로부터 거리비례 확률에 따라 선택한다 (이미 지정된 중심점으로부터\n",
        "최대한 먼 곳에 배치된 데이터포인트를 그 다음 중심점으로 지정한다)\n",
        "\n",
        "4. 중심점이 k개가 될 때까지 2, 3번을 반복한다.\n",
        "\n",
        "• K-Means++클러스터링의 장점 :\n",
        "\n",
        "초기 중심점을 더욱 전략적으로 배치하기 때문에 전통적인 K-Means보다 더 최적의 군집화를 할\n",
        "수 있다.\n",
        "\n",
        "K-Means보다 알고리즘이 수렴하는 속도가 빠르다."
      ]
    },
    {
      "cell_type": "code",
      "metadata": {
        "colab": {
          "base_uri": "https://localhost:8080/"
        },
        "id": "ZVzFNMZrVW5q",
        "outputId": "4dd95529-335b-49d8-9b99-0c6dfa98ebd5"
      },
      "source": [
        "from sklearn.preprocessing import StandardScaler\n",
        "from sklearn.cluster import KMeans\n",
        "\n",
        "iris = datasets.load_iris() # 데이터 로드\n",
        "features = iris.data\n",
        "\n",
        "scaler = StandardScaler() # 특성 표준화\n",
        "features_std = scaler.fit_transform(features)\n",
        "\n",
        "cluster = KMeans(n_clusters=3, random_state=0, n_jobs=-1) # k-평균 객체 생성\n",
        "model = cluster.fit(features_std) # 모델 훈련\n",
        "print(model.labels_) # 예측 클래스 확인\n",
        "print(iris.target) # 진짜 클래스 확인"
      ],
      "execution_count": 120,
      "outputs": [
        {
          "output_type": "stream",
          "text": [
            "[1 1 1 1 1 1 1 1 1 1 1 1 1 1 1 1 1 1 1 1 1 1 1 1 1 1 1 1 1 1 1 1 1 1 1 1 1\n",
            " 1 1 1 1 1 1 1 1 1 1 1 1 1 0 0 0 2 2 2 0 2 2 2 2 2 2 2 2 0 2 2 2 2 0 2 2 2\n",
            " 2 0 0 0 2 2 2 2 2 2 2 0 0 2 2 2 2 2 2 2 2 2 2 2 2 2 0 2 0 0 0 0 2 0 0 0 0\n",
            " 0 0 2 2 0 0 0 0 2 0 2 0 2 0 0 2 0 0 0 0 0 0 2 2 0 0 0 2 0 0 0 2 0 0 0 2 0\n",
            " 0 2]\n",
            "[0 0 0 0 0 0 0 0 0 0 0 0 0 0 0 0 0 0 0 0 0 0 0 0 0 0 0 0 0 0 0 0 0 0 0 0 0\n",
            " 0 0 0 0 0 0 0 0 0 0 0 0 0 1 1 1 1 1 1 1 1 1 1 1 1 1 1 1 1 1 1 1 1 1 1 1 1\n",
            " 1 1 1 1 1 1 1 1 1 1 1 1 1 1 1 1 1 1 1 1 1 1 1 1 1 1 2 2 2 2 2 2 2 2 2 2 2\n",
            " 2 2 2 2 2 2 2 2 2 2 2 2 2 2 2 2 2 2 2 2 2 2 2 2 2 2 2 2 2 2 2 2 2 2 2 2 2\n",
            " 2 2]\n"
          ],
          "name": "stdout"
        }
      ]
    },
    {
      "cell_type": "code",
      "metadata": {
        "colab": {
          "base_uri": "https://localhost:8080/"
        },
        "id": "J2IRl5eQVg9a",
        "outputId": "324cff47-2973-40e7-e842-391f658d17cf"
      },
      "source": [
        "new_observation = [[0.8, 0.8, 0.8, 0.8]] #New Sample Data\n",
        "model.predict(new_observation) # 샘플의 클러스터를 예측\n",
        "model.cluster_centers_"
      ],
      "execution_count": 121,
      "outputs": [
        {
          "output_type": "execute_result",
          "data": {
            "text/plain": [
              "array([[ 1.13597027,  0.08842168,  0.99615451,  1.01752612],\n",
              "       [-1.01457897,  0.85326268, -1.30498732, -1.25489349],\n",
              "       [-0.05021989, -0.88337647,  0.34773781,  0.2815273 ]])"
            ]
          },
          "metadata": {
            "tags": []
          },
          "execution_count": 121
        }
      ]
    },
    {
      "cell_type": "markdown",
      "metadata": {
        "id": "BFmCUmDUV8A-"
      },
      "source": [
        "##### K-평균을 사용한 군집\n",
        "\n",
        "• K-Means++ 알고리즘은 중심 포인트 하나를 먼저 랜덤하게 선택하고 그 다음부터는 이전 중심 포인트와의\n",
        "거리를 고려하여 다음 중심 포인트를 선택\n",
        "\n",
        "• KMeans 클래스의 init 매개변수 기본값은 k-means++\n",
        "\n",
        "• n_init 횟수만큼 반복하여 최상의 결과를 만드는 중심 포인트를 찾습니다. (기본값 10)\n",
        "\n",
        "• 데이터들이이 얼마나 퍼져 있는지 (혹은 얼마나 뭉쳐있는지) 응집도는 inertia 값으로 확인한다.\n",
        "\n",
        "• inertia는 각 데이터로부터 자신이 속한 군집의 중심까지의 거리를 의미하기 때문에 inertia 값이 낮을수록 군집화가 더 잘 됐다고 볼 수 있다"
      ]
    },
    {
      "cell_type": "code",
      "metadata": {
        "colab": {
          "base_uri": "https://localhost:8080/",
          "height": 265
        },
        "id": "WwT5EoPqWCdD",
        "outputId": "7f606a6a-e393-49c7-ba40-3bcaee862a07"
      },
      "source": [
        "model.inertia_\n",
        "model.score(features_std)\n",
        "model.transform(new_observation)\n",
        "\n",
        "inertia = []\n",
        "for n in range(1, 10):\n",
        "  kmeans = KMeans(n_clusters=n, random_state=0, n_jobs=-1)\n",
        "  inertia.append(kmeans.fit(features_std).inertia_)\n",
        "\n",
        "plt.plot(range(1, 10), inertia)\n",
        "plt.show()"
      ],
      "execution_count": 123,
      "outputs": [
        {
          "output_type": "display_data",
          "data": {
            "image/png": "[encoded data removed]",
            "text/plain": [
              "<Figure size 432x288 with 1 Axes>"
            ]
          },
          "metadata": {
            "tags": [],
            "needs_background": "light"
          }
        }
      ]
    },
    {
      "cell_type": "code",
      "metadata": {
        "colab": {
          "base_uri": "https://localhost:8080/",
          "height": 484
        },
        "id": "5zsM7mEaXQm2",
        "outputId": "f4a491a3-1fd1-4f5f-d45d-3b01d498d5cb"
      },
      "source": [
        "train = pd.read_csv('train.csv')\n",
        "train.head()"
      ],
      "execution_count": 148,
      "outputs": [
        {
          "output_type": "execute_result",
          "data": {
            "text/html": [
              "<div>\n",
              "<style scoped>\n",
              "    .dataframe tbody tr th:only-of-type {\n",
              "        vertical-align: middle;\n",
              "    }\n",
              "\n",
              "    .dataframe tbody tr th {\n",
              "        vertical-align: top;\n",
              "    }\n",
              "\n",
              "    .dataframe thead th {\n",
              "        text-align: right;\n",
              "    }\n",
              "</style>\n",
              "<table border=\"1\" class=\"dataframe\">\n",
              "  <thead>\n",
              "    <tr style=\"text-align: right;\">\n",
              "      <th></th>\n",
              "      <th>PassengerId</th>\n",
              "      <th>Survived</th>\n",
              "      <th>Pclass</th>\n",
              "      <th>Name</th>\n",
              "      <th>Sex</th>\n",
              "      <th>Age</th>\n",
              "      <th>SibSp</th>\n",
              "      <th>Parch</th>\n",
              "      <th>Ticket</th>\n",
              "      <th>Fare</th>\n",
              "      <th>Cabin</th>\n",
              "      <th>Embarked</th>\n",
              "    </tr>\n",
              "  </thead>\n",
              "  <tbody>\n",
              "    <tr>\n",
              "      <th>0</th>\n",
              "      <td>1</td>\n",
              "      <td>0</td>\n",
              "      <td>3</td>\n",
              "      <td>Braund, Mr. Owen Harris</td>\n",
              "      <td>male</td>\n",
              "      <td>22.0</td>\n",
              "      <td>1</td>\n",
              "      <td>0</td>\n",
              "      <td>A/5 21171</td>\n",
              "      <td>7.2500</td>\n",
              "      <td>NaN</td>\n",
              "      <td>S</td>\n",
              "    </tr>\n",
              "    <tr>\n",
              "      <th>1</th>\n",
              "      <td>2</td>\n",
              "      <td>1</td>\n",
              "      <td>1</td>\n",
              "      <td>Cumings, Mrs. John Bradley (Florence Briggs Th...</td>\n",
              "      <td>female</td>\n",
              "      <td>38.0</td>\n",
              "      <td>1</td>\n",
              "      <td>0</td>\n",
              "      <td>PC 17599</td>\n",
              "      <td>71.2833</td>\n",
              "      <td>C85</td>\n",
              "      <td>C</td>\n",
              "    </tr>\n",
              "    <tr>\n",
              "      <th>2</th>\n",
              "      <td>3</td>\n",
              "      <td>1</td>\n",
              "      <td>3</td>\n",
              "      <td>Heikkinen, Miss. Laina</td>\n",
              "      <td>female</td>\n",
              "      <td>26.0</td>\n",
              "      <td>0</td>\n",
              "      <td>0</td>\n",
              "      <td>STON/O2. 3101282</td>\n",
              "      <td>7.9250</td>\n",
              "      <td>NaN</td>\n",
              "      <td>S</td>\n",
              "    </tr>\n",
              "    <tr>\n",
              "      <th>3</th>\n",
              "      <td>4</td>\n",
              "      <td>1</td>\n",
              "      <td>1</td>\n",
              "      <td>Futrelle, Mrs. Jacques Heath (Lily May Peel)</td>\n",
              "      <td>female</td>\n",
              "      <td>35.0</td>\n",
              "      <td>1</td>\n",
              "      <td>0</td>\n",
              "      <td>113803</td>\n",
              "      <td>53.1000</td>\n",
              "      <td>C123</td>\n",
              "      <td>S</td>\n",
              "    </tr>\n",
              "    <tr>\n",
              "      <th>4</th>\n",
              "      <td>5</td>\n",
              "      <td>0</td>\n",
              "      <td>3</td>\n",
              "      <td>Allen, Mr. William Henry</td>\n",
              "      <td>male</td>\n",
              "      <td>35.0</td>\n",
              "      <td>0</td>\n",
              "      <td>0</td>\n",
              "      <td>373450</td>\n",
              "      <td>8.0500</td>\n",
              "      <td>NaN</td>\n",
              "      <td>S</td>\n",
              "    </tr>\n",
              "  </tbody>\n",
              "</table>\n",
              "</div>"
            ],
            "text/plain": [
              "   PassengerId  Survived  Pclass  ...     Fare Cabin  Embarked\n",
              "0            1         0       3  ...   7.2500   NaN         S\n",
              "1            2         1       1  ...  71.2833   C85         C\n",
              "2            3         1       3  ...   7.9250   NaN         S\n",
              "3            4         1       1  ...  53.1000  C123         S\n",
              "4            5         0       3  ...   8.0500   NaN         S\n",
              "\n",
              "[5 rows x 12 columns]"
            ]
          },
          "metadata": {
            "tags": []
          },
          "execution_count": 148
        }
      ]
    },
    {
      "cell_type": "code",
      "metadata": {
        "colab": {
          "base_uri": "https://localhost:8080/",
          "height": 330
        },
        "id": "tnxJeTFdXoTT",
        "outputId": "5d6a7003-c38e-46cc-8362-94293e678cba"
      },
      "source": [
        "test = pd.read_csv('test.csv')\n",
        "test.head()"
      ],
      "execution_count": 149,
      "outputs": [
        {
          "output_type": "execute_result",
          "data": {
            "text/html": [
              "<div>\n",
              "<style scoped>\n",
              "    .dataframe tbody tr th:only-of-type {\n",
              "        vertical-align: middle;\n",
              "    }\n",
              "\n",
              "    .dataframe tbody tr th {\n",
              "        vertical-align: top;\n",
              "    }\n",
              "\n",
              "    .dataframe thead th {\n",
              "        text-align: right;\n",
              "    }\n",
              "</style>\n",
              "<table border=\"1\" class=\"dataframe\">\n",
              "  <thead>\n",
              "    <tr style=\"text-align: right;\">\n",
              "      <th></th>\n",
              "      <th>PassengerId</th>\n",
              "      <th>Pclass</th>\n",
              "      <th>Name</th>\n",
              "      <th>Sex</th>\n",
              "      <th>Age</th>\n",
              "      <th>SibSp</th>\n",
              "      <th>Parch</th>\n",
              "      <th>Ticket</th>\n",
              "      <th>Fare</th>\n",
              "      <th>Cabin</th>\n",
              "      <th>Embarked</th>\n",
              "    </tr>\n",
              "  </thead>\n",
              "  <tbody>\n",
              "    <tr>\n",
              "      <th>0</th>\n",
              "      <td>892</td>\n",
              "      <td>3</td>\n",
              "      <td>Kelly, Mr. James</td>\n",
              "      <td>male</td>\n",
              "      <td>34.5</td>\n",
              "      <td>0</td>\n",
              "      <td>0</td>\n",
              "      <td>330911</td>\n",
              "      <td>7.8292</td>\n",
              "      <td>NaN</td>\n",
              "      <td>Q</td>\n",
              "    </tr>\n",
              "    <tr>\n",
              "      <th>1</th>\n",
              "      <td>893</td>\n",
              "      <td>3</td>\n",
              "      <td>Wilkes, Mrs. James (Ellen Needs)</td>\n",
              "      <td>female</td>\n",
              "      <td>47.0</td>\n",
              "      <td>1</td>\n",
              "      <td>0</td>\n",
              "      <td>363272</td>\n",
              "      <td>7.0000</td>\n",
              "      <td>NaN</td>\n",
              "      <td>S</td>\n",
              "    </tr>\n",
              "    <tr>\n",
              "      <th>2</th>\n",
              "      <td>894</td>\n",
              "      <td>2</td>\n",
              "      <td>Myles, Mr. Thomas Francis</td>\n",
              "      <td>male</td>\n",
              "      <td>62.0</td>\n",
              "      <td>0</td>\n",
              "      <td>0</td>\n",
              "      <td>240276</td>\n",
              "      <td>9.6875</td>\n",
              "      <td>NaN</td>\n",
              "      <td>Q</td>\n",
              "    </tr>\n",
              "    <tr>\n",
              "      <th>3</th>\n",
              "      <td>895</td>\n",
              "      <td>3</td>\n",
              "      <td>Wirz, Mr. Albert</td>\n",
              "      <td>male</td>\n",
              "      <td>27.0</td>\n",
              "      <td>0</td>\n",
              "      <td>0</td>\n",
              "      <td>315154</td>\n",
              "      <td>8.6625</td>\n",
              "      <td>NaN</td>\n",
              "      <td>S</td>\n",
              "    </tr>\n",
              "    <tr>\n",
              "      <th>4</th>\n",
              "      <td>896</td>\n",
              "      <td>3</td>\n",
              "      <td>Hirvonen, Mrs. Alexander (Helga E Lindqvist)</td>\n",
              "      <td>female</td>\n",
              "      <td>22.0</td>\n",
              "      <td>1</td>\n",
              "      <td>1</td>\n",
              "      <td>3101298</td>\n",
              "      <td>12.2875</td>\n",
              "      <td>NaN</td>\n",
              "      <td>S</td>\n",
              "    </tr>\n",
              "  </tbody>\n",
              "</table>\n",
              "</div>"
            ],
            "text/plain": [
              "   PassengerId  Pclass  ... Cabin Embarked\n",
              "0          892       3  ...   NaN        Q\n",
              "1          893       3  ...   NaN        S\n",
              "2          894       2  ...   NaN        Q\n",
              "3          895       3  ...   NaN        S\n",
              "4          896       3  ...   NaN        S\n",
              "\n",
              "[5 rows x 11 columns]"
            ]
          },
          "metadata": {
            "tags": []
          },
          "execution_count": 149
        }
      ]
    },
    {
      "cell_type": "code",
      "metadata": {
        "colab": {
          "base_uri": "https://localhost:8080/"
        },
        "id": "0FtN1mPRYEG-",
        "outputId": "e37dc584-10f9-4d8e-c684-757abad75f7b"
      },
      "source": [
        "print(train.isna().sum())\n",
        "train.fillna(train.mean(), inplace=True)\n",
        "test.fillna(test.mean(), inplace=True)\n",
        "print(train.isna().sum())"
      ],
      "execution_count": 150,
      "outputs": [
        {
          "output_type": "stream",
          "text": [
            "PassengerId      0\n",
            "Survived         0\n",
            "Pclass           0\n",
            "Name             0\n",
            "Sex              0\n",
            "Age            177\n",
            "SibSp            0\n",
            "Parch            0\n",
            "Ticket           0\n",
            "Fare             0\n",
            "Cabin          687\n",
            "Embarked         2\n",
            "dtype: int64\n",
            "PassengerId      0\n",
            "Survived         0\n",
            "Pclass           0\n",
            "Name             0\n",
            "Sex              0\n",
            "Age              0\n",
            "SibSp            0\n",
            "Parch            0\n",
            "Ticket           0\n",
            "Fare             0\n",
            "Cabin          687\n",
            "Embarked         2\n",
            "dtype: int64\n"
          ],
          "name": "stdout"
        }
      ]
    },
    {
      "cell_type": "code",
      "metadata": {
        "id": "mUnbh1XOhw2r"
      },
      "source": [
        "train = train.drop(['Name','Ticket', 'Cabin','Embarked'], axis=1)\n",
        "test = test.drop(['Name','Ticket', 'Cabin','Embarked'], axis=1)"
      ],
      "execution_count": 151,
      "outputs": []
    },
    {
      "cell_type": "code",
      "metadata": {
        "colab": {
          "base_uri": "https://localhost:8080/"
        },
        "id": "CRL5dkEsYxSx",
        "outputId": "96578b73-9855-4523-beb0-c28a9705d411"
      },
      "source": [
        "labelEncoder = LabelEncoder()\n",
        "labelEncoder.fit(train['Sex'])\n",
        "labelEncoder.fit(test['Sex'])\n",
        "\n",
        "train['Sex'] = labelEncoder.transform(train['Sex'])\n",
        "test['Sex'] = labelEncoder.transform(test['Sex'])\n",
        "\n",
        "train.info()\n",
        "test.info()"
      ],
      "execution_count": 152,
      "outputs": [
        {
          "output_type": "stream",
          "text": [
            "<class 'pandas.core.frame.DataFrame'>\n",
            "RangeIndex: 891 entries, 0 to 890\n",
            "Data columns (total 8 columns):\n",
            " #   Column       Non-Null Count  Dtype  \n",
            "---  ------       --------------  -----  \n",
            " 0   PassengerId  891 non-null    int64  \n",
            " 1   Survived     891 non-null    int64  \n",
            " 2   Pclass       891 non-null    int64  \n",
            " 3   Sex          891 non-null    int64  \n",
            " 4   Age          891 non-null    float64\n",
            " 5   SibSp        891 non-null    int64  \n",
            " 6   Parch        891 non-null    int64  \n",
            " 7   Fare         891 non-null    float64\n",
            "dtypes: float64(2), int64(6)\n",
            "memory usage: 55.8 KB\n",
            "<class 'pandas.core.frame.DataFrame'>\n",
            "RangeIndex: 418 entries, 0 to 417\n",
            "Data columns (total 7 columns):\n",
            " #   Column       Non-Null Count  Dtype  \n",
            "---  ------       --------------  -----  \n",
            " 0   PassengerId  418 non-null    int64  \n",
            " 1   Pclass       418 non-null    int64  \n",
            " 2   Sex          418 non-null    int64  \n",
            " 3   Age          418 non-null    float64\n",
            " 4   SibSp        418 non-null    int64  \n",
            " 5   Parch        418 non-null    int64  \n",
            " 6   Fare         418 non-null    float64\n",
            "dtypes: float64(2), int64(5)\n",
            "memory usage: 23.0 KB\n"
          ],
          "name": "stdout"
        }
      ]
    },
    {
      "cell_type": "code",
      "metadata": {
        "id": "iB79PQQ4gmAS"
      },
      "source": [
        "X = np.array(train.drop(['Survived'], 1).astype(float))\n",
        "y = np.array(train['Survived'])"
      ],
      "execution_count": 153,
      "outputs": []
    },
    {
      "cell_type": "code",
      "metadata": {
        "colab": {
          "base_uri": "https://localhost:8080/"
        },
        "id": "C2MLA1qtaAyw",
        "outputId": "679b4687-feb9-4727-d804-bf38907855d9"
      },
      "source": [
        "kmeans = KMeans(n_clusters=2)\n",
        "kmeans.fit(X)  #init='k-means++'"
      ],
      "execution_count": 154,
      "outputs": [
        {
          "output_type": "execute_result",
          "data": {
            "text/plain": [
              "KMeans(algorithm='auto', copy_x=True, init='k-means++', max_iter=300,\n",
              "       n_clusters=2, n_init=10, n_jobs=None, precompute_distances='auto',\n",
              "       random_state=None, tol=0.0001, verbose=0)"
            ]
          },
          "metadata": {
            "tags": []
          },
          "execution_count": 154
        }
      ]
    },
    {
      "cell_type": "code",
      "metadata": {
        "colab": {
          "base_uri": "https://localhost:8080/"
        },
        "id": "afSd9OipaOb6",
        "outputId": "49319790-8e5c-44e5-db66-a9f11ea15340"
      },
      "source": [
        "correct = 0\n",
        "for i in range(len(X)):\n",
        "    predict_me = np.array(X[i].astype(float))\n",
        "    predict_me = predict_me.reshape(-1, len(predict_me))\n",
        "    prediction = kmeans.predict(predict_me)\n",
        "    if prediction[0] == y[i]:\n",
        "        correct += 1\n",
        "\n",
        "print(correct/len(X))"
      ],
      "execution_count": 155,
      "outputs": [
        {
          "output_type": "stream",
          "text": [
            "0.5084175084175084\n"
          ],
          "name": "stdout"
        }
      ]
    },
    {
      "cell_type": "code",
      "metadata": {
        "colab": {
          "base_uri": "https://localhost:8080/"
        },
        "id": "wY1vc4gwakhG",
        "outputId": "ae07518a-e482-4d62-9789-e1a6ad289a55"
      },
      "source": [
        "kmeans = kmeans = KMeans(n_clusters=2, max_iter=600, algorithm = 'auto')\n",
        "kmeans.fit(X)\n",
        "\n",
        "correct = 0\n",
        "for i in range(len(X)):\n",
        "    predict_me = np.array(X[i].astype(float))\n",
        "    predict_me = predict_me.reshape(-1, len(predict_me))\n",
        "    prediction = kmeans.predict(predict_me)\n",
        "    if prediction[0] == y[i]:\n",
        "        correct += 1\n",
        "\n",
        "print(correct/len(X))"
      ],
      "execution_count": 156,
      "outputs": [
        {
          "output_type": "stream",
          "text": [
            "0.5084175084175084\n"
          ],
          "name": "stdout"
        }
      ]
    },
    {
      "cell_type": "code",
      "metadata": {
        "colab": {
          "base_uri": "https://localhost:8080/"
        },
        "id": "mlNsME3ibo8E",
        "outputId": "5ded65ea-506b-44f5-d41d-24c13a3b033d"
      },
      "source": [
        "from sklearn.preprocessing import MinMaxScaler\n",
        "scaler = MinMaxScaler()\n",
        "X_scaled = scaler.fit_transform(X)\n",
        "kmeans.fit(X_scaled)\n",
        "\n",
        "correct = 0\n",
        "for i in range(len(X)):\n",
        "    predict_me = np.array(X[i].astype(float))\n",
        "    predict_me = predict_me.reshape(-1, len(predict_me))\n",
        "    prediction = kmeans.predict(predict_me)\n",
        "    if prediction[0] == y[i]:\n",
        "        correct += 1\n",
        "\n",
        "print(correct/len(X))"
      ],
      "execution_count": 157,
      "outputs": [
        {
          "output_type": "stream",
          "text": [
            "0.6262626262626263\n"
          ],
          "name": "stdout"
        }
      ]
    }
  ]
}