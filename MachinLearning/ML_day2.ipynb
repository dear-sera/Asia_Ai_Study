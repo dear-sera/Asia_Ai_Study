{
  "nbformat": 4,
  "nbformat_minor": 0,
  "metadata": {
    "colab": {
      "name": "ML_day2.ipynb",
      "provenance": [],
      "authorship_tag": "ABX9TyP/ZOU6B5Rd2lVPvtVVu4Mc",
      "include_colab_link": true
    },
    "kernelspec": {
      "name": "python3",
      "display_name": "Python 3"
    },
    "language_info": {
      "name": "python"
    }
  },
  "cells": [
    {
      "cell_type": "markdown",
      "metadata": {
        "id": "view-in-github",
        "colab_type": "text"
      },
      "source": [
        "<a href=\"https://colab.research.google.com/github/sera0911/asia_ai_study/blob/main/MachinLearning/ML_day2.ipynb\" target=\"_parent\"><img src=\"https://colab.research.google.com/assets/colab-badge.svg\" alt=\"Open In Colab\"/></a>"
      ]
    },
    {
      "cell_type": "markdown",
      "metadata": {
        "id": "SmQfLLDy6LYu"
      },
      "source": [
        "### ML day1 리뷰\n",
        "\n",
        "인공지능 : 인간의 지능을 기계로 구현  \n",
        "머신러닝 : 인공지능을 구현하는 구체적인 접근 방식으로 데이터로부터 스스로 학습을 통해 데이터를 가장 잘 표현하는 규칙, 패턴을 찾는 것(함수로 정의하는 과정)  \n",
        "딥러닝 : 인간의 뇌 신경망을 모방한 인공 신경망 (입력층과 출력층 사이에 여러 층을 거쳐서 학습)  \n",
        "\n",
        "\n",
        "지도학습 : 입력 데이터 (feature, 독립변수)와 출력데이터(class, target, label 종속변수)를 이용한 학습 - 분류, 회귀  \n",
        "비지도 학습 : 입력 데이터를 이용한 학습 - 군집  \n",
        "강화 학습 : 결과(정답)에 대한 보상이 주는 방식으로 학습  \n",
        "\n",
        "\n",
        "머신러닝 라이브러리 - scikit-laern (샘플 데이터, 데이터 처리, 차원축소, 파라미터 튜닝, 평가. 머신러닝 알고리즘 클래스 등 제공)\n",
        "\n",
        "load_xxxx() - keys(), data, target, target_names, feature_names   \n",
        "make_xxxx()  \n",
        "fetch_xxxx()   \n",
        "\n",
        "Estimator - 데이터 학습fit()하고 예측predit()하는 알고리즘을 구현한 클래스들  \n",
        "Transformer - 데이터 전처리(데이터를 수치 백터 변환) 클래스들 fit(), transform(), fit_transform()  \n",
        "\n",
        "data wrangling:   \n",
        "광범위한 의미의 원본 데이터를 정제(filter, 이상치 제거, 결측치 대체)하고 사용 가능한 형태로 구성하기 위한 변환 과정으로서 데이터 프레임을 가장 일반적인 데이터 구조로 활용  \n",
        "\n",
        "concat()  \n",
        "merge(base_df, join할 df, on=key 컬럼, how=조인방식)  \n",
        "str -> datetime 변환 : to_datetime()   \n",
        "datetime -> str 변환 : strtime()   \n",
        "groupby().sum()  \n",
        "\n",
        "데이터 정규화 (Scaling) - 데이커의 값이 너무 크거나 혹은 작은 경우에 모델 알고리즘 학습과정에서 0으로 수렴하거나 무한으로 발산할 수 있기 때문  \n",
        "ex) MinMaxScaler, StandardScaler\n",
        "\n",
        "데이터 전처리(데이터를 수치 백터 변환)을 수행할 데이타 유형  \n",
        "범주형 (질적 변수) - 명목척도, 서열척도  \n",
        "연속형 (양적 변수) - 서열척도, 비율척도  \n",
        "\n"
      ]
    },
    {
      "cell_type": "markdown",
      "metadata": {
        "id": "hZOvMImqAxSN"
      },
      "source": [
        "### MD_day2 시작\n",
        "\n",
        "#### 수치형 데이터 특성 스케일 변환\n",
        "• 데이터에 이상치가 많다면 특성의 평균과 표준편차에 영향을 미치기 때문에 표준화에 부정적인 효과를 발생\n",
        "\n",
        "• 이상치가 많은 경우 중간값과 사분위 범위를 사용하여 특성의 스케일을 조정\n",
        "\n",
        "• RobustScaler - 모든 특성들이 같은 크기를 갖는다는 점에서 StandardScaler와 비슷하지만, 평균과 분산 대신\n",
        "median과 quartile을 사용   \n",
        "이상치에 영향을 받지 않는다.   \n",
        "데이터에서 중간값을 빼고 IQR로 나눈다\n"
      ]
    },
    {
      "cell_type": "code",
      "metadata": {
        "colab": {
          "base_uri": "https://localhost:8080/"
        },
        "id": "3Wezz6ld02mF",
        "outputId": "f71cf50f-8af3-40ae-ea28-de09816c288b"
      },
      "source": [
        "from sklearn import preprocessing\n",
        "from sklearn.preprocessing import StandardScaler, MinMaxScaler\n",
        "import numpy as np\n",
        "\n",
        "x= np.array([[-1000.1], [-200.2], [500.5], [600.6], [9000.9]])\n",
        "\n",
        "scaler = preprocessing.RobustScaler()\n",
        "robust_scaler = scaler.fit_transform(x)\n",
        "print(robust_scaler)"
      ],
      "execution_count": 3,
      "outputs": [
        {
          "output_type": "stream",
          "text": [
            "[[-1.87387612]\n",
            " [-0.875     ]\n",
            " [ 0.        ]\n",
            " [ 0.125     ]\n",
            " [10.61488511]]\n"
          ],
          "name": "stdout"
        }
      ]
    },
    {
      "cell_type": "markdown",
      "metadata": {
        "id": "A0ZxeOF9FIwU"
      },
      "source": [
        "• QunatileTransformer - 훈련 데이터를 1,000개의 분위로 나누어 0~1 사이에 고르게 분포시킴으로써 이상치로 인한 영향을 줄여주는 특성 스케일 변환 클래스"
      ]
    },
    {
      "cell_type": "code",
      "metadata": {
        "colab": {
          "base_uri": "https://localhost:8080/"
        },
        "id": "yzXCziXqFShM",
        "outputId": "bc98a944-56dc-45ac-b684-ba060ff1bc06"
      },
      "source": [
        "import numpy as np\n",
        "from sklearn import preprocessing\n",
        "\n",
        "scaler2 = preprocessing.QuantileTransformer()\n",
        "quantile_scaler = scaler2.fit_transform(x)\n",
        "print(quantile_scaler)"
      ],
      "execution_count": 4,
      "outputs": [
        {
          "output_type": "stream",
          "text": [
            "[[0.  ]\n",
            " [0.25]\n",
            " [0.5 ]\n",
            " [0.75]\n",
            " [1.  ]]\n"
          ],
          "name": "stdout"
        },
        {
          "output_type": "stream",
          "text": [
            "/usr/local/lib/python3.7/dist-packages/sklearn/preprocessing/_data.py:2357: UserWarning: n_quantiles (1000) is greater than the total number of samples (5). n_quantiles is set to n_samples.\n",
            "  % (self.n_quantiles, n_samples))\n"
          ],
          "name": "stderr"
        }
      ]
    },
    {
      "cell_type": "markdown",
      "metadata": {
        "id": "dKDCDEcHGXm1"
      },
      "source": [
        "• Normalizer 클래스 - 정규화 변환 , 단위 길이의 합이 1이 되도록 개별 샘플의 값을 변환    \n",
        "StandardScaler, RobustScaler, MinMaxScaler가 각 columns의 통계치를 이용한다면 Normalizer는 row마다 각각 정규화   \n",
        "Normalizer는 유클리드 거리가 1이 되도록 데이터를 조정합니다.    \n",
        "(유클리드 거리는 두 점 사이의 거리를 계산할 때 쓰는 방법, L2 Distance)    \n",
        "행단위로 변환되므로 fit() 계산 작업 없이 transform() 사용"
      ]
    },
    {
      "cell_type": "markdown",
      "metadata": {
        "id": "jzG0ZFa3I5C_"
      },
      "source": [
        "Norm은 벡터의 길이 혹은 크기를 측정하는 방법(함수) - 원점에서 벡터 좌표까지의 거리   \n",
        "\n",
        "벡터 : 스칼라의 방향이 있는 것 (2차원 구조의 수치 데이터 EX)넘파이에서의 배열)  \n",
        "스칼라 : 크기를 수치화 한 것  \n",
        "\n",
        "L1은 절댓값을 사용 - Taxicab Norm, Manhattan norm(KNN, K평균 알고리즘에서 사용)       \n",
        "L2은 피타고라스 정리를 사용한 거리 계산 Euclidean norm "
      ]
    },
    {
      "cell_type": "code",
      "metadata": {
        "colab": {
          "base_uri": "https://localhost:8080/"
        },
        "id": "knHDoivaGY0x",
        "outputId": "625fd124-e1ae-4618-a7b6-20682c5c687e"
      },
      "source": [
        "import numpy as np\n",
        "from sklearn.preprocessing import Normalizer\n",
        "\n",
        "features = np.array([[0.5, 0.5], [1.1, 3.4], [1.5, 20.2], [1.63, 34.4], [10.9, 3.3]])\n",
        "\n",
        "#normalizer = Normalizer(nor=“l2\")\n",
        "#normalizer.transform(features)\n",
        "\n",
        "fearues_l2_norm = Normalizer(norm=\"l2\").transform(features)  #유클리드거리\n",
        "print(fearues_l2_norm)\n",
        "features_l1_norm = Normalizer(norm=\"l1\").transform(features)\n",
        "print(features_l1_norm)\n",
        "print(\"첫 번째 샘플값의 합 : \", features_l1_norm[0, 0] + features_l1_norm[0, 1])\n",
        "\n",
        "#검증하는 것\n",
        "features / np.sum(np.abs(features), axis=1, keepdims=True)\n",
        "features / np.sqrt(np.sum(np.square(features), axis=1, keepdims=True))"
      ],
      "execution_count": 5,
      "outputs": [
        {
          "output_type": "stream",
          "text": [
            "[[0.70710678 0.70710678]\n",
            " [0.30782029 0.95144452]\n",
            " [0.07405353 0.99725427]\n",
            " [0.04733062 0.99887928]\n",
            " [0.95709822 0.28976368]]\n",
            "[[0.5        0.5       ]\n",
            " [0.24444444 0.75555556]\n",
            " [0.06912442 0.93087558]\n",
            " [0.04524008 0.95475992]\n",
            " [0.76760563 0.23239437]]\n",
            "첫 번째 샘플값의 합 :  1.0\n"
          ],
          "name": "stdout"
        },
        {
          "output_type": "execute_result",
          "data": {
            "text/plain": [
              "array([[0.70710678, 0.70710678],\n",
              "       [0.30782029, 0.95144452],\n",
              "       [0.07405353, 0.99725427],\n",
              "       [0.04733062, 0.99887928],\n",
              "       [0.95709822, 0.28976368]])"
            ]
          },
          "metadata": {
            "tags": []
          },
          "execution_count": 5
        }
      ]
    },
    {
      "cell_type": "code",
      "metadata": {
        "colab": {
          "base_uri": "https://localhost:8080/"
        },
        "id": "SoZCx_0VKwpM",
        "outputId": "8742d433-4d83-4181-8bae-49bc2dfc09a0"
      },
      "source": [
        "#Normalizer의 norm 매개변수에 지정 옵션 max : 각 행의 최대값으로 행의 값을 나눔\n",
        "import numpy as np\n",
        "from sklearn.preprocessing import Normalizer\n",
        "\n",
        "features = np.array([[0.5, 0.5], [1.1, 3.4], [1.5, 20.2], [1.63, 34.4], [10.9, 3.3]])\n",
        "Normalizer(norm=\"max\").transform(features)"
      ],
      "execution_count": 6,
      "outputs": [
        {
          "output_type": "execute_result",
          "data": {
            "text/plain": [
              "array([[1.        , 1.        ],\n",
              "       [0.32352941, 1.        ],\n",
              "       [0.07425743, 1.        ],\n",
              "       [0.04738372, 1.        ],\n",
              "       [1.        , 0.30275229]])"
            ]
          },
          "metadata": {
            "tags": []
          },
          "execution_count": 6
        }
      ]
    },
    {
      "cell_type": "markdown",
      "metadata": {
        "id": "BEwLYr4DLB4J"
      },
      "source": [
        "#### 다항 특성과 교차항 특성 생성\n",
        "\n",
        "2차원에 해당하는 비선형 관계일 때 PolynomialFeatures를 사용함  \n",
        "\n",
        "• PolynomialFeatures 클래스 - 교차항을 포함, degree 매개변수가 다항식의 최대 차수를 결정  \n",
        "\n",
        "예) degree=2는 2의 제곱까지 새로운 특성을 만듬    \n",
        "degree=3은 2제곱과 3제곱까지 새로운 특성을 만듬  \n",
        "interaction_only를 True로 지정하면 교차항 특성만 만들 수 있다.   \n",
        "\n",
        "• 특성과 타깃 사이에 비선형 관계가 있다는 가정을 추가할 때 다항 특성을 듭니다.   \n",
        "\n",
        "• 예) 주요 질병에 걸릴 확률에 나이가 미치는 영향은 일정한 상수값이 아니고 나이가 증가함에 따라 같이 증가한다는 의심을 할 수 있음\n",
        "\n",
        "• 특성 x에 변동 효과를 주입하기 위해서 교차항 특성을 만들 수 있다.   \n",
        "• include_bias 매개변수의 변수값은 True (변환된 특성에 상수항 1을 추가합니다.)"
      ]
    },
    {
      "cell_type": "code",
      "metadata": {
        "colab": {
          "base_uri": "https://localhost:8080/"
        },
        "id": "NsnhPyfBLTeE",
        "outputId": "812db564-deff-457d-d159-1e7598f3000e"
      },
      "source": [
        "import numpy as np\n",
        "from sklearn.preprocessing import PolynomialFeatures\n",
        "\n",
        "features = np.array([[2, 3], [2, 3], [2, 3]]) # 특성 행렬을 만듭니다\n",
        "\n",
        "# PolynomialFeatures 객체를 만듭니다.\n",
        "polynomial_interaction = PolynomialFeatures(degree=2, include_bias=False)\n",
        "# 다항 특성을 만듭니다.\n",
        "polynomial1 = polynomial_interaction.fit_transform(features) \n",
        "print(polynomial1)\n",
        "\n",
        "#interaction_only= 교차항만 생성함 , degree=2 : 2의 제곱까지 차수 지정 \n",
        "interaction = PolynomialFeatures(degree=2, interaction_only=True, include_bias=False)\n",
        "polynomial2 = interaction.fit_transform(features)\n",
        "print(polynomial2)\n",
        "\n",
        "#상수항 1을 추가: include_bias=True면 편향을 위한 변수(X0)인 1이 추가\n",
        "polynomial_bias = PolynomialFeatures(degree=2, include_bias=True).fit(features)\n",
        "polynomial3 = polynomial_bias.fit_transform(features)\n",
        "print(polynomial_bias.get_feature_names())\n",
        "print(polynomial3)"
      ],
      "execution_count": 7,
      "outputs": [
        {
          "output_type": "stream",
          "text": [
            "[[2. 3. 4. 6. 9.]\n",
            " [2. 3. 4. 6. 9.]\n",
            " [2. 3. 4. 6. 9.]]\n",
            "[[2. 3. 6.]\n",
            " [2. 3. 6.]\n",
            " [2. 3. 6.]]\n",
            "['1', 'x0', 'x1', 'x0^2', 'x0 x1', 'x1^2']\n",
            "[[1. 2. 3. 4. 6. 9.]\n",
            " [1. 2. 3. 4. 6. 9.]\n",
            " [1. 2. 3. 4. 6. 9.]]\n"
          ],
          "name": "stdout"
        }
      ]
    },
    {
      "cell_type": "markdown",
      "metadata": {
        "id": "mRT6iD8wPMmS"
      },
      "source": [
        "### 특성 변환 \n",
        " FunctionTransformer 를 사용하여 일련의 특성에 어떤 함수를 적용 할 수 있다  \n",
        "하나 이상의 특성에 사용자 정의 변환을 적용  \n",
        "\n",
        " 판다스의 apply()를 사용하여 동일한 변환을 수행할 수 있다"
      ]
    },
    {
      "cell_type": "code",
      "metadata": {
        "colab": {
          "base_uri": "https://localhost:8080/"
        },
        "id": "giPb8YjXPU-M",
        "outputId": "9277a727-824a-4cd5-9433-21a1f6c6986c"
      },
      "source": [
        "import numpy as np\n",
        "from sklearn.preprocessing import FunctionTransformer\n",
        "\n",
        "features = np.array([[2, 3], [2, 3], [2, 3]]) # 특성 행렬 데이터 생성\n",
        "\n",
        "def add_ten(x): # 함수를 정의합니다.\n",
        "  return x + 10\n",
        "\n",
        "ten_transformer = FunctionTransformer(add_ten) # 변환기 객체 생성\n",
        "ten_transformer.transform(features)# 특성 행렬을 변환"
      ],
      "execution_count": 8,
      "outputs": [
        {
          "output_type": "execute_result",
          "data": {
            "text/plain": [
              "array([[12, 13],\n",
              "       [12, 13],\n",
              "       [12, 13]])"
            ]
          },
          "metadata": {
            "tags": []
          },
          "execution_count": 8
        }
      ]
    },
    {
      "cell_type": "code",
      "metadata": {
        "colab": {
          "base_uri": "https://localhost:8080/",
          "height": 136
        },
        "id": "2Qkac_aAPY_R",
        "outputId": "682c530a-d60b-4c01-987e-5d8e02289997"
      },
      "source": [
        "import pandas as pd\n",
        "\n",
        "df = pd.DataFrame(features, columns=['feature_1', 'feature_2'])\n",
        "df.apply(add_ten)"
      ],
      "execution_count": 9,
      "outputs": [
        {
          "output_type": "execute_result",
          "data": {
            "text/html": [
              "<div>\n",
              "<style scoped>\n",
              "    .dataframe tbody tr th:only-of-type {\n",
              "        vertical-align: middle;\n",
              "    }\n",
              "\n",
              "    .dataframe tbody tr th {\n",
              "        vertical-align: top;\n",
              "    }\n",
              "\n",
              "    .dataframe thead th {\n",
              "        text-align: right;\n",
              "    }\n",
              "</style>\n",
              "<table border=\"1\" class=\"dataframe\">\n",
              "  <thead>\n",
              "    <tr style=\"text-align: right;\">\n",
              "      <th></th>\n",
              "      <th>feature_1</th>\n",
              "      <th>feature_2</th>\n",
              "    </tr>\n",
              "  </thead>\n",
              "  <tbody>\n",
              "    <tr>\n",
              "      <th>0</th>\n",
              "      <td>12</td>\n",
              "      <td>13</td>\n",
              "    </tr>\n",
              "    <tr>\n",
              "      <th>1</th>\n",
              "      <td>12</td>\n",
              "      <td>13</td>\n",
              "    </tr>\n",
              "    <tr>\n",
              "      <th>2</th>\n",
              "      <td>12</td>\n",
              "      <td>13</td>\n",
              "    </tr>\n",
              "  </tbody>\n",
              "</table>\n",
              "</div>"
            ],
            "text/plain": [
              "   feature_1  feature_2\n",
              "0         12         13\n",
              "1         12         13\n",
              "2         12         13"
            ]
          },
          "metadata": {
            "tags": []
          },
          "execution_count": 9
        }
      ]
    },
    {
      "cell_type": "markdown",
      "metadata": {
        "id": "UfdpzwvvPnCb"
      },
      "source": [
        "FunctionTransformer 클래스의 의 validate 매개변수가 True이면 입력값이 2차원 배열인지 확인하고 아닐 경우 예외를 발생시킴    \n",
        "validate가 False이면 일차원 배열에도 적용할 수 있습니다.\n",
        "\n",
        "ColumnTransformer : 특성 배열이나 데이터프레임의 열마다 다른 변환을 적용할 수 있다."
      ]
    },
    {
      "cell_type": "code",
      "metadata": {
        "colab": {
          "base_uri": "https://localhost:8080/"
        },
        "id": "YJ7Qnf_MTnaX",
        "outputId": "237d6d4c-c427-426a-999d-8363951eb51f"
      },
      "source": [
        "FunctionTransformer(add_ten, validate=False).transform(np.array([1, 2, 3]))"
      ],
      "execution_count": 10,
      "outputs": [
        {
          "output_type": "execute_result",
          "data": {
            "text/plain": [
              "array([11, 12, 13])"
            ]
          },
          "metadata": {
            "tags": []
          },
          "execution_count": 10
        }
      ]
    },
    {
      "cell_type": "code",
      "metadata": {
        "colab": {
          "base_uri": "https://localhost:8080/"
        },
        "id": "nd8yOhBsPuIa",
        "outputId": "20842a8e-685c-4f31-ee61-384c01c51410"
      },
      "source": [
        "from sklearn.compose import ColumnTransformer\n",
        "\n",
        "def add_hundred(x): # 100을 더하는 함수 정의\n",
        "  return x + 100\n",
        "\n",
        "# (이름, 변환기, 열 리스트)로 구성된 튜플의 리스트를 ColumnTransformer에 전달합니다.\n",
        "ct = ColumnTransformer(\n",
        "[ (\"add_ten\", FunctionTransformer(add_ten, validate=True), ['feature_1']),\n",
        "(\"add_hundred\", FunctionTransformer(add_hundred, validate=True), ['feature_2'])])\n",
        "\n",
        "ct.fit_transform(df)"
      ],
      "execution_count": 11,
      "outputs": [
        {
          "output_type": "execute_result",
          "data": {
            "text/plain": [
              "array([[ 12, 103],\n",
              "       [ 12, 103],\n",
              "       [ 12, 103]])"
            ]
          },
          "metadata": {
            "tags": []
          },
          "execution_count": 11
        }
      ]
    },
    {
      "cell_type": "markdown",
      "metadata": {
        "id": "P9Fu7fY3P0Jx"
      },
      "source": [
        "### 이상치 검색\n",
        "• 일반적인 방법은 데이터가 정규분포를 따른다는 가정을 기반으로 데이터를 둘러싼 타원을 그립니다.   타원 안의 샘플을 정상치(레이블 1)로 분류하고, 타원 밖의 샘플은 이상치(레이블 -1)로 분류  \n",
        "• 이상치의 비율은 contamination 매개변수로 지정 (contamination은 데이터가 얼마나 깨끗한지 추측)  \n",
        "• 데이터에 이상치가 적다면 contamination을 작게 지정, 데이터에 이상치가 많다면 contamination 값을 크게 설정 할 수 있다."
      ]
    },
    {
      "cell_type": "code",
      "metadata": {
        "colab": {
          "base_uri": "https://localhost:8080/"
        },
        "id": "SfskmuxHPz53",
        "outputId": "a047e02c-3121-441e-98a5-a9d5a9e109e3"
      },
      "source": [
        "from sklearn.covariance import EllipticEnvelope\n",
        "from sklearn.datasets import make_blobs\n",
        "\n",
        "# 모의 데이터 생성, 뒤에  _변수는 반환값이 두개인데 두번째껀 쓰지 않아서 언더바로 표시\n",
        "features, target = make_blobs(n_samples = 10, n_features = 2, centers = 1, random_state = 1)\n",
        "print(features)\n",
        "\n",
        "# 첫 번째 샘플을 극단적인 값으로 변경(이상치를 넣으려고)\n",
        "features[0,0] = 10000 \n",
        "features[0,1] = 10000\n",
        "print(features)\n",
        "\n",
        "outlier_detector = EllipticEnvelope(contamination=.1) # 이상치 감지 객체 생성\n",
        "outlier_detector.fit(features) # 감지 객체를 훈련시킴\n",
        "outlier_detector.predict(features) # 이상치를 예측"
      ],
      "execution_count": 12,
      "outputs": [
        {
          "output_type": "stream",
          "text": [
            "[[-1.83198811  3.52863145]\n",
            " [-2.76017908  5.55121358]\n",
            " [-1.61734616  4.98930508]\n",
            " [-0.52579046  3.3065986 ]\n",
            " [ 0.08525186  3.64528297]\n",
            " [-0.79415228  2.10495117]\n",
            " [-1.34052081  4.15711949]\n",
            " [-1.98197711  4.02243551]\n",
            " [-2.18773166  3.33352125]\n",
            " [-0.19745197  2.34634916]]\n",
            "[[ 1.00000000e+04  1.00000000e+04]\n",
            " [-2.76017908e+00  5.55121358e+00]\n",
            " [-1.61734616e+00  4.98930508e+00]\n",
            " [-5.25790464e-01  3.30659860e+00]\n",
            " [ 8.52518583e-02  3.64528297e+00]\n",
            " [-7.94152277e-01  2.10495117e+00]\n",
            " [-1.34052081e+00  4.15711949e+00]\n",
            " [-1.98197711e+00  4.02243551e+00]\n",
            " [-2.18773166e+00  3.33352125e+00]\n",
            " [-1.97451969e-01  2.34634916e+00]]\n"
          ],
          "name": "stdout"
        },
        {
          "output_type": "execute_result",
          "data": {
            "text/plain": [
              "array([-1,  1,  1,  1,  1,  1,  1,  1,  1,  1])"
            ]
          },
          "metadata": {
            "tags": []
          },
          "execution_count": 12
        }
      ]
    },
    {
      "cell_type": "markdown",
      "metadata": {
        "id": "pDxGXvEBQFan"
      },
      "source": [
        "• 샘플을 전체적으로 보는 것보다 개별 특성에서 사분위범위(IQR)을 사용하여 극단적인 값을 구별할 수 있다.  \n",
        "• IQR - 데이터에 있는 1사분위와 3사분위 사이의 거리  \n",
        "• 이상치는 1사분위보다 1.5 IQR 이상 작은 값이나 3사분위보다 1.5 IQR 큰 값으로 정의한다"
      ]
    },
    {
      "cell_type": "code",
      "metadata": {
        "colab": {
          "base_uri": "https://localhost:8080/"
        },
        "id": "KBGuwqLmQMbs",
        "outputId": "29433b70-02c0-4924-be75-bc99360eb934"
      },
      "source": [
        "# 하나의 특성을 만든다.\n",
        "feature = features[:,0]\n",
        "\n",
        "# 이상치의 인덱스를 반환하는 함수를 만든다.\n",
        "def indicies_of_outliers(x):\n",
        "  q1, q3 = np.percentile(x, [25, 75])\n",
        "  iqr = q3 - q1\n",
        "  lower_bound = q1 - (iqr * 1.5)\n",
        "  upper_bound = q3 + (iqr * 1.5)\n",
        "  return np.where((x > upper_bound) | (x < lower_bound))\n",
        "\n",
        "indicies_of_outliers(feature) # 함수 실행"
      ],
      "execution_count": 13,
      "outputs": [
        {
          "output_type": "execute_result",
          "data": {
            "text/plain": [
              "(array([0]),)"
            ]
          },
          "metadata": {
            "tags": []
          },
          "execution_count": 13
        }
      ]
    },
    {
      "cell_type": "code",
      "metadata": {
        "colab": {
          "base_uri": "https://localhost:8080/",
          "height": 136
        },
        "id": "xACpwAIfWzn4",
        "outputId": "fab5f138-7941-49c6-ffa3-a96a7c194b5f"
      },
      "source": [
        "#이상치 삭제\n",
        "import pandas as pd\n",
        "\n",
        "houses = pd.DataFrame()\n",
        "houses['Price'] = [534433, 392333, 293222, 4322032]\n",
        "houses['Bathrooms'] = [2, 3.5, 2, 116]\n",
        "houses['Square_Feet'] = [1500, 2500, 1500, 48000]\n",
        "houses[houses['Bathrooms'] < 20] # 샘플을 필터링"
      ],
      "execution_count": 14,
      "outputs": [
        {
          "output_type": "execute_result",
          "data": {
            "text/html": [
              "<div>\n",
              "<style scoped>\n",
              "    .dataframe tbody tr th:only-of-type {\n",
              "        vertical-align: middle;\n",
              "    }\n",
              "\n",
              "    .dataframe tbody tr th {\n",
              "        vertical-align: top;\n",
              "    }\n",
              "\n",
              "    .dataframe thead th {\n",
              "        text-align: right;\n",
              "    }\n",
              "</style>\n",
              "<table border=\"1\" class=\"dataframe\">\n",
              "  <thead>\n",
              "    <tr style=\"text-align: right;\">\n",
              "      <th></th>\n",
              "      <th>Price</th>\n",
              "      <th>Bathrooms</th>\n",
              "      <th>Square_Feet</th>\n",
              "    </tr>\n",
              "  </thead>\n",
              "  <tbody>\n",
              "    <tr>\n",
              "      <th>0</th>\n",
              "      <td>534433</td>\n",
              "      <td>2.0</td>\n",
              "      <td>1500</td>\n",
              "    </tr>\n",
              "    <tr>\n",
              "      <th>1</th>\n",
              "      <td>392333</td>\n",
              "      <td>3.5</td>\n",
              "      <td>2500</td>\n",
              "    </tr>\n",
              "    <tr>\n",
              "      <th>2</th>\n",
              "      <td>293222</td>\n",
              "      <td>2.0</td>\n",
              "      <td>1500</td>\n",
              "    </tr>\n",
              "  </tbody>\n",
              "</table>\n",
              "</div>"
            ],
            "text/plain": [
              "    Price  Bathrooms  Square_Feet\n",
              "0  534433        2.0         1500\n",
              "1  392333        3.5         2500\n",
              "2  293222        2.0         1500"
            ]
          },
          "metadata": {
            "tags": []
          },
          "execution_count": 14
        }
      ]
    },
    {
      "cell_type": "code",
      "metadata": {
        "colab": {
          "base_uri": "https://localhost:8080/",
          "height": 166
        },
        "id": "S4E6fy_xW5Yd",
        "outputId": "9d955ade-23f3-4801-ab29-35dc21dcf3d2"
      },
      "source": [
        "# 이상치로 표시하고 이를 특성의 하나로 포함\n",
        "import numpy as np\n",
        "\n",
        "houses[\"Outlier\"] = np.where(houses[\"Bathrooms\"] < 20, 0, 1) # 불리언 조건을 기반으로 특성을 생성\n",
        "houses # 데이터 확인"
      ],
      "execution_count": 15,
      "outputs": [
        {
          "output_type": "execute_result",
          "data": {
            "text/html": [
              "<div>\n",
              "<style scoped>\n",
              "    .dataframe tbody tr th:only-of-type {\n",
              "        vertical-align: middle;\n",
              "    }\n",
              "\n",
              "    .dataframe tbody tr th {\n",
              "        vertical-align: top;\n",
              "    }\n",
              "\n",
              "    .dataframe thead th {\n",
              "        text-align: right;\n",
              "    }\n",
              "</style>\n",
              "<table border=\"1\" class=\"dataframe\">\n",
              "  <thead>\n",
              "    <tr style=\"text-align: right;\">\n",
              "      <th></th>\n",
              "      <th>Price</th>\n",
              "      <th>Bathrooms</th>\n",
              "      <th>Square_Feet</th>\n",
              "      <th>Outlier</th>\n",
              "    </tr>\n",
              "  </thead>\n",
              "  <tbody>\n",
              "    <tr>\n",
              "      <th>0</th>\n",
              "      <td>534433</td>\n",
              "      <td>2.0</td>\n",
              "      <td>1500</td>\n",
              "      <td>0</td>\n",
              "    </tr>\n",
              "    <tr>\n",
              "      <th>1</th>\n",
              "      <td>392333</td>\n",
              "      <td>3.5</td>\n",
              "      <td>2500</td>\n",
              "      <td>0</td>\n",
              "    </tr>\n",
              "    <tr>\n",
              "      <th>2</th>\n",
              "      <td>293222</td>\n",
              "      <td>2.0</td>\n",
              "      <td>1500</td>\n",
              "      <td>0</td>\n",
              "    </tr>\n",
              "    <tr>\n",
              "      <th>3</th>\n",
              "      <td>4322032</td>\n",
              "      <td>116.0</td>\n",
              "      <td>48000</td>\n",
              "      <td>1</td>\n",
              "    </tr>\n",
              "  </tbody>\n",
              "</table>\n",
              "</div>"
            ],
            "text/plain": [
              "     Price  Bathrooms  Square_Feet  Outlier\n",
              "0   534433        2.0         1500        0\n",
              "1   392333        3.5         2500        0\n",
              "2   293222        2.0         1500        0\n",
              "3  4322032      116.0        48000        1"
            ]
          },
          "metadata": {
            "tags": []
          },
          "execution_count": 15
        }
      ]
    },
    {
      "cell_type": "code",
      "metadata": {
        "colab": {
          "base_uri": "https://localhost:8080/",
          "height": 166
        },
        "id": "zI1B9_RwXDK1",
        "outputId": "589f4ac5-0d8a-4a49-f65f-44c75a1a0554"
      },
      "source": [
        "# 이상치 처리 - 이상치의 영향이 줄어줄 도록 특성을 변환\n",
        "\n",
        "houses['Log_Of_Square_Feet'] = [np.log(x) for x in houses[\"Square_Feet\"]] #로그 특성\n",
        "houses"
      ],
      "execution_count": 16,
      "outputs": [
        {
          "output_type": "execute_result",
          "data": {
            "text/html": [
              "<div>\n",
              "<style scoped>\n",
              "    .dataframe tbody tr th:only-of-type {\n",
              "        vertical-align: middle;\n",
              "    }\n",
              "\n",
              "    .dataframe tbody tr th {\n",
              "        vertical-align: top;\n",
              "    }\n",
              "\n",
              "    .dataframe thead th {\n",
              "        text-align: right;\n",
              "    }\n",
              "</style>\n",
              "<table border=\"1\" class=\"dataframe\">\n",
              "  <thead>\n",
              "    <tr style=\"text-align: right;\">\n",
              "      <th></th>\n",
              "      <th>Price</th>\n",
              "      <th>Bathrooms</th>\n",
              "      <th>Square_Feet</th>\n",
              "      <th>Outlier</th>\n",
              "      <th>Log_Of_Square_Feet</th>\n",
              "    </tr>\n",
              "  </thead>\n",
              "  <tbody>\n",
              "    <tr>\n",
              "      <th>0</th>\n",
              "      <td>534433</td>\n",
              "      <td>2.0</td>\n",
              "      <td>1500</td>\n",
              "      <td>0</td>\n",
              "      <td>7.313220</td>\n",
              "    </tr>\n",
              "    <tr>\n",
              "      <th>1</th>\n",
              "      <td>392333</td>\n",
              "      <td>3.5</td>\n",
              "      <td>2500</td>\n",
              "      <td>0</td>\n",
              "      <td>7.824046</td>\n",
              "    </tr>\n",
              "    <tr>\n",
              "      <th>2</th>\n",
              "      <td>293222</td>\n",
              "      <td>2.0</td>\n",
              "      <td>1500</td>\n",
              "      <td>0</td>\n",
              "      <td>7.313220</td>\n",
              "    </tr>\n",
              "    <tr>\n",
              "      <th>3</th>\n",
              "      <td>4322032</td>\n",
              "      <td>116.0</td>\n",
              "      <td>48000</td>\n",
              "      <td>1</td>\n",
              "      <td>10.778956</td>\n",
              "    </tr>\n",
              "  </tbody>\n",
              "</table>\n",
              "</div>"
            ],
            "text/plain": [
              "     Price  Bathrooms  Square_Feet  Outlier  Log_Of_Square_Feet\n",
              "0   534433        2.0         1500        0            7.313220\n",
              "1   392333        3.5         2500        0            7.824046\n",
              "2   293222        2.0         1500        0            7.313220\n",
              "3  4322032      116.0        48000        1           10.778956"
            ]
          },
          "metadata": {
            "tags": []
          },
          "execution_count": 16
        }
      ]
    },
    {
      "cell_type": "markdown",
      "metadata": {
        "id": "UX0Jq-phXaNN"
      },
      "source": [
        "#### 특성 이산화\n",
        "• 수치 특성을 개별적인 구간으로 나누는 이산화는 수치 특성을 범주형처럼 다루어야 할 때 유용한 전략  \n",
        "• Binarizer - 임계값에 따라 특성을 두 개의 구간으로 나눠줌  \n",
        "• numpy.digitize() - 수치 특성을 세 개 이상의 여러 임계값에 따라 나누는 방법을 제공  \n",
        "(bins 매개변수의 입력값은 각 구간의 왼쪽 경계값이다)"
      ]
    },
    {
      "cell_type": "code",
      "metadata": {
        "colab": {
          "base_uri": "https://localhost:8080/"
        },
        "id": "AZ9kkDABXmZB",
        "outputId": "3ca8d50f-8a06-48b7-9347-5ae453133c3d"
      },
      "source": [
        "import numpy as np\n",
        "from sklearn.preprocessing import Binarizer\n",
        "\n",
        "age = np.array([[6], [12],[20],[36], [65]])\n",
        "binarizer = Binarizer(18)\n",
        "print(binarizer.fit_transform(age))\n",
        "\n",
        "#bins 매개변수의 입력값은 각 구간의 왼쪽 경곗값입니다.\n",
        "print(np.digitize(age, bins=[20, 30, 64]))\n",
        "\n",
        "#right 매개변수를 True로 설정하면 이 동작을 바꿀 수 있습니다.\n",
        "print(np.digitize(age, bins=[20, 30, 64], right=True))\n",
        "print(np.digitize(age, bins=[18]))"
      ],
      "execution_count": 17,
      "outputs": [
        {
          "output_type": "stream",
          "text": [
            "[[0]\n",
            " [0]\n",
            " [1]\n",
            " [1]\n",
            " [1]]\n",
            "[[0]\n",
            " [0]\n",
            " [1]\n",
            " [2]\n",
            " [3]]\n",
            "[[0]\n",
            " [0]\n",
            " [0]\n",
            " [2]\n",
            " [3]]\n",
            "[[0]\n",
            " [0]\n",
            " [1]\n",
            " [1]\n",
            " [1]]\n"
          ],
          "name": "stdout"
        }
      ]
    },
    {
      "cell_type": "markdown",
      "metadata": {
        "id": "7k1uanBoXpmj"
      },
      "source": [
        "• KBinsDiscretizer(v0.20) - 연속적인 특성값을 여러 구간으로 나눔  \n",
        "encode 매개변수의 기본값은 'onehot'으로 원-핫 인코딩된 희소 행렬을 반환  \n",
        "onehot-dense 매개변수 값은 원-핫 인코딩된 밀집 배열을 반환  \n",
        "strategy 매개변수의 기본값은 'quantile'로 각 구간에 포함된 샘플 개수가 비슷하도록 만든다.  \n",
        "strategy 매개변수의 기본값은 'uniform'은 구간의 폭이 동일하도록 만든다.  \n",
        "\n",
        "• 연속된 값을 이산화하여 원-핫 인코딩으로 만들면 범주형 특성으로 다루기 편리합니다.   \n",
        "• 구간은 bin_edges_속성에서 확인할 수 있다."
      ]
    },
    {
      "cell_type": "code",
      "metadata": {
        "colab": {
          "base_uri": "https://localhost:8080/"
        },
        "id": "pj9vM2fvXwgn",
        "outputId": "a8d958be-5666-4495-d31a-76e82980bf7d"
      },
      "source": [
        "from sklearn.preprocessing import KBinsDiscretizer\n",
        "\n",
        "age = np.array([[6], [12],[17], [20],[25], [26], [30], [32], [36], [40], [45], [65]])\n",
        "\n",
        "kb = KBinsDiscretizer(4, encode='ordinal', strategy='quantile') # 네 개의 구간으로 나눕니다\n",
        "print(kb.fit_transform(age))\n",
        "\n",
        "kb = KBinsDiscretizer(4, encode='onehot-dense', strategy='quantile') # 원-핫 인코딩으로 반환\n",
        "print(kb.fit_transform(age))\n",
        "\n",
        "kb = KBinsDiscretizer(4, encode='onehot-dense', strategy='uniform') # 동일한 길이의 구간을 만듭니다\n",
        "print(kb.fit_transform(age))\n",
        "print(kb.bin_edges_)"
      ],
      "execution_count": 18,
      "outputs": [
        {
          "output_type": "stream",
          "text": [
            "[[0.]\n",
            " [0.]\n",
            " [0.]\n",
            " [1.]\n",
            " [1.]\n",
            " [1.]\n",
            " [2.]\n",
            " [2.]\n",
            " [2.]\n",
            " [3.]\n",
            " [3.]\n",
            " [3.]]\n",
            "[[1. 0. 0. 0.]\n",
            " [1. 0. 0. 0.]\n",
            " [1. 0. 0. 0.]\n",
            " [0. 1. 0. 0.]\n",
            " [0. 1. 0. 0.]\n",
            " [0. 1. 0. 0.]\n",
            " [0. 0. 1. 0.]\n",
            " [0. 0. 1. 0.]\n",
            " [0. 0. 1. 0.]\n",
            " [0. 0. 0. 1.]\n",
            " [0. 0. 0. 1.]\n",
            " [0. 0. 0. 1.]]\n",
            "[[1. 0. 0. 0.]\n",
            " [1. 0. 0. 0.]\n",
            " [1. 0. 0. 0.]\n",
            " [1. 0. 0. 0.]\n",
            " [0. 1. 0. 0.]\n",
            " [0. 1. 0. 0.]\n",
            " [0. 1. 0. 0.]\n",
            " [0. 1. 0. 0.]\n",
            " [0. 0. 1. 0.]\n",
            " [0. 0. 1. 0.]\n",
            " [0. 0. 1. 0.]\n",
            " [0. 0. 0. 1.]]\n",
            "[array([ 6.  , 20.75, 35.5 , 50.25, 65.  ])]\n"
          ],
          "name": "stdout"
        }
      ]
    },
    {
      "cell_type": "markdown",
      "metadata": {
        "id": "ueIsz-tmbLOt"
      },
      "source": [
        "• 군집으로 샘플을 그룹으로 묶기  \n",
        "• k개의 그룹이 있다는 것을 안다면 k-평균 군집(비지도 학습 알고리즘)을 사용하여 비슷한 샘플을 그룹으로 모을 수 있다.  \n",
        "• 군집을 전처리 단계에서 사용할 수 있다."
      ]
    },
    {
      "cell_type": "code",
      "metadata": {
        "colab": {
          "base_uri": "https://localhost:8080/",
          "height": 195
        },
        "id": "5jhRJduTbVZM",
        "outputId": "718735c5-7560-4edf-d2fa-a8850508917d"
      },
      "source": [
        "import pandas as pd\n",
        "from sklearn.datasets import make_blobs\n",
        "from sklearn.cluster import KMeans\n",
        "\n",
        "# 모의 특성 행렬 생성\n",
        "features, _ = make_blobs(n_samples = 50, n_features = 2, centers = 3, random_state = 1)\n",
        "dataframe = pd.DataFrame(features, columns=[\"feature_1\", \"feature_2\"])\n",
        "\n",
        "clusterer = KMeans(3, random_state=0) # k-평균 군집 모델 생성\n",
        "clusterer.fit(features) # 모델 훈련\n",
        "\n",
        "dataframe[\"group\"] = clusterer.predict(features) # 그룹 소속을 예측\n",
        "dataframe.head(5) # 처음 5 개의 샘플을 조회"
      ],
      "execution_count": 19,
      "outputs": [
        {
          "output_type": "execute_result",
          "data": {
            "text/html": [
              "<div>\n",
              "<style scoped>\n",
              "    .dataframe tbody tr th:only-of-type {\n",
              "        vertical-align: middle;\n",
              "    }\n",
              "\n",
              "    .dataframe tbody tr th {\n",
              "        vertical-align: top;\n",
              "    }\n",
              "\n",
              "    .dataframe thead th {\n",
              "        text-align: right;\n",
              "    }\n",
              "</style>\n",
              "<table border=\"1\" class=\"dataframe\">\n",
              "  <thead>\n",
              "    <tr style=\"text-align: right;\">\n",
              "      <th></th>\n",
              "      <th>feature_1</th>\n",
              "      <th>feature_2</th>\n",
              "      <th>group</th>\n",
              "    </tr>\n",
              "  </thead>\n",
              "  <tbody>\n",
              "    <tr>\n",
              "      <th>0</th>\n",
              "      <td>-9.877554</td>\n",
              "      <td>-3.336145</td>\n",
              "      <td>2</td>\n",
              "    </tr>\n",
              "    <tr>\n",
              "      <th>1</th>\n",
              "      <td>-7.287210</td>\n",
              "      <td>-8.353986</td>\n",
              "      <td>0</td>\n",
              "    </tr>\n",
              "    <tr>\n",
              "      <th>2</th>\n",
              "      <td>-6.943061</td>\n",
              "      <td>-7.023744</td>\n",
              "      <td>0</td>\n",
              "    </tr>\n",
              "    <tr>\n",
              "      <th>3</th>\n",
              "      <td>-7.440167</td>\n",
              "      <td>-8.791959</td>\n",
              "      <td>0</td>\n",
              "    </tr>\n",
              "    <tr>\n",
              "      <th>4</th>\n",
              "      <td>-6.641388</td>\n",
              "      <td>-8.075888</td>\n",
              "      <td>0</td>\n",
              "    </tr>\n",
              "  </tbody>\n",
              "</table>\n",
              "</div>"
            ],
            "text/plain": [
              "   feature_1  feature_2  group\n",
              "0  -9.877554  -3.336145      2\n",
              "1  -7.287210  -8.353986      0\n",
              "2  -6.943061  -7.023744      0\n",
              "3  -7.440167  -8.791959      0\n",
              "4  -6.641388  -8.075888      0"
            ]
          },
          "metadata": {
            "tags": []
          },
          "execution_count": 19
        }
      ]
    },
    {
      "cell_type": "markdown",
      "metadata": {
        "id": "u5Glwd_8ccFL"
      },
      "source": [
        "누락된 값을 가진 데이터 삭제   \n",
        "• 머신러닝 알고리즘은 타깃과 특성 행렬에 있는 누락된 값을 다룰 수 없기 때문에 데이터에 있는 누락된 값을 무시 할 수 없고 전처리 과정에서 처리해주어야 합니다.   \n",
        "• 넘파이를 이용하여 누락된 값이 있는 샘플을 삭제  \n",
        "\n",
        "\n",
        "• 판다스를 사용하여 누락된 값이 있는 샘플을 삭제"
      ]
    },
    {
      "cell_type": "code",
      "metadata": {
        "colab": {
          "base_uri": "https://localhost:8080/",
          "height": 166
        },
        "id": "TTJl1upDcnSH",
        "outputId": "47d115cc-a630-4f42-899a-84d82359771d"
      },
      "source": [
        "import numpy as np\n",
        "features = np.array([[1.1, 11.1],\n",
        "[2.2, 22.2],\n",
        "[3.3, 33.3],\n",
        "[4.4, 44.4],\n",
        "[np.nan, 55]]) # 특성 행렬을 생성\n",
        "features[~np.isnan(features).any(axis=1)] # (~ 연산자를 사용하여) 누락된 값이 없는 샘플만 남김\n",
        "\n",
        "dataframe = pd.DataFrame(features, columns=[\"feature_1\", \"feature_2\"]) # 데이터 로드\n",
        "dataframe.dropna() # 누락된 값이 있는 샘플을 제거"
      ],
      "execution_count": 20,
      "outputs": [
        {
          "output_type": "execute_result",
          "data": {
            "text/html": [
              "<div>\n",
              "<style scoped>\n",
              "    .dataframe tbody tr th:only-of-type {\n",
              "        vertical-align: middle;\n",
              "    }\n",
              "\n",
              "    .dataframe tbody tr th {\n",
              "        vertical-align: top;\n",
              "    }\n",
              "\n",
              "    .dataframe thead th {\n",
              "        text-align: right;\n",
              "    }\n",
              "</style>\n",
              "<table border=\"1\" class=\"dataframe\">\n",
              "  <thead>\n",
              "    <tr style=\"text-align: right;\">\n",
              "      <th></th>\n",
              "      <th>feature_1</th>\n",
              "      <th>feature_2</th>\n",
              "    </tr>\n",
              "  </thead>\n",
              "  <tbody>\n",
              "    <tr>\n",
              "      <th>0</th>\n",
              "      <td>1.1</td>\n",
              "      <td>11.1</td>\n",
              "    </tr>\n",
              "    <tr>\n",
              "      <th>1</th>\n",
              "      <td>2.2</td>\n",
              "      <td>22.2</td>\n",
              "    </tr>\n",
              "    <tr>\n",
              "      <th>2</th>\n",
              "      <td>3.3</td>\n",
              "      <td>33.3</td>\n",
              "    </tr>\n",
              "    <tr>\n",
              "      <th>3</th>\n",
              "      <td>4.4</td>\n",
              "      <td>44.4</td>\n",
              "    </tr>\n",
              "  </tbody>\n",
              "</table>\n",
              "</div>"
            ],
            "text/plain": [
              "   feature_1  feature_2\n",
              "0        1.1       11.1\n",
              "1        2.2       22.2\n",
              "2        3.3       33.3\n",
              "3        4.4       44.4"
            ]
          },
          "metadata": {
            "tags": []
          },
          "execution_count": 20
        }
      ]
    },
    {
      "cell_type": "markdown",
      "metadata": {
        "id": "tCEOA2wrc0sh"
      },
      "source": [
        "누락된 값 채우기  \n",
        "• 데이터의 양이 작으면 k-최근접 이웃(KNN) 알고리즘을 사용해(가장 가까이 있는 k개의 샘플을 사용해) 누락된 값을 예측할 수 있다.  \n",
        "• KNN - 누락된 값에 가장 가까운 샘플을 구하기 위해 누락된 값과 모든 샘플 사이의 거리를 계산하므로 작은 데이터셋에서는 수용할 만하지만 데이터넷의 샘플이 수백만 개라면 문제가 됨"
      ]
    },
    {
      "cell_type": "code",
      "metadata": {
        "colab": {
          "base_uri": "https://localhost:8080/"
        },
        "id": "saXNG-6sc9Hc",
        "outputId": "16fd90f8-25cb-401f-ea81-b61c90b0b1df"
      },
      "source": [
        "import numpy as np\n",
        "from fancyimpute import KNN\n",
        "from sklearn.preprocessing import StandardScaler\n",
        "from sklearn.datasets import make_blobs\n",
        "\n",
        "features, _ = make_blobs(n_samples = 1000, n_features = 2, random_state = 1) # 모의 특성 행렬 생성\n",
        "scaler = StandardScaler() # 특성을 표준화\n",
        "standardized_features = scaler.fit_transform(features)\n",
        "true_value = standardized_features[0,0] # 첫 번째 샘플의 첫 번째 특성을 삭제\n",
        "standardized_features[0,0] = np.nan\n",
        "\n",
        "# 특성 행렬에 있는 누락된 값을 예측\n",
        "features_knn_imputed = KNN(k=5, verbose=0).fit_transform(standardized_features)\n",
        "print(\"실제 값:\", true_value) # 실제 값과 대체된 값을 비교\n",
        "print(\"대체된 값:\", features_knn_imputed[0,0])"
      ],
      "execution_count": 21,
      "outputs": [
        {
          "output_type": "stream",
          "text": [
            "/usr/local/lib/python3.7/dist-packages/sklearn/externals/six.py:31: FutureWarning: The module is deprecated in version 0.21 and will be removed in version 0.23 since we've dropped support for Python 2.7. Please rely on the official version of six (https://pypi.org/project/six/).\n",
            "  \"(https://pypi.org/project/six/).\", FutureWarning)\n"
          ],
          "name": "stderr"
        },
        {
          "output_type": "stream",
          "text": [
            "실제 값: 0.8730186113995938\n",
            "대체된 값: 1.0955332713113226\n"
          ],
          "name": "stdout"
        }
      ]
    },
    {
      "cell_type": "markdown",
      "metadata": {
        "id": "6WxDON-fc_ge"
      },
      "source": [
        "누락된 값 채우기  \n",
        "• 사이킷런의 Imputer 모듈 - 특성의 평균, 중간값, 최빈값으로 누락된 값을 채울 수 있다.  \n",
        "(KNN 보다는 결과가 좋지 않습니다)   \n",
        "• 대용량 데이터셋에서는 누락된 값을 모두 평균값으로 채우는 것을 권장  \n",
        "• SimpleImputer(v0.20) : strategy 매개변수 값 - mean, median, most_frequent, constant"
      ]
    },
    {
      "cell_type": "code",
      "metadata": {
        "colab": {
          "base_uri": "https://localhost:8080/"
        },
        "id": "t1D_ay0DdH1t",
        "outputId": "7c4cff3e-9aa5-4d64-e163-dcaac816000f"
      },
      "source": [
        "from sklearn.impute import SimpleImputer\n",
        "\n",
        "simple_imputer = SimpleImputer()\n",
        "features_simple_imputed = simple_imputer.fit_transform(features)\n",
        "\n",
        "print(\"실제 값 True Value:\", true_value) # 실제 값과 대체된 값을 비교\n",
        "print(\"대체된 값 Imputed Value:\", features_simple_imputed[0,0])"
      ],
      "execution_count": 22,
      "outputs": [
        {
          "output_type": "stream",
          "text": [
            "실제 값 True Value: 0.8730186113995938\n",
            "대체된 값 Imputed Value: -3.058372724614996\n"
          ],
          "name": "stdout"
        }
      ]
    },
    {
      "cell_type": "markdown",
      "metadata": {
        "id": "QfHgRF7od10y"
      },
      "source": [
        "### 범주 데이터 처리\n",
        "\n",
        "Label encoding  \n",
        "• 문자열(범주형)값을 내림차순 정렬 후 0부터 1씩 증가하는 값으로 변환  \n",
        "• 숫자의 차이가 모델에 영향을 주지 않는 트리 계열 모델(의사결정나무, 랜덤포레스트)에 적용한다  \n",
        "• 숫자의 차이가 모델에 영향을 미치는 선형 계열 모델(로지스틱회귀, SVM, 신경망)에는 사용하지 않는다  \n",
        "• sklearn.preprocessing.LabelEncoder  \n",
        "• fit() – 어떻게 변환할 지 학습  \n",
        "• transform() – 문자열을 숫자로 변환  \n",
        "• fit_transform() – 학습과 변환을 한번에 처리  \n",
        "• inverse_transform() – 숫자를 문자열로 변환  \n",
        "• classes_ - 인코딩할 클래스 조회"
      ]
    },
    {
      "cell_type": "code",
      "metadata": {
        "colab": {
          "base_uri": "https://localhost:8080/"
        },
        "id": "sg1pw9A2oQPc",
        "outputId": "d591b5c8-0c55-4fed-f642-bc75bea1e173"
      },
      "source": [
        "import numpy as np\n",
        "from sklearn.preprocessing import LabelEncoder\n",
        "items = ['TV', 'TV', '냉장고', '컴퓨터', '냉장고', '컴퓨터', '에어콘']\n",
        "le = LabelEncoder()\n",
        "le.fit(items)\n",
        "label = le.transform(items)\n",
        "print(label, type(label))\n",
        "print(le.classes_)"
      ],
      "execution_count": 23,
      "outputs": [
        {
          "output_type": "stream",
          "text": [
            "[0 0 1 3 1 3 2] <class 'numpy.ndarray'>\n",
            "['TV' '냉장고' '에어콘' '컴퓨터']\n"
          ],
          "name": "stdout"
        }
      ]
    },
    {
      "cell_type": "markdown",
      "metadata": {
        "id": "oz60H9Dcos4h"
      },
      "source": [
        "실습  adult data에 Label encoding 적용  \n",
        "• 1994년 인구조사 데이터베이스에서 추출한 미국 성인의 소득 데이터셋   \n",
        "• target은 income이며 수입이 $50,000 이하인지 초과인지로 분류   \n",
        "• https://archive.ics.uci.edu/ml/datasets/adult  \n",
        "• 범주형 : workclass, education,education-num,marital-status,occupation,relationship,race, gender, hours-perweek, native-country    \n",
        "• 연속형 : age, fnlwgt, capital-gain, capital-loss"
      ]
    },
    {
      "cell_type": "code",
      "metadata": {
        "colab": {
          "base_uri": "https://localhost:8080/"
        },
        "id": "3OowvTZB9fRD",
        "outputId": "762435bf-a408-47c8-c512-65e0dd0fc125"
      },
      "source": [
        "import numpy as np\n",
        "from sklearn.preprocessing import LabelEncoder\n",
        "from sklearn.tree import DecisionTreeClassifier\n",
        "\n",
        "\n",
        "cols= [ 'age', 'workclass', 'fnlwgt', 'education', 'education-num', 'marital-status', 'occupation', 'relationship', 'race', 'gender' , 'capital-gain', 'capital-loss','hours-per-week', 'native-country', 'income']\n",
        "\n",
        "url = 'https://archive.ics.uci.edu/ml/machine-learning-databases/adult/adult.data'\n",
        "df = pd.read_csv(url, header=None, names = cols, na_values='?')\n",
        "print(df.head())\n",
        "print(df.shape)\n"
      ],
      "execution_count": 27,
      "outputs": [
        {
          "output_type": "stream",
          "text": [
            "   age          workclass  fnlwgt  ... hours-per-week  native-country  income\n",
            "0   39          State-gov   77516  ...             40   United-States   <=50K\n",
            "1   50   Self-emp-not-inc   83311  ...             13   United-States   <=50K\n",
            "2   38            Private  215646  ...             40   United-States   <=50K\n",
            "3   53            Private  234721  ...             40   United-States   <=50K\n",
            "4   28            Private  338409  ...             40            Cuba   <=50K\n",
            "\n",
            "[5 rows x 15 columns]\n",
            "(32561, 15)\n"
          ],
          "name": "stdout"
        }
      ]
    },
    {
      "cell_type": "code",
      "metadata": {
        "id": "hLU4NJGi-lDx"
      },
      "source": [
        "df.shape\n",
        "df = df.dropna() "
      ],
      "execution_count": 28,
      "outputs": []
    },
    {
      "cell_type": "code",
      "metadata": {
        "colab": {
          "base_uri": "https://localhost:8080/"
        },
        "id": "E4Sipmam-XYr",
        "outputId": "e80ddc33-3b5f-4c3e-9cfe-510c172d32d5"
      },
      "source": [
        "encoding_columns = [ 'workclass', 'education',  'marital-status', 'occupation', 'relationship', 'race', 'gender',  'native-country', 'income']\n",
        "not_encoding_columns = [ 'age','fnlwgt', 'education-num',  'capital-gain', 'capital-loss',  'hours-per-week' ]\n",
        "\n",
        "#각 컬럼별로 라벨 인코딩을 처리할 함수\n",
        "#LabelEncoder는 1차원 배열(리스트, ndarray, Series) 단위로 처리한다\n",
        "#인코딩전 원래 값들의 class들을 저장\n",
        "#key:컬럼명, value:classes_\n",
        "enc_classes = { }\n",
        "def encoding_label(x) :   # x: 범주형 타입의 컬럼(Series)\n",
        "    le = LabelEncoder()\n",
        "    le.fit(x)\n",
        "    label = le.transform(x)\n",
        "    enc_classes[x.name] = le.classes_   #x.name 컬럼명\n",
        "    return label\n",
        "\n",
        "d1 = df[encoding_columns].apply(encoding_label)\n",
        "d2 = df[not_encoding_columns]\n",
        "data = d1.join(d2)\n",
        "print(data.head())\n"
      ],
      "execution_count": 30,
      "outputs": [
        {
          "output_type": "stream",
          "text": [
            "   workclass  education  ...  capital-loss  hours-per-week\n",
            "0          7          9  ...             0              40\n",
            "1          6          9  ...             0              13\n",
            "2          4         11  ...             0              40\n",
            "3          4          1  ...             0              40\n",
            "4          4          9  ...             0              40\n",
            "\n",
            "[5 rows x 15 columns]\n"
          ],
          "name": "stdout"
        }
      ]
    },
    {
      "cell_type": "code",
      "metadata": {
        "id": "yjB7XaMZ_TU6"
      },
      "source": [
        "y = data['income']\n",
        "X = data.drop(columns='income')"
      ],
      "execution_count": 33,
      "outputs": []
    },
    {
      "cell_type": "code",
      "metadata": {
        "colab": {
          "base_uri": "https://localhost:8080/"
        },
        "id": "t4-bjxQs_3uO",
        "outputId": "ceb1f6ed-d0bd-4909-de15-899efc434639"
      },
      "source": [
        "from sklearn.model_selection import train_test_split\n",
        "from sklearn.tree import DecisionTreeClassifier\n",
        "from sklearn.metrics import accuracy_score\n",
        "#분할\n",
        "X_train, X_test, y_train, y_test = train_test_split(X, y, test_size=0.3, stratify=y, random_state=1)\n",
        "#stratify는 classification을 다룰때 값을 target으로 지정해주면 각각의 비율(ratio)을 train/validation에 유지해 줍니다\n",
        "#stratify 옵션을 지정해 주지 않고 classification 문제를 다룬다면, 성능의 차이가 많이 날 수 있습니다.\n",
        "#모델 생성\n",
        "tree = DecisionTreeClassifier(max_depth=9)\n",
        "#학습\n",
        "tree.fit(X_train, y_train)\n",
        "#예측-검증\n",
        "pred_train = tree.predict(X_train)\n",
        "pred_test = tree.predict(X_test)\n",
        "acc_train = accuracy_score(y_train, pred_train)\n",
        "acc_test = accuracy_score(y_test, pred_test)\n",
        "\n",
        "print(f'학습: {acc_train}, 테스트: {acc_test}')\n"
      ],
      "execution_count": 34,
      "outputs": [
        {
          "output_type": "stream",
          "text": [
            "학습: 0.8665321165321165, 테스트: 0.8503429214863343\n"
          ],
          "name": "stdout"
        }
      ]
    },
    {
      "cell_type": "markdown",
      "metadata": {
        "id": "5cpFokccA3eO"
      },
      "source": [
        "One-Hot encoding  \n",
        "• N개의 클래스를 N차원의 One-Hot 벡터로 표현되도록 변환  \n",
        "• 고유값들을 피처로 만들고 정답에 해당하는 열은 1로 나머진 0으로 표시한다.  \n",
        "• 숫자의 차이가 모델에 영향을 미치는 선형 계열 모델(로지스틱회귀, SVM, 신경망)에서 범주형 데이터 변환시 라\n",
        "벨 인코딩 보다 원핫 인코딩을 사용한다  \n",
        "• sklearn.preprocessing.OneHotEncoder"
      ]
    },
    {
      "cell_type": "code",
      "metadata": {
        "colab": {
          "base_uri": "https://localhost:8080/",
          "height": 284
        },
        "id": "Bp39HFjEBByq",
        "outputId": "b0d5cd08-a2db-420f-b66c-c49ee4d74953"
      },
      "source": [
        "#판단스를 이용한 특성을 원-핫 인코딩 - pandas.get_dummies(DataFrame[, columns=[변환할 컬럼명]]) 함수\n",
        "\n",
        "import numpy as np\n",
        "import pandas as pd\n",
        "\n",
        "items = np.array(['TV', '냉장고', '컴퓨터', '컴퓨터', '냉장고', '에어콘', '에어콘', '선풍기'])\n",
        "pd.get_dummies(items)"
      ],
      "execution_count": 35,
      "outputs": [
        {
          "output_type": "execute_result",
          "data": {
            "text/html": [
              "<div>\n",
              "<style scoped>\n",
              "    .dataframe tbody tr th:only-of-type {\n",
              "        vertical-align: middle;\n",
              "    }\n",
              "\n",
              "    .dataframe tbody tr th {\n",
              "        vertical-align: top;\n",
              "    }\n",
              "\n",
              "    .dataframe thead th {\n",
              "        text-align: right;\n",
              "    }\n",
              "</style>\n",
              "<table border=\"1\" class=\"dataframe\">\n",
              "  <thead>\n",
              "    <tr style=\"text-align: right;\">\n",
              "      <th></th>\n",
              "      <th>TV</th>\n",
              "      <th>냉장고</th>\n",
              "      <th>선풍기</th>\n",
              "      <th>에어콘</th>\n",
              "      <th>컴퓨터</th>\n",
              "    </tr>\n",
              "  </thead>\n",
              "  <tbody>\n",
              "    <tr>\n",
              "      <th>0</th>\n",
              "      <td>1</td>\n",
              "      <td>0</td>\n",
              "      <td>0</td>\n",
              "      <td>0</td>\n",
              "      <td>0</td>\n",
              "    </tr>\n",
              "    <tr>\n",
              "      <th>1</th>\n",
              "      <td>0</td>\n",
              "      <td>1</td>\n",
              "      <td>0</td>\n",
              "      <td>0</td>\n",
              "      <td>0</td>\n",
              "    </tr>\n",
              "    <tr>\n",
              "      <th>2</th>\n",
              "      <td>0</td>\n",
              "      <td>0</td>\n",
              "      <td>0</td>\n",
              "      <td>0</td>\n",
              "      <td>1</td>\n",
              "    </tr>\n",
              "    <tr>\n",
              "      <th>3</th>\n",
              "      <td>0</td>\n",
              "      <td>0</td>\n",
              "      <td>0</td>\n",
              "      <td>0</td>\n",
              "      <td>1</td>\n",
              "    </tr>\n",
              "    <tr>\n",
              "      <th>4</th>\n",
              "      <td>0</td>\n",
              "      <td>1</td>\n",
              "      <td>0</td>\n",
              "      <td>0</td>\n",
              "      <td>0</td>\n",
              "    </tr>\n",
              "    <tr>\n",
              "      <th>5</th>\n",
              "      <td>0</td>\n",
              "      <td>0</td>\n",
              "      <td>0</td>\n",
              "      <td>1</td>\n",
              "      <td>0</td>\n",
              "    </tr>\n",
              "    <tr>\n",
              "      <th>6</th>\n",
              "      <td>0</td>\n",
              "      <td>0</td>\n",
              "      <td>0</td>\n",
              "      <td>1</td>\n",
              "      <td>0</td>\n",
              "    </tr>\n",
              "    <tr>\n",
              "      <th>7</th>\n",
              "      <td>0</td>\n",
              "      <td>0</td>\n",
              "      <td>1</td>\n",
              "      <td>0</td>\n",
              "      <td>0</td>\n",
              "    </tr>\n",
              "  </tbody>\n",
              "</table>\n",
              "</div>"
            ],
            "text/plain": [
              "   TV  냉장고  선풍기  에어콘  컴퓨터\n",
              "0   1    0    0    0    0\n",
              "1   0    1    0    0    0\n",
              "2   0    0    0    0    1\n",
              "3   0    0    0    0    1\n",
              "4   0    1    0    0    0\n",
              "5   0    0    0    1    0\n",
              "6   0    0    0    1    0\n",
              "7   0    0    1    0    0"
            ]
          },
          "metadata": {
            "tags": []
          },
          "execution_count": 35
        }
      ]
    },
    {
      "cell_type": "code",
      "metadata": {
        "colab": {
          "base_uri": "https://localhost:8080/"
        },
        "id": "L9rk5APMCgqc",
        "outputId": "d7d20970-6f1f-48b9-c72f-1b8b87865c16"
      },
      "source": [
        "d ={ 'item' : items, 'cnt':np.arange(8) }\n",
        "df = pd.DataFrame(d)\n",
        "df.info()\n",
        "\n",
        "items[..., np.newaxis]\n",
        "\n",
        "from sklearn.preprocessing import OneHotEncoder\n",
        "\n",
        "ohe = OneHotEncoder()\n",
        "ohe.fit(items[..., np.newaxis])\n",
        "ohv = ohe.transform(items[..., np.newaxis])\n",
        "print(ohv, type(ohv))\n",
        "ohv.toarray()"
      ],
      "execution_count": 52,
      "outputs": [
        {
          "output_type": "stream",
          "text": [
            "<class 'pandas.core.frame.DataFrame'>\n",
            "RangeIndex: 8 entries, 0 to 7\n",
            "Data columns (total 2 columns):\n",
            " #   Column  Non-Null Count  Dtype \n",
            "---  ------  --------------  ----- \n",
            " 0   item    8 non-null      object\n",
            " 1   cnt     8 non-null      int64 \n",
            "dtypes: int64(1), object(1)\n",
            "memory usage: 256.0+ bytes\n",
            "  (0, 0)\t1.0\n",
            "  (1, 1)\t1.0\n",
            "  (2, 4)\t1.0\n",
            "  (3, 4)\t1.0\n",
            "  (4, 1)\t1.0\n",
            "  (5, 3)\t1.0\n",
            "  (6, 3)\t1.0\n",
            "  (7, 2)\t1.0 <class 'scipy.sparse.csr.csr_matrix'>\n"
          ],
          "name": "stdout"
        },
        {
          "output_type": "execute_result",
          "data": {
            "text/plain": [
              "array([[1., 0., 0., 0., 0.],\n",
              "       [0., 1., 0., 0., 0.],\n",
              "       [0., 0., 0., 0., 1.],\n",
              "       [0., 0., 0., 0., 1.],\n",
              "       [0., 1., 0., 0., 0.],\n",
              "       [0., 0., 0., 1., 0.],\n",
              "       [0., 0., 0., 1., 0.],\n",
              "       [0., 0., 1., 0., 0.]])"
            ]
          },
          "metadata": {
            "tags": []
          },
          "execution_count": 52
        }
      ]
    },
    {
      "cell_type": "code",
      "metadata": {
        "colab": {
          "base_uri": "https://localhost:8080/",
          "height": 284
        },
        "id": "9y6n8E6uCu_z",
        "outputId": "2977478e-93b3-43bf-a983-4184a3de7017"
      },
      "source": [
        "ohe = OneHotEncoder(sparse=False)\n",
        "ohe.fit(items[..., np.newaxis])\n",
        "ohv = ohe.transform(items[..., np.newaxis])\n",
        "ohv, type(ohv)\n",
        "pd.DataFrame(ohv, columns=ohe.get_feature_names())"
      ],
      "execution_count": 51,
      "outputs": [
        {
          "output_type": "execute_result",
          "data": {
            "text/html": [
              "<div>\n",
              "<style scoped>\n",
              "    .dataframe tbody tr th:only-of-type {\n",
              "        vertical-align: middle;\n",
              "    }\n",
              "\n",
              "    .dataframe tbody tr th {\n",
              "        vertical-align: top;\n",
              "    }\n",
              "\n",
              "    .dataframe thead th {\n",
              "        text-align: right;\n",
              "    }\n",
              "</style>\n",
              "<table border=\"1\" class=\"dataframe\">\n",
              "  <thead>\n",
              "    <tr style=\"text-align: right;\">\n",
              "      <th></th>\n",
              "      <th>x0_TV</th>\n",
              "      <th>x0_냉장고</th>\n",
              "      <th>x0_선풍기</th>\n",
              "      <th>x0_에어콘</th>\n",
              "      <th>x0_컴퓨터</th>\n",
              "    </tr>\n",
              "  </thead>\n",
              "  <tbody>\n",
              "    <tr>\n",
              "      <th>0</th>\n",
              "      <td>1.0</td>\n",
              "      <td>0.0</td>\n",
              "      <td>0.0</td>\n",
              "      <td>0.0</td>\n",
              "      <td>0.0</td>\n",
              "    </tr>\n",
              "    <tr>\n",
              "      <th>1</th>\n",
              "      <td>0.0</td>\n",
              "      <td>1.0</td>\n",
              "      <td>0.0</td>\n",
              "      <td>0.0</td>\n",
              "      <td>0.0</td>\n",
              "    </tr>\n",
              "    <tr>\n",
              "      <th>2</th>\n",
              "      <td>0.0</td>\n",
              "      <td>0.0</td>\n",
              "      <td>0.0</td>\n",
              "      <td>0.0</td>\n",
              "      <td>1.0</td>\n",
              "    </tr>\n",
              "    <tr>\n",
              "      <th>3</th>\n",
              "      <td>0.0</td>\n",
              "      <td>0.0</td>\n",
              "      <td>0.0</td>\n",
              "      <td>0.0</td>\n",
              "      <td>1.0</td>\n",
              "    </tr>\n",
              "    <tr>\n",
              "      <th>4</th>\n",
              "      <td>0.0</td>\n",
              "      <td>1.0</td>\n",
              "      <td>0.0</td>\n",
              "      <td>0.0</td>\n",
              "      <td>0.0</td>\n",
              "    </tr>\n",
              "    <tr>\n",
              "      <th>5</th>\n",
              "      <td>0.0</td>\n",
              "      <td>0.0</td>\n",
              "      <td>0.0</td>\n",
              "      <td>1.0</td>\n",
              "      <td>0.0</td>\n",
              "    </tr>\n",
              "    <tr>\n",
              "      <th>6</th>\n",
              "      <td>0.0</td>\n",
              "      <td>0.0</td>\n",
              "      <td>0.0</td>\n",
              "      <td>1.0</td>\n",
              "      <td>0.0</td>\n",
              "    </tr>\n",
              "    <tr>\n",
              "      <th>7</th>\n",
              "      <td>0.0</td>\n",
              "      <td>0.0</td>\n",
              "      <td>1.0</td>\n",
              "      <td>0.0</td>\n",
              "      <td>0.0</td>\n",
              "    </tr>\n",
              "  </tbody>\n",
              "</table>\n",
              "</div>"
            ],
            "text/plain": [
              "   x0_TV  x0_냉장고  x0_선풍기  x0_에어콘  x0_컴퓨터\n",
              "0    1.0     0.0     0.0     0.0     0.0\n",
              "1    0.0     1.0     0.0     0.0     0.0\n",
              "2    0.0     0.0     0.0     0.0     1.0\n",
              "3    0.0     0.0     0.0     0.0     1.0\n",
              "4    0.0     1.0     0.0     0.0     0.0\n",
              "5    0.0     0.0     0.0     1.0     0.0\n",
              "6    0.0     0.0     0.0     1.0     0.0\n",
              "7    0.0     0.0     1.0     0.0     0.0"
            ]
          },
          "metadata": {
            "tags": []
          },
          "execution_count": 51
        }
      ]
    },
    {
      "cell_type": "markdown",
      "metadata": {
        "id": "0SvFE6clE1dK"
      },
      "source": [
        "순서 없는 범주형 특성 인코딩  \n",
        "• 사이킷런의 LabelBinarizer를 사용하여 문자열 타깃 데이터를 원-핫 인코딩  \n",
        "• classes_ 속성에서 클래스를 확인"
      ]
    },
    {
      "cell_type": "code",
      "metadata": {
        "colab": {
          "base_uri": "https://localhost:8080/"
        },
        "id": "q-jPs7bIE5jI",
        "outputId": "2abb7a11-7e0f-4b15-e754-f9d1d12cb95a"
      },
      "source": [
        "import numpy as np\n",
        "from sklearn.preprocessing import LabelBinarizer, MultiLabelBinarizer\n",
        "\n",
        "feature = np.array([[\"Texas\"],\n",
        "[\"California\"],\n",
        "[\"Texas\"],\n",
        "[\"Delaware\"],\n",
        "[\"Texas\"]]) # 특성 데이터 생성\n",
        "\n",
        "one_hot = LabelBinarizer() # 원-핫 인코더 생성\n",
        "print(one_hot.fit_transform(feature)) # 특성을 원-핫 인코딩 변환\n",
        "print(one_hot.classes_) #특성의 클래스를 확인\n",
        "print(one_hot.inverse_transform(one_hot.transform(feature))) #원-핫 인코딩을 되돌립니다."
      ],
      "execution_count": 60,
      "outputs": [
        {
          "output_type": "stream",
          "text": [
            "[[0 0 1]\n",
            " [1 0 0]\n",
            " [0 0 1]\n",
            " [0 1 0]\n",
            " [0 0 1]]\n",
            "['California' 'Delaware' 'Texas']\n",
            "['Texas' 'California' 'Texas' 'Delaware' 'Texas']\n"
          ],
          "name": "stdout"
        }
      ]
    },
    {
      "cell_type": "markdown",
      "metadata": {
        "id": "dYK5PBfsGQa1"
      },
      "source": [
        "문자열 타깃 데이터를 정수 레이블로 변환할 때는 LabelEncoder를 사용"
      ]
    },
    {
      "cell_type": "code",
      "metadata": {
        "colab": {
          "base_uri": "https://localhost:8080/"
        },
        "id": "wj27RaI4GRE4",
        "outputId": "100f5101-18b2-46d8-b42d-e392c3908c18"
      },
      "source": [
        "multiclass_feature = [(\"Texas\", \"Florida\"),\n",
        "(\"California\", \"Alabama\"),\n",
        "(\"Texas\", \"Florida\"),\n",
        "(\"Delware\", \"Florida\"),\n",
        "(\"Texas\", \"Alabama\")] # 다중 클래스 특성 생성\n",
        "\n",
        "one_hot_multiclass = MultiLabelBinarizer() # 다중 클래스 원-핫 인코더 객체 생성\n",
        "print(one_hot_multiclass.fit_transform(multiclass_feature)) # 다중 클래스 특성을 원-핫 인코딩 수행\n",
        "print(one_hot_multiclass.classes_) #특성의 클래스를 확인"
      ],
      "execution_count": 58,
      "outputs": [
        {
          "output_type": "stream",
          "text": [
            "[[0 0 0 1 1]\n",
            " [1 1 0 0 0]\n",
            " [0 0 0 1 1]\n",
            " [0 0 1 1 0]\n",
            " [1 0 0 0 1]]\n",
            "['Alabama' 'California' 'Delware' 'Florida' 'Texas']\n"
          ],
          "name": "stdout"
        }
      ]
    },
    {
      "cell_type": "markdown",
      "metadata": {
        "id": "IjcMw7rBG8z6"
      },
      "source": [
        "• 사이킷런의 OneHotEncoder 클래스 - 정수형 특성을 원-핫 인코딩으로 변환  \n",
        "v0.20부터는 문자열 데이터를 인식  \n",
        "희소 배열을 반환이 기본값이며 sparse=False로 지정하면 밀집 배열을 반환  \n",
        "• categories_속성으로 클래스를 확인할 수 있습니다.  \n",
        "• 입력 특성 배열을 모두 범주형으로 인식하여 변환.  \n",
        "• 특정 열에만 적용하려면 ColumnTransformer와 함께 사용"
      ]
    },
    {
      "cell_type": "code",
      "metadata": {
        "colab": {
          "base_uri": "https://localhost:8080/"
        },
        "id": "YHCXZVHVHEWJ",
        "outputId": "213a480f-8e1e-43b1-e306-fcd341342e8b"
      },
      "source": [
        "from sklearn.preprocessing import OneHotEncoder\n",
        "\n",
        "feature = np.array([[\"Texas\", 1],\n",
        "[\"California\", 1],\n",
        "[\"Texas\", 3],\n",
        "[\"Delaware\", 1],\n",
        "[\"Texas\", 1]]) # 여러 개의 열이 있는 특성 배열 생성\n",
        "\n",
        "one_hot_encoder = OneHotEncoder(sparse=False)\n",
        "print(one_hot_encoder.fit_transform(feature))\n",
        "one_hot_encoder.categories_"
      ],
      "execution_count": 62,
      "outputs": [
        {
          "output_type": "stream",
          "text": [
            "[[0. 0. 1. 1. 0.]\n",
            " [1. 0. 0. 1. 0.]\n",
            " [0. 0. 1. 0. 1.]\n",
            " [0. 1. 0. 1. 0.]\n",
            " [0. 0. 1. 1. 0.]]\n"
          ],
          "name": "stdout"
        },
        {
          "output_type": "execute_result",
          "data": {
            "text/plain": [
              "[array(['California', 'Delaware', 'Texas'], dtype='<U10'),\n",
              " array(['1', '3'], dtype='<U10')]"
            ]
          },
          "metadata": {
            "tags": []
          },
          "execution_count": 62
        }
      ]
    },
    {
      "cell_type": "markdown",
      "metadata": {
        "id": "CItxv90LMAQk"
      },
      "source": [
        "순서 있는 범주형 특성 인코딩  \n",
        "• 순서가 있는 클래스는 순서 개념을 가진 수치값으로 변환해야 합니다.  \n",
        "• 클래스 레이블 문자열을 정수로 매핑하는 딕셔너리를 만들고 이를 필요한 특성에 적용합니다"
      ]
    },
    {
      "cell_type": "code",
      "metadata": {
        "colab": {
          "base_uri": "https://localhost:8080/"
        },
        "id": "RMNmLkPdMFQW",
        "outputId": "1a04f44d-d579-49bc-abdc-cc86c103cd3b"
      },
      "source": [
        "#판다스 데이터프레임의 replace()를 사용하여 문자열 레이블을 수치값으로 변환\n",
        "import pandas as pd\n",
        "\n",
        "dataframe = pd.DataFrame({\"Score\": [\"Low\", \"Low\", \"Medium\", \"Medium\", \"High\"]}) # 특성 데이터 생성\n",
        "scale_mapper = {\"Low\":1,\n",
        "\"Medium\":2,\n",
        "\"High\":3} # 매핑 딕셔너리 생성\n",
        "dataframe[\"Score\"].replace(scale_mapper) # 특성을 정수로 변환\n",
        "\n",
        "dataframe = pd.DataFrame({\"Score\": [\"Low\", \"Low\", \"Medium\", \"Medium\", \"High\", \"Barely More Than Medium\"]})\n",
        "scale_mapper = {\"Low\":1,\n",
        "\"Medium\":2,\n",
        "\"Barely More Than Medium\": 3,\n",
        "\"High\":4} # 매핑 딕셔너리 생성\n",
        "dataframe[\"Score\"].replace(scale_mapper) # 특성을 정수로 변환"
      ],
      "execution_count": 63,
      "outputs": [
        {
          "output_type": "execute_result",
          "data": {
            "text/plain": [
              "0    1\n",
              "1    1\n",
              "2    2\n",
              "3    2\n",
              "4    4\n",
              "5    3\n",
              "Name: Score, dtype: int64"
            ]
          },
          "metadata": {
            "tags": []
          },
          "execution_count": 63
        }
      ]
    },
    {
      "cell_type": "markdown",
      "metadata": {
        "id": "2uT2E5puMYnA"
      },
      "source": [
        "• 사이킷런 v0.20에서 범주형 데이터를 정수로 인코딩하는 OrdinalEncoder 추가  \n",
        "• OrdinalEncoder는 클래스 범주를 순서대로 변환  \n",
        "• 특정 열만 범주형으로 변환하려면 ColumnTransformer와 함께 사용"
      ]
    },
    {
      "cell_type": "code",
      "metadata": {
        "colab": {
          "base_uri": "https://localhost:8080/"
        },
        "id": "5cKnYF_gMYYb",
        "outputId": "24f8e817-80c5-48be-9310-910e8229afe7"
      },
      "source": [
        "import pandas as pd\n",
        "from sklearn.preprocessing import OrdinalEncoder\n",
        "\n",
        "features = np.array(\n",
        "[ [ \"Low\", 10],\n",
        "[\"High\", 50 ],\n",
        "[\"Medium\", 3] ] )\n",
        "\n",
        "ordinal_encoder = OrdinalEncoder()\n",
        "print(ordinal_encoder.fit_transform(features))\n",
        "ordinal_encoder.categories_\n",
        "#값이 하이, 로우, 미디엄순인건 10, 3, 50 에서 1, 3, 5순이기 때문"
      ],
      "execution_count": 65,
      "outputs": [
        {
          "output_type": "stream",
          "text": [
            "[[1. 0.]\n",
            " [0. 2.]\n",
            " [2. 1.]]\n"
          ],
          "name": "stdout"
        },
        {
          "output_type": "execute_result",
          "data": {
            "text/plain": [
              "[array(['High', 'Low', 'Medium'], dtype='<U6'),\n",
              " array(['10', '3', '50'], dtype='<U6')]"
            ]
          },
          "metadata": {
            "tags": []
          },
          "execution_count": 65
        }
      ]
    },
    {
      "cell_type": "markdown",
      "metadata": {
        "id": "BXFhi03HM_vy"
      },
      "source": [
        "특성 딕셔너리를 특성 행렬로 (변환) 인코딩   \n",
        "• DictVectorizer클래스는 0이 아닌 값의 원소만 저장하는 희소 행렬을 반환  \n",
        "• 자연어 처리 분야와 같은 매우 큰 행렬을 다룰 때 메모리 사용량을 최소화해야하기 때문에 유용  \n",
        "• Sparse=False로 지정하면 밀집 벡터를 출력할 수 있습니다  \n",
        "• get_feature_names( ) - 생성된 특성의 이름을 반환"
      ]
    },
    {
      "cell_type": "code",
      "metadata": {
        "colab": {
          "base_uri": "https://localhost:8080/",
          "height": 254
        },
        "id": "Ap1fy4LJMYRH",
        "outputId": "c649af68-fec1-42fa-a7b0-fbf786e0662b"
      },
      "source": [
        "from sklearn.feature_extraction import DictVectorizer\n",
        "data_dict = [{\"Red\": 2, \"Blue\": 4},\n",
        "{\"Red\": 4, \"Blue\": 3},\n",
        "{\"Red\": 1, \"Yellow\": 2},\n",
        "{\"Red\": 2, \"Yellow\": 2}] # 딕셔너리 생성\n",
        "\n",
        "dictvectorizer = DictVectorizer(sparse=False) # DictVectorizer 객체 생성\n",
        "features = dictvectorizer.fit_transform(data_dict) # 딕셔너리를 특성 행렬로 변환\n",
        "print(features) # 특성 행렬을 확인\n",
        "\n",
        "feature_names = dictvectorizer.get_feature_names() # 특성 이름을 얻습니다.\n",
        "print(feature_names) # 특성 이름을 확인\n",
        "\n",
        "import pandas as pd\n",
        "pd.DataFrame(features, columns=feature_names)"
      ],
      "execution_count": 67,
      "outputs": [
        {
          "output_type": "stream",
          "text": [
            "[[4. 2. 0.]\n",
            " [3. 4. 0.]\n",
            " [0. 1. 2.]\n",
            " [0. 2. 2.]]\n",
            "['Blue', 'Red', 'Yellow']\n"
          ],
          "name": "stdout"
        },
        {
          "output_type": "execute_result",
          "data": {
            "text/html": [
              "<div>\n",
              "<style scoped>\n",
              "    .dataframe tbody tr th:only-of-type {\n",
              "        vertical-align: middle;\n",
              "    }\n",
              "\n",
              "    .dataframe tbody tr th {\n",
              "        vertical-align: top;\n",
              "    }\n",
              "\n",
              "    .dataframe thead th {\n",
              "        text-align: right;\n",
              "    }\n",
              "</style>\n",
              "<table border=\"1\" class=\"dataframe\">\n",
              "  <thead>\n",
              "    <tr style=\"text-align: right;\">\n",
              "      <th></th>\n",
              "      <th>Blue</th>\n",
              "      <th>Red</th>\n",
              "      <th>Yellow</th>\n",
              "    </tr>\n",
              "  </thead>\n",
              "  <tbody>\n",
              "    <tr>\n",
              "      <th>0</th>\n",
              "      <td>4.0</td>\n",
              "      <td>2.0</td>\n",
              "      <td>0.0</td>\n",
              "    </tr>\n",
              "    <tr>\n",
              "      <th>1</th>\n",
              "      <td>3.0</td>\n",
              "      <td>4.0</td>\n",
              "      <td>0.0</td>\n",
              "    </tr>\n",
              "    <tr>\n",
              "      <th>2</th>\n",
              "      <td>0.0</td>\n",
              "      <td>1.0</td>\n",
              "      <td>2.0</td>\n",
              "    </tr>\n",
              "    <tr>\n",
              "      <th>3</th>\n",
              "      <td>0.0</td>\n",
              "      <td>2.0</td>\n",
              "      <td>2.0</td>\n",
              "    </tr>\n",
              "  </tbody>\n",
              "</table>\n",
              "</div>"
            ],
            "text/plain": [
              "   Blue  Red  Yellow\n",
              "0   4.0  2.0     0.0\n",
              "1   3.0  4.0     0.0\n",
              "2   0.0  1.0     2.0\n",
              "3   0.0  2.0     2.0"
            ]
          },
          "metadata": {
            "tags": []
          },
          "execution_count": 67
        }
      ]
    },
    {
      "cell_type": "markdown",
      "metadata": {
        "id": "iOdwy5JWOPFt"
      },
      "source": [
        "• 머신러닝 알고리즘은 행렬 형태의 데이터를 입력으로 사용  \n",
        "• 예] 문서 데이터의 경우 각 문서에 등장한 모든 단어의 횟수를 담은 딕셔너리를 사이킷런의 DictVectorizer를 사\n",
        "용하여 행렬 형태의 데이터로 생성"
      ]
    },
    {
      "cell_type": "code",
      "metadata": {
        "colab": {
          "base_uri": "https://localhost:8080/"
        },
        "id": "fG4umPPDOVJq",
        "outputId": "cbf6d908-c3d1-410b-ab79-47dc7c6ac098"
      },
      "source": [
        "from sklearn.feature_extraction import DictVectorizer\n",
        "\n",
        "# 네 개의 문서에 대한 단어 카운트 딕셔너리 데이터\n",
        "doc_1_word_count = {\"Red\": 2, \"Blue\": 4}\n",
        "doc_2_word_count = {\"Red\": 4, \"Blue\": 3}\n",
        "doc_3_word_count = {\"Red\": 1, \"Yellow\": 2}\n",
        "doc_4_word_count = {\"Red\": 2, \"Yellow\": 2}\n",
        "\n",
        "doc_word_counts = [doc_1_word_count,\n",
        "doc_2_word_count,\n",
        "doc_3_word_count,\n",
        "doc_4_word_count] # 리스트로 생성\n",
        "\n",
        "dictvectorizer.fit_transform(doc_word_counts) # 단어 카운트 딕셔너리를 특성 행렬로 변환"
      ],
      "execution_count": 68,
      "outputs": [
        {
          "output_type": "execute_result",
          "data": {
            "text/plain": [
              "array([[4., 2., 0.],\n",
              "       [3., 4., 0.],\n",
              "       [0., 1., 2.],\n",
              "       [0., 2., 2.]])"
            ]
          },
          "metadata": {
            "tags": []
          },
          "execution_count": 68
        }
      ]
    },
    {
      "cell_type": "markdown",
      "metadata": {
        "id": "8zfxQ_wNOnkN"
      },
      "source": [
        "누락된 클래스 값 대체 1   \n",
        "• 머신러닝 분류 알고리즘을 훈련하여 누락된 값을 예측할 수 있다  \n",
        "• (k-최근접 이웃KNN) 분류기를 사용, 이상적인 방법)"
      ]
    },
    {
      "cell_type": "code",
      "metadata": {
        "colab": {
          "base_uri": "https://localhost:8080/"
        },
        "id": "a5MPFW8GOt_F",
        "outputId": "609f6452-30b1-4e00-c2bd-1020826a3913"
      },
      "source": [
        "import numpy as np\n",
        "from sklearn.neighbors import KNeighborsClassifier\n",
        "\n",
        "#X = 학습데이터\n",
        "X = np.array([[0, 2.10, 1.45],\n",
        "[1, 1.18, 1.33],\n",
        "[0, 1.22, 1.27],\n",
        "[1, -0.21, -1.19]]) # 범주형 특성을 가진 특성 행렬 데이터 생성\n",
        "\n",
        "# 범주형 특성에 누락된 값이 있는 특성 행렬로 변환.\n",
        "#X_with_nan = 테스트데이터\n",
        "X_with_nan = np.array([[np.nan, 0.87, 1.31], [np.nan, -0.67, -0.22]])\n",
        "clf = KNeighborsClassifier(3, weights='distance') # KNN 객체 생성\n",
        "trained_model = clf.fit(X[:,1:], X[:,0]) #훈련\n",
        "print(trained_model)\n",
        "\n",
        "imputed_values = trained_model.predict(X_with_nan[:,1:]) # 누락된 값의 클래스를 예측\n",
        "print(imputed_values)\n",
        "\n",
        "# 예측된 클래스와 원본 특성을 열로 합칩니다.\n",
        "X_with_imputed = np.hstack((imputed_values.reshape(-1,1), X_with_nan[:,1:]))\n",
        "print(X_with_imputed)\n",
        "\n",
        "np.vstack((X_with_imputed, X)) # 두 특성 행렬을 연결"
      ],
      "execution_count": 72,
      "outputs": [
        {
          "output_type": "stream",
          "text": [
            "KNeighborsClassifier(algorithm='auto', leaf_size=30, metric='minkowski',\n",
            "                     metric_params=None, n_jobs=None, n_neighbors=3, p=2,\n",
            "                     weights='distance')\n",
            "[0. 1.]\n",
            "[[ 0.    0.87  1.31]\n",
            " [ 1.   -0.67 -0.22]]\n"
          ],
          "name": "stdout"
        },
        {
          "output_type": "execute_result",
          "data": {
            "text/plain": [
              "array([[ 0.  ,  0.87,  1.31],\n",
              "       [ 1.  , -0.67, -0.22],\n",
              "       [ 0.  ,  2.1 ,  1.45],\n",
              "       [ 1.  ,  1.18,  1.33],\n",
              "       [ 0.  ,  1.22,  1.27],\n",
              "       [ 1.  , -0.21, -1.19]])"
            ]
          },
          "metadata": {
            "tags": []
          },
          "execution_count": 72
        }
      ]
    },
    {
      "cell_type": "markdown",
      "metadata": {
        "id": "uIomR2woQKpE"
      },
      "source": [
        "누락된 클래스 값 대체 2  \n",
        "• 누락된 값을 특성에서 가장 자주 등장하는 값으로 채우기"
      ]
    },
    {
      "cell_type": "code",
      "metadata": {
        "colab": {
          "base_uri": "https://localhost:8080/"
        },
        "id": "Tg4ullwUQOcI",
        "outputId": "aa809bf5-2d4c-4393-a20e-16d6e987626e"
      },
      "source": [
        "from sklearn.impute import SimpleImputer\n",
        "\n",
        "# 두 개의 특성 행렬을 합칩니다.\n",
        "X_complete = np.vstack((X_with_nan, X))\n",
        "\n",
        "imputer = SimpleImputer(strategy='most_frequent')\n",
        "imputer.fit_transform(X_complete)"
      ],
      "execution_count": 73,
      "outputs": [
        {
          "output_type": "execute_result",
          "data": {
            "text/plain": [
              "array([[ 0.  ,  0.87,  1.31],\n",
              "       [ 0.  , -0.67, -0.22],\n",
              "       [ 0.  ,  2.1 ,  1.45],\n",
              "       [ 1.  ,  1.18,  1.33],\n",
              "       [ 0.  ,  1.22,  1.27],\n",
              "       [ 1.  , -0.21, -1.19]])"
            ]
          },
          "metadata": {
            "tags": []
          },
          "execution_count": 73
        }
      ]
    },
    {
      "cell_type": "markdown",
      "metadata": {
        "id": "Is8RaiG5QfUw"
      },
      "source": [
        "불균형한 특성 클래스 처리   \n",
        "• 타깃 벡터가 매우 불균형한 클래스로 이루어져 있는 경우 더 많은 데이터를 수집하는 것이 어렵다면 모델 평가 지표를 변경합니다.  \n",
        "• 모델에 내장된 클래스 가중치 매개변수를 사용하거나 다운샘플링이나 업샘플링을 고려합니다.  \n",
        "• RandomForestClassifier는 불균형한 영향을 줄일 수 있도록 클래스에 가중치를 부여할 수 있는 class_weight 매개 변수를 제공합니다.  \n",
        "• class_weight값을 balanced로 지정하여 클래스 빈도에 반비례하게 자동으로 가중치를 만들 수 있습니다."
      ]
    },
    {
      "cell_type": "code",
      "metadata": {
        "colab": {
          "base_uri": "https://localhost:8080/"
        },
        "id": "gFUQXvm0QyB0",
        "outputId": "eceaabfa-4fa5-4ba7-8d08-1d93af35e18a"
      },
      "source": [
        "import numpy as np\n",
        "from sklearn.ensemble import RandomForestClassifier\n",
        "from sklearn.datasets import load_iris\n",
        "\n",
        "iris = load_iris() # 붓꽃 데이터 로드\n",
        "features = iris.data # 특성 행렬\n",
        "target = iris.target # 타깃 벡터\n",
        "features = features[40:,:] # 처음 40개 샘플을 삭제\n",
        "target = target[40:]   #target도 40개 삭제\n",
        "\n",
        "target = np.where((target == 0), 0, 1) # 클래스 0을 음성 클래스로 하는 이진 타깃 벡터 생성\n",
        "print(target) # 불균형한 타깃 벡터를 확인\n",
        "\n",
        "weights = {0: .9, 1: 0.1} # 가중치 생성\n",
        "\n",
        "RandomForestClassifier(class_weight=weights) # 가중치를 부여한 랜덤 포레스트 분류기 객체 생성\n",
        "\n",
        "RandomForestClassifier(class_weight=\"balanced\") # 균형잡힌 클래스 가중치로 랜덤 포레스트 모델을 훈련"
      ],
      "execution_count": 76,
      "outputs": [
        {
          "output_type": "stream",
          "text": [
            "[0 0 0 0 0 0 0 0 0 0 1 1 1 1 1 1 1 1 1 1 1 1 1 1 1 1 1 1 1 1 1 1 1 1 1 1 1\n",
            " 1 1 1 1 1 1 1 1 1 1 1 1 1 1 1 1 1 1 1 1 1 1 1 1 1 1 1 1 1 1 1 1 1 1 1 1 1\n",
            " 1 1 1 1 1 1 1 1 1 1 1 1 1 1 1 1 1 1 1 1 1 1 1 1 1 1 1 1 1 1 1 1 1 1 1 1]\n"
          ],
          "name": "stdout"
        },
        {
          "output_type": "execute_result",
          "data": {
            "text/plain": [
              "RandomForestClassifier(bootstrap=True, ccp_alpha=0.0, class_weight='balanced',\n",
              "                       criterion='gini', max_depth=None, max_features='auto',\n",
              "                       max_leaf_nodes=None, max_samples=None,\n",
              "                       min_impurity_decrease=0.0, min_impurity_split=None,\n",
              "                       min_samples_leaf=1, min_samples_split=2,\n",
              "                       min_weight_fraction_leaf=0.0, n_estimators=100,\n",
              "                       n_jobs=None, oob_score=False, random_state=None,\n",
              "                       verbose=0, warm_start=False)"
            ]
          },
          "metadata": {
            "tags": []
          },
          "execution_count": 76
        }
      ]
    },
    {
      "cell_type": "code",
      "metadata": {
        "colab": {
          "base_uri": "https://localhost:8080/"
        },
        "id": "3I5TWgeURWme",
        "outputId": "261fce7c-9f24-4d8e-b702-ad45dedf27d3"
      },
      "source": [
        "# 각 클래스의 샘플 인덱스를 추출합니다.\n",
        "i_class0 = np.where(target == 0)[0]\n",
        "i_class1 = np.where(target == 1)[0]\n",
        "\n",
        "# 각 클래스의 샘플 개수\n",
        "n_class0 = len(i_class0)\n",
        "n_class1 = len(i_class1)\n",
        "\n",
        "# 클래스 0의 샘플만큼 클래스 1에서 중복을 허용하지 않고 랜덤하게 샘플을 뽑습니다.\n",
        "# from class 1 without replacement\n",
        "i_class1_downsampled = np.random.choice(i_class1, size=n_class0, replace=False)\n",
        "\n",
        "# 클래스 0의 타깃 벡터와 다운샘플링된 클래스 1의 타깃 벡터를 합칩니다.\n",
        "np.hstack((target[i_class0], target[i_class1_downsampled]))\n",
        "# 클래스 0의 특성 행렬과 다운샘플링된 클래스 1의 특성 행렬을 합칩니다.\n",
        "np.vstack((features[i_class0,:], features[i_class1_downsampled,:]))[0:5]"
      ],
      "execution_count": 77,
      "outputs": [
        {
          "output_type": "execute_result",
          "data": {
            "text/plain": [
              "array([[5. , 3.5, 1.3, 0.3],\n",
              "       [4.5, 2.3, 1.3, 0.3],\n",
              "       [4.4, 3.2, 1.3, 0.2],\n",
              "       [5. , 3.5, 1.6, 0.6],\n",
              "       [5.1, 3.8, 1.9, 0.4]])"
            ]
          },
          "metadata": {
            "tags": []
          },
          "execution_count": 77
        }
      ]
    },
    {
      "cell_type": "code",
      "metadata": {
        "colab": {
          "base_uri": "https://localhost:8080/"
        },
        "id": "xjelhzJRRaGm",
        "outputId": "75fbe98e-df76-4426-c88d-d407c9ae687d"
      },
      "source": [
        "# 클래스 1의 샘플 개수만큼 클래스 0에서 중복을 허용하여 랜덤하게 샘플을 선택합니다.\n",
        "i_class0_upsampled = np.random.choice(i_class0, size=n_class1, replace=True)\n",
        "\n",
        "# 클래스 0의 업샘플링된 타깃 벡터와 클래스 1의 타깃 벡터를 합칩니다.\n",
        "np.concatenate((target[i_class0_upsampled], target[i_class1]))\n",
        "\n",
        "# 클래스 0의 업샘플링된 특성 행렬과 클래스 1의 특성 행렬을 합칩니다.\n",
        "np.vstack((features[i_class0_upsampled,:], features[i_class1,:]))[0:5]"
      ],
      "execution_count": 78,
      "outputs": [
        {
          "output_type": "execute_result",
          "data": {
            "text/plain": [
              "array([[5.3, 3.7, 1.5, 0.2],\n",
              "       [4.8, 3. , 1.4, 0.3],\n",
              "       [5. , 3.5, 1.6, 0.6],\n",
              "       [5. , 3.3, 1.4, 0.2],\n",
              "       [5. , 3.5, 1.6, 0.6]])"
            ]
          },
          "metadata": {
            "tags": []
          },
          "execution_count": 78
        }
      ]
    }
  ]
}