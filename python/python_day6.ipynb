{
  "nbformat": 4,
  "nbformat_minor": 0,
  "metadata": {
    "colab": {
      "name": "python_day6.ipynb",
      "provenance": [],
      "authorship_tag": "ABX9TyNfqtOHausyuPzUhMIxJwOA",
      "include_colab_link": true
    },
    "kernelspec": {
      "name": "python3",
      "display_name": "Python 3"
    },
    "language_info": {
      "name": "python"
    }
  },
  "cells": [
    {
      "cell_type": "markdown",
      "metadata": {
        "id": "view-in-github",
        "colab_type": "text"
      },
      "source": [
        "<a href=\"https://colab.research.google.com/github/sera0911/asia-ai-study/blob/main/python_day6.ipynb\" target=\"_parent\"><img src=\"https://colab.research.google.com/assets/colab-badge.svg\" alt=\"Open In Colab\"/></a>"
      ]
    },
    {
      "cell_type": "markdown",
      "metadata": {
        "id": "b22PH72gkcWJ"
      },
      "source": [
        "\n",
        "입금기능    \n",
        "출금기능    \n",
        "__str__()     \n",
        "\n",
        "test실행코드    \n",
        "메뉴출력   \n",
        "입력받고   \n",
        "account객체의 메서드 호출해서 처리..   "
      ]
    },
    {
      "cell_type": "code",
      "metadata": {
        "colab": {
          "base_uri": "https://localhost:8080/"
        },
        "id": "QeA5Xu5d2O_c",
        "outputId": "eecb703b-bf60-4269-cb40-686a48307586"
      },
      "source": [
        "class Account(object) :\n",
        "    def __init__(self, custId, custName, accountNumber, balance) :\n",
        "        self.custId = custId\n",
        "        self.custName = custName\n",
        "        self.accountNumber = accountNumber\n",
        "        self.balance  = balance  #잔액\n",
        "\n",
        "        \n",
        "    def add(self, money):\n",
        "        print(money, \"원을 입금합니다.\")\n",
        "        if money <= 0 :\n",
        "            print(\"금액 오류입니다. :\" , money ,\"원\")\n",
        "        else :\n",
        "            self.balance += money\n",
        "        self.printBalance()\n",
        "\n",
        "    def withDraw(self, money): \n",
        "        print(money, \"원을 출금합니다.\")\n",
        "        if self.balance < money :\n",
        "            print(\"출금불가!! 잔고가 부족합니다.\")\n",
        "        else :\n",
        "            self.balance -=money\n",
        "        self.printBalance()\n",
        "\n",
        "\n",
        "    def  printBalance(self) :\n",
        "        print(\"===================\")\n",
        "        print(\"현재잔액 : \", self.balance)\n",
        "        print(\"===================\")\n",
        "\n",
        "if __name__ == '__main__' :     \n",
        "  menu = \"0\"\n",
        "  account1 = Account(\"CUST01\", \"소지섭\", \"1-22-333\", 100000)   #객체 생성\n",
        "  print(\"===================\")\n",
        "  print(\"고객번호 : \", account1.custId)\n",
        "  print(\"고객명 : \", account1.custName)\n",
        "  print(\"계좌번호 : \", account1.accountNumber)\n",
        "  print(\" 잔액 : \", account1.balance)\n",
        "  print(\"===================\") \n",
        "  while  True :\n",
        "     print(\"[Menu]\")\n",
        "     print(\"1. 입금\")\n",
        "     print(\"2. 출금\")\n",
        "     print(\"9. 종료 \")\n",
        "     1menu = input(\"==> 메뉴선택 :\")\n",
        "     if menu==\"1\" :\n",
        "        money = int( input(\"금액 : \"))\n",
        "        account1.add(money)\n",
        "     elif menu==\"2\" :\n",
        "        money = int( input(\"금액 : \"))\n",
        "        account1.withDraw(money)\n",
        "     elif menu== \"9\" :\n",
        "        print(\"Bye~~~\")\n",
        "        break\n"
      ],
      "execution_count": 38,
      "outputs": [
        {
          "output_type": "stream",
          "text": [
            "===================\n",
            "고객번호 :  CUST01\n",
            "고객명 :  소지섭\n",
            "계좌번호 :  1-22-333\n",
            " 잔액 :  100000\n",
            "===================\n",
            "[Menu]\n",
            "1. 입금\n",
            "2. 출금\n",
            "9. 종료 \n",
            "==> 메뉴선택 :1\n",
            "금액 : 10000\n",
            "10000 원을 입금합니다.\n",
            "===================\n",
            "현재잔액 :  110000\n",
            "===================\n",
            "[Menu]\n",
            "1. 입금\n",
            "2. 출금\n",
            "9. 종료 \n",
            "==> 메뉴선택 :2\n",
            "금액 : 4000\n",
            "4000 원을 출금합니다.\n",
            "===================\n",
            "현재잔액 :  106000\n",
            "===================\n",
            "[Menu]\n",
            "1. 입금\n",
            "2. 출금\n",
            "9. 종료 \n",
            "==> 메뉴선택 :9\n",
            "Bye~~~\n"
          ],
          "name": "stdout"
        }
      ]
    },
    {
      "cell_type": "markdown",
      "metadata": {
        "id": "5nAsS97y3ZGm"
      },
      "source": [
        "프로그램 수행 중 (가벼운) 오류가 발생하고 다시 수행할 때... 시간, 비용(컴퓨팅 자원) 소비됨   \n",
        "(가벼운)오류는 사전에 예방 차원에서 예외 처리 구문과 함께 고드에 정의   \n",
        "\n",
        "print('Start')   \n",
        "try:   \n",
        "  예외 발생 가능성 있는 코드     #1 ex)print(5/0)        \n",
        "  실행코드                       #5 ex)print('run~1')    \n",
        "except:      \n",
        "  예외처리코드                   #2 ex)print('예외 처리')   \n",
        " else:   \n",
        "  수행문장                       #3 ex)print('run~2')     \n",
        "print('End')    \n",
        "\n",
        "1번코드에서 예외발생하면 ==>       \n",
        "1번코드에서 예외발생하지 않으면 ==>"
      ]
    },
    {
      "cell_type": "code",
      "metadata": {
        "colab": {
          "base_uri": "https://localhost:8080/"
        },
        "id": "LcldK06X46P1",
        "outputId": "6314bce2-82f4-4574-d31e-c1e32efb03f1"
      },
      "source": [
        "#예외발생시\n",
        "print('Start')   \n",
        "try:   \n",
        "  print(5/0)      \n",
        "  print('run~1')\n",
        "except:      \n",
        "  print('예외 처리')   \n",
        "else:   \n",
        "  print('run~2')  \n",
        "print('End')"
      ],
      "execution_count": 39,
      "outputs": [
        {
          "output_type": "stream",
          "text": [
            "Start\n",
            "예외 처리\n",
            "End\n"
          ],
          "name": "stdout"
        }
      ]
    },
    {
      "cell_type": "code",
      "metadata": {
        "colab": {
          "base_uri": "https://localhost:8080/"
        },
        "id": "czBukEUM4_ys",
        "outputId": "314508f4-152a-4d8f-a3f6-ad27b2469b45"
      },
      "source": [
        "#예외발생하지 않을 시\n",
        "print('Start')   \n",
        "try:   \n",
        "  print(5/1)      \n",
        "  print('run~1')\n",
        "except:      \n",
        "  print('예외 처리')   \n",
        "else:   \n",
        "  print('run~2')  \n",
        "print('End')"
      ],
      "execution_count": 40,
      "outputs": [
        {
          "output_type": "stream",
          "text": [
            "Start\n",
            "5.0\n",
            "run~1\n",
            "run~2\n",
            "End\n"
          ],
          "name": "stdout"
        }
      ]
    },
    {
      "cell_type": "markdown",
      "metadata": {
        "id": "iYh3YOf55YHF"
      },
      "source": [
        "print('Start')   \n",
        "try:   \n",
        "  예외 발생 가능성 있는 코드     #1 ex)print(5/0) #print(5/1)       \n",
        "  실행코드                       #5 ex)print('run~1')    \n",
        "except:      \n",
        "  예외처리코드                   #2 ex)print('예외 처리')   \n",
        "else:   \n",
        "  수행문장                       #3 ex)print  ('run~2')     \n",
        "finally :   \n",
        "  사원 자원(file, stream, connection)정리   #ex)print('close') \n",
        "print('End') "
      ]
    },
    {
      "cell_type": "code",
      "metadata": {
        "colab": {
          "base_uri": "https://localhost:8080/"
        },
        "id": "qCQ6Esvt5xjd",
        "outputId": "13d2d4ca-1288-4cfc-e437-747d27e351bd"
      },
      "source": [
        "print('Start')   \n",
        "try:   \n",
        "  print(5/0)      \n",
        "  print('run~1')\n",
        "except:      \n",
        "  print('예외 처리')   \n",
        "else:   \n",
        "  print('run~2')  \n",
        "finally:\n",
        "  print('close')\n",
        "print('End')"
      ],
      "execution_count": 41,
      "outputs": [
        {
          "output_type": "stream",
          "text": [
            "Start\n",
            "예외 처리\n",
            "close\n",
            "End\n"
          ],
          "name": "stdout"
        }
      ]
    },
    {
      "cell_type": "code",
      "metadata": {
        "colab": {
          "base_uri": "https://localhost:8080/"
        },
        "id": "zccqIAB655jr",
        "outputId": "b34548e6-c3bf-4d05-d40c-c727767875d9"
      },
      "source": [
        "print('Start')   \n",
        "try:   \n",
        "  print(5/1)      \n",
        "  print('run~1')\n",
        "except:      \n",
        "  print('예외 처리')   \n",
        "else:   \n",
        "  print('run~2')  \n",
        "finally:\n",
        "  print('close')\n",
        "print('End')"
      ],
      "execution_count": 42,
      "outputs": [
        {
          "output_type": "stream",
          "text": [
            "Start\n",
            "5.0\n",
            "run~1\n",
            "run~2\n",
            "close\n",
            "End\n"
          ],
          "name": "stdout"
        }
      ]
    },
    {
      "cell_type": "markdown",
      "metadata": {
        "id": "mG5VjePA6FJh"
      },
      "source": [
        "프로그램 개발하다보면... 의도적으로 예외를 발생시켜 호출한 곳에 문제가 발생했음을 메세지와 함께 객체로 전달하기 위해 raise oooError('메세지') 구문을 사용한다.   \n",
        "\n",
        "특정 조건 일 때 예외를 발생시키려면    \n",
        "assert 예외조건  \n",
        "\n",
        "예외처리에 사용될 사용자 정의 예외클래스를 정의할 수 있다   \n",
        "사용자 정의 예외클래스는 속성 + 생성자 메서드 + 기능을 수행하는 멤버 메서드를 정의 할 수 있다   \n",
        "\n",
        "예외클래스는 명시적으로 Exception 클래스를 상속받는다용자 정의 예외클래스는 속성 + 생성자 메서드 + 기능을 수행하는 멤버 메서드를 정의 할 수 있다   \n",
        "\n",
        "예외클래스는 명시적으로 Exception 클래스를 상속받는다\n",
        "\n"
      ]
    },
    {
      "cell_type": "markdown",
      "metadata": {
        "id": "WmwDB76h-I8C"
      },
      "source": [
        "모듈과 패키지의 이해    \n",
        "모듈의 개념    \n",
        "• 프로그래밍에서의 모듈은 작은 프로그램 조각을 뜻한다. 즉, 하나하나 연결해 어떤 목적을 가진 프로그램을 만드는 작은 프로그램이다.   \n",
        " 각 모듈 역시 저마다 역할이 있고, 서로 다른 모듈과 인터페이스만 연결되면 사용할 수 있다.    \n",
        " • 모듈화된 프로그램을 사용하면, 다른 개발자가 만든 프로그램이나 자신이 만든 프로그램을 매우 쉽게 사용하거나 제공\n",
        "할 수 있다.    \n",
        "\n",
        "API - 지도를 이용한 위치 정보 서비스    \n",
        "ex) 카카오맵 API    \n",
        "\n",
        "• 내장 모듈이라고 하여 파이썬에서 기본적으로 제공하는 모듈 중 대표적으로 random 모듈이 있다.   \n",
        "• 예] random 모듈 : 난수를 쉽게 생성해 주는 모듈이다   \n",
        "\n",
        "• 파이썬의 모듈 경로 탐색 규칙 (import문을 만나면 파이썬은 다음 순서로 모듈 파일을 찾습니다.)   \n",
        "• 1. 파이썬 인터프리터 내장 모듈    \n",
        "• 2. sys.path에 정의되어 있는 디렉토리    \n",
        "• sys 모듈은 내장 모듈이기 때문에 확장자가 py형태인 파일로는 찾을 수 없습니다. C언어로 프로그래밍 되어 파이썬에내장되어 있기 때문입니다.    \n",
        "• sys.builtin_module_names를 출력하면 파이썬 내장된 모듈의 목록을 볼 수 있습니다.    \n",
        "• 파이썬은 sys.path에 정의되어 있는 디렉토리에서 모듈 파일을 탐색하기 시작합니다.    \n",
        "• 1. 파이썬 모듈이 실행되고 있는 현재 디렉토리  \n",
        "• 2. PYTHON PATH 환경변수에 정의되어 있는 디렉토리   \n",
        "• 3. 파이썬과 함께 설치된 기본 라이브러리    \n",
        "\n",
        "\n",
        "• 메인 모듈 : ‘최상위 수준(Top Level)’에서 실행되는 스크립트    \n",
        "• 파이썬에는 내장전역 변수인 __name__이 있는데, 이 변수는 모듈이 최상위 수준으로 실행될 때 ‘__main__’으로 지정됩니다.     \n",
        "• import문을 이용하여 불러오는 모듈은 하위 모듈(Sub Module)이라고 합니다.          \n",
        "\n",
        "\n",
        "\n"
      ]
    },
    {
      "cell_type": "markdown",
      "metadata": {
        "id": "S-su0GsXBxXq"
      },
      "source": [
        "패키지의 개념    \n",
        "• 패키지(packages)는 모듈의 묶음이다. 일종의 디렉터리처럼 하나의 패키지 안에 여러 개의 모듈이 있는데, 이 모듈들이 서로 포함 관계를 가지며 거대한 패키지를 만든다.   \n",
        "• site-packages 는 파이썬의 기본 라이브러리 패키지 외에 추가적인 패키지를 설치하는 디렉토리입니다.    \n",
        "• site-packages 디렉토리에 여러 가지 소프트웨어가 사용할 공통 모듈을 넣어두면 물리적인 경로에 구애받지 않고 모듈에 접근하여 실행할 코드에서 import하여 사용할 수 있습니다.   "
      ]
    },
    {
      "cell_type": "code",
      "metadata": {
        "id": "9B2vkS-pDMH-"
      },
      "source": [
        "#모듈만들기 실습\n",
        "def covert_c_to_f(celcius_value):\n",
        "  return celcius_value * 9.0 /5 + 32"
      ],
      "execution_count": null,
      "outputs": []
    },
    {
      "cell_type": "code",
      "metadata": {
        "colab": {
          "base_uri": "https://localhost:8080/"
        },
        "id": "3LWqAVJ4Dyi9",
        "outputId": "cab34739-14fa-4b8c-ec60-b258f07db96a"
      },
      "source": [
        "import fah_converter\n",
        "\n",
        "print('Enter a celsius value:')\n",
        "celsius = float(input())\n",
        "fahrenheit = fah_converter.covert_c_to_f(celsius)\n",
        "print(\"That`s\", fahrenheit, 'degrees Fahrenheit.')"
      ],
      "execution_count": 44,
      "outputs": [
        {
          "output_type": "stream",
          "text": [
            "Enter a celsius value:\n",
            "5\n",
            "That`s 41.0 degrees Fahrenheit.\n"
          ],
          "name": "stdout"
        }
      ]
    },
    {
      "cell_type": "markdown",
      "metadata": {
        "id": "AW2VEQhGE1Su"
      },
      "source": [
        "네임스페이스    \n",
        "• 네임스페이스는 모듈 호출의 범위를 지정한다.    \n",
        "• 네임스페이스를 만드는 방법 ① : 모듈 이름에 알리아스(alias) 를 생성하여 모듈 안으로 코드를 호출    \n",
        "• ‘모듈명.함수명(또는 클래스명/변수명)’은 해당 모듈 안에 있는 함수, 클래스, 변수를 호출할 수 있다.    \n",
        "• 네임스페이스를 만드는 방법 ② : from 구문을 사용하여 모듈에서 특정 함수 또는 클래스만 호출    \n",
        "• ‘from 모듈명 import 모듈 안에 있는 함수명’을 작성하여 해당 모듈 안에 있는 함수를 가져다 사용할 수 있다. from\n",
        "은 패키지를 호출하고, 해당 패키지 안에 있는 모듈을 호출할 때도 from 키워드를 사용할 수 있다. 패키지와 패키지,\n",
        "패키지와 모듈 간에는 서로 중첩 구조를 가질 수 있고, 이 중첩 구조를 호출하는 것이 바로from의 역할이다.   \n",
        "• 네임스페이스를 만드는 방법 ① : 모듈 안에 있는 모든 함수, 클래스, 변수를 가져오는 별표(*)를 사용하는 것    \n",
        "• ‘from 모듈명 import *’라고 입력하면, 해당 모듈 안에 있는 모든 사용가능한 리소스를 호출한다.     \n"
      ]
    },
    {
      "cell_type": "markdown",
      "metadata": {
        "id": "_5EZIN0sGCXr"
      },
      "source": [
        "내장 모듈의 사용 : random 모듈    \n",
        "• 난수 생성 모듈    \n",
        "• 정수을 생성하는 randint( ) 함수와 임의의 난수를 생성하는 random( ) 함수          \n",
        ".random()  0.0< x < 1.0 사이의 임의의 실수를 반환    \n",
        ".uniform(a, b) 인자로 받은 두 값 사이의 임의의 실수를 반환  \n",
        ".randint(a, b) a< x <b 사이의 임의의 정수     \n",
        ".choice((esp)  입력받은 시퀀스 객체의 임의의 아이템을 반환   \n",
        "randrange([start], stop, [step]) 내장 함수인 range()의 아이템 중에서 임의의 아이템을 반환 \n",
        "\n",
        "\n",
        "\n",
        "\n",
        "\n"
      ]
    },
    {
      "cell_type": "code",
      "metadata": {
        "colab": {
          "base_uri": "https://localhost:8080/"
        },
        "id": "akoEBl5zGGOy",
        "outputId": "46589871-78fd-4941-8f69-033594e66563"
      },
      "source": [
        "import random\n",
        "print(random.randint(0, 100))    #0~100 사이의 정수 난수를 생성\n",
        "\n",
        "print(random.random())           #일반적인 난수 생성\n"
      ],
      "execution_count": 48,
      "outputs": [
        {
          "output_type": "stream",
          "text": [
            "3\n",
            "0.6908985271691525\n"
          ],
          "name": "stdout"
        }
      ]
    },
    {
      "cell_type": "code",
      "metadata": {
        "colab": {
          "base_uri": "https://localhost:8080/"
        },
        "id": "uTM4AplwJg67",
        "outputId": "d80ebb20-1669-4030-ed67-fbfb16f94e00"
      },
      "source": [
        "#임의의 시퀀스 예제\n",
        "l = list(range(10))\n",
        "l    #[0, 1, 2, 3, 4, 5, 6, 7, 8, 9]\n",
        "[random.choice(l) for i in range(3)]\n",
        "random.sample(l, 3)\n",
        "\n",
        "\n",
        "l2 = list(range(10))\n",
        "l2\n",
        "\n",
        "random.shuffle(l2)\n",
        "l2"
      ],
      "execution_count": 55,
      "outputs": [
        {
          "output_type": "execute_result",
          "data": {
            "text/plain": [
              "[7, 3, 6, 2, 1, 8, 9, 5, 0, 4]"
            ]
          },
          "metadata": {
            "tags": []
          },
          "execution_count": 55
        }
      ]
    },
    {
      "cell_type": "markdown",
      "metadata": {
        "id": "fhzkuNurLTnP"
      },
      "source": [
        "내장 모듈의 사용 : time 모듈    \n",
        "• 시간과 관련된 time 모듈 - 시간을 변경하거나 현재 시각을 출력한다.    \n",
        "• 예] 프로그램이 동작하는 현재 시각을 출력할 수 있다.    \n",
        "time.time() 1970년 1월 1일 자정이후로 누적된 초를 실수 단위로 변환   \n",
        "time.sleep(secs) 현재 동작 중인장 모듈의 사용 : time 모듈    \n",
        "• 시간과 관련된 time 모듈 - 시간을 변경하거나 현재 시각을 출력한다.    \n",
        "• 예] 프로그램이 동작하는 현재 시각을 출력할 수 있다.    \n",
        "time.time() 1970년 1월 1일 자정이후로 누적된 초를 실수 단위로 변환   \n",
        "time.sleep(secs) 현재 동작 중인 프로세스를 주어진 초만큼 정지\n",
        "\n",
        "\n",
        "datetime 모듈   \n",
        "컴퓨터에서 시간 표현 방법    \n",
        "• 타임스탬프(Time Stamp)    \n",
        "• UTC(Universal Time Coordinated, 협정세계시)   \n",
        "• 그리니치 평균시   \n",
        "• LST(Local Standard Time, 지방표준시)    \n",
        "• 일광절약 시간제(Daylight Saving Time, DTS)    \n",
        "\n",
        "\n",
        "datetime 모듈 - 기념일과 같은 날짜, 시간 연산을 위하여 사용   \n",
        "• datetime.date - 일반적으로 사용되는 그레고리안 달력(Gregorian Calendar)의 년, 월, 일을 표현    \n",
        "• datetime.time - 시간을 시, 분, 초, 마이크로 초, 시간대(Time zone)로 표현   \n",
        "• datetime.datetime - date 클래스와 time 클래스의 조합으로 구성   \n",
        "• datetime.timedelta - 두 날짜 혹은 시간 사이의 기간을 표현   \n",
        "  \n",
        "\n",
        "\n",
        "내장 모듈의 사용 : urllib 모듈    \n",
        "• 웹과 관련된 urllib 모듈은 웹 주소의 정보를 불러온다.    \n",
        "• urllib의 request 모듈을사용하면 특정 URL의 정보를 불러올 수 있다.    \n",
        "• urllib.request.urlopen( )의 괄호에 특정 웹주소를 입력하면 해당 주소의 HTML 정보를 가져온다.    \n",
        "\n"
      ]
    },
    {
      "cell_type": "markdown",
      "metadata": {
        "id": "n3M6Dy1NRFGJ"
      },
      "source": [
        "패키지 만들기   \n",
        "패키지의 구성    \n",
        "• 패키지는 하나의 대형 프로젝트를 수행하기 위한 모듈의 묶음이다. 모듈은 하나의 파일로 이루어져 있고, 패키지는 파일이 포함된 디렉터리(폴더)로 구성된다.     \n",
        "즉, 여러 개의 .py 파일이 하나의 디렉터리에 들어가 있는 것을 패키지라고 한다.     \n",
        "• 다른 사람이 만든 프로그램을 불러 사용하는 것을 라이브러리(library)라고 하는데, 파이썬에서는 패키지를 하나의 라이브러리로 이해하면 된다.    \n",
        "패키지 = 라이브러리      \n",
        "• 파이썬의 모듈을 구성할 때와 마찬가지로 패키지에도 예약어가 있다. 한 가지 주의할 점은 패키지에서는 파일명 자체가 예약어를 반드시 지켜야만 실행되는 경우가 있다.     \n",
        " 따라서 패키지 내의 몇몇 파일에는 _ _init_ _, _ _main_ _ 등의 키워드 파일명이 사용된다.      "
      ]
    },
    {
      "cell_type": "markdown",
      "metadata": {
        "id": "h9YBx3X9SBCy"
      },
      "source": [
        "모듈을 불러와 코드를 실행하면 roboadvisor 디렉터리 안에는 ‘_ _pycache_ _’라는 디렉터리가 생성되는데, 이는 파이썬의 언어적 특성으로\n",
        "생기는 결과이다.    \n",
        " _ _pycache_ _ 디렉터리에는 해당 프로그램이 작동될 때 사용하기 위한 모듈들을 컴파일하고, 그 결과를 저장한다.   \n",
        "  이렇게 한 번 _ _pycache_ _ 디렉터리가 생성되면 그 시점에서 해당 모듈을 수정해도 결과가 반영되지 않는다.   \n",
        "해당 프로그램 또는 파이썬 셸이 완전히 종료한 후 수정해야 해당 모듈의 결과를 반영할 수 있다.    인터프리터 언어이지만 내부적으로 컴파일도 하고, 효율적으로 사용하기 위한 여러 가지 작업이 있다는 것을 기억하기 바란다."
      ]
    },
    {
      "cell_type": "markdown",
      "metadata": {
        "id": "HADrKMr_SWQo"
      },
      "source": [
        "• 디렉터리별로 _ _init_ _.py 파일을 구성한다. _ _init_ _은 해당 디렉터리가 파이썬의 패키지라고 선언하는 초기화 스크립트이다.    \n",
        "• _ _init_ _.py 파일은 파이썬의 거의 모든 라이브러리에 있다. 예] 대표적인 파이썬 머신러닝 라이브러리인 scikitlearn의 경우 다음과 같이 가장 상위 디렉터리부터 _ _init_ _.py 파일이 있는 것을 확인할 수 있다.     \n",
        "\n",
        "\n",
        "패키지 만들기 실습 : 3단계: 디렉터리별로 __init_ _.py 구성하기\n",
        "• _ _init_ _.py 파일은 패키지 개발자, 설치 시 확인해야 할 내용 등 메타데이터라고 할 수 있는 내용을 담고 있다.     \n",
        "• 가장 중요한 내용은 이 패키지의 구조이다. 일반적으로 _ _init__.py 파일에는 다음과 같이 해당 패키지가 포함된 모듈에 관한 정보가 있다.    \n",
        "\n",
        "• 하위 패키지의 _ _init_ _.py 파일 구성 - analysis 디렉터리의 _ _init__.py 파일은 다음과 같이 각 패키지에 포함된 모듈명을 모두 작성해야 한다.    \n",
        "• 패키지로 표시하기 위해 꼭 해야 하는 작업이며 패키지별로 모두 처리해야 한다. crawling과 database 디렉터리의 __init_ _.py 파일에도 다음과 같은 방식으로 코드를 입력하고 저장한다.    "
      ]
    },
    {
      "cell_type": "markdown",
      "metadata": {
        "id": "XEFbZaeNTAGy"
      },
      "source": [
        "패키지 만들기 실습 : 4단계: _ _main_ _.py 파일 만들기    \n",
        "• 패키지를 한 번에 사용하기 위해 roboadvisor 디렉터리에 _ _main_ _.py 파일을 만든다.    \n",
        "• _ _main_ _.py 파일을 만드는 이유는 패키지 자체를 실행하기 위해서이다.    \n",
        "• 패키지 자체를 실행하기 위해 만들어야 하는 것이 __main_ _.py 파일이다.    \n",
        "• _ _main_ _.py 파일의 구성은 호출해야 하는 여러 모듈을 from과 import문으로 호출한 후, if __name__ == '__main__'구문 아래에 실제 실행 코드를 작성하면 된다."
      ]
    },
    {
      "cell_type": "markdown",
      "metadata": {
        "id": "d7M5t9pHS9D9"
      },
      "source": [
        "_ _init_ _.py 파일을 만들지 않으면 어떤 문제가 발생할까?      \n",
        "• 파이썬 3.6 버전 이상에서는 _ _init_ _.py 파일을 만들지 않아도 큰 문제가 생기지 않는다. 하지만 파이썬 3.3 버전  이하에서는 _ _init_ _.py가 없을 경우 해당 디렉터리를 패키지로 인정하지 않는다.     \n",
        "• 상위 버전의 파이썬을 사용하기 때문에 문제 되지 않을 수도 있지만, 하위 버전의 파이썬을 사용할 수도 있으니 __init_ _.py 파일은 패키지를 만들 때 반드시 생성하도록 한다."
      ]
    },
    {
      "cell_type": "markdown",
      "metadata": {
        "id": "rW0CZV3ztF-O"
      },
      "source": [
        "파일 다루기   \n",
        "파일의 개념    \n",
        "• 파일(file)은 컴퓨터를 실행할 때 가장 기본이 되는 단위이다.    \n",
        "파일의 종류    \n",
        "• 컴퓨터에서 파일의 종류는 다양하지만, 기본적으로 바이너리 파일(binary file )과 텍스트 파일(text file), 두 가지로 분류할 수 있다.   \n",
        "파일 읽기     \n",
        "• 파이썬에서는 텍스트 파일을 다루기 위해 open( ) 함수를 사용한다.    \n",
        "파일 열기 모드 종류    \n",
        "r  읽기모드 : 파일을 읽기만 할 때 사용   \n",
        "w  쓰기모드 : 파일에 내용을 쓸 때 사용   \n",
        "a  추가모드 : 파일의 마지막에 새로운 내용을 추가할 때 사용   \n",
        "파일은 사용하고 나서 무조건 닫아야한다."
      ]
    },
    {
      "cell_type": "code",
      "metadata": {
        "id": "v8t07mEUtuQb"
      },
      "source": [
        "f = open('파일명', '파일 열기 모드')\n",
        "f.close()"
      ],
      "execution_count": null,
      "outputs": []
    },
    {
      "cell_type": "markdown",
      "metadata": {
        "id": "aO-MWTKfuQUV"
      },
      "source": [
        "파일 읽기 : with문과 함께 사용하기    \n",
        "• 하나의 파이썬 프로그램이 하나의 파일을 쓰고 있을 때 사용을 완료하면 반드시 해당 파일을 종료해야 한다.     \n",
        "• with문과 함께 open( ) 함수를 사용할 수 있다. with문은 들여쓰기를 사용해 들여쓰기가 있는 코드에서는 open( ) 함수가 유지되고, 들여쓰기가 종료되면 open( ) 함수도 끝나는 방식이다.   \n",
        "close를 생략 해도 된다. 들여쓰기가 끝나면 알아서 닫아줌     \n",
        "\n",
        "파일 읽기 : 한 줄씩 읽어 리스트형으로 반환하기   \n",
        "• 파일 전체의 텍스트를 문자열로 반환하는 read( ) 함수 대신, readlines( ) 함수를 사용하여 한 줄씩 내용을 읽어 와 문자열 형태로 저장할 수 있다.   "
      ]
    },
    {
      "cell_type": "code",
      "metadata": {
        "colab": {
          "base_uri": "https://localhost:8080/"
        },
        "id": "e2MfsEc_vAeq",
        "outputId": "f7835c83-7de5-4647-a254-2cb7b7e5911f"
      },
      "source": [
        "with open('yesterday.txt', 'r') as my_file:\n",
        "  contents = my_file.read()\n",
        "  print(type(contents), contents)"
      ],
      "execution_count": 60,
      "outputs": [
        {
          "output_type": "stream",
          "text": [
            "<class 'str'> Yesterday all my troubles\n",
            "seemed so far away.\n",
            "Now it looks\n",
            "as though they're here to stay.\n",
            "Oh, I believe in yesterday.\n",
            "\n",
            "Suddenly I'm not half\n",
            "the man I used to be.\n",
            "There's a shadow hanging over me.\n",
            "Oh, yesterday came suddenly.\n",
            "\n",
            "Why she had to go,\n",
            "I don't know,\n",
            "she wouldn't say.\n",
            "I said something wrong,\n",
            "now I long for yesterday.\n",
            "\n",
            "Yesterday love was\n",
            "such an easy game to play.\n",
            "Now I need a place to hide away.\n",
            "Oh, I believe in yesterday.\n",
            "\n",
            "Why she had to go,\n",
            "I don't know,\n",
            "she wouldn't say.\n",
            "I said something wrong,\n",
            "now I long for yesterday.\n",
            "\n",
            "Yesterday love was\n",
            "such an easy game to play.\n",
            "Now I need a place to hide away.\n",
            "Oh, I believe in yesterday.\n",
            "\n",
            "Mm mm mm mm mm mm mm\n",
            "\n"
          ],
          "name": "stdout"
        }
      ]
    },
    {
      "cell_type": "code",
      "metadata": {
        "colab": {
          "base_uri": "https://localhost:8080/"
        },
        "id": "40BblpnluxBj",
        "outputId": "420d3606-21d8-4149-9e6e-ac26d28562d6"
      },
      "source": [
        "with open('yesterday.txt', 'r') as my_file:\n",
        "  content_list = my_file.readlines()   #파일 전체를 리스트로 반환\n",
        "  print(type(content_list))       #자료형확인\n",
        "  print(content_list)   #리스트값 출력"
      ],
      "execution_count": 59,
      "outputs": [
        {
          "output_type": "stream",
          "text": [
            "<class 'list'>\n",
            "['Yesterday all my troubles\\n', 'seemed so far away.\\n', 'Now it looks\\n', \"as though they're here to stay.\\n\", 'Oh, I believe in yesterday.\\n', '\\n', \"Suddenly I'm not half\\n\", 'the man I used to be.\\n', \"There's a shadow hanging over me.\\n\", 'Oh, yesterday came suddenly.\\n', '\\n', 'Why she had to go,\\n', \"I don't know,\\n\", \"she wouldn't say.\\n\", 'I said something wrong,\\n', 'now I long for yesterday.\\n', '\\n', 'Yesterday love was\\n', 'such an easy game to play.\\n', 'Now I need a place to hide away.\\n', 'Oh, I believe in yesterday.\\n', '\\n', 'Why she had to go,\\n', \"I don't know,\\n\", \"she wouldn't say.\\n\", 'I said something wrong,\\n', 'now I long for yesterday.\\n', '\\n', 'Yesterday love was\\n', 'such an easy game to play.\\n', 'Now I need a place to hide away.\\n', 'Oh, I believe in yesterday.\\n', '\\n', 'Mm mm mm mm mm mm mm\\n']\n"
          ],
          "name": "stdout"
        }
      ]
    },
    {
      "cell_type": "markdown",
      "metadata": {
        "id": "1vltjsK9v2qK"
      },
      "source": [
        "파일 읽기 : 실행할 때마다 한 줄씩 읽어 오기    \n",
        "• readline( ) 함수는 실행할 때마다 차례대로 한 줄 씩 읽어오는 함수이다."
      ]
    },
    {
      "cell_type": "code",
      "metadata": {
        "colab": {
          "base_uri": "https://localhost:8080/"
        },
        "id": "R4058Idlv2EN",
        "outputId": "13155f5f-6574-4b1e-dfc4-44b2ebcb7eea"
      },
      "source": [
        "with open('yesterday.txt', 'r') as my_file:\n",
        "  i = 0\n",
        "  while 1:\n",
        "    line = my_file.readline()\n",
        "    if not line:\n",
        "      break\n",
        "    print(str(i)+'=='+ line.replace(\"\\n\",\"\"))  #한 줄씩 값 출력ith open('yesterday.txt', 'r') as my_file:\n",
        "    i = i + 1"
      ],
      "execution_count": 62,
      "outputs": [
        {
          "output_type": "stream",
          "text": [
            "0==Yesterday all my troubles\n",
            "1==seemed so far away.\n",
            "2==Now it looks\n",
            "3==as though they're here to stay.\n",
            "4==Oh, I believe in yesterday.\n",
            "5==\n",
            "6==Suddenly I'm not half\n",
            "7==the man I used to be.\n",
            "8==There's a shadow hanging over me.\n",
            "9==Oh, yesterday came suddenly.\n",
            "10==\n",
            "11==Why she had to go,\n",
            "12==I don't know,\n",
            "13==she wouldn't say.\n",
            "14==I said something wrong,\n",
            "15==now I long for yesterday.\n",
            "16==\n",
            "17==Yesterday love was\n",
            "18==such an easy game to play.\n",
            "19==Now I need a place to hide away.\n",
            "20==Oh, I believe in yesterday.\n",
            "21==\n",
            "22==Why she had to go,\n",
            "23==I don't know,\n",
            "24==she wouldn't say.\n",
            "25==I said something wrong,\n",
            "26==now I long for yesterday.\n",
            "27==\n",
            "28==Yesterday love was\n",
            "29==such an easy game to play.\n",
            "30==Now I need a place to hide away.\n",
            "31==Oh, I believe in yesterday.\n",
            "32==\n",
            "33==Mm mm mm mm mm mm mm\n"
          ],
          "name": "stdout"
        }
      ]
    },
    {
      "cell_type": "markdown",
      "metadata": {
        "id": "8SbRyY-C0N6J"
      },
      "source": [
        "파일 읽기 : 파일 안 글자의 통계 정보 출력하기    \n",
        "• 때로는 파일 안 텍스트의 통계 정보를 읽어 와야 할 때가 있다. 이를 위해 split( ) 함수와 len( ) 함수를 함께 사용하는 것이다.    "
      ]
    },
    {
      "cell_type": "code",
      "metadata": {
        "colab": {
          "base_uri": "https://localhost:8080/"
        },
        "id": "NMSIzhjXwu5-",
        "outputId": "ee260c8a-b2f7-45fc-b226-1d30360482f8"
      },
      "source": [
        "with open('yesterday.txt', 'r') as my_file:\n",
        "  contents = my_file.read()\n",
        "  word_list = contents.split(\" \")    #빈칸 기준으로 단어를 분리 리스트\n",
        "  line_list = contents.split('\\n')   #한 줄씩 분리하여 리스트\n",
        "\n",
        "print('총 글자 수:', len(contents))\n",
        "print(\"총 단어 수\", len(word_list))\n",
        "print('총 줄의 수:', len(line_list))"
      ],
      "execution_count": 63,
      "outputs": [
        {
          "output_type": "stream",
          "text": [
            "총 글자 수: 669\n",
            "총 단어 수 106\n",
            "총 줄의 수: 35\n"
          ],
          "name": "stdout"
        }
      ]
    },
    {
      "cell_type": "markdown",
      "metadata": {
        "id": "t5wGkcRg00iu"
      },
      "source": [
        "파일 쓰기    \n",
        "• 텍스트 파일을 저장하기 위해서는 텍스트 파일을 저장할 때 사용하는 표준을 지정해야 하는데, 이것을 인코딩 (encoding)이라고 한다."
      ]
    },
    {
      "cell_type": "code",
      "metadata": {
        "id": "0ryvTM0F0-BH"
      },
      "source": [
        "f = open(\"count_log.txt\", \"w\", encoding = \"utf8\")\n",
        "for i in range(1, 11):\n",
        "  data = '%d번째 줄이다 \\n'% i\n",
        "  f.write(data)\n",
        "\n",
        "f.close()"
      ],
      "execution_count": 67,
      "outputs": []
    },
    {
      "cell_type": "code",
      "metadata": {
        "id": "pJSILRe14JSf"
      },
      "source": [
        "import os\n",
        "os.mkdir(\"log\")\n",
        "\n",
        "if not os.path.isdir(\"log\"):\n",
        "  os.mkdir('log')"
      ],
      "execution_count": null,
      "outputs": []
    },
    {
      "cell_type": "markdown",
      "metadata": {
        "id": "xZ_sRbBO4KZj"
      },
      "source": [
        "파일 쓰기 : 로그 파일 만들기   \n",
        "• 로그 파일(log file)은 프로그램이 동작하는 동안 여러 가지 중간 기록을 하는 파일이다."
      ]
    },
    {
      "cell_type": "code",
      "metadata": {
        "id": "Sea8wJER4KB7"
      },
      "source": [
        "import os\n",
        "\n",
        "if not os.path.isdir(\"log\"):\n",
        "  os.mkdir(\"log\")\n",
        "\n",
        "if not os.path.exists(\"log/count_log.txt\"):\n",
        "  f = open(\"log/count_lg.txt\", \"w\", encoding = \"utf8\")\n",
        "  f.write(\"기록이 시작된다.\\n\")\n",
        "  f.close()\n",
        "\n"
      ],
      "execution_count": 75,
      "outputs": []
    },
    {
      "cell_type": "markdown",
      "metadata": {
        "id": "Ijl4p_jH4xNo"
      },
      "source": [
        "pickle 모듈    \n",
        "• 파이썬은 pickle 모듈을 제공하여 메모리에 로딩된 객체를 영속화할 수 있도록 지원한다.    \n",
        "• pickle 모듈을 사용하기 위해서는 객체를 저장할 수 있는 파일을 열고 저장하고자 하는 객체를 넘기면(dump)된다.     \n",
        "파일을 생성할 때는 w가 아닌 wb로 열어야 하는데, b는 바이너리(binary)를 뜻하는 약자로, 텍스트 파일이 아닌 바이너리 파일이 저장된 것을 확인할 수 있다.    \n",
        "• dump( ) 함수에서는 저장할 객체, 저장될 파일 객체를 차례대로 인수로 넣으면 해당 객체가 해당 파일에 저장된다.    \n",
        "\n",
        "• 저장된 pickle 파일을 불러오는 프로세스도 저장 프로세스와 같다.    \n",
        "• list.pickle 파일을rb 모드로 읽어 온 후, 해당 파일 객체를 pickle 모듈을 사용하여 load( ) 함수를 불러오면 된다.    "
      ]
    },
    {
      "cell_type": "code",
      "metadata": {
        "id": "rKdMBP8a58TB"
      },
      "source": [
        "import pickle\n",
        "\n",
        "f = open(\"list.pickle\", \"wb\")\n",
        "test = [1, 2, 3, 4, 5]\n",
        "pickle.dump(test, f)\n",
        "f.close()"
      ],
      "execution_count": 76,
      "outputs": []
    },
    {
      "cell_type": "code",
      "metadata": {
        "colab": {
          "base_uri": "https://localhost:8080/"
        },
        "id": "S8XrFcej6Ld1",
        "outputId": "e0093be9-c942-4648-b14d-449d310a8859"
      },
      "source": [
        "f = open(\"list.pickle\", \"rb\")\n",
        "test_pickle = pickle.load(f)\n",
        "print(test_pickle)\n",
        "f.close"
      ],
      "execution_count": 78,
      "outputs": [
        {
          "output_type": "stream",
          "text": [
            "[1, 2, 3, 4, 5]\n"
          ],
          "name": "stdout"
        },
        {
          "output_type": "execute_result",
          "data": {
            "text/plain": [
              "<function BufferedReader.close>"
            ]
          },
          "metadata": {
            "tags": []
          },
          "execution_count": 78
        }
      ]
    },
    {
      "cell_type": "markdown",
      "metadata": {
        "id": "tlZc_Tk97jyh"
      },
      "source": [
        "• pickle 모듈은 단순히 생성된 객체를 저장하는 기능도 있지만, 사용자가 직접 생성한 클래스의 객체도 저장한다.   \n",
        "• 프로그램을 작성하다 보면 매우 복잡한 연산도 따로 저장하여 사용할 때가 있다. 이러한 저장 모듈을 효율적으로 사용하기 pickle 모\n",
        "듈을 사용할 수 있다.   \n",
        "파일은 .pickle이라는 확장자를 가진다   \n",
        "pickle을 이용하면 객체생성 없이 바로 호출해서 사용가능하다"
      ]
    },
    {
      "cell_type": "markdown",
      "metadata": {
        "id": "l_Bwhlv0Lve0"
      },
      "source": [
        "csv 파일 로드, 저장   \n",
        "pandas library의 read_csv() 함수를 사용해서 외부 text 파일, csv 파일을 불러와서 DataFrame으로 저장     \n",
        "csv 파일은 구분자(separator, delimiter) - ',' (comma)    \n",
        "구분자가 콤마(,)가 아닌 다른 기호, 수직 막대기 '|' 인 경우의 text 파일 로드    \n",
        "구분자(separator, delimiter)에 sep='|' 를 추가"
      ]
    },
    {
      "cell_type": "code",
      "metadata": {
        "colab": {
          "base_uri": "https://localhost:8080/"
        },
        "id": "9Qmzo0b_KiSw",
        "outputId": "ebc9a157-6f14-4ca3-a348-c91d14f1e2af"
      },
      "source": [
        "import pandas as pd\n",
        "\n",
        "print(pd.__version__)"
      ],
      "execution_count": 80,
      "outputs": [
        {
          "output_type": "stream",
          "text": [
            "1.1.5\n"
          ],
          "name": "stdout"
        }
      ]
    },
    {
      "cell_type": "code",
      "metadata": {
        "colab": {
          "base_uri": "https://localhost:8080/"
        },
        "id": "pEKM15Y6L95O",
        "outputId": "534669fa-e775-4636-c66a-f253e3abbb57"
      },
      "source": [
        "import pandas as pd\n",
        "csv_test = pd.read_csv('test_csv_file.csv')\n",
        "# DataFrame.shape 을 사용해서 행(row)과 열(column)의 개수 확인\n",
        "csv_test.shape # number of rows, columns\n",
        "# 데이터 확인\n",
        "print(csv_test )"
      ],
      "execution_count": 82,
      "outputs": [
        {
          "output_type": "stream",
          "text": [
            "   ID LAST_NAME  AGE\n",
            "0   1       KIM   30\n",
            "1   2      CHOI   25\n",
            "2   3       LEE   41\n",
            "3   4      PARK   19\n",
            "4   5       LIM   36\n"
          ],
          "name": "stdout"
        }
      ]
    },
    {
      "cell_type": "code",
      "metadata": {
        "colab": {
          "base_uri": "https://localhost:8080/"
        },
        "id": "OBXyi8n4M528",
        "outputId": "3ca83a76-1912-4030-c4a4-ae6cb1004d9f"
      },
      "source": [
        "text_test = pd.read_csv('test_text_file.txt', sep='|')\n",
        "print(text_test)"
      ],
      "execution_count": 85,
      "outputs": [
        {
          "output_type": "stream",
          "text": [
            "  ID,LAST_NAME,AGE\n",
            "0         1,KIM,30\n",
            "1        2,CHOI,25\n",
            "2         3,LEE,41\n",
            "3        4,PARK,19\n",
            "4         5,LIM,36\n"
          ],
          "name": "stdout"
        }
      ]
    },
    {
      "cell_type": "code",
      "metadata": {
        "id": "tyMhM86RQdUH"
      },
      "source": [
        "class banking(object):\n",
        "  def __init__(self, custname, custaccount, total_money):\n",
        "    self.custname = custname\n",
        "    self.custaccount = custaccount\n",
        "    self.total_money = total_money\n",
        "\n",
        "  def main():\n",
        "    def cust1():\n",
        "      customer\n",
        "      addAccount():\n",
        "\n",
        "\n",
        "if __name__ == '__main__' :     \n",
        "  menu = \"0\"\n",
        "  account1 = Account(\"CUST01\", \"소지섭\", \"1-22-333\", 100000)   #객체 생성\n",
        "  print(\"===================\")\n",
        "  print(\"고객번호 : \", account1.custId)\n",
        "  print(\"고객명 : \", account1.custName)\n",
        "  print(\"계좌번호 : \", account1.accountNumber)\n",
        "  print(\" 잔액 : \", account1.balance)\n",
        "  print(\"===================\") \n",
        "  while  True :\n",
        "     print(\"[Menu]\")\n",
        "     print(\"1. 입금\")\n",
        "     print(\"2. 출금\")\n",
        "     print(\"9. 종료 \")\n",
        "     1menu = input(\"==> 메뉴선택 :\")\n",
        "     if menu==\"1\" :\n",
        "        money = int( input(\"금액 : \"))\n",
        "        account1.add(money)\n",
        "     elif menu==\"2\" :\n",
        "        money = int( input(\"금액 : \"))\n",
        "        account1.withDraw(money)\n",
        "     elif menu== \"9\" :\n",
        "        print(\"Bye~~~\")\n",
        "        break\n"
      ],
      "execution_count": null,
      "outputs": []
    },
    {
      "cell_type": "code",
      "metadata": {
        "id": "fEirABBfSEeE"
      },
      "source": [
        "#exercise.class2.BaseBallTest\n",
        "class BaseBall(object):\n",
        "  def __init__(self, outCount, player, ball, strike): \n",
        "    self.outCount = 0\n",
        "    self.player = player\n",
        "    self.ball = ball\n",
        "    self.strike = strike\n",
        "\n",
        "  def player():\n",
        "    static = input()\n",
        "    print(static)\n",
        "\n",
        "  def getStatus():\n",
        "    if outCount == 1:\n",
        "      print(outCount, '아웃', strike, '스트라이크', ball, '볼')\n",
        "\n",
        "\n",
        "  def isStrike():\n",
        "    random.randint(range(2))\n",
        "\n",
        "  def outCount():\n",
        "    return isStrike\n",
        "\n",
        "\n",
        "if __name__ == '__main__' :     \n",
        "  player1 =\n",
        "  print(\"고객번호 : \", account1.custId)\n",
        "  print(\"고객명 : \", account1.custName)\n",
        "  print(\"계좌번호 : \", account1.accountNumber)\n",
        "  print(\" 잔액 : \", account1.balance)\n",
        "\n",
        "  while  True :\n",
        "     print(\"현재 볼 상황\")\n",
        "     if menu==\"1\" :\n",
        "\n",
        "     elif menu==\"2\" :\n",
        "\n",
        "     elif menu== \"9\" :\n",
        "        print()\n",
        "        break\n",
        "  \n",
        "\n",
        "\n"
      ],
      "execution_count": 89,
      "outputs": []
    },
    {
      "cell_type": "code",
      "metadata": {
        "colab": {
          "base_uri": "https://localhost:8080/"
        },
        "id": "OAWwPyMOp27g",
        "outputId": "9d28de0d-3326-461f-dfe3-08c10fec2475"
      },
      "source": [
        "import random\n",
        "\n",
        "class Array(object):\n",
        "  def __init__(self):\n",
        "    self.numbers = [[], [], []]\n",
        "    for row in range(3):\n",
        "      for col in range(4):\n",
        "        self.numbers[row].append(random.randint(1, 12))\n",
        "\n",
        "  def printList(self):\n",
        "    for row in range(len(self.numbers)):\n",
        "      for col in range(len(self.numbers[row])):\n",
        "        print(self.numbers[row][col], sep=' ', end=' ')\n",
        "        print()\n",
        "\n",
        "  def findMatchNumbers(self, compareList):\n",
        "    count = 0\n",
        "    for row in range(len(self.numbers)):\n",
        "      for col in range(len(self.numbers[row])):\n",
        "        if (self.numbers[row][col] == compareList[row][col]):\n",
        "          count += 1\n",
        "          print('일치하는 숫자:[\",row,\"][\",col,\"]=', self.numbers[row][col])\n",
        "\n",
        "    print(\"일치하는 숫자 개수:\", count)\n",
        "\n",
        "if __name__ == '__main__':\n",
        "  source = Array()\n",
        "  target = Array()\n",
        "  print('첫 번째 Array 출력')\n",
        "  source.printList()\n",
        "  print('##두 번째 Array출력')\n",
        "  target.printList()\n",
        "  source.findMatchNumbers(target.numbers)\n",
        "\n",
        "\n",
        "\n",
        "\n"
      ],
      "execution_count": 20,
      "outputs": [
        {
          "output_type": "stream",
          "text": [
            "첫 번째 Array 출력\n",
            "4 \n",
            "5 \n",
            "6 \n",
            "4 \n",
            "5 \n",
            "12 \n",
            "5 \n",
            "11 \n",
            "8 \n",
            "1 \n",
            "6 \n",
            "4 \n",
            "##두 번째 Array출력\n",
            "4 \n",
            "5 \n",
            "11 \n",
            "2 \n",
            "7 \n",
            "8 \n",
            "10 \n",
            "7 \n",
            "1 \n",
            "10 \n",
            "12 \n",
            "7 \n",
            "일치하는 숫자:[\",row,\"][\",col,\"]= 4\n",
            "일치하는 숫자:[\",row,\"][\",col,\"]= 5\n",
            "일치하는 숫자 개수: 2\n"
          ],
          "name": "stdout"
        }
      ]
    }
  ]
}