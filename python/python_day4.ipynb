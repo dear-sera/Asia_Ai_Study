{
  "nbformat": 4,
  "nbformat_minor": 0,
  "metadata": {
    "colab": {
      "name": "python_day4.ipynb",
      "provenance": [],
      "authorship_tag": "ABX9TyPm4WysD2K/P7F8FWEaFDl+",
      "include_colab_link": true
    },
    "kernelspec": {
      "name": "python3",
      "display_name": "Python 3"
    },
    "language_info": {
      "name": "python"
    }
  },
  "cells": [
    {
      "cell_type": "markdown",
      "metadata": {
        "id": "view-in-github",
        "colab_type": "text"
      },
      "source": [
        "<a href=\"https://colab.research.google.com/github/sera0911/asia-ai-study/blob/main/python_day4.ipynb\" target=\"_parent\"><img src=\"https://colab.research.google.com/assets/colab-badge.svg\" alt=\"Open In Colab\"/></a>"
      ]
    },
    {
      "cell_type": "markdown",
      "metadata": {
        "id": "MO_6oZ4x6iJ4"
      },
      "source": [
        "day3 정리   \n",
        "반복문 :\n",
        "while 조건 : #무한루프 True, 조건은 비교연산자와 함께 선언    \n",
        "\n",
        "반복문 탈출 : break\n",
        "반복 수행 중에 특정 회차에서는 반복 수행 안하고 다음 회차로 건너뛸 때 : continue   \n",
        "\n",
        "함수를 선언만 하고 기능 수행이 아직 미정인 경우 또는 여러 조건문을 선언할 때 특정 조건에서는 수행할 action이 없는 경우 : pass   \n",
        "\n",
        "반복문 내부의 반복문 정의 가능  ==> 2차원 구조의 데이터를 행단위, 열단위로 처리 또는 출력 가능   \n",
        "outer 반복문은 행 수와 연관됨   \n",
        "inner 반복문은 열 수와 연관됨됨    \n",
        "\n",
        "변수(객체) = 데이터    \n",
        "변수(객체) = 하나의 데이터(item)를 저장   \n",
        "집합 자료형 : list, tuple, set, dict   \n",
        "\n",
        "\n",
        "리스트\n",
        "리스트 생성 시 : list(), [] 로 생성    \n",
        "저장된 데이터 item에 access(꺼내서 수행) :   \n",
        "list객체[index], index는 0부터 시작됨   \n",
        "list 는 순서를 보장함 : sequence 자료형(저장된 순서대로 꺼내올 수 있는 자료형)   \n",
        "저장된 데이터 item을 변경 할 수 있다.   \n",
        "len(), count(), append(item), insert(index, item), remove(), del, pop(), sort(), sorted(), index(item)    \n",
        "\n",
        "list의 item으로 list를 저장 할 수 있습니다. -> 2차원 구조의 데이터 처리     \n",
        "2차원 리스트 객체의 데이터 item을 처리하려면:    \n",
        "리스트객체[r_index][c_index]\n",
        "\n",
        "\n",
        "tuple\n",
        "tuple 생성 시: tuple(), (item1, item2, ...), item1,  로 생성   \n",
        "tuple은 읽기 전용, 소량의 데이터, 읽기 전용의 데이터를 메모리 절약, 빠른 성능   \n",
        "count(), index() 지원    \n",
        "\n",
        "list와 tuple은 indexing, slicing 지원됨   \n"
      ]
    },
    {
      "cell_type": "markdown",
      "metadata": {
        "id": "jAAxukd2_djy"
      },
      "source": [
        "set  \n",
        "• 세트(set) : 값을 순서 없이 저장하면서 중복을 불허하는 자료형이다.     \n",
        "• 세트는 튜플과 다르게 삭제나 변경이 가능하며, 다양한 집합 연산 (교집합, 합집합) 을 제공한다.    \n",
        "• set 생성 : set() , 중괄호{ }안에 콤마로 구분된 하나 이상의 값   \n",
        "• 딕셔너리에 set()을 사용하면 키만 사용한다.   \n",
        "• 빈 세트형은 반드시 set( )함수로만 가능   \n"
      ]
    },
    {
      "cell_type": "code",
      "metadata": {
        "colab": {
          "base_uri": "https://localhost:8080/"
        },
        "id": "FGb_IMpGBvWG",
        "outputId": "c14ac9d3-8cda-4875-cb38-18681898269f"
      },
      "source": [
        "s = {1, 2, 3}\n",
        "s.add(1)  #값을 중복해서 추가 할 수 없음\n",
        "s"
      ],
      "execution_count": 5,
      "outputs": [
        {
          "output_type": "execute_result",
          "data": {
            "text/plain": [
              "{1, 2, 3}"
            ]
          },
          "metadata": {
            "tags": []
          },
          "execution_count": 5
        }
      ]
    },
    {
      "cell_type": "code",
      "metadata": {
        "colab": {
          "base_uri": "https://localhost:8080/"
        },
        "id": "zUyFMKolCAN3",
        "outputId": "4e9bae6f-e2dc-4398-8968-2b13feed57f1"
      },
      "source": [
        "print( set ({'apple':'red', 'orange':'orange', 'cherry':'red'}) )   #제일 가운데 딕셔너리부터 set 객체를 생성 할 때 key 데이터 item만 set객체의 item으로 생성됨\n",
        "a = { 1, 2, 3 }\n",
        "b = { 3, 4, 5 }\n",
        "print ( a.union( b ) )  #합집합\n",
        "print ( a.intersection( b ) )  #교집합\n",
        "d = [1, 0, 3, 1, 2, 3 ]\n",
        "f = set( d )\n",
        "print( type(f), f )"
      ],
      "execution_count": 6,
      "outputs": [
        {
          "output_type": "stream",
          "text": [
            "{'cherry', 'apple', 'orange'}\n",
            "{1, 2, 3, 4, 5}\n",
            "{3}\n",
            "<class 'set'> {0, 1, 2, 3}\n"
          ],
          "name": "stdout"
        }
      ]
    },
    {
      "cell_type": "markdown",
      "metadata": {
        "id": "P7d8GOcoDDPG"
      },
      "source": [
        "세트    \n",
        "• difference_update : 차집합을 처리하고 기존 set 인스턴스 내부 원소를 갱신   \n",
        "• intersection_update : 교집합을 처리하고 인스턴스 내부를 갱신    \n",
        "• symmetric_difference_update : 대칭 차집합을 처리하고 인스턴스 내부를 갱신      \n",
        "• issubset( )은 두 set을 비교해서 하나의 set이 다른 set의 부분집합인지를 확인    \n",
        "• issuperset( ) 은 두 set을 비교해서 하나의 set이 다른 set의 큰집합인지를 확인    \n",
        "• Frozenset - 원소에 대한 변경이 불가한 set    "
      ]
    },
    {
      "cell_type": "code",
      "metadata": {
        "colab": {
          "base_uri": "https://localhost:8080/"
        },
        "id": "LmU3-40NDxWq",
        "outputId": "e5b72ea1-6a75-4d42-926a-d48476c114a4"
      },
      "source": [
        "a = {1, 2}\n",
        "b = {2, 3}\n",
        "a & b\n",
        "a.intersection(b) #교집합\n",
        "a | b\n",
        "a.union(b) #합집합\n",
        "a - b\n",
        "a.difference(b) #차집합\n",
        "a ^ b\n",
        "a.symmetric_difference(b) #대칭 차집합\n",
        "a <= b\n",
        "a.issubset(b) #첫번째 셋이 두번째 셋의 부분집합?\n",
        "a <= a\n",
        "a < b #첫번째 셋이 두번째 셋의 proper subset(진부분집합)?\n",
        "a < a #두번째 셋에는 첫번째 셋의 모든 멤버를 포함한 그 이상의 멤버가 있어야 함\n",
        "a >= b\n",
        "a.issuperset(b) #첫번째 셋이 두번째 셋의 슈퍼셋?\n",
        "a > b #첫번째 셋이 두번째 셋의 proper superset ?\n",
        "a > a #첫번째 셋에는 두번째 셋의 모든 멤버를 포함한 그 이상의 멤버가 있어야 함"
      ],
      "execution_count": 7,
      "outputs": [
        {
          "output_type": "execute_result",
          "data": {
            "text/plain": [
              "False"
            ]
          },
          "metadata": {
            "tags": []
          },
          "execution_count": 7
        }
      ]
    },
    {
      "cell_type": "markdown",
      "metadata": {
        "id": "rNnflUYgESCi"
      },
      "source": [
        "딕셔너리   \n",
        "딕셔너리의 개념    \n",
        "• 딕셔너리(dictionary) : 전화번호부와 같이 키(key)와 값(value) 형태로 데이터를 저장하는 자료구조이다. (맵구조의 데이터라고도 불림)     \n",
        "• 특정 값을 호출하는 방법 : 해당 값의 키를 대괄호 [ ] 안에 넣어 호출할 수 있다. (인덱스가 아닌 키를 넣어야 한다 [key])         \n",
        "• 딕셔너리의 내용을 얻기 위해서는 items(), keys(), values() 메소드를 사용(키, 값을 모두 반환할때 끝에 s!!!!)     \n",
        "• items() 는 딕셔너리의 모든 키와 값을 튜플로 묶어서 반환    \n",
        "• keys() 는 키, values()는 값만 반환    \n",
        "• key는 정렬 안된 상태이며, 색인으로 value을 선택할 수 없다(인덱스는 불가, 키로만 선택가능)           \n",
        "• key로 검색해서 읽기 위해 유일성을 유지해야 하므로 키를 생성할 때 hash 알고리즘을 통해 유일한 값만 구성해준다.    \n",
        "• key는 변경이 불가능한 자료형들 (int, float, tuple, str, bytes, frozenset)으로만 만들어진다..)         "
      ]
    },
    {
      "cell_type": "code",
      "metadata": {
        "colab": {
          "base_uri": "https://localhost:8080/"
        },
        "id": "RQaZ8aXRJ0qs",
        "outputId": "b0a13459-c6e1-4e52-c65f-d5ce8ab6b759"
      },
      "source": [
        "d = {'a':1, 'b':2}\n",
        "#print(d['c'])   #key Error 발생  c 안 key가 없어서 = {'a':1, 'b':2}\n",
        "print( d.get('c', \"defaults\" ) )\n",
        "print( op.getitem(a, key_check(d, 'c') ) #2번째 줄 get으로 확인할 수 있지만 이렇게 키가 있는지 확인 할 수 있다"
      ],
      "execution_count": 16,
      "outputs": [
        {
          "output_type": "stream",
          "text": [
            "defaults\n"
          ],
          "name": "stdout"
        }
      ]
    },
    {
      "cell_type": "code",
      "metadata": {
        "colab": {
          "base_uri": "https://localhost:8080/"
        },
        "id": "BzzzNzfNF4gA",
        "outputId": "509ac06b-ee2f-4724-9702-0955f94c50a7"
      },
      "source": [
        "color = { 'cherry': 'red' ,'apple':'green', 'banana':'yellow'}\n",
        "\n",
        "for k, v in color.items() :\n",
        "  print(k, v)\n",
        "del color['cherry']\n",
        "print( color )\n",
        "color.clear()\n",
        "print( color )"
      ],
      "execution_count": 13,
      "outputs": [
        {
          "output_type": "stream",
          "text": [
            "cherry red\n",
            "apple green\n",
            "banana yellow\n",
            "{'apple': 'green', 'banana': 'yellow'}\n",
            "{}\n"
          ],
          "name": "stdout"
        }
      ]
    },
    {
      "cell_type": "code",
      "metadata": {
        "colab": {
          "base_uri": "https://localhost:8080/"
        },
        "id": "9wCXpzfjJEVz",
        "outputId": "862c51fd-eac3-48a9-ffd9-c3ba064fffbb"
      },
      "source": [
        "color = { 'cherry': 'red' ,'apple':'green', 'banana':'yellow'}\n",
        "for item in color.items() :\n",
        "  print(item, type(item))\n",
        "ks = color.keys()\n",
        "print(ks, type(ks))\n",
        "\n",
        "vs = color.values()\n",
        "print(vs, type(vs))"
      ],
      "execution_count": 12,
      "outputs": [
        {
          "output_type": "stream",
          "text": [
            "('cherry', 'red') <class 'tuple'>\n",
            "('apple', 'green') <class 'tuple'>\n",
            "('banana', 'yellow') <class 'tuple'>\n",
            "dict_keys(['cherry', 'apple', 'banana']) <class 'dict_keys'>\n",
            "dict_values(['red', 'green', 'yellow']) <class 'dict_values'>\n"
          ],
          "name": "stdout"
        }
      ]
    },
    {
      "cell_type": "code",
      "metadata": {
        "colab": {
          "base_uri": "https://localhost:8080/"
        },
        "id": "hw_CzCljKyRt",
        "outputId": "c08c3d54-af23-4c87-f918-adce3b70eaca"
      },
      "source": [
        "#key 정렬key 정렬\n",
        "import collections\n",
        "d = {2:3, 1:89, 4:5, 2:0}\n",
        "od = collections.OrderedDict(sorted(d.items()))  #딕셔너리 정렬 방식 orderdict라는 클래스 객체로 반환되어 sort로 오름차순 정렬\n",
        "od\n",
        "for k, v in od.items() :\n",
        "  print(k, v)"
      ],
      "execution_count": 18,
      "outputs": [
        {
          "output_type": "stream",
          "text": [
            "1 89\n",
            "2 0\n",
            "4 5\n"
          ],
          "name": "stdout"
        }
      ]
    },
    {
      "cell_type": "markdown",
      "metadata": {
        "id": "bPiONqzJFuFU"
      },
      "source": [
        "• pop(key) : 키를 통해 값을 반환 후 삭제     \n",
        "• popitem() : 키-값의 쌍을 튜플로 반환 후 삭제"
      ]
    },
    {
      "cell_type": "code",
      "metadata": {
        "colab": {
          "base_uri": "https://localhost:8080/"
        },
        "id": "tjVMWBOLL6yU",
        "outputId": "2d99ab7e-3048-4d34-dd62-6a3e3fb27c56"
      },
      "source": [
        "dic= {'a':1, 'b':2, 'c':3}\n",
        "dic.update({'a':4,'d':5})\n",
        "k = ['a', 'b', 'c', 'd']\n",
        "dic1, dic2 = {}, {}\n",
        "dic1 = dic1.fromkeys(k)  #값은 반환이 안되어 none으로 \n",
        "dic2 = dic2.fromkeys(k, 1)\n",
        "print(dic1, type(dic1))\n",
        "print(dic2, type(dic2))\n",
        "dic= {'a':1, 'b':2, 'c':3}\n",
        "dic.pop('b') \n",
        "dic.popitem()"
      ],
      "execution_count": 20,
      "outputs": [
        {
          "output_type": "stream",
          "text": [
            "{'a': None, 'b': None, 'c': None, 'd': None} <class 'dict'>\n",
            "{'a': 1, 'b': 1, 'c': 1, 'd': 1} <class 'dict'>\n"
          ],
          "name": "stdout"
        },
        {
          "output_type": "execute_result",
          "data": {
            "text/plain": [
              "('c', 3)"
            ]
          },
          "metadata": {
            "tags": []
          },
          "execution_count": 20
        }
      ]
    },
    {
      "cell_type": "markdown",
      "metadata": {
        "id": "SnBP3LJEM5aW"
      },
      "source": [
        "• Key에 리스트는 쓸 수 없다    \n",
        "• 튜플은 Key로 사용할 수 있다    \n",
        "• Key로 Value얻기 (get)    \n",
        "• 해당 Key가 있는지 조사 (has_key) or(formkeys)를 써도 됨     \n",
        "• 딕셔너리 복사 : copy()"
      ]
    },
    {
      "cell_type": "markdown",
      "metadata": {
        "id": "iazpNqKyNGPG"
      },
      "source": [
        "collections 모듈   \n",
        "• collections 모듈 : 다양한 자료구조인 리스트, 튜플, 딕셔너리 등을 확장하여 제작된 파이썬의 내장 모듈이다.    \n",
        "• collections 모듈은 deque, OrderedDict, defaultdict, Counter, namedtuple 등을 제공   \n",
        "\n",
        "\"\"\"\n",
        "여태까지는    \n",
        "import 모듈명   \n",
        "모듈명.함수   \n",
        "모듈명.변수   \n",
        "~~   \n",
        "\n",
        "\n",
        "import 모듈명 as 별치\n",
        "별칭.함수   \n",
        "별칭.변수   로 사용했었음\n",
        "~~\n",
        "\"\"\"\n",
        "\n",
        "from 모듈명 import 함수   \n",
        "from 모듈명 import 클래스   \n",
        "from 모듈명 import 상수   \n",
        "\n",
        "deque 모듈   \n",
        "• 스택과 큐를 모두 지원하는 모듈(자료를 빠져나가는 게 자유로움)     \n",
        "• deque 모듈을 사용하기 위해서는 리스트와 비슷한 형식으로 데이터를 저장해야 한다.   \n",
        "모듈 집합 ==> 패키지       \n",
        "from 패키지   \n",
        "improt 모듈    \n",
        "• append( ) 함수를 사용하면 기존 리스트처럼 데이터가 인덱스 번호를 늘리면서 쌓이기 시작한다.   \n",
        "• deque_list.pop()을 작성하면, 오른쪽 요소부터 하나씩 추출된다. 즉, 스택처럼 나중에 넣은 값부터 하나씩 추출할 수 있다   \n",
        "• deque는 appendleft( ) 함수로 새로운 값을 왼쪽부터 입력되게 하여 먼저 들어간 값부터 출력될 수 있도록 할 수 있다.    \n",
        "여태까지는 오른쪽에서 값이 추가가 됐는데, 왼쪽으로 추가 가능하게 하는 것     \n",
        "• deque 모듈의 장점 : deque는 연결 리스트의 특성을 지원한다. 연결 리스트는 데이터를 저장할 때 요소의 값을 한 쪽\n",
        "으로 연결한 후, 요소의 다음 값의 주소값을 저장하여 데이터를 연결하는 기법이다.   \n",
        "연결 리스트 지원이란? 다음 데이터 포인트를 오른쪽으로 지정하는 데 맨 마지막은 다시 처음으로 순환한다는 것   \n",
        "• rotate( )는 기존 deque에 저장된 요소들의 값 인덱스를 바꾸는 기법이다. 연결 리스트는 양쪽 끝의 요소들을 연결할 수 있으므로 원형\n",
        "의 데이터 구조를 가질 수 있다. 이러한 특징을 이용하여 각 요소의 인덱스 번호를 하나씩 옮긴다면, 실제로 요소를 옮기지 않더라도 인\n",
        "덱스 번호를 바꿀 수 있다.    \n",
        "• 기존 데이터에 rotate(2) 함수를 입력하니 3과 4의 값이 두 칸씩 이동하여 0번째, 1번째 인덱스로 옮겨진 것을 확인할 수 있다. 다시\n",
        "rotate(2)를 사용하면, 1과 2가 0번째, 1번째 인덱스로 이동한다.    \n",
        "• deque 모듈은 reversed( ) 함수를 사용하여 기존과 반대로 데이터를 저장할 수 있다.    \n",
        "reversed는 reverse와 다르게 역 정렬해서 새로운 객체로 반환    \n",
        "• deque 모듈은 기존의 리스트에서 지원하는 함수도 지원한다. extend( )나 extendleft( ) 함수를 사용하면, 리스트가 통\n",
        "째로 오른쪽이나 왼쪽으로 추가된다"
      ]
    },
    {
      "cell_type": "markdown",
      "metadata": {
        "id": "Ol07UD3AQf9z"
      },
      "source": [
        "OrderedDict 모듈   \n",
        "• 순서를 가진 딕셔너리 객체이다. 딕셔너리 파일을 저장하면 키는 저장 순서와 상관없이 저장된다.   \n",
        "\n",
        "\n",
        "defaultdict 모듈   \n",
        "• 딕셔너리의 변수를 생성할 때 키에 기본 값을 지정하는 방법이다.    \n",
        "d = defaltdict(lambda : 0)\n",
        "• 키를 생성하지 않고 해당 키의 값을 호출하려고 할 때, 오류가 발생한다. (키가 없을 시 defalutdict 를 쓰면 어떤 키가 들어오더라도 오류를 발생하지 않고,정해진 기본값을 넣어주는 것)    \n",
        "함수1(lambda a : 명령)    \n",
        "람다(lambda) 라는 것은 이름 없는 익명 함수   \n",
        "주로 1회성으로 기능을 수행하는 함수를 정의 할 때 사용되며, 다른 함수에 기능을 전달하고자 할 때    \n",
        "• defaultdict의 초깃값은 리스트 형태로도 설정할 수 있다.     \n",
        "기본값을 리스트로 지정가능, 키의 기본값을 리스트로 저장하게 된다"
      ]
    },
    {
      "cell_type": "markdown",
      "metadata": {
        "id": "mxhuts0cSofD"
      },
      "source": [
        "Counter 모듈     \n",
        "• Counter 모듈은 시퀀스 자료형의 데이터 요소 개수를 딕셔너리 형태로 반환하는 자료구조    \n",
        "• 즉, 리스트나 문자열과 같은 시퀀스 자료형 안의 요소 중 값이 같은 것이 몇 개 있는지 반환해 준다.    \n",
        "• Counter 모듈은 단순히 시퀀스 자료형의 데이터를 세는 역할도 있지만, 딕셔너\n",
        "리 형태나 키워드형태의 매개변수를 사용하여 Counter를 생성할 수 있다.    \n",
        "• 딕셔너리 형태로 Counter 객체를 생성하는 방법이다.    \n",
        "• elements( )함수를 사용하여, 각 요소의 개수만큼 리스트형의 결과를 출력"
      ]
    },
    {
      "cell_type": "code",
      "metadata": {
        "colab": {
          "base_uri": "https://localhost:8080/"
        },
        "id": "36rxwGPwPxtr",
        "outputId": "8cc5d500-8239-46e7-c23c-56220203570a"
      },
      "source": [
        "from collections import Counter\n",
        "\n",
        "text = list('gallahad')\n",
        "c = Counter(text)    #리스트의 문자열의 단어를 카운트 해주는 것 \n",
        "\n",
        "c      # Counter({'a': 3, 'd': 1, 'g': 1, 'h': 1, 'l': 2})\n",
        "c['a']"
      ],
      "execution_count": 25,
      "outputs": [
        {
          "output_type": "execute_result",
          "data": {
            "text/plain": [
              "3"
            ]
          },
          "metadata": {
            "tags": []
          },
          "execution_count": 25
        }
      ]
    },
    {
      "cell_type": "code",
      "metadata": {
        "colab": {
          "base_uri": "https://localhost:8080/"
        },
        "id": "nFaDuwHJMy1h",
        "outputId": "ead1889d-e832-484c-fb84-4df3348a060d"
      },
      "source": [
        "#lab 1 : yesterday.txt 파일을 열고 단어별 개수를 출력하는 코드 구현\n",
        "from collections import Counter\n",
        "\n",
        "f = open(\"/yesterday.txt\", 'r')\n",
        "yesterday_lyric = f.read()\n",
        "f.close()\n",
        "#리스트 comprehension 리스트를 간편하게 생성하는 방식 for문을 먼저 수행해 워드를 받아 .을 제거하여 리스트로 생성\n",
        "lst = [word.strip('.') for word in yesterday_lyric.lower().split()]\n",
        "cnt = Counter(lst)\n",
        "print(cnt)\n"
      ],
      "execution_count": 36,
      "outputs": [
        {
          "output_type": "stream",
          "text": [
            "Counter({'i': 12, 'yesterday': 9, 'to': 8, 'mm': 7, 'now': 5, 'oh,': 4, 'she': 4, 'away': 3, 'believe': 3, 'in': 3, 'a': 3, 'suddenly': 2, 'why': 2, 'had': 2, 'go,': 2, \"don't\": 2, 'know,': 2, \"wouldn't\": 2, 'say': 2, 'said': 2, 'something': 2, 'wrong,': 2, 'long': 2, 'for': 2, 'love': 2, 'was': 2, 'such': 2, 'an': 2, 'easy': 2, 'game': 2, 'play': 2, 'need': 2, 'place': 2, 'hide': 2, 'all': 1, 'my': 1, 'troubles': 1, 'seemed': 1, 'so': 1, 'far': 1, 'it': 1, 'looks': 1, 'as': 1, 'though': 1, \"they're\": 1, 'here': 1, 'stay': 1, \"i'm\": 1, 'not': 1, 'half': 1, 'the': 1, 'man': 1, 'used': 1, 'be': 1, \"there's\": 1, 'shadow': 1, 'hanging': 1, 'over': 1, 'me': 1, 'came': 1})\n"
          ],
          "name": "stdout"
        }
      ]
    },
    {
      "cell_type": "markdown",
      "metadata": {
        "id": "U__7OUYWaHsL"
      },
      "source": [
        "함수    \n",
        " \n",
        "함수 기초 :    \n",
        "필요한 부분을 나누어 작성한 후 합치기 → 가장 일반적이고 많이 사용하는 방법   \n",
        "• 함수(function) : 어떤 일을 수행하는 코드의     덩어리, 또는 코드의 묶음 (어떤 일 = 기능)     \n",
        "                  일련의 코드 블록에 이름을 붙여 정의한 것    \n",
        "                  자주 반복되는 코드 사용이 용이해짐      \n",
        "호출문으로 실행 (키워드)     \n",
        "\n",
        "• 함수의 장점        \n",
        "① 필요할 때마다 호출 가능\n",
        "② 논리적인 단위로 분할 가능    \n",
        "③ 코드의 캡슐화"
      ]
    },
    {
      "cell_type": "markdown",
      "metadata": {
        "id": "_lzhJXDcaxMf"
      },
      "source": [
        "함수의 선언    \n",
        "def 함수 이름(매개변수 #1 .....):   \n",
        "  수행문   \n",
        "  수행문    \n",
        "  return<반환값>    \n",
        "\n",
        "① def : ‘definition’의 줄임말로, 함수를 정의하여 시작한다는 의미이다.   \n",
        "② 함수 이름 : 함수 이름은 개발자가 마음대로 지정할 수 있지만, 파이썬에서의 Naming 규칙   \n",
        "• 소문자로 입력한다.   \n",
        "• 띄어쓰기를 할 경우에는 _ 기호를 사용한다. ex) save_model   \n",
        "• 행위를 기록하므로 동사와 명사를 함께 사용하는 경우가 많다. ex) find_number    \n",
        "• 외부에 공개하는 함수일 경우, 줄임말을 사용하지 않고 짧고 명료한 이름을 정한다.    \n",
        "객체이름은 대문자가 들어가는 건 상관없지만  함수이름은 언더바 뒤에 대문자를 사용해 커넬(낙타)처럼 쓰는 개발자들도 있다    \n",
        "③ 매개변수(parameter) : 함수에서 입력값으로 사용하는 변수를 의미하며, 1개 이상의 값을 적을 수 있다.    \n",
        "\n",
        "\n",
        "함수적 프로그래밍 언어 특성   \n",
        " 함수의 인수로 함수를 전달할 수 있다.   "
      ]
    },
    {
      "cell_type": "code",
      "metadata": {
        "colab": {
          "base_uri": "https://localhost:8080/"
        },
        "id": "UujF_jQOeoWI",
        "outputId": "d71e59d1-acd9-4efb-da81-ce93ad0b857f"
      },
      "source": [
        " def calc(x,y,z):\n",
        "    if z ==\"+\":\n",
        "        return x + y\n",
        "    elif z == '-':\n",
        "        return x-y\n",
        "    elif z =='x':\n",
        "        return x*y\n",
        "    elif z == '/':\n",
        "        return x/y\n",
        "\n",
        "x = 20\n",
        "y = 2\n",
        "print(calc(x, y, '/'))"
      ],
      "execution_count": 38,
      "outputs": [
        {
          "output_type": "stream",
          "text": [
            "10.0\n"
          ],
          "name": "stdout"
        }
      ]
    },
    {
      "cell_type": "markdown",
      "metadata": {
        "id": "1Hjv-DBGby9w"
      },
      "source": [
        "함수 심화 :   \n",
        "값의 의한 호출 call by value   \n",
        "참조호출  call by reference"
      ]
    },
    {
      "cell_type": "code",
      "metadata": {
        "colab": {
          "base_uri": "https://localhost:8080/"
        },
        "id": "yiR9uHCVfTxw",
        "outputId": "896e7d39-b931-4414-dfb5-f369b3550146"
      },
      "source": [
        "#call by value\n",
        "a = 20\n",
        "b = 2\n",
        "def change(x, y):\n",
        "  print(x, y)\n",
        "  temp = x\n",
        "  x =y\n",
        "  y= temp\n",
        "  print(x, y)\n",
        "\n",
        "change(a, b)\n",
        "print(a, b)"
      ],
      "execution_count": 49,
      "outputs": [
        {
          "output_type": "stream",
          "text": [
            "20 2\n",
            "2 20\n",
            "20 2\n"
          ],
          "name": "stdout"
        }
      ]
    },
    {
      "cell_type": "code",
      "metadata": {
        "colab": {
          "base_uri": "https://localhost:8080/"
        },
        "id": "Db0DIURWfvpK",
        "outputId": "db8e8d3e-d518-4497-8ecf-f4602e08266e"
      },
      "source": [
        "#call by reference\n",
        "a = [20]\n",
        "b = [2]\n",
        "def change(x, y):\n",
        "  print(x[0], y[0])\n",
        "  temp = x[0]\n",
        "  x[0] =y[0]\n",
        "  y[0]= temp\n",
        "  print(x[0], y[0])   #이 함수가 끝나면 매개변수들은 사라지지만 함수에서 매개변수가 바뀌며 주소가 바꼈다\n",
        "\n",
        "\n",
        "\n",
        "change(a, b)  \n",
        "print(a, b)"
      ],
      "execution_count": 50,
      "outputs": [
        {
          "output_type": "stream",
          "text": [
            "20 2\n",
            "2 20\n",
            "[2] [20]\n"
          ],
          "name": "stdout"
        }
      ]
    },
    {
      "cell_type": "markdown",
      "metadata": {
        "id": "ZGjy1fbPiM4-"
      },
      "source": [
        "변수의 사용 범위   \n",
        "• 변수의 사용 범위(scoping rule) : 변수가 코드에서 사용되는 범위   \n",
        "• 지역 변수(local variable) : 함수 안에서만 사용   \n",
        "• 전역 변수(global variable) : 프로그램 전체에서 사용   \n",
        "함수 내부에서 함수 밖의 변수가 보임(사용가능함)\n",
        "\n",
        "\n",
        "\n"
      ]
    },
    {
      "cell_type": "code",
      "metadata": {
        "colab": {
          "base_uri": "https://localhost:8080/"
        },
        "id": "1wLoddsfh4L2",
        "outputId": "65523d0d-a668-496d-a149-592205719862"
      },
      "source": [
        "#함수 내부에서 선언된 변수는 함수 밖에서 사용 불가능(sandbox형태-안에서는 밖이 보이지만, 밖에서는 안이 안보임)\n",
        "z = 100  #전역변수(어디에서나 사용 가능)\n",
        "def f1():\n",
        "  l = 5    #내부에 선언 된 변수는 로컬 변수 (들여쓰기한 같은 레벨에서만 사용 가능)\n",
        "  print(z)\n",
        "  print(l)\n",
        "\n",
        "f1()\n",
        "#print(l)  #오류발생  l은 함수 내부에서 선언되었기때문"
      ],
      "execution_count": 53,
      "outputs": [
        {
          "output_type": "stream",
          "text": [
            "100\n",
            "5\n"
          ],
          "name": "stdout"
        }
      ]
    },
    {
      "cell_type": "code",
      "metadata": {
        "colab": {
          "base_uri": "https://localhost:8080/"
        },
        "id": "Ljs4OeJii4Wa",
        "outputId": "8e83ffb6-bfc4-4e09-b033-6d97ebe5a8e1"
      },
      "source": [
        "z = 100\n",
        "def f2():\n",
        "  z = 5   #전역변수와 동일한 이름의 변수를 선언하면?\n",
        "  print(z)  #5 자기 스코프에 가까이 있으니 5를 참조\n",
        "\n",
        "f2()\n",
        "print(z)   #결과가 100 or 5? 100은 전역 변수는 gloval area에 계속 남아있으니 100을 참조 = 100\n",
        "def f2():\n",
        "  z = 5   #전역변수와 동일한 이름의 변수를 선언하면?\n",
        "    print(z)  #5 자기 스코프에 가까이 있으니 5를 참조\n",
        "\n",
        "    f2()\n",
        "    print(z)   #결과가 100 or 5? 100은 전역 변수는 gloval area에 계속 남아있으니 100을 참조  "
      ],
      "execution_count": 54,
      "outputs": [
        {
          "output_type": "stream",
          "text": [
            "5\n",
            "100\n"
          ],
          "name": "stdout"
        }
      ]
    },
    {
      "cell_type": "markdown",
      "metadata": {
        "id": "0VEFeqcemGSw"
      },
      "source": [
        "• 함수 내에서 전역 변수로 선언된 변수를 사용하기 위해서는 global이라는 파이썬에서 제공하는 키워드를 사용해야 한다."
      ]
    },
    {
      "cell_type": "code",
      "metadata": {
        "colab": {
          "base_uri": "https://localhost:8080/"
        },
        "id": "hrz1i-g9mVR9",
        "outputId": "96847263-43a8-4ae0-a8e0-4bd7a9ecf941"
      },
      "source": [
        "def f():\n",
        "  global s   #s변수는 전역변수이다 라고 선언\n",
        "  s = 'l love london!'\n",
        "  print(s)\n",
        "\n",
        "s ='l love paris'\n",
        "f()\n",
        "print(s)"
      ],
      "execution_count": 56,
      "outputs": [
        {
          "output_type": "stream",
          "text": [
            "l love london!\n",
            "l love london!\n"
          ],
          "name": "stdout"
        }
      ]
    },
    {
      "cell_type": "markdown",
      "metadata": {
        "id": "uqWo_S3am8Xv"
      },
      "source": [
        "재귀 함수     \n",
        "• 재귀 함수(recursive function) : 함수가 자기 자신을 다시 부르는 함수이다.     \n",
        "n! = n&(n-1) ....*1\n",
        "1! =1 , 2!= 2 3!=6, 4!=24, 5!=120    \n",
        "팩토리얼(factorial) 함수이다.    \n",
        "‘n!’로 표시하면 n! = n × (n - 1)!로 선언할 수 있다. 자신의 숫자에서 1씩 빼면서 곱하는 형식이다.    \n",
        "• factorial( ) 함수는 n의 변수를 입력 매개변수로 받은 후 n == 1이 아닐 때까지 입력된 n과 n에서 1을 뺀 값을 입력값\n",
        "으로 하여 자신의 함수인 factorial( )로 다시 호출한다.    "
      ]
    },
    {
      "cell_type": "code",
      "metadata": {
        "colab": {
          "base_uri": "https://localhost:8080/"
        },
        "id": "Oyo3hE2impkn",
        "outputId": "83e78de3-7d56-427e-ed19-6ad696e727a5"
      },
      "source": [
        "def factorial(n):\n",
        "  if n == 1:   #이게 없으면 무한루프됨 종료점이 반드시 있어야 함ef factorial(n):\n",
        "    return 1\n",
        "  else:\n",
        "    return n * factorial(n-1)    #함수 내에서 자기 자신을 다시 불러서 5, 4, 3, 2이렇게 되는 것 다 반환 후 1은 그냥 1로 반환되니까 함수는 끝나는 것\n",
        "\n",
        "print(factorial(int(input('Input Number for Factorial Calculation:'))))"
      ],
      "execution_count": 60,
      "outputs": [
        {
          "output_type": "stream",
          "text": [
            "Input Number for Factorial Calculation:6\n",
            "720\n"
          ],
          "name": "stdout"
        }
      ]
    },
    {
      "cell_type": "markdown",
      "metadata": {
        "id": "dg8LRJ2yoiVI"
      },
      "source": [
        "함수의 인수   \n",
        "• 파이썬에서 인수를 사용하는 방법   \n",
        "키워드 인수   \n",
        "디폴트 인수   \n",
        "가변 인수   \n",
        "키워드 가변 인사"
      ]
    },
    {
      "cell_type": "markdown",
      "metadata": {
        "id": "KDXgdcLbox9a"
      },
      "source": [
        "키워드 인수    \n",
        "• 키워드 인수(keyword arguments) : 함수에 입력되는 매개변수의 변수명을 사용하여 함수의 인수를 지정하는 방법     \n",
        "함수에 선언된 변수의 값을 넣을 때 순서와 상관없이 변수에 값을 넣고싶다면 매개변수 명을 적어 입력하는 것"
      ]
    },
    {
      "cell_type": "markdown",
      "metadata": {
        "id": "u2PqO8NjpqWh"
      },
      "source": [
        "디폴트 인수     \n",
        "• 디폴트 인수(default arguments) : 매개변수에 기본값을 지정하여 사용하고, 아무런 값도 인수로 넘기지 않으면 지정\n",
        "된 기본값을 사용하는 방식   \n",
        "함수 호출할 때 값을 입력 안할 시에 정해진 기본값을 사용하는 것(해도 오류가 안나니 값을 생략해도 된다는 뜻)"
      ]
    },
    {
      "cell_type": "markdown",
      "metadata": {
        "id": "mr44AT-6pt2I"
      },
      "source": [
        "가변 인수   \n",
        "• 함수의 매개변수 개수가 정해지지 않고 진행해야 하는 경우, 사용하는 것이 가변 인수(variable-length arguments)\n",
        "이다.   \n",
        "• 가변 인수는 * (asterisk라고 부름)로 표현할 수 있는데, *는 파이썬에서 기본적으로 곱셈 또는 제곱 연산 외에도 변수\n",
        "를 묶어 주는 가변 인수를 만든다   \n",
        "def asterisk_test(a, b, *args)  정수 2개는 무조건 넣어야 함    \n",
        "• 입력된 값은 튜플 자료형이 아닌 딕셔너리 자료형(dictionary type)으로 사용할 수 있다.    \n",
        "• 키워드 가변 인수는 반드시 모든 매개변수의 맨 마지막, 즉 가변 인수 다음에 선언되어야 한다.    \n",
        "키워드 가변 인수    \n",
        "• 키워드 가변 인수는 *를 반드시 2개를 붙여야 한다.   \n",
        "• 딕셔너리 자료형 변수에 *를 2개 붙이면, 개별 변수로 풀려 함수에 들어갈 수 있다.   \n",
        "\n",
        "\n",
        "함수 선언 시 선언되는 순서는 ?:\n",
        "def 함수 (필수인수, default인수, 가변인수, 키워드 가변인수)     \n",
        "순서대로"
      ]
    },
    {
      "cell_type": "code",
      "metadata": {
        "colab": {
          "base_uri": "https://localhost:8080/"
        },
        "id": "Cg24trFnqlv8",
        "outputId": "36f40a67-7440-4e64-c714-85d65f80172a"
      },
      "source": [
        "def hap(a,b, *args):\n",
        "  total = a + b\n",
        "  print(type(args))\n",
        "  for arg in args:\n",
        "    total += arg\n",
        "  return total\n",
        "\n",
        "print(hap(1, 2))\n",
        "print(hap(1, 2, 3))\n",
        "print(hap(1, 2, 3, 4, 5, 6, 7))"
      ],
      "execution_count": 62,
      "outputs": [
        {
          "output_type": "stream",
          "text": [
            "<class 'tuple'>\n",
            "3\n",
            "<class 'tuple'>\n",
            "6\n",
            "<class 'tuple'>\n",
            "28\n"
          ],
          "name": "stdout"
        }
      ]
    },
    {
      "cell_type": "markdown",
      "metadata": {
        "id": "AiLnmaq3svOD"
      },
      "source": [
        "docstring   \n",
        "• 함수 선언문과 본체 사이에 작성하는 문자열    \n",
        "• 함수의 사용법, 인수의 의미, 주의사항 등 설명 작성    \n",
        "• 실행에는 영향 없음    \n",
        "\"\"\" ~~~~ \"\"\" 주석을 함수 내부에 넣어서 설명하는 것"
      ]
    },
    {
      "cell_type": "markdown",
      "metadata": {
        "id": "GcVHi4Uss-4A"
      },
      "source": [
        "좋은 코드를 작성하는 방법   \n",
        "좋은 코드의 의미    \n",
        "• 프로그래밍은 팀플레이(team play)이다. 좋은 프로그래밍을 하는 규칙이 있어야 한다.    \n",
        "• 가독성 좋은 코드를 작성하기 위해서는 여러 가지가 필요하지만, 일단 여러 사람의 이해를 돕기 위한 규칙이 필요하다.    \n",
        "프로그래밍에서는 이 규칙을 일반적으로 코딩 규칙(coding convention)이라고 한다.    \n",
        "\n",
        "코딩 규칙    \n",
        "• 들여쓰기는 4 스페이스    \n",
        "• 한 줄은 최대 79자까지    \n",
        "• 불필요한 공백은 피함    \n",
        "• PEP 8 (Python Enhance Proposal 8) : 파이썬 개발자들이 앞으로 필요한 파이썬의 기능이나 여러 가지 부수적\n",
        "인 것을 정의한 문서이다.   \n",
        "\n",
        "PEP 8의 코딩 규칙    \n",
        "• = 연산자는 1칸 이상 띄우지 않는다   \n",
        "• 주석은 항상 갱신하고, 불필요한 주석은 삭제한다.   \n",
        "• 소문자 l, 대문자 O, 대문자 I는 사용을 금한다.(변수 구분이 어려움)     \n",
        "함수명은 소문자로 구성하고, 필요하면 밑줄로 나눈다.   "
      ]
    },
    {
      "cell_type": "markdown",
      "metadata": {
        "id": "8CKkClxyt8XK"
      },
      "source": [
        "파이썬 스타일 코드    \n",
        "• 파이썬 스타일 코드(pythonic code) : 파이썬 스타일의 코드 작성 기법    \n",
        "• 파이썬에서 기본적으로 제공하는 문법들을 활용하여 코딩하는 것   \n",
        "• 파이썬 스타일 코드를 사용하면 다른 사람이 작성한 코드를 쉽게 이해할 수 있다.    \n",
        "• 파이썬 스타일 코드가 익숙해지면 코드 자체도 간결해지고 코드 작성 시간도 줄일 수 있다   "
      ]
    },
    {
      "cell_type": "markdown",
      "metadata": {
        "id": "Zmpq7l3B-8R9"
      },
      "source": [
        "문자열의 분리: split( ) 함수    \n",
        "• split( ) 함수 : 문자열의 값을 특정 값을 기준으로 분리하여 리스트 형태로 변환하는 방법    \n",
        "문자열의 결합: join( ) 함수    \n",
        "• join( ) 함수 : 문자열로 구성된 리스트를 합쳐 하나의 문자열로 반환할 때 사용    \n",
        "• join( ) 함수를 사용하는 방법 : 구분자.join(리스트형) 형태로 사용    \n"
      ]
    },
    {
      "cell_type": "markdown",
      "metadata": {
        "id": "2-gqgUpj_KI2"
      },
      "source": [
        "리스트 컴프리헨션    \n",
        "• 리스트 컴프리헨션(list comprehension)의 기본 개념은 기존 리스트형을 사용하여 간단하게 새로운 리스트를 만드는 기법이다.    \n",
        "• 리스트와 for문을 한 줄에 사용할 수 있는 장점이 있다.    \n",
        "• 필터링은 if문과 함께 사용하는 리스트 컴프리헨션이다."
      ]
    },
    {
      "cell_type": "code",
      "metadata": {
        "colab": {
          "base_uri": "https://localhost:8080/"
        },
        "id": "B1Clr3WF_aiX",
        "outputId": "0bcd229d-aacf-44ce-ff4e-8506abf00da2"
      },
      "source": [
        "#짝수만 출력할 때\n",
        "result = [i for i in range(10) if i % 2 == 0]   #이렇게 한 줄로 생성 가능 , 단일 if문 일 경우에 앞에 for부터 수행\n",
        "result"
      ],
      "execution_count": 64,
      "outputs": [
        {
          "output_type": "execute_result",
          "data": {
            "text/plain": [
              "[0, 2, 4, 6, 8]"
            ]
          },
          "metadata": {
            "tags": []
          },
          "execution_count": 64
        }
      ]
    },
    {
      "cell_type": "markdown",
      "metadata": {
        "id": "LJLb_Uud_69C"
      },
      "source": [
        "리스트 컴프리헨션 용법 : 필터링    \n",
        "• 리스트 컴프리헨션문 끝에 if i % 2 == 0 을 삽입하여 해당 조건을 만족할 때만 i를 추가할 수 있게 한다. 만약 else문과 함께 사용하여 해당 조건을 만족하지 않을 때는 다른 값을 할당할 수 있다."
      ]
    },
    {
      "cell_type": "code",
      "metadata": {
        "colab": {
          "base_uri": "https://localhost:8080/"
        },
        "id": "FyP-NDbeAMeI",
        "outputId": "18bd1683-a9ae-48f3-e06f-067c70d87e0b"
      },
      "source": [
        "result = [i if i % 2 == 0 else 10 for i in range(10)]      #이때는 for문 먼저 수행\n",
        "result"
      ],
      "execution_count": 68,
      "outputs": [
        {
          "output_type": "execute_result",
          "data": {
            "text/plain": [
              "[0, 10, 2, 10, 4, 10, 6, 10, 8, 10]"
            ]
          },
          "metadata": {
            "tags": []
          },
          "execution_count": 68
        }
      ]
    },
    {
      "cell_type": "markdown",
      "metadata": {
        "id": "J9zYIGhwAkz7"
      },
      "source": [
        "리스트 컴프리헨션 용법 : 중첩 반복문    \n",
        "• 리스트 컴프리헨션에서도 기존처럼 리스트 2개를 섞어 사용할 수 있다.    \n",
        "• 중첩 반복문에서도 필터링을 적용할 수 있다 반복문 끝에i f문을 추가하면 된다."
      ]
    },
    {
      "cell_type": "code",
      "metadata": {
        "colab": {
          "base_uri": "https://localhost:8080/"
        },
        "id": "4A6QENunBC9w",
        "outputId": "3daa80a7-4715-4008-a7dd-19b2a0db7452"
      },
      "source": [
        "case1 = ['a', 'b', 'c']\n",
        "case2 = ['d', 'e', 'a']\n",
        "result = [i + j for i in case1 for j in case2 if not(i == j)]  #하나씩 결합하되 두 결합이 같으면 제외하기\n",
        "result"
      ],
      "execution_count": 69,
      "outputs": [
        {
          "output_type": "execute_result",
          "data": {
            "text/plain": [
              "['ad', 'ae', 'bd', 'be', 'ba', 'cd', 'ce', 'ca']"
            ]
          },
          "metadata": {
            "tags": []
          },
          "execution_count": 69
        }
      ]
    },
    {
      "cell_type": "markdown",
      "metadata": {
        "id": "k6piCyI2BZk0"
      },
      "source": [
        "리스트 컴프리헨션 용법 : 이차원 리스트   \n",
        "• 대괄호 2개를 사용   \n",
        "• for문 2개를 붙여 사용하면 대괄호의 위치에 따라 for문의 실행이 달라진다 - for문은 앞에 있는 for문이 먼저 실행된 후, 뒤의 for문이 실행되었다.   \n",
        "• 이차원 리스트를 만들기 위해서는 대괄호를 하나 더 사용해야 한다. 그와 동시에 먼저 작동하는 for문의 순서가 달라진다. 따라서 먼저 나온 for문이 고정되는 것이 아니라, 뒤의 for문이 고정된다.    \n",
        "• 다음 두 코드는 꼭 구분해야 한다.  \n",
        "[i + j for i in case1 for j in case2]   \n",
        "[[i + j for i in case1] for j in case2]    \n",
        "첫 번째 코드는 일차원 리스트를 만드는 코드로, 앞의 for문이 먼저 실행된다. 두 번째 코드는 이차원 리스트를 만드는 코드로, 뒤의 for문이 먼저 실행된다. 이 두 코드의 차이를 꼭 이해하고 넘어가자. "
      ]
    },
    {
      "cell_type": "code",
      "metadata": {
        "colab": {
          "base_uri": "https://localhost:8080/"
        },
        "id": "Yyn4HiEFBrom",
        "outputId": "7cbc6d7d-43f9-421d-e155-01d645ce4bd7"
      },
      "source": [
        "words = 'The quick brown for jumps over the lazy dog'.split()\n",
        "print(words)\n",
        "stuff = [[w.upper(), w.lower(), len(w)] for w in words]\n",
        "for i in stuff:\n",
        "  print(i)"
      ],
      "execution_count": 72,
      "outputs": [
        {
          "output_type": "stream",
          "text": [
            "['The', 'quick', 'brown', 'for', 'jumps', 'over', 'the', 'lazy', 'dog']\n",
            "['THE', 'the', 3]\n",
            "['QUICK', 'quick', 5]\n",
            "['BROWN', 'brown', 5]\n",
            "['FOR', 'for', 3]\n",
            "['JUMPS', 'jumps', 5]\n",
            "['OVER', 'over', 4]\n",
            "['THE', 'the', 3]\n",
            "['LAZY', 'lazy', 4]\n",
            "['DOG', 'dog', 3]\n"
          ],
          "name": "stdout"
        }
      ]
    },
    {
      "cell_type": "markdown",
      "metadata": {
        "id": "8CVf62cGB4bw"
      },
      "source": [
        "• 리스트 컴프리헨션은 문법적 간단함의 장점 외에도 성능이 뛰어나다.   "
      ]
    },
    {
      "cell_type": "markdown",
      "metadata": {
        "id": "kYOvUkMwD0e7"
      },
      "source": [
        "다양한 방식의 리스트값 출력   \n",
        "리스트값에 인덱스를 붙여 출력: enumerate( ) 함수   \n",
        "• enumerate( ) 함수는 리스트값을 추출할 때 인덱스를 붙여 함께 출력하는 방법이다.     \n",
        "• enumerate( ) 함수는 주로 딕셔너리형으로, 인덱스를 키로, 단어를 값으로 하여 쌍으로 묶어 결과를 출력하는 방식을 사용한다.\n"
      ]
    },
    {
      "cell_type": "code",
      "metadata": {
        "colab": {
          "base_uri": "https://localhost:8080/"
        },
        "id": "odJsoBCDECDU",
        "outputId": "fa002f46-990d-40f8-969e-e73d4375cc44"
      },
      "source": [
        "for i, v in enumerate(['tic', 'tac', 'toc']):\n",
        "  print(i, v)"
      ],
      "execution_count": 73,
      "outputs": [
        {
          "output_type": "stream",
          "text": [
            "0 tic\n",
            "1 tac\n",
            "2 toc\n"
          ],
          "name": "stdout"
        }
      ]
    },
    {
      "cell_type": "markdown",
      "metadata": {
        "id": "gjpfRrXUENbT"
      },
      "source": [
        "리스트형의 ['tic', 'tac', 'toe']에 enumerate( ) 함수를 적용하였다. enumerate( ) 함수를 적용하면 인덱스와 리스트의 값이 언패킹되어 추출되는데, 위 코드에서는 ‘tic’, ‘tac’, ‘toe’에 각각 0, 1, 2의 인덱스가 붙어 출력되는 것을 알 수 있다."
      ]
    },
    {
      "cell_type": "markdown",
      "metadata": {
        "id": "J5wVUCUOEiFP"
      },
      "source": [
        "리스트값을 병렬로 묶어 출력: zip( ) 함수    \n",
        "• zip( ) 함수는 1개 이상의 리스트값이 같은 인덱스에 있을 때 병렬로 묶는 함수이다.    \n"
      ]
    },
    {
      "cell_type": "code",
      "metadata": {
        "colab": {
          "base_uri": "https://localhost:8080/"
        },
        "id": "DV4rsKqeFtIc",
        "outputId": "270f51c6-5b3c-4761-ab9f-0f9012abe140"
      },
      "source": [
        "a, b, c = zip((1, 2, 3), (10, 20 ,30), (100, 200, 300))\n",
        "print(a, b, c)\n",
        "[sum(x) for x in zip((1, 2, 3), (10, 20 ,30), (100, 200, 300))]"
      ],
      "execution_count": 74,
      "outputs": [
        {
          "output_type": "stream",
          "text": [
            "(1, 10, 100) (2, 20, 200) (3, 30, 300)\n"
          ],
          "name": "stdout"
        },
        {
          "output_type": "execute_result",
          "data": {
            "text/plain": [
              "[111, 222, 333]"
            ]
          },
          "metadata": {
            "tags": []
          },
          "execution_count": 74
        }
      ]
    },
    {
      "cell_type": "code",
      "metadata": {
        "colab": {
          "base_uri": "https://localhost:8080/"
        },
        "id": "vX25ywV8F8gJ",
        "outputId": "70b3a5d5-5507-4fea-89c8-bf0f6fb38c51"
      },
      "source": [
        "alist = ['a1', 'a2', 'a3']\n",
        "blist = ['b1', 'b2', 'b3']\n",
        "for i, (a, b) in enumerate(zip(alist, blist)): \n",
        "  print(i ,a, b)                                 #(인덱스 , alist[인덱스], blist[인덱스]) 표시"
      ],
      "execution_count": 75,
      "outputs": [
        {
          "output_type": "stream",
          "text": [
            "0 a1 b1\n",
            "1 a2 b2\n",
            "2 a3 b3\n"
          ],
          "name": "stdout"
        }
      ]
    },
    {
      "cell_type": "markdown",
      "metadata": {
        "id": "txCIUkk3GawY"
      },
      "source": [
        "람다 함수   \n",
        "람다 함수의 사용    \n",
        "• 람다(lambda) 함수 : 함수의 이름 없이, 함수처럼 사용할 수 있는 익명의 함수 , 보통 일회성으로 사용 = 즉시 실행 함수    \n",
        "• 람다 함수는 별도의 def나 return을 작성하지 않는다.     "
      ]
    },
    {
      "cell_type": "code",
      "metadata": {
        "colab": {
          "base_uri": "https://localhost:8080/"
        },
        "id": "7Fs9_osDGfMW",
        "outputId": "e7060ff1-3e18-4bb7-f9fe-cc0428afd822"
      },
      "source": [
        "\"\"\"\n",
        "f = lambda x,y : x + y\n",
        "print(f(1, 4))\n",
        "\"\"\"\n",
        "print((lambda x : x + 1)(5))   #5가 x인 것"
      ],
      "execution_count": 77,
      "outputs": [
        {
          "output_type": "stream",
          "text": [
            "6\n"
          ],
          "name": "stdout"
        }
      ]
    },
    {
      "cell_type": "code",
      "metadata": {
        "colab": {
          "base_uri": "https://localhost:8080/",
          "height": 259
        },
        "id": "0MwWf225HT_q",
        "outputId": "fa1c0dca-2044-49c9-d403-88e76ac56400"
      },
      "source": [
        "\"\"\"\n",
        "lab2  딕셔너리를 활용해 음식 궁합을 출력하는 프로그램 코드를 작성하시오\n",
        "음식을 종류별로 여러 개 출력 한 후 이 중 좋아하는 음식을 입력하면 궁합에 맞는 음식을 출력한다.\n",
        "목록에 없는 음식을 입력하면 '없다'는 메시지를 출력하고, '끝'을 입력하면 프로그램을 종료한다.\n",
        "[Sample Run]  \n",
        "[떡볶이, 짜장면, 라면, 피자, 맥주, 치킨, 삼겹살] 중 좋아하는 음식은? 치킨\n",
        "<치킨> 궁합 음식은 <치킨무> 입니다.\n",
        "[떡볶이, 짜장면, 라면, 피자, 맥주, 치킨, 삼겹살] 중 좋아하는 음식은? 라면\n",
        "<라면> 궁합 음식은 <김치> 입니다.\n",
        "[떡볶이, 짜장면, 라면, 피자, 맥주, 치킨, 삼겹살] 중 좋아하는 음식은? 짬뽕\n",
        "그런 음식이 없습니다. 확인해 보세요\n",
        "[떡볶이, 짜장면, 라면, 피자, 맥주, 치킨, 삼겹살] 중 좋아하는 음식은? 끝\n",
        "\"\"\"\n",
        "food_match = {'떡볶이': '순대', \"짜장면\" : '탕수육', \"라면\": '김치', \"피자\": '맥주', \"치킨\":'소주', \"삼겹살\": '소맥'}\n",
        "for i in range(food_match.get()):\n",
        "  food = input(\"[떡볶이, 짜장면, 라면, 피자, 맥주, 치킨, 삼겹살] 중 좋아하는 음식은? \")\n",
        "  if food == '끝':\n",
        "    break\n",
        "  if food in food_match.keys():\n",
        "        print(food_match[food])\n",
        "  else:\n",
        "      print(\"그런음식이 없습니다. 확인해보세요.\")"
      ],
      "execution_count": 86,
      "outputs": [
        {
          "output_type": "error",
          "ename": "TypeError",
          "evalue": "ignored",
          "traceback": [
            "\u001b[0;31m---------------------------------------------------------------------------\u001b[0m",
            "\u001b[0;31mTypeError\u001b[0m                                 Traceback (most recent call last)",
            "\u001b[0;32m<ipython-input-86-e91bcdbd536d>\u001b[0m in \u001b[0;36m<module>\u001b[0;34m()\u001b[0m\n\u001b[1;32m     13\u001b[0m \"\"\"\n\u001b[1;32m     14\u001b[0m \u001b[0mfood_match\u001b[0m \u001b[0;34m=\u001b[0m \u001b[0;34m{\u001b[0m\u001b[0;34m'떡볶이'\u001b[0m\u001b[0;34m:\u001b[0m \u001b[0;34m'순대'\u001b[0m\u001b[0;34m,\u001b[0m \u001b[0;34m\"짜장면\"\u001b[0m \u001b[0;34m:\u001b[0m \u001b[0;34m'탕수육'\u001b[0m\u001b[0;34m,\u001b[0m \u001b[0;34m\"라면\"\u001b[0m\u001b[0;34m:\u001b[0m \u001b[0;34m'김치'\u001b[0m\u001b[0;34m,\u001b[0m \u001b[0;34m\"피자\"\u001b[0m\u001b[0;34m:\u001b[0m \u001b[0;34m'맥주'\u001b[0m\u001b[0;34m,\u001b[0m \u001b[0;34m\"치킨\"\u001b[0m\u001b[0;34m:\u001b[0m\u001b[0;34m'소주'\u001b[0m\u001b[0;34m,\u001b[0m \u001b[0;34m\"삼겹살\"\u001b[0m\u001b[0;34m:\u001b[0m \u001b[0;34m'소맥'\u001b[0m\u001b[0;34m}\u001b[0m\u001b[0;34m\u001b[0m\u001b[0;34m\u001b[0m\u001b[0m\n\u001b[0;32m---> 15\u001b[0;31m \u001b[0;32mfor\u001b[0m \u001b[0mi\u001b[0m \u001b[0;32min\u001b[0m \u001b[0mrange\u001b[0m\u001b[0;34m(\u001b[0m\u001b[0mfood_match\u001b[0m\u001b[0;34m.\u001b[0m\u001b[0mget\u001b[0m\u001b[0;34m(\u001b[0m\u001b[0;34m)\u001b[0m\u001b[0;34m)\u001b[0m\u001b[0;34m:\u001b[0m\u001b[0;34m\u001b[0m\u001b[0;34m\u001b[0m\u001b[0m\n\u001b[0m\u001b[1;32m     16\u001b[0m   \u001b[0mfood\u001b[0m \u001b[0;34m=\u001b[0m \u001b[0minput\u001b[0m\u001b[0;34m(\u001b[0m\u001b[0;34m\"[떡볶이, 짜장면, 라면, 피자, 맥주, 치킨, 삼겹살] 중 좋아하는 음식은? \"\u001b[0m\u001b[0;34m)\u001b[0m\u001b[0;34m\u001b[0m\u001b[0;34m\u001b[0m\u001b[0m\n\u001b[1;32m     17\u001b[0m   \u001b[0;32mif\u001b[0m \u001b[0mfood\u001b[0m \u001b[0;34m==\u001b[0m \u001b[0;34m'끝'\u001b[0m\u001b[0;34m:\u001b[0m\u001b[0;34m\u001b[0m\u001b[0;34m\u001b[0m\u001b[0m\n",
            "\u001b[0;31mTypeError\u001b[0m: get expected at least 1 arguments, got 0"
          ]
        }
      ]
    },
    {
      "cell_type": "code",
      "metadata": {
        "colab": {
          "base_uri": "https://localhost:8080/"
        },
        "id": "QW2BX8OpKN7N",
        "outputId": "a4d0805c-2411-42cc-8607-ffcaa0536662"
      },
      "source": [
        "food_match = {'떡볶이': '순대', \"짜장면\" : '탕수육', \"라면\": '김치', \"피자\": '맥주', \"치킨\":'소주', \"삼겹살\": '소맥'}\n",
        "while True:\n",
        "    food=input(\"[떡볶이, 짜장면, 라면, 피자, 맥주, 치킨, 삼겹살]중 좋아하는 음식은?\")\n",
        "    if food == '끝':\n",
        "        break\n",
        "    if food in food_match.keys():\n",
        "        print(food_match[food])\n",
        "    else:\n",
        "        print(\"그런음식이 없습니다. 확인해보세요.\")\n"
      ],
      "execution_count": 79,
      "outputs": [
        {
          "output_type": "stream",
          "text": [
            "[떡볶이, 짜장면, 라면, 피자, 맥주, 치킨, 삼겹살]중 좋아하는 음식은?짜장면\n",
            "탕수육\n",
            "[떡볶이, 짜장면, 라면, 피자, 맥주, 치킨, 삼겹살]중 좋아하는 음식은?자장\n",
            "그런음식이 없습니다. 확인해보세요.\n",
            "[떡볶이, 짜장면, 라면, 피자, 맥주, 치킨, 삼겹살]중 좋아하는 음식은?끝\n"
          ],
          "name": "stdout"
        }
      ]
    },
    {
      "cell_type": "code",
      "metadata": {
        "id": "3GyxXV_DICHw"
      },
      "source": [
        "\"\"\"\n",
        "lab3 물건을 수송하는 기차 여러 대의 수송량을 합산해 순위를 매기는 프로그램이다.\n",
        "예들 들어 각 기차의 수송량 목록이 (토마스 5톤), (제임스 4톤), (토마스 2톤) 등으로 되어 있다면 이 목록의 합계를 내서 [토마스 7톤 1등] [ 제임스 4톤 2등] 이 출력되도록 한다. 또 같은 순위가 여러번 나오면 같은 순위만큼 건너뛰고 다음 순위를 출력한다.\n",
        "예로 1등, 2등, 2등, 4등,...방식으로 3등은 건너뛰고 출력한다.\n",
        "[Sample Run]  \n",
        "기차 수송량 목록 ==> [('토마스', 5), ('헨리', 8), ('에드워드', 9), ('에밀리', 5), ('토마스', 4), ('헨리', 7), ('토마스', 3), ('에밀리', 8), ('퍼시', 5), ('고든', 13)]\n",
        "--------------------------------------\n",
        "기차          총수송량    순위\n",
        "-------------------------------------\n",
        "헨리                 15         1\n",
        "에밀리              13         2\n",
        "고든                 13         2\n",
        "토마스              12         4\n",
        "에드워드            9          5\n",
        "퍼시                  5          6\n",
        "\n",
        "\"\"\"\n",
        "  "
      ],
      "execution_count": null,
      "outputs": []
    },
    {
      "cell_type": "code",
      "metadata": {
        "colab": {
          "base_uri": "https://localhost:8080/"
        },
        "id": "pP2xzTX_NolX",
        "outputId": "403d7af3-4606-436e-e786-e92e3acfffd7"
      },
      "source": [
        "trainTupleList = [('토마스', 5), ('헨리', 8), ('에드워드', 9), ('에밀리', 5), ('토마스', 4), ('헨리', 7), ('토마스', 3), ('에밀리', 8), ('퍼시', 5), ('고든', 13)]\n",
        "trainDic = {}\n",
        "#trainList = []\n",
        "for tmpTup in trainTupleList :\n",
        "  tName = tmpTup[0]\n",
        "  tWeight = tmpTup[1]\n",
        "  if tName in trainDic :   # 딕셔너리에 기존의 키가 있으면 값만 플러스 하는 것\n",
        "    trainDic[tName] += tWeight\n",
        "  else:                         #그 외에 딕셔너리의 키가 없다면 수를 넣는 것rainTupleList = [('토마스', 5), ('헨리', 8), ('에드워드', 9), ('에밀리', 5), ('토마스', 4), ('헨리', 7), ('토마스', 3), ('에밀리', 8), ('퍼시', 5), ('고든', 13)]\n",
        "    trainDic[tName] = tWeight\n",
        "print(trainDic)"
      ],
      "execution_count": 92,
      "outputs": [
        {
          "output_type": "stream",
          "text": [
            "{'토마스': 12, '헨리': 15, '에드워드': 9, '에밀리': 13, '퍼시': 5, '고든': 13}\n"
          ],
          "name": "stdout"
        }
      ]
    },
    {
      "cell_type": "code",
      "metadata": {
        "colab": {
          "base_uri": "https://localhost:8080/"
        },
        "id": "NY6lvYiWOqfB",
        "outputId": "5e25f6f0-4512-4a5d-b6dc-eefd823adfdd"
      },
      "source": [
        "import operator\n",
        "trainTupleList = [('토마스', 5), ('헨리', 8), ('에드워드', 9), ('에밀리', 5), ('토마스', 4), ('헨리', 7), ('토마스', 3), ('에밀리', 8), ('퍼시', 5), ('고든', 13)]\n",
        "trainList = sorted(trainDic.items(), key = operator.itemgetter(1), reverse = True)\n",
        "print(trainList)"
      ],
      "execution_count": 90,
      "outputs": [
        {
          "output_type": "stream",
          "text": [
            "[('헨리', 15), ('에밀리', 13), ('고든', 13), ('토마스', 12), ('에드워드', 9), ('퍼시', 5)]\n"
          ],
          "name": "stdout"
        }
      ]
    },
    {
      "cell_type": "code",
      "metadata": {
        "colab": {
          "base_uri": "https://localhost:8080/"
        },
        "id": "V9XkkJhAIB3E",
        "outputId": "588f15a4-edd3-46a1-e1bb-28d33c399c67"
      },
      "source": [
        "\"\"\"\n",
        "lab4\n",
        "긴 장문에서 각 문자의 발생 빈도를 센다. 출력은 빈도수가 높은 글자부터 출력한다. 단 한글만 빈도수를 세고 나머지 글자들은 무시한다. \n",
        "[Sample Run] \n",
        "원문 \n",
        "내가 그의 이름을 불러주기 전에는 그는 다만 하나의 몸짓에 지나지 않았다.\n",
        "내가 그의 이름을 불러주었을 때, 그는 내게로 와 꽃이 되었다\n",
        "내가 그의 이름을 불러준 것처럼 나의 이 빛깔과 향기에 알맞은 누가 나의 이름을 불러다오.\n",
        "그에게로 가서 나도 그의 꽃이 되고 싶다.\n",
        "우리들은 모두 무엇이 되고 싶다.\n",
        "나는 너에게 너는 나에게 잊혀지지 않는 하나의 눈짓이 되고 싶다\n",
        "-------------------------------------\n",
        "문자              빈도수\n",
        "-------------------------------------\n",
        "이                9\n",
        "의                8\n",
        "나                8\n",
        "그                7\n",
        "......\n",
        "\"\"\"\n",
        "from collections import Counter\n",
        "\n",
        "poet = ['내가 그의 이름을 불러주기 전에는 그는 다만 하나의 몸짓에 지나지 않았다. 내가 그의 이름을 불러주었을 때, 그는 내게로 와 꽃이 되었다 내가 그의 이름을 불러준 것처럼 나의 이 빛깔과 향기에 알맞은 누가 나의 이름을 불러다오. 그에게로 가서 나도 그의 꽃이 되고 싶다. 우리들은 모두 무엇이 되고 싶다. 나는 너에게 너는 나에게 잊혀지지 않는 하나의 눈짓이 되고 싶다']\n",
        "for i in poet:\n",
        "  c = Counter(i)\n",
        "  #print(c)\n",
        "  if ' ' in c:\n",
        "   continue\n",
        "  print.join(c not in \" \")\n",
        "print(c)\n"
      ],
      "execution_count": 111,
      "outputs": [
        {
          "output_type": "stream",
          "text": [
            "Counter({' ': 56, '이': 9, '의': 8, '나': 8, '그': 7, '다': 7, '에': 6, '는': 6, '가': 5, '을': 5, '내': 4, '름': 4, '불': 4, '러': 4, '지': 4, '.': 4, '게': 4, '되': 4, '고': 3, '싶': 3, '주': 2, '기': 2, '하': 2, '짓': 2, '않': 2, '었': 2, '로': 2, '꽃': 2, '은': 2, '너': 2, '전': 1, '만': 1, '몸': 1, '았': 1, '때': 1, ',': 1, '와': 1, '준': 1, '것': 1, '처': 1, '럼': 1, '빛': 1, '깔': 1, '과': 1, '향': 1, '알': 1, '맞': 1, '누': 1, '오': 1, '서': 1, '도': 1, '우': 1, '리': 1, '들': 1, '모': 1, '두': 1, '무': 1, '엇': 1, '잊': 1, '혀': 1, '눈': 1})\n"
          ],
          "name": "stdout"
        }
      ]
    },
    {
      "cell_type": "code",
      "metadata": {
        "colab": {
          "base_uri": "https://localhost:8080/"
        },
        "id": "If2K-7bfVzde",
        "outputId": "60aedddf-41a5-4f24-a151-665ddbc3929f"
      },
      "source": [
        "from collections import Counter\n",
        "\n",
        "poet = ['내가 그의 이름을 불러주기 전에는 그는 다만 하나의 몸짓에 지나지 않았다. 내가 그의 이름을 불러주었을 때, 그는 내게로 와 꽃이 되었다 내가 그의 이름을 불러준 것처럼 나의 이 빛깔과 향기에 알맞은 누가 나의 이름을 불러다오. 그에게로 가서 나도 그의 꽃이 되고 싶다. 우리들은 모두 무엇이 되고 싶다. 나는 너에게 너는 나에게 잊혀지지 않는 하나의 눈짓이 되고 싶다']\n",
        "for i in poet:\n",
        "  c = Counter(i)\n",
        "  print(c)\n",
        "  if ' ' in c:\n",
        "   continue\n"
      ],
      "execution_count": 112,
      "outputs": [
        {
          "output_type": "stream",
          "text": [
            "Counter({' ': 56, '이': 9, '의': 8, '나': 8, '그': 7, '다': 7, '에': 6, '는': 6, '가': 5, '을': 5, '내': 4, '름': 4, '불': 4, '러': 4, '지': 4, '.': 4, '게': 4, '되': 4, '고': 3, '싶': 3, '주': 2, '기': 2, '하': 2, '짓': 2, '않': 2, '었': 2, '로': 2, '꽃': 2, '은': 2, '너': 2, '전': 1, '만': 1, '몸': 1, '았': 1, '때': 1, ',': 1, '와': 1, '준': 1, '것': 1, '처': 1, '럼': 1, '빛': 1, '깔': 1, '과': 1, '향': 1, '알': 1, '맞': 1, '누': 1, '오': 1, '서': 1, '도': 1, '우': 1, '리': 1, '들': 1, '모': 1, '두': 1, '무': 1, '엇': 1, '잊': 1, '혀': 1, '눈': 1})\n"
          ],
          "name": "stdout"
        }
      ]
    },
    {
      "cell_type": "code",
      "metadata": {
        "id": "n-VAsuqBba_9"
      },
      "source": [
        "temp = '.', ',', '\\n'\n",
        "fixed_data = ''.join(data.split())\n",
        "for t in temp:\n",
        "    fixed_data = ''.join(fixed_data.split(t))\n",
        "c = Counter(fixed_data)\n",
        "ordered_c = sorted(c.items(), key = operator.itemgetter(1), reverse = True)\n",
        "print(\"-------------------------\")\n",
        "print(\"문자\\t\\t빈도수\")\n",
        "print(\"-------------------------\")\n",
        "for k, v in ordered_c:\n",
        "    print(\"%s\\t\\t%d\" % (k, v))\n"
      ],
      "execution_count": null,
      "outputs": []
    },
    {
      "cell_type": "markdown",
      "metadata": {
        "id": "rhPvUzGeHQWT"
      },
      "source": [
        "맵리듀스   \n",
        "• 맵리듀스(MapReduce)는 파이썬뿐 아니라, 빅데이터를 처리하기 위한 기본 알고리즘으로도 많이 사용한다.    \n",
        "• 맵리듀스에는 map( ) 함수와 reduce( ) 함수가 있다.     \n",
        "• map( ) 함수 : 연속 데이터를 저장하는 시쿼스형에서 요소마다 같은 기능을 적용할 때 사용한다. 일반적으로 리스트나 튜플처럼 요소가 있는 시퀀스 자료형에 사용된다."
      ]
    },
    {
      "cell_type": "code",
      "metadata": {
        "colab": {
          "base_uri": "https://localhost:8080/"
        },
        "id": "sRtRlnEaWLzX",
        "outputId": "48b50c31-09e6-44de-eb62-45dae1dcde2a"
      },
      "source": [
        "ex = [1, 2,  3, 4, 5]\n",
        "f = lambda x : x ** 2\n",
        "print(list(map(f, ex)))"
      ],
      "execution_count": 113,
      "outputs": [
        {
          "output_type": "stream",
          "text": [
            "[1, 4, 9, 16, 25]\n"
          ],
          "name": "stdout"
        }
      ]
    },
    {
      "cell_type": "markdown",
      "metadata": {
        "id": "vMaYotDNWjsq"
      },
      "source": [
        "map( ) 함수 : 제너레이터의 사용     \n",
        "• 주의할 점 : 파이썬 2.x와 3.x에서의 map( ) 함수 코드가 약간 다르다는 점이다.    \n",
        "• 파이썬 2.x에서는 map(f, ex)라고만 입력해도 리스트로 반환하지만, 3.x에서는 반드시list(map(f, ex))처럼 list를 붙여야 리스트로 반환한\n",
        "다. : 제너레이터(generator)라는 개념이 강화되면서 생긴 추가 코드이다.     \n",
        "• 제너레이터(generator)는 시퀀스 자료형의 데이터를 처리할 때, 실행 시점의 값을 생성하여 효율적으로 메모리를 관리할 수 있다는 장점이 있다.    \n",
        "map( ) 함수 : 리스트 컴프리헨션과의 비교   \n",
        "• 최근에는 람다 함수나 map( ) 함수를 프로그램 개발에 사용하는 것을 권장하지 않는다. 굳이 두 함수를 쓰지 않더라도 리스트 컴프리헨션 기법으로 얼마든지 같은 효과를 낼 수 있기 때문이다."
      ]
    },
    {
      "cell_type": "code",
      "metadata": {
        "colab": {
          "base_uri": "https://localhost:8080/"
        },
        "id": "fwaGDlRbW2ns",
        "outputId": "e8739345-7e31-41e2-cb33-be3e6d9f863d"
      },
      "source": [
        "ex = [1, 2,  3, 4, 5]\n",
        "[x ** 2 for x in ex]  #이런식으로 컴프리헨션이 더 효과적\n"
      ],
      "execution_count": 114,
      "outputs": [
        {
          "output_type": "execute_result",
          "data": {
            "text/plain": [
              "[1, 4, 9, 16, 25]"
            ]
          },
          "metadata": {
            "tags": []
          },
          "execution_count": 114
        }
      ]
    },
    {
      "cell_type": "markdown",
      "metadata": {
        "id": "tYveZ0HeXI4q"
      },
      "source": [
        "map( ) 함수 : 한 개 이상의 시퀀스 자료형 데이터의 처리   \n",
        "• map( ) 함수의 또 다른 특징은 2개 이상의 시퀀스 자료형 데이터를 처리하는 데도 문제가 없어, 여러 개의 시퀀스 자료형 데이터를 입력값으로 사용할 수 있다는 점이다. 만약 람다 함수를 작성한다면, zip( ) 함수처럼 2개의 시퀀스 자료형 데이터에서 같은 위치에 있는 값끼리 대응해 계산할 수 있다.   \n",
        "• 다음 코드의 경우에는 ex 변수와 같은 위치에 있는 값끼리 더한 결과가 출력된다."
      ]
    },
    {
      "cell_type": "code",
      "metadata": {
        "colab": {
          "base_uri": "https://localhost:8080/"
        },
        "id": "kPAAqhEWXT9j",
        "outputId": "cb3c79be-7370-4273-e910-ac7b5e64ccd9"
      },
      "source": [
        "ex = [1, 2,  3, 4, 5]\n",
        "f = lambda x,y : x+ y\n",
        "list(map(f, ex, ex))"
      ],
      "execution_count": 115,
      "outputs": [
        {
          "output_type": "execute_result",
          "data": {
            "text/plain": [
              "[2, 4, 6, 8, 10]"
            ]
          },
          "metadata": {
            "tags": []
          },
          "execution_count": 115
        }
      ]
    },
    {
      "cell_type": "code",
      "metadata": {
        "colab": {
          "base_uri": "https://localhost:8080/"
        },
        "id": "QoJF8DvxXb4f",
        "outputId": "98a587c1-8fea-4d13-c87e-2e38726cd71b"
      },
      "source": [
        "ex = [1, 2,  3, 4, 5]\n",
        "[x + y for x,y in zip(ex, ex)]  #이런식으로 컴프리헨션이 더 효과적적"
      ],
      "execution_count": 116,
      "outputs": [
        {
          "output_type": "execute_result",
          "data": {
            "text/plain": [
              "[2, 4, 6, 8, 10]"
            ]
          },
          "metadata": {
            "tags": []
          },
          "execution_count": 116
        }
      ]
    },
    {
      "cell_type": "markdown",
      "metadata": {
        "id": "R8c7TVkcYVwU"
      },
      "source": [
        ""
      ]
    },
    {
      "cell_type": "markdown",
      "metadata": {
        "id": "FOL92edSXrYa"
      },
      "source": [
        "map( ) 함수 : 필터링(filtering) 기능   \n",
        "• map( ) 함수는 리스트 컴프리헨션처럼 필터링 기능을 사용할 수 있다.    \n",
        "한 가지 기억할 점은 리스트 컴프리헨션과 달리 else문을 반드시작성해 해당 경우가 존재하지 않는 경우를 지정해주어야 한다는 점이다."
      ]
    },
    {
      "cell_type": "code",
      "metadata": {
        "colab": {
          "base_uri": "https://localhost:8080/"
        },
        "id": "swsBic-oX35W",
        "outputId": "1558c46c-73d1-4e79-a2f1-814a44a45827"
      },
      "source": [
        "ex = [1, 2,  3, 4, 5]\n",
        "list(map(lambda x:x ** 2 if x % 2 == 0 else x, ex))"
      ],
      "execution_count": 117,
      "outputs": [
        {
          "output_type": "execute_result",
          "data": {
            "text/plain": [
              "[1, 4, 3, 16, 5]"
            ]
          },
          "metadata": {
            "tags": []
          },
          "execution_count": 117
        }
      ]
    },
    {
      "cell_type": "code",
      "metadata": {
        "colab": {
          "base_uri": "https://localhost:8080/"
        },
        "id": "u4bgij3EYRNG",
        "outputId": "8049af4b-1ba0-4f27-96d0-4ecb01f2cff0"
      },
      "source": [
        "ex = [1, 2,  3, 4, 5]\n",
        "[x ** 2 if x % 2 == 0 else x for x in ex]  #위와 동일하게 리스트 컴프리헨션"
      ],
      "execution_count": 119,
      "outputs": [
        {
          "output_type": "execute_result",
          "data": {
            "text/plain": [
              "[1, 4, 3, 16, 5]"
            ]
          },
          "metadata": {
            "tags": []
          },
          "execution_count": 119
        }
      ]
    },
    {
      "cell_type": "markdown",
      "metadata": {
        "id": "aXplaHudYlM2"
      },
      "source": [
        "reduce( ) 함수   \n",
        "• 리스트와 같은 시퀀스 자료형에 차례대로 함수를 적용하여 모든 값을 통합하는 함수이다."
      ]
    },
    {
      "cell_type": "code",
      "metadata": {
        "colab": {
          "base_uri": "https://localhost:8080/"
        },
        "id": "Fjeh-qdDYrbS",
        "outputId": "4c3a5fb7-83da-4f1f-dffd-042c021423db"
      },
      "source": [
        "from functools import reduce\n",
        "print(reduce(lambda x, y: x+y, [1, 2, 3, 4, 5]))  #처음 리스트 1, 2의 값을 더해 값을 내고 그 값과 다음 리스트 숫자인 3일 더해 값을 내고, 그 값과 다음 리스트 숫자를 더하는 식이다"
      ],
      "execution_count": 120,
      "outputs": [
        {
          "output_type": "stream",
          "text": [
            "15\n"
          ],
          "name": "stdout"
        }
      ]
    },
    {
      "cell_type": "markdown",
      "metadata": {
        "id": "g1KCk5nZY-IW"
      },
      "source": [
        "처음 리스트 1, 2의 값을 더해 값을 내고 그 값과 다음 리스트 숫자인 3일 더해 값을 내고, 그 값과 다음 리스트 숫자를 더하는 식이다    \n",
        "파이썬 2버전에서 많이 사용됐지만 복잡해 요즘은 잘 안쓰는 추세"
      ]
    },
    {
      "cell_type": "markdown",
      "metadata": {
        "id": "sZcYmXsqZGyi"
      },
      "source": [
        "별표의 활용   \n",
        "별표의 사용    \n",
        "• 함수의 가변 인수(variable length arguments)를 사용할 때 변수명 앞에 *를 붙인다."
      ]
    },
    {
      "cell_type": "code",
      "metadata": {
        "colab": {
          "base_uri": "https://localhost:8080/"
        },
        "id": "guRSKrfqZD7L",
        "outputId": "c5206a4c-0a37-455d-e434-8f0c26619dff"
      },
      "source": [
        "def asterisk_test(a, *args):\n",
        "  print(a, args)\n",
        "  print(type(args))\n",
        "\n",
        "asterisk_test(1, 2, 3, 4, 5, 6)"
      ],
      "execution_count": 121,
      "outputs": [
        {
          "output_type": "stream",
          "text": [
            "1 (2, 3, 4, 5, 6)\n",
            "<class 'tuple'>\n"
          ],
          "name": "stdout"
        }
      ]
    },
    {
      "cell_type": "markdown",
      "metadata": {
        "id": "KET7Oo_3ZXKz"
      },
      "source": [
        "별표의 사용    \n",
        "• 함수의 키워드 가변 인수(variable length arguments)를 사용할 때 변수명 앞에 **를 붙인다."
      ]
    },
    {
      "cell_type": "code",
      "metadata": {
        "colab": {
          "base_uri": "https://localhost:8080/"
        },
        "id": "OD_T58XDZbFK",
        "outputId": "3df48d85-3fbc-4038-bd99-6ec02cfd7e71"
      },
      "source": [
        "def asterisk_test(a, **kargs):    \n",
        "  print(a, kargs)\n",
        "  print(type(kargs))\n",
        "\n",
        "asterisk_test(1, b=2, c=3, d=4, e=5, f=6)"
      ],
      "execution_count": 122,
      "outputs": [
        {
          "output_type": "stream",
          "text": [
            "1 {'b': 2, 'c': 3, 'd': 4, 'e': 5, 'f': 6}\n",
            "<class 'dict'>\n"
          ],
          "name": "stdout"
        }
      ]
    },
    {
      "cell_type": "markdown",
      "metadata": {
        "id": "_Yn2oHZJZmsB"
      },
      "source": [
        "별표의 언패킹 기능    \n",
        "• *는 여러 개의 데이터를 담는 리스트, 튜플, 딕셔너리와 같은 자료형에서는 해당 데이터를 언패킹하는 기능을 한다."
      ]
    },
    {
      "cell_type": "code",
      "metadata": {
        "colab": {
          "base_uri": "https://localhost:8080/"
        },
        "id": "q40dbKLyZqZk",
        "outputId": "88b86e70-2608-457b-ce72-2ca61ed1a35f"
      },
      "source": [
        "def asterisk_test(a, args):    \n",
        "  print(a, *args)\n",
        "  print(type(args))\n",
        "\n",
        "asterisk_test(1, (2, 3, 4, 5, 6))  #튜플인 데이터 집합객체를 전달해서 언패킹하게 됨(원래는 for문을 이용해 품)"
      ],
      "execution_count": 128,
      "outputs": [
        {
          "output_type": "stream",
          "text": [
            "1 2 3 4 5 6\n",
            "<class 'tuple'>\n"
          ],
          "name": "stdout"
        }
      ]
    },
    {
      "cell_type": "code",
      "metadata": {
        "colab": {
          "base_uri": "https://localhost:8080/"
        },
        "id": "KPtiarEscqJ_",
        "outputId": "592003b1-02bf-4878-b917-4e8d55b279ce"
      },
      "source": [
        "def asterisk_test(a, *args):    \n",
        "  print(a, args)\n",
        "  print(type(args))\n",
        "\n",
        "asterisk_test(1, *(2, 3, 4, 5, 6))"
      ],
      "execution_count": 132,
      "outputs": [
        {
          "output_type": "stream",
          "text": [
            "1 (2, 3, 4, 5, 6)\n",
            "<class 'tuple'>\n"
          ],
          "name": "stdout"
        }
      ]
    },
    {
      "cell_type": "markdown",
      "metadata": {
        "id": "7KUXZ2nNZp1l"
      },
      "source": [
        "입력값은 뒤의 튜플 변수가 언패킹되어 다음처럼 입력된 것이다."
      ]
    },
    {
      "cell_type": "code",
      "metadata": {
        "colab": {
          "base_uri": "https://localhost:8080/"
        },
        "id": "qwk7Eo3oaVTl",
        "outputId": "83ea1147-4cf2-4da7-8cfb-61a70da2840b"
      },
      "source": [
        "a, b, c = ([1, 2], [3, 4], [5, 6])\n",
        "print(a, b, c)   "
      ],
      "execution_count": 124,
      "outputs": [
        {
          "output_type": "stream",
          "text": [
            "[1, 2] [3, 4] [5, 6]\n"
          ],
          "name": "stdout"
        }
      ]
    },
    {
      "cell_type": "code",
      "metadata": {
        "colab": {
          "base_uri": "https://localhost:8080/"
        },
        "id": "AXzTdTbWalSs",
        "outputId": "f2bfd086-0073-46fc-bcf1-0145a17f2632"
      },
      "source": [
        "data = ([1, 2], [3, 4], [5, 6])\n",
        "print(*data)"
      ],
      "execution_count": 125,
      "outputs": [
        {
          "output_type": "stream",
          "text": [
            "[1, 2] [3, 4] [5, 6]\n"
          ],
          "name": "stdout"
        }
      ]
    },
    {
      "cell_type": "markdown",
      "metadata": {
        "id": "DfK3v0KAaqnW"
      },
      "source": [
        "두 코드의 형태는 다르지만, 모두 기존의 튜플값을 언패킹하여 출력하는 결과는 같다"
      ]
    },
    {
      "cell_type": "code",
      "metadata": {
        "colab": {
          "base_uri": "https://localhost:8080/"
        },
        "id": "CI0BRmwaawxh",
        "outputId": "1a9dbe56-8386-46b9-dd4b-edbf10d12c80"
      },
      "source": [
        "for data in zip(*[[1,2], [3, 4], [5,6]]):   #튜플을 언팩킹시키고 집함수로 위치값을 튜플로 묶음\n",
        "  print(data)\n",
        "  print(type(data))"
      ],
      "execution_count": 126,
      "outputs": [
        {
          "output_type": "stream",
          "text": [
            "(1, 3, 5)\n",
            "<class 'tuple'>\n",
            "(2, 4, 6)\n",
            "<class 'tuple'>\n"
          ],
          "name": "stdout"
        }
      ]
    },
    {
      "cell_type": "markdown",
      "metadata": {
        "id": "yo4OeXXSa7vS"
      },
      "source": [
        "[[1, 2], [3, 4], [5, 6]]은 이차원 리스트로, 언패킹한다면 [1, 2], [3, 4], [5, 6]으로 분리된다.\n",
        "zip( ) 함수를 사용하여 같은 위치의 값을 튜플로 묶을 수 있다.    \n",
        "결과는 (1, 3, 5), (2, 4, 6)으로 나타난다.    \n",
        "필요에 따라 sum( ) 함수를 사용하여 각 인덱스 값의 합계나 평균을 내기 유용하다."
      ]
    },
    {
      "cell_type": "markdown",
      "metadata": {
        "id": "pGusgiuadQG7"
      },
      "source": [
        "별표의 언패킹 기능    \n",
        "• 키워드 가변 인수와 마찬가지 두 개의 별표(**)를 사용할 경우 딕셔너리형을 언패킹한다."
      ]
    },
    {
      "cell_type": "code",
      "metadata": {
        "colab": {
          "base_uri": "https://localhost:8080/"
        },
        "id": "AgqvM7M-dXgQ",
        "outputId": "c59cb870-ce85-4838-bc57-c495d843d367"
      },
      "source": [
        "def asterisk_test(a, b, c, d):\n",
        "  print(a, b, c, d)\n",
        "data = {'b':1, 'c':2, \"d\": 3}\n",
        "asterisk_test(10, **data)"
      ],
      "execution_count": 133,
      "outputs": [
        {
          "output_type": "stream",
          "text": [
            "10 1 2 3\n"
          ],
          "name": "stdout"
        }
      ]
    },
    {
      "cell_type": "markdown",
      "metadata": {
        "id": "SjsFwKLrd0YA"
      },
      "source": [
        "객체 지향 프로그래밍의 이해   \n",
        "객체 지향 프로그래밍을 배우는 이유   \n",
        "• 객체 지향 프로그래밍(Object Oriented Programming, OOP)은 함수처럼 어떤 기능을 함수 코드에 묶어 두는 것이 아니라, 그런 기능을 묶은 하나의 단일 프로그램을 객체라고 하는 코드에 넣어 다른 프로그래머가 재사용할 수 있도록 하는, 컴퓨터 공학의 프로그래밍 기법 중 하나이다.   \n",
        "객체와 클래스    \n",
        "• 클래스(class) : 객체가 가져야 할 기본 정보를 담은 코드이다.    \n",
        "• 클래스는 일종의 설계도 코드이다.    \n",
        "• 실제로 생성되는 객체를 인스턴스(instance)라고 한다.    \n",
        "ex )붕어빵틀 = 클래스, 거기서 나온 제품(붕어빵) = 객체(인스턴스)"
      ]
    },
    {
      "cell_type": "markdown",
      "metadata": {
        "id": "ln-SESZJhGyR"
      },
      "source": [
        "클래스 구현하기   \n",
        "• 파이썬에서 클래스를 선언하기 위한 기본 코드 템플릿   \n",
        "[파이썬에서의 클래스 선언]   \n",
        "class SoccerPlayer(object):   \n",
        "calss는 클래스 예약어   \n",
        "soccerplayer는 클래스 이름   \n",
        "object는 상속받는 객체명(부모클래스)-가장상위클래스, 생략해도됨래스 구현하기   \n",
        "• 예약어인 class를 코드의 앞에 쓰고, 만들고자 하는 클래스 이름을 작성한다.   \n",
        "• 상속받아야 하는 다른 클래스의 이름을 괄호 안에 넣는다.   \n",
        "\n",
        "\n"
      ]
    },
    {
      "cell_type": "markdown",
      "metadata": {
        "id": "EBdEOfCgh0SQ"
      },
      "source": [
        "클래스 구현하기 : 속성의 선언    \n",
        "• 속성에 대한 정보를 선언하기 위해서는 _ _init_ _( )이라는 예약 함수를 사용한다     \n",
        "\n",
        "_ _init_ _( ) 함수는 이 class에서 사용할 변수를 정의하는 함수이다. _ _init_ _( ) 함수의 첫번째 매개변수는 반드시 self 변수를 사용해\n",
        "야 한다. self 변수는 클래스에서 생성된 인스턴스에 접근하는 예약어이다.    \n",
        "\n",
        "self 뒤의 매개변수들은 실제로 클래스가 가진 속성으로, 축구 선수의 이름, 포지션, 등번호등이다. 이 값들은 실제 생성된 인스턴스에\n",
        "할당된다. 할당되는 코드는 self.name = name이다.   \n",
        "• 클래스 내에서의 함수는 함수의 이름을 쓰고 매개변수를 사용하면 된다. 일반 함수와의 가장 큰 차이점은 바로self를 매개변수에 반드시 넣어야 한다는 것이다.   \n",
        "self가 있어야만 실제로 인스턴스가 사용할 수 있는 함수로 선언된다.   \n",
        "\n",
        "\n",
        "• 자기 자신을 참조할 때 키워드가 self\n"
      ]
    },
    {
      "cell_type": "markdown",
      "metadata": {
        "id": "1Wl4VkWfjMEj"
      },
      "source": [
        "인스턴스 사용하기   \n",
        "• 클래스에서 인스턴스를 호출하는 방법 : 클래스 이름을 사용하여 호출하고, 앞서 만든 _ _init_ _( ) 함수의 매개변수에 맞추어 값을 입력한다. 여기서 self 변수는 아무런 값도 할당되지 않는다.   \n",
        "• jinhyun이라는 인스턴스가 기존 SoccerPlayer의 클래스를 기반으로 생성되며, jinhyun이라는 인스턴스 자체가 SoccerPlayer 클래스에서 self에 할당된다.   \n",
        "\n",
        "jnhyun = soccoerplayer('jinhyun', 'mf', 10):   \n",
        "진현 = 객체명 싸커플레이어 = 클래스이름 () = 인트 함수 인터페이스, 초깃값 <속성>"
      ]
    },
    {
      "cell_type": "code",
      "metadata": {
        "colab": {
          "base_uri": "https://localhost:8080/"
        },
        "id": "3zC4WXK7hDUX",
        "outputId": "da71d0b7-4e1a-4755-cdfd-a9c3aa913561"
      },
      "source": [
        "#클래스를 정의 (객체를 생성하기 위한 설계도 정의)\n",
        "class TV:\n",
        "  def __init__(self,inch,channel, volume, power):   #각 속성에 메뉴, 채널, 인치를 각각 할당\n",
        "    self.inch = inch\n",
        "    self.channel = channel\n",
        "    self.volume = volume\n",
        "    self.power = power\n",
        "\n",
        "  def __str__(self) :   #객체 식별, 표현 문자열 목적\n",
        "    return 'LG TV'\n",
        "\n",
        "  def __repr__(self):   #사람이 이해할 수 있는 표현을 반환\n",
        "    return 'LG OLED TV'\n",
        "\n",
        "  def powerOn(self):\n",
        "    self.power = True\n",
        "    print('전원이 켜짐')\n",
        "\n",
        "lg = TV(55, 400, 20, False)  #객체 생성\n",
        "print(lg)\n",
        "print(type(lg))\n",
        "print(lg.channel)\n",
        "lg.powerOn()"
      ],
      "execution_count": 150,
      "outputs": [
        {
          "output_type": "stream",
          "text": [
            "LG TV\n",
            "<class '__main__.TV'>\n",
            "400\n",
            "전원이 켜짐\n"
          ],
          "name": "stdout"
        }
      ]
    },
    {
      "cell_type": "code",
      "metadata": {
        "id": "YcGhn0BblK7W"
      },
      "source": [
        "class SoccerPlayer(object):\n",
        "   def __init__(self, name, position, back_number):\n",
        "        self.name = Name\n",
        "        self.position = position\n",
        "        self.back_number =back_number"
      ],
      "execution_count": 139,
      "outputs": []
    },
    {
      "cell_type": "code",
      "metadata": {
        "colab": {
          "base_uri": "https://localhost:8080/"
        },
        "id": "vh9lOgjaq3qE",
        "outputId": "975977fd-f22e-4053-f2b2-652063ab62a1"
      },
      "source": [
        "#dict 자료형 코드 연습문제1\n",
        "#아래의 상품 딕셔너리 데이터를 가격에 따라 내림차순으로 정렬하는 프로그램을 작성하십시오.\n",
        "import operator\n",
        "dic = {'TV': 2000000, \"냉장고\": 1500000, \"책상\": 350000, \"노트북\": 1200000, \"가스레인지\": 200000, \"세탁기\": 1000000}\n",
        "#cid = collections.OrderedDict(sorted(dic.items()))\n",
        "dic = dict(sorted(dic.items(), key=operator.itemgetter(1), reverse=True))\n",
        "\n",
        "for k, v in dic.items():\n",
        "  print('{0}: {1}'.format(k, y))"
      ],
      "execution_count": 160,
      "outputs": [
        {
          "output_type": "stream",
          "text": [
            "TV: [20]\n",
            "냉장고: [20]\n",
            "노트북: [20]\n",
            "세탁기: [20]\n",
            "책상: [20]\n",
            "가스레인지: [20]\n"
          ],
          "name": "stdout"
        }
      ]
    },
    {
      "cell_type": "code",
      "metadata": {
        "colab": {
          "base_uri": "https://localhost:8080/"
        },
        "id": "hnaOeqLyvDXr",
        "outputId": "addfb453-3b42-4da4-c6ec-a40afdc75181"
      },
      "source": [
        "#dict 자료형 코드 연습문제1\n",
        "#아래의 상품 딕셔너리 데이터를 가격에 따라 내림차순으로 정렬하는 프로그램을 작성하십시오.\n",
        "\n",
        "import operator\n",
        " \n",
        "dic = { \"TV\": 2000000,\"냉장고\": 1500000,\"책상\": 350000,\n",
        "\"노트북\": 1200000,\"가스레인지\": 200000,\"세탁기\": 1000000}\n",
        "#operator.itemgetter(0)으로하면 키를 기준으로 1로하면 값을 기준으로 정렬\n",
        "#기본은 오름차순 정렬이므로 내림차순을 하려면 reverse를 True해야한다.\n",
        "#이 기능을 사용하기 위해서는 operator 모듈을 import해야한다.\n",
        "dic = dict(sorted(dic.items(), key=operator.itemgetter(1), reverse=True))\n",
        "for key, value in dic.items():\n",
        "  print(\"{0}: {1}\".format(key, value))"
      ],
      "execution_count": 162,
      "outputs": [
        {
          "output_type": "stream",
          "text": [
            "TV: 2000000\n",
            "냉장고: 1500000\n",
            "노트북: 1200000\n",
            "세탁기: 1000000\n",
            "책상: 350000\n",
            "가스레인지: 200000\n"
          ],
          "name": "stdout"
        }
      ]
    },
    {
      "cell_type": "code",
      "metadata": {
        "colab": {
          "base_uri": "https://localhost:8080/"
        },
        "id": "u8b5WUeSr4UI",
        "outputId": "af999756-fcd9-4238-aae2-8cb9eb6871b3"
      },
      "source": [
        "\"\"\"\n",
        "dict 자료형 코드 연습문제2\n",
        "다음 두 딕셔너리 객체를 합쳐 중복된 메뉴가 없는 딕셔너리를 만들고\n",
        "가격이 3000원 이상인 메뉴를 아래와 같이 출력하는 프로그렘을 작성하십시오.\n",
        "중복된 메뉴의 가격이 다를 경우 딕셔너리 a의 가격을 사용하세요.\n",
        "\"\"\"\n",
        "\n",
        "a = {'아메리카노': 1900, '카페모카': 3300, '에스프레소': 1900, '카페라떼': 2500, '카푸치노': 2500, '바닐라라떼': 2900}\n",
        "b = {'헤이즐럿라떼': 2900, '카페모카': 3300, '밀크커피': 3300, '아메리카노': 1900, '샷크린티라떼': 3300}\n",
        "#중복일 경우 a의 값으로 변경\n",
        "b.update(a)\n",
        "#필터로 벨류값이 3000이상인 값만 가져온다. 출력 예시가 dict->set이므로 set으로 변경해준다.\n",
        "result = set(filter(lambda item: item[1] >= 3000, b.items()))\n",
        "print(result)"
      ],
      "execution_count": 165,
      "outputs": [
        {
          "output_type": "stream",
          "text": [
            "{('카페모카', 3300), ('밀크커피', 3300), ('샷크린티라떼', 3300)}\n"
          ],
          "name": "stdout"
        }
      ]
    },
    {
      "cell_type": "markdown",
      "metadata": {
        "id": "avKOT8vIx-j0"
      },
      "source": [
        "set() 함수를 사용하게 되면 중복되는 값들을 제거해주고, 대표되는 한 문자만 살린다. 그리고 본래 가지고 있던 순서는 없어지고, sorted를 수행해서 정렬을 하게 된다"
      ]
    },
    {
      "cell_type": "code",
      "metadata": {
        "colab": {
          "base_uri": "https://localhost:8080/"
        },
        "id": "67GV7aUPrYpb",
        "outputId": "ff25a5cd-148b-496d-b541-72bc30ed0940"
      },
      "source": [
        "#함수 만들기 코드 연습문제1\n",
        "#사용자가 입력한 문장에서 숫자와 문자를 구별해 각각의 개수를 출력하는 파이썬 함수 작성\n",
        "t_str = input().strip()\n",
        "l_count = d_count = 0\n",
        "for t in t_str:\n",
        "   #문자일때\n",
        "   if 'a' <= t <= 'z' or 'A' <= t <= 'Z':\n",
        "      l_count += 1\n",
        "   #숫자일때\n",
        "   elif '0' <= t <='9':\n",
        "      d_count += 1\n",
        " \n",
        "print(\"LETTERS %d\" % l_count)\n",
        "print(\"DIGITS %d\" % d_count)"
      ],
      "execution_count": 169,
      "outputs": [
        {
          "output_type": "stream",
          "text": [
            "960911 sera\n",
            "LETTERS 4\n",
            "DIGITS 6\n"
          ],
          "name": "stdout"
        }
      ]
    },
    {
      "cell_type": "code",
      "metadata": {
        "colab": {
          "base_uri": "https://localhost:8080/"
        },
        "id": "pT2zA3F1sFgE",
        "outputId": "4c7b1f6b-8eba-4948-99ee-32b3f5127824"
      },
      "source": [
        "#함수 만들기 코드 연습문제2\n",
        "#다음과 같이 사용자가 입력한 문장에서 대소문를 구별해 각각의 갯수를 출력하는 프로그램을 작성하십시오. \n",
        "t_str = input().strip()\n",
        "u_count = l_count = 0\n",
        "for t in t_str:\n",
        "   #소문자일때\n",
        "   if 'a' <= t <= 'z':\n",
        "      l_count += 1\n",
        "   #대문자일때\n",
        "   elif 'A' <= t <= 'Z':\n",
        "      u_count += 1\n",
        " \n",
        "print(\"UPPER CASE %d\" % u_count)\n",
        "print(\"LOWER CASE %d\" % l_count)"
      ],
      "execution_count": 172,
      "outputs": [
        {
          "output_type": "stream",
          "text": [
            "Sera is Kind and Pretty\n",
            "UPPER CASE 3\n",
            "LOWER CASE 16\n"
          ],
          "name": "stdout"
        }
      ]
    },
    {
      "cell_type": "code",
      "metadata": {
        "id": "0o6GeZSksvM-"
      },
      "source": [
        "#함수 만들기 코드 연습문제3\n",
        "\"\"\"\n",
        "같은 숫자가 나올 때까지 주사위 6개를 동시에 무한 반복해서 던진다.\n",
        "같은 숫자가 나올 때까지 몇 번 던졌는지, 1부터 6까지 연속된 숫자는 몇 번 나왔는지 출력하는  파이썬 함수를 작성하십시오.\n",
        "[Sample Run]  \n",
        "6개 주사위가 모두 동일한 숫자가 나옴 --> 2 2 2 2 2 2\n",
        "6개가 동일한 숫자가 나올 때까지 주사위를 던진 횟수 --> 10652\n",
        "6개가  동일한 숫자가 나올 때까지 1 ~6의 연속번호가 나온 횟수 --> 172\n",
        "\"\"\"\n",
        "\n"
      ],
      "execution_count": null,
      "outputs": []
    }
  ]
}