{
  "nbformat": 4,
  "nbformat_minor": 0,
  "metadata": {
    "colab": {
      "name": "python_day5.ipynb",
      "provenance": [],
      "authorship_tag": "ABX9TyNoQ6saU2h07PdsKLcz4tiM",
      "include_colab_link": true
    },
    "kernelspec": {
      "name": "python3",
      "display_name": "Python 3"
    },
    "language_info": {
      "name": "python"
    }
  },
  "cells": [
    {
      "cell_type": "markdown",
      "metadata": {
        "id": "view-in-github",
        "colab_type": "text"
      },
      "source": [
        "<a href=\"https://colab.research.google.com/github/sera0911/asia-ai-study/blob/main/python_day5.ipynb\" target=\"_parent\"><img src=\"https://colab.research.google.com/assets/colab-badge.svg\" alt=\"Open In Colab\"/></a>"
      ]
    },
    {
      "cell_type": "markdown",
      "metadata": {
        "id": "CeKnF9aCabnF"
      },
      "source": [
        "day4 정리    \n",
        "dict 클래스 - 집합형 자료형, key 와 value 함께 저장하는 구조    \n",
        "[index] 가 아닌 [key]으로 value(data, item)를 접근, 핸들링   \n",
        "keys(), valuse(), items(), get(key, 'default value')     \n",
        "key는 반드시 값이 존재해야 하며, 중복을 허용하지 않으며, 가능한 변경되지 않는 값을 key로 설정해야 한다.    \n",
        "collections OrderedDict()   \n",
        "{}, dict() 객체 생성    \n",
        "\n",
        "set은 set() 생성   \n",
        "중복되지 않은 value만 저장   \n",
        "집합자료형(list, tuple) 을 set변환 후 교집합, 합집합, 차집합, 부분집합 여부 체크, 큰 집합 여부 체크에 활용   \n",
        "\n",
        "함수 : 기능의 재사용성 목적, 특정 기능(action)을 수행하는 코드들의 묶음(grouping)    \n",
        "def 함수이름(매개변수, 형식 인수):    \n",
        "  명령    \n",
        "  .....     \n",
        "  [return None]   #생략하면 none이 리턴     \n",
        "\n",
        "함수이름(값, 실 인수)  #함수 호출   \n",
        "함수 호출할 때 값만 전달할 때는 함수에 선언된 순서대로 전달해야 함    \n",
        "함수 호출할 때 값을 이름과 함께 전달할 때는 순서는 함수에 선언된 순서 상관없이 전달 할 수 있음   \n",
        "함수 호출할 때 위치기반전달방식(positional parameter)과 이름기반전달방식(named parameter)을 함께 사용할 경우, 반드시 위치기반전달방식부터 전달하고 남은 파라미터를 이름기반 방식으로 전달해야 한다   \n",
        "\n",
        "\n",
        "함수의 파라미터로 함수(기능)을 전달 가능 ==> 전달해야 하는 함수의 기능이 한줄 코드로 정의 될 수 있다면 lambda함수로 전달   \n",
        "lambda 입력파라미터(생략가능) : [return](생략가능) 명령    \n",
        "lambda 입력파라미터 : [return] 명령()  #즉시 실행 함수 코드 패턴   \n",
        "\n",
        "변수 = lambda 입력파라미터 : [return] 명령   \n",
        "변수()   #변수에 저장된 함수를 호출(함수적 프로그래밍 언어에서만 가능)    \n",
        "\n",
        "함수 정의할 때 동일한 기능을 수행하지만, 전달하는 파라미터의 개수가 다양할 수 있다면.. 가변파라미터로 선언   \n",
        "가변 파라미터는 positional parameter, named parameter 보다 뒤에 선언되어야 합니다   \n",
        "가변 파라미터는 매개변수 앞에 *와 함께 선언   \n",
        "\n",
        "합수정의 할 때 값을 이름과 함께 가변적으로 전달할 경우   \n",
        "파라미터는 매개변수 앞에 **와 함께 선언   \n",
        "positional parameter, named parameter, *파라미터 보다 뒤에 **파라미터를 선언해야 한다   \n",
        "\n",
        "def 함수(positional parameter, named parameter, *파라미터, **파라미터): #함수 선언   \n",
        "  ~   \n",
        "\n",
        "함수(객체, 값, *객체)  #함수 호출할 때는 전달하는 *객체는 unpacking해서 전달해야 한다는 의미   \n",
        "\n",
        "\n",
        "리스트 컴프리헨션   \n",
        "[값을 반환하는 코드]   \n",
        "[값 for문 ]   \n",
        "[값 for문 if 조건문]   \n",
        "[값 if 조건 else 반환값 for문]   \n",
        "[값(연산식) for문 for문]   \n",
        "[[값(연산식) for문] for문]   \n",
        "dic 컴프리헨션   \n",
        "(k, v for 문k, v for 문)\n",
        "\n",
        "numbers = [1, 2, 3, 4, 5, 6, 7]   \n",
        "output = [ [], [], [] ] #2차원 리스트   \n",
        "\n",
        "for number in numbers:    \n",
        "  output[(number + 2) %3].append(number) #리스트의 index를 동적으로 선택하기 위한 연산식 사용   \n",
        "  \n",
        "\n",
        "numbers = [1, 2, 3, 4, 5, 6, 7]   \n",
        "output = [ [], [], [] ] #2차원 리스트   \n",
        "\n",
        "for number in numbers:    \n",
        "  output[(number + 2) %3].append(number) #리스트의 index를 동적으로 선택하기 위한 연산식 사용   \n",
        "\n",
        "첫 for문 [0] = [1, 4, 7]    \n",
        "2번째 for문[1] = [2, 5]   \n",
        "3번째 for문[2] = [3, 6]    \n",
        "\n",
        "print(output)   \n",
        "\n",
        "enumerate(집합객체) => index, item 반환   \n",
        "zip(집합갹채, 집합객체, ...) => index가 동일한 집합객체들의 item들을 tuple로 반환   \n",
        "list(map(함수, 집합객체))  #map은 집합객체의 값들을 하나씩 함수에 적용시켜 list의 요소로 전환하는 것    \n",
        "이것을 리스트 컴프리헨션으로 바꾸면   \n",
        "[함수기능코드 for 집합객체] 로 사용해도 됨   \n",
        "reduce(집계처리함수, 집합객체) > [집계처리함수기능코드 for 집합객체]   \n",
        "\n",
        "\n",
        "클래스 메모리에 객체를 생성하기 위한 틀(설계도)   \n",
        "객체(인스턴스)는 현실세계의 물리적, 논리적으로 존재하는 모든 실체   \n",
        "소프트웨어 관점으로 객체는 속성(멤버변수, 멤버필드, 인스턴스 변수)과 그 속성을 변경하는 기능(메서드)로 구성   \n",
        "\n",
        "class 클래스이름(부모클래스) :   #명시적으로 상속받을 부모클래스선언이 없으면 자동으로 파이썬 최상위 클래스 object를 상속 받음   \n",
        "\n",
        "크래스의 구성요소 : 클래스 선언, 멤버필드, 생성자메서드(클래스로부터 인스턴스 생성 및 멤버필드를 초기화), (일반 기능을 수행하는)메서드, 특수한 목적의 메서드 (ex __str__)    \n",
        "\n",
        "생성자메서드, 메서드, 특수한 목적의 메서드 등 모든 메서드를 선언할 때 첫번째 매개변수는 반드시 self 선언    \n",
        "생성자메서드는 __init__ 이름으로 정의한다   \n",
        "\n",
        "변수(객체, 인스턴스) = 클래스(생성자메서드 __init__의 self매개변수를 제외한 매개변수의 동일한 순서, 개수)  #객체 생성  \n",
        "\n",
        "변수(객체, 인스턴스), 멤버필드 = 값   \n",
        "print(변수(객체, 인스턴스), 멤버필드)   \n",
        "변수(객체, 인스턴스), 멤버메서드():  #객체의 메서드 호출"
      ]
    },
    {
      "cell_type": "markdown",
      "metadata": {
        "id": "tbbVi0nTyGfe"
      },
      "source": [
        "클래스를 사용하는 이유   \n",
        "• 자신이 만든 코드가 데이터 저장뿐 아니라 데이터를 변환하거나 데이터베이스에 저장하는 등의 역할이 필요할 때가 있다. 이것을 리스트와 함수로 각각 만들어 공유하는 것보다 하나의 객체로 생성해 다른 사람들에게 배포한 다면 훨씬 더 손쉽게 사용할 수 있을 것이다.    \n",
        "• 또한, 코드를 좀 더 손쉽게 선언할 수 있다는 장점도 있다."
      ]
    },
    {
      "cell_type": "code",
      "metadata": {
        "colab": {
          "base_uri": "https://localhost:8080/"
        },
        "id": "PZZT5dv6ByYM",
        "outputId": "ace9450b-ee16-4269-df93-7fbb91daccaa"
      },
      "source": [
        "names = ['messi', 'son', 'park', 'ramos']\n",
        "positions = ['mf', 'rf', 'cf', 'wf']\n",
        "numbers = [10, 4, 7, 13]\n",
        "\n",
        "class SoccerPlayer(object):\n",
        "  def __init__(self, name, position, back_number):\n",
        "    self.name = name\n",
        "    self.position = position\n",
        "    self.back_number = back_number\n",
        "  def change_back_number(self, new_number):\n",
        "    print(\"선수의 등 번호를 변경한다: From %d to %d\" % (self.back_number, new_number))\n",
        "    self.back_number = new_number\n",
        "  def __str__(self):\n",
        "    return \"Hello, My name is %s. I play in %s in center.\" % (self.name, self.position)\n",
        "# 클래스-인스턴스\n",
        "player_objects = [SoccerPlayer(name, position, number) for name, position, number in zip(names, positions,\n",
        "numbers)]\n",
        "print(player_objects[0])"
      ],
      "execution_count": 7,
      "outputs": [
        {
          "output_type": "stream",
          "text": [
            "Hello, My name is messi. I play in mf in center.\n"
          ],
          "name": "stdout"
        }
      ]
    },
    {
      "cell_type": "markdown",
      "metadata": {
        "id": "Gq79AwKDDcSm"
      },
      "source": [
        "__init__() 를 이용한 초기화   \n",
        "• __init__()는 객체가 생성될 때 호출되는 메소드로써, 객체의 초기화를 담당합니다.    \n",
        "• 객체가 처음부터 가져야 할 데이터 속성을 __init__()에서 정의합니다    \n",
        "• 클래스의 생성자가 호출되면 내부적으로 또 다른 두 개의 메소드가 호출됩니다. __new__()와 __init__() : Magic Method, Special Method   \n",
        "• __new__()는 클래스의 인스턴스를 만듭니다.   \n",
        "• self는 메소드가 소속되어 있는 객체입니다.    파이썬의 모든 메소드마다 self를 필수 매개변수로 입력합니다.   "
      ]
    },
    {
      "cell_type": "code",
      "metadata": {
        "colab": {
          "base_uri": "https://localhost:8080/"
        },
        "id": "LEOSLiOGEvEu",
        "outputId": "5675a53f-e09f-4a65-f18e-3d8985f05e19"
      },
      "source": [
        "class A:\n",
        "  def __new__(cls):   #상속받은 부모의 스페셜 메서드를 명시적으로 재정의함(객체 생성시 호출)\n",
        "    print ('A.__new__is called')  # -> this is never called\n",
        "\n",
        "a1 = A()   #객체생성\n"
      ],
      "execution_count": 8,
      "outputs": [
        {
          "output_type": "stream",
          "text": [
            "A.__new__is called\n"
          ],
          "name": "stdout"
        }
      ]
    },
    {
      "cell_type": "code",
      "metadata": {
        "colab": {
          "base_uri": "https://localhost:8080/"
        },
        "id": "Ve-l7vcXFHSx",
        "outputId": "5e291189-26e7-4c65-9334-0f9c8a51be17"
      },
      "source": [
        "class A:\n",
        "  def __init__(self):   #상속받은 부모의 스페셜 메서드를 명시적ㅁ으로 재정의함(생성된 객체의 멤버필드 초기화)\n",
        "    print('A.__init__ called')\n",
        "\n",
        "a2 = A()   #객체 생성"
      ],
      "execution_count": 18,
      "outputs": [
        {
          "output_type": "stream",
          "text": [
            "A.__init__ called\n"
          ],
          "name": "stdout"
        }
      ]
    },
    {
      "cell_type": "code",
      "metadata": {
        "colab": {
          "base_uri": "https://localhost:8080/"
        },
        "id": "l7FdSImhFo6W",
        "outputId": "8de953ce-a825-4533-cb56-a280e65fbbd1"
      },
      "source": [
        "class A(object):\n",
        "  def __new__(cls):\n",
        "    print('A.__new__called')\n",
        "    return super(A, cls).__new__(cls)\n",
        "\n",
        "  def __init(self):\n",
        "    print('A.__init__called')\n",
        "a3 = A()"
      ],
      "execution_count": 12,
      "outputs": [
        {
          "output_type": "stream",
          "text": [
            "A.__new__called\n"
          ],
          "name": "stdout"
        }
      ]
    },
    {
      "cell_type": "markdown",
      "metadata": {
        "id": "o822sqNbI7mV"
      },
      "source": [
        "정적 메소드   \n",
        "• @staticmethod 데코레이터로 선언하며, self 매개변수 없는 메소드입니다.   \n",
        "• 인스턴스를 통해서 접근이 가능하지만 클래스를 통해 호출하는 것이 보통입니다   \n",
        "• 정적 메소드는 self 매개변수를 전달받을 방법이 없으므로 객체/인스턴스의 변수에 접근할 수 없습니다.   \n",
        "• 정적 메소드는 객체의 데이터 속성과는 관계가 없는 코드로 구현되는 것이 일반적입니다.   "
      ]
    },
    {
      "cell_type": "code",
      "metadata": {
        "colab": {
          "base_uri": "https://localhost:8080/",
          "height": 223
        },
        "id": "5UYIyfaFJOXB",
        "outputId": "4c76fe61-cdd1-402a-f53b-02162aa0584c"
      },
      "source": [
        "class Calculator:\n",
        "  def plus(a, b): #반드시 객체를 생성한 후에 호출이 가능한 메서드\n",
        "    return a+b\n",
        "\n",
        "Obj = Calculator()\n",
        "Obj.plus(3, 5)\n",
        "a = Calculator.plus(7, 4)"
      ],
      "execution_count": 19,
      "outputs": [
        {
          "output_type": "error",
          "ename": "TypeError",
          "evalue": "ignored",
          "traceback": [
            "\u001b[0;31m---------------------------------------------------------------------------\u001b[0m",
            "\u001b[0;31mTypeError\u001b[0m                                 Traceback (most recent call last)",
            "\u001b[0;32m<ipython-input-19-e0293c517f2e>\u001b[0m in \u001b[0;36m<module>\u001b[0;34m()\u001b[0m\n\u001b[1;32m      4\u001b[0m \u001b[0;34m\u001b[0m\u001b[0m\n\u001b[1;32m      5\u001b[0m \u001b[0mObj\u001b[0m \u001b[0;34m=\u001b[0m \u001b[0mCalculator\u001b[0m\u001b[0;34m(\u001b[0m\u001b[0;34m)\u001b[0m\u001b[0;34m\u001b[0m\u001b[0;34m\u001b[0m\u001b[0m\n\u001b[0;32m----> 6\u001b[0;31m \u001b[0mObj\u001b[0m\u001b[0;34m.\u001b[0m\u001b[0mplus\u001b[0m\u001b[0;34m(\u001b[0m\u001b[0;36m3\u001b[0m\u001b[0;34m,\u001b[0m \u001b[0;36m5\u001b[0m\u001b[0;34m)\u001b[0m\u001b[0;34m\u001b[0m\u001b[0;34m\u001b[0m\u001b[0m\n\u001b[0m\u001b[1;32m      7\u001b[0m \u001b[0ma\u001b[0m \u001b[0;34m=\u001b[0m \u001b[0mCalculator\u001b[0m\u001b[0;34m.\u001b[0m\u001b[0mplus\u001b[0m\u001b[0;34m(\u001b[0m\u001b[0;36m7\u001b[0m\u001b[0;34m,\u001b[0m \u001b[0;36m4\u001b[0m\u001b[0;34m)\u001b[0m\u001b[0;34m\u001b[0m\u001b[0;34m\u001b[0m\u001b[0m\n",
            "\u001b[0;31mTypeError\u001b[0m: plus() takes 2 positional arguments but 3 were given"
          ]
        }
      ]
    },
    {
      "cell_type": "code",
      "metadata": {
        "id": "TiMnWwMtJjuK"
      },
      "source": [
        "class Calculator:\n",
        "  @staticmethod\n",
        "  def plus(a, b):\n",
        "    return a+b\n",
        "    \n",
        "Obj = Calculator()\n",
        "Obj.plus(3, 5)     #생성된 객체로 메서드 호출도 가능하지만,\n",
        "\n",
        "a = Calculator.plus(7, 4)    #객체 생성없이 메서드를 호출하기 위한 용도가 주 목적임임"
      ],
      "execution_count": 26,
      "outputs": []
    },
    {
      "cell_type": "code",
      "metadata": {
        "colab": {
          "base_uri": "https://localhost:8080/"
        },
        "id": "-rdPcTfHKFhN",
        "outputId": "0d894c08-b647-4cf8-b2c6-4529bff16264"
      },
      "source": [
        "class InstanceCounter :   \n",
        "  count=0   #클래스변수는 소유자는 클래스이며, 모든 객체듷이 동일하게 참조하는 변수(전역변수)\n",
        "  def __init__(self):\n",
        "    #self.필드 = 초기값 코드는 필드의 소유자가 생성되는 개체이며, 객체마다 다른 값을 가질 수 있는 경우\n",
        "    InstanceCounter.count += 1\n",
        "  @classmethod\n",
        "  def print_instance_count(cls):   #cls키워드는 클래스 자신을 의미하는 참조변수\n",
        "    print(cls.count)  \n",
        "\n",
        "a = InstanceCounter()\n",
        "InstanceCounter.print_instance_count()   #클래스메서드도 클래스이름으로 호출 가능\n",
        "b = InstanceCounter()\n",
        "InstanceCounter.print_instance_count()\n",
        "c = InstanceCounter()\n",
        "c.print_instance_count()"
      ],
      "execution_count": 30,
      "outputs": [
        {
          "output_type": "stream",
          "text": [
            "1\n",
            "2\n",
            "3\n"
          ],
          "name": "stdout"
        }
      ]
    },
    {
      "cell_type": "markdown",
      "metadata": {
        "id": "nV_O5xnQbOJE"
      },
      "source": [
        "Private member   \n",
        "• 클래스 안에서만 접근이 가능한 멤버   \n",
        "• 두 개의 밑줄 __이 접두사여야 한다.   \n",
        "• 접미사는 밑줄이 한 개까지만 허용된다. 접미사의 밑줄이 두 개 이상이면 퍼블릭 멤버로 간주합니다."
      ]
    },
    {
      "cell_type": "code",
      "metadata": {
        "colab": {
          "base_uri": "https://localhost:8080/",
          "height": 259
        },
        "id": "HyU8UBTPbW78",
        "outputId": "66ee5191-b06c-43a6-ca9a-9f257f57b69e"
      },
      "source": [
        "class HashPrivate:\n",
        "  def __init__(self):\n",
        "    self.public = \"Public\"\n",
        "    self.__private = \"Private\"   #클래스 내부에서만 access 허용, 클래스 외부에서는 access허용치 않음\n",
        "  def print_from_internal(self):\n",
        "    print(self.public)\n",
        "    print(self.__private)\n",
        "\n",
        "obj = HashPrivate()   #객체 생성\n",
        "obj. print_from_internal()  #__private 변수의 값이 출력됨\n",
        "print(obj.public)\n",
        "print(obj.__private)  #외부에서 엑세스 안되서 오류 발생"
      ],
      "execution_count": 33,
      "outputs": [
        {
          "output_type": "stream",
          "text": [
            "Public\n",
            "Private\n",
            "Public\n"
          ],
          "name": "stdout"
        },
        {
          "output_type": "error",
          "ename": "AttributeError",
          "evalue": "ignored",
          "traceback": [
            "\u001b[0;31m---------------------------------------------------------------------------\u001b[0m",
            "\u001b[0;31mAttributeError\u001b[0m                            Traceback (most recent call last)",
            "\u001b[0;32m<ipython-input-33-eca16dd1062f>\u001b[0m in \u001b[0;36m<module>\u001b[0;34m()\u001b[0m\n\u001b[1;32m     10\u001b[0m \u001b[0mobj\u001b[0m\u001b[0;34m.\u001b[0m \u001b[0mprint_from_internal\u001b[0m\u001b[0;34m(\u001b[0m\u001b[0;34m)\u001b[0m  \u001b[0;31m#__private 변수의 값이 출력됨\u001b[0m\u001b[0;34m\u001b[0m\u001b[0;34m\u001b[0m\u001b[0m\n\u001b[1;32m     11\u001b[0m \u001b[0mprint\u001b[0m\u001b[0;34m(\u001b[0m\u001b[0mobj\u001b[0m\u001b[0;34m.\u001b[0m\u001b[0mpublic\u001b[0m\u001b[0;34m)\u001b[0m\u001b[0;34m\u001b[0m\u001b[0;34m\u001b[0m\u001b[0m\n\u001b[0;32m---> 12\u001b[0;31m \u001b[0mprint\u001b[0m\u001b[0;34m(\u001b[0m\u001b[0mobj\u001b[0m\u001b[0;34m.\u001b[0m\u001b[0m__private\u001b[0m\u001b[0;34m)\u001b[0m  \u001b[0;31m#외부에서 엑세스 안되서 오류 발생\u001b[0m\u001b[0;34m\u001b[0m\u001b[0;34m\u001b[0m\u001b[0m\n\u001b[0m",
            "\u001b[0;31mAttributeError\u001b[0m: 'HashPrivate' object has no attribute '__private'"
          ]
        }
      ]
    },
    {
      "cell_type": "markdown",
      "metadata": {
        "id": "nzf3qqQEcOa8"
      },
      "source": [
        "상속   \n",
        "• 코드의 재사용성 향상   \n",
        "• 상속할 부모 클래스를 명시하지 않은 채 정의된 클래스는 object로부터 상속받습니다.    \n",
        "class 기반 클래스 :   \n",
        "  멤버 정의   \n",
        "class 파생 클래스(기반 클래스) :   \n",
        "   아무 멤버를 정의하지 않아도 기반 클래스의 모든 것을 물려받아 갖게 됩니다.(최상위인 object를 상속받음)   \n",
        "   단, 프라이빗 멤버는 제외됩니다.\n",
        "\n",
        "• 파이썬은 기반 클래스의 초기화 메소드를 프로그래머가 명시적으로 호출해야 합니다.   \n"
      ]
    },
    {
      "cell_type": "code",
      "metadata": {
        "colab": {
          "base_uri": "https://localhost:8080/",
          "height": 70
        },
        "id": "EywA0d-pdIhR",
        "outputId": "0b1710b8-a2f0-45b4-fea3-6a217708ba70"
      },
      "source": [
        "class A :    #부모클래스\n",
        "  def __init__(self):\n",
        "    print(\"A.__init__()\")\n",
        "    self.message = \"Made in A\"\n",
        "class B(A) :\n",
        "  def __init__(self):   #message필드를 선언하고 초기화하지 않아도 부모로부터 상속받음\n",
        "    A.__init__(self)       #이 줄이 있냐 없냐에 따라 달라짐\n",
        "    print(\"B.__init__()\")\n",
        "\n",
        "obj = B()\n",
        "obj.message"
      ],
      "execution_count": 45,
      "outputs": [
        {
          "output_type": "stream",
          "text": [
            "A.__init__()\n",
            "B.__init__()\n"
          ],
          "name": "stdout"
        },
        {
          "output_type": "execute_result",
          "data": {
            "application/vnd.google.colaboratory.intrinsic+json": {
              "type": "string"
            },
            "text/plain": [
              "'Made in A'"
            ]
          },
          "metadata": {
            "tags": []
          },
          "execution_count": 45
        }
      ]
    },
    {
      "cell_type": "markdown",
      "metadata": {
        "id": "oVhu8hcodHyE"
      },
      "source": [
        "상속   \n",
        "• super()는 부모 클래스의 객체 역할을 하는 프록시(Proxy)를 반환하는 내장 함수입니다. (프록시=대행객체)      \n",
        "• super() 함수의 반환값을 상위 클래스의 객체로 간주하고 코딩을 해도 됩니다.   \n",
        "• 기반 클래스가 다른 클래스로 교체되거나 수정되어도 파생 클래스(자식클래스)가 받는 영향을 최소화할 수 있습니다.   \n",
        "• 객체 내의 어떤 메소드에서든 부모 클래스에 정의되어 있는 버전의 메소드를 호출하고 싶으면 super()를 이용합니다.   "
      ]
    },
    {
      "cell_type": "code",
      "metadata": {
        "colab": {
          "base_uri": "https://localhost:8080/"
        },
        "id": "Ud_buEBufn3Q",
        "outputId": "406eb5bd-02df-4849-b7a1-d069c9951508"
      },
      "source": [
        "class A :\n",
        "  def __init__(self):\n",
        "    print(\"A.__init__()\")\n",
        "    self.message = \"Made in A\"\n",
        "class B(A) :\n",
        "  def __init__(self):\n",
        "    print(\"B.__init__()\")\n",
        "    super().__init__()\n",
        "    print(\"self.message is\"  + self.message)\n",
        "obj = B()"
      ],
      "execution_count": 47,
      "outputs": [
        {
          "output_type": "stream",
          "text": [
            "B.__init__()\n",
            "A.__init__()\n",
            "self.message isMade in A\n"
          ],
          "name": "stdout"
        }
      ]
    },
    {
      "cell_type": "markdown",
      "metadata": {
        "id": "FtDwCzjYf87I"
      },
      "source": [
        "다중 상속   \n",
        "• 다중 상속을 처리할 때 부모 클래스의 목록에서 가장 앞에 있는 클래스의 메소드를 물려줍니다."
      ]
    },
    {
      "cell_type": "code",
      "metadata": {
        "colab": {
          "base_uri": "https://localhost:8080/"
        },
        "id": "VM2SF6MkgAgO",
        "outputId": "62088ec1-c0b4-4f19-f51c-1ac39c2fd82f"
      },
      "source": [
        "class A:\n",
        "  def info(self):\n",
        "    print('A.info() called')\n",
        "class B:\n",
        "   def info(self):\n",
        "    print('B.info() called')\n",
        "class C:\n",
        "   def info(self):\n",
        "    print('C.info() called')\n",
        "\n",
        "class D(A, B, C):\n",
        "  pass\n",
        "\n",
        "d = D()  #객체 생성\n",
        "d.info()   #매서드 호출"
      ],
      "execution_count": 50,
      "outputs": [
        {
          "output_type": "stream",
          "text": [
            "A.info() called\n"
          ],
          "name": "stdout"
        }
      ]
    },
    {
      "cell_type": "markdown",
      "metadata": {
        "id": "oDEeHwYthR93"
      },
      "source": [
        "메서드가 같은 게 여러개 일 때 가장 앞에 있는 메서드 사용 b,c는 반환되지 않음   \n",
        "만약 D(B,A,C) 이렇게 순서였다면 B를 상속받게 된다다"
      ]
    },
    {
      "cell_type": "markdown",
      "metadata": {
        "id": "axmz9ulNhYz1"
      },
      "source": [
        "다형성을 구현한 특성 - overload, override   \n",
        "overload는 하나의 클래스내부에서 동일한 기능을 수행하는 메서드를 하나 이상 정의(선언)  => 가변 파라미터를 이용   \n",
        "override(재정의)는 부모클래스로부터 상속받은 매서드를 재정의(기능 update)하는 것"
      ]
    },
    {
      "cell_type": "markdown",
      "metadata": {
        "id": "6eJ2vuorlDK5"
      },
      "source": [
        "이터레이터   \n",
        "• 파이썬에서 for문을 실행할 때 가장 먼저 하는 일은 순회하려는 객체의 __iter__()를 호출하는 것입니다.   \n",
        "• __iter()__는 이터레이터(iterator)라고 하는 특별한 객체를 for문에게 반환합니다.    \n",
        "• range() 함수가 반환하는 것은 __iter__()를 구현하는 순회가능한 객체    \n",
        "제네레이터 (Generator)   \n",
        "• 제네레이터는 이터레이터처럼 동작하는 함수입니다.\n",
        "• 이터레이터보다 훨씬 더 간편하게 구현할 수 있습니다.   "
      ]
    },
    {
      "cell_type": "code",
      "metadata": {
        "colab": {
          "base_uri": "https://localhost:8080/"
        },
        "id": "KWW9SnyKjHCO",
        "outputId": "c08df9bf-e82f-4cc1-eb30-0bf6b761e587"
      },
      "source": [
        "#lab 노트북 프로그램 만들기lab 노트북 프로그램 만들기\n",
        "\n",
        "class Note(object):\n",
        "  def __init__(self, contents):\n",
        "    self.contents = contents\n",
        "\n",
        "  def get_number_of_lines(self):\n",
        "    return self.contents.count('\\n')\n",
        "\n",
        "  def get_number_of_characters(self):\n",
        "    return len(self.contents)\n",
        "\n",
        "  def remove(self):\n",
        "    self.contents = '삭제된 노트입니다.'\n",
        "\n",
        "  def __str__ (self):\n",
        "    return self.contents\n",
        "\n",
        "note = Note('2021년 3월 22일 - it일기: 너무 어렵고 딱딱하다')\n",
        "print(note)  #print(note.__str__()) 와 동일\n",
        "print(note.get_number_of_lines())\n",
        "print(note.get_number_of_characters())\n",
        "print(note.contents)\n",
        "note.remove()\n",
        "print(note.contents)\n"
      ],
      "execution_count": 57,
      "outputs": [
        {
          "output_type": "stream",
          "text": [
            "2021년 3월 22일 - it일기: 너무 어렵고 딱딱하다\n",
            "0\n",
            "32\n",
            "2021년 3월 22일 - it일기: 너무 어렵고 딱딱하다\n",
            "삭제된 노트입니다.\n"
          ],
          "name": "stdout"
        }
      ]
    },
    {
      "cell_type": "code",
      "metadata": {
        "id": "jBGogZz5xqVk"
      },
      "source": [
        "class Notebook(object):\n",
        "  def __init__(self, name):\n",
        "    self.name = name\n",
        "    self.pages = 0\n",
        "    self.notes = {}\n",
        "\n",
        "  def add_note(self, note, page_number=0):\n",
        "    if len(self.notes.keys()) < 300:  #페이지수가 300미만인경우\n",
        "      if page_number == 0:            #페이지 번호가 인수로 전달된 경우가 아니면\n",
        "        if self.pages < 301:          #마지막 저장된 페이지의 다음 페이지에 저장\n",
        "          self.notes[self.pages] = note\n",
        "          self.pages += 1\n",
        "\n",
        "        else:\n",
        "          #저장된 페이지수가 300이면 내부에 삭제된 페이지를 찾아서 저장함\n",
        "          for i in range(300):\n",
        "            if i not in list(self.notes.keys()):\n",
        "              self.notes[self.pages] = note\n",
        "      else:    #페이지수가 300이거나 초과하는 경우\n",
        "        if page_number not in self.notes.keys():   #삭제된 페이지를 찾아서 note 저장\n",
        "          self.notes[page_number] = note\n",
        "        else:   #note객체와 페이지 번호가 함께 전달되어 온 경우 \n",
        "          print('해당 페이지에는 이미 노트가 존재합니다')\n",
        "    else:  #페이지수가 300 초과하고 삭제된 페이지도 없는 경우\n",
        "      print('더 이상 노트를 추가하지 못합니다')\n",
        "\n",
        "  def remove_note(self, page_number):\n",
        "    del self.notes[page_number]\n",
        "\n",
        "  def get_number_of_lines(self):\n",
        "    result = 0\n",
        "    for k in self.notes.keys():\n",
        "      result += self[k],get_number_of_lines()\n",
        "    return result\n",
        "\n",
        "  def get_number_of_characters(self):\n",
        "    result = 0\n",
        "    for k in self.notes.keys():\n",
        "      result += self.notes[k].get_number_of_characters()\n",
        "    return result\n",
        "\n",
        "  def get_number_of_all_pages(self):\n",
        "    return len(self.notes.keys())\n",
        "\n",
        "  def __str__(self):\n",
        "    return self.name\n",
        "\n",
        "\n"
      ],
      "execution_count": 60,
      "outputs": []
    },
    {
      "cell_type": "code",
      "metadata": {
        "colab": {
          "base_uri": "https://localhost:8080/",
          "height": 383
        },
        "id": "Y8fmg77w2YfR",
        "outputId": "4cc3843e-9591-49c7-8598-2e4822f0fd59"
      },
      "source": [
        "#Note클래스와 NoteBook클래스를 notebook.py파일로 작업디렉토리에 저장한 경우\n",
        "from notebook import Note\n",
        "from notebook import NoteBook\n",
        "\n",
        "\n",
        "\n",
        "good_sentence = \"\"\"세상사는 데 도움이 되는 명언, 힘이 되는 명언, 용기를 주는 명언, 위로가 되는 명언, 좋은 명언 모음 100가지. 자주 보면 좋을 것 같아서 선별했습니다.\"\"\"\n",
        "note_1 = Note(good_sentence)\n",
        "\n",
        "print(note_1)\n",
        "note_1.remove()\n",
        "print(note_1)\n",
        "\n",
        "\n",
        "good_sentence = \"\"\"삶이 있는 한 희망은 있다. - 키케로 \"\"\"\n",
        "note_2 = Note(good_sentence)\n",
        "\n",
        "good_sentence = \"\"\"하루에 3시간을 걸으면 7년 후에 지구를 한 바퀴 돌 수 있다. - 사무엘 존슨\"\"\"\n",
        "note_3 = Note(good_sentence)\n",
        "\n",
        "good_sentence = \"\"\"행복의 문이 하나 닫히면 다른 문이 열린다. 그러나 우리는 종종 닫힌 문을 멍하니 바라보다가 우리를 향해 열린 문을 보지 못하게 된다. - 헬렌 켈러\"\"\"\n",
        "note_4 = Note(good_sentence)\n",
        "\n",
        "\n",
        "wise_saying_notebook = NoteBook(\"명언 노트\")\n",
        "wise_saying_notebook.add_note(note_1)\n",
        "print(wise_saying_notebook.get_number_of_all_pages())\n",
        "\n",
        "wise_saying_notebook.add_note(note_2)\n",
        "print(wise_saying_notebook.get_number_of_all_pages())\n",
        "\n",
        "wise_saying_notebook.add_note(note_3)\n",
        "wise_saying_notebook.add_note(note_4)\n",
        "print(wise_saying_notebook.get_number_of_all_pages())\n",
        "print(wise_saying_notebook.get_number_of_all_characters())\n",
        "\n",
        "\n",
        "wise_saying_notebook.remove_note(3)\n",
        "print(wise_saying_notebook.get_number_of_all_pages())\n",
        "\n",
        "\n",
        "wise_saying_notebook.add_note(note_1, 100)\n",
        "wise_saying_notebook.add_note(note_1, 100)\n",
        "\n",
        "for i in range(300):\n",
        "    wise_saying_notebook.add_note(note_1, i)\n",
        "\n",
        "print(wise_saying_notebook.get_number_of_all_pages())\n",
        "\n",
        "wise_saying_notebook.add_note(note_1)\n",
        "wise_saying_notebook.add_note(note_1)\n",
        "\n"
      ],
      "execution_count": 72,
      "outputs": [
        {
          "output_type": "error",
          "ename": "ImportError",
          "evalue": "ignored",
          "traceback": [
            "\u001b[0;31m---------------------------------------------------------------------------\u001b[0m",
            "\u001b[0;31mImportError\u001b[0m                               Traceback (most recent call last)",
            "\u001b[0;32m<ipython-input-72-e1f7e07fd653>\u001b[0m in \u001b[0;36m<module>\u001b[0;34m()\u001b[0m\n\u001b[1;32m      1\u001b[0m \u001b[0;31m#Note클래스와 NoteBook클래스를 notebook.py파일로 작업디렉토리에 저장한 경우\u001b[0m\u001b[0;34m\u001b[0m\u001b[0;34m\u001b[0m\u001b[0;34m\u001b[0m\u001b[0m\n\u001b[0;32m----> 2\u001b[0;31m \u001b[0;32mfrom\u001b[0m \u001b[0mnotebook\u001b[0m \u001b[0;32mimport\u001b[0m \u001b[0mNote\u001b[0m\u001b[0;34m\u001b[0m\u001b[0;34m\u001b[0m\u001b[0m\n\u001b[0m\u001b[1;32m      3\u001b[0m \u001b[0;32mfrom\u001b[0m \u001b[0mnotebook\u001b[0m \u001b[0;32mimport\u001b[0m \u001b[0mNoteBook\u001b[0m\u001b[0;34m\u001b[0m\u001b[0;34m\u001b[0m\u001b[0m\n\u001b[1;32m      4\u001b[0m \u001b[0;34m\u001b[0m\u001b[0m\n\u001b[1;32m      5\u001b[0m \u001b[0;34m\u001b[0m\u001b[0m\n",
            "\u001b[0;31mImportError\u001b[0m: cannot import name 'Note' from 'notebook' (/content/notebook.py)",
            "",
            "\u001b[0;31m---------------------------------------------------------------------------\u001b[0;32m\nNOTE: If your import is failing due to a missing package, you can\nmanually install dependencies using either !pip or !apt.\n\nTo view examples of installing some common dependencies, click the\n\"Open Examples\" button below.\n\u001b[0;31m---------------------------------------------------------------------------\u001b[0m\n"
          ]
        }
      ]
    },
    {
      "cell_type": "markdown",
      "metadata": {
        "id": "RJNpSo9W84G6"
      },
      "source": [
        "예외  처리    \n",
        "예외의 개념과 사례     \n",
        "• 예외(exception) 란 프로그램을 개발하면서 예상하지 못한 상황이 발생한 것이다. 프로그래밍의 예외는 크게 예측 가능한 예외와 예측 불가능한 예외로 나눌 수 있다.    \n",
        "\n",
        "프로그램 개발 또는 실행할 때 오류 종류:   \n",
        "컴파일 오류 - 컴파일 후에 소스코드가 기계어 또는 바이트코드로 변환시에 발생(문법적 규칙이 맞지 않을 때)   \n",
        "런타임 오류 - 실행시에 발생 (논리적 오류, 실행구조와 관련된 오류)   \n",
        "발생할 가능성이 있는 코드의 오류를 최소화하려면   \n",
        "1. 사전에 조건문으로 오류 발생 가능성을 차단 - 완벽하지 않음   \n",
        "2. 예상하지 못한 에러가 발생 가능성에 대해서는 - try ~ catch     \n",
        "예외 처리 구문 : try -except문   \n",
        "• 파이썬 예외 처리의 기본 문법은 try -except문이다.   \n",
        "try:   \n",
        "  예외 발생 가능 코드   \n",
        "except 예외 타입:    \n",
        "  예외 발생 시 실행되는 코드   \n",
        "\n",
        "• 예외의 발생은 예상 가능하므로 try문으로 해당 예외가 발생할 때를 대비할 수 있다.    ZeroDivisionError, 즉 0으로 나눠진 경우에는 except 문 안으로 들어가 해당 구문에서 처리하는 코드가 정의된다   \n",
        "for i in ragne(10):    \n",
        "  try:    \n",
        "    print(10/i)    \n",
        "  except ZeroDivisionError:     \n",
        "    print(\"Not divided by 0\")    "
      ]
    },
    {
      "cell_type": "code",
      "metadata": {
        "colab": {
          "base_uri": "https://localhost:8080/",
          "height": 188
        },
        "id": "03Yk-dypBd4U",
        "outputId": "c5d71511-f3ef-4f5f-b6f2-1720f168582b"
      },
      "source": [
        "for i in range(10):\n",
        "  print(10/i)"
      ],
      "execution_count": 75,
      "outputs": [
        {
          "output_type": "error",
          "ename": "ZeroDivisionError",
          "evalue": "ignored",
          "traceback": [
            "\u001b[0;31m---------------------------------------------------------------------------\u001b[0m",
            "\u001b[0;31mZeroDivisionError\u001b[0m                         Traceback (most recent call last)",
            "\u001b[0;32m<ipython-input-75-8557a9eeb72f>\u001b[0m in \u001b[0;36m<module>\u001b[0;34m()\u001b[0m\n\u001b[1;32m      1\u001b[0m \u001b[0;32mfor\u001b[0m \u001b[0mi\u001b[0m \u001b[0;32min\u001b[0m \u001b[0mrange\u001b[0m\u001b[0;34m(\u001b[0m\u001b[0;36m10\u001b[0m\u001b[0;34m)\u001b[0m\u001b[0;34m:\u001b[0m\u001b[0;34m\u001b[0m\u001b[0;34m\u001b[0m\u001b[0m\n\u001b[0;32m----> 2\u001b[0;31m   \u001b[0mprint\u001b[0m\u001b[0;34m(\u001b[0m\u001b[0;36m10\u001b[0m\u001b[0;34m/\u001b[0m\u001b[0mi\u001b[0m\u001b[0;34m)\u001b[0m\u001b[0;34m\u001b[0m\u001b[0;34m\u001b[0m\u001b[0m\n\u001b[0m",
            "\u001b[0;31mZeroDivisionError\u001b[0m: division by zero"
          ]
        }
      ]
    },
    {
      "cell_type": "code",
      "metadata": {
        "colab": {
          "base_uri": "https://localhost:8080/"
        },
        "id": "qTz84Imo83cQ",
        "outputId": "06c15afc-6c38-49ff-f9ee-7d0056a12078"
      },
      "source": [
        "for i in range(10):\n",
        "  try:\n",
        "    print(10/i)\n",
        "  except ZeroDivisionError:\n",
        "    print(\"Not divided by 0\")"
      ],
      "execution_count": 74,
      "outputs": [
        {
          "output_type": "stream",
          "text": [
            "Not divided by 0\n",
            "10.0\n",
            "5.0\n",
            "3.3333333333333335\n",
            "2.5\n",
            "2.0\n",
            "1.6666666666666667\n",
            "1.4285714285714286\n",
            "1.25\n",
            "1.1111111111111112\n"
          ],
          "name": "stdout"
        }
      ]
    },
    {
      "cell_type": "markdown",
      "metadata": {
        "id": "Cc_OWn7BBmH9"
      },
      "source": [
        "• try문 내부에서 예외가 발생하면 except문 영역에서 코드가 실행되고, try except문이 종료된다. 이러한 이유로 try문을 적당한 곳에 삽입하여 예외 처리를 해야 한다.   \n",
        "• 예외 에러 메시지 : 내장 예외와 함께 사용하기 좋은 것이 예외 에러 메시지이다.   \n",
        "except문의 마지막에 ‘as e’또는 ‘as 변수명’을 입력하고, 해당 변수명을 출력하면 된다.   \n",
        "에러 메시지는 파이썬 개발자들이 사전에 정의한 것으로, 특정한 에러를 빠르게 이해할 수 있도록 돕는다."
      ]
    },
    {
      "cell_type": "code",
      "metadata": {
        "colab": {
          "base_uri": "https://localhost:8080/"
        },
        "id": "tHrpFWWPB-wk",
        "outputId": "d34cfebc-6c8d-4ff6-b017-3429aeafa4f6"
      },
      "source": [
        "for i in range(10):\n",
        "  try:\n",
        "    print(10/i)\n",
        "  except ZeroDivisionError as e:\n",
        "    print(e)\n",
        "    print(\"Not divided by 0\")"
      ],
      "execution_count": 76,
      "outputs": [
        {
          "output_type": "stream",
          "text": [
            "division by zero\n",
            "Not divided by 0\n",
            "10.0\n",
            "5.0\n",
            "3.3333333333333335\n",
            "2.5\n",
            "2.0\n",
            "1.6666666666666667\n",
            "1.4285714285714286\n",
            "1.25\n",
            "1.1111111111111112\n"
          ],
          "name": "stdout"
        }
      ]
    },
    {
      "cell_type": "markdown",
      "metadata": {
        "id": "kDlH_g-7CXlE"
      },
      "source": [
        "예외 처리 구문 : try-except-else문    \n",
        "• try-except-else문은 if-else문과 비슷한데, 해당 예외가 발생하지 않을 경우 수행할 코드를 else문에 작성한다.    \n",
        "try:   \n",
        "  예외 발생 가능 코드   \n",
        "except 예외 타입:\n",
        "  예외 발생 시 실행되는 코드   \n",
        "else:\n",
        "  예외가 발생하지 않을 때 실행되는 코드"
      ]
    },
    {
      "cell_type": "code",
      "metadata": {
        "colab": {
          "base_uri": "https://localhost:8080/"
        },
        "id": "SNJGTd7jC7ph",
        "outputId": "71f2605c-526f-4d43-8ce2-0fb87cb83200"
      },
      "source": [
        "#예외가 발생되므로 try_ except 수행, else는 수행되지 않음\n",
        "try:\n",
        "    for i in range(5):\n",
        "        print(10/i)\n",
        "except ZeroDivisionError:\n",
        "    print(\"not divided by 0\")\n",
        "else:\n",
        "        print('End!')\n"
      ],
      "execution_count": 82,
      "outputs": [
        {
          "output_type": "stream",
          "text": [
            "not divided by 0\n"
          ],
          "name": "stdout"
        }
      ]
    },
    {
      "cell_type": "code",
      "metadata": {
        "colab": {
          "base_uri": "https://localhost:8080/"
        },
        "id": "6P7Kr5M5DHT5",
        "outputId": "387d4f01-1667-45c0-c61a-6e7ac2bf9e52"
      },
      "source": [
        "#예외가 발생하지 않으므로 try_else만 수행됨\n",
        "for i in range(1, 11):\n",
        "  try:\n",
        "    print(10/i)\n",
        "  except ZeroDivisionError:\n",
        "    print(\"Not divided by 0\")\n",
        "  else:\n",
        "    print('End!! Bye~!')"
      ],
      "execution_count": 79,
      "outputs": [
        {
          "output_type": "stream",
          "text": [
            "10.0\n",
            "End!! Bye~!\n",
            "5.0\n",
            "End!! Bye~!\n",
            "3.3333333333333335\n",
            "End!! Bye~!\n",
            "2.5\n",
            "End!! Bye~!\n",
            "2.0\n",
            "End!! Bye~!\n",
            "1.6666666666666667\n",
            "End!! Bye~!\n",
            "1.4285714285714286\n",
            "End!! Bye~!\n",
            "1.25\n",
            "End!! Bye~!\n",
            "1.1111111111111112\n",
            "End!! Bye~!\n",
            "1.0\n",
            "End!! Bye~!\n"
          ],
          "name": "stdout"
        }
      ]
    },
    {
      "cell_type": "markdown",
      "metadata": {
        "id": "vn2XqVMLF-Uz"
      },
      "source": [
        "예외 처리 구문 : try-except-finally문    \n",
        "• try-except-finally문에서 finally문은 try-except문 안에 있는 수행 코드가 아무런 문제 없이 종료되었을 경우, 최종으로 호출하는 코드이다    \n",
        "(예외 발생 여부와 상관없이 반드시 실행되는 코드이다)"
      ]
    },
    {
      "cell_type": "code",
      "metadata": {
        "colab": {
          "base_uri": "https://localhost:8080/"
        },
        "id": "Wd1Zq1b7F5xO",
        "outputId": "de0a0441-f3a5-4c84-f899-a8c011137dcb"
      },
      "source": [
        "try:\n",
        "    for i in range(5):\n",
        "        print(10/i)\n",
        "except ZeroDivisionError:\n",
        "    print(\"not divided by 0\")\n",
        "finally:\n",
        "        print('End!')\n"
      ],
      "execution_count": 83,
      "outputs": [
        {
          "output_type": "stream",
          "text": [
            "not divided by 0\n",
            "End!\n"
          ],
          "name": "stdout"
        }
      ]
    },
    {
      "cell_type": "markdown",
      "metadata": {
        "id": "O65A2isfGE9H"
      },
      "source": [
        "예외 처리 구문 : raise문    \n",
        "• raise문은 try-except문과 달리 필요할 때 예외를 발생시키는 코드이다.    \n"
      ]
    },
    {
      "cell_type": "code",
      "metadata": {
        "colab": {
          "base_uri": "https://localhost:8080/",
          "height": 312
        },
        "id": "BN6zi-oOJLzJ",
        "outputId": "638f98d1-1de8-4e6a-8e7a-094187c65054"
      },
      "source": [
        "while True:\n",
        "  value = input('변환할 정수값을 입력해 주세요:')\n",
        "  for digit in value:\n",
        "    if digit not in '0123456789':\n",
        "      raise ValueError('숫자값을 입력하지 않았습니다.')\n",
        "  print('정수값으로 변환된 숫자-', int(value))"
      ],
      "execution_count": 84,
      "outputs": [
        {
          "output_type": "stream",
          "text": [
            "변환할 정수값을 입력해 주세요:4\n",
            "정수값으로 변환된 숫자- 4\n",
            "변환할 정수값을 입력해 주세요:25\n",
            "정수값으로 변환된 숫자- 25\n",
            "변환할 정수값을 입력해 주세요:sera\n"
          ],
          "name": "stdout"
        },
        {
          "output_type": "error",
          "ename": "ValueError",
          "evalue": "ignored",
          "traceback": [
            "\u001b[0;31m---------------------------------------------------------------------------\u001b[0m",
            "\u001b[0;31mValueError\u001b[0m                                Traceback (most recent call last)",
            "\u001b[0;32m<ipython-input-84-072d6c9cb7d2>\u001b[0m in \u001b[0;36m<module>\u001b[0;34m()\u001b[0m\n\u001b[1;32m      3\u001b[0m   \u001b[0;32mfor\u001b[0m \u001b[0mdigit\u001b[0m \u001b[0;32min\u001b[0m \u001b[0mvalue\u001b[0m\u001b[0;34m:\u001b[0m\u001b[0;34m\u001b[0m\u001b[0;34m\u001b[0m\u001b[0m\n\u001b[1;32m      4\u001b[0m     \u001b[0;32mif\u001b[0m \u001b[0mdigit\u001b[0m \u001b[0;32mnot\u001b[0m \u001b[0;32min\u001b[0m \u001b[0;34m'0123456789'\u001b[0m\u001b[0;34m:\u001b[0m\u001b[0;34m\u001b[0m\u001b[0;34m\u001b[0m\u001b[0m\n\u001b[0;32m----> 5\u001b[0;31m       \u001b[0;32mraise\u001b[0m \u001b[0mValueError\u001b[0m\u001b[0;34m(\u001b[0m\u001b[0;34m'숫자값을 입력하지 않았습니다.'\u001b[0m\u001b[0;34m)\u001b[0m\u001b[0;34m\u001b[0m\u001b[0;34m\u001b[0m\u001b[0m\n\u001b[0m\u001b[1;32m      6\u001b[0m   \u001b[0mprint\u001b[0m\u001b[0;34m(\u001b[0m\u001b[0;34m'정수값으로 변환된 숫자-'\u001b[0m\u001b[0;34m,\u001b[0m \u001b[0mint\u001b[0m\u001b[0;34m(\u001b[0m\u001b[0mvalue\u001b[0m\u001b[0;34m)\u001b[0m\u001b[0;34m)\u001b[0m\u001b[0;34m\u001b[0m\u001b[0;34m\u001b[0m\u001b[0m\n",
            "\u001b[0;31mValueError\u001b[0m: 숫자값을 입력하지 않았습니다."
          ]
        }
      ]
    },
    {
      "cell_type": "markdown",
      "metadata": {
        "id": "RDSD5W_kJrn3"
      },
      "source": [
        "사용자가 입력한 값이 숫자가 아닌 경우에는 숫자값을 입력받지 않았다고 출력하면서 프로그램을 종료하는 프로그램이다.    \n",
        "사용자가 입력을 잘못했을 때, 입력이 잘못된 것을 알려 주면서 종료하는 프로그램이다."
      ]
    },
    {
      "cell_type": "markdown",
      "metadata": {
        "id": "5CVSo_7ZKGoD"
      },
      "source": [
        "사용자 정의 예외 클래스 : OutlierError    \n",
        "\n",
        "중학생 키 측정값 [145, 155.5, 160.5, 162, 158, 128, 195, 170, 160, 163, 164, 157]   \n",
        "중학생 키값의 범위 140~170인데 범위가 아닌 값은 OutlierError예외발생 시킨 후 OutlierError의 멤버필드로 저장된 작년도 중학생 키의 평균값으로 대체한 다음 올해의 중학생 평균키값을 계산한다   \n",
        "\n",
        "class OutlierError(Exception):\n",
        "  def __init__(self, message):\n",
        "    self.oldValue = 160.5\n",
        "    self.message = massage\n",
        "  def __str__(self):\n",
        "    return \"키의 측정값의 범위에 해당하지 않습니다. 작년도 평균 키 값으로 보정합니다.\"   \n",
        "\n",
        "\n",
        "def check_tall_range(tall):\n",
        "  if tall > 170:\n",
        "    raise OutlierError(\"키의 측정값의 범위가 170보다 큽니다\")   \n",
        "  elif tall < 140 :\n",
        "    raise OutlierError(\"키의 측정값의 범위가 140보다 작습니다\")  \n",
        "    \n",
        "middle_talls = [145, 155.5, 160.5, 162, 158, 128, 195, 170, 160, 163, 164, 157]    \n"
      ]
    },
    {
      "cell_type": "code",
      "metadata": {
        "colab": {
          "base_uri": "https://localhost:8080/"
        },
        "id": "3wC9DcXSMslv",
        "outputId": "df7ab583-d76c-4411-ca96-a776cbc20480"
      },
      "source": [
        "class OutlierError(Exception):\n",
        "  def __init__(self, message):\n",
        "    self.oldValue = 160.5\n",
        "    self.message = message\n",
        "  def __str__(self):\n",
        "    return \"키의 측정값의 범위에 해당하지 않습니다. 작년도 평균 키 값으로 보정합니다.\"   \n",
        "\n",
        "\n",
        "def check_tall_range(tall):\n",
        "  if tall > 170:\n",
        "    raise OutlierError(\"키의 측정값의 범위가 170보다 큽니다\")   \n",
        "  elif tall < 140 :\n",
        "    raise OutlierError(\"키의 측정값의 범위가 140보다 작습니다\")  \n",
        "    \n",
        "def average_tall(talls):\n",
        "  hap = 0\n",
        "  for t in talls:\n",
        "    hap += t\n",
        "  return hap/len(talls)\n",
        "\n",
        "middle_talls = [145, 155.5, 160.5, 162, 158, 128, 195, 170, 160, 163, 164, 157]   \n",
        "\n",
        "for idx, t in enumerate(middle_talls) :\n",
        "  try:\n",
        "    check_tall_range(t)\n",
        "  except OutlierError as o:\n",
        "    middle_talls[idx] = o.oldValue\n",
        "    print(o.message, '작년도 키 평균으로 보정함')\n",
        "\n",
        "\n",
        "print(\"2021년 중학생 평균 키 값은:\", average_tall(middle_talls), 'cm')\n"
      ],
      "execution_count": 87,
      "outputs": [
        {
          "output_type": "stream",
          "text": [
            "키의 측정값의 범위가 140보다 작습니다 작년도 키 평균으로 보정함\n",
            "키의 측정값의 범위가 170보다 큽니다 작년도 키 평균으로 보정함\n",
            "2021년 중학생 평균 키 값은: 159.66666666666666 cm\n"
          ],
          "name": "stdout"
        }
      ]
    }
  ]
}