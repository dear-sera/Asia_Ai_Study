{
  "nbformat": 4,
  "nbformat_minor": 0,
  "metadata": {
    "colab": {
      "name": "python day1.ipynb",
      "provenance": [],
      "authorship_tag": "ABX9TyN4MvjqHHxPnr75os8A1d00",
      "include_colab_link": true
    },
    "kernelspec": {
      "name": "python3",
      "display_name": "Python 3"
    }
  },
  "cells": [
    {
      "cell_type": "markdown",
      "metadata": {
        "id": "view-in-github",
        "colab_type": "text"
      },
      "source": [
        "<a href=\"https://colab.research.google.com/github/sera0911/asia-ai-study/blob/main/python_day1.ipynb\" target=\"_parent\"><img src=\"https://colab.research.google.com/assets/colab-badge.svg\" alt=\"Open In Colab\"/></a>"
      ]
    },
    {
      "cell_type": "code",
      "metadata": {
        "colab": {
          "base_uri": "https://localhost:8080/"
        },
        "id": "afEhtuRs-cfm",
        "outputId": "99d03246-3ee2-445d-9f65-a79036421020"
      },
      "source": [
        "for i in range(1, 11):\r\n",
        "  print(i)"
      ],
      "execution_count": 1,
      "outputs": [
        {
          "output_type": "stream",
          "text": [
            "1\n",
            "2\n",
            "3\n",
            "4\n",
            "5\n",
            "6\n",
            "7\n",
            "8\n",
            "9\n",
            "10\n"
          ],
          "name": "stdout"
        }
      ]
    },
    {
      "cell_type": "markdown",
      "metadata": {
        "id": "17FupoRJ-oFm"
      },
      "source": [
        "for 과 in 은 키워드라 다르게 대체가 되지 않음\r\n",
        "1, 11은 1부터 11전까지인 10까지 횟수를 반복한다는 뜻     \r\n"
      ]
    },
    {
      "cell_type": "markdown",
      "metadata": {
        "id": "T1w-fNxPwv7y"
      },
      "source": [
        "for문이 2줄로 중첩한다면 바깥쪽 for문은 행 안쪽 for문은 열    \r\n",
        "그러니까 첫 for문에 숫자는 행의 수를 나타내는 뜻이고, 두번째 for문의 코드는 결과의 글을 나타냄"
      ]
    },
    {
      "cell_type": "code",
      "metadata": {
        "colab": {
          "base_uri": "https://localhost:8080/"
        },
        "id": "pnUSw0wS-8PJ",
        "outputId": "92f96a32-f581-424e-fb0d-0bbede64f318"
      },
      "source": [
        "#별을 출력하는 코드\r\n",
        "for y in range(10) :\r\n",
        "  for x in range(y) :\r\n",
        "    print('*', end=' ')\r\n",
        "  print()"
      ],
      "execution_count": 7,
      "outputs": [
        {
          "output_type": "stream",
          "text": [
            "\n",
            "* \n",
            "* * \n",
            "* * * \n",
            "* * * * \n",
            "* * * * * \n",
            "* * * * * * \n",
            "* * * * * * * \n",
            "* * * * * * * * \n",
            "* * * * * * * * * \n"
          ],
          "name": "stdout"
        }
      ]
    },
    {
      "cell_type": "code",
      "metadata": {
        "colab": {
          "base_uri": "https://localhost:8080/"
        },
        "id": "Jxc_cWkeykNq",
        "outputId": "a07f78e0-bb9c-49c2-c4e8-ea1743574bd0"
      },
      "source": [
        "for y in range(10): #1~10까지 반복한다\r\n",
        "  for x in range(y): #이 코드를 좀 검토\r\n",
        "    print('*', end=' ') #다음줄로 넘기지 말고 공백 구분으로 넘어가라는 뜻\r\n",
        "  print()"
      ],
      "execution_count": 9,
      "outputs": [
        {
          "output_type": "stream",
          "text": [
            "\n",
            "* \n",
            "* * \n",
            "* * * \n",
            "* * * * \n",
            "* * * * * \n",
            "* * * * * * \n",
            "* * * * * * * \n",
            "* * * * * * * * \n",
            "* * * * * * * * * \n"
          ],
          "name": "stdout"
        }
      ]
    },
    {
      "cell_type": "code",
      "metadata": {
        "colab": {
          "base_uri": "https://localhost:8080/"
        },
        "id": "5AyuCRteytWr",
        "outputId": "ebb2216f-eefd-4b6a-fadd-af3dad4d3ff5"
      },
      "source": [
        "a = 3\r\n",
        "print(a)\r\n",
        "print(3)"
      ],
      "execution_count": 10,
      "outputs": [
        {
          "output_type": "stream",
          "text": [
            "3\n",
            "3\n"
          ],
          "name": "stdout"
        }
      ]
    },
    {
      "cell_type": "markdown",
      "metadata": {
        "id": "_gEIhI9zzrzX"
      },
      "source": [
        "a라는 변수를 넣어도 되고 값을 넣어도 됨"
      ]
    },
    {
      "cell_type": "markdown",
      "metadata": {
        "id": "b9ue7xquz0Fy"
      },
      "source": [
        "print(출력 내용, [sep= 구분자], [end=끝 문자])"
      ]
    },
    {
      "cell_type": "code",
      "metadata": {
        "colab": {
          "base_uri": "https://localhost:8080/"
        },
        "id": "9xfg4dBuzvaz",
        "outputId": "e6edc665-2e38-4c4b-f0f2-d80749e84391"
      },
      "source": [
        "print(3 + 4)\r\n",
        "a = 12\r\n",
        "b = 34\r\n",
        "print(a, b)\r\n",
        "print(a, b, sep=',')"
      ],
      "execution_count": 13,
      "outputs": [
        {
          "output_type": "stream",
          "text": [
            "7\n",
            "12 34\n",
            "12,34\n"
          ],
          "name": "stdout"
        }
      ]
    },
    {
      "cell_type": "code",
      "metadata": {
        "colab": {
          "base_uri": "https://localhost:8080/"
        },
        "id": "2SbvZVr20rdZ",
        "outputId": "767723ed-5fd9-4554-bfe5-2f5b162d0f3e"
      },
      "source": [
        "print('3\\n4')\r\n",
        "print('3\\t4')\r\n",
        "print('3\\v4')\r\n",
        "print('\\'3')\r\n",
        "print('3')\r\n",
        "print(\"'3'\")\r\n",
        "print('\\'3\\'')"
      ],
      "execution_count": 22,
      "outputs": [
        {
          "output_type": "stream",
          "text": [
            "3\n",
            "4\n",
            "3\t4\n",
            "3\u000b4\n",
            "'3\n",
            "3\n",
            "'3'\n",
            "'3'\n"
          ],
          "name": "stdout"
        }
      ]
    },
    {
      "cell_type": "markdown",
      "metadata": {
        "id": "0Mbw_aX11t7X"
      },
      "source": [
        "자주 쓰는 이스케이프 문자는 \\n, \\t, \\\\, \\', \\\" 등등을 자주 쓴다"
      ]
    },
    {
      "cell_type": "code",
      "metadata": {
        "colab": {
          "base_uri": "https://localhost:8080/"
        },
        "id": "SD1QY3T73C-d",
        "outputId": "50d14fb3-2825-436a-a17c-8e8ded2f7612"
      },
      "source": [
        "price = input('가격을 입력하세요 : ')\r\n",
        "num = input('개수를 입력하세요 : ')\r\n",
        "sum = int(price) * int(num)\r\n",
        "print('총액은', sum, '원입니다')"
      ],
      "execution_count": 27,
      "outputs": [
        {
          "output_type": "stream",
          "text": [
            "가격을 입력하세요 : 700\n",
            "개수를 입력하세요 : 3\n",
            "총액은 2100 원입니다\n"
          ],
          "name": "stdout"
        }
      ]
    },
    {
      "cell_type": "markdown",
      "metadata": {
        "id": "FNeIQoNH30zp"
      },
      "source": [
        "문자열을 int로 감싸서 출력해야한다. input에 값은 무조건 문자열로 나오기 때문이다."
      ]
    },
    {
      "cell_type": "code",
      "metadata": {
        "colab": {
          "base_uri": "https://localhost:8080/"
        },
        "id": "qlY8X_XI4MYk",
        "outputId": "bbb1fb5a-d2cd-41ab-c97c-8ed4ba022ae7"
      },
      "source": [
        "price = input('가격을 입력하세요 : ')\r\n",
        "num = input('개수를 입력하세요 : ')\r\n",
        "sum = float(price) * int(num)\r\n",
        "print('총액은', sum, '원입니다')"
      ],
      "execution_count": 28,
      "outputs": [
        {
          "output_type": "stream",
          "text": [
            "가격을 입력하세요 : 4.55555\n",
            "개수를 입력하세요 : 5\n",
            "총액은 22.77775 원입니다\n"
          ],
          "name": "stdout"
        }
      ]
    },
    {
      "cell_type": "markdown",
      "metadata": {
        "id": "jYHpYNdR6oy6"
      },
      "source": [
        "파이썬에 내장으로 설치된, 기본적으로 설치되어 있는 내장모듈이 있음    \r\n",
        "keyword 모듈 파이썬의 키워드들을 문자열로 보관하는 하나의 변수 kwlist가 정의되어있다\r\n",
        "pprint 모듈    object에 출력 값을 넣고 출력할 때 들여쓰기(indent), 출력 라인 폭(width)등에 대한 조정이 가능하다    \r\n",
        "내장모듈을 쓸 땐 import라는 키워드를 써야 함"
      ]
    },
    {
      "cell_type": "code",
      "metadata": {
        "colab": {
          "base_uri": "https://localhost:8080/"
        },
        "id": "SZx-ZXfB7j0H",
        "outputId": "5916eb47-e38d-4aa0-bb3e-c61c2d7d6151"
      },
      "source": [
        "import keyword\r\n",
        "import pprint\r\n",
        "pprint.pprint(keyword.kwlist, width=60, compact=True)\r\n",
        "help(pprint)"
      ],
      "execution_count": 36,
      "outputs": [
        {
          "output_type": "stream",
          "text": [
            "['False', 'None', 'True', 'and', 'as', 'assert', 'async',\n",
            " 'await', 'break', 'class', 'continue', 'def', 'del',\n",
            " 'elif', 'else', 'except', 'finally', 'for', 'from',\n",
            " 'global', 'if', 'import', 'in', 'is', 'lambda', 'nonlocal',\n",
            " 'not', 'or', 'pass', 'raise', 'return', 'try', 'while',\n",
            " 'with', 'yield']\n",
            "Help on module pprint:\n",
            "\n",
            "NAME\n",
            "    pprint - Support to pretty-print lists, tuples, & dictionaries recursively.\n",
            "\n",
            "MODULE REFERENCE\n",
            "    https://docs.python.org/3.7/library/pprint\n",
            "    \n",
            "    The following documentation is automatically generated from the Python\n",
            "    source files.  It may be incomplete, incorrect or include features that\n",
            "    are considered implementation detail and may vary between Python\n",
            "    implementations.  When in doubt, consult the module reference at the\n",
            "    location listed above.\n",
            "\n",
            "DESCRIPTION\n",
            "    Very simple, but useful, especially in debugging data structures.\n",
            "    \n",
            "    Classes\n",
            "    -------\n",
            "    \n",
            "    PrettyPrinter()\n",
            "        Handle pretty-printing operations onto a stream using a configured\n",
            "        set of formatting parameters.\n",
            "    \n",
            "    Functions\n",
            "    ---------\n",
            "    \n",
            "    pformat()\n",
            "        Format a Python object into a pretty-printed representation.\n",
            "    \n",
            "    pprint()\n",
            "        Pretty-print a Python object to a stream [default is sys.stdout].\n",
            "    \n",
            "    saferepr()\n",
            "        Generate a 'standard' repr()-like value, but protect against recursive\n",
            "        data structures.\n",
            "\n",
            "CLASSES\n",
            "    builtins.object\n",
            "        PrettyPrinter\n",
            "    \n",
            "    class PrettyPrinter(builtins.object)\n",
            "     |  PrettyPrinter(indent=1, width=80, depth=None, stream=None, *, compact=False)\n",
            "     |  \n",
            "     |  Methods defined here:\n",
            "     |  \n",
            "     |  __init__(self, indent=1, width=80, depth=None, stream=None, *, compact=False)\n",
            "     |      Handle pretty printing operations onto a stream using a set of\n",
            "     |      configured parameters.\n",
            "     |      \n",
            "     |      indent\n",
            "     |          Number of spaces to indent for each level of nesting.\n",
            "     |      \n",
            "     |      width\n",
            "     |          Attempted maximum number of columns in the output.\n",
            "     |      \n",
            "     |      depth\n",
            "     |          The maximum depth to print out nested structures.\n",
            "     |      \n",
            "     |      stream\n",
            "     |          The desired output stream.  If omitted (or false), the standard\n",
            "     |          output stream available at construction will be used.\n",
            "     |      \n",
            "     |      compact\n",
            "     |          If true, several items will be combined in one line.\n",
            "     |  \n",
            "     |  format(self, object, context, maxlevels, level)\n",
            "     |      Format object for a specific context, returning a string\n",
            "     |      and flags indicating whether the representation is 'readable'\n",
            "     |      and whether the object represents a recursive construct.\n",
            "     |  \n",
            "     |  isreadable(self, object)\n",
            "     |  \n",
            "     |  isrecursive(self, object)\n",
            "     |  \n",
            "     |  pformat(self, object)\n",
            "     |  \n",
            "     |  pprint(self, object)\n",
            "     |  \n",
            "     |  ----------------------------------------------------------------------\n",
            "     |  Data descriptors defined here:\n",
            "     |  \n",
            "     |  __dict__\n",
            "     |      dictionary for instance variables (if defined)\n",
            "     |  \n",
            "     |  __weakref__\n",
            "     |      list of weak references to the object (if defined)\n",
            "\n",
            "FUNCTIONS\n",
            "    isreadable(object)\n",
            "        Determine if saferepr(object) is readable by eval().\n",
            "    \n",
            "    isrecursive(object)\n",
            "        Determine if object requires a recursive representation.\n",
            "    \n",
            "    pformat(object, indent=1, width=80, depth=None, *, compact=False)\n",
            "        Format a Python object into a pretty-printed representation.\n",
            "    \n",
            "    pprint(object, stream=None, indent=1, width=80, depth=None, *, compact=False)\n",
            "        Pretty-print a Python object to a stream [default is sys.stdout].\n",
            "    \n",
            "    saferepr(object)\n",
            "        Version of repr() which can handle recursive data structures.\n",
            "\n",
            "DATA\n",
            "    __all__ = ['pprint', 'pformat', 'isreadable', 'isrecursive', 'saferepr...\n",
            "\n",
            "FILE\n",
            "    /usr/lib/python3.7/pprint.py\n",
            "\n",
            "\n"
          ],
          "name": "stdout"
        }
      ]
    },
    {
      "cell_type": "code",
      "metadata": {
        "colab": {
          "base_uri": "https://localhost:8080/"
        },
        "id": "0y9EW-6p8kx-",
        "outputId": "3ee36192-f1f8-4a11-f404-e9a4fa5abfcc"
      },
      "source": [
        "print('본 프로그램은 섭씨온도를 화씨온도로 변환하는 프로그램입니다.')\r\n",
        "a = float(input(\"변환하고 싶은 섭씨온도를 입력하세요\\n\"))\r\n",
        "b = (a * 1.8) + 32\r\n",
        "print('섭씨온도: ', a)\r\n",
        "print('화씨온도: ', b)"
      ],
      "execution_count": 50,
      "outputs": [
        {
          "output_type": "stream",
          "text": [
            "본 프로그램은 섭씨온도를 화씨온도로 변환하는 프로그램입니다.\n",
            "변환하고 싶은 섭씨온도를 입력하세요\n",
            "32.2\n",
            "섭씨온도:  32.2\n",
            "화씨온도:  89.96000000000001\n"
          ],
          "name": "stdout"
        }
      ]
    },
    {
      "cell_type": "code",
      "metadata": {
        "colab": {
          "base_uri": "https://localhost:8080/"
        },
        "id": "wV9eLxOkBo2F",
        "outputId": "f12387e5-33c6-4406-a574-6d7e6bf66e87"
      },
      "source": [
        "print('본 프로그램은 섭씨온도를 화씨온도로 변환하는 프로그램입니다.')\r\n",
        "a = float(input(\"변환하고 싶은 섭씨온도를 입력하세요\\n\"))\r\n",
        "b = (a * 1.8) + 32\r\n",
        "print('섭씨온도: ', a)\r\n",
        "print('화씨온도: ', round(b, 2))"
      ],
      "execution_count": 54,
      "outputs": [
        {
          "output_type": "stream",
          "text": [
            "본 프로그램은 섭씨온도를 화씨온도로 변환하는 프로그램입니다.\n",
            "변환하고 싶은 섭씨온도를 입력하세요\n",
            "32.2\n",
            "섭씨온도:  32.2\n",
            "화씨온도:  89.96\n"
          ],
          "name": "stdout"
        }
      ]
    },
    {
      "cell_type": "markdown",
      "metadata": {
        "id": "tqHTaoA7CEam"
      },
      "source": [
        "반올림하는 방법은 round로 화씨온도를 부른 후 끊을 숫자를 적으면 된다"
      ]
    },
    {
      "cell_type": "markdown",
      "metadata": {
        "id": "vXmu3JnfCtfN"
      },
      "source": [
        "만약 속도차로 순차적으로 줄이 안나온다면 time.sleep()  을 사용해서 초단위로(실수가능) 지연시킬 수 있다. (2) 라면 2초를 기다리고 실행된다"
      ]
    },
    {
      "cell_type": "markdown",
      "metadata": {
        "id": "7I7dSR74GraZ"
      },
      "source": [
        "알파벳, 숫자, 밑줄( _ )로 선언할 수 있다.    \r\n",
        "• 변수명은 의미 있는 단어로 표기하는 것이 좋다.    \r\n",
        "• 변수명은 대소문자가 구분된다.    \r\n",
        "• 특별한 의미가 있는 예약어는 사용할 수 없다.    \r\n",
        "• 공백, +, - 등은 사용 불가    \r\n",
        "• 첫 글자로 숫자 사용 불가   \r\n",
        "• 키워드나 내장 함수, 표준 모듈명은 사용할 수 없음    "
      ]
    },
    {
      "cell_type": "code",
      "metadata": {
        "colab": {
          "base_uri": "https://localhost:8080/"
        },
        "id": "q8zRefHlCUxh",
        "outputId": "63f8db83-a27a-467c-f677-95caac240595"
      },
      "source": [
        "a = 3\r\n",
        "b = 3\r\n",
        "print(a)\r\n",
        "print(b)\r\n",
        "print(id(a))\r\n",
        "print(id(b))"
      ],
      "execution_count": 55,
      "outputs": [
        {
          "output_type": "stream",
          "text": [
            "3\n",
            "3\n",
            "94182622857792\n",
            "94182622857792\n"
          ],
          "name": "stdout"
        }
      ]
    },
    {
      "cell_type": "code",
      "metadata": {
        "colab": {
          "base_uri": "https://localhost:8080/"
        },
        "id": "B1xQOUSWJlnW",
        "outputId": "5800fc26-a753-40ac-a37e-51ebe8d3a548"
      },
      "source": [
        "a = 300\r\n",
        "b = 300\r\n",
        "print(a)\r\n",
        "print(b)\r\n",
        "print(id(a))\r\n",
        "print(id(b))\r\n",
        "a = b\r\n",
        "print(id(a))\r\n",
        "print(id(b))"
      ],
      "execution_count": 58,
      "outputs": [
        {
          "output_type": "stream",
          "text": [
            "200\n",
            "300\n",
            "94182622864096\n",
            "140377695804880\n",
            "140377695804880\n",
            "140377695804880\n"
          ],
          "name": "stdout"
        }
      ]
    },
    {
      "cell_type": "code",
      "metadata": {
        "colab": {
          "base_uri": "https://localhost:8080/"
        },
        "id": "BRUSHiHoJznP",
        "outputId": "5ea48cfb-8fd0-4d5c-fe41-00d987cb6b7a"
      },
      "source": [
        "a = 200\r\n",
        "b = 300\r\n",
        "print(a)\r\n",
        "print(b)\r\n",
        "print(id(a))\r\n",
        "print(id(b))\r\n",
        "a = b\r\n",
        "print(id(a))\r\n",
        "print(id(b))\r\n",
        "print(a)\r\n",
        "print(b)"
      ],
      "execution_count": 59,
      "outputs": [
        {
          "output_type": "stream",
          "text": [
            "200\n",
            "300\n",
            "94182622864096\n",
            "140377695804464\n",
            "140377695804464\n",
            "140377695804464\n",
            "300\n",
            "300\n"
          ],
          "name": "stdout"
        }
      ]
    },
    {
      "cell_type": "markdown",
      "metadata": {
        "id": "Te0Wfj8jJ3Pd"
      },
      "source": [
        "id함수는 주소의 위치를 나타내는 것    \r\n",
        "처음 a, b는 값이 3으로 너무 작아서 주소값이 같이 나오지만 300으로 올려주면 주소값이 달라진다    \r\n",
        "그리고 7째줄에서 a가 b의 값으로 달라져 a ,b주소가 같아짐"
      ]
    },
    {
      "cell_type": "markdown",
      "metadata": {
        "id": "F0_xFwSaOdzH"
      },
      "source": [
        "파이썬 권장 상수, 변수, 함수, 메소드 naming convention    \r\n",
        "• 소문자로 작성하는 것을 권장     \r\n",
        "• 가독성을 위해서라면 밑줄 문자(_)를 쓸 수 있다.    \r\n",
        "• 보호 속성일 때는 맨 앞에 ‘_’(leading underscore)를 추가적으로 붙인다.    \r\n",
        "• 키워드와 동일 변수일 때는 맨 뒤에 ‘_’(leading underscore)를 추가적으로 붙이다.    \r\n",
        "• 비공개 속성일 때는 맨 앞에 ‘__’(double underscore) 하나를 붙인다.    \r\n",
        "• 스페셜 속성일 때는 앞과 뒤에 ‘__’(double underscore) 하나를 붙인다.    "
      ]
    },
    {
      "cell_type": "code",
      "metadata": {
        "colab": {
          "base_uri": "https://localhost:8080/"
        },
        "id": "NPLIZ5JfKQ0N",
        "outputId": "9e6b732c-5f79-4e89-f73e-2664883d7cf8"
      },
      "source": [
        "import sys   #sys 는 모듈이름\r\n",
        "print( type ( sys ) ) # 모듈 클래스\r\n",
        "sys = 100   \r\n",
        "print( type ( sys ) ) # 정수 클래스의 인스턴스"
      ],
      "execution_count": 60,
      "outputs": [
        {
          "output_type": "stream",
          "text": [
            "<class 'module'>\n",
            "<class 'int'>\n"
          ],
          "name": "stdout"
        }
      ]
    },
    {
      "cell_type": "markdown",
      "metadata": {
        "id": "s4xM5cZoOxvp"
      },
      "source": [
        "sys가 모듈이름인데 정수를 넣는 것은 주의 해야함    \r\n",
        "동일한 이름으로 모듈과 변수를 정의할 경우 변수에 최종적으\r\n",
        "로 할당된 값을 처리"
      ]
    },
    {
      "cell_type": "code",
      "metadata": {
        "colab": {
          "base_uri": "https://localhost:8080/"
        },
        "id": "U9GDgbONO6Kw",
        "outputId": "f7f06798-f4fd-4bd5-9c3a-71f8e654b715"
      },
      "source": [
        "a = 200\r\n",
        "print(a)\r\n",
        "print(id(a)) #메모리 주소를 해수함수의 결과\r\n",
        "print(type(a))  #a의 타입을 알 수 있음\r\n",
        "print(dir(a))  #dir은 해당 변수의 내부 함수를 나타내 줌"
      ],
      "execution_count": 61,
      "outputs": [
        {
          "output_type": "stream",
          "text": [
            "200\n",
            "94182622864096\n",
            "<class 'int'>\n",
            "['__abs__', '__add__', '__and__', '__bool__', '__ceil__', '__class__', '__delattr__', '__dir__', '__divmod__', '__doc__', '__eq__', '__float__', '__floor__', '__floordiv__', '__format__', '__ge__', '__getattribute__', '__getnewargs__', '__gt__', '__hash__', '__index__', '__init__', '__init_subclass__', '__int__', '__invert__', '__le__', '__lshift__', '__lt__', '__mod__', '__mul__', '__ne__', '__neg__', '__new__', '__or__', '__pos__', '__pow__', '__radd__', '__rand__', '__rdivmod__', '__reduce__', '__reduce_ex__', '__repr__', '__rfloordiv__', '__rlshift__', '__rmod__', '__rmul__', '__ror__', '__round__', '__rpow__', '__rrshift__', '__rshift__', '__rsub__', '__rtruediv__', '__rxor__', '__setattr__', '__sizeof__', '__str__', '__sub__', '__subclasshook__', '__truediv__', '__trunc__', '__xor__', 'bit_length', 'conjugate', 'denominator', 'from_bytes', 'imag', 'numerator', 'real', 'to_bytes']\n"
          ],
          "name": "stdout"
        }
      ]
    },
    {
      "cell_type": "markdown",
      "metadata": {
        "id": "dWPVXmHhPR66"
      },
      "source": [
        "a는 정수(int)로 타입이 나오는데 아래줄 int클래스의 내부 구조를 보여주고 있다. 보면 __abs__등의 은닉, 스폐셜 속성, 메서드 이름 등이 나옴"
      ]
    },
    {
      "cell_type": "markdown",
      "metadata": {
        "id": "pT3XYGbwR_-4"
      },
      "source": [
        "파이썬 권장 모듈, 패키지 naming convention    \r\n",
        "• 모듈 이름은 짧아야 하고, 전부 소문자로 작성하는 것을 권장한다    \r\n",
        "• 가독성을 위해서라면 밑줄 문자(_)를 쓸 수 있다.\r\n",
        " 파이썬 권장 클래스 naming convention    \r\n",
        " 클래스 이름은 Capitalized words 형식을 따른다  \r\n",
        " 예를 들어 color_box 같은"
      ]
    },
    {
      "cell_type": "markdown",
      "metadata": {
        "id": "ehZIE8GiSZhK"
      },
      "source": [
        "메모리 공간은?    \r\n",
        "하나의 변수를 메모리에 저장할 때, 그 변수의 크기만큼 공간(일정한 용량)을 할당 받는다.    \r\n",
        "• 이진수 한 자리를 비트(bit)라고 하며, 8개의 비트는 1바이트(byte), 1,024바이트는 1킬로바이트(kilobyte, KB), 1,024킬\r\n",
        "로바이트는 1메가바이트(megabyte, MB)이다. 이러한 개념을 메모리 공간이라고 한다.    \r\n",
        "'12345678' 이 하나하나가 비트고 8개가 모여 1바이트"
      ]
    },
    {
      "cell_type": "markdown",
      "metadata": {
        "id": "QXmtFrslTOKs"
      },
      "source": [
        "자료형    \r\n",
        "• 프로그래밍을 할 때 쓰이는 숫자, 문자열등의 자료 형태로 저장되는 그 모든 것을 뜻한다    \r\n",
        "• 변수의 유형 => 자료형    \r\n",
        "• 파이썬은 객체 지향 개념(object-oriented paradigm)을 수용해서 모든 것(bool, 정수, 실수, 문자열, 데이터 구조, 함수, 프로그램)을\r\n",
        "객체로 구현되어 있다.    \r\n",
        "• *만들어지는 모든 값은 객체이고 객체를 처리하기 위해 속성과 메소드를 제공한다.* =중요        \r\n",
        "• 객체의 타입을 바꿀 수 없는 강타입이다.  = 불변객체    \r\n",
        "• dir 함수 : 클래스와 인스턴스 내부에서 사용할 수 있는 정보를 확인   \r\n",
        "• id 함수 : 클래스와 인스턴스의 레퍼런스를 정수로 리턴    \r\n",
        "• type 메타 클래스 : 클래스와 인스턴스가 누구에 의해 만들어졌는지에 대한 정보를 확인"
      ]
    },
    {
      "cell_type": "markdown",
      "metadata": {
        "id": "aIPOXefVUM7p"
      },
      "source": [
        "기본 자료형    \r\n",
        "• 정수형(integer type) : 자연수를 포함해 값의 영역이 정수로 한정된 값.    \r\n",
        "• 실수형(floating-point type) : 소수점이 포함된 값.    \r\n",
        "• 문자형(string type) : 값이 문자로 출력되는 자료형.    \r\n",
        "• 불린형(boolean type) : 논리형으로, 참(True) 또는 거짓(False)을 표현할 때 사용."
      ]
    },
    {
      "cell_type": "code",
      "metadata": {
        "id": "cRe722ZPSjUY"
      },
      "source": [
        "data = 1 #정수형\r\n",
        "data = 4.5 #실수형\r\n",
        "data = 'abc' #문자형\r\n",
        "data = True #불린형"
      ],
      "execution_count": null,
      "outputs": []
    },
    {
      "cell_type": "markdown",
      "metadata": {
        "id": "SUaojs8MVVDd"
      },
      "source": [
        "정수형    \r\n",
        "10진법 접두 : 0x   사용가능 숫자 0~9 알파벳 a~f   \r\n",
        "8진법  접두 : 0o   사용가능 숫자 0~7    \r\n",
        "2진법  접두 : 0b   사용가능 숫자 0, 1"
      ]
    },
    {
      "cell_type": "code",
      "metadata": {
        "colab": {
          "base_uri": "https://localhost:8080/"
        },
        "id": "o5PPKwY1VBdV",
        "outputId": "7f49d91f-a6f9-4a08-d7ac-5e5027160a1f"
      },
      "source": [
        "c = 0x2f\r\n",
        "print(c)\r\n",
        "d = 0o17\r\n",
        "print(d)\r\n",
        "f = 0b1101\r\n",
        "print(f)"
      ],
      "execution_count": 64,
      "outputs": [
        {
          "output_type": "stream",
          "text": [
            "47\n",
            "15\n",
            "13\n"
          ],
          "name": "stdout"
        }
      ]
    },
    {
      "cell_type": "markdown",
      "metadata": {
        "id": "LW8-b7tzV8bT"
      },
      "source": [
        "정수형    \r\n",
        "int의 크기가 64비트보다 더 큰 공간을 가질 수 있다"
      ]
    }
  ]
}