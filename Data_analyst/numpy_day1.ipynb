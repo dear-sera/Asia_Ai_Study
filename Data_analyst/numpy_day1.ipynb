{
  "nbformat": 4,
  "nbformat_minor": 0,
  "metadata": {
    "colab": {
      "name": "numpy_day1.ipynb",
      "provenance": [],
      "authorship_tag": "ABX9TyPv3QcoqE9OgPuNyKGkDuKh",
      "include_colab_link": true
    },
    "kernelspec": {
      "name": "python3",
      "display_name": "Python 3"
    },
    "language_info": {
      "name": "python"
    }
  },
  "cells": [
    {
      "cell_type": "markdown",
      "metadata": {
        "id": "view-in-github",
        "colab_type": "text"
      },
      "source": [
        "<a href=\"https://colab.research.google.com/github/sera0911/asia-ai-study/blob/main/numpy_day1.ipynb\" target=\"_parent\"><img src=\"https://colab.research.google.com/assets/colab-badge.svg\" alt=\"Open In Colab\"/></a>"
      ]
    },
    {
      "cell_type": "markdown",
      "metadata": {
        "id": "OaLOyr6OdHgp"
      },
      "source": [
        "Ø Numpy(Numerical Python)    \n",
        "§ 과학 계산을 위한 라이브러리  \n",
        "§ C언어로 구현된 파이썬 라이브러리   \n",
        "§ array라는 단위로 데이터를 관리하며 연산을 수행   \n",
        "§ 수치해석용 파이썬 패키지   \n",
        "§ 다차원의 배열 자료구조 클래스인 ndarray클래스를 지원하며 벡터와 행렬을 사용하는 선형대수 계산에\n",
        "주로 사용    \n",
        "\n",
        "자바 2차원 배열, python 2차원 리스트, R matrix와 유사한 구조로 이루어짐짐"
      ]
    },
    {
      "cell_type": "code",
      "metadata": {
        "colab": {
          "base_uri": "https://localhost:8080/"
        },
        "id": "LDHHYS1hp3_B",
        "outputId": "2f4ae9a4-ac1e-4259-f3ee-a1859595182f"
      },
      "source": [
        "! pip install numpy"
      ],
      "execution_count": null,
      "outputs": [
        {
          "output_type": "stream",
          "text": [
            "Requirement already satisfied: numpy in /usr/local/lib/python3.7/dist-packages (1.19.5)\n"
          ],
          "name": "stdout"
        }
      ]
    },
    {
      "cell_type": "code",
      "metadata": {
        "colab": {
          "base_uri": "https://localhost:8080/"
        },
        "id": "7nMLx-UfqHuI",
        "outputId": "7237d4ee-bad8-4b40-da7b-217bd64266a6"
      },
      "source": [
        "import numpy as np\n",
        "print(np.__version__)"
      ],
      "execution_count": null,
      "outputs": [
        {
          "output_type": "stream",
          "text": [
            "1.19.5\n"
          ],
          "name": "stdout"
        }
      ]
    },
    {
      "cell_type": "markdown",
      "metadata": {
        "id": "QDmBG0OnrO5J"
      },
      "source": [
        "Ø numpy 배열    \n",
        "§ 많은 숫자 데이터를 하나의 변수에 넣고 관리 할 때 리스트는 속도가 느리고 메모리를 많이 차지하는 단점이 있다.    \n",
        "§ 배열(array)을 사용하면 적은 메모리로 많은 데이터를 빠르게 처리할 수 있다.    \n",
        "§ 모든 원소가 같은 자료형이어야 한다.(str거나, int 등으로 동일)     \n",
        "§ 원소의 갯수를 바꿀 수 없다.(배열의 크기를 변경 할 수 없음)    \n",
        "§ 배열 연산은 C로 구현된 내부 반복문을 사용하기 때문에 파이썬 반복문에 비해 속도가 빠르며 벡터화 연산(vectorized operation)을 이용하여 간단한 코드로도 복잡한 선형 대수 연산을 수행할 수 있다.     \n",
        "§ 배열 인덱싱(array indexing)을 사용한 질의(Query) 기능을 이용하여 간단한 코드로도 복잡한 수식을 계산 할 수 있다.   "
      ]
    },
    {
      "cell_type": "markdown",
      "metadata": {
        "id": "VzfrCmjqsIeI"
      },
      "source": [
        "Ø numpy 배열 생성    \n",
        "§ array 함수에 리스트를 넣으면 ndarray 클래스 객체 (배열)로 변환해 준다    \n",
        "§ array() 안에 하나의 리스트만 들어감     \n",
        "§ numpy에서 제공하는 함수를 사용하는 방법 - zeros(), ones(), full(), eye()    \n",
        "§ 배열 객체 객체는 C언어의 배열처럼 연속적인 메모리 배치를 가지기 때문에 모든 원소가 같은 자료형이어야 한다. (원소에 대한 접근과 반복문 실행이 빨라진다.)     \n",
        "§ ndim 속성은 배열의 차원를 반환    \n",
        "§ shape 속성은 각 차원의 크기 즉 배열의 크기를 튜플로 반환    \n",
        "예) 행이 2이고 열이 3인 2차원 배열 - rank는 2 이고, shape는 (2, 3)    \n"
      ]
    },
    {
      "cell_type": "code",
      "metadata": {
        "colab": {
          "base_uri": "https://localhost:8080/"
        },
        "id": "AHRGTRyCqrwc",
        "outputId": "5a198b01-1c0c-4286-e2a9-531bd0800029"
      },
      "source": [
        "my_arr = np.array([[10, 20, 30], [40, 50 ,60]])  # numpy arrary 생성\n",
        "print(my_arr)"
      ],
      "execution_count": null,
      "outputs": [
        {
          "output_type": "stream",
          "text": [
            "[[10 20 30]\n",
            " [40 50 60]]\n"
          ],
          "name": "stdout"
        }
      ]
    },
    {
      "cell_type": "code",
      "metadata": {
        "colab": {
          "base_uri": "https://localhost:8080/"
        },
        "id": "devtnEhYsaNS",
        "outputId": "ab108080-d898-4459-c385-6180d5d82631"
      },
      "source": [
        "import numpy as np\n",
        "\n",
        "list1 = [0, 1, 2, 3, 4, 5, 6, 7, 8, 9]  #1차원 리스트\n",
        "a = np.array(list1)  #1차원리스트를 어레이 함수로 넘김\n",
        "print(type(a))  #array로 넘겼을 때 타입확인\n",
        "print(a.ndim, a.shape)  #차원은 1차원, 배열의 크기를 반환 행이 10, 열이 0\n",
        "\n",
        "b = np.array([[1,2,3],[4,5,6]])   #array함수로 넘김\n",
        "print(b.ndim, b.shape)  #차원은 2차원, 속성확인 시 행이 2행 열이 3  \n",
        "print(b[0,0])  #속성확인 시 1차원, 0행 0열"
      ],
      "execution_count": null,
      "outputs": [
        {
          "output_type": "stream",
          "text": [
            "<class 'numpy.ndarray'>\n",
            "1 (10,)\n",
            "2 (2, 3)\n",
            "1\n"
          ],
          "name": "stdout"
        }
      ]
    },
    {
      "cell_type": "code",
      "metadata": {
        "colab": {
          "base_uri": "https://localhost:8080/"
        },
        "id": "mgxxc08mub7N",
        "outputId": "ba1193e3-dba8-4532-863c-fdec188efed8"
      },
      "source": [
        "import numpy as np\n",
        "\n",
        "c = np.array([[0, 1, 2], [3, 4, 5]]) # 2 x 3 array\n",
        "print(c)\n",
        "print(len(c)) # 행의 갯수\n",
        "print(len(c[0])) # 열의 개수\n",
        "print(c.ndim)\n",
        "print(c.shape)\n",
        "\n",
        "\n",
        "\n",
        "d = np.array([[[1, 2, 3, 4],\n",
        "[5, 6, 7, 8],\n",
        "[9, 10, 11, 12]],\n",
        "[[11, 12, 13, 14],\n",
        "[15, 16, 17, 18],\n",
        "[19, 20, 21, 22]]]) # 2 x 3 x 4 array\n",
        "\n",
        "print(d)\n",
        "print(len(d)) #깊이 = 2(차원이 2개라서)\n",
        "print(len(d[0])) #행 = 3\n",
        "print(len(d[0][0])) #열 = 4\n",
        "print(d.ndim)    #차원은 3차원\n",
        "print(d.shape)   #2길이(3차원) x 3행 x4열 "
      ],
      "execution_count": null,
      "outputs": [
        {
          "output_type": "stream",
          "text": [
            "[[0 1 2]\n",
            " [3 4 5]]\n",
            "2\n",
            "3\n",
            "2\n",
            "(2, 3)\n",
            "[[[ 1  2  3  4]\n",
            "  [ 5  6  7  8]\n",
            "  [ 9 10 11 12]]\n",
            "\n",
            " [[11 12 13 14]\n",
            "  [15 16 17 18]\n",
            "  [19 20 21 22]]]\n",
            "2\n",
            "3\n",
            "4\n",
            "3\n",
            "(2, 3, 4)\n"
          ],
          "name": "stdout"
        }
      ]
    },
    {
      "cell_type": "markdown",
      "metadata": {
        "id": "RCzXY6sHvUNV"
      },
      "source": [
        "Ø 배열의 인덱싱 (integer indexing)    \n",
        "§ 각 차원별로 선택되어지는 배열요소의 인덱스들을 일렬로 나열하여 부분집합을 구 할 수 있다    \n",
        "§ 임의의 numpy 배열 a 에 대해 a[[row1, row2], [col1, col2]] 와 같이 표현하는 것인데, 이는 a[row1, col1]과 a[row2, col2] 라는 두 개의 배열요소의 집합을 의미한다."
      ]
    },
    {
      "cell_type": "code",
      "metadata": {
        "colab": {
          "base_uri": "https://localhost:8080/"
        },
        "id": "XePGGVmhvZcL",
        "outputId": "d30b6170-d7b0-4cd1-ed82-cb8c4cf8ec86"
      },
      "source": [
        "import numpy as np\n",
        "\n",
        "lst = [\n",
        "[1, 2, 3, 4],\n",
        "[5, 6, 7, 8],\n",
        "[9, 10, 11, 12]\n",
        "]\n",
        "a = np.array(lst)\n",
        "\n",
        "print(a[0, 1])\n",
        "print(a[2,3])\n",
        "print(a[[0, 1], [2, 3]])    #print(a[[0, 1], [2, 3]])같은 행, 열로 인덱싱 되서 [[0, 2][1, 3]] 으로 출력이 된다"
      ],
      "execution_count": null,
      "outputs": [
        {
          "output_type": "stream",
          "text": [
            "2\n",
            "12\n",
            "[3 8]\n"
          ],
          "name": "stdout"
        }
      ]
    },
    {
      "cell_type": "markdown",
      "metadata": {
        "id": "9i_Me9-kxBYR"
      },
      "source": [
        "print(a[[0, 1], [2, 3]])    같은 행으로 인덱싱 되서 [[0, 2][1, 3]] 으로 출력이 된다\n",
        "\n",
        "\n",
        "a[[row1, row2], [col1, col2]] = a[row1, col1] a[row2, col2]\n"
      ]
    },
    {
      "cell_type": "markdown",
      "metadata": {
        "id": "Ymba374CwWzg"
      },
      "source": [
        "Ø 배열 슬라이싱    \n",
        "§ 각 배열 차원별 최소-최대의 범위를 정하여 부분 집합을 구하는 것    \n",
        "§ 각 차원별로 슬라이스 범위를 지정"
      ]
    },
    {
      "cell_type": "code",
      "metadata": {
        "colab": {
          "base_uri": "https://localhost:8080/"
        },
        "id": "3dqtIxliwbq0",
        "outputId": "4a6fdbb0-1029-450c-c4cb-9ae72660fc96"
      },
      "source": [
        "import numpy as np\n",
        "\n",
        "lst = [\n",
        "[1, 2, 3],\n",
        "[4, 5, 6],\n",
        "[7, 8, 9]\n",
        "]\n",
        "\n",
        "arr = np.array(lst)\n",
        "\n",
        "#print(arr)\n",
        "print(arr[0, :]) # 첫번째 행 전체\n",
        "print(arr[:, 1]) # 두번째 열 전체\n",
        "print(arr[1, 1:]) # 두번째 행의 두번째 열부터 끝열까지\n",
        "print(arr[:2, :2])  "
      ],
      "execution_count": null,
      "outputs": [
        {
          "output_type": "stream",
          "text": [
            "[1 2 3]\n",
            "[2 5 8]\n",
            "[5 6]\n",
            "[[1 2]\n",
            " [4 5]]\n"
          ],
          "name": "stdout"
        }
      ]
    },
    {
      "cell_type": "markdown",
      "metadata": {
        "id": "R2Bpvn1LyF9z"
      },
      "source": [
        "Ø 팬시 인덱싱(fancy indexing)    \n",
        "§ 배열 인덱싱(array indexing)     \n",
        "§ 데이터베이스의 질의(Query) 기능을 수행\n",
        "§ 대괄호(Bracket, [])안의 인덱스 정보로 숫자나 슬라이스가 아니라 위치 정보를 나타내는 또 다른 ndarray 배열을 받을 수 있다.     \n",
        "§ 불리언(Boolean) 배열 방식 - 배열 각 요소의 선택여부를 True, False로 표현하는 방식    "
      ]
    },
    {
      "cell_type": "code",
      "metadata": {
        "colab": {
          "base_uri": "https://localhost:8080/"
        },
        "id": "si2oE48WyJY5",
        "outputId": "67c63da5-1ac5-480e-cafe-131e57eebd53"
      },
      "source": [
        "import numpy as np\n",
        "lst = [\n",
        "[1, 2, 3],\n",
        "[4, 5, 6],\n",
        "[7, 8, 9]\n",
        "]\n",
        "a = np.array(lst)\n",
        "bool_indexing_array = np.array([\n",
        "[False, True, False],\n",
        "[True, False, True],\n",
        "[False, True, False]\n",
        "])\n",
        "n = a[bool_indexing_array];    #불린 인덱스를 이용해서 true값만 반환 \n",
        "print(n)"
      ],
      "execution_count": null,
      "outputs": [
        {
          "output_type": "stream",
          "text": [
            "[2 4 6 8]\n"
          ],
          "name": "stdout"
        }
      ]
    },
    {
      "cell_type": "code",
      "metadata": {
        "colab": {
          "base_uri": "https://localhost:8080/"
        },
        "id": "xKPfABPmyiw0",
        "outputId": "10c9993d-3cf9-44dc-d8c3-eed4b6bf6828"
      },
      "source": [
        "import numpy as np\n",
        "lst = [\n",
        "[1, 2, 3],\n",
        "[4, 5, 6],\n",
        "[7, 8, 9]\n",
        "]\n",
        "a = np.array(lst)\n",
        "# 배열 a 에 대해 짝수면 True, 홀수면 False\n",
        "bool_indexing = (a % 2 == 0)\n",
        "print(bool_indexing)\n",
        "# 부울린 인덱스를 사용하여 True인 요소만 뽑아냄\n",
        "print(a[bool_indexing])\n",
        "# 더 간단한 표현\n",
        "n = a[ a % 2 == 0 ]\n",
        "print(n)"
      ],
      "execution_count": null,
      "outputs": [
        {
          "output_type": "stream",
          "text": [
            "[[False  True False]\n",
            " [ True False  True]\n",
            " [False  True False]]\n",
            "[2 4 6 8]\n",
            "[2 4 6 8]\n"
          ],
          "name": "stdout"
        }
      ]
    },
    {
      "cell_type": "markdown",
      "metadata": {
        "id": "Op80fCgAyxVB"
      },
      "source": [
        "Ø 팬시 인덱싱(fancy indexing)    \n",
        "§ 정수 배열 방식 - 배열 각 요소의 선택여부를 True, False로 표현하는 방식    \n",
        "§ 배열 인덱스의 크기가 원래의 배열 크기와 달라도 상관없다.    \n",
        "§ 같은 원소를 반복해서 가리키는 경우에는 배열 인덱스가 원래의 배열보다 더 커지기도 한다.    \n",
        "§ 배열 인덱싱은 다차원 배열의 각 차원에 대해서도 할 수 있다.    "
      ]
    },
    {
      "cell_type": "code",
      "metadata": {
        "colab": {
          "base_uri": "https://localhost:8080/"
        },
        "id": "YfEu28bfy16D",
        "outputId": "8b7dc6e4-d48d-44b5-d7b6-c8b7f71e473b"
      },
      "source": [
        "import numpy as np\n",
        "\n",
        "a = np.array([11, 22, 33, 44, 55, 66, 77, 88, 99])\n",
        "idx = np.array([0, 2, 4, 6, 8])\n",
        "print( a[idx] )\n",
        "\n",
        "idx = np.array([0, 0, 0, 0, 0, 0, 1, 1, 1, 1, 1, 2, 2, 2, 2, 2])  a에서 [11, 22, 33]값만 뽑아서 배열\n",
        "print( a[idx] )\n",
        "\n",
        "a = np.array([[1, 2, 3, 4], [5, 6, 7, 8], [9, 10, 11, 12]])  \n",
        "print(a[:, [True, False, False, True]])    #모든 행에서 1열 4열만 true로 반환해서 [1,4][5,8][9,12] \n",
        "print(a[[2, 0, 1], :] )   #행의 위치를 바꿔줌 3행을 첫번째로, 1행을 중간으로, 2행을 마지막으로 순서 변경"
      ],
      "execution_count": null,
      "outputs": [
        {
          "output_type": "stream",
          "text": [
            "[11 33 55 77 99]\n",
            "[11 11 11 11 11 11 22 22 22 22 22 33 33 33 33 33]\n",
            "[[ 1  4]\n",
            " [ 5  8]\n",
            " [ 9 12]]\n",
            "[[ 9 10 11 12]\n",
            " [ 1  2  3  4]\n",
            " [ 5  6  7  8]]\n"
          ],
          "name": "stdout"
        }
      ]
    },
    {
      "cell_type": "markdown",
      "metadata": {
        "id": "7-5Y3noiz15G"
      },
      "source": [
        "Ø 벡터화 연산(vectorized operation)    \n",
        "§ 배열의 각 원소에 대한 반복 연산을 하나의 명령어로 처리하는 벡터화 연산(vectorized operation)을 지원한다.    \n",
        "§ 명시적으로 반복문을 사용하지 않고도 배열의 모든 원소에 대해 반복연산을 할 수 있다.    "
      ]
    },
    {
      "cell_type": "code",
      "metadata": {
        "colab": {
          "base_uri": "https://localhost:8080/"
        },
        "id": "hzQxLetOz86I",
        "outputId": "0510d4b7-465d-453e-d3b0-9a3712ab4d12"
      },
      "source": [
        "import numpy as np\n",
        "\n",
        "x = np.arange(1, 10001)\n",
        "y = np.arange(10001, 20001)\n",
        "\n",
        "%time\n",
        "z = np.zeros_like(x)   #0으로 가득 찬 np를 만듬\n",
        "for i in range(10000):\n",
        "  z[i] = x[i] + y[i]\n",
        "\n",
        "z[:10]"
      ],
      "execution_count": null,
      "outputs": [
        {
          "output_type": "stream",
          "text": [
            "CPU times: user 4 µs, sys: 0 ns, total: 4 µs\n",
            "Wall time: 8.82 µs\n"
          ],
          "name": "stdout"
        },
        {
          "output_type": "execute_result",
          "data": {
            "text/plain": [
              "array([10002, 10004, 10006, 10008, 10010, 10012, 10014, 10016, 10018,\n",
              "       10020])"
            ]
          },
          "metadata": {
            "tags": []
          },
          "execution_count": 24
        }
      ]
    },
    {
      "cell_type": "code",
      "metadata": {
        "colab": {
          "base_uri": "https://localhost:8080/"
        },
        "id": "gMI-44f53LGg",
        "outputId": "838f24a4-90c6-426e-c847-b642a06ab211"
      },
      "source": [
        "%%time\n",
        "z = x + y\n",
        "z[:10]"
      ],
      "execution_count": null,
      "outputs": [
        {
          "output_type": "stream",
          "text": [
            "CPU times: user 494 µs, sys: 0 ns, total: 494 µs\n",
            "Wall time: 404 µs\n"
          ],
          "name": "stdout"
        }
      ]
    },
    {
      "cell_type": "markdown",
      "metadata": {
        "id": "PvYmVEe93tZt"
      },
      "source": [
        "내부 반복문에 의해서(배열이 같으면) 같은 인덱스 위치끼리 연산이 가능하다.     \n",
        "for문을 안돌리고 아래처럼 해도 가능. 시간이 더 짧게 나온다"
      ]
    },
    {
      "cell_type": "markdown",
      "metadata": {
        "id": "0lsTCM9o3_nX"
      },
      "source": [
        "Ø 벡터화 연산(vectorized operation)    \n",
        "§ 연산은 +, -, *, / 등의 연산자를 사용할 수도 있고, add(), substract(), multiply(), divide() 등의 함수를 사용 할 수도 있다.    \n",
        "§ 벡터화 연산은 비교 연산과 논리 연산을 포함한 모든 종류의 수학 연산에 대해 적용     \n",
        "§ 배열의 각 원소들을 일일히 비교하는 것이 아니라 배열의 모든 원소가 다 같은지 알고 싶다면 all 명령을 사용"
      ]
    },
    {
      "cell_type": "code",
      "metadata": {
        "colab": {
          "base_uri": "https://localhost:8080/"
        },
        "id": "OXQKKwFi4EkK",
        "outputId": "1a77910a-29f8-4151-983b-fb23c91e02a5"
      },
      "source": [
        "import numpy as np\n",
        "\n",
        "a = np.array([1,2,3])\n",
        "b = np.array([4,5,6])\n",
        "\n",
        "c = a + b # 각 요소 더하기\n",
        "# c = np.add(a, b)\n",
        "print(c) # [5 7 9]\n",
        "\n",
        "c = a - b # 각 요소 빼기\n",
        "# c = np.subtract(a, b)\n",
        "print(c) # [-3 -3 -3]\n",
        "# c = a * b # 각 요소 곱하기\n",
        "c = np.multiply(a, b)\n",
        "print(c) # [4 10 18]"
      ],
      "execution_count": null,
      "outputs": [
        {
          "output_type": "stream",
          "text": [
            "[5 7 9]\n",
            "[-3 -3 -3]\n",
            "[ 4 10 18]\n"
          ],
          "name": "stdout"
        }
      ]
    },
    {
      "cell_type": "code",
      "metadata": {
        "colab": {
          "base_uri": "https://localhost:8080/"
        },
        "id": "wxBV_lBq4X-2",
        "outputId": "f62ab657-3531-43dd-f041-df553b26e1eb"
      },
      "source": [
        "# c = a / b # 각 요소 나누기\n",
        "c = np.divide(a, b)\n",
        "print(c) # [0.25 0.4 0.5]\n",
        "\n",
        "print(a == 2)\n",
        "print(b > 5 )\n",
        "print((a == 2) & (b > 5))     # & 논리연산\n",
        "\n",
        "a = np.array([1, 2, 3, 4])\n",
        "b = np.array([4, 2, 2, 4])\n",
        "c = np.array([1, 2, 3, 4])\n",
        "np.all(a == b)   #all은 하나하나 비교가 아닌 모든 원소를 비교\n",
        "np.all(a == c)"
      ],
      "execution_count": null,
      "outputs": [
        {
          "output_type": "stream",
          "text": [
            "[0.25 0.4  0.5 ]\n",
            "[False  True False]\n",
            "[False False  True]\n",
            "[False False False]\n"
          ],
          "name": "stdout"
        },
        {
          "output_type": "execute_result",
          "data": {
            "text/plain": [
              "True"
            ]
          },
          "metadata": {
            "tags": []
          },
          "execution_count": 28
        }
      ]
    },
    {
      "cell_type": "markdown",
      "metadata": {
        "id": "VWAmroHj5tjK"
      },
      "source": [
        "Ø 배열 연산     \n",
        "§ 지수 함수, 로그 함수 등의 수학 함수도 벡터화 연산을 지원    \n",
        "§ dot() : vector와 matrix의 product를 구하는 함수    \n",
        "§ sum() : 배열 요소들을 더하는 함수    \n",
        "§ prod() : 각 배열 요소들을 곱하는 함수     \n",
        "§ 함수에 선택옵션 axis : axis가 1 이면 행끼리 더하는 것이고, axis가 0 이면 열끼리 더하는 것이다."
      ]
    },
    {
      "cell_type": "code",
      "metadata": {
        "colab": {
          "base_uri": "https://localhost:8080/"
        },
        "id": "bhiSiBxq5ztm",
        "outputId": "d796798b-1cf3-47b8-fdaa-2120ebdcfce0"
      },
      "source": [
        "import numpy as np\n",
        "\n",
        "a = np.array([ [1,2], [3,4] ] )\n",
        "b = np.array([ [5,6], [7,8] ] )\n",
        "\n",
        "c = np.dot(a, b)    #1x5 + 2x7 = 19 1x6 + 2x8 = 22 이런식으로 계산\n",
        "print(c)\n",
        "\n",
        "a = np.arange(5)\n",
        "print( np.exp(a) )\n",
        "print( 10 ** a )\n",
        "print( np.log(a + 1) )"
      ],
      "execution_count": null,
      "outputs": [
        {
          "output_type": "stream",
          "text": [
            "[[19 22]\n",
            " [43 50]]\n",
            "[ 1.          2.71828183  7.3890561  20.08553692 54.59815003]\n",
            "[    1    10   100  1000 10000]\n",
            "[0.         0.69314718 1.09861229 1.38629436 1.60943791]\n"
          ],
          "name": "stdout"
        }
      ]
    },
    {
      "cell_type": "code",
      "metadata": {
        "colab": {
          "base_uri": "https://localhost:8080/"
        },
        "id": "7V-1Q8I0541x",
        "outputId": "a444bc64-6ae1-4365-90b6-ce11bd235d6c"
      },
      "source": [
        "import numpy as np\n",
        "\n",
        "a = np.array([[1,2],[3,4]])\n",
        "\n",
        "s = np.sum(a)   #sum = 누적합\n",
        "print(s) # 10\n",
        "\n",
        "s = np.sum(a, axis=0) # axis=0 이면, 컬럼끼리 더함 (axis는 축)\n",
        "print(s) # [4 6]\n",
        "\n",
        "s = np.sum(a, axis=1) # axis=1 이면, 행끼리 더함\n",
        "print(s) # [3 7]\n",
        "\n",
        "s = np.prod(a)\n",
        "print(s) # 24"
      ],
      "execution_count": null,
      "outputs": [
        {
          "output_type": "stream",
          "text": [
            "10\n",
            "[4 6]\n",
            "[3 7]\n",
            "24\n"
          ],
          "name": "stdout"
        }
      ]
    },
    {
      "cell_type": "markdown",
      "metadata": {
        "id": "AQ4BjldW6KYJ"
      },
      "source": [
        "Ø 배열 연산    \n",
        "§ 벡터(또는 행렬)끼리 덧셈 혹은 뺄셈을 하려면 두 벡터(또는 행렬)의 크기가 같아야 한다.    \n",
        "§ 넘파이에서는 서로 다른 크기를 가진 두 배열의 사칙 연산도 지원     \n",
        "§ 브로드캐스팅(broadcasting) - 크기가 작은 배열을 자동으로 반복 확장하여 크기가 큰 배열에 맞추는 방법"
      ]
    },
    {
      "cell_type": "code",
      "metadata": {
        "colab": {
          "base_uri": "https://localhost:8080/"
        },
        "id": "TAte4zTJ6MZA",
        "outputId": "095ff2cf-0719-4dff-a5e4-05a7cf37c6c3"
      },
      "source": [
        "import numpy as np\n",
        "\n",
        "x = np.arange(5)   #x는 [0, 1, 2, 3, 4]\n",
        "y = np.ones_like(x)   #.ones_like(x) x와 같은 배열의 크기를 하나 더 만들어주는 것\n",
        "print( x + y )\n",
        "print( x + 1 )"
      ],
      "execution_count": null,
      "outputs": [
        {
          "output_type": "stream",
          "text": [
            "[1 2 3 4 5]\n",
            "[1 2 3 4 5]\n"
          ],
          "name": "stdout"
        }
      ]
    },
    {
      "cell_type": "markdown",
      "metadata": {
        "id": "6L4DnDRq7ihT"
      },
      "source": [
        "Ø 배열 연산    \n",
        "§ 브로드캐스팅은 더 차원이 높은 경우에도 적용된다."
      ]
    },
    {
      "cell_type": "code",
      "metadata": {
        "colab": {
          "base_uri": "https://localhost:8080/"
        },
        "id": "oCADJSLI73K0",
        "outputId": "2ac9e046-9b00-4195-b65b-2f752fc9c977"
      },
      "source": [
        "import numpy as np\n",
        "\n",
        "x = np.vstack([range(7)[i:i + 3] for i in range(5)])    #0, 1, 2 세 개만 추출\n",
        "print( x )\n",
        "y = np.arange(5)[:, np.newaxis]\n",
        "print( y )\n",
        "print( x + y )\n",
        "\n",
        "y = np.arange(3)\n",
        "print( y )\n",
        "print( x + y )"
      ],
      "execution_count": null,
      "outputs": [
        {
          "output_type": "stream",
          "text": [
            "[[0 1 2]\n",
            " [1 2 3]\n",
            " [2 3 4]\n",
            " [3 4 5]\n",
            " [4 5 6]]\n",
            "[[0]\n",
            " [1]\n",
            " [2]\n",
            " [3]\n",
            " [4]]\n",
            "[[ 0  1  2]\n",
            " [ 2  3  4]\n",
            " [ 4  5  6]\n",
            " [ 6  7  8]\n",
            " [ 8  9 10]]\n",
            "[0 1 2]\n",
            "[[0 2 4]\n",
            " [1 3 5]\n",
            " [2 4 6]\n",
            " [3 5 7]\n",
            " [4 6 8]]\n"
          ],
          "name": "stdout"
        }
      ]
    },
    {
      "cell_type": "markdown",
      "metadata": {
        "id": "GKNtqpns-Lw9"
      },
      "source": [
        "x = np.vstack([range(7)[i:i + 3] for i in range(5)])  뜻은     \n",
        "i는 [0, 1, 2, 3, 4]인데range(7)은 [0, 1, 2, 3, 4, 5, 6]이니까 i:i+3이니까 0, 1, 2 세 개만 추출 그 다음은 2,3,4 해서 4,5,6까지 추출한 것"
      ]
    },
    {
      "cell_type": "markdown",
      "metadata": {
        "id": "9U7ocrLE8CEd"
      },
      "source": [
        "Ø 배열 차원 축소 연산    \n",
        "§ 차원 축소(dimension reduction) 연산     \n",
        "§ 최대/최소: min, max, argmin, argmax    \n",
        "§ 통계: sum, mean, median, std, var    \n",
        "§ 불리언: all, any     \n",
        "§ 행렬의 하나의 행에 있는 원소들을 하나의 데이터 집합으로 보고 그 집합의 평균을 구하면 각 행에 대해 하나의 숫자가 나오게 된다"
      ]
    },
    {
      "cell_type": "code",
      "metadata": {
        "colab": {
          "base_uri": "https://localhost:8080/"
        },
        "id": "03fyh_Xn8Ik_",
        "outputId": "a5de2bea-cd4f-41a6-c5d5-9bbce45be79a"
      },
      "source": [
        "import numpy as np\n",
        "\n",
        "x = np.array([1, 2, 3, 4])\n",
        "print( np.sum(x) )\n",
        "print( x.sum() )   #위 아래 코드 모두 동일\n",
        "\n",
        "x = np.array([1, 3, 2])\n",
        "print( x.min() )\n",
        "print( x.max() )\n",
        "print( x.argmin() ) # 최솟값의 위치\n",
        "print( x.argmax() ) # 최댓값의 위치\n",
        "\n",
        "x = np.array([1, 2, 3, 1])\n",
        "print( x.mean() )\n",
        "print( np.median(x) )"
      ],
      "execution_count": null,
      "outputs": [
        {
          "output_type": "stream",
          "text": [
            "10\n",
            "10\n",
            "1\n",
            "3\n",
            "0\n",
            "1\n",
            "1.75\n",
            "1.5\n"
          ],
          "name": "stdout"
        }
      ]
    },
    {
      "cell_type": "code",
      "metadata": {
        "colab": {
          "base_uri": "https://localhost:8080/"
        },
        "id": "8GiAgE8q8Mil",
        "outputId": "994df488-d507-4747-c351-74ff7c2b1df6"
      },
      "source": [
        "import numpy as np\n",
        "\n",
        "print( np.all([True, True, False]))\n",
        "print( np.any([True, True, False]))\n",
        "a = np.zeros((100, 100), dtype=np.int)   #100행 100열을 0으로 채우되 정수로 채워야 함\n",
        "print( np.any(a != 0) )   #any는 요소 중 하나라도 동일하면 true\n",
        "print( np.all(a == a) )   #all은 요소가 모두 동일해야 true\n",
        "a = np.array([1, 2, 3, 2])\n",
        "b = np.array([2, 2, 3, 2])\n",
        "c = np.array([6, 4, 4, 5])\n",
        "print( ((a <= b) & (b <= c)).all() )   "
      ],
      "execution_count": null,
      "outputs": [
        {
          "output_type": "stream",
          "text": [
            "False\n",
            "True\n",
            "False\n",
            "True\n",
            "True\n"
          ],
          "name": "stdout"
        }
      ]
    },
    {
      "cell_type": "markdown",
      "metadata": {
        "id": "3ea-GeHm-hXI"
      },
      "source": [
        "Ø 배열 차원 축소 연산    \n",
        "§ 연산의 대상이 2차원 이상인 경우에는 어느 차원으로 계산을 할 지를 axis 인수를 사용하여 설정한다.    \n",
        "§ axis=0은 열 연산, axis=1은 행 연산    \n",
        "§ 디폴트 값은 axis=0    \n",
        "§ axis 인수는 대부분의 차원 축소 명령에 적용"
      ]
    },
    {
      "cell_type": "code",
      "metadata": {
        "colab": {
          "base_uri": "https://localhost:8080/"
        },
        "id": "d2y1VrPh-lSP",
        "outputId": "7aa7185d-a87f-4de1-d06b-5cc56db920b0"
      },
      "source": [
        "import numpy as np\n",
        "\n",
        "x = np.array([[1, 1], [2, 2]])\n",
        "\n",
        "print( x.sum() )\n",
        "print( x.sum(axis=0)) # 열 합계\n",
        "print( x.sum(axis=1)) # 행 합계"
      ],
      "execution_count": null,
      "outputs": [
        {
          "output_type": "stream",
          "text": [
            "6\n",
            "[3 3]\n",
            "[2 4]\n"
          ],
          "name": "stdout"
        }
      ]
    },
    {
      "cell_type": "markdown",
      "metadata": {
        "id": "_mln5kbh-oR3"
      },
      "source": [
        "Ø 배열 생성과 변환     \n",
        "§ array 명령으로 배열을 만들 때 자료형을 명시적으로 적용하려면 dtype 인수를 사용    \n",
        "§ dtype 인수가 없으면 주어진 데이터를 저장할 수 있는 자료형을 스스로 유추한다.    \n",
        "§ 생성된 배열의 자료형을 알아내려면 dtype 속성을 확인"
      ]
    },
    {
      "cell_type": "code",
      "metadata": {
        "colab": {
          "base_uri": "https://localhost:8080/"
        },
        "id": "cdZH2hbO-qwl",
        "outputId": "bb663e34-3176-49ee-b41a-1afe2fa7bb56"
      },
      "source": [
        "import numpy as np\n",
        "\n",
        "#요소의 타입을 알아보기 위하여 d.type을 사용\n",
        "x = np.array([1, 2, 3])  #소수점이 없어서 int\n",
        "print( x.dtype )\n",
        "x = np.array([1.0, 2.0, 3.0])  #소수점이 있어서 float\n",
        "print( x.dtype )\n",
        "x = np.array([1, 2, 3.0])  #int, float가 섞여 있으니 float\n",
        "print( x.dtype )\n",
        "\n",
        "#배열 요소로 생성된 값의 타입을 지정하여 출력 dtype으로 지정\n",
        "x = np.array([1, 2, 3], dtype='f')  #int지만 실수로 출력하라\n",
        "print( x.dtype )\n",
        "print( x[0] + x[1] )\n",
        "x = np.array([1, 2, 3], dtype='U') #int지만 유니코드로 출력하라 \n",
        "print( x.dtype )\n",
        "print(x[0] + x[1] )"
      ],
      "execution_count": null,
      "outputs": [
        {
          "output_type": "stream",
          "text": [
            "int64\n",
            "float64\n",
            "float64\n",
            "float32\n",
            "3.0\n",
            "<U1\n",
            "12\n"
          ],
          "name": "stdout"
        }
      ]
    },
    {
      "cell_type": "markdown",
      "metadata": {
        "id": "Lgmh5mB-_Fz_"
      },
      "source": [
        "Ø Inf와 NaN   \n",
        "§ np.inf(infinity) - 무한대를 표현    \n",
        "§ np.nan(not a number) - 정의할 수 없는 숫자"
      ]
    },
    {
      "cell_type": "code",
      "metadata": {
        "colab": {
          "base_uri": "https://localhost:8080/"
        },
        "id": "UMDFFMSV_Bnv",
        "outputId": "3578ad8f-32ea-4e6f-8b97-2a43d2f0666d"
      },
      "source": [
        "# 1을 0으로 나누려고 하거나 0에 대한 로그 값을 계산하면 무한대인 np.inf이 나온다.\n",
        "# 0을 0으로 나누려고 시도하면 np.nan이 나온다.\n",
        "print( np.array([0, 1, -1, 0]) / np.array([1, 0, 0, 0]) )  #정수를 0으로 나누면 값이 다르게 나온다\n",
        "print( np.log(0) )\n",
        "print( np.exp(-np.inf) )   #-np는 음의 무한대 "
      ],
      "execution_count": null,
      "outputs": [
        {
          "output_type": "stream",
          "text": [
            "[  0.  inf -inf  nan]\n",
            "-inf\n",
            "0.0\n"
          ],
          "name": "stdout"
        },
        {
          "output_type": "stream",
          "text": [
            "/usr/local/lib/python3.7/dist-packages/ipykernel_launcher.py:3: RuntimeWarning: divide by zero encountered in true_divide\n",
            "  This is separate from the ipykernel package so we can avoid doing imports until\n",
            "/usr/local/lib/python3.7/dist-packages/ipykernel_launcher.py:3: RuntimeWarning: invalid value encountered in true_divide\n",
            "  This is separate from the ipykernel package so we can avoid doing imports until\n",
            "/usr/local/lib/python3.7/dist-packages/ipykernel_launcher.py:4: RuntimeWarning: divide by zero encountered in log\n",
            "  after removing the cwd from sys.path.\n"
          ],
          "name": "stderr"
        }
      ]
    },
    {
      "cell_type": "markdown",
      "metadata": {
        "id": "zfle0CjUAUN4"
      },
      "source": [
        "Ø 배열 생성    \n",
        "§ zeros() : 인수는 배열의 크기를 전달 ,원소가 모두 0인 배열 생성    \n",
        "크기를 뜻하는 튜플을 입력하면 다차원 배열도 생성    \n",
        "문자열 배열도 가능하지만 모든 원소의 문자열 크기가 같아야 한다.    \n",
        "더 큰 크기의 문자열을 할당하면 잘릴 수 있다.   "
      ]
    },
    {
      "cell_type": "code",
      "metadata": {
        "colab": {
          "base_uri": "https://localhost:8080/"
        },
        "id": "d4nCG8yeATsA",
        "outputId": "d9eab1f8-926e-4d87-a70c-797e4398ce45"
      },
      "source": [
        "import numpy as np\n",
        "\n",
        "a = np.zeros(5)\n",
        "print(a)\n",
        "a = np.zeros((2,2))\n",
        "print(a)\n",
        "\n",
        "a = np.zeros((5, 2), dtype=\"i\")\n",
        "print(a)\n",
        "\n",
        "a = np.zeros(5, dtype=\"U4\")\n",
        "print(a)\n",
        "\n",
        "a[0] = \"abc\"\n",
        "a[1] = \"abcd\"\n",
        "a[2] = \"ABCDE\"\n",
        "print( a )"
      ],
      "execution_count": null,
      "outputs": [
        {
          "output_type": "stream",
          "text": [
            "[0. 0. 0. 0. 0.]\n",
            "[[0. 0.]\n",
            " [0. 0.]]\n",
            "[[0 0]\n",
            " [0 0]\n",
            " [0 0]\n",
            " [0 0]\n",
            " [0 0]]\n",
            "['' '' '' '' '']\n",
            "['abc' 'abcd' 'ABCD' '' '']\n"
          ],
          "name": "stdout"
        }
      ]
    },
    {
      "cell_type": "markdown",
      "metadata": {
        "id": "EbPqRIDMAzEl"
      },
      "source": [
        "Ø 배열 생성    \n",
        "§ ones() : 원소가 모두 1인 배열 생성    \n",
        "§ 크기를 튜플로 명시하지 않고 다른 배열과 같은 크기의 배열을 생성하고 싶다면 ones_like, zeros_like 명령을 사용한다.    \n",
        "§ 배열의 크기가 커지면 배열을 초기화하는데도 시간이 걸린다.    \n",
        "§ empty 배열 초기화 시간을 단축, 배열을 생성만 하고 특정한 값으로 초기화를 하지 않는다    \n",
        "§ arange 명령은 특정한 규칙에 따라 증가하는 수열을 만든다. (NumPy 버전의 range 명령)    \n",
        "§ linspace 명령이나 logspace 명령은 선형 구간 혹은 로그 구간을 지정한 구간의 수만큼 분할한다.   \n",
        "§ full() : 사용자가 지정한 값으로 배열을 생성   \n",
        "§ eye() : 대각선으로는 1이고 나머지는 0인 2차원 배열을 생성"
      ]
    },
    {
      "cell_type": "code",
      "metadata": {
        "colab": {
          "base_uri": "https://localhost:8080/"
        },
        "id": "F4puIZdqA_U0",
        "outputId": "fa601f60-4ee3-42aa-a1eb-dadd6c6e5a9a"
      },
      "source": [
        "import numpy as np\n",
        "\n",
        "a = np.ones((2, 3, 4), dtype=\"i8\")    #ones 원소가 모두 1   2x3x4 = 3차원 3열 4행\n",
        "print(a)\n",
        "b = np.zeros((2, 3))\n",
        "a = np.ones_like(b, dtype=\"f\")\n",
        "print(a)\n",
        "a = np.empty((4, 3))  #empty 배열 초기화 (메모리만 확보, 안에 있는 값은 초기화 안함)\n",
        "print(a)\n",
        "print(np.arange(10))\n",
        "\n",
        "a = np.full((2,3), 5)   #사용자 지정값으로 초기화해 배열을 생성 ,2열 3행의 값을 5로 지정한 것 \n",
        "print(a)\n",
        "a = np.eye(3)  #대각선으로 1 나머지는 0 or 2\n",
        "print(a)\n",
        "a = np.array(range(20)).reshape((4,5))\n",
        "print(a)\n",
        "np.linspace(0, 100, 5) # 시작, 끝(포함), 갯수\n",
        "np.logspace(0.1, 1, 10)"
      ],
      "execution_count": null,
      "outputs": [
        {
          "output_type": "stream",
          "text": [
            "[[[1 1 1 1]\n",
            "  [1 1 1 1]\n",
            "  [1 1 1 1]]\n",
            "\n",
            " [[1 1 1 1]\n",
            "  [1 1 1 1]\n",
            "  [1 1 1 1]]]\n",
            "[[1. 1. 1.]\n",
            " [1. 1. 1.]]\n",
            "[[4.9e-324 9.9e-324 1.5e-323]\n",
            " [2.0e-323 2.5e-323 3.0e-323]\n",
            " [3.5e-323 4.0e-323 4.4e-323]\n",
            " [4.9e-323 5.4e-323 5.9e-323]]\n",
            "[0 1 2 3 4 5 6 7 8 9]\n",
            "[[5 5 5]\n",
            " [5 5 5]]\n",
            "[[1. 0. 0.]\n",
            " [0. 1. 0.]\n",
            " [0. 0. 1.]]\n",
            "[[ 0  1  2  3  4]\n",
            " [ 5  6  7  8  9]\n",
            " [10 11 12 13 14]\n",
            " [15 16 17 18 19]]\n"
          ],
          "name": "stdout"
        },
        {
          "output_type": "execute_result",
          "data": {
            "text/plain": [
              "array([ 1.25892541,  1.58489319,  1.99526231,  2.51188643,  3.16227766,\n",
              "        3.98107171,  5.01187234,  6.30957344,  7.94328235, 10.        ])"
            ]
          },
          "metadata": {
            "tags": []
          },
          "execution_count": 39
        }
      ]
    },
    {
      "cell_type": "markdown",
      "metadata": {
        "id": "XYLTD9IcC1ra"
      },
      "source": [
        "Ø 전치 연산    \n",
        "§ 전치(transpose) 연산은 행과 열을 바꾸는 작업이다.  2열3행 > 3열2행으로 \n",
        "§ 배열의 T 속성으로 전치(transpose)를 구할 수 있다."
      ]
    },
    {
      "cell_type": "code",
      "metadata": {
        "colab": {
          "base_uri": "https://localhost:8080/"
        },
        "id": "4kGo92p3C47R",
        "outputId": "0c8e2f9f-4327-4a35-e30f-8d0f57ecb2c1"
      },
      "source": [
        "import numpy as np\n",
        "\n",
        "A = np.array([[1, 2, 3], [4, 5, 6]])\n",
        "print(A)\n",
        "print(A.T)"
      ],
      "execution_count": null,
      "outputs": [
        {
          "output_type": "stream",
          "text": [
            "[[1 2 3]\n",
            " [4 5 6]]\n",
            "[[1 4]\n",
            " [2 5]\n",
            " [3 6]]\n"
          ],
          "name": "stdout"
        }
      ]
    },
    {
      "cell_type": "markdown",
      "metadata": {
        "id": "kdXRL6kpC9Np"
      },
      "source": [
        "Ø 배열의 크기 변환    \n",
        "§ reshape : 배열의 내부 데이터는 보존한 채로 형태 변경    \n",
        "§ reshape 명령에 튜플의 원소 중 하나는 -1이라는 숫자로 대체하여 전달할 경우 다른 값에서 계산되어 사용    \n",
        "§ flatten 나 ravel 메서드 : 다차원 배열을 무조건 1차원으로 만들기 위해서 사용     \n",
        "§ newaxis 명령 : 같은 배열에 대해 차원만 1차원 증가시키는 경우에 사용"
      ]
    },
    {
      "cell_type": "code",
      "metadata": {
        "colab": {
          "base_uri": "https://localhost:8080/"
        },
        "id": "9HTSW72fC_9I",
        "outputId": "7366c5d8-bcc6-4328-8c79-6e0464d2b491"
      },
      "source": [
        "import numpy as np\n",
        "\n",
        "a = np.arange(12)\n",
        "print( a )\n",
        "print(a.shape)\n",
        "b = a.reshape(3, 4)\n",
        "print( b )\n",
        "print(b.shape)\n",
        "\n",
        "print(a.reshape(4, -1) )    #원래 데이터(3,4)를 4,-1로 바꿔라  여기서 -1은 다른 값에서 계산\n",
        "print(a.flatten())   #1차원으로 만듬\n",
        "print(a.reshape(2, 2, -1) )  #3차원에 2열에서 행수는 -1이여서 다른 값에서 계산 \n",
        "print( a.reshape(2, -1, 2) )  #차원과 행은 정해졌고 열은 다른 값에서 계산\n",
        "print(a.ravel())    #1차원으로 만듬\n",
        "\n",
        "x = np.arange(5)\n",
        "print( x )\n",
        "print( x.reshape(1, 5))\n",
        "print( x.reshape(5, 1))\n",
        "print(x[:, np.newaxis])   #같은 배열이면 1차원을 증가   "
      ],
      "execution_count": null,
      "outputs": [
        {
          "output_type": "stream",
          "text": [
            "[ 0  1  2  3  4  5  6  7  8  9 10 11]\n",
            "(12,)\n",
            "[[ 0  1  2  3]\n",
            " [ 4  5  6  7]\n",
            " [ 8  9 10 11]]\n",
            "(3, 4)\n",
            "[[ 0  1  2]\n",
            " [ 3  4  5]\n",
            " [ 6  7  8]\n",
            " [ 9 10 11]]\n",
            "[ 0  1  2  3  4  5  6  7  8  9 10 11]\n",
            "[[[ 0  1  2]\n",
            "  [ 3  4  5]]\n",
            "\n",
            " [[ 6  7  8]\n",
            "  [ 9 10 11]]]\n",
            "[[[ 0  1]\n",
            "  [ 2  3]\n",
            "  [ 4  5]]\n",
            "\n",
            " [[ 6  7]\n",
            "  [ 8  9]\n",
            "  [10 11]]]\n",
            "[ 0  1  2  3  4  5  6  7  8  9 10 11]\n",
            "[0 1 2 3 4]\n",
            "[[0 1 2 3 4]]\n",
            "[[0]\n",
            " [1]\n",
            " [2]\n",
            " [3]\n",
            " [4]]\n",
            "[[0]\n",
            " [1]\n",
            " [2]\n",
            " [3]\n",
            " [4]]\n"
          ],
          "name": "stdout"
        }
      ]
    },
    {
      "cell_type": "markdown",
      "metadata": {
        "id": "EprKBAX5DEXt"
      },
      "source": [
        "Ø 배열의 연결     \n",
        "§ 행의 수나 열의 수가 같은 두 개 이상의 배열을 연결하여(concatenate) 더 큰 배열을 만드는 명령    \n",
        "§ hstack - 행의 수가 같은 두 개 이상의 배열을 옆으로 연결하여 열의 수가 더 많은 배열을 만든다.     \n",
        "연결할 배열은 하나의 리스트에 담아야 한다.    \n",
        "§ vstack -열의 수가 같은 두 개 이상의 배열을 위아래로 연결하여 행의 수가 더 많은 배열을 만든다.    \n",
        "연결할 배열은 마찬가지로 하나의 리스트에 담아야 한다."
      ]
    },
    {
      "cell_type": "code",
      "metadata": {
        "colab": {
          "base_uri": "https://localhost:8080/"
        },
        "id": "qU7IXF-bDGqs",
        "outputId": "79617a60-8257-4423-9c14-f5e1144a9bb9"
      },
      "source": [
        "import numpy as np\n",
        "\n",
        "a1 = np.ones((2, 3))\n",
        "print( a1 )\n",
        "a2 = np.zeros((2, 2))\n",
        "print( a2 )\n",
        "print( np.hstack([a1, a2]) )   #연결이 옆으로 연결 행수를 3+2를 해서 5행"
      ],
      "execution_count": null,
      "outputs": [
        {
          "output_type": "stream",
          "text": [
            "[[1. 1. 1.]\n",
            " [1. 1. 1.]]\n",
            "[[0. 0.]\n",
            " [0. 0.]]\n",
            "[[1. 1. 1. 0. 0.]\n",
            " [1. 1. 1. 0. 0.]]\n"
          ],
          "name": "stdout"
        }
      ]
    },
    {
      "cell_type": "code",
      "metadata": {
        "colab": {
          "base_uri": "https://localhost:8080/"
        },
        "id": "wRND-Cs1DNAS",
        "outputId": "430ee317-7c8a-4648-8a75-5e4d1b63621f"
      },
      "source": [
        "import numpy as np\n",
        "\n",
        "b1 = np.ones((2, 3))\n",
        "print( b1 )\n",
        "b2 = np.zeros((3, 3))\n",
        "print( b2 )\n",
        "print( np.vstack([b1, b2]) )  #연결이 위아래로 연결"
      ],
      "execution_count": null,
      "outputs": [
        {
          "output_type": "stream",
          "text": [
            "[[1. 1. 1.]\n",
            " [1. 1. 1.]]\n",
            "[[0. 0. 0.]\n",
            " [0. 0. 0.]\n",
            " [0. 0. 0.]]\n",
            "[[1. 1. 1.]\n",
            " [1. 1. 1.]\n",
            " [0. 0. 0.]\n",
            " [0. 0. 0.]\n",
            " [0. 0. 0.]]\n"
          ],
          "name": "stdout"
        }
      ]
    },
    {
      "cell_type": "markdown",
      "metadata": {
        "id": "1ARmGYGQHHBa"
      },
      "source": [
        "Ø 배열의 연결    \n",
        "§ dstack - 깊이(depth) 방향으로 배열을 합친다.   \n",
        "가장 안쪽의 원소의 차원이 증가한다. 즉 가장 내부의 숫자 원소가 배열이 된다.     \n",
        "shape 속성 확인 (가장 내부의 숫자 원소 값이 2인 차원으로 추가)    "
      ]
    },
    {
      "cell_type": "code",
      "metadata": {
        "colab": {
          "base_uri": "https://localhost:8080/"
        },
        "id": "MjSpdYNVHLQj",
        "outputId": "9908797b-910f-4b74-88a1-57472451bc99"
      },
      "source": [
        "import numpy as np\n",
        "c1 = np.ones((3, 4))\n",
        "print( c1 )\n",
        "c2 = np.zeros((3, 4))\n",
        "print( c2 )\n",
        "print( np.dstack([c1, c2]) )   #3차원 4행 2열\n",
        "print( (np.dstack([c1, c2])).shape)   "
      ],
      "execution_count": 54,
      "outputs": [
        {
          "output_type": "stream",
          "text": [
            "[[1. 1. 1. 1.]\n",
            " [1. 1. 1. 1.]\n",
            " [1. 1. 1. 1.]]\n",
            "[[0. 0. 0. 0.]\n",
            " [0. 0. 0. 0.]\n",
            " [0. 0. 0. 0.]]\n",
            "[[[1. 0.]\n",
            "  [1. 0.]\n",
            "  [1. 0.]\n",
            "  [1. 0.]]\n",
            "\n",
            " [[1. 0.]\n",
            "  [1. 0.]\n",
            "  [1. 0.]\n",
            "  [1. 0.]]\n",
            "\n",
            " [[1. 0.]\n",
            "  [1. 0.]\n",
            "  [1. 0.]\n",
            "  [1. 0.]]]\n",
            "(3, 4, 2)\n"
          ],
          "name": "stdout"
        }
      ]
    },
    {
      "cell_type": "markdown",
      "metadata": {
        "id": "A1xS9XNrHhfL"
      },
      "source": [
        "Ø 배열의 연결    \n",
        "§ stack - dstack의 기능을 확장한 것.     \n",
        "사용자가 지정한 차원(축으로) 배열을 연결한다.   \n",
        "axis 인수(디폴트 0)를 사용하여 연결후의 회전 방향을 정한다.   \n",
        "디폴트 인수값은 0이고 가장 앞쪽에 차원이 생성된다.   \n",
        "즉, 배열 두 개가 겹치게 되므로 연결하고자 하는 배열들의 크기가 모두 같아야 한다.    \n",
        "axis 인수가 1이면 두번째 차원으로 새로운 차원이 삽입된다     \n",
        "dstack; r,c => r, c, 2    \n",
        "stack; r, c => 2, r, c   \n",
        "stack(axis=1) r, c => r, 2, c"
      ]
    },
    {
      "cell_type": "code",
      "metadata": {
        "colab": {
          "base_uri": "https://localhost:8080/"
        },
        "id": "PbZsgn1pJgxo",
        "outputId": "66844921-f920-4b55-890b-05f821467762"
      },
      "source": [
        "import numpy as np\n",
        "c = np.stack([c1, c2])\n",
        "print( c )\n",
        "print(c.shape )\n",
        "c = np.stack([c1, c2], axis=1)\n",
        "print(c)\n",
        "print(c.shape )"
      ],
      "execution_count": 50,
      "outputs": [
        {
          "output_type": "stream",
          "text": [
            "[[[1. 1. 1. 1.]\n",
            "  [1. 1. 1. 1.]\n",
            "  [1. 1. 1. 1.]]\n",
            "\n",
            " [[0. 0. 0. 0.]\n",
            "  [0. 0. 0. 0.]\n",
            "  [0. 0. 0. 0.]]]\n",
            "(2, 3, 4)\n",
            "[[[1. 1. 1. 1.]\n",
            "  [0. 0. 0. 0.]]\n",
            "\n",
            " [[1. 1. 1. 1.]\n",
            "  [0. 0. 0. 0.]]\n",
            "\n",
            " [[1. 1. 1. 1.]\n",
            "  [0. 0. 0. 0.]]]\n",
            "(3, 2, 4)\n"
          ],
          "name": "stdout"
        }
      ]
    },
    {
      "cell_type": "markdown",
      "metadata": {
        "id": "Pg5tM6O8IfvD"
      },
      "source": [
        "Ø 배열의 연결    \n",
        "§ r_ 메서드 - hstack 명령과 비슷하게 배열을 좌우로 연결    \n",
        "특수 메서드를 인덱서(indexer)로 사용    \n",
        "소괄호(parenthesis, ())를 사용하지 않고 인덱싱과 같이 대괄호(bracket, [])를 사용한다.    \n",
        "§ c_ 메서드 - 배열의 차원을 증가시킨 후 좌우로 연결한다    \n",
        "§ tile - 동일한 배열을 반복하여 연결한다."
      ]
    },
    {
      "cell_type": "code",
      "metadata": {
        "colab": {
          "base_uri": "https://localhost:8080/"
        },
        "id": "I2nVjw-BIjob",
        "outputId": "9000afaa-2fdf-45e0-cd5a-a3427b459642"
      },
      "source": [
        "import numpy as np\n",
        "\n",
        "print(np.r_[np.array([1, 2, 3]), np.array([4, 5, 6])] )   #리스트의 옆으로 연결\n",
        "\n",
        "print( np.c_[np.array([1, 2, 3]), np.array([4, 5, 6])] )  #차원을 증가 시킨 후 옆으로연결[1,4][2,5]이런 식\n",
        "\n",
        "a = np.array([[0, 1, 2], [3, 4, 5]])\n",
        "print( np.tile(a, 2) )\n",
        "print( np.tile(a, (3, 2)) )"
      ],
      "execution_count": 49,
      "outputs": [
        {
          "output_type": "stream",
          "text": [
            "[1 2 3 4 5 6]\n",
            "[[1 4]\n",
            " [2 5]\n",
            " [3 6]]\n",
            "[[0 1 2 0 1 2]\n",
            " [3 4 5 3 4 5]]\n",
            "[[0 1 2 0 1 2]\n",
            " [3 4 5 3 4 5]\n",
            " [0 1 2 0 1 2]\n",
            " [3 4 5 3 4 5]\n",
            " [0 1 2 0 1 2]\n",
            " [3 4 5 3 4 5]]\n"
          ],
          "name": "stdout"
        }
      ]
    },
    {
      "cell_type": "markdown",
      "metadata": {
        "id": "C9fTfYs3I7O5"
      },
      "source": [
        "Ø 기술통계    \n",
        "§ 데이터 집합에 대해 간단한 통계를 계산하는 함수를 제공    \n",
        "§ 데이터의 개수(count)    \n",
        "§ 평균(mean, average) - 표본 평균(sample average, sample mean)    \n",
        "§ 분산(variance) - 표본 분산(sample variance)은 데이터와 표본 평균간의 거리의 제곱의 평균이다. 표본 분산이 작으면 데이터가 모여있는 것이고 크면 흩어져 있는 것이다.    \n",
        "§ 표준 편차(standard deviation) - 표본 분산의 양의 제곱근 값    \n",
        "§ 최댓값(maximum)   \n",
        "§ 최솟값(minimum)   \n",
        "§ 중앙값(median)   \n",
        "§ 사분위수(quartile)   "
      ]
    },
    {
      "cell_type": "code",
      "metadata": {
        "colab": {
          "base_uri": "https://localhost:8080/"
        },
        "id": "hbtqx9a-JARy",
        "outputId": "625f88a0-18c4-4796-af66-23e400776f80"
      },
      "source": [
        "import numpy as np\n",
        "\n",
        "x = np.array([18, 5, 10, 23, 19, -8, 10, 0, 0, 5, 2, 15, 8,\n",
        "2, 5, 4, 15, -1, 4, -7, -24, 7, 9, -6, 23, -13])\n",
        "\n",
        "print( len(x) ) # 데이터의 개수\n",
        "print( np.var(x) ) # 분산\n",
        "print( np.var(x, ddof=1) ) # 비편향 분산\n",
        "print( np.std(x) ) # 표준 편차\n",
        "print( np.max(x) ) # 최댓값\n",
        "print( np.min(x) ) # 최솟값"
      ],
      "execution_count": 53,
      "outputs": [
        {
          "output_type": "stream",
          "text": [
            "26\n",
            "115.23224852071006\n",
            "119.84153846153846\n",
            "10.734628476137871\n",
            "23\n",
            "-24\n"
          ],
          "name": "stdout"
        }
      ]
    },
    {
      "cell_type": "markdown",
      "metadata": {
        "id": "XdKj5hFQKmoc"
      },
      "source": [
        "Ø 기술통계    \n",
        "§ 중앙값(median) - 데이터를 크기대로 정렬하였을 때 가장 가운데에 있는 수    \n",
        "데이터의 수가 짝수이면 가장 가운데에 있는 두 수의 평균을 사용한다.    \n",
        "§ 사분위수(quartile) - 데이터를 가장 작은 수부터 가장 큰 수까지 크기가 커지는 순서대로 정렬하였을 때    \n",
        "1/4, 2/4, 3/4 위치에 있는 수, 2사분위수는 중앙값과 같다.    "
      ]
    },
    {
      "cell_type": "code",
      "metadata": {
        "colab": {
          "base_uri": "https://localhost:8080/"
        },
        "id": "cikamA1uLIg_",
        "outputId": "79ce843b-5cdb-4a74-c9f3-e8ebc37dc038"
      },
      "source": [
        "import numpy as np\n",
        "\n",
        "x = np.array([18, 5, 10, 23, 19, -8, 10, 0, 0, 5, 2, 15, 8,\n",
        "2, 5, 4, 15, -1, 4, -7, -24, 7, 9, -6, 23, -13])\n",
        "\n",
        "print( np.median(x) ) # 중앙값\n",
        "print( np.percentile(x, 0) ) # 최소값\n",
        "print( np.percentile(x, 25) ) # 1사분위 수\n",
        "print( np.percentile(x, 50) ) # 2사분위 수\n",
        "print( np.percentile(x, 75) ) # 3사분위 수\n",
        "print( np.percentile(x, 100)) # 최댓값"
      ],
      "execution_count": 51,
      "outputs": [
        {
          "output_type": "stream",
          "text": [
            "5.0\n",
            "-24.0\n",
            "0.0\n",
            "5.0\n",
            "10.0\n",
            "23.0\n"
          ],
          "name": "stdout"
        }
      ]
    },
    {
      "cell_type": "markdown",
      "metadata": {
        "id": "Tw8fSfUqLSR1"
      },
      "source": [
        "Ø 난수(random number) 생성    \n",
        "§ NumPy의 random 서브패키지에서 제공    \n",
        "§ 어떤 특정한 시작 숫자를 정해 주면 컴퓨터가 정해진 알고리즘에 의해 마치 난수처럼 보이는 수열을 생성한다.    \n",
        "§ 시드(seed) - 시작 숫자    \n",
        "§ 생성된 난수는 다음번 난수 생성을 위한 시드값이 된다.    \n",
        "§ 시드값은 한 번만 설정    \n",
        "§ 특정한 시드값이 사용되면 그 다음에 만들어지는 난수들은 모두 예측할 수 있다.    \n",
        "§ 데이터 분석 결과를 재현하기 위해서는 시드를 설정한다.    \n",
        "§ seed - 시드를 설정하는 함수. 인수로는 0과 같거나 큰 정수를 전달한다     \n",
        "§ rand - 0과 1사이의 난수를 발생시키는 함수. 인수로 받은 숫자 횟수만큼 난수를 발생시킨다.\n"
      ]
    },
    {
      "cell_type": "code",
      "metadata": {
        "colab": {
          "base_uri": "https://localhost:8080/"
        },
        "id": "Q2_bAXNyLdvM",
        "outputId": "34019d5c-9790-4d84-92d5-e148f7619a71"
      },
      "source": [
        "import numpy as np\n",
        "np.random.seed(0)\n",
        "print( np.random.rand(5) )\n",
        "print( np.random.rand(10) )\n",
        "print( np.random.rand(10) )\n",
        "\n",
        "np.random.seed(0)\n",
        "print( np.random.rand(5) )\n",
        "print( np.random.rand(10) )\n",
        "print( np.random.rand(10) )"
      ],
      "execution_count": 52,
      "outputs": [
        {
          "output_type": "stream",
          "text": [
            "[0.5488135  0.71518937 0.60276338 0.54488318 0.4236548 ]\n",
            "[0.64589411 0.43758721 0.891773   0.96366276 0.38344152 0.79172504\n",
            " 0.52889492 0.56804456 0.92559664 0.07103606]\n",
            "[0.0871293  0.0202184  0.83261985 0.77815675 0.87001215 0.97861834\n",
            " 0.79915856 0.46147936 0.78052918 0.11827443]\n",
            "[0.5488135  0.71518937 0.60276338 0.54488318 0.4236548 ]\n",
            "[0.64589411 0.43758721 0.891773   0.96366276 0.38344152 0.79172504\n",
            " 0.52889492 0.56804456 0.92559664 0.07103606]\n",
            "[0.0871293  0.0202184  0.83261985 0.77815675 0.87001215 0.97861834\n",
            " 0.79915856 0.46147936 0.78052918 0.11827443]\n"
          ],
          "name": "stdout"
        }
      ]
    },
    {
      "cell_type": "markdown",
      "metadata": {
        "id": "fvc0st8fe0NM"
      },
      "source": [
        "Ø 난수(random number) 생성   \n",
        "§ shuffle - 데이터의 순서를 바꾸는 함수   \n",
        "자체 변환(in-place) 함수로 한 번 사용하면 변수의 값이 바뀌므로 사용에 주의해야 한다.   "
      ]
    },
    {
      "cell_type": "code",
      "metadata": {
        "colab": {
          "base_uri": "https://localhost:8080/"
        },
        "id": "7wXsAVl9e3E9",
        "outputId": "f9e135ee-5e2b-45a3-c15c-910f59c04381"
      },
      "source": [
        "import numpy as np\n",
        "\n",
        "x = np.arange(10)\n",
        "print( x )\n",
        "np.random.shuffle(x)\n",
        "print( x )"
      ],
      "execution_count": 55,
      "outputs": [
        {
          "output_type": "stream",
          "text": [
            "[0 1 2 3 4 5 6 7 8 9]\n",
            "[3 6 4 5 2 9 7 8 1 0]\n"
          ],
          "name": "stdout"
        }
      ]
    },
    {
      "cell_type": "markdown",
      "metadata": {
        "id": "x9t5RvF-fCLS"
      },
      "source": [
        "Ø 난수(random number) 생성    \n",
        "§ 표본선택 혹은 샘플링(sampling) - 데이터 집합에서 일부를 무작위로 선택하는 것    \n",
        "§ numpy.random.choice(a, size=None, replace=True, p=None)    \n",
        "a : 배열이면 원래의 데이터, 정수이면 arange(a) 명령으로 데이터 생성    \n",
        "size : 정수. 샘플 숫자    \n",
        "replace : 불리언. True이면 한번 선택한 데이터를 다시 선택 가능    \n",
        "p : 배열. 각 데이터가 선택될 수 있는 확률   "
      ]
    },
    {
      "cell_type": "code",
      "metadata": {
        "colab": {
          "base_uri": "https://localhost:8080/"
        },
        "id": "pXRdf8SpfE-S",
        "outputId": "0781b06c-8469-4722-b504-1a308fb0b7df"
      },
      "source": [
        "import numpy as np\n",
        "\n",
        "print( np.random.choice(5, 5, replace=False) ) # shuffle 명령과 같다.\n",
        "print( np.random.choice(5, 3, replace=False) ) # 3개만 선택\n",
        "print( np.random.choice(5, 10) ) # 반복해서 10개 선택\n",
        "print( np.random.choice(5, 10, p=[0.1, 0, 0.3, 0.6, 0]) ) # 선택 확률을 다르게 해서 10개 선택"
      ],
      "execution_count": 56,
      "outputs": [
        {
          "output_type": "stream",
          "text": [
            "[1 4 0 3 2]\n",
            "[2 1 3]\n",
            "[0 4 1 4 1 2 2 0 1 1]\n",
            "[0 3 3 2 2 3 3 2 0 3]\n"
          ],
          "name": "stdout"
        }
      ]
    },
    {
      "cell_type": "markdown",
      "metadata": {
        "id": "cGqWqVwfgK8t"
      },
      "source": [
        "Ø 난수(random number) 생성    \n",
        "§ rand : 0부터 1사이의 균일 분포, 숫자 인수는 생성할 난수의 크기    \n",
        "§ randn : 기댓값이 0이고 표준편차가 1인 표준 정규 분포(standard normal distribution)를 따르는 난수를\n",
        "생성    \n",
        "§ randint : 균일 분포의 정수 난수     \n",
        "numpy.random.randint(low, high=None, size=None)    \n",
        "high를 입력하지 않으면 0과 low사이의 숫자를,    \n",
        "high를 입력하면 low와 high는 사이의 숫자를  출력한다.    \n",
        "size는 난수의 개수이다.    "
      ]
    },
    {
      "cell_type": "code",
      "metadata": {
        "colab": {
          "base_uri": "https://localhost:8080/"
        },
        "id": "_TFfLcsggRSU",
        "outputId": "dc9bbf20-4a85-4206-fcca-9cc2550b659c"
      },
      "source": [
        "import numpy as np\n",
        "\n",
        "print(np.random.rand(10) )\n",
        "print(np.random.rand(3, 5) )\n",
        "\n",
        "print(np.random.randn(10))\n",
        "print(np.random.randn(3, 5))\n",
        "\n",
        "print(np.random.randint(10, size=10))\n",
        "print(np.random.randint(10, 20, size=10))\n",
        "print(np.random.randint(10, 20, size=(3, 5)))"
      ],
      "execution_count": 57,
      "outputs": [
        {
          "output_type": "stream",
          "text": [
            "[0.95894927 0.65279032 0.63505887 0.99529957 0.58185033 0.41436859\n",
            " 0.4746975  0.6235101  0.33800761 0.67475232]\n",
            "[[0.31720174 0.77834548 0.94957105 0.66252687 0.01357164]\n",
            " [0.6228461  0.67365963 0.971945   0.87819347 0.50962438]\n",
            " [0.05571469 0.45115921 0.01998767 0.44171092 0.97958673]]\n",
            "[-0.30237513 -2.2244036   0.72400636  0.35900276  1.07612104  0.19214083\n",
            "  0.85292596  0.01835718  0.42830357  0.99627783]\n",
            "[[-0.49114966  0.71267817  1.11334035 -2.15367459 -0.41611148]\n",
            " [-1.07089699  0.22113881 -1.12305712 -1.05075796  1.01207905]\n",
            " [ 1.54371643 -0.40211489  0.8647491  -0.22686923  0.81116027]]\n",
            "[0 4 3 6 9 8 0 8 5 9]\n",
            "[10 19 16 15 13 11 18 10 14 19]\n",
            "[[16 15 17 18 18]\n",
            " [19 12 18 16 16]\n",
            " [19 11 16 18 18]]\n"
          ],
          "name": "stdout"
        }
      ]
    },
    {
      "cell_type": "code",
      "metadata": {
        "colab": {
          "base_uri": "https://localhost:8080/"
        },
        "id": "SWs1bEvCg_SV",
        "outputId": "861f7a93-6d15-42fb-f1c3-e7bd7aee679c"
      },
      "source": [
        "\"\"\"\n",
        "Ø 연습문제\n",
        "§ 동전을 10번 던져 앞면(숫자 1)과 뒷면(숫자 0)이 나오는 가상 실험을 파이썬으로 작성한다.\n",
        "\"\"\"\n",
        "\n",
        "import numpy as np\n",
        "print(np.random.randint(2, size=10))\n"
      ],
      "execution_count": 73,
      "outputs": [
        {
          "output_type": "stream",
          "text": [
            "[1 0 0 0 1 0 1 0 1 0]\n"
          ],
          "name": "stdout"
        }
      ]
    },
    {
      "cell_type": "code",
      "metadata": {
        "colab": {
          "base_uri": "https://localhost:8080/"
        },
        "id": "odoAZwDFhppf",
        "outputId": "56c470dd-b8c3-4748-bb0e-bbd79c6cd76f"
      },
      "source": [
        "\"\"\"\n",
        "Ø 연습문제\n",
        "§ 주사위를 100번 던져서 나오는 숫자의 평균을 구하라.\n",
        "\"\"\"\n",
        "import numpy as np\n",
        "\n",
        "dice = np.random.randint(1, 7, size = 100)\n",
        "print(dice)\n",
        "print(np.mean(dice))"
      ],
      "execution_count": 76,
      "outputs": [
        {
          "output_type": "stream",
          "text": [
            "[6 4 6 6 2 5 6 6 4 2 4 6 4 3 1 2 6 6 6 1 2 6 2 6 5 3 3 4 1 6 6 4 3 4 3 3 2\n",
            " 4 2 4 6 3 6 3 5 2 6 1 4 6 1 5 3 2 1 2 3 2 2 6 4 1 5 2 2 6 5 1 3 4 5 2 3 4\n",
            " 5 2 1 5 2 3 5 4 1 5 6 5 6 1 6 3 4 2 3 2 6 4 3 5 3 2]\n",
            "3.69\n"
          ],
          "name": "stdout"
        }
      ]
    },
    {
      "cell_type": "code",
      "metadata": {
        "colab": {
          "base_uri": "https://localhost:8080/"
        },
        "id": "1UZb3AWphtSb",
        "outputId": "dd235c7d-19bd-4efb-d91d-d33d9fd70228"
      },
      "source": [
        "\"\"\"\n",
        "Ø 연습문제\n",
        "§ 가격이 10,000원인 주식이 있다. 이 주식의 일간 수익률(%)은 기댓값이 0%이고 표준편차가 1%인 표준 정\n",
        "규 분포를 따른다고 하자. 250일 동안의 주가를 무작위로 생성하라\n",
        "\"\"\"\n",
        "\n",
        "stock = 10000 + (10000 * (np.random.randn(250)/100))\n",
        "print(stock)\n",
        "print(len(stock))"
      ],
      "execution_count": 77,
      "outputs": [
        {
          "output_type": "stream",
          "text": [
            "[10028.77946131  9923.90527046  9991.45686824  9921.00363645\n",
            "  9952.91603744  9896.69462864  9976.88132904  9838.975654\n",
            " 10143.0601898   9827.46142784 10035.92495886 10088.19349541\n",
            " 10020.50130877 10121.13635073  9783.05768072  9966.49789608\n",
            "  9828.30284651  9853.81344695  9942.88979146  9803.20717984\n",
            " 10006.08832004 10044.87188821  9771.8436327   9921.11904919\n",
            " 10118.7270875   9905.87778975  9987.1770303  10127.23861347\n",
            "  9919.7005258  10102.23032031 10150.78759156  9907.66583038\n",
            " 10065.87775565 10128.59725611  9884.49329695 10011.88764542\n",
            " 10103.21449783 10053.99524322  9774.87388126  9965.63827437\n",
            "  9993.20564682 10117.65872299  9848.49848499  9910.63281876\n",
            "  9931.97563725 10019.42066441  9903.25026018 10106.82596903\n",
            " 10121.3087606  10114.47188024 10167.84044487 10047.84048798\n",
            " 10009.17376518 10004.26534769 10136.42517372 10109.95889055\n",
            "  9937.22655589  9987.06831801  9910.14605872 10193.06477193\n",
            " 10019.86065131  9985.41927474  9978.08855488 10176.24977704\n",
            "  9871.77605334 10026.98267945 10087.86985959 10000.79662736\n",
            " 10108.85729191 10007.89783026 10080.60823319 10051.91049189\n",
            "  9987.27155502  9915.90159891  9950.46937992  9986.29799951\n",
            " 10098.74244951  9928.14503182 10193.80349807 10022.03913109\n",
            "  9952.49051096 10023.86539892 10040.56424361 10029.96587297\n",
            " 10069.11650412  9809.41627921 10028.20443269  9771.2360074\n",
            "  9944.85258748 10120.7620665   9884.82019339 10015.51825959\n",
            "  9936.79909437  9818.32273339  9981.19851009 10008.90667144\n",
            "  9839.46060977  9929.24844125  9785.08955436 10012.63037532\n",
            "  9995.63708994 10101.27150187  9825.766288    9893.15256209\n",
            " 10165.53494    10085.19319772 10137.09821649 10027.4074532\n",
            " 10040.38090289  9895.99713464 10125.33848228  9959.77751829\n",
            "  9846.69844875 10154.62455566 10012.45466446 10020.65498481\n",
            "  9909.50054536 10065.44981252 10046.13310466  9834.54087735\n",
            "  9861.45698808 10044.46316427  9915.32382625 10089.32763577\n",
            " 10038.67611647  9999.48657281  9906.98600052  9850.59264814\n",
            " 10046.87392683 10022.23341488  9979.5353514   9995.3556477\n",
            "  9930.21162583  9988.72983515  9899.17351548  9994.70662155\n",
            " 10033.30057419  9935.10182371  9845.69435663 10165.94603348\n",
            "  9902.99077777 10129.23349627  9906.12380929  9878.74670968\n",
            " 10167.36474787 10197.53917842  9882.2987946  10128.61287114\n",
            " 10087.17734904  9901.40400365 10009.3459465   9838.03586544\n",
            "  9837.45739119  9948.55545021 10031.27870724 10156.45126046\n",
            " 10081.84355039 10040.21498156 10011.80555583 10003.54427721\n",
            "  9952.20989043 10062.36931703  9753.04769158  9885.08762448\n",
            "  9949.90292139 10001.47594784  9960.89494209  9961.1580422\n",
            " 10105.01419569  9996.79306128  9995.22661344  9972.26570509\n",
            "  9952.7863732   9981.46703633 10019.54202258 10148.83829371\n",
            " 10032.4843567   9881.18576766  9985.05857178  9969.66710849\n",
            "  9864.03029607  9786.19826506 10040.09370988 10070.68423888\n",
            " 10079.26077847  9976.65769181 10085.97453138 10036.62805351\n",
            " 10072.64231606 10001.79384552  9771.45200881  9852.11548724\n",
            "  9864.68000588  9997.10544717  9828.25675285  9884.70907428\n",
            " 10094.1030811   9897.14730689 10006.55358098 10041.04702904\n",
            "  9883.10696443  9808.55923741 10007.32355692 10074.9688133\n",
            " 10008.61383002  9826.27650728 10015.49337774  9969.39001609\n",
            " 10090.19408172 10083.23787664  9957.82941216  9774.89717076\n",
            "  9831.42758892 10079.57061562  9965.74154707 10036.84669074\n",
            "  9990.25699602 10063.88734983 10106.13866834  9922.641323\n",
            "  9930.39845624  9958.764356    9818.96930297 10153.08267978\n",
            "  9996.67489068  9992.80179622 10006.86529783 10116.55695953\n",
            "  9975.15040377  9952.05170743  9915.85433287  9986.56537507\n",
            "  9924.27503285 10016.33898013  9906.01945663 10055.63441574\n",
            "  9853.78296827  9983.57455591 10065.66366769  9919.8798957\n",
            "  9917.24146624  9942.51709572  9997.92484155  9885.1110476\n",
            " 10175.03906603 10118.64183177  9952.98527587 10075.98237156\n",
            "  9971.7005651   9934.40058201]\n",
            "250\n"
          ],
          "name": "stdout"
        }
      ]
    },
    {
      "cell_type": "markdown",
      "metadata": {
        "id": "oQXw9U3jkbxr"
      },
      "source": [
        "Ø 정수 데이터 카운팅    \n",
        "§ 발생시킨 난수가 실수값이면 히스토그램 등을 사용하여 분석하면 된다.    \n",
        "§ 난수가 정수값이면 unique 명령이나 bincount 명령으로 데이터 값을 분석할 수 있다.    \n",
        "§ unique 함수 - 데이터에서 중복된 값을 제거하고 중복되지 않는 값의 리스트를 출력    \n",
        "return_counts 인수를 True 로 설정하면 각 값을 가진 데이터 갯수도 출력한다.    \n",
        "unique 함수는 데이터에 존재하는 값에 대해서만 갯수를 세므로 데이터 값이 나올 수 있음에도 불구하고 데이터가 하나도 없는 경우에는 정보를 주지 않는다    \n",
        "§ bincount 함수는 0 부터 minlength - 1 까지의 숫자에 대해 각각 카운트를 한다. 데이터가 없을 경우에는 카운트 값이 0이 된다.     \n",
        "데이터가 주사위를 던졌을 때 나오는 수처럼 특정 범위안의 수인 경우에는 bincount 함수에 minlength 인수를 설정"
      ]
    },
    {
      "cell_type": "code",
      "metadata": {
        "colab": {
          "base_uri": "https://localhost:8080/"
        },
        "id": "lpAODtuFkhsG",
        "outputId": "15054809-153b-4c11-fd7d-99823e0514ea"
      },
      "source": [
        "import numpy as np\n",
        "\n",
        "print( np.unique([11, 11, 2, 2, 34, 34]))\n",
        "a = np.array(['a', 'b', 'b', 'c', 'a'])\n",
        "index, count = np.unique(a, return_counts=True)\n",
        "print( index )   #유니크를 적용시킨 값\n",
        "print( count )   #유니크를 적용시킨 값 중 나온 갯수를 순서대로\n",
        "print( np.bincount([1, 1, 2, 2, 2, 3], minlength=6))  #6까지 숫자 카운트 0은 0개 1은2개 2는3개 이런식"
      ],
      "execution_count": 78,
      "outputs": [
        {
          "output_type": "stream",
          "text": [
            "[ 2 11 34]\n",
            "['a' 'b' 'c']\n",
            "[2 2 1]\n",
            "[0 2 3 1 0 0]\n"
          ],
          "name": "stdout"
        }
      ]
    },
    {
      "cell_type": "code",
      "metadata": {
        "colab": {
          "base_uri": "https://localhost:8080/",
          "height": 265
        },
        "id": "Qm7V0sFYrME3",
        "outputId": "2215cf2f-f064-4312-aafc-fe2df867a6e8"
      },
      "source": [
        "import numpy as np\n",
        "import matplotlib.pyplot as plt\n",
        "\n",
        "plt.plot([1, 2, 3, 4, 5], [1, 4, 9, 16, 25]) # x축, y축 값을 리스트 형태로 전달\n",
        "plt.show() "
      ],
      "execution_count": null,
      "outputs": [
        {
          "output_type": "display_data",
          "data": {
            "image/png": "[encoded data removed]",
            "text/plain": [
              "<Figure size 432x288 with 1 Axes>"
            ]
          },
          "metadata": {
            "tags": [],
            "needs_background": "light"
          }
        }
      ]
    },
    {
      "cell_type": "markdown",
      "metadata": {
        "id": "xhUE7jjDlySl"
      },
      "source": [
        "Python Modeling library    \n",
        "\n",
        "\n",
        "Ø NumPy     \n",
        "§ 범용 배열 처리 패키지    \n",
        "§ 고성능 다차원 배열 개체와 배열 작업을 위한 도구를 제공    \n",
        "§ 다차원 데이터의 효율적인 컨테이너(컨테이너=실행 환경을 저장)    \n",
        "§ 동일한 데이터 유형의 값을 저장하는 배열을 처리하는 데 사용됨    \n",
        "§ 배열 및 벡터화에 대한 수학 연산이 용이하며 실행이 빠름    \n",
        "§ 기본 배열 작업 : 배열 추가, 곱하기, 슬라이스, 평면화, 모양 변경, 인덱스 배열    \n",
        "§ 고급 어레이 작업 : 스택 어레이, 섹션으로 분할, 브로드 캐스트 어레이     \n",
        "§ DateTime 또는 선형 대수로 작업    \n",
        "§ NumPy Python의 기본 슬라이싱 및 고급 인덱싱   "
      ]
    },
    {
      "cell_type": "markdown",
      "metadata": {
        "id": "_8Ypxcd1mMHY"
      },
      "source": [
        "Ø Pandas 패키지   \n",
        "§ Python 프로그래밍 언어로 레이블이 지정된 데이터에 대해 사용하기 쉬운 고성능 데이터 구조 및 데이터 분석 도구를 제공하는 오픈 소스 패키지    \n",
        "§ Python 데이터 분석 라이브러리!    \n",
        "§ 데이터 랭글링 또는 정리를 위한 완벽한 도구로서 빠르고 쉬운 데이터 조작, 읽기, 집계 및 시각화를 위해 설계됨     \n",
        "§ CSV 또는 TSV 파일 또는 SQL 데이터베이스의 데이터를 가져와 데이터 프레임이라는 행과 열이있는 Python 개체를 만듭니다.    \n",
        "§ 인덱싱, 조작, 이름 변경, 정렬, 데이터 프레임 병합    \n",
        "§ 데이터 프레임에서 열 업데이트, 추가, 삭제     \n",
        "§ 누락 된 파일 대치, 누락 된 데이터 또는 NAN 처리    \n",
        "§ 히스토그램 또는 상자 그림으로 데이터 플로팅    "
      ]
    },
    {
      "cell_type": "markdown",
      "metadata": {
        "id": "pLYciRzMmX92"
      },
      "source": [
        "Ø SciPy 라이브러리    \n",
        "§ SciPy 스택을 구성하는 핵심 패키지 중 하나    \n",
        "§ SciPy 는 NumPy 배열 객체를 기반으로 하며 추가 도구와 함께 Matplotlib, Pandas 및 SymPy와 같은 도구를 포함하는 스택의 일부입니다.    \n",
        "§ SciPy 라이브러리에는 선형 대수, 보간, 최적화, 통합 및 통계와 같은 효율적인 수학 루틴을 위한 모듈이 포함되어 있슴    \n",
        "§ SciPy는 배열을 기본 데이터 구조로 사용하여 선형 대수, 적분, 미적분, 상미분 방정식 및 신호 처리와 같은 일반적인 과학 프로그래밍 작업을 수행하는 다양한 모듈이 있음    "
      ]
    },
    {
      "cell_type": "markdown",
      "metadata": {
        "id": "Wq4UmAogmc1M"
      },
      "source": [
        "Ø Matplotlib   \n",
        "§ 시각화 된 데이터로 스토리를 만들 수 있습니다.   \n",
        "§ SciPy Stack의 라이브러리로서 2D 시각화    \n",
        "§ 응용 프로그램에 플롯을 포함하기위한 객체 지향  API를 제공하는 Python 용 플롯 라이브러리    \n",
        "§ Python 프로그래밍 언어에 포함 된 MATLAB과 매우 유사    \n",
        "§ 히스토그램, 막대 플롯, 산점도, 영역 플롯에서 파이 플롯으로, Matplotlib는 다양한 시각화 처리    \n",
        "§ 라인 플롯    \n",
        "§ 산점도    \n",
        "§ 면적 플롯    \n",
        "§ 막대 차트 및 히스토그램    \n",
        "§ 파이 차트    \n",
        "§ 줄기 플롯    \n",
        "§ 등고선 플롯    \n",
        "§ 퀴버 플롯    \n",
        "§ 스펙트로 그램    \n",
        "§ 레이블, 그리드, 범례 및 기타 서식 지정 엔터티   "
      ]
    },
    {
      "cell_type": "markdown",
      "metadata": {
        "id": "vrEq5W3AnO4O"
      },
      "source": [
        "Ø Seaborn    \n",
        "§ 통계 그래픽을 그리기 위한 고급 인터페이스를 제공하는 Matplotlib 기반의 데이터 시각화 라이브러리    \n",
        "§ seaborn은 고급 기능을 갖춘 Matplotlib의 확장    \n",
        "§ Matplotlib는 기본 플로팅에 사용되고, 막대, 파이, 선, 산점도 및 기타 항목에 비해 seaborn은 덜 복잡하고 적은 구문으로 다양한 시각화 패턴을 제공    \n",
        "§ corrplot 및 ggplot 과 같은 R 시각화 라이브러리를 위한 간접적 라이브러리    \n",
        "§ 여러 변수 간의 관계 결정 (상관)    \n",
        "§ 집계 통계에 대한 범주 형 변수 관찰    \n",
        "§ 일 변량 또는 이변 량 분포를 분석하고 서로 다른 데이터 하위 집합간에 비교    \n",
        "§ 종속 변수에 대한 선형 회귀 모델 플로팅   \n",
        "§ 높은 수준의 추상화, 다중 플롯 그리드 제공   "
      ]
    },
    {
      "cell_type": "markdown",
      "metadata": {
        "id": "POe7m3MXnp8w"
      },
      "source": [
        "Ø Scikit-learn    \n",
        "§ Google Summer of Code 프로젝트    \n",
        "§ Python을 위한 강력한 기계 학습 라이브러리    \n",
        "§ SVM, 랜덤 포레스트, k- 평균 클러스터링, 스펙트럼 클러스터링, 평균 이동, 교차 검증 등과 같은 ML 알고리즘을 제공하는 라이브러리    \n",
        "§ Python의 일관된 인터페이스를 통해 다양한지도 및 비지도 학습 알고리즘을 제공    \n",
        "§ 데이터 모델링에 중점(데이터를 조작하지 않습니다.)     \n",
        "§ 분류 : 스팸 감지, 이미지 인식    \n",
        "§ 클러스터링 : 약물 반응, 주가    \n",
        "§ 회귀 : 고객 세분화, 실험 결과 그룹화(예측 알고리즘)    \n",
        "§ 차원 축소 : 시각화, 효율성 향상    \n",
        "§ 모델 선택 : 매개 변수 튜닝을 통한 정확도 향상    \n",
        "§ 사전 처리 : 기계 학습 알고리즘으로 처리하기 위해 입력 데이터를 텍스트로 준비   "
      ]
    },
    {
      "cell_type": "markdown",
      "metadata": {
        "id": "dr8ljMaAnxaB"
      },
      "source": [
        "Ø TensorFlow   \n",
        "§ 데이터 흐름 그래프를 사용하여 여러 계층이 있는 대규모 신경망을 만들 수 있도록 도와주는 AI 라이브러리    \n",
        "§ 딥 러닝 모델의 구축을 용이하게 하고, ML / AI의 최첨단 기술을 추진하고, ML 기반 애플리케이션을 쉽게 배포 할 수 있도록 합니다.(ML=머신러닝)     \n",
        "§ TensorFlow는 데이터 분류, 인식, 이해(학습), 발견(새로운 패턴), 예측 및 생성과 관련하여 매우 효율적인 라이브러리    \n",
        "§ 음성 / 사운드 인식 — IoT, 자동차, 보안, UX / UI, 텔레콤    \n",
        "§ 감정 분석 — 주로 CRM 또는 CX 용    \n",
        "§ 텍스트 기반 앱 — 위협 감지, Google 번역, Gmail 스마트 답장     \n",
        "§ 얼굴 인식 — 페이스 북의 깊은 얼굴, 사진 태그, 스마트 잠금 해제    \n",
        "§ 시계열 — Amazon, Google 및 Netflix의 추천    \n",
        "§ 비디오 감지 — 모션 감지, 게임, 보안, 공항에서의 실시간 위협 감지"
      ]
    },
    {
      "cell_type": "markdown",
      "metadata": {
        "id": "7lD-LOI8oOre"
      },
      "source": [
        "Ø Keras    \n",
        "§ 심층 신경망 코드를 빌드하고 학습하기위한 TensorFlow의 고수준 API    \n",
        "§ Python의 오픈 소스 신경망 라이브러리    \n",
        "§ Keras를 사용하면 딥 러닝을 위한 단순화 된 코딩을 통해 통계 모델링, 이미지 및 텍스트 작업이 용이     \n",
        "§ Keras는 신경망 Python 라이브러리이고 TensorFlow는 다양한 기계 학습 작업을 위한 오픈 소스 라이브러리입니다.     \n",
        "§ TensorFlow는 고수준 및 저수준 API를 모두 제공     \n",
        "§ Keras는 고수준 API 만 제공    \n",
        "§ Keras는 Python 용 으로 빌드되어 TensorFlow보다 훨씬 사용자 친화적이고 모듈 식이며 구성 가능합니다.    \n",
        "§ 백분율 정확도 결정    \n",
        "§ 손실 함수 계산       \n",
        "§ 사용자 지정 함수 계층 만들기    \n",
        "§ 내장 데이터 및 이미지 처리    \n",
        "§ 반복되는 코드 블록으로 함수 작성 : 20, 50, 100 레이어 깊이"
      ]
    },
    {
      "cell_type": "markdown",
      "metadata": {
        "id": "8CVOOVddpo6m"
      },
      "source": [
        "Ø Statsmodels    \n",
        "§ 기술 통계를 위한 쉬운 계산과 통계 모델에 대한 추정 및 추론을 제공    \n",
        "§ 선형 회귀    \n",
        "§ 상관 관계    \n",
        "§ 경제학자를위한 OLS (Ordinary Least Squares)!    \n",
        "§ 생존 분석    \n",
        "§ 일반화 선형 모델 및 베이지안 모델    \n",
        "§ 일 변량 및 이변 량 분석, 가설 테스트 (기본적으로 R이 할 수있는 것!)"
      ]
    },
    {
      "cell_type": "markdown",
      "metadata": {
        "id": "t1IfKi8vpsA6"
      },
      "source": [
        "Ø Plotly     \n",
        "§ Python 용 전형적인 그래프 플로팅 라이브러리    \n",
        "§ 사용자는 분석 및 시각화 할 데이터를 가져 오거나 복사하거나 붙여 넣거나 스트리밍 가능    \n",
        "§ 샌드 박스형 Python을 제공     \n",
        "§ 그림을 만들고 표시하고, 그림을 업데이트하고, 자세한 내용을 위해 텍스트 위로 마우스를 가져 가려면 Plotly를 사용    \n",
        "§ Plotly에는 데이터를 클라우드 서버로 보내는 추가 기능도 제공    \n",
        "§ Plotly 그래프 라이브러리에는 플로팅 할 수있는 다양한 그래프가 존재    \n",
        "§ 기본 차트 : 선, 원형, 분산 형, 거품 형, 점, 간트, 선 버스트, 트리 맵, Sankey, 채워진 영역 차트   \n",
        "§ 통계 및 Seaborn 스타일 : 오류, 상자, 히스토그램, 패싯 및 격자 플롯, 트리 플롯, 바이올린 플롯, 추세선  \n",
        "§ 과학 차트 : Contour, Ternary, Log, Quiver, Carpet, Radar, Heat Map Windrose 및 Polar Plots   \n",
        "§ 재무 차트    \n",
        "§ 지도    \n",
        "§ 서브 플롯   \n",
        "§ 변형    \n",
        "§ Jupyter 위젯 상호 작용      "
      ]
    },
    {
      "cell_type": "markdown",
      "metadata": {
        "id": "VTc5GVmep1cA"
      },
      "source": [
        "Ø Gensim     \n",
        "§ 문서에서 의미론적 주제를 효율적이고 쉽게 추출합니다."
      ]
    },
    {
      "cell_type": "markdown",
      "metadata": {
        "id": "Y4ZwRH4Sp9qz"
      },
      "source": [
        "Ø NLTK (Natural Language Toolkit)    \n",
        "§ 자연어 처리 (NLP)를 적용하기 위한 데이터의 토큰화, 구문 분석, 분류, 형태소 분석, 태깅 및 의미 추론을 수행 할 수 있는 텍스트 처리 라이브러리"
      ]
    },
    {
      "cell_type": "markdown",
      "metadata": {
        "id": "zUEbH2s9qFJD"
      },
      "source": [
        "Python Pandas    \n",
        "Ø Pandas 라이브러리    \n",
        "§ Python 데이터 분석 라이브러리    \n",
        "§ 데이터를 수집하고 정리하는 데 최적화된 도구\n",
        "§ R의 dataframe 데이터 타입을 참고하여 pandas dataframe 구조에 데이터를 집어넣고 다양한 조작으로 데이터 분석을 다루기 위한 라이브러리    \n",
        "§ 서로 다른 여러 가지 유형의 데이터를 공통의 포맷으로 정리할 수 있는 도구    \n",
        "§ CSV 파일을 불러오기가 편리함    "
      ]
    },
    {
      "cell_type": "markdown",
      "metadata": {
        "id": "QhjhQH06vDe4"
      },
      "source": [
        "Ø Pandas 라이브러리    \n",
        "§ 데이터는 series , 표(table)의 형태로 나타낼 수 있다.  \n",
        "§ 판다스(Pandas) 패키지는 이러한 데이터를 다루기 위한 시리즈(Series) 클래스와 데이터프레임(DataFrame) 클래스를 제공한다.    \n",
        "§ Series 클래스는 넘파이에서 제공하는 1차원 배열과 비슷하지만 각 데이터의 의미를 표시하는 인덱스(index)를 붙일 수 있다.    \n",
        "§ Series 클래스의 데이터 자체는 값(value)라고 한다.    \n",
        "§ index가 있는 1차원 배열, 열 벡터    \n",
        "§ 문자, 논리형, 숫자 모든 데이터타입이 들어갈 수 있다.    \n",
        "§ dataframe의 구성하는 각각의 컬럼이 series 클래스 이다.    \n",
        "\n",
        "\n",
        "시리즈 = 값 + 인덱스    \n",
        "시리즈 객체= 열에 해당하는 객체   "
      ]
    },
    {
      "cell_type": "markdown",
      "metadata": {
        "id": "B37SmdvWvPYa"
      },
      "source": [
        "Ø Series    \n",
        "§ 인덱스이름(라벨)을 사용할 때는 대괄호([])안에 이름과 함께 따옴표를 입력    \n",
        "§ 인덱스 라벨은 문자열 뿐 아니라 날짜, 시간, 정수 등도 가능하다.     \n",
        "§ 인덱스를 지정하지 않고 시리즈를 만들면 시리즈의 인덱스는 0부터 시작하는 정수값이 된다    \n",
        "§ List와 tuple을 Series로 변환하는 경우 정수형 위치 인덱스가 자동 지정된다    \n",
        "§ 시리즈의 인덱스는 index 속성으로 접근할 수 있다.    \n",
        "§ 시리즈의 값은 1차원 배열이며 values 속성으로 접근할 수 있다.    \n",
        "§ name 속성을 이용하여 시리즈 데이터에 이름을 붙일 수 있다.    \n",
        "§ index.name 속성으로 시리즈의 인덱스에도 이름을 붙일 수 있다."
      ]
    },
    {
      "cell_type": "code",
      "metadata": {
        "colab": {
          "base_uri": "https://localhost:8080/"
        },
        "id": "FSYbz6huwmkk",
        "outputId": "9d5e1708-5f13-44f4-c835-4edf439e1b72"
      },
      "source": [
        "import pandas as pd\n",
        "s = pd.Series([9904312, 3448737, 2890451, 2466052],\n",
        "index=[\"서울\", \"부산\", \"인천\", \"대구\"])\n",
        "\n",
        "print( s )\n",
        "\n",
        "print( pd.Series(range(10, 14)) )  #인덱스는 안줌 그렇게되면 0부터 0, 1, 2, 3순으로 자동으로 주어짐\n",
        "print( s.index )\n",
        "print( s.values )\n",
        "s.name = \"인구\"    #열 이름\n",
        "s.index.name = \"도시\"   #인덱스 이름\n",
        "print( s )"
      ],
      "execution_count": 80,
      "outputs": [
        {
          "output_type": "stream",
          "text": [
            "서울    9904312\n",
            "부산    3448737\n",
            "인천    2890451\n",
            "대구    2466052\n",
            "dtype: int64\n",
            "0    10\n",
            "1    11\n",
            "2    12\n",
            "3    13\n",
            "dtype: int64\n",
            "Index(['서울', '부산', '인천', '대구'], dtype='object')\n",
            "[9904312 3448737 2890451 2466052]\n",
            "도시\n",
            "서울    9904312\n",
            "부산    3448737\n",
            "인천    2890451\n",
            "대구    2466052\n",
            "Name: 인구, dtype: int64\n"
          ],
          "name": "stdout"
        }
      ]
    },
    {
      "cell_type": "markdown",
      "metadata": {
        "id": "YLVASaw1xFO7"
      },
      "source": [
        "Ø Series 연산    \n",
        "§ 벡터화 연산을 할 수 있다    \n",
        "§ 연산은 Series의 값에만 적용되며 인덱스 값은 변하지 않는다"
      ]
    },
    {
      "cell_type": "code",
      "metadata": {
        "colab": {
          "base_uri": "https://localhost:8080/"
        },
        "id": "5OA-xPzkxnsR",
        "outputId": "182f2f47-3793-4f8c-da46-be0160b59649"
      },
      "source": [
        "import pandas as pd\n",
        "\n",
        "s = pd.Series([9904312, 3448737, 2890451, 2466052],\n",
        "index=[\"서울\", \"부산\", \"인천\", \"대구\"])\n",
        "print(s)\n",
        "print( s / 1000000 )"
      ],
      "execution_count": 82,
      "outputs": [
        {
          "output_type": "stream",
          "text": [
            "서울    9904312\n",
            "부산    3448737\n",
            "인천    2890451\n",
            "대구    2466052\n",
            "dtype: int64\n",
            "서울    9.904312\n",
            "부산    3.448737\n",
            "인천    2.890451\n",
            "대구    2.466052\n",
            "dtype: float64\n"
          ],
          "name": "stdout"
        }
      ]
    },
    {
      "cell_type": "markdown",
      "metadata": {
        "id": "dgI_I18Ux6ua"
      },
      "source": [
        "Ø Series 인덱싱    \n",
        "§ 배열 인덱싱이나 인덱스 라벨을 이용한 인덱싱도 가능    \n",
        "§ 배열 인덱싱이나 인덱스 라벨을 이용한 슬라이싱(slicing)도 가능    \n",
        "§ 배열 인덱싱을 하면 부분적인 값을 가지는 Series 자료형을 반환    \n",
        "§ 자료의 순서를 바꾸거나 특정한 자료만 선택할 수 있다.    \n",
        "§ 문자열 라벨을 이용한 슬라이싱을 하는 경우에는 숫자 인덱싱과 달리 콜론(:) 기호 뒤에 오는 값도 결과에 포함된다.    \n",
        "§ 라벨 값이 영문 문자열인 경우에는 인덱스 라벨이 속성인것처럼 점(.)을 이용하여 해당 인덱스 값에 접근할 수도 있다.      "
      ]
    },
    {
      "cell_type": "code",
      "metadata": {
        "colab": {
          "base_uri": "https://localhost:8080/"
        },
        "id": "623LtMV8yODW",
        "outputId": "c362322e-3026-4beb-d7bd-1c17c8a611c9"
      },
      "source": [
        "import pandas as pd\n",
        "\n",
        "s = pd.Series([9904312, 3448737, 2890451, 2466052],\n",
        "index=[\"서울\", \"부산\", \"인천\", \"대구\"])\n",
        "print( s[1], s[\"부산\"] )\n",
        "print( s[3], s[\"대구\"] )\n",
        "print( s[[0, 3, 1]] )  #값 순서를 바꾸고 3개만 출력\n",
        "print( s[[\"서울\", \"대구\", \"부산\"]] )  #인덱스 순서를 바꿈\n",
        "print( s[(250e4 < s) & (s < 500e4)] ) # 인구가 250만 초과, 500만 미만인 경우\n",
        "\n",
        "s[\"부산\":\"대구\"] # 부산에서 대구까지 (대구도 포함)\n",
        "s0 = pd.Series(range(3), index=[\"a\", \"b\", \"c\"])\n",
        "print( s0 )\n",
        "print( s0.a )\n",
        "print( s0.b )"
      ],
      "execution_count": 83,
      "outputs": [
        {
          "output_type": "stream",
          "text": [
            "3448737 3448737\n",
            "2466052 2466052\n",
            "서울    9904312\n",
            "대구    2466052\n",
            "부산    3448737\n",
            "dtype: int64\n",
            "서울    9904312\n",
            "대구    2466052\n",
            "부산    3448737\n",
            "dtype: int64\n",
            "부산    3448737\n",
            "인천    2890451\n",
            "dtype: int64\n",
            "a    0\n",
            "b    1\n",
            "c    2\n",
            "dtype: int64\n",
            "0\n",
            "1\n"
          ],
          "name": "stdout"
        }
      ]
    },
    {
      "cell_type": "markdown",
      "metadata": {
        "id": "S_37aonxzLDN"
      },
      "source": [
        "Ø Series vs Dict    \n",
        "§ Series 객체는 라벨 값에 의해 인덱싱이 가능하므로 인덱스 라벨 값을 키(key)로 가지는 딕셔너리 자료형과 같다고 볼 수 있다.    \n",
        "§ 딕셔너리 자료형에서 제공하는 in 연산도 가능하고 items 메서드를 사용하면 for 루프를 통해 각 원소의 키(key)와 값(value)을 접근할 수도 있다.    \n",
        "§ 딕셔너리의 원소는 순서를 가지지 않으므로 시리즈의 데이터도 순서가 보장되지 않는다.    \n",
        "§ 순서를 정하고 싶다면 인덱스를 리스트로 지정해야 한다."
      ]
    },
    {
      "cell_type": "code",
      "metadata": {
        "colab": {
          "base_uri": "https://localhost:8080/"
        },
        "id": "OlPnA2TSzPMC",
        "outputId": "ed656390-8143-4cc2-a716-a7842dc8f701"
      },
      "source": [
        "import pandas as pd\n",
        "\n",
        "s = pd.Series([9904312, 3448737, 2890451, 2466052], index=[\"서울\", \"부산\", \"인천\", \"대구\"])\n",
        "\n",
        "print(\"서울\" in s) # 인덱스 라벨 중에 서울이 있는가\n",
        "print(\"대전\" in s) # 인덱스 라벨 중에 대전이 있는가\n",
        "for k, v in s.items():\n",
        "  print(\"%s = %d\" % (k, v))\n",
        "\n",
        "s2 = pd.Series({\"서울\": 9631482, \"부산\": 3393191, \"인천\": 2632035, \"대전\": 1490158})\n",
        "print(s2)\n",
        "s2 = pd.Series({\"서울\": 9631482, \"부산\": 3393191, \"인천\": 2632035, \"대전\": 1490158},\n",
        "index=[\"부산\", \"서울\", \"인천\", \"대전\"])\n",
        "print(s2)"
      ],
      "execution_count": 84,
      "outputs": [
        {
          "output_type": "stream",
          "text": [
            "True\n",
            "False\n",
            "서울 = 9904312\n",
            "부산 = 3448737\n",
            "인천 = 2890451\n",
            "대구 = 2466052\n",
            "서울    9631482\n",
            "부산    3393191\n",
            "인천    2632035\n",
            "대전    1490158\n",
            "dtype: int64\n",
            "부산    3393191\n",
            "서울    9631482\n",
            "인천    2632035\n",
            "대전    1490158\n",
            "dtype: int64\n"
          ],
          "name": "stdout"
        }
      ]
    },
    {
      "cell_type": "markdown",
      "metadata": {
        "id": "JwRi4xDfz2DM"
      },
      "source": [
        "Ø Series 인덱싱 기반 연산    \n",
        "§ 두 시리즈에 대해 연산을 하는 경우 인덱스가 같은 데이터에 대해서만 차이를 구한다.    \n",
        "§ NaN이 아닌 값을 구하려면 notnull 메서드를 사용한다."
      ]
    },
    {
      "cell_type": "code",
      "metadata": {
        "colab": {
          "base_uri": "https://localhost:8080/"
        },
        "id": "bnkwCNAEz7S8",
        "outputId": "91c2ef2a-3779-43f0-ecf0-45e06b42ba0a"
      },
      "source": [
        "import pandas as pd\n",
        "\n",
        "s = pd.Series([9904312, 3448737, 2890451, 2466052], index=[\"서울\", \"부산\", \"인천\", \"대구\"])\n",
        "s2 = pd.Series({\"서울\": 9631482, \"부산\": 3393191, \"인천\": 2632035, \"대전\": 1490158})\n",
        "ds = s - s2    #공통적으로 존재하는 키만 연산하게 된다. 공통되지 않으면 nan으로 출력\n",
        "print( ds )\n",
        "#NaN 값이 float 자료형에서만 가능하므로 다른 계산 결과도 모두 float 자료형이 되었다\n",
        "print( s.values - s2.values )\n",
        "\n",
        "print( ds.notnull() )  #TRUE FALSE로 반환\n",
        "print( ds[ds.notnull()] )  #트루만 결과를 출력\n",
        "rs = (s - s2) / s2 * 100\n",
        "print(rs)\n",
        "rs = rs[rs.notnull()]\n",
        "print(rs )  #트루만 결과를 출력"
      ],
      "execution_count": 85,
      "outputs": [
        {
          "output_type": "stream",
          "text": [
            "대구         NaN\n",
            "대전         NaN\n",
            "부산     55546.0\n",
            "서울    272830.0\n",
            "인천    258416.0\n",
            "dtype: float64\n",
            "[272830  55546 258416 975894]\n",
            "대구    False\n",
            "대전    False\n",
            "부산     True\n",
            "서울     True\n",
            "인천     True\n",
            "dtype: bool\n",
            "부산     55546.0\n",
            "서울    272830.0\n",
            "인천    258416.0\n",
            "dtype: float64\n",
            "대구         NaN\n",
            "대전         NaN\n",
            "부산    1.636984\n",
            "서울    2.832690\n",
            "인천    9.818107\n",
            "dtype: float64\n",
            "부산    1.636984\n",
            "서울    2.832690\n",
            "인천    9.818107\n",
            "dtype: float64\n"
          ],
          "name": "stdout"
        }
      ]
    },
    {
      "cell_type": "markdown",
      "metadata": {
        "id": "IS43eOwp0qCw"
      },
      "source": [
        "Ø Series 인덱싱 기반 데이터 추가 , 갱신    \n",
        "§ 인덱싱을 이용하면 딕셔너리처럼 데이터를 갱신(update)하거나 추가(add)할 수 있다.    \n",
        "§ 데이터를 삭제할 때도 딕셔너리처럼 del 명령을 사용한다."
      ]
    },
    {
      "cell_type": "code",
      "metadata": {
        "colab": {
          "base_uri": "https://localhost:8080/"
        },
        "id": "YdCeQBoc0tY_",
        "outputId": "97017cf4-c450-4684-c168-2b7071702794"
      },
      "source": [
        "import pandas as pd\n",
        "s = pd.Series([9904312, 3448737, 2890451, 2466052], index=[\"서울\", \"부산\", \"인천\", \"대구\"])\n",
        "s2 = pd.Series({\"서울\": 9631482, \"부산\": 3393191, \"인천\": 2632035, \"대전\": 1490158})\n",
        "rs[\"부산\"] = 1.63\n",
        "print( rs )\n",
        "rs[\"대구\"] = 1.41\n",
        "print( rs )\n",
        "#del rs[\"서울\"]\n",
        "#print( rs )"
      ],
      "execution_count": 92,
      "outputs": [
        {
          "output_type": "stream",
          "text": [
            "부산    1.630000\n",
            "인천    9.818107\n",
            "대구    1.410000\n",
            "dtype: float64\n",
            "부산    1.630000\n",
            "인천    9.818107\n",
            "대구    1.410000\n",
            "dtype: float64\n"
          ],
          "name": "stdout"
        }
      ]
    },
    {
      "cell_type": "markdown",
      "metadata": {
        "id": "HjrXGJm-2E-9"
      },
      "source": [
        "Ø Dataframe 클래스    \n",
        "§ 2차원 벡터 또는 행렬(matrix)    \n",
        "§ 행과 열의 구조를 가진 테이블 형식의 데이터 (tabular, rectangular grid 등으로 불림)를 다룰 때 사용    \n",
        "§ dataframe의 3요소 - 컬럼, 데이터(로우), 인덱스\n",
        "§ 공통 인덱스를 가지는 열 시리즈(column series)를 딕셔너리로 묶어놓은 것    \n",
        "§ 데이터프레임은 각 열(column)마다 자료형이 다를 수 있다    \n",
        "§ ndarray, dictionary, dataframe, series, list등 다양한 데이터 타입으로부터 dataframe을 생성 할 수 있다.     \n",
        " \n",
        "Ø Dataframe 클래스    \n",
        "§ 데이터만 접근하려면 values 속성을 사용한다.    \n",
        "§ 열방향 인덱스와 행방향 인덱스는 각각 columns, index 속성으로 접근한다.    \n",
        "§ 열방향 인덱스와 행방향 인덱스에 이름을 붙이는 것도 가능하다."
      ]
    },
    {
      "cell_type": "code",
      "metadata": {
        "colab": {
          "base_uri": "https://localhost:8080/"
        },
        "id": "HclQ0eQ_2Y9X",
        "outputId": "73f549e5-51ec-460c-97ff-5e5e6c5d16c9"
      },
      "source": [
        "import pandas as pd\n",
        "\n",
        "data = {\n",
        "\"2015\": [9904312, 3448737, 2890451, 2466052],\n",
        "\"2010\": [9631482, 3393191, 2632035, 2431774],\n",
        "\"2005\": [9762546, 3512547, 2517680, 2456016],\n",
        "\"2000\": [9853972, 3655437, 2466338, 2473990],\n",
        "\"지역\": [\"수도권\", \"경상권\", \"수도권\", \"경상권\"],\n",
        "\"2010-2015 증가율\": [0.0283, 0.0163, 0.0982, 0.0141]\n",
        "}\n",
        "\n",
        "columns = [\"지역\", \"2015\", \"2010\", \"2005\", \"2000\", \"2010-2015 증가율\"]\n",
        "index = [\"서울\", \"부산\", \"인천\", \"대구\"]\n",
        "df = pd.DataFrame(data, index=index, columns=columns)\n",
        "print(df)\n",
        "print(df.values)\n",
        "print(df.columns)\n",
        "print(df.index)\n",
        "df.index.name = \"도시\"\n",
        "df.columns.name = \"특성\"\n",
        "print(df)"
      ],
      "execution_count": 94,
      "outputs": [
        {
          "output_type": "stream",
          "text": [
            "     지역     2015     2010     2005     2000  2010-2015 증가율\n",
            "서울  수도권  9904312  9631482  9762546  9853972         0.0283\n",
            "부산  경상권  3448737  3393191  3512547  3655437         0.0163\n",
            "인천  수도권  2890451  2632035  2517680  2466338         0.0982\n",
            "대구  경상권  2466052  2431774  2456016  2473990         0.0141\n",
            "[['수도권' 9904312 9631482 9762546 9853972 0.0283]\n",
            " ['경상권' 3448737 3393191 3512547 3655437 0.0163]\n",
            " ['수도권' 2890451 2632035 2517680 2466338 0.0982]\n",
            " ['경상권' 2466052 2431774 2456016 2473990 0.0141]]\n",
            "Index(['지역', '2015', '2010', '2005', '2000', '2010-2015 증가율'], dtype='object')\n",
            "Index(['서울', '부산', '인천', '대구'], dtype='object')\n",
            "특성   지역     2015     2010     2005     2000  2010-2015 증가율\n",
            "도시                                                        \n",
            "서울  수도권  9904312  9631482  9762546  9853972         0.0283\n",
            "부산  경상권  3448737  3393191  3512547  3655437         0.0163\n",
            "인천  수도권  2890451  2632035  2517680  2466338         0.0982\n",
            "대구  경상권  2466052  2431774  2456016  2473990         0.0141\n"
          ],
          "name": "stdout"
        }
      ]
    },
    {
      "cell_type": "markdown",
      "metadata": {
        "id": "hiv1spwB23L_"
      },
      "source": [
        "Ø Dataframe 클래스    \n",
        "§ 전치(transpose)를 포함하여 넘파이 2차원 배열이 가지는 대부분의 속성이나 메서드를 지원한다.    \n",
        "§ 열 Series의 딕셔너리으로 볼 수 있으므로 열 단위로 데이터를 갱신하거나 추가, 삭제할 수 있다."
      ]
    },
    {
      "cell_type": "code",
      "metadata": {
        "colab": {
          "base_uri": "https://localhost:8080/"
        },
        "id": "EPLAt8Tl25Yx",
        "outputId": "baae14e4-f692-437d-c524-d9612d7e7a3d"
      },
      "source": [
        "import pandas as pd\n",
        "\n",
        "print( df.T )\n",
        "\n",
        "# \"2010-2015 증가율\"이라는 이름의 열 추가\n",
        "df[\"2010-2015 증가율\"] = df[\"2010-2015 증가율\"] * 100\n",
        "print(df)\n",
        "\n",
        "# \"2005-2010 증가율\"이라는 이름의 열 추가\n",
        "df[\"2005-2010 증가율\"] = ((df[\"2010\"] - df[\"2005\"]) / df[\"2005\"] * 100).round(2)\n",
        "print(df)\n",
        "\n",
        "# \"2010-2015 증가율\"이라는 이름의 열 삭제\n",
        "del df[\"2010-2015 증가율\"]\n",
        "print(df)"
      ],
      "execution_count": 95,
      "outputs": [
        {
          "output_type": "stream",
          "text": [
            "도시                  서울       부산       인천       대구\n",
            "특성                                               \n",
            "지역                 수도권      경상권      수도권      경상권\n",
            "2015           9904312  3448737  2890451  2466052\n",
            "2010           9631482  3393191  2632035  2431774\n",
            "2005           9762546  3512547  2517680  2456016\n",
            "2000           9853972  3655437  2466338  2473990\n",
            "2010-2015 증가율   0.0283   0.0163   0.0982   0.0141\n",
            "특성   지역     2015     2010     2005     2000  2010-2015 증가율\n",
            "도시                                                        \n",
            "서울  수도권  9904312  9631482  9762546  9853972           2.83\n",
            "부산  경상권  3448737  3393191  3512547  3655437           1.63\n",
            "인천  수도권  2890451  2632035  2517680  2466338           9.82\n",
            "대구  경상권  2466052  2431774  2456016  2473990           1.41\n",
            "특성   지역     2015     2010     2005     2000  2010-2015 증가율  2005-2010 증가율\n",
            "도시                                                                       \n",
            "서울  수도권  9904312  9631482  9762546  9853972           2.83          -1.34\n",
            "부산  경상권  3448737  3393191  3512547  3655437           1.63          -3.40\n",
            "인천  수도권  2890451  2632035  2517680  2466338           9.82           4.54\n",
            "대구  경상권  2466052  2431774  2456016  2473990           1.41          -0.99\n",
            "특성   지역     2015     2010     2005     2000  2005-2010 증가율\n",
            "도시                                                        \n",
            "서울  수도권  9904312  9631482  9762546  9853972          -1.34\n",
            "부산  경상권  3448737  3393191  3512547  3655437          -3.40\n",
            "인천  수도권  2890451  2632035  2517680  2466338           4.54\n",
            "대구  경상권  2466052  2431774  2456016  2473990          -0.99\n"
          ],
          "name": "stdout"
        }
      ]
    },
    {
      "cell_type": "markdown",
      "metadata": {
        "id": "bhVcedQE3KOH"
      },
      "source": [
        "Ø Dataframe 열 인덱싱    \n",
        "§ 인덱스로 열 라벨(column label) 값을 하나만 넣으면 시리즈 객체가 반환된다.    \n",
        "§ 인덱스로 라벨의 배열 또는 리스트를 넣으면 부분적인 데이터프레임이 반환된다.     \n",
        "§ 하나의 열만 빼내면서 데이터프레임 자료형을 유지하고 싶다면 원소가 하나인 리스트를 써서 인덱싱하면 된다.      \n",
        "§ Dataframe의 열 인덱스가 문자열 라벨을 가지고 있는 경우에는 순서를 나타내는 정수 인덱스를 열 인덱싱에 사용할 수 없다.        \n",
        "§ 정수 인덱싱의 슬라이스는 행(row)을 인덱싱할 때 사용하므로 열을 인덱싱할 때는 쓸 수 없다. (KeyError 오류 발생)          \n",
        "§ 문자열이 아닌 정수형 열 인덱스를 가지는 경우에는 인덱스 값으로 정수를 사용할 수 있다.   "
      ]
    },
    {
      "cell_type": "code",
      "metadata": {
        "colab": {
          "base_uri": "https://localhost:8080/"
        },
        "id": "3vnlpoBW3OSm",
        "outputId": "755e1094-35c0-400f-e427-5426d373b804"
      },
      "source": [
        "import pandas as pd\n",
        "\n",
        "#하나의 열만 인덱싱하면 시리즈가 반환된다\n",
        "D1 = df[\"지역\"]\n",
        "print(D1); print(type(D1))\n",
        "#여러개의 열을 인덱싱하면 부분적인 데이터프레임이 반환된다\n",
        "print(df[[\"2010\", \"2015\"]])\n",
        "\n",
        "#2010이라는 열을 반환하면서 데이터프레임 자료형을 유지\n",
        "print(df[['2010']])\n",
        "\n",
        "print(type(df[[\"2010\"]]))\n",
        "#2010이라는 열을 반환하면서 시리즈 자료형으로 변환\n",
        "print(df[\"2010\"])\n",
        "#print(df[0])     #키워드에러 발생  정수 인덱싱의 슬라이스는 열을 인덱싱할 때는 쓸 수 없다"
      ],
      "execution_count": 97,
      "outputs": [
        {
          "output_type": "stream",
          "text": [
            "도시\n",
            "서울    수도권\n",
            "부산    경상권\n",
            "인천    수도권\n",
            "대구    경상권\n",
            "Name: 지역, dtype: object\n",
            "<class 'pandas.core.series.Series'>\n",
            "특성     2010     2015\n",
            "도시                  \n",
            "서울  9631482  9904312\n",
            "부산  3393191  3448737\n",
            "인천  2632035  2890451\n",
            "대구  2431774  2466052\n",
            "특성     2010\n",
            "도시         \n",
            "서울  9631482\n",
            "부산  3393191\n",
            "인천  2632035\n",
            "대구  2431774\n",
            "<class 'pandas.core.frame.DataFrame'>\n",
            "도시\n",
            "서울    9631482\n",
            "부산    3393191\n",
            "인천    2632035\n",
            "대구    2431774\n",
            "Name: 2010, dtype: int64\n"
          ],
          "name": "stdout"
        }
      ]
    },
    {
      "cell_type": "code",
      "metadata": {
        "colab": {
          "base_uri": "https://localhost:8080/"
        },
        "id": "qLUSgjnF4mOH",
        "outputId": "1be0d887-6d4a-4377-de60-ae9d1305d3e4"
      },
      "source": [
        "import numpy as np\n",
        "df2 = pd.DataFrame(np.arange(12).reshape(3, 4))\n",
        "print(df2)\n",
        "print(df2[2])\n",
        "print(df2[[1, 2]])"
      ],
      "execution_count": 98,
      "outputs": [
        {
          "output_type": "stream",
          "text": [
            "   0  1   2   3\n",
            "0  0  1   2   3\n",
            "1  4  5   6   7\n",
            "2  8  9  10  11\n",
            "0     2\n",
            "1     6\n",
            "2    10\n",
            "Name: 2, dtype: int64\n",
            "   1   2\n",
            "0  1   2\n",
            "1  5   6\n",
            "2  9  10\n"
          ],
          "name": "stdout"
        }
      ]
    },
    {
      "cell_type": "markdown",
      "metadata": {
        "id": "JiNpCfdp7Shm"
      },
      "source": [
        "Ø Dataframe 행 인덱싱    \n",
        "§ 행 단위로 인덱싱을 하고자 하면 항상 슬라이싱(slicing)을 해야 한다.    \n",
        "§ 인덱스의 값이 문자 라벨이면 라벨 슬라이싱도 가능하다.    \n",
        "§ 데이터프레임에서 열 라벨로 시리즈를 인덱싱하면 Series가 된다. 이 Series를 다시 행 라벨로 인덱싱하면 개별 데이터가 나온다."
      ]
    },
    {
      "cell_type": "code",
      "metadata": {
        "colab": {
          "base_uri": "https://localhost:8080/"
        },
        "id": "FfiHyaO_7YPQ",
        "outputId": "0430483a-8a7e-460b-cf61-4d9606d4ffe3"
      },
      "source": [
        "import pandas as pd\n",
        "\n",
        "print(df[:1])   #행인덱스\n",
        "print(df[1:2])  #행인덱스\n",
        "print(df[1:3])  #행인덱스\n",
        "print(df[\"서울\":\"부산\"])  #행인덱스\n",
        "print(df[\"2015\"][\"서울\"])  #하나의 데이터 값만 추출 "
      ],
      "execution_count": 99,
      "outputs": [
        {
          "output_type": "stream",
          "text": [
            "특성   지역     2015     2010     2005     2000  2005-2010 증가율\n",
            "도시                                                        \n",
            "서울  수도권  9904312  9631482  9762546  9853972          -1.34\n",
            "특성   지역     2015     2010     2005     2000  2005-2010 증가율\n",
            "도시                                                        \n",
            "부산  경상권  3448737  3393191  3512547  3655437           -3.4\n",
            "특성   지역     2015     2010     2005     2000  2005-2010 증가율\n",
            "도시                                                        \n",
            "부산  경상권  3448737  3393191  3512547  3655437          -3.40\n",
            "인천  수도권  2890451  2632035  2517680  2466338           4.54\n",
            "특성   지역     2015     2010     2005     2000  2005-2010 증가율\n",
            "도시                                                        \n",
            "서울  수도권  9904312  9631482  9762546  9853972          -1.34\n",
            "부산  경상권  3448737  3393191  3512547  3655437          -3.40\n",
            "9904312\n"
          ],
          "name": "stdout"
        }
      ]
    },
    {
      "cell_type": "code",
      "metadata": {
        "colab": {
          "base_uri": "https://localhost:8080/"
        },
        "id": "63cfAMKg9oeJ",
        "outputId": "f06d55b1-0f98-4568-ffe4-05a06f169a6b"
      },
      "source": [
        "import pandas as pd\n",
        "\n",
        "data = {\n",
        "    \"국어\": [80, 90, 70, 30],\n",
        "    \"영어\": [90, 70, 60, 40],\n",
        "    \"수학\": [90, 60, 80, 70],\n",
        "}\n",
        "columns = [\"국어\", \"영어\", \"수학\"]\n",
        "index = [\"춘향\", \"몽룡\",\"향단\", \"방자\"]\n",
        "df = pd.DataFrame(data, index= index, columns=columns)\n",
        "\n",
        "#(1)\n",
        "s = pd.Series([90, 60, 80, 70], index = [\"춘향\", \"몽룡\",\"향단\", \"방자\"])\n",
        "print(s)\n",
        "\n",
        "#(2)\n",
        "df = pd.DataFrame(data, index= index, columns=columns)\n",
        "print(df[[\"국어\", \"영어\"]])"
      ],
      "execution_count": 118,
      "outputs": [
        {
          "output_type": "stream",
          "text": [
            "춘향    90\n",
            "몽룡    60\n",
            "향단    80\n",
            "방자    70\n",
            "dtype: int64\n",
            "    국어  영어\n",
            "춘향  80  90\n",
            "몽룡  90  70\n",
            "향단  70  60\n",
            "방자  30  40\n",
            "70\n"
          ],
          "name": "stdout"
        }
      ]
    },
    {
      "cell_type": "markdown",
      "metadata": {
        "id": "theE5kSF-dBC"
      },
      "source": [
        "(1) 모든 학생의 수학 점수를 시리즈로 나타낸다.   \n",
        "(2) 모든 학생의 국어와 영어 점수를 데이터 프레임으로 나타낸다.   \n"
      ]
    }
  ]
}