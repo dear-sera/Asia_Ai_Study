{
  "nbformat": 4,
  "nbformat_minor": 0,
  "metadata": {
    "colab": {
      "name": "pandas_day1.ipynb",
      "provenance": [],
      "authorship_tag": "ABX9TyPcYO+MCqFfTQ0Hs7ckcLk5",
      "include_colab_link": true
    },
    "kernelspec": {
      "name": "python3",
      "display_name": "Python 3"
    },
    "language_info": {
      "name": "python"
    }
  },
  "cells": [
    {
      "cell_type": "markdown",
      "metadata": {
        "id": "view-in-github",
        "colab_type": "text"
      },
      "source": [
        "<a href=\"https://colab.research.google.com/github/sera0911/asia-ai-study/blob/main/pandas_day1.ipynb\" target=\"_parent\"><img src=\"https://colab.research.google.com/assets/colab-badge.svg\" alt=\"Open In Colab\"/></a>"
      ]
    },
    {
      "cell_type": "markdown",
      "metadata": {
        "id": "hdHNNeWpjqtp"
      },
      "source": [
        "numpy_day1 정리\n",
        "백터와 행렬을 사용하는 선형대수 계산에 주로 사용, 과학 계산을 위한 라이브러리 => numpy    \n",
        "집합 자료형 => array(클래스타입 narray)   \n",
        "array특성 => 모든 원소가 같은 자료형이여야 한다.   \n",
        "arrya에 저장된 요소 접근 방식 => indexing   \n",
        "array 생성 함수 => array(), zaros(), ones(), full(), eye(), arange()   \n",
        "array객체의 속성 : ndim, shape, T   \n",
        "array객체의 데이터 요소 접근 및 선택 방법 : [indexing] [array 객체]    \n",
        "array객체의 연산은 빠른 성능 => 연속된 메모리에 데이터값을 할당, 내부 반복문을 사용해서 인덱스가 동일한 요소간의 연산수행 => 백터화 연산   \n",
        "연산 대상 두 array객체의 크기가 동일하거나, 동일하지 않아도 백터화 연산 가능 => 작은 크기의 array의 요소를 반복, 확장시킴 (브로드캐스팅)    \n",
        "array객체에 저장된 요소들을 연산처리 후 차원이 작은 array객체로 생성하는 연산함수 => all, any, argmax, argmin     \n",
        "array객체의 데이터 요소를 행 단위, 열 단위로 연산함수를 적용하려면  axis=0(열), axis=1(행)  \n",
        "array객체 크기를 변환 => reshape(d, r, c), -1, flatten   \n",
        "2개의 array객체를 연결 => vstack(), hstack(), stack(), dstack()    \n",
        "numpy.random.seed()    \n",
        "numpy.random.rand()    \n",
        "numpy.random.shuffle()    \n",
        "numpy.random.choice(size, replace)   \n",
        "numpy.random.randn(): 기댓값 0, 표준편차가 1이 되도록 정규분포를 따르는 난수 생성     \n",
        "numpy.random.randint() : 균등분포 정수 난수 생성   \n",
        "array 객체의 데이터 요소 중 중복되지 않는 유일값만 반환: unique(return_counts=True), bincount()     \n",
        "\n",
        "\n",
        "데이터 수집, 전처리(필터, 그룹핑, 결측치처리, 변환), 데이터 분석에 사용되는 라이브러리   \n",
        "pandas 자료형 - Series(value+index), 정수인덱스, 라벨인덱스, 1차원 numpy array와 유사   \n",
        "               Dataframe(column(Series)+Row+index) - Column인덱스, RowIndex    \n",
        "               정수인덱스 슬라이싱은 행인덱스로만 사용   \n",
        "\n",
        "Series(value+index)는 파이썬 dict자료형처럼 사용 가능 - in, items(), indexs, values   \n",
        "Series(value+index) 데이터 요소 삭제 del객체[인덱스]\n",
        " Nan이 아닌 값을 선택할 때 [객체.notnull()]   \n"
      ]
    },
    {
      "cell_type": "markdown",
      "metadata": {
        "id": "Qhk6upaorb6G"
      },
      "source": [
        "Ø 인덱서(indexer) 속성   \n",
        "§ loc : 라벨값 기반의 2차원 인덱싱(로케이션)   \n",
        "§ iloc : 순서를 나타내는 정수 기반의 2차원 인덱싱(인덱스로케이션)   \n",
        "\n",
        "\n",
        "loc - 인덱스 이름(index label), 범위 끝 포함 범위 지정 가능   \n",
        "df.loc[행 인덱싱값]    \n",
        "df.loc[행 인덱싱값, 열 인덱싱값]   \n",
        "행 인덱싱값은 정수 또는 행 인덱스데이터이고 열 인덱싱값은 라벨 문자열이다.    \n",
        "loc 인덱싱 값 - 인덱스데이터    \n",
        "인덱스데이터 슬라이스    \n",
        "인덱스데이터 리스트     \n",
        "같은 행 인덱스를 가지는 불리언 시리즈 (행 인덱싱의 경우)     \n",
        "또는 위의 값들을 반환하는 함수     \n",
        "iloc - 정수형 위치 인덱스(integer position), 범위의 끝 제외 범위 지정 가능    \n",
        "\n",
        "\n",
        "§ loc 인덱서를 사용하면서 인덱스를 하나만 넣으면 행(row)을 선택한다.\n",
        "§ 인덱스를 가지는 불리언 시리즈도 행을 선택하는 인덱싱값으로 쓸 수 있다."
      ]
    },
    {
      "cell_type": "code",
      "metadata": {
        "colab": {
          "base_uri": "https://localhost:8080/"
        },
        "id": "Jj336bGWjXaq",
        "outputId": "7e8934ee-52f5-4932-b29b-4ff70b464377"
      },
      "source": [
        "import pandas as pd\n",
        "import numpy as np\n",
        "\n",
        "df = pd.DataFrame(np.arange(10, 22).reshape(3, 4), index=[\"a\", \"b\", \"c\"], columns=[\"A\", \"B\", \"C\", \"D\"])\n",
        "print(df)     #(10, 22)니까 10에서 21까지, 3행 4열, \n",
        "\n",
        "print(df.loc[\"a\"])   #행인덱스 라벨로 지정 > 10, 11, 12, 13\n",
        "print(df.loc[\"b\":\"c\"]) #인덱스데이터의 슬라이스도 가능\n",
        "print(df[\"b\":\"c\"]) #loc를 쓰지 않는 경우에도 슬라이싱 가능\n",
        "print(df.loc[[\"b\", \"c\"]]) #인덱스데이터로 리스트도 가능\n",
        "# df[[\"b\", \"c\"]] # KeyError loc라는 인덱스 없이 그냥 리스트만 주면 키에러\n",
        "print(df.A > 15)  #A열에서 15보다 큰 숫자만 트루로 출력 낮으면 폴스로 출력\n",
        "print(df.loc[df.A > 15])  #데이터프레임에 loc라는 인덱싱속성\n",
        "\n",
        "def select_rows(df):\n",
        "  return df.A > 15     \n",
        "print(select_rows(df))    ##인덱스 대신 인덱스 값을 반환하는 함수를 사용할 수도 있다.\n",
        "print(df.loc[select_rows(df)])"
      ],
      "execution_count": null,
      "outputs": [
        {
          "output_type": "stream",
          "text": [
            "    A   B   C   D\n",
            "a  10  11  12  13\n",
            "b  14  15  16  17\n",
            "c  18  19  20  21\n",
            "A    10\n",
            "B    11\n",
            "C    12\n",
            "D    13\n",
            "Name: a, dtype: int64\n",
            "    A   B   C   D\n",
            "b  14  15  16  17\n",
            "c  18  19  20  21\n",
            "    A   B   C   D\n",
            "b  14  15  16  17\n",
            "c  18  19  20  21\n",
            "    A   B   C   D\n",
            "b  14  15  16  17\n",
            "c  18  19  20  21\n",
            "a    False\n",
            "b    False\n",
            "c     True\n",
            "Name: A, dtype: bool\n",
            "    A   B   C   D\n",
            "c  18  19  20  21\n",
            "a    False\n",
            "b    False\n",
            "c     True\n",
            "Name: A, dtype: bool\n",
            "    A   B   C   D\n",
            "c  18  19  20  21\n"
          ],
          "name": "stdout"
        }
      ]
    },
    {
      "cell_type": "markdown",
      "metadata": {
        "id": "-rsDduL0tm6Q"
      },
      "source": [
        "Ø 인덱서(indexer)    \n",
        "§ loc 인덱서가 없는 경우에 사용했던 라벨 인덱싱이나 라벨 리스트 인덱싱은 불가능하다.     \n",
        "§ 원래 (행) 인덱스값이 정수인 경우에는 슬라이싱도 라벨 슬라이싱 방식을 따르므로 슬라이스의 마지막 값이 포함된다.    \n",
        "\n",
        "df.loc[\"a\"] 행의 라벨 인덱스는 정상 실행\n",
        "df.loc[\"A\"] 열의 라벨 인덱스는 keyerror\n",
        "df.loc[\"a\", \"b\"] 행의 라벨 인덱스는 정상 실행\n",
        "df.loc[\"A\", \"B\"] 열의 라벨 인덱스는 keyerror"
      ]
    },
    {
      "cell_type": "code",
      "metadata": {
        "colab": {
          "base_uri": "https://localhost:8080/"
        },
        "id": "oPgPlYKXtqud",
        "outputId": "64134252-26a5-4afc-a8cc-99aa5cbe223b"
      },
      "source": [
        "import pandas as pd\n",
        "import numpy as np\n",
        "\n",
        "df = pd.DataFrame(np.arange(10, 22).reshape(3, 4), index=[\"a\", \"b\", \"c\"], columns=[\"A\", \"B\", \"C\", \"D\"])\n",
        "print(df)\n",
        "\n",
        "# df.loc[\"A\"] # KeyError\n",
        "# df.loc[[\"A\", \"B\"]] # KeyError\n",
        "\n",
        "df2 = pd.DataFrame(np.arange(10, 26).reshape(4, 4), columns=[\"A\", \"B\", \"C\", \"D\"])\n",
        "print(df2)\n",
        "print(df2.loc[1:2])   #1,2인덱싱 지정  정수 슬라이싱이여서 행 인덱싱 "
      ],
      "execution_count": null,
      "outputs": [
        {
          "output_type": "stream",
          "text": [
            "    A   B   C   D\n",
            "a  10  11  12  13\n",
            "b  14  15  16  17\n",
            "c  18  19  20  21\n",
            "    A   B   C   D\n",
            "0  10  11  12  13\n",
            "1  14  15  16  17\n",
            "2  18  19  20  21\n",
            "3  22  23  24  25\n",
            "    A   B   C   D\n",
            "1  14  15  16  17\n",
            "2  18  19  20  21\n"
          ],
          "name": "stdout"
        }
      ]
    },
    {
      "cell_type": "markdown",
      "metadata": {
        "id": "K-kdWO4twYFl"
      },
      "source": [
        "인덱싱   값                   가능   결과   자료형   추가사항           \n",
        "행 인덱스값(정수)              O      행    Series\n",
        "행 인덱스값(정수) 슬라이스     O      행 Dataframe     loc가 없는 경우와 같음       \n",
        "행 인덱스값(정수) 리스트       O            Dataframe       \n",
        "불리언 Series                  O     행     Dataframe     시리즈의 인덱스가 데이터프레임의 행 인덱스와 같아야 한다.      \n",
        "불리언 Series를 반환하는 함수  O     행    Dataframe       \n",
        "열 라벨                        X               loc가 없는 경우에만 쓸 수 있다.     \n",
        "열 라벨 리스트                 X              loc가 없는 경우에만 쓸 수 있다."
      ]
    },
    {
      "cell_type": "markdown",
      "metadata": {
        "id": "Ljm5Oi08uf6V"
      },
      "source": [
        "Ø 인덱서(indexer)    \n",
        "§ 인덱싱값을 행과 열 모두 받으려면 df.loc[행 인덱스, 열 인덱스]와 같은 형태로 사용    \n",
        "§ 행과 열 모두 받는 인덱싱값으로 라벨 데이터의 슬라이싱 또는 리스트를 사용할 수도 있다."
      ]
    },
    {
      "cell_type": "code",
      "metadata": {
        "colab": {
          "base_uri": "https://localhost:8080/"
        },
        "id": "9qJz3qL0vFJH",
        "outputId": "f2d3aa81-7f42-40d7-a1dd-ae22bc11437e"
      },
      "source": [
        "import pandas as pd\n",
        "import numpy as np\n",
        "df = pd.DataFrame(np.arange(10, 22).reshape(3, 4), index=[\"a\", \"b\", \"c\"], columns=[\"A\", \"B\", \"C\", \"D\"])\n",
        "\n",
        "print(df.loc[\"a\", \"A\"])   #a 행인덱스 A열인덱스\n",
        "print( df.loc[\"b\":, \"A\"]) #b행인덱스 A열인덱스\n",
        "print( df.loc[\"a\", :])  #a행인덱스, :전체를지정\n",
        "print( df.loc[[\"a\", \"b\"], [\"B\", \"D\"]])\n",
        "print( df.loc[df.A > 10, [\"C\", \"D\"]]) #불리형 값"
      ],
      "execution_count": null,
      "outputs": [
        {
          "output_type": "stream",
          "text": [
            "10\n",
            "b    14\n",
            "c    18\n",
            "Name: A, dtype: int64\n",
            "A    10\n",
            "B    11\n",
            "C    12\n",
            "D    13\n",
            "Name: a, dtype: int64\n",
            "    B   D\n",
            "a  11  13\n",
            "b  15  17\n",
            "    C   D\n",
            "b  16  17\n",
            "c  20  21\n"
          ],
          "name": "stdout"
        }
      ]
    },
    {
      "cell_type": "markdown",
      "metadata": {
        "id": "Y1_Tda1GvKt7"
      },
      "source": [
        "Ø 인덱서(indexer)    \n",
        "§ iloc 인덱서는 라벨이 아니라 순서를 나타내는 정수(integer) 인덱스만 받는다.    \n",
        "§ 인덱스가 하나만 들어가면 행을 선택한다."
      ]
    },
    {
      "cell_type": "code",
      "metadata": {
        "colab": {
          "base_uri": "https://localhost:8080/"
        },
        "id": "lHAxGvyY0l4s",
        "outputId": "c44e5410-73e7-41d3-c1c5-fb48ec585bad"
      },
      "source": [
        "import pandas as pd\n",
        "import numpy as np\n",
        "\n",
        "df = pd.DataFrame(np.arange(10, 22).reshape(3, 4),\n",
        "index=[\"a\", \"b\", \"c\"],\n",
        "columns=[\"A\", \"B\", \"C\", \"D\"])\n",
        "\n",
        "print(df.iloc[0, 1])  #0행1열 >11\n",
        "print(df.iloc[:2, 2]) #0, 1행에 2열 >12, 16\n",
        "print(df.iloc[0, -2:])  #-1, -2열에 0행 > 12,13\n",
        "print(df.iloc[2:3, 1:3]) #2행 1,2열 >  19, 20\n",
        "print(df.iloc[-1])   #인덱스가 하나라 행을 지정, -1은 끝에 행> 18. 19.20. 21\n",
        "df.iloc[-1] = df.iloc[-1] * 2  #요소값을 변경 끝에 행을 2배로 늘림(위에는 추출만 이건 변경까지) \n",
        "print(df)  "
      ],
      "execution_count": null,
      "outputs": [
        {
          "output_type": "stream",
          "text": [
            "11\n",
            "a    12\n",
            "b    16\n",
            "Name: C, dtype: int64\n",
            "C    12\n",
            "D    13\n",
            "Name: a, dtype: int64\n",
            "    B   C\n",
            "c  19  20\n",
            "A    18\n",
            "B    19\n",
            "C    20\n",
            "D    21\n",
            "Name: c, dtype: int64\n",
            "    A   B   C   D\n",
            "a  10  11  12  13\n",
            "b  14  15  16  17\n",
            "c  36  38  40  42\n"
          ],
          "name": "stdout"
        }
      ]
    },
    {
      "cell_type": "markdown",
      "metadata": {
        "id": "8iYV3IyL10uM"
      },
      "source": [
        "Ø Dataframe 데이터 조작    \n",
        "§ count () - 데이터 갯수 세기, NaN 값은 세지 않는다    \n",
        "§ Dataframe에서는 각 열마다 별도로 데이터 갯수를 센다. (데이터에서 값이 누락된 부분을 찾을 때 유용)     \n",
        "§ value_counts() - Series의 값이 정수, 문자열, 카테고리 값인 경우 각각의 값이 나온 횟수를 셀 수 있다.   \n",
        "§ 데이터프레임에는 value_counts 메서드가 없으므로 각 열마다 별도로 적용해야 한다."
      ]
    },
    {
      "cell_type": "code",
      "metadata": {
        "colab": {
          "base_uri": "https://localhost:8080/"
        },
        "id": "KbbOo6zW15Ru",
        "outputId": "51112dbb-1375-47aa-8dd0-32200aa64bd1"
      },
      "source": [
        "import pandas as pd\n",
        "import numpy as np\n",
        "\n",
        "s = pd.Series(range(10))\n",
        "s[3] = np.nan\n",
        "print(s)\n",
        "print(s.count())  #NaN을 빼고 세서 번 [3]이 nan이니까\n",
        "\n",
        "np.random.seed(2)\n",
        "df = pd.DataFrame(np.random.randint(5, size=(4, 4)), dtype=float)\n",
        "df.iloc[2, 3] = np.nan   #[2,3]> 3행4열을 nan으로\n",
        "print(df)\n",
        "print(df.count())  #위에 [2, 3]이 난이니까 3열은 3개(열마다 셈)\n",
        "\n",
        "s2 = pd.Series(np.random.randint(6, size=100))  #균등분포로 나오는지 확인 \n",
        "print(s2.value_counts())    #value_counts = 유니크한 값이 몇 번이 나오는지 확인\n",
        "print(df[0].value_counts())   #0하나만 지정했으니 행 "
      ],
      "execution_count": null,
      "outputs": [
        {
          "output_type": "stream",
          "text": [
            "0    0.0\n",
            "1    1.0\n",
            "2    2.0\n",
            "3    NaN\n",
            "4    4.0\n",
            "5    5.0\n",
            "6    6.0\n",
            "7    7.0\n",
            "8    8.0\n",
            "9    9.0\n",
            "dtype: float64\n",
            "9\n",
            "     0    1    2    3\n",
            "0  0.0  0.0  3.0  2.0\n",
            "1  3.0  0.0  2.0  1.0\n",
            "2  3.0  2.0  4.0  NaN\n",
            "3  4.0  3.0  4.0  2.0\n",
            "0    4\n",
            "1    4\n",
            "2    4\n",
            "3    3\n",
            "dtype: int64\n",
            "2    22\n",
            "0    18\n",
            "3    17\n",
            "5    15\n",
            "1    15\n",
            "4    13\n",
            "dtype: int64\n",
            "3.0    2\n",
            "4.0    1\n",
            "0.0    1\n",
            "Name: 0, dtype: int64\n"
          ],
          "name": "stdout"
        }
      ]
    },
    {
      "cell_type": "markdown",
      "metadata": {
        "id": "bsLm7HfW26Vc"
      },
      "source": [
        "Ø Dataframe 데이터 정렬    \n",
        "§ sort_index() - 인덱스 값을 기준으로 정렬한다.    \n",
        "§ sort_values() - 메서드는 데이터 값을 기준으로 정렬한다.    \n",
        "§ NaN값이 있는 경우에는 정렬하면 NaN값이 가장 마지막에 위치한다.    \n",
        "§ 큰 수에서 작은 수로 반대 방향 정렬하려면 ascending=False 인수를 지정한다.    \n",
        "§ sort_values 메서드의 by 인수는 정렬 기준이 되는 열을 지정 한다.    \n",
        "§ by 인수에 리스트 값을 넣으면 리스트의 첫번째 열을 기준으로 정렬한 후 동일한 값이 나오면 그 다음 열의 순서대로 정렬 된다.   "
      ]
    },
    {
      "cell_type": "code",
      "metadata": {
        "colab": {
          "base_uri": "https://localhost:8080/"
        },
        "id": "XV1nQg3Z2-xX",
        "outputId": "23894258-217b-4ff3-92ba-61bf3f621a51"
      },
      "source": [
        "import pandas as pd\n",
        "import numpy as np\n",
        "\n",
        "s2 = pd.Series(np.random.randint(6, size=100))\n",
        "print(s2.value_counts().sort_index())   #0~5까지 순차적으로 정렬해서 보여줌\n",
        "\n",
        "print(s.sort_values())  #값 기준으로 정렬\n",
        "print(s.sort_values(ascending=False))   #원래 어센딩은 오름차순인데, 폴스로 해서 내림차순으로\n",
        "\n",
        "print(df.sort_values(by=3))   # by=3이기에 3열을 기준으로 정렬(2, 1, nan, 2 > 1, 2, 2, nan순으로 정렬됨)\n",
        "print(df.sort_values(by=[1, 2]))   #리스트의 1열을 기준으로 정렬 후 동일 값이 나오면 2열이 순서대로 정렬되는데 이때 행까지 바꿔서 정렬됨"
      ],
      "execution_count": null,
      "outputs": [
        {
          "output_type": "stream",
          "text": [
            "0    13\n",
            "1    20\n",
            "2    18\n",
            "3    17\n",
            "4    15\n",
            "5    17\n",
            "dtype: int64\n",
            "0    0.0\n",
            "1    1.0\n",
            "2    2.0\n",
            "4    4.0\n",
            "5    5.0\n",
            "6    6.0\n",
            "7    7.0\n",
            "8    8.0\n",
            "9    9.0\n",
            "3    NaN\n",
            "dtype: float64\n",
            "9    9.0\n",
            "8    8.0\n",
            "7    7.0\n",
            "6    6.0\n",
            "5    5.0\n",
            "4    4.0\n",
            "2    2.0\n",
            "1    1.0\n",
            "0    0.0\n",
            "3    NaN\n",
            "dtype: float64\n",
            "     0    1    2    3\n",
            "1  3.0  0.0  2.0  1.0\n",
            "0  0.0  0.0  3.0  2.0\n",
            "3  4.0  3.0  4.0  2.0\n",
            "2  3.0  2.0  4.0  NaN\n",
            "     0    1    2    3\n",
            "1  3.0  0.0  2.0  1.0\n",
            "0  0.0  0.0  3.0  2.0\n",
            "2  3.0  2.0  4.0  NaN\n",
            "3  4.0  3.0  4.0  2.0\n"
          ],
          "name": "stdout"
        }
      ]
    },
    {
      "cell_type": "markdown",
      "metadata": {
        "id": "2LN3DJic4ild"
      },
      "source": [
        "Ø Dataframe 행/열 합계    \n",
        "§ sum(axis) - axis 인수에는 합계로 인해 없어지는 방향축을 지정한다.        \n",
        "§ axis인수의 디폴트 값이 0이므로 axis인수를 생략할 수 있다.    \n",
        "§ mean 메서드는 평균을 구하며 sum 메서드와 사용법이 동일하다     "
      ]
    },
    {
      "cell_type": "code",
      "metadata": {
        "colab": {
          "base_uri": "https://localhost:8080/"
        },
        "id": "fFqW_rLo4pG5",
        "outputId": "643a2245-c21e-4bb5-a5b6-3a03fa7a3890"
      },
      "source": [
        "import pandas as pd\n",
        "import numpy as np\n",
        "\n",
        "np.random.seed(1)\n",
        "df2 = pd.DataFrame(np.random.randint(10, size=(4, 8)))\n",
        "print(df2)\n",
        "print(df2.sum(axis=1))    # 1이라서 행기준  \n",
        "df2[\"RowSum\"] = df2.sum(axis=1)  #1이라서 행기준\n",
        "print(df2) \n",
        "print(df2.sum())   #아무것도 지정되지 않아 열기준\n",
        "df2.loc[\"ColTotal\", :] = df2.sum()\n",
        "print(df2)"
      ],
      "execution_count": null,
      "outputs": [
        {
          "output_type": "stream",
          "text": [
            "   0  1  2  3  4  5  6  7\n",
            "0  5  8  9  5  0  0  1  7\n",
            "1  6  9  2  4  5  2  4  2\n",
            "2  4  7  7  9  1  7  0  6\n",
            "3  9  9  7  6  9  1  0  1\n",
            "0    35\n",
            "1    34\n",
            "2    41\n",
            "3    42\n",
            "dtype: int64\n",
            "   0  1  2  3  4  5  6  7  RowSum\n",
            "0  5  8  9  5  0  0  1  7      35\n",
            "1  6  9  2  4  5  2  4  2      34\n",
            "2  4  7  7  9  1  7  0  6      41\n",
            "3  9  9  7  6  9  1  0  1      42\n",
            "0          24\n",
            "1          33\n",
            "2          25\n",
            "3          24\n",
            "4          15\n",
            "5          10\n",
            "6           5\n",
            "7          16\n",
            "RowSum    152\n",
            "dtype: int64\n",
            "             0     1     2     3     4     5    6     7  RowSum\n",
            "0          5.0   8.0   9.0   5.0   0.0   0.0  1.0   7.0    35.0\n",
            "1          6.0   9.0   2.0   4.0   5.0   2.0  4.0   2.0    34.0\n",
            "2          4.0   7.0   7.0   9.0   1.0   7.0  0.0   6.0    41.0\n",
            "3          9.0   9.0   7.0   6.0   9.0   1.0  0.0   1.0    42.0\n",
            "ColTotal  24.0  33.0  25.0  24.0  15.0  10.0  5.0  16.0   152.0\n"
          ],
          "name": "stdout"
        }
      ]
    },
    {
      "cell_type": "markdown",
      "metadata": {
        "id": "Rq1HaPId70JE"
      },
      "source": [
        "Ø Dataframe 행이나 열 단위 복잡한 연산 처리    \n",
        "§ apply() - 인수로 행 또는 열을 받는 함수를 전달하면 각 열(또는 행) 데이터에 함수를 반복 적용시킨다.     \n",
        "§ 행에 대해 적용하고 싶으면 axis=1 인수를 전달한다    \n",
        "§ 각 열에 대해 어떤 값이 얼마나 사용되었는지 알고 싶다면 value_counts 함수를 사용한다"
      ]
    },
    {
      "cell_type": "code",
      "metadata": {
        "colab": {
          "base_uri": "https://localhost:8080/"
        },
        "id": "ZCASRFUs73_P",
        "outputId": "41567c62-d1a5-44ec-ebfe-675e200802a6"
      },
      "source": [
        "import pandas as pd\n",
        "\n",
        "df3 = pd.DataFrame({\n",
        "'A': [1, 3, 4, 3, 4],\n",
        "'B': [2, 3, 1, 2, 3],\n",
        "'C': [1, 5, 2, 4, 4]\n",
        "})\n",
        "print(df3)\n",
        "print(df3.apply(lambda x: x.max() - x.min()))  #최댓값 4에서 최솟값 1빼면 3 이런식으로 각 A,B,C에서 함수를 인수로 전달받아서 행,열단위로 적용\n",
        "print(df3.apply(lambda x: x.max() - x.min(), axis=1))  #axis 1이니까 행단위로 받아 위와같이 최대-최소빼기\n",
        "print(df3.apply(pd.value_counts))\n",
        "\n",
        "# 타이타닉호의 승객 중 나이 20살을 기준으로 성인(adult)과 미성년자(child)를 구별하는 라벨 열 만들기\n",
        "import seaborn as sns    #seaborn라이브러리에서 타이타닉데이타를 제공해줌\n",
        "titanic = sns.load_dataset(\"titanic\")\n",
        "titanic[\"adult/child\"] = titanic.apply(lambda r: \"adult\" if r.age >= 20 else \"child\", axis=1)\n",
        "#titanic[\"adult/child\"] =새로운 값을 추가한 것 axis= 1이니 행으로\n",
        "print(titanic.tail())"
      ],
      "execution_count": null,
      "outputs": [
        {
          "output_type": "stream",
          "text": [
            "   A  B  C\n",
            "0  1  2  1\n",
            "1  3  3  5\n",
            "2  4  1  2\n",
            "3  3  2  4\n",
            "4  4  3  4\n",
            "A    3\n",
            "B    2\n",
            "C    4\n",
            "dtype: int64\n",
            "0    1\n",
            "1    2\n",
            "2    3\n",
            "3    2\n",
            "4    1\n",
            "dtype: int64\n",
            "     A    B    C\n",
            "1  1.0  1.0  1.0\n",
            "2  NaN  2.0  1.0\n",
            "3  2.0  2.0  NaN\n",
            "4  2.0  NaN  2.0\n",
            "5  NaN  NaN  1.0\n",
            "     survived  pclass     sex   age  ...  embark_town  alive  alone adult/child\n",
            "886         0       2    male  27.0  ...  Southampton     no   True       adult\n",
            "887         1       1  female  19.0  ...  Southampton    yes   True       child\n",
            "888         0       3  female   NaN  ...  Southampton     no  False       child\n",
            "889         1       1    male  26.0  ...    Cherbourg    yes   True       adult\n",
            "890         0       3    male  32.0  ...   Queenstown     no   True       adult\n",
            "\n",
            "[5 rows x 16 columns]\n"
          ],
          "name": "stdout"
        }
      ]
    },
    {
      "cell_type": "code",
      "metadata": {
        "colab": {
          "base_uri": "https://localhost:8080/",
          "height": 214
        },
        "id": "JlkqDIuPH5Wn",
        "outputId": "3b6c389b-559a-4fab-e9ec-b5340f4add71"
      },
      "source": [
        "import pandas as pd\n",
        "import seaborn as sns\n",
        "titanic = sns.load_dataset(\"titanic\")\n",
        "titanic.head()"
      ],
      "execution_count": null,
      "outputs": [
        {
          "output_type": "execute_result",
          "data": {
            "text/html": [
              "<div>\n",
              "<style scoped>\n",
              "    .dataframe tbody tr th:only-of-type {\n",
              "        vertical-align: middle;\n",
              "    }\n",
              "\n",
              "    .dataframe tbody tr th {\n",
              "        vertical-align: top;\n",
              "    }\n",
              "\n",
              "    .dataframe thead th {\n",
              "        text-align: right;\n",
              "    }\n",
              "</style>\n",
              "<table border=\"1\" class=\"dataframe\">\n",
              "  <thead>\n",
              "    <tr style=\"text-align: right;\">\n",
              "      <th></th>\n",
              "      <th>survived</th>\n",
              "      <th>pclass</th>\n",
              "      <th>sex</th>\n",
              "      <th>age</th>\n",
              "      <th>sibsp</th>\n",
              "      <th>parch</th>\n",
              "      <th>fare</th>\n",
              "      <th>embarked</th>\n",
              "      <th>class</th>\n",
              "      <th>who</th>\n",
              "      <th>adult_male</th>\n",
              "      <th>deck</th>\n",
              "      <th>embark_town</th>\n",
              "      <th>alive</th>\n",
              "      <th>alone</th>\n",
              "    </tr>\n",
              "  </thead>\n",
              "  <tbody>\n",
              "    <tr>\n",
              "      <th>0</th>\n",
              "      <td>0</td>\n",
              "      <td>3</td>\n",
              "      <td>male</td>\n",
              "      <td>22.0</td>\n",
              "      <td>1</td>\n",
              "      <td>0</td>\n",
              "      <td>7.2500</td>\n",
              "      <td>S</td>\n",
              "      <td>Third</td>\n",
              "      <td>man</td>\n",
              "      <td>True</td>\n",
              "      <td>NaN</td>\n",
              "      <td>Southampton</td>\n",
              "      <td>no</td>\n",
              "      <td>False</td>\n",
              "    </tr>\n",
              "    <tr>\n",
              "      <th>1</th>\n",
              "      <td>1</td>\n",
              "      <td>1</td>\n",
              "      <td>female</td>\n",
              "      <td>38.0</td>\n",
              "      <td>1</td>\n",
              "      <td>0</td>\n",
              "      <td>71.2833</td>\n",
              "      <td>C</td>\n",
              "      <td>First</td>\n",
              "      <td>woman</td>\n",
              "      <td>False</td>\n",
              "      <td>C</td>\n",
              "      <td>Cherbourg</td>\n",
              "      <td>yes</td>\n",
              "      <td>False</td>\n",
              "    </tr>\n",
              "    <tr>\n",
              "      <th>2</th>\n",
              "      <td>1</td>\n",
              "      <td>3</td>\n",
              "      <td>female</td>\n",
              "      <td>26.0</td>\n",
              "      <td>0</td>\n",
              "      <td>0</td>\n",
              "      <td>7.9250</td>\n",
              "      <td>S</td>\n",
              "      <td>Third</td>\n",
              "      <td>woman</td>\n",
              "      <td>False</td>\n",
              "      <td>NaN</td>\n",
              "      <td>Southampton</td>\n",
              "      <td>yes</td>\n",
              "      <td>True</td>\n",
              "    </tr>\n",
              "    <tr>\n",
              "      <th>3</th>\n",
              "      <td>1</td>\n",
              "      <td>1</td>\n",
              "      <td>female</td>\n",
              "      <td>35.0</td>\n",
              "      <td>1</td>\n",
              "      <td>0</td>\n",
              "      <td>53.1000</td>\n",
              "      <td>S</td>\n",
              "      <td>First</td>\n",
              "      <td>woman</td>\n",
              "      <td>False</td>\n",
              "      <td>C</td>\n",
              "      <td>Southampton</td>\n",
              "      <td>yes</td>\n",
              "      <td>False</td>\n",
              "    </tr>\n",
              "    <tr>\n",
              "      <th>4</th>\n",
              "      <td>0</td>\n",
              "      <td>3</td>\n",
              "      <td>male</td>\n",
              "      <td>35.0</td>\n",
              "      <td>0</td>\n",
              "      <td>0</td>\n",
              "      <td>8.0500</td>\n",
              "      <td>S</td>\n",
              "      <td>Third</td>\n",
              "      <td>man</td>\n",
              "      <td>True</td>\n",
              "      <td>NaN</td>\n",
              "      <td>Southampton</td>\n",
              "      <td>no</td>\n",
              "      <td>True</td>\n",
              "    </tr>\n",
              "  </tbody>\n",
              "</table>\n",
              "</div>"
            ],
            "text/plain": [
              "   survived  pclass     sex   age  ...  deck  embark_town  alive  alone\n",
              "0         0       3    male  22.0  ...   NaN  Southampton     no  False\n",
              "1         1       1  female  38.0  ...     C    Cherbourg    yes  False\n",
              "2         1       3  female  26.0  ...   NaN  Southampton    yes   True\n",
              "3         1       1  female  35.0  ...     C  Southampton    yes  False\n",
              "4         0       3    male  35.0  ...   NaN  Southampton     no   True\n",
              "\n",
              "[5 rows x 15 columns]"
            ]
          },
          "metadata": {
            "tags": []
          },
          "execution_count": 23
        }
      ]
    },
    {
      "cell_type": "code",
      "metadata": {
        "colab": {
          "base_uri": "https://localhost:8080/"
        },
        "id": "BZHBcDqQ81bE",
        "outputId": "8ed2801f-5947-4163-9f91-8f2bd773292b"
      },
      "source": [
        "import pandas as pd\n",
        "import seaborn as sns\n",
        "\n",
        "titanic = sns.load_dataset(\"titanic\")\n",
        "\n",
        "#(1)\n",
        "print(titanic.count())\n",
        "\n",
        "#(2)\n",
        "print(titanic[\"sex\"].sort_values().value_counts())\n",
        "print(titanic[\"age\"].sort_values().value_counts())\n",
        "print(titanic[\"pclass\"].sort_values().value_counts())\n",
        "print(titanic[\"alive\"].sort_values().value_counts())\n",
        "\n",
        "#(3)\n",
        "print(titanic[\"age\"].mean())\n",
        "#(4)\n",
        "print(titanic.loc[titanic[\"sex\"]==\"female\", \"age\"].mean())\n",
        "\n",
        "#(5)\n",
        "#ff = titanic.groupby([\"sex\",\"class\"]).age.mean()\n",
        "#print(ff[\"female\",\"First\"].roud(2)\n",
        "\n",
        "#(6)\n",
        "\n",
        "titanic[\"category1\"] = titanic.apply(lambda r:\"sex\" if r.age >= 20 else \"child\", axis=1)\n",
        "print(titanic)"
      ],
      "execution_count": null,
      "outputs": [
        {
          "output_type": "stream",
          "text": [
            "survived       891\n",
            "pclass         891\n",
            "sex            891\n",
            "age            714\n",
            "sibsp          891\n",
            "parch          891\n",
            "fare           891\n",
            "embarked       889\n",
            "class          891\n",
            "who            891\n",
            "adult_male     891\n",
            "deck           203\n",
            "embark_town    889\n",
            "alive          891\n",
            "alone          891\n",
            "dtype: int64\n",
            "male      577\n",
            "female    314\n",
            "Name: sex, dtype: int64\n",
            "24.00    30\n",
            "22.00    27\n",
            "18.00    26\n",
            "28.00    25\n",
            "30.00    25\n",
            "         ..\n",
            "70.50     1\n",
            "20.50     1\n",
            "34.50     1\n",
            "23.50     1\n",
            "0.42      1\n",
            "Name: age, Length: 88, dtype: int64\n",
            "3    491\n",
            "1    216\n",
            "2    184\n",
            "Name: pclass, dtype: int64\n",
            "no     549\n",
            "yes    342\n",
            "Name: alive, dtype: int64\n",
            "29.69911764705882\n",
            "27.915708812260537\n",
            "     survived  pclass     sex   age  ...  embark_town  alive  alone category1\n",
            "0           0       3    male  22.0  ...  Southampton     no  False       sex\n",
            "1           1       1  female  38.0  ...    Cherbourg    yes  False       sex\n",
            "2           1       3  female  26.0  ...  Southampton    yes   True       sex\n",
            "3           1       1  female  35.0  ...  Southampton    yes  False       sex\n",
            "4           0       3    male  35.0  ...  Southampton     no   True       sex\n",
            "..        ...     ...     ...   ...  ...          ...    ...    ...       ...\n",
            "886         0       2    male  27.0  ...  Southampton     no   True       sex\n",
            "887         1       1  female  19.0  ...  Southampton    yes   True     child\n",
            "888         0       3  female   NaN  ...  Southampton     no  False     child\n",
            "889         1       1    male  26.0  ...    Cherbourg    yes   True       sex\n",
            "890         0       3    male  32.0  ...   Queenstown     no   True       sex\n",
            "\n",
            "[891 rows x 16 columns]\n"
          ],
          "name": "stdout"
        }
      ]
    },
    {
      "cell_type": "markdown",
      "metadata": {
        "id": "Jn5yYJUIFekX"
      },
      "source": [
        "(1) 타이타닉호 승객 데이터의 데이터 개수를 각 열마다 구해본다.     \n",
        "(2) sort_values 메서드를 사용하여 타이타닉호 승객에 대해 성별(sex) 인원수, 나이별(age) 인원수, 선실별(class) 인원수, 사망/생존(alive) 인원수를 구하라.     \n",
        "(3) 타이타닉호 승객의 평균 나이를 구하라.    \n",
        "(4) 타이타닉호 승객중 여성 승객의 평균 나이를 구하라.     \n",
        "(5) 타이타닉호 승객중 1등실 선실의 여성 승객의 평균 나이를 구하라.    \n",
        "(6) 타이타닉호의 승객에 대해 나이와 성별에 의한 카테고리 열인 category1 열을 만들어라.    \n",
        "20살이 넘으면 성별을 그대로 사용한다.     \n",
        "20살 미만이면 성별에 관계없이 “child”라고 한다."
      ]
    },
    {
      "cell_type": "code",
      "metadata": {
        "colab": {
          "base_uri": "https://localhost:8080/"
        },
        "id": "kfPnXFeqFEbN",
        "outputId": "4ca8eee0-0290-46c9-8a76-f2f54b3dc149"
      },
      "source": [
        "import pandas as pd\n",
        "\n",
        "data = {\n",
        "    \"국어\": [80, 90, 70, 30],\n",
        "    \"영어\": [90, 70, 60, 40],\n",
        "    \"수학\": [90, 60, 80, 70],\n",
        "}\n",
        "columns = [\"국어\", \"영어\", \"수학\"]\n",
        "index = [\"춘향\", \"몽룡\",\"향단\", \"방자\"]\n",
        "df = pd.DataFrame(data, index= index, columns=columns)\n",
        "\n",
        "#(1)\n",
        "s = pd.Series([90, 60, 80, 70], index = [\"춘향\", \"몽룡\",\"향단\", \"방자\"])\n",
        "print(s)\n",
        "\n",
        "#(2)\n",
        "df = pd.DataFrame(data, index= index, columns=columns)\n",
        "print(df[[\"국어\", \"영어\"]])\n",
        "\n",
        "#(3)\n",
        "df.loc[\"평균\", :] = df.mean()\n",
        "print(df)\n",
        "\n",
        "#(4)\n",
        "df.iloc[3, 1] = 80\n",
        "df.loc[\"평균\", :] = df.mean()\n",
        "print(df)\n",
        "\n",
        "#(5)\n",
        "data2 =data = {\n",
        "    \"국어\": [80],\n",
        "    \"영어\": [90],\n",
        "    \"수학\": [90],\n",
        "}\n",
        "columns = [\"국어\", \"영어\", \"수학\"]\n",
        "index = [\"춘향\"]\n",
        "df2 = pd.DataFrame(data2, index = index, columns=columns)\n",
        "print(df2)\n",
        "\n",
        "#(6)\n",
        "s = pd.Series([70, 60, 80],\n",
        "index=[\"국어\", \"영어\", \"수학\"])\n",
        "s.index.name = \"향단\"\n",
        "print( s )"
      ],
      "execution_count": null,
      "outputs": [
        {
          "output_type": "stream",
          "text": [
            "춘향    90\n",
            "몽룡    60\n",
            "향단    80\n",
            "방자    70\n",
            "dtype: int64\n",
            "    국어  영어\n",
            "춘향  80  90\n",
            "몽룡  90  70\n",
            "향단  70  60\n",
            "방자  30  40\n",
            "      국어    영어    수학\n",
            "춘향  80.0  90.0  90.0\n",
            "몽룡  90.0  70.0  60.0\n",
            "향단  70.0  60.0  80.0\n",
            "방자  30.0  40.0  70.0\n",
            "평균  67.5  65.0  75.0\n",
            "      국어    영어    수학\n",
            "춘향  80.0  90.0  90.0\n",
            "몽룡  90.0  70.0  60.0\n",
            "향단  70.0  60.0  80.0\n",
            "방자  30.0  80.0  70.0\n",
            "평균  67.5  73.0  75.0\n",
            "    국어  영어  수학\n",
            "춘향  80  90  90\n",
            "향단\n",
            "국어    70\n",
            "영어    60\n",
            "수학    80\n",
            "dtype: int64\n"
          ],
          "name": "stdout"
        }
      ]
    },
    {
      "cell_type": "markdown",
      "metadata": {
        "id": "VAQUszMfFD-U"
      },
      "source": [
        "연습문제    \n",
        "\n",
        "(1) 모든 학생의 수학 점수를 시리즈로 나타낸다.    \n",
        "(2) 모든 학생의 국어와 영어 점수를 데이터 프레임으로 나타낸다.    \n",
        "(3) 모든 학생의 각 과목 평균 점수를 새로운 열로 추가한다.    \n",
        "(4) 방자의 영어 점수를 80점으로 수정하고 평균 점수도 다시 계산한다.     \n",
        "(5) 춘향의 점수를 데이터프레임으로 나타낸다.    \n",
        "(6) 향단의 점수를 시리즈로 나타낸다."
      ]
    },
    {
      "cell_type": "markdown",
      "metadata": {
        "id": "__TioB8N94Na"
      },
      "source": [
        "Ø Dataframe 행이나 열 단위 복잡한 연산 처리   \n",
        "§ fillna() - NaN 값을 원하는 값으로 바꿀 수 있다.   \n",
        "§ astype() - 전체 데이터의 자료형을 변경 할 수 있다   \n",
        "§ cut () - 실수 값을 크기 기준으로 하여 카테고리 값으로 변환 , 실수 값의 경계선을 지정하는 경우, bins 인수는 카테고리를 나누는 기준값이 된다. 영역을 넘는 값은 NaN으로 처리된다."
      ]
    },
    {
      "cell_type": "code",
      "metadata": {
        "colab": {
          "base_uri": "https://localhost:8080/"
        },
        "id": "sTUgiShk-HgK",
        "outputId": "d6bb27cf-de2a-4293-c410-fd910830803e"
      },
      "source": [
        "import pandas as pd\n",
        "\n",
        "df3 = pd.DataFrame({ 'A': [1, 3, 4, 3, 4], 'B': [2, 3, 1, 2, 3], 'C': [1, 5, 2, 4, 4] })\n",
        "print(df3.apply(pd.value_counts).fillna(0.0))   #value_counts후에 nan값을 0.0으로 지정해서 변환\n",
        "print(df3.apply(pd.value_counts).fillna(0).astype(int))  #nan값을 0으로 변경 후 전체를 int로 자료형 변경\n",
        "\n",
        "ages = [0, 2, 10, 21, 23, 37, 31, 61, 20, 41, 32, 101]\n",
        "bins = [1, 20, 30, 50, 70, 100]\n",
        "labels = [\"미성년자\", \"청년\", \"중년\", \"장년\", \"노년\"]\n",
        "cats = pd.cut(ages, bins, labels=labels)  #구간값이 bins로 지정\n",
        "print(cats)   #범위를 넘어가는 값은 nan으로 처리 0, 101>nan "
      ],
      "execution_count": null,
      "outputs": [
        {
          "output_type": "stream",
          "text": [
            "     A    B    C\n",
            "1  1.0  1.0  1.0\n",
            "2  0.0  2.0  1.0\n",
            "3  2.0  2.0  0.0\n",
            "4  2.0  0.0  2.0\n",
            "5  0.0  0.0  1.0\n",
            "   A  B  C\n",
            "1  1  1  1\n",
            "2  0  2  1\n",
            "3  2  2  0\n",
            "4  2  0  2\n",
            "5  0  0  1\n",
            "[NaN, '미성년자', '미성년자', '청년', '청년', ..., '장년', '미성년자', '중년', '중년', NaN]\n",
            "Length: 12\n",
            "Categories (5, object): ['미성년자' < '청년' < '중년' < '장년' < '노년']\n"
          ],
          "name": "stdout"
        }
      ]
    },
    {
      "cell_type": "markdown",
      "metadata": {
        "id": "SC_OW2xm-B8k"
      },
      "source": [
        "Ø Dataframe 행이나 열 단위 복잡한 연산 처리   \n",
        "§ cut 명령이 반환하는 값은 Categorical 클래스 객체   \n",
        "§ Categorical 클래스 객체는 categories 속성으로 라벨 문자열을, codes 속성으로 정수로 인코딩한 카테고리 값을 가진다.    \n",
        "§ 실수 값을 크기 기준으로 하여 카테고리 값으로 변환 qcut 명령은 구간 경계선을 지정하지 않고 데이터 갯수가 같도록 지정한 수의 구간으로 나눈다."
      ]
    },
    {
      "cell_type": "code",
      "metadata": {
        "colab": {
          "base_uri": "https://localhost:8080/"
        },
        "id": "DxwNrODSQf35",
        "outputId": "4529381a-48ce-49d5-9ca1-9871a8ebbeb4"
      },
      "source": [
        "import pandas as pd\n",
        "import numpy as np\n",
        "\n",
        "print(type(cats))\n",
        "print(cats.categories)  #categories는 속성으로 라벨 문자열\n",
        "print(cats.codes)  #codes는 속성으로 정수를 인코딩한 카테고리 값\n",
        "\n",
        "df4 = pd.DataFrame(ages, columns=[\"ages\"])\n",
        "df4[\"age_cat\"] = pd.cut(df4.ages, bins, labels=labels)\n",
        "print(df4)\n",
        "print(df4.age_cat.astype(str) + df4.ages.astype(str))\n",
        "\n",
        "data = np.random.randn(1000)   #randn >정규분포를 따르는 실수인 난수 생성\n",
        "#1000개의 데이터를 4개의 구간으로 나누는데 각 구간은 250개씩의 데이터를 가진다.\n",
        "cats = pd.qcut(data, 4, labels=[\"Q1\", \"Q2\", \"Q3\", \"Q4\"])  #4는 구간수\n",
        "print(cats)  \n",
        "print(pd.value_counts(cats))\n",
        "print(cats)"
      ],
      "execution_count": null,
      "outputs": [
        {
          "output_type": "stream",
          "text": [
            "<class 'pandas.core.arrays.categorical.Categorical'>\n",
            "Index(['미성년자', '청년', '중년', '장년', '노년'], dtype='object')\n",
            "[-1  0  0  1  1  2  2  3  0  2  2 -1]\n",
            "    ages age_cat\n",
            "0      0     NaN\n",
            "1      2    미성년자\n",
            "2     10    미성년자\n",
            "3     21      청년\n",
            "4     23      청년\n",
            "5     37      중년\n",
            "6     31      중년\n",
            "7     61      장년\n",
            "8     20    미성년자\n",
            "9     41      중년\n",
            "10    32      중년\n",
            "11   101     NaN\n",
            "0       nan0\n",
            "1      미성년자2\n",
            "2     미성년자10\n",
            "3       청년21\n",
            "4       청년23\n",
            "5       중년37\n",
            "6       중년31\n",
            "7       장년61\n",
            "8     미성년자20\n",
            "9       중년41\n",
            "10      중년32\n",
            "11    nan101\n",
            "dtype: object\n",
            "['Q2', 'Q1', 'Q2', 'Q3', 'Q1', ..., 'Q1', 'Q1', 'Q4', 'Q4', 'Q2']\n",
            "Length: 1000\n",
            "Categories (4, object): ['Q1' < 'Q2' < 'Q3' < 'Q4']\n",
            "Q4    250\n",
            "Q3    250\n",
            "Q2    250\n",
            "Q1    250\n",
            "dtype: int64\n",
            "['Q2', 'Q1', 'Q2', 'Q3', 'Q1', ..., 'Q1', 'Q1', 'Q4', 'Q4', 'Q2']\n",
            "Length: 1000\n",
            "Categories (4, object): ['Q1' < 'Q2' < 'Q3' < 'Q4']\n"
          ],
          "name": "stdout"
        }
      ]
    },
    {
      "cell_type": "markdown",
      "metadata": {
        "id": "VOar834l-Lix"
      },
      "source": [
        "Ø Dataframe 인덱스 설정 및 제거    \n",
        "§ set_index : 기존의 행 인덱스를 제거하고 데이터 열 중 하나를 인덱스로 설정    \n",
        "§ reset_index : 기존의 행 인덱스를 제거하고 인덱스를 데이터 열로 추가"
      ]
    },
    {
      "cell_type": "code",
      "metadata": {
        "colab": {
          "base_uri": "https://localhost:8080/"
        },
        "id": "5lvkodKY-Ou1",
        "outputId": "4b02a660-1f3b-4e8f-ee7c-c2f2f89b6218"
      },
      "source": [
        "import pandas as pd\n",
        "\n",
        "np.random.seed(0)\n",
        "df1 = pd.DataFrame(np.vstack([list('ABCDE'),\n",
        "np.round(np.random.rand(3, 5), 2)]).T,\n",
        "columns=[\"C1\", \"C2\", \"C3\", \"C4\"])   # 3행 5열, 소수점2째자리까지 생성되는 데이터 프레임에 T를 해서 ABCDE를 행으로 지정 후 vstack처리\n",
        "print(df1)\n",
        "\n",
        "df2 = df1.set_index(\"C1\")   #기존 행 인덱스가 사라지고 C1을 인덱스로 설정한 것\n",
        "print(df2)\n",
        "df3 = df2.set_index(\"C2\")  #기존 행 인덱스를 없애고 (df2니까 'ABCED'가 행인덱스), C2를 인덱스로 설정\n",
        "print(df2)\n",
        "print(df3)\n",
        "df4 = df2.reset_index()\n",
        "print(df4)"
      ],
      "execution_count": null,
      "outputs": [
        {
          "output_type": "stream",
          "text": [
            "  C1    C2    C3    C4\n",
            "0  A  0.55  0.65  0.79\n",
            "1  B  0.72  0.44  0.53\n",
            "2  C   0.6  0.89  0.57\n",
            "3  D  0.54  0.96  0.93\n",
            "4  E  0.42  0.38  0.07\n",
            "      C2    C3    C4\n",
            "C1                  \n",
            "A   0.55  0.65  0.79\n",
            "B   0.72  0.44  0.53\n",
            "C    0.6  0.89  0.57\n",
            "D   0.54  0.96  0.93\n",
            "E   0.42  0.38  0.07\n",
            "      C2    C3    C4\n",
            "C1                  \n",
            "A   0.55  0.65  0.79\n",
            "B   0.72  0.44  0.53\n",
            "C    0.6  0.89  0.57\n",
            "D   0.54  0.96  0.93\n",
            "E   0.42  0.38  0.07\n",
            "        C3    C4\n",
            "C2              \n",
            "0.55  0.65  0.79\n",
            "0.72  0.44  0.53\n",
            "0.6   0.89  0.57\n",
            "0.54  0.96  0.93\n",
            "0.42  0.38  0.07\n",
            "  C1    C2    C3    C4\n",
            "0  A  0.55  0.65  0.79\n",
            "1  B  0.72  0.44  0.53\n",
            "2  C   0.6  0.89  0.57\n",
            "3  D  0.54  0.96  0.93\n",
            "4  E  0.42  0.38  0.07\n"
          ],
          "name": "stdout"
        }
      ]
    },
    {
      "cell_type": "markdown",
      "metadata": {
        "id": "91woiX42-V0X"
      },
      "source": [
        "Ø Dataframe 다중 인덱스(multi-index) 설정    \n",
        "§ 다중 인덱스(multi-index) - 행이나 열에 여러 계층을 가지는 인덱스    \n",
        "§ 데이터프레임을 생성할 때 columns 인수에 리스트의 리스트(행렬) 형태로 인덱스를 넣으면 다중 열 인덱스를 가지게 된다.    \n",
        "§ 다중 인덱스는 이름을 지정하면 더 편리하게 사용할 수 있다. 열 인덱스들의 이름 지정은 columns 객체의 names 속성에 리스트를 넣어서 지정한다.    \n",
        "§ 데이터프레임을 생성할 때 index 인수에 리스트의 리스트(행렬) 형태로 인덱스를 넣으면 다중 (행) 인덱스를 가진다. 행 인덱스들의 이름 지정은 index 객체의 names 속성에 리스트를 넣어서 지정한다."
      ]
    },
    {
      "cell_type": "code",
      "metadata": {
        "colab": {
          "base_uri": "https://localhost:8080/"
        },
        "id": "GaFv8mxz-Tqd",
        "outputId": "a4879ff8-2736-442a-a66d-0c23ab283f82"
      },
      "source": [
        "import pandas as pd\n",
        "\n",
        "np.random.seed(0)\n",
        "df3 = pd.DataFrame(np.round(np.random.randn(5, 4), 2),\n",
        "columns=[[\"A\", \"A\", \"B\", \"B\"], [\"C1\", \"C2\", \"C1\", \"C2\"]])   #2차원리스트를 넘겨서 다중인덱스를 만듬\n",
        "\n",
        "print(df3)\n",
        "df3.columns.names = [\"Cidx1\", \"Cidx2\"]\n",
        "print(df3)\n",
        "\n",
        "df4 = pd.DataFrame(np.round(np.random.randn(6, 4), 2),\n",
        "columns=[[\"A\", \"A\", \"B\", \"B\"], [\"C\", \"D\", \"C\", \"D\"]],   #2차원리스트를 넘겨서 다중인덱스설정 \n",
        "index=[[\"M\", \"M\", \"M\", \"F\", \"F\", \"F\"], [\"id_\" + str(i + 1) for i in range(3)] * 2]) \n",
        "df4.columns.names = [\"Cidx1\", \"Cidx2\"]\n",
        "df4.index.names = [\"Ridx1\", \"Ridx2\"]\n",
        "print(df4)"
      ],
      "execution_count": null,
      "outputs": [
        {
          "output_type": "stream",
          "text": [
            "      A           B      \n",
            "     C1    C2    C1    C2\n",
            "0  1.76  0.40  0.98  2.24\n",
            "1  1.87 -0.98  0.95 -0.15\n",
            "2 -0.10  0.41  0.14  1.45\n",
            "3  0.76  0.12  0.44  0.33\n",
            "4  1.49 -0.21  0.31 -0.85\n",
            "Cidx1     A           B      \n",
            "Cidx2    C1    C2    C1    C2\n",
            "0      1.76  0.40  0.98  2.24\n",
            "1      1.87 -0.98  0.95 -0.15\n",
            "2     -0.10  0.41  0.14  1.45\n",
            "3      0.76  0.12  0.44  0.33\n",
            "4      1.49 -0.21  0.31 -0.85\n",
            "Cidx1           A           B      \n",
            "Cidx2           C     D     C     D\n",
            "Ridx1 Ridx2                        \n",
            "M     id_1  -2.55  0.65  0.86 -0.74\n",
            "      id_2   2.27 -1.45  0.05 -0.19\n",
            "      id_3   1.53  1.47  0.15  0.38\n",
            "F     id_1  -0.89 -1.98 -0.35  0.16\n",
            "      id_2   1.23  1.20 -0.39 -0.30\n",
            "      id_3  -1.05 -1.42 -1.71  1.95\n"
          ],
          "name": "stdout"
        }
      ]
    },
    {
      "cell_type": "markdown",
      "metadata": {
        "id": "rqB7z-v3-gMS"
      },
      "source": [
        "Ø Dataframe 행 인덱스와 열 인덱스 교환    \n",
        "§ stack : 열 인덱스 -> 행 인덱스로 변환\n",
        "열 인덱스가 반시계 방향으로 90도 회전한 것과 비슷한 모양이 된다.   \n",
        "§ unstack : 행 인덱스 -> 열 인덱스로 변환\n",
        "행 인덱스가 시계 방향으로 90도 회전한 것과 비슷하다.  \n",
        "§ 인덱스를 지정할 때는 문자열 이름과 순서를 표시하는 숫자 인덱스를 모두 사용할 수 있다."
      ]
    },
    {
      "cell_type": "code",
      "metadata": {
        "colab": {
          "base_uri": "https://localhost:8080/"
        },
        "id": "tA990HdA-jsL",
        "outputId": "4c8987ce-bcdb-46ed-ed6d-de71133bfba5"
      },
      "source": [
        "import pandas as pd\n",
        "import numpy as np\n",
        "\n",
        "df4 = pd.DataFrame(np.round(np.random.randn(6, 4), 2),\n",
        "columns=[[\"A\", \"A\", \"B\", \"B\"], [\"C\", \"D\", \"C\", \"D\"]],\n",
        "index=[[\"M\", \"M\", \"M\", \"F\", \"F\", \"F\"], [\"id_\" + str(i + 1) for i in range(3)] * 2])\n",
        "df4.columns.names = [\"Cidx1\", \"Cidx2\"]\n",
        "df4.index.names = [\"Ridx1\", \"Ridx2\"]\n",
        "\n",
        "df=df4.stack(\"Cidx1\")  #열인덱스 Cidx1을 행인덱스로 교환 > 그래서 행인덱스3번째에 존재 \n",
        "print(df)\n",
        "df= df4.stack(1)    #열이름이 아닌 순서 번호로 지정해도 가능\n",
        "print(df)\n",
        "df= df4.unstack(\"Ridx2\") #행인덱스 Ridx2를 열인덱스로 교환>시계방향으로 들어가 열인덱스 3번째에 존재\n",
        "print(df)\n",
        "df4.unstack(0)  #행이름이 아닌 순서 번호로 지정해도 가능\n",
        "print(df)"
      ],
      "execution_count": null,
      "outputs": [
        {
          "output_type": "stream",
          "text": [
            "Cidx2                 C     D\n",
            "Ridx1 Ridx2 Cidx1            \n",
            "M     id_1  A     -0.51 -0.44\n",
            "            B     -1.25  0.78\n",
            "      id_2  A     -1.61 -0.21\n",
            "            B     -0.90  0.39\n",
            "      id_3  A     -0.51 -1.18\n",
            "            B     -0.03  0.43\n",
            "F     id_1  A      0.07  0.30\n",
            "            B     -0.63 -0.36\n",
            "      id_2  A     -0.67 -0.36\n",
            "            B     -0.81 -1.73\n",
            "      id_3  A      0.18 -0.40\n",
            "            B     -1.63  0.46\n",
            "Cidx1                 A     B\n",
            "Ridx1 Ridx2 Cidx2            \n",
            "M     id_1  C     -0.51 -1.25\n",
            "            D     -0.44  0.78\n",
            "      id_2  C     -1.61 -0.90\n",
            "            D     -0.21  0.39\n",
            "      id_3  C     -0.51 -0.03\n",
            "            D     -1.18  0.43\n",
            "F     id_1  C      0.07 -0.63\n",
            "            D      0.30 -0.36\n",
            "      id_2  C     -0.67 -0.81\n",
            "            D     -0.36 -1.73\n",
            "      id_3  C      0.18 -1.63\n",
            "            D     -0.40  0.46\n",
            "Cidx1     A                                   B                              \n",
            "Cidx2     C                 D                 C                 D            \n",
            "Ridx2  id_1  id_2  id_3  id_1  id_2  id_3  id_1  id_2  id_3  id_1  id_2  id_3\n",
            "Ridx1                                                                        \n",
            "F      0.07 -0.67  0.18  0.30 -0.36 -0.40 -0.63 -0.81 -1.63 -0.36 -1.73  0.46\n",
            "M     -0.51 -1.61 -0.51 -0.44 -0.21 -1.18 -1.25 -0.90 -0.03  0.78  0.39  0.43\n",
            "Cidx1     A                                   B                              \n",
            "Cidx2     C                 D                 C                 D            \n",
            "Ridx2  id_1  id_2  id_3  id_1  id_2  id_3  id_1  id_2  id_3  id_1  id_2  id_3\n",
            "Ridx1                                                                        \n",
            "F      0.07 -0.67  0.18  0.30 -0.36 -0.40 -0.63 -0.81 -1.63 -0.36 -1.73  0.46\n",
            "M     -0.51 -1.61 -0.51 -0.44 -0.21 -1.18 -1.25 -0.90 -0.03  0.78  0.39  0.43\n"
          ],
          "name": "stdout"
        }
      ]
    },
    {
      "cell_type": "markdown",
      "metadata": {
        "id": "5buzURaIVnBu"
      },
      "source": [
        "Ø Dataframe 다중 인덱스의 인덱싱    \n",
        "§ 다중 인덱스를 가지는 경우에는 인덱스 값이 하나의 라벨이나 숫자가 아니라 ()로 둘러싸인 튜플이 되어야 한다 (튜플이 중요!)     \n",
        "§ loc 인덱스를 사용하는 경우에도 튜플을 써야 한다.   \n",
        "§ iloc 인덱서를 사용하는 경우에는 튜플 형태의 다중인덱스를 사용할 수 없다.    \n",
        "§ 하나의 레벨 값만 넣으면 다중 인덱스 중에서 가장 상위의 값을 지정한 것으로 본다.    "
      ]
    },
    {
      "cell_type": "code",
      "metadata": {
        "colab": {
          "base_uri": "https://localhost:8080/"
        },
        "id": "uzGj9aCvVrT-",
        "outputId": "74c3cf7f-d60c-452b-fbe5-fcac4ae34078"
      },
      "source": [
        "import pandas as pd\n",
        "import numpy as np\n",
        "\n",
        "np.random.seed(0)\n",
        "df3 = pd.DataFrame(np.round(np.random.randn(5, 4), 2),\n",
        "columns=[[\"A\", \"A\", \"B\", \"B\"], [\"C1\", \"C2\", \"C1\", \"C2\"]])\n",
        "print(df3)\n",
        "\n",
        "print(df3[(\"B\", \"C1\")])   #B인덱스에서 C1을 꺼내기\n",
        "print(df3.loc[0, (\"B\", \"C1\")])  # 0행에서 B와 C1 겹치는 건 0.98\n",
        "df3.loc[0, (\"B\", \"C1\")] = 100   #iloc는 튜플을 써야 함 저 위치에 100을 넣는다는 뜻\n",
        "print(df3)\n",
        "print(df3['A'])\n",
        "#print(df3['C1']) #KeyError C1이 두개라서 에러"
      ],
      "execution_count": null,
      "outputs": [
        {
          "output_type": "stream",
          "text": [
            "      A           B      \n",
            "     C1    C2    C1    C2\n",
            "0  1.76  0.40  0.98  2.24\n",
            "1  1.87 -0.98  0.95 -0.15\n",
            "2 -0.10  0.41  0.14  1.45\n",
            "3  0.76  0.12  0.44  0.33\n",
            "4  1.49 -0.21  0.31 -0.85\n",
            "0    0.98\n",
            "1    0.95\n",
            "2    0.14\n",
            "3    0.44\n",
            "4    0.31\n",
            "Name: (B, C1), dtype: float64\n",
            "0.98\n",
            "      A             B      \n",
            "     C1    C2      C1    C2\n",
            "0  1.76  0.40  100.00  2.24\n",
            "1  1.87 -0.98    0.95 -0.15\n",
            "2 -0.10  0.41    0.14  1.45\n",
            "3  0.76  0.12    0.44  0.33\n",
            "4  1.49 -0.21    0.31 -0.85\n",
            "     C1    C2\n",
            "0  1.76  0.40\n",
            "1  1.87 -0.98\n",
            "2 -0.10  0.41\n",
            "3  0.76  0.12\n",
            "4  1.49 -0.21\n"
          ],
          "name": "stdout"
        }
      ]
    },
    {
      "cell_type": "markdown",
      "metadata": {
        "id": "i_k_HbsrWJFW"
      },
      "source": [
        "Ø Dataframe 다중 인덱스의 인덱싱    \n",
        "§ loc를 사용하는 경우에도 튜플이 아닌 하나의 값만 쓰면 가장 상위의 인덱스를 지정한 것과 같다.    \n",
        "§ 특정 레벨의 모든 인덱스 값을 인덱싱할 때는 슬라이스를 사용한다.    \n",
        "§ 다중 인덱스의 튜플 내에서는 : 슬라이스 기호를 사용할 수 없고 대신 slice(None) 값을 사용해야 한다."
      ]
    },
    {
      "cell_type": "code",
      "metadata": {
        "colab": {
          "base_uri": "https://localhost:8080/"
        },
        "id": "WkJbgeG9Yu9H",
        "outputId": "8d52ca0d-780d-43a8-85b8-c2ef4a5e5bee"
      },
      "source": [
        "import pandas as pd\n",
        "import numpy as np\n",
        "\n",
        "df4 = pd.DataFrame(np.round(np.random.randn(6, 4), 2),\n",
        "columns=[[\"A\", \"A\", \"B\", \"B\"], [\"C\", \"D\", \"C\", \"D\"]],\n",
        "index=[[\"M\", \"M\", \"M\", \"F\", \"F\", \"F\"], [\"id_\" + str(i + 1) for i in range(3)] * 2])  #행인덱스\n",
        "df4.columns.names = [\"Cidx1\", \"Cidx2\"]\n",
        "df4.index.names = [\"Ridx1\", \"Ridx2\"]\n",
        "\n",
        "print(df4.loc[(\"M\", \"id_1\"), (\"A\", \"C\")]) #행에대한 멀티인덱서를 튜플로\n",
        "print(df4.loc[:, (\"A\", \"C\")])   #행은 전체, 열은 AC\n",
        "print(df4.loc[(\"M\", \"id_1\"), :])  #행은 M,id1 열은슬라이싱\n",
        "df4.loc[(\"All\", \"All\"), :] = df4.sum() #행의 첫번째, 두번째인덱스이름이 ALL로 나와야함,그리고 각열의 합계를 함수로 반환\n",
        "print(df4)\n",
        "print(df4.loc[\"M\"])  #M하나여서 상위인덱스\n",
        "print(df4.loc[(\"M\", slice(None)), :])  #슬라이스 값을 사용못해서 slice(None)을 사용해서 슬라이싱을 하는 것(그외의 값은 안뜸(none))\n",
        "print(df4.loc[(slice(None), \"id_1\"), :])  #전체 중 id-1을 슬라이싱 "
      ],
      "execution_count": null,
      "outputs": [
        {
          "output_type": "stream",
          "text": [
            "-2.55\n",
            "Ridx1  Ridx2\n",
            "M      id_1    -2.55\n",
            "       id_2     2.27\n",
            "       id_3     1.53\n",
            "F      id_1    -0.89\n",
            "       id_2     1.23\n",
            "       id_3    -1.05\n",
            "Name: (A, C), dtype: float64\n",
            "Cidx1  Cidx2\n",
            "A      C       -2.55\n",
            "       D        0.65\n",
            "B      C        0.86\n",
            "       D       -0.74\n",
            "Name: (M, id_1), dtype: float64\n",
            "Cidx1           A           B      \n",
            "Cidx2           C     D     C     D\n",
            "Ridx1 Ridx2                        \n",
            "M     id_1  -2.55  0.65  0.86 -0.74\n",
            "      id_2   2.27 -1.45  0.05 -0.19\n",
            "      id_3   1.53  1.47  0.15  0.38\n",
            "F     id_1  -0.89 -1.98 -0.35  0.16\n",
            "      id_2   1.23  1.20 -0.39 -0.30\n",
            "      id_3  -1.05 -1.42 -1.71  1.95\n",
            "All   All    0.54 -1.53 -1.39  1.26\n",
            "Cidx1     A           B      \n",
            "Cidx2     C     D     C     D\n",
            "Ridx2                        \n",
            "id_1  -2.55  0.65  0.86 -0.74\n",
            "id_2   2.27 -1.45  0.05 -0.19\n",
            "id_3   1.53  1.47  0.15  0.38\n",
            "Cidx1           A           B      \n",
            "Cidx2           C     D     C     D\n",
            "Ridx1 Ridx2                        \n",
            "M     id_1  -2.55  0.65  0.86 -0.74\n",
            "      id_2   2.27 -1.45  0.05 -0.19\n",
            "      id_3   1.53  1.47  0.15  0.38\n",
            "Cidx1           A           B      \n",
            "Cidx2           C     D     C     D\n",
            "Ridx1 Ridx2                        \n",
            "M     id_1  -2.55  0.65  0.86 -0.74\n",
            "F     id_1  -0.89 -1.98 -0.35  0.16\n"
          ],
          "name": "stdout"
        }
      ]
    },
    {
      "cell_type": "markdown",
      "metadata": {
        "id": "H4dJe_2tYxlH"
      },
      "source": [
        "Ø Dataframe 다중 인덱스의 인덱스 순서 교환   \n",
        "§ swaplevel(i, j, axis) - i와 j는 교환하고자 하는 인덱스 라벨(혹은 인덱스 번호)이고 axis는 0일 때 행 인덱스, 1일 때 열 인덱스를 의미한다. 디폴트는 행 인덱스이다.    \n",
        "§ sort_index - 다중 인덱스가 있는 데이터프레임을 로 정렬, level 인수는 어떤 인덱스를 기준으로 정렬하는지 설정     "
      ]
    },
    {
      "cell_type": "code",
      "metadata": {
        "colab": {
          "base_uri": "https://localhost:8080/"
        },
        "id": "vcNZcU4vY3ef",
        "outputId": "36714d1a-31eb-480e-9f60-36e7de93052e"
      },
      "source": [
        "import pandas as pd\n",
        "import numpy as np\n",
        "\n",
        "df4 = pd.DataFrame(np.round(np.random.randn(6, 4), 2),\n",
        "columns=[[\"A\", \"A\", \"B\", \"B\"], [\"C\", \"D\", \"C\", \"D\"]],\n",
        "index=[[\"M\", \"M\", \"M\", \"F\", \"F\", \"F\"], [\"id_\" + str(i + 1) for i in range(3)] * 2])\n",
        "df4.columns.names = [\"Cidx1\", \"Cidx2\"]\n",
        "df4.index.names = [\"Ridx1\", \"Ridx2\"]\n",
        "\n",
        "df5 = df4.swaplevel(\"Ridx1\", \"Ridx2\")  #이 두가지 순서를 서로 바꾼다는 뜻\n",
        "print(df5)\n",
        "df6 = df4.swaplevel(\"Cidx1\", \"Cidx2\", 1) #axis를 1로해서 열에 있는 두가지 순서가 바뀐다느 듯\n",
        "print(df6)\n",
        "\n",
        "print(df5.sort_index(level=0))  #레벨이 0인 ID기준으로 정렬\n",
        "print(df6.sort_index(axis=1, level=0))  #열에서 레벨이 0인 Cidx C D를 기준으로 정렬"
      ],
      "execution_count": null,
      "outputs": [
        {
          "output_type": "stream",
          "text": [
            "Cidx1           A           B      \n",
            "Cidx2           C     D     C     D\n",
            "Ridx2 Ridx1                        \n",
            "id_1  M     -0.51 -0.44 -1.25  0.78\n",
            "id_2  M     -1.61 -0.21 -0.90  0.39\n",
            "id_3  M     -0.51 -1.18 -0.03  0.43\n",
            "id_1  F      0.07  0.30 -0.63 -0.36\n",
            "id_2  F     -0.67 -0.36 -0.81 -1.73\n",
            "id_3  F      0.18 -0.40 -1.63  0.46\n",
            "Cidx2           C     D     C     D\n",
            "Cidx1           A     A     B     B\n",
            "Ridx1 Ridx2                        \n",
            "M     id_1  -0.51 -0.44 -1.25  0.78\n",
            "      id_2  -1.61 -0.21 -0.90  0.39\n",
            "      id_3  -0.51 -1.18 -0.03  0.43\n",
            "F     id_1   0.07  0.30 -0.63 -0.36\n",
            "      id_2  -0.67 -0.36 -0.81 -1.73\n",
            "      id_3   0.18 -0.40 -1.63  0.46\n",
            "Cidx1           A           B      \n",
            "Cidx2           C     D     C     D\n",
            "Ridx2 Ridx1                        \n",
            "id_1  F      0.07  0.30 -0.63 -0.36\n",
            "      M     -0.51 -0.44 -1.25  0.78\n",
            "id_2  F     -0.67 -0.36 -0.81 -1.73\n",
            "      M     -1.61 -0.21 -0.90  0.39\n",
            "id_3  F      0.18 -0.40 -1.63  0.46\n",
            "      M     -0.51 -1.18 -0.03  0.43\n",
            "Cidx2           C           D      \n",
            "Cidx1           A     B     A     B\n",
            "Ridx1 Ridx2                        \n",
            "M     id_1  -0.51 -1.25 -0.44  0.78\n",
            "      id_2  -1.61 -0.90 -0.21  0.39\n",
            "      id_3  -0.51 -0.03 -1.18  0.43\n",
            "F     id_1   0.07 -0.63  0.30 -0.36\n",
            "      id_2  -0.67 -0.81 -0.36 -1.73\n",
            "      id_3   0.18 -1.63 -0.40  0.46\n"
          ],
          "name": "stdout"
        }
      ]
    },
    {
      "cell_type": "markdown",
      "metadata": {
        "id": "eq9JxfGjY7Ev"
      },
      "source": [
        "Ø Dataframe 데이터 병합(merge), 연결(concatenate)   \n",
        "§ merge() - 두 데이터 프레임의 공통 열 혹은 인덱스를 기준으로 두 개의 테이블을 합친다.    \n",
        "기준이 되는 열, 행의 데이터를 키(key)라고 한다   \n",
        "§ 기본적으로는 양쪽 데이터프레임에 모두 키가 존재하는 데이터만 보여주는 inner join 방식을 사용한다    \n",
        "§ outer join 방식은 키 값이 한쪽에만 있어도 데이터를 보여준다    \n",
        "§ left, right 방식은 각각 첫번째, 혹은 두번째 데이터프레임의 키 값을 모두 보여준다.    "
      ]
    },
    {
      "cell_type": "code",
      "metadata": {
        "colab": {
          "base_uri": "https://localhost:8080/"
        },
        "id": "JiyV2vqoZBkF",
        "outputId": "788940a6-fa30-45ee-80b4-c67caba40c57"
      },
      "source": [
        "import pandas as pd\n",
        "\n",
        "df1 = pd.DataFrame({ '고객번호': [1001, 1002, 1003, 1004, 1005, 1006, 1007],\n",
        "'이름': ['둘리', '도우너', '또치', '길동', '희동', '마이콜', '영희']\n",
        "}, columns=['고객번호', '이름'])\n",
        "print(df1)\n",
        "\n",
        "df2 = pd.DataFrame({ '고객번호': [1001, 1001, 1005, 1006, 1008, 1001],\n",
        "'금액': [10000, 20000, 15000, 5000, 100000, 30000]\n",
        "}, columns=['고객번호', '금액'])\n",
        "print(df2)\n",
        "\n",
        "\n",
        "print(pd.merge(df1, df2))  #같은 키가 존재하면 두 개의 테이블을 합침(공통값만 보여줌)inner join방식\n",
        "print(pd.merge(df1, df2, how='outer'))  #how는 옵션 outer는 키가 한쪽만 있어도 다 보여줌(키가 기준으라 1001이 3개 총10개)\n",
        "print(pd.merge(df1, df2, how='left'))   #left 는 왼쪽데이터 기준으로 키값을 보여준다(1008은 왼쪽키에 없으니제외)\n",
        "print(pd.merge(df1, df2, how='right'))  #rihgt는 오른쪽데이터 기준으로 키값을 보여줌(1002,1003,1004,1007이 제외)"
      ],
      "execution_count": null,
      "outputs": [
        {
          "output_type": "stream",
          "text": [
            "   고객번호   이름\n",
            "0  1001   둘리\n",
            "1  1002  도우너\n",
            "2  1003   또치\n",
            "3  1004   길동\n",
            "4  1005   희동\n",
            "5  1006  마이콜\n",
            "6  1007   영희\n",
            "   고객번호      금액\n",
            "0  1001   10000\n",
            "1  1001   20000\n",
            "2  1005   15000\n",
            "3  1006    5000\n",
            "4  1008  100000\n",
            "5  1001   30000\n",
            "   고객번호   이름     금액\n",
            "0  1001   둘리  10000\n",
            "1  1001   둘리  20000\n",
            "2  1001   둘리  30000\n",
            "3  1005   희동  15000\n",
            "4  1006  마이콜   5000\n",
            "   고객번호   이름        금액\n",
            "0  1001   둘리   10000.0\n",
            "1  1001   둘리   20000.0\n",
            "2  1001   둘리   30000.0\n",
            "3  1002  도우너       NaN\n",
            "4  1003   또치       NaN\n",
            "5  1004   길동       NaN\n",
            "6  1005   희동   15000.0\n",
            "7  1006  마이콜    5000.0\n",
            "8  1007   영희       NaN\n",
            "9  1008  NaN  100000.0\n",
            "   고객번호   이름       금액\n",
            "0  1001   둘리  10000.0\n",
            "1  1001   둘리  20000.0\n",
            "2  1001   둘리  30000.0\n",
            "3  1002  도우너      NaN\n",
            "4  1003   또치      NaN\n",
            "5  1004   길동      NaN\n",
            "6  1005   희동  15000.0\n",
            "7  1006  마이콜   5000.0\n",
            "8  1007   영희      NaN\n",
            "   고객번호   이름      금액\n",
            "0  1001   둘리   10000\n",
            "1  1001   둘리   20000\n",
            "2  1001   둘리   30000\n",
            "3  1005   희동   15000\n",
            "4  1006  마이콜    5000\n",
            "5  1008  NaN  100000\n"
          ],
          "name": "stdout"
        }
      ]
    },
    {
      "cell_type": "markdown",
      "metadata": {
        "id": "fkX-ga3kZFvj"
      },
      "source": [
        "Ø Dataframe 데이터 병합(merge), 연결(concatenate)   \n",
        "§ 테이블에 키 값이 같은 데이터가 여러개 있는 경우에는 있을 수 있는 모든 경우의 수를 따져서 조합을 만들어 낸다.   \n",
        "§ 두 데이터프레임에서 이름이 같은 열은 모두 키가 된다.   \n",
        "§ 이름이 같아도 키가 되면 안되는 열이 있다면 on 인수로 기준열을 명시해야 한다.    \n",
        "§ 기준 열이 아니면서 이름이 같은 열에는 _x 또는 _y 와 같은 접미사가 붙는다."
      ]
    },
    {
      "cell_type": "code",
      "metadata": {
        "colab": {
          "base_uri": "https://localhost:8080/"
        },
        "id": "GadXrI_JZJ7K",
        "outputId": "75b31988-8db7-430e-dbb6-6c9e4c4b8034"
      },
      "source": [
        "import pandas as pd\n",
        "\n",
        "df1 = pd.DataFrame({\n",
        "'품종': ['setosa', 'setosa', 'virginica', 'virginica'],\n",
        "'꽃잎길이': [1.4, 1.3, 1.5, 1.3]},\n",
        "columns=['품종', '꽃잎길이'])\n",
        "print(df1)\n",
        "\n",
        "df2 = pd.DataFrame({\n",
        "'품종': ['setosa', 'virginica', 'virginica', 'versicolor'],\n",
        "'꽃잎너비': [0.4, 0.3, 0.5, 0.3]},\n",
        "columns=['품종', '꽃잎너비'])\n",
        "print(df2)\n",
        "print(pd.merge(df1, df2)) #inner join방식 versicolor이건 두가지엔 해당 사항이 없어서 제외됨"
      ],
      "execution_count": null,
      "outputs": [
        {
          "output_type": "stream",
          "text": [
            "          품종  꽃잎길이\n",
            "0     setosa   1.4\n",
            "1     setosa   1.3\n",
            "2  virginica   1.5\n",
            "3  virginica   1.3\n",
            "           품종  꽃잎너비\n",
            "0      setosa   0.4\n",
            "1   virginica   0.3\n",
            "2   virginica   0.5\n",
            "3  versicolor   0.3\n",
            "          품종  꽃잎길이  꽃잎너비\n",
            "0     setosa   1.4   0.4\n",
            "1     setosa   1.3   0.4\n",
            "2  virginica   1.5   0.3\n",
            "3  virginica   1.5   0.5\n",
            "4  virginica   1.3   0.3\n",
            "5  virginica   1.3   0.5\n"
          ],
          "name": "stdout"
        }
      ]
    },
    {
      "cell_type": "code",
      "metadata": {
        "colab": {
          "base_uri": "https://localhost:8080/"
        },
        "id": "u3d1BmYjZM-s",
        "outputId": "5ea9e73e-aab0-4135-d57d-023604231416"
      },
      "source": [
        "import pandas as pd\n",
        "\n",
        "df1 = pd.DataFrame({\n",
        "'고객명': ['춘향', '춘향', '몽룡'],\n",
        "'날짜': ['2018-01-01', '2018-01-02', '2018-01-01'],\n",
        "'데이터': ['20000', '30000', '100000']})\n",
        "print(df1)\n",
        "\n",
        "df2 = pd.DataFrame({\n",
        "'고객명': ['춘향', '몽룡'],\n",
        "'데이터': ['여자', '남자']})\n",
        "print(df2)\n",
        "print(pd.merge(df1, df2, on='고객명'))  #데이터값이 불일치해서 이런경우는 on을써서 고객명으로만 join함"
      ],
      "execution_count": null,
      "outputs": [
        {
          "output_type": "stream",
          "text": [
            "  고객명          날짜     데이터\n",
            "0  춘향  2018-01-01   20000\n",
            "1  춘향  2018-01-02   30000\n",
            "2  몽룡  2018-01-01  100000\n",
            "  고객명 데이터\n",
            "0  춘향  여자\n",
            "1  몽룡  남자\n",
            "  고객명          날짜   데이터_x 데이터_y\n",
            "0  춘향  2018-01-01   20000    여자\n",
            "1  춘향  2018-01-02   30000    여자\n",
            "2  몽룡  2018-01-01  100000    남자\n"
          ],
          "name": "stdout"
        }
      ]
    },
    {
      "cell_type": "markdown",
      "metadata": {
        "id": "-ym-9eertln0"
      },
      "source": [
        "고객명          날짜   데이터_x 데이터_y    \n",
        "이 결과는 기준열이 아니면서 이름이 같은 열은 뒤에 접미사가 붙게됨"
      ]
    },
    {
      "cell_type": "markdown",
      "metadata": {
        "id": "AIjE6HfoZQhf"
      },
      "source": [
        "Ø Dataframe 데이터 병합(merge), 연결(concatenate)   \n",
        "§ 키가 되는 기준열의 이름이 두 데이터프레임에서 다르다면 left_on, right_on 인수를 사용하여 기준열을 명시해야 한다.   \n",
        "§ 일반 데이터 열이 아닌 인덱스를 기준열로 사용하려면 left_index 또는 right_index 인수를 True 로 설정한다."
      ]
    },
    {
      "cell_type": "code",
      "metadata": {
        "colab": {
          "base_uri": "https://localhost:8080/"
        },
        "id": "0u7DQDzpZTUc",
        "outputId": "e0d23316-266c-4b9f-cf2d-aa665d9b290c"
      },
      "source": [
        "import pandas as pd\n",
        "import numpy as np\n",
        "\n",
        "df1 = pd.DataFrame({ '이름': ['영희', '철수', '철수'], '성적': [1, 2, 3]} )\n",
        "print(df1)\n",
        "df2 = pd.DataFrame({ '성명': ['영희', '영희', '철수'], '성적2': [4, 5, 6]} )  \n",
        "print(df2)\n",
        "print(pd.merge(df1, df2, left_on='이름', right_on=\"성명\"))  #df1에서 기준 키는 이름으로, df2에서 기준키는 성명으로\n",
        "\n",
        "df1 = pd.DataFrame({ '도시': ['서울', '서울', '서울', '부산', '부산'],\n",
        "'연도': [2000, 2005, 2010, 2000, 2005],\n",
        "'인구': [9853972, 9762546, 9631482, 3655437, 3512547]})\n",
        "print(df1)\n",
        "\n",
        "df2 = pd.DataFrame( np.arange(12).reshape((6, 2)),\n",
        "index=[['부산', '부산', '서울', '서울', '서울', '서울'],\n",
        "[2000, 2005, 2000, 2005, 2010, 2015]],\n",
        "columns=['데이터1', '데이터2'])\n",
        "print(df2)\n",
        "print(pd.merge(df1, df2, left_on=['도시', '연도'], right_index=True))  #df1에서 기준은 도시와 연도라는 인덱스로, df2는 키로 행인덱스를 사용"
      ],
      "execution_count": null,
      "outputs": [
        {
          "output_type": "stream",
          "text": [
            "   이름  성적\n",
            "0  영희   1\n",
            "1  철수   2\n",
            "2  철수   3\n",
            "   성명  성적2\n",
            "0  영희    4\n",
            "1  영희    5\n",
            "2  철수    6\n",
            "   이름  성적  성명  성적2\n",
            "0  영희   1  영희    4\n",
            "1  영희   1  영희    5\n",
            "2  철수   2  철수    6\n",
            "3  철수   3  철수    6\n",
            "   도시    연도       인구\n",
            "0  서울  2000  9853972\n",
            "1  서울  2005  9762546\n",
            "2  서울  2010  9631482\n",
            "3  부산  2000  3655437\n",
            "4  부산  2005  3512547\n",
            "         데이터1  데이터2\n",
            "부산 2000     0     1\n",
            "   2005     2     3\n",
            "서울 2000     4     5\n",
            "   2005     6     7\n",
            "   2010     8     9\n",
            "   2015    10    11\n",
            "   도시    연도       인구  데이터1  데이터2\n",
            "0  서울  2000  9853972     4     5\n",
            "1  서울  2005  9762546     6     7\n",
            "2  서울  2010  9631482     8     9\n",
            "3  부산  2000  3655437     0     1\n",
            "4  부산  2005  3512547     2     3\n"
          ],
          "name": "stdout"
        }
      ]
    },
    {
      "cell_type": "markdown",
      "metadata": {
        "id": "a8f4CYZ-ZZ3B"
      },
      "source": [
        "§ merge 명령어 대신 join 메서드를 사용할 수도 있다."
      ]
    },
    {
      "cell_type": "code",
      "metadata": {
        "colab": {
          "base_uri": "https://localhost:8080/"
        },
        "id": "BpInZMomZc9N",
        "outputId": "6fce478d-5c61-46d5-9b6b-7a3ae57c4389"
      },
      "source": [
        "import pandas as pd\n",
        "import numpy as np\n",
        "\n",
        "df1 = pd.DataFrame(\n",
        "[[1., 2.], [3., 4.], [5., 6.]],\n",
        "index=['a', 'c', 'e'],\n",
        "columns=['서울', '부산'])\n",
        "print(df1)\n",
        "\n",
        "df2 = pd.DataFrame(\n",
        "[[7., 8.], [9., 10.], [11., 12.], [13, 14]],\n",
        "index=['b', 'c', 'd', 'e'],\n",
        "columns=['대구', '광주'])\n",
        "print(df2)\n",
        "\n",
        "print(pd.merge(df1, df2, how='outer', left_index=True, right_index=True))  #true라서 둘 다 행인덱스 기준으로 하겠다는 것\n",
        "print(df1.join(df2, how='outer'))   #merge는 판다스 join은 dataframe 둘 다 기능은 같음 "
      ],
      "execution_count": null,
      "outputs": [
        {
          "output_type": "stream",
          "text": [
            "    서울   부산\n",
            "a  1.0  2.0\n",
            "c  3.0  4.0\n",
            "e  5.0  6.0\n",
            "     대구    광주\n",
            "b   7.0   8.0\n",
            "c   9.0  10.0\n",
            "d  11.0  12.0\n",
            "e  13.0  14.0\n",
            "    서울   부산    대구    광주\n",
            "a  1.0  2.0   NaN   NaN\n",
            "b  NaN  NaN   7.0   8.0\n",
            "c  3.0  4.0   9.0  10.0\n",
            "d  NaN  NaN  11.0  12.0\n",
            "e  5.0  6.0  13.0  14.0\n",
            "    서울   부산    대구    광주\n",
            "a  1.0  2.0   NaN   NaN\n",
            "b  NaN  NaN   7.0   8.0\n",
            "c  3.0  4.0   9.0  10.0\n",
            "d  NaN  NaN  11.0  12.0\n",
            "e  5.0  6.0  13.0  14.0\n"
          ],
          "name": "stdout"
        }
      ]
    },
    {
      "cell_type": "markdown",
      "metadata": {
        "id": "RpVNzzDUZgwz"
      },
      "source": [
        "Ø Dataframe 데이터 병합(merge), 연결(concatenate)   \n",
        "§ concat 함수를 사용하면 기준 열(key column)을 사용하지 않고 단순히 데이터를 연결(concatenate)한다.   \n",
        "§ 기본적으로는 위/아래로 데이터 행을 연결한다. 단순히 두 시리즈나 데이터프레임을 연결하기 때문에 인덱스 값이 중복될 수 있다.   \n",
        "§ 데이터 열을 연결하고 싶으면 axis=1로 인수를 설정한다."
      ]
    },
    {
      "cell_type": "code",
      "metadata": {
        "colab": {
          "base_uri": "https://localhost:8080/"
        },
        "id": "bieL_65xZm03",
        "outputId": "9b89f33e-de21-41c7-af63-793e217069d1"
      },
      "source": [
        "import pandas as pd\n",
        "\n",
        "s1 = pd.Series([0, 1], index=['A', 'B'])  #시리즈객체\n",
        "s2 = pd.Series([2, 3, 4], index=['A', 'B', 'C'])\n",
        "print(s1)\n",
        "print(s2)\n",
        "print(pd.concat([s1, s2]))  #어팬드방식으로 두 데이터를 합친 것 (axis =0이여서, 아래쪽으로 이어서)\n",
        "\n",
        "df1 = pd.DataFrame( np.arange(6).reshape(3, 2), index=['a', 'b', 'c'], columns=['데이터1', '데이터2'])\n",
        "print(df1)\n",
        "df2 = pd.DataFrame( 5 + np.arange(4).reshape(2, 2), index=['a', 'c'], columns=['데이터3', '데이터4'])\n",
        "print(df2)   #앞에 5는 나온수에 5를 더한다는 뜻\n",
        "print(pd.concat([df1, df2], axis=1))  #axis가 1이기에 열으로 데이터 두 개가 어팬드 방식으로 이어짐"
      ],
      "execution_count": null,
      "outputs": [
        {
          "output_type": "stream",
          "text": [
            "A    0\n",
            "B    1\n",
            "dtype: int64\n",
            "A    2\n",
            "B    3\n",
            "C    4\n",
            "dtype: int64\n",
            "A    0\n",
            "B    1\n",
            "A    2\n",
            "B    3\n",
            "C    4\n",
            "dtype: int64\n",
            "   데이터1  데이터2\n",
            "a     0     1\n",
            "b     2     3\n",
            "c     4     5\n",
            "   데이터3  데이터4\n",
            "a     5     6\n",
            "c     7     8\n",
            "   데이터1  데이터2  데이터3  데이터4\n",
            "a     0     1   5.0   6.0\n",
            "b     2     3   NaN   NaN\n",
            "c     4     5   7.0   8.0\n"
          ],
          "name": "stdout"
        }
      ]
    },
    {
      "cell_type": "markdown",
      "metadata": {
        "id": "PBsIFhOlZrX4"
      },
      "source": [
        "Ø Dataframe 피봇테이블(pivot table)    \n",
        "§ 피봇테이블(pivot table)이란 데이터 열 중에서 두 개의 열을 각각 행 인덱스, 열 인덱스로 사용하여 데이터를 조회하여 펼쳐놓은 것    \n",
        "§ pivot () - 피봇테이블 생성 메서드     \n",
        "§ 첫번째 인수로는 행 인덱스로 사용할 열 이름, 두번째 인수로는 열 인덱스로 사용할 열 이름, 마지막으로 데이터로 사용할 열 이름을 넣는다.     \n",
        "§ Pandas 지정된 두 열을 각각 행 인덱스와 열 인덱스로 바꾼 후 행 인덱스의 라벨 값이 첫번째 키의 값과 같고 열 인덱스의 라벨 값이 두번째 키의 값과 같은 데이터를 찾아서 해당 칸에 넣는다. 만약 주어진 데이터가 존재하지 않으면 해당 칸에 NaN 값을\n",
        "넣는다.     \n",
        "§ 피봇테이블은 set_index 명령과 unstack 명령을 사용해서 만들 수도 있다"
      ]
    },
    {
      "cell_type": "code",
      "metadata": {
        "colab": {
          "base_uri": "https://localhost:8080/"
        },
        "id": "iio_O-8TwV0m",
        "outputId": "c512d5f1-84ba-4383-92cc-a6ff4fb1b030"
      },
      "source": [
        "import pandas as pd\n",
        "data = {\n",
        "\"도시\": [\"서울\", \"서울\", \"서울\", \"부산\", \"부산\", \"부산\", \"인천\", \"인천\"],\n",
        "\"연도\": [\"2015\", \"2010\", \"2005\", \"2015\", \"2010\", \"2005\", \"2015\", \"2010\"],\n",
        "\"인구\": [9904312, 9631482, 9762546, 3448737, 3393191, 3512547, 2890451, 263203],\n",
        "\"지역\": [\"수도권\", \"수도권\", \"수도권\", \"경상권\", \"경상권\", \"경상권\", \"수도권\", \"수도권\"]\n",
        "}\n",
        "columns = [\"도시\", \"연도\", \"인구\", \"지역\"]\n",
        "df1 = pd.DataFrame(data, columns=columns)\n",
        "print(df1)\n",
        "\n",
        "#행 인덱스 인수로는 \"도시\", 열 인덱스 인수로는 \"연도\", 데이터 이름으로 \"인구\"를 입력\n",
        "print(df1.pivot(\"도시\", \"연도\", \"인구\"))\n",
        "#피봇테이블은 set_index 명령과 unstack 명령을 사용해서 만들 수도 있다.\n",
        "print(df1.set_index([\"도시\", \"연도\"])[[\"인구\"]].unstack())  #unstack은 열로 이동"
      ],
      "execution_count": null,
      "outputs": [
        {
          "output_type": "stream",
          "text": [
            "   도시    연도       인구   지역\n",
            "0  서울  2015  9904312  수도권\n",
            "1  서울  2010  9631482  수도권\n",
            "2  서울  2005  9762546  수도권\n",
            "3  부산  2015  3448737  경상권\n",
            "4  부산  2010  3393191  경상권\n",
            "5  부산  2005  3512547  경상권\n",
            "6  인천  2015  2890451  수도권\n",
            "7  인천  2010   263203  수도권\n",
            "연도       2005       2010       2015\n",
            "도시                                 \n",
            "부산  3512547.0  3393191.0  3448737.0\n",
            "서울  9762546.0  9631482.0  9904312.0\n",
            "인천        NaN   263203.0  2890451.0\n",
            "           인구                      \n",
            "연도       2005       2010       2015\n",
            "도시                                 \n",
            "부산  3512547.0  3393191.0  3448737.0\n",
            "서울  9762546.0  9631482.0  9904312.0\n",
            "인천        NaN   263203.0  2890451.0\n"
          ],
          "name": "stdout"
        }
      ]
    },
    {
      "cell_type": "markdown",
      "metadata": {
        "id": "dsqTgwEhwZpu"
      },
      "source": [
        "Ø Dataframe 피봇테이블(pivot table)    \n",
        "§ 행 인덱스나 열 인덱스를 리스트로 주는 경우에는 다중 인덱스 피봇 테이블을 생성한다.    \n",
        "§ 행 인덱스와 열 인덱스는 데이터를 찾는 키(key)의 역할을 한다. 따라서 키 값으로 데이터가 단 하나만 찾아져야 한다.    \n",
        "§ 행 인덱스와 열 인덱스 조건을 만족하는 데이터가 2개 이상인 경우에는 에러가 발생한다."
      ]
    },
    {
      "cell_type": "code",
      "metadata": {
        "colab": {
          "base_uri": "https://localhost:8080/"
        },
        "id": "GrA2z6_LwdFo",
        "outputId": "7d929a31-d1eb-4827-8363-aaffdb045ccc"
      },
      "source": [
        "import pandas as pd\n",
        "data = {\n",
        "\"도시\": [\"서울\", \"서울\", \"서울\", \"부산\", \"부산\", \"부산\", \"인천\", \"인천\"],\n",
        "\"연도\": [\"2015\", \"2010\", \"2005\", \"2015\", \"2010\", \"2005\", \"2015\", \"2010\"],\n",
        "\"인구\": [9904312, 9631482, 9762546, 3448737, 3393191, 3512547, 2890451, 263203],\n",
        "\"지역\": [\"수도권\", \"수도권\", \"수도권\", \"경상권\", \"경상권\", \"경상권\", \"수도권\", \"수도권\"]\n",
        "}\n",
        "columns = [\"도시\", \"연도\", \"인구\", \"지역\"]\n",
        "df1 = pd.DataFrame(data, columns=columns)\n",
        "print(df1)\n",
        "print(df1.pivot([\"지역\", \"도시\"], \"연도\", \"인구\"))  #행인덱스를 지역,도시 2개로 사용, 열인덱스는 연도, 데이터는 인구\n",
        "try:\n",
        "  df1.pivot(\"지역\", \"연도\", \"인구\")  #도시는 문제가 안되지만 지역을 하면 겹쳐지는 내용이 나옴\n",
        "except ValueError as e:    #교차되는 데이터가 2개이상이 나오기때문에 에러가 나옴\n",
        "  print(\"ValueError:\", e)"
      ],
      "execution_count": null,
      "outputs": [
        {
          "output_type": "stream",
          "text": [
            "   도시    연도       인구   지역\n",
            "0  서울  2015  9904312  수도권\n",
            "1  서울  2010  9631482  수도권\n",
            "2  서울  2005  9762546  수도권\n",
            "3  부산  2015  3448737  경상권\n",
            "4  부산  2010  3393191  경상권\n",
            "5  부산  2005  3512547  경상권\n",
            "6  인천  2015  2890451  수도권\n",
            "7  인천  2010   263203  수도권\n",
            "연도           2005       2010       2015\n",
            "지역  도시                                 \n",
            "경상권 부산  3512547.0  3393191.0  3448737.0\n",
            "수도권 서울  9762546.0  9631482.0  9904312.0\n",
            "    인천        NaN   263203.0  2890451.0\n",
            "ValueError: Index contains duplicate entries, cannot reshape\n"
          ],
          "name": "stdout"
        }
      ]
    },
    {
      "cell_type": "markdown",
      "metadata": {
        "id": "RP_8-Dctx50d"
      },
      "source": [
        "Ø Dataframe 그룹분석    \n",
        "§ groupby 메서드는 데이터를 그룹 별로 분류하는 역할을 한다.    \n",
        "§ groupby 메서드의 인수 - 열 또는 열의 리스트 , 행 인덱스   \n",
        "§ 연산 결과로 그룹 데이터를 나타내는 GroupBy 클래스 객체를 반환    \n",
        "§ GroupBy 클래스 객체에는 그룹별로 연산을 할 수 있는 그룹연산 메서드가 있다.    \n",
        "§ size, count: 그룹 데이터의 갯수  \n",
        "§ mean, median, min, max: 그룹 데이터의 평균, 중앙값, 최소, 최대    \n",
        "§ sum, prod, std, var, quantile : 그룹 데이터의 합계, 곱, 표준편차, 분산, 사분위수    \n",
        "§ first, last : 그룹 데이터 중 가장 첫번째 데이터와 가장 나중 데이터   \n",
        "§ agg , aggregate : 만약 원하는 그룹연산이 없는 경우 함수를 만들고 이 함수를 agg에 전달한다.    \n",
        "§ 또는 여러가지 그룹연산을 동시에 하고 싶은 경우 함수 이름 문자열의 리스트를 전달한다.   \n",
        "§ describe : 하나의 그룹 대표값이 아니라 여러개의 값을 데이터프레임으로 구한다.(데이터의 특성을 한번에 보게끔)     \n",
        "§ apply : describe 처럼 하나의 대표값이 아닌 데이터프레임을 출력하지만 원하는 그룹연산이 없는 경우에 사용한다   \n",
        "§ transform :그룹에 대한 대표값을 만드는 것이 아니라 그룹별 계산을 통해 데이터 자체를 변형한다."
      ]
    },
    {
      "cell_type": "markdown",
      "metadata": {
        "id": "Vp_2_EsYx-gL"
      },
      "source": [
        "Ø Dataframe 그룹분석    \n",
        "§ count : 전체 성분의 (NaN이 아닌) 값의 갯수를 계산    \n",
        "§ argmin, argmax : 전체 성분의 최솟값, 최댓값이 위치한 (정수)인덱스를 반환    \n",
        "§ idxmin, idxmax : 전체 인덱스 중 최솟값, 최댓값을 반환    \n",
        "§ quantile : 전체 성분의 특정 사분위수에 해당하는 값을 반환 (0~1 사이)    \n",
        "§ mad : 전체 성분의 평균값으로부터의 절대 편차(absolute deviation)의 평균을 계산   \n",
        "§ cumsum : 맨 첫 번째 성분부터 각 성분까지의 누적합을 계산 (0에서부터 계속 더해짐)    \n",
        "§ cumprod : 맨 첫번째 성분부터 각 성분까지의 누적곱을 계산 (1에서부터 계속 곱해짐)    \n",
        "§ info() : 데이터의 자료형과 개수를 확인    \n",
        "§ dropna(subset=['컬럼명'], how='any', axis=0) > na값을 삭제시키는 것 "
      ]
    },
    {
      "cell_type": "code",
      "metadata": {
        "colab": {
          "base_uri": "https://localhost:8080/"
        },
        "id": "V7kNfn70yGhr",
        "outputId": "1b876811-5ad5-443b-83ba-8c593eb36124"
      },
      "source": [
        "import pandas as pd\n",
        "\n",
        "np.random.seed(0)\n",
        "df2 = pd.DataFrame({\n",
        "'key1': ['A', 'A', 'B', 'B', 'A'],\n",
        "'key2': ['one', 'two', 'one', 'two', 'one'],\n",
        "'data1': [1, 2, 3, 4, 5],\n",
        "'data2': [10, 20, 30, 40, 50]\n",
        "})\n",
        "print(df2)\n",
        "\n",
        "groups = df2.groupby(df2.key1) #그룹 A와 그룹 B로 구분 \n",
        "print(groups)  #groupby클래스유형 (인덱스로)\n",
        "print(groups.groups) #각 그룹 데이터의 인덱스를 저장한 groups 속성(A는 0,1,4, B는 2,3이런 식으로)\n",
        "print(groups.sum()) #A그룹과 B그룹 데이터의 합계 (위 데이터의 합계)\n",
        "print(df2.data1.groupby(df2.key1).sum())   #data1의 데이터를 A,B로 그룹바이를 한 뒤 데이터 합을 계산\n",
        "print(df2.groupby(df2.key1)[\"data1\"].sum()) # `GroupBy` 클래스 객체에서 data1만 선택하여 분석하는 경우\n",
        "print(df2.groupby(df2.key1).sum()[\"data1\"]) # 전체 데이터를 분석한 후 data1만 선택한 경우"
      ],
      "execution_count": null,
      "outputs": [
        {
          "output_type": "stream",
          "text": [
            "  key1 key2  data1  data2\n",
            "0    A  one      1     10\n",
            "1    A  two      2     20\n",
            "2    B  one      3     30\n",
            "3    B  two      4     40\n",
            "4    A  one      5     50\n",
            "<pandas.core.groupby.generic.DataFrameGroupBy object at 0x7f2e5a1b5650>\n",
            "{'A': [0, 1, 4], 'B': [2, 3]}\n",
            "      data1  data2\n",
            "key1              \n",
            "A         8     80\n",
            "B         7     70\n",
            "key1\n",
            "A    8\n",
            "B    7\n",
            "Name: data1, dtype: int64\n",
            "key1\n",
            "A    8\n",
            "B    7\n",
            "Name: data1, dtype: int64\n",
            "key1\n",
            "A    8\n",
            "B    7\n",
            "Name: data1, dtype: int64\n"
          ],
          "name": "stdout"
        }
      ]
    },
    {
      "cell_type": "markdown",
      "metadata": {
        "id": "ctfehGuJyKxq"
      },
      "source": [
        "Ø Dataframe 그룹분석    \n",
        "§ 분석하고자 하는 키가 복수이면 리스트를 사용한다.    \n",
        "§ 그룹분석 결과를 unstack 명령으로 피봇 데이블 형태로 만들수도 있다."
      ]
    },
    {
      "cell_type": "code",
      "metadata": {
        "colab": {
          "base_uri": "https://localhost:8080/",
          "height": 313
        },
        "id": "Ct-OPt-pyLtk",
        "outputId": "3050999b-1ded-4444-ab12-66c18a229453"
      },
      "source": [
        "import pandas as pd\n",
        "\n",
        "np.random.seed(0)\n",
        "df2 = pd.DataFrame({\n",
        "'key1': ['A', 'A', 'B', 'B', 'A'],\n",
        "'key2': ['one', 'two', 'one', 'two', 'one'],\n",
        "'data1': [1, 2, 3, 4, 5],\n",
        "'data2': [10, 20, 30, 40, 50]\n",
        "})\n",
        "\n",
        "#복합 키 (key1, key2) 값에 따른 data1의 합계를 구하기\n",
        "res = df2.data1.groupby([df2.key1, df2.key2]).sum()  #2개의 키값으로 그룹바이 A-one, A-two, B-one, B-two이런식으로 한 뒤 각 합\n",
        "print(res)\n",
        "res2 = df2.data1.groupby([df2[\"key1\"], df2[\"key2\"]]).sum().unstack(\"key2\")\n",
        "print(res2)\n",
        "# 인구 데이터로부터 지역별 합계를 구하기\n",
        "df1[\"인구\"].groupby([df1[\"지역\"], df1[\"연도\"]]).sum().unstack(\"연도\") #지역과 연도별로 그룹바이, 연도는 열로 unstack(열로 이동)"
      ],
      "execution_count": null,
      "outputs": [
        {
          "output_type": "stream",
          "text": [
            "key1  key2\n",
            "A     one     6\n",
            "      two     2\n",
            "B     one     3\n",
            "      two     4\n",
            "Name: data1, dtype: int64\n",
            "key2  one  two\n",
            "key1          \n",
            "A       6    2\n",
            "B       3    4\n"
          ],
          "name": "stdout"
        },
        {
          "output_type": "execute_result",
          "data": {
            "text/html": [
              "<div>\n",
              "<style scoped>\n",
              "    .dataframe tbody tr th:only-of-type {\n",
              "        vertical-align: middle;\n",
              "    }\n",
              "\n",
              "    .dataframe tbody tr th {\n",
              "        vertical-align: top;\n",
              "    }\n",
              "\n",
              "    .dataframe thead th {\n",
              "        text-align: right;\n",
              "    }\n",
              "</style>\n",
              "<table border=\"1\" class=\"dataframe\">\n",
              "  <thead>\n",
              "    <tr style=\"text-align: right;\">\n",
              "      <th>연도</th>\n",
              "      <th>2005</th>\n",
              "      <th>2010</th>\n",
              "      <th>2015</th>\n",
              "    </tr>\n",
              "    <tr>\n",
              "      <th>지역</th>\n",
              "      <th></th>\n",
              "      <th></th>\n",
              "      <th></th>\n",
              "    </tr>\n",
              "  </thead>\n",
              "  <tbody>\n",
              "    <tr>\n",
              "      <th>경상권</th>\n",
              "      <td>3512547</td>\n",
              "      <td>3393191</td>\n",
              "      <td>3448737</td>\n",
              "    </tr>\n",
              "    <tr>\n",
              "      <th>수도권</th>\n",
              "      <td>9762546</td>\n",
              "      <td>9894685</td>\n",
              "      <td>12794763</td>\n",
              "    </tr>\n",
              "  </tbody>\n",
              "</table>\n",
              "</div>"
            ],
            "text/plain": [
              "연도      2005     2010      2015\n",
              "지역                             \n",
              "경상권  3512547  3393191   3448737\n",
              "수도권  9762546  9894685  12794763"
            ]
          },
          "metadata": {
            "tags": []
          },
          "execution_count": 59
        }
      ]
    },
    {
      "cell_type": "markdown",
      "metadata": {
        "id": "xkfqzLH76h1t"
      },
      "source": [
        "Ø Dataframe 그룹분석    \n",
        "§ describe - 다양한 기술 통계(descriptive statistics)값을 그룹별로 하나의 스칼라 값이 아니라 하나의 데이터프레임으로 생성된다 (count, mean, std, min, quantil(25%), quantil(50%), quantil(75%), max)"
      ]
    },
    {
      "cell_type": "code",
      "metadata": {
        "colab": {
          "base_uri": "https://localhost:8080/"
        },
        "id": "6xRdBRo-6kvB",
        "outputId": "bfe562ba-d35b-4c10-f89f-7f71a85a840f"
      },
      "source": [
        "import seaborn as sns\n",
        "\n",
        "iris = sns.load_dataset(\"iris\")\n",
        "#각 붓꽃 종별로 가장 큰 값과 가장 작은 값의 비율\n",
        "def peak_to_peak_ratio(x):\n",
        "  return x.max() / x.min()\n",
        "\n",
        "a1 = iris.groupby(iris.species).agg(peak_to_peak_ratio)  #스피치 종류3종을 그룹바이\n",
        "print(a1)\n",
        "a2 = iris.groupby(iris.species).describe().T   #각 기술통계값을 생성함\n",
        "print(a2)\n",
        "\n",
        "#각 붓꽃 종별로 가장 꽃잎 길이(petal length)가 큰 3개의 데이터를 뽑아낼 수도 있다.\n",
        "def top3_petal_length(df):\n",
        "  return df.sort_values(by=\"petal_length\", ascending=False)[:3]   \n",
        "a3 = iris.groupby(iris.species).apply(top3_petal_length)\n",
        "print(a3)\n",
        "\n",
        "#각 붓꽃 꽃잎길이가 해당 종 내에서 대/중/소 어느 것에 해당되는지에 대한 데이터프레임 생성\n",
        "def q3cut(s):\n",
        "  return pd.qcut(s, 3, labels=[\"소\", \"중\", \"대\"]).astype(str)   \n",
        "a4 =iris[\"petal_length_class\"] = iris.groupby(iris.species).petal_length.transform(q3cut)\n",
        "print(a4)\n",
        "a5= iris[[\"petal_length\", \"petal_length_class\"]].tail(10)\n",
        "print(a5)"
      ],
      "execution_count": null,
      "outputs": [
        {
          "output_type": "stream",
          "text": [
            "            sepal_length  sepal_width  petal_length  petal_width\n",
            "species                                                         \n",
            "setosa          1.348837     1.913043      1.900000     6.000000\n",
            "versicolor      1.428571     1.700000      1.700000     1.800000\n",
            "virginica       1.612245     1.727273      1.533333     1.785714\n",
            "species                setosa  versicolor  virginica\n",
            "sepal_length count  50.000000   50.000000  50.000000\n",
            "             mean    5.006000    5.936000   6.588000\n",
            "             std     0.352490    0.516171   0.635880\n",
            "             min     4.300000    4.900000   4.900000\n",
            "             25%     4.800000    5.600000   6.225000\n",
            "             50%     5.000000    5.900000   6.500000\n",
            "             75%     5.200000    6.300000   6.900000\n",
            "             max     5.800000    7.000000   7.900000\n",
            "sepal_width  count  50.000000   50.000000  50.000000\n",
            "             mean    3.428000    2.770000   2.974000\n",
            "             std     0.379064    0.313798   0.322497\n",
            "             min     2.300000    2.000000   2.200000\n",
            "             25%     3.200000    2.525000   2.800000\n",
            "             50%     3.400000    2.800000   3.000000\n",
            "             75%     3.675000    3.000000   3.175000\n",
            "             max     4.400000    3.400000   3.800000\n",
            "petal_length count  50.000000   50.000000  50.000000\n",
            "             mean    1.462000    4.260000   5.552000\n",
            "             std     0.173664    0.469911   0.551895\n",
            "             min     1.000000    3.000000   4.500000\n",
            "             25%     1.400000    4.000000   5.100000\n",
            "             50%     1.500000    4.350000   5.550000\n",
            "             75%     1.575000    4.600000   5.875000\n",
            "             max     1.900000    5.100000   6.900000\n",
            "petal_width  count  50.000000   50.000000  50.000000\n",
            "             mean    0.246000    1.326000   2.026000\n",
            "             std     0.105386    0.197753   0.274650\n",
            "             min     0.100000    1.000000   1.400000\n",
            "             25%     0.200000    1.200000   1.800000\n",
            "             50%     0.200000    1.300000   2.000000\n",
            "             75%     0.300000    1.500000   2.300000\n",
            "             max     0.600000    1.800000   2.500000\n",
            "                sepal_length  sepal_width  ...  petal_width     species\n",
            "species                                    ...                         \n",
            "setosa     24            4.8          3.4  ...          0.2      setosa\n",
            "           44            5.1          3.8  ...          0.4      setosa\n",
            "           23            5.1          3.3  ...          0.5      setosa\n",
            "versicolor 83            6.0          2.7  ...          1.6  versicolor\n",
            "           77            6.7          3.0  ...          1.7  versicolor\n",
            "           72            6.3          2.5  ...          1.5  versicolor\n",
            "virginica  118           7.7          2.6  ...          2.3   virginica\n",
            "           117           7.7          3.8  ...          2.2   virginica\n",
            "           122           7.7          2.8  ...          2.0   virginica\n",
            "\n",
            "[9 rows x 5 columns]\n",
            "0      소\n",
            "1      소\n",
            "2      소\n",
            "3      중\n",
            "4      소\n",
            "      ..\n",
            "145    소\n",
            "146    소\n",
            "147    소\n",
            "148    중\n",
            "149    소\n",
            "Name: petal_length, Length: 150, dtype: object\n",
            "     petal_length petal_length_class\n",
            "140           5.6                  중\n",
            "141           5.1                  소\n",
            "142           5.1                  소\n",
            "143           5.9                  대\n",
            "144           5.7                  중\n",
            "145           5.2                  소\n",
            "146           5.0                  소\n",
            "147           5.2                  소\n",
            "148           5.4                  중\n",
            "149           5.1                  소\n"
          ],
          "name": "stdout"
        }
      ]
    },
    {
      "cell_type": "markdown",
      "metadata": {
        "id": "k6jMJRQV6rT_"
      },
      "source": [
        "Ø Pandas Dataframe    \n",
        "§ rename() - 행 인덱스 또는 열 이름의 일부를 선택하여 변경할 수 있다 (원본 객체를 수정하는 것이 아니라 새로운 데이터 프레임 객체를 반환)     \n",
        "\n",
        "행 인덱스 변경 : Dataframe 객체.rename(index={기존 인덱스: 새 인덱스, ….})     \n",
        "열 이름 변경 : Dataframe 객체.rename(columns={기존 인덱스: 새 이름, ….})     \n",
        "\n",
        "§ drop() – 데이터프레임의 행 또는 열을 삭제, 행삭제 axis=0 옵션, 열 삭제 axis=1 옵션    \n",
        "§ 동시에 여러 개의 행 또는 열을 삭제하려면 리스트 형태로 입력     \n",
        "§ drop()는 기존 객체를 변경하지 않고 새로운 객체를 반환하며, 원본 객체를 직접 변경하기 위해서는 inplace=True 옵션을 추가     \n",
        "\n",
        "\n",
        "행 삭제 : Dataframe 객체.drop(행 인덱스 또는 배열, axis=0)    \n",
        "열 삭제 : Dataframe 객체.drop(열 이름 또는 배열, axis=1)"
      ]
    },
    {
      "cell_type": "code",
      "metadata": {
        "colab": {
          "base_uri": "https://localhost:8080/"
        },
        "id": "bpvQsjZw-G9N",
        "outputId": "b25ea604-cdb5-416a-b715-439cf92c301c"
      },
      "source": [
        "df = pd.DataFrame({\"A\":[1, 2, 3], \"B\": [4, 5, 6]})\n",
        "\n",
        "df1 = df.rename(columns={\"A\": \"a\", \"B\":\"b\"})\n",
        "df2 = df.rename(index={0:\"x\", 1:\"y\", 2:\"z\"})\n",
        "print(df.index)\n",
        "print(df.rename(index=str).index)"
      ],
      "execution_count": null,
      "outputs": [
        {
          "output_type": "stream",
          "text": [
            "RangeIndex(start=0, stop=3, step=1)\n",
            "Index(['0', '1', '2'], dtype='object')\n"
          ],
          "name": "stdout"
        }
      ]
    },
    {
      "cell_type": "code",
      "metadata": {
        "colab": {
          "base_uri": "https://localhost:8080/",
          "height": 148
        },
        "id": "P9gW4k3R-3yM",
        "outputId": "97af6e34-eb3b-43e5-cb33-dcdc6cdd3ba7"
      },
      "source": [
        "df = pd.DataFrame(np.arange(12).reshape(3, 4), columns=['A','B','C','D'])\n",
        "\n",
        "df.drop(['B', 'C'], axis=1)\n",
        "df.drop(columns=['B','C'])\n",
        "print(df)\n",
        "df.drop([0, 1])"
      ],
      "execution_count": null,
      "outputs": [
        {
          "output_type": "stream",
          "text": [
            "   A  B   C   D\n",
            "0  0  1   2   3\n",
            "1  4  5   6   7\n",
            "2  8  9  10  11\n"
          ],
          "name": "stdout"
        },
        {
          "output_type": "execute_result",
          "data": {
            "text/html": [
              "<div>\n",
              "<style scoped>\n",
              "    .dataframe tbody tr th:only-of-type {\n",
              "        vertical-align: middle;\n",
              "    }\n",
              "\n",
              "    .dataframe tbody tr th {\n",
              "        vertical-align: top;\n",
              "    }\n",
              "\n",
              "    .dataframe thead th {\n",
              "        text-align: right;\n",
              "    }\n",
              "</style>\n",
              "<table border=\"1\" class=\"dataframe\">\n",
              "  <thead>\n",
              "    <tr style=\"text-align: right;\">\n",
              "      <th></th>\n",
              "      <th>A</th>\n",
              "      <th>B</th>\n",
              "      <th>C</th>\n",
              "      <th>D</th>\n",
              "    </tr>\n",
              "  </thead>\n",
              "  <tbody>\n",
              "    <tr>\n",
              "      <th>2</th>\n",
              "      <td>8</td>\n",
              "      <td>9</td>\n",
              "      <td>10</td>\n",
              "      <td>11</td>\n",
              "    </tr>\n",
              "  </tbody>\n",
              "</table>\n",
              "</div>"
            ],
            "text/plain": [
              "   A  B   C   D\n",
              "2  8  9  10  11"
            ]
          },
          "metadata": {
            "tags": []
          },
          "execution_count": 72
        }
      ]
    },
    {
      "cell_type": "code",
      "metadata": {
        "colab": {
          "base_uri": "https://localhost:8080/",
          "height": 401
        },
        "id": "uXb19sUT_z2-",
        "outputId": "d322a045-bd4e-4e84-b90c-382130fc34ab"
      },
      "source": [
        "midx = pd.MultiIndex(levels=[['lama', 'cow', 'falcon'],\n",
        "                             ['speed', 'weight', 'length']],\n",
        "                     codes=[[0, 0, 0, 1, 1, 1, 2, 2, 2],\n",
        "                            [0, 1, 2, 0, 1, 2, 0, 1, 2]])\n",
        "\n",
        "df = pd.DataFrame(index=midx, columns=['big', 'small'],\n",
        "                  data=[[45, 30], [200, 100], [1.5, 1], [30, 20],\n",
        "                        [250, 150], [1.5, 0.8], [320, 250],\n",
        "                        [1, 0.8], [0.3, 0.2]])\n",
        "\n",
        "print(df)\n",
        "\n",
        "df.drop(index='cow', columns='small')\n",
        "df.drop(index='length', level=1)"
      ],
      "execution_count": null,
      "outputs": [
        {
          "output_type": "stream",
          "text": [
            "                 big  small\n",
            "lama   speed    45.0   30.0\n",
            "       weight  200.0  100.0\n",
            "       length    1.5    1.0\n",
            "cow    speed    30.0   20.0\n",
            "       weight  250.0  150.0\n",
            "       length    1.5    0.8\n",
            "falcon speed   320.0  250.0\n",
            "       weight    1.0    0.8\n",
            "       length    0.3    0.2\n"
          ],
          "name": "stdout"
        },
        {
          "output_type": "execute_result",
          "data": {
            "text/html": [
              "<div>\n",
              "<style scoped>\n",
              "    .dataframe tbody tr th:only-of-type {\n",
              "        vertical-align: middle;\n",
              "    }\n",
              "\n",
              "    .dataframe tbody tr th {\n",
              "        vertical-align: top;\n",
              "    }\n",
              "\n",
              "    .dataframe thead th {\n",
              "        text-align: right;\n",
              "    }\n",
              "</style>\n",
              "<table border=\"1\" class=\"dataframe\">\n",
              "  <thead>\n",
              "    <tr style=\"text-align: right;\">\n",
              "      <th></th>\n",
              "      <th></th>\n",
              "      <th>big</th>\n",
              "      <th>small</th>\n",
              "    </tr>\n",
              "  </thead>\n",
              "  <tbody>\n",
              "    <tr>\n",
              "      <th rowspan=\"2\" valign=\"top\">lama</th>\n",
              "      <th>speed</th>\n",
              "      <td>45.0</td>\n",
              "      <td>30.0</td>\n",
              "    </tr>\n",
              "    <tr>\n",
              "      <th>weight</th>\n",
              "      <td>200.0</td>\n",
              "      <td>100.0</td>\n",
              "    </tr>\n",
              "    <tr>\n",
              "      <th rowspan=\"2\" valign=\"top\">cow</th>\n",
              "      <th>speed</th>\n",
              "      <td>30.0</td>\n",
              "      <td>20.0</td>\n",
              "    </tr>\n",
              "    <tr>\n",
              "      <th>weight</th>\n",
              "      <td>250.0</td>\n",
              "      <td>150.0</td>\n",
              "    </tr>\n",
              "    <tr>\n",
              "      <th rowspan=\"2\" valign=\"top\">falcon</th>\n",
              "      <th>speed</th>\n",
              "      <td>320.0</td>\n",
              "      <td>250.0</td>\n",
              "    </tr>\n",
              "    <tr>\n",
              "      <th>weight</th>\n",
              "      <td>1.0</td>\n",
              "      <td>0.8</td>\n",
              "    </tr>\n",
              "  </tbody>\n",
              "</table>\n",
              "</div>"
            ],
            "text/plain": [
              "                 big  small\n",
              "lama   speed    45.0   30.0\n",
              "       weight  200.0  100.0\n",
              "cow    speed    30.0   20.0\n",
              "       weight  250.0  150.0\n",
              "falcon speed   320.0  250.0\n",
              "       weight    1.0    0.8"
            ]
          },
          "metadata": {
            "tags": []
          },
          "execution_count": 70
        }
      ]
    },
    {
      "cell_type": "markdown",
      "metadata": {
        "id": "KMSWK81Z68UE"
      },
      "source": [
        "Ø Dataframe에 컬럼, 로우, 인덱스 추가하기    \n",
        "§ append() - row를 추가    \n",
        "§ reset index() - index를 0부터 새롭게 지정한다."
      ]
    },
    {
      "cell_type": "code",
      "metadata": {
        "colab": {
          "base_uri": "https://localhost:8080/",
          "height": 697
        },
        "id": "LUrW9l9q8Ob0",
        "outputId": "07a91f84-e89e-43b2-9ddb-a226d8003e53"
      },
      "source": [
        "df = pd.DataFrame(data=np.array([[1, 2, 3], [4, 5, 6], [7, 8, 9]]), columns=[48, 49, 50]) \n",
        "display(df)\n",
        "\n",
        "a = pd.DataFrame(data=[[1,2,3]], columns=[48,49,50])  \n",
        "display(a)\n",
        "\n",
        "df = df.append(a)  \n",
        "df = df.reset_index(drop=True) #drop=true는 기존인덱스를 삭제하고 a를 새로 인덱스로 지정\n",
        "display(df)\n",
        "\n",
        "df = pd.DataFrame(data=np.array([[1, 2, 3], [4, 5, 6], [7, 8, 9]]), columns=['A', 'B', 'C'])\n",
        "display(df)\n",
        "\n",
        "df.loc[:, 'D'] = pd.Series(['5', '6', '7'], index=df.index)  #index=df.index > 0, 1, 2(위와 동일한 인덱스 지정),, D열을 추가한 것\n",
        "display(df)\n",
        "\n",
        "df['E'] = pd.Series(['5', '6', '7'], index=df.index) #E열을 추가\n",
        "display(df)"
      ],
      "execution_count": null,
      "outputs": [
        {
          "output_type": "display_data",
          "data": {
            "text/html": [
              "<div>\n",
              "<style scoped>\n",
              "    .dataframe tbody tr th:only-of-type {\n",
              "        vertical-align: middle;\n",
              "    }\n",
              "\n",
              "    .dataframe tbody tr th {\n",
              "        vertical-align: top;\n",
              "    }\n",
              "\n",
              "    .dataframe thead th {\n",
              "        text-align: right;\n",
              "    }\n",
              "</style>\n",
              "<table border=\"1\" class=\"dataframe\">\n",
              "  <thead>\n",
              "    <tr style=\"text-align: right;\">\n",
              "      <th></th>\n",
              "      <th>48</th>\n",
              "      <th>49</th>\n",
              "      <th>50</th>\n",
              "    </tr>\n",
              "  </thead>\n",
              "  <tbody>\n",
              "    <tr>\n",
              "      <th>0</th>\n",
              "      <td>1</td>\n",
              "      <td>2</td>\n",
              "      <td>3</td>\n",
              "    </tr>\n",
              "    <tr>\n",
              "      <th>1</th>\n",
              "      <td>4</td>\n",
              "      <td>5</td>\n",
              "      <td>6</td>\n",
              "    </tr>\n",
              "    <tr>\n",
              "      <th>2</th>\n",
              "      <td>7</td>\n",
              "      <td>8</td>\n",
              "      <td>9</td>\n",
              "    </tr>\n",
              "  </tbody>\n",
              "</table>\n",
              "</div>"
            ],
            "text/plain": [
              "   48  49  50\n",
              "0   1   2   3\n",
              "1   4   5   6\n",
              "2   7   8   9"
            ]
          },
          "metadata": {
            "tags": []
          }
        },
        {
          "output_type": "display_data",
          "data": {
            "text/html": [
              "<div>\n",
              "<style scoped>\n",
              "    .dataframe tbody tr th:only-of-type {\n",
              "        vertical-align: middle;\n",
              "    }\n",
              "\n",
              "    .dataframe tbody tr th {\n",
              "        vertical-align: top;\n",
              "    }\n",
              "\n",
              "    .dataframe thead th {\n",
              "        text-align: right;\n",
              "    }\n",
              "</style>\n",
              "<table border=\"1\" class=\"dataframe\">\n",
              "  <thead>\n",
              "    <tr style=\"text-align: right;\">\n",
              "      <th></th>\n",
              "      <th>48</th>\n",
              "      <th>49</th>\n",
              "      <th>50</th>\n",
              "    </tr>\n",
              "  </thead>\n",
              "  <tbody>\n",
              "    <tr>\n",
              "      <th>0</th>\n",
              "      <td>1</td>\n",
              "      <td>2</td>\n",
              "      <td>3</td>\n",
              "    </tr>\n",
              "  </tbody>\n",
              "</table>\n",
              "</div>"
            ],
            "text/plain": [
              "   48  49  50\n",
              "0   1   2   3"
            ]
          },
          "metadata": {
            "tags": []
          }
        },
        {
          "output_type": "display_data",
          "data": {
            "text/html": [
              "<div>\n",
              "<style scoped>\n",
              "    .dataframe tbody tr th:only-of-type {\n",
              "        vertical-align: middle;\n",
              "    }\n",
              "\n",
              "    .dataframe tbody tr th {\n",
              "        vertical-align: top;\n",
              "    }\n",
              "\n",
              "    .dataframe thead th {\n",
              "        text-align: right;\n",
              "    }\n",
              "</style>\n",
              "<table border=\"1\" class=\"dataframe\">\n",
              "  <thead>\n",
              "    <tr style=\"text-align: right;\">\n",
              "      <th></th>\n",
              "      <th>48</th>\n",
              "      <th>49</th>\n",
              "      <th>50</th>\n",
              "    </tr>\n",
              "  </thead>\n",
              "  <tbody>\n",
              "    <tr>\n",
              "      <th>0</th>\n",
              "      <td>1</td>\n",
              "      <td>2</td>\n",
              "      <td>3</td>\n",
              "    </tr>\n",
              "    <tr>\n",
              "      <th>1</th>\n",
              "      <td>4</td>\n",
              "      <td>5</td>\n",
              "      <td>6</td>\n",
              "    </tr>\n",
              "    <tr>\n",
              "      <th>2</th>\n",
              "      <td>7</td>\n",
              "      <td>8</td>\n",
              "      <td>9</td>\n",
              "    </tr>\n",
              "    <tr>\n",
              "      <th>3</th>\n",
              "      <td>1</td>\n",
              "      <td>2</td>\n",
              "      <td>3</td>\n",
              "    </tr>\n",
              "  </tbody>\n",
              "</table>\n",
              "</div>"
            ],
            "text/plain": [
              "   48  49  50\n",
              "0   1   2   3\n",
              "1   4   5   6\n",
              "2   7   8   9\n",
              "3   1   2   3"
            ]
          },
          "metadata": {
            "tags": []
          }
        },
        {
          "output_type": "display_data",
          "data": {
            "text/html": [
              "<div>\n",
              "<style scoped>\n",
              "    .dataframe tbody tr th:only-of-type {\n",
              "        vertical-align: middle;\n",
              "    }\n",
              "\n",
              "    .dataframe tbody tr th {\n",
              "        vertical-align: top;\n",
              "    }\n",
              "\n",
              "    .dataframe thead th {\n",
              "        text-align: right;\n",
              "    }\n",
              "</style>\n",
              "<table border=\"1\" class=\"dataframe\">\n",
              "  <thead>\n",
              "    <tr style=\"text-align: right;\">\n",
              "      <th></th>\n",
              "      <th>A</th>\n",
              "      <th>B</th>\n",
              "      <th>C</th>\n",
              "    </tr>\n",
              "  </thead>\n",
              "  <tbody>\n",
              "    <tr>\n",
              "      <th>0</th>\n",
              "      <td>1</td>\n",
              "      <td>2</td>\n",
              "      <td>3</td>\n",
              "    </tr>\n",
              "    <tr>\n",
              "      <th>1</th>\n",
              "      <td>4</td>\n",
              "      <td>5</td>\n",
              "      <td>6</td>\n",
              "    </tr>\n",
              "    <tr>\n",
              "      <th>2</th>\n",
              "      <td>7</td>\n",
              "      <td>8</td>\n",
              "      <td>9</td>\n",
              "    </tr>\n",
              "  </tbody>\n",
              "</table>\n",
              "</div>"
            ],
            "text/plain": [
              "   A  B  C\n",
              "0  1  2  3\n",
              "1  4  5  6\n",
              "2  7  8  9"
            ]
          },
          "metadata": {
            "tags": []
          }
        },
        {
          "output_type": "display_data",
          "data": {
            "text/html": [
              "<div>\n",
              "<style scoped>\n",
              "    .dataframe tbody tr th:only-of-type {\n",
              "        vertical-align: middle;\n",
              "    }\n",
              "\n",
              "    .dataframe tbody tr th {\n",
              "        vertical-align: top;\n",
              "    }\n",
              "\n",
              "    .dataframe thead th {\n",
              "        text-align: right;\n",
              "    }\n",
              "</style>\n",
              "<table border=\"1\" class=\"dataframe\">\n",
              "  <thead>\n",
              "    <tr style=\"text-align: right;\">\n",
              "      <th></th>\n",
              "      <th>A</th>\n",
              "      <th>B</th>\n",
              "      <th>C</th>\n",
              "      <th>D</th>\n",
              "    </tr>\n",
              "  </thead>\n",
              "  <tbody>\n",
              "    <tr>\n",
              "      <th>0</th>\n",
              "      <td>1</td>\n",
              "      <td>2</td>\n",
              "      <td>3</td>\n",
              "      <td>5</td>\n",
              "    </tr>\n",
              "    <tr>\n",
              "      <th>1</th>\n",
              "      <td>4</td>\n",
              "      <td>5</td>\n",
              "      <td>6</td>\n",
              "      <td>6</td>\n",
              "    </tr>\n",
              "    <tr>\n",
              "      <th>2</th>\n",
              "      <td>7</td>\n",
              "      <td>8</td>\n",
              "      <td>9</td>\n",
              "      <td>7</td>\n",
              "    </tr>\n",
              "  </tbody>\n",
              "</table>\n",
              "</div>"
            ],
            "text/plain": [
              "   A  B  C  D\n",
              "0  1  2  3  5\n",
              "1  4  5  6  6\n",
              "2  7  8  9  7"
            ]
          },
          "metadata": {
            "tags": []
          }
        },
        {
          "output_type": "display_data",
          "data": {
            "text/html": [
              "<div>\n",
              "<style scoped>\n",
              "    .dataframe tbody tr th:only-of-type {\n",
              "        vertical-align: middle;\n",
              "    }\n",
              "\n",
              "    .dataframe tbody tr th {\n",
              "        vertical-align: top;\n",
              "    }\n",
              "\n",
              "    .dataframe thead th {\n",
              "        text-align: right;\n",
              "    }\n",
              "</style>\n",
              "<table border=\"1\" class=\"dataframe\">\n",
              "  <thead>\n",
              "    <tr style=\"text-align: right;\">\n",
              "      <th></th>\n",
              "      <th>A</th>\n",
              "      <th>B</th>\n",
              "      <th>C</th>\n",
              "      <th>D</th>\n",
              "      <th>E</th>\n",
              "    </tr>\n",
              "  </thead>\n",
              "  <tbody>\n",
              "    <tr>\n",
              "      <th>0</th>\n",
              "      <td>1</td>\n",
              "      <td>2</td>\n",
              "      <td>3</td>\n",
              "      <td>5</td>\n",
              "      <td>5</td>\n",
              "    </tr>\n",
              "    <tr>\n",
              "      <th>1</th>\n",
              "      <td>4</td>\n",
              "      <td>5</td>\n",
              "      <td>6</td>\n",
              "      <td>6</td>\n",
              "      <td>6</td>\n",
              "    </tr>\n",
              "    <tr>\n",
              "      <th>2</th>\n",
              "      <td>7</td>\n",
              "      <td>8</td>\n",
              "      <td>9</td>\n",
              "      <td>7</td>\n",
              "      <td>7</td>\n",
              "    </tr>\n",
              "  </tbody>\n",
              "</table>\n",
              "</div>"
            ],
            "text/plain": [
              "   A  B  C  D  E\n",
              "0  1  2  3  5  5\n",
              "1  4  5  6  6  6\n",
              "2  7  8  9  7  7"
            ]
          },
          "metadata": {
            "tags": []
          }
        }
      ]
    },
    {
      "cell_type": "markdown",
      "metadata": {
        "id": "whiImxMa8WBV"
      },
      "source": [
        "Ø Dataframe에 컬럼, 로우, 인덱스 삭제하기   \n",
        "§ drop_duplicate() - 특정 컬럼의 값이 중복된 로우를 제거  \n",
        "§ keep 옵션 - 중복된 것들 중 어떤 걸 유지할지 지정."
      ]
    },
    {
      "cell_type": "code",
      "metadata": {
        "colab": {
          "base_uri": "https://localhost:8080/",
          "height": 761
        },
        "id": "eY_AV4Ia8XBa",
        "outputId": "76f8943c-9e63-4ee6-cae0-43b94e0e898b"
      },
      "source": [
        "df = pd.DataFrame(data=np.array([[1, 2, 3], [4, 5, 6], [7, 8, 9], [40, 50, 60], [23, 35, 37]]),\n",
        "index= [2.5, 12.6, 4.8, 4.8, 2.5],\n",
        "columns=[48, 49, 50])\n",
        "display(df)\n",
        "\n",
        "df = df.reset_index()   #인덱스 새로 지정\n",
        "display(df)\n",
        "\n",
        "df = df.drop_duplicates(subset='index', keep='last').set_index('index')  #인덱스를 기준으로 중복된 것 중에 나중(last)것을 지정\n",
        "display(df)   #인덱스에서 2.5랑 4.8중복되어 지워짐 \n",
        "\n",
        "df = pd.DataFrame(data=np.array([[1, 2, 3], [1, 5, 6], [7, 8, 9]]), columns=['A', 'B', 'C'])  #df에서 [1,2,3][7,8,9]는 중복되어서 사라짐\n",
        "display(df)\n",
        "\n",
        "print(df.index[1])\n",
        "print(df.drop(df.index[1]))\n",
        "print(df.drop(0))   #열을 삭제할 때 이렇게 지정"
      ],
      "execution_count": null,
      "outputs": [
        {
          "output_type": "display_data",
          "data": {
            "text/html": [
              "<div>\n",
              "<style scoped>\n",
              "    .dataframe tbody tr th:only-of-type {\n",
              "        vertical-align: middle;\n",
              "    }\n",
              "\n",
              "    .dataframe tbody tr th {\n",
              "        vertical-align: top;\n",
              "    }\n",
              "\n",
              "    .dataframe thead th {\n",
              "        text-align: right;\n",
              "    }\n",
              "</style>\n",
              "<table border=\"1\" class=\"dataframe\">\n",
              "  <thead>\n",
              "    <tr style=\"text-align: right;\">\n",
              "      <th></th>\n",
              "      <th>48</th>\n",
              "      <th>49</th>\n",
              "      <th>50</th>\n",
              "    </tr>\n",
              "  </thead>\n",
              "  <tbody>\n",
              "    <tr>\n",
              "      <th>2.5</th>\n",
              "      <td>1</td>\n",
              "      <td>2</td>\n",
              "      <td>3</td>\n",
              "    </tr>\n",
              "    <tr>\n",
              "      <th>12.6</th>\n",
              "      <td>4</td>\n",
              "      <td>5</td>\n",
              "      <td>6</td>\n",
              "    </tr>\n",
              "    <tr>\n",
              "      <th>4.8</th>\n",
              "      <td>7</td>\n",
              "      <td>8</td>\n",
              "      <td>9</td>\n",
              "    </tr>\n",
              "    <tr>\n",
              "      <th>4.8</th>\n",
              "      <td>40</td>\n",
              "      <td>50</td>\n",
              "      <td>60</td>\n",
              "    </tr>\n",
              "    <tr>\n",
              "      <th>2.5</th>\n",
              "      <td>23</td>\n",
              "      <td>35</td>\n",
              "      <td>37</td>\n",
              "    </tr>\n",
              "  </tbody>\n",
              "</table>\n",
              "</div>"
            ],
            "text/plain": [
              "      48  49  50\n",
              "2.5    1   2   3\n",
              "12.6   4   5   6\n",
              "4.8    7   8   9\n",
              "4.8   40  50  60\n",
              "2.5   23  35  37"
            ]
          },
          "metadata": {
            "tags": []
          }
        },
        {
          "output_type": "display_data",
          "data": {
            "text/html": [
              "<div>\n",
              "<style scoped>\n",
              "    .dataframe tbody tr th:only-of-type {\n",
              "        vertical-align: middle;\n",
              "    }\n",
              "\n",
              "    .dataframe tbody tr th {\n",
              "        vertical-align: top;\n",
              "    }\n",
              "\n",
              "    .dataframe thead th {\n",
              "        text-align: right;\n",
              "    }\n",
              "</style>\n",
              "<table border=\"1\" class=\"dataframe\">\n",
              "  <thead>\n",
              "    <tr style=\"text-align: right;\">\n",
              "      <th></th>\n",
              "      <th>index</th>\n",
              "      <th>48</th>\n",
              "      <th>49</th>\n",
              "      <th>50</th>\n",
              "    </tr>\n",
              "  </thead>\n",
              "  <tbody>\n",
              "    <tr>\n",
              "      <th>0</th>\n",
              "      <td>2.5</td>\n",
              "      <td>1</td>\n",
              "      <td>2</td>\n",
              "      <td>3</td>\n",
              "    </tr>\n",
              "    <tr>\n",
              "      <th>1</th>\n",
              "      <td>12.6</td>\n",
              "      <td>4</td>\n",
              "      <td>5</td>\n",
              "      <td>6</td>\n",
              "    </tr>\n",
              "    <tr>\n",
              "      <th>2</th>\n",
              "      <td>4.8</td>\n",
              "      <td>7</td>\n",
              "      <td>8</td>\n",
              "      <td>9</td>\n",
              "    </tr>\n",
              "    <tr>\n",
              "      <th>3</th>\n",
              "      <td>4.8</td>\n",
              "      <td>40</td>\n",
              "      <td>50</td>\n",
              "      <td>60</td>\n",
              "    </tr>\n",
              "    <tr>\n",
              "      <th>4</th>\n",
              "      <td>2.5</td>\n",
              "      <td>23</td>\n",
              "      <td>35</td>\n",
              "      <td>37</td>\n",
              "    </tr>\n",
              "  </tbody>\n",
              "</table>\n",
              "</div>"
            ],
            "text/plain": [
              "   index  48  49  50\n",
              "0    2.5   1   2   3\n",
              "1   12.6   4   5   6\n",
              "2    4.8   7   8   9\n",
              "3    4.8  40  50  60\n",
              "4    2.5  23  35  37"
            ]
          },
          "metadata": {
            "tags": []
          }
        },
        {
          "output_type": "display_data",
          "data": {
            "text/html": [
              "<div>\n",
              "<style scoped>\n",
              "    .dataframe tbody tr th:only-of-type {\n",
              "        vertical-align: middle;\n",
              "    }\n",
              "\n",
              "    .dataframe tbody tr th {\n",
              "        vertical-align: top;\n",
              "    }\n",
              "\n",
              "    .dataframe thead th {\n",
              "        text-align: right;\n",
              "    }\n",
              "</style>\n",
              "<table border=\"1\" class=\"dataframe\">\n",
              "  <thead>\n",
              "    <tr style=\"text-align: right;\">\n",
              "      <th></th>\n",
              "      <th>48</th>\n",
              "      <th>49</th>\n",
              "      <th>50</th>\n",
              "    </tr>\n",
              "    <tr>\n",
              "      <th>index</th>\n",
              "      <th></th>\n",
              "      <th></th>\n",
              "      <th></th>\n",
              "    </tr>\n",
              "  </thead>\n",
              "  <tbody>\n",
              "    <tr>\n",
              "      <th>12.6</th>\n",
              "      <td>4</td>\n",
              "      <td>5</td>\n",
              "      <td>6</td>\n",
              "    </tr>\n",
              "    <tr>\n",
              "      <th>4.8</th>\n",
              "      <td>40</td>\n",
              "      <td>50</td>\n",
              "      <td>60</td>\n",
              "    </tr>\n",
              "    <tr>\n",
              "      <th>2.5</th>\n",
              "      <td>23</td>\n",
              "      <td>35</td>\n",
              "      <td>37</td>\n",
              "    </tr>\n",
              "  </tbody>\n",
              "</table>\n",
              "</div>"
            ],
            "text/plain": [
              "       48  49  50\n",
              "index            \n",
              "12.6    4   5   6\n",
              "4.8    40  50  60\n",
              "2.5    23  35  37"
            ]
          },
          "metadata": {
            "tags": []
          }
        },
        {
          "output_type": "display_data",
          "data": {
            "text/html": [
              "<div>\n",
              "<style scoped>\n",
              "    .dataframe tbody tr th:only-of-type {\n",
              "        vertical-align: middle;\n",
              "    }\n",
              "\n",
              "    .dataframe tbody tr th {\n",
              "        vertical-align: top;\n",
              "    }\n",
              "\n",
              "    .dataframe thead th {\n",
              "        text-align: right;\n",
              "    }\n",
              "</style>\n",
              "<table border=\"1\" class=\"dataframe\">\n",
              "  <thead>\n",
              "    <tr style=\"text-align: right;\">\n",
              "      <th></th>\n",
              "      <th>A</th>\n",
              "      <th>B</th>\n",
              "      <th>C</th>\n",
              "    </tr>\n",
              "  </thead>\n",
              "  <tbody>\n",
              "    <tr>\n",
              "      <th>0</th>\n",
              "      <td>1</td>\n",
              "      <td>2</td>\n",
              "      <td>3</td>\n",
              "    </tr>\n",
              "    <tr>\n",
              "      <th>1</th>\n",
              "      <td>1</td>\n",
              "      <td>5</td>\n",
              "      <td>6</td>\n",
              "    </tr>\n",
              "    <tr>\n",
              "      <th>2</th>\n",
              "      <td>7</td>\n",
              "      <td>8</td>\n",
              "      <td>9</td>\n",
              "    </tr>\n",
              "  </tbody>\n",
              "</table>\n",
              "</div>"
            ],
            "text/plain": [
              "   A  B  C\n",
              "0  1  2  3\n",
              "1  1  5  6\n",
              "2  7  8  9"
            ]
          },
          "metadata": {
            "tags": []
          }
        },
        {
          "output_type": "stream",
          "text": [
            "1\n",
            "   A  B  C\n",
            "0  1  2  3\n",
            "2  7  8  9\n",
            "   A  B  C\n",
            "1  1  5  6\n",
            "2  7  8  9\n"
          ],
          "name": "stdout"
        }
      ]
    },
    {
      "cell_type": "markdown",
      "metadata": {
        "id": "BVk5rZUg8jGc"
      },
      "source": [
        "Ø pivot_table    \n",
        "§ pivot_table - pivot 명령과 groupby 명령의 중간 성격을 가지는 명령    \n",
        "groupby 명령의 결과에 unstack을 자동 적용하여 2차원적인 형태로 변형한다     \n",
        "pivot_table(data, values=None, index=None, columns=None, aggfunc='mean', fill_value=None,\n",
        "margins=False, margins_name='All')    \n",
        "data : 분석할 데이터프레임 (메서드일 때는 필요하지 않음)    \n",
        "values : 분석할 데이터프레임에서 분석할 열    \n",
        "index : 행 인덱스로 들어갈 키 열 또는 키 열의 리스트    \n",
        "columns : 열 인덱스로 들어갈 키 열 또는 키 열의 리스트    \n",
        "aggfunc : 분석 메서드    \n",
        "fill_value : NaN 대체 값    \n",
        "margins : 모든 데이터를 분석한 결과를 오른쪽과 아래에 붙일지 여부 True면 오른쪽 False면 아래쪽으로 나옴alues : 분석할 데이터프레임에서 분석할 열    \n",
        "index : 행 인덱스로 들어갈 키 열 또는 키 열의 리스트    \n",
        "columns : 열 인덱스로 들어갈 키 열 또는 키 열의 리스트    \n",
        "aggfunc : 분석 메서드    \n",
        "fill_value : NaN 대체 값    \n",
        "margins : 모든 데이터를 분석한 결과를 오른쪽과 아래에 붙일지 여부 True면 오른쪽 False면 아래쪽으로 나옴   \n",
        "   \n",
        "margins_name : 마진 열(행)의 이름"
      ]
    },
    {
      "cell_type": "code",
      "metadata": {
        "colab": {
          "base_uri": "https://localhost:8080/"
        },
        "id": "l9bEQDCI8rNg",
        "outputId": "06c9fe12-c9c8-47ce-9908-b97c9ee65372"
      },
      "source": [
        "data = { \"도시\": [\"서울\", \"서울\", \"서울\", \"부산\", \"부산\", \"부산\", \"인천\", \"인천\"],\n",
        "\"연도\": [\"2015\", \"2010\", \"2005\", \"2015\", \"2010\", \"2005\", \"2015\", \"2010\"],\n",
        "\"인구\": [9904312, 9631482, 9762546, 3448737, 3393191, 3512547, 2890451, 263203],\n",
        "\"지역\": [\"수도권\", \"수도권\", \"수도권\", \"경상권\", \"경상권\", \"경상권\", \"수도권\", \"수도권\"] }\n",
        "columns = [\"도시\", \"연도\", \"인구\", \"지역\"]\n",
        "df1 = pd.DataFrame(data, columns=columns)\n",
        "print(df1.pivot_table(\"인구\", \"도시\", \"연도\"))  #데이터, 행, 열 순서로 이루어짐!\n",
        "print(df1.pivot_table(\"인구\", \"도시\", \"연도\", margins=True, margins_name=\"합계\")) #true니까 오른쪽으로 나옴\n",
        "print(df1[\"인구\"].mean())\n",
        "print(df1.pivot_table(\"인구\", index=[\"연도\", \"도시\"]))  #연도와 도시가 행으로 가서 데이터는 인구데이터로"
      ],
      "execution_count": null,
      "outputs": [
        {
          "output_type": "stream",
          "text": [
            "연도       2005       2010       2015\n",
            "도시                                 \n",
            "부산  3512547.0  3393191.0  3448737.0\n",
            "서울  9762546.0  9631482.0  9904312.0\n",
            "인천        NaN   263203.0  2890451.0\n",
            "연도       2005       2010       2015            합계\n",
            "도시                                               \n",
            "부산  3512547.0  3393191.0  3448737.0  3.451492e+06\n",
            "서울  9762546.0  9631482.0  9904312.0  9.766113e+06\n",
            "인천        NaN   263203.0  2890451.0  1.576827e+06\n",
            "합계  6637546.5  4429292.0  5414500.0  5.350809e+06\n",
            "5350808.625\n",
            "              인구\n",
            "연도   도시         \n",
            "2005 부산  3512547\n",
            "     서울  9762546\n",
            "2010 부산  3393191\n",
            "     서울  9631482\n",
            "     인천   263203\n",
            "2015 부산  3448737\n",
            "     서울  9904312\n",
            "     인천  2890451\n"
          ],
          "name": "stdout"
        }
      ]
    },
    {
      "cell_type": "markdown",
      "metadata": {
        "id": "DXPRljrUHbEd"
      },
      "source": [
        "Ø pivot_table 활용 예시   \n",
        "§ 팁(tip)과 관련된 데이터    \n",
        "§ total_bill: 식사대금    \n",
        "§ tip: 팁    \n",
        "§ sex: 성별    \n",
        "§ smoker: 흡연/금연 여부    \n",
        "§ day: 요일    \n",
        "§ time: 시간     \n",
        "§ size: 인원"
      ]
    },
    {
      "cell_type": "code",
      "metadata": {
        "colab": {
          "base_uri": "https://localhost:8080/"
        },
        "id": "f3KAURA_HdlM",
        "outputId": "b2133ef7-5682-4f7d-c54e-1b9b9089e991"
      },
      "source": [
        "import seaborn as sns\n",
        "tips = sns.load_dataset(\"tips\")\n",
        "tips.tail()\n",
        "#식사 대금 대비 팁의 비율이 어떤 경우에 가장 높아지지는 찾음\n",
        "tips['tip_pct'] = tips['tip'] / tips['total_bill']\n",
        "tips.tail()\n",
        "print(tips.describe())\n",
        "\n",
        "# 성별로 나누어 데이터 갯수를 카운트한다\n",
        "tips.groupby(\"sex\").count()\n",
        "tips.groupby(\"sex\").size()\n",
        "tips.pivot_table(\"tip_pct\", \"sex\", aggfunc=\"count\", margins=True)\n",
        "\n",
        "print(tips.pivot_table(\"tip_pct\", \"sex\", aggfunc=\"count\", margins=True))"
      ],
      "execution_count": null,
      "outputs": [
        {
          "output_type": "stream",
          "text": [
            "       total_bill         tip        size     tip_pct\n",
            "count  244.000000  244.000000  244.000000  244.000000\n",
            "mean    19.785943    2.998279    2.569672    0.160803\n",
            "std      8.902412    1.383638    0.951100    0.061072\n",
            "min      3.070000    1.000000    1.000000    0.035638\n",
            "25%     13.347500    2.000000    2.000000    0.129127\n",
            "50%     17.795000    2.900000    2.000000    0.154770\n",
            "75%     24.127500    3.562500    3.000000    0.191475\n",
            "max     50.810000   10.000000    6.000000    0.710345\n",
            "        tip_pct\n",
            "sex            \n",
            "Male        157\n",
            "Female       87\n",
            "All         244\n"
          ],
          "name": "stdout"
        }
      ]
    },
    {
      "cell_type": "code",
      "metadata": {
        "colab": {
          "base_uri": "https://localhost:8080/",
          "height": 844
        },
        "id": "9K-V_UJjHo8S",
        "outputId": "6505b461-a5cb-47b2-cd13-ef518430d026"
      },
      "source": [
        "#성별과 흡연 여부에 따른 평균 팁 비율\n",
        "print(tips.groupby(\"sex\")[[\"tip_pct\"]].mean())\n",
        "print(tips.groupby(\"smoker\")[[\"tip_pct\"]].mean())\n",
        "tips.pivot_table(\"tip_pct\", \"sex\")\n",
        "tips.pivot_table(\"tip_pct\", [\"sex\", \"smoker\"])\n",
        "tips.pivot_table(\"tip_pct\", \"sex\", \"smoker\")\n",
        "tips.groupby(\"sex\")[[\"tip_pct\"]].describe()\n",
        "tips.groupby(\"smoker\")[[\"tip_pct\"]].describe()\n",
        "print(tips.groupby([\"sex\", \"smoker\"])[[\"tip_pct\"]].describe())\n",
        "\n",
        "#각 그룹에서 가장 많은 팁과 가장 적은 팁의 차이 계산\n",
        "def peak_to_peak(x):\n",
        "  return x.max() - x.min()\n",
        "\n",
        "print(tips.groupby([\"sex\", \"smoker\"])[[\"tip\"]].agg(peak_to_peak))\n",
        "#여러 그룹연산을 동시 수행하려면 리스트를 이용\n",
        "print(tips.groupby([\"sex\", \"smoker\"]).agg([\"mean\", peak_to_peak])[[\"total_bill\"]])\n",
        "#데이터 열마다 다른 연산을 하고 싶다면 열 라벨과 연산 이름(또는 함수)를 딕셔너리로 넣는다.\n",
        "tips.groupby([\"sex\", \"smoker\"]).agg( {'tip_pct': 'mean', 'total_bill': peak_to_peak})\n",
        "tips.pivot_table(['tip_pct', 'size'], ['sex', 'day'], 'smoker')\n",
        "tips.pivot_table('size', ['time', 'sex', 'smoker'], 'day', aggfunc='sum', fill_value=0)"
      ],
      "execution_count": null,
      "outputs": [
        {
          "output_type": "stream",
          "text": [
            "         tip_pct\n",
            "sex             \n",
            "Male    0.157651\n",
            "Female  0.166491\n",
            "         tip_pct\n",
            "smoker          \n",
            "Yes     0.163196\n",
            "No      0.159328\n",
            "              tip_pct                      ...                              \n",
            "                count      mean       std  ...       50%       75%       max\n",
            "sex    smoker                              ...                              \n",
            "Male   Yes       60.0  0.152771  0.090588  ...  0.141015  0.191697  0.710345\n",
            "       No        97.0  0.160669  0.041849  ...  0.157604  0.186220  0.291990\n",
            "Female Yes       33.0  0.182150  0.071595  ...  0.173913  0.198216  0.416667\n",
            "       No        54.0  0.156921  0.036421  ...  0.149691  0.181630  0.252672\n",
            "\n",
            "[4 rows x 8 columns]\n",
            "                tip\n",
            "sex    smoker      \n",
            "Male   Yes     9.00\n",
            "       No      7.75\n",
            "Female Yes     5.50\n",
            "       No      4.20\n",
            "              total_bill             \n",
            "                    mean peak_to_peak\n",
            "sex    smoker                        \n",
            "Male   Yes     22.284500        43.56\n",
            "       No      19.791237        40.82\n",
            "Female Yes     17.977879        41.23\n",
            "       No      18.105185        28.58\n"
          ],
          "name": "stdout"
        },
        {
          "output_type": "execute_result",
          "data": {
            "text/html": [
              "<div>\n",
              "<style scoped>\n",
              "    .dataframe tbody tr th:only-of-type {\n",
              "        vertical-align: middle;\n",
              "    }\n",
              "\n",
              "    .dataframe tbody tr th {\n",
              "        vertical-align: top;\n",
              "    }\n",
              "\n",
              "    .dataframe thead th {\n",
              "        text-align: right;\n",
              "    }\n",
              "</style>\n",
              "<table border=\"1\" class=\"dataframe\">\n",
              "  <thead>\n",
              "    <tr style=\"text-align: right;\">\n",
              "      <th></th>\n",
              "      <th></th>\n",
              "      <th>day</th>\n",
              "      <th>Thur</th>\n",
              "      <th>Fri</th>\n",
              "      <th>Sat</th>\n",
              "      <th>Sun</th>\n",
              "    </tr>\n",
              "    <tr>\n",
              "      <th>time</th>\n",
              "      <th>sex</th>\n",
              "      <th>smoker</th>\n",
              "      <th></th>\n",
              "      <th></th>\n",
              "      <th></th>\n",
              "      <th></th>\n",
              "    </tr>\n",
              "  </thead>\n",
              "  <tbody>\n",
              "    <tr>\n",
              "      <th rowspan=\"4\" valign=\"top\">Lunch</th>\n",
              "      <th rowspan=\"2\" valign=\"top\">Male</th>\n",
              "      <th>Yes</th>\n",
              "      <td>23</td>\n",
              "      <td>5</td>\n",
              "      <td>0</td>\n",
              "      <td>0</td>\n",
              "    </tr>\n",
              "    <tr>\n",
              "      <th>No</th>\n",
              "      <td>50</td>\n",
              "      <td>0</td>\n",
              "      <td>0</td>\n",
              "      <td>0</td>\n",
              "    </tr>\n",
              "    <tr>\n",
              "      <th rowspan=\"2\" valign=\"top\">Female</th>\n",
              "      <th>Yes</th>\n",
              "      <td>17</td>\n",
              "      <td>6</td>\n",
              "      <td>0</td>\n",
              "      <td>0</td>\n",
              "    </tr>\n",
              "    <tr>\n",
              "      <th>No</th>\n",
              "      <td>60</td>\n",
              "      <td>3</td>\n",
              "      <td>0</td>\n",
              "      <td>0</td>\n",
              "    </tr>\n",
              "    <tr>\n",
              "      <th rowspan=\"4\" valign=\"top\">Dinner</th>\n",
              "      <th rowspan=\"2\" valign=\"top\">Male</th>\n",
              "      <th>Yes</th>\n",
              "      <td>0</td>\n",
              "      <td>12</td>\n",
              "      <td>71</td>\n",
              "      <td>39</td>\n",
              "    </tr>\n",
              "    <tr>\n",
              "      <th>No</th>\n",
              "      <td>0</td>\n",
              "      <td>4</td>\n",
              "      <td>85</td>\n",
              "      <td>124</td>\n",
              "    </tr>\n",
              "    <tr>\n",
              "      <th rowspan=\"2\" valign=\"top\">Female</th>\n",
              "      <th>Yes</th>\n",
              "      <td>0</td>\n",
              "      <td>8</td>\n",
              "      <td>33</td>\n",
              "      <td>10</td>\n",
              "    </tr>\n",
              "    <tr>\n",
              "      <th>No</th>\n",
              "      <td>2</td>\n",
              "      <td>2</td>\n",
              "      <td>30</td>\n",
              "      <td>43</td>\n",
              "    </tr>\n",
              "  </tbody>\n",
              "</table>\n",
              "</div>"
            ],
            "text/plain": [
              "day                   Thur  Fri  Sat  Sun\n",
              "time   sex    smoker                     \n",
              "Lunch  Male   Yes       23    5    0    0\n",
              "              No        50    0    0    0\n",
              "       Female Yes       17    6    0    0\n",
              "              No        60    3    0    0\n",
              "Dinner Male   Yes        0   12   71   39\n",
              "              No         0    4   85  124\n",
              "       Female Yes        0    8   33   10\n",
              "              No         2    2   30   43"
            ]
          },
          "metadata": {
            "tags": []
          },
          "execution_count": 91
        }
      ]
    },
    {
      "cell_type": "code",
      "metadata": {
        "colab": {
          "base_uri": "https://localhost:8080/"
        },
        "id": "6SWUc7pJwPSv",
        "outputId": "83e03dca-f24f-4d94-8a0a-4f0237c4e698"
      },
      "source": [
        "import pandas as pd\n",
        "import seaborn as sns\n",
        "\n",
        "titanic = sns.load_dataset(\"titanic\")\n",
        "\n",
        "#(3)\n",
        "bins = [1, 20, 30, 50, 70, 100] \n",
        "labels = [\"미성년자\", \"청년\", \"중년\", \"장년\", \"노년\"]\n",
        "ages = titanic[\"age\"]\n",
        "cuts = pd.cut(ages,bins, labels=labels)\n",
        "\n",
        "\n",
        "titanic[\"category3\"] = pd.cut(ages,bins,labels=labels).astype(str)\n",
        "titanic.head()\n",
        "\n",
        "\n",
        "df = titanic[['category3']]\n",
        "df['cnt'] = 1\n",
        "\n",
        "\n",
        "g = df.groupby('category3')['cnt'].sum()\n",
        "\n",
        "total = g.sum()\n",
        "result = g/total\n",
        "print(result)\n",
        "print(result.sum())\n",
        "\n",
        "\n",
        "#(4)\n",
        "new_age = titanic['age'].mean()\n",
        "titanic['age'].fillna(new_age, inplace=True)\n",
        "ages = titanic['age']\n",
        "bins = [1, 20, 30, 50, 70, 100]\n",
        "labels = [\"미성년자\", \"청년\", \"중년\", \"장년\", \"노년\"]     #877\n",
        "titanic['category2'] = pd.cut(ages, bins, labels=labels) \n",
        "\n",
        "titanic['gender'] =  titanic.apply(lambda r: '여성' if r.sex == 'female' else '남성', axis=1)\n",
        "print(titanic.head())\n",
        "\n",
        "\n",
        "#titanic['category3'] =  titanic.apply(lambda r: titanic['category2'].astype(str)+titanic['gender'].astype(str) if r.age >= 20 else titanic['category2'], axis=1)  \n",
        "print(titanic.head())"
      ],
      "execution_count": 8,
      "outputs": [
        {
          "output_type": "stream",
          "text": [
            "category3\n",
            "nan     0.214366\n",
            "노년      0.005612\n",
            "미성년자    0.185185\n",
            "장년      0.066218\n",
            "중년      0.270483\n",
            "청년      0.258137\n",
            "Name: cnt, dtype: float64\n",
            "1.0\n",
            "   survived  pclass     sex   age  ...  alone  category3  category2 gender\n",
            "0         0       3    male  22.0  ...  False         청년         청년     남성\n",
            "1         1       1  female  38.0  ...  False         중년         중년     여성\n",
            "2         1       3  female  26.0  ...   True         청년         청년     여성\n",
            "3         1       1  female  35.0  ...  False         중년         중년     여성\n",
            "4         0       3    male  35.0  ...   True         중년         중년     남성\n",
            "\n",
            "[5 rows x 18 columns]\n",
            "   survived  pclass     sex   age  ...  alone  category3  category2 gender\n",
            "0         0       3    male  22.0  ...  False         청년         청년     남성\n",
            "1         1       1  female  38.0  ...  False         중년         중년     여성\n",
            "2         1       3  female  26.0  ...   True         청년         청년     여성\n",
            "3         1       1  female  35.0  ...  False         중년         중년     여성\n",
            "4         0       3    male  35.0  ...   True         중년         중년     남성\n",
            "\n",
            "[5 rows x 18 columns]\n"
          ],
          "name": "stdout"
        },
        {
          "output_type": "stream",
          "text": [
            "/usr/local/lib/python3.7/dist-packages/ipykernel_launcher.py:18: SettingWithCopyWarning: \n",
            "A value is trying to be set on a copy of a slice from a DataFrame.\n",
            "Try using .loc[row_indexer,col_indexer] = value instead\n",
            "\n",
            "See the caveats in the documentation: https://pandas.pydata.org/pandas-docs/stable/user_guide/indexing.html#returning-a-view-versus-a-copy\n"
          ],
          "name": "stderr"
        }
      ]
    },
    {
      "cell_type": "markdown",
      "metadata": {
        "id": "YuziA78INzlw"
      },
      "source": [
        "    \n",
        "(3) 타이타닉호 승객을 ‘미성년자’, ‘청년’, ‘중년’, ‘장년’, ‘노년’ 나이 그룹으로 나눈다.      \n",
        "bins = [1, 20, 30, 50, 70, 100]\n",
        "labels = [\"미성년자\", \"청년\", \"중년\", \"장년\", \"노년\"]     \n",
        "그리고 각 나이 그룹의 승객 비율을 구한다. 비율의 전체 합은 1이 되어야 한다.     \n",
        "(4) 타이타닉호의 승객에 대해 나이와 성별에 의한 카테고리 열인 category3 열을 만들어라.     \n",
        "20살 미만이면 성별에 관계없이 “미성년자”라고 한다    \n",
        "20살 이상이면 나이에 따라 “청년”, “중년”, “장년”, “노년”을 구분하고 그 뒤에 성별을 나타내는 “남성”, “여성”을 붙인다."
      ]
    },
    {
      "cell_type": "markdown",
      "metadata": {
        "id": "I74fuxzOSiBF"
      },
      "source": [
        "연습문제    \n",
        "§ 5명의 학생의 국어, 영어, 수학 점수를 나타내는 데이터프레임을 다음과 같이 만든다.     \n",
        "(1) 학생 이름을 나타내는 열을 포함시키지 않고 데이터프레임 df_score1 을 생성한 후, df_score1.index 속성에 학생 이름을 나타내는 열을 지정하여 인덱스를 지정한다. reset_index 명령으로 이 인덱스 열을 명령으로 일반 데이터열로 바꾸여 데이터프레임 df_score2을 만든다.    \n",
        "(2) 학생 이름을 나타내는 열이 일반 데이터 열을 포함하는 데이터프레임 df_score2에 set_index 명령을 적용하여 다시 학생 이름을 나타내는 열을 인덱스로 변경한다."
      ]
    },
    {
      "cell_type": "code",
      "metadata": {
        "colab": {
          "base_uri": "https://localhost:8080/"
        },
        "id": "3N1x1jR1SnkV",
        "outputId": "192a3e0c-efc0-4151-f058-1820a0a8b9f6"
      },
      "source": [
        "import pandas as pd\n",
        "import numpy as np\n",
        "\n",
        "#(1)\n",
        "df_score1 = pd.DataFrame(np.arange(15).reshape(5,3),columns=[\"국어\", \"영어\", \"수학\"])\n",
        "index=[\"학생1\", \"학생2\",\"학생3\", \"학생4\",\"학생5\"]\n",
        "df_score1.index=index\n",
        "print(df_score1)\n",
        "df_score2 = df_score1.reset_index()\n",
        "print(df_score2)\n",
        "\n",
        "#(2)\n",
        "df3 = df_score2.set_index(\"index\")\n",
        "print(df3)"
      ],
      "execution_count": null,
      "outputs": [
        {
          "output_type": "stream",
          "text": [
            "     국어  영어  수학\n",
            "학생1   0   1   2\n",
            "학생2   3   4   5\n",
            "학생3   6   7   8\n",
            "학생4   9  10  11\n",
            "학생5  12  13  14\n",
            "  index  국어  영어  수학\n",
            "0   학생1   0   1   2\n",
            "1   학생2   3   4   5\n",
            "2   학생3   6   7   8\n",
            "3   학생4   9  10  11\n",
            "4   학생5  12  13  14\n",
            "       국어  영어  수학\n",
            "index            \n",
            "학생1     0   1   2\n",
            "학생2     3   4   5\n",
            "학생3     6   7   8\n",
            "학생4     9  10  11\n",
            "학생5    12  13  14\n"
          ],
          "name": "stdout"
        }
      ]
    },
    {
      "cell_type": "code",
      "metadata": {
        "colab": {
          "base_uri": "https://localhost:8080/"
        },
        "id": "4tanAmdc9XYG",
        "outputId": "b55a7d7a-371e-407c-9982-002b195064c7"
      },
      "source": [
        "import csv\n",
        "f = open('weather.csv')\n",
        "data = csv.reader(f)\n",
        "#print(type(data))\n",
        "header = next(data)\n",
        "#print(herder)\n",
        "\n",
        "max_temp = -999  #최고 기온 값을 저장할 변수\n",
        "max_data = ''  #최고 기온이 가장 높았던 날짜를 저장할 변수\n",
        "\n",
        "for row in data :\n",
        "  if row[4] == '':\n",
        "    row[4] = -999  #-999를 넣어 빈 문자열이 있던 자리라고 표시\n",
        "  row[4] = float(row[4])   #최고 기온을 실수로 변환\n",
        "  if max_temp < row[4] :   # 만약 지금까지 최고 기온보다 더 높다면 업데이트\n",
        "    max_date = row[2]\n",
        "    max_temp = row[4]\n",
        "  #print(row)\n",
        "f.close()\n",
        "print('기상 관측 이래 서울의 최고 기온이 가장 높았던 날은',max_date+'로,', max_temp,'도 였습니다.')  \n",
        "\n"
      ],
      "execution_count": 9,
      "outputs": [
        {
          "output_type": "stream",
          "text": [
            "기상 관측 이래 서울의 최고 기온이 가장 높았던 날은 2018-08로, 33.3 도 였습니다.\n"
          ],
          "name": "stdout"
        }
      ]
    }
  ]
}